{
 "cells": [
  {
   "cell_type": "markdown",
   "metadata": {},
   "source": [
    "# Pre-processing & Training Data Development"
   ]
  },
  {
   "cell_type": "markdown",
   "metadata": {},
   "source": [
    "## Import Libraries"
   ]
  },
  {
   "cell_type": "code",
   "execution_count": 1,
   "metadata": {},
   "outputs": [],
   "source": [
    "import numpy as np \n",
    "import pandas as pd \n",
    "import matplotlib.pyplot as plt \n",
    "from sklearn.preprocessing import StandardScaler\n",
    "from sklearn.model_selection import train_test_split\n",
    "import os"
   ]
  },
  {
   "cell_type": "markdown",
   "metadata": {},
   "source": [
    "## Load Data"
   ]
  },
  {
   "cell_type": "code",
   "execution_count": 2,
   "metadata": {},
   "outputs": [],
   "source": [
    "dialysis = pd.read_csv('Data/capstone2_dialysis_cleaned_data.csv', index_col=0)"
   ]
  },
  {
   "cell_type": "markdown",
   "metadata": {},
   "source": [
    "## Thin to Relevant Columns"
   ]
  },
  {
   "cell_type": "code",
   "execution_count": 3,
   "metadata": {},
   "outputs": [],
   "source": [
    "dialysis_columns =['Network',\n",
    "                   'State',\n",
    "                   'Facility Name',\n",
    "                   'Star Rating', \n",
    "                   'Profit Or Non-Profit', \n",
    "                   'Chain Owned',\n",
    "                   'Chain Organization', \n",
    "                   'Late Shift', \n",
    "                   'Number Of Dialysis Stations',\n",
    "                   'Offers In-Center Hemodialysis', \n",
    "                   'Offers Peritoneal Dialysis',\n",
    "                   'Offers Home Hemodialysis Training',\n",
    "                   'Percentage Of Medicare Patients With Hgb < 10 g/dL',\n",
    "                   'Percentage Of Medicare Patients With Hgb > 12 g/dL',\n",
    "                   'Percent Of Adult HD Patients With Kt/V >= 1.2',\n",
    "                   'Percentage Of Adult Patients With Hypercalcemia (Serum Calcium Greater Than 10.2 mg/dL)',\n",
    "                   'Percentage Of Adult Patients With Serum Phosphorus Less Than 3.5 mg/dL',\n",
    "                   'Percentage Of Adult Patients With Serum Phosphorus Between 3.5 - 4.5 mg/dL',\n",
    "                   'Percentage Of Adult Patients With Serum Phosphorus Between 4.6 - 5.5 mg/dL',\n",
    "                   'Percentage Of Adult Patients With Serum Phosphorus Between 5.6 - 7.0 mg/dL',\n",
    "                   'Percentage Of Adult Patients With Serum Phosphorus Greater Than 7.0 mg/dL',\n",
    "                   'Mortality Rate (Facility)',\n",
    "                   'Readmission Rate (Facility)',\n",
    "                   'Hospitalization Rate (Facility)',\n",
    "                   'Standard Infection Ratio',\n",
    "                   'Transfusion Rate (Facility)',\n",
    "                   'Fistula Rate (Facility)',\n",
    "                   'Percentage Of Adult Patients With Long Term Catheter In Use',\n",
    "                   'Standardized First Kidney Transplant Waitlist Ratio',\n",
    "                   'Percentage Of Prevalent Patients Waitlisted']"
   ]
  },
  {
   "cell_type": "code",
   "execution_count": 4,
   "metadata": {},
   "outputs": [],
   "source": [
    "dialysis_thin = dialysis[dialysis_columns]"
   ]
  },
  {
   "cell_type": "markdown",
   "metadata": {},
   "source": [
    "## Dummy Variables"
   ]
  },
  {
   "cell_type": "code",
   "execution_count": 5,
   "metadata": {},
   "outputs": [
    {
     "data": {
      "text/html": [
       "<div>\n",
       "<style scoped>\n",
       "    .dataframe tbody tr th:only-of-type {\n",
       "        vertical-align: middle;\n",
       "    }\n",
       "\n",
       "    .dataframe tbody tr th {\n",
       "        vertical-align: top;\n",
       "    }\n",
       "\n",
       "    .dataframe thead th {\n",
       "        text-align: right;\n",
       "    }\n",
       "</style>\n",
       "<table border=\"1\" class=\"dataframe\">\n",
       "  <thead>\n",
       "    <tr style=\"text-align: right;\">\n",
       "      <th></th>\n",
       "      <th>State</th>\n",
       "      <th>Facility Name</th>\n",
       "      <th>Chain Organization</th>\n",
       "    </tr>\n",
       "  </thead>\n",
       "  <tbody>\n",
       "    <tr>\n",
       "      <th>0</th>\n",
       "      <td>AZ</td>\n",
       "      <td>FMC NORTH MOUNTAIN</td>\n",
       "      <td>FRESENIUS MEDICAL CARE</td>\n",
       "    </tr>\n",
       "    <tr>\n",
       "      <th>1</th>\n",
       "      <td>AR</td>\n",
       "      <td>DAVITA POCAHONTAS DIALYSIS</td>\n",
       "      <td>DAVITA</td>\n",
       "    </tr>\n",
       "    <tr>\n",
       "      <th>2</th>\n",
       "      <td>CO</td>\n",
       "      <td>DAVITA PLATTE VALLEY DIALYSIS</td>\n",
       "      <td>DAVITA</td>\n",
       "    </tr>\n",
       "    <tr>\n",
       "      <th>3</th>\n",
       "      <td>FL</td>\n",
       "      <td>DAVITA MELBOURNE DIALYSIS</td>\n",
       "      <td>DAVITA</td>\n",
       "    </tr>\n",
       "    <tr>\n",
       "      <th>4</th>\n",
       "      <td>GA</td>\n",
       "      <td>DAVITA WEST HIRAM DIALYSIS</td>\n",
       "      <td>DAVITA</td>\n",
       "    </tr>\n",
       "    <tr>\n",
       "      <th>...</th>\n",
       "      <td>...</td>\n",
       "      <td>...</td>\n",
       "      <td>...</td>\n",
       "    </tr>\n",
       "    <tr>\n",
       "      <th>7719</th>\n",
       "      <td>TN</td>\n",
       "      <td>DAVITA SUMNER DIALYSIS</td>\n",
       "      <td>DAVITA</td>\n",
       "    </tr>\n",
       "    <tr>\n",
       "      <th>7720</th>\n",
       "      <td>WI</td>\n",
       "      <td>FRESENIUS MEDICAL CARE OSHKOSH LLC</td>\n",
       "      <td>FRESENIUS MEDICAL CARE</td>\n",
       "    </tr>\n",
       "    <tr>\n",
       "      <th>7721</th>\n",
       "      <td>CA</td>\n",
       "      <td>DAVITA CIRCLE CITY DIALYSIS</td>\n",
       "      <td>DAVITA</td>\n",
       "    </tr>\n",
       "    <tr>\n",
       "      <th>7722</th>\n",
       "      <td>TX</td>\n",
       "      <td>FRESENIUS MEDICAL CARE RENNER ROAD, LLC</td>\n",
       "      <td>FRESENIUS MEDICAL CARE</td>\n",
       "    </tr>\n",
       "    <tr>\n",
       "      <th>7723</th>\n",
       "      <td>WI</td>\n",
       "      <td>HESS MEMORIAL HOSPITAL</td>\n",
       "      <td>INDEPENDENT</td>\n",
       "    </tr>\n",
       "  </tbody>\n",
       "</table>\n",
       "<p>7724 rows × 3 columns</p>\n",
       "</div>"
      ],
      "text/plain": [
       "     State                            Facility Name      Chain Organization\n",
       "0       AZ                       FMC NORTH MOUNTAIN  FRESENIUS MEDICAL CARE\n",
       "1       AR               DAVITA POCAHONTAS DIALYSIS                  DAVITA\n",
       "2       CO            DAVITA PLATTE VALLEY DIALYSIS                  DAVITA\n",
       "3       FL                DAVITA MELBOURNE DIALYSIS                  DAVITA\n",
       "4       GA               DAVITA WEST HIRAM DIALYSIS                  DAVITA\n",
       "...    ...                                      ...                     ...\n",
       "7719    TN                   DAVITA SUMNER DIALYSIS                  DAVITA\n",
       "7720    WI       FRESENIUS MEDICAL CARE OSHKOSH LLC  FRESENIUS MEDICAL CARE\n",
       "7721    CA              DAVITA CIRCLE CITY DIALYSIS                  DAVITA\n",
       "7722    TX  FRESENIUS MEDICAL CARE RENNER ROAD, LLC  FRESENIUS MEDICAL CARE\n",
       "7723    WI                   HESS MEMORIAL HOSPITAL             INDEPENDENT\n",
       "\n",
       "[7724 rows x 3 columns]"
      ]
     },
     "execution_count": 5,
     "metadata": {},
     "output_type": "execute_result"
    }
   ],
   "source": [
    "# Select DataFrame object columns\n",
    "dialysis_thin.select_dtypes('object')"
   ]
  },
  {
   "cell_type": "markdown",
   "metadata": {},
   "source": [
    "#### State"
   ]
  },
  {
   "cell_type": "code",
   "execution_count": 6,
   "metadata": {},
   "outputs": [],
   "source": [
    "# Use one-hot encoder to create dummy variables for State column\n",
    "# Drop_first=True to avoid redundancy\n",
    "dialysis_dumb = pd.get_dummies(dialysis_thin, columns=['State'], prefix='State', drop_first=True)"
   ]
  },
  {
   "cell_type": "markdown",
   "metadata": {},
   "source": [
    "#### Chain Organization"
   ]
  },
  {
   "cell_type": "code",
   "execution_count": 7,
   "metadata": {},
   "outputs": [
    {
     "name": "stderr",
     "output_type": "stream",
     "text": [
      "/Users/nicholehartz/opt/anaconda3/envs/TestEnv/lib/python3.6/site-packages/ipykernel_launcher.py:4: SettingWithCopyWarning: \n",
      "A value is trying to be set on a copy of a slice from a DataFrame\n",
      "\n",
      "See the caveats in the documentation: https://pandas.pydata.org/pandas-docs/stable/user_guide/indexing.html#returning-a-view-versus-a-copy\n",
      "  after removing the cwd from sys.path.\n"
     ]
    }
   ],
   "source": [
    "# Relabel chain organization values that only occur once 'Other'\n",
    "counts = dialysis_dumb['Chain Organization'].value_counts()\n",
    "mask = dialysis_dumb['Chain Organization'].isin(counts[counts==1].index)\n",
    "dialysis_dumb['Chain Organization'][mask] = 'Other'"
   ]
  },
  {
   "cell_type": "code",
   "execution_count": 8,
   "metadata": {},
   "outputs": [
    {
     "data": {
      "text/plain": [
       "DAVITA                                     2908\n",
       "FRESENIUS MEDICAL CARE                     2674\n",
       "INDEPENDENT                                 818\n",
       "US RENAL CARE, INC.                         283\n",
       "DIALYSIS CLINIC, INC.                       258\n",
       "AMERICAN RENAL ASSOCIATES                   245\n",
       "SATELLITE HEALTHCARE                         64\n",
       "Other                                        60\n",
       "DIVERSIFIED SPECIALTY INSTITUTES (DSI)       22\n",
       "RENAL VENTURES MANAGEMENT                    20\n",
       "CENTERS FOR DIALYSIS CARE                    19\n",
       "KAISER PERMANENTE                            19\n",
       "STATE OWNED                                  19\n",
       "NORTHWEST KIDNEY CENTERS                     19\n",
       "UNIVERSITY OF UTAH DIALYSIS PROGRAM          18\n",
       "WAKE FOREST UNIVERSITY                       18\n",
       "ATLANTIS HEALTHCARE GROUP                    17\n",
       "RENAL CARE GROUP INC.                        16\n",
       "GREENFIELD HEALTH SYSTEMS                    15\n",
       "SATELLITE DIALYSIS                           15\n",
       "SANKAR NEPHROLOGY GROUP                      14\n",
       "SANFORD HEALTH                               13\n",
       "MAYO CLINIC DIALYSIS                         12\n",
       "LIBERTY DIALYSIS HAWAII                      12\n",
       "CENTRACARE DIALYSIS                          11\n",
       "RENAL CARE PARTNERS                          11\n",
       "INNOVATIVE DIALYSIS SYSTEMS                  11\n",
       "CENTRAL FLORIDA KIDNEY CENTERS                8\n",
       "RELIANT RENAL CARE                            7\n",
       "PUGET SOUND KIDNEY CENTERS                    7\n",
       "INTERMOUNTAIN HEALTHCARE                      7\n",
       "RENAL ADVANTAGE                               6\n",
       "INDEPENDENT DIALYSIS FOUNDATION (IDF)         6\n",
       "GUNDERSEN LUTHERAN                            5\n",
       "NATIONAL RENAL CARE                           5\n",
       "TARRANT DIALYSIS CENTERS                      5\n",
       "OLYMPIC PENINSULA KIDNEY CENTERS              5\n",
       "NORTH CENTRAL PENNSYLVANIA DIALYSIS CLI       4\n",
       "PHYSICIANS DIALYSIS                           4\n",
       "SCOTT & WHITE MEMORIAL HOSPITAL               4\n",
       "EMORY DIALYSIS LLC                            4\n",
       "NRAA                                          3\n",
       "KIDNEY CENTER, INC.                           3\n",
       "NATIONAL RENAL INSTITUTES                     3\n",
       "VETERANS ADMINISTRATION                       3\n",
       "UNIVERSITY OF MICHIGAN                        3\n",
       "DIALYSPA                                      3\n",
       "HEMODIALYSIS, INC.                            2\n",
       "UPMC HEALTH SYSTEM                            2\n",
       "RENAL RESEARCH INSTITUTE                      2\n",
       "RED ROCKS DIALYSIS, LLC                       2\n",
       "DAV                                           2\n",
       "DIALYSIS ASSOCIATES, LLC                      2\n",
       "FUTURE CARE                                   2\n",
       "PHYSICIANS CHOICE DIALYSIS                    2\n",
       "PURE LIFE RENAL                               2\n",
       "Name: Chain Organization, dtype: int64"
      ]
     },
     "execution_count": 8,
     "metadata": {},
     "output_type": "execute_result"
    }
   ],
   "source": [
    "# Verify chain organziation values that only occur once re-labelled 'Other'\n",
    "dialysis_dumb['Chain Organization'].value_counts()"
   ]
  },
  {
   "cell_type": "code",
   "execution_count": 9,
   "metadata": {},
   "outputs": [],
   "source": [
    "# Use one-hot encoder to create dummy variables for Chain Organization column\n",
    "# Drop_first=True to avoid redundancy\n",
    "dialysis_dumb = pd.get_dummies(dialysis_dumb, columns=['Chain Organization'], prefix='Chain Organization', drop_first=True)"
   ]
  },
  {
   "cell_type": "markdown",
   "metadata": {},
   "source": [
    "#### Drop Remaining Categorical Columns"
   ]
  },
  {
   "cell_type": "code",
   "execution_count": 10,
   "metadata": {},
   "outputs": [],
   "source": [
    "# Drop Facility Name column\n",
    "dialysis_dumb = dialysis_dumb.drop(['Facility Name'], axis=1)"
   ]
  },
  {
   "cell_type": "markdown",
   "metadata": {},
   "source": [
    "## Standardize & Remove Outliers"
   ]
  },
  {
   "cell_type": "code",
   "execution_count": 11,
   "metadata": {},
   "outputs": [],
   "source": [
    "# Initialize StandardScaler\n",
    "scaler = StandardScaler()"
   ]
  },
  {
   "cell_type": "markdown",
   "metadata": {},
   "source": [
    "#### Mortality Rate (Facility) "
   ]
  },
  {
   "cell_type": "code",
   "execution_count": 12,
   "metadata": {},
   "outputs": [],
   "source": [
    "# Standardize Mortality Rate (Facility) \n",
    "scaler = StandardScaler()\n",
    "scaler.fit(dialysis_dumb[['Mortality Rate (Facility)']])\n",
    "dialysis_dumb['Mortality Rate Standardized'] = scaler.transform(dialysis_dumb[['Mortality Rate (Facility)']])"
   ]
  },
  {
   "cell_type": "code",
   "execution_count": 13,
   "metadata": {},
   "outputs": [],
   "source": [
    "# Remove outliers (values more than 3 standard deviations from the mean)\n",
    "mean_mort = dialysis_dumb['Mortality Rate Standardized'].mean()\n",
    "std_mort = dialysis_dumb['Mortality Rate Standardized'].std()\n",
    "cut_off_mort = std_mort * 3\n",
    "lower_mort, upper_mort = mean_mort - cut_off_mort, mean_mort + cut_off_mort\n",
    "dialysis_scaled = dialysis_dumb[(dialysis_dumb['Mortality Rate Standardized'] < upper_mort) & (dialysis_dumb['Mortality Rate Standardized'] > lower_mort)]"
   ]
  },
  {
   "cell_type": "markdown",
   "metadata": {},
   "source": [
    "#### Readmission Rate (Facility)"
   ]
  },
  {
   "cell_type": "code",
   "execution_count": 14,
   "metadata": {},
   "outputs": [],
   "source": [
    "# Standardize Readmission Rate (Facility)\n",
    "scaler.fit(dialysis_dumb[['Readmission Rate (Facility)']])\n",
    "dialysis_dumb['Readmission Rate Standardized'] = scaler.transform(dialysis_dumb[['Readmission Rate (Facility)']])"
   ]
  },
  {
   "cell_type": "code",
   "execution_count": 15,
   "metadata": {},
   "outputs": [],
   "source": [
    "# Remove outliers (values more than 3 standard deviations from the mean)\n",
    "mean_read = dialysis_dumb['Readmission Rate Standardized'].mean()\n",
    "std_read = dialysis_dumb['Readmission Rate Standardized'].std()\n",
    "cut_off_read = std_read * 3\n",
    "lower_read, upper_read = mean_read - cut_off_read, mean_read + cut_off_read\n",
    "dialysis_scaled = dialysis_dumb[(dialysis_dumb['Readmission Rate Standardized'] < upper_read) & (dialysis_dumb['Readmission Rate Standardized'] > lower_read)]"
   ]
  },
  {
   "cell_type": "markdown",
   "metadata": {},
   "source": [
    "#### Hospitalization Rate (Facility)"
   ]
  },
  {
   "cell_type": "code",
   "execution_count": 16,
   "metadata": {},
   "outputs": [],
   "source": [
    "# Standardize Hospitalization Rate (Facility)\n",
    "scaler.fit(dialysis_dumb[['Hospitalization Rate (Facility)']])\n",
    "dialysis_dumb['Hospitalization Rate Standardized'] = scaler.transform(dialysis_dumb[['Hospitalization Rate (Facility)']])"
   ]
  },
  {
   "cell_type": "code",
   "execution_count": 17,
   "metadata": {},
   "outputs": [],
   "source": [
    "# Remove outliers (values more than 3 standard deviations from the mean)\n",
    "mean_hosp = dialysis_dumb['Hospitalization Rate Standardized'].mean()\n",
    "std_hosp = dialysis_dumb['Hospitalization Rate Standardized'].std()\n",
    "cut_off_hosp = std_hosp * 3\n",
    "lower_hosp, upper_hosp = mean_hosp - cut_off_hosp, mean_hosp + cut_off_hosp\n",
    "dialysis_scaled = dialysis_dumb[(dialysis_dumb['Hospitalization Rate Standardized'] < upper_hosp) & (dialysis_dumb['Hospitalization Rate Standardized'] > lower_hosp)]"
   ]
  },
  {
   "cell_type": "markdown",
   "metadata": {},
   "source": [
    "#### Standard Infection Ratio"
   ]
  },
  {
   "cell_type": "code",
   "execution_count": 18,
   "metadata": {},
   "outputs": [],
   "source": [
    "# Standardize Standard Infection Ratio\n",
    "scaler.fit(dialysis_dumb[['Standard Infection Ratio']])\n",
    "dialysis_dumb['Standard Infection Ratio Standardized'] = scaler.transform(dialysis_dumb[['Standard Infection Ratio']])"
   ]
  },
  {
   "cell_type": "code",
   "execution_count": 19,
   "metadata": {},
   "outputs": [],
   "source": [
    "# Remove outliers (values more than 3 standard deviations from the mean)\n",
    "mean_inf = dialysis_dumb['Standard Infection Ratio Standardized'].mean()\n",
    "std_inf = dialysis_dumb['Standard Infection Ratio Standardized'].std()\n",
    "cut_off_inf = std_inf * 3\n",
    "lower_inf, upper_inf = mean_inf - cut_off_inf, mean_inf + cut_off_inf\n",
    "dialysis_scaled = dialysis_dumb[(dialysis_dumb['Standard Infection Ratio Standardized'] < upper_inf) & (dialysis_dumb['Standard Infection Ratio Standardized'] > lower_inf)]"
   ]
  },
  {
   "cell_type": "markdown",
   "metadata": {},
   "source": [
    "#### Transfusion Rate (Facility)"
   ]
  },
  {
   "cell_type": "code",
   "execution_count": 20,
   "metadata": {},
   "outputs": [],
   "source": [
    "# Standardize Transfusion Rate (Facility)\n",
    "scaler.fit(dialysis_dumb[['Transfusion Rate (Facility)']])\n",
    "dialysis_dumb['Transfusion Rate Standardized'] = scaler.transform(dialysis_dumb[['Transfusion Rate (Facility)']])"
   ]
  },
  {
   "cell_type": "code",
   "execution_count": 21,
   "metadata": {},
   "outputs": [],
   "source": [
    "# Remove outliers (values more than 3 standard deviations from the mean)\n",
    "mean_trans = dialysis_dumb['Transfusion Rate Standardized'].mean()\n",
    "std_trans = dialysis_dumb['Transfusion Rate Standardized'].std()\n",
    "cut_off_trans = std_trans * 3\n",
    "lower_trans, upper_trans = mean_trans - cut_off_trans, mean_trans + cut_off_trans\n",
    "dialysis_scaled = dialysis_dumb[(dialysis_dumb['Transfusion Rate Standardized'] < upper_trans) & (dialysis_dumb['Transfusion Rate Standardized'] > lower_trans)]"
   ]
  },
  {
   "cell_type": "markdown",
   "metadata": {},
   "source": [
    "#### Fistula Rate (Facility)"
   ]
  },
  {
   "cell_type": "code",
   "execution_count": 22,
   "metadata": {},
   "outputs": [],
   "source": [
    "# Standardize Fistula Rate (Facility)\n",
    "scaler.fit(dialysis_dumb[['Fistula Rate (Facility)']])\n",
    "dialysis_dumb['Fistula Rate Standardized'] = scaler.transform(dialysis_dumb[['Fistula Rate (Facility)']])"
   ]
  },
  {
   "cell_type": "code",
   "execution_count": 23,
   "metadata": {},
   "outputs": [],
   "source": [
    "# Remove outliers (values more than 3 standard deviations from the mean)\n",
    "mean_fist = dialysis_dumb['Fistula Rate Standardized'].mean()\n",
    "std_fist = dialysis_dumb['Fistula Rate Standardized'].std()\n",
    "cut_off_fist = std_fist * 3\n",
    "lower_fist, upper_fist = mean_fist - cut_off_fist, mean_fist + cut_off_fist\n",
    "dialysis_scaled = dialysis_dumb[(dialysis_dumb['Fistula Rate Standardized'] < upper_fist) & (dialysis_dumb['Fistula Rate Standardized'] > lower_fist)]"
   ]
  },
  {
   "cell_type": "markdown",
   "metadata": {},
   "source": [
    "#### Remove original, non-scaled columns from scaled DataFrame"
   ]
  },
  {
   "cell_type": "code",
   "execution_count": 24,
   "metadata": {},
   "outputs": [],
   "source": [
    "dialysis_scaled = dialysis_scaled.drop(['Mortality Rate (Facility)', 'Readmission Rate (Facility)', 'Hospitalization Rate (Facility)', 'Standard Infection Ratio', 'Transfusion Rate (Facility)', 'Fistula Rate (Facility)'], axis=1)"
   ]
  },
  {
   "cell_type": "markdown",
   "metadata": {},
   "source": [
    "## Remove remaining outliers"
   ]
  },
  {
   "cell_type": "code",
   "execution_count": 25,
   "metadata": {},
   "outputs": [],
   "source": [
    "percent = ['Percentage Of Medicare Patients With Hgb < 10 g/dL',\n",
    "            'Percentage Of Medicare Patients With Hgb > 12 g/dL',\n",
    "            'Percent Of Adult HD Patients With Kt/V >= 1.2',\n",
    "            'Percentage Of Adult Patients With Hypercalcemia (Serum Calcium Greater Than 10.2 mg/dL)',\n",
    "            'Percentage Of Adult Patients With Serum Phosphorus Less Than 3.5 mg/dL',\n",
    "            'Percentage Of Adult Patients With Serum Phosphorus Between 3.5 - 4.5 mg/dL',\n",
    "            'Percentage Of Adult Patients With Serum Phosphorus Between 4.6 - 5.5 mg/dL',\n",
    "            'Percentage Of Adult Patients With Serum Phosphorus Between 5.6 - 7.0 mg/dL',\n",
    "            'Percentage Of Adult Patients With Serum Phosphorus Greater Than 7.0 mg/dL',\n",
    "            'Percentage Of Adult Patients With Long Term Catheter In Use',\n",
    "            'Percentage Of Prevalent Patients Waitlisted']"
   ]
  },
  {
   "cell_type": "code",
   "execution_count": 26,
   "metadata": {},
   "outputs": [],
   "source": [
    "for col in dialysis[percent].columns:\n",
    "    mean = dialysis[col].mean()\n",
    "    std = dialysis[col].std()\n",
    "    cut_off = std * 3\n",
    "    lower, upper = mean - cut_off, mean + cut_off\n",
    "    dialysis = dialysis[(dialysis[col] < upper) & (dialysis[col] > lower)]"
   ]
  },
  {
   "cell_type": "markdown",
   "metadata": {},
   "source": [
    "## Train / Test Split"
   ]
  },
  {
   "cell_type": "code",
   "execution_count": 27,
   "metadata": {},
   "outputs": [],
   "source": [
    "X = dialysis_scaled.drop(['Star Rating'], axis=1)\n",
    "y = dialysis_scaled['Star Rating']\n",
    "X_train, X_test, y_train, y_test = train_test_split(X, y, test_size=0.25, random_state=42)"
   ]
  },
  {
   "cell_type": "markdown",
   "metadata": {},
   "source": [
    "## Export to new csv"
   ]
  },
  {
   "cell_type": "code",
   "execution_count": 28,
   "metadata": {
    "scrolled": true
   },
   "outputs": [
    {
     "data": {
      "text/plain": [
       "'/Users/nicholehartz/Documents/DataScience/Projects/Capstone2'"
      ]
     },
     "execution_count": 28,
     "metadata": {},
     "output_type": "execute_result"
    }
   ],
   "source": [
    "os.getcwd()"
   ]
  },
  {
   "cell_type": "code",
   "execution_count": 29,
   "metadata": {},
   "outputs": [],
   "source": [
    "dialysis_thin.to_csv('Data/capstone2_dialysis_thin_data.csv')"
   ]
  },
  {
   "cell_type": "code",
   "execution_count": 30,
   "metadata": {},
   "outputs": [],
   "source": [
    "dialysis_dumb.to_csv('Data/capstone2_dialysis_dumb_data.csv')"
   ]
  },
  {
   "cell_type": "code",
   "execution_count": 31,
   "metadata": {},
   "outputs": [],
   "source": [
    "dialysis_scaled.to_csv('Data/capstone2_dialysis_scaled_data.csv')"
   ]
  }
 ],
 "metadata": {
  "kernelspec": {
   "display_name": "Python 3",
   "language": "python",
   "name": "python3"
  },
  "language_info": {
   "codemirror_mode": {
    "name": "ipython",
    "version": 3
   },
   "file_extension": ".py",
   "mimetype": "text/x-python",
   "name": "python",
   "nbconvert_exporter": "python",
   "pygments_lexer": "ipython3",
   "version": "3.6.10"
  }
 },
 "nbformat": 4,
 "nbformat_minor": 4
}
