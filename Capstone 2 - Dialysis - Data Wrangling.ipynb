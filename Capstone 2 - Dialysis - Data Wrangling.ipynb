{
 "cells": [
  {
   "cell_type": "markdown",
   "metadata": {},
   "source": [
    "# Data Collection"
   ]
  },
  {
   "cell_type": "code",
   "execution_count": 1,
   "metadata": {},
   "outputs": [],
   "source": [
    "import pandas as pd\n",
    "import numpy as np\n",
    "from datetime import date"
   ]
  },
  {
   "cell_type": "code",
   "execution_count": 2,
   "metadata": {},
   "outputs": [],
   "source": [
    "df = pd.read_csv('Dialysis_Facility_Compare_-_Listing_by_Facility.csv')"
   ]
  },
  {
   "cell_type": "markdown",
   "metadata": {},
   "source": [
    "# Rename columns"
   ]
  },
  {
   "cell_type": "code",
   "execution_count": 3,
   "metadata": {},
   "outputs": [],
   "source": [
    "df.columns = [col.title() for col in df.columns]"
   ]
  },
  {
   "cell_type": "code",
   "execution_count": 4,
   "metadata": {},
   "outputs": [],
   "source": [
    "df = df.rename(columns= {'# Of Dialysis Stations' : 'Number Of Dialysis Stations', \n",
    "                        'Crownweb Date' : 'CROWNWeb Date',\n",
    "                        'Strr Date' : 'STrR Date', \n",
    "                        'Percentage Of Medicare Patients With Hgb<10 G/Dl' : 'Percentage Of Medicare Patients With Hgb < 10 g/dL', \n",
    "                        'Hgb<10 Data Availability Code' : 'Hgb < 10 Data Availability Code', \n",
    "                        'Percentage Of Medicare Patients With Hgb>12 G/Dl' : 'Percentage Of Medicare Patients With Hgb > 12 g/dL', \n",
    "                        'Percent Of Adult Hd Patients With Kt/V >= 1.2' : 'Percent Of Adult HD Patients With Kt/V >= 1.2', \n",
    "                        'Adult Hd Kt/V Data Availability Code' : 'Adult HD Kt/V Data Availability Code', \n",
    "                        'Percentage Of Adult Pd Pts With Kt/V >= 1.7' : 'Percentage Of Adult PD PTS With Kt/V >= 1.7',\n",
    "                        'Adult Pd Kt/V Data Availability Code' : 'Adult PD Kt/V Data Availability Code', \n",
    "                        'Percentage Of Pediatric Hd Patients With Kt/V >= 1.2' : 'Percentage Of Pediatric HD Patients With Kt/V >= 1.2', \n",
    "                        'Pediatric Hd Kt/V Data Availability Code' : 'Pediatric HD Kt/V Data Availability Code', \n",
    "                        'Number Of Adult Hd Patients With Kt/V Data' : 'Number Of Adult HD Patients With Kt/V Data', \n",
    "                        'Number Of Adult Hd Patient-Months With Kt/V Data' : 'Number Of Adult HD Patient-Months With Kt/V Data', \n",
    "                        'Number Of Adult Pd Patients With Kt/V Data' : 'Number Of Adult PD Patients With Kt/V Data', \n",
    "                        'Number Of Adult Pd Patient-Months With Kt/V Data' : 'Number Of Adult PD Patient-Months With Kt/V Data', \n",
    "                        'Number Of Pediatric Hd Patients With Kt/V Data' : 'Number Of Pediatric HD Patients With Kt/V Data', \n",
    "                        'Number Of Pediatric Hd Patient-Months With Kt/V Data' : 'Number Of Pediatric HD Patient-Months With Kt/V Data', \n",
    "                        'Percentage Of Adult Patients With Hypercalcemia (Serum Calcium Greater Than 10.2 Mg/Dl)' : 'Percentage Of Adult Patients With Hypercalcemia (Serum Calcium Greater Than 10.2 mg/dL)', \n",
    "                        'Number Of Patient-Months In Serum Phosphorus Summary ' : 'Number Of Patient-Months In Serum Phosphorus Summary', \n",
    "                        'Serum Phosphorus Data Availability Code ' : 'Serum Phosphorus Data Availability Code',\n",
    "                        'Percentage Of Adult Patients With Serum Phosphorus Less Than 3.5 Mg/Dl' : 'Percentage Of Adult Patients With Serum Phosphorus Less Than 3.5 mg/dL',\n",
    "                        'Percentage Of Adult Patients With Serum Phosphorus Between 3.5-4.5 Mg/Dl' : 'Percentage Of Adult Patients With Serum Phosphorus Between 3.5 - 4.5 mg/dL', \n",
    "                        'Percentage Of Adult Patients With Serum Phosphorus Between 4.6-5.5 Mg/Dl' : 'Percentage Of Adult Patients With Serum Phosphorus Between 4.6 - 5.5 mg/dL', \n",
    "                        'Percentage Of Adult Patients With Serum Phosphorus Between 5.6-7.0 Mg/Dl' : 'Percentage Of Adult Patients With Serum Phosphorus Between 5.6 - 7.0 mg/dL', \n",
    "                        'Percentage Of Adult Patients With Serum Phosphorus Greater Than 7.0 Mg/Dl' : 'Percentage Of Adult Patients With Serum Phosphorus Greater Than 7.0 mg/dL',                         \n",
    "                        'Shr Date' : 'SHR Date', \n",
    "                        'Srr Date' : 'SRR Date', \n",
    "                        'Smr Date' : 'SMR Date', \n",
    "                        'Patient Hospital Readmission Category' : 'Patient Hospital Readmission Category Text', \n",
    "                        'Number Of Pediatric Pd Patients With Kt/V Data' : 'Number Of Pediatric PD Patients With Kt/V Data', \n",
    "                        'Pediatric Pd Kt/V Data Availability Code' : 'Pediatric PD Kt/V Data Availability Code', \n",
    "                        'Number Of Pediatric Pd Patient-Months With Kt/V Data' : 'Number Of Pediatric PD Patient-Months With Kt/V Data', \n",
    "                        'Percentage Of Pediatric Pd Patients With Kt/V>=1.8' : 'Percentage Of Pediatric PD Patients With Kt/V >= 1.8', \n",
    "                        'Sir Date' : 'SIR Date', \n",
    "                        'Sir: Upper Confidence Limit (97.5%)' : 'SIR: Upper Confidence Limit (97.5%)', \n",
    "                        'Sir: Lower Confidence Limit (2.5%)' : 'SIR: Lower Confidence Limit (2.5%)', \n",
    "                        'Number Of Patient Months In Long Term Catheter Summary' : 'Number Of Patient-Months In Long Term Catheter Summary', \n",
    "                        'Number Of Patients In Npcr Summary' : 'Number Of Patients In nPCR Summary', \n",
    "                        'Number Of Patient-Months In Npcr Summary' : 'Number Of Patient-Months In nPCR Summary', \n",
    "                        'Npcr Data Availability Code' : 'nPCR Data Availability Code', \n",
    "                        'Percentage Of Pediatric Hd Patients With Npcr' : 'Percentage Of Pediatric HD Patients With nPCR', \n",
    "                        'Date_Swr' : 'SWR Date', \n",
    "                        'Swr Category Text' : 'SWR Category Text', \n",
    "                        '95% C.I. (Upper Limit) For Swr' : '95% C.I. (Upper Limit) For SWR', \n",
    "                        '95% C.I. (Lower Limit) For Swr' : '95% C.I. (Lower Limit) For SWR', \n",
    "                        'Number Of Patients In This Facility For Swr' : 'Number Of Patients In This Facility For SWR',  \n",
    "                        'Pppw Category Text' : 'PPPW Category Text', \n",
    "                        '95% C.I. (Upper Limit) For Pppw' : '95% C.I. (Upper Limit) For PPPW', \n",
    "                        '95% C.I. (Lower Limit) For Pppw' : '95% C.I. (Lower Limit) For PPPW', \n",
    "                        'Number Of Patients For Pppw' : 'Number Of Patients For PPPW'\n",
    "                       })"
   ]
  },
  {
   "cell_type": "markdown",
   "metadata": {},
   "source": [
    "# Correct dtypes"
   ]
  },
  {
   "cell_type": "code",
   "execution_count": 5,
   "metadata": {},
   "outputs": [],
   "source": [
    "isnumeric = ['Five Star', \n",
    "             'Percentage Of Medicare Patients With Hgb < 10 g/dL', \n",
    "             'Percentage Of Medicare Patients With Hgb > 12 g/dL', \n",
    "             'Number Of Dialysis Patients With Hgb Data', \n",
    "             'Number Of Patients Included In The Transfusion Summary', \n",
    "             'Percent Of Adult HD Patients With Kt/V >= 1.2', \n",
    "             'Percentage Of Adult PD PTS With Kt/V >= 1.7', \n",
    "             'Percentage Of Pediatric HD Patients With Kt/V >= 1.2', \n",
    "             'Number Of Adult HD Patients With Kt/V Data', \n",
    "             'Number Of Adult HD Patient-Months With Kt/V Data', \n",
    "             'Number Of Adult PD Patients With Kt/V Data', \n",
    "             'Number Of Adult PD Patient-Months With Kt/V Data', \n",
    "             'Number Of Pediatric HD Patients With Kt/V Data', \n",
    "             'Number Of Pediatric HD Patient-Months With Kt/V Data', \n",
    "             'Number Of Patients In Hypercalcemia Summary', \n",
    "             'Number Of Patient-Months In Hypercalcemia Summary', \n",
    "             'Percentage Of Adult Patients With Hypercalcemia (Serum Calcium Greater Than 10.2 mg/dL)', \n",
    "             'Number Of Patients In Serum Phosphorus Summary', \n",
    "             'Number Of Patient-Months In Serum Phosphorus Summary', \n",
    "             'Percentage Of Adult Patients With Serum Phosphorus Less Than 3.5 mg/dL', \n",
    "             'Percentage Of Adult Patients With Serum Phosphorus Between 3.5 - 4.5 mg/dL', \n",
    "             'Percentage Of Adult Patients With Serum Phosphorus Between 4.6 - 5.5 mg/dL', \n",
    "             'Percentage Of Adult Patients With Serum Phosphorus Between 5.6 - 7.0 mg/dL', \n",
    "             'Percentage Of Adult Patients With Serum Phosphorus Greater Than 7.0 mg/dL', \n",
    "             'Number Of Patients Included In Hospitalization Summary', \n",
    "             'Number Of Hospitalizations Included In Hospital Readmission Summary', \n",
    "             'Number Of Patients Included In Survival Summary', \n",
    "             'Mortality Rate (Facility)', \n",
    "             'Mortality Rate: Upper Confidence Limit (97.5%)', \n",
    "             'Mortality Rate: Lower Confidence Limit (2.5%)', \n",
    "             'Readmission Rate (Facility)', \n",
    "             'Readmission Rate: Upper Confidence Limit (97.5%)', \n",
    "             'Readmission Rate: Lower Confidence Limit (2.5%)', \n",
    "             'Hospitalization Rate (Facility)', \n",
    "             'Hospitalization Rate: Upper Confidence Limit (97.5%)', \n",
    "             'Hospitalization Rate: Lower Confidence Limit (2.5%)', \n",
    "             'Number Of Pediatric PD Patients With Kt/V Data', \n",
    "             'Number Of Pediatric PD Patient-Months With Kt/V Data', \n",
    "             'Percentage Of Pediatric PD Patients With Kt/V >= 1.8', \n",
    "             'Standard Infection Ratio', \n",
    "             'SIR: Upper Confidence Limit (97.5%)', \n",
    "             'SIR: Lower Confidence Limit (2.5%)', \n",
    "             'Transfusion Rate (Facility)', \n",
    "             'Transfusion Rate: Upper Confidence Limit (97.5%)', \n",
    "             'Transfusion Rate: Lower Confidence Limit (2.5%)', \n",
    "             'Number Of Patients Included In Fistula Summary', \n",
    "             'Fistula Rate (Facility)', \n",
    "             'Fistula Rate: Upper Confidence Limit (97.5%)', \n",
    "             'Fistula Rate: Lower Confidence Limit (2.5%)', \n",
    "             'Number Of Patients In Long Term Catheter Summary', \n",
    "             'Number Of Patient-Months In Long Term Catheter Summary', \n",
    "             'Percentage Of Adult Patients With Long Term Catheter In Use', \n",
    "             'Number Of Patients In nPCR Summary', \n",
    "             'Number Of Patient-Months In nPCR Summary', \n",
    "             'Percentage Of Pediatric HD Patients With nPCR', \n",
    "             '95% C.I. (Upper Limit) For SWR', \n",
    "             '95% C.I. (Lower Limit) For SWR', \n",
    "             'Number Of Patients In This Facility For SWR', \n",
    "             'Standardized First Kidney Transplant Waitlist Ratio', \n",
    "             '95% C.I. (Upper Limit) For PPPW', \n",
    "             '95% C.I. (Lower Limit) For PPPW', \n",
    "             'Number Of Patients For PPPW', \n",
    "             'Percentage Of Prevalent Patients Waitlisted']"
   ]
  },
  {
   "cell_type": "code",
   "execution_count": 6,
   "metadata": {},
   "outputs": [],
   "source": [
    "for col in  df[isnumeric]:\n",
    "    df[col] = pd.to_numeric(df[col], errors='coerce')"
   ]
  },
  {
   "cell_type": "code",
   "execution_count": 7,
   "metadata": {},
   "outputs": [],
   "source": [
    "isdateframe = ['Five Star Date', 'Claims Date', 'CROWNWeb Date', 'STrR Date', 'SHR Date', 'SRR Date', 'SMR Date', 'SIR Date', 'SWR Date']"
   ]
  },
  {
   "cell_type": "code",
   "execution_count": null,
   "metadata": {},
   "outputs": [],
   "source": []
  },
  {
   "cell_type": "code",
   "execution_count": 8,
   "metadata": {},
   "outputs": [],
   "source": [
    "isdate = ['Certification Or Recertification Date']"
   ]
  },
  {
   "cell_type": "markdown",
   "metadata": {},
   "source": [
    "# Missing Values"
   ]
  },
  {
   "cell_type": "code",
   "execution_count": 9,
   "metadata": {},
   "outputs": [],
   "source": [
    "df.replace(to_replace=['Not Available'], value=np.nan, inplace=True)"
   ]
  },
  {
   "cell_type": "code",
   "execution_count": 10,
   "metadata": {},
   "outputs": [],
   "source": [
    "availabilitycode = ['Five Star Data Availability Code', \n",
    "                    'Hgb < 10 Data Availability Code', \n",
    "                    'Hgb > 12 Data Availability Code', \n",
    "                    'Patient Transfusion Data Availability Code', \n",
    "                    'Adult HD Kt/V Data Availability Code', \n",
    "                    'Adult PD Kt/V Data Availability Code', \n",
    "                    'Pediatric HD Kt/V Data Availability Code', \n",
    "                    'Hypercalcemia Data Availability Code', \n",
    "                    'Serum Phosphorus Data Availability Code', \n",
    "                    'Patient Hospitalization Data Availability Code', \n",
    "                    'Patient Hospital Readmission Data Availability Code', \n",
    "                    'Patient Survival Data Availability Code', \n",
    "                    'Pediatric PD Kt/V Data Availability Code', \n",
    "                    'Patient Infection Data Availability Code', \n",
    "                    'Fistula Data Availability Code', \n",
    "                    'Long Term Catheter Data Availability Code', \n",
    "                    'nPCR Data Availability Code', \n",
    "                    'Patient Transplant Waitlist Data Availability Code', \n",
    "                    'Patient Prevalent Transplant Waitlist Data Availability Code']"
   ]
  },
  {
   "cell_type": "code",
   "execution_count": 11,
   "metadata": {},
   "outputs": [],
   "source": [
    "df[availabilitycode] = df[availabilitycode].replace(to_replace=[1], value=np.nan)"
   ]
  },
  {
   "cell_type": "markdown",
   "metadata": {},
   "source": [
    "# Data Definition"
   ]
  },
  {
   "cell_type": "markdown",
   "metadata": {},
   "source": [
    "### Head & Tail"
   ]
  },
  {
   "cell_type": "code",
   "execution_count": 12,
   "metadata": {
    "scrolled": false
   },
   "outputs": [
    {
     "data": {
      "text/html": [
       "<div>\n",
       "<style scoped>\n",
       "    .dataframe tbody tr th:only-of-type {\n",
       "        vertical-align: middle;\n",
       "    }\n",
       "\n",
       "    .dataframe tbody tr th {\n",
       "        vertical-align: top;\n",
       "    }\n",
       "\n",
       "    .dataframe thead th {\n",
       "        text-align: right;\n",
       "    }\n",
       "</style>\n",
       "<table border=\"1\" class=\"dataframe\">\n",
       "  <thead>\n",
       "    <tr style=\"text-align: right;\">\n",
       "      <th></th>\n",
       "      <th>0</th>\n",
       "      <th>1</th>\n",
       "      <th>2</th>\n",
       "      <th>3</th>\n",
       "      <th>4</th>\n",
       "    </tr>\n",
       "  </thead>\n",
       "  <tbody>\n",
       "    <tr>\n",
       "      <th>Provider Number</th>\n",
       "      <td>42592</td>\n",
       "      <td>52761</td>\n",
       "      <td>72549</td>\n",
       "      <td>82524</td>\n",
       "      <td>82527</td>\n",
       "    </tr>\n",
       "    <tr>\n",
       "      <th>Network</th>\n",
       "      <td>13</td>\n",
       "      <td>18</td>\n",
       "      <td>1</td>\n",
       "      <td>4</td>\n",
       "      <td>4</td>\n",
       "    </tr>\n",
       "    <tr>\n",
       "      <th>Facility Name</th>\n",
       "      <td>DCI - LITTLE ROCK RENAL SERVICES LLC</td>\n",
       "      <td>DAVITA-PREMIER DIALYSIS CENTER</td>\n",
       "      <td>WALLINGFORD DIALYSIS CARE LLC</td>\n",
       "      <td>DSI LAUREL DIALYSIS, LLC</td>\n",
       "      <td>FRESENIUS MEDICAL CARE SOUTHERN DELAWARE, LLC</td>\n",
       "    </tr>\n",
       "    <tr>\n",
       "      <th>Five Star Date</th>\n",
       "      <td>01/01/2015 - 12/31/2018</td>\n",
       "      <td>01/01/2015 - 12/31/2018</td>\n",
       "      <td>01/01/2015 - 12/31/2018</td>\n",
       "      <td>01/01/2015 - 12/31/2018</td>\n",
       "      <td>01/01/2015 - 12/31/2018</td>\n",
       "    </tr>\n",
       "    <tr>\n",
       "      <th>Five Star</th>\n",
       "      <td>2</td>\n",
       "      <td>3</td>\n",
       "      <td>5</td>\n",
       "      <td>4</td>\n",
       "      <td>5</td>\n",
       "    </tr>\n",
       "    <tr>\n",
       "      <th>Five Star Data Availability Code</th>\n",
       "      <td>NaN</td>\n",
       "      <td>NaN</td>\n",
       "      <td>NaN</td>\n",
       "      <td>NaN</td>\n",
       "      <td>NaN</td>\n",
       "    </tr>\n",
       "    <tr>\n",
       "      <th>Address Line 1</th>\n",
       "      <td>1910 JOHN BARROW RD</td>\n",
       "      <td>7612 ATLANTIC AVENUE</td>\n",
       "      <td>720 N MAIN STREET EXT</td>\n",
       "      <td>LAUREL SQUARE SHOPPING CENTER</td>\n",
       "      <td>9115 ANTIQUE ALLEY</td>\n",
       "    </tr>\n",
       "    <tr>\n",
       "      <th>Address Line 2</th>\n",
       "      <td>NaN</td>\n",
       "      <td>NaN</td>\n",
       "      <td>SUITE 3</td>\n",
       "      <td>30214 SUSSEX HIGHWAY, UNIT #4</td>\n",
       "      <td>NaN</td>\n",
       "    </tr>\n",
       "    <tr>\n",
       "      <th>City</th>\n",
       "      <td>LITTLE ROCK</td>\n",
       "      <td>CUDAHY</td>\n",
       "      <td>WALLINGFORD</td>\n",
       "      <td>LAUREL</td>\n",
       "      <td>BRIDGEVILLE</td>\n",
       "    </tr>\n",
       "    <tr>\n",
       "      <th>State</th>\n",
       "      <td>AR</td>\n",
       "      <td>CA</td>\n",
       "      <td>CT</td>\n",
       "      <td>DE</td>\n",
       "      <td>DE</td>\n",
       "    </tr>\n",
       "    <tr>\n",
       "      <th>Zip</th>\n",
       "      <td>72204</td>\n",
       "      <td>90201</td>\n",
       "      <td>6492</td>\n",
       "      <td>19956</td>\n",
       "      <td>19933</td>\n",
       "    </tr>\n",
       "    <tr>\n",
       "      <th>County</th>\n",
       "      <td>PULASKI</td>\n",
       "      <td>LOS ANGELES</td>\n",
       "      <td>NEW HAVEN</td>\n",
       "      <td>SUSSEX</td>\n",
       "      <td>SUSSEX</td>\n",
       "    </tr>\n",
       "    <tr>\n",
       "      <th>Phone Number</th>\n",
       "      <td>(501) 227-0983</td>\n",
       "      <td>(323) 562-5511</td>\n",
       "      <td>(203) 265-0667</td>\n",
       "      <td>(302) 715-3060</td>\n",
       "      <td>(302) 337-8789</td>\n",
       "    </tr>\n",
       "    <tr>\n",
       "      <th>Profit Or Non-Profit</th>\n",
       "      <td>Non-Profit</td>\n",
       "      <td>Profit</td>\n",
       "      <td>Profit</td>\n",
       "      <td>Profit</td>\n",
       "      <td>Profit</td>\n",
       "    </tr>\n",
       "    <tr>\n",
       "      <th>Chain Owned</th>\n",
       "      <td>Yes</td>\n",
       "      <td>Yes</td>\n",
       "      <td>Yes</td>\n",
       "      <td>Yes</td>\n",
       "      <td>Yes</td>\n",
       "    </tr>\n",
       "    <tr>\n",
       "      <th>Chain Organization</th>\n",
       "      <td>DIALYSIS CLINIC, INC.</td>\n",
       "      <td>DAVITA</td>\n",
       "      <td>AMERICAN RENAL ASSOCIATES</td>\n",
       "      <td>US RENAL CARE, INC.</td>\n",
       "      <td>FRESENIUS MEDICAL CARE</td>\n",
       "    </tr>\n",
       "    <tr>\n",
       "      <th>Late Shift</th>\n",
       "      <td>0</td>\n",
       "      <td>0</td>\n",
       "      <td>0</td>\n",
       "      <td>0</td>\n",
       "      <td>0</td>\n",
       "    </tr>\n",
       "    <tr>\n",
       "      <th>Number Of Dialysis Stations</th>\n",
       "      <td>18</td>\n",
       "      <td>36</td>\n",
       "      <td>13</td>\n",
       "      <td>16</td>\n",
       "      <td>11</td>\n",
       "    </tr>\n",
       "    <tr>\n",
       "      <th>Offers In-Center Hemodialysis</th>\n",
       "      <td>1</td>\n",
       "      <td>1</td>\n",
       "      <td>1</td>\n",
       "      <td>1</td>\n",
       "      <td>1</td>\n",
       "    </tr>\n",
       "    <tr>\n",
       "      <th>Offers Peritoneal Dialysis</th>\n",
       "      <td>1</td>\n",
       "      <td>1</td>\n",
       "      <td>1</td>\n",
       "      <td>0</td>\n",
       "      <td>1</td>\n",
       "    </tr>\n",
       "    <tr>\n",
       "      <th>Offers Home Hemodialysis Training</th>\n",
       "      <td>1</td>\n",
       "      <td>0</td>\n",
       "      <td>1</td>\n",
       "      <td>0</td>\n",
       "      <td>1</td>\n",
       "    </tr>\n",
       "    <tr>\n",
       "      <th>Certification Or Recertification Date</th>\n",
       "      <td>10/20/2015</td>\n",
       "      <td>04/11/1995</td>\n",
       "      <td>01/06/2016</td>\n",
       "      <td>09/25/2015</td>\n",
       "      <td>10/30/2017</td>\n",
       "    </tr>\n",
       "    <tr>\n",
       "      <th>Claims Date</th>\n",
       "      <td>07/01/2018 - 06/30/2019</td>\n",
       "      <td>07/01/2018 - 06/30/2019</td>\n",
       "      <td>07/01/2018 - 06/30/2019</td>\n",
       "      <td>07/01/2018 - 06/30/2019</td>\n",
       "      <td>07/01/2018 - 06/30/2019</td>\n",
       "    </tr>\n",
       "    <tr>\n",
       "      <th>CROWNWeb Date</th>\n",
       "      <td>07/01/2018 - 06/30/2019</td>\n",
       "      <td>07/01/2018 - 06/30/2019</td>\n",
       "      <td>07/01/2018 - 06/30/2019</td>\n",
       "      <td>07/01/2018 - 06/30/2019</td>\n",
       "      <td>07/01/2018 - 06/30/2019</td>\n",
       "    </tr>\n",
       "    <tr>\n",
       "      <th>STrR Date</th>\n",
       "      <td>01/01/2018 - 12/31/2018</td>\n",
       "      <td>01/01/2018 - 12/31/2018</td>\n",
       "      <td>01/01/2018 - 12/31/2018</td>\n",
       "      <td>01/01/2018 - 12/31/2018</td>\n",
       "      <td>01/01/2018 - 12/31/2018</td>\n",
       "    </tr>\n",
       "    <tr>\n",
       "      <th>Percentage Of Medicare Patients With Hgb &lt; 10 g/dL</th>\n",
       "      <td>21</td>\n",
       "      <td>18</td>\n",
       "      <td>43</td>\n",
       "      <td>20</td>\n",
       "      <td>25</td>\n",
       "    </tr>\n",
       "    <tr>\n",
       "      <th>Hgb &lt; 10 Data Availability Code</th>\n",
       "      <td>NaN</td>\n",
       "      <td>NaN</td>\n",
       "      <td>NaN</td>\n",
       "      <td>NaN</td>\n",
       "      <td>NaN</td>\n",
       "    </tr>\n",
       "    <tr>\n",
       "      <th>Percentage Of Medicare Patients With Hgb &gt; 12 g/dL</th>\n",
       "      <td>0</td>\n",
       "      <td>0</td>\n",
       "      <td>0</td>\n",
       "      <td>0</td>\n",
       "      <td>0</td>\n",
       "    </tr>\n",
       "    <tr>\n",
       "      <th>Hgb &gt; 12 Data Availability Code</th>\n",
       "      <td>NaN</td>\n",
       "      <td>NaN</td>\n",
       "      <td>NaN</td>\n",
       "      <td>NaN</td>\n",
       "      <td>NaN</td>\n",
       "    </tr>\n",
       "    <tr>\n",
       "      <th>Number Of Dialysis Patients With Hgb Data</th>\n",
       "      <td>48</td>\n",
       "      <td>79</td>\n",
       "      <td>14</td>\n",
       "      <td>20</td>\n",
       "      <td>24</td>\n",
       "    </tr>\n",
       "    <tr>\n",
       "      <th>Patient Transfusion Data Availability Code</th>\n",
       "      <td>NaN</td>\n",
       "      <td>NaN</td>\n",
       "      <td>NaN</td>\n",
       "      <td>NaN</td>\n",
       "      <td>NaN</td>\n",
       "    </tr>\n",
       "    <tr>\n",
       "      <th>Patient Transfusion Category Text</th>\n",
       "      <td>As Expected</td>\n",
       "      <td>Worse than Expected</td>\n",
       "      <td>As Expected</td>\n",
       "      <td>As Expected</td>\n",
       "      <td>As Expected</td>\n",
       "    </tr>\n",
       "    <tr>\n",
       "      <th>Number Of Patients Included In The Transfusion Summary</th>\n",
       "      <td>65</td>\n",
       "      <td>147</td>\n",
       "      <td>23</td>\n",
       "      <td>21</td>\n",
       "      <td>30</td>\n",
       "    </tr>\n",
       "    <tr>\n",
       "      <th>Percent Of Adult HD Patients With Kt/V &gt;= 1.2</th>\n",
       "      <td>93</td>\n",
       "      <td>99</td>\n",
       "      <td>96</td>\n",
       "      <td>98</td>\n",
       "      <td>98</td>\n",
       "    </tr>\n",
       "    <tr>\n",
       "      <th>Adult HD Kt/V Data Availability Code</th>\n",
       "      <td>NaN</td>\n",
       "      <td>NaN</td>\n",
       "      <td>NaN</td>\n",
       "      <td>NaN</td>\n",
       "      <td>NaN</td>\n",
       "    </tr>\n",
       "    <tr>\n",
       "      <th>Percentage Of Adult PD PTS With Kt/V &gt;= 1.7</th>\n",
       "      <td>97</td>\n",
       "      <td>NaN</td>\n",
       "      <td>NaN</td>\n",
       "      <td>NaN</td>\n",
       "      <td>NaN</td>\n",
       "    </tr>\n",
       "    <tr>\n",
       "      <th>Adult PD Kt/V Data Availability Code</th>\n",
       "      <td>NaN</td>\n",
       "      <td>199</td>\n",
       "      <td>199</td>\n",
       "      <td>257</td>\n",
       "      <td>199</td>\n",
       "    </tr>\n",
       "    <tr>\n",
       "      <th>Percentage Of Pediatric HD Patients With Kt/V &gt;= 1.2</th>\n",
       "      <td>NaN</td>\n",
       "      <td>NaN</td>\n",
       "      <td>NaN</td>\n",
       "      <td>NaN</td>\n",
       "      <td>NaN</td>\n",
       "    </tr>\n",
       "    <tr>\n",
       "      <th>Pediatric HD Kt/V Data Availability Code</th>\n",
       "      <td>259</td>\n",
       "      <td>259</td>\n",
       "      <td>259</td>\n",
       "      <td>259</td>\n",
       "      <td>259</td>\n",
       "    </tr>\n",
       "    <tr>\n",
       "      <th>Number Of Adult HD Patients With Kt/V Data</th>\n",
       "      <td>83</td>\n",
       "      <td>226</td>\n",
       "      <td>36</td>\n",
       "      <td>29</td>\n",
       "      <td>47</td>\n",
       "    </tr>\n",
       "    <tr>\n",
       "      <th>Number Of Adult HD Patient-Months With Kt/V Data</th>\n",
       "      <td>691</td>\n",
       "      <td>2004</td>\n",
       "      <td>305</td>\n",
       "      <td>275</td>\n",
       "      <td>363</td>\n",
       "    </tr>\n",
       "    <tr>\n",
       "      <th>Number Of Adult PD Patients With Kt/V Data</th>\n",
       "      <td>23</td>\n",
       "      <td>8</td>\n",
       "      <td>8</td>\n",
       "      <td>0</td>\n",
       "      <td>6</td>\n",
       "    </tr>\n",
       "    <tr>\n",
       "      <th>Number Of Adult PD Patient-Months With Kt/V Data</th>\n",
       "      <td>160</td>\n",
       "      <td>61</td>\n",
       "      <td>62</td>\n",
       "      <td>NaN</td>\n",
       "      <td>42</td>\n",
       "    </tr>\n",
       "    <tr>\n",
       "      <th>Number Of Pediatric HD Patients With Kt/V Data</th>\n",
       "      <td>0</td>\n",
       "      <td>0</td>\n",
       "      <td>0</td>\n",
       "      <td>0</td>\n",
       "      <td>0</td>\n",
       "    </tr>\n",
       "    <tr>\n",
       "      <th>Number Of Pediatric HD Patient-Months With Kt/V Data</th>\n",
       "      <td>NaN</td>\n",
       "      <td>NaN</td>\n",
       "      <td>NaN</td>\n",
       "      <td>NaN</td>\n",
       "      <td>NaN</td>\n",
       "    </tr>\n",
       "    <tr>\n",
       "      <th>Hypercalcemia Data Availability Code</th>\n",
       "      <td>NaN</td>\n",
       "      <td>NaN</td>\n",
       "      <td>NaN</td>\n",
       "      <td>NaN</td>\n",
       "      <td>NaN</td>\n",
       "    </tr>\n",
       "    <tr>\n",
       "      <th>Number Of Patients In Hypercalcemia Summary</th>\n",
       "      <td>103</td>\n",
       "      <td>235</td>\n",
       "      <td>44</td>\n",
       "      <td>29</td>\n",
       "      <td>55</td>\n",
       "    </tr>\n",
       "    <tr>\n",
       "      <th>Number Of Patient-Months In Hypercalcemia Summary</th>\n",
       "      <td>906</td>\n",
       "      <td>2092</td>\n",
       "      <td>367</td>\n",
       "      <td>275</td>\n",
       "      <td>442</td>\n",
       "    </tr>\n",
       "    <tr>\n",
       "      <th>Percentage Of Adult Patients With Hypercalcemia (Serum Calcium Greater Than 10.2 mg/dL)</th>\n",
       "      <td>1</td>\n",
       "      <td>2</td>\n",
       "      <td>1</td>\n",
       "      <td>0</td>\n",
       "      <td>1</td>\n",
       "    </tr>\n",
       "    <tr>\n",
       "      <th>Number Of Patients In Serum Phosphorus Summary</th>\n",
       "      <td>111</td>\n",
       "      <td>235</td>\n",
       "      <td>46</td>\n",
       "      <td>30</td>\n",
       "      <td>55</td>\n",
       "    </tr>\n",
       "    <tr>\n",
       "      <th>Number Of Patient-Months In Serum Phosphorus Summary</th>\n",
       "      <td>963</td>\n",
       "      <td>2133</td>\n",
       "      <td>360</td>\n",
       "      <td>290</td>\n",
       "      <td>455</td>\n",
       "    </tr>\n",
       "    <tr>\n",
       "      <th>Serum Phosphorus Data Availability Code</th>\n",
       "      <td>NaN</td>\n",
       "      <td>NaN</td>\n",
       "      <td>NaN</td>\n",
       "      <td>NaN</td>\n",
       "      <td>NaN</td>\n",
       "    </tr>\n",
       "    <tr>\n",
       "      <th>Percentage Of Adult Patients With Serum Phosphorus Less Than 3.5 mg/dL</th>\n",
       "      <td>5</td>\n",
       "      <td>7</td>\n",
       "      <td>5</td>\n",
       "      <td>7</td>\n",
       "      <td>7</td>\n",
       "    </tr>\n",
       "    <tr>\n",
       "      <th>Percentage Of Adult Patients With Serum Phosphorus Between 3.5 - 4.5 mg/dL</th>\n",
       "      <td>18</td>\n",
       "      <td>23</td>\n",
       "      <td>31</td>\n",
       "      <td>29</td>\n",
       "      <td>25</td>\n",
       "    </tr>\n",
       "    <tr>\n",
       "      <th>Percentage Of Adult Patients With Serum Phosphorus Between 4.6 - 5.5 mg/dL</th>\n",
       "      <td>22</td>\n",
       "      <td>30</td>\n",
       "      <td>42</td>\n",
       "      <td>42</td>\n",
       "      <td>28</td>\n",
       "    </tr>\n",
       "    <tr>\n",
       "      <th>Percentage Of Adult Patients With Serum Phosphorus Between 5.6 - 7.0 mg/dL</th>\n",
       "      <td>30</td>\n",
       "      <td>19</td>\n",
       "      <td>18</td>\n",
       "      <td>15</td>\n",
       "      <td>28</td>\n",
       "    </tr>\n",
       "    <tr>\n",
       "      <th>Percentage Of Adult Patients With Serum Phosphorus Greater Than 7.0 mg/dL</th>\n",
       "      <td>25</td>\n",
       "      <td>21</td>\n",
       "      <td>4</td>\n",
       "      <td>8</td>\n",
       "      <td>12</td>\n",
       "    </tr>\n",
       "    <tr>\n",
       "      <th>SHR Date</th>\n",
       "      <td>01/01/2018 - 12/31/2018</td>\n",
       "      <td>01/01/2018 - 12/31/2018</td>\n",
       "      <td>01/01/2018 - 12/31/2018</td>\n",
       "      <td>01/01/2018 - 12/31/2018</td>\n",
       "      <td>01/01/2018 - 12/31/2018</td>\n",
       "    </tr>\n",
       "    <tr>\n",
       "      <th>SRR Date</th>\n",
       "      <td>01/01/2018 - 12/31/2018</td>\n",
       "      <td>01/01/2018 - 12/31/2018</td>\n",
       "      <td>01/01/2018 - 12/31/2018</td>\n",
       "      <td>01/01/2018 - 12/31/2018</td>\n",
       "      <td>01/01/2018 - 12/31/2018</td>\n",
       "    </tr>\n",
       "    <tr>\n",
       "      <th>SMR Date</th>\n",
       "      <td>01/01/2015 - 12/31/2018</td>\n",
       "      <td>01/01/2015 - 12/31/2018</td>\n",
       "      <td>01/01/2015 - 12/31/2018</td>\n",
       "      <td>01/01/2015 - 12/31/2018</td>\n",
       "      <td>01/01/2015 - 12/31/2018</td>\n",
       "    </tr>\n",
       "  </tbody>\n",
       "</table>\n",
       "</div>"
      ],
      "text/plain": [
       "                                                                                       0  \\\n",
       "Provider Number                                                                    42592   \n",
       "Network                                                                               13   \n",
       "Facility Name                                       DCI - LITTLE ROCK RENAL SERVICES LLC   \n",
       "Five Star Date                                                   01/01/2015 - 12/31/2018   \n",
       "Five Star                                                                              2   \n",
       "Five Star Data Availability Code                                                     NaN   \n",
       "Address Line 1                                                       1910 JOHN BARROW RD   \n",
       "Address Line 2                                                                       NaN   \n",
       "City                                                                         LITTLE ROCK   \n",
       "State                                                                                 AR   \n",
       "Zip                                                                                72204   \n",
       "County                                                                           PULASKI   \n",
       "Phone Number                                                              (501) 227-0983   \n",
       "Profit Or Non-Profit                                                          Non-Profit   \n",
       "Chain Owned                                                                          Yes   \n",
       "Chain Organization                                                 DIALYSIS CLINIC, INC.   \n",
       "Late Shift                                                                             0   \n",
       "Number Of Dialysis Stations                                                           18   \n",
       "Offers In-Center Hemodialysis                                                          1   \n",
       "Offers Peritoneal Dialysis                                                             1   \n",
       "Offers Home Hemodialysis Training                                                      1   \n",
       "Certification Or Recertification Date                                         10/20/2015   \n",
       "Claims Date                                                      07/01/2018 - 06/30/2019   \n",
       "CROWNWeb Date                                                    07/01/2018 - 06/30/2019   \n",
       "STrR Date                                                        01/01/2018 - 12/31/2018   \n",
       "Percentage Of Medicare Patients With Hgb < 10 g/dL                                    21   \n",
       "Hgb < 10 Data Availability Code                                                      NaN   \n",
       "Percentage Of Medicare Patients With Hgb > 12 g/dL                                     0   \n",
       "Hgb > 12 Data Availability Code                                                      NaN   \n",
       "Number Of Dialysis Patients With Hgb Data                                             48   \n",
       "Patient Transfusion Data Availability Code                                           NaN   \n",
       "Patient Transfusion Category Text                                            As Expected   \n",
       "Number Of Patients Included In The Transfusion ...                                    65   \n",
       "Percent Of Adult HD Patients With Kt/V >= 1.2                                         93   \n",
       "Adult HD Kt/V Data Availability Code                                                 NaN   \n",
       "Percentage Of Adult PD PTS With Kt/V >= 1.7                                           97   \n",
       "Adult PD Kt/V Data Availability Code                                                 NaN   \n",
       "Percentage Of Pediatric HD Patients With Kt/V >...                                   NaN   \n",
       "Pediatric HD Kt/V Data Availability Code                                             259   \n",
       "Number Of Adult HD Patients With Kt/V Data                                            83   \n",
       "Number Of Adult HD Patient-Months With Kt/V Data                                     691   \n",
       "Number Of Adult PD Patients With Kt/V Data                                            23   \n",
       "Number Of Adult PD Patient-Months With Kt/V Data                                     160   \n",
       "Number Of Pediatric HD Patients With Kt/V Data                                         0   \n",
       "Number Of Pediatric HD Patient-Months With Kt/V...                                   NaN   \n",
       "Hypercalcemia Data Availability Code                                                 NaN   \n",
       "Number Of Patients In Hypercalcemia Summary                                          103   \n",
       "Number Of Patient-Months In Hypercalcemia Summary                                    906   \n",
       "Percentage Of Adult Patients With Hypercalcemia...                                     1   \n",
       "Number Of Patients In Serum Phosphorus Summary                                       111   \n",
       "Number Of Patient-Months In Serum Phosphorus Su...                                   963   \n",
       "Serum Phosphorus Data Availability Code                                              NaN   \n",
       "Percentage Of Adult Patients With Serum Phospho...                                     5   \n",
       "Percentage Of Adult Patients With Serum Phospho...                                    18   \n",
       "Percentage Of Adult Patients With Serum Phospho...                                    22   \n",
       "Percentage Of Adult Patients With Serum Phospho...                                    30   \n",
       "Percentage Of Adult Patients With Serum Phospho...                                    25   \n",
       "SHR Date                                                         01/01/2018 - 12/31/2018   \n",
       "SRR Date                                                         01/01/2018 - 12/31/2018   \n",
       "SMR Date                                                         01/01/2015 - 12/31/2018   \n",
       "\n",
       "                                                                                 1  \\\n",
       "Provider Number                                                              52761   \n",
       "Network                                                                         18   \n",
       "Facility Name                                       DAVITA-PREMIER DIALYSIS CENTER   \n",
       "Five Star Date                                             01/01/2015 - 12/31/2018   \n",
       "Five Star                                                                        3   \n",
       "Five Star Data Availability Code                                               NaN   \n",
       "Address Line 1                                                7612 ATLANTIC AVENUE   \n",
       "Address Line 2                                                                 NaN   \n",
       "City                                                                        CUDAHY   \n",
       "State                                                                           CA   \n",
       "Zip                                                                          90201   \n",
       "County                                                                 LOS ANGELES   \n",
       "Phone Number                                                        (323) 562-5511   \n",
       "Profit Or Non-Profit                                                        Profit   \n",
       "Chain Owned                                                                    Yes   \n",
       "Chain Organization                                                          DAVITA   \n",
       "Late Shift                                                                       0   \n",
       "Number Of Dialysis Stations                                                     36   \n",
       "Offers In-Center Hemodialysis                                                    1   \n",
       "Offers Peritoneal Dialysis                                                       1   \n",
       "Offers Home Hemodialysis Training                                                0   \n",
       "Certification Or Recertification Date                                   04/11/1995   \n",
       "Claims Date                                                07/01/2018 - 06/30/2019   \n",
       "CROWNWeb Date                                              07/01/2018 - 06/30/2019   \n",
       "STrR Date                                                  01/01/2018 - 12/31/2018   \n",
       "Percentage Of Medicare Patients With Hgb < 10 g/dL                              18   \n",
       "Hgb < 10 Data Availability Code                                                NaN   \n",
       "Percentage Of Medicare Patients With Hgb > 12 g/dL                               0   \n",
       "Hgb > 12 Data Availability Code                                                NaN   \n",
       "Number Of Dialysis Patients With Hgb Data                                       79   \n",
       "Patient Transfusion Data Availability Code                                     NaN   \n",
       "Patient Transfusion Category Text                              Worse than Expected   \n",
       "Number Of Patients Included In The Transfusion ...                             147   \n",
       "Percent Of Adult HD Patients With Kt/V >= 1.2                                   99   \n",
       "Adult HD Kt/V Data Availability Code                                           NaN   \n",
       "Percentage Of Adult PD PTS With Kt/V >= 1.7                                    NaN   \n",
       "Adult PD Kt/V Data Availability Code                                           199   \n",
       "Percentage Of Pediatric HD Patients With Kt/V >...                             NaN   \n",
       "Pediatric HD Kt/V Data Availability Code                                       259   \n",
       "Number Of Adult HD Patients With Kt/V Data                                     226   \n",
       "Number Of Adult HD Patient-Months With Kt/V Data                              2004   \n",
       "Number Of Adult PD Patients With Kt/V Data                                       8   \n",
       "Number Of Adult PD Patient-Months With Kt/V Data                                61   \n",
       "Number Of Pediatric HD Patients With Kt/V Data                                   0   \n",
       "Number Of Pediatric HD Patient-Months With Kt/V...                             NaN   \n",
       "Hypercalcemia Data Availability Code                                           NaN   \n",
       "Number Of Patients In Hypercalcemia Summary                                    235   \n",
       "Number Of Patient-Months In Hypercalcemia Summary                             2092   \n",
       "Percentage Of Adult Patients With Hypercalcemia...                               2   \n",
       "Number Of Patients In Serum Phosphorus Summary                                 235   \n",
       "Number Of Patient-Months In Serum Phosphorus Su...                            2133   \n",
       "Serum Phosphorus Data Availability Code                                        NaN   \n",
       "Percentage Of Adult Patients With Serum Phospho...                               7   \n",
       "Percentage Of Adult Patients With Serum Phospho...                              23   \n",
       "Percentage Of Adult Patients With Serum Phospho...                              30   \n",
       "Percentage Of Adult Patients With Serum Phospho...                              19   \n",
       "Percentage Of Adult Patients With Serum Phospho...                              21   \n",
       "SHR Date                                                   01/01/2018 - 12/31/2018   \n",
       "SRR Date                                                   01/01/2018 - 12/31/2018   \n",
       "SMR Date                                                   01/01/2015 - 12/31/2018   \n",
       "\n",
       "                                                                                2  \\\n",
       "Provider Number                                                             72549   \n",
       "Network                                                                         1   \n",
       "Facility Name                                       WALLINGFORD DIALYSIS CARE LLC   \n",
       "Five Star Date                                            01/01/2015 - 12/31/2018   \n",
       "Five Star                                                                       5   \n",
       "Five Star Data Availability Code                                              NaN   \n",
       "Address Line 1                                              720 N MAIN STREET EXT   \n",
       "Address Line 2                                                            SUITE 3   \n",
       "City                                                                  WALLINGFORD   \n",
       "State                                                                          CT   \n",
       "Zip                                                                          6492   \n",
       "County                                                                  NEW HAVEN   \n",
       "Phone Number                                                       (203) 265-0667   \n",
       "Profit Or Non-Profit                                                       Profit   \n",
       "Chain Owned                                                                   Yes   \n",
       "Chain Organization                                      AMERICAN RENAL ASSOCIATES   \n",
       "Late Shift                                                                      0   \n",
       "Number Of Dialysis Stations                                                    13   \n",
       "Offers In-Center Hemodialysis                                                   1   \n",
       "Offers Peritoneal Dialysis                                                      1   \n",
       "Offers Home Hemodialysis Training                                               1   \n",
       "Certification Or Recertification Date                                  01/06/2016   \n",
       "Claims Date                                               07/01/2018 - 06/30/2019   \n",
       "CROWNWeb Date                                             07/01/2018 - 06/30/2019   \n",
       "STrR Date                                                 01/01/2018 - 12/31/2018   \n",
       "Percentage Of Medicare Patients With Hgb < 10 g/dL                             43   \n",
       "Hgb < 10 Data Availability Code                                               NaN   \n",
       "Percentage Of Medicare Patients With Hgb > 12 g/dL                              0   \n",
       "Hgb > 12 Data Availability Code                                               NaN   \n",
       "Number Of Dialysis Patients With Hgb Data                                      14   \n",
       "Patient Transfusion Data Availability Code                                    NaN   \n",
       "Patient Transfusion Category Text                                     As Expected   \n",
       "Number Of Patients Included In The Transfusion ...                             23   \n",
       "Percent Of Adult HD Patients With Kt/V >= 1.2                                  96   \n",
       "Adult HD Kt/V Data Availability Code                                          NaN   \n",
       "Percentage Of Adult PD PTS With Kt/V >= 1.7                                   NaN   \n",
       "Adult PD Kt/V Data Availability Code                                          199   \n",
       "Percentage Of Pediatric HD Patients With Kt/V >...                            NaN   \n",
       "Pediatric HD Kt/V Data Availability Code                                      259   \n",
       "Number Of Adult HD Patients With Kt/V Data                                     36   \n",
       "Number Of Adult HD Patient-Months With Kt/V Data                              305   \n",
       "Number Of Adult PD Patients With Kt/V Data                                      8   \n",
       "Number Of Adult PD Patient-Months With Kt/V Data                               62   \n",
       "Number Of Pediatric HD Patients With Kt/V Data                                  0   \n",
       "Number Of Pediatric HD Patient-Months With Kt/V...                            NaN   \n",
       "Hypercalcemia Data Availability Code                                          NaN   \n",
       "Number Of Patients In Hypercalcemia Summary                                    44   \n",
       "Number Of Patient-Months In Hypercalcemia Summary                             367   \n",
       "Percentage Of Adult Patients With Hypercalcemia...                              1   \n",
       "Number Of Patients In Serum Phosphorus Summary                                 46   \n",
       "Number Of Patient-Months In Serum Phosphorus Su...                            360   \n",
       "Serum Phosphorus Data Availability Code                                       NaN   \n",
       "Percentage Of Adult Patients With Serum Phospho...                              5   \n",
       "Percentage Of Adult Patients With Serum Phospho...                             31   \n",
       "Percentage Of Adult Patients With Serum Phospho...                             42   \n",
       "Percentage Of Adult Patients With Serum Phospho...                             18   \n",
       "Percentage Of Adult Patients With Serum Phospho...                              4   \n",
       "SHR Date                                                  01/01/2018 - 12/31/2018   \n",
       "SRR Date                                                  01/01/2018 - 12/31/2018   \n",
       "SMR Date                                                  01/01/2015 - 12/31/2018   \n",
       "\n",
       "                                                                                3  \\\n",
       "Provider Number                                                             82524   \n",
       "Network                                                                         4   \n",
       "Facility Name                                            DSI LAUREL DIALYSIS, LLC   \n",
       "Five Star Date                                            01/01/2015 - 12/31/2018   \n",
       "Five Star                                                                       4   \n",
       "Five Star Data Availability Code                                              NaN   \n",
       "Address Line 1                                      LAUREL SQUARE SHOPPING CENTER   \n",
       "Address Line 2                                      30214 SUSSEX HIGHWAY, UNIT #4   \n",
       "City                                                                       LAUREL   \n",
       "State                                                                          DE   \n",
       "Zip                                                                         19956   \n",
       "County                                                                     SUSSEX   \n",
       "Phone Number                                                       (302) 715-3060   \n",
       "Profit Or Non-Profit                                                       Profit   \n",
       "Chain Owned                                                                   Yes   \n",
       "Chain Organization                                            US RENAL CARE, INC.   \n",
       "Late Shift                                                                      0   \n",
       "Number Of Dialysis Stations                                                    16   \n",
       "Offers In-Center Hemodialysis                                                   1   \n",
       "Offers Peritoneal Dialysis                                                      0   \n",
       "Offers Home Hemodialysis Training                                               0   \n",
       "Certification Or Recertification Date                                  09/25/2015   \n",
       "Claims Date                                               07/01/2018 - 06/30/2019   \n",
       "CROWNWeb Date                                             07/01/2018 - 06/30/2019   \n",
       "STrR Date                                                 01/01/2018 - 12/31/2018   \n",
       "Percentage Of Medicare Patients With Hgb < 10 g/dL                             20   \n",
       "Hgb < 10 Data Availability Code                                               NaN   \n",
       "Percentage Of Medicare Patients With Hgb > 12 g/dL                              0   \n",
       "Hgb > 12 Data Availability Code                                               NaN   \n",
       "Number Of Dialysis Patients With Hgb Data                                      20   \n",
       "Patient Transfusion Data Availability Code                                    NaN   \n",
       "Patient Transfusion Category Text                                     As Expected   \n",
       "Number Of Patients Included In The Transfusion ...                             21   \n",
       "Percent Of Adult HD Patients With Kt/V >= 1.2                                  98   \n",
       "Adult HD Kt/V Data Availability Code                                          NaN   \n",
       "Percentage Of Adult PD PTS With Kt/V >= 1.7                                   NaN   \n",
       "Adult PD Kt/V Data Availability Code                                          257   \n",
       "Percentage Of Pediatric HD Patients With Kt/V >...                            NaN   \n",
       "Pediatric HD Kt/V Data Availability Code                                      259   \n",
       "Number Of Adult HD Patients With Kt/V Data                                     29   \n",
       "Number Of Adult HD Patient-Months With Kt/V Data                              275   \n",
       "Number Of Adult PD Patients With Kt/V Data                                      0   \n",
       "Number Of Adult PD Patient-Months With Kt/V Data                              NaN   \n",
       "Number Of Pediatric HD Patients With Kt/V Data                                  0   \n",
       "Number Of Pediatric HD Patient-Months With Kt/V...                            NaN   \n",
       "Hypercalcemia Data Availability Code                                          NaN   \n",
       "Number Of Patients In Hypercalcemia Summary                                    29   \n",
       "Number Of Patient-Months In Hypercalcemia Summary                             275   \n",
       "Percentage Of Adult Patients With Hypercalcemia...                              0   \n",
       "Number Of Patients In Serum Phosphorus Summary                                 30   \n",
       "Number Of Patient-Months In Serum Phosphorus Su...                            290   \n",
       "Serum Phosphorus Data Availability Code                                       NaN   \n",
       "Percentage Of Adult Patients With Serum Phospho...                              7   \n",
       "Percentage Of Adult Patients With Serum Phospho...                             29   \n",
       "Percentage Of Adult Patients With Serum Phospho...                             42   \n",
       "Percentage Of Adult Patients With Serum Phospho...                             15   \n",
       "Percentage Of Adult Patients With Serum Phospho...                              8   \n",
       "SHR Date                                                  01/01/2018 - 12/31/2018   \n",
       "SRR Date                                                  01/01/2018 - 12/31/2018   \n",
       "SMR Date                                                  01/01/2015 - 12/31/2018   \n",
       "\n",
       "                                                                                                4  \n",
       "Provider Number                                                                             82527  \n",
       "Network                                                                                         4  \n",
       "Facility Name                                       FRESENIUS MEDICAL CARE SOUTHERN DELAWARE, LLC  \n",
       "Five Star Date                                                            01/01/2015 - 12/31/2018  \n",
       "Five Star                                                                                       5  \n",
       "Five Star Data Availability Code                                                              NaN  \n",
       "Address Line 1                                                                 9115 ANTIQUE ALLEY  \n",
       "Address Line 2                                                                                NaN  \n",
       "City                                                                                  BRIDGEVILLE  \n",
       "State                                                                                          DE  \n",
       "Zip                                                                                         19933  \n",
       "County                                                                                     SUSSEX  \n",
       "Phone Number                                                                       (302) 337-8789  \n",
       "Profit Or Non-Profit                                                                       Profit  \n",
       "Chain Owned                                                                                   Yes  \n",
       "Chain Organization                                                         FRESENIUS MEDICAL CARE  \n",
       "Late Shift                                                                                      0  \n",
       "Number Of Dialysis Stations                                                                    11  \n",
       "Offers In-Center Hemodialysis                                                                   1  \n",
       "Offers Peritoneal Dialysis                                                                      1  \n",
       "Offers Home Hemodialysis Training                                                               1  \n",
       "Certification Or Recertification Date                                                  10/30/2017  \n",
       "Claims Date                                                               07/01/2018 - 06/30/2019  \n",
       "CROWNWeb Date                                                             07/01/2018 - 06/30/2019  \n",
       "STrR Date                                                                 01/01/2018 - 12/31/2018  \n",
       "Percentage Of Medicare Patients With Hgb < 10 g/dL                                             25  \n",
       "Hgb < 10 Data Availability Code                                                               NaN  \n",
       "Percentage Of Medicare Patients With Hgb > 12 g/dL                                              0  \n",
       "Hgb > 12 Data Availability Code                                                               NaN  \n",
       "Number Of Dialysis Patients With Hgb Data                                                      24  \n",
       "Patient Transfusion Data Availability Code                                                    NaN  \n",
       "Patient Transfusion Category Text                                                     As Expected  \n",
       "Number Of Patients Included In The Transfusion ...                                             30  \n",
       "Percent Of Adult HD Patients With Kt/V >= 1.2                                                  98  \n",
       "Adult HD Kt/V Data Availability Code                                                          NaN  \n",
       "Percentage Of Adult PD PTS With Kt/V >= 1.7                                                   NaN  \n",
       "Adult PD Kt/V Data Availability Code                                                          199  \n",
       "Percentage Of Pediatric HD Patients With Kt/V >...                                            NaN  \n",
       "Pediatric HD Kt/V Data Availability Code                                                      259  \n",
       "Number Of Adult HD Patients With Kt/V Data                                                     47  \n",
       "Number Of Adult HD Patient-Months With Kt/V Data                                              363  \n",
       "Number Of Adult PD Patients With Kt/V Data                                                      6  \n",
       "Number Of Adult PD Patient-Months With Kt/V Data                                               42  \n",
       "Number Of Pediatric HD Patients With Kt/V Data                                                  0  \n",
       "Number Of Pediatric HD Patient-Months With Kt/V...                                            NaN  \n",
       "Hypercalcemia Data Availability Code                                                          NaN  \n",
       "Number Of Patients In Hypercalcemia Summary                                                    55  \n",
       "Number Of Patient-Months In Hypercalcemia Summary                                             442  \n",
       "Percentage Of Adult Patients With Hypercalcemia...                                              1  \n",
       "Number Of Patients In Serum Phosphorus Summary                                                 55  \n",
       "Number Of Patient-Months In Serum Phosphorus Su...                                            455  \n",
       "Serum Phosphorus Data Availability Code                                                       NaN  \n",
       "Percentage Of Adult Patients With Serum Phospho...                                              7  \n",
       "Percentage Of Adult Patients With Serum Phospho...                                             25  \n",
       "Percentage Of Adult Patients With Serum Phospho...                                             28  \n",
       "Percentage Of Adult Patients With Serum Phospho...                                             28  \n",
       "Percentage Of Adult Patients With Serum Phospho...                                             12  \n",
       "SHR Date                                                                  01/01/2018 - 12/31/2018  \n",
       "SRR Date                                                                  01/01/2018 - 12/31/2018  \n",
       "SMR Date                                                                  01/01/2015 - 12/31/2018  "
      ]
     },
     "execution_count": 12,
     "metadata": {},
     "output_type": "execute_result"
    }
   ],
   "source": [
    "df.iloc[:, :60].head().T"
   ]
  },
  {
   "cell_type": "code",
   "execution_count": 13,
   "metadata": {
    "scrolled": true
   },
   "outputs": [
    {
     "data": {
      "text/html": [
       "<div>\n",
       "<style scoped>\n",
       "    .dataframe tbody tr th:only-of-type {\n",
       "        vertical-align: middle;\n",
       "    }\n",
       "\n",
       "    .dataframe tbody tr th {\n",
       "        vertical-align: top;\n",
       "    }\n",
       "\n",
       "    .dataframe thead th {\n",
       "        text-align: right;\n",
       "    }\n",
       "</style>\n",
       "<table border=\"1\" class=\"dataframe\">\n",
       "  <thead>\n",
       "    <tr style=\"text-align: right;\">\n",
       "      <th></th>\n",
       "      <th>7621</th>\n",
       "      <th>7622</th>\n",
       "      <th>7623</th>\n",
       "      <th>7624</th>\n",
       "      <th>7625</th>\n",
       "    </tr>\n",
       "  </thead>\n",
       "  <tbody>\n",
       "    <tr>\n",
       "      <th>Patient Hospitalization Category Text</th>\n",
       "      <td>Worse than Expected</td>\n",
       "      <td>As Expected</td>\n",
       "      <td>NaN</td>\n",
       "      <td>As Expected</td>\n",
       "      <td>As Expected</td>\n",
       "    </tr>\n",
       "    <tr>\n",
       "      <th>Patient Hospitalization Data Availability Code</th>\n",
       "      <td>NaN</td>\n",
       "      <td>NaN</td>\n",
       "      <td>258</td>\n",
       "      <td>NaN</td>\n",
       "      <td>NaN</td>\n",
       "    </tr>\n",
       "    <tr>\n",
       "      <th>Patient Hospital Readmission Category Text</th>\n",
       "      <td>As Expected</td>\n",
       "      <td>As Expected</td>\n",
       "      <td>NaN</td>\n",
       "      <td>As Expected</td>\n",
       "      <td>As Expected</td>\n",
       "    </tr>\n",
       "    <tr>\n",
       "      <th>Patient Hospital Readmission Data Availability Code</th>\n",
       "      <td>NaN</td>\n",
       "      <td>NaN</td>\n",
       "      <td>258</td>\n",
       "      <td>NaN</td>\n",
       "      <td>NaN</td>\n",
       "    </tr>\n",
       "    <tr>\n",
       "      <th>Patient Survival Category Text</th>\n",
       "      <td>As Expected</td>\n",
       "      <td>As Expected</td>\n",
       "      <td>NaN</td>\n",
       "      <td>As Expected</td>\n",
       "      <td>As Expected</td>\n",
       "    </tr>\n",
       "    <tr>\n",
       "      <th>Patient Survival Data Availability Code</th>\n",
       "      <td>NaN</td>\n",
       "      <td>NaN</td>\n",
       "      <td>258</td>\n",
       "      <td>NaN</td>\n",
       "      <td>NaN</td>\n",
       "    </tr>\n",
       "    <tr>\n",
       "      <th>Number Of Patients Included In Hospitalization Summary</th>\n",
       "      <td>64</td>\n",
       "      <td>62</td>\n",
       "      <td>NaN</td>\n",
       "      <td>55</td>\n",
       "      <td>101</td>\n",
       "    </tr>\n",
       "    <tr>\n",
       "      <th>Number Of Hospitalizations Included In Hospital Readmission Summary</th>\n",
       "      <td>121</td>\n",
       "      <td>110</td>\n",
       "      <td>NaN</td>\n",
       "      <td>59</td>\n",
       "      <td>123</td>\n",
       "    </tr>\n",
       "    <tr>\n",
       "      <th>Number Of Patients Included In Survival Summary</th>\n",
       "      <td>243</td>\n",
       "      <td>223</td>\n",
       "      <td>NaN</td>\n",
       "      <td>222</td>\n",
       "      <td>448</td>\n",
       "    </tr>\n",
       "    <tr>\n",
       "      <th>Mortality Rate (Facility)</th>\n",
       "      <td>29.4</td>\n",
       "      <td>16.1</td>\n",
       "      <td>NaN</td>\n",
       "      <td>18.4</td>\n",
       "      <td>23.5</td>\n",
       "    </tr>\n",
       "    <tr>\n",
       "      <th>Mortality Rate: Upper Confidence Limit (97.5%)</th>\n",
       "      <td>38.5</td>\n",
       "      <td>24.9</td>\n",
       "      <td>NaN</td>\n",
       "      <td>27</td>\n",
       "      <td>29.6</td>\n",
       "    </tr>\n",
       "    <tr>\n",
       "      <th>Mortality Rate: Lower Confidence Limit (2.5%)</th>\n",
       "      <td>21.9</td>\n",
       "      <td>9.9</td>\n",
       "      <td>NaN</td>\n",
       "      <td>12</td>\n",
       "      <td>18.4</td>\n",
       "    </tr>\n",
       "    <tr>\n",
       "      <th>Readmission Rate (Facility)</th>\n",
       "      <td>28.2</td>\n",
       "      <td>34</td>\n",
       "      <td>NaN</td>\n",
       "      <td>28.3</td>\n",
       "      <td>19.7</td>\n",
       "    </tr>\n",
       "    <tr>\n",
       "      <th>Readmission Rate: Upper Confidence Limit (97.5%)</th>\n",
       "      <td>38.9</td>\n",
       "      <td>45.2</td>\n",
       "      <td>NaN</td>\n",
       "      <td>43.8</td>\n",
       "      <td>29.7</td>\n",
       "    </tr>\n",
       "    <tr>\n",
       "      <th>Readmission Rate: Lower Confidence Limit (2.5%)</th>\n",
       "      <td>18.6</td>\n",
       "      <td>23.9</td>\n",
       "      <td>NaN</td>\n",
       "      <td>15.8</td>\n",
       "      <td>11.8</td>\n",
       "    </tr>\n",
       "    <tr>\n",
       "      <th>Hospitalization Rate (Facility)</th>\n",
       "      <td>278.3</td>\n",
       "      <td>246.5</td>\n",
       "      <td>NaN</td>\n",
       "      <td>198.7</td>\n",
       "      <td>187.2</td>\n",
       "    </tr>\n",
       "    <tr>\n",
       "      <th>Hospitalization Rate: Upper Confidence Limit (97.5%)</th>\n",
       "      <td>397.9</td>\n",
       "      <td>361.7</td>\n",
       "      <td>NaN</td>\n",
       "      <td>319.8</td>\n",
       "      <td>290.1</td>\n",
       "    </tr>\n",
       "    <tr>\n",
       "      <th>Hospitalization Rate: Lower Confidence Limit (2.5%)</th>\n",
       "      <td>198.9</td>\n",
       "      <td>171.3</td>\n",
       "      <td>NaN</td>\n",
       "      <td>127.1</td>\n",
       "      <td>128.1</td>\n",
       "    </tr>\n",
       "    <tr>\n",
       "      <th>Number Of Pediatric PD Patients With Kt/V Data</th>\n",
       "      <td>0</td>\n",
       "      <td>0</td>\n",
       "      <td>NaN</td>\n",
       "      <td>0</td>\n",
       "      <td>0</td>\n",
       "    </tr>\n",
       "    <tr>\n",
       "      <th>Pediatric PD Kt/V Data Availability Code</th>\n",
       "      <td>259</td>\n",
       "      <td>259</td>\n",
       "      <td>258</td>\n",
       "      <td>259</td>\n",
       "      <td>259</td>\n",
       "    </tr>\n",
       "    <tr>\n",
       "      <th>Number Of Pediatric PD Patient-Months With Kt/V Data</th>\n",
       "      <td>NaN</td>\n",
       "      <td>NaN</td>\n",
       "      <td>NaN</td>\n",
       "      <td>NaN</td>\n",
       "      <td>NaN</td>\n",
       "    </tr>\n",
       "    <tr>\n",
       "      <th>Percentage Of Pediatric PD Patients With Kt/V &gt;= 1.8</th>\n",
       "      <td>NaN</td>\n",
       "      <td>NaN</td>\n",
       "      <td>NaN</td>\n",
       "      <td>NaN</td>\n",
       "      <td>NaN</td>\n",
       "    </tr>\n",
       "    <tr>\n",
       "      <th>SIR Date</th>\n",
       "      <td>01/01/2018 - 12/31/2018</td>\n",
       "      <td>01/01/2018 - 12/31/2018</td>\n",
       "      <td>01/01/2018 - 12/31/2018</td>\n",
       "      <td>01/01/2018 - 12/31/2018</td>\n",
       "      <td>01/01/2018 - 12/31/2018</td>\n",
       "    </tr>\n",
       "    <tr>\n",
       "      <th>Patient Infection Data Availability Code</th>\n",
       "      <td>NaN</td>\n",
       "      <td>NaN</td>\n",
       "      <td>258</td>\n",
       "      <td>NaN</td>\n",
       "      <td>NaN</td>\n",
       "    </tr>\n",
       "    <tr>\n",
       "      <th>Patient Infection Category Text</th>\n",
       "      <td>As Expected</td>\n",
       "      <td>As Expected</td>\n",
       "      <td>NaN</td>\n",
       "      <td>As Expected</td>\n",
       "      <td>As Expected</td>\n",
       "    </tr>\n",
       "    <tr>\n",
       "      <th>Standard Infection Ratio</th>\n",
       "      <td>1.23</td>\n",
       "      <td>1</td>\n",
       "      <td>NaN</td>\n",
       "      <td>0.94</td>\n",
       "      <td>0.58</td>\n",
       "    </tr>\n",
       "    <tr>\n",
       "      <th>SIR: Upper Confidence Limit (97.5%)</th>\n",
       "      <td>2.56</td>\n",
       "      <td>2.21</td>\n",
       "      <td>NaN</td>\n",
       "      <td>2.56</td>\n",
       "      <td>1.39</td>\n",
       "    </tr>\n",
       "    <tr>\n",
       "      <th>SIR: Lower Confidence Limit (2.5%)</th>\n",
       "      <td>0.5</td>\n",
       "      <td>0.37</td>\n",
       "      <td>NaN</td>\n",
       "      <td>0.24</td>\n",
       "      <td>0.18</td>\n",
       "    </tr>\n",
       "    <tr>\n",
       "      <th>Transfusion Rate (Facility)</th>\n",
       "      <td>43.9</td>\n",
       "      <td>27.1</td>\n",
       "      <td>NaN</td>\n",
       "      <td>10</td>\n",
       "      <td>11.6</td>\n",
       "    </tr>\n",
       "    <tr>\n",
       "      <th>Transfusion Rate: Upper Confidence Limit (97.5%)</th>\n",
       "      <td>121.6</td>\n",
       "      <td>92</td>\n",
       "      <td>NaN</td>\n",
       "      <td>83</td>\n",
       "      <td>51.9</td>\n",
       "    </tr>\n",
       "    <tr>\n",
       "      <th>Transfusion Rate: Lower Confidence Limit (2.5%)</th>\n",
       "      <td>18.5</td>\n",
       "      <td>9.6</td>\n",
       "      <td>NaN</td>\n",
       "      <td>1.7</td>\n",
       "      <td>3.3</td>\n",
       "    </tr>\n",
       "    <tr>\n",
       "      <th>Fistula Data Availability Code</th>\n",
       "      <td>NaN</td>\n",
       "      <td>NaN</td>\n",
       "      <td>258</td>\n",
       "      <td>NaN</td>\n",
       "      <td>NaN</td>\n",
       "    </tr>\n",
       "    <tr>\n",
       "      <th>Fistula Category Text</th>\n",
       "      <td>As Expected</td>\n",
       "      <td>As Expected</td>\n",
       "      <td>NaN</td>\n",
       "      <td>As Expected</td>\n",
       "      <td>As Expected</td>\n",
       "    </tr>\n",
       "    <tr>\n",
       "      <th>Number Of Patients Included In Fistula Summary</th>\n",
       "      <td>105</td>\n",
       "      <td>99</td>\n",
       "      <td>NaN</td>\n",
       "      <td>61</td>\n",
       "      <td>124</td>\n",
       "    </tr>\n",
       "    <tr>\n",
       "      <th>Fistula Rate (Facility)</th>\n",
       "      <td>72.8</td>\n",
       "      <td>57.5</td>\n",
       "      <td>NaN</td>\n",
       "      <td>49.5</td>\n",
       "      <td>61.5</td>\n",
       "    </tr>\n",
       "    <tr>\n",
       "      <th>Fistula Rate: Upper Confidence Limit (97.5%)</th>\n",
       "      <td>89.1</td>\n",
       "      <td>75.5</td>\n",
       "      <td>NaN</td>\n",
       "      <td>74.8</td>\n",
       "      <td>77.4</td>\n",
       "    </tr>\n",
       "    <tr>\n",
       "      <th>Fistula Rate: Lower Confidence Limit (2.5%)</th>\n",
       "      <td>55.4</td>\n",
       "      <td>38.2</td>\n",
       "      <td>NaN</td>\n",
       "      <td>22.3</td>\n",
       "      <td>44.4</td>\n",
       "    </tr>\n",
       "    <tr>\n",
       "      <th>Number Of Patients In Long Term Catheter Summary</th>\n",
       "      <td>105</td>\n",
       "      <td>99</td>\n",
       "      <td>NaN</td>\n",
       "      <td>61</td>\n",
       "      <td>124</td>\n",
       "    </tr>\n",
       "    <tr>\n",
       "      <th>Number Of Patient-Months In Long Term Catheter Summary</th>\n",
       "      <td>868</td>\n",
       "      <td>844</td>\n",
       "      <td>NaN</td>\n",
       "      <td>435</td>\n",
       "      <td>1058</td>\n",
       "    </tr>\n",
       "    <tr>\n",
       "      <th>Long Term Catheter Data Availability Code</th>\n",
       "      <td>NaN</td>\n",
       "      <td>NaN</td>\n",
       "      <td>258</td>\n",
       "      <td>NaN</td>\n",
       "      <td>NaN</td>\n",
       "    </tr>\n",
       "    <tr>\n",
       "      <th>Percentage Of Adult Patients With Long Term Catheter In Use</th>\n",
       "      <td>5</td>\n",
       "      <td>12</td>\n",
       "      <td>NaN</td>\n",
       "      <td>8</td>\n",
       "      <td>16</td>\n",
       "    </tr>\n",
       "    <tr>\n",
       "      <th>Number Of Patients In nPCR Summary</th>\n",
       "      <td>0</td>\n",
       "      <td>0</td>\n",
       "      <td>NaN</td>\n",
       "      <td>0</td>\n",
       "      <td>0</td>\n",
       "    </tr>\n",
       "    <tr>\n",
       "      <th>Number Of Patient-Months In nPCR Summary</th>\n",
       "      <td>NaN</td>\n",
       "      <td>NaN</td>\n",
       "      <td>NaN</td>\n",
       "      <td>NaN</td>\n",
       "      <td>NaN</td>\n",
       "    </tr>\n",
       "    <tr>\n",
       "      <th>nPCR Data Availability Code</th>\n",
       "      <td>259</td>\n",
       "      <td>259</td>\n",
       "      <td>258</td>\n",
       "      <td>259</td>\n",
       "      <td>259</td>\n",
       "    </tr>\n",
       "    <tr>\n",
       "      <th>Percentage Of Pediatric HD Patients With nPCR</th>\n",
       "      <td>NaN</td>\n",
       "      <td>NaN</td>\n",
       "      <td>NaN</td>\n",
       "      <td>NaN</td>\n",
       "      <td>NaN</td>\n",
       "    </tr>\n",
       "    <tr>\n",
       "      <th>SWR Date</th>\n",
       "      <td>01/01/2015 - 12/31/2017</td>\n",
       "      <td>01/01/2015 - 12/31/2017</td>\n",
       "      <td>01/01/2015 - 12/31/2017</td>\n",
       "      <td>01/01/2015 - 12/31/2017</td>\n",
       "      <td>01/01/2015 - 12/31/2017</td>\n",
       "    </tr>\n",
       "    <tr>\n",
       "      <th>SWR Category Text</th>\n",
       "      <td>As Expected</td>\n",
       "      <td>As Expected</td>\n",
       "      <td>NaN</td>\n",
       "      <td>NaN</td>\n",
       "      <td>As Expected</td>\n",
       "    </tr>\n",
       "    <tr>\n",
       "      <th>Patient Transplant Waitlist Data Availability Code</th>\n",
       "      <td>NaN</td>\n",
       "      <td>NaN</td>\n",
       "      <td>258</td>\n",
       "      <td>199</td>\n",
       "      <td>NaN</td>\n",
       "    </tr>\n",
       "    <tr>\n",
       "      <th>95% C.I. (Upper Limit) For SWR</th>\n",
       "      <td>1.39</td>\n",
       "      <td>1.37</td>\n",
       "      <td>NaN</td>\n",
       "      <td>NaN</td>\n",
       "      <td>2.97</td>\n",
       "    </tr>\n",
       "    <tr>\n",
       "      <th>95% C.I. (Lower Limit) For SWR</th>\n",
       "      <td>0.01</td>\n",
       "      <td>0.05</td>\n",
       "      <td>NaN</td>\n",
       "      <td>NaN</td>\n",
       "      <td>0.41</td>\n",
       "    </tr>\n",
       "    <tr>\n",
       "      <th>Number Of Patients In This Facility For SWR</th>\n",
       "      <td>39</td>\n",
       "      <td>52</td>\n",
       "      <td>NaN</td>\n",
       "      <td>22</td>\n",
       "      <td>41</td>\n",
       "    </tr>\n",
       "    <tr>\n",
       "      <th>Standardized First Kidney Transplant Waitlist Ratio</th>\n",
       "      <td>0.25</td>\n",
       "      <td>0.38</td>\n",
       "      <td>NaN</td>\n",
       "      <td>NaN</td>\n",
       "      <td>1.27</td>\n",
       "    </tr>\n",
       "    <tr>\n",
       "      <th>PPPW Category Text</th>\n",
       "      <td>As Expected</td>\n",
       "      <td>As Expected</td>\n",
       "      <td>NaN</td>\n",
       "      <td>As Expected</td>\n",
       "      <td>As Expected</td>\n",
       "    </tr>\n",
       "    <tr>\n",
       "      <th>Patient Prevalent Transplant Waitlist Data Availability Code</th>\n",
       "      <td>NaN</td>\n",
       "      <td>NaN</td>\n",
       "      <td>258</td>\n",
       "      <td>NaN</td>\n",
       "      <td>NaN</td>\n",
       "    </tr>\n",
       "    <tr>\n",
       "      <th>95% C.I. (Upper Limit) For PPPW</th>\n",
       "      <td>33.1</td>\n",
       "      <td>32.6</td>\n",
       "      <td>NaN</td>\n",
       "      <td>35.4</td>\n",
       "      <td>36.9</td>\n",
       "    </tr>\n",
       "    <tr>\n",
       "      <th>95% C.I. (Lower Limit) For PPPW</th>\n",
       "      <td>2.1</td>\n",
       "      <td>5.2</td>\n",
       "      <td>NaN</td>\n",
       "      <td>1.9</td>\n",
       "      <td>7.1</td>\n",
       "    </tr>\n",
       "    <tr>\n",
       "      <th>Number Of Patients For PPPW</th>\n",
       "      <td>76</td>\n",
       "      <td>82</td>\n",
       "      <td>NaN</td>\n",
       "      <td>56</td>\n",
       "      <td>92</td>\n",
       "    </tr>\n",
       "    <tr>\n",
       "      <th>Percentage Of Prevalent Patients Waitlisted</th>\n",
       "      <td>9.5</td>\n",
       "      <td>14</td>\n",
       "      <td>NaN</td>\n",
       "      <td>9.2</td>\n",
       "      <td>17.4</td>\n",
       "    </tr>\n",
       "    <tr>\n",
       "      <th>Location</th>\n",
       "      <td>POINT (-82.398053 36.307557)</td>\n",
       "      <td>POINT (-87.982914 43.093799)</td>\n",
       "      <td>POINT (-117.885172 33.731441)</td>\n",
       "      <td>POINT (-81.815351 27.536488)</td>\n",
       "      <td>POINT (-88.038798 43.12228)</td>\n",
       "    </tr>\n",
       "  </tbody>\n",
       "</table>\n",
       "</div>"
      ],
      "text/plain": [
       "                                                                            7621  \\\n",
       "Patient Hospitalization Category Text                        Worse than Expected   \n",
       "Patient Hospitalization Data Availability Code                               NaN   \n",
       "Patient Hospital Readmission Category Text                           As Expected   \n",
       "Patient Hospital Readmission Data Availability ...                           NaN   \n",
       "Patient Survival Category Text                                       As Expected   \n",
       "Patient Survival Data Availability Code                                      NaN   \n",
       "Number Of Patients Included In Hospitalization ...                            64   \n",
       "Number Of Hospitalizations Included In Hospital...                           121   \n",
       "Number Of Patients Included In Survival Summary                              243   \n",
       "Mortality Rate (Facility)                                                   29.4   \n",
       "Mortality Rate: Upper Confidence Limit (97.5%)                              38.5   \n",
       "Mortality Rate: Lower Confidence Limit (2.5%)                               21.9   \n",
       "Readmission Rate (Facility)                                                 28.2   \n",
       "Readmission Rate: Upper Confidence Limit (97.5%)                            38.9   \n",
       "Readmission Rate: Lower Confidence Limit (2.5%)                             18.6   \n",
       "Hospitalization Rate (Facility)                                            278.3   \n",
       "Hospitalization Rate: Upper Confidence Limit (9...                         397.9   \n",
       "Hospitalization Rate: Lower Confidence Limit (2...                         198.9   \n",
       "Number Of Pediatric PD Patients With Kt/V Data                                 0   \n",
       "Pediatric PD Kt/V Data Availability Code                                     259   \n",
       "Number Of Pediatric PD Patient-Months With Kt/V...                           NaN   \n",
       "Percentage Of Pediatric PD Patients With Kt/V >...                           NaN   \n",
       "SIR Date                                                 01/01/2018 - 12/31/2018   \n",
       "Patient Infection Data Availability Code                                     NaN   \n",
       "Patient Infection Category Text                                      As Expected   \n",
       "Standard Infection Ratio                                                    1.23   \n",
       "SIR: Upper Confidence Limit (97.5%)                                         2.56   \n",
       "SIR: Lower Confidence Limit (2.5%)                                           0.5   \n",
       "Transfusion Rate (Facility)                                                 43.9   \n",
       "Transfusion Rate: Upper Confidence Limit (97.5%)                           121.6   \n",
       "Transfusion Rate: Lower Confidence Limit (2.5%)                             18.5   \n",
       "Fistula Data Availability Code                                               NaN   \n",
       "Fistula Category Text                                                As Expected   \n",
       "Number Of Patients Included In Fistula Summary                               105   \n",
       "Fistula Rate (Facility)                                                     72.8   \n",
       "Fistula Rate: Upper Confidence Limit (97.5%)                                89.1   \n",
       "Fistula Rate: Lower Confidence Limit (2.5%)                                 55.4   \n",
       "Number Of Patients In Long Term Catheter Summary                             105   \n",
       "Number Of Patient-Months In Long Term Catheter ...                           868   \n",
       "Long Term Catheter Data Availability Code                                    NaN   \n",
       "Percentage Of Adult Patients With Long Term Cat...                             5   \n",
       "Number Of Patients In nPCR Summary                                             0   \n",
       "Number Of Patient-Months In nPCR Summary                                     NaN   \n",
       "nPCR Data Availability Code                                                  259   \n",
       "Percentage Of Pediatric HD Patients With nPCR                                NaN   \n",
       "SWR Date                                                 01/01/2015 - 12/31/2017   \n",
       "SWR Category Text                                                    As Expected   \n",
       "Patient Transplant Waitlist Data Availability Code                           NaN   \n",
       "95% C.I. (Upper Limit) For SWR                                              1.39   \n",
       "95% C.I. (Lower Limit) For SWR                                              0.01   \n",
       "Number Of Patients In This Facility For SWR                                   39   \n",
       "Standardized First Kidney Transplant Waitlist R...                          0.25   \n",
       "PPPW Category Text                                                   As Expected   \n",
       "Patient Prevalent Transplant Waitlist Data Avai...                           NaN   \n",
       "95% C.I. (Upper Limit) For PPPW                                             33.1   \n",
       "95% C.I. (Lower Limit) For PPPW                                              2.1   \n",
       "Number Of Patients For PPPW                                                   76   \n",
       "Percentage Of Prevalent Patients Waitlisted                                  9.5   \n",
       "Location                                            POINT (-82.398053 36.307557)   \n",
       "\n",
       "                                                                            7622  \\\n",
       "Patient Hospitalization Category Text                                As Expected   \n",
       "Patient Hospitalization Data Availability Code                               NaN   \n",
       "Patient Hospital Readmission Category Text                           As Expected   \n",
       "Patient Hospital Readmission Data Availability ...                           NaN   \n",
       "Patient Survival Category Text                                       As Expected   \n",
       "Patient Survival Data Availability Code                                      NaN   \n",
       "Number Of Patients Included In Hospitalization ...                            62   \n",
       "Number Of Hospitalizations Included In Hospital...                           110   \n",
       "Number Of Patients Included In Survival Summary                              223   \n",
       "Mortality Rate (Facility)                                                   16.1   \n",
       "Mortality Rate: Upper Confidence Limit (97.5%)                              24.9   \n",
       "Mortality Rate: Lower Confidence Limit (2.5%)                                9.9   \n",
       "Readmission Rate (Facility)                                                   34   \n",
       "Readmission Rate: Upper Confidence Limit (97.5%)                            45.2   \n",
       "Readmission Rate: Lower Confidence Limit (2.5%)                             23.9   \n",
       "Hospitalization Rate (Facility)                                            246.5   \n",
       "Hospitalization Rate: Upper Confidence Limit (9...                         361.7   \n",
       "Hospitalization Rate: Lower Confidence Limit (2...                         171.3   \n",
       "Number Of Pediatric PD Patients With Kt/V Data                                 0   \n",
       "Pediatric PD Kt/V Data Availability Code                                     259   \n",
       "Number Of Pediatric PD Patient-Months With Kt/V...                           NaN   \n",
       "Percentage Of Pediatric PD Patients With Kt/V >...                           NaN   \n",
       "SIR Date                                                 01/01/2018 - 12/31/2018   \n",
       "Patient Infection Data Availability Code                                     NaN   \n",
       "Patient Infection Category Text                                      As Expected   \n",
       "Standard Infection Ratio                                                       1   \n",
       "SIR: Upper Confidence Limit (97.5%)                                         2.21   \n",
       "SIR: Lower Confidence Limit (2.5%)                                          0.37   \n",
       "Transfusion Rate (Facility)                                                 27.1   \n",
       "Transfusion Rate: Upper Confidence Limit (97.5%)                              92   \n",
       "Transfusion Rate: Lower Confidence Limit (2.5%)                              9.6   \n",
       "Fistula Data Availability Code                                               NaN   \n",
       "Fistula Category Text                                                As Expected   \n",
       "Number Of Patients Included In Fistula Summary                                99   \n",
       "Fistula Rate (Facility)                                                     57.5   \n",
       "Fistula Rate: Upper Confidence Limit (97.5%)                                75.5   \n",
       "Fistula Rate: Lower Confidence Limit (2.5%)                                 38.2   \n",
       "Number Of Patients In Long Term Catheter Summary                              99   \n",
       "Number Of Patient-Months In Long Term Catheter ...                           844   \n",
       "Long Term Catheter Data Availability Code                                    NaN   \n",
       "Percentage Of Adult Patients With Long Term Cat...                            12   \n",
       "Number Of Patients In nPCR Summary                                             0   \n",
       "Number Of Patient-Months In nPCR Summary                                     NaN   \n",
       "nPCR Data Availability Code                                                  259   \n",
       "Percentage Of Pediatric HD Patients With nPCR                                NaN   \n",
       "SWR Date                                                 01/01/2015 - 12/31/2017   \n",
       "SWR Category Text                                                    As Expected   \n",
       "Patient Transplant Waitlist Data Availability Code                           NaN   \n",
       "95% C.I. (Upper Limit) For SWR                                              1.37   \n",
       "95% C.I. (Lower Limit) For SWR                                              0.05   \n",
       "Number Of Patients In This Facility For SWR                                   52   \n",
       "Standardized First Kidney Transplant Waitlist R...                          0.38   \n",
       "PPPW Category Text                                                   As Expected   \n",
       "Patient Prevalent Transplant Waitlist Data Avai...                           NaN   \n",
       "95% C.I. (Upper Limit) For PPPW                                             32.6   \n",
       "95% C.I. (Lower Limit) For PPPW                                              5.2   \n",
       "Number Of Patients For PPPW                                                   82   \n",
       "Percentage Of Prevalent Patients Waitlisted                                   14   \n",
       "Location                                            POINT (-87.982914 43.093799)   \n",
       "\n",
       "                                                                             7623  \\\n",
       "Patient Hospitalization Category Text                                         NaN   \n",
       "Patient Hospitalization Data Availability Code                                258   \n",
       "Patient Hospital Readmission Category Text                                    NaN   \n",
       "Patient Hospital Readmission Data Availability ...                            258   \n",
       "Patient Survival Category Text                                                NaN   \n",
       "Patient Survival Data Availability Code                                       258   \n",
       "Number Of Patients Included In Hospitalization ...                            NaN   \n",
       "Number Of Hospitalizations Included In Hospital...                            NaN   \n",
       "Number Of Patients Included In Survival Summary                               NaN   \n",
       "Mortality Rate (Facility)                                                     NaN   \n",
       "Mortality Rate: Upper Confidence Limit (97.5%)                                NaN   \n",
       "Mortality Rate: Lower Confidence Limit (2.5%)                                 NaN   \n",
       "Readmission Rate (Facility)                                                   NaN   \n",
       "Readmission Rate: Upper Confidence Limit (97.5%)                              NaN   \n",
       "Readmission Rate: Lower Confidence Limit (2.5%)                               NaN   \n",
       "Hospitalization Rate (Facility)                                               NaN   \n",
       "Hospitalization Rate: Upper Confidence Limit (9...                            NaN   \n",
       "Hospitalization Rate: Lower Confidence Limit (2...                            NaN   \n",
       "Number Of Pediatric PD Patients With Kt/V Data                                NaN   \n",
       "Pediatric PD Kt/V Data Availability Code                                      258   \n",
       "Number Of Pediatric PD Patient-Months With Kt/V...                            NaN   \n",
       "Percentage Of Pediatric PD Patients With Kt/V >...                            NaN   \n",
       "SIR Date                                                  01/01/2018 - 12/31/2018   \n",
       "Patient Infection Data Availability Code                                      258   \n",
       "Patient Infection Category Text                                               NaN   \n",
       "Standard Infection Ratio                                                      NaN   \n",
       "SIR: Upper Confidence Limit (97.5%)                                           NaN   \n",
       "SIR: Lower Confidence Limit (2.5%)                                            NaN   \n",
       "Transfusion Rate (Facility)                                                   NaN   \n",
       "Transfusion Rate: Upper Confidence Limit (97.5%)                              NaN   \n",
       "Transfusion Rate: Lower Confidence Limit (2.5%)                               NaN   \n",
       "Fistula Data Availability Code                                                258   \n",
       "Fistula Category Text                                                         NaN   \n",
       "Number Of Patients Included In Fistula Summary                                NaN   \n",
       "Fistula Rate (Facility)                                                       NaN   \n",
       "Fistula Rate: Upper Confidence Limit (97.5%)                                  NaN   \n",
       "Fistula Rate: Lower Confidence Limit (2.5%)                                   NaN   \n",
       "Number Of Patients In Long Term Catheter Summary                              NaN   \n",
       "Number Of Patient-Months In Long Term Catheter ...                            NaN   \n",
       "Long Term Catheter Data Availability Code                                     258   \n",
       "Percentage Of Adult Patients With Long Term Cat...                            NaN   \n",
       "Number Of Patients In nPCR Summary                                            NaN   \n",
       "Number Of Patient-Months In nPCR Summary                                      NaN   \n",
       "nPCR Data Availability Code                                                   258   \n",
       "Percentage Of Pediatric HD Patients With nPCR                                 NaN   \n",
       "SWR Date                                                  01/01/2015 - 12/31/2017   \n",
       "SWR Category Text                                                             NaN   \n",
       "Patient Transplant Waitlist Data Availability Code                            258   \n",
       "95% C.I. (Upper Limit) For SWR                                                NaN   \n",
       "95% C.I. (Lower Limit) For SWR                                                NaN   \n",
       "Number Of Patients In This Facility For SWR                                   NaN   \n",
       "Standardized First Kidney Transplant Waitlist R...                            NaN   \n",
       "PPPW Category Text                                                            NaN   \n",
       "Patient Prevalent Transplant Waitlist Data Avai...                            258   \n",
       "95% C.I. (Upper Limit) For PPPW                                               NaN   \n",
       "95% C.I. (Lower Limit) For PPPW                                               NaN   \n",
       "Number Of Patients For PPPW                                                   NaN   \n",
       "Percentage Of Prevalent Patients Waitlisted                                   NaN   \n",
       "Location                                            POINT (-117.885172 33.731441)   \n",
       "\n",
       "                                                                            7624  \\\n",
       "Patient Hospitalization Category Text                                As Expected   \n",
       "Patient Hospitalization Data Availability Code                               NaN   \n",
       "Patient Hospital Readmission Category Text                           As Expected   \n",
       "Patient Hospital Readmission Data Availability ...                           NaN   \n",
       "Patient Survival Category Text                                       As Expected   \n",
       "Patient Survival Data Availability Code                                      NaN   \n",
       "Number Of Patients Included In Hospitalization ...                            55   \n",
       "Number Of Hospitalizations Included In Hospital...                            59   \n",
       "Number Of Patients Included In Survival Summary                              222   \n",
       "Mortality Rate (Facility)                                                   18.4   \n",
       "Mortality Rate: Upper Confidence Limit (97.5%)                                27   \n",
       "Mortality Rate: Lower Confidence Limit (2.5%)                                 12   \n",
       "Readmission Rate (Facility)                                                 28.3   \n",
       "Readmission Rate: Upper Confidence Limit (97.5%)                            43.8   \n",
       "Readmission Rate: Lower Confidence Limit (2.5%)                             15.8   \n",
       "Hospitalization Rate (Facility)                                            198.7   \n",
       "Hospitalization Rate: Upper Confidence Limit (9...                         319.8   \n",
       "Hospitalization Rate: Lower Confidence Limit (2...                         127.1   \n",
       "Number Of Pediatric PD Patients With Kt/V Data                                 0   \n",
       "Pediatric PD Kt/V Data Availability Code                                     259   \n",
       "Number Of Pediatric PD Patient-Months With Kt/V...                           NaN   \n",
       "Percentage Of Pediatric PD Patients With Kt/V >...                           NaN   \n",
       "SIR Date                                                 01/01/2018 - 12/31/2018   \n",
       "Patient Infection Data Availability Code                                     NaN   \n",
       "Patient Infection Category Text                                      As Expected   \n",
       "Standard Infection Ratio                                                    0.94   \n",
       "SIR: Upper Confidence Limit (97.5%)                                         2.56   \n",
       "SIR: Lower Confidence Limit (2.5%)                                          0.24   \n",
       "Transfusion Rate (Facility)                                                   10   \n",
       "Transfusion Rate: Upper Confidence Limit (97.5%)                              83   \n",
       "Transfusion Rate: Lower Confidence Limit (2.5%)                              1.7   \n",
       "Fistula Data Availability Code                                               NaN   \n",
       "Fistula Category Text                                                As Expected   \n",
       "Number Of Patients Included In Fistula Summary                                61   \n",
       "Fistula Rate (Facility)                                                     49.5   \n",
       "Fistula Rate: Upper Confidence Limit (97.5%)                                74.8   \n",
       "Fistula Rate: Lower Confidence Limit (2.5%)                                 22.3   \n",
       "Number Of Patients In Long Term Catheter Summary                              61   \n",
       "Number Of Patient-Months In Long Term Catheter ...                           435   \n",
       "Long Term Catheter Data Availability Code                                    NaN   \n",
       "Percentage Of Adult Patients With Long Term Cat...                             8   \n",
       "Number Of Patients In nPCR Summary                                             0   \n",
       "Number Of Patient-Months In nPCR Summary                                     NaN   \n",
       "nPCR Data Availability Code                                                  259   \n",
       "Percentage Of Pediatric HD Patients With nPCR                                NaN   \n",
       "SWR Date                                                 01/01/2015 - 12/31/2017   \n",
       "SWR Category Text                                                            NaN   \n",
       "Patient Transplant Waitlist Data Availability Code                           199   \n",
       "95% C.I. (Upper Limit) For SWR                                               NaN   \n",
       "95% C.I. (Lower Limit) For SWR                                               NaN   \n",
       "Number Of Patients In This Facility For SWR                                   22   \n",
       "Standardized First Kidney Transplant Waitlist R...                           NaN   \n",
       "PPPW Category Text                                                   As Expected   \n",
       "Patient Prevalent Transplant Waitlist Data Avai...                           NaN   \n",
       "95% C.I. (Upper Limit) For PPPW                                             35.4   \n",
       "95% C.I. (Lower Limit) For PPPW                                              1.9   \n",
       "Number Of Patients For PPPW                                                   56   \n",
       "Percentage Of Prevalent Patients Waitlisted                                  9.2   \n",
       "Location                                            POINT (-81.815351 27.536488)   \n",
       "\n",
       "                                                                           7625  \n",
       "Patient Hospitalization Category Text                               As Expected  \n",
       "Patient Hospitalization Data Availability Code                              NaN  \n",
       "Patient Hospital Readmission Category Text                          As Expected  \n",
       "Patient Hospital Readmission Data Availability ...                          NaN  \n",
       "Patient Survival Category Text                                      As Expected  \n",
       "Patient Survival Data Availability Code                                     NaN  \n",
       "Number Of Patients Included In Hospitalization ...                          101  \n",
       "Number Of Hospitalizations Included In Hospital...                          123  \n",
       "Number Of Patients Included In Survival Summary                             448  \n",
       "Mortality Rate (Facility)                                                  23.5  \n",
       "Mortality Rate: Upper Confidence Limit (97.5%)                             29.6  \n",
       "Mortality Rate: Lower Confidence Limit (2.5%)                              18.4  \n",
       "Readmission Rate (Facility)                                                19.7  \n",
       "Readmission Rate: Upper Confidence Limit (97.5%)                           29.7  \n",
       "Readmission Rate: Lower Confidence Limit (2.5%)                            11.8  \n",
       "Hospitalization Rate (Facility)                                           187.2  \n",
       "Hospitalization Rate: Upper Confidence Limit (9...                        290.1  \n",
       "Hospitalization Rate: Lower Confidence Limit (2...                        128.1  \n",
       "Number Of Pediatric PD Patients With Kt/V Data                                0  \n",
       "Pediatric PD Kt/V Data Availability Code                                    259  \n",
       "Number Of Pediatric PD Patient-Months With Kt/V...                          NaN  \n",
       "Percentage Of Pediatric PD Patients With Kt/V >...                          NaN  \n",
       "SIR Date                                                01/01/2018 - 12/31/2018  \n",
       "Patient Infection Data Availability Code                                    NaN  \n",
       "Patient Infection Category Text                                     As Expected  \n",
       "Standard Infection Ratio                                                   0.58  \n",
       "SIR: Upper Confidence Limit (97.5%)                                        1.39  \n",
       "SIR: Lower Confidence Limit (2.5%)                                         0.18  \n",
       "Transfusion Rate (Facility)                                                11.6  \n",
       "Transfusion Rate: Upper Confidence Limit (97.5%)                           51.9  \n",
       "Transfusion Rate: Lower Confidence Limit (2.5%)                             3.3  \n",
       "Fistula Data Availability Code                                              NaN  \n",
       "Fistula Category Text                                               As Expected  \n",
       "Number Of Patients Included In Fistula Summary                              124  \n",
       "Fistula Rate (Facility)                                                    61.5  \n",
       "Fistula Rate: Upper Confidence Limit (97.5%)                               77.4  \n",
       "Fistula Rate: Lower Confidence Limit (2.5%)                                44.4  \n",
       "Number Of Patients In Long Term Catheter Summary                            124  \n",
       "Number Of Patient-Months In Long Term Catheter ...                         1058  \n",
       "Long Term Catheter Data Availability Code                                   NaN  \n",
       "Percentage Of Adult Patients With Long Term Cat...                           16  \n",
       "Number Of Patients In nPCR Summary                                            0  \n",
       "Number Of Patient-Months In nPCR Summary                                    NaN  \n",
       "nPCR Data Availability Code                                                 259  \n",
       "Percentage Of Pediatric HD Patients With nPCR                               NaN  \n",
       "SWR Date                                                01/01/2015 - 12/31/2017  \n",
       "SWR Category Text                                                   As Expected  \n",
       "Patient Transplant Waitlist Data Availability Code                          NaN  \n",
       "95% C.I. (Upper Limit) For SWR                                             2.97  \n",
       "95% C.I. (Lower Limit) For SWR                                             0.41  \n",
       "Number Of Patients In This Facility For SWR                                  41  \n",
       "Standardized First Kidney Transplant Waitlist R...                         1.27  \n",
       "PPPW Category Text                                                  As Expected  \n",
       "Patient Prevalent Transplant Waitlist Data Avai...                          NaN  \n",
       "95% C.I. (Upper Limit) For PPPW                                            36.9  \n",
       "95% C.I. (Lower Limit) For PPPW                                             7.1  \n",
       "Number Of Patients For PPPW                                                  92  \n",
       "Percentage Of Prevalent Patients Waitlisted                                17.4  \n",
       "Location                                            POINT (-88.038798 43.12228)  "
      ]
     },
     "execution_count": 13,
     "metadata": {},
     "output_type": "execute_result"
    }
   ],
   "source": [
    "df.iloc[:, 60:].tail().T"
   ]
  },
  {
   "cell_type": "markdown",
   "metadata": {},
   "source": [
    "### Shape"
   ]
  },
  {
   "cell_type": "code",
   "execution_count": 14,
   "metadata": {},
   "outputs": [
    {
     "data": {
      "text/plain": [
       "(7626, 119)"
      ]
     },
     "execution_count": 14,
     "metadata": {},
     "output_type": "execute_result"
    }
   ],
   "source": [
    "df.shape"
   ]
  },
  {
   "cell_type": "markdown",
   "metadata": {},
   "source": [
    "### Column Names"
   ]
  },
  {
   "cell_type": "code",
   "execution_count": 15,
   "metadata": {},
   "outputs": [
    {
     "name": "stdout",
     "output_type": "stream",
     "text": [
      "Provider Number\n",
      "Network\n",
      "Facility Name\n",
      "Five Star Date\n",
      "Five Star\n",
      "Five Star Data Availability Code\n",
      "Address Line 1\n",
      "Address Line 2\n",
      "City\n",
      "State\n",
      "Zip\n",
      "County\n",
      "Phone Number\n",
      "Profit Or Non-Profit\n",
      "Chain Owned\n",
      "Chain Organization\n",
      "Late Shift\n",
      "Number Of Dialysis Stations\n",
      "Offers In-Center Hemodialysis\n",
      "Offers Peritoneal Dialysis\n",
      "Offers Home Hemodialysis Training\n",
      "Certification Or Recertification Date\n",
      "Claims Date\n",
      "CROWNWeb Date\n",
      "STrR Date\n",
      "Percentage Of Medicare Patients With Hgb < 10 g/dL\n",
      "Hgb < 10 Data Availability Code\n",
      "Percentage Of Medicare Patients With Hgb > 12 g/dL\n",
      "Hgb > 12 Data Availability Code\n",
      "Number Of Dialysis Patients With Hgb Data\n",
      "Patient Transfusion Data Availability Code\n",
      "Patient Transfusion Category Text\n",
      "Number Of Patients Included In The Transfusion Summary\n",
      "Percent Of Adult HD Patients With Kt/V >= 1.2\n",
      "Adult HD Kt/V Data Availability Code\n",
      "Percentage Of Adult PD PTS With Kt/V >= 1.7\n",
      "Adult PD Kt/V Data Availability Code\n",
      "Percentage Of Pediatric HD Patients With Kt/V >= 1.2\n",
      "Pediatric HD Kt/V Data Availability Code\n",
      "Number Of Adult HD Patients With Kt/V Data\n",
      "Number Of Adult HD Patient-Months With Kt/V Data\n",
      "Number Of Adult PD Patients With Kt/V Data\n",
      "Number Of Adult PD Patient-Months With Kt/V Data\n",
      "Number Of Pediatric HD Patients With Kt/V Data\n",
      "Number Of Pediatric HD Patient-Months With Kt/V Data\n",
      "Hypercalcemia Data Availability Code\n",
      "Number Of Patients In Hypercalcemia Summary\n",
      "Number Of Patient-Months In Hypercalcemia Summary\n",
      "Percentage Of Adult Patients With Hypercalcemia (Serum Calcium Greater Than 10.2 mg/dL)\n",
      "Number Of Patients In Serum Phosphorus Summary\n",
      "Number Of Patient-Months In Serum Phosphorus Summary\n",
      "Serum Phosphorus Data Availability Code\n",
      "Percentage Of Adult Patients With Serum Phosphorus Less Than 3.5 mg/dL\n",
      "Percentage Of Adult Patients With Serum Phosphorus Between 3.5 - 4.5 mg/dL\n",
      "Percentage Of Adult Patients With Serum Phosphorus Between 4.6 - 5.5 mg/dL\n",
      "Percentage Of Adult Patients With Serum Phosphorus Between 5.6 - 7.0 mg/dL\n",
      "Percentage Of Adult Patients With Serum Phosphorus Greater Than 7.0 mg/dL\n",
      "SHR Date\n",
      "SRR Date\n",
      "SMR Date\n",
      "Patient Hospitalization Category Text\n",
      "Patient Hospitalization Data Availability Code\n",
      "Patient Hospital Readmission Category Text\n",
      "Patient Hospital Readmission Data Availability Code\n",
      "Patient Survival Category Text\n",
      "Patient Survival Data Availability Code\n",
      "Number Of Patients Included In Hospitalization Summary\n",
      "Number Of Hospitalizations Included In Hospital Readmission Summary\n",
      "Number Of Patients Included In Survival Summary\n",
      "Mortality Rate (Facility)\n",
      "Mortality Rate: Upper Confidence Limit (97.5%)\n",
      "Mortality Rate: Lower Confidence Limit (2.5%)\n",
      "Readmission Rate (Facility)\n",
      "Readmission Rate: Upper Confidence Limit (97.5%)\n",
      "Readmission Rate: Lower Confidence Limit (2.5%)\n",
      "Hospitalization Rate (Facility)\n",
      "Hospitalization Rate: Upper Confidence Limit (97.5%)\n",
      "Hospitalization Rate: Lower Confidence Limit (2.5%)\n",
      "Number Of Pediatric PD Patients With Kt/V Data\n",
      "Pediatric PD Kt/V Data Availability Code\n",
      "Number Of Pediatric PD Patient-Months With Kt/V Data\n",
      "Percentage Of Pediatric PD Patients With Kt/V >= 1.8\n",
      "SIR Date\n",
      "Patient Infection Data Availability Code\n",
      "Patient Infection Category Text\n",
      "Standard Infection Ratio\n",
      "SIR: Upper Confidence Limit (97.5%)\n",
      "SIR: Lower Confidence Limit (2.5%)\n",
      "Transfusion Rate (Facility)\n",
      "Transfusion Rate: Upper Confidence Limit (97.5%)\n",
      "Transfusion Rate: Lower Confidence Limit (2.5%)\n",
      "Fistula Data Availability Code\n",
      "Fistula Category Text\n",
      "Number Of Patients Included In Fistula Summary\n",
      "Fistula Rate (Facility)\n",
      "Fistula Rate: Upper Confidence Limit (97.5%)\n",
      "Fistula Rate: Lower Confidence Limit (2.5%)\n",
      "Number Of Patients In Long Term Catheter Summary\n",
      "Number Of Patient-Months In Long Term Catheter Summary\n",
      "Long Term Catheter Data Availability Code\n",
      "Percentage Of Adult Patients With Long Term Catheter In Use\n",
      "Number Of Patients In nPCR Summary\n",
      "Number Of Patient-Months In nPCR Summary\n",
      "nPCR Data Availability Code\n",
      "Percentage Of Pediatric HD Patients With nPCR\n",
      "SWR Date\n",
      "SWR Category Text\n",
      "Patient Transplant Waitlist Data Availability Code\n",
      "95% C.I. (Upper Limit) For SWR\n",
      "95% C.I. (Lower Limit) For SWR\n",
      "Number Of Patients In This Facility For SWR\n",
      "Standardized First Kidney Transplant Waitlist Ratio\n",
      "PPPW Category Text\n",
      "Patient Prevalent Transplant Waitlist Data Availability Code\n",
      "95% C.I. (Upper Limit) For PPPW\n",
      "95% C.I. (Lower Limit) For PPPW\n",
      "Number Of Patients For PPPW\n",
      "Percentage Of Prevalent Patients Waitlisted\n",
      "Location\n"
     ]
    }
   ],
   "source": [
    "for col in df.columns:\n",
    "    print(col)"
   ]
  },
  {
   "cell_type": "markdown",
   "metadata": {},
   "source": [
    "### Data Types"
   ]
  },
  {
   "cell_type": "code",
   "execution_count": 16,
   "metadata": {},
   "outputs": [
    {
     "name": "stdout",
     "output_type": "stream",
     "text": [
      "<class 'pandas.core.frame.DataFrame'>\n",
      "RangeIndex: 7626 entries, 0 to 7625\n",
      "Data columns (total 60 columns):\n",
      " #   Column                                                                                   Non-Null Count  Dtype  \n",
      "---  ------                                                                                   --------------  -----  \n",
      " 0   Provider Number                                                                          7626 non-null   int64  \n",
      " 1   Network                                                                                  7626 non-null   int64  \n",
      " 2   Facility Name                                                                            7626 non-null   object \n",
      " 3   Five Star Date                                                                           7626 non-null   object \n",
      " 4   Five Star                                                                                6725 non-null   float64\n",
      " 5   Five Star Data Availability Code                                                         901 non-null    float64\n",
      " 6   Address Line 1                                                                           7626 non-null   object \n",
      " 7   Address Line 2                                                                           1087 non-null   object \n",
      " 8   City                                                                                     7626 non-null   object \n",
      " 9   State                                                                                    7626 non-null   object \n",
      " 10  Zip                                                                                      7626 non-null   int64  \n",
      " 11  County                                                                                   7626 non-null   object \n",
      " 12  Phone Number                                                                             7626 non-null   object \n",
      " 13  Profit Or Non-Profit                                                                     7626 non-null   object \n",
      " 14  Chain Owned                                                                              7626 non-null   object \n",
      " 15  Chain Organization                                                                       7625 non-null   object \n",
      " 16  Late Shift                                                                               7626 non-null   int64  \n",
      " 17  Number Of Dialysis Stations                                                              7626 non-null   int64  \n",
      " 18  Offers In-Center Hemodialysis                                                            7626 non-null   int64  \n",
      " 19  Offers Peritoneal Dialysis                                                               7626 non-null   int64  \n",
      " 20  Offers Home Hemodialysis Training                                                        7626 non-null   int64  \n",
      " 21  Certification Or Recertification Date                                                    7626 non-null   object \n",
      " 22  Claims Date                                                                              7626 non-null   object \n",
      " 23  CROWNWeb Date                                                                            7626 non-null   object \n",
      " 24  STrR Date                                                                                7626 non-null   object \n",
      " 25  Percentage Of Medicare Patients With Hgb < 10 g/dL                                       6517 non-null   float64\n",
      " 26  Hgb < 10 Data Availability Code                                                          1109 non-null   float64\n",
      " 27  Percentage Of Medicare Patients With Hgb > 12 g/dL                                       6517 non-null   float64\n",
      " 28  Hgb > 12 Data Availability Code                                                          1109 non-null   float64\n",
      " 29  Number Of Dialysis Patients With Hgb Data                                                7555 non-null   float64\n",
      " 30  Patient Transfusion Data Availability Code                                               1341 non-null   float64\n",
      " 31  Patient Transfusion Category Text                                                        6285 non-null   object \n",
      " 32  Number Of Patients Included In The Transfusion Summary                                   7552 non-null   float64\n",
      " 33  Percent Of Adult HD Patients With Kt/V >= 1.2                                            6755 non-null   float64\n",
      " 34  Adult HD Kt/V Data Availability Code                                                     871 non-null    float64\n",
      " 35  Percentage Of Adult PD PTS With Kt/V >= 1.7                                              2146 non-null   float64\n",
      " 36  Adult PD Kt/V Data Availability Code                                                     5480 non-null   float64\n",
      " 37  Percentage Of Pediatric HD Patients With Kt/V >= 1.2                                     16 non-null     float64\n",
      " 38  Pediatric HD Kt/V Data Availability Code                                                 7610 non-null   float64\n",
      " 39  Number Of Adult HD Patients With Kt/V Data                                               7555 non-null   float64\n",
      " 40  Number Of Adult HD Patient-Months With Kt/V Data                                         7175 non-null   float64\n",
      " 41  Number Of Adult PD Patients With Kt/V Data                                               7555 non-null   float64\n",
      " 42  Number Of Adult PD Patient-Months With Kt/V Data                                         3358 non-null   float64\n",
      " 43  Number Of Pediatric HD Patients With Kt/V Data                                           7555 non-null   float64\n",
      " 44  Number Of Pediatric HD Patient-Months With Kt/V Data                                     202 non-null    float64\n",
      " 45  Hypercalcemia Data Availability Code                                                     422 non-null    float64\n",
      " 46  Number Of Patients In Hypercalcemia Summary                                              7555 non-null   float64\n",
      " 47  Number Of Patient-Months In Hypercalcemia Summary                                        7463 non-null   float64\n",
      " 48  Percentage Of Adult Patients With Hypercalcemia (Serum Calcium Greater Than 10.2 mg/dL)  7204 non-null   float64\n",
      " 49  Number Of Patients In Serum Phosphorus Summary                                           7555 non-null   float64\n",
      " 50  Number Of Patient-Months In Serum Phosphorus Summary                                     7463 non-null   float64\n",
      " 51  Serum Phosphorus Data Availability Code                                                  411 non-null    float64\n",
      " 52  Percentage Of Adult Patients With Serum Phosphorus Less Than 3.5 mg/dL                   7215 non-null   float64\n",
      " 53  Percentage Of Adult Patients With Serum Phosphorus Between 3.5 - 4.5 mg/dL               7215 non-null   float64\n",
      " 54  Percentage Of Adult Patients With Serum Phosphorus Between 4.6 - 5.5 mg/dL               7215 non-null   float64\n",
      " 55  Percentage Of Adult Patients With Serum Phosphorus Between 5.6 - 7.0 mg/dL               7215 non-null   float64\n",
      " 56  Percentage Of Adult Patients With Serum Phosphorus Greater Than 7.0 mg/dL                7215 non-null   float64\n",
      " 57  SHR Date                                                                                 7626 non-null   object \n",
      " 58  SRR Date                                                                                 7626 non-null   object \n",
      " 59  SMR Date                                                                                 7626 non-null   object \n",
      "dtypes: float64(33), int64(8), object(19)\n",
      "memory usage: 3.5+ MB\n"
     ]
    }
   ],
   "source": [
    "df.iloc[:, :60].info()"
   ]
  },
  {
   "cell_type": "code",
   "execution_count": 17,
   "metadata": {},
   "outputs": [
    {
     "name": "stdout",
     "output_type": "stream",
     "text": [
      "<class 'pandas.core.frame.DataFrame'>\n",
      "RangeIndex: 7626 entries, 0 to 7625\n",
      "Data columns (total 59 columns):\n",
      " #   Column                                                               Non-Null Count  Dtype  \n",
      "---  ------                                                               --------------  -----  \n",
      " 0   Patient Hospitalization Category Text                                6857 non-null   object \n",
      " 1   Patient Hospitalization Data Availability Code                       769 non-null    float64\n",
      " 2   Patient Hospital Readmission Category Text                           6806 non-null   object \n",
      " 3   Patient Hospital Readmission Data Availability Code                  820 non-null    float64\n",
      " 4   Patient Survival Category Text                                       6701 non-null   object \n",
      " 5   Patient Survival Data Availability Code                              925 non-null    float64\n",
      " 6   Number Of Patients Included In Hospitalization Summary               7552 non-null   float64\n",
      " 7   Number Of Hospitalizations Included In Hospital Readmission Summary  7553 non-null   float64\n",
      " 8   Number Of Patients Included In Survival Summary                      7552 non-null   float64\n",
      " 9   Mortality Rate (Facility)                                            6701 non-null   float64\n",
      " 10  Mortality Rate: Upper Confidence Limit (97.5%)                       6701 non-null   float64\n",
      " 11  Mortality Rate: Lower Confidence Limit (2.5%)                        6701 non-null   float64\n",
      " 12  Readmission Rate (Facility)                                          6806 non-null   float64\n",
      " 13  Readmission Rate: Upper Confidence Limit (97.5%)                     6806 non-null   float64\n",
      " 14  Readmission Rate: Lower Confidence Limit (2.5%)                      6806 non-null   float64\n",
      " 15  Hospitalization Rate (Facility)                                      6857 non-null   float64\n",
      " 16  Hospitalization Rate: Upper Confidence Limit (97.5%)                 6856 non-null   float64\n",
      " 17  Hospitalization Rate: Lower Confidence Limit (2.5%)                  6857 non-null   float64\n",
      " 18  Number Of Pediatric PD Patients With Kt/V Data                       7555 non-null   float64\n",
      " 19  Pediatric PD Kt/V Data Availability Code                             7597 non-null   float64\n",
      " 20  Number Of Pediatric PD Patient-Months With Kt/V Data                 150 non-null    float64\n",
      " 21  Percentage Of Pediatric PD Patients With Kt/V >= 1.8                 29 non-null     float64\n",
      " 22  SIR Date                                                             7626 non-null   object \n",
      " 23  Patient Infection Data Availability Code                             1375 non-null   float64\n",
      " 24  Patient Infection Category Text                                      6251 non-null   object \n",
      " 25  Standard Infection Ratio                                             6251 non-null   float64\n",
      " 26  SIR: Upper Confidence Limit (97.5%)                                  6251 non-null   float64\n",
      " 27  SIR: Lower Confidence Limit (2.5%)                                   5368 non-null   float64\n",
      " 28  Transfusion Rate (Facility)                                          6285 non-null   float64\n",
      " 29  Transfusion Rate: Upper Confidence Limit (97.5%)                     6285 non-null   float64\n",
      " 30  Transfusion Rate: Lower Confidence Limit (2.5%)                      6285 non-null   float64\n",
      " 31  Fistula Data Availability Code                                       711 non-null    float64\n",
      " 32  Fistula Category Text                                                6915 non-null   object \n",
      " 33  Number Of Patients Included In Fistula Summary                       7555 non-null   float64\n",
      " 34  Fistula Rate (Facility)                                              6915 non-null   float64\n",
      " 35  Fistula Rate: Upper Confidence Limit (97.5%)                         6915 non-null   float64\n",
      " 36  Fistula Rate: Lower Confidence Limit (2.5%)                          6915 non-null   float64\n",
      " 37  Number Of Patients In Long Term Catheter Summary                     7555 non-null   float64\n",
      " 38  Number Of Patient-Months In Long Term Catheter Summary               7298 non-null   float64\n",
      " 39  Long Term Catheter Data Availability Code                            711 non-null    float64\n",
      " 40  Percentage Of Adult Patients With Long Term Catheter In Use          6915 non-null   float64\n",
      " 41  Number Of Patients In nPCR Summary                                   7555 non-null   float64\n",
      " 42  Number Of Patient-Months In nPCR Summary                             224 non-null    float64\n",
      " 43  nPCR Data Availability Code                                          7600 non-null   float64\n",
      " 44  Percentage Of Pediatric HD Patients With nPCR                        26 non-null     float64\n",
      " 45  SWR Date                                                             7626 non-null   object \n",
      " 46  SWR Category Text                                                    4111 non-null   object \n",
      " 47  Patient Transplant Waitlist Data Availability Code                   3515 non-null   float64\n",
      " 48  95% C.I. (Upper Limit) For SWR                                       4111 non-null   float64\n",
      " 49  95% C.I. (Lower Limit) For SWR                                       4111 non-null   float64\n",
      " 50  Number Of Patients In This Facility For SWR                          7554 non-null   float64\n",
      " 51  Standardized First Kidney Transplant Waitlist Ratio                  4111 non-null   float64\n",
      " 52  PPPW Category Text                                                   7178 non-null   object \n",
      " 53  Patient Prevalent Transplant Waitlist Data Availability Code         448 non-null    float64\n",
      " 54  95% C.I. (Upper Limit) For PPPW                                      7178 non-null   float64\n",
      " 55  95% C.I. (Lower Limit) For PPPW                                      7178 non-null   float64\n",
      " 56  Number Of Patients For PPPW                                          7555 non-null   float64\n",
      " 57  Percentage Of Prevalent Patients Waitlisted                          7178 non-null   float64\n",
      " 58  Location                                                             7162 non-null   object \n",
      "dtypes: float64(49), object(10)\n",
      "memory usage: 3.4+ MB\n"
     ]
    }
   ],
   "source": [
    "df.iloc[:, 60:].info()"
   ]
  },
  {
   "cell_type": "markdown",
   "metadata": {},
   "source": [
    "### Count of unique values or codes"
   ]
  },
  {
   "cell_type": "code",
   "execution_count": 18,
   "metadata": {},
   "outputs": [
    {
     "data": {
      "text/plain": [
       "Provider Number                                                                            7626\n",
       "Network                                                                                      18\n",
       "Facility Name                                                                              7448\n",
       "Five Star Date                                                                                1\n",
       "Five Star                                                                                     5\n",
       "Five Star Data Availability Code                                                              3\n",
       "Address Line 1                                                                             7574\n",
       "Address Line 2                                                                              599\n",
       "City                                                                                       3001\n",
       "State                                                                                        56\n",
       "Zip                                                                                        5276\n",
       "County                                                                                     1258\n",
       "Phone Number                                                                               7581\n",
       "Profit Or Non-Profit                                                                          2\n",
       "Chain Owned                                                                                   2\n",
       "Chain Organization                                                                          111\n",
       "Late Shift                                                                                    2\n",
       "Number Of Dialysis Stations                                                                  68\n",
       "Offers In-Center Hemodialysis                                                                 2\n",
       "Offers Peritoneal Dialysis                                                                    2\n",
       "Offers Home Hemodialysis Training                                                             2\n",
       "Certification Or Recertification Date                                                      4800\n",
       "Claims Date                                                                                   1\n",
       "CROWNWeb Date                                                                                 1\n",
       "STrR Date                                                                                     1\n",
       "Percentage Of Medicare Patients With Hgb < 10 g/dL                                           90\n",
       "Hgb < 10 Data Availability Code                                                               3\n",
       "Percentage Of Medicare Patients With Hgb > 12 g/dL                                           20\n",
       "Hgb > 12 Data Availability Code                                                               3\n",
       "Number Of Dialysis Patients With Hgb Data                                                   159\n",
       "Patient Transfusion Data Availability Code                                                    4\n",
       "Patient Transfusion Category Text                                                             3\n",
       "Number Of Patients Included In The Transfusion Summary                                      225\n",
       "Percent Of Adult HD Patients With Kt/V >= 1.2                                                53\n",
       "Adult HD Kt/V Data Availability Code                                                          4\n",
       "Percentage Of Adult PD PTS With Kt/V >= 1.7                                                  70\n",
       "Adult PD Kt/V Data Availability Code                                                          4\n",
       "Percentage Of Pediatric HD Patients With Kt/V >= 1.2                                         11\n",
       "Pediatric HD Kt/V Data Availability Code                                                      4\n",
       "Number Of Adult HD Patients With Kt/V Data                                                  270\n",
       "Number Of Adult HD Patient-Months With Kt/V Data                                           1629\n",
       "Number Of Adult PD Patients With Kt/V Data                                                  136\n",
       "Number Of Adult PD Patient-Months With Kt/V Data                                            610\n",
       "Number Of Pediatric HD Patients With Kt/V Data                                               19\n",
       "Number Of Pediatric HD Patient-Months With Kt/V Data                                         67\n",
       "Hypercalcemia Data Availability Code                                                          3\n",
       "Number Of Patients In Hypercalcemia Summary                                                 310\n",
       "Number Of Patient-Months In Hypercalcemia Summary                                          1865\n",
       "Percentage Of Adult Patients With Hypercalcemia (Serum Calcium Greater Than 10.2 mg/dL)      48\n",
       "Number Of Patients In Serum Phosphorus Summary                                              323\n",
       "Number Of Patient-Months In Serum Phosphorus Summary                                       1903\n",
       "Serum Phosphorus Data Availability Code                                                       3\n",
       "Percentage Of Adult Patients With Serum Phosphorus Less Than 3.5 mg/dL                       35\n",
       "Percentage Of Adult Patients With Serum Phosphorus Between 3.5 - 4.5 mg/dL                   46\n",
       "Percentage Of Adult Patients With Serum Phosphorus Between 4.6 - 5.5 mg/dL                   44\n",
       "Percentage Of Adult Patients With Serum Phosphorus Between 5.6 - 7.0 mg/dL                   44\n",
       "Percentage Of Adult Patients With Serum Phosphorus Greater Than 7.0 mg/dL                    40\n",
       "SHR Date                                                                                      1\n",
       "SRR Date                                                                                      1\n",
       "SMR Date                                                                                      1\n",
       "dtype: int64"
      ]
     },
     "execution_count": 18,
     "metadata": {},
     "output_type": "execute_result"
    }
   ],
   "source": [
    "df.iloc[:, :60].nunique()"
   ]
  },
  {
   "cell_type": "code",
   "execution_count": 19,
   "metadata": {},
   "outputs": [
    {
     "data": {
      "text/plain": [
       "Patient Hospitalization Category Text                                     3\n",
       "Patient Hospitalization Data Availability Code                            4\n",
       "Patient Hospital Readmission Category Text                                3\n",
       "Patient Hospital Readmission Data Availability Code                       3\n",
       "Patient Survival Category Text                                            3\n",
       "Patient Survival Data Availability Code                                   4\n",
       "Number Of Patients Included In Hospitalization Summary                  249\n",
       "Number Of Hospitalizations Included In Hospital Readmission Summary     295\n",
       "Number Of Patients Included In Survival Summary                         807\n",
       "Mortality Rate (Facility)                                               390\n",
       "Mortality Rate: Upper Confidence Limit (97.5%)                          545\n",
       "Mortality Rate: Lower Confidence Limit (2.5%)                           323\n",
       "Readmission Rate (Facility)                                             463\n",
       "Readmission Rate: Upper Confidence Limit (97.5%)                        543\n",
       "Readmission Rate: Lower Confidence Limit (2.5%)                         338\n",
       "Hospitalization Rate (Facility)                                        2004\n",
       "Hospitalization Rate: Upper Confidence Limit (97.5%)                   2583\n",
       "Hospitalization Rate: Lower Confidence Limit (2.5%)                    1710\n",
       "Number Of Pediatric PD Patients With Kt/V Data                           25\n",
       "Pediatric PD Kt/V Data Availability Code                                  4\n",
       "Number Of Pediatric PD Patient-Months With Kt/V Data                     81\n",
       "Percentage Of Pediatric PD Patients With Kt/V >= 1.8                     21\n",
       "SIR Date                                                                  1\n",
       "Patient Infection Data Availability Code                                  3\n",
       "Patient Infection Category Text                                           3\n",
       "Standard Infection Ratio                                                336\n",
       "SIR: Upper Confidence Limit (97.5%)                                     602\n",
       "SIR: Lower Confidence Limit (2.5%)                                      190\n",
       "Transfusion Rate (Facility)                                             717\n",
       "Transfusion Rate: Upper Confidence Limit (97.5%)                       1604\n",
       "Transfusion Rate: Lower Confidence Limit (2.5%)                         413\n",
       "Fistula Data Availability Code                                            4\n",
       "Fistula Category Text                                                     3\n",
       "Number Of Patients Included In Fistula Summary                          292\n",
       "Fistula Rate (Facility)                                                 587\n",
       "Fistula Rate: Upper Confidence Limit (97.5%)                            487\n",
       "Fistula Rate: Lower Confidence Limit (2.5%)                             727\n",
       "Number Of Patients In Long Term Catheter Summary                        292\n",
       "Number Of Patient-Months In Long Term Catheter Summary                 1780\n",
       "Long Term Catheter Data Availability Code                                 4\n",
       "Percentage Of Adult Patients With Long Term Catheter In Use              67\n",
       "Number Of Patients In nPCR Summary                                       25\n",
       "Number Of Patient-Months In nPCR Summary                                 73\n",
       "nPCR Data Availability Code                                               4\n",
       "Percentage Of Pediatric HD Patients With nPCR                            14\n",
       "SWR Date                                                                  1\n",
       "SWR Category Text                                                         3\n",
       "Patient Transplant Waitlist Data Availability Code                        4\n",
       "95% C.I. (Upper Limit) For SWR                                          593\n",
       "95% C.I. (Lower Limit) For SWR                                          214\n",
       "Number Of Patients In This Facility For SWR                             145\n",
       "Standardized First Kidney Transplant Waitlist Ratio                     360\n",
       "PPPW Category Text                                                        3\n",
       "Patient Prevalent Transplant Waitlist Data Availability Code              3\n",
       "95% C.I. (Upper Limit) For PPPW                                         766\n",
       "95% C.I. (Lower Limit) For PPPW                                         355\n",
       "Number Of Patients For PPPW                                             269\n",
       "Percentage Of Prevalent Patients Waitlisted                             571\n",
       "Location                                                               7043\n",
       "dtype: int64"
      ]
     },
     "execution_count": 19,
     "metadata": {},
     "output_type": "execute_result"
    }
   ],
   "source": [
    "df.iloc[:, 60:].nunique()"
   ]
  },
  {
   "cell_type": "markdown",
   "metadata": {},
   "source": [
    "### Percent unique values"
   ]
  },
  {
   "cell_type": "code",
   "execution_count": 20,
   "metadata": {},
   "outputs": [
    {
     "data": {
      "text/plain": [
       "Provider Number                                                                            0.016667\n",
       "Network                                                                                    0.000039\n",
       "Facility Name                                                                              0.016278\n",
       "Five Star Date                                                                             0.000002\n",
       "Five Star                                                                                  0.000011\n",
       "Five Star Data Availability Code                                                           0.000007\n",
       "Address Line 1                                                                             0.016553\n",
       "Address Line 2                                                                             0.001309\n",
       "City                                                                                       0.006559\n",
       "State                                                                                      0.000122\n",
       "Zip                                                                                        0.011531\n",
       "County                                                                                     0.002749\n",
       "Phone Number                                                                               0.016568\n",
       "Profit Or Non-Profit                                                                       0.000004\n",
       "Chain Owned                                                                                0.000004\n",
       "Chain Organization                                                                         0.000243\n",
       "Late Shift                                                                                 0.000004\n",
       "Number Of Dialysis Stations                                                                0.000149\n",
       "Offers In-Center Hemodialysis                                                              0.000004\n",
       "Offers Peritoneal Dialysis                                                                 0.000004\n",
       "Offers Home Hemodialysis Training                                                          0.000004\n",
       "Certification Or Recertification Date                                                      0.010490\n",
       "Claims Date                                                                                0.000002\n",
       "CROWNWeb Date                                                                              0.000002\n",
       "STrR Date                                                                                  0.000002\n",
       "Percentage Of Medicare Patients With Hgb < 10 g/dL                                         0.000197\n",
       "Hgb < 10 Data Availability Code                                                            0.000007\n",
       "Percentage Of Medicare Patients With Hgb > 12 g/dL                                         0.000044\n",
       "Hgb > 12 Data Availability Code                                                            0.000007\n",
       "Number Of Dialysis Patients With Hgb Data                                                  0.000347\n",
       "Patient Transfusion Data Availability Code                                                 0.000009\n",
       "Patient Transfusion Category Text                                                          0.000007\n",
       "Number Of Patients Included In The Transfusion Summary                                     0.000492\n",
       "Percent Of Adult HD Patients With Kt/V >= 1.2                                              0.000116\n",
       "Adult HD Kt/V Data Availability Code                                                       0.000009\n",
       "Percentage Of Adult PD PTS With Kt/V >= 1.7                                                0.000153\n",
       "Adult PD Kt/V Data Availability Code                                                       0.000009\n",
       "Percentage Of Pediatric HD Patients With Kt/V >= 1.2                                       0.000024\n",
       "Pediatric HD Kt/V Data Availability Code                                                   0.000009\n",
       "Number Of Adult HD Patients With Kt/V Data                                                 0.000590\n",
       "Number Of Adult HD Patient-Months With Kt/V Data                                           0.003560\n",
       "Number Of Adult PD Patients With Kt/V Data                                                 0.000297\n",
       "Number Of Adult PD Patient-Months With Kt/V Data                                           0.001333\n",
       "Number Of Pediatric HD Patients With Kt/V Data                                             0.000042\n",
       "Number Of Pediatric HD Patient-Months With Kt/V Data                                       0.000146\n",
       "Hypercalcemia Data Availability Code                                                       0.000007\n",
       "Number Of Patients In Hypercalcemia Summary                                                0.000678\n",
       "Number Of Patient-Months In Hypercalcemia Summary                                          0.004076\n",
       "Percentage Of Adult Patients With Hypercalcemia (Serum Calcium Greater Than 10.2 mg/dL)    0.000105\n",
       "Number Of Patients In Serum Phosphorus Summary                                             0.000706\n",
       "Number Of Patient-Months In Serum Phosphorus Summary                                       0.004159\n",
       "Serum Phosphorus Data Availability Code                                                    0.000007\n",
       "Percentage Of Adult Patients With Serum Phosphorus Less Than 3.5 mg/dL                     0.000076\n",
       "Percentage Of Adult Patients With Serum Phosphorus Between 3.5 - 4.5 mg/dL                 0.000101\n",
       "Percentage Of Adult Patients With Serum Phosphorus Between 4.6 - 5.5 mg/dL                 0.000096\n",
       "Percentage Of Adult Patients With Serum Phosphorus Between 5.6 - 7.0 mg/dL                 0.000096\n",
       "Percentage Of Adult Patients With Serum Phosphorus Greater Than 7.0 mg/dL                  0.000087\n",
       "SHR Date                                                                                   0.000002\n",
       "SRR Date                                                                                   0.000002\n",
       "SMR Date                                                                                   0.000002\n",
       "dtype: float64"
      ]
     },
     "execution_count": 20,
     "metadata": {},
     "output_type": "execute_result"
    }
   ],
   "source": [
    "df.iloc[:, :60].nunique()/df.iloc[:, :60].size"
   ]
  },
  {
   "cell_type": "code",
   "execution_count": 21,
   "metadata": {},
   "outputs": [
    {
     "data": {
      "text/plain": [
       "Patient Hospitalization Category Text                                  0.000007\n",
       "Patient Hospitalization Data Availability Code                         0.000009\n",
       "Patient Hospital Readmission Category Text                             0.000007\n",
       "Patient Hospital Readmission Data Availability Code                    0.000007\n",
       "Patient Survival Category Text                                         0.000007\n",
       "Patient Survival Data Availability Code                                0.000009\n",
       "Number Of Patients Included In Hospitalization Summary                 0.000553\n",
       "Number Of Hospitalizations Included In Hospital Readmission Summary    0.000656\n",
       "Number Of Patients Included In Survival Summary                        0.001794\n",
       "Mortality Rate (Facility)                                              0.000867\n",
       "Mortality Rate: Upper Confidence Limit (97.5%)                         0.001211\n",
       "Mortality Rate: Lower Confidence Limit (2.5%)                          0.000718\n",
       "Readmission Rate (Facility)                                            0.001029\n",
       "Readmission Rate: Upper Confidence Limit (97.5%)                       0.001207\n",
       "Readmission Rate: Lower Confidence Limit (2.5%)                        0.000751\n",
       "Hospitalization Rate (Facility)                                        0.004454\n",
       "Hospitalization Rate: Upper Confidence Limit (97.5%)                   0.005741\n",
       "Hospitalization Rate: Lower Confidence Limit (2.5%)                    0.003801\n",
       "Number Of Pediatric PD Patients With Kt/V Data                         0.000056\n",
       "Pediatric PD Kt/V Data Availability Code                               0.000009\n",
       "Number Of Pediatric PD Patient-Months With Kt/V Data                   0.000180\n",
       "Percentage Of Pediatric PD Patients With Kt/V >= 1.8                   0.000047\n",
       "SIR Date                                                               0.000002\n",
       "Patient Infection Data Availability Code                               0.000007\n",
       "Patient Infection Category Text                                        0.000007\n",
       "Standard Infection Ratio                                               0.000747\n",
       "SIR: Upper Confidence Limit (97.5%)                                    0.001338\n",
       "SIR: Lower Confidence Limit (2.5%)                                     0.000422\n",
       "Transfusion Rate (Facility)                                            0.001594\n",
       "Transfusion Rate: Upper Confidence Limit (97.5%)                       0.003565\n",
       "Transfusion Rate: Lower Confidence Limit (2.5%)                        0.000918\n",
       "Fistula Data Availability Code                                         0.000009\n",
       "Fistula Category Text                                                  0.000007\n",
       "Number Of Patients Included In Fistula Summary                         0.000649\n",
       "Fistula Rate (Facility)                                                0.001305\n",
       "Fistula Rate: Upper Confidence Limit (97.5%)                           0.001082\n",
       "Fistula Rate: Lower Confidence Limit (2.5%)                            0.001616\n",
       "Number Of Patients In Long Term Catheter Summary                       0.000649\n",
       "Number Of Patient-Months In Long Term Catheter Summary                 0.003956\n",
       "Long Term Catheter Data Availability Code                              0.000009\n",
       "Percentage Of Adult Patients With Long Term Catheter In Use            0.000149\n",
       "Number Of Patients In nPCR Summary                                     0.000056\n",
       "Number Of Patient-Months In nPCR Summary                               0.000162\n",
       "nPCR Data Availability Code                                            0.000009\n",
       "Percentage Of Pediatric HD Patients With nPCR                          0.000031\n",
       "SWR Date                                                               0.000002\n",
       "SWR Category Text                                                      0.000007\n",
       "Patient Transplant Waitlist Data Availability Code                     0.000009\n",
       "95% C.I. (Upper Limit) For SWR                                         0.001318\n",
       "95% C.I. (Lower Limit) For SWR                                         0.000476\n",
       "Number Of Patients In This Facility For SWR                            0.000322\n",
       "Standardized First Kidney Transplant Waitlist Ratio                    0.000800\n",
       "PPPW Category Text                                                     0.000007\n",
       "Patient Prevalent Transplant Waitlist Data Availability Code           0.000007\n",
       "95% C.I. (Upper Limit) For PPPW                                        0.001702\n",
       "95% C.I. (Lower Limit) For PPPW                                        0.000789\n",
       "Number Of Patients For PPPW                                            0.000598\n",
       "Percentage Of Prevalent Patients Waitlisted                            0.001269\n",
       "Location                                                               0.015653\n",
       "dtype: float64"
      ]
     },
     "execution_count": 21,
     "metadata": {},
     "output_type": "execute_result"
    }
   ],
   "source": [
    "df.iloc[:, 60:].nunique()/df.iloc[:, 60:].size"
   ]
  },
  {
   "cell_type": "markdown",
   "metadata": {},
   "source": [
    "### Summary statistics"
   ]
  },
  {
   "cell_type": "code",
   "execution_count": 22,
   "metadata": {},
   "outputs": [
    {
     "data": {
      "text/html": [
       "<div>\n",
       "<style scoped>\n",
       "    .dataframe tbody tr th:only-of-type {\n",
       "        vertical-align: middle;\n",
       "    }\n",
       "\n",
       "    .dataframe tbody tr th {\n",
       "        vertical-align: top;\n",
       "    }\n",
       "\n",
       "    .dataframe thead th {\n",
       "        text-align: right;\n",
       "    }\n",
       "</style>\n",
       "<table border=\"1\" class=\"dataframe\">\n",
       "  <thead>\n",
       "    <tr style=\"text-align: right;\">\n",
       "      <th></th>\n",
       "      <th>Provider Number</th>\n",
       "      <th>Network</th>\n",
       "      <th>Five Star</th>\n",
       "      <th>Five Star Data Availability Code</th>\n",
       "      <th>Zip</th>\n",
       "      <th>Late Shift</th>\n",
       "      <th>Number Of Dialysis Stations</th>\n",
       "      <th>Offers In-Center Hemodialysis</th>\n",
       "      <th>Offers Peritoneal Dialysis</th>\n",
       "      <th>Offers Home Hemodialysis Training</th>\n",
       "      <th>Percentage Of Medicare Patients With Hgb &lt; 10 g/dL</th>\n",
       "      <th>Hgb &lt; 10 Data Availability Code</th>\n",
       "      <th>Percentage Of Medicare Patients With Hgb &gt; 12 g/dL</th>\n",
       "      <th>Hgb &gt; 12 Data Availability Code</th>\n",
       "      <th>Number Of Dialysis Patients With Hgb Data</th>\n",
       "    </tr>\n",
       "  </thead>\n",
       "  <tbody>\n",
       "    <tr>\n",
       "      <th>count</th>\n",
       "      <td>7626.000000</td>\n",
       "      <td>7626.000000</td>\n",
       "      <td>6725.000000</td>\n",
       "      <td>901.000000</td>\n",
       "      <td>7626.000000</td>\n",
       "      <td>7626.000000</td>\n",
       "      <td>7626.000000</td>\n",
       "      <td>7626.000000</td>\n",
       "      <td>7626.000000</td>\n",
       "      <td>7626.00000</td>\n",
       "      <td>6517.000000</td>\n",
       "      <td>1109.000000</td>\n",
       "      <td>6517.000000</td>\n",
       "      <td>1109.000000</td>\n",
       "      <td>7555.000000</td>\n",
       "    </tr>\n",
       "    <tr>\n",
       "      <th>mean</th>\n",
       "      <td>315876.077105</td>\n",
       "      <td>9.660372</td>\n",
       "      <td>3.708699</td>\n",
       "      <td>259.368479</td>\n",
       "      <td>50297.359691</td>\n",
       "      <td>0.167060</td>\n",
       "      <td>17.463284</td>\n",
       "      <td>0.940336</td>\n",
       "      <td>0.525439</td>\n",
       "      <td>0.29006</td>\n",
       "      <td>19.822157</td>\n",
       "      <td>213.069432</td>\n",
       "      <td>0.223262</td>\n",
       "      <td>213.069432</td>\n",
       "      <td>36.481138</td>\n",
       "    </tr>\n",
       "    <tr>\n",
       "      <th>std</th>\n",
       "      <td>193257.685562</td>\n",
       "      <td>4.708672</td>\n",
       "      <td>1.032081</td>\n",
       "      <td>0.935512</td>\n",
       "      <td>27581.675445</td>\n",
       "      <td>0.373054</td>\n",
       "      <td>8.495540</td>\n",
       "      <td>0.236879</td>\n",
       "      <td>0.499385</td>\n",
       "      <td>0.45382</td>\n",
       "      <td>12.851783</td>\n",
       "      <td>24.576662</td>\n",
       "      <td>1.352427</td>\n",
       "      <td>24.576662</td>\n",
       "      <td>26.062896</td>\n",
       "    </tr>\n",
       "    <tr>\n",
       "      <th>min</th>\n",
       "      <td>12306.000000</td>\n",
       "      <td>1.000000</td>\n",
       "      <td>1.000000</td>\n",
       "      <td>258.000000</td>\n",
       "      <td>603.000000</td>\n",
       "      <td>0.000000</td>\n",
       "      <td>0.000000</td>\n",
       "      <td>0.000000</td>\n",
       "      <td>0.000000</td>\n",
       "      <td>0.00000</td>\n",
       "      <td>0.000000</td>\n",
       "      <td>199.000000</td>\n",
       "      <td>0.000000</td>\n",
       "      <td>199.000000</td>\n",
       "      <td>0.000000</td>\n",
       "    </tr>\n",
       "    <tr>\n",
       "      <th>25%</th>\n",
       "      <td>142822.250000</td>\n",
       "      <td>6.000000</td>\n",
       "      <td>3.000000</td>\n",
       "      <td>258.000000</td>\n",
       "      <td>29533.000000</td>\n",
       "      <td>0.000000</td>\n",
       "      <td>12.000000</td>\n",
       "      <td>1.000000</td>\n",
       "      <td>0.000000</td>\n",
       "      <td>0.00000</td>\n",
       "      <td>11.000000</td>\n",
       "      <td>199.000000</td>\n",
       "      <td>0.000000</td>\n",
       "      <td>199.000000</td>\n",
       "      <td>18.000000</td>\n",
       "    </tr>\n",
       "    <tr>\n",
       "      <th>50%</th>\n",
       "      <td>322545.500000</td>\n",
       "      <td>9.000000</td>\n",
       "      <td>4.000000</td>\n",
       "      <td>260.000000</td>\n",
       "      <td>46032.000000</td>\n",
       "      <td>0.000000</td>\n",
       "      <td>17.000000</td>\n",
       "      <td>1.000000</td>\n",
       "      <td>1.000000</td>\n",
       "      <td>0.00000</td>\n",
       "      <td>17.000000</td>\n",
       "      <td>199.000000</td>\n",
       "      <td>0.000000</td>\n",
       "      <td>199.000000</td>\n",
       "      <td>32.000000</td>\n",
       "    </tr>\n",
       "    <tr>\n",
       "      <th>75%</th>\n",
       "      <td>452511.750000</td>\n",
       "      <td>14.000000</td>\n",
       "      <td>5.000000</td>\n",
       "      <td>260.000000</td>\n",
       "      <td>76060.750000</td>\n",
       "      <td>0.000000</td>\n",
       "      <td>22.000000</td>\n",
       "      <td>1.000000</td>\n",
       "      <td>1.000000</td>\n",
       "      <td>1.00000</td>\n",
       "      <td>25.000000</td>\n",
       "      <td>201.000000</td>\n",
       "      <td>0.000000</td>\n",
       "      <td>201.000000</td>\n",
       "      <td>50.000000</td>\n",
       "    </tr>\n",
       "    <tr>\n",
       "      <th>max</th>\n",
       "      <td>852568.000000</td>\n",
       "      <td>18.000000</td>\n",
       "      <td>5.000000</td>\n",
       "      <td>261.000000</td>\n",
       "      <td>99801.000000</td>\n",
       "      <td>1.000000</td>\n",
       "      <td>80.000000</td>\n",
       "      <td>1.000000</td>\n",
       "      <td>1.000000</td>\n",
       "      <td>1.00000</td>\n",
       "      <td>100.000000</td>\n",
       "      <td>258.000000</td>\n",
       "      <td>47.000000</td>\n",
       "      <td>258.000000</td>\n",
       "      <td>267.000000</td>\n",
       "    </tr>\n",
       "  </tbody>\n",
       "</table>\n",
       "</div>"
      ],
      "text/plain": [
       "       Provider Number      Network    Five Star  \\\n",
       "count      7626.000000  7626.000000  6725.000000   \n",
       "mean     315876.077105     9.660372     3.708699   \n",
       "std      193257.685562     4.708672     1.032081   \n",
       "min       12306.000000     1.000000     1.000000   \n",
       "25%      142822.250000     6.000000     3.000000   \n",
       "50%      322545.500000     9.000000     4.000000   \n",
       "75%      452511.750000    14.000000     5.000000   \n",
       "max      852568.000000    18.000000     5.000000   \n",
       "\n",
       "       Five Star Data Availability Code           Zip   Late Shift  \\\n",
       "count                        901.000000   7626.000000  7626.000000   \n",
       "mean                         259.368479  50297.359691     0.167060   \n",
       "std                            0.935512  27581.675445     0.373054   \n",
       "min                          258.000000    603.000000     0.000000   \n",
       "25%                          258.000000  29533.000000     0.000000   \n",
       "50%                          260.000000  46032.000000     0.000000   \n",
       "75%                          260.000000  76060.750000     0.000000   \n",
       "max                          261.000000  99801.000000     1.000000   \n",
       "\n",
       "       Number Of Dialysis Stations  Offers In-Center Hemodialysis  \\\n",
       "count                  7626.000000                    7626.000000   \n",
       "mean                     17.463284                       0.940336   \n",
       "std                       8.495540                       0.236879   \n",
       "min                       0.000000                       0.000000   \n",
       "25%                      12.000000                       1.000000   \n",
       "50%                      17.000000                       1.000000   \n",
       "75%                      22.000000                       1.000000   \n",
       "max                      80.000000                       1.000000   \n",
       "\n",
       "       Offers Peritoneal Dialysis  Offers Home Hemodialysis Training  \\\n",
       "count                 7626.000000                         7626.00000   \n",
       "mean                     0.525439                            0.29006   \n",
       "std                      0.499385                            0.45382   \n",
       "min                      0.000000                            0.00000   \n",
       "25%                      0.000000                            0.00000   \n",
       "50%                      1.000000                            0.00000   \n",
       "75%                      1.000000                            1.00000   \n",
       "max                      1.000000                            1.00000   \n",
       "\n",
       "       Percentage Of Medicare Patients With Hgb < 10 g/dL  \\\n",
       "count                                        6517.000000    \n",
       "mean                                           19.822157    \n",
       "std                                            12.851783    \n",
       "min                                             0.000000    \n",
       "25%                                            11.000000    \n",
       "50%                                            17.000000    \n",
       "75%                                            25.000000    \n",
       "max                                           100.000000    \n",
       "\n",
       "       Hgb < 10 Data Availability Code  \\\n",
       "count                      1109.000000   \n",
       "mean                        213.069432   \n",
       "std                          24.576662   \n",
       "min                         199.000000   \n",
       "25%                         199.000000   \n",
       "50%                         199.000000   \n",
       "75%                         201.000000   \n",
       "max                         258.000000   \n",
       "\n",
       "       Percentage Of Medicare Patients With Hgb > 12 g/dL  \\\n",
       "count                                        6517.000000    \n",
       "mean                                            0.223262    \n",
       "std                                             1.352427    \n",
       "min                                             0.000000    \n",
       "25%                                             0.000000    \n",
       "50%                                             0.000000    \n",
       "75%                                             0.000000    \n",
       "max                                            47.000000    \n",
       "\n",
       "       Hgb > 12 Data Availability Code  \\\n",
       "count                      1109.000000   \n",
       "mean                        213.069432   \n",
       "std                          24.576662   \n",
       "min                         199.000000   \n",
       "25%                         199.000000   \n",
       "50%                         199.000000   \n",
       "75%                         201.000000   \n",
       "max                         258.000000   \n",
       "\n",
       "       Number Of Dialysis Patients With Hgb Data  \n",
       "count                                7555.000000  \n",
       "mean                                   36.481138  \n",
       "std                                    26.062896  \n",
       "min                                     0.000000  \n",
       "25%                                    18.000000  \n",
       "50%                                    32.000000  \n",
       "75%                                    50.000000  \n",
       "max                                   267.000000  "
      ]
     },
     "execution_count": 22,
     "metadata": {},
     "output_type": "execute_result"
    }
   ],
   "source": [
    "df.iloc[:, :30].describe()"
   ]
  },
  {
   "cell_type": "code",
   "execution_count": 23,
   "metadata": {
    "scrolled": true
   },
   "outputs": [
    {
     "data": {
      "text/html": [
       "<div>\n",
       "<style scoped>\n",
       "    .dataframe tbody tr th:only-of-type {\n",
       "        vertical-align: middle;\n",
       "    }\n",
       "\n",
       "    .dataframe tbody tr th {\n",
       "        vertical-align: top;\n",
       "    }\n",
       "\n",
       "    .dataframe thead th {\n",
       "        text-align: right;\n",
       "    }\n",
       "</style>\n",
       "<table border=\"1\" class=\"dataframe\">\n",
       "  <thead>\n",
       "    <tr style=\"text-align: right;\">\n",
       "      <th></th>\n",
       "      <th>Patient Transfusion Data Availability Code</th>\n",
       "      <th>Number Of Patients Included In The Transfusion Summary</th>\n",
       "      <th>Percent Of Adult HD Patients With Kt/V &gt;= 1.2</th>\n",
       "      <th>Adult HD Kt/V Data Availability Code</th>\n",
       "      <th>Percentage Of Adult PD PTS With Kt/V &gt;= 1.7</th>\n",
       "      <th>Adult PD Kt/V Data Availability Code</th>\n",
       "      <th>Percentage Of Pediatric HD Patients With Kt/V &gt;= 1.2</th>\n",
       "      <th>Pediatric HD Kt/V Data Availability Code</th>\n",
       "      <th>Number Of Adult HD Patients With Kt/V Data</th>\n",
       "      <th>Number Of Adult HD Patient-Months With Kt/V Data</th>\n",
       "      <th>Number Of Adult PD Patients With Kt/V Data</th>\n",
       "      <th>Number Of Adult PD Patient-Months With Kt/V Data</th>\n",
       "      <th>Number Of Pediatric HD Patients With Kt/V Data</th>\n",
       "      <th>Number Of Pediatric HD Patient-Months With Kt/V Data</th>\n",
       "      <th>Hypercalcemia Data Availability Code</th>\n",
       "      <th>Number Of Patients In Hypercalcemia Summary</th>\n",
       "      <th>Number Of Patient-Months In Hypercalcemia Summary</th>\n",
       "      <th>Percentage Of Adult Patients With Hypercalcemia (Serum Calcium Greater Than 10.2 mg/dL)</th>\n",
       "      <th>Number Of Patients In Serum Phosphorus Summary</th>\n",
       "    </tr>\n",
       "  </thead>\n",
       "  <tbody>\n",
       "    <tr>\n",
       "      <th>count</th>\n",
       "      <td>1341.000000</td>\n",
       "      <td>7552.000000</td>\n",
       "      <td>6755.000000</td>\n",
       "      <td>871.000000</td>\n",
       "      <td>2146.000000</td>\n",
       "      <td>5480.000000</td>\n",
       "      <td>16.000000</td>\n",
       "      <td>7610.000000</td>\n",
       "      <td>7555.000000</td>\n",
       "      <td>7175.000000</td>\n",
       "      <td>7555.000000</td>\n",
       "      <td>3358.000000</td>\n",
       "      <td>7555.000000</td>\n",
       "      <td>202.000000</td>\n",
       "      <td>422.000000</td>\n",
       "      <td>7555.000000</td>\n",
       "      <td>7463.000000</td>\n",
       "      <td>7204.000000</td>\n",
       "      <td>7555.000000</td>\n",
       "    </tr>\n",
       "    <tr>\n",
       "      <th>mean</th>\n",
       "      <td>228.988069</td>\n",
       "      <td>54.979211</td>\n",
       "      <td>96.615692</td>\n",
       "      <td>222.183697</td>\n",
       "      <td>91.467381</td>\n",
       "      <td>236.685949</td>\n",
       "      <td>92.062500</td>\n",
       "      <td>255.649409</td>\n",
       "      <td>70.159894</td>\n",
       "      <td>638.908153</td>\n",
       "      <td>9.577234</td>\n",
       "      <td>170.791543</td>\n",
       "      <td>0.097022</td>\n",
       "      <td>24.277228</td>\n",
       "      <td>227.831754</td>\n",
       "      <td>82.751952</td>\n",
       "      <td>732.713118</td>\n",
       "      <td>2.101333</td>\n",
       "      <td>87.066314</td>\n",
       "    </tr>\n",
       "    <tr>\n",
       "      <th>std</th>\n",
       "      <td>29.468853</td>\n",
       "      <td>38.443508</td>\n",
       "      <td>4.855055</td>\n",
       "      <td>27.955601</td>\n",
       "      <td>10.554205</td>\n",
       "      <td>27.393859</td>\n",
       "      <td>6.697947</td>\n",
       "      <td>13.620211</td>\n",
       "      <td>49.355366</td>\n",
       "      <td>436.725291</td>\n",
       "      <td>18.697931</td>\n",
       "      <td>192.258892</td>\n",
       "      <td>0.903753</td>\n",
       "      <td>31.545472</td>\n",
       "      <td>29.088572</td>\n",
       "      <td>55.699139</td>\n",
       "      <td>509.599704</td>\n",
       "      <td>4.939647</td>\n",
       "      <td>58.294605</td>\n",
       "    </tr>\n",
       "    <tr>\n",
       "      <th>min</th>\n",
       "      <td>199.000000</td>\n",
       "      <td>0.000000</td>\n",
       "      <td>0.000000</td>\n",
       "      <td>199.000000</td>\n",
       "      <td>0.000000</td>\n",
       "      <td>199.000000</td>\n",
       "      <td>79.000000</td>\n",
       "      <td>199.000000</td>\n",
       "      <td>0.000000</td>\n",
       "      <td>1.000000</td>\n",
       "      <td>0.000000</td>\n",
       "      <td>1.000000</td>\n",
       "      <td>0.000000</td>\n",
       "      <td>1.000000</td>\n",
       "      <td>199.000000</td>\n",
       "      <td>0.000000</td>\n",
       "      <td>0.000000</td>\n",
       "      <td>0.000000</td>\n",
       "      <td>0.000000</td>\n",
       "    </tr>\n",
       "    <tr>\n",
       "      <th>25%</th>\n",
       "      <td>199.000000</td>\n",
       "      <td>28.000000</td>\n",
       "      <td>96.000000</td>\n",
       "      <td>199.000000</td>\n",
       "      <td>90.000000</td>\n",
       "      <td>201.000000</td>\n",
       "      <td>88.000000</td>\n",
       "      <td>259.000000</td>\n",
       "      <td>35.000000</td>\n",
       "      <td>324.500000</td>\n",
       "      <td>0.000000</td>\n",
       "      <td>53.000000</td>\n",
       "      <td>0.000000</td>\n",
       "      <td>5.000000</td>\n",
       "      <td>199.000000</td>\n",
       "      <td>43.000000</td>\n",
       "      <td>365.500000</td>\n",
       "      <td>0.000000</td>\n",
       "      <td>46.000000</td>\n",
       "    </tr>\n",
       "    <tr>\n",
       "      <th>50%</th>\n",
       "      <td>258.000000</td>\n",
       "      <td>49.000000</td>\n",
       "      <td>98.000000</td>\n",
       "      <td>201.000000</td>\n",
       "      <td>95.000000</td>\n",
       "      <td>257.000000</td>\n",
       "      <td>92.000000</td>\n",
       "      <td>259.000000</td>\n",
       "      <td>65.000000</td>\n",
       "      <td>578.000000</td>\n",
       "      <td>0.000000</td>\n",
       "      <td>114.000000</td>\n",
       "      <td>0.000000</td>\n",
       "      <td>12.000000</td>\n",
       "      <td>201.000000</td>\n",
       "      <td>73.000000</td>\n",
       "      <td>643.000000</td>\n",
       "      <td>1.000000</td>\n",
       "      <td>78.000000</td>\n",
       "    </tr>\n",
       "    <tr>\n",
       "      <th>75%</th>\n",
       "      <td>258.000000</td>\n",
       "      <td>75.000000</td>\n",
       "      <td>99.000000</td>\n",
       "      <td>256.000000</td>\n",
       "      <td>97.000000</td>\n",
       "      <td>257.000000</td>\n",
       "      <td>99.250000</td>\n",
       "      <td>259.000000</td>\n",
       "      <td>98.000000</td>\n",
       "      <td>871.000000</td>\n",
       "      <td>13.000000</td>\n",
       "      <td>216.000000</td>\n",
       "      <td>0.000000</td>\n",
       "      <td>29.500000</td>\n",
       "      <td>258.000000</td>\n",
       "      <td>112.000000</td>\n",
       "      <td>992.000000</td>\n",
       "      <td>2.000000</td>\n",
       "      <td>117.000000</td>\n",
       "    </tr>\n",
       "    <tr>\n",
       "      <th>max</th>\n",
       "      <td>258.000000</td>\n",
       "      <td>455.000000</td>\n",
       "      <td>100.000000</td>\n",
       "      <td>258.000000</td>\n",
       "      <td>100.000000</td>\n",
       "      <td>258.000000</td>\n",
       "      <td>100.000000</td>\n",
       "      <td>259.000000</td>\n",
       "      <td>813.000000</td>\n",
       "      <td>3834.000000</td>\n",
       "      <td>255.000000</td>\n",
       "      <td>2080.000000</td>\n",
       "      <td>22.000000</td>\n",
       "      <td>186.000000</td>\n",
       "      <td>258.000000</td>\n",
       "      <td>858.000000</td>\n",
       "      <td>5063.000000</td>\n",
       "      <td>99.000000</td>\n",
       "      <td>964.000000</td>\n",
       "    </tr>\n",
       "  </tbody>\n",
       "</table>\n",
       "</div>"
      ],
      "text/plain": [
       "       Patient Transfusion Data Availability Code  \\\n",
       "count                                 1341.000000   \n",
       "mean                                   228.988069   \n",
       "std                                     29.468853   \n",
       "min                                    199.000000   \n",
       "25%                                    199.000000   \n",
       "50%                                    258.000000   \n",
       "75%                                    258.000000   \n",
       "max                                    258.000000   \n",
       "\n",
       "       Number Of Patients Included In The Transfusion Summary  \\\n",
       "count                                        7552.000000        \n",
       "mean                                           54.979211        \n",
       "std                                            38.443508        \n",
       "min                                             0.000000        \n",
       "25%                                            28.000000        \n",
       "50%                                            49.000000        \n",
       "75%                                            75.000000        \n",
       "max                                           455.000000        \n",
       "\n",
       "       Percent Of Adult HD Patients With Kt/V >= 1.2  \\\n",
       "count                                    6755.000000   \n",
       "mean                                       96.615692   \n",
       "std                                         4.855055   \n",
       "min                                         0.000000   \n",
       "25%                                        96.000000   \n",
       "50%                                        98.000000   \n",
       "75%                                        99.000000   \n",
       "max                                       100.000000   \n",
       "\n",
       "       Adult HD Kt/V Data Availability Code  \\\n",
       "count                            871.000000   \n",
       "mean                             222.183697   \n",
       "std                               27.955601   \n",
       "min                              199.000000   \n",
       "25%                              199.000000   \n",
       "50%                              201.000000   \n",
       "75%                              256.000000   \n",
       "max                              258.000000   \n",
       "\n",
       "       Percentage Of Adult PD PTS With Kt/V >= 1.7  \\\n",
       "count                                  2146.000000   \n",
       "mean                                     91.467381   \n",
       "std                                      10.554205   \n",
       "min                                       0.000000   \n",
       "25%                                      90.000000   \n",
       "50%                                      95.000000   \n",
       "75%                                      97.000000   \n",
       "max                                     100.000000   \n",
       "\n",
       "       Adult PD Kt/V Data Availability Code  \\\n",
       "count                           5480.000000   \n",
       "mean                             236.685949   \n",
       "std                               27.393859   \n",
       "min                              199.000000   \n",
       "25%                              201.000000   \n",
       "50%                              257.000000   \n",
       "75%                              257.000000   \n",
       "max                              258.000000   \n",
       "\n",
       "       Percentage Of Pediatric HD Patients With Kt/V >= 1.2  \\\n",
       "count                                          16.000000      \n",
       "mean                                           92.062500      \n",
       "std                                             6.697947      \n",
       "min                                            79.000000      \n",
       "25%                                            88.000000      \n",
       "50%                                            92.000000      \n",
       "75%                                            99.250000      \n",
       "max                                           100.000000      \n",
       "\n",
       "       Pediatric HD Kt/V Data Availability Code  \\\n",
       "count                               7610.000000   \n",
       "mean                                 255.649409   \n",
       "std                                   13.620211   \n",
       "min                                  199.000000   \n",
       "25%                                  259.000000   \n",
       "50%                                  259.000000   \n",
       "75%                                  259.000000   \n",
       "max                                  259.000000   \n",
       "\n",
       "       Number Of Adult HD Patients With Kt/V Data  \\\n",
       "count                                 7555.000000   \n",
       "mean                                    70.159894   \n",
       "std                                     49.355366   \n",
       "min                                      0.000000   \n",
       "25%                                     35.000000   \n",
       "50%                                     65.000000   \n",
       "75%                                     98.000000   \n",
       "max                                    813.000000   \n",
       "\n",
       "       Number Of Adult HD Patient-Months With Kt/V Data  \\\n",
       "count                                       7175.000000   \n",
       "mean                                         638.908153   \n",
       "std                                          436.725291   \n",
       "min                                            1.000000   \n",
       "25%                                          324.500000   \n",
       "50%                                          578.000000   \n",
       "75%                                          871.000000   \n",
       "max                                         3834.000000   \n",
       "\n",
       "       Number Of Adult PD Patients With Kt/V Data  \\\n",
       "count                                 7555.000000   \n",
       "mean                                     9.577234   \n",
       "std                                     18.697931   \n",
       "min                                      0.000000   \n",
       "25%                                      0.000000   \n",
       "50%                                      0.000000   \n",
       "75%                                     13.000000   \n",
       "max                                    255.000000   \n",
       "\n",
       "       Number Of Adult PD Patient-Months With Kt/V Data  \\\n",
       "count                                       3358.000000   \n",
       "mean                                         170.791543   \n",
       "std                                          192.258892   \n",
       "min                                            1.000000   \n",
       "25%                                           53.000000   \n",
       "50%                                          114.000000   \n",
       "75%                                          216.000000   \n",
       "max                                         2080.000000   \n",
       "\n",
       "       Number Of Pediatric HD Patients With Kt/V Data  \\\n",
       "count                                     7555.000000   \n",
       "mean                                         0.097022   \n",
       "std                                          0.903753   \n",
       "min                                          0.000000   \n",
       "25%                                          0.000000   \n",
       "50%                                          0.000000   \n",
       "75%                                          0.000000   \n",
       "max                                         22.000000   \n",
       "\n",
       "       Number Of Pediatric HD Patient-Months With Kt/V Data  \\\n",
       "count                                         202.000000      \n",
       "mean                                           24.277228      \n",
       "std                                            31.545472      \n",
       "min                                             1.000000      \n",
       "25%                                             5.000000      \n",
       "50%                                            12.000000      \n",
       "75%                                            29.500000      \n",
       "max                                           186.000000      \n",
       "\n",
       "       Hypercalcemia Data Availability Code  \\\n",
       "count                            422.000000   \n",
       "mean                             227.831754   \n",
       "std                               29.088572   \n",
       "min                              199.000000   \n",
       "25%                              199.000000   \n",
       "50%                              201.000000   \n",
       "75%                              258.000000   \n",
       "max                              258.000000   \n",
       "\n",
       "       Number Of Patients In Hypercalcemia Summary  \\\n",
       "count                                  7555.000000   \n",
       "mean                                     82.751952   \n",
       "std                                      55.699139   \n",
       "min                                       0.000000   \n",
       "25%                                      43.000000   \n",
       "50%                                      73.000000   \n",
       "75%                                     112.000000   \n",
       "max                                     858.000000   \n",
       "\n",
       "       Number Of Patient-Months In Hypercalcemia Summary  \\\n",
       "count                                        7463.000000   \n",
       "mean                                          732.713118   \n",
       "std                                           509.599704   \n",
       "min                                             0.000000   \n",
       "25%                                           365.500000   \n",
       "50%                                           643.000000   \n",
       "75%                                           992.000000   \n",
       "max                                          5063.000000   \n",
       "\n",
       "       Percentage Of Adult Patients With Hypercalcemia (Serum Calcium Greater Than 10.2 mg/dL)  \\\n",
       "count                                        7204.000000                                         \n",
       "mean                                            2.101333                                         \n",
       "std                                             4.939647                                         \n",
       "min                                             0.000000                                         \n",
       "25%                                             0.000000                                         \n",
       "50%                                             1.000000                                         \n",
       "75%                                             2.000000                                         \n",
       "max                                            99.000000                                         \n",
       "\n",
       "       Number Of Patients In Serum Phosphorus Summary  \n",
       "count                                     7555.000000  \n",
       "mean                                        87.066314  \n",
       "std                                         58.294605  \n",
       "min                                          0.000000  \n",
       "25%                                         46.000000  \n",
       "50%                                         78.000000  \n",
       "75%                                        117.000000  \n",
       "max                                        964.000000  "
      ]
     },
     "execution_count": 23,
     "metadata": {},
     "output_type": "execute_result"
    }
   ],
   "source": [
    "df.iloc[:, 30:50].describe()"
   ]
  },
  {
   "cell_type": "code",
   "execution_count": 24,
   "metadata": {},
   "outputs": [
    {
     "data": {
      "text/html": [
       "<div>\n",
       "<style scoped>\n",
       "    .dataframe tbody tr th:only-of-type {\n",
       "        vertical-align: middle;\n",
       "    }\n",
       "\n",
       "    .dataframe tbody tr th {\n",
       "        vertical-align: top;\n",
       "    }\n",
       "\n",
       "    .dataframe thead th {\n",
       "        text-align: right;\n",
       "    }\n",
       "</style>\n",
       "<table border=\"1\" class=\"dataframe\">\n",
       "  <thead>\n",
       "    <tr style=\"text-align: right;\">\n",
       "      <th></th>\n",
       "      <th>Number Of Patient-Months In Serum Phosphorus Summary</th>\n",
       "      <th>Serum Phosphorus Data Availability Code</th>\n",
       "      <th>Percentage Of Adult Patients With Serum Phosphorus Less Than 3.5 mg/dL</th>\n",
       "      <th>Percentage Of Adult Patients With Serum Phosphorus Between 3.5 - 4.5 mg/dL</th>\n",
       "      <th>Percentage Of Adult Patients With Serum Phosphorus Between 4.6 - 5.5 mg/dL</th>\n",
       "      <th>Percentage Of Adult Patients With Serum Phosphorus Between 5.6 - 7.0 mg/dL</th>\n",
       "      <th>Percentage Of Adult Patients With Serum Phosphorus Greater Than 7.0 mg/dL</th>\n",
       "      <th>Patient Hospitalization Data Availability Code</th>\n",
       "      <th>Patient Hospital Readmission Data Availability Code</th>\n",
       "      <th>Patient Survival Data Availability Code</th>\n",
       "      <th>Number Of Patients Included In Hospitalization Summary</th>\n",
       "      <th>Number Of Hospitalizations Included In Hospital Readmission Summary</th>\n",
       "      <th>Number Of Patients Included In Survival Summary</th>\n",
       "      <th>Mortality Rate (Facility)</th>\n",
       "    </tr>\n",
       "  </thead>\n",
       "  <tbody>\n",
       "    <tr>\n",
       "      <th>count</th>\n",
       "      <td>7463.000000</td>\n",
       "      <td>411.000000</td>\n",
       "      <td>7215.00000</td>\n",
       "      <td>7215.000000</td>\n",
       "      <td>7215.000000</td>\n",
       "      <td>7215.000000</td>\n",
       "      <td>7215.000000</td>\n",
       "      <td>769.000000</td>\n",
       "      <td>820.000000</td>\n",
       "      <td>925.000000</td>\n",
       "      <td>7552.000000</td>\n",
       "      <td>7553.000000</td>\n",
       "      <td>7552.000000</td>\n",
       "      <td>6701.000000</td>\n",
       "    </tr>\n",
       "    <tr>\n",
       "      <th>mean</th>\n",
       "      <td>753.179016</td>\n",
       "      <td>225.939173</td>\n",
       "      <td>8.09508</td>\n",
       "      <td>24.658073</td>\n",
       "      <td>31.062786</td>\n",
       "      <td>21.986556</td>\n",
       "      <td>14.193486</td>\n",
       "      <td>245.812744</td>\n",
       "      <td>240.004878</td>\n",
       "      <td>242.057297</td>\n",
       "      <td>64.622484</td>\n",
       "      <td>72.216867</td>\n",
       "      <td>251.310249</td>\n",
       "      <td>22.156902</td>\n",
       "    </tr>\n",
       "    <tr>\n",
       "      <th>std</th>\n",
       "      <td>522.367689</td>\n",
       "      <td>28.909678</td>\n",
       "      <td>3.33236</td>\n",
       "      <td>4.735087</td>\n",
       "      <td>5.184275</td>\n",
       "      <td>5.280590</td>\n",
       "      <td>5.219070</td>\n",
       "      <td>23.859371</td>\n",
       "      <td>27.173121</td>\n",
       "      <td>26.189824</td>\n",
       "      <td>44.263213</td>\n",
       "      <td>54.563397</td>\n",
       "      <td>185.960863</td>\n",
       "      <td>6.101124</td>\n",
       "    </tr>\n",
       "    <tr>\n",
       "      <th>min</th>\n",
       "      <td>0.000000</td>\n",
       "      <td>199.000000</td>\n",
       "      <td>0.00000</td>\n",
       "      <td>4.000000</td>\n",
       "      <td>8.000000</td>\n",
       "      <td>2.000000</td>\n",
       "      <td>0.000000</td>\n",
       "      <td>199.000000</td>\n",
       "      <td>199.000000</td>\n",
       "      <td>199.000000</td>\n",
       "      <td>0.000000</td>\n",
       "      <td>0.000000</td>\n",
       "      <td>0.000000</td>\n",
       "      <td>0.000000</td>\n",
       "    </tr>\n",
       "    <tr>\n",
       "      <th>25%</th>\n",
       "      <td>377.000000</td>\n",
       "      <td>199.000000</td>\n",
       "      <td>6.00000</td>\n",
       "      <td>22.000000</td>\n",
       "      <td>27.000000</td>\n",
       "      <td>18.000000</td>\n",
       "      <td>11.000000</td>\n",
       "      <td>258.000000</td>\n",
       "      <td>199.000000</td>\n",
       "      <td>199.000000</td>\n",
       "      <td>34.000000</td>\n",
       "      <td>33.000000</td>\n",
       "      <td>113.000000</td>\n",
       "      <td>18.300000</td>\n",
       "    </tr>\n",
       "    <tr>\n",
       "      <th>50%</th>\n",
       "      <td>661.000000</td>\n",
       "      <td>201.000000</td>\n",
       "      <td>8.00000</td>\n",
       "      <td>24.000000</td>\n",
       "      <td>31.000000</td>\n",
       "      <td>22.000000</td>\n",
       "      <td>14.000000</td>\n",
       "      <td>258.000000</td>\n",
       "      <td>258.000000</td>\n",
       "      <td>258.000000</td>\n",
       "      <td>59.000000</td>\n",
       "      <td>63.000000</td>\n",
       "      <td>228.000000</td>\n",
       "      <td>21.600000</td>\n",
       "    </tr>\n",
       "    <tr>\n",
       "      <th>75%</th>\n",
       "      <td>1018.000000</td>\n",
       "      <td>258.000000</td>\n",
       "      <td>10.00000</td>\n",
       "      <td>28.000000</td>\n",
       "      <td>34.000000</td>\n",
       "      <td>26.000000</td>\n",
       "      <td>17.000000</td>\n",
       "      <td>258.000000</td>\n",
       "      <td>258.000000</td>\n",
       "      <td>258.000000</td>\n",
       "      <td>88.000000</td>\n",
       "      <td>101.000000</td>\n",
       "      <td>353.000000</td>\n",
       "      <td>25.300000</td>\n",
       "    </tr>\n",
       "    <tr>\n",
       "      <th>max</th>\n",
       "      <td>5217.000000</td>\n",
       "      <td>258.000000</td>\n",
       "      <td>46.00000</td>\n",
       "      <td>52.000000</td>\n",
       "      <td>61.000000</td>\n",
       "      <td>50.000000</td>\n",
       "      <td>43.000000</td>\n",
       "      <td>258.000000</td>\n",
       "      <td>258.000000</td>\n",
       "      <td>258.000000</td>\n",
       "      <td>654.000000</td>\n",
       "      <td>800.000000</td>\n",
       "      <td>2115.000000</td>\n",
       "      <td>72.800000</td>\n",
       "    </tr>\n",
       "  </tbody>\n",
       "</table>\n",
       "</div>"
      ],
      "text/plain": [
       "       Number Of Patient-Months In Serum Phosphorus Summary  \\\n",
       "count                                        7463.000000      \n",
       "mean                                          753.179016      \n",
       "std                                           522.367689      \n",
       "min                                             0.000000      \n",
       "25%                                           377.000000      \n",
       "50%                                           661.000000      \n",
       "75%                                          1018.000000      \n",
       "max                                          5217.000000      \n",
       "\n",
       "       Serum Phosphorus Data Availability Code  \\\n",
       "count                               411.000000   \n",
       "mean                                225.939173   \n",
       "std                                  28.909678   \n",
       "min                                 199.000000   \n",
       "25%                                 199.000000   \n",
       "50%                                 201.000000   \n",
       "75%                                 258.000000   \n",
       "max                                 258.000000   \n",
       "\n",
       "       Percentage Of Adult Patients With Serum Phosphorus Less Than 3.5 mg/dL  \\\n",
       "count                                         7215.00000                        \n",
       "mean                                             8.09508                        \n",
       "std                                              3.33236                        \n",
       "min                                              0.00000                        \n",
       "25%                                              6.00000                        \n",
       "50%                                              8.00000                        \n",
       "75%                                             10.00000                        \n",
       "max                                             46.00000                        \n",
       "\n",
       "       Percentage Of Adult Patients With Serum Phosphorus Between 3.5 - 4.5 mg/dL  \\\n",
       "count                                        7215.000000                            \n",
       "mean                                           24.658073                            \n",
       "std                                             4.735087                            \n",
       "min                                             4.000000                            \n",
       "25%                                            22.000000                            \n",
       "50%                                            24.000000                            \n",
       "75%                                            28.000000                            \n",
       "max                                            52.000000                            \n",
       "\n",
       "       Percentage Of Adult Patients With Serum Phosphorus Between 4.6 - 5.5 mg/dL  \\\n",
       "count                                        7215.000000                            \n",
       "mean                                           31.062786                            \n",
       "std                                             5.184275                            \n",
       "min                                             8.000000                            \n",
       "25%                                            27.000000                            \n",
       "50%                                            31.000000                            \n",
       "75%                                            34.000000                            \n",
       "max                                            61.000000                            \n",
       "\n",
       "       Percentage Of Adult Patients With Serum Phosphorus Between 5.6 - 7.0 mg/dL  \\\n",
       "count                                        7215.000000                            \n",
       "mean                                           21.986556                            \n",
       "std                                             5.280590                            \n",
       "min                                             2.000000                            \n",
       "25%                                            18.000000                            \n",
       "50%                                            22.000000                            \n",
       "75%                                            26.000000                            \n",
       "max                                            50.000000                            \n",
       "\n",
       "       Percentage Of Adult Patients With Serum Phosphorus Greater Than 7.0 mg/dL  \\\n",
       "count                                        7215.000000                           \n",
       "mean                                           14.193486                           \n",
       "std                                             5.219070                           \n",
       "min                                             0.000000                           \n",
       "25%                                            11.000000                           \n",
       "50%                                            14.000000                           \n",
       "75%                                            17.000000                           \n",
       "max                                            43.000000                           \n",
       "\n",
       "       Patient Hospitalization Data Availability Code  \\\n",
       "count                                      769.000000   \n",
       "mean                                       245.812744   \n",
       "std                                         23.859371   \n",
       "min                                        199.000000   \n",
       "25%                                        258.000000   \n",
       "50%                                        258.000000   \n",
       "75%                                        258.000000   \n",
       "max                                        258.000000   \n",
       "\n",
       "       Patient Hospital Readmission Data Availability Code  \\\n",
       "count                                         820.000000     \n",
       "mean                                          240.004878     \n",
       "std                                            27.173121     \n",
       "min                                           199.000000     \n",
       "25%                                           199.000000     \n",
       "50%                                           258.000000     \n",
       "75%                                           258.000000     \n",
       "max                                           258.000000     \n",
       "\n",
       "       Patient Survival Data Availability Code  \\\n",
       "count                               925.000000   \n",
       "mean                                242.057297   \n",
       "std                                  26.189824   \n",
       "min                                 199.000000   \n",
       "25%                                 199.000000   \n",
       "50%                                 258.000000   \n",
       "75%                                 258.000000   \n",
       "max                                 258.000000   \n",
       "\n",
       "       Number Of Patients Included In Hospitalization Summary  \\\n",
       "count                                        7552.000000        \n",
       "mean                                           64.622484        \n",
       "std                                            44.263213        \n",
       "min                                             0.000000        \n",
       "25%                                            34.000000        \n",
       "50%                                            59.000000        \n",
       "75%                                            88.000000        \n",
       "max                                           654.000000        \n",
       "\n",
       "       Number Of Hospitalizations Included In Hospital Readmission Summary  \\\n",
       "count                                        7553.000000                     \n",
       "mean                                           72.216867                     \n",
       "std                                            54.563397                     \n",
       "min                                             0.000000                     \n",
       "25%                                            33.000000                     \n",
       "50%                                            63.000000                     \n",
       "75%                                           101.000000                     \n",
       "max                                           800.000000                     \n",
       "\n",
       "       Number Of Patients Included In Survival Summary  \\\n",
       "count                                      7552.000000   \n",
       "mean                                        251.310249   \n",
       "std                                         185.960863   \n",
       "min                                           0.000000   \n",
       "25%                                         113.000000   \n",
       "50%                                         228.000000   \n",
       "75%                                         353.000000   \n",
       "max                                        2115.000000   \n",
       "\n",
       "       Mortality Rate (Facility)  \n",
       "count                6701.000000  \n",
       "mean                   22.156902  \n",
       "std                     6.101124  \n",
       "min                     0.000000  \n",
       "25%                    18.300000  \n",
       "50%                    21.600000  \n",
       "75%                    25.300000  \n",
       "max                    72.800000  "
      ]
     },
     "execution_count": 24,
     "metadata": {},
     "output_type": "execute_result"
    }
   ],
   "source": [
    "df.iloc[:, 50:70].describe()"
   ]
  },
  {
   "cell_type": "code",
   "execution_count": 25,
   "metadata": {},
   "outputs": [
    {
     "data": {
      "text/html": [
       "<div>\n",
       "<style scoped>\n",
       "    .dataframe tbody tr th:only-of-type {\n",
       "        vertical-align: middle;\n",
       "    }\n",
       "\n",
       "    .dataframe tbody tr th {\n",
       "        vertical-align: top;\n",
       "    }\n",
       "\n",
       "    .dataframe thead th {\n",
       "        text-align: right;\n",
       "    }\n",
       "</style>\n",
       "<table border=\"1\" class=\"dataframe\">\n",
       "  <thead>\n",
       "    <tr style=\"text-align: right;\">\n",
       "      <th></th>\n",
       "      <th>Mortality Rate: Upper Confidence Limit (97.5%)</th>\n",
       "      <th>Mortality Rate: Lower Confidence Limit (2.5%)</th>\n",
       "      <th>Readmission Rate (Facility)</th>\n",
       "      <th>Readmission Rate: Upper Confidence Limit (97.5%)</th>\n",
       "      <th>Readmission Rate: Lower Confidence Limit (2.5%)</th>\n",
       "      <th>Hospitalization Rate (Facility)</th>\n",
       "      <th>Hospitalization Rate: Upper Confidence Limit (97.5%)</th>\n",
       "      <th>Hospitalization Rate: Lower Confidence Limit (2.5%)</th>\n",
       "      <th>Number Of Pediatric PD Patients With Kt/V Data</th>\n",
       "      <th>Pediatric PD Kt/V Data Availability Code</th>\n",
       "      <th>Number Of Pediatric PD Patient-Months With Kt/V Data</th>\n",
       "      <th>Percentage Of Pediatric PD Patients With Kt/V &gt;= 1.8</th>\n",
       "      <th>Patient Infection Data Availability Code</th>\n",
       "      <th>Standard Infection Ratio</th>\n",
       "      <th>SIR: Upper Confidence Limit (97.5%)</th>\n",
       "      <th>SIR: Lower Confidence Limit (2.5%)</th>\n",
       "      <th>Transfusion Rate (Facility)</th>\n",
       "      <th>Transfusion Rate: Upper Confidence Limit (97.5%)</th>\n",
       "    </tr>\n",
       "  </thead>\n",
       "  <tbody>\n",
       "    <tr>\n",
       "      <th>count</th>\n",
       "      <td>6701.000000</td>\n",
       "      <td>6701.000000</td>\n",
       "      <td>6806.000000</td>\n",
       "      <td>6806.000000</td>\n",
       "      <td>6806.000000</td>\n",
       "      <td>6857.000000</td>\n",
       "      <td>6856.000000</td>\n",
       "      <td>6857.000000</td>\n",
       "      <td>7555.000000</td>\n",
       "      <td>7597.000000</td>\n",
       "      <td>150.000000</td>\n",
       "      <td>29.000000</td>\n",
       "      <td>1375.000000</td>\n",
       "      <td>6251.000000</td>\n",
       "      <td>6251.000000</td>\n",
       "      <td>5368.000000</td>\n",
       "      <td>6285.000000</td>\n",
       "      <td>6285.000000</td>\n",
       "    </tr>\n",
       "    <tr>\n",
       "      <th>mean</th>\n",
       "      <td>32.513953</td>\n",
       "      <td>14.887465</td>\n",
       "      <td>26.789994</td>\n",
       "      <td>43.185616</td>\n",
       "      <td>14.725610</td>\n",
       "      <td>186.714511</td>\n",
       "      <td>317.215271</td>\n",
       "      <td>117.489733</td>\n",
       "      <td>0.115288</td>\n",
       "      <td>256.813611</td>\n",
       "      <td>42.746667</td>\n",
       "      <td>76.413793</td>\n",
       "      <td>228.077091</td>\n",
       "      <td>0.747880</td>\n",
       "      <td>2.064434</td>\n",
       "      <td>0.300520</td>\n",
       "      <td>20.858250</td>\n",
       "      <td>98.287224</td>\n",
       "    </tr>\n",
       "    <tr>\n",
       "      <th>std</th>\n",
       "      <td>9.932624</td>\n",
       "      <td>5.161044</td>\n",
       "      <td>7.757977</td>\n",
       "      <td>9.597002</td>\n",
       "      <td>6.675535</td>\n",
       "      <td>50.618308</td>\n",
       "      <td>83.540713</td>\n",
       "      <td>39.968571</td>\n",
       "      <td>1.147835</td>\n",
       "      <td>11.108636</td>\n",
       "      <td>46.106411</td>\n",
       "      <td>20.536583</td>\n",
       "      <td>28.638715</td>\n",
       "      <td>0.667919</td>\n",
       "      <td>1.248678</td>\n",
       "      <td>0.344914</td>\n",
       "      <td>16.960678</td>\n",
       "      <td>50.327271</td>\n",
       "    </tr>\n",
       "    <tr>\n",
       "      <th>min</th>\n",
       "      <td>7.900000</td>\n",
       "      <td>0.000000</td>\n",
       "      <td>0.000000</td>\n",
       "      <td>14.100000</td>\n",
       "      <td>0.000000</td>\n",
       "      <td>0.000000</td>\n",
       "      <td>143.400000</td>\n",
       "      <td>0.000000</td>\n",
       "      <td>0.000000</td>\n",
       "      <td>199.000000</td>\n",
       "      <td>1.000000</td>\n",
       "      <td>23.000000</td>\n",
       "      <td>199.000000</td>\n",
       "      <td>0.000000</td>\n",
       "      <td>0.160000</td>\n",
       "      <td>0.000000</td>\n",
       "      <td>0.000000</td>\n",
       "      <td>15.500000</td>\n",
       "    </tr>\n",
       "    <tr>\n",
       "      <th>25%</th>\n",
       "      <td>26.100000</td>\n",
       "      <td>11.800000</td>\n",
       "      <td>22.100000</td>\n",
       "      <td>36.600000</td>\n",
       "      <td>10.200000</td>\n",
       "      <td>153.300000</td>\n",
       "      <td>263.900000</td>\n",
       "      <td>90.800000</td>\n",
       "      <td>0.000000</td>\n",
       "      <td>259.000000</td>\n",
       "      <td>12.000000</td>\n",
       "      <td>76.000000</td>\n",
       "      <td>201.000000</td>\n",
       "      <td>0.290000</td>\n",
       "      <td>1.210000</td>\n",
       "      <td>0.060000</td>\n",
       "      <td>8.900000</td>\n",
       "      <td>61.000000</td>\n",
       "    </tr>\n",
       "    <tr>\n",
       "      <th>50%</th>\n",
       "      <td>30.600000</td>\n",
       "      <td>14.800000</td>\n",
       "      <td>26.800000</td>\n",
       "      <td>42.200000</td>\n",
       "      <td>15.100000</td>\n",
       "      <td>183.400000</td>\n",
       "      <td>302.850000</td>\n",
       "      <td>116.400000</td>\n",
       "      <td>0.000000</td>\n",
       "      <td>259.000000</td>\n",
       "      <td>25.000000</td>\n",
       "      <td>82.000000</td>\n",
       "      <td>201.000000</td>\n",
       "      <td>0.610000</td>\n",
       "      <td>1.780000</td>\n",
       "      <td>0.190000</td>\n",
       "      <td>17.700000</td>\n",
       "      <td>86.000000</td>\n",
       "    </tr>\n",
       "    <tr>\n",
       "      <th>75%</th>\n",
       "      <td>36.300000</td>\n",
       "      <td>18.000000</td>\n",
       "      <td>31.700000</td>\n",
       "      <td>48.200000</td>\n",
       "      <td>19.200000</td>\n",
       "      <td>216.100000</td>\n",
       "      <td>349.900000</td>\n",
       "      <td>142.400000</td>\n",
       "      <td>0.000000</td>\n",
       "      <td>259.000000</td>\n",
       "      <td>65.750000</td>\n",
       "      <td>88.000000</td>\n",
       "      <td>258.000000</td>\n",
       "      <td>1.070000</td>\n",
       "      <td>2.600000</td>\n",
       "      <td>0.430000</td>\n",
       "      <td>28.100000</td>\n",
       "      <td>124.400000</td>\n",
       "    </tr>\n",
       "    <tr>\n",
       "      <th>max</th>\n",
       "      <td>108.700000</td>\n",
       "      <td>48.200000</td>\n",
       "      <td>98.800000</td>\n",
       "      <td>143.400000</td>\n",
       "      <td>49.800000</td>\n",
       "      <td>725.200000</td>\n",
       "      <td>1114.200000</td>\n",
       "      <td>489.100000</td>\n",
       "      <td>29.000000</td>\n",
       "      <td>259.000000</td>\n",
       "      <td>224.000000</td>\n",
       "      <td>99.000000</td>\n",
       "      <td>258.000000</td>\n",
       "      <td>11.030000</td>\n",
       "      <td>15.110000</td>\n",
       "      <td>7.880000</td>\n",
       "      <td>213.300000</td>\n",
       "      <td>211.500000</td>\n",
       "    </tr>\n",
       "  </tbody>\n",
       "</table>\n",
       "</div>"
      ],
      "text/plain": [
       "       Mortality Rate: Upper Confidence Limit (97.5%)  \\\n",
       "count                                     6701.000000   \n",
       "mean                                        32.513953   \n",
       "std                                          9.932624   \n",
       "min                                          7.900000   \n",
       "25%                                         26.100000   \n",
       "50%                                         30.600000   \n",
       "75%                                         36.300000   \n",
       "max                                        108.700000   \n",
       "\n",
       "       Mortality Rate: Lower Confidence Limit (2.5%)  \\\n",
       "count                                    6701.000000   \n",
       "mean                                       14.887465   \n",
       "std                                         5.161044   \n",
       "min                                         0.000000   \n",
       "25%                                        11.800000   \n",
       "50%                                        14.800000   \n",
       "75%                                        18.000000   \n",
       "max                                        48.200000   \n",
       "\n",
       "       Readmission Rate (Facility)  \\\n",
       "count                  6806.000000   \n",
       "mean                     26.789994   \n",
       "std                       7.757977   \n",
       "min                       0.000000   \n",
       "25%                      22.100000   \n",
       "50%                      26.800000   \n",
       "75%                      31.700000   \n",
       "max                      98.800000   \n",
       "\n",
       "       Readmission Rate: Upper Confidence Limit (97.5%)  \\\n",
       "count                                       6806.000000   \n",
       "mean                                          43.185616   \n",
       "std                                            9.597002   \n",
       "min                                           14.100000   \n",
       "25%                                           36.600000   \n",
       "50%                                           42.200000   \n",
       "75%                                           48.200000   \n",
       "max                                          143.400000   \n",
       "\n",
       "       Readmission Rate: Lower Confidence Limit (2.5%)  \\\n",
       "count                                      6806.000000   \n",
       "mean                                         14.725610   \n",
       "std                                           6.675535   \n",
       "min                                           0.000000   \n",
       "25%                                          10.200000   \n",
       "50%                                          15.100000   \n",
       "75%                                          19.200000   \n",
       "max                                          49.800000   \n",
       "\n",
       "       Hospitalization Rate (Facility)  \\\n",
       "count                      6857.000000   \n",
       "mean                        186.714511   \n",
       "std                          50.618308   \n",
       "min                           0.000000   \n",
       "25%                         153.300000   \n",
       "50%                         183.400000   \n",
       "75%                         216.100000   \n",
       "max                         725.200000   \n",
       "\n",
       "       Hospitalization Rate: Upper Confidence Limit (97.5%)  \\\n",
       "count                                        6856.000000      \n",
       "mean                                          317.215271      \n",
       "std                                            83.540713      \n",
       "min                                           143.400000      \n",
       "25%                                           263.900000      \n",
       "50%                                           302.850000      \n",
       "75%                                           349.900000      \n",
       "max                                          1114.200000      \n",
       "\n",
       "       Hospitalization Rate: Lower Confidence Limit (2.5%)  \\\n",
       "count                                        6857.000000     \n",
       "mean                                          117.489733     \n",
       "std                                            39.968571     \n",
       "min                                             0.000000     \n",
       "25%                                            90.800000     \n",
       "50%                                           116.400000     \n",
       "75%                                           142.400000     \n",
       "max                                           489.100000     \n",
       "\n",
       "       Number Of Pediatric PD Patients With Kt/V Data  \\\n",
       "count                                     7555.000000   \n",
       "mean                                         0.115288   \n",
       "std                                          1.147835   \n",
       "min                                          0.000000   \n",
       "25%                                          0.000000   \n",
       "50%                                          0.000000   \n",
       "75%                                          0.000000   \n",
       "max                                         29.000000   \n",
       "\n",
       "       Pediatric PD Kt/V Data Availability Code  \\\n",
       "count                               7597.000000   \n",
       "mean                                 256.813611   \n",
       "std                                   11.108636   \n",
       "min                                  199.000000   \n",
       "25%                                  259.000000   \n",
       "50%                                  259.000000   \n",
       "75%                                  259.000000   \n",
       "max                                  259.000000   \n",
       "\n",
       "       Number Of Pediatric PD Patient-Months With Kt/V Data  \\\n",
       "count                                         150.000000      \n",
       "mean                                           42.746667      \n",
       "std                                            46.106411      \n",
       "min                                             1.000000      \n",
       "25%                                            12.000000      \n",
       "50%                                            25.000000      \n",
       "75%                                            65.750000      \n",
       "max                                           224.000000      \n",
       "\n",
       "       Percentage Of Pediatric PD Patients With Kt/V >= 1.8  \\\n",
       "count                                          29.000000      \n",
       "mean                                           76.413793      \n",
       "std                                            20.536583      \n",
       "min                                            23.000000      \n",
       "25%                                            76.000000      \n",
       "50%                                            82.000000      \n",
       "75%                                            88.000000      \n",
       "max                                            99.000000      \n",
       "\n",
       "       Patient Infection Data Availability Code  Standard Infection Ratio  \\\n",
       "count                               1375.000000               6251.000000   \n",
       "mean                                 228.077091                  0.747880   \n",
       "std                                   28.638715                  0.667919   \n",
       "min                                  199.000000                  0.000000   \n",
       "25%                                  201.000000                  0.290000   \n",
       "50%                                  201.000000                  0.610000   \n",
       "75%                                  258.000000                  1.070000   \n",
       "max                                  258.000000                 11.030000   \n",
       "\n",
       "       SIR: Upper Confidence Limit (97.5%)  \\\n",
       "count                          6251.000000   \n",
       "mean                              2.064434   \n",
       "std                               1.248678   \n",
       "min                               0.160000   \n",
       "25%                               1.210000   \n",
       "50%                               1.780000   \n",
       "75%                               2.600000   \n",
       "max                              15.110000   \n",
       "\n",
       "       SIR: Lower Confidence Limit (2.5%)  Transfusion Rate (Facility)  \\\n",
       "count                         5368.000000                  6285.000000   \n",
       "mean                             0.300520                    20.858250   \n",
       "std                              0.344914                    16.960678   \n",
       "min                              0.000000                     0.000000   \n",
       "25%                              0.060000                     8.900000   \n",
       "50%                              0.190000                    17.700000   \n",
       "75%                              0.430000                    28.100000   \n",
       "max                              7.880000                   213.300000   \n",
       "\n",
       "       Transfusion Rate: Upper Confidence Limit (97.5%)  \n",
       "count                                       6285.000000  \n",
       "mean                                          98.287224  \n",
       "std                                           50.327271  \n",
       "min                                           15.500000  \n",
       "25%                                           61.000000  \n",
       "50%                                           86.000000  \n",
       "75%                                          124.400000  \n",
       "max                                          211.500000  "
      ]
     },
     "execution_count": 25,
     "metadata": {},
     "output_type": "execute_result"
    }
   ],
   "source": [
    "df.iloc[:, 70:90].describe()"
   ]
  },
  {
   "cell_type": "code",
   "execution_count": 26,
   "metadata": {},
   "outputs": [
    {
     "data": {
      "text/html": [
       "<div>\n",
       "<style scoped>\n",
       "    .dataframe tbody tr th:only-of-type {\n",
       "        vertical-align: middle;\n",
       "    }\n",
       "\n",
       "    .dataframe tbody tr th {\n",
       "        vertical-align: top;\n",
       "    }\n",
       "\n",
       "    .dataframe thead th {\n",
       "        text-align: right;\n",
       "    }\n",
       "</style>\n",
       "<table border=\"1\" class=\"dataframe\">\n",
       "  <thead>\n",
       "    <tr style=\"text-align: right;\">\n",
       "      <th></th>\n",
       "      <th>Transfusion Rate: Lower Confidence Limit (2.5%)</th>\n",
       "      <th>Fistula Data Availability Code</th>\n",
       "      <th>Number Of Patients Included In Fistula Summary</th>\n",
       "      <th>Fistula Rate (Facility)</th>\n",
       "      <th>Fistula Rate: Upper Confidence Limit (97.5%)</th>\n",
       "      <th>Fistula Rate: Lower Confidence Limit (2.5%)</th>\n",
       "      <th>Number Of Patients In Long Term Catheter Summary</th>\n",
       "      <th>Number Of Patient-Months In Long Term Catheter Summary</th>\n",
       "      <th>Long Term Catheter Data Availability Code</th>\n",
       "      <th>Percentage Of Adult Patients With Long Term Catheter In Use</th>\n",
       "      <th>...</th>\n",
       "      <th>Patient Transplant Waitlist Data Availability Code</th>\n",
       "      <th>95% C.I. (Upper Limit) For SWR</th>\n",
       "      <th>95% C.I. (Lower Limit) For SWR</th>\n",
       "      <th>Number Of Patients In This Facility For SWR</th>\n",
       "      <th>Standardized First Kidney Transplant Waitlist Ratio</th>\n",
       "      <th>Patient Prevalent Transplant Waitlist Data Availability Code</th>\n",
       "      <th>95% C.I. (Upper Limit) For PPPW</th>\n",
       "      <th>95% C.I. (Lower Limit) For PPPW</th>\n",
       "      <th>Number Of Patients For PPPW</th>\n",
       "      <th>Percentage Of Prevalent Patients Waitlisted</th>\n",
       "    </tr>\n",
       "  </thead>\n",
       "  <tbody>\n",
       "    <tr>\n",
       "      <th>count</th>\n",
       "      <td>6285.000000</td>\n",
       "      <td>711.000000</td>\n",
       "      <td>7555.000000</td>\n",
       "      <td>6915.000000</td>\n",
       "      <td>6915.000000</td>\n",
       "      <td>6915.000000</td>\n",
       "      <td>7555.000000</td>\n",
       "      <td>7298.000000</td>\n",
       "      <td>711.000000</td>\n",
       "      <td>6915.000000</td>\n",
       "      <td>...</td>\n",
       "      <td>3515.000000</td>\n",
       "      <td>4111.000000</td>\n",
       "      <td>4111.000000</td>\n",
       "      <td>7554.000000</td>\n",
       "      <td>4111.000000</td>\n",
       "      <td>448.000000</td>\n",
       "      <td>7178.000000</td>\n",
       "      <td>7178.000000</td>\n",
       "      <td>7555.000000</td>\n",
       "      <td>7178.000000</td>\n",
       "    </tr>\n",
       "    <tr>\n",
       "      <th>mean</th>\n",
       "      <td>7.514240</td>\n",
       "      <td>231.540084</td>\n",
       "      <td>78.452548</td>\n",
       "      <td>62.978279</td>\n",
       "      <td>83.844469</td>\n",
       "      <td>40.129573</td>\n",
       "      <td>78.452548</td>\n",
       "      <td>697.241573</td>\n",
       "      <td>225.556962</td>\n",
       "      <td>12.543167</td>\n",
       "      <td>...</td>\n",
       "      <td>210.778947</td>\n",
       "      <td>2.605145</td>\n",
       "      <td>0.337152</td>\n",
       "      <td>29.975377</td>\n",
       "      <td>0.998375</td>\n",
       "      <td>235.805804</td>\n",
       "      <td>46.349624</td>\n",
       "      <td>7.008721</td>\n",
       "      <td>66.653077</td>\n",
       "      <td>18.930189</td>\n",
       "    </tr>\n",
       "    <tr>\n",
       "      <th>std</th>\n",
       "      <td>8.711241</td>\n",
       "      <td>28.908954</td>\n",
       "      <td>54.087599</td>\n",
       "      <td>10.915107</td>\n",
       "      <td>10.858750</td>\n",
       "      <td>14.726152</td>\n",
       "      <td>54.087599</td>\n",
       "      <td>479.899379</td>\n",
       "      <td>28.662471</td>\n",
       "      <td>7.314833</td>\n",
       "      <td>...</td>\n",
       "      <td>23.509388</td>\n",
       "      <td>1.311779</td>\n",
       "      <td>0.432127</td>\n",
       "      <td>24.149303</td>\n",
       "      <td>0.819295</td>\n",
       "      <td>28.550521</td>\n",
       "      <td>15.886783</td>\n",
       "      <td>6.731760</td>\n",
       "      <td>45.911346</td>\n",
       "      <td>11.171761</td>\n",
       "    </tr>\n",
       "    <tr>\n",
       "      <th>min</th>\n",
       "      <td>0.000000</td>\n",
       "      <td>199.000000</td>\n",
       "      <td>0.000000</td>\n",
       "      <td>0.000000</td>\n",
       "      <td>0.000000</td>\n",
       "      <td>0.000000</td>\n",
       "      <td>0.000000</td>\n",
       "      <td>1.000000</td>\n",
       "      <td>199.000000</td>\n",
       "      <td>0.000000</td>\n",
       "      <td>...</td>\n",
       "      <td>199.000000</td>\n",
       "      <td>0.230000</td>\n",
       "      <td>0.000000</td>\n",
       "      <td>0.000000</td>\n",
       "      <td>0.000000</td>\n",
       "      <td>199.000000</td>\n",
       "      <td>0.000000</td>\n",
       "      <td>0.000000</td>\n",
       "      <td>0.000000</td>\n",
       "      <td>0.000000</td>\n",
       "    </tr>\n",
       "    <tr>\n",
       "      <th>25%</th>\n",
       "      <td>1.400000</td>\n",
       "      <td>199.000000</td>\n",
       "      <td>40.000000</td>\n",
       "      <td>56.500000</td>\n",
       "      <td>77.400000</td>\n",
       "      <td>31.300000</td>\n",
       "      <td>40.000000</td>\n",
       "      <td>351.250000</td>\n",
       "      <td>199.000000</td>\n",
       "      <td>8.000000</td>\n",
       "      <td>...</td>\n",
       "      <td>199.000000</td>\n",
       "      <td>1.650000</td>\n",
       "      <td>0.040000</td>\n",
       "      <td>12.000000</td>\n",
       "      <td>0.420000</td>\n",
       "      <td>199.000000</td>\n",
       "      <td>35.325000</td>\n",
       "      <td>2.200000</td>\n",
       "      <td>34.000000</td>\n",
       "      <td>11.000000</td>\n",
       "    </tr>\n",
       "    <tr>\n",
       "      <th>50%</th>\n",
       "      <td>4.800000</td>\n",
       "      <td>256.000000</td>\n",
       "      <td>72.000000</td>\n",
       "      <td>63.600000</td>\n",
       "      <td>84.400000</td>\n",
       "      <td>41.400000</td>\n",
       "      <td>72.000000</td>\n",
       "      <td>628.000000</td>\n",
       "      <td>201.000000</td>\n",
       "      <td>11.000000</td>\n",
       "      <td>...</td>\n",
       "      <td>199.000000</td>\n",
       "      <td>2.350000</td>\n",
       "      <td>0.190000</td>\n",
       "      <td>26.000000</td>\n",
       "      <td>0.820000</td>\n",
       "      <td>258.000000</td>\n",
       "      <td>44.800000</td>\n",
       "      <td>5.100000</td>\n",
       "      <td>58.000000</td>\n",
       "      <td>17.000000</td>\n",
       "    </tr>\n",
       "    <tr>\n",
       "      <th>75%</th>\n",
       "      <td>10.700000</td>\n",
       "      <td>258.000000</td>\n",
       "      <td>108.500000</td>\n",
       "      <td>70.300000</td>\n",
       "      <td>91.400000</td>\n",
       "      <td>50.300000</td>\n",
       "      <td>108.500000</td>\n",
       "      <td>954.000000</td>\n",
       "      <td>258.000000</td>\n",
       "      <td>16.000000</td>\n",
       "      <td>...</td>\n",
       "      <td>199.000000</td>\n",
       "      <td>3.250000</td>\n",
       "      <td>0.475000</td>\n",
       "      <td>43.000000</td>\n",
       "      <td>1.360000</td>\n",
       "      <td>258.000000</td>\n",
       "      <td>56.400000</td>\n",
       "      <td>9.700000</td>\n",
       "      <td>89.000000</td>\n",
       "      <td>24.800000</td>\n",
       "    </tr>\n",
       "    <tr>\n",
       "      <th>max</th>\n",
       "      <td>119.600000</td>\n",
       "      <td>258.000000</td>\n",
       "      <td>928.000000</td>\n",
       "      <td>98.700000</td>\n",
       "      <td>100.000000</td>\n",
       "      <td>93.500000</td>\n",
       "      <td>928.000000</td>\n",
       "      <td>4201.000000</td>\n",
       "      <td>258.000000</td>\n",
       "      <td>88.000000</td>\n",
       "      <td>...</td>\n",
       "      <td>258.000000</td>\n",
       "      <td>13.160000</td>\n",
       "      <td>5.080000</td>\n",
       "      <td>232.000000</td>\n",
       "      <td>8.430000</td>\n",
       "      <td>258.000000</td>\n",
       "      <td>99.200000</td>\n",
       "      <td>57.300000</td>\n",
       "      <td>468.000000</td>\n",
       "      <td>92.400000</td>\n",
       "    </tr>\n",
       "  </tbody>\n",
       "</table>\n",
       "<p>8 rows × 24 columns</p>\n",
       "</div>"
      ],
      "text/plain": [
       "       Transfusion Rate: Lower Confidence Limit (2.5%)  \\\n",
       "count                                      6285.000000   \n",
       "mean                                          7.514240   \n",
       "std                                           8.711241   \n",
       "min                                           0.000000   \n",
       "25%                                           1.400000   \n",
       "50%                                           4.800000   \n",
       "75%                                          10.700000   \n",
       "max                                         119.600000   \n",
       "\n",
       "       Fistula Data Availability Code  \\\n",
       "count                      711.000000   \n",
       "mean                       231.540084   \n",
       "std                         28.908954   \n",
       "min                        199.000000   \n",
       "25%                        199.000000   \n",
       "50%                        256.000000   \n",
       "75%                        258.000000   \n",
       "max                        258.000000   \n",
       "\n",
       "       Number Of Patients Included In Fistula Summary  \\\n",
       "count                                     7555.000000   \n",
       "mean                                        78.452548   \n",
       "std                                         54.087599   \n",
       "min                                          0.000000   \n",
       "25%                                         40.000000   \n",
       "50%                                         72.000000   \n",
       "75%                                        108.500000   \n",
       "max                                        928.000000   \n",
       "\n",
       "       Fistula Rate (Facility)  Fistula Rate: Upper Confidence Limit (97.5%)  \\\n",
       "count              6915.000000                                   6915.000000   \n",
       "mean                 62.978279                                     83.844469   \n",
       "std                  10.915107                                     10.858750   \n",
       "min                   0.000000                                      0.000000   \n",
       "25%                  56.500000                                     77.400000   \n",
       "50%                  63.600000                                     84.400000   \n",
       "75%                  70.300000                                     91.400000   \n",
       "max                  98.700000                                    100.000000   \n",
       "\n",
       "       Fistula Rate: Lower Confidence Limit (2.5%)  \\\n",
       "count                                  6915.000000   \n",
       "mean                                     40.129573   \n",
       "std                                      14.726152   \n",
       "min                                       0.000000   \n",
       "25%                                      31.300000   \n",
       "50%                                      41.400000   \n",
       "75%                                      50.300000   \n",
       "max                                      93.500000   \n",
       "\n",
       "       Number Of Patients In Long Term Catheter Summary  \\\n",
       "count                                       7555.000000   \n",
       "mean                                          78.452548   \n",
       "std                                           54.087599   \n",
       "min                                            0.000000   \n",
       "25%                                           40.000000   \n",
       "50%                                           72.000000   \n",
       "75%                                          108.500000   \n",
       "max                                          928.000000   \n",
       "\n",
       "       Number Of Patient-Months In Long Term Catheter Summary  \\\n",
       "count                                        7298.000000        \n",
       "mean                                          697.241573        \n",
       "std                                           479.899379        \n",
       "min                                             1.000000        \n",
       "25%                                           351.250000        \n",
       "50%                                           628.000000        \n",
       "75%                                           954.000000        \n",
       "max                                          4201.000000        \n",
       "\n",
       "       Long Term Catheter Data Availability Code  \\\n",
       "count                                 711.000000   \n",
       "mean                                  225.556962   \n",
       "std                                    28.662471   \n",
       "min                                   199.000000   \n",
       "25%                                   199.000000   \n",
       "50%                                   201.000000   \n",
       "75%                                   258.000000   \n",
       "max                                   258.000000   \n",
       "\n",
       "       Percentage Of Adult Patients With Long Term Catheter In Use  ...  \\\n",
       "count                                        6915.000000            ...   \n",
       "mean                                           12.543167            ...   \n",
       "std                                             7.314833            ...   \n",
       "min                                             0.000000            ...   \n",
       "25%                                             8.000000            ...   \n",
       "50%                                            11.000000            ...   \n",
       "75%                                            16.000000            ...   \n",
       "max                                            88.000000            ...   \n",
       "\n",
       "       Patient Transplant Waitlist Data Availability Code  \\\n",
       "count                                        3515.000000    \n",
       "mean                                          210.778947    \n",
       "std                                            23.509388    \n",
       "min                                           199.000000    \n",
       "25%                                           199.000000    \n",
       "50%                                           199.000000    \n",
       "75%                                           199.000000    \n",
       "max                                           258.000000    \n",
       "\n",
       "       95% C.I. (Upper Limit) For SWR  95% C.I. (Lower Limit) For SWR  \\\n",
       "count                     4111.000000                     4111.000000   \n",
       "mean                         2.605145                        0.337152   \n",
       "std                          1.311779                        0.432127   \n",
       "min                          0.230000                        0.000000   \n",
       "25%                          1.650000                        0.040000   \n",
       "50%                          2.350000                        0.190000   \n",
       "75%                          3.250000                        0.475000   \n",
       "max                         13.160000                        5.080000   \n",
       "\n",
       "       Number Of Patients In This Facility For SWR  \\\n",
       "count                                  7554.000000   \n",
       "mean                                     29.975377   \n",
       "std                                      24.149303   \n",
       "min                                       0.000000   \n",
       "25%                                      12.000000   \n",
       "50%                                      26.000000   \n",
       "75%                                      43.000000   \n",
       "max                                     232.000000   \n",
       "\n",
       "       Standardized First Kidney Transplant Waitlist Ratio  \\\n",
       "count                                        4111.000000     \n",
       "mean                                            0.998375     \n",
       "std                                             0.819295     \n",
       "min                                             0.000000     \n",
       "25%                                             0.420000     \n",
       "50%                                             0.820000     \n",
       "75%                                             1.360000     \n",
       "max                                             8.430000     \n",
       "\n",
       "       Patient Prevalent Transplant Waitlist Data Availability Code  \\\n",
       "count                                         448.000000              \n",
       "mean                                          235.805804              \n",
       "std                                            28.550521              \n",
       "min                                           199.000000              \n",
       "25%                                           199.000000              \n",
       "50%                                           258.000000              \n",
       "75%                                           258.000000              \n",
       "max                                           258.000000              \n",
       "\n",
       "       95% C.I. (Upper Limit) For PPPW  95% C.I. (Lower Limit) For PPPW  \\\n",
       "count                      7178.000000                      7178.000000   \n",
       "mean                         46.349624                         7.008721   \n",
       "std                          15.886783                         6.731760   \n",
       "min                           0.000000                         0.000000   \n",
       "25%                          35.325000                         2.200000   \n",
       "50%                          44.800000                         5.100000   \n",
       "75%                          56.400000                         9.700000   \n",
       "max                          99.200000                        57.300000   \n",
       "\n",
       "       Number Of Patients For PPPW  \\\n",
       "count                  7555.000000   \n",
       "mean                     66.653077   \n",
       "std                      45.911346   \n",
       "min                       0.000000   \n",
       "25%                      34.000000   \n",
       "50%                      58.000000   \n",
       "75%                      89.000000   \n",
       "max                     468.000000   \n",
       "\n",
       "       Percentage Of Prevalent Patients Waitlisted  \n",
       "count                                  7178.000000  \n",
       "mean                                     18.930189  \n",
       "std                                      11.171761  \n",
       "min                                       0.000000  \n",
       "25%                                      11.000000  \n",
       "50%                                      17.000000  \n",
       "75%                                      24.800000  \n",
       "max                                      92.400000  \n",
       "\n",
       "[8 rows x 24 columns]"
      ]
     },
     "execution_count": 26,
     "metadata": {},
     "output_type": "execute_result"
    }
   ],
   "source": [
    "df.iloc[:, 90:].describe()"
   ]
  },
  {
   "cell_type": "markdown",
   "metadata": {},
   "source": [
    "### Range of values per column"
   ]
  },
  {
   "cell_type": "code",
   "execution_count": 27,
   "metadata": {},
   "outputs": [
    {
     "data": {
      "text/html": [
       "<div>\n",
       "<style scoped>\n",
       "    .dataframe tbody tr th:only-of-type {\n",
       "        vertical-align: middle;\n",
       "    }\n",
       "\n",
       "    .dataframe tbody tr th {\n",
       "        vertical-align: top;\n",
       "    }\n",
       "\n",
       "    .dataframe thead th {\n",
       "        text-align: right;\n",
       "    }\n",
       "</style>\n",
       "<table border=\"1\" class=\"dataframe\">\n",
       "  <thead>\n",
       "    <tr style=\"text-align: right;\">\n",
       "      <th></th>\n",
       "      <th>min</th>\n",
       "      <th>max</th>\n",
       "    </tr>\n",
       "  </thead>\n",
       "  <tbody>\n",
       "    <tr>\n",
       "      <th>Provider Number</th>\n",
       "      <td>12306</td>\n",
       "      <td>852568</td>\n",
       "    </tr>\n",
       "    <tr>\n",
       "      <th>Network</th>\n",
       "      <td>1</td>\n",
       "      <td>18</td>\n",
       "    </tr>\n",
       "    <tr>\n",
       "      <th>Facility Name</th>\n",
       "      <td>A UNIQUE KIDNEY CENTER LLC</td>\n",
       "      <td>ZILLMAR DIALYSIS LLC</td>\n",
       "    </tr>\n",
       "    <tr>\n",
       "      <th>Five Star Date</th>\n",
       "      <td>01/01/2015 - 12/31/2018</td>\n",
       "      <td>01/01/2015 - 12/31/2018</td>\n",
       "    </tr>\n",
       "    <tr>\n",
       "      <th>Five Star</th>\n",
       "      <td>1</td>\n",
       "      <td>5</td>\n",
       "    </tr>\n",
       "    <tr>\n",
       "      <th>Five Star Data Availability Code</th>\n",
       "      <td>258</td>\n",
       "      <td>261</td>\n",
       "    </tr>\n",
       "    <tr>\n",
       "      <th>Address Line 1</th>\n",
       "      <td># 7 PROFESSIONAL DRIVE</td>\n",
       "      <td>WHEATON PARK SHOPPING CTR</td>\n",
       "    </tr>\n",
       "    <tr>\n",
       "      <th>City</th>\n",
       "      <td>ABBEVILLE</td>\n",
       "      <td>ZUNI</td>\n",
       "    </tr>\n",
       "    <tr>\n",
       "      <th>State</th>\n",
       "      <td>AK</td>\n",
       "      <td>WY</td>\n",
       "    </tr>\n",
       "    <tr>\n",
       "      <th>Zip</th>\n",
       "      <td>603</td>\n",
       "      <td>99801</td>\n",
       "    </tr>\n",
       "    <tr>\n",
       "      <th>County</th>\n",
       "      <td>ABBEVILLE</td>\n",
       "      <td>ZAVALA</td>\n",
       "    </tr>\n",
       "    <tr>\n",
       "      <th>Phone Number</th>\n",
       "      <td>(201) 262-0429</td>\n",
       "      <td>(989) 921-2170</td>\n",
       "    </tr>\n",
       "    <tr>\n",
       "      <th>Profit Or Non-Profit</th>\n",
       "      <td>Non-Profit</td>\n",
       "      <td>Profit</td>\n",
       "    </tr>\n",
       "    <tr>\n",
       "      <th>Chain Owned</th>\n",
       "      <td>No</td>\n",
       "      <td>Yes</td>\n",
       "    </tr>\n",
       "    <tr>\n",
       "      <th>Late Shift</th>\n",
       "      <td>0</td>\n",
       "      <td>1</td>\n",
       "    </tr>\n",
       "    <tr>\n",
       "      <th>Number Of Dialysis Stations</th>\n",
       "      <td>0</td>\n",
       "      <td>80</td>\n",
       "    </tr>\n",
       "    <tr>\n",
       "      <th>Offers In-Center Hemodialysis</th>\n",
       "      <td>0</td>\n",
       "      <td>1</td>\n",
       "    </tr>\n",
       "    <tr>\n",
       "      <th>Offers Peritoneal Dialysis</th>\n",
       "      <td>0</td>\n",
       "      <td>1</td>\n",
       "    </tr>\n",
       "    <tr>\n",
       "      <th>Offers Home Hemodialysis Training</th>\n",
       "      <td>0</td>\n",
       "      <td>1</td>\n",
       "    </tr>\n",
       "    <tr>\n",
       "      <th>Certification Or Recertification Date</th>\n",
       "      <td>01/01/1968</td>\n",
       "      <td>12/31/2017</td>\n",
       "    </tr>\n",
       "    <tr>\n",
       "      <th>Claims Date</th>\n",
       "      <td>07/01/2018 - 06/30/2019</td>\n",
       "      <td>07/01/2018 - 06/30/2019</td>\n",
       "    </tr>\n",
       "    <tr>\n",
       "      <th>CROWNWeb Date</th>\n",
       "      <td>07/01/2018 - 06/30/2019</td>\n",
       "      <td>07/01/2018 - 06/30/2019</td>\n",
       "    </tr>\n",
       "    <tr>\n",
       "      <th>STrR Date</th>\n",
       "      <td>01/01/2018 - 12/31/2018</td>\n",
       "      <td>01/01/2018 - 12/31/2018</td>\n",
       "    </tr>\n",
       "    <tr>\n",
       "      <th>Percentage Of Medicare Patients With Hgb &lt; 10 g/dL</th>\n",
       "      <td>0</td>\n",
       "      <td>100</td>\n",
       "    </tr>\n",
       "    <tr>\n",
       "      <th>Hgb &lt; 10 Data Availability Code</th>\n",
       "      <td>199</td>\n",
       "      <td>258</td>\n",
       "    </tr>\n",
       "    <tr>\n",
       "      <th>Percentage Of Medicare Patients With Hgb &gt; 12 g/dL</th>\n",
       "      <td>0</td>\n",
       "      <td>47</td>\n",
       "    </tr>\n",
       "    <tr>\n",
       "      <th>Hgb &gt; 12 Data Availability Code</th>\n",
       "      <td>199</td>\n",
       "      <td>258</td>\n",
       "    </tr>\n",
       "    <tr>\n",
       "      <th>Number Of Dialysis Patients With Hgb Data</th>\n",
       "      <td>0</td>\n",
       "      <td>267</td>\n",
       "    </tr>\n",
       "    <tr>\n",
       "      <th>Patient Transfusion Data Availability Code</th>\n",
       "      <td>199</td>\n",
       "      <td>258</td>\n",
       "    </tr>\n",
       "    <tr>\n",
       "      <th>Number Of Patients Included In The Transfusion Summary</th>\n",
       "      <td>0</td>\n",
       "      <td>455</td>\n",
       "    </tr>\n",
       "    <tr>\n",
       "      <th>Percent Of Adult HD Patients With Kt/V &gt;= 1.2</th>\n",
       "      <td>0</td>\n",
       "      <td>100</td>\n",
       "    </tr>\n",
       "    <tr>\n",
       "      <th>Adult HD Kt/V Data Availability Code</th>\n",
       "      <td>199</td>\n",
       "      <td>258</td>\n",
       "    </tr>\n",
       "    <tr>\n",
       "      <th>Percentage Of Adult PD PTS With Kt/V &gt;= 1.7</th>\n",
       "      <td>0</td>\n",
       "      <td>100</td>\n",
       "    </tr>\n",
       "    <tr>\n",
       "      <th>Adult PD Kt/V Data Availability Code</th>\n",
       "      <td>199</td>\n",
       "      <td>258</td>\n",
       "    </tr>\n",
       "    <tr>\n",
       "      <th>Percentage Of Pediatric HD Patients With Kt/V &gt;= 1.2</th>\n",
       "      <td>79</td>\n",
       "      <td>100</td>\n",
       "    </tr>\n",
       "    <tr>\n",
       "      <th>Pediatric HD Kt/V Data Availability Code</th>\n",
       "      <td>199</td>\n",
       "      <td>259</td>\n",
       "    </tr>\n",
       "    <tr>\n",
       "      <th>Number Of Adult HD Patients With Kt/V Data</th>\n",
       "      <td>0</td>\n",
       "      <td>813</td>\n",
       "    </tr>\n",
       "    <tr>\n",
       "      <th>Number Of Adult HD Patient-Months With Kt/V Data</th>\n",
       "      <td>1</td>\n",
       "      <td>3834</td>\n",
       "    </tr>\n",
       "    <tr>\n",
       "      <th>Number Of Adult PD Patients With Kt/V Data</th>\n",
       "      <td>0</td>\n",
       "      <td>255</td>\n",
       "    </tr>\n",
       "    <tr>\n",
       "      <th>Number Of Adult PD Patient-Months With Kt/V Data</th>\n",
       "      <td>1</td>\n",
       "      <td>2080</td>\n",
       "    </tr>\n",
       "    <tr>\n",
       "      <th>Number Of Pediatric HD Patients With Kt/V Data</th>\n",
       "      <td>0</td>\n",
       "      <td>22</td>\n",
       "    </tr>\n",
       "    <tr>\n",
       "      <th>Number Of Pediatric HD Patient-Months With Kt/V Data</th>\n",
       "      <td>1</td>\n",
       "      <td>186</td>\n",
       "    </tr>\n",
       "    <tr>\n",
       "      <th>Hypercalcemia Data Availability Code</th>\n",
       "      <td>199</td>\n",
       "      <td>258</td>\n",
       "    </tr>\n",
       "    <tr>\n",
       "      <th>Number Of Patients In Hypercalcemia Summary</th>\n",
       "      <td>0</td>\n",
       "      <td>858</td>\n",
       "    </tr>\n",
       "    <tr>\n",
       "      <th>Number Of Patient-Months In Hypercalcemia Summary</th>\n",
       "      <td>0</td>\n",
       "      <td>5063</td>\n",
       "    </tr>\n",
       "    <tr>\n",
       "      <th>Percentage Of Adult Patients With Hypercalcemia (Serum Calcium Greater Than 10.2 mg/dL)</th>\n",
       "      <td>0</td>\n",
       "      <td>99</td>\n",
       "    </tr>\n",
       "    <tr>\n",
       "      <th>Number Of Patients In Serum Phosphorus Summary</th>\n",
       "      <td>0</td>\n",
       "      <td>964</td>\n",
       "    </tr>\n",
       "    <tr>\n",
       "      <th>Number Of Patient-Months In Serum Phosphorus Summary</th>\n",
       "      <td>0</td>\n",
       "      <td>5217</td>\n",
       "    </tr>\n",
       "    <tr>\n",
       "      <th>Serum Phosphorus Data Availability Code</th>\n",
       "      <td>199</td>\n",
       "      <td>258</td>\n",
       "    </tr>\n",
       "    <tr>\n",
       "      <th>Percentage Of Adult Patients With Serum Phosphorus Less Than 3.5 mg/dL</th>\n",
       "      <td>0</td>\n",
       "      <td>46</td>\n",
       "    </tr>\n",
       "    <tr>\n",
       "      <th>Percentage Of Adult Patients With Serum Phosphorus Between 3.5 - 4.5 mg/dL</th>\n",
       "      <td>4</td>\n",
       "      <td>52</td>\n",
       "    </tr>\n",
       "    <tr>\n",
       "      <th>Percentage Of Adult Patients With Serum Phosphorus Between 4.6 - 5.5 mg/dL</th>\n",
       "      <td>8</td>\n",
       "      <td>61</td>\n",
       "    </tr>\n",
       "    <tr>\n",
       "      <th>Percentage Of Adult Patients With Serum Phosphorus Between 5.6 - 7.0 mg/dL</th>\n",
       "      <td>2</td>\n",
       "      <td>50</td>\n",
       "    </tr>\n",
       "    <tr>\n",
       "      <th>Percentage Of Adult Patients With Serum Phosphorus Greater Than 7.0 mg/dL</th>\n",
       "      <td>0</td>\n",
       "      <td>43</td>\n",
       "    </tr>\n",
       "    <tr>\n",
       "      <th>SHR Date</th>\n",
       "      <td>01/01/2018 - 12/31/2018</td>\n",
       "      <td>01/01/2018 - 12/31/2018</td>\n",
       "    </tr>\n",
       "    <tr>\n",
       "      <th>SRR Date</th>\n",
       "      <td>01/01/2018 - 12/31/2018</td>\n",
       "      <td>01/01/2018 - 12/31/2018</td>\n",
       "    </tr>\n",
       "    <tr>\n",
       "      <th>SMR Date</th>\n",
       "      <td>01/01/2015 - 12/31/2018</td>\n",
       "      <td>01/01/2015 - 12/31/2018</td>\n",
       "    </tr>\n",
       "  </tbody>\n",
       "</table>\n",
       "</div>"
      ],
      "text/plain": [
       "                                                                           min  \\\n",
       "Provider Number                                                          12306   \n",
       "Network                                                                      1   \n",
       "Facility Name                                       A UNIQUE KIDNEY CENTER LLC   \n",
       "Five Star Date                                         01/01/2015 - 12/31/2018   \n",
       "Five Star                                                                    1   \n",
       "Five Star Data Availability Code                                           258   \n",
       "Address Line 1                                          # 7 PROFESSIONAL DRIVE   \n",
       "City                                                                 ABBEVILLE   \n",
       "State                                                                       AK   \n",
       "Zip                                                                        603   \n",
       "County                                                               ABBEVILLE   \n",
       "Phone Number                                                    (201) 262-0429   \n",
       "Profit Or Non-Profit                                                Non-Profit   \n",
       "Chain Owned                                                                 No   \n",
       "Late Shift                                                                   0   \n",
       "Number Of Dialysis Stations                                                  0   \n",
       "Offers In-Center Hemodialysis                                                0   \n",
       "Offers Peritoneal Dialysis                                                   0   \n",
       "Offers Home Hemodialysis Training                                            0   \n",
       "Certification Or Recertification Date                               01/01/1968   \n",
       "Claims Date                                            07/01/2018 - 06/30/2019   \n",
       "CROWNWeb Date                                          07/01/2018 - 06/30/2019   \n",
       "STrR Date                                              01/01/2018 - 12/31/2018   \n",
       "Percentage Of Medicare Patients With Hgb < 10 g/dL                           0   \n",
       "Hgb < 10 Data Availability Code                                            199   \n",
       "Percentage Of Medicare Patients With Hgb > 12 g/dL                           0   \n",
       "Hgb > 12 Data Availability Code                                            199   \n",
       "Number Of Dialysis Patients With Hgb Data                                    0   \n",
       "Patient Transfusion Data Availability Code                                 199   \n",
       "Number Of Patients Included In The Transfusion ...                           0   \n",
       "Percent Of Adult HD Patients With Kt/V >= 1.2                                0   \n",
       "Adult HD Kt/V Data Availability Code                                       199   \n",
       "Percentage Of Adult PD PTS With Kt/V >= 1.7                                  0   \n",
       "Adult PD Kt/V Data Availability Code                                       199   \n",
       "Percentage Of Pediatric HD Patients With Kt/V >...                          79   \n",
       "Pediatric HD Kt/V Data Availability Code                                   199   \n",
       "Number Of Adult HD Patients With Kt/V Data                                   0   \n",
       "Number Of Adult HD Patient-Months With Kt/V Data                             1   \n",
       "Number Of Adult PD Patients With Kt/V Data                                   0   \n",
       "Number Of Adult PD Patient-Months With Kt/V Data                             1   \n",
       "Number Of Pediatric HD Patients With Kt/V Data                               0   \n",
       "Number Of Pediatric HD Patient-Months With Kt/V...                           1   \n",
       "Hypercalcemia Data Availability Code                                       199   \n",
       "Number Of Patients In Hypercalcemia Summary                                  0   \n",
       "Number Of Patient-Months In Hypercalcemia Summary                            0   \n",
       "Percentage Of Adult Patients With Hypercalcemia...                           0   \n",
       "Number Of Patients In Serum Phosphorus Summary                               0   \n",
       "Number Of Patient-Months In Serum Phosphorus Su...                           0   \n",
       "Serum Phosphorus Data Availability Code                                    199   \n",
       "Percentage Of Adult Patients With Serum Phospho...                           0   \n",
       "Percentage Of Adult Patients With Serum Phospho...                           4   \n",
       "Percentage Of Adult Patients With Serum Phospho...                           8   \n",
       "Percentage Of Adult Patients With Serum Phospho...                           2   \n",
       "Percentage Of Adult Patients With Serum Phospho...                           0   \n",
       "SHR Date                                               01/01/2018 - 12/31/2018   \n",
       "SRR Date                                               01/01/2018 - 12/31/2018   \n",
       "SMR Date                                               01/01/2015 - 12/31/2018   \n",
       "\n",
       "                                                                          max  \n",
       "Provider Number                                                        852568  \n",
       "Network                                                                    18  \n",
       "Facility Name                                            ZILLMAR DIALYSIS LLC  \n",
       "Five Star Date                                        01/01/2015 - 12/31/2018  \n",
       "Five Star                                                                   5  \n",
       "Five Star Data Availability Code                                          261  \n",
       "Address Line 1                                      WHEATON PARK SHOPPING CTR  \n",
       "City                                                                     ZUNI  \n",
       "State                                                                      WY  \n",
       "Zip                                                                     99801  \n",
       "County                                                                 ZAVALA  \n",
       "Phone Number                                                   (989) 921-2170  \n",
       "Profit Or Non-Profit                                                   Profit  \n",
       "Chain Owned                                                               Yes  \n",
       "Late Shift                                                                  1  \n",
       "Number Of Dialysis Stations                                                80  \n",
       "Offers In-Center Hemodialysis                                               1  \n",
       "Offers Peritoneal Dialysis                                                  1  \n",
       "Offers Home Hemodialysis Training                                           1  \n",
       "Certification Or Recertification Date                              12/31/2017  \n",
       "Claims Date                                           07/01/2018 - 06/30/2019  \n",
       "CROWNWeb Date                                         07/01/2018 - 06/30/2019  \n",
       "STrR Date                                             01/01/2018 - 12/31/2018  \n",
       "Percentage Of Medicare Patients With Hgb < 10 g/dL                        100  \n",
       "Hgb < 10 Data Availability Code                                           258  \n",
       "Percentage Of Medicare Patients With Hgb > 12 g/dL                         47  \n",
       "Hgb > 12 Data Availability Code                                           258  \n",
       "Number Of Dialysis Patients With Hgb Data                                 267  \n",
       "Patient Transfusion Data Availability Code                                258  \n",
       "Number Of Patients Included In The Transfusion ...                        455  \n",
       "Percent Of Adult HD Patients With Kt/V >= 1.2                             100  \n",
       "Adult HD Kt/V Data Availability Code                                      258  \n",
       "Percentage Of Adult PD PTS With Kt/V >= 1.7                               100  \n",
       "Adult PD Kt/V Data Availability Code                                      258  \n",
       "Percentage Of Pediatric HD Patients With Kt/V >...                        100  \n",
       "Pediatric HD Kt/V Data Availability Code                                  259  \n",
       "Number Of Adult HD Patients With Kt/V Data                                813  \n",
       "Number Of Adult HD Patient-Months With Kt/V Data                         3834  \n",
       "Number Of Adult PD Patients With Kt/V Data                                255  \n",
       "Number Of Adult PD Patient-Months With Kt/V Data                         2080  \n",
       "Number Of Pediatric HD Patients With Kt/V Data                             22  \n",
       "Number Of Pediatric HD Patient-Months With Kt/V...                        186  \n",
       "Hypercalcemia Data Availability Code                                      258  \n",
       "Number Of Patients In Hypercalcemia Summary                               858  \n",
       "Number Of Patient-Months In Hypercalcemia Summary                        5063  \n",
       "Percentage Of Adult Patients With Hypercalcemia...                         99  \n",
       "Number Of Patients In Serum Phosphorus Summary                            964  \n",
       "Number Of Patient-Months In Serum Phosphorus Su...                       5217  \n",
       "Serum Phosphorus Data Availability Code                                   258  \n",
       "Percentage Of Adult Patients With Serum Phospho...                         46  \n",
       "Percentage Of Adult Patients With Serum Phospho...                         52  \n",
       "Percentage Of Adult Patients With Serum Phospho...                         61  \n",
       "Percentage Of Adult Patients With Serum Phospho...                         50  \n",
       "Percentage Of Adult Patients With Serum Phospho...                         43  \n",
       "SHR Date                                              01/01/2018 - 12/31/2018  \n",
       "SRR Date                                              01/01/2018 - 12/31/2018  \n",
       "SMR Date                                              01/01/2015 - 12/31/2018  "
      ]
     },
     "execution_count": 27,
     "metadata": {},
     "output_type": "execute_result"
    }
   ],
   "source": [
    "df.iloc[:, :60].agg([min, max]).T"
   ]
  },
  {
   "cell_type": "code",
   "execution_count": 28,
   "metadata": {},
   "outputs": [
    {
     "data": {
      "text/html": [
       "<div>\n",
       "<style scoped>\n",
       "    .dataframe tbody tr th:only-of-type {\n",
       "        vertical-align: middle;\n",
       "    }\n",
       "\n",
       "    .dataframe tbody tr th {\n",
       "        vertical-align: top;\n",
       "    }\n",
       "\n",
       "    .dataframe thead th {\n",
       "        text-align: right;\n",
       "    }\n",
       "</style>\n",
       "<table border=\"1\" class=\"dataframe\">\n",
       "  <thead>\n",
       "    <tr style=\"text-align: right;\">\n",
       "      <th></th>\n",
       "      <th>min</th>\n",
       "      <th>max</th>\n",
       "    </tr>\n",
       "  </thead>\n",
       "  <tbody>\n",
       "    <tr>\n",
       "      <th>Patient Hospitalization Data Availability Code</th>\n",
       "      <td>199</td>\n",
       "      <td>258</td>\n",
       "    </tr>\n",
       "    <tr>\n",
       "      <th>Patient Hospital Readmission Data Availability Code</th>\n",
       "      <td>199</td>\n",
       "      <td>258</td>\n",
       "    </tr>\n",
       "    <tr>\n",
       "      <th>Patient Survival Data Availability Code</th>\n",
       "      <td>199</td>\n",
       "      <td>258</td>\n",
       "    </tr>\n",
       "    <tr>\n",
       "      <th>Number Of Patients Included In Hospitalization Summary</th>\n",
       "      <td>0</td>\n",
       "      <td>654</td>\n",
       "    </tr>\n",
       "    <tr>\n",
       "      <th>Number Of Hospitalizations Included In Hospital Readmission Summary</th>\n",
       "      <td>0</td>\n",
       "      <td>800</td>\n",
       "    </tr>\n",
       "    <tr>\n",
       "      <th>Number Of Patients Included In Survival Summary</th>\n",
       "      <td>0</td>\n",
       "      <td>2115</td>\n",
       "    </tr>\n",
       "    <tr>\n",
       "      <th>Mortality Rate (Facility)</th>\n",
       "      <td>0</td>\n",
       "      <td>72.8</td>\n",
       "    </tr>\n",
       "    <tr>\n",
       "      <th>Mortality Rate: Upper Confidence Limit (97.5%)</th>\n",
       "      <td>7.9</td>\n",
       "      <td>108.7</td>\n",
       "    </tr>\n",
       "    <tr>\n",
       "      <th>Mortality Rate: Lower Confidence Limit (2.5%)</th>\n",
       "      <td>0</td>\n",
       "      <td>48.2</td>\n",
       "    </tr>\n",
       "    <tr>\n",
       "      <th>Readmission Rate (Facility)</th>\n",
       "      <td>0</td>\n",
       "      <td>98.8</td>\n",
       "    </tr>\n",
       "    <tr>\n",
       "      <th>Readmission Rate: Upper Confidence Limit (97.5%)</th>\n",
       "      <td>14.1</td>\n",
       "      <td>143.4</td>\n",
       "    </tr>\n",
       "    <tr>\n",
       "      <th>Readmission Rate: Lower Confidence Limit (2.5%)</th>\n",
       "      <td>0</td>\n",
       "      <td>49.8</td>\n",
       "    </tr>\n",
       "    <tr>\n",
       "      <th>Hospitalization Rate (Facility)</th>\n",
       "      <td>0</td>\n",
       "      <td>725.2</td>\n",
       "    </tr>\n",
       "    <tr>\n",
       "      <th>Hospitalization Rate: Upper Confidence Limit (97.5%)</th>\n",
       "      <td>143.4</td>\n",
       "      <td>1114.2</td>\n",
       "    </tr>\n",
       "    <tr>\n",
       "      <th>Hospitalization Rate: Lower Confidence Limit (2.5%)</th>\n",
       "      <td>0</td>\n",
       "      <td>489.1</td>\n",
       "    </tr>\n",
       "    <tr>\n",
       "      <th>Number Of Pediatric PD Patients With Kt/V Data</th>\n",
       "      <td>0</td>\n",
       "      <td>29</td>\n",
       "    </tr>\n",
       "    <tr>\n",
       "      <th>Pediatric PD Kt/V Data Availability Code</th>\n",
       "      <td>199</td>\n",
       "      <td>259</td>\n",
       "    </tr>\n",
       "    <tr>\n",
       "      <th>Number Of Pediatric PD Patient-Months With Kt/V Data</th>\n",
       "      <td>1</td>\n",
       "      <td>224</td>\n",
       "    </tr>\n",
       "    <tr>\n",
       "      <th>Percentage Of Pediatric PD Patients With Kt/V &gt;= 1.8</th>\n",
       "      <td>23</td>\n",
       "      <td>99</td>\n",
       "    </tr>\n",
       "    <tr>\n",
       "      <th>SIR Date</th>\n",
       "      <td>01/01/2018 - 12/31/2018</td>\n",
       "      <td>01/01/2018 - 12/31/2018</td>\n",
       "    </tr>\n",
       "    <tr>\n",
       "      <th>Patient Infection Data Availability Code</th>\n",
       "      <td>199</td>\n",
       "      <td>258</td>\n",
       "    </tr>\n",
       "    <tr>\n",
       "      <th>Standard Infection Ratio</th>\n",
       "      <td>0</td>\n",
       "      <td>11.03</td>\n",
       "    </tr>\n",
       "    <tr>\n",
       "      <th>SIR: Upper Confidence Limit (97.5%)</th>\n",
       "      <td>0.16</td>\n",
       "      <td>15.11</td>\n",
       "    </tr>\n",
       "    <tr>\n",
       "      <th>SIR: Lower Confidence Limit (2.5%)</th>\n",
       "      <td>0</td>\n",
       "      <td>7.88</td>\n",
       "    </tr>\n",
       "    <tr>\n",
       "      <th>Transfusion Rate (Facility)</th>\n",
       "      <td>0</td>\n",
       "      <td>213.3</td>\n",
       "    </tr>\n",
       "    <tr>\n",
       "      <th>Transfusion Rate: Upper Confidence Limit (97.5%)</th>\n",
       "      <td>15.5</td>\n",
       "      <td>211.5</td>\n",
       "    </tr>\n",
       "    <tr>\n",
       "      <th>Transfusion Rate: Lower Confidence Limit (2.5%)</th>\n",
       "      <td>0</td>\n",
       "      <td>119.6</td>\n",
       "    </tr>\n",
       "    <tr>\n",
       "      <th>Fistula Data Availability Code</th>\n",
       "      <td>199</td>\n",
       "      <td>258</td>\n",
       "    </tr>\n",
       "    <tr>\n",
       "      <th>Number Of Patients Included In Fistula Summary</th>\n",
       "      <td>0</td>\n",
       "      <td>928</td>\n",
       "    </tr>\n",
       "    <tr>\n",
       "      <th>Fistula Rate (Facility)</th>\n",
       "      <td>0</td>\n",
       "      <td>98.7</td>\n",
       "    </tr>\n",
       "    <tr>\n",
       "      <th>Fistula Rate: Upper Confidence Limit (97.5%)</th>\n",
       "      <td>0</td>\n",
       "      <td>100</td>\n",
       "    </tr>\n",
       "    <tr>\n",
       "      <th>Fistula Rate: Lower Confidence Limit (2.5%)</th>\n",
       "      <td>0</td>\n",
       "      <td>93.5</td>\n",
       "    </tr>\n",
       "    <tr>\n",
       "      <th>Number Of Patients In Long Term Catheter Summary</th>\n",
       "      <td>0</td>\n",
       "      <td>928</td>\n",
       "    </tr>\n",
       "    <tr>\n",
       "      <th>Number Of Patient-Months In Long Term Catheter Summary</th>\n",
       "      <td>1</td>\n",
       "      <td>4201</td>\n",
       "    </tr>\n",
       "    <tr>\n",
       "      <th>Long Term Catheter Data Availability Code</th>\n",
       "      <td>199</td>\n",
       "      <td>258</td>\n",
       "    </tr>\n",
       "    <tr>\n",
       "      <th>Percentage Of Adult Patients With Long Term Catheter In Use</th>\n",
       "      <td>0</td>\n",
       "      <td>88</td>\n",
       "    </tr>\n",
       "    <tr>\n",
       "      <th>Number Of Patients In nPCR Summary</th>\n",
       "      <td>0</td>\n",
       "      <td>32</td>\n",
       "    </tr>\n",
       "    <tr>\n",
       "      <th>Number Of Patient-Months In nPCR Summary</th>\n",
       "      <td>1</td>\n",
       "      <td>215</td>\n",
       "    </tr>\n",
       "    <tr>\n",
       "      <th>nPCR Data Availability Code</th>\n",
       "      <td>199</td>\n",
       "      <td>259</td>\n",
       "    </tr>\n",
       "    <tr>\n",
       "      <th>Percentage Of Pediatric HD Patients With nPCR</th>\n",
       "      <td>63</td>\n",
       "      <td>100</td>\n",
       "    </tr>\n",
       "    <tr>\n",
       "      <th>SWR Date</th>\n",
       "      <td>01/01/2015 - 12/31/2017</td>\n",
       "      <td>01/01/2015 - 12/31/2017</td>\n",
       "    </tr>\n",
       "    <tr>\n",
       "      <th>Patient Transplant Waitlist Data Availability Code</th>\n",
       "      <td>199</td>\n",
       "      <td>258</td>\n",
       "    </tr>\n",
       "    <tr>\n",
       "      <th>95% C.I. (Upper Limit) For SWR</th>\n",
       "      <td>0.23</td>\n",
       "      <td>13.16</td>\n",
       "    </tr>\n",
       "    <tr>\n",
       "      <th>95% C.I. (Lower Limit) For SWR</th>\n",
       "      <td>0</td>\n",
       "      <td>5.08</td>\n",
       "    </tr>\n",
       "    <tr>\n",
       "      <th>Number Of Patients In This Facility For SWR</th>\n",
       "      <td>0</td>\n",
       "      <td>232</td>\n",
       "    </tr>\n",
       "    <tr>\n",
       "      <th>Standardized First Kidney Transplant Waitlist Ratio</th>\n",
       "      <td>0</td>\n",
       "      <td>8.43</td>\n",
       "    </tr>\n",
       "    <tr>\n",
       "      <th>Patient Prevalent Transplant Waitlist Data Availability Code</th>\n",
       "      <td>199</td>\n",
       "      <td>258</td>\n",
       "    </tr>\n",
       "    <tr>\n",
       "      <th>95% C.I. (Upper Limit) For PPPW</th>\n",
       "      <td>0</td>\n",
       "      <td>99.2</td>\n",
       "    </tr>\n",
       "    <tr>\n",
       "      <th>95% C.I. (Lower Limit) For PPPW</th>\n",
       "      <td>0</td>\n",
       "      <td>57.3</td>\n",
       "    </tr>\n",
       "    <tr>\n",
       "      <th>Number Of Patients For PPPW</th>\n",
       "      <td>0</td>\n",
       "      <td>468</td>\n",
       "    </tr>\n",
       "    <tr>\n",
       "      <th>Percentage Of Prevalent Patients Waitlisted</th>\n",
       "      <td>0</td>\n",
       "      <td>92.4</td>\n",
       "    </tr>\n",
       "  </tbody>\n",
       "</table>\n",
       "</div>"
      ],
      "text/plain": [
       "                                                                        min  \\\n",
       "Patient Hospitalization Data Availability Code                          199   \n",
       "Patient Hospital Readmission Data Availability ...                      199   \n",
       "Patient Survival Data Availability Code                                 199   \n",
       "Number Of Patients Included In Hospitalization ...                        0   \n",
       "Number Of Hospitalizations Included In Hospital...                        0   \n",
       "Number Of Patients Included In Survival Summary                           0   \n",
       "Mortality Rate (Facility)                                                 0   \n",
       "Mortality Rate: Upper Confidence Limit (97.5%)                          7.9   \n",
       "Mortality Rate: Lower Confidence Limit (2.5%)                             0   \n",
       "Readmission Rate (Facility)                                               0   \n",
       "Readmission Rate: Upper Confidence Limit (97.5%)                       14.1   \n",
       "Readmission Rate: Lower Confidence Limit (2.5%)                           0   \n",
       "Hospitalization Rate (Facility)                                           0   \n",
       "Hospitalization Rate: Upper Confidence Limit (9...                    143.4   \n",
       "Hospitalization Rate: Lower Confidence Limit (2...                        0   \n",
       "Number Of Pediatric PD Patients With Kt/V Data                            0   \n",
       "Pediatric PD Kt/V Data Availability Code                                199   \n",
       "Number Of Pediatric PD Patient-Months With Kt/V...                        1   \n",
       "Percentage Of Pediatric PD Patients With Kt/V >...                       23   \n",
       "SIR Date                                            01/01/2018 - 12/31/2018   \n",
       "Patient Infection Data Availability Code                                199   \n",
       "Standard Infection Ratio                                                  0   \n",
       "SIR: Upper Confidence Limit (97.5%)                                    0.16   \n",
       "SIR: Lower Confidence Limit (2.5%)                                        0   \n",
       "Transfusion Rate (Facility)                                               0   \n",
       "Transfusion Rate: Upper Confidence Limit (97.5%)                       15.5   \n",
       "Transfusion Rate: Lower Confidence Limit (2.5%)                           0   \n",
       "Fistula Data Availability Code                                          199   \n",
       "Number Of Patients Included In Fistula Summary                            0   \n",
       "Fistula Rate (Facility)                                                   0   \n",
       "Fistula Rate: Upper Confidence Limit (97.5%)                              0   \n",
       "Fistula Rate: Lower Confidence Limit (2.5%)                               0   \n",
       "Number Of Patients In Long Term Catheter Summary                          0   \n",
       "Number Of Patient-Months In Long Term Catheter ...                        1   \n",
       "Long Term Catheter Data Availability Code                               199   \n",
       "Percentage Of Adult Patients With Long Term Cat...                        0   \n",
       "Number Of Patients In nPCR Summary                                        0   \n",
       "Number Of Patient-Months In nPCR Summary                                  1   \n",
       "nPCR Data Availability Code                                             199   \n",
       "Percentage Of Pediatric HD Patients With nPCR                            63   \n",
       "SWR Date                                            01/01/2015 - 12/31/2017   \n",
       "Patient Transplant Waitlist Data Availability Code                      199   \n",
       "95% C.I. (Upper Limit) For SWR                                         0.23   \n",
       "95% C.I. (Lower Limit) For SWR                                            0   \n",
       "Number Of Patients In This Facility For SWR                               0   \n",
       "Standardized First Kidney Transplant Waitlist R...                        0   \n",
       "Patient Prevalent Transplant Waitlist Data Avai...                      199   \n",
       "95% C.I. (Upper Limit) For PPPW                                           0   \n",
       "95% C.I. (Lower Limit) For PPPW                                           0   \n",
       "Number Of Patients For PPPW                                               0   \n",
       "Percentage Of Prevalent Patients Waitlisted                               0   \n",
       "\n",
       "                                                                        max  \n",
       "Patient Hospitalization Data Availability Code                          258  \n",
       "Patient Hospital Readmission Data Availability ...                      258  \n",
       "Patient Survival Data Availability Code                                 258  \n",
       "Number Of Patients Included In Hospitalization ...                      654  \n",
       "Number Of Hospitalizations Included In Hospital...                      800  \n",
       "Number Of Patients Included In Survival Summary                        2115  \n",
       "Mortality Rate (Facility)                                              72.8  \n",
       "Mortality Rate: Upper Confidence Limit (97.5%)                        108.7  \n",
       "Mortality Rate: Lower Confidence Limit (2.5%)                          48.2  \n",
       "Readmission Rate (Facility)                                            98.8  \n",
       "Readmission Rate: Upper Confidence Limit (97.5%)                      143.4  \n",
       "Readmission Rate: Lower Confidence Limit (2.5%)                        49.8  \n",
       "Hospitalization Rate (Facility)                                       725.2  \n",
       "Hospitalization Rate: Upper Confidence Limit (9...                   1114.2  \n",
       "Hospitalization Rate: Lower Confidence Limit (2...                    489.1  \n",
       "Number Of Pediatric PD Patients With Kt/V Data                           29  \n",
       "Pediatric PD Kt/V Data Availability Code                                259  \n",
       "Number Of Pediatric PD Patient-Months With Kt/V...                      224  \n",
       "Percentage Of Pediatric PD Patients With Kt/V >...                       99  \n",
       "SIR Date                                            01/01/2018 - 12/31/2018  \n",
       "Patient Infection Data Availability Code                                258  \n",
       "Standard Infection Ratio                                              11.03  \n",
       "SIR: Upper Confidence Limit (97.5%)                                   15.11  \n",
       "SIR: Lower Confidence Limit (2.5%)                                     7.88  \n",
       "Transfusion Rate (Facility)                                           213.3  \n",
       "Transfusion Rate: Upper Confidence Limit (97.5%)                      211.5  \n",
       "Transfusion Rate: Lower Confidence Limit (2.5%)                       119.6  \n",
       "Fistula Data Availability Code                                          258  \n",
       "Number Of Patients Included In Fistula Summary                          928  \n",
       "Fistula Rate (Facility)                                                98.7  \n",
       "Fistula Rate: Upper Confidence Limit (97.5%)                            100  \n",
       "Fistula Rate: Lower Confidence Limit (2.5%)                            93.5  \n",
       "Number Of Patients In Long Term Catheter Summary                        928  \n",
       "Number Of Patient-Months In Long Term Catheter ...                     4201  \n",
       "Long Term Catheter Data Availability Code                               258  \n",
       "Percentage Of Adult Patients With Long Term Cat...                       88  \n",
       "Number Of Patients In nPCR Summary                                       32  \n",
       "Number Of Patient-Months In nPCR Summary                                215  \n",
       "nPCR Data Availability Code                                             259  \n",
       "Percentage Of Pediatric HD Patients With nPCR                           100  \n",
       "SWR Date                                            01/01/2015 - 12/31/2017  \n",
       "Patient Transplant Waitlist Data Availability Code                      258  \n",
       "95% C.I. (Upper Limit) For SWR                                        13.16  \n",
       "95% C.I. (Lower Limit) For SWR                                         5.08  \n",
       "Number Of Patients In This Facility For SWR                             232  \n",
       "Standardized First Kidney Transplant Waitlist R...                     8.43  \n",
       "Patient Prevalent Transplant Waitlist Data Avai...                      258  \n",
       "95% C.I. (Upper Limit) For PPPW                                        99.2  \n",
       "95% C.I. (Lower Limit) For PPPW                                        57.3  \n",
       "Number Of Patients For PPPW                                             468  \n",
       "Percentage Of Prevalent Patients Waitlisted                            92.4  "
      ]
     },
     "execution_count": 28,
     "metadata": {},
     "output_type": "execute_result"
    }
   ],
   "source": [
    "df.iloc[:, 60:].agg([min, max]).T"
   ]
  },
  {
   "cell_type": "markdown",
   "metadata": {},
   "source": [
    "### Duplicate rows"
   ]
  },
  {
   "cell_type": "code",
   "execution_count": 29,
   "metadata": {},
   "outputs": [
    {
     "data": {
      "text/html": [
       "<div>\n",
       "<style scoped>\n",
       "    .dataframe tbody tr th:only-of-type {\n",
       "        vertical-align: middle;\n",
       "    }\n",
       "\n",
       "    .dataframe tbody tr th {\n",
       "        vertical-align: top;\n",
       "    }\n",
       "\n",
       "    .dataframe thead th {\n",
       "        text-align: right;\n",
       "    }\n",
       "</style>\n",
       "<table border=\"1\" class=\"dataframe\">\n",
       "  <thead>\n",
       "    <tr style=\"text-align: right;\">\n",
       "      <th></th>\n",
       "      <th>Provider Number</th>\n",
       "      <th>Network</th>\n",
       "      <th>Facility Name</th>\n",
       "      <th>Five Star Date</th>\n",
       "      <th>Five Star</th>\n",
       "      <th>Five Star Data Availability Code</th>\n",
       "      <th>Address Line 1</th>\n",
       "      <th>Address Line 2</th>\n",
       "      <th>City</th>\n",
       "      <th>State</th>\n",
       "      <th>...</th>\n",
       "      <th>95% C.I. (Lower Limit) For SWR</th>\n",
       "      <th>Number Of Patients In This Facility For SWR</th>\n",
       "      <th>Standardized First Kidney Transplant Waitlist Ratio</th>\n",
       "      <th>PPPW Category Text</th>\n",
       "      <th>Patient Prevalent Transplant Waitlist Data Availability Code</th>\n",
       "      <th>95% C.I. (Upper Limit) For PPPW</th>\n",
       "      <th>95% C.I. (Lower Limit) For PPPW</th>\n",
       "      <th>Number Of Patients For PPPW</th>\n",
       "      <th>Percentage Of Prevalent Patients Waitlisted</th>\n",
       "      <th>Location</th>\n",
       "    </tr>\n",
       "  </thead>\n",
       "  <tbody>\n",
       "  </tbody>\n",
       "</table>\n",
       "<p>0 rows × 119 columns</p>\n",
       "</div>"
      ],
      "text/plain": [
       "Empty DataFrame\n",
       "Columns: [Provider Number, Network, Facility Name, Five Star Date, Five Star, Five Star Data Availability Code, Address Line 1, Address Line 2, City, State, Zip, County, Phone Number, Profit Or Non-Profit, Chain Owned, Chain Organization, Late Shift, Number Of Dialysis Stations, Offers In-Center Hemodialysis, Offers Peritoneal Dialysis, Offers Home Hemodialysis Training, Certification Or Recertification Date, Claims Date, CROWNWeb Date, STrR Date, Percentage Of Medicare Patients With Hgb < 10 g/dL, Hgb < 10 Data Availability Code, Percentage Of Medicare Patients With Hgb > 12 g/dL, Hgb > 12 Data Availability Code, Number Of Dialysis Patients With Hgb Data, Patient Transfusion Data Availability Code, Patient Transfusion Category Text, Number Of Patients Included In The Transfusion Summary, Percent Of Adult HD Patients With Kt/V >= 1.2, Adult HD Kt/V Data Availability Code, Percentage Of Adult PD PTS With Kt/V >= 1.7, Adult PD Kt/V Data Availability Code, Percentage Of Pediatric HD Patients With Kt/V >= 1.2, Pediatric HD Kt/V Data Availability Code, Number Of Adult HD Patients With Kt/V Data, Number Of Adult HD Patient-Months With Kt/V Data, Number Of Adult PD Patients With Kt/V Data, Number Of Adult PD Patient-Months With Kt/V Data, Number Of Pediatric HD Patients With Kt/V Data, Number Of Pediatric HD Patient-Months With Kt/V Data, Hypercalcemia Data Availability Code, Number Of Patients In Hypercalcemia Summary, Number Of Patient-Months In Hypercalcemia Summary, Percentage Of Adult Patients With Hypercalcemia (Serum Calcium Greater Than 10.2 mg/dL), Number Of Patients In Serum Phosphorus Summary, Number Of Patient-Months In Serum Phosphorus Summary, Serum Phosphorus Data Availability Code, Percentage Of Adult Patients With Serum Phosphorus Less Than 3.5 mg/dL, Percentage Of Adult Patients With Serum Phosphorus Between 3.5 - 4.5 mg/dL, Percentage Of Adult Patients With Serum Phosphorus Between 4.6 - 5.5 mg/dL, Percentage Of Adult Patients With Serum Phosphorus Between 5.6 - 7.0 mg/dL, Percentage Of Adult Patients With Serum Phosphorus Greater Than 7.0 mg/dL, SHR Date, SRR Date, SMR Date, Patient Hospitalization Category Text, Patient Hospitalization Data Availability Code, Patient Hospital Readmission Category Text, Patient Hospital Readmission Data Availability Code, Patient Survival Category Text, Patient Survival Data Availability Code, Number Of Patients Included In Hospitalization Summary, Number Of Hospitalizations Included In Hospital Readmission Summary, Number Of Patients Included In Survival Summary, Mortality Rate (Facility), Mortality Rate: Upper Confidence Limit (97.5%), Mortality Rate: Lower Confidence Limit (2.5%), Readmission Rate (Facility), Readmission Rate: Upper Confidence Limit (97.5%), Readmission Rate: Lower Confidence Limit (2.5%), Hospitalization Rate (Facility), Hospitalization Rate: Upper Confidence Limit (97.5%), Hospitalization Rate: Lower Confidence Limit (2.5%), Number Of Pediatric PD Patients With Kt/V Data, Pediatric PD Kt/V Data Availability Code, Number Of Pediatric PD Patient-Months With Kt/V Data, Percentage Of Pediatric PD Patients With Kt/V >= 1.8, SIR Date, Patient Infection Data Availability Code, Patient Infection Category Text, Standard Infection Ratio, SIR: Upper Confidence Limit (97.5%), SIR: Lower Confidence Limit (2.5%), Transfusion Rate (Facility), Transfusion Rate: Upper Confidence Limit (97.5%), Transfusion Rate: Lower Confidence Limit (2.5%), Fistula Data Availability Code, Fistula Category Text, Number Of Patients Included In Fistula Summary, Fistula Rate (Facility), Fistula Rate: Upper Confidence Limit (97.5%), Fistula Rate: Lower Confidence Limit (2.5%), Number Of Patients In Long Term Catheter Summary, Number Of Patient-Months In Long Term Catheter Summary, Long Term Catheter Data Availability Code, ...]\n",
       "Index: []\n",
       "\n",
       "[0 rows x 119 columns]"
      ]
     },
     "execution_count": 29,
     "metadata": {},
     "output_type": "execute_result"
    }
   ],
   "source": [
    "df[df.duplicated()]"
   ]
  },
  {
   "cell_type": "markdown",
   "metadata": {},
   "source": [
    "# Data Definitions"
   ]
  },
  {
   "cell_type": "markdown",
   "metadata": {},
   "source": [
    "### Provider Number\n",
    "Data type: int64\n",
    "\n",
    "Value count: 7626\n",
    "\n",
    "Number of unique values: 7626\n",
    "\n",
    "Percent unique values: 0.016667\n",
    "\n",
    "Ranges of values: 12306 - 852568\n",
    "\n",
    "Length of values: 5, 6\n",
    "\n",
    "Description: Lists the numeric code used to identify the provider listed."
   ]
  },
  {
   "cell_type": "code",
   "execution_count": 30,
   "metadata": {},
   "outputs": [
    {
     "data": {
      "text/plain": [
       "{5, 6}"
      ]
     },
     "execution_count": 30,
     "metadata": {},
     "output_type": "execute_result"
    }
   ],
   "source": [
    "set([(len(str(num))) for num in df['Provider Number']])"
   ]
  },
  {
   "cell_type": "markdown",
   "metadata": {},
   "source": [
    "### Network\n",
    "Data type: int64\n",
    "\n",
    "Value count: 7626 \n",
    "\n",
    "Number of unique values: 18\n",
    "\n",
    "Percent unique values: 0.000039\n",
    "\n",
    "Ranges of values: 1 - 18\n",
    "\n",
    "Length of values: 1, 2\n",
    "\n",
    "Description: Lists the numeric code representing geographic area of all Medicare-approved ESRD (End Stage Renal Disease) facilities. \n",
    "Map of the network can be found here:\n",
    "https://esrdncc.org/en/ESRD-network-map/\n",
    "\n",
    "Value description:\n",
    "- 1   : Network 1 (CT, ME, MA, NH,RI,VT)\n",
    "- 2   : Network 2 (NY)\n",
    "- 3   : Network 3 (NJ, PR, VI) \n",
    "- 4   : Network 4 (DE, PA)\n",
    "- 5   : Network 5 (DC, MD, VA,WV)\n",
    "- 6   : Network 6 (GA, NC, SC)\n",
    "- 7   : Network 7 (FL)\n",
    "- 8   : Network 8 (AL, MS, TN)\n",
    "- 9   : Network 9 (IN, KY, OH)\n",
    "- 10  : Network 10 (IL)\n",
    "- 11  : Network 11 (MI, MN, ND, SD,WI)\n",
    "- 12  : Network 12 (IA, KS, MO, NE)\n",
    "- 13  : Network 13 (AR, LA, OK)\n",
    "- 14  : Network 14 (TX)\n",
    "- 15  : Network 15 (AZ, CO, NV, NM, UT,WY)\n",
    "- 16  : Network 16 (AK, ID, MT, OR, WA)\n",
    "- 17  : Network 17 (AS, GU, HI, MP, N. CA)\n",
    "- 18  : Network 18 (S. CA)"
   ]
  },
  {
   "cell_type": "code",
   "execution_count": 31,
   "metadata": {},
   "outputs": [
    {
     "data": {
      "text/plain": [
       "6     775\n",
       "14    749\n",
       "9     651\n",
       "11    510\n",
       "7     503\n",
       "8     482\n",
       "5     449\n",
       "18    428\n",
       "15    374\n",
       "4     359\n",
       "13    349\n",
       "10    345\n",
       "12    339\n",
       "2     324\n",
       "17    319\n",
       "3     246\n",
       "16    227\n",
       "1     197\n",
       "Name: Network, dtype: int64"
      ]
     },
     "execution_count": 31,
     "metadata": {},
     "output_type": "execute_result"
    }
   ],
   "source": [
    "df['Network'].value_counts()"
   ]
  },
  {
   "cell_type": "markdown",
   "metadata": {},
   "source": [
    "### Facility Name\n",
    "Data type: object\n",
    "\n",
    "Value count: 7626 \n",
    "\n",
    "Number of unique values: 7448\n",
    "\n",
    "Percent unique values: 0.016278\n",
    "\n",
    "Range of values: A UNIQUE KIDNEY CENTER LLC - ZILLMAR DIALYSIS LLC\n",
    "\n",
    "Length of values: 7 - 68\n",
    "\n",
    "Description: Lists the name of the facility listed."
   ]
  },
  {
   "cell_type": "code",
   "execution_count": 32,
   "metadata": {},
   "outputs": [
    {
     "data": {
      "text/plain": [
       "7"
      ]
     },
     "execution_count": 32,
     "metadata": {},
     "output_type": "execute_result"
    }
   ],
   "source": [
    "min(set([(len(str(num))) for num in df['Facility Name']]))"
   ]
  },
  {
   "cell_type": "code",
   "execution_count": 33,
   "metadata": {},
   "outputs": [
    {
     "data": {
      "text/plain": [
       "68"
      ]
     },
     "execution_count": 33,
     "metadata": {},
     "output_type": "execute_result"
    }
   ],
   "source": [
    "max(set([(len(str(num))) for num in df['Facility Name']]))"
   ]
  },
  {
   "cell_type": "markdown",
   "metadata": {},
   "source": [
    "### Five Star Date\n",
    "Data type: object\n",
    "\n",
    "Value count: 7626\n",
    "\n",
    "Number of unique values: 1\n",
    "\n",
    "Percent unique values: 0.000002\n",
    "\n",
    "Ranges of values: \"01/01/2015 - 12/31/2018\"\n",
    "\n",
    "Length of values: 23\n",
    "\n",
    "Description: Lists the data collection period for the five star rating."
   ]
  },
  {
   "cell_type": "code",
   "execution_count": 34,
   "metadata": {},
   "outputs": [
    {
     "data": {
      "text/plain": [
       "{23}"
      ]
     },
     "execution_count": 34,
     "metadata": {},
     "output_type": "execute_result"
    }
   ],
   "source": [
    "set([(len(str(num))) for num in df['Five Star Date']])"
   ]
  },
  {
   "cell_type": "markdown",
   "metadata": {},
   "source": [
    "### Five Star\n",
    "Data type: float64\n",
    "\n",
    "Value count: 6725\n",
    "\n",
    "Number of unique values: 5\n",
    "\n",
    "Percent unique values: 0.000011\n",
    "\n",
    "Ranges of values: 1 - 5\n",
    "\n",
    "Length of values: 1, 13\n",
    "\n",
    "Description: Lists the 5-star rating for the facility. The “Dialysis Facility Compare (DFC) Star Program” is a rating system developed by Medicare that assigns 1 to 5 stars to dialysis facilities by comparing the health of the patients in their clinics to the patients in other dialysis facilities across the country."
   ]
  },
  {
   "cell_type": "code",
   "execution_count": 35,
   "metadata": {},
   "outputs": [
    {
     "data": {
      "text/plain": [
       "3.0    2269\n",
       "4.0    1937\n",
       "5.0    1844\n",
       "2.0     491\n",
       "1.0     184\n",
       "Name: Five Star, dtype: int64"
      ]
     },
     "execution_count": 35,
     "metadata": {},
     "output_type": "execute_result"
    }
   ],
   "source": [
    "df['Five Star'].value_counts()"
   ]
  },
  {
   "cell_type": "markdown",
   "metadata": {},
   "source": [
    "### Five Star Data Availability Code\n",
    "Data type: float64\n",
    "\n",
    "Value count: 901\n",
    "\n",
    "Number of unique values: 3\n",
    "\n",
    "Percent unique values: 0.000007\n",
    "\n",
    "Ranges of values: 258, 260, 261\n",
    "\n",
    "Length of values: 3\n",
    "\n",
    "Description: Lists whether the facility had sufficient five star data available or the reason for why the data is not available.\n",
    "\n",
    "Value description:\n",
    "- 258 : The dialysis center was not open long enough to supply sufficient measure data. \n",
    "- 260 : Not enough quality measure data to calculate a star rating.\n",
    "- 261 : Medicare determined that at least one measure included in the star rating calculation was not accurate for this dialysis center."
   ]
  },
  {
   "cell_type": "code",
   "execution_count": 36,
   "metadata": {},
   "outputs": [
    {
     "data": {
      "text/plain": [
       "dtype('float64')"
      ]
     },
     "execution_count": 36,
     "metadata": {},
     "output_type": "execute_result"
    }
   ],
   "source": [
    "df['Five Star Data Availability Code'].dtype"
   ]
  },
  {
   "cell_type": "code",
   "execution_count": 37,
   "metadata": {},
   "outputs": [
    {
     "data": {
      "text/plain": [
       "260.0    612\n",
       "258.0    286\n",
       "261.0      3\n",
       "Name: Five Star Data Availability Code, dtype: int64"
      ]
     },
     "execution_count": 37,
     "metadata": {},
     "output_type": "execute_result"
    }
   ],
   "source": [
    "df['Five Star Data Availability Code'].value_counts()"
   ]
  },
  {
   "cell_type": "markdown",
   "metadata": {},
   "source": [
    "### Address Line 1\n",
    "Data type: object\n",
    "\n",
    "Value count: 7626\n",
    "\n",
    "Number of unique values: 7574\n",
    "\n",
    "Percent unique values: 0.016553\n",
    "\n",
    "Range of values: # 7 PROFESSIONAL DRIVE - WHEATON PARK SHOPPING CTR\n",
    "\n",
    "Length of values: 4 - 59\n",
    "\n",
    "Description: Lists the first line of the address that corresponds to the facility listed."
   ]
  },
  {
   "cell_type": "code",
   "execution_count": 38,
   "metadata": {},
   "outputs": [
    {
     "data": {
      "text/plain": [
       "0              1910 JOHN BARROW RD\n",
       "1             7612 ATLANTIC AVENUE\n",
       "2            720 N MAIN STREET EXT\n",
       "3    LAUREL SQUARE SHOPPING CENTER\n",
       "4               9115 ANTIQUE ALLEY\n",
       "Name: Address Line 1, dtype: object"
      ]
     },
     "execution_count": 38,
     "metadata": {},
     "output_type": "execute_result"
    }
   ],
   "source": [
    "df['Address Line 1'].head()"
   ]
  },
  {
   "cell_type": "code",
   "execution_count": 39,
   "metadata": {},
   "outputs": [
    {
     "data": {
      "text/plain": [
       "4"
      ]
     },
     "execution_count": 39,
     "metadata": {},
     "output_type": "execute_result"
    }
   ],
   "source": [
    "min(set([(len(str(num))) for num in df['Address Line 1']]))"
   ]
  },
  {
   "cell_type": "code",
   "execution_count": 40,
   "metadata": {},
   "outputs": [
    {
     "data": {
      "text/plain": [
       "59"
      ]
     },
     "execution_count": 40,
     "metadata": {},
     "output_type": "execute_result"
    }
   ],
   "source": [
    "max(set([(len(str(num))) for num in df['Address Line 1']]))"
   ]
  },
  {
   "cell_type": "markdown",
   "metadata": {},
   "source": [
    "### Address Line 2\n",
    "Data type: object\n",
    "\n",
    "Value count: 1087\n",
    "\n",
    "Number of unique values: 599\n",
    "\n",
    "Percent unique values: 0.001309\n",
    "\n",
    "Length of values: 2 - 47\n",
    "\n",
    "Description: Lists the second line of the address that corresponds to the facility listed."
   ]
  },
  {
   "cell_type": "code",
   "execution_count": 41,
   "metadata": {},
   "outputs": [
    {
     "data": {
      "text/plain": [
       "2"
      ]
     },
     "execution_count": 41,
     "metadata": {},
     "output_type": "execute_result"
    }
   ],
   "source": [
    "min(set([(len(str(num))) for num in df['Address Line 2']]))"
   ]
  },
  {
   "cell_type": "code",
   "execution_count": 42,
   "metadata": {},
   "outputs": [
    {
     "data": {
      "text/plain": [
       "47"
      ]
     },
     "execution_count": 42,
     "metadata": {},
     "output_type": "execute_result"
    }
   ],
   "source": [
    "max(set([(len(str(num))) for num in df['Address Line 2']]))"
   ]
  },
  {
   "cell_type": "markdown",
   "metadata": {},
   "source": [
    "### City\n",
    "Data type: object\n",
    "\n",
    "Value count: 7626\n",
    "\n",
    "Number of unique values: 3001\n",
    "\n",
    "Percent unique values: 0.006559\n",
    "\n",
    "Range of values: ABBEVILLE - ZUNI\n",
    "\n",
    "Length of values: \n",
    "\n",
    "Description: Lists the city that corresponds to the facility listed."
   ]
  },
  {
   "cell_type": "code",
   "execution_count": 43,
   "metadata": {},
   "outputs": [
    {
     "data": {
      "text/plain": [
       "HOUSTON           108\n",
       "CHICAGO            76\n",
       "PHILADELPHIA       55\n",
       "SAN ANTONIO        53\n",
       "COLUMBUS           41\n",
       "                 ... \n",
       "MURRELLS INLET      1\n",
       "ITHACA              1\n",
       "CAROL STREAM        1\n",
       "KAYENTA             1\n",
       "PRESTONSBURG        1\n",
       "Name: City, Length: 3001, dtype: int64"
      ]
     },
     "execution_count": 43,
     "metadata": {},
     "output_type": "execute_result"
    }
   ],
   "source": [
    "df['City'].value_counts()"
   ]
  },
  {
   "cell_type": "code",
   "execution_count": 44,
   "metadata": {},
   "outputs": [
    {
     "data": {
      "text/plain": [
       "3"
      ]
     },
     "execution_count": 44,
     "metadata": {},
     "output_type": "execute_result"
    }
   ],
   "source": [
    "min(set([(len(str(num))) for num in df['City']]))"
   ]
  },
  {
   "cell_type": "code",
   "execution_count": 45,
   "metadata": {},
   "outputs": [
    {
     "data": {
      "text/plain": [
       "20"
      ]
     },
     "execution_count": 45,
     "metadata": {},
     "output_type": "execute_result"
    }
   ],
   "source": [
    "max(set([(len(str(num))) for num in df['City']]))"
   ]
  },
  {
   "cell_type": "markdown",
   "metadata": {},
   "source": [
    "### State\n",
    "Data type: object\n",
    "\n",
    "Value count: 7626\n",
    "\n",
    "Number of unique values: 56\n",
    "\n",
    "Percent unique values: 0.000122\n",
    "\n",
    "Range of values: AK - WY\n",
    "\n",
    "Length of values: 2\n",
    "\n",
    "Description: Lists the alphabetic postal code used to identify the state that corresponds to the facility listed."
   ]
  },
  {
   "cell_type": "code",
   "execution_count": 46,
   "metadata": {},
   "outputs": [
    {
     "data": {
      "text/plain": [
       "TX    749\n",
       "CA    706\n",
       "FL    503\n",
       "GA    376\n",
       "OH    347\n",
       "IL    345\n",
       "PA    326\n",
       "NY    324\n",
       "NC    240\n",
       "MI    220\n",
       "VA    208\n",
       "TN    205\n",
       "NJ    192\n",
       "LA    189\n",
       "AL    186\n",
       "IN    178\n",
       "MD    173\n",
       "MO    165\n",
       "SC    159\n",
       "AZ    128\n",
       "WI    127\n",
       "KY    126\n",
       "MN    120\n",
       "WA    100\n",
       "MS     91\n",
       "OK     89\n",
       "MA     83\n",
       "CO     80\n",
       "OR     74\n",
       "AR     71\n",
       "IA     69\n",
       "KS     65\n",
       "NM     57\n",
       "NV     52\n",
       "CT     51\n",
       "PR     50\n",
       "UT     47\n",
       "WV     46\n",
       "NE     40\n",
       "DE     33\n",
       "HI     32\n",
       "SD     28\n",
       "ID     27\n",
       "DC     22\n",
       "NH     20\n",
       "ME     19\n",
       "MT     17\n",
       "RI     16\n",
       "ND     15\n",
       "WY     10\n",
       "AK      9\n",
       "VT      8\n",
       "GU      5\n",
       "VI      4\n",
       "MP      2\n",
       "AS      2\n",
       "Name: State, dtype: int64"
      ]
     },
     "execution_count": 46,
     "metadata": {},
     "output_type": "execute_result"
    }
   ],
   "source": [
    "df['State'].value_counts()"
   ]
  },
  {
   "cell_type": "markdown",
   "metadata": {},
   "source": [
    "### Zip\n",
    "Data type: int64\n",
    "\n",
    "Value count: 7626\n",
    "\n",
    "Number of unique values: 5276\n",
    "\n",
    "Percent unique values: 0.011531\n",
    "\n",
    "Ranges of values: 603 - 99801\n",
    "\n",
    "Length of values: 3 - 5\n",
    "\n",
    "Description: Lists the full postal ZIP code that corresponds to the facility listed."
   ]
  },
  {
   "cell_type": "code",
   "execution_count": 47,
   "metadata": {
    "scrolled": true
   },
   "outputs": [
    {
     "data": {
      "text/plain": [
       "{3, 4, 5}"
      ]
     },
     "execution_count": 47,
     "metadata": {},
     "output_type": "execute_result"
    }
   ],
   "source": [
    "set([(len(str(num))) for num in df['Zip']])"
   ]
  },
  {
   "cell_type": "code",
   "execution_count": 48,
   "metadata": {},
   "outputs": [
    {
     "data": {
      "text/plain": [
       "5450      603\n",
       "113       605\n",
       "349       612\n",
       "572       612\n",
       "1530      646\n",
       "        ...  \n",
       "4944    99515\n",
       "2013    99654\n",
       "1648    99669\n",
       "3097    99701\n",
       "888     99801\n",
       "Name: Zip, Length: 7626, dtype: int64"
      ]
     },
     "execution_count": 48,
     "metadata": {},
     "output_type": "execute_result"
    }
   ],
   "source": [
    "df['Zip'].sort_values()"
   ]
  },
  {
   "cell_type": "markdown",
   "metadata": {},
   "source": [
    "### County\n",
    "Data type: object\n",
    "\n",
    "Value count: 7626\n",
    "\n",
    "Number of unique values: 1258\n",
    "\n",
    "Percent unique values: 0.002749\n",
    "\n",
    "Range of values: ABBEVILLE - ZAVALA\n",
    "\n",
    "Length of values: 3 - 21\n",
    "\n",
    "Description: Lists the name of the county that corresponds to the facility listed."
   ]
  },
  {
   "cell_type": "code",
   "execution_count": 49,
   "metadata": {},
   "outputs": [
    {
     "data": {
      "text/plain": [
       "3"
      ]
     },
     "execution_count": 49,
     "metadata": {},
     "output_type": "execute_result"
    }
   ],
   "source": [
    "min(set([(len(str(num))) for num in df['County']]))"
   ]
  },
  {
   "cell_type": "code",
   "execution_count": 50,
   "metadata": {},
   "outputs": [
    {
     "data": {
      "text/plain": [
       "21"
      ]
     },
     "execution_count": 50,
     "metadata": {},
     "output_type": "execute_result"
    }
   ],
   "source": [
    "max(set([(len(str(num))) for num in df['County']]))"
   ]
  },
  {
   "cell_type": "markdown",
   "metadata": {},
   "source": [
    "### Phone Number\n",
    "Data type: object\n",
    "\n",
    "Value count: 7626\n",
    "\n",
    "Number of unique values: 7581\n",
    "\n",
    "Percent unique values: 0.016568\n",
    "\n",
    "Range of values: (201) 262-0429\t- (989) 921-2170\n",
    "\n",
    "Length of values: 14\n",
    "\n",
    "Description: Lists the telephone number that corresponds to the facility listed."
   ]
  },
  {
   "cell_type": "code",
   "execution_count": 51,
   "metadata": {},
   "outputs": [
    {
     "data": {
      "text/plain": [
       "{14}"
      ]
     },
     "execution_count": 51,
     "metadata": {},
     "output_type": "execute_result"
    }
   ],
   "source": [
    "set([(len(str(num))) for num in df['Phone Number']])"
   ]
  },
  {
   "cell_type": "markdown",
   "metadata": {},
   "source": [
    "### Profit Or Non-Profit\n",
    "Data type: object\n",
    "\n",
    "Value count: 7627\n",
    "\n",
    "Number of unique values: 2\n",
    "\n",
    "Percent unique values: 0.000004\n",
    "\n",
    "Ranges of values: Non-Profit, Profit \n",
    "\n",
    "Length of values: 6, 10\n",
    "\n",
    "Description: Indicates if the dialysis facility’s operates as a for profit or non-profit business."
   ]
  },
  {
   "cell_type": "code",
   "execution_count": 52,
   "metadata": {},
   "outputs": [
    {
     "data": {
      "text/plain": [
       "Profit        6759\n",
       "Non-Profit     867\n",
       "Name: Profit Or Non-Profit, dtype: int64"
      ]
     },
     "execution_count": 52,
     "metadata": {},
     "output_type": "execute_result"
    }
   ],
   "source": [
    "df['Profit Or Non-Profit'].value_counts()"
   ]
  },
  {
   "cell_type": "code",
   "execution_count": 53,
   "metadata": {},
   "outputs": [
    {
     "data": {
      "text/plain": [
       "{6, 10}"
      ]
     },
     "execution_count": 53,
     "metadata": {},
     "output_type": "execute_result"
    }
   ],
   "source": [
    "set([(len(str(num))) for num in df['Profit Or Non-Profit']])"
   ]
  },
  {
   "cell_type": "markdown",
   "metadata": {},
   "source": [
    "### Chain Owned\n",
    "Data type: object\n",
    "\n",
    "Value count: 7626\n",
    "\n",
    "Number of unique values: 2\n",
    "\n",
    "Percent unique values: 0.000004\n",
    "\n",
    "Ranges of values: No, Yes\n",
    "\n",
    "Length of values: 2 - 3\n",
    "\n",
    "Description: Indicates whether or not the facility is owned or managed by a chain organization."
   ]
  },
  {
   "cell_type": "code",
   "execution_count": 54,
   "metadata": {
    "scrolled": true
   },
   "outputs": [
    {
     "data": {
      "text/plain": [
       "Yes    6793\n",
       "No      833\n",
       "Name: Chain Owned, dtype: int64"
      ]
     },
     "execution_count": 54,
     "metadata": {},
     "output_type": "execute_result"
    }
   ],
   "source": [
    "df['Chain Owned'].value_counts()"
   ]
  },
  {
   "cell_type": "markdown",
   "metadata": {},
   "source": [
    "### Chain Organization\n",
    "Data type: object\n",
    "\n",
    "Value count: 7625\n",
    "\n",
    "Number of unique values: 111\n",
    "\n",
    "Percent unique values: 0.000243\n",
    "\n",
    "Length of values: 3 - 39\n",
    "\n",
    "Description: Lists the name of the chain organization if applicable."
   ]
  },
  {
   "cell_type": "code",
   "execution_count": 55,
   "metadata": {},
   "outputs": [
    {
     "data": {
      "text/plain": [
       "3"
      ]
     },
     "execution_count": 55,
     "metadata": {},
     "output_type": "execute_result"
    }
   ],
   "source": [
    "min(set([(len(str(num))) for num in df['Chain Organization']]))"
   ]
  },
  {
   "cell_type": "code",
   "execution_count": 56,
   "metadata": {},
   "outputs": [
    {
     "data": {
      "text/plain": [
       "39"
      ]
     },
     "execution_count": 56,
     "metadata": {},
     "output_type": "execute_result"
    }
   ],
   "source": [
    "max(set([(len(str(num))) for num in df['Chain Organization']]))"
   ]
  },
  {
   "cell_type": "markdown",
   "metadata": {},
   "source": [
    "### Late Shift\n",
    "Data type: int64\n",
    "\n",
    "Value count: 7626\n",
    "\n",
    "Number of unique values: 2\n",
    "\n",
    "Percent unique values: 0.000004\n",
    "\n",
    "Mean: 0.167060\n",
    "\n",
    "Ranges of values: 0, 1\n",
    "\n",
    "Length of values: 1\n",
    "\n",
    "Description: Lists whether or not the facility has a shift starting at 5:00 p.m. or later."
   ]
  },
  {
   "cell_type": "code",
   "execution_count": 57,
   "metadata": {
    "scrolled": true
   },
   "outputs": [
    {
     "data": {
      "text/plain": [
       "0    6352\n",
       "1    1274\n",
       "Name: Late Shift, dtype: int64"
      ]
     },
     "execution_count": 57,
     "metadata": {},
     "output_type": "execute_result"
    }
   ],
   "source": [
    "df['Late Shift'].value_counts()"
   ]
  },
  {
   "cell_type": "markdown",
   "metadata": {},
   "source": [
    "###  Number Of Dialysis Stations\n",
    "Data type: int64\n",
    "\n",
    "Value count: 7626\n",
    "\n",
    "Number of unique values: 68\n",
    "\n",
    "Percent unique values: 0.000149\n",
    "\n",
    "Ranges of values: 0 - 80\n",
    "\n",
    "Mean: 17.463284\n",
    "\n",
    "Length of values: 1 - 2\n",
    "\n",
    "Description: Indicates the total number of dialysis stations at the dialysis facility. "
   ]
  },
  {
   "cell_type": "markdown",
   "metadata": {},
   "source": [
    "### Offers In-Center Hemodialysis\n",
    "Data type: int64\n",
    "\n",
    "Value count: 7626\n",
    "\n",
    "Number of unique values: 2\n",
    "\n",
    "Percent unique values: 0.000004\n",
    "\n",
    "Mean: 0.940336\t\n",
    "\n",
    "Ranges of values: 0, 1\n",
    "\n",
    "Length of values: 1\n",
    "\n",
    "Description: Indicates whether the facility offers in-center hemodialysis. "
   ]
  },
  {
   "cell_type": "code",
   "execution_count": 58,
   "metadata": {},
   "outputs": [
    {
     "data": {
      "text/plain": [
       "1    7171\n",
       "0     455\n",
       "Name: Offers In-Center Hemodialysis, dtype: int64"
      ]
     },
     "execution_count": 58,
     "metadata": {},
     "output_type": "execute_result"
    }
   ],
   "source": [
    "df['Offers In-Center Hemodialysis'].value_counts()"
   ]
  },
  {
   "cell_type": "markdown",
   "metadata": {},
   "source": [
    "### Offers Peritoneal Dialysis\n",
    "Data type: int64\n",
    "\n",
    "Value count: 7626\n",
    "\n",
    "Number of unique values: 2\n",
    "\n",
    "Percent unique values: 0.000004\n",
    "\n",
    "Mean: 0.525439\n",
    "\n",
    "Ranges of values: 0, 1\n",
    "\n",
    "Length of values: 1\n",
    "\n",
    "Description: Indicates whether the facility offers peritoneal dialysis."
   ]
  },
  {
   "cell_type": "code",
   "execution_count": 59,
   "metadata": {},
   "outputs": [
    {
     "data": {
      "text/plain": [
       "1    4007\n",
       "0    3619\n",
       "Name: Offers Peritoneal Dialysis, dtype: int64"
      ]
     },
     "execution_count": 59,
     "metadata": {},
     "output_type": "execute_result"
    }
   ],
   "source": [
    "df['Offers Peritoneal Dialysis'].value_counts()"
   ]
  },
  {
   "cell_type": "markdown",
   "metadata": {},
   "source": [
    "### Offers Home Hemodialysis Training\n",
    "Data type: int64\n",
    "\n",
    "Value count: 7626\n",
    "\n",
    "Number of unique values: 2\n",
    "\n",
    "Percent unique values: 0.000004\n",
    "\n",
    "Mean: 0.29006\n",
    "\n",
    "Ranges of values: 0, 1\n",
    "\n",
    "Length of values: 1\n",
    "\n",
    "Description: Indicates whether the facility offers home hemodialysis training."
   ]
  },
  {
   "cell_type": "code",
   "execution_count": 60,
   "metadata": {},
   "outputs": [
    {
     "data": {
      "text/plain": [
       "0    5414\n",
       "1    2212\n",
       "Name: Offers Home Hemodialysis Training, dtype: int64"
      ]
     },
     "execution_count": 60,
     "metadata": {},
     "output_type": "execute_result"
    }
   ],
   "source": [
    "df['Offers Home Hemodialysis Training'].value_counts()"
   ]
  },
  {
   "cell_type": "markdown",
   "metadata": {},
   "source": [
    "### Certification Or Recertification Date\n",
    "Data type: object\n",
    "\n",
    "Value count: 7626\n",
    "\n",
    "Number of unique values: 4800\n",
    "\n",
    "Percent unique values: 0.010490\n",
    "\n",
    "Range of values: 01/01/1968 - 12/31/2017\n",
    "\n",
    "Length of values: 10\n",
    "\n",
    "Description: Lists the initial or recertification date for the facility listed. These facilities are certified if they pass inspection. Medicare or Medicaid only covers care provided by certified providers. Being certified is not the same as being accredited. "
   ]
  },
  {
   "cell_type": "code",
   "execution_count": 61,
   "metadata": {},
   "outputs": [
    {
     "data": {
      "text/plain": [
       "{10}"
      ]
     },
     "execution_count": 61,
     "metadata": {},
     "output_type": "execute_result"
    }
   ],
   "source": [
    "set([(len(str(num))) for num in df['Certification Or Recertification Date']])"
   ]
  },
  {
   "cell_type": "markdown",
   "metadata": {},
   "source": [
    "### Claims Date\n",
    "Data type: object\n",
    "\n",
    "Value count: 7626\n",
    "\n",
    "Number of unique values: 1\n",
    "\n",
    "Percent unique values: 0.000002\n",
    "\n",
    "Ranges of values: \"07/01/2018 - 06/30/2019\"\n",
    "\n",
    "Length of values: 23\n",
    "\n",
    "Description: Lists the data collection period for claims-based summaries."
   ]
  },
  {
   "cell_type": "code",
   "execution_count": 62,
   "metadata": {},
   "outputs": [
    {
     "data": {
      "text/plain": [
       "{23}"
      ]
     },
     "execution_count": 62,
     "metadata": {},
     "output_type": "execute_result"
    }
   ],
   "source": [
    "set([(len(str(num))) for num in df['Claims Date']])"
   ]
  },
  {
   "cell_type": "markdown",
   "metadata": {},
   "source": [
    "### CROWNWeb Date\n",
    "Data type: object\n",
    "\n",
    "Value count: 7626\n",
    "\n",
    "Number of unique values: 1\n",
    "\n",
    "Percent unique values: 0.000002\n",
    "\n",
    "Ranges of values: \"07/01/2018 - 06/30/2019\"\n",
    "\n",
    "Length of values: 23\n",
    "\n",
    "Description: Lists the data collection period for CROWNWeb based measures."
   ]
  },
  {
   "cell_type": "code",
   "execution_count": 63,
   "metadata": {},
   "outputs": [
    {
     "data": {
      "text/plain": [
       "{23}"
      ]
     },
     "execution_count": 63,
     "metadata": {},
     "output_type": "execute_result"
    }
   ],
   "source": [
    "set([(len(str(num))) for num in df['CROWNWeb Date']])"
   ]
  },
  {
   "cell_type": "markdown",
   "metadata": {},
   "source": [
    "### STrR Date\n",
    "Data type: object\n",
    "\n",
    "Value count: 7626\n",
    "\n",
    "Number of unique values: 1\n",
    "\n",
    "Percent unique values: 0.000002\n",
    "\n",
    "Ranges of values: \"01/01/2018 - 12/31/2018\"\n",
    "\n",
    "Length of values: 23\n",
    "\n",
    "Description: Lists the time period for patient transfusion summary (STrR)."
   ]
  },
  {
   "cell_type": "code",
   "execution_count": 64,
   "metadata": {},
   "outputs": [
    {
     "data": {
      "text/plain": [
       "{23}"
      ]
     },
     "execution_count": 64,
     "metadata": {},
     "output_type": "execute_result"
    }
   ],
   "source": [
    "set([(len(str(num))) for num in df['STrR Date']])"
   ]
  },
  {
   "cell_type": "markdown",
   "metadata": {},
   "source": [
    "### Percentage Of Medicare Patients With Hgb < 10 g/dL\n",
    "Data type: float64\n",
    "\n",
    "Value count: 6517\n",
    "\n",
    "Number of unique values: 90\n",
    "\n",
    "Percent unique values: 0.000197\n",
    "\n",
    "Ranges of values: 0 - \n",
    "\n",
    "Length of values: 1-3, 13\n",
    "\n",
    "Description: Lists the percentage of patients who had average hemoglobin (hgb) less than 10.0 g/dL. Hemoglobin is a protein in red blood cells that carries oxygen from the lungs to the rest of the body. A normal hemoglobin level is 11 to 18 grams per deciliter (g/dL), depending on one's age and gender. But 7 to 8 g/dL is a safe level. "
   ]
  },
  {
   "cell_type": "code",
   "execution_count": 65,
   "metadata": {},
   "outputs": [
    {
     "data": {
      "text/plain": [
       "{3, 4, 5}"
      ]
     },
     "execution_count": 65,
     "metadata": {},
     "output_type": "execute_result"
    }
   ],
   "source": [
    "set([(len(str(num))) for num in df['Percentage Of Medicare Patients With Hgb < 10 g/dL']])"
   ]
  },
  {
   "cell_type": "markdown",
   "metadata": {},
   "source": [
    "### Hgb < 10 Data Availability Code\n",
    "Data type: float64\n",
    "\n",
    "Value count: 1109\n",
    "\n",
    "Number of unique values: 3\n",
    "\n",
    "Percent unique values: 0.000007\n",
    "\n",
    "Ranges of values: 199, 201, 258 \n",
    "\n",
    "Length of values: 3\n",
    "\n",
    "Description: Lists whether the facility had sufficient hemoglobin (hgb) data available or the reason for why the data is not available. Hemoglobin is a protein in red blood cells that carries oxygen from the lungs to the rest of the body. A normal hemoglobin level is 11 to 18 grams per deciliter (g/dL), depending on one's age and gender. But 7 to 8 g/dL is a safe level. \n",
    "\n",
    "Value description:\n",
    "- 199 : Not enough patients to report on this measure. Call the dialysis center to discuss this measure.\n",
    "- 201 : Data not reported. Call the dialysis center to discuss this quality measure. \n",
    "- 258 : The dialysis center was not open long enough to supply sufficient measure data. "
   ]
  },
  {
   "cell_type": "code",
   "execution_count": 66,
   "metadata": {
    "scrolled": false
   },
   "outputs": [
    {
     "data": {
      "text/plain": [
       "199.0    575\n",
       "201.0    279\n",
       "258.0    255\n",
       "Name: Hgb < 10 Data Availability Code, dtype: int64"
      ]
     },
     "execution_count": 66,
     "metadata": {},
     "output_type": "execute_result"
    }
   ],
   "source": [
    "df['Hgb < 10 Data Availability Code'].value_counts()"
   ]
  },
  {
   "cell_type": "markdown",
   "metadata": {},
   "source": [
    "### Percentage Of Medicare Patients With Hgb > 12 g/dL\n",
    "Data type: float64\n",
    "\n",
    "Value count: 6517\n",
    "\n",
    "Number of unique values: 20\n",
    "\n",
    "Percent unique values: 0.000044\n",
    "\n",
    "Ranges of values: 0 - \n",
    "\n",
    "Length of values: 1 - 3\n",
    "\n",
    "Description: Lists the percentage of patients who had average hemoglobin (hgb) greater than 12.0 g/dL. Hemoglobin is a protein in red blood cells that carries oxygen from the lungs to the rest of the body. A normal hemoglobin level is 11 to 18 grams per deciliter (g/dL), depending on one's age and gender. But 7 to 8 g/dL is a safe level. "
   ]
  },
  {
   "cell_type": "code",
   "execution_count": 67,
   "metadata": {
    "scrolled": true
   },
   "outputs": [
    {
     "data": {
      "text/plain": [
       "{3, 4}"
      ]
     },
     "execution_count": 67,
     "metadata": {},
     "output_type": "execute_result"
    }
   ],
   "source": [
    "set([(len(str(num))) for num in df['Percentage Of Medicare Patients With Hgb > 12 g/dL']])"
   ]
  },
  {
   "cell_type": "markdown",
   "metadata": {},
   "source": [
    "### Hgb > 12 Data Availability Code\n",
    "Data type: float64\n",
    "\n",
    "Value count: 1109\n",
    "\n",
    "Number of unique values: 3\n",
    "\n",
    "Percent unique values: 0.000007\n",
    "\n",
    "Ranges of values: 199, 201, 258\n",
    "\n",
    "Length of values: 3\n",
    "\n",
    "Description: Lists whether the facility had sufficient hemoglobin (hgb) data available or the reason for why the data is not available. Hemoglobin is a protein in red blood cells that carries oxygen from the lungs to the rest of the body. A normal hemoglobin level is 11 to 18 grams per deciliter (g/dL), depending on one's age and gender. But 7 to 8 g/dL is a safe level. \n",
    "\n",
    "Value description:\n",
    "- 199 : Not enough patients to report on this measure. Call the dialysis center to discuss this measure.\n",
    "- 201 : Data not reported. Call the dialysis center to discuss this quality measure. \n",
    "- 258 : The dialysis center was not open long enough to supply sufficient measure data. "
   ]
  },
  {
   "cell_type": "code",
   "execution_count": 68,
   "metadata": {},
   "outputs": [
    {
     "data": {
      "text/plain": [
       "199.0    575\n",
       "201.0    279\n",
       "258.0    255\n",
       "Name: Hgb > 12 Data Availability Code, dtype: int64"
      ]
     },
     "execution_count": 68,
     "metadata": {},
     "output_type": "execute_result"
    }
   ],
   "source": [
    "df['Hgb > 12 Data Availability Code'].value_counts()"
   ]
  },
  {
   "cell_type": "markdown",
   "metadata": {},
   "source": [
    "### Number Of Dialysis Patients With Hgb Data\n",
    "Data type: float64\n",
    "\n",
    "Value count: 7555\n",
    "\n",
    "Number of unique values: 159\n",
    "\n",
    "Percent unique values: 0.000347\n",
    "\n",
    "Ranges of values: 0 - \n",
    "\n",
    "Length of values: 1-3\n",
    "\n",
    "Description: Lists the number of patients included in the hemoglobin (hgb) greater than 12.0 g/dL summary. Hemoglobin is a protein in red blood cells that carries oxygen from the lungs to the rest of the body. A normal hemoglobin level is 11 to 18 grams per deciliter (g/dL), depending on one's age and gender. But 7 to 8 g/dL is a safe level. "
   ]
  },
  {
   "cell_type": "code",
   "execution_count": 69,
   "metadata": {},
   "outputs": [
    {
     "data": {
      "text/plain": [
       "{3, 4, 5}"
      ]
     },
     "execution_count": 69,
     "metadata": {},
     "output_type": "execute_result"
    }
   ],
   "source": [
    "set([(len(str(num))) for num in df['Number Of Dialysis Patients With Hgb Data']])"
   ]
  },
  {
   "cell_type": "markdown",
   "metadata": {},
   "source": [
    "### Patient Transfusion Data Availability Code\n",
    "Data type: float64\n",
    "\n",
    "Value count: 1341\n",
    "\n",
    "Number of unique values: 4\n",
    "\n",
    "Percent unique values: 0.000009\n",
    "\n",
    "Ranges of values: 199, 201, 255, 258\n",
    "\n",
    "Length of values: 3\n",
    "\n",
    "Description: Lists whether the facility had sufficient transfusion data available or the reason for why the data is not available.\n",
    "\n",
    "Value description:\n",
    "- 199 : Not enough patients to report on this measure. Call the dialysis center to discuss this measure.\n",
    "- 201 : Data not reported. Call the dialysis center to discuss this quality measure. \n",
    "- 255 : Medicare determined that the percentage reported was not accurate.\n",
    "- 258 : The dialysis center was not open long enough to supply sufficient measure data. "
   ]
  },
  {
   "cell_type": "code",
   "execution_count": 70,
   "metadata": {},
   "outputs": [
    {
     "data": {
      "text/plain": [
       "258.0    678\n",
       "199.0    638\n",
       "201.0     22\n",
       "255.0      3\n",
       "Name: Patient Transfusion Data Availability Code, dtype: int64"
      ]
     },
     "execution_count": 70,
     "metadata": {},
     "output_type": "execute_result"
    }
   ],
   "source": [
    "df['Patient Transfusion Data Availability Code'].value_counts()"
   ]
  },
  {
   "cell_type": "markdown",
   "metadata": {},
   "source": [
    "### Patient Transfusion Category Text\n",
    "Data type: object\n",
    "\n",
    "Value count: 6285\n",
    "\n",
    "Number of unique values: 3\n",
    "\n",
    "Percent unique values: 0.000007\n",
    "\n",
    "Ranges of values: As Expected, Not Available, Worse than Expected, Better than Expected \n",
    "\n",
    "Length of values: 3, 11, 19, 20\n",
    "\n",
    "Description: Patient transfusion category.\n",
    "\n",
    "Value description:\n",
    "- As Expected          : Patient transfusions categorized as “As Expected”       \n",
    "- Worse than Expected  :  Patient transfusions categorized as “Worse than Expected”\n",
    "- Better than Expected : Patient transfusions categorized as “Better than Expected\"\n",
    "- Not Available "
   ]
  },
  {
   "cell_type": "code",
   "execution_count": 71,
   "metadata": {},
   "outputs": [
    {
     "data": {
      "text/plain": [
       "As Expected             5851\n",
       "Worse than Expected      430\n",
       "Better than Expected       4\n",
       "Name: Patient Transfusion Category Text, dtype: int64"
      ]
     },
     "execution_count": 71,
     "metadata": {},
     "output_type": "execute_result"
    }
   ],
   "source": [
    "df['Patient Transfusion Category Text'].value_counts()"
   ]
  },
  {
   "cell_type": "code",
   "execution_count": 72,
   "metadata": {},
   "outputs": [
    {
     "data": {
      "text/plain": [
       "{3, 11, 19, 20}"
      ]
     },
     "execution_count": 72,
     "metadata": {},
     "output_type": "execute_result"
    }
   ],
   "source": [
    "set([(len(str(num))) for num in df['Patient Transfusion Category Text']])"
   ]
  },
  {
   "cell_type": "markdown",
   "metadata": {},
   "source": [
    "### Number Of Patients Included In The Transfusion Summary\n",
    "Data type: float64\n",
    "\n",
    "Value count: 7552\n",
    "\n",
    "Number of unique values: 225\n",
    "\n",
    "Percent unique values: 0.000492\n",
    "\n",
    "Ranges of values: 0 - \n",
    "\n",
    "Length of values: 1 - 3\n",
    "\n",
    "Description: Lists the number of patients included in the facility’s transfusion summary."
   ]
  },
  {
   "cell_type": "code",
   "execution_count": 73,
   "metadata": {},
   "outputs": [
    {
     "data": {
      "text/plain": [
       "{3, 4, 5}"
      ]
     },
     "execution_count": 73,
     "metadata": {},
     "output_type": "execute_result"
    }
   ],
   "source": [
    "set([(len(str(num))) for num in df['Number Of Patients Included In The Transfusion Summary']])"
   ]
  },
  {
   "cell_type": "markdown",
   "metadata": {},
   "source": [
    "### Percent Of Adult HD Patients With Kt/V >= 1.2\n",
    "Data type: float64\n",
    "\n",
    "Value count: 6755\n",
    "\n",
    "Number of unique values: 53\n",
    "\n",
    "Percent unique values: 0.000116 \n",
    "\n",
    "Ranges of values: 0 - \n",
    "\n",
    "Length of values: 1 - 3, 13\n",
    "\n",
    "Description: Lists the percentage of adult HD patients with Kt/V greater than or equal to 1.2. The parameter Kt/V is a measurement of the efficacy of a hemodialysis session. It identifies the effective removal of a specific solute (clearance K) resulting from a given treatment (characterized by time t) in a given patient (with a specific volume of distribution V for the solute considered)."
   ]
  },
  {
   "cell_type": "code",
   "execution_count": 74,
   "metadata": {},
   "outputs": [
    {
     "data": {
      "text/plain": [
       "{3, 4, 5}"
      ]
     },
     "execution_count": 74,
     "metadata": {},
     "output_type": "execute_result"
    }
   ],
   "source": [
    "set([(len(str(num))) for num in df['Percent Of Adult HD Patients With Kt/V >= 1.2']])"
   ]
  },
  {
   "cell_type": "markdown",
   "metadata": {},
   "source": [
    "### Adult HD Kt/V Data Availability Code\n",
    "Data type: float64\n",
    "\n",
    "Value count: 871\n",
    "\n",
    "Number of unique values: 4\n",
    "\n",
    "Percent unique values: 0.000009\n",
    "\n",
    "Ranges of values: 1, 199, 201, 256, 258\n",
    "\n",
    "Length of values: 1, 3\n",
    "\n",
    "Description: Lists whether the facility had sufficient adult HD Kt/V data available or the reason for why the data is not available. The parameter Kt/V is a measurement of the efficacy of a hemodialysis session. It identifies the effective removal of a specific solute (clearance K) resulting from a given treatment (characterized by time t) in a given patient (with a specific volume of distribution V for the solute considered).\n",
    "\n",
    "Value description: \n",
    "- 199 : Not enough patients to report on this measure. Call the dialysis center to discuss this measure.\n",
    "- 201 : Data not reported. Call the dialysis center to discuss this quality measure.\n",
    "- 256 : The dialysis center does not provide hemodialysis during the reporting period. \n",
    "- 258 : The dialysis center was not open long enough to supply sufficient measure data. "
   ]
  },
  {
   "cell_type": "code",
   "execution_count": 75,
   "metadata": {},
   "outputs": [
    {
     "data": {
      "text/plain": [
       "199.0    294\n",
       "201.0    238\n",
       "258.0    197\n",
       "256.0    142\n",
       "Name: Adult HD Kt/V Data Availability Code, dtype: int64"
      ]
     },
     "execution_count": 75,
     "metadata": {},
     "output_type": "execute_result"
    }
   ],
   "source": [
    "df['Adult HD Kt/V Data Availability Code'].value_counts()"
   ]
  },
  {
   "cell_type": "markdown",
   "metadata": {},
   "source": [
    "### Percentage Of Adult PD PTS With Kt/V >= 1.7\n",
    "Data type: float64\n",
    "\n",
    "Value count: 2146\n",
    "\n",
    "Number of unique values: 70\n",
    "\n",
    "Percent unique values: 0.000153\n",
    "\n",
    "Ranges of values: 0 - \n",
    "\n",
    "Length of values: 1 - 3\n",
    "\n",
    "Description: Lists the percentage of adult PD PTS patients with Kt/V greater than or equal to 1.7. The parameter Kt/V is a measurement of the efficacy of a hemodialysis session. It identifies the effective removal of a specific solute (clearance K) resulting from a given treatment (characterized by time t) in a given patient (with a specific volume of distribution V for the solute considered)."
   ]
  },
  {
   "cell_type": "code",
   "execution_count": 76,
   "metadata": {},
   "outputs": [
    {
     "data": {
      "text/plain": [
       "{3, 4, 5}"
      ]
     },
     "execution_count": 76,
     "metadata": {},
     "output_type": "execute_result"
    }
   ],
   "source": [
    "set([(len(str(num))) for num in df['Percentage Of Adult PD PTS With Kt/V >= 1.7']])"
   ]
  },
  {
   "cell_type": "markdown",
   "metadata": {},
   "source": [
    "### Adult PD Kt/V Data Availability Code\n",
    "Data type: float64 \n",
    "\n",
    "Value count: 5480\n",
    "\n",
    "Number of unique values: 4\n",
    "\n",
    "Percent unique values: 0.000009\n",
    "\n",
    "Ranges of values: 1, 199, 201, 257, 258\n",
    "\n",
    "Length of values: 1, 3\n",
    "\n",
    "Description: Lists whether the facility had sufficient adult PD Kt/V data available or the reason for why the data is not available. The parameter Kt/V is a measurement of the efficacy of a hemodialysis session. It identifies the effective removal of a specific solute (clearance K) resulting from a given treatment (characterized by time t) in a given patient (with a specific volume of distribution V for the solute considered).\n",
    "\n",
    "Value description:\n",
    "- 199 : Not enough patients to report on this measure. Call the dialysis center to discuss this measure.\n",
    "- 201 : Data not reported. Call the dialysis center to discuss this quality measure.\n",
    "- 257 : The dialysis center does not provide peritoneal dialysis during the reporting period. \n",
    "- 258 : The dialysis center was not open long enough to supply sufficient measure data."
   ]
  },
  {
   "cell_type": "code",
   "execution_count": 77,
   "metadata": {},
   "outputs": [
    {
     "data": {
      "text/plain": [
       "257.0    3362\n",
       "199.0    1116\n",
       "201.0     835\n",
       "258.0     167\n",
       "Name: Adult PD Kt/V Data Availability Code, dtype: int64"
      ]
     },
     "execution_count": 77,
     "metadata": {},
     "output_type": "execute_result"
    }
   ],
   "source": [
    "df['Adult PD Kt/V Data Availability Code'].value_counts()"
   ]
  },
  {
   "cell_type": "markdown",
   "metadata": {},
   "source": [
    "### Percentage Of Pediatric HD Patients With Kt/V >= 1.2\n",
    "Data type: float64\n",
    "\n",
    "Value count: 16\n",
    "\n",
    "Number of unique values: 11\n",
    "\n",
    "Percent unique values: 0.000024\n",
    "\n",
    "Ranges of values: 100 - \n",
    "\n",
    "Length of values: 2, 3\n",
    "\n",
    "Description: Lists the percentage of pediatric HD patients with Kt/V greater than or equal to 1.2. The parameter Kt/V is a measurement of the efficacy of a hemodialysis session. It identifies the effective removal of a specific solute (clearance K) resulting from a given treatment (characterized by time t) in a given patient (with a specific volume of distribution V for the solute considered)."
   ]
  },
  {
   "cell_type": "code",
   "execution_count": 78,
   "metadata": {},
   "outputs": [
    {
     "data": {
      "text/plain": [
       "{3, 4, 5}"
      ]
     },
     "execution_count": 78,
     "metadata": {},
     "output_type": "execute_result"
    }
   ],
   "source": [
    "set([(len(str(num))) for num in df['Percentage Of Pediatric HD Patients With Kt/V >= 1.2']])"
   ]
  },
  {
   "cell_type": "markdown",
   "metadata": {},
   "source": [
    "### Pediatric HD Kt/V Data Availability Code\n",
    "Data type: float64\n",
    "\n",
    "Value count: 7610\n",
    "\n",
    "Number of unique values: 4\n",
    "\n",
    "Percent unique values: 0.000009\n",
    "\n",
    "Ranges of values: 199, 201, 258, 259\n",
    "\n",
    "Length of values: 3\n",
    "\n",
    "Description: Lists whether the facility had sufficient Pediatric HD Kt/V data available or the reason for why the data is not available. The parameter Kt/V is a measurement of the efficacy of a hemodialysis session. It identifies the effective removal of a specific solute (clearance K) resulting from a given treatment(characterized by time t) in a given patient (with a specific volume of distribution V for the solute considered).\n",
    "\n",
    "Value description:\n",
    "- 199 : Not enough patients to report on this measure. Call the dialysis center to discuss this measure.\n",
    "- 201 : Data not reported. Call the dialysis center to discuss this quality measure.\n",
    "- 258 : The dialysis center was not open long enough to supply sufficient measure data. \n",
    "- 259 : The dialysis center does not provide hemodialysis and/or peritoneal dialysis to pediatric patients during the reporting period."
   ]
  },
  {
   "cell_type": "code",
   "execution_count": 79,
   "metadata": {},
   "outputs": [
    {
     "data": {
      "text/plain": [
       "259.0    7106\n",
       "201.0     247\n",
       "199.0     185\n",
       "258.0      72\n",
       "Name: Pediatric HD Kt/V Data Availability Code, dtype: int64"
      ]
     },
     "execution_count": 79,
     "metadata": {},
     "output_type": "execute_result"
    }
   ],
   "source": [
    "df['Pediatric HD Kt/V Data Availability Code'].value_counts()"
   ]
  },
  {
   "cell_type": "markdown",
   "metadata": {},
   "source": [
    "### Number Of Adult HD Patients With Kt/V Data\n",
    "Data type: float64\n",
    "\n",
    "Value count: 7555\n",
    "\n",
    "Number of unique values: 270\n",
    "\n",
    "Percent unique values: 0.000590\n",
    "\n",
    "Ranges of values: 0 - \n",
    "\n",
    "Length of values: 1 - 3\n",
    "\n",
    "Description: Lists the number of adult HD patients included in Kt/V greater than or equal to 1.2 summary. The parameter Kt/V is a measurement of the efficacy of a hemodialysis session. It identifies the effective removal of a specific solute (clearance K) resulting from a given treatment (characterized by time t) in a given patient (with a specific volume of distribution V for the solute considered)."
   ]
  },
  {
   "cell_type": "code",
   "execution_count": 80,
   "metadata": {},
   "outputs": [
    {
     "data": {
      "text/plain": [
       "{3, 4, 5}"
      ]
     },
     "execution_count": 80,
     "metadata": {},
     "output_type": "execute_result"
    }
   ],
   "source": [
    "set([(len(str(num))) for num in df['Number Of Adult HD Patients With Kt/V Data']])"
   ]
  },
  {
   "cell_type": "markdown",
   "metadata": {},
   "source": [
    "### Number Of Adult HD Patient-Months With Kt/V Data\n",
    "Data type: float64\n",
    "\n",
    "Value count: 7175\n",
    "\n",
    "Number of unique values: 1629\n",
    "\n",
    "Percent unique values: 0.003560\n",
    "\n",
    "Ranges of values: 0 - \n",
    "\n",
    "Length of values: 1 - 4\n",
    "\n",
    "Description: Lists the number of adult HD patient-months included in Kt/V greater than or equal to 1.2 summary. The parameter Kt/V is a measurement of the efficacy of a hemodialysis session. It identifies the effective removal of a specific solute (clearance K) resulting from a given treatment (characterized by time t) in a given patient (with a specific volume of distribution V for the solute considered)."
   ]
  },
  {
   "cell_type": "code",
   "execution_count": 81,
   "metadata": {},
   "outputs": [
    {
     "data": {
      "text/plain": [
       "{3, 4, 5, 6}"
      ]
     },
     "execution_count": 81,
     "metadata": {},
     "output_type": "execute_result"
    }
   ],
   "source": [
    "set([(len(str(num))) for num in df['Number Of Adult HD Patient-Months With Kt/V Data']])"
   ]
  },
  {
   "cell_type": "markdown",
   "metadata": {},
   "source": [
    "### Number Of Adult PD Patients With Kt/V Data\n",
    "Data type: float64\n",
    "\n",
    "Value count: 7555\n",
    "\n",
    "Number of unique values: 136\n",
    "\n",
    "Percent unique values: 0.000297\n",
    "\n",
    "Ranges of values: 0 -\n",
    "\n",
    "Length of values: 1 - 3, 13\n",
    "\n",
    "Description: Lists the number of adult PD patients included in Kt/V greater than or equal to 1.7 summary. The parameter Kt/V is a measurement of the efficacy of a hemodialysis session. It identifies the effective removal of a specific solute (clearance K) resulting from a given treatment (characterized by time t) in a given patient (with a specific volume of distribution V for the solute considered)."
   ]
  },
  {
   "cell_type": "code",
   "execution_count": 82,
   "metadata": {},
   "outputs": [
    {
     "data": {
      "text/plain": [
       "{3, 4, 5}"
      ]
     },
     "execution_count": 82,
     "metadata": {},
     "output_type": "execute_result"
    }
   ],
   "source": [
    "set([(len(str(num))) for num in df['Number Of Adult PD Patients With Kt/V Data']])"
   ]
  },
  {
   "cell_type": "markdown",
   "metadata": {},
   "source": [
    "### Number Of Adult PD Patient-Months With Kt/V Data\n",
    "Data type: float64\n",
    "\n",
    "Value count: 3358\n",
    "\n",
    "Number of unique values: 610\n",
    "\n",
    "Percent unique values: 0.001333\n",
    "\n",
    "Ranges of values: 0 - \n",
    "\n",
    "Length of values: 1 - 4\n",
    "\n",
    "Description: Lists the number of adult PD patient-months included in Kt/V greater than or equal to 1.7 summary. The parameter Kt/V is a measurement of the efficacy of a hemodialysis session. It identifies the effective removal of a specific solute (clearance K) resulting from a given treatment (characterized by time t) in a given patient (with a specific volume of distribution V for the solute considered). "
   ]
  },
  {
   "cell_type": "code",
   "execution_count": 83,
   "metadata": {},
   "outputs": [
    {
     "data": {
      "text/plain": [
       "{3, 4, 5, 6}"
      ]
     },
     "execution_count": 83,
     "metadata": {},
     "output_type": "execute_result"
    }
   ],
   "source": [
    "set([(len(str(num))) for num in df['Number Of Adult PD Patient-Months With Kt/V Data']])"
   ]
  },
  {
   "cell_type": "markdown",
   "metadata": {},
   "source": [
    "### Number Of Pediatric HD Patients With Kt/V Data\n",
    "Data type: float64\n",
    "\n",
    "Value count: 7555\n",
    "\n",
    "Number of unique values: 19\n",
    "\n",
    "Percent unique values: 0.000042\n",
    "\n",
    "Ranges of values: 0 - \n",
    "\n",
    "Length of values: 1 - 3\n",
    "\n",
    "Description: Lists the number of pediatric HD patients included in Kt/V greater than or equal to 1.2 summary. The parameter Kt/V is a measurement of the efficacy of a hemodialysis session. It identifies the effective removal of a specific solute (clearance K) resulting from a given treatment (characterized by time t) in a given patient (with a specific volume of distribution V for the solute considered)."
   ]
  },
  {
   "cell_type": "code",
   "execution_count": 84,
   "metadata": {},
   "outputs": [
    {
     "data": {
      "text/plain": [
       "{3, 4}"
      ]
     },
     "execution_count": 84,
     "metadata": {},
     "output_type": "execute_result"
    }
   ],
   "source": [
    "set([(len(str(num))) for num in df['Number Of Pediatric HD Patients With Kt/V Data']])"
   ]
  },
  {
   "cell_type": "markdown",
   "metadata": {},
   "source": [
    "### Number Of Pediatric HD Patient-Months With Kt/V Data\n",
    "Data type: float64 \n",
    "\n",
    "Value count: 202\n",
    "\n",
    "Number of unique values: 67\n",
    "\n",
    "Percent unique values: 0.000146\n",
    "\n",
    "Ranges of values: 1 - \n",
    "\n",
    "Length of values: 1 - 3\n",
    "\n",
    "Description: Lists the number of pediatric HD patientmonths included in Kt/V greater than or equal to 1.2 summary. The parameter Kt/V is a measurement of the efficacy of a hemodialysis session. It identifies the effective removal of a specific solute (clearance K) resulting from a given treatment (characterized by time t) in a given patient (with a specific volume of distribution V for the solute considered)."
   ]
  },
  {
   "cell_type": "code",
   "execution_count": 85,
   "metadata": {},
   "outputs": [
    {
     "data": {
      "text/plain": [
       "{3, 4, 5}"
      ]
     },
     "execution_count": 85,
     "metadata": {},
     "output_type": "execute_result"
    }
   ],
   "source": [
    "set([(len(str(num))) for num in df['Number Of Pediatric HD Patient-Months With Kt/V Data']])"
   ]
  },
  {
   "cell_type": "markdown",
   "metadata": {},
   "source": [
    "### Hypercalcemia Data Availability Code\n",
    "Data type: float64\n",
    "\n",
    "Value count: 422\n",
    "\n",
    "Number of unique values: 3\n",
    "\n",
    "Percent unique values: 0.000007\n",
    "\n",
    "Ranges of values: 199, 201, 258\n",
    "\n",
    "Length of values: 3\n",
    "\n",
    "Description: Lists whether the facility had sufficient hypercalcemia data available or the reason for why the data is not available. Hypercalcemia is a condition in which the calcium level in one's blood is above normal. Too much calcium in the blood can weaken bones, create kidney stones, and interfere with how the heart and brain work. Hypercalcemia is usually a result of overactive parathyroid glands.\n",
    "A normal serum calcium level is 8-10 mg/dL (2-2.5 mmol/L) with some interlaboratory variation in the reference range, and hypercalcemia is defined as a serum calcium level greater than 10.5 mg/dL (>2.5 mmol/L).\n",
    "\n",
    "Value description:\n",
    "- 199 : Not enough patients to report on this measure. Call the dialysis center to discuss this measure.\n",
    "- 201 : Data not reported. Call the dialysis center to discuss this quality measure.\n",
    "- 258 : The dialysis center was not open long enough to supply sufficient measure data. "
   ]
  },
  {
   "cell_type": "code",
   "execution_count": 86,
   "metadata": {},
   "outputs": [
    {
     "data": {
      "text/plain": [
       "258.0    203\n",
       "199.0    124\n",
       "201.0     95\n",
       "Name: Hypercalcemia Data Availability Code, dtype: int64"
      ]
     },
     "execution_count": 86,
     "metadata": {},
     "output_type": "execute_result"
    }
   ],
   "source": [
    "df['Hypercalcemia Data Availability Code'].value_counts()"
   ]
  },
  {
   "cell_type": "markdown",
   "metadata": {},
   "source": [
    "### Number Of Patients In Hypercalcemia Summary\n",
    "Data type: float64\n",
    "\n",
    "Value count: 7555\n",
    "\n",
    "Number of unique values: 310\n",
    "\n",
    "Percent unique values: 0.000678\n",
    "\n",
    "Ranges of values: 0 - \n",
    "\n",
    "Length of values: 1 - 3\n",
    "\n",
    "Description: Lists the number of patients included in the facility’s hypercalcemia summary. Hypercalcemia is a condition in which the calcium level in one's blood is above normal. Too much calcium in the blood can weaken bones, create kidney stones, and interfere with how the heart and brain work. Hypercalcemia is usually a result of overactive parathyroid glands.\n",
    "A normal serum calcium level is 8-10 mg/dL (2-2.5 mmol/L) with some interlaboratory variation in the reference range, and hypercalcemia is defined as a serum calcium level greater than 10.5 mg/dL (>2.5 mmol/L)."
   ]
  },
  {
   "cell_type": "code",
   "execution_count": 87,
   "metadata": {},
   "outputs": [
    {
     "data": {
      "text/plain": [
       "{3, 4, 5}"
      ]
     },
     "execution_count": 87,
     "metadata": {},
     "output_type": "execute_result"
    }
   ],
   "source": [
    "set([(len(str(num))) for num in df['Number Of Patients In Hypercalcemia Summary']])"
   ]
  },
  {
   "cell_type": "markdown",
   "metadata": {},
   "source": [
    "### Number Of Patient-Months In Hypercalcemia Summary\n",
    "Data type: float64\n",
    "\n",
    "Value count: 7463\n",
    "\n",
    "Number of unique values: 1865\n",
    "\n",
    "Percent unique values: 0.004076\n",
    "\n",
    "Ranges of values: 0 - \n",
    "\n",
    "Length of values: 1 - 4\n",
    "\n",
    "Description: Lists the number of patient-months included in the facility’s hypercalcemia summary. Hypercalcemia is a condition in which the calcium level in one's blood is above normal. Too much calcium in the blood can weaken bones, create kidney stones, and interfere with how the heart and brain work. Hypercalcemia is usually a result of overactive parathyroid glands.\n",
    "A normal serum calcium level is 8-10 mg/dL (2-2.5 mmol/L) with some interlaboratory variation in the reference range, and hypercalcemia is defined as a serum calcium level greater than 10.5 mg/dL (>2.5 mmol/L)."
   ]
  },
  {
   "cell_type": "code",
   "execution_count": 88,
   "metadata": {},
   "outputs": [
    {
     "data": {
      "text/plain": [
       "{3, 4, 5, 6}"
      ]
     },
     "execution_count": 88,
     "metadata": {},
     "output_type": "execute_result"
    }
   ],
   "source": [
    "set([(len(str(num))) for num in df['Number Of Patient-Months In Hypercalcemia Summary']])"
   ]
  },
  {
   "cell_type": "markdown",
   "metadata": {},
   "source": [
    "### Percentage Of Adult Patients With Hypercalcemia (Serum Calcium Greater Than 10.2 mg/dL)\n",
    "Data type: float64\n",
    "\n",
    "Value count: 7204\n",
    "\n",
    "Number of unique values: 48\n",
    "\n",
    "Percent unique values: 0.000105\n",
    "\n",
    "Ranges of values: 0 - \n",
    "\n",
    "Length of values: 1 - 3\n",
    "\n",
    "Description: Lists the percentage of Adult patients with Hypercalcemia (serum calcium greater than 10.2 mg/dL). Serum phosphorus is measured in milligrams of phosphorus per deciliter of blood (mg/dL). According to Mayo Medical Laboratories, a normal range for adults is generally 2.5 to 4.5 mg/dL. The normal range varies slightly depending on your age.\n",
    "Most commonly, a high level of phosphorus is related to a kidney disorder. It shows that your kidneys are having difficulty clearing phosphorus from your blood. A high level of phosphorus can also mean uncontrolled diabetes and other endocrine disorders. "
   ]
  },
  {
   "cell_type": "code",
   "execution_count": 89,
   "metadata": {},
   "outputs": [
    {
     "data": {
      "text/plain": [
       "{3, 4}"
      ]
     },
     "execution_count": 89,
     "metadata": {},
     "output_type": "execute_result"
    }
   ],
   "source": [
    "set([(len(str(num))) for num in df['Percentage Of Adult Patients With Hypercalcemia (Serum Calcium Greater Than 10.2 mg/dL)']])"
   ]
  },
  {
   "cell_type": "markdown",
   "metadata": {},
   "source": [
    "### Number Of Patients In Serum Phosphorus Summary\n",
    "Data type: float64\n",
    "\n",
    "Value count: 7555\n",
    "\n",
    "Number of unique values: 323\n",
    "\n",
    "Percent unique values: 0.000706\n",
    "\n",
    "Ranges of values: 0 - \n",
    "\n",
    "Length of values: 1 - 3\n",
    "\n",
    "Description: Lists the number of patients included in the facility’s serum phosphorus summary.\n",
    "Serum phosphorus is measured in milligrams of phosphorus per deciliter of blood (mg/dL). According to Mayo Medical Laboratories, a normal range for adults is generally 2.5 to 4.5 mg/dL. The normal range varies slightly depending on your age.\n",
    "Most commonly, a high level of phosphorus is related to a kidney disorder. It shows that your kidneys are having difficulty clearing phosphorus from your blood. A high level of phosphorus can also mean uncontrolled diabetes and other endocrine disorders."
   ]
  },
  {
   "cell_type": "code",
   "execution_count": 90,
   "metadata": {},
   "outputs": [
    {
     "data": {
      "text/plain": [
       "{3, 4, 5}"
      ]
     },
     "execution_count": 90,
     "metadata": {},
     "output_type": "execute_result"
    }
   ],
   "source": [
    "set([(len(str(num))) for num in df['Number Of Patients In Serum Phosphorus Summary']])"
   ]
  },
  {
   "cell_type": "markdown",
   "metadata": {},
   "source": [
    "### Number Of Patient-Months In Serum Phosphorus Summary\n",
    "Data type: float64\n",
    "\n",
    "Value count: 7463\n",
    "\n",
    "Number of unique values: 1903\n",
    "\n",
    "Percent unique values: 0.004159\n",
    "\n",
    "Ranges of values: 0 - \n",
    "\n",
    "Length of values: 1 - 4\n",
    "\n",
    "Description: Lists the number of patient-months included in the facility’s serum phosphorus summary.\n",
    "Serum phosphorus is measured in milligrams of phosphorus per deciliter of blood (mg/dL). According to Mayo Medical Laboratories, a normal range for adults is generally 2.5 to 4.5 mg/dL. The normal range varies slightly depending on your age.\n",
    "Most commonly, a high level of phosphorus is related to a kidney disorder. It shows that your kidneys are having difficulty clearing phosphorus from your blood. A high level of phosphorus can also mean uncontrolled diabetes and other endocrine disorders."
   ]
  },
  {
   "cell_type": "code",
   "execution_count": 91,
   "metadata": {},
   "outputs": [
    {
     "data": {
      "text/plain": [
       "{3, 4, 5, 6}"
      ]
     },
     "execution_count": 91,
     "metadata": {},
     "output_type": "execute_result"
    }
   ],
   "source": [
    "set([(len(str(num))) for num in df['Number Of Patient-Months In Serum Phosphorus Summary']])"
   ]
  },
  {
   "cell_type": "markdown",
   "metadata": {},
   "source": [
    "### Serum Phosphorus Data Availability Code \n",
    "Data type: float64\n",
    "\n",
    "Value count: 411\n",
    "\n",
    "Number of unique values: 3\n",
    "\n",
    "Percent unique values: 0.000007\n",
    "\n",
    "Ranges of values: 199, 201, 258\n",
    "\n",
    "Length of values: 3\n",
    "\n",
    "Description: Lists whether the facility had sufficient serum phosphorus data available or the reason for why the data is not available.\n",
    "Serum phosphorus is measured in milligrams of phosphorus per deciliter of blood (mg/dL). According to Mayo Medical Laboratories, a normal range for adults is generally 2.5 to 4.5 mg/dL. The normal range varies slightly depending on your age.\n",
    "Most commonly, a high level of phosphorus is related to a kidney disorder. It shows that your kidneys are having difficulty clearing phosphorus from your blood. A high level of phosphorus can also mean uncontrolled diabetes and other endocrine disorders.\n",
    "\n",
    "Value description:\n",
    "- 199 : Not enough patients to report on this measure. Call the dialysis center to discuss this measure.\n",
    "- 201 : Data not reported. Call the dialysis center to discuss this quality measure.\n",
    "- 258 : The dialysis center was not open long enough to supply sufficient measure data. "
   ]
  },
  {
   "cell_type": "code",
   "execution_count": 92,
   "metadata": {},
   "outputs": [
    {
     "data": {
      "text/plain": [
       "258.0    184\n",
       "199.0    119\n",
       "201.0    108\n",
       "Name: Serum Phosphorus Data Availability Code, dtype: int64"
      ]
     },
     "execution_count": 92,
     "metadata": {},
     "output_type": "execute_result"
    }
   ],
   "source": [
    "df['Serum Phosphorus Data Availability Code'].value_counts()"
   ]
  },
  {
   "cell_type": "markdown",
   "metadata": {},
   "source": [
    "### Percentage Of Adult Patients With Serum Phosphorus Less Than 3.5 mg/dL\n",
    "Data type: float64\n",
    "\n",
    "Value count: 7215\n",
    "\n",
    "Number of unique values: 35\n",
    "\n",
    "Percent unique values:  0.000076\n",
    "\n",
    "Ranges of values: 0 - \n",
    "\n",
    "Length of values: 1 - 3\n",
    "\n",
    "Description: Lists the percentage of Adult patients with serum phosphorus less than 3.5 mg/dL.\n",
    "Serum phosphorus is measured in milligrams of phosphorus per deciliter of blood (mg/dL). According to Mayo Medical Laboratories, a normal range for adults is generally 2.5 to 4.5 mg/dL. The normal range varies slightly depending on your age.\n",
    "Most commonly, a high level of phosphorus is related to a kidney disorder. It shows that your kidneys are having difficulty clearing phosphorus from your blood. A high level of phosphorus can also mean uncontrolled diabetes and other endocrine disorders."
   ]
  },
  {
   "cell_type": "code",
   "execution_count": 93,
   "metadata": {},
   "outputs": [
    {
     "data": {
      "text/plain": [
       "{3, 4}"
      ]
     },
     "execution_count": 93,
     "metadata": {},
     "output_type": "execute_result"
    }
   ],
   "source": [
    "set([(len(str(num))) for num in df['Percentage Of Adult Patients With Serum Phosphorus Less Than 3.5 mg/dL']])"
   ]
  },
  {
   "cell_type": "markdown",
   "metadata": {},
   "source": [
    "### Percentage Of Adult Patients With Serum Phosphorus Between 3.5 - 4.5 mg/dL\n",
    "Data type: float64\n",
    "\n",
    "Value count: 7215\n",
    "\n",
    "Number of unique values: 46\n",
    "\n",
    "Percent unique values: 0.000101\n",
    "\n",
    "Ranges of values: 10 - \n",
    "\n",
    "Length of values: 1 - 3\n",
    "\n",
    "Description: Lists the percentage of Adult patients with serum phosphorus between 3.5-4.5 mg/dL.\n",
    "Serum phosphorus is measured in milligrams of phosphorus per deciliter of blood (mg/dL). According to Mayo Medical Laboratories, a normal range for adults is generally 2.5 to 4.5 mg/dL. The normal range varies slightly depending on your age.\n",
    "Most commonly, a high level of phosphorus is related to a kidney disorder. It shows that your kidneys are having difficulty clearing phosphorus from your blood. A high level of phosphorus can also mean uncontrolled diabetes and other endocrine disorders."
   ]
  },
  {
   "cell_type": "code",
   "execution_count": 94,
   "metadata": {},
   "outputs": [
    {
     "data": {
      "text/plain": [
       "{3, 4}"
      ]
     },
     "execution_count": 94,
     "metadata": {},
     "output_type": "execute_result"
    }
   ],
   "source": [
    "set([(len(str(num))) for num in df['Percentage Of Adult Patients With Serum Phosphorus Between 3.5 - 4.5 mg/dL']])"
   ]
  },
  {
   "cell_type": "markdown",
   "metadata": {},
   "source": [
    "### Percentage Of Adult Patients With Serum Phosphorus Between 4.6 - 5.5 mg/dL\n",
    "Data type: float64\n",
    "\n",
    "Value count: 7215\n",
    "\n",
    "Number of unique values: 44\n",
    "\n",
    "Percent unique values: 0.000096\n",
    "\n",
    "Ranges of values: 12 - \n",
    "\n",
    "Length of values: 1 - 3\n",
    "\n",
    "Description: Lists the percentage of Adult patients with serum phosphorus between 4.6-5.5 mg/dL.\n",
    "Serum phosphorus is measured in milligrams of phosphorus per deciliter of blood (mg/dL). According to Mayo Medical Laboratories, a normal range for adults is generally 2.5 to 4.5 mg/dL. The normal range varies slightly depending on your age.\n",
    "Most commonly, a high level of phosphorus is related to a kidney disorder. It shows that your kidneys are having difficulty clearing phosphorus from your blood. A high level of phosphorus can also mean uncontrolled diabetes and other endocrine disorders."
   ]
  },
  {
   "cell_type": "code",
   "execution_count": 95,
   "metadata": {},
   "outputs": [
    {
     "data": {
      "text/plain": [
       "{3, 4}"
      ]
     },
     "execution_count": 95,
     "metadata": {},
     "output_type": "execute_result"
    }
   ],
   "source": [
    "set([(len(str(num))) for num in df['Percentage Of Adult Patients With Serum Phosphorus Between 4.6 - 5.5 mg/dL']])"
   ]
  },
  {
   "cell_type": "markdown",
   "metadata": {},
   "source": [
    "### Percentage Of Adult Patients With Serum Phosphorus Between 5.6 - 7.0 mg/dL\n",
    "Data type: float64\n",
    "\n",
    "Value count: 7215\n",
    "\n",
    "Number of unique values: 44\n",
    "\n",
    "Percent unique values: 0.000096\n",
    "\n",
    "Ranges of values: 10 - \n",
    "\n",
    "Length of values: 1 - 3\n",
    "\n",
    "Description: Lists the percentage of Adult patients with serum phosphorus between 5.6-7.0 mg/dL.\n",
    "Serum phosphorus is measured in milligrams of phosphorus per deciliter of blood (mg/dL). According to Mayo Medical Laboratories, a normal range for adults is generally 2.5 to 4.5 mg/dL. The normal range varies slightly depending on your age.\n",
    "Most commonly, a high level of phosphorus is related to a kidney disorder. It shows that your kidneys are having difficulty clearing phosphorus from your blood. A high level of phosphorus can also mean uncontrolled diabetes and other endocrine disorders."
   ]
  },
  {
   "cell_type": "code",
   "execution_count": 96,
   "metadata": {},
   "outputs": [
    {
     "data": {
      "text/plain": [
       "{3, 4}"
      ]
     },
     "execution_count": 96,
     "metadata": {},
     "output_type": "execute_result"
    }
   ],
   "source": [
    "set([(len(str(num))) for num in df['Percentage Of Adult Patients With Serum Phosphorus Between 5.6 - 7.0 mg/dL']])"
   ]
  },
  {
   "cell_type": "markdown",
   "metadata": {},
   "source": [
    "### Percentage Of Adult Patients With Serum Phosphorus Greater Than 7.0 mg/dL\n",
    "Data type: float64\n",
    "\n",
    "Value count: 7215\n",
    "\n",
    "Number of unique values: 40\n",
    "\n",
    "Percent unique values: 0.000087\n",
    "\n",
    "Ranges of values: 0 - \n",
    "\n",
    "Length of values: 1 - 3\n",
    "\n",
    "Description: Lists the percentage of Adult patients with serum phosphorus greater than 7.0 mg/dL.\n",
    "Serum phosphorus is measured in milligrams of phosphorus per deciliter of blood (mg/dL). According to Mayo Medical Laboratories, a normal range for adults is generally 2.5 to 4.5 mg/dL. The normal range varies slightly depending on your age.\n",
    "Most commonly, a high level of phosphorus is related to a kidney disorder. It shows that your kidneys are having difficulty clearing phosphorus from your blood. A high level of phosphorus can also mean uncontrolled diabetes and other endocrine disorders."
   ]
  },
  {
   "cell_type": "code",
   "execution_count": 97,
   "metadata": {},
   "outputs": [
    {
     "data": {
      "text/plain": [
       "{3, 4}"
      ]
     },
     "execution_count": 97,
     "metadata": {},
     "output_type": "execute_result"
    }
   ],
   "source": [
    "set([(len(str(num))) for num in df['Percentage Of Adult Patients With Serum Phosphorus Greater Than 7.0 mg/dL']])"
   ]
  },
  {
   "cell_type": "markdown",
   "metadata": {},
   "source": [
    "### SHR Date\n",
    "Data type: object\n",
    "\n",
    "Value count: 7626\n",
    "\n",
    "Number of unique values: 1\n",
    "\n",
    "Percent unique values: 0.000002\n",
    "\n",
    "Ranges of values: \"01/01/2018 - 12/31/2018\"\n",
    "\n",
    "Length of values: 23\n",
    "\n",
    "Description: Lists the time period for patient hospitalization summary."
   ]
  },
  {
   "cell_type": "code",
   "execution_count": 98,
   "metadata": {},
   "outputs": [
    {
     "data": {
      "text/plain": [
       "01/01/2018 - 12/31/2018    7626\n",
       "Name: SHR Date, dtype: int64"
      ]
     },
     "execution_count": 98,
     "metadata": {},
     "output_type": "execute_result"
    }
   ],
   "source": [
    "df['SHR Date'].value_counts()"
   ]
  },
  {
   "cell_type": "code",
   "execution_count": 99,
   "metadata": {},
   "outputs": [
    {
     "data": {
      "text/plain": [
       "{23}"
      ]
     },
     "execution_count": 99,
     "metadata": {},
     "output_type": "execute_result"
    }
   ],
   "source": [
    "set([(len(str(num))) for num in df['SHR Date']])"
   ]
  },
  {
   "cell_type": "markdown",
   "metadata": {},
   "source": [
    "### SRR Date\n",
    "Data type: object\n",
    "\n",
    "Value count: 7626\n",
    "\n",
    "Number of unique values: 1\n",
    "\n",
    "Percent unique values: 0.000002\n",
    "\n",
    "Ranges of values: \"01/01/2018 - 12/31/2018\"\n",
    "\n",
    "Length of values: 23\n",
    "\n",
    "Description: Lists the time period for patient readmission summary."
   ]
  },
  {
   "cell_type": "code",
   "execution_count": 100,
   "metadata": {},
   "outputs": [
    {
     "data": {
      "text/plain": [
       "01/01/2018 - 12/31/2018    7626\n",
       "Name: SRR Date, dtype: int64"
      ]
     },
     "execution_count": 100,
     "metadata": {},
     "output_type": "execute_result"
    }
   ],
   "source": [
    "df['SRR Date'].value_counts()"
   ]
  },
  {
   "cell_type": "code",
   "execution_count": 101,
   "metadata": {},
   "outputs": [
    {
     "data": {
      "text/plain": [
       "{23}"
      ]
     },
     "execution_count": 101,
     "metadata": {},
     "output_type": "execute_result"
    }
   ],
   "source": [
    "set([(len(str(num))) for num in df['SRR Date']])"
   ]
  },
  {
   "cell_type": "markdown",
   "metadata": {},
   "source": [
    "### SMR Date\n",
    "Data type: object\n",
    "\n",
    "Value count: 7626\n",
    "\n",
    "Number of unique values: 1\n",
    "\n",
    "Percent unique values: 0.000002\n",
    "\n",
    "Ranges of values: \"01/01/2015 - 12/31/2018\"\n",
    "\n",
    "Length of values: 23\n",
    "\n",
    "Description: Lists the data collection period for patient survival summary."
   ]
  },
  {
   "cell_type": "code",
   "execution_count": 102,
   "metadata": {},
   "outputs": [
    {
     "data": {
      "text/plain": [
       "01/01/2015 - 12/31/2018    7626\n",
       "Name: SMR Date, dtype: int64"
      ]
     },
     "execution_count": 102,
     "metadata": {},
     "output_type": "execute_result"
    }
   ],
   "source": [
    "df['SMR Date'].value_counts()"
   ]
  },
  {
   "cell_type": "code",
   "execution_count": 103,
   "metadata": {},
   "outputs": [
    {
     "data": {
      "text/plain": [
       "{23}"
      ]
     },
     "execution_count": 103,
     "metadata": {},
     "output_type": "execute_result"
    }
   ],
   "source": [
    "set([(len(str(num))) for num in df['SRR Date']])"
   ]
  },
  {
   "cell_type": "markdown",
   "metadata": {},
   "source": [
    "### Patient Hospitalization Category Text\n",
    "Data type: object\n",
    "\n",
    "Value count: 6857\n",
    "\n",
    "Number of unique values: 3\n",
    "\n",
    "Percent unique values: 0.000007\n",
    "\n",
    "Ranges of values: As Expected, Not Available, Worse than Expected, Better than Expected\n",
    "\n",
    "Length of values: 3, 11, 19, 20\n",
    "\n",
    "Description: Patient hospitalization category."
   ]
  },
  {
   "cell_type": "code",
   "execution_count": 104,
   "metadata": {},
   "outputs": [
    {
     "data": {
      "text/plain": [
       "As Expected             6520\n",
       "Worse than Expected      257\n",
       "Better than Expected      80\n",
       "Name: Patient Hospitalization Category Text, dtype: int64"
      ]
     },
     "execution_count": 104,
     "metadata": {},
     "output_type": "execute_result"
    }
   ],
   "source": [
    "df['Patient Hospitalization Category Text'].value_counts()"
   ]
  },
  {
   "cell_type": "code",
   "execution_count": 105,
   "metadata": {},
   "outputs": [
    {
     "data": {
      "text/plain": [
       "{3, 11, 19, 20}"
      ]
     },
     "execution_count": 105,
     "metadata": {},
     "output_type": "execute_result"
    }
   ],
   "source": [
    "set([(len(str(num))) for num in df['Patient Hospitalization Category Text']])"
   ]
  },
  {
   "cell_type": "markdown",
   "metadata": {},
   "source": [
    "### Patient Hospitalization Data Availability Code\n",
    "Data type: float64\n",
    "\n",
    "Value count: 769\n",
    "\n",
    "Number of unique values: 4\n",
    "\n",
    "Percent unique values: 0.000009 \n",
    "\n",
    "Ranges of values: 199, 201, 255, 258\n",
    "\n",
    "Length of values: 3\n",
    "\n",
    "Description: Lists whether the facility had sufficient hospitalization data available or the reason for why the data is not available.\n",
    "\n",
    "Value description:\n",
    "- 199 : Not enough patients to report on this measure. Call the dialysis center to discuss this measure.\n",
    "- 201 : Data not reported. Call the dialysis center to discuss this quality measure.\n",
    "- 255 : Medicare determined that the percentage reported was not accurate.\n",
    "- 258 : The dialysis center was not open long enough to supply sufficient measure data. "
   ]
  },
  {
   "cell_type": "code",
   "execution_count": 106,
   "metadata": {},
   "outputs": [
    {
     "data": {
      "text/plain": [
       "258.0    607\n",
       "199.0    150\n",
       "201.0      9\n",
       "255.0      3\n",
       "Name: Patient Hospitalization Data Availability Code, dtype: int64"
      ]
     },
     "execution_count": 106,
     "metadata": {},
     "output_type": "execute_result"
    }
   ],
   "source": [
    "df['Patient Hospitalization Data Availability Code'].value_counts()"
   ]
  },
  {
   "cell_type": "markdown",
   "metadata": {},
   "source": [
    "### Patient Hospital Readmission Category\n",
    "Data type: object\n",
    "\n",
    "Value count: 6806\n",
    "\n",
    "Number of unique values: 3\n",
    "\n",
    "Percent unique values: 0.000007\n",
    "\n",
    "Ranges of values: As Expected, Not Available, Worse than Expected, Better than Expected\n",
    "\n",
    "Length of values: 3, 11, 19, 20\n",
    "\n",
    "Description: Patient readmission category.\n",
    "\n",
    "Value description:\n",
    "- As Expected          : Patient hospital readmission categorized as “As Expected”       \n",
    "- Worse than Expected  :  Patient hospital readmission categorized as “Worse than Expected”\n",
    "- Better than Expected : Patient hospital readmission categorized as “Better than Expected\""
   ]
  },
  {
   "cell_type": "code",
   "execution_count": 107,
   "metadata": {},
   "outputs": [
    {
     "data": {
      "text/plain": [
       "As Expected             6485\n",
       "Worse than Expected      209\n",
       "Better than Expected     112\n",
       "Name: Patient Hospital Readmission Category Text, dtype: int64"
      ]
     },
     "execution_count": 107,
     "metadata": {},
     "output_type": "execute_result"
    }
   ],
   "source": [
    "df['Patient Hospital Readmission Category Text'].value_counts()"
   ]
  },
  {
   "cell_type": "code",
   "execution_count": 108,
   "metadata": {},
   "outputs": [
    {
     "data": {
      "text/plain": [
       "{3, 11, 19, 20}"
      ]
     },
     "execution_count": 108,
     "metadata": {},
     "output_type": "execute_result"
    }
   ],
   "source": [
    "set([(len(str(num))) for num in df['Patient Hospital Readmission Category Text']])"
   ]
  },
  {
   "cell_type": "markdown",
   "metadata": {},
   "source": [
    "### Patient Hospital Readmission Data Availability Code\n",
    "Data type: float64\n",
    "\n",
    "Value count: 820\n",
    "\n",
    "Number of unique values: 3\n",
    "\n",
    "Percent unique values: 0.000007\n",
    "\n",
    "Ranges of values: 199, 255, 258\n",
    "\n",
    "Length of values: 3\n",
    "\n",
    "Description: Lists whether the facility had sufficient readmission data available or the reason for why the data is not available.\n",
    "\n",
    "Value description:\n",
    "- 199 : Not enough patients to report on this measure. Call the dialysis center to discuss this measure.\n",
    "- 255 : Medicare determined that the percentage reported was not accurate.\n",
    "- 258 : The dialysis center was not open long enough to supply sufficient measure data. "
   ]
  },
  {
   "cell_type": "code",
   "execution_count": 109,
   "metadata": {},
   "outputs": [
    {
     "data": {
      "text/plain": [
       "258.0    568\n",
       "199.0    250\n",
       "255.0      2\n",
       "Name: Patient Hospital Readmission Data Availability Code, dtype: int64"
      ]
     },
     "execution_count": 109,
     "metadata": {},
     "output_type": "execute_result"
    }
   ],
   "source": [
    "df['Patient Hospital Readmission Data Availability Code'].value_counts()"
   ]
  },
  {
   "cell_type": "markdown",
   "metadata": {},
   "source": [
    "### Patient Survival Category Text\n",
    "Data type: object\n",
    "\n",
    "Value count: 6701\n",
    "\n",
    "Number of unique values: 3\n",
    "\n",
    "Percent unique values: 0.000007\n",
    "\n",
    "Ranges of values: As Expected, Worse than Expected, Better than Expected\n",
    "\n",
    "Length of values: 3, 11, 19, 20\n",
    "\n",
    "Description: Patient survival category (Better, Worse or As Expected).\n",
    "\n",
    "Value description:\n",
    "- As Expected          : Patient transfusions categorized as “As Expected”       \n",
    "- Worse than Expected  :  Patient transfusions categorized as “Worse than Expected”\n",
    "- Better than Expected : Patient transfusions categorized as “Better than Expected\""
   ]
  },
  {
   "cell_type": "code",
   "execution_count": 110,
   "metadata": {},
   "outputs": [
    {
     "data": {
      "text/plain": [
       "As Expected             5673\n",
       "Better than Expected     525\n",
       "Worse than Expected      503\n",
       "Name: Patient Survival Category Text, dtype: int64"
      ]
     },
     "execution_count": 110,
     "metadata": {},
     "output_type": "execute_result"
    }
   ],
   "source": [
    "df['Patient Survival Category Text'].value_counts()"
   ]
  },
  {
   "cell_type": "code",
   "execution_count": 111,
   "metadata": {},
   "outputs": [
    {
     "data": {
      "text/plain": [
       "{3, 11, 19, 20}"
      ]
     },
     "execution_count": 111,
     "metadata": {},
     "output_type": "execute_result"
    }
   ],
   "source": [
    "set([(len(str(num))) for num in df['Patient Hospital Readmission Category Text']])"
   ]
  },
  {
   "cell_type": "markdown",
   "metadata": {},
   "source": [
    "### Patient Survival Data Availability Code\n",
    "Data type: float64\n",
    "\n",
    "Value count: 925\n",
    "\n",
    "Number of unique values: 4\n",
    "\n",
    "Percent unique values: 0.000009\n",
    "\n",
    "Ranges of values: 199, 201, 255, 258\n",
    "\n",
    "Length of values: 3 \n",
    "\n",
    "Description: Lists whether the facility had sufficient patient survival data available or the reason for why the data is not available.\n",
    "\n",
    "Value description:\n",
    "- 199 : Not enough patients to report on this measure. Call the dialysis center to discuss this measure.\n",
    "- 201 : Data not reported. Call the dialysis center to discuss this quality measure.\n",
    "- 255 : Medicare determined that the percentage reported was not accurate.\n",
    "- 258 : The dialysis center was not open long enough to supply sufficient measure data. "
   ]
  },
  {
   "cell_type": "code",
   "execution_count": 112,
   "metadata": {},
   "outputs": [
    {
     "data": {
      "text/plain": [
       "258.0    672\n",
       "199.0    244\n",
       "201.0      6\n",
       "255.0      3\n",
       "Name: Patient Survival Data Availability Code, dtype: int64"
      ]
     },
     "execution_count": 112,
     "metadata": {},
     "output_type": "execute_result"
    }
   ],
   "source": [
    "df['Patient Survival Data Availability Code'].value_counts()"
   ]
  },
  {
   "cell_type": "markdown",
   "metadata": {},
   "source": [
    "### Number Of Patients Included In Hospitalization Summary\n",
    "Data type: float64\n",
    "\n",
    "Value count: 7552\n",
    "\n",
    "Number of unique values: 249\n",
    "\n",
    "Percent unique values: 0.000553\n",
    "\n",
    "Ranges of values: 0 - \n",
    "\n",
    "Length of values: 1 - 3\n",
    "\n",
    "Description: Lists the number of patients included in the facility’s hospitalization summary."
   ]
  },
  {
   "cell_type": "code",
   "execution_count": 113,
   "metadata": {},
   "outputs": [
    {
     "data": {
      "text/plain": [
       "{3, 4, 5}"
      ]
     },
     "execution_count": 113,
     "metadata": {},
     "output_type": "execute_result"
    }
   ],
   "source": [
    "set([(len(str(num))) for num in df['Number Of Patients Included In Hospitalization Summary']])"
   ]
  },
  {
   "cell_type": "markdown",
   "metadata": {},
   "source": [
    "### Number Of Hospitalizations Included In Hospital Readmission Summary\n",
    "Data type: float64\n",
    "\n",
    "Value count: 7553\n",
    "\n",
    "Number of unique values: 295\n",
    "\n",
    "Percent unique values: 0.000656\n",
    "\n",
    "Ranges of values: 0 - \n",
    "\n",
    "Length of values: 1 - 3\n",
    "\n",
    "Description: Lists the number of index discharges included in the facility’s readmission summary."
   ]
  },
  {
   "cell_type": "code",
   "execution_count": 114,
   "metadata": {},
   "outputs": [
    {
     "data": {
      "text/plain": [
       "{3, 4, 5}"
      ]
     },
     "execution_count": 114,
     "metadata": {},
     "output_type": "execute_result"
    }
   ],
   "source": [
    "set([(len(str(num))) for num in df['Number Of Hospitalizations Included In Hospital Readmission Summary']])"
   ]
  },
  {
   "cell_type": "markdown",
   "metadata": {},
   "source": [
    "### Number Of Patients Included In Survival Summary\n",
    "Data type: float64\n",
    "\n",
    "Value count: 7552\n",
    "\n",
    "Number of unique values: 807\n",
    "\n",
    "Percent unique values: 0.001794\n",
    "\n",
    "Ranges of values: 0 - \n",
    "\n",
    "Length of values: 1 - 4\n",
    "\n",
    "Description: Lists the number of patients included in the facility’s survival summary."
   ]
  },
  {
   "cell_type": "code",
   "execution_count": 115,
   "metadata": {},
   "outputs": [
    {
     "data": {
      "text/plain": [
       "{3, 4, 5, 6}"
      ]
     },
     "execution_count": 115,
     "metadata": {},
     "output_type": "execute_result"
    }
   ],
   "source": [
    "set([(len(str(num))) for num in df['Number Of Patients Included In Survival Summary']])"
   ]
  },
  {
   "cell_type": "markdown",
   "metadata": {},
   "source": [
    "### Mortality Rate (Facility)\n",
    "Data type: float64\n",
    "\n",
    "Value count: 6701\n",
    "\n",
    "Number of unique values: 390\n",
    "\n",
    "Percent unique values: 0.000867\n",
    "\n",
    "Ranges of values: 0 - \n",
    "\n",
    "Length of values: 1 - 4\n",
    "\n",
    "Description: Lists the facility’s mortality rate per 100 patient-years."
   ]
  },
  {
   "cell_type": "code",
   "execution_count": 116,
   "metadata": {},
   "outputs": [
    {
     "data": {
      "text/plain": [
       "{3, 4}"
      ]
     },
     "execution_count": 116,
     "metadata": {},
     "output_type": "execute_result"
    }
   ],
   "source": [
    "set([(len(str(num))) for num in df['Mortality Rate (Facility)']])"
   ]
  },
  {
   "cell_type": "markdown",
   "metadata": {},
   "source": [
    "### Mortality Rate: Upper Confidence Limit (97.5%)\n",
    "Data type: float64\n",
    "\n",
    "Value count: 6701\n",
    "\n",
    "Number of unique values: 545\n",
    "\n",
    "Percent unique values: 0.001211\n",
    "\n",
    "Ranges of values: 10.3 -\n",
    "\n",
    "Length of values: 2 - 5\n",
    "\n",
    "Description: Lists the upper confident limit (97.5%) for mortality rate per 100 patient-years."
   ]
  },
  {
   "cell_type": "code",
   "execution_count": 117,
   "metadata": {},
   "outputs": [
    {
     "data": {
      "text/plain": [
       "{3, 4, 5}"
      ]
     },
     "execution_count": 117,
     "metadata": {},
     "output_type": "execute_result"
    }
   ],
   "source": [
    "set([(len(str(num))) for num in df['Mortality Rate: Upper Confidence Limit (97.5%)']])"
   ]
  },
  {
   "cell_type": "markdown",
   "metadata": {},
   "source": [
    "### Mortality Rate: Lower Confidence Limit (2.5%)\n",
    "Data type: float64\n",
    "\n",
    "Value count: 6701\n",
    "\n",
    "Number of unique values: 323\n",
    "\n",
    "Percent unique values: 0.000718\n",
    "\n",
    "Ranges of values: 0.1 - \n",
    "\n",
    "Length of values: 1 - 4\n",
    "\n",
    "Description: Lists the lower confident limit (2.5%) for mortality rate per 100 patient-years."
   ]
  },
  {
   "cell_type": "code",
   "execution_count": 118,
   "metadata": {},
   "outputs": [
    {
     "data": {
      "text/plain": [
       "{3, 4}"
      ]
     },
     "execution_count": 118,
     "metadata": {},
     "output_type": "execute_result"
    }
   ],
   "source": [
    "set([(len(str(num))) for num in df['Mortality Rate: Lower Confidence Limit (2.5%)']])"
   ]
  },
  {
   "cell_type": "markdown",
   "metadata": {},
   "source": [
    "### Readmission Rate (Facility)\n",
    "Data type: float64\n",
    "\n",
    "Value count: 6806\n",
    "\n",
    "Number of unique values: 463\n",
    "\n",
    "Percent unique values: 0.001029\n",
    "\n",
    "Ranges of values: 0 - \n",
    "\n",
    "Length of values: 1 - 4\n",
    "\n",
    "Description: Lists the facility’s readmission rate as a percentage of hospital discharges."
   ]
  },
  {
   "cell_type": "code",
   "execution_count": 119,
   "metadata": {},
   "outputs": [
    {
     "data": {
      "text/plain": [
       "{3, 4}"
      ]
     },
     "execution_count": 119,
     "metadata": {},
     "output_type": "execute_result"
    }
   ],
   "source": [
    "set([(len(str(num))) for num in df['Readmission Rate (Facility)']])"
   ]
  },
  {
   "cell_type": "markdown",
   "metadata": {},
   "source": [
    "### Readmission Rate: Upper Confidence Limit (97.5%)\n",
    "Data type: float64\n",
    "\n",
    "Value count: 6806\n",
    "\n",
    "Number of unique values: 543\n",
    "\n",
    "Percent unique values: 0.001207\n",
    "\n",
    "Ranges of values: 104.2\n",
    "\n",
    "Length of values: 2 - 5\n",
    "\n",
    "Description: Lists the upper confident limit (97.5%) for readmission rate as a percentage of hospital discharges."
   ]
  },
  {
   "cell_type": "code",
   "execution_count": 120,
   "metadata": {},
   "outputs": [
    {
     "data": {
      "text/plain": [
       "{3, 4, 5}"
      ]
     },
     "execution_count": 120,
     "metadata": {},
     "output_type": "execute_result"
    }
   ],
   "source": [
    "set([(len(str(num))) for num in df['Readmission Rate: Upper Confidence Limit (97.5%)']])"
   ]
  },
  {
   "cell_type": "markdown",
   "metadata": {},
   "source": [
    "### Readmission Rate: Lower Confidence Limit (2.5%)\n",
    "Data type: float64\n",
    "\n",
    "Value count: 6806\n",
    "\n",
    "Number of unique values: 338\n",
    "\n",
    "Percent unique values: 0.000751\n",
    "\n",
    "Ranges of values: 0.1 - \n",
    "\n",
    "Length of values: 1 - 4\n",
    "\n",
    "Description: Lists the lower confident limit (2.5%) for readmission rate as a percentage of hospital discharges."
   ]
  },
  {
   "cell_type": "code",
   "execution_count": 121,
   "metadata": {},
   "outputs": [
    {
     "data": {
      "text/plain": [
       "{3, 4}"
      ]
     },
     "execution_count": 121,
     "metadata": {},
     "output_type": "execute_result"
    }
   ],
   "source": [
    "set([(len(str(num))) for num in df['Readmission Rate: Lower Confidence Limit (2.5%)']])"
   ]
  },
  {
   "cell_type": "markdown",
   "metadata": {},
   "source": [
    "### Hospitalization Rate (Facility)\n",
    "Data type: float64\n",
    "\n",
    "Value count: 6857\n",
    "\n",
    "Number of unique values: 2004\n",
    "\n",
    "Percent unique values: 0.004454\n",
    "\n",
    "Ranges of values: 0 - \n",
    "\n",
    "Length of values: 1 - 5\n",
    "\n",
    "Description: Lists the facility’s hospitalization rate per 100 patient-years."
   ]
  },
  {
   "cell_type": "code",
   "execution_count": 122,
   "metadata": {},
   "outputs": [
    {
     "data": {
      "text/plain": [
       "{3, 4, 5}"
      ]
     },
     "execution_count": 122,
     "metadata": {},
     "output_type": "execute_result"
    }
   ],
   "source": [
    "set([(len(str(num))) for num in df['Hospitalization Rate (Facility)']])"
   ]
  },
  {
   "cell_type": "markdown",
   "metadata": {},
   "source": [
    "### Hospitalization Rate: Upper Confidence Limit (97.5%)\n",
    "Data type: float64\n",
    "\n",
    "Value count: 6856\n",
    "\n",
    "Number of unique values: 2583\n",
    "\n",
    "Percent unique values: 0.005741\n",
    "\n",
    "Ranges of values: 1079.9 - \n",
    "\n",
    "Length of values: 3, 5, 6\n",
    "\n",
    "Description: Lists the upper confident limit (97.5%) for hospitalization rate per 100 patient-years."
   ]
  },
  {
   "cell_type": "code",
   "execution_count": 123,
   "metadata": {},
   "outputs": [
    {
     "data": {
      "text/plain": [
       "{3, 5, 6}"
      ]
     },
     "execution_count": 123,
     "metadata": {},
     "output_type": "execute_result"
    }
   ],
   "source": [
    "set([(len(str(num))) for num in df['Hospitalization Rate: Upper Confidence Limit (97.5%)']])"
   ]
  },
  {
   "cell_type": "markdown",
   "metadata": {},
   "source": [
    "### Hospitalization Rate: Lower Confidence Limit (2.5%)\n",
    "Data type: float64\n",
    "\n",
    "Value count: 6857\n",
    "\n",
    "Number of unique values: 1710\n",
    "\n",
    "Percent unique values: 0.003801\n",
    "\n",
    "Ranges of values: 0 -\n",
    "\n",
    "Length of values: 1 - 5\n",
    "\n",
    "Description: Lists the lower confident limit (2.5%) for hospitalization rate per 100 patient-years."
   ]
  },
  {
   "cell_type": "code",
   "execution_count": 124,
   "metadata": {},
   "outputs": [
    {
     "data": {
      "text/plain": [
       "{3, 4, 5}"
      ]
     },
     "execution_count": 124,
     "metadata": {},
     "output_type": "execute_result"
    }
   ],
   "source": [
    "set([(len(str(num))) for num in df['Hospitalization Rate: Lower Confidence Limit (2.5%)']])"
   ]
  },
  {
   "cell_type": "markdown",
   "metadata": {},
   "source": [
    "### Number Of Pediatric PD Patients With Kt/V Data\n",
    "Data type: float64\n",
    "\n",
    "Value count: 7555\n",
    "\n",
    "Number of unique values: 25\n",
    "\n",
    "Percent unique values: 0.000056\n",
    "\n",
    "Ranges of values: 0 - \n",
    "\n",
    "Length of values: 1 - 3\n",
    "\n",
    "Description: Lists the number of pediatric PD patients included in Kt/V greater than or equal to 1.8 summary. The parameter Kt/V is a measurement of the efficacy of a hemodialysis session. It identifies the effective removal of a specific solute (clearance K) resulting from a given treatment (characterized by time t) in a given patient (with a specific volume of distribution V for the solute considered)."
   ]
  },
  {
   "cell_type": "code",
   "execution_count": 125,
   "metadata": {},
   "outputs": [
    {
     "data": {
      "text/plain": [
       "{3, 4}"
      ]
     },
     "execution_count": 125,
     "metadata": {},
     "output_type": "execute_result"
    }
   ],
   "source": [
    "set([(len(str(num))) for num in df['Number Of Pediatric PD Patients With Kt/V Data']])"
   ]
  },
  {
   "cell_type": "markdown",
   "metadata": {},
   "source": [
    "### Pediatric PD Kt/V Data Availability Code\n",
    "Data type: float64 \n",
    "\n",
    "Value count: 7597\n",
    "\n",
    "Number of unique values: 4\n",
    "\n",
    "Percent unique values: 0.000009\n",
    "\n",
    "Ranges of values: 199, 201, 258, 259\n",
    "\n",
    "Length of values: 3\n",
    "\n",
    "Description: Lists whether the facility had sufficient pediatric PD Kt/V data available or the reason for why the data is not available. The parameter Kt/V is a measurement of the efficacy of a hemodialysis session. It identifies the effective removal of a specific solute (clearance K) resulting from a given treatment (characterized by time t) in a given patient (with a specific volume of distribution V for the solute considered).\n",
    "\n",
    "Value description:\n",
    "- 199 : Not enough patients to report on this measure. Call the dialysis center to discuss this measure.\n",
    "- 201 : Data not reported. Call the dialysis center to discuss this quality measure.\n",
    "- 258 : The dialysis center was not open long enough to supply sufficient measure data. \n",
    "- 259 : The dialysis center does not provide hemodialysis and/or peritoneal dialysis to pediatric patients during the reporting period."
   ]
  },
  {
   "cell_type": "code",
   "execution_count": 126,
   "metadata": {},
   "outputs": [
    {
     "data": {
      "text/plain": [
       "259.0    7244\n",
       "201.0     161\n",
       "199.0     120\n",
       "258.0      72\n",
       "Name: Pediatric PD Kt/V Data Availability Code, dtype: int64"
      ]
     },
     "execution_count": 126,
     "metadata": {},
     "output_type": "execute_result"
    }
   ],
   "source": [
    "df['Pediatric PD Kt/V Data Availability Code'].value_counts()"
   ]
  },
  {
   "cell_type": "markdown",
   "metadata": {},
   "source": [
    "### Number Of Pediatric PD Patient-Months With Kt/V Data\n",
    "Data type: float64\n",
    "\n",
    "Value count: 150\n",
    "\n",
    "Number of unique values: 81\n",
    "\n",
    "Percent unique values: 0.000180\n",
    "\n",
    "Ranges of values: 1 - \n",
    "\n",
    "Length of values: 1 - 3\n",
    "\n",
    "Description: Lists the number of pediatric PD patient months included in Kt/V greater than or equal to 1.8 summary. The parameter Kt/V is a measurement of the efficacy of a hemodialysis session. It identifies the effective removal of a specific solute (clearance K) resulting from a given treatment (characterized by time t) in a given patient (with a specific volume of distribution V for the solute considered)."
   ]
  },
  {
   "cell_type": "code",
   "execution_count": 127,
   "metadata": {},
   "outputs": [
    {
     "data": {
      "text/plain": [
       "{3, 4, 5}"
      ]
     },
     "execution_count": 127,
     "metadata": {},
     "output_type": "execute_result"
    }
   ],
   "source": [
    "set([(len(str(num))) for num in df['Number Of Pediatric PD Patient-Months With Kt/V Data']])"
   ]
  },
  {
   "cell_type": "markdown",
   "metadata": {},
   "source": [
    "### Percentage Of Pediatric PD Patients With Kt/V >= 1.8\n",
    "Data type: float64\n",
    "\n",
    "Value count: 29\n",
    "\n",
    "Number of unique values: 21\n",
    "\n",
    "Percent unique values: 0.000047\n",
    "\n",
    "Ranges of values: 23 - \n",
    "\n",
    "Length of values: 2, 3\n",
    "\n",
    "Description: Lists the percentage of pediatric PD patients with Kt/V greater than or equal to 1.8. The parameter Kt/V is a measurement of the efficacy of a hemodialysis session. It identifies the effective removal of a specific solute (clearance K) resulting from a given treatment (characterized by time t) in a given patient (with a specific volume of distribution V for the solute considered)."
   ]
  },
  {
   "cell_type": "code",
   "execution_count": 128,
   "metadata": {},
   "outputs": [
    {
     "data": {
      "text/plain": [
       "{3, 4}"
      ]
     },
     "execution_count": 128,
     "metadata": {},
     "output_type": "execute_result"
    }
   ],
   "source": [
    "set([(len(str(num))) for num in df['Percentage Of Pediatric PD Patients With Kt/V >= 1.8']])"
   ]
  },
  {
   "cell_type": "markdown",
   "metadata": {},
   "source": [
    "### SIR Date\n",
    "Data type: object\n",
    "\n",
    "Value count: 7626\n",
    "\n",
    "Number of unique values: 1\n",
    "\n",
    "Percent unique values: 0.000002\n",
    "\n",
    "Ranges of values: \"01/01/2018 - 12/31/2018\"\n",
    "\n",
    "Length of values: 23\n",
    "\n",
    "Description: Lists the time period for patient infection summary (SIR)."
   ]
  },
  {
   "cell_type": "code",
   "execution_count": 129,
   "metadata": {},
   "outputs": [
    {
     "data": {
      "text/plain": [
       "01/01/2018 - 12/31/2018    7626\n",
       "Name: SIR Date, dtype: int64"
      ]
     },
     "execution_count": 129,
     "metadata": {},
     "output_type": "execute_result"
    }
   ],
   "source": [
    "df['SIR Date'].value_counts()"
   ]
  },
  {
   "cell_type": "code",
   "execution_count": 130,
   "metadata": {},
   "outputs": [
    {
     "data": {
      "text/plain": [
       "{23}"
      ]
     },
     "execution_count": 130,
     "metadata": {},
     "output_type": "execute_result"
    }
   ],
   "source": [
    "set([(len(str(num))) for num in df['SIR Date']])"
   ]
  },
  {
   "cell_type": "markdown",
   "metadata": {},
   "source": [
    "### Patient Infection Data Availability Code\n",
    "Data type: float64\n",
    "\n",
    "Value count: 1375\n",
    "\n",
    "Number of unique values: 3\n",
    "\n",
    "Percent unique values: 0.000007\n",
    "\n",
    "Ranges of values: 199, 201, 258\n",
    "\n",
    "Length of values: 3\n",
    "\n",
    "Description: Lists whether the facility had sufficient infection data available or the reason for why the data is not available.\n",
    "\n",
    "Value description:\n",
    "- 199 : Not enough patients to report on this measure. Call the dialysis center to discuss this measure.\n",
    "- 201 : Data not reported. Call the dialysis center to discuss this quality measure.\n",
    "- 258 : The dialysis center was not open long enough to supply sufficient measure data. "
   ]
  },
  {
   "cell_type": "code",
   "execution_count": 131,
   "metadata": {},
   "outputs": [
    {
     "data": {
      "text/plain": [
       "258.0    657\n",
       "201.0    609\n",
       "199.0    109\n",
       "Name: Patient Infection Data Availability Code, dtype: int64"
      ]
     },
     "execution_count": 131,
     "metadata": {},
     "output_type": "execute_result"
    }
   ],
   "source": [
    "df['Patient Infection Data Availability Code'].value_counts()"
   ]
  },
  {
   "cell_type": "markdown",
   "metadata": {},
   "source": [
    "### Patient Infection Category Text\n",
    "Data type: object\n",
    "\n",
    "Value count: 6251\n",
    "\n",
    "Number of unique values: 3\n",
    "\n",
    "Percent unique values: 0.000007\n",
    "\n",
    "Ranges of values: As Expected, Worse than Expected, Better than Expected\n",
    "\n",
    "Length of values: 3, 11, 19, 20\n",
    "\n",
    "Description: Patient infection category.\n",
    "\n",
    "Value description:\n",
    "- As Expected          : Patient infection categorized as “As Expected”       \n",
    "- Worse than Expected  :  Patient infection categorized as “Worse than Expected”\n",
    "- Better than Expected : Patient infection categorized as “Better than Expected\""
   ]
  },
  {
   "cell_type": "code",
   "execution_count": 132,
   "metadata": {},
   "outputs": [
    {
     "data": {
      "text/plain": [
       "As Expected             5055\n",
       "Better than Expected     988\n",
       "Worse than Expected      208\n",
       "Name: Patient Infection Category Text, dtype: int64"
      ]
     },
     "execution_count": 132,
     "metadata": {},
     "output_type": "execute_result"
    }
   ],
   "source": [
    "df['Patient Infection Category Text'].value_counts()"
   ]
  },
  {
   "cell_type": "code",
   "execution_count": 133,
   "metadata": {},
   "outputs": [
    {
     "data": {
      "text/plain": [
       "{3, 11, 19, 20}"
      ]
     },
     "execution_count": 133,
     "metadata": {},
     "output_type": "execute_result"
    }
   ],
   "source": [
    "set([(len(str(num))) for num in df['Patient Infection Category Text']])"
   ]
  },
  {
   "cell_type": "markdown",
   "metadata": {},
   "source": [
    "### Standard Infection Ratio\n",
    "Data type: float64\n",
    "\n",
    "Value count: 6251\n",
    "\n",
    "Number of unique values: 336\n",
    "\n",
    "Percent unique values: 0.000747\n",
    "\n",
    "Ranges of values: 0.5 - \n",
    "\n",
    "Length of values: 1 - 5\n",
    "\n",
    "Description: Lists the facility’s Standardized Infection Ratio."
   ]
  },
  {
   "cell_type": "code",
   "execution_count": 134,
   "metadata": {},
   "outputs": [
    {
     "data": {
      "text/plain": [
       "{3, 4, 5}"
      ]
     },
     "execution_count": 134,
     "metadata": {},
     "output_type": "execute_result"
    }
   ],
   "source": [
    "set([(len(str(num))) for num in df['Standard Infection Ratio']])"
   ]
  },
  {
   "cell_type": "markdown",
   "metadata": {},
   "source": [
    "### SIR: Upper Confidence Limit (97.5%)\n",
    "Data type: float64\n",
    "\n",
    "Value count: 6251\n",
    "\n",
    "Number of unique values: 602\n",
    "\n",
    "Percent unique values: 0.001338\n",
    "\n",
    "Ranges of values: 0.16 - \n",
    "\n",
    "Length of values: 1 - 5\n",
    "\n",
    "Description: Lists the upper confident limit (97.5%) for Standardized Infection Ratio (SIR)."
   ]
  },
  {
   "cell_type": "code",
   "execution_count": 135,
   "metadata": {},
   "outputs": [
    {
     "data": {
      "text/plain": [
       "{3, 4, 5}"
      ]
     },
     "execution_count": 135,
     "metadata": {},
     "output_type": "execute_result"
    }
   ],
   "source": [
    "set([(len(str(num))) for num in df['SIR: Upper Confidence Limit (97.5%)']])"
   ]
  },
  {
   "cell_type": "markdown",
   "metadata": {},
   "source": [
    "### SIR: Lower Confidence Limit (2.5%)\n",
    "Data type: float64\n",
    "\n",
    "Value count: 5368\n",
    "\n",
    "Number of unique values: 190\n",
    "\n",
    "Percent unique values: 0.000422\n",
    "\n",
    "Ranges of values: 0.01 - \n",
    "\n",
    "Length of values: 1 - 4\n",
    "\n",
    "Description: Lists the lower confident limit (2.5%) for Standardized Infection Ratio (SIR)."
   ]
  },
  {
   "cell_type": "code",
   "execution_count": 136,
   "metadata": {},
   "outputs": [
    {
     "data": {
      "text/plain": [
       "{3, 4}"
      ]
     },
     "execution_count": 136,
     "metadata": {},
     "output_type": "execute_result"
    }
   ],
   "source": [
    "set([(len(str(num))) for num in df['SIR: Lower Confidence Limit (2.5%)']])"
   ]
  },
  {
   "cell_type": "markdown",
   "metadata": {},
   "source": [
    "### Transfusion Rate (Facility)\n",
    "Data type: float64\n",
    "\n",
    "Value count: 6285\n",
    "\n",
    "Number of unique values: 717\n",
    "\n",
    "Percent unique values: 0.001594\n",
    "\n",
    "Ranges of values: 0 - \n",
    "\n",
    "Length of values: 1 - 5\n",
    "\n",
    "Description: Lists the facility’s transfusion rate per 100 patient-years."
   ]
  },
  {
   "cell_type": "code",
   "execution_count": 137,
   "metadata": {},
   "outputs": [
    {
     "data": {
      "text/plain": [
       "{3, 4, 5}"
      ]
     },
     "execution_count": 137,
     "metadata": {},
     "output_type": "execute_result"
    }
   ],
   "source": [
    "set([(len(str(num))) for num in df['Transfusion Rate (Facility)']])"
   ]
  },
  {
   "cell_type": "markdown",
   "metadata": {},
   "source": [
    "### Transfusion Rate: Upper Confidence Limit (97.5%)\n",
    "Data type: float64\n",
    "\n",
    "Value count: 6285\n",
    "\n",
    "Number of unique values: 1604\n",
    "\n",
    "Percent unique values: 0.003565 \n",
    "\n",
    "Ranges of values: 100 - \n",
    "\n",
    "Length of values: 2 - 5\n",
    "\n",
    "Description: Lists the upper confident limit (97.5%) for transfusion rate per 100 patient-years."
   ]
  },
  {
   "cell_type": "code",
   "execution_count": 138,
   "metadata": {},
   "outputs": [
    {
     "data": {
      "text/plain": [
       "{3, 4, 5}"
      ]
     },
     "execution_count": 138,
     "metadata": {},
     "output_type": "execute_result"
    }
   ],
   "source": [
    "set([(len(str(num))) for num in df['Transfusion Rate: Upper Confidence Limit (97.5%)']])"
   ]
  },
  {
   "cell_type": "markdown",
   "metadata": {},
   "source": [
    "### Transfusion Rate: Lower Confidence Limit (2.5%)\n",
    "Data type: float64\n",
    "\n",
    "Value count: 6285\n",
    "\n",
    "Number of unique values: 413\n",
    "\n",
    "Percent unique values: 0.000918\n",
    "\n",
    "Ranges of values: 0.1 - \n",
    "\n",
    "Length of values: 1 - 5\n",
    "\n",
    "Description: Lists the lower confident limit (2.5%) for transfusion rate per 100 patient-years."
   ]
  },
  {
   "cell_type": "code",
   "execution_count": 139,
   "metadata": {},
   "outputs": [
    {
     "data": {
      "text/plain": [
       "{3, 4, 5}"
      ]
     },
     "execution_count": 139,
     "metadata": {},
     "output_type": "execute_result"
    }
   ],
   "source": [
    "set([(len(str(num))) for num in df['Transfusion Rate: Lower Confidence Limit (2.5%)']])"
   ]
  },
  {
   "cell_type": "markdown",
   "metadata": {},
   "source": [
    "### Fistula Data Availability Code\n",
    "Data type: float64\n",
    "\n",
    "Value count: 711\n",
    "\n",
    "Number of unique values: 4\n",
    "\n",
    "Percent unique values: 0.000009\n",
    "\n",
    "Ranges of values: 199, 201, 256, 258\n",
    "\n",
    "Length of values: 3\n",
    "\n",
    "Description: Lists whether the facility had sufficient fistula data available or the reason for why the data is not available. The best type of long-term access is an AV fistula. A surgeon connects an artery to a vein, usually in your arm, to create an AV fistula. An artery is a blood vessel that carries blood away from your heart. A vein is a blood vessel that carries blood back toward your heart. When the surgeon connects an artery to a vein, the vein grows wider and thicker, making it easier to place the needles for dialysis. The AV fistula also has a large diameter that allows your blood to flow out and back into your body quickly. The goal is to allow high blood flow so that the largest amount of blood can pass through the dialyzer.\n",
    "\n",
    "Value description: \n",
    "- 199 : Not enough patients to report on this measure. Call the dialysis center to discuss this measure.\n",
    "- 201 : Data not reported. Call the dialysis center to discuss this quality measure.\n",
    "- 256 : The dialysis center does not provide hemodialysis during the reporting period. \n",
    "- 258 : The dialysis center was not open long enough to supply sufficient measure data. "
   ]
  },
  {
   "cell_type": "code",
   "execution_count": 140,
   "metadata": {},
   "outputs": [
    {
     "data": {
      "text/plain": [
       "258.0    284\n",
       "199.0    262\n",
       "256.0    110\n",
       "201.0     55\n",
       "Name: Fistula Data Availability Code, dtype: int64"
      ]
     },
     "execution_count": 140,
     "metadata": {},
     "output_type": "execute_result"
    }
   ],
   "source": [
    "df['Fistula Data Availability Code'].value_counts()"
   ]
  },
  {
   "cell_type": "markdown",
   "metadata": {},
   "source": [
    "### Fistula Category Text\n",
    "Data type: object\n",
    "\n",
    "Value count: 6915\n",
    "\n",
    "Number of unique values: 3\n",
    "\n",
    "Percent unique values: 0.000007\n",
    "\n",
    "Ranges of values: As Expected, Worse than Expected, Better than Expected\n",
    "\n",
    "Length of values: 3, 11, 19, 20\n",
    "\n",
    "Description: Fistula category. The best type of long-term access is an AV fistula. A surgeon connects an artery to a vein, usually in your arm, to create an AV fistula. An artery is a blood vessel that carries blood away from your heart. A vein is a blood vessel that carries blood back toward your heart. When the surgeon connects an artery to a vein, the vein grows wider and thicker, making it easier to place the needles for dialysis. The AV fistula also has a large diameter that allows your blood to flow out and back into your body quickly. The goal is to allow high blood flow so that the largest amount of blood can pass through the dialyzer.\n",
    "\n",
    "Value description:\n",
    "- As Expected          : Patient fistulas categorized as “As Expected”       \n",
    "- Worse than Expected  :  Patient fistulas categorized as “Worse than Expected”\n",
    "- Better than Expected : Patient fistulas categorized as “Better than Expected\""
   ]
  },
  {
   "cell_type": "code",
   "execution_count": 141,
   "metadata": {},
   "outputs": [
    {
     "data": {
      "text/plain": [
       "As Expected             6423\n",
       "Better than Expected     278\n",
       "Worse than Expected      214\n",
       "Name: Fistula Category Text, dtype: int64"
      ]
     },
     "execution_count": 141,
     "metadata": {},
     "output_type": "execute_result"
    }
   ],
   "source": [
    "df['Fistula Category Text'].value_counts()"
   ]
  },
  {
   "cell_type": "code",
   "execution_count": 142,
   "metadata": {},
   "outputs": [
    {
     "data": {
      "text/plain": [
       "{3, 11, 19, 20}"
      ]
     },
     "execution_count": 142,
     "metadata": {},
     "output_type": "execute_result"
    }
   ],
   "source": [
    "set([(len(str(num))) for num in df['Fistula Category Text']])"
   ]
  },
  {
   "cell_type": "markdown",
   "metadata": {},
   "source": [
    "### Number Of Patients Included In Fistula Summary\n",
    "Data type: float64\n",
    "\n",
    "Value count: 7555\n",
    "\n",
    "Number of unique values: 292\n",
    "\n",
    "Percent unique values: 0.000649\n",
    "\n",
    "Ranges of values: 0 - \n",
    "\n",
    "Length of values: 1 - 3\n",
    "\n",
    "Description: Lists the number of patients included in the facility’s fistula summary. The best type of long-term access is an AV fistula. A surgeon connects an artery to a vein, usually in your arm, to create an AV fistula. An artery is a blood vessel that carries blood away from your heart. A vein is a blood vessel that carries blood back toward your heart. When the surgeon connects an artery to a vein, the vein grows wider and thicker, making it easier to place the needles for dialysis. The AV fistula also has a large diameter that allows your blood to flow out and back into your body quickly. The goal is to allow high blood flow so that the largest amount of blood can pass through the dialyzer."
   ]
  },
  {
   "cell_type": "code",
   "execution_count": 143,
   "metadata": {},
   "outputs": [
    {
     "data": {
      "text/plain": [
       "{3, 4, 5}"
      ]
     },
     "execution_count": 143,
     "metadata": {},
     "output_type": "execute_result"
    }
   ],
   "source": [
    "set([(len(str(num))) for num in df['Number Of Patients Included In Fistula Summary']])"
   ]
  },
  {
   "cell_type": "markdown",
   "metadata": {},
   "source": [
    "### Fistula Rate (Facility)\n",
    "Data type: float64\n",
    "\n",
    "Value count: 6915\n",
    "\n",
    "Number of unique values: 587\n",
    "\n",
    "Percent unique values: 0.001305\n",
    "\n",
    "Ranges of values: 0 - \n",
    "\n",
    "Length of values: 1 - 4\n",
    "\n",
    "Description: Lists the facility’s fistula rate per 100 patient-years. The best type of long-term access is an AV fistula. A surgeon connects an artery to a vein, usually in your arm, to create an AV fistula. An artery is a blood vessel that carries blood away from your heart. A vein is a blood vessel that carries blood back toward your heart. When the surgeon connects an artery to a vein, the vein grows wider and thicker, making it easier to place the needles for dialysis. The AV fistula also has a large diameter that allows your blood to flow out and back into your body quickly. The goal is to allow high blood flow so that the largest amount of blood can pass through the dialyzer."
   ]
  },
  {
   "cell_type": "code",
   "execution_count": 144,
   "metadata": {},
   "outputs": [
    {
     "data": {
      "text/plain": [
       "{3, 4}"
      ]
     },
     "execution_count": 144,
     "metadata": {},
     "output_type": "execute_result"
    }
   ],
   "source": [
    "set([(len(str(num))) for num in df['Fistula Rate (Facility)']])"
   ]
  },
  {
   "cell_type": "markdown",
   "metadata": {},
   "source": [
    "### Fistula Rate: Upper Confidence Limit (97.5%)\n",
    "Data type: float64\n",
    "\n",
    "Value count: 6915\n",
    "\n",
    "Number of unique values: 487\n",
    "\n",
    "Percent unique values: 0.001082\n",
    "\n",
    "Ranges of values: 0 - \n",
    "\n",
    "Length of values: 1 - 4\n",
    "\n",
    "Description: Lists the upper confident limit (97.5%) for fistula rate per 100 patient-years. The best type of long-term access is an AV fistula. A surgeon connects an artery to a vein, usually in your arm, to create an AV fistula. An artery is a blood vessel that carries blood away from your heart. A vein is a blood vessel that carries blood back toward your heart. When the surgeon connects an artery to a vein, the vein grows wider and thicker, making it easier to place the needles for dialysis. The AV fistula also has a large diameter that allows your blood to flow out and back into your body quickly. The goal is to allow high blood flow so that the largest amount of blood can pass through the dialyzer."
   ]
  },
  {
   "cell_type": "code",
   "execution_count": 145,
   "metadata": {},
   "outputs": [
    {
     "data": {
      "text/plain": [
       "{3, 4, 5}"
      ]
     },
     "execution_count": 145,
     "metadata": {},
     "output_type": "execute_result"
    }
   ],
   "source": [
    "set([(len(str(num))) for num in df['Fistula Rate: Upper Confidence Limit (97.5%)']])"
   ]
  },
  {
   "cell_type": "markdown",
   "metadata": {},
   "source": [
    "### Fistula Rate: Lower Confidence Limit (2.5%)\n",
    "Data type: float64\n",
    "\n",
    "Value count: 6915\n",
    "\n",
    "Number of unique values: 727\n",
    "\n",
    "Percent unique values: 0.001616\n",
    "\n",
    "Ranges of values: 0.1 - \n",
    "\n",
    "Length of values: 1 - 4\n",
    "\n",
    "Description: Lists the lower confident limit (2.5%) for fistula rate per 100 patient-years. The best type of long-term access is an AV fistula. A surgeon connects an artery to a vein, usually in your arm, to create an AV fistula. An artery is a blood vessel that carries blood away from your heart. A vein is a blood vessel that carries blood back toward your heart. When the surgeon connects an artery to a vein, the vein grows wider and thicker, making it easier to place the needles for dialysis. The AV fistula also has a large diameter that allows your blood to flow out and back into your body quickly. The goal is to allow high blood flow so that the largest amount of blood can pass through the dialyzer."
   ]
  },
  {
   "cell_type": "code",
   "execution_count": 146,
   "metadata": {},
   "outputs": [
    {
     "data": {
      "text/plain": [
       "{3, 4}"
      ]
     },
     "execution_count": 146,
     "metadata": {},
     "output_type": "execute_result"
    }
   ],
   "source": [
    "set([(len(str(num))) for num in df['Fistula Rate: Lower Confidence Limit (2.5%)']])"
   ]
  },
  {
   "cell_type": "markdown",
   "metadata": {},
   "source": [
    "### Number Of Patients In Long Term Catheter Summary\n",
    "Data type: float64\n",
    "\n",
    "Value count: 7555\n",
    "\n",
    "Number of unique values: 292\n",
    "\n",
    "Percent unique values: 0.000649\n",
    "\n",
    "Ranges of values: 0 - \n",
    "\n",
    "Length of values: 1 - 3\n",
    "\n",
    "Description: Lists the number of patients included in the facility’s long term catheter summary. "
   ]
  },
  {
   "cell_type": "code",
   "execution_count": 147,
   "metadata": {},
   "outputs": [
    {
     "data": {
      "text/plain": [
       "{3, 4, 5}"
      ]
     },
     "execution_count": 147,
     "metadata": {},
     "output_type": "execute_result"
    }
   ],
   "source": [
    "set([(len(str(num))) for num in df['Number Of Patients In Long Term Catheter Summary']])"
   ]
  },
  {
   "cell_type": "markdown",
   "metadata": {},
   "source": [
    "### Number Of Patient-Months In Long Term Catheter Summary\n",
    "Data type: float64\n",
    "\n",
    "Value count: 7298\n",
    "\n",
    "Number of unique values: 1780\n",
    "\n",
    "Percent unique values: 0.003956\n",
    "\n",
    "Ranges of values: 1 - \n",
    "\n",
    "Length of values: 1 - 4\n",
    "\n",
    "Description: Lists the number of patient-months included in the facility’s long term catheter summary. "
   ]
  },
  {
   "cell_type": "code",
   "execution_count": 148,
   "metadata": {},
   "outputs": [
    {
     "data": {
      "text/plain": [
       "{3, 4, 5, 6}"
      ]
     },
     "execution_count": 148,
     "metadata": {},
     "output_type": "execute_result"
    }
   ],
   "source": [
    "set([(len(str(num))) for num in df['Number Of Patient-Months In Long Term Catheter Summary']])"
   ]
  },
  {
   "cell_type": "markdown",
   "metadata": {},
   "source": [
    "### Long Term Catheter Data Availability Code\n",
    "Data type: float64\n",
    "\n",
    "Value count: 711\n",
    "\n",
    "Number of unique values: 4\n",
    "\n",
    "Percent unique values: 0.000009\n",
    "\n",
    "Ranges of values: 199, 201, 256, 258\n",
    "\n",
    "Length of values: 3\n",
    "\n",
    "Description: Lists whether the facility had sufficient long term catheter data available or the reason for why the data is not available.\n",
    "\n",
    "Value description: \n",
    "- 199 : Not enough patients to report on this measure. Call the dialysis center to discuss this measure.\n",
    "- 201 : Data not reported. Call the dialysis center to discuss this quality measure.\n",
    "- 256 : The dialysis center does not provide hemodialysis during the reporting period. \n",
    "- 258 : The dialysis center was not open long enough to supply sufficient measure data. "
   ]
  },
  {
   "cell_type": "code",
   "execution_count": 149,
   "metadata": {},
   "outputs": [
    {
     "data": {
      "text/plain": [
       "199.0    262\n",
       "258.0    192\n",
       "201.0    129\n",
       "256.0    128\n",
       "Name: Long Term Catheter Data Availability Code, dtype: int64"
      ]
     },
     "execution_count": 149,
     "metadata": {},
     "output_type": "execute_result"
    }
   ],
   "source": [
    "df['Long Term Catheter Data Availability Code'].value_counts()"
   ]
  },
  {
   "cell_type": "markdown",
   "metadata": {},
   "source": [
    "### Percentage Of Adult Patients With Long Term Catheter In Use\n",
    "Data type: float64\n",
    "\n",
    "Value count: 6915\n",
    "\n",
    "Number of unique values: 67\n",
    "\n",
    "Percent unique values: 0.000149\n",
    "\n",
    "Ranges of values: 0 - \n",
    "\n",
    "Length of values: 1 - 3\n",
    "\n",
    "Description: Lists the percentage of adult patients with long term catheter in use."
   ]
  },
  {
   "cell_type": "code",
   "execution_count": 150,
   "metadata": {},
   "outputs": [
    {
     "data": {
      "text/plain": [
       "{3, 4}"
      ]
     },
     "execution_count": 150,
     "metadata": {},
     "output_type": "execute_result"
    }
   ],
   "source": [
    "set([(len(str(num))) for num in df['Percentage Of Adult Patients With Long Term Catheter In Use']])"
   ]
  },
  {
   "cell_type": "markdown",
   "metadata": {},
   "source": [
    "### Number Of Patients In nPCR Summary\n",
    "Data type: float64\n",
    "\n",
    "Value count: 7555 \n",
    "\n",
    "Number of unique values: 25\n",
    "\n",
    "Percent unique values: 0.000056\n",
    "\n",
    "Ranges of values: 0 - \n",
    "\n",
    "Length of values: 1 - 3\n",
    "\n",
    "Description: \n",
    "Lists the number of patients included in the facility's normalized protein catabolic rate (nPCR) summary. The normalized protein catabolic rate (nPCR) is a formula commonly used to assess dietary protein intake in dialysis patients, as a means towards determining nutritional adequacy, a major problem in many ESRD patients. \n",
    "The nPCR is reported in grams of urea nitrogen per kilogram per day.\n",
    "Most guidelines specify maintaining the protein intake above 1.0 – 1.2 g/kg/day in dialysis patients, with values less than 0.8 g/kg/day being equated with malnutrition."
   ]
  },
  {
   "cell_type": "code",
   "execution_count": 151,
   "metadata": {},
   "outputs": [
    {
     "data": {
      "text/plain": [
       "{3, 4}"
      ]
     },
     "execution_count": 151,
     "metadata": {},
     "output_type": "execute_result"
    }
   ],
   "source": [
    "set([(len(str(num))) for num in df['Number Of Patients In nPCR Summary']])"
   ]
  },
  {
   "cell_type": "markdown",
   "metadata": {},
   "source": [
    "### Number Of Patient-Months In nPCR Summary\n",
    "Data type: float64\n",
    "\n",
    "Value count: 224\n",
    "\n",
    "Number of unique values: 73\n",
    "\n",
    "Percent unique values: 0.000162\n",
    "\n",
    "Ranges of values: 1 - \n",
    "\n",
    "Length of values: 1 - 3\n",
    "\n",
    "Description: Lists the number of patient-months included in the facility's patients included in the facility's normalized protein catabolic rate (nPCR) summary. The normalized protein catabolic rate (nPCR) is a formula commonly used to assess dietary protein intake in dialysis patients, as a means towards determining nutritional adequacy, a major problem in many ESRD patients. \n",
    "The nPCR is reported in grams of urea nitrogen per kilogram per day.\n",
    "Most guidelines specify maintaining the protein intake above 1.0 – 1.2 g/kg/day in dialysis patients, with values less than 0.8 g/kg/day being equated with malnutrition."
   ]
  },
  {
   "cell_type": "code",
   "execution_count": 152,
   "metadata": {},
   "outputs": [
    {
     "data": {
      "text/plain": [
       "{3, 4, 5}"
      ]
     },
     "execution_count": 152,
     "metadata": {},
     "output_type": "execute_result"
    }
   ],
   "source": [
    "set([(len(str(num))) for num in df['Number Of Patient-Months In nPCR Summary']])"
   ]
  },
  {
   "cell_type": "markdown",
   "metadata": {},
   "source": [
    "### nPCR Data Availability Code\n",
    "Data type: float64\n",
    "\n",
    "Value count: 7600\n",
    "\n",
    "Number of unique values: 4\n",
    "\n",
    "Percent unique values: 0.000009\n",
    "\n",
    "Ranges of values: 199, 201, 258, 259\n",
    "\n",
    "Length of values: 3\n",
    "\n",
    "Description: Lists whether the facility had sufficient normalized protein catabolic rate (nPCR) data available or the reason for why the data is not available. The normalized protein catabolic rate (nPCR) is a formula commonly used to assess dietary protein intake in dialysis patients, as a means towards determining nutritional adequacy, a major problem in many ESRD patients. \n",
    "The nPCR is reported in grams of urea nitrogen per kilogram per day.\n",
    "Most guidelines specify maintaining the protein intake above 1.0 – 1.2 g/kg/day in dialysis patients, with values less than 0.8 g/kg/day being equated with malnutrition.\n",
    "\n",
    "Value description:\n",
    "- 199 : Not enough patients to report on this measure. Call the dialysis center to discuss this measure.\n",
    "- 201 : Data not reported. Call the dialysis center to discuss this quality measure.\n",
    "- 258 : The dialysis center was not open long enough to supply sufficient measure data. \n",
    "- 259 : The dialysis center does not provide hemodialysis and/or peritoneal dialysis to pediatric patients during the reporting period."
   ]
  },
  {
   "cell_type": "code",
   "execution_count": 153,
   "metadata": {},
   "outputs": [
    {
     "data": {
      "text/plain": [
       "259.0    7082\n",
       "201.0     249\n",
       "199.0     196\n",
       "258.0      73\n",
       "Name: nPCR Data Availability Code, dtype: int64"
      ]
     },
     "execution_count": 153,
     "metadata": {},
     "output_type": "execute_result"
    }
   ],
   "source": [
    "df['nPCR Data Availability Code'].value_counts()"
   ]
  },
  {
   "cell_type": "markdown",
   "metadata": {},
   "source": [
    "### Percentage Of Pediatric HD Patients With nPCR\n",
    "Data type: float64\n",
    "\n",
    "Value count: 26\n",
    "\n",
    "Number of unique values: 14\n",
    "\n",
    "Percent unique values: 0.000031\n",
    "\n",
    "Ranges of values: 100 -\n",
    "\n",
    "Length of values: 2 - 3\n",
    "\n",
    "Description: Lists the percentage of pediatric HD patients with normalized protein catabolic rate (nPCR). The normalized protein catabolic rate (nPCR) is a formula commonly used to assess dietary protein intake in dialysis patients, as a means towards determining nutritional adequacy, a major problem in many ESRD patients. \n",
    "The nPCR is reported in grams of urea nitrogen per kilogram per day.\n",
    "Most guidelines specify maintaining the protein intake above 1.0 – 1.2 g/kg/day in dialysis patients, with values less than 0.8 g/kg/day being equated with malnutrition."
   ]
  },
  {
   "cell_type": "code",
   "execution_count": 154,
   "metadata": {},
   "outputs": [
    {
     "data": {
      "text/plain": [
       "{3, 4, 5}"
      ]
     },
     "execution_count": 154,
     "metadata": {},
     "output_type": "execute_result"
    }
   ],
   "source": [
    "set([(len(str(num))) for num in df['Percentage Of Pediatric HD Patients With nPCR']])"
   ]
  },
  {
   "cell_type": "markdown",
   "metadata": {},
   "source": [
    "### SWR Date\n",
    "Data type: object\n",
    "\n",
    "Value count: 7626\n",
    "\n",
    "Number of unique values: 1\n",
    "\n",
    "Percent unique values: 0.000002\n",
    "\n",
    "Ranges of values: \"01/01/2015 - 12/31/2017\"\n",
    "\n",
    "Length of values: 23\n",
    "\n",
    "Description: Years Patient Transplant Waitlist Is Based Upon. Standardized Waitlist Ratio (SWR) measure tracks the number of incident patients at the dialysis facility under the age of 75 listed on the kidney or kidney-pancreas transplant waitlist or who received a living donor transplant within the first year of initiating dialysis. SWR is calculated to compare the observed waitlisting rate in the facility to the waitlisting rate that was expected."
   ]
  },
  {
   "cell_type": "code",
   "execution_count": 155,
   "metadata": {},
   "outputs": [
    {
     "data": {
      "text/plain": [
       "01/01/2015 - 12/31/2017    7626\n",
       "Name: SWR Date, dtype: int64"
      ]
     },
     "execution_count": 155,
     "metadata": {},
     "output_type": "execute_result"
    }
   ],
   "source": [
    "df['SWR Date'].value_counts()"
   ]
  },
  {
   "cell_type": "code",
   "execution_count": 156,
   "metadata": {},
   "outputs": [
    {
     "data": {
      "text/plain": [
       "{23}"
      ]
     },
     "execution_count": 156,
     "metadata": {},
     "output_type": "execute_result"
    }
   ],
   "source": [
    "set([(len(str(num))) for num in df['SWR Date']])"
   ]
  },
  {
   "cell_type": "markdown",
   "metadata": {},
   "source": [
    "### SWR Category Text\n",
    "Data type: object\n",
    "\n",
    "Value count: 4111\n",
    "\n",
    "Number of unique values: 3\n",
    "\n",
    "Percent unique values: 0.000007\n",
    "\n",
    "Ranges of values: As Expected, Worse than Expected, Better than Expected\n",
    "\n",
    "Length of values: 3, 11, 19, 20\n",
    "\n",
    "Description: Standardized waitlist ratio (SWR) category text. The standardized waitlist ratio (SWR) measure tracks the number of incident patients at the dialysis facility under the age of 75 listed on the kidney or kidney-pancreas transplant waitlist or who received a living donor transplant within the first year of initiating dialysis. SWR is calculated to compare the observed waitlisting rate in the facility to the waitlisting rate that was expected. \n",
    "\n",
    "Value description:\n",
    "- As Expected          : Patient standardized waitlist ratio (SWR) categorized as “As Expected”       \n",
    "- Worse than Expected  :  Patient standardized waitlist ratio (SWR) categorized as “Worse than Expected”\n",
    "- Better than Expected : Patient standardized waitlist ratio (SWR) categorized as “Better than Expected\""
   ]
  },
  {
   "cell_type": "code",
   "execution_count": 157,
   "metadata": {},
   "outputs": [
    {
     "data": {
      "text/plain": [
       "As Expected             3593\n",
       "Better than Expected     316\n",
       "Worse than Expected      202\n",
       "Name: SWR Category Text, dtype: int64"
      ]
     },
     "execution_count": 157,
     "metadata": {},
     "output_type": "execute_result"
    }
   ],
   "source": [
    "df['SWR Category Text'].value_counts()"
   ]
  },
  {
   "cell_type": "code",
   "execution_count": 158,
   "metadata": {},
   "outputs": [
    {
     "data": {
      "text/plain": [
       "{3, 11, 19, 20}"
      ]
     },
     "execution_count": 158,
     "metadata": {},
     "output_type": "execute_result"
    }
   ],
   "source": [
    "set([(len(str(num))) for num in df['SWR Category Text']])"
   ]
  },
  {
   "cell_type": "markdown",
   "metadata": {},
   "source": [
    "### Patient Transplant Waitlist Data Availability Code\n",
    "Data type: float64\n",
    "\n",
    "Value count: 3515\n",
    "\n",
    "Number of unique values: 4\n",
    "\n",
    "Percent unique values: 0.000009\n",
    "\n",
    "Ranges of values: 199, 201, 255, 258\n",
    "\n",
    "Length of values: 3\n",
    "\n",
    "Description: Lists whether the facility had sufficient patient transplant waitlist data available or\n",
    "the reason for why the data is not available.\n",
    "\n",
    "Value description:\n",
    "- 199 : Not enough patients to report on this measure. Call the dialysis center to discuss this measure.\n",
    "- 201 : Data not reported. Call the dialysis center to discuss this quality measure. \n",
    "- 255 : Medicare determined that the percentage reported was not accurate.\n",
    "- 258 : The dialysis center was not open long enough to supply sufficient measure data."
   ]
  },
  {
   "cell_type": "code",
   "execution_count": 159,
   "metadata": {},
   "outputs": [
    {
     "data": {
      "text/plain": [
       "199.0    2705\n",
       "258.0     697\n",
       "201.0     112\n",
       "255.0       1\n",
       "Name: Patient Transplant Waitlist Data Availability Code, dtype: int64"
      ]
     },
     "execution_count": 159,
     "metadata": {},
     "output_type": "execute_result"
    }
   ],
   "source": [
    "df['Patient Transplant Waitlist Data Availability Code'].value_counts()"
   ]
  },
  {
   "cell_type": "markdown",
   "metadata": {},
   "source": [
    "### 95% C.I. (Upper Limit) For SWR\n",
    "Data type: float64\n",
    "\n",
    "Value count: 4111\n",
    "\n",
    "Number of unique values: 593\n",
    "\n",
    "Percent unique values: 0.001318\n",
    "\n",
    "Ranges of values: 0.23 - \n",
    "\n",
    "Length of values: 1 - 5\n",
    "\n",
    "Description: Lists the upper confident interval limit (95%) for Standardized Waitlist Ratio (SWR) rate per 100 patient-years. The Standardized Waitlist Ratio (SWR) measure tracks the number of incident patients at the dialysis facility under the age of 75 listed on the kidney or kidney-pancreas transplant waitlist or who received a living donor transplant within the first year of initiating dialysis. SWR is calculated to compare the observed waitlisting rate in the facility to the waitlisting rate that was expected. "
   ]
  },
  {
   "cell_type": "code",
   "execution_count": 160,
   "metadata": {},
   "outputs": [
    {
     "data": {
      "text/plain": [
       "{3, 4, 5}"
      ]
     },
     "execution_count": 160,
     "metadata": {},
     "output_type": "execute_result"
    }
   ],
   "source": [
    "set([(len(str(num))) for num in df['95% C.I. (Upper Limit) For SWR']])"
   ]
  },
  {
   "cell_type": "markdown",
   "metadata": {},
   "source": [
    "### 95% C.I. (Lower Limit) For SWR\n",
    "Data type: float64\n",
    "\n",
    "Value count: 4111\n",
    "\n",
    "Number of unique values: 214\n",
    "\n",
    "Percent unique values: 0.511%\n",
    "\n",
    "Ranges of values: 0.000476 \n",
    "\n",
    "Length of values: 1 - 4\n",
    "\n",
    "Description: Lists the lower confident interval limit (95%) for Standardized Waitlist Ratio (SWR) rate per 100 patient-years. The Standardized Waitlist Ratio (SWR) measure tracks the number of incident patients at the dialysis facility under the age of 75 listed on the kidney or kidney-pancreas transplant waitlist or who received a living donor transplant within the first year of initiating dialysis. SWR is calculated to compare the observed waitlisting rate in the facility to the waitlisting rate that was expected. "
   ]
  },
  {
   "cell_type": "code",
   "execution_count": 161,
   "metadata": {},
   "outputs": [
    {
     "data": {
      "text/plain": [
       "{3, 4}"
      ]
     },
     "execution_count": 161,
     "metadata": {},
     "output_type": "execute_result"
    }
   ],
   "source": [
    "set([(len(str(num))) for num in df['95% C.I. (Lower Limit) For SWR']])"
   ]
  },
  {
   "cell_type": "markdown",
   "metadata": {},
   "source": [
    "### Number Of Patients In This Facility For SWR\n",
    "Data type: float64\n",
    "\n",
    "Value count: 7554\n",
    "\n",
    "Number of unique values: 145\n",
    "\n",
    "Percent unique values: 0.000322\n",
    "\n",
    "Ranges of values: 0 - \n",
    "\n",
    "Length of values: 1 - 3\n",
    "\n",
    "Description: Lists the number of patients in this facility for Standardized Waitlist Ratio (SWR). The Standardized Waitlist Ratio (SWR) measure tracks the number of incident patients at the dialysis facility under the age of 75 listed on the kidney or kidney-pancreas transplant waitlist or who received a living donor transplant within the first year of initiating dialysis. SWR is calculated to compare the observed waitlisting rate in the facility to the waitlisting rate that was expected. "
   ]
  },
  {
   "cell_type": "code",
   "execution_count": 162,
   "metadata": {},
   "outputs": [
    {
     "data": {
      "text/plain": [
       "{3, 4, 5}"
      ]
     },
     "execution_count": 162,
     "metadata": {},
     "output_type": "execute_result"
    }
   ],
   "source": [
    "set([(len(str(num))) for num in df['Number Of Patients In This Facility For SWR']])"
   ]
  },
  {
   "cell_type": "markdown",
   "metadata": {},
   "source": [
    "### Standardized First Kidney Transplant Waitlist Ratio\n",
    "Data type: float64\n",
    "\n",
    "Value count: 4111\n",
    "\n",
    "Number of unique values: 360\n",
    "\n",
    "Percent unique values: 0.000800\n",
    "\n",
    "Ranges of values: 0.08 - \n",
    "\n",
    "Length of values: 1 - 4\n",
    "\n",
    "Description: Lists the ratio of standardized waitlist ratio (SWR) in this facility. This measure tracks the number of incident patients at the dialysis facility under the age of 75 listed on the kidney or kidney-pancreas transplant waitlist or who received living donor transplants within the first year of initiating dialysis. "
   ]
  },
  {
   "cell_type": "code",
   "execution_count": 163,
   "metadata": {},
   "outputs": [
    {
     "data": {
      "text/plain": [
       "{3, 4}"
      ]
     },
     "execution_count": 163,
     "metadata": {},
     "output_type": "execute_result"
    }
   ],
   "source": [
    "set([(len(str(num))) for num in df['Standardized First Kidney Transplant Waitlist Ratio']])"
   ]
  },
  {
   "cell_type": "markdown",
   "metadata": {},
   "source": [
    "### PPPW Category Text\n",
    "Data type: object\n",
    "\n",
    "Value count: 7178\n",
    "\n",
    "Number of unique values: 3\n",
    "\n",
    "Percent unique values: 0.000007\n",
    "\n",
    "Ranges of values: As Expected, Worse than Expected, Better than Expected\n",
    "\n",
    "Length of values: 3, 11, 19, 20\n",
    "\n",
    "Description: Percentage of prevalent patients waitlisted (PPPW) category text. The PPPW measure tracks the percentage of patients at each dialysis facility who were on the kidney or kidney-pancreas transplant waiting list. Results are averaged across patients prevalent on the last day of each month during the reporting year, adjusted for age.\n",
    "\n",
    "Value description:\n",
    "- As Expected          : Patient percentage of prevalent patients waitlisted (PPPW) categorized as “As Expected”       \n",
    "- Worse than Expected  :  Patient percentage of prevalent patients waitlisted (PPPW) categorized as “Worse than Expected”\n",
    "- Better than Expected : Patient percentage of prevalent patients waitlisted (PPPW) categorized as “Better than Expected\""
   ]
  },
  {
   "cell_type": "code",
   "execution_count": 164,
   "metadata": {},
   "outputs": [
    {
     "data": {
      "text/plain": [
       "As Expected             6539\n",
       "Better than Expected     462\n",
       "Worse than Expected      177\n",
       "Name: PPPW Category Text, dtype: int64"
      ]
     },
     "execution_count": 164,
     "metadata": {},
     "output_type": "execute_result"
    }
   ],
   "source": [
    "df['PPPW Category Text'].value_counts()"
   ]
  },
  {
   "cell_type": "code",
   "execution_count": 165,
   "metadata": {},
   "outputs": [
    {
     "data": {
      "text/plain": [
       "{3, 11, 19, 20}"
      ]
     },
     "execution_count": 165,
     "metadata": {},
     "output_type": "execute_result"
    }
   ],
   "source": [
    "set([(len(str(num))) for num in df['PPPW Category Text']])"
   ]
  },
  {
   "cell_type": "markdown",
   "metadata": {},
   "source": [
    "### Patient Prevalent Transplant Waitlist Data Availability Code\n",
    "Data type: float64\n",
    "\n",
    "Value count: 448\n",
    "\n",
    "Number of unique values: 3\n",
    "\n",
    "Percent unique values: 0.000007\n",
    "\n",
    "Ranges of values: 199, 201, 258\n",
    "\n",
    "Length of values: 3\n",
    "\n",
    "Description: Lists whether the facility had sufficient patient prevalent transplant waitlist data available or the reason for why the data is not available.\n",
    "\n",
    "Value description:\n",
    "- 199 : Not enough patients to report on this measure. Call the dialysis center to discuss this measure.\n",
    "- 201 : Data not reported. Call the dialysis center to discuss this quality measure. \n",
    "- 258 : The dialysis center was not open long enough to supply sufficient measure data."
   ]
  },
  {
   "cell_type": "code",
   "execution_count": 166,
   "metadata": {},
   "outputs": [
    {
     "data": {
      "text/plain": [
       "258.0    279\n",
       "199.0    155\n",
       "201.0     14\n",
       "Name: Patient Prevalent Transplant Waitlist Data Availability Code, dtype: int64"
      ]
     },
     "execution_count": 166,
     "metadata": {},
     "output_type": "execute_result"
    }
   ],
   "source": [
    "df['Patient Prevalent Transplant Waitlist Data Availability Code'].value_counts()"
   ]
  },
  {
   "cell_type": "markdown",
   "metadata": {},
   "source": [
    "### 95% C.I. (Upper Limit) For PPPW\n",
    "Data type: float64\n",
    "\n",
    "Value count: 7178\n",
    "\n",
    "Number of unique values: 766\n",
    "\n",
    "Percent unique values: 0.001702\n",
    "\n",
    "Ranges of values: 0 - \n",
    "\n",
    "Length of values: 1 - 4\n",
    "\n",
    "Description: Lists the upper confident interval limit (95%) for Percentage of Prevalent Patients Waitlisted (PPPW) rate per 100 patient-years. The PPPW measure tracks the percentage of patients at each dialysis facility who were on the kidney or kidney-pancreas transplant waiting list. Results are averaged across patients prevalent on the last day of each month during the reporting year, adjusted for age."
   ]
  },
  {
   "cell_type": "code",
   "execution_count": 167,
   "metadata": {},
   "outputs": [
    {
     "data": {
      "text/plain": [
       "{3, 4}"
      ]
     },
     "execution_count": 167,
     "metadata": {},
     "output_type": "execute_result"
    }
   ],
   "source": [
    "set([(len(str(num))) for num in df['95% C.I. (Upper Limit) For PPPW']])"
   ]
  },
  {
   "cell_type": "markdown",
   "metadata": {},
   "source": [
    "### 95% C.I. (Lower Limit) For PPPW\n",
    "Data type: float64\n",
    "\n",
    "Value count: 7178\n",
    "\n",
    "Number of unique values: 355\n",
    "\n",
    "Percent unique values: 0.000789\n",
    "\n",
    "Ranges of values: 0.1 - \n",
    "\n",
    "Length of values: 1 - 4\n",
    "\n",
    "Description: Lists the lower confident interval limit (95%) for Percentage of Prevalent Patients Waitlisted (PPPW) rate per 100 patient-years. The PPPW measure tracks the percentage of patients at each dialysis facility who were on the kidney or kidney-pancreas transplant waiting list. Results are averaged across patients prevalent on the last day of each month during the reporting year, adjusted for age."
   ]
  },
  {
   "cell_type": "code",
   "execution_count": 168,
   "metadata": {},
   "outputs": [
    {
     "data": {
      "text/plain": [
       "{3, 4}"
      ]
     },
     "execution_count": 168,
     "metadata": {},
     "output_type": "execute_result"
    }
   ],
   "source": [
    "set([(len(str(num))) for num in df['95% C.I. (Lower Limit) For PPPW']])"
   ]
  },
  {
   "cell_type": "markdown",
   "metadata": {},
   "source": [
    "### Number Of Patients For PPPW\n",
    "Data type: float64\n",
    "\n",
    "Value count: 7555\n",
    "\n",
    "Number of unique values: 269\n",
    "\n",
    "Percent unique values: 0.000598\n",
    "\n",
    "Ranges of values: 0 - \n",
    "\n",
    "Length of values: 1 - 3\n",
    "\n",
    "Description: Lists the number of patients included in the facility's percentage of prevalent patients waitlisted (PPPW). The PPPW measure tracks the percentage of patients at each dialysis facility who were on the kidney or kidney-pancreas transplant waiting list. Results are averaged across patients prevalent on the last day of each month during the reporting year, adjusted for age."
   ]
  },
  {
   "cell_type": "code",
   "execution_count": 169,
   "metadata": {},
   "outputs": [
    {
     "data": {
      "text/plain": [
       "{3, 4, 5}"
      ]
     },
     "execution_count": 169,
     "metadata": {},
     "output_type": "execute_result"
    }
   ],
   "source": [
    "set([(len(str(num))) for num in df['Number Of Patients For PPPW']])"
   ]
  },
  {
   "cell_type": "markdown",
   "metadata": {},
   "source": [
    "### Percentage Of Prevalent Patients Waitlisted\n",
    "Data type: float64\n",
    "\n",
    "Value count: 7178\n",
    "\n",
    "Number of unique values: 571\n",
    "\n",
    "Percent unique values: 0.001269\n",
    "\n",
    "Ranges of values: 0.1 - \n",
    "\n",
    "Length of values: 1 - 4\n",
    "\n",
    "Description: Lists the percentage of prevalent patients waitlisted."
   ]
  },
  {
   "cell_type": "code",
   "execution_count": 170,
   "metadata": {},
   "outputs": [
    {
     "data": {
      "text/plain": [
       "{3, 4}"
      ]
     },
     "execution_count": 170,
     "metadata": {},
     "output_type": "execute_result"
    }
   ],
   "source": [
    "set([(len(str(num))) for num in df['Percentage Of Prevalent Patients Waitlisted']])"
   ]
  },
  {
   "cell_type": "markdown",
   "metadata": {},
   "source": [
    "### Location\n",
    "Data type: object \n",
    "\n",
    "Value count: 7162\n",
    "\n",
    "Number of unique values: 7043 \n",
    "\n",
    "Percent unique values: 0.015653\n",
    "\n",
    "Ranges of values: \n",
    "\n",
    "Length of values: 3, 23, 25 - 29\n",
    "\n",
    "Description: Lists the coorinate location that corresponds to the facility listed."
   ]
  },
  {
   "cell_type": "code",
   "execution_count": 171,
   "metadata": {},
   "outputs": [
    {
     "data": {
      "text/plain": [
       "{3, 23, 25, 26, 27, 28, 29}"
      ]
     },
     "execution_count": 171,
     "metadata": {},
     "output_type": "execute_result"
    }
   ],
   "source": [
    "set([(len(str(num))) for num in df['Location']])"
   ]
  },
  {
   "cell_type": "markdown",
   "metadata": {},
   "source": [
    "# Data Cleaning"
   ]
  },
  {
   "cell_type": "markdown",
   "metadata": {},
   "source": [
    "## Fill NA"
   ]
  },
  {
   "cell_type": "code",
   "execution_count": 172,
   "metadata": {},
   "outputs": [],
   "source": [
    "df['Chain Organization'] = df['Chain Organization'].fillna('INDEPENDENT')"
   ]
  },
  {
   "cell_type": "code",
   "execution_count": 173,
   "metadata": {},
   "outputs": [],
   "source": [
    "fillwithmean = ['Five Star', \n",
    "                'Percentage Of Medicare Patients With Hgb < 10 g/dL', \n",
    "                'Percentage Of Medicare Patients With Hgb > 12 g/dL', \n",
    "                'Number Of Dialysis Patients With Hgb Data', \n",
    "                'Number Of Patients Included In The Transfusion Summary', \n",
    "                'Percent Of Adult HD Patients With Kt/V >= 1.2', \n",
    "                'Number Of Adult HD Patients With Kt/V Data', \n",
    "                'Number Of Adult HD Patient-Months With Kt/V Data', \n",
    "                'Number Of Adult PD Patients With Kt/V Data',  \n",
    "                'Number Of Pediatric HD Patients With Kt/V Data', \n",
    "                'Number Of Patients In Hypercalcemia Summary', \n",
    "                'Number Of Patient-Months In Hypercalcemia Summary', \n",
    "                'Percentage Of Adult Patients With Hypercalcemia (Serum Calcium Greater Than 10.2 mg/dL)', \n",
    "                'Number Of Patients In Serum Phosphorus Summary', \n",
    "                'Number Of Patient-Months In Serum Phosphorus Summary', \n",
    "                'Percentage Of Adult Patients With Serum Phosphorus Less Than 3.5 mg/dL', \n",
    "                'Percentage Of Adult Patients With Serum Phosphorus Between 3.5 - 4.5 mg/dL', \n",
    "                'Percentage Of Adult Patients With Serum Phosphorus Between 4.6 - 5.5 mg/dL', \n",
    "                'Percentage Of Adult Patients With Serum Phosphorus Between 5.6 - 7.0 mg/dL', \n",
    "                'Percentage Of Adult Patients With Serum Phosphorus Greater Than 7.0 mg/dL', \n",
    "                'Number Of Patients Included In Hospitalization Summary', \n",
    "                'Number Of Hospitalizations Included In Hospital Readmission Summary', \n",
    "                'Number Of Patients Included In Survival Summary', \n",
    "                'Mortality Rate (Facility)', \n",
    "                'Mortality Rate: Upper Confidence Limit (97.5%)', \n",
    "                'Mortality Rate: Lower Confidence Limit (2.5%)', \n",
    "                'Readmission Rate (Facility)', \n",
    "                'Readmission Rate: Upper Confidence Limit (97.5%)', \n",
    "                'Readmission Rate: Lower Confidence Limit (2.5%)', \n",
    "                'Hospitalization Rate (Facility)', \n",
    "                'Hospitalization Rate: Upper Confidence Limit (97.5%)', \n",
    "                'Hospitalization Rate: Lower Confidence Limit (2.5%)', \n",
    "                'Number Of Pediatric PD Patients With Kt/V Data', \n",
    "                'Standard Infection Ratio', \n",
    "                'SIR: Upper Confidence Limit (97.5%)', \n",
    "                'SIR: Lower Confidence Limit (2.5%)', \n",
    "                'Transfusion Rate (Facility)', \n",
    "                'Transfusion Rate: Upper Confidence Limit (97.5%)', \n",
    "                'Transfusion Rate: Lower Confidence Limit (2.5%)', \n",
    "                'Number Of Patients Included In Fistula Summary', \n",
    "                'Fistula Rate (Facility)', \n",
    "                'Fistula Rate: Upper Confidence Limit (97.5%)', \n",
    "                'Fistula Rate: Lower Confidence Limit (2.5%)', \n",
    "                'Number Of Patients In Long Term Catheter Summary', \n",
    "                'Number Of Patient-Months In Long Term Catheter Summary', \n",
    "                'Percentage Of Adult Patients With Long Term Catheter In Use', \n",
    "                'Number Of Patients In nPCR Summary', \n",
    "                '95% C.I. (Upper Limit) For SWR', \n",
    "                '95% C.I. (Lower Limit) For SWR', \n",
    "                'Number Of Patients In This Facility For SWR', \n",
    "                'Standardized First Kidney Transplant Waitlist Ratio', \n",
    "                '95% C.I. (Upper Limit) For PPPW', \n",
    "                '95% C.I. (Lower Limit) For PPPW', \n",
    "                'Number Of Patients For PPPW', \n",
    "                'Percentage Of Prevalent Patients Waitlisted']"
   ]
  },
  {
   "cell_type": "code",
   "execution_count": 174,
   "metadata": {},
   "outputs": [],
   "source": [
    "df[fillwithmean] = df[fillwithmean].fillna(df[fillwithmean].mean())"
   ]
  },
  {
   "cell_type": "code",
   "execution_count": 175,
   "metadata": {},
   "outputs": [],
   "source": [
    "dropcolumns = ['Five Star Data Availability Code', \n",
    "               'Address Line 2', \n",
    "               'Hgb < 10 Data Availability Code', \n",
    "               'Hgb > 12 Data Availability Code', \n",
    "               'Patient Transfusion Data Availability Code', \n",
    "               'Adult HD Kt/V Data Availability Code',\n",
    "               'Percentage Of Adult PD PTS With Kt/V >= 1.7', \n",
    "               'Percentage Of Pediatric HD Patients With Kt/V >= 1.2', \n",
    "               'Number Of Adult PD Patient-Months With Kt/V Data', \n",
    "               'Number Of Pediatric HD Patient-Months With Kt/V Data', \n",
    "               'Hypercalcemia Data Availability Code', \n",
    "               'Serum Phosphorus Data Availability Code', \n",
    "               'Patient Hospitalization Data Availability Code', \n",
    "               'Patient Hospital Readmission Data Availability Code', \n",
    "               'Patient Survival Data Availability Code', \n",
    "               'Number Of Pediatric PD Patient-Months With Kt/V Data', \n",
    "               'Percentage Of Pediatric PD Patients With Kt/V >= 1.8', \n",
    "               'Patient Infection Data Availability Code', \n",
    "               'Fistula Data Availability Code', \n",
    "               'Long Term Catheter Data Availability Code', \n",
    "               'Number Of Patient-Months In nPCR Summary', \n",
    "               'Percentage Of Pediatric HD Patients With nPCR', \n",
    "               'Patient Transplant Waitlist Data Availability Code', \n",
    "               'Patient Prevalent Transplant Waitlist Data Availability Code', \n",
    "               'Location']\n",
    "               "
   ]
  },
  {
   "cell_type": "code",
   "execution_count": 176,
   "metadata": {},
   "outputs": [],
   "source": [
    "df.drop(df[dropcolumns], axis=1, inplace=True)"
   ]
  },
  {
   "cell_type": "code",
   "execution_count": 177,
   "metadata": {},
   "outputs": [],
   "source": [
    "backfill = ['Patient Transfusion Category Text', \n",
    "                'Adult PD Kt/V Data Availability Code', \n",
    "                'Pediatric HD Kt/V Data Availability Code', \n",
    "                'Patient Hospitalization Category Text', \n",
    "                'Patient Hospital Readmission Category Text', \n",
    "                'Patient Survival Category Text', \n",
    "                'Pediatric PD Kt/V Data Availability Code', \n",
    "                'Patient Infection Category Text', \n",
    "                'Fistula Category Text', \n",
    "                'nPCR Data Availability Code', \n",
    "                'SWR Category Text', \n",
    "                'PPPW Category Text']\n"
   ]
  },
  {
   "cell_type": "code",
   "execution_count": 178,
   "metadata": {},
   "outputs": [],
   "source": [
    "df[backfill] = df[backfill].fillna(method='bfill')"
   ]
  },
  {
   "cell_type": "code",
   "execution_count": 179,
   "metadata": {
    "scrolled": true
   },
   "outputs": [
    {
     "data": {
      "text/plain": [
       "False"
      ]
     },
     "execution_count": 179,
     "metadata": {},
     "output_type": "execute_result"
    }
   ],
   "source": [
    "df.isnull().values.any()"
   ]
  },
  {
   "cell_type": "markdown",
   "metadata": {},
   "source": [
    "## Change dtypes"
   ]
  },
  {
   "cell_type": "code",
   "execution_count": 180,
   "metadata": {},
   "outputs": [
    {
     "data": {
      "text/plain": [
       "0    01/01/2015 - 12/31/2018\n",
       "1    01/01/2015 - 12/31/2018\n",
       "2    01/01/2015 - 12/31/2018\n",
       "3    01/01/2015 - 12/31/2018\n",
       "4    01/01/2015 - 12/31/2018\n",
       "Name: Five Star Date, dtype: object"
      ]
     },
     "execution_count": 180,
     "metadata": {},
     "output_type": "execute_result"
    }
   ],
   "source": [
    "df['Five Star Date'].head()"
   ]
  },
  {
   "cell_type": "code",
   "execution_count": 181,
   "metadata": {},
   "outputs": [],
   "source": [
    "isdateframe = ['Five Star Date', 'Claims Date', 'CROWNWeb Date', 'STrR Date', 'SHR Date', 'SRR Date', 'SMR Date', 'SIR Date', 'SWR Date']"
   ]
  },
  {
   "cell_type": "code",
   "execution_count": 182,
   "metadata": {},
   "outputs": [],
   "source": [
    "isdate = ['Certification Or Recertification Date']"
   ]
  },
  {
   "cell_type": "code",
   "execution_count": 183,
   "metadata": {},
   "outputs": [],
   "source": [
    "df[isdate] = df[isdate].astype('datetime64[ns]')"
   ]
  },
  {
   "cell_type": "code",
   "execution_count": 184,
   "metadata": {},
   "outputs": [
    {
     "name": "stdout",
     "output_type": "stream",
     "text": [
      "<class 'pandas.core.frame.DataFrame'>\n",
      "RangeIndex: 7626 entries, 0 to 7625\n",
      "Data columns (total 60 columns):\n",
      " #   Column                                                                                   Non-Null Count  Dtype         \n",
      "---  ------                                                                                   --------------  -----         \n",
      " 0   Provider Number                                                                          7626 non-null   int64         \n",
      " 1   Network                                                                                  7626 non-null   int64         \n",
      " 2   Facility Name                                                                            7626 non-null   object        \n",
      " 3   Five Star Date                                                                           7626 non-null   object        \n",
      " 4   Five Star                                                                                7626 non-null   float64       \n",
      " 5   Address Line 1                                                                           7626 non-null   object        \n",
      " 6   City                                                                                     7626 non-null   object        \n",
      " 7   State                                                                                    7626 non-null   object        \n",
      " 8   Zip                                                                                      7626 non-null   int64         \n",
      " 9   County                                                                                   7626 non-null   object        \n",
      " 10  Phone Number                                                                             7626 non-null   object        \n",
      " 11  Profit Or Non-Profit                                                                     7626 non-null   object        \n",
      " 12  Chain Owned                                                                              7626 non-null   object        \n",
      " 13  Chain Organization                                                                       7626 non-null   object        \n",
      " 14  Late Shift                                                                               7626 non-null   int64         \n",
      " 15  Number Of Dialysis Stations                                                              7626 non-null   int64         \n",
      " 16  Offers In-Center Hemodialysis                                                            7626 non-null   int64         \n",
      " 17  Offers Peritoneal Dialysis                                                               7626 non-null   int64         \n",
      " 18  Offers Home Hemodialysis Training                                                        7626 non-null   int64         \n",
      " 19  Certification Or Recertification Date                                                    7626 non-null   datetime64[ns]\n",
      " 20  Claims Date                                                                              7626 non-null   object        \n",
      " 21  CROWNWeb Date                                                                            7626 non-null   object        \n",
      " 22  STrR Date                                                                                7626 non-null   object        \n",
      " 23  Percentage Of Medicare Patients With Hgb < 10 g/dL                                       7626 non-null   float64       \n",
      " 24  Percentage Of Medicare Patients With Hgb > 12 g/dL                                       7626 non-null   float64       \n",
      " 25  Number Of Dialysis Patients With Hgb Data                                                7626 non-null   float64       \n",
      " 26  Patient Transfusion Category Text                                                        7626 non-null   object        \n",
      " 27  Number Of Patients Included In The Transfusion Summary                                   7626 non-null   float64       \n",
      " 28  Percent Of Adult HD Patients With Kt/V >= 1.2                                            7626 non-null   float64       \n",
      " 29  Adult PD Kt/V Data Availability Code                                                     7626 non-null   float64       \n",
      " 30  Pediatric HD Kt/V Data Availability Code                                                 7626 non-null   float64       \n",
      " 31  Number Of Adult HD Patients With Kt/V Data                                               7626 non-null   float64       \n",
      " 32  Number Of Adult HD Patient-Months With Kt/V Data                                         7626 non-null   float64       \n",
      " 33  Number Of Adult PD Patients With Kt/V Data                                               7626 non-null   float64       \n",
      " 34  Number Of Pediatric HD Patients With Kt/V Data                                           7626 non-null   float64       \n",
      " 35  Number Of Patients In Hypercalcemia Summary                                              7626 non-null   float64       \n",
      " 36  Number Of Patient-Months In Hypercalcemia Summary                                        7626 non-null   float64       \n",
      " 37  Percentage Of Adult Patients With Hypercalcemia (Serum Calcium Greater Than 10.2 mg/dL)  7626 non-null   float64       \n",
      " 38  Number Of Patients In Serum Phosphorus Summary                                           7626 non-null   float64       \n",
      " 39  Number Of Patient-Months In Serum Phosphorus Summary                                     7626 non-null   float64       \n",
      " 40  Percentage Of Adult Patients With Serum Phosphorus Less Than 3.5 mg/dL                   7626 non-null   float64       \n",
      " 41  Percentage Of Adult Patients With Serum Phosphorus Between 3.5 - 4.5 mg/dL               7626 non-null   float64       \n",
      " 42  Percentage Of Adult Patients With Serum Phosphorus Between 4.6 - 5.5 mg/dL               7626 non-null   float64       \n",
      " 43  Percentage Of Adult Patients With Serum Phosphorus Between 5.6 - 7.0 mg/dL               7626 non-null   float64       \n",
      " 44  Percentage Of Adult Patients With Serum Phosphorus Greater Than 7.0 mg/dL                7626 non-null   float64       \n",
      " 45  SHR Date                                                                                 7626 non-null   object        \n",
      " 46  SRR Date                                                                                 7626 non-null   object        \n",
      " 47  SMR Date                                                                                 7626 non-null   object        \n",
      " 48  Patient Hospitalization Category Text                                                    7626 non-null   object        \n",
      " 49  Patient Hospital Readmission Category Text                                               7626 non-null   object        \n",
      " 50  Patient Survival Category Text                                                           7626 non-null   object        \n",
      " 51  Number Of Patients Included In Hospitalization Summary                                   7626 non-null   float64       \n",
      " 52  Number Of Hospitalizations Included In Hospital Readmission Summary                      7626 non-null   float64       \n",
      " 53  Number Of Patients Included In Survival Summary                                          7626 non-null   float64       \n",
      " 54  Mortality Rate (Facility)                                                                7626 non-null   float64       \n",
      " 55  Mortality Rate: Upper Confidence Limit (97.5%)                                           7626 non-null   float64       \n",
      " 56  Mortality Rate: Lower Confidence Limit (2.5%)                                            7626 non-null   float64       \n",
      " 57  Readmission Rate (Facility)                                                              7626 non-null   float64       \n",
      " 58  Readmission Rate: Upper Confidence Limit (97.5%)                                         7626 non-null   float64       \n",
      " 59  Readmission Rate: Lower Confidence Limit (2.5%)                                          7626 non-null   float64       \n",
      "dtypes: datetime64[ns](1), float64(31), int64(8), object(20)\n",
      "memory usage: 3.5+ MB\n"
     ]
    }
   ],
   "source": [
    "df.iloc[:, :60].info()"
   ]
  },
  {
   "cell_type": "code",
   "execution_count": 185,
   "metadata": {
    "scrolled": true
   },
   "outputs": [
    {
     "name": "stdout",
     "output_type": "stream",
     "text": [
      "<class 'pandas.core.frame.DataFrame'>\n",
      "RangeIndex: 7626 entries, 0 to 7625\n",
      "Data columns (total 34 columns):\n",
      " #   Column                                                       Non-Null Count  Dtype  \n",
      "---  ------                                                       --------------  -----  \n",
      " 0   Hospitalization Rate (Facility)                              7626 non-null   float64\n",
      " 1   Hospitalization Rate: Upper Confidence Limit (97.5%)         7626 non-null   float64\n",
      " 2   Hospitalization Rate: Lower Confidence Limit (2.5%)          7626 non-null   float64\n",
      " 3   Number Of Pediatric PD Patients With Kt/V Data               7626 non-null   float64\n",
      " 4   Pediatric PD Kt/V Data Availability Code                     7626 non-null   float64\n",
      " 5   SIR Date                                                     7626 non-null   object \n",
      " 6   Patient Infection Category Text                              7626 non-null   object \n",
      " 7   Standard Infection Ratio                                     7626 non-null   float64\n",
      " 8   SIR: Upper Confidence Limit (97.5%)                          7626 non-null   float64\n",
      " 9   SIR: Lower Confidence Limit (2.5%)                           7626 non-null   float64\n",
      " 10  Transfusion Rate (Facility)                                  7626 non-null   float64\n",
      " 11  Transfusion Rate: Upper Confidence Limit (97.5%)             7626 non-null   float64\n",
      " 12  Transfusion Rate: Lower Confidence Limit (2.5%)              7626 non-null   float64\n",
      " 13  Fistula Category Text                                        7626 non-null   object \n",
      " 14  Number Of Patients Included In Fistula Summary               7626 non-null   float64\n",
      " 15  Fistula Rate (Facility)                                      7626 non-null   float64\n",
      " 16  Fistula Rate: Upper Confidence Limit (97.5%)                 7626 non-null   float64\n",
      " 17  Fistula Rate: Lower Confidence Limit (2.5%)                  7626 non-null   float64\n",
      " 18  Number Of Patients In Long Term Catheter Summary             7626 non-null   float64\n",
      " 19  Number Of Patient-Months In Long Term Catheter Summary       7626 non-null   float64\n",
      " 20  Percentage Of Adult Patients With Long Term Catheter In Use  7626 non-null   float64\n",
      " 21  Number Of Patients In nPCR Summary                           7626 non-null   float64\n",
      " 22  nPCR Data Availability Code                                  7626 non-null   float64\n",
      " 23  SWR Date                                                     7626 non-null   object \n",
      " 24  SWR Category Text                                            7626 non-null   object \n",
      " 25  95% C.I. (Upper Limit) For SWR                               7626 non-null   float64\n",
      " 26  95% C.I. (Lower Limit) For SWR                               7626 non-null   float64\n",
      " 27  Number Of Patients In This Facility For SWR                  7626 non-null   float64\n",
      " 28  Standardized First Kidney Transplant Waitlist Ratio          7626 non-null   float64\n",
      " 29  PPPW Category Text                                           7626 non-null   object \n",
      " 30  95% C.I. (Upper Limit) For PPPW                              7626 non-null   float64\n",
      " 31  95% C.I. (Lower Limit) For PPPW                              7626 non-null   float64\n",
      " 32  Number Of Patients For PPPW                                  7626 non-null   float64\n",
      " 33  Percentage Of Prevalent Patients Waitlisted                  7626 non-null   float64\n",
      "dtypes: float64(28), object(6)\n",
      "memory usage: 2.0+ MB\n"
     ]
    }
   ],
   "source": [
    "df.iloc[:, 60:].info()"
   ]
  },
  {
   "cell_type": "markdown",
   "metadata": {},
   "source": [
    "## Fix value format"
   ]
  },
  {
   "cell_type": "code",
   "execution_count": 186,
   "metadata": {},
   "outputs": [],
   "source": [
    "df['Zip'] = df['Zip'].astype(str).str.zfill(5)"
   ]
  },
  {
   "cell_type": "code",
   "execution_count": 187,
   "metadata": {},
   "outputs": [
    {
     "data": {
      "text/plain": [
       "{5}"
      ]
     },
     "execution_count": 187,
     "metadata": {},
     "output_type": "execute_result"
    }
   ],
   "source": [
    "set([(len(str(num))) for num in df['Zip']])"
   ]
  },
  {
   "cell_type": "code",
   "execution_count": 188,
   "metadata": {},
   "outputs": [],
   "source": [
    "df['Five Star'] = df['Five Star'].astype('int64')"
   ]
  },
  {
   "cell_type": "code",
   "execution_count": 197,
   "metadata": {},
   "outputs": [
    {
     "data": {
      "text/plain": [
       "array(['Yes', 'No'], dtype=object)"
      ]
     },
     "execution_count": 197,
     "metadata": {},
     "output_type": "execute_result"
    }
   ],
   "source": [
    "df['Chain Owned'].unique()"
   ]
  },
  {
   "cell_type": "code",
   "execution_count": 200,
   "metadata": {},
   "outputs": [],
   "source": [
    "df['Chain Owned'] = df['Chain Owned'].replace(to_replace=['No', 'Yes'], value=[0, 1])"
   ]
  },
  {
   "cell_type": "code",
   "execution_count": 206,
   "metadata": {},
   "outputs": [],
   "source": [
    "df['Profit Or Non-Profit'] = df['Profit Or Non-Profit'].replace(to_replace=['Non-Profit', 'Profit'], value=[0, 1])"
   ]
  },
  {
   "cell_type": "code",
   "execution_count": 208,
   "metadata": {
    "scrolled": false
   },
   "outputs": [
    {
     "data": {
      "text/html": [
       "<div>\n",
       "<style scoped>\n",
       "    .dataframe tbody tr th:only-of-type {\n",
       "        vertical-align: middle;\n",
       "    }\n",
       "\n",
       "    .dataframe tbody tr th {\n",
       "        vertical-align: top;\n",
       "    }\n",
       "\n",
       "    .dataframe thead th {\n",
       "        text-align: right;\n",
       "    }\n",
       "</style>\n",
       "<table border=\"1\" class=\"dataframe\">\n",
       "  <thead>\n",
       "    <tr style=\"text-align: right;\">\n",
       "      <th></th>\n",
       "      <th>0</th>\n",
       "      <th>1</th>\n",
       "      <th>2</th>\n",
       "      <th>3</th>\n",
       "      <th>4</th>\n",
       "    </tr>\n",
       "  </thead>\n",
       "  <tbody>\n",
       "    <tr>\n",
       "      <th>Provider Number</th>\n",
       "      <td>42592</td>\n",
       "      <td>52761</td>\n",
       "      <td>72549</td>\n",
       "      <td>82524</td>\n",
       "      <td>82527</td>\n",
       "    </tr>\n",
       "    <tr>\n",
       "      <th>Network</th>\n",
       "      <td>13</td>\n",
       "      <td>18</td>\n",
       "      <td>1</td>\n",
       "      <td>4</td>\n",
       "      <td>4</td>\n",
       "    </tr>\n",
       "    <tr>\n",
       "      <th>Facility Name</th>\n",
       "      <td>DCI - LITTLE ROCK RENAL SERVICES LLC</td>\n",
       "      <td>DAVITA-PREMIER DIALYSIS CENTER</td>\n",
       "      <td>WALLINGFORD DIALYSIS CARE LLC</td>\n",
       "      <td>DSI LAUREL DIALYSIS, LLC</td>\n",
       "      <td>FRESENIUS MEDICAL CARE SOUTHERN DELAWARE, LLC</td>\n",
       "    </tr>\n",
       "    <tr>\n",
       "      <th>Five Star Date</th>\n",
       "      <td>01/01/2015 - 12/31/2018</td>\n",
       "      <td>01/01/2015 - 12/31/2018</td>\n",
       "      <td>01/01/2015 - 12/31/2018</td>\n",
       "      <td>01/01/2015 - 12/31/2018</td>\n",
       "      <td>01/01/2015 - 12/31/2018</td>\n",
       "    </tr>\n",
       "    <tr>\n",
       "      <th>Five Star</th>\n",
       "      <td>2</td>\n",
       "      <td>3</td>\n",
       "      <td>5</td>\n",
       "      <td>4</td>\n",
       "      <td>5</td>\n",
       "    </tr>\n",
       "    <tr>\n",
       "      <th>Address Line 1</th>\n",
       "      <td>1910 JOHN BARROW RD</td>\n",
       "      <td>7612 ATLANTIC AVENUE</td>\n",
       "      <td>720 N MAIN STREET EXT</td>\n",
       "      <td>LAUREL SQUARE SHOPPING CENTER</td>\n",
       "      <td>9115 ANTIQUE ALLEY</td>\n",
       "    </tr>\n",
       "    <tr>\n",
       "      <th>City</th>\n",
       "      <td>LITTLE ROCK</td>\n",
       "      <td>CUDAHY</td>\n",
       "      <td>WALLINGFORD</td>\n",
       "      <td>LAUREL</td>\n",
       "      <td>BRIDGEVILLE</td>\n",
       "    </tr>\n",
       "    <tr>\n",
       "      <th>State</th>\n",
       "      <td>AR</td>\n",
       "      <td>CA</td>\n",
       "      <td>CT</td>\n",
       "      <td>DE</td>\n",
       "      <td>DE</td>\n",
       "    </tr>\n",
       "    <tr>\n",
       "      <th>Zip</th>\n",
       "      <td>72204</td>\n",
       "      <td>90201</td>\n",
       "      <td>06492</td>\n",
       "      <td>19956</td>\n",
       "      <td>19933</td>\n",
       "    </tr>\n",
       "    <tr>\n",
       "      <th>County</th>\n",
       "      <td>PULASKI</td>\n",
       "      <td>LOS ANGELES</td>\n",
       "      <td>NEW HAVEN</td>\n",
       "      <td>SUSSEX</td>\n",
       "      <td>SUSSEX</td>\n",
       "    </tr>\n",
       "    <tr>\n",
       "      <th>Phone Number</th>\n",
       "      <td>(501) 227-0983</td>\n",
       "      <td>(323) 562-5511</td>\n",
       "      <td>(203) 265-0667</td>\n",
       "      <td>(302) 715-3060</td>\n",
       "      <td>(302) 337-8789</td>\n",
       "    </tr>\n",
       "    <tr>\n",
       "      <th>Profit Or Non-Profit</th>\n",
       "      <td>0</td>\n",
       "      <td>1</td>\n",
       "      <td>1</td>\n",
       "      <td>1</td>\n",
       "      <td>1</td>\n",
       "    </tr>\n",
       "    <tr>\n",
       "      <th>Chain Owned</th>\n",
       "      <td>1</td>\n",
       "      <td>1</td>\n",
       "      <td>1</td>\n",
       "      <td>1</td>\n",
       "      <td>1</td>\n",
       "    </tr>\n",
       "    <tr>\n",
       "      <th>Chain Organization</th>\n",
       "      <td>DIALYSIS CLINIC, INC.</td>\n",
       "      <td>DAVITA</td>\n",
       "      <td>AMERICAN RENAL ASSOCIATES</td>\n",
       "      <td>US RENAL CARE, INC.</td>\n",
       "      <td>FRESENIUS MEDICAL CARE</td>\n",
       "    </tr>\n",
       "    <tr>\n",
       "      <th>Late Shift</th>\n",
       "      <td>0</td>\n",
       "      <td>0</td>\n",
       "      <td>0</td>\n",
       "      <td>0</td>\n",
       "      <td>0</td>\n",
       "    </tr>\n",
       "    <tr>\n",
       "      <th>Number Of Dialysis Stations</th>\n",
       "      <td>18</td>\n",
       "      <td>36</td>\n",
       "      <td>13</td>\n",
       "      <td>16</td>\n",
       "      <td>11</td>\n",
       "    </tr>\n",
       "    <tr>\n",
       "      <th>Offers In-Center Hemodialysis</th>\n",
       "      <td>1</td>\n",
       "      <td>1</td>\n",
       "      <td>1</td>\n",
       "      <td>1</td>\n",
       "      <td>1</td>\n",
       "    </tr>\n",
       "    <tr>\n",
       "      <th>Offers Peritoneal Dialysis</th>\n",
       "      <td>1</td>\n",
       "      <td>1</td>\n",
       "      <td>1</td>\n",
       "      <td>0</td>\n",
       "      <td>1</td>\n",
       "    </tr>\n",
       "    <tr>\n",
       "      <th>Offers Home Hemodialysis Training</th>\n",
       "      <td>1</td>\n",
       "      <td>0</td>\n",
       "      <td>1</td>\n",
       "      <td>0</td>\n",
       "      <td>1</td>\n",
       "    </tr>\n",
       "    <tr>\n",
       "      <th>Certification Or Recertification Date</th>\n",
       "      <td>2015-10-20 00:00:00</td>\n",
       "      <td>1995-04-11 00:00:00</td>\n",
       "      <td>2016-01-06 00:00:00</td>\n",
       "      <td>2015-09-25 00:00:00</td>\n",
       "      <td>2017-10-30 00:00:00</td>\n",
       "    </tr>\n",
       "    <tr>\n",
       "      <th>Claims Date</th>\n",
       "      <td>07/01/2018 - 06/30/2019</td>\n",
       "      <td>07/01/2018 - 06/30/2019</td>\n",
       "      <td>07/01/2018 - 06/30/2019</td>\n",
       "      <td>07/01/2018 - 06/30/2019</td>\n",
       "      <td>07/01/2018 - 06/30/2019</td>\n",
       "    </tr>\n",
       "    <tr>\n",
       "      <th>CROWNWeb Date</th>\n",
       "      <td>07/01/2018 - 06/30/2019</td>\n",
       "      <td>07/01/2018 - 06/30/2019</td>\n",
       "      <td>07/01/2018 - 06/30/2019</td>\n",
       "      <td>07/01/2018 - 06/30/2019</td>\n",
       "      <td>07/01/2018 - 06/30/2019</td>\n",
       "    </tr>\n",
       "    <tr>\n",
       "      <th>STrR Date</th>\n",
       "      <td>01/01/2018 - 12/31/2018</td>\n",
       "      <td>01/01/2018 - 12/31/2018</td>\n",
       "      <td>01/01/2018 - 12/31/2018</td>\n",
       "      <td>01/01/2018 - 12/31/2018</td>\n",
       "      <td>01/01/2018 - 12/31/2018</td>\n",
       "    </tr>\n",
       "    <tr>\n",
       "      <th>Percentage Of Medicare Patients With Hgb &lt; 10 g/dL</th>\n",
       "      <td>21</td>\n",
       "      <td>18</td>\n",
       "      <td>43</td>\n",
       "      <td>20</td>\n",
       "      <td>25</td>\n",
       "    </tr>\n",
       "    <tr>\n",
       "      <th>Percentage Of Medicare Patients With Hgb &gt; 12 g/dL</th>\n",
       "      <td>0</td>\n",
       "      <td>0</td>\n",
       "      <td>0</td>\n",
       "      <td>0</td>\n",
       "      <td>0</td>\n",
       "    </tr>\n",
       "    <tr>\n",
       "      <th>Number Of Dialysis Patients With Hgb Data</th>\n",
       "      <td>48</td>\n",
       "      <td>79</td>\n",
       "      <td>14</td>\n",
       "      <td>20</td>\n",
       "      <td>24</td>\n",
       "    </tr>\n",
       "    <tr>\n",
       "      <th>Patient Transfusion Category Text</th>\n",
       "      <td>As Expected</td>\n",
       "      <td>Worse than Expected</td>\n",
       "      <td>As Expected</td>\n",
       "      <td>As Expected</td>\n",
       "      <td>As Expected</td>\n",
       "    </tr>\n",
       "    <tr>\n",
       "      <th>Number Of Patients Included In The Transfusion Summary</th>\n",
       "      <td>65</td>\n",
       "      <td>147</td>\n",
       "      <td>23</td>\n",
       "      <td>21</td>\n",
       "      <td>30</td>\n",
       "    </tr>\n",
       "    <tr>\n",
       "      <th>Percent Of Adult HD Patients With Kt/V &gt;= 1.2</th>\n",
       "      <td>93</td>\n",
       "      <td>99</td>\n",
       "      <td>96</td>\n",
       "      <td>98</td>\n",
       "      <td>98</td>\n",
       "    </tr>\n",
       "    <tr>\n",
       "      <th>Adult PD Kt/V Data Availability Code</th>\n",
       "      <td>199</td>\n",
       "      <td>199</td>\n",
       "      <td>199</td>\n",
       "      <td>257</td>\n",
       "      <td>199</td>\n",
       "    </tr>\n",
       "    <tr>\n",
       "      <th>Pediatric HD Kt/V Data Availability Code</th>\n",
       "      <td>259</td>\n",
       "      <td>259</td>\n",
       "      <td>259</td>\n",
       "      <td>259</td>\n",
       "      <td>259</td>\n",
       "    </tr>\n",
       "    <tr>\n",
       "      <th>Number Of Adult HD Patients With Kt/V Data</th>\n",
       "      <td>83</td>\n",
       "      <td>226</td>\n",
       "      <td>36</td>\n",
       "      <td>29</td>\n",
       "      <td>47</td>\n",
       "    </tr>\n",
       "    <tr>\n",
       "      <th>Number Of Adult HD Patient-Months With Kt/V Data</th>\n",
       "      <td>691</td>\n",
       "      <td>2004</td>\n",
       "      <td>305</td>\n",
       "      <td>275</td>\n",
       "      <td>363</td>\n",
       "    </tr>\n",
       "    <tr>\n",
       "      <th>Number Of Adult PD Patients With Kt/V Data</th>\n",
       "      <td>23</td>\n",
       "      <td>8</td>\n",
       "      <td>8</td>\n",
       "      <td>0</td>\n",
       "      <td>6</td>\n",
       "    </tr>\n",
       "    <tr>\n",
       "      <th>Number Of Pediatric HD Patients With Kt/V Data</th>\n",
       "      <td>0</td>\n",
       "      <td>0</td>\n",
       "      <td>0</td>\n",
       "      <td>0</td>\n",
       "      <td>0</td>\n",
       "    </tr>\n",
       "    <tr>\n",
       "      <th>Number Of Patients In Hypercalcemia Summary</th>\n",
       "      <td>103</td>\n",
       "      <td>235</td>\n",
       "      <td>44</td>\n",
       "      <td>29</td>\n",
       "      <td>55</td>\n",
       "    </tr>\n",
       "    <tr>\n",
       "      <th>Number Of Patient-Months In Hypercalcemia Summary</th>\n",
       "      <td>906</td>\n",
       "      <td>2092</td>\n",
       "      <td>367</td>\n",
       "      <td>275</td>\n",
       "      <td>442</td>\n",
       "    </tr>\n",
       "    <tr>\n",
       "      <th>Percentage Of Adult Patients With Hypercalcemia (Serum Calcium Greater Than 10.2 mg/dL)</th>\n",
       "      <td>1</td>\n",
       "      <td>2</td>\n",
       "      <td>1</td>\n",
       "      <td>0</td>\n",
       "      <td>1</td>\n",
       "    </tr>\n",
       "    <tr>\n",
       "      <th>Number Of Patients In Serum Phosphorus Summary</th>\n",
       "      <td>111</td>\n",
       "      <td>235</td>\n",
       "      <td>46</td>\n",
       "      <td>30</td>\n",
       "      <td>55</td>\n",
       "    </tr>\n",
       "    <tr>\n",
       "      <th>Number Of Patient-Months In Serum Phosphorus Summary</th>\n",
       "      <td>963</td>\n",
       "      <td>2133</td>\n",
       "      <td>360</td>\n",
       "      <td>290</td>\n",
       "      <td>455</td>\n",
       "    </tr>\n",
       "    <tr>\n",
       "      <th>Percentage Of Adult Patients With Serum Phosphorus Less Than 3.5 mg/dL</th>\n",
       "      <td>5</td>\n",
       "      <td>7</td>\n",
       "      <td>5</td>\n",
       "      <td>7</td>\n",
       "      <td>7</td>\n",
       "    </tr>\n",
       "    <tr>\n",
       "      <th>Percentage Of Adult Patients With Serum Phosphorus Between 3.5 - 4.5 mg/dL</th>\n",
       "      <td>18</td>\n",
       "      <td>23</td>\n",
       "      <td>31</td>\n",
       "      <td>29</td>\n",
       "      <td>25</td>\n",
       "    </tr>\n",
       "    <tr>\n",
       "      <th>Percentage Of Adult Patients With Serum Phosphorus Between 4.6 - 5.5 mg/dL</th>\n",
       "      <td>22</td>\n",
       "      <td>30</td>\n",
       "      <td>42</td>\n",
       "      <td>42</td>\n",
       "      <td>28</td>\n",
       "    </tr>\n",
       "    <tr>\n",
       "      <th>Percentage Of Adult Patients With Serum Phosphorus Between 5.6 - 7.0 mg/dL</th>\n",
       "      <td>30</td>\n",
       "      <td>19</td>\n",
       "      <td>18</td>\n",
       "      <td>15</td>\n",
       "      <td>28</td>\n",
       "    </tr>\n",
       "    <tr>\n",
       "      <th>Percentage Of Adult Patients With Serum Phosphorus Greater Than 7.0 mg/dL</th>\n",
       "      <td>25</td>\n",
       "      <td>21</td>\n",
       "      <td>4</td>\n",
       "      <td>8</td>\n",
       "      <td>12</td>\n",
       "    </tr>\n",
       "    <tr>\n",
       "      <th>SHR Date</th>\n",
       "      <td>01/01/2018 - 12/31/2018</td>\n",
       "      <td>01/01/2018 - 12/31/2018</td>\n",
       "      <td>01/01/2018 - 12/31/2018</td>\n",
       "      <td>01/01/2018 - 12/31/2018</td>\n",
       "      <td>01/01/2018 - 12/31/2018</td>\n",
       "    </tr>\n",
       "    <tr>\n",
       "      <th>SRR Date</th>\n",
       "      <td>01/01/2018 - 12/31/2018</td>\n",
       "      <td>01/01/2018 - 12/31/2018</td>\n",
       "      <td>01/01/2018 - 12/31/2018</td>\n",
       "      <td>01/01/2018 - 12/31/2018</td>\n",
       "      <td>01/01/2018 - 12/31/2018</td>\n",
       "    </tr>\n",
       "    <tr>\n",
       "      <th>SMR Date</th>\n",
       "      <td>01/01/2015 - 12/31/2018</td>\n",
       "      <td>01/01/2015 - 12/31/2018</td>\n",
       "      <td>01/01/2015 - 12/31/2018</td>\n",
       "      <td>01/01/2015 - 12/31/2018</td>\n",
       "      <td>01/01/2015 - 12/31/2018</td>\n",
       "    </tr>\n",
       "    <tr>\n",
       "      <th>Patient Hospitalization Category Text</th>\n",
       "      <td>As Expected</td>\n",
       "      <td>As Expected</td>\n",
       "      <td>As Expected</td>\n",
       "      <td>As Expected</td>\n",
       "      <td>As Expected</td>\n",
       "    </tr>\n",
       "    <tr>\n",
       "      <th>Patient Hospital Readmission Category Text</th>\n",
       "      <td>As Expected</td>\n",
       "      <td>As Expected</td>\n",
       "      <td>As Expected</td>\n",
       "      <td>As Expected</td>\n",
       "      <td>As Expected</td>\n",
       "    </tr>\n",
       "    <tr>\n",
       "      <th>Patient Survival Category Text</th>\n",
       "      <td>As Expected</td>\n",
       "      <td>As Expected</td>\n",
       "      <td>As Expected</td>\n",
       "      <td>As Expected</td>\n",
       "      <td>As Expected</td>\n",
       "    </tr>\n",
       "    <tr>\n",
       "      <th>Number Of Patients Included In Hospitalization Summary</th>\n",
       "      <td>74</td>\n",
       "      <td>166</td>\n",
       "      <td>31</td>\n",
       "      <td>31</td>\n",
       "      <td>38</td>\n",
       "    </tr>\n",
       "    <tr>\n",
       "      <th>Number Of Hospitalizations Included In Hospital Readmission Summary</th>\n",
       "      <td>100</td>\n",
       "      <td>165</td>\n",
       "      <td>37</td>\n",
       "      <td>42</td>\n",
       "      <td>40</td>\n",
       "    </tr>\n",
       "    <tr>\n",
       "      <th>Number Of Patients Included In Survival Summary</th>\n",
       "      <td>190</td>\n",
       "      <td>797</td>\n",
       "      <td>76</td>\n",
       "      <td>86</td>\n",
       "      <td>39</td>\n",
       "    </tr>\n",
       "    <tr>\n",
       "      <th>Mortality Rate (Facility)</th>\n",
       "      <td>34.4</td>\n",
       "      <td>25.3</td>\n",
       "      <td>15.1</td>\n",
       "      <td>16.3</td>\n",
       "      <td>4.8</td>\n",
       "    </tr>\n",
       "    <tr>\n",
       "      <th>Mortality Rate: Upper Confidence Limit (97.5%)</th>\n",
       "      <td>51.3</td>\n",
       "      <td>30.7</td>\n",
       "      <td>26.3</td>\n",
       "      <td>27.9</td>\n",
       "      <td>26.6</td>\n",
       "    </tr>\n",
       "    <tr>\n",
       "      <th>Mortality Rate: Lower Confidence Limit (2.5%)</th>\n",
       "      <td>22.1</td>\n",
       "      <td>20.6</td>\n",
       "      <td>7.8</td>\n",
       "      <td>8.7</td>\n",
       "      <td>0.1</td>\n",
       "    </tr>\n",
       "    <tr>\n",
       "      <th>Readmission Rate (Facility)</th>\n",
       "      <td>30.6</td>\n",
       "      <td>30.5</td>\n",
       "      <td>19.8</td>\n",
       "      <td>32.3</td>\n",
       "      <td>27.6</td>\n",
       "    </tr>\n",
       "    <tr>\n",
       "      <th>Readmission Rate: Upper Confidence Limit (97.5%)</th>\n",
       "      <td>43.7</td>\n",
       "      <td>41.7</td>\n",
       "      <td>37.4</td>\n",
       "      <td>49.1</td>\n",
       "      <td>45</td>\n",
       "    </tr>\n",
       "    <tr>\n",
       "      <th>Readmission Rate: Lower Confidence Limit (2.5%)</th>\n",
       "      <td>19.4</td>\n",
       "      <td>20.4</td>\n",
       "      <td>7.6</td>\n",
       "      <td>18.6</td>\n",
       "      <td>13.7</td>\n",
       "    </tr>\n",
       "  </tbody>\n",
       "</table>\n",
       "</div>"
      ],
      "text/plain": [
       "                                                                                       0  \\\n",
       "Provider Number                                                                    42592   \n",
       "Network                                                                               13   \n",
       "Facility Name                                       DCI - LITTLE ROCK RENAL SERVICES LLC   \n",
       "Five Star Date                                                   01/01/2015 - 12/31/2018   \n",
       "Five Star                                                                              2   \n",
       "Address Line 1                                                       1910 JOHN BARROW RD   \n",
       "City                                                                         LITTLE ROCK   \n",
       "State                                                                                 AR   \n",
       "Zip                                                                                72204   \n",
       "County                                                                           PULASKI   \n",
       "Phone Number                                                              (501) 227-0983   \n",
       "Profit Or Non-Profit                                                                   0   \n",
       "Chain Owned                                                                            1   \n",
       "Chain Organization                                                 DIALYSIS CLINIC, INC.   \n",
       "Late Shift                                                                             0   \n",
       "Number Of Dialysis Stations                                                           18   \n",
       "Offers In-Center Hemodialysis                                                          1   \n",
       "Offers Peritoneal Dialysis                                                             1   \n",
       "Offers Home Hemodialysis Training                                                      1   \n",
       "Certification Or Recertification Date                                2015-10-20 00:00:00   \n",
       "Claims Date                                                      07/01/2018 - 06/30/2019   \n",
       "CROWNWeb Date                                                    07/01/2018 - 06/30/2019   \n",
       "STrR Date                                                        01/01/2018 - 12/31/2018   \n",
       "Percentage Of Medicare Patients With Hgb < 10 g/dL                                    21   \n",
       "Percentage Of Medicare Patients With Hgb > 12 g/dL                                     0   \n",
       "Number Of Dialysis Patients With Hgb Data                                             48   \n",
       "Patient Transfusion Category Text                                            As Expected   \n",
       "Number Of Patients Included In The Transfusion ...                                    65   \n",
       "Percent Of Adult HD Patients With Kt/V >= 1.2                                         93   \n",
       "Adult PD Kt/V Data Availability Code                                                 199   \n",
       "Pediatric HD Kt/V Data Availability Code                                             259   \n",
       "Number Of Adult HD Patients With Kt/V Data                                            83   \n",
       "Number Of Adult HD Patient-Months With Kt/V Data                                     691   \n",
       "Number Of Adult PD Patients With Kt/V Data                                            23   \n",
       "Number Of Pediatric HD Patients With Kt/V Data                                         0   \n",
       "Number Of Patients In Hypercalcemia Summary                                          103   \n",
       "Number Of Patient-Months In Hypercalcemia Summary                                    906   \n",
       "Percentage Of Adult Patients With Hypercalcemia...                                     1   \n",
       "Number Of Patients In Serum Phosphorus Summary                                       111   \n",
       "Number Of Patient-Months In Serum Phosphorus Su...                                   963   \n",
       "Percentage Of Adult Patients With Serum Phospho...                                     5   \n",
       "Percentage Of Adult Patients With Serum Phospho...                                    18   \n",
       "Percentage Of Adult Patients With Serum Phospho...                                    22   \n",
       "Percentage Of Adult Patients With Serum Phospho...                                    30   \n",
       "Percentage Of Adult Patients With Serum Phospho...                                    25   \n",
       "SHR Date                                                         01/01/2018 - 12/31/2018   \n",
       "SRR Date                                                         01/01/2018 - 12/31/2018   \n",
       "SMR Date                                                         01/01/2015 - 12/31/2018   \n",
       "Patient Hospitalization Category Text                                        As Expected   \n",
       "Patient Hospital Readmission Category Text                                   As Expected   \n",
       "Patient Survival Category Text                                               As Expected   \n",
       "Number Of Patients Included In Hospitalization ...                                    74   \n",
       "Number Of Hospitalizations Included In Hospital...                                   100   \n",
       "Number Of Patients Included In Survival Summary                                      190   \n",
       "Mortality Rate (Facility)                                                           34.4   \n",
       "Mortality Rate: Upper Confidence Limit (97.5%)                                      51.3   \n",
       "Mortality Rate: Lower Confidence Limit (2.5%)                                       22.1   \n",
       "Readmission Rate (Facility)                                                         30.6   \n",
       "Readmission Rate: Upper Confidence Limit (97.5%)                                    43.7   \n",
       "Readmission Rate: Lower Confidence Limit (2.5%)                                     19.4   \n",
       "\n",
       "                                                                                 1  \\\n",
       "Provider Number                                                              52761   \n",
       "Network                                                                         18   \n",
       "Facility Name                                       DAVITA-PREMIER DIALYSIS CENTER   \n",
       "Five Star Date                                             01/01/2015 - 12/31/2018   \n",
       "Five Star                                                                        3   \n",
       "Address Line 1                                                7612 ATLANTIC AVENUE   \n",
       "City                                                                        CUDAHY   \n",
       "State                                                                           CA   \n",
       "Zip                                                                          90201   \n",
       "County                                                                 LOS ANGELES   \n",
       "Phone Number                                                        (323) 562-5511   \n",
       "Profit Or Non-Profit                                                             1   \n",
       "Chain Owned                                                                      1   \n",
       "Chain Organization                                                          DAVITA   \n",
       "Late Shift                                                                       0   \n",
       "Number Of Dialysis Stations                                                     36   \n",
       "Offers In-Center Hemodialysis                                                    1   \n",
       "Offers Peritoneal Dialysis                                                       1   \n",
       "Offers Home Hemodialysis Training                                                0   \n",
       "Certification Or Recertification Date                          1995-04-11 00:00:00   \n",
       "Claims Date                                                07/01/2018 - 06/30/2019   \n",
       "CROWNWeb Date                                              07/01/2018 - 06/30/2019   \n",
       "STrR Date                                                  01/01/2018 - 12/31/2018   \n",
       "Percentage Of Medicare Patients With Hgb < 10 g/dL                              18   \n",
       "Percentage Of Medicare Patients With Hgb > 12 g/dL                               0   \n",
       "Number Of Dialysis Patients With Hgb Data                                       79   \n",
       "Patient Transfusion Category Text                              Worse than Expected   \n",
       "Number Of Patients Included In The Transfusion ...                             147   \n",
       "Percent Of Adult HD Patients With Kt/V >= 1.2                                   99   \n",
       "Adult PD Kt/V Data Availability Code                                           199   \n",
       "Pediatric HD Kt/V Data Availability Code                                       259   \n",
       "Number Of Adult HD Patients With Kt/V Data                                     226   \n",
       "Number Of Adult HD Patient-Months With Kt/V Data                              2004   \n",
       "Number Of Adult PD Patients With Kt/V Data                                       8   \n",
       "Number Of Pediatric HD Patients With Kt/V Data                                   0   \n",
       "Number Of Patients In Hypercalcemia Summary                                    235   \n",
       "Number Of Patient-Months In Hypercalcemia Summary                             2092   \n",
       "Percentage Of Adult Patients With Hypercalcemia...                               2   \n",
       "Number Of Patients In Serum Phosphorus Summary                                 235   \n",
       "Number Of Patient-Months In Serum Phosphorus Su...                            2133   \n",
       "Percentage Of Adult Patients With Serum Phospho...                               7   \n",
       "Percentage Of Adult Patients With Serum Phospho...                              23   \n",
       "Percentage Of Adult Patients With Serum Phospho...                              30   \n",
       "Percentage Of Adult Patients With Serum Phospho...                              19   \n",
       "Percentage Of Adult Patients With Serum Phospho...                              21   \n",
       "SHR Date                                                   01/01/2018 - 12/31/2018   \n",
       "SRR Date                                                   01/01/2018 - 12/31/2018   \n",
       "SMR Date                                                   01/01/2015 - 12/31/2018   \n",
       "Patient Hospitalization Category Text                                  As Expected   \n",
       "Patient Hospital Readmission Category Text                             As Expected   \n",
       "Patient Survival Category Text                                         As Expected   \n",
       "Number Of Patients Included In Hospitalization ...                             166   \n",
       "Number Of Hospitalizations Included In Hospital...                             165   \n",
       "Number Of Patients Included In Survival Summary                                797   \n",
       "Mortality Rate (Facility)                                                     25.3   \n",
       "Mortality Rate: Upper Confidence Limit (97.5%)                                30.7   \n",
       "Mortality Rate: Lower Confidence Limit (2.5%)                                 20.6   \n",
       "Readmission Rate (Facility)                                                   30.5   \n",
       "Readmission Rate: Upper Confidence Limit (97.5%)                              41.7   \n",
       "Readmission Rate: Lower Confidence Limit (2.5%)                               20.4   \n",
       "\n",
       "                                                                                2  \\\n",
       "Provider Number                                                             72549   \n",
       "Network                                                                         1   \n",
       "Facility Name                                       WALLINGFORD DIALYSIS CARE LLC   \n",
       "Five Star Date                                            01/01/2015 - 12/31/2018   \n",
       "Five Star                                                                       5   \n",
       "Address Line 1                                              720 N MAIN STREET EXT   \n",
       "City                                                                  WALLINGFORD   \n",
       "State                                                                          CT   \n",
       "Zip                                                                         06492   \n",
       "County                                                                  NEW HAVEN   \n",
       "Phone Number                                                       (203) 265-0667   \n",
       "Profit Or Non-Profit                                                            1   \n",
       "Chain Owned                                                                     1   \n",
       "Chain Organization                                      AMERICAN RENAL ASSOCIATES   \n",
       "Late Shift                                                                      0   \n",
       "Number Of Dialysis Stations                                                    13   \n",
       "Offers In-Center Hemodialysis                                                   1   \n",
       "Offers Peritoneal Dialysis                                                      1   \n",
       "Offers Home Hemodialysis Training                                               1   \n",
       "Certification Or Recertification Date                         2016-01-06 00:00:00   \n",
       "Claims Date                                               07/01/2018 - 06/30/2019   \n",
       "CROWNWeb Date                                             07/01/2018 - 06/30/2019   \n",
       "STrR Date                                                 01/01/2018 - 12/31/2018   \n",
       "Percentage Of Medicare Patients With Hgb < 10 g/dL                             43   \n",
       "Percentage Of Medicare Patients With Hgb > 12 g/dL                              0   \n",
       "Number Of Dialysis Patients With Hgb Data                                      14   \n",
       "Patient Transfusion Category Text                                     As Expected   \n",
       "Number Of Patients Included In The Transfusion ...                             23   \n",
       "Percent Of Adult HD Patients With Kt/V >= 1.2                                  96   \n",
       "Adult PD Kt/V Data Availability Code                                          199   \n",
       "Pediatric HD Kt/V Data Availability Code                                      259   \n",
       "Number Of Adult HD Patients With Kt/V Data                                     36   \n",
       "Number Of Adult HD Patient-Months With Kt/V Data                              305   \n",
       "Number Of Adult PD Patients With Kt/V Data                                      8   \n",
       "Number Of Pediatric HD Patients With Kt/V Data                                  0   \n",
       "Number Of Patients In Hypercalcemia Summary                                    44   \n",
       "Number Of Patient-Months In Hypercalcemia Summary                             367   \n",
       "Percentage Of Adult Patients With Hypercalcemia...                              1   \n",
       "Number Of Patients In Serum Phosphorus Summary                                 46   \n",
       "Number Of Patient-Months In Serum Phosphorus Su...                            360   \n",
       "Percentage Of Adult Patients With Serum Phospho...                              5   \n",
       "Percentage Of Adult Patients With Serum Phospho...                             31   \n",
       "Percentage Of Adult Patients With Serum Phospho...                             42   \n",
       "Percentage Of Adult Patients With Serum Phospho...                             18   \n",
       "Percentage Of Adult Patients With Serum Phospho...                              4   \n",
       "SHR Date                                                  01/01/2018 - 12/31/2018   \n",
       "SRR Date                                                  01/01/2018 - 12/31/2018   \n",
       "SMR Date                                                  01/01/2015 - 12/31/2018   \n",
       "Patient Hospitalization Category Text                                 As Expected   \n",
       "Patient Hospital Readmission Category Text                            As Expected   \n",
       "Patient Survival Category Text                                        As Expected   \n",
       "Number Of Patients Included In Hospitalization ...                             31   \n",
       "Number Of Hospitalizations Included In Hospital...                             37   \n",
       "Number Of Patients Included In Survival Summary                                76   \n",
       "Mortality Rate (Facility)                                                    15.1   \n",
       "Mortality Rate: Upper Confidence Limit (97.5%)                               26.3   \n",
       "Mortality Rate: Lower Confidence Limit (2.5%)                                 7.8   \n",
       "Readmission Rate (Facility)                                                  19.8   \n",
       "Readmission Rate: Upper Confidence Limit (97.5%)                             37.4   \n",
       "Readmission Rate: Lower Confidence Limit (2.5%)                               7.6   \n",
       "\n",
       "                                                                                3  \\\n",
       "Provider Number                                                             82524   \n",
       "Network                                                                         4   \n",
       "Facility Name                                            DSI LAUREL DIALYSIS, LLC   \n",
       "Five Star Date                                            01/01/2015 - 12/31/2018   \n",
       "Five Star                                                                       4   \n",
       "Address Line 1                                      LAUREL SQUARE SHOPPING CENTER   \n",
       "City                                                                       LAUREL   \n",
       "State                                                                          DE   \n",
       "Zip                                                                         19956   \n",
       "County                                                                     SUSSEX   \n",
       "Phone Number                                                       (302) 715-3060   \n",
       "Profit Or Non-Profit                                                            1   \n",
       "Chain Owned                                                                     1   \n",
       "Chain Organization                                            US RENAL CARE, INC.   \n",
       "Late Shift                                                                      0   \n",
       "Number Of Dialysis Stations                                                    16   \n",
       "Offers In-Center Hemodialysis                                                   1   \n",
       "Offers Peritoneal Dialysis                                                      0   \n",
       "Offers Home Hemodialysis Training                                               0   \n",
       "Certification Or Recertification Date                         2015-09-25 00:00:00   \n",
       "Claims Date                                               07/01/2018 - 06/30/2019   \n",
       "CROWNWeb Date                                             07/01/2018 - 06/30/2019   \n",
       "STrR Date                                                 01/01/2018 - 12/31/2018   \n",
       "Percentage Of Medicare Patients With Hgb < 10 g/dL                             20   \n",
       "Percentage Of Medicare Patients With Hgb > 12 g/dL                              0   \n",
       "Number Of Dialysis Patients With Hgb Data                                      20   \n",
       "Patient Transfusion Category Text                                     As Expected   \n",
       "Number Of Patients Included In The Transfusion ...                             21   \n",
       "Percent Of Adult HD Patients With Kt/V >= 1.2                                  98   \n",
       "Adult PD Kt/V Data Availability Code                                          257   \n",
       "Pediatric HD Kt/V Data Availability Code                                      259   \n",
       "Number Of Adult HD Patients With Kt/V Data                                     29   \n",
       "Number Of Adult HD Patient-Months With Kt/V Data                              275   \n",
       "Number Of Adult PD Patients With Kt/V Data                                      0   \n",
       "Number Of Pediatric HD Patients With Kt/V Data                                  0   \n",
       "Number Of Patients In Hypercalcemia Summary                                    29   \n",
       "Number Of Patient-Months In Hypercalcemia Summary                             275   \n",
       "Percentage Of Adult Patients With Hypercalcemia...                              0   \n",
       "Number Of Patients In Serum Phosphorus Summary                                 30   \n",
       "Number Of Patient-Months In Serum Phosphorus Su...                            290   \n",
       "Percentage Of Adult Patients With Serum Phospho...                              7   \n",
       "Percentage Of Adult Patients With Serum Phospho...                             29   \n",
       "Percentage Of Adult Patients With Serum Phospho...                             42   \n",
       "Percentage Of Adult Patients With Serum Phospho...                             15   \n",
       "Percentage Of Adult Patients With Serum Phospho...                              8   \n",
       "SHR Date                                                  01/01/2018 - 12/31/2018   \n",
       "SRR Date                                                  01/01/2018 - 12/31/2018   \n",
       "SMR Date                                                  01/01/2015 - 12/31/2018   \n",
       "Patient Hospitalization Category Text                                 As Expected   \n",
       "Patient Hospital Readmission Category Text                            As Expected   \n",
       "Patient Survival Category Text                                        As Expected   \n",
       "Number Of Patients Included In Hospitalization ...                             31   \n",
       "Number Of Hospitalizations Included In Hospital...                             42   \n",
       "Number Of Patients Included In Survival Summary                                86   \n",
       "Mortality Rate (Facility)                                                    16.3   \n",
       "Mortality Rate: Upper Confidence Limit (97.5%)                               27.9   \n",
       "Mortality Rate: Lower Confidence Limit (2.5%)                                 8.7   \n",
       "Readmission Rate (Facility)                                                  32.3   \n",
       "Readmission Rate: Upper Confidence Limit (97.5%)                             49.1   \n",
       "Readmission Rate: Lower Confidence Limit (2.5%)                              18.6   \n",
       "\n",
       "                                                                                                4  \n",
       "Provider Number                                                                             82527  \n",
       "Network                                                                                         4  \n",
       "Facility Name                                       FRESENIUS MEDICAL CARE SOUTHERN DELAWARE, LLC  \n",
       "Five Star Date                                                            01/01/2015 - 12/31/2018  \n",
       "Five Star                                                                                       5  \n",
       "Address Line 1                                                                 9115 ANTIQUE ALLEY  \n",
       "City                                                                                  BRIDGEVILLE  \n",
       "State                                                                                          DE  \n",
       "Zip                                                                                         19933  \n",
       "County                                                                                     SUSSEX  \n",
       "Phone Number                                                                       (302) 337-8789  \n",
       "Profit Or Non-Profit                                                                            1  \n",
       "Chain Owned                                                                                     1  \n",
       "Chain Organization                                                         FRESENIUS MEDICAL CARE  \n",
       "Late Shift                                                                                      0  \n",
       "Number Of Dialysis Stations                                                                    11  \n",
       "Offers In-Center Hemodialysis                                                                   1  \n",
       "Offers Peritoneal Dialysis                                                                      1  \n",
       "Offers Home Hemodialysis Training                                                               1  \n",
       "Certification Or Recertification Date                                         2017-10-30 00:00:00  \n",
       "Claims Date                                                               07/01/2018 - 06/30/2019  \n",
       "CROWNWeb Date                                                             07/01/2018 - 06/30/2019  \n",
       "STrR Date                                                                 01/01/2018 - 12/31/2018  \n",
       "Percentage Of Medicare Patients With Hgb < 10 g/dL                                             25  \n",
       "Percentage Of Medicare Patients With Hgb > 12 g/dL                                              0  \n",
       "Number Of Dialysis Patients With Hgb Data                                                      24  \n",
       "Patient Transfusion Category Text                                                     As Expected  \n",
       "Number Of Patients Included In The Transfusion ...                                             30  \n",
       "Percent Of Adult HD Patients With Kt/V >= 1.2                                                  98  \n",
       "Adult PD Kt/V Data Availability Code                                                          199  \n",
       "Pediatric HD Kt/V Data Availability Code                                                      259  \n",
       "Number Of Adult HD Patients With Kt/V Data                                                     47  \n",
       "Number Of Adult HD Patient-Months With Kt/V Data                                              363  \n",
       "Number Of Adult PD Patients With Kt/V Data                                                      6  \n",
       "Number Of Pediatric HD Patients With Kt/V Data                                                  0  \n",
       "Number Of Patients In Hypercalcemia Summary                                                    55  \n",
       "Number Of Patient-Months In Hypercalcemia Summary                                             442  \n",
       "Percentage Of Adult Patients With Hypercalcemia...                                              1  \n",
       "Number Of Patients In Serum Phosphorus Summary                                                 55  \n",
       "Number Of Patient-Months In Serum Phosphorus Su...                                            455  \n",
       "Percentage Of Adult Patients With Serum Phospho...                                              7  \n",
       "Percentage Of Adult Patients With Serum Phospho...                                             25  \n",
       "Percentage Of Adult Patients With Serum Phospho...                                             28  \n",
       "Percentage Of Adult Patients With Serum Phospho...                                             28  \n",
       "Percentage Of Adult Patients With Serum Phospho...                                             12  \n",
       "SHR Date                                                                  01/01/2018 - 12/31/2018  \n",
       "SRR Date                                                                  01/01/2018 - 12/31/2018  \n",
       "SMR Date                                                                  01/01/2015 - 12/31/2018  \n",
       "Patient Hospitalization Category Text                                                 As Expected  \n",
       "Patient Hospital Readmission Category Text                                            As Expected  \n",
       "Patient Survival Category Text                                                        As Expected  \n",
       "Number Of Patients Included In Hospitalization ...                                             38  \n",
       "Number Of Hospitalizations Included In Hospital...                                             40  \n",
       "Number Of Patients Included In Survival Summary                                                39  \n",
       "Mortality Rate (Facility)                                                                     4.8  \n",
       "Mortality Rate: Upper Confidence Limit (97.5%)                                               26.6  \n",
       "Mortality Rate: Lower Confidence Limit (2.5%)                                                 0.1  \n",
       "Readmission Rate (Facility)                                                                  27.6  \n",
       "Readmission Rate: Upper Confidence Limit (97.5%)                                               45  \n",
       "Readmission Rate: Lower Confidence Limit (2.5%)                                              13.7  "
      ]
     },
     "execution_count": 208,
     "metadata": {},
     "output_type": "execute_result"
    }
   ],
   "source": [
    "df.iloc[:5, :60].head().T"
   ]
  },
  {
   "cell_type": "code",
   "execution_count": 209,
   "metadata": {},
   "outputs": [
    {
     "data": {
      "text/html": [
       "<div>\n",
       "<style scoped>\n",
       "    .dataframe tbody tr th:only-of-type {\n",
       "        vertical-align: middle;\n",
       "    }\n",
       "\n",
       "    .dataframe tbody tr th {\n",
       "        vertical-align: top;\n",
       "    }\n",
       "\n",
       "    .dataframe thead th {\n",
       "        text-align: right;\n",
       "    }\n",
       "</style>\n",
       "<table border=\"1\" class=\"dataframe\">\n",
       "  <thead>\n",
       "    <tr style=\"text-align: right;\">\n",
       "      <th></th>\n",
       "      <th>0</th>\n",
       "      <th>1</th>\n",
       "      <th>2</th>\n",
       "      <th>3</th>\n",
       "      <th>4</th>\n",
       "    </tr>\n",
       "  </thead>\n",
       "  <tbody>\n",
       "    <tr>\n",
       "      <th>Hospitalization Rate (Facility)</th>\n",
       "      <td>228.3</td>\n",
       "      <td>222.9</td>\n",
       "      <td>158.3</td>\n",
       "      <td>186.1</td>\n",
       "      <td>150.8</td>\n",
       "    </tr>\n",
       "    <tr>\n",
       "      <th>Hospitalization Rate: Upper Confidence Limit (97.5%)</th>\n",
       "      <td>346.5</td>\n",
       "      <td>323</td>\n",
       "      <td>280.6</td>\n",
       "      <td>321.1</td>\n",
       "      <td>278</td>\n",
       "    </tr>\n",
       "    <tr>\n",
       "      <th>Hospitalization Rate: Lower Confidence Limit (2.5%)</th>\n",
       "      <td>153.6</td>\n",
       "      <td>161.7</td>\n",
       "      <td>93.7</td>\n",
       "      <td>112.8</td>\n",
       "      <td>86</td>\n",
       "    </tr>\n",
       "    <tr>\n",
       "      <th>Number Of Pediatric PD Patients With Kt/V Data</th>\n",
       "      <td>0</td>\n",
       "      <td>0</td>\n",
       "      <td>0</td>\n",
       "      <td>0</td>\n",
       "      <td>0</td>\n",
       "    </tr>\n",
       "    <tr>\n",
       "      <th>Pediatric PD Kt/V Data Availability Code</th>\n",
       "      <td>259</td>\n",
       "      <td>259</td>\n",
       "      <td>259</td>\n",
       "      <td>259</td>\n",
       "      <td>259</td>\n",
       "    </tr>\n",
       "    <tr>\n",
       "      <th>SIR Date</th>\n",
       "      <td>01/01/2018 - 12/31/2018</td>\n",
       "      <td>01/01/2018 - 12/31/2018</td>\n",
       "      <td>01/01/2018 - 12/31/2018</td>\n",
       "      <td>01/01/2018 - 12/31/2018</td>\n",
       "      <td>01/01/2018 - 12/31/2018</td>\n",
       "    </tr>\n",
       "    <tr>\n",
       "      <th>Patient Infection Category Text</th>\n",
       "      <td>As Expected</td>\n",
       "      <td>As Expected</td>\n",
       "      <td>As Expected</td>\n",
       "      <td>As Expected</td>\n",
       "      <td>As Expected</td>\n",
       "    </tr>\n",
       "    <tr>\n",
       "      <th>Standard Infection Ratio</th>\n",
       "      <td>1.61</td>\n",
       "      <td>0.75</td>\n",
       "      <td>1.54</td>\n",
       "      <td>1.45</td>\n",
       "      <td>0</td>\n",
       "    </tr>\n",
       "    <tr>\n",
       "      <th>SIR: Upper Confidence Limit (97.5%)</th>\n",
       "      <td>2.8</td>\n",
       "      <td>1.28</td>\n",
       "      <td>4.2</td>\n",
       "      <td>3.94</td>\n",
       "      <td>1.2</td>\n",
       "    </tr>\n",
       "    <tr>\n",
       "      <th>SIR: Lower Confidence Limit (2.5%)</th>\n",
       "      <td>0.85</td>\n",
       "      <td>0.41</td>\n",
       "      <td>0.39</td>\n",
       "      <td>0.37</td>\n",
       "      <td>0.30052</td>\n",
       "    </tr>\n",
       "    <tr>\n",
       "      <th>Transfusion Rate (Facility)</th>\n",
       "      <td>32.2</td>\n",
       "      <td>42.2</td>\n",
       "      <td>31.9</td>\n",
       "      <td>17</td>\n",
       "      <td>12.8</td>\n",
       "    </tr>\n",
       "    <tr>\n",
       "      <th>Transfusion Rate: Upper Confidence Limit (97.5%)</th>\n",
       "      <td>93</td>\n",
       "      <td>81.5</td>\n",
       "      <td>142.7</td>\n",
       "      <td>211.5</td>\n",
       "      <td>170.8</td>\n",
       "    </tr>\n",
       "    <tr>\n",
       "      <th>Transfusion Rate: Lower Confidence Limit (2.5%)</th>\n",
       "      <td>13.1</td>\n",
       "      <td>24.1</td>\n",
       "      <td>8.9</td>\n",
       "      <td>1.9</td>\n",
       "      <td>1.4</td>\n",
       "    </tr>\n",
       "    <tr>\n",
       "      <th>Fistula Category Text</th>\n",
       "      <td>As Expected</td>\n",
       "      <td>As Expected</td>\n",
       "      <td>As Expected</td>\n",
       "      <td>As Expected</td>\n",
       "      <td>As Expected</td>\n",
       "    </tr>\n",
       "    <tr>\n",
       "      <th>Number Of Patients Included In Fistula Summary</th>\n",
       "      <td>91</td>\n",
       "      <td>229</td>\n",
       "      <td>38</td>\n",
       "      <td>29</td>\n",
       "      <td>51</td>\n",
       "    </tr>\n",
       "    <tr>\n",
       "      <th>Fistula Rate (Facility)</th>\n",
       "      <td>52.9</td>\n",
       "      <td>68.2</td>\n",
       "      <td>59.3</td>\n",
       "      <td>57.2</td>\n",
       "      <td>57.1</td>\n",
       "    </tr>\n",
       "    <tr>\n",
       "      <th>Fistula Rate: Upper Confidence Limit (97.5%)</th>\n",
       "      <td>72.7</td>\n",
       "      <td>78.3</td>\n",
       "      <td>79.6</td>\n",
       "      <td>90.1</td>\n",
       "      <td>83.5</td>\n",
       "    </tr>\n",
       "    <tr>\n",
       "      <th>Fistula Rate: Lower Confidence Limit (2.5%)</th>\n",
       "      <td>31.7</td>\n",
       "      <td>57.3</td>\n",
       "      <td>37.4</td>\n",
       "      <td>21.8</td>\n",
       "      <td>28.7</td>\n",
       "    </tr>\n",
       "    <tr>\n",
       "      <th>Number Of Patients In Long Term Catheter Summary</th>\n",
       "      <td>91</td>\n",
       "      <td>229</td>\n",
       "      <td>38</td>\n",
       "      <td>29</td>\n",
       "      <td>51</td>\n",
       "    </tr>\n",
       "    <tr>\n",
       "      <th>Number Of Patient-Months In Long Term Catheter Summary</th>\n",
       "      <td>769</td>\n",
       "      <td>2110</td>\n",
       "      <td>335</td>\n",
       "      <td>267</td>\n",
       "      <td>409</td>\n",
       "    </tr>\n",
       "    <tr>\n",
       "      <th>Percentage Of Adult Patients With Long Term Catheter In Use</th>\n",
       "      <td>25</td>\n",
       "      <td>14</td>\n",
       "      <td>10</td>\n",
       "      <td>26</td>\n",
       "      <td>15</td>\n",
       "    </tr>\n",
       "    <tr>\n",
       "      <th>Number Of Patients In nPCR Summary</th>\n",
       "      <td>0</td>\n",
       "      <td>0</td>\n",
       "      <td>0</td>\n",
       "      <td>0</td>\n",
       "      <td>0</td>\n",
       "    </tr>\n",
       "    <tr>\n",
       "      <th>nPCR Data Availability Code</th>\n",
       "      <td>259</td>\n",
       "      <td>259</td>\n",
       "      <td>259</td>\n",
       "      <td>259</td>\n",
       "      <td>259</td>\n",
       "    </tr>\n",
       "    <tr>\n",
       "      <th>SWR Date</th>\n",
       "      <td>01/01/2015 - 12/31/2017</td>\n",
       "      <td>01/01/2015 - 12/31/2017</td>\n",
       "      <td>01/01/2015 - 12/31/2017</td>\n",
       "      <td>01/01/2015 - 12/31/2017</td>\n",
       "      <td>01/01/2015 - 12/31/2017</td>\n",
       "    </tr>\n",
       "    <tr>\n",
       "      <th>SWR Category Text</th>\n",
       "      <td>As Expected</td>\n",
       "      <td>As Expected</td>\n",
       "      <td>Better than Expected</td>\n",
       "      <td>Better than Expected</td>\n",
       "      <td>Better than Expected</td>\n",
       "    </tr>\n",
       "    <tr>\n",
       "      <th>95% C.I. (Upper Limit) For SWR</th>\n",
       "      <td>1.16</td>\n",
       "      <td>1.16</td>\n",
       "      <td>2.60514</td>\n",
       "      <td>2.60514</td>\n",
       "      <td>2.60514</td>\n",
       "    </tr>\n",
       "    <tr>\n",
       "      <th>95% C.I. (Lower Limit) For SWR</th>\n",
       "      <td>0.12</td>\n",
       "      <td>0.2</td>\n",
       "      <td>0.337152</td>\n",
       "      <td>0.337152</td>\n",
       "      <td>0.337152</td>\n",
       "    </tr>\n",
       "    <tr>\n",
       "      <th>Number Of Patients In This Facility For SWR</th>\n",
       "      <td>56</td>\n",
       "      <td>105</td>\n",
       "      <td>12</td>\n",
       "      <td>8</td>\n",
       "      <td>1</td>\n",
       "    </tr>\n",
       "    <tr>\n",
       "      <th>Standardized First Kidney Transplant Waitlist Ratio</th>\n",
       "      <td>0.45</td>\n",
       "      <td>0.53</td>\n",
       "      <td>0.998375</td>\n",
       "      <td>0.998375</td>\n",
       "      <td>0.998375</td>\n",
       "    </tr>\n",
       "    <tr>\n",
       "      <th>PPPW Category Text</th>\n",
       "      <td>As Expected</td>\n",
       "      <td>As Expected</td>\n",
       "      <td>As Expected</td>\n",
       "      <td>As Expected</td>\n",
       "      <td>As Expected</td>\n",
       "    </tr>\n",
       "    <tr>\n",
       "      <th>95% C.I. (Upper Limit) For PPPW</th>\n",
       "      <td>22.8</td>\n",
       "      <td>32.1</td>\n",
       "      <td>74.5</td>\n",
       "      <td>74.2</td>\n",
       "      <td>48.4</td>\n",
       "    </tr>\n",
       "    <tr>\n",
       "      <th>95% C.I. (Lower Limit) For PPPW</th>\n",
       "      <td>3.4</td>\n",
       "      <td>11.8</td>\n",
       "      <td>10.1</td>\n",
       "      <td>0.2</td>\n",
       "      <td>2.8</td>\n",
       "    </tr>\n",
       "    <tr>\n",
       "      <th>Number Of Patients For PPPW</th>\n",
       "      <td>100</td>\n",
       "      <td>209</td>\n",
       "      <td>24</td>\n",
       "      <td>19</td>\n",
       "      <td>44</td>\n",
       "    </tr>\n",
       "    <tr>\n",
       "      <th>Percentage Of Prevalent Patients Waitlisted</th>\n",
       "      <td>9.2</td>\n",
       "      <td>20.1</td>\n",
       "      <td>36.4</td>\n",
       "      <td>7.4</td>\n",
       "      <td>14.2</td>\n",
       "    </tr>\n",
       "  </tbody>\n",
       "</table>\n",
       "</div>"
      ],
      "text/plain": [
       "                                                                          0  \\\n",
       "Hospitalization Rate (Facility)                                       228.3   \n",
       "Hospitalization Rate: Upper Confidence Limit (9...                    346.5   \n",
       "Hospitalization Rate: Lower Confidence Limit (2...                    153.6   \n",
       "Number Of Pediatric PD Patients With Kt/V Data                            0   \n",
       "Pediatric PD Kt/V Data Availability Code                                259   \n",
       "SIR Date                                            01/01/2018 - 12/31/2018   \n",
       "Patient Infection Category Text                                 As Expected   \n",
       "Standard Infection Ratio                                               1.61   \n",
       "SIR: Upper Confidence Limit (97.5%)                                     2.8   \n",
       "SIR: Lower Confidence Limit (2.5%)                                     0.85   \n",
       "Transfusion Rate (Facility)                                            32.2   \n",
       "Transfusion Rate: Upper Confidence Limit (97.5%)                         93   \n",
       "Transfusion Rate: Lower Confidence Limit (2.5%)                        13.1   \n",
       "Fistula Category Text                                           As Expected   \n",
       "Number Of Patients Included In Fistula Summary                           91   \n",
       "Fistula Rate (Facility)                                                52.9   \n",
       "Fistula Rate: Upper Confidence Limit (97.5%)                           72.7   \n",
       "Fistula Rate: Lower Confidence Limit (2.5%)                            31.7   \n",
       "Number Of Patients In Long Term Catheter Summary                         91   \n",
       "Number Of Patient-Months In Long Term Catheter ...                      769   \n",
       "Percentage Of Adult Patients With Long Term Cat...                       25   \n",
       "Number Of Patients In nPCR Summary                                        0   \n",
       "nPCR Data Availability Code                                             259   \n",
       "SWR Date                                            01/01/2015 - 12/31/2017   \n",
       "SWR Category Text                                               As Expected   \n",
       "95% C.I. (Upper Limit) For SWR                                         1.16   \n",
       "95% C.I. (Lower Limit) For SWR                                         0.12   \n",
       "Number Of Patients In This Facility For SWR                              56   \n",
       "Standardized First Kidney Transplant Waitlist R...                     0.45   \n",
       "PPPW Category Text                                              As Expected   \n",
       "95% C.I. (Upper Limit) For PPPW                                        22.8   \n",
       "95% C.I. (Lower Limit) For PPPW                                         3.4   \n",
       "Number Of Patients For PPPW                                             100   \n",
       "Percentage Of Prevalent Patients Waitlisted                             9.2   \n",
       "\n",
       "                                                                          1  \\\n",
       "Hospitalization Rate (Facility)                                       222.9   \n",
       "Hospitalization Rate: Upper Confidence Limit (9...                      323   \n",
       "Hospitalization Rate: Lower Confidence Limit (2...                    161.7   \n",
       "Number Of Pediatric PD Patients With Kt/V Data                            0   \n",
       "Pediatric PD Kt/V Data Availability Code                                259   \n",
       "SIR Date                                            01/01/2018 - 12/31/2018   \n",
       "Patient Infection Category Text                                 As Expected   \n",
       "Standard Infection Ratio                                               0.75   \n",
       "SIR: Upper Confidence Limit (97.5%)                                    1.28   \n",
       "SIR: Lower Confidence Limit (2.5%)                                     0.41   \n",
       "Transfusion Rate (Facility)                                            42.2   \n",
       "Transfusion Rate: Upper Confidence Limit (97.5%)                       81.5   \n",
       "Transfusion Rate: Lower Confidence Limit (2.5%)                        24.1   \n",
       "Fistula Category Text                                           As Expected   \n",
       "Number Of Patients Included In Fistula Summary                          229   \n",
       "Fistula Rate (Facility)                                                68.2   \n",
       "Fistula Rate: Upper Confidence Limit (97.5%)                           78.3   \n",
       "Fistula Rate: Lower Confidence Limit (2.5%)                            57.3   \n",
       "Number Of Patients In Long Term Catheter Summary                        229   \n",
       "Number Of Patient-Months In Long Term Catheter ...                     2110   \n",
       "Percentage Of Adult Patients With Long Term Cat...                       14   \n",
       "Number Of Patients In nPCR Summary                                        0   \n",
       "nPCR Data Availability Code                                             259   \n",
       "SWR Date                                            01/01/2015 - 12/31/2017   \n",
       "SWR Category Text                                               As Expected   \n",
       "95% C.I. (Upper Limit) For SWR                                         1.16   \n",
       "95% C.I. (Lower Limit) For SWR                                          0.2   \n",
       "Number Of Patients In This Facility For SWR                             105   \n",
       "Standardized First Kidney Transplant Waitlist R...                     0.53   \n",
       "PPPW Category Text                                              As Expected   \n",
       "95% C.I. (Upper Limit) For PPPW                                        32.1   \n",
       "95% C.I. (Lower Limit) For PPPW                                        11.8   \n",
       "Number Of Patients For PPPW                                             209   \n",
       "Percentage Of Prevalent Patients Waitlisted                            20.1   \n",
       "\n",
       "                                                                          2  \\\n",
       "Hospitalization Rate (Facility)                                       158.3   \n",
       "Hospitalization Rate: Upper Confidence Limit (9...                    280.6   \n",
       "Hospitalization Rate: Lower Confidence Limit (2...                     93.7   \n",
       "Number Of Pediatric PD Patients With Kt/V Data                            0   \n",
       "Pediatric PD Kt/V Data Availability Code                                259   \n",
       "SIR Date                                            01/01/2018 - 12/31/2018   \n",
       "Patient Infection Category Text                                 As Expected   \n",
       "Standard Infection Ratio                                               1.54   \n",
       "SIR: Upper Confidence Limit (97.5%)                                     4.2   \n",
       "SIR: Lower Confidence Limit (2.5%)                                     0.39   \n",
       "Transfusion Rate (Facility)                                            31.9   \n",
       "Transfusion Rate: Upper Confidence Limit (97.5%)                      142.7   \n",
       "Transfusion Rate: Lower Confidence Limit (2.5%)                         8.9   \n",
       "Fistula Category Text                                           As Expected   \n",
       "Number Of Patients Included In Fistula Summary                           38   \n",
       "Fistula Rate (Facility)                                                59.3   \n",
       "Fistula Rate: Upper Confidence Limit (97.5%)                           79.6   \n",
       "Fistula Rate: Lower Confidence Limit (2.5%)                            37.4   \n",
       "Number Of Patients In Long Term Catheter Summary                         38   \n",
       "Number Of Patient-Months In Long Term Catheter ...                      335   \n",
       "Percentage Of Adult Patients With Long Term Cat...                       10   \n",
       "Number Of Patients In nPCR Summary                                        0   \n",
       "nPCR Data Availability Code                                             259   \n",
       "SWR Date                                            01/01/2015 - 12/31/2017   \n",
       "SWR Category Text                                      Better than Expected   \n",
       "95% C.I. (Upper Limit) For SWR                                      2.60514   \n",
       "95% C.I. (Lower Limit) For SWR                                     0.337152   \n",
       "Number Of Patients In This Facility For SWR                              12   \n",
       "Standardized First Kidney Transplant Waitlist R...                 0.998375   \n",
       "PPPW Category Text                                              As Expected   \n",
       "95% C.I. (Upper Limit) For PPPW                                        74.5   \n",
       "95% C.I. (Lower Limit) For PPPW                                        10.1   \n",
       "Number Of Patients For PPPW                                              24   \n",
       "Percentage Of Prevalent Patients Waitlisted                            36.4   \n",
       "\n",
       "                                                                          3  \\\n",
       "Hospitalization Rate (Facility)                                       186.1   \n",
       "Hospitalization Rate: Upper Confidence Limit (9...                    321.1   \n",
       "Hospitalization Rate: Lower Confidence Limit (2...                    112.8   \n",
       "Number Of Pediatric PD Patients With Kt/V Data                            0   \n",
       "Pediatric PD Kt/V Data Availability Code                                259   \n",
       "SIR Date                                            01/01/2018 - 12/31/2018   \n",
       "Patient Infection Category Text                                 As Expected   \n",
       "Standard Infection Ratio                                               1.45   \n",
       "SIR: Upper Confidence Limit (97.5%)                                    3.94   \n",
       "SIR: Lower Confidence Limit (2.5%)                                     0.37   \n",
       "Transfusion Rate (Facility)                                              17   \n",
       "Transfusion Rate: Upper Confidence Limit (97.5%)                      211.5   \n",
       "Transfusion Rate: Lower Confidence Limit (2.5%)                         1.9   \n",
       "Fistula Category Text                                           As Expected   \n",
       "Number Of Patients Included In Fistula Summary                           29   \n",
       "Fistula Rate (Facility)                                                57.2   \n",
       "Fistula Rate: Upper Confidence Limit (97.5%)                           90.1   \n",
       "Fistula Rate: Lower Confidence Limit (2.5%)                            21.8   \n",
       "Number Of Patients In Long Term Catheter Summary                         29   \n",
       "Number Of Patient-Months In Long Term Catheter ...                      267   \n",
       "Percentage Of Adult Patients With Long Term Cat...                       26   \n",
       "Number Of Patients In nPCR Summary                                        0   \n",
       "nPCR Data Availability Code                                             259   \n",
       "SWR Date                                            01/01/2015 - 12/31/2017   \n",
       "SWR Category Text                                      Better than Expected   \n",
       "95% C.I. (Upper Limit) For SWR                                      2.60514   \n",
       "95% C.I. (Lower Limit) For SWR                                     0.337152   \n",
       "Number Of Patients In This Facility For SWR                               8   \n",
       "Standardized First Kidney Transplant Waitlist R...                 0.998375   \n",
       "PPPW Category Text                                              As Expected   \n",
       "95% C.I. (Upper Limit) For PPPW                                        74.2   \n",
       "95% C.I. (Lower Limit) For PPPW                                         0.2   \n",
       "Number Of Patients For PPPW                                              19   \n",
       "Percentage Of Prevalent Patients Waitlisted                             7.4   \n",
       "\n",
       "                                                                          4  \n",
       "Hospitalization Rate (Facility)                                       150.8  \n",
       "Hospitalization Rate: Upper Confidence Limit (9...                      278  \n",
       "Hospitalization Rate: Lower Confidence Limit (2...                       86  \n",
       "Number Of Pediatric PD Patients With Kt/V Data                            0  \n",
       "Pediatric PD Kt/V Data Availability Code                                259  \n",
       "SIR Date                                            01/01/2018 - 12/31/2018  \n",
       "Patient Infection Category Text                                 As Expected  \n",
       "Standard Infection Ratio                                                  0  \n",
       "SIR: Upper Confidence Limit (97.5%)                                     1.2  \n",
       "SIR: Lower Confidence Limit (2.5%)                                  0.30052  \n",
       "Transfusion Rate (Facility)                                            12.8  \n",
       "Transfusion Rate: Upper Confidence Limit (97.5%)                      170.8  \n",
       "Transfusion Rate: Lower Confidence Limit (2.5%)                         1.4  \n",
       "Fistula Category Text                                           As Expected  \n",
       "Number Of Patients Included In Fistula Summary                           51  \n",
       "Fistula Rate (Facility)                                                57.1  \n",
       "Fistula Rate: Upper Confidence Limit (97.5%)                           83.5  \n",
       "Fistula Rate: Lower Confidence Limit (2.5%)                            28.7  \n",
       "Number Of Patients In Long Term Catheter Summary                         51  \n",
       "Number Of Patient-Months In Long Term Catheter ...                      409  \n",
       "Percentage Of Adult Patients With Long Term Cat...                       15  \n",
       "Number Of Patients In nPCR Summary                                        0  \n",
       "nPCR Data Availability Code                                             259  \n",
       "SWR Date                                            01/01/2015 - 12/31/2017  \n",
       "SWR Category Text                                      Better than Expected  \n",
       "95% C.I. (Upper Limit) For SWR                                      2.60514  \n",
       "95% C.I. (Lower Limit) For SWR                                     0.337152  \n",
       "Number Of Patients In This Facility For SWR                               1  \n",
       "Standardized First Kidney Transplant Waitlist R...                 0.998375  \n",
       "PPPW Category Text                                              As Expected  \n",
       "95% C.I. (Upper Limit) For PPPW                                        48.4  \n",
       "95% C.I. (Lower Limit) For PPPW                                         2.8  \n",
       "Number Of Patients For PPPW                                              44  \n",
       "Percentage Of Prevalent Patients Waitlisted                            14.2  "
      ]
     },
     "execution_count": 209,
     "metadata": {},
     "output_type": "execute_result"
    }
   ],
   "source": [
    "df.iloc[:5, 60:].head().T"
   ]
  },
  {
   "cell_type": "markdown",
   "metadata": {},
   "source": [
    "# Export to new csv"
   ]
  },
  {
   "cell_type": "code",
   "execution_count": 210,
   "metadata": {},
   "outputs": [],
   "source": [
    "import os"
   ]
  },
  {
   "cell_type": "code",
   "execution_count": 211,
   "metadata": {
    "scrolled": true
   },
   "outputs": [
    {
     "data": {
      "text/plain": [
       "'/Users/nicholehartz/Documents/DataScience/Projects/Capstone2'"
      ]
     },
     "execution_count": 211,
     "metadata": {},
     "output_type": "execute_result"
    }
   ],
   "source": [
    "os.getcwd()"
   ]
  },
  {
   "cell_type": "code",
   "execution_count": 212,
   "metadata": {},
   "outputs": [],
   "source": [
    "df.to_csv('capstone2_dialysis_cleaned_data.csv')"
   ]
  }
 ],
 "metadata": {
  "kernelspec": {
   "display_name": "Python 3",
   "language": "python",
   "name": "python3"
  },
  "language_info": {
   "codemirror_mode": {
    "name": "ipython",
    "version": 3
   },
   "file_extension": ".py",
   "mimetype": "text/x-python",
   "name": "python",
   "nbconvert_exporter": "python",
   "pygments_lexer": "ipython3",
   "version": "3.8.2"
  }
 },
 "nbformat": 4,
 "nbformat_minor": 4
}
