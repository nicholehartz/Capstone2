{
 "cells": [
  {
   "cell_type": "markdown",
   "metadata": {},
   "source": [
    "# Data Collection"
   ]
  },
  {
   "cell_type": "code",
   "execution_count": 1,
   "metadata": {},
   "outputs": [],
   "source": [
    "import pandas as pd\n",
    "import numpy as np\n",
    "from datetime import date"
   ]
  },
  {
   "cell_type": "code",
   "execution_count": 2,
   "metadata": {},
   "outputs": [],
   "source": [
    "df = pd.read_csv('Data/Dialysis_Facility_Compare_-_Listing_by_Facility.csv')"
   ]
  },
  {
   "cell_type": "markdown",
   "metadata": {},
   "source": [
    "# Rename columns"
   ]
  },
  {
   "cell_type": "code",
   "execution_count": 3,
   "metadata": {},
   "outputs": [
    {
     "name": "stdout",
     "output_type": "stream",
     "text": [
      "Provider Number\n",
      "Network\n",
      "Facility Name\n",
      "Five Star Date\n",
      "Five Star\n",
      "Five Star Data Availability Code\n",
      "Address Line 1\n",
      "Address Line 2\n",
      "City\n",
      "State\n",
      "Zip\n",
      "County\n",
      "Phone Number\n",
      "Profit or Non-Profit\n",
      "Chain Owned\n",
      "Chain Organization\n",
      "Late Shift\n",
      "# of Dialysis Stations\n",
      "Offers in-center hemodialysis\n",
      "Offers peritoneal dialysis\n",
      "Offers home hemodialysis training\n",
      "Certification or Recertification Date\n",
      "Claims Date\n",
      "CROWNWeb Date\n",
      "STrR Date\n",
      "Percentage of Medicare patients with Hgb<10 g/dL\n",
      "HGB<10 data availability code\n",
      "Percentage of Medicare patients with Hgb>12 g/dL\n",
      "Hgb > 12 data availability code\n",
      "Number of Dialysis Patients with Hgb data\n",
      "Patient Transfusion data availability Code\n",
      "Patient Transfusion category text\n",
      "Number of patients included in the transfusion summary\n",
      "Percent of Adult HD patients with Kt/V >= 1.2\n",
      "Adult HD Kt/V data availability code\n",
      "Percentage of Adult PD PTS with Kt/V >= 1.7\n",
      "Adult PD Kt/V Data Availability Code\n",
      "Percentage of Pediatric HD patients with Kt/V >= 1.2\n",
      "Pediatric HD Kt/V Data Availability Code\n",
      "Number of Adult HD patients with Kt/V data\n",
      "Number of Adult HD patient-months with Kt/V data\n",
      "Number of Adult PD patients with Kt/V data\n",
      "Number of Adult PD patient-months with Kt/V data\n",
      "Number of Pediatric HD patients with Kt/V data\n",
      "Number of Pediatric HD patient-months with Kt/V data\n",
      "Hypercalcemia Data Availability Code\n",
      "Number of patients in hypercalcemia summary\n",
      "Number of patient-months in hypercalcemia summary\n",
      "Percentage of Adult patients with hypercalcemia (serum calcium greater than 10.2 mg/dL)\n",
      "Number of patients in Serum phosphorus summary\n",
      "Number of patient-months in Serum phosphorus summary \n",
      "Serum phosphorus Data Availability Code \n",
      "Percentage of Adult patients with serum phosphorus less than 3.5 mg/dL\n",
      "Percentage of Adult patients with serum phosphorus between 3.5-4.5 mg/dL\n",
      "Percentage of Adult patients with serum phosphorus between 4.6-5.5 mg/dL\n",
      "Percentage of Adult patients with serum phosphorus between 5.6-7.0 mg/dL\n",
      "Percentage of Adult patients with serum phosphorus greater than 7.0 mg/dL\n",
      "SHR Date\n",
      "SRR Date\n",
      "SMR Date\n",
      "Patient Hospitalization category text\n",
      "Patient Hospitalization data availability Code\n",
      "Patient Hospital Readmission Category\n",
      "Patient Hospital Readmission data availability Code\n",
      "Patient Survival Category Text\n",
      "Patient Survival data availability code\n",
      "Number of patients included in hospitalization summary\n",
      "Number of hospitalizations included in hospital readmission summary\n",
      "Number of patients included in survival summary\n",
      "Mortality Rate (Facility)\n",
      "Mortality Rate: Upper Confidence Limit (97.5%)\n",
      "Mortality Rate: Lower Confidence Limit (2.5%)\n",
      "Readmission Rate (Facility)\n",
      "Readmission Rate: Upper Confidence Limit (97.5%)\n",
      "Readmission Rate: Lower Confidence Limit (2.5%)\n",
      "Hospitalization Rate (Facility)\n",
      "Hospitalization Rate: Upper Confidence Limit (97.5%)\n",
      "Hospitalization Rate: Lower Confidence Limit (2.5%)\n",
      "Number of pediatric PD patients with Kt/V data\n",
      "Pediatric PD Kt/V Data Availability Code\n",
      "Number of pediatric PD patient-months with KT/V data\n",
      "Percentage of pediatric PD patients with Kt/V>=1.8\n",
      "SIR Date\n",
      "Patient Infection Data Availability Code\n",
      "Patient Infection category text\n",
      "Standard Infection Ratio\n",
      "SIR: Upper Confidence Limit (97.5%)\n",
      "SIR: Lower Confidence Limit (2.5%)\n",
      "Transfusion Rate (Facility)\n",
      "Transfusion Rate: Upper Confidence Limit (97.5%)\n",
      "Transfusion Rate: Lower Confidence Limit (2.5%)\n",
      "Fistula data availability code\n",
      "Fistula Category Text\n",
      "Number of Patients included in fistula summary\n",
      "Fistula Rate (Facility)\n",
      "Fistula Rate: Upper Confidence Limit (97.5%)\n",
      "Fistula Rate: Lower Confidence Limit (2.5%)\n",
      "Number of patients in long term catheter summary\n",
      "Number of patient months in long term catheter summary\n",
      "Long term catheter Data Availability Code\n",
      "Percentage of Adult patients with long term catheter in use\n",
      "Number of patients in nPCR summary\n",
      "Number of patient-months in nPCR summary\n",
      "nPCR Data Availability Code\n",
      "Percentage of pediatric HD patients with nPCR\n",
      "DATE_SWR\n",
      "SWR category text\n",
      "Patient transplant waitlist data availability code\n",
      "95% C.I. (upper limit) for SWR\n",
      "95% C.I. (lower limit) for SWR\n",
      "Number of patients in this facility for SWR\n",
      "Standardized First Kidney Transplant Waitlist Ratio\n",
      "PPPW category text\n",
      "Patient prevalent transplant waitlist data availability code\n",
      "95% C.I. (upper limit) for PPPW\n",
      "95% C.I. (lower limit) for PPPW\n",
      "Number of patients for PPPW\n",
      "Percentage of Prevalent Patients Waitlisted\n",
      "Location\n"
     ]
    }
   ],
   "source": [
    "for c in df.columns:\n",
    "    print(c)"
   ]
  },
  {
   "cell_type": "code",
   "execution_count": 4,
   "metadata": {},
   "outputs": [],
   "source": [
    "df.columns = [col.title() for col in df.columns]"
   ]
  },
  {
   "cell_type": "code",
   "execution_count": 5,
   "metadata": {},
   "outputs": [],
   "source": [
    "df = df.rename(columns= {'Five Star Date' : 'Star Rating Date',\n",
    "                        'Five Star' : 'Star Rating',\n",
    "                        'Five Star Data Availability Code' : 'Star Rating Data Availability Code',\n",
    "                        '# Of Dialysis Stations' : 'Number Of Dialysis Stations', \n",
    "                        'Crownweb Date' : 'CROWNWeb Date',\n",
    "                        'Strr Date' : 'STrR Date', \n",
    "                        'Percentage Of Medicare Patients With Hgb<10 G/Dl' : 'Percentage Of Medicare Patients With Hgb < 10 g/dL', \n",
    "                        'Hgb<10 Data Availability Code' : 'Hgb < 10 Data Availability Code', \n",
    "                        'Percentage Of Medicare Patients With Hgb>12 G/Dl' : 'Percentage Of Medicare Patients With Hgb > 12 g/dL', \n",
    "                        'Percent Of Adult Hd Patients With Kt/V >= 1.2' : 'Percent Of Adult HD Patients With Kt/V >= 1.2', \n",
    "                        'Adult Hd Kt/V Data Availability Code' : 'Adult HD Kt/V Data Availability Code', \n",
    "                        'Percentage Of Adult Pd Pts With Kt/V >= 1.7' : 'Percentage Of Adult PD PTS With Kt/V >= 1.7',\n",
    "                        'Adult Pd Kt/V Data Availability Code' : 'Adult PD Kt/V Data Availability Code', \n",
    "                        'Percentage Of Pediatric Hd Patients With Kt/V >= 1.2' : 'Percentage Of Pediatric HD Patients With Kt/V >= 1.2', \n",
    "                        'Pediatric Hd Kt/V Data Availability Code' : 'Pediatric HD Kt/V Data Availability Code', \n",
    "                        'Number Of Adult Hd Patients With Kt/V Data' : 'Number Of Adult HD Patients With Kt/V Data', \n",
    "                        'Number Of Adult Hd Patient-Months With Kt/V Data' : 'Number Of Adult HD Patient-Months With Kt/V Data', \n",
    "                        'Number Of Adult Pd Patients With Kt/V Data' : 'Number Of Adult PD Patients With Kt/V Data', \n",
    "                        'Number Of Adult Pd Patient-Months With Kt/V Data' : 'Number Of Adult PD Patient-Months With Kt/V Data', \n",
    "                        'Number Of Pediatric Hd Patients With Kt/V Data' : 'Number Of Pediatric HD Patients With Kt/V Data', \n",
    "                        'Number Of Pediatric Hd Patient-Months With Kt/V Data' : 'Number Of Pediatric HD Patient-Months With Kt/V Data', \n",
    "                        'Percentage Of Adult Patients With Hypercalcemia (Serum Calcium Greater Than 10.2 Mg/Dl)' : 'Percentage Of Adult Patients With Hypercalcemia (Serum Calcium Greater Than 10.2 mg/dL)', \n",
    "                        'Number Of Patient-Months In Serum Phosphorus Summary ' : 'Number Of Patient-Months In Serum Phosphorus Summary', \n",
    "                        'Serum Phosphorus Data Availability Code ' : 'Serum Phosphorus Data Availability Code',\n",
    "                        'Percentage Of Adult Patients With Serum Phosphorus Less Than 3.5 Mg/Dl' : 'Percentage Of Adult Patients With Serum Phosphorus Less Than 3.5 mg/dL',\n",
    "                        'Percentage Of Adult Patients With Serum Phosphorus Between 3.5-4.5 Mg/Dl' : 'Percentage Of Adult Patients With Serum Phosphorus Between 3.5 - 4.5 mg/dL', \n",
    "                        'Percentage Of Adult Patients With Serum Phosphorus Between 4.6-5.5 Mg/Dl' : 'Percentage Of Adult Patients With Serum Phosphorus Between 4.6 - 5.5 mg/dL', \n",
    "                        'Percentage Of Adult Patients With Serum Phosphorus Between 5.6-7.0 Mg/Dl' : 'Percentage Of Adult Patients With Serum Phosphorus Between 5.6 - 7.0 mg/dL', \n",
    "                        'Percentage Of Adult Patients With Serum Phosphorus Greater Than 7.0 Mg/Dl' : 'Percentage Of Adult Patients With Serum Phosphorus Greater Than 7.0 mg/dL',                         \n",
    "                        'Shr Date' : 'SHR Date', \n",
    "                        'Srr Date' : 'SRR Date', \n",
    "                        'Smr Date' : 'SMR Date', \n",
    "                        'Patient Hospital Readmission Category' : 'Patient Hospital Readmission Category Text', \n",
    "                        'Number Of Pediatric Pd Patients With Kt/V Data' : 'Number Of Pediatric PD Patients With Kt/V Data', \n",
    "                        'Pediatric Pd Kt/V Data Availability Code' : 'Pediatric PD Kt/V Data Availability Code', \n",
    "                        'Number Of Pediatric Pd Patient-Months With Kt/V Data' : 'Number Of Pediatric PD Patient-Months With Kt/V Data', \n",
    "                        'Percentage Of Pediatric Pd Patients With Kt/V>=1.8' : 'Percentage Of Pediatric PD Patients With Kt/V >= 1.8', \n",
    "                        'Sir Date' : 'SIR Date', \n",
    "                        'Sir: Upper Confidence Limit (97.5%)' : 'SIR: Upper Confidence Limit (97.5%)', \n",
    "                        'Sir: Lower Confidence Limit (2.5%)' : 'SIR: Lower Confidence Limit (2.5%)', \n",
    "                        'Number Of Patient Months In Long Term Catheter Summary' : 'Number Of Patient-Months In Long Term Catheter Summary', \n",
    "                        'Number Of Patients In Npcr Summary' : 'Number Of Patients In nPCR Summary', \n",
    "                        'Number Of Patient-Months In Npcr Summary' : 'Number Of Patient-Months In nPCR Summary', \n",
    "                        'Npcr Data Availability Code' : 'nPCR Data Availability Code', \n",
    "                        'Percentage Of Pediatric Hd Patients With Npcr' : 'Percentage Of Pediatric HD Patients With nPCR', \n",
    "                        'Date_Swr' : 'SWR Date', \n",
    "                        'Swr Category Text' : 'SWR Category Text', \n",
    "                        '95% C.I. (Upper Limit) For Swr' : '95% C.I. (Upper Limit) For SWR', \n",
    "                        '95% C.I. (Lower Limit) For Swr' : '95% C.I. (Lower Limit) For SWR', \n",
    "                        'Number Of Patients In This Facility For Swr' : 'Number Of Patients In This Facility For SWR',  \n",
    "                        'Pppw Category Text' : 'PPPW Category Text', \n",
    "                        '95% C.I. (Upper Limit) For Pppw' : '95% C.I. (Upper Limit) For PPPW', \n",
    "                        '95% C.I. (Lower Limit) For Pppw' : '95% C.I. (Lower Limit) For PPPW', \n",
    "                        'Number Of Patients For Pppw' : 'Number Of Patients For PPPW'\n",
    "                       })"
   ]
  },
  {
   "cell_type": "markdown",
   "metadata": {},
   "source": [
    "# Correct dtypes"
   ]
  },
  {
   "cell_type": "code",
   "execution_count": 6,
   "metadata": {},
   "outputs": [],
   "source": [
    "isnumeric = ['Star Rating', \n",
    "             'Percentage Of Medicare Patients With Hgb < 10 g/dL', \n",
    "             'Percentage Of Medicare Patients With Hgb > 12 g/dL', \n",
    "             'Number Of Dialysis Patients With Hgb Data', \n",
    "             'Number Of Patients Included In The Transfusion Summary', \n",
    "             'Percent Of Adult HD Patients With Kt/V >= 1.2', \n",
    "             'Percentage Of Adult PD PTS With Kt/V >= 1.7', \n",
    "             'Percentage Of Pediatric HD Patients With Kt/V >= 1.2', \n",
    "             'Number Of Adult HD Patients With Kt/V Data', \n",
    "             'Number Of Adult HD Patient-Months With Kt/V Data', \n",
    "             'Number Of Adult PD Patients With Kt/V Data', \n",
    "             'Number Of Adult PD Patient-Months With Kt/V Data', \n",
    "             'Number Of Pediatric HD Patients With Kt/V Data', \n",
    "             'Number Of Pediatric HD Patient-Months With Kt/V Data', \n",
    "             'Number Of Patients In Hypercalcemia Summary', \n",
    "             'Number Of Patient-Months In Hypercalcemia Summary', \n",
    "             'Percentage Of Adult Patients With Hypercalcemia (Serum Calcium Greater Than 10.2 mg/dL)', \n",
    "             'Number Of Patients In Serum Phosphorus Summary', \n",
    "             'Number Of Patient-Months In Serum Phosphorus Summary', \n",
    "             'Percentage Of Adult Patients With Serum Phosphorus Less Than 3.5 mg/dL', \n",
    "             'Percentage Of Adult Patients With Serum Phosphorus Between 3.5 - 4.5 mg/dL', \n",
    "             'Percentage Of Adult Patients With Serum Phosphorus Between 4.6 - 5.5 mg/dL', \n",
    "             'Percentage Of Adult Patients With Serum Phosphorus Between 5.6 - 7.0 mg/dL', \n",
    "             'Percentage Of Adult Patients With Serum Phosphorus Greater Than 7.0 mg/dL', \n",
    "             'Number Of Patients Included In Hospitalization Summary', \n",
    "             'Number Of Hospitalizations Included In Hospital Readmission Summary', \n",
    "             'Number Of Patients Included In Survival Summary', \n",
    "             'Mortality Rate (Facility)', \n",
    "             'Mortality Rate: Upper Confidence Limit (97.5%)', \n",
    "             'Mortality Rate: Lower Confidence Limit (2.5%)', \n",
    "             'Readmission Rate (Facility)', \n",
    "             'Readmission Rate: Upper Confidence Limit (97.5%)', \n",
    "             'Readmission Rate: Lower Confidence Limit (2.5%)', \n",
    "             'Hospitalization Rate (Facility)', \n",
    "             'Hospitalization Rate: Upper Confidence Limit (97.5%)', \n",
    "             'Hospitalization Rate: Lower Confidence Limit (2.5%)', \n",
    "             'Number Of Pediatric PD Patients With Kt/V Data', \n",
    "             'Number Of Pediatric PD Patient-Months With Kt/V Data', \n",
    "             'Percentage Of Pediatric PD Patients With Kt/V >= 1.8', \n",
    "             'Standard Infection Ratio', \n",
    "             'SIR: Upper Confidence Limit (97.5%)', \n",
    "             'SIR: Lower Confidence Limit (2.5%)', \n",
    "             'Transfusion Rate (Facility)', \n",
    "             'Transfusion Rate: Upper Confidence Limit (97.5%)', \n",
    "             'Transfusion Rate: Lower Confidence Limit (2.5%)', \n",
    "             'Number Of Patients Included In Fistula Summary', \n",
    "             'Fistula Rate (Facility)', \n",
    "             'Fistula Rate: Upper Confidence Limit (97.5%)', \n",
    "             'Fistula Rate: Lower Confidence Limit (2.5%)', \n",
    "             'Number Of Patients In Long Term Catheter Summary', \n",
    "             'Number Of Patient-Months In Long Term Catheter Summary', \n",
    "             'Percentage Of Adult Patients With Long Term Catheter In Use', \n",
    "             'Number Of Patients In nPCR Summary', \n",
    "             'Number Of Patient-Months In nPCR Summary', \n",
    "             'Percentage Of Pediatric HD Patients With nPCR', \n",
    "             '95% C.I. (Upper Limit) For SWR', \n",
    "             '95% C.I. (Lower Limit) For SWR', \n",
    "             'Number Of Patients In This Facility For SWR', \n",
    "             'Standardized First Kidney Transplant Waitlist Ratio', \n",
    "             '95% C.I. (Upper Limit) For PPPW', \n",
    "             '95% C.I. (Lower Limit) For PPPW', \n",
    "             'Number Of Patients For PPPW', \n",
    "             'Percentage Of Prevalent Patients Waitlisted']"
   ]
  },
  {
   "cell_type": "code",
   "execution_count": 7,
   "metadata": {},
   "outputs": [],
   "source": [
    "for col in  df[isnumeric]:\n",
    "    df[col] = pd.to_numeric(df[col], errors='coerce')"
   ]
  },
  {
   "cell_type": "code",
   "execution_count": 8,
   "metadata": {},
   "outputs": [],
   "source": [
    "isdateframe = ['Star Rating Date', 'Claims Date', 'CROWNWeb Date', 'STrR Date', 'SHR Date', 'SRR Date', 'SMR Date', 'SIR Date', 'SWR Date']"
   ]
  },
  {
   "cell_type": "code",
   "execution_count": 9,
   "metadata": {},
   "outputs": [],
   "source": [
    "isdate = ['Certification Or Recertification Date']"
   ]
  },
  {
   "cell_type": "markdown",
   "metadata": {},
   "source": [
    "# Missing Values"
   ]
  },
  {
   "cell_type": "code",
   "execution_count": 10,
   "metadata": {},
   "outputs": [],
   "source": [
    "df.replace(to_replace=['Not Available'], value=np.nan, inplace=True)"
   ]
  },
  {
   "cell_type": "code",
   "execution_count": 11,
   "metadata": {},
   "outputs": [],
   "source": [
    "availabilitycode = ['Star Rating Data Availability Code', \n",
    "                    'Hgb < 10 Data Availability Code', \n",
    "                    'Hgb > 12 Data Availability Code', \n",
    "                    'Patient Transfusion Data Availability Code', \n",
    "                    'Adult HD Kt/V Data Availability Code', \n",
    "                    'Adult PD Kt/V Data Availability Code', \n",
    "                    'Pediatric HD Kt/V Data Availability Code', \n",
    "                    'Hypercalcemia Data Availability Code', \n",
    "                    'Serum Phosphorus Data Availability Code', \n",
    "                    'Patient Hospitalization Data Availability Code', \n",
    "                    'Patient Hospital Readmission Data Availability Code', \n",
    "                    'Patient Survival Data Availability Code', \n",
    "                    'Pediatric PD Kt/V Data Availability Code', \n",
    "                    'Patient Infection Data Availability Code', \n",
    "                    'Fistula Data Availability Code', \n",
    "                    'Long Term Catheter Data Availability Code', \n",
    "                    'nPCR Data Availability Code', \n",
    "                    'Patient Transplant Waitlist Data Availability Code', \n",
    "                    'Patient Prevalent Transplant Waitlist Data Availability Code']"
   ]
  },
  {
   "cell_type": "code",
   "execution_count": 12,
   "metadata": {},
   "outputs": [],
   "source": [
    "df[availabilitycode] = df[availabilitycode].replace(to_replace=[1], value=np.nan)"
   ]
  },
  {
   "cell_type": "markdown",
   "metadata": {},
   "source": [
    "# Data Definition"
   ]
  },
  {
   "cell_type": "markdown",
   "metadata": {},
   "source": [
    "### Head & Tail"
   ]
  },
  {
   "cell_type": "code",
   "execution_count": 13,
   "metadata": {
    "scrolled": false
   },
   "outputs": [
    {
     "data": {
      "text/html": [
       "<div>\n",
       "<style scoped>\n",
       "    .dataframe tbody tr th:only-of-type {\n",
       "        vertical-align: middle;\n",
       "    }\n",
       "\n",
       "    .dataframe tbody tr th {\n",
       "        vertical-align: top;\n",
       "    }\n",
       "\n",
       "    .dataframe thead th {\n",
       "        text-align: right;\n",
       "    }\n",
       "</style>\n",
       "<table border=\"1\" class=\"dataframe\">\n",
       "  <thead>\n",
       "    <tr style=\"text-align: right;\">\n",
       "      <th></th>\n",
       "      <th>0</th>\n",
       "      <th>1</th>\n",
       "      <th>2</th>\n",
       "      <th>3</th>\n",
       "      <th>4</th>\n",
       "    </tr>\n",
       "  </thead>\n",
       "  <tbody>\n",
       "    <tr>\n",
       "      <th>Provider Number</th>\n",
       "      <td>32647</td>\n",
       "      <td>42595</td>\n",
       "      <td>62591</td>\n",
       "      <td>102816</td>\n",
       "      <td>112867</td>\n",
       "    </tr>\n",
       "    <tr>\n",
       "      <th>Network</th>\n",
       "      <td>15</td>\n",
       "      <td>13</td>\n",
       "      <td>15</td>\n",
       "      <td>7</td>\n",
       "      <td>6</td>\n",
       "    </tr>\n",
       "    <tr>\n",
       "      <th>Facility Name</th>\n",
       "      <td>FMC NORTH MOUNTAIN</td>\n",
       "      <td>DAVITA POCAHONTAS DIALYSIS</td>\n",
       "      <td>DAVITA PLATTE VALLEY DIALYSIS</td>\n",
       "      <td>DAVITA MELBOURNE DIALYSIS</td>\n",
       "      <td>DAVITA WEST HIRAM DIALYSIS</td>\n",
       "    </tr>\n",
       "    <tr>\n",
       "      <th>Star Rating Date</th>\n",
       "      <td>01/01/2016 - 12/31/2019</td>\n",
       "      <td>01/01/2016 - 12/31/2019</td>\n",
       "      <td>01/01/2016 - 12/31/2019</td>\n",
       "      <td>01/01/2016 - 12/31/2019</td>\n",
       "      <td>01/01/2016 - 12/31/2019</td>\n",
       "    </tr>\n",
       "    <tr>\n",
       "      <th>Star Rating</th>\n",
       "      <td>4</td>\n",
       "      <td>3</td>\n",
       "      <td>5</td>\n",
       "      <td>2</td>\n",
       "      <td>4</td>\n",
       "    </tr>\n",
       "    <tr>\n",
       "      <th>Star Rating Data Availability Code</th>\n",
       "      <td>NaN</td>\n",
       "      <td>NaN</td>\n",
       "      <td>NaN</td>\n",
       "      <td>NaN</td>\n",
       "      <td>NaN</td>\n",
       "    </tr>\n",
       "    <tr>\n",
       "      <th>Address Line 1</th>\n",
       "      <td>16605 NORTH 28TH AVENUE</td>\n",
       "      <td>404 CAMP RD</td>\n",
       "      <td>1321 S 4TH AVE</td>\n",
       "      <td>2235 SOUTH BABCOCK ST</td>\n",
       "      <td>76 HIGHLAND PAVILION COURT</td>\n",
       "    </tr>\n",
       "    <tr>\n",
       "      <th>Address Line 2</th>\n",
       "      <td>SUITE 100</td>\n",
       "      <td>NaN</td>\n",
       "      <td>SUITE 100</td>\n",
       "      <td>NaN</td>\n",
       "      <td>NaN</td>\n",
       "    </tr>\n",
       "    <tr>\n",
       "      <th>City</th>\n",
       "      <td>PHOENIX</td>\n",
       "      <td>POCAHONTAS</td>\n",
       "      <td>BRIGHTON</td>\n",
       "      <td>MELBOURNE</td>\n",
       "      <td>HIRAM</td>\n",
       "    </tr>\n",
       "    <tr>\n",
       "      <th>State</th>\n",
       "      <td>AZ</td>\n",
       "      <td>AR</td>\n",
       "      <td>CO</td>\n",
       "      <td>FL</td>\n",
       "      <td>GA</td>\n",
       "    </tr>\n",
       "    <tr>\n",
       "      <th>Zip</th>\n",
       "      <td>85053</td>\n",
       "      <td>72455</td>\n",
       "      <td>80601</td>\n",
       "      <td>32901</td>\n",
       "      <td>30141</td>\n",
       "    </tr>\n",
       "    <tr>\n",
       "      <th>County</th>\n",
       "      <td>MARICOPA</td>\n",
       "      <td>RANDOLPH</td>\n",
       "      <td>ADAMS</td>\n",
       "      <td>BREVARD</td>\n",
       "      <td>PAULDING</td>\n",
       "    </tr>\n",
       "    <tr>\n",
       "      <th>Phone Number</th>\n",
       "      <td>(602) 863-7954</td>\n",
       "      <td>(870) 248-0138</td>\n",
       "      <td>(303) 654-8202</td>\n",
       "      <td>(321) 956-6252</td>\n",
       "      <td>(678) 384-1180</td>\n",
       "    </tr>\n",
       "    <tr>\n",
       "      <th>Profit Or Non-Profit</th>\n",
       "      <td>Profit</td>\n",
       "      <td>Profit</td>\n",
       "      <td>Profit</td>\n",
       "      <td>Profit</td>\n",
       "      <td>Profit</td>\n",
       "    </tr>\n",
       "    <tr>\n",
       "      <th>Chain Owned</th>\n",
       "      <td>Yes</td>\n",
       "      <td>Yes</td>\n",
       "      <td>Yes</td>\n",
       "      <td>Yes</td>\n",
       "      <td>Yes</td>\n",
       "    </tr>\n",
       "    <tr>\n",
       "      <th>Chain Organization</th>\n",
       "      <td>FRESENIUS MEDICAL CARE</td>\n",
       "      <td>DAVITA</td>\n",
       "      <td>DAVITA</td>\n",
       "      <td>DAVITA</td>\n",
       "      <td>DAVITA</td>\n",
       "    </tr>\n",
       "    <tr>\n",
       "      <th>Late Shift</th>\n",
       "      <td>0</td>\n",
       "      <td>0</td>\n",
       "      <td>0</td>\n",
       "      <td>0</td>\n",
       "      <td>0</td>\n",
       "    </tr>\n",
       "    <tr>\n",
       "      <th>Number Of Dialysis Stations</th>\n",
       "      <td>25</td>\n",
       "      <td>8</td>\n",
       "      <td>12</td>\n",
       "      <td>16</td>\n",
       "      <td>13</td>\n",
       "    </tr>\n",
       "    <tr>\n",
       "      <th>Offers In-Center Hemodialysis</th>\n",
       "      <td>1</td>\n",
       "      <td>1</td>\n",
       "      <td>1</td>\n",
       "      <td>1</td>\n",
       "      <td>1</td>\n",
       "    </tr>\n",
       "    <tr>\n",
       "      <th>Offers Peritoneal Dialysis</th>\n",
       "      <td>0</td>\n",
       "      <td>1</td>\n",
       "      <td>1</td>\n",
       "      <td>1</td>\n",
       "      <td>1</td>\n",
       "    </tr>\n",
       "    <tr>\n",
       "      <th>Offers Home Hemodialysis Training</th>\n",
       "      <td>0</td>\n",
       "      <td>0</td>\n",
       "      <td>0</td>\n",
       "      <td>0</td>\n",
       "      <td>1</td>\n",
       "    </tr>\n",
       "    <tr>\n",
       "      <th>Certification Or Recertification Date</th>\n",
       "      <td>10/12/2016</td>\n",
       "      <td>06/14/2016</td>\n",
       "      <td>01/02/2018</td>\n",
       "      <td>03/23/2005</td>\n",
       "      <td>05/14/2013</td>\n",
       "    </tr>\n",
       "    <tr>\n",
       "      <th>Claims Date</th>\n",
       "      <td>01/01/2019 - 12/31/2019</td>\n",
       "      <td>01/01/2019 - 12/31/2019</td>\n",
       "      <td>01/01/2019 - 12/31/2019</td>\n",
       "      <td>01/01/2019 - 12/31/2019</td>\n",
       "      <td>01/01/2019 - 12/31/2019</td>\n",
       "    </tr>\n",
       "    <tr>\n",
       "      <th>CROWNWeb Date</th>\n",
       "      <td>01/01/2019 - 12/31/2019</td>\n",
       "      <td>01/01/2019 - 12/31/2019</td>\n",
       "      <td>01/01/2019 - 12/31/2019</td>\n",
       "      <td>01/01/2019 - 12/31/2019</td>\n",
       "      <td>01/01/2019 - 12/31/2019</td>\n",
       "    </tr>\n",
       "    <tr>\n",
       "      <th>STrR Date</th>\n",
       "      <td>01/01/2019 - 12/31/2019</td>\n",
       "      <td>01/01/2019 - 12/31/2019</td>\n",
       "      <td>01/01/2019 - 12/31/2019</td>\n",
       "      <td>01/01/2019 - 12/31/2019</td>\n",
       "      <td>01/01/2019 - 12/31/2019</td>\n",
       "    </tr>\n",
       "    <tr>\n",
       "      <th>Percentage Of Medicare Patients With Hgb &lt; 10 g/dL</th>\n",
       "      <td>8</td>\n",
       "      <td>14</td>\n",
       "      <td>0</td>\n",
       "      <td>15</td>\n",
       "      <td>19</td>\n",
       "    </tr>\n",
       "    <tr>\n",
       "      <th>Hgb &lt; 10 Data Availability Code</th>\n",
       "      <td>NaN</td>\n",
       "      <td>NaN</td>\n",
       "      <td>NaN</td>\n",
       "      <td>NaN</td>\n",
       "      <td>NaN</td>\n",
       "    </tr>\n",
       "    <tr>\n",
       "      <th>Percentage Of Medicare Patients With Hgb &gt; 12 g/dL</th>\n",
       "      <td>0</td>\n",
       "      <td>0</td>\n",
       "      <td>0</td>\n",
       "      <td>0</td>\n",
       "      <td>0</td>\n",
       "    </tr>\n",
       "    <tr>\n",
       "      <th>Hgb &gt; 12 Data Availability Code</th>\n",
       "      <td>NaN</td>\n",
       "      <td>NaN</td>\n",
       "      <td>NaN</td>\n",
       "      <td>NaN</td>\n",
       "      <td>NaN</td>\n",
       "    </tr>\n",
       "    <tr>\n",
       "      <th>Number Of Dialysis Patients With Hgb Data</th>\n",
       "      <td>25</td>\n",
       "      <td>21</td>\n",
       "      <td>11</td>\n",
       "      <td>27</td>\n",
       "      <td>37</td>\n",
       "    </tr>\n",
       "    <tr>\n",
       "      <th>Patient Transfusion Data Availability Code</th>\n",
       "      <td>NaN</td>\n",
       "      <td>NaN</td>\n",
       "      <td>NaN</td>\n",
       "      <td>NaN</td>\n",
       "      <td>NaN</td>\n",
       "    </tr>\n",
       "    <tr>\n",
       "      <th>Patient Transfusion Category Text</th>\n",
       "      <td>As Expected</td>\n",
       "      <td>As Expected</td>\n",
       "      <td>As Expected</td>\n",
       "      <td>Worse than Expected</td>\n",
       "      <td>As Expected</td>\n",
       "    </tr>\n",
       "    <tr>\n",
       "      <th>Number Of Patients Included In The Transfusion Summary</th>\n",
       "      <td>56</td>\n",
       "      <td>38</td>\n",
       "      <td>26</td>\n",
       "      <td>57</td>\n",
       "      <td>55</td>\n",
       "    </tr>\n",
       "    <tr>\n",
       "      <th>Percent Of Adult HD Patients With Kt/V &gt;= 1.2</th>\n",
       "      <td>98</td>\n",
       "      <td>97</td>\n",
       "      <td>100</td>\n",
       "      <td>99</td>\n",
       "      <td>97</td>\n",
       "    </tr>\n",
       "    <tr>\n",
       "      <th>Adult HD Kt/V Data Availability Code</th>\n",
       "      <td>NaN</td>\n",
       "      <td>NaN</td>\n",
       "      <td>NaN</td>\n",
       "      <td>NaN</td>\n",
       "      <td>NaN</td>\n",
       "    </tr>\n",
       "    <tr>\n",
       "      <th>Percentage Of Adult PD PTS With Kt/V &gt;= 1.7</th>\n",
       "      <td>NaN</td>\n",
       "      <td>97</td>\n",
       "      <td>76</td>\n",
       "      <td>81</td>\n",
       "      <td>NaN</td>\n",
       "    </tr>\n",
       "    <tr>\n",
       "      <th>Adult PD Kt/V Data Availability Code</th>\n",
       "      <td>257</td>\n",
       "      <td>NaN</td>\n",
       "      <td>NaN</td>\n",
       "      <td>NaN</td>\n",
       "      <td>199</td>\n",
       "    </tr>\n",
       "    <tr>\n",
       "      <th>Percentage Of Pediatric HD Patients With Kt/V &gt;= 1.2</th>\n",
       "      <td>NaN</td>\n",
       "      <td>NaN</td>\n",
       "      <td>NaN</td>\n",
       "      <td>NaN</td>\n",
       "      <td>NaN</td>\n",
       "    </tr>\n",
       "    <tr>\n",
       "      <th>Pediatric HD Kt/V Data Availability Code</th>\n",
       "      <td>259</td>\n",
       "      <td>259</td>\n",
       "      <td>259</td>\n",
       "      <td>259</td>\n",
       "      <td>259</td>\n",
       "    </tr>\n",
       "    <tr>\n",
       "      <th>Number Of Adult HD Patients With Kt/V Data</th>\n",
       "      <td>91</td>\n",
       "      <td>43</td>\n",
       "      <td>26</td>\n",
       "      <td>59</td>\n",
       "      <td>64</td>\n",
       "    </tr>\n",
       "    <tr>\n",
       "      <th>Number Of Adult HD Patient-Months With Kt/V Data</th>\n",
       "      <td>608</td>\n",
       "      <td>369</td>\n",
       "      <td>206</td>\n",
       "      <td>358</td>\n",
       "      <td>569</td>\n",
       "    </tr>\n",
       "    <tr>\n",
       "      <th>Number Of Adult PD Patients With Kt/V Data</th>\n",
       "      <td>0</td>\n",
       "      <td>13</td>\n",
       "      <td>18</td>\n",
       "      <td>21</td>\n",
       "      <td>4</td>\n",
       "    </tr>\n",
       "    <tr>\n",
       "      <th>Number Of Adult PD Patient-Months With Kt/V Data</th>\n",
       "      <td>NaN</td>\n",
       "      <td>97</td>\n",
       "      <td>112</td>\n",
       "      <td>185</td>\n",
       "      <td>43</td>\n",
       "    </tr>\n",
       "    <tr>\n",
       "      <th>Number Of Pediatric HD Patients With Kt/V Data</th>\n",
       "      <td>0</td>\n",
       "      <td>0</td>\n",
       "      <td>0</td>\n",
       "      <td>0</td>\n",
       "      <td>0</td>\n",
       "    </tr>\n",
       "    <tr>\n",
       "      <th>Number Of Pediatric HD Patient-Months With Kt/V Data</th>\n",
       "      <td>NaN</td>\n",
       "      <td>NaN</td>\n",
       "      <td>NaN</td>\n",
       "      <td>NaN</td>\n",
       "      <td>NaN</td>\n",
       "    </tr>\n",
       "    <tr>\n",
       "      <th>Hypercalcemia Data Availability Code</th>\n",
       "      <td>NaN</td>\n",
       "      <td>NaN</td>\n",
       "      <td>NaN</td>\n",
       "      <td>NaN</td>\n",
       "      <td>NaN</td>\n",
       "    </tr>\n",
       "    <tr>\n",
       "      <th>Number Of Patients In Hypercalcemia Summary</th>\n",
       "      <td>96</td>\n",
       "      <td>56</td>\n",
       "      <td>42</td>\n",
       "      <td>77</td>\n",
       "      <td>76</td>\n",
       "    </tr>\n",
       "    <tr>\n",
       "      <th>Number Of Patient-Months In Hypercalcemia Summary</th>\n",
       "      <td>665</td>\n",
       "      <td>495</td>\n",
       "      <td>351</td>\n",
       "      <td>566</td>\n",
       "      <td>710</td>\n",
       "    </tr>\n",
       "    <tr>\n",
       "      <th>Percentage Of Adult Patients With Hypercalcemia (Serum Calcium Greater Than 10.2 mg/dL)</th>\n",
       "      <td>2</td>\n",
       "      <td>7</td>\n",
       "      <td>3</td>\n",
       "      <td>0</td>\n",
       "      <td>1</td>\n",
       "    </tr>\n",
       "    <tr>\n",
       "      <th>Number Of Patients In Serum Phosphorus Summary</th>\n",
       "      <td>108</td>\n",
       "      <td>58</td>\n",
       "      <td>45</td>\n",
       "      <td>87</td>\n",
       "      <td>79</td>\n",
       "    </tr>\n",
       "    <tr>\n",
       "      <th>Number Of Patient-Months In Serum Phosphorus Summary</th>\n",
       "      <td>720</td>\n",
       "      <td>498</td>\n",
       "      <td>358</td>\n",
       "      <td>606</td>\n",
       "      <td>718</td>\n",
       "    </tr>\n",
       "    <tr>\n",
       "      <th>Serum Phosphorus Data Availability Code</th>\n",
       "      <td>NaN</td>\n",
       "      <td>NaN</td>\n",
       "      <td>NaN</td>\n",
       "      <td>NaN</td>\n",
       "      <td>NaN</td>\n",
       "    </tr>\n",
       "    <tr>\n",
       "      <th>Percentage Of Adult Patients With Serum Phosphorus Less Than 3.5 mg/dL</th>\n",
       "      <td>7</td>\n",
       "      <td>4</td>\n",
       "      <td>4</td>\n",
       "      <td>7</td>\n",
       "      <td>10</td>\n",
       "    </tr>\n",
       "    <tr>\n",
       "      <th>Percentage Of Adult Patients With Serum Phosphorus Between 3.5 - 4.5 mg/dL</th>\n",
       "      <td>28</td>\n",
       "      <td>21</td>\n",
       "      <td>25</td>\n",
       "      <td>21</td>\n",
       "      <td>27</td>\n",
       "    </tr>\n",
       "    <tr>\n",
       "      <th>Percentage Of Adult Patients With Serum Phosphorus Between 4.6 - 5.5 mg/dL</th>\n",
       "      <td>30</td>\n",
       "      <td>46</td>\n",
       "      <td>30</td>\n",
       "      <td>23</td>\n",
       "      <td>34</td>\n",
       "    </tr>\n",
       "    <tr>\n",
       "      <th>Percentage Of Adult Patients With Serum Phosphorus Between 5.6 - 7.0 mg/dL</th>\n",
       "      <td>26</td>\n",
       "      <td>13</td>\n",
       "      <td>23</td>\n",
       "      <td>22</td>\n",
       "      <td>23</td>\n",
       "    </tr>\n",
       "    <tr>\n",
       "      <th>Percentage Of Adult Patients With Serum Phosphorus Greater Than 7.0 mg/dL</th>\n",
       "      <td>9</td>\n",
       "      <td>16</td>\n",
       "      <td>17</td>\n",
       "      <td>27</td>\n",
       "      <td>7</td>\n",
       "    </tr>\n",
       "    <tr>\n",
       "      <th>SHR Date</th>\n",
       "      <td>01/01/2019 - 12/31/2019</td>\n",
       "      <td>01/01/2019 - 12/31/2019</td>\n",
       "      <td>01/01/2019 - 12/31/2019</td>\n",
       "      <td>01/01/2019 - 12/31/2019</td>\n",
       "      <td>01/01/2019 - 12/31/2019</td>\n",
       "    </tr>\n",
       "    <tr>\n",
       "      <th>SRR Date</th>\n",
       "      <td>01/01/2019 - 12/31/2019</td>\n",
       "      <td>01/01/2019 - 12/31/2019</td>\n",
       "      <td>01/01/2019 - 12/31/2019</td>\n",
       "      <td>01/01/2019 - 12/31/2019</td>\n",
       "      <td>01/01/2019 - 12/31/2019</td>\n",
       "    </tr>\n",
       "    <tr>\n",
       "      <th>SMR Date</th>\n",
       "      <td>01/01/2016 - 12/31/2019</td>\n",
       "      <td>01/01/2016 - 12/31/2019</td>\n",
       "      <td>01/01/2016 - 12/31/2019</td>\n",
       "      <td>01/01/2016 - 12/31/2019</td>\n",
       "      <td>01/01/2016 - 12/31/2019</td>\n",
       "    </tr>\n",
       "  </tbody>\n",
       "</table>\n",
       "</div>"
      ],
      "text/plain": [
       "                                                                          0  \\\n",
       "Provider Number                                                       32647   \n",
       "Network                                                                  15   \n",
       "Facility Name                                            FMC NORTH MOUNTAIN   \n",
       "Star Rating Date                                    01/01/2016 - 12/31/2019   \n",
       "Star Rating                                                               4   \n",
       "Star Rating Data Availability Code                                      NaN   \n",
       "Address Line 1                                      16605 NORTH 28TH AVENUE   \n",
       "Address Line 2                                                    SUITE 100   \n",
       "City                                                                PHOENIX   \n",
       "State                                                                    AZ   \n",
       "Zip                                                                   85053   \n",
       "County                                                             MARICOPA   \n",
       "Phone Number                                                 (602) 863-7954   \n",
       "Profit Or Non-Profit                                                 Profit   \n",
       "Chain Owned                                                             Yes   \n",
       "Chain Organization                                   FRESENIUS MEDICAL CARE   \n",
       "Late Shift                                                                0   \n",
       "Number Of Dialysis Stations                                              25   \n",
       "Offers In-Center Hemodialysis                                             1   \n",
       "Offers Peritoneal Dialysis                                                0   \n",
       "Offers Home Hemodialysis Training                                         0   \n",
       "Certification Or Recertification Date                            10/12/2016   \n",
       "Claims Date                                         01/01/2019 - 12/31/2019   \n",
       "CROWNWeb Date                                       01/01/2019 - 12/31/2019   \n",
       "STrR Date                                           01/01/2019 - 12/31/2019   \n",
       "Percentage Of Medicare Patients With Hgb < 10 g/dL                        8   \n",
       "Hgb < 10 Data Availability Code                                         NaN   \n",
       "Percentage Of Medicare Patients With Hgb > 12 g/dL                        0   \n",
       "Hgb > 12 Data Availability Code                                         NaN   \n",
       "Number Of Dialysis Patients With Hgb Data                                25   \n",
       "Patient Transfusion Data Availability Code                              NaN   \n",
       "Patient Transfusion Category Text                               As Expected   \n",
       "Number Of Patients Included In The Transfusion ...                       56   \n",
       "Percent Of Adult HD Patients With Kt/V >= 1.2                            98   \n",
       "Adult HD Kt/V Data Availability Code                                    NaN   \n",
       "Percentage Of Adult PD PTS With Kt/V >= 1.7                             NaN   \n",
       "Adult PD Kt/V Data Availability Code                                    257   \n",
       "Percentage Of Pediatric HD Patients With Kt/V >...                      NaN   \n",
       "Pediatric HD Kt/V Data Availability Code                                259   \n",
       "Number Of Adult HD Patients With Kt/V Data                               91   \n",
       "Number Of Adult HD Patient-Months With Kt/V Data                        608   \n",
       "Number Of Adult PD Patients With Kt/V Data                                0   \n",
       "Number Of Adult PD Patient-Months With Kt/V Data                        NaN   \n",
       "Number Of Pediatric HD Patients With Kt/V Data                            0   \n",
       "Number Of Pediatric HD Patient-Months With Kt/V...                      NaN   \n",
       "Hypercalcemia Data Availability Code                                    NaN   \n",
       "Number Of Patients In Hypercalcemia Summary                              96   \n",
       "Number Of Patient-Months In Hypercalcemia Summary                       665   \n",
       "Percentage Of Adult Patients With Hypercalcemia...                        2   \n",
       "Number Of Patients In Serum Phosphorus Summary                          108   \n",
       "Number Of Patient-Months In Serum Phosphorus Su...                      720   \n",
       "Serum Phosphorus Data Availability Code                                 NaN   \n",
       "Percentage Of Adult Patients With Serum Phospho...                        7   \n",
       "Percentage Of Adult Patients With Serum Phospho...                       28   \n",
       "Percentage Of Adult Patients With Serum Phospho...                       30   \n",
       "Percentage Of Adult Patients With Serum Phospho...                       26   \n",
       "Percentage Of Adult Patients With Serum Phospho...                        9   \n",
       "SHR Date                                            01/01/2019 - 12/31/2019   \n",
       "SRR Date                                            01/01/2019 - 12/31/2019   \n",
       "SMR Date                                            01/01/2016 - 12/31/2019   \n",
       "\n",
       "                                                                             1  \\\n",
       "Provider Number                                                          42595   \n",
       "Network                                                                     13   \n",
       "Facility Name                                       DAVITA POCAHONTAS DIALYSIS   \n",
       "Star Rating Date                                       01/01/2016 - 12/31/2019   \n",
       "Star Rating                                                                  3   \n",
       "Star Rating Data Availability Code                                         NaN   \n",
       "Address Line 1                                                     404 CAMP RD   \n",
       "Address Line 2                                                             NaN   \n",
       "City                                                                POCAHONTAS   \n",
       "State                                                                       AR   \n",
       "Zip                                                                      72455   \n",
       "County                                                                RANDOLPH   \n",
       "Phone Number                                                    (870) 248-0138   \n",
       "Profit Or Non-Profit                                                    Profit   \n",
       "Chain Owned                                                                Yes   \n",
       "Chain Organization                                                      DAVITA   \n",
       "Late Shift                                                                   0   \n",
       "Number Of Dialysis Stations                                                  8   \n",
       "Offers In-Center Hemodialysis                                                1   \n",
       "Offers Peritoneal Dialysis                                                   1   \n",
       "Offers Home Hemodialysis Training                                            0   \n",
       "Certification Or Recertification Date                               06/14/2016   \n",
       "Claims Date                                            01/01/2019 - 12/31/2019   \n",
       "CROWNWeb Date                                          01/01/2019 - 12/31/2019   \n",
       "STrR Date                                              01/01/2019 - 12/31/2019   \n",
       "Percentage Of Medicare Patients With Hgb < 10 g/dL                          14   \n",
       "Hgb < 10 Data Availability Code                                            NaN   \n",
       "Percentage Of Medicare Patients With Hgb > 12 g/dL                           0   \n",
       "Hgb > 12 Data Availability Code                                            NaN   \n",
       "Number Of Dialysis Patients With Hgb Data                                   21   \n",
       "Patient Transfusion Data Availability Code                                 NaN   \n",
       "Patient Transfusion Category Text                                  As Expected   \n",
       "Number Of Patients Included In The Transfusion ...                          38   \n",
       "Percent Of Adult HD Patients With Kt/V >= 1.2                               97   \n",
       "Adult HD Kt/V Data Availability Code                                       NaN   \n",
       "Percentage Of Adult PD PTS With Kt/V >= 1.7                                 97   \n",
       "Adult PD Kt/V Data Availability Code                                       NaN   \n",
       "Percentage Of Pediatric HD Patients With Kt/V >...                         NaN   \n",
       "Pediatric HD Kt/V Data Availability Code                                   259   \n",
       "Number Of Adult HD Patients With Kt/V Data                                  43   \n",
       "Number Of Adult HD Patient-Months With Kt/V Data                           369   \n",
       "Number Of Adult PD Patients With Kt/V Data                                  13   \n",
       "Number Of Adult PD Patient-Months With Kt/V Data                            97   \n",
       "Number Of Pediatric HD Patients With Kt/V Data                               0   \n",
       "Number Of Pediatric HD Patient-Months With Kt/V...                         NaN   \n",
       "Hypercalcemia Data Availability Code                                       NaN   \n",
       "Number Of Patients In Hypercalcemia Summary                                 56   \n",
       "Number Of Patient-Months In Hypercalcemia Summary                          495   \n",
       "Percentage Of Adult Patients With Hypercalcemia...                           7   \n",
       "Number Of Patients In Serum Phosphorus Summary                              58   \n",
       "Number Of Patient-Months In Serum Phosphorus Su...                         498   \n",
       "Serum Phosphorus Data Availability Code                                    NaN   \n",
       "Percentage Of Adult Patients With Serum Phospho...                           4   \n",
       "Percentage Of Adult Patients With Serum Phospho...                          21   \n",
       "Percentage Of Adult Patients With Serum Phospho...                          46   \n",
       "Percentage Of Adult Patients With Serum Phospho...                          13   \n",
       "Percentage Of Adult Patients With Serum Phospho...                          16   \n",
       "SHR Date                                               01/01/2019 - 12/31/2019   \n",
       "SRR Date                                               01/01/2019 - 12/31/2019   \n",
       "SMR Date                                               01/01/2016 - 12/31/2019   \n",
       "\n",
       "                                                                                2  \\\n",
       "Provider Number                                                             62591   \n",
       "Network                                                                        15   \n",
       "Facility Name                                       DAVITA PLATTE VALLEY DIALYSIS   \n",
       "Star Rating Date                                          01/01/2016 - 12/31/2019   \n",
       "Star Rating                                                                     5   \n",
       "Star Rating Data Availability Code                                            NaN   \n",
       "Address Line 1                                                     1321 S 4TH AVE   \n",
       "Address Line 2                                                          SUITE 100   \n",
       "City                                                                     BRIGHTON   \n",
       "State                                                                          CO   \n",
       "Zip                                                                         80601   \n",
       "County                                                                      ADAMS   \n",
       "Phone Number                                                       (303) 654-8202   \n",
       "Profit Or Non-Profit                                                       Profit   \n",
       "Chain Owned                                                                   Yes   \n",
       "Chain Organization                                                         DAVITA   \n",
       "Late Shift                                                                      0   \n",
       "Number Of Dialysis Stations                                                    12   \n",
       "Offers In-Center Hemodialysis                                                   1   \n",
       "Offers Peritoneal Dialysis                                                      1   \n",
       "Offers Home Hemodialysis Training                                               0   \n",
       "Certification Or Recertification Date                                  01/02/2018   \n",
       "Claims Date                                               01/01/2019 - 12/31/2019   \n",
       "CROWNWeb Date                                             01/01/2019 - 12/31/2019   \n",
       "STrR Date                                                 01/01/2019 - 12/31/2019   \n",
       "Percentage Of Medicare Patients With Hgb < 10 g/dL                              0   \n",
       "Hgb < 10 Data Availability Code                                               NaN   \n",
       "Percentage Of Medicare Patients With Hgb > 12 g/dL                              0   \n",
       "Hgb > 12 Data Availability Code                                               NaN   \n",
       "Number Of Dialysis Patients With Hgb Data                                      11   \n",
       "Patient Transfusion Data Availability Code                                    NaN   \n",
       "Patient Transfusion Category Text                                     As Expected   \n",
       "Number Of Patients Included In The Transfusion ...                             26   \n",
       "Percent Of Adult HD Patients With Kt/V >= 1.2                                 100   \n",
       "Adult HD Kt/V Data Availability Code                                          NaN   \n",
       "Percentage Of Adult PD PTS With Kt/V >= 1.7                                    76   \n",
       "Adult PD Kt/V Data Availability Code                                          NaN   \n",
       "Percentage Of Pediatric HD Patients With Kt/V >...                            NaN   \n",
       "Pediatric HD Kt/V Data Availability Code                                      259   \n",
       "Number Of Adult HD Patients With Kt/V Data                                     26   \n",
       "Number Of Adult HD Patient-Months With Kt/V Data                              206   \n",
       "Number Of Adult PD Patients With Kt/V Data                                     18   \n",
       "Number Of Adult PD Patient-Months With Kt/V Data                              112   \n",
       "Number Of Pediatric HD Patients With Kt/V Data                                  0   \n",
       "Number Of Pediatric HD Patient-Months With Kt/V...                            NaN   \n",
       "Hypercalcemia Data Availability Code                                          NaN   \n",
       "Number Of Patients In Hypercalcemia Summary                                    42   \n",
       "Number Of Patient-Months In Hypercalcemia Summary                             351   \n",
       "Percentage Of Adult Patients With Hypercalcemia...                              3   \n",
       "Number Of Patients In Serum Phosphorus Summary                                 45   \n",
       "Number Of Patient-Months In Serum Phosphorus Su...                            358   \n",
       "Serum Phosphorus Data Availability Code                                       NaN   \n",
       "Percentage Of Adult Patients With Serum Phospho...                              4   \n",
       "Percentage Of Adult Patients With Serum Phospho...                             25   \n",
       "Percentage Of Adult Patients With Serum Phospho...                             30   \n",
       "Percentage Of Adult Patients With Serum Phospho...                             23   \n",
       "Percentage Of Adult Patients With Serum Phospho...                             17   \n",
       "SHR Date                                                  01/01/2019 - 12/31/2019   \n",
       "SRR Date                                                  01/01/2019 - 12/31/2019   \n",
       "SMR Date                                                  01/01/2016 - 12/31/2019   \n",
       "\n",
       "                                                                            3  \\\n",
       "Provider Number                                                        102816   \n",
       "Network                                                                     7   \n",
       "Facility Name                                       DAVITA MELBOURNE DIALYSIS   \n",
       "Star Rating Date                                      01/01/2016 - 12/31/2019   \n",
       "Star Rating                                                                 2   \n",
       "Star Rating Data Availability Code                                        NaN   \n",
       "Address Line 1                                          2235 SOUTH BABCOCK ST   \n",
       "Address Line 2                                                            NaN   \n",
       "City                                                                MELBOURNE   \n",
       "State                                                                      FL   \n",
       "Zip                                                                     32901   \n",
       "County                                                                BREVARD   \n",
       "Phone Number                                                   (321) 956-6252   \n",
       "Profit Or Non-Profit                                                   Profit   \n",
       "Chain Owned                                                               Yes   \n",
       "Chain Organization                                                     DAVITA   \n",
       "Late Shift                                                                  0   \n",
       "Number Of Dialysis Stations                                                16   \n",
       "Offers In-Center Hemodialysis                                               1   \n",
       "Offers Peritoneal Dialysis                                                  1   \n",
       "Offers Home Hemodialysis Training                                           0   \n",
       "Certification Or Recertification Date                              03/23/2005   \n",
       "Claims Date                                           01/01/2019 - 12/31/2019   \n",
       "CROWNWeb Date                                         01/01/2019 - 12/31/2019   \n",
       "STrR Date                                             01/01/2019 - 12/31/2019   \n",
       "Percentage Of Medicare Patients With Hgb < 10 g/dL                         15   \n",
       "Hgb < 10 Data Availability Code                                           NaN   \n",
       "Percentage Of Medicare Patients With Hgb > 12 g/dL                          0   \n",
       "Hgb > 12 Data Availability Code                                           NaN   \n",
       "Number Of Dialysis Patients With Hgb Data                                  27   \n",
       "Patient Transfusion Data Availability Code                                NaN   \n",
       "Patient Transfusion Category Text                         Worse than Expected   \n",
       "Number Of Patients Included In The Transfusion ...                         57   \n",
       "Percent Of Adult HD Patients With Kt/V >= 1.2                              99   \n",
       "Adult HD Kt/V Data Availability Code                                      NaN   \n",
       "Percentage Of Adult PD PTS With Kt/V >= 1.7                                81   \n",
       "Adult PD Kt/V Data Availability Code                                      NaN   \n",
       "Percentage Of Pediatric HD Patients With Kt/V >...                        NaN   \n",
       "Pediatric HD Kt/V Data Availability Code                                  259   \n",
       "Number Of Adult HD Patients With Kt/V Data                                 59   \n",
       "Number Of Adult HD Patient-Months With Kt/V Data                          358   \n",
       "Number Of Adult PD Patients With Kt/V Data                                 21   \n",
       "Number Of Adult PD Patient-Months With Kt/V Data                          185   \n",
       "Number Of Pediatric HD Patients With Kt/V Data                              0   \n",
       "Number Of Pediatric HD Patient-Months With Kt/V...                        NaN   \n",
       "Hypercalcemia Data Availability Code                                      NaN   \n",
       "Number Of Patients In Hypercalcemia Summary                                77   \n",
       "Number Of Patient-Months In Hypercalcemia Summary                         566   \n",
       "Percentage Of Adult Patients With Hypercalcemia...                          0   \n",
       "Number Of Patients In Serum Phosphorus Summary                             87   \n",
       "Number Of Patient-Months In Serum Phosphorus Su...                        606   \n",
       "Serum Phosphorus Data Availability Code                                   NaN   \n",
       "Percentage Of Adult Patients With Serum Phospho...                          7   \n",
       "Percentage Of Adult Patients With Serum Phospho...                         21   \n",
       "Percentage Of Adult Patients With Serum Phospho...                         23   \n",
       "Percentage Of Adult Patients With Serum Phospho...                         22   \n",
       "Percentage Of Adult Patients With Serum Phospho...                         27   \n",
       "SHR Date                                              01/01/2019 - 12/31/2019   \n",
       "SRR Date                                              01/01/2019 - 12/31/2019   \n",
       "SMR Date                                              01/01/2016 - 12/31/2019   \n",
       "\n",
       "                                                                             4  \n",
       "Provider Number                                                         112867  \n",
       "Network                                                                      6  \n",
       "Facility Name                                       DAVITA WEST HIRAM DIALYSIS  \n",
       "Star Rating Date                                       01/01/2016 - 12/31/2019  \n",
       "Star Rating                                                                  4  \n",
       "Star Rating Data Availability Code                                         NaN  \n",
       "Address Line 1                                      76 HIGHLAND PAVILION COURT  \n",
       "Address Line 2                                                             NaN  \n",
       "City                                                                     HIRAM  \n",
       "State                                                                       GA  \n",
       "Zip                                                                      30141  \n",
       "County                                                                PAULDING  \n",
       "Phone Number                                                    (678) 384-1180  \n",
       "Profit Or Non-Profit                                                    Profit  \n",
       "Chain Owned                                                                Yes  \n",
       "Chain Organization                                                      DAVITA  \n",
       "Late Shift                                                                   0  \n",
       "Number Of Dialysis Stations                                                 13  \n",
       "Offers In-Center Hemodialysis                                                1  \n",
       "Offers Peritoneal Dialysis                                                   1  \n",
       "Offers Home Hemodialysis Training                                            1  \n",
       "Certification Or Recertification Date                               05/14/2013  \n",
       "Claims Date                                            01/01/2019 - 12/31/2019  \n",
       "CROWNWeb Date                                          01/01/2019 - 12/31/2019  \n",
       "STrR Date                                              01/01/2019 - 12/31/2019  \n",
       "Percentage Of Medicare Patients With Hgb < 10 g/dL                          19  \n",
       "Hgb < 10 Data Availability Code                                            NaN  \n",
       "Percentage Of Medicare Patients With Hgb > 12 g/dL                           0  \n",
       "Hgb > 12 Data Availability Code                                            NaN  \n",
       "Number Of Dialysis Patients With Hgb Data                                   37  \n",
       "Patient Transfusion Data Availability Code                                 NaN  \n",
       "Patient Transfusion Category Text                                  As Expected  \n",
       "Number Of Patients Included In The Transfusion ...                          55  \n",
       "Percent Of Adult HD Patients With Kt/V >= 1.2                               97  \n",
       "Adult HD Kt/V Data Availability Code                                       NaN  \n",
       "Percentage Of Adult PD PTS With Kt/V >= 1.7                                NaN  \n",
       "Adult PD Kt/V Data Availability Code                                       199  \n",
       "Percentage Of Pediatric HD Patients With Kt/V >...                         NaN  \n",
       "Pediatric HD Kt/V Data Availability Code                                   259  \n",
       "Number Of Adult HD Patients With Kt/V Data                                  64  \n",
       "Number Of Adult HD Patient-Months With Kt/V Data                           569  \n",
       "Number Of Adult PD Patients With Kt/V Data                                   4  \n",
       "Number Of Adult PD Patient-Months With Kt/V Data                            43  \n",
       "Number Of Pediatric HD Patients With Kt/V Data                               0  \n",
       "Number Of Pediatric HD Patient-Months With Kt/V...                         NaN  \n",
       "Hypercalcemia Data Availability Code                                       NaN  \n",
       "Number Of Patients In Hypercalcemia Summary                                 76  \n",
       "Number Of Patient-Months In Hypercalcemia Summary                          710  \n",
       "Percentage Of Adult Patients With Hypercalcemia...                           1  \n",
       "Number Of Patients In Serum Phosphorus Summary                              79  \n",
       "Number Of Patient-Months In Serum Phosphorus Su...                         718  \n",
       "Serum Phosphorus Data Availability Code                                    NaN  \n",
       "Percentage Of Adult Patients With Serum Phospho...                          10  \n",
       "Percentage Of Adult Patients With Serum Phospho...                          27  \n",
       "Percentage Of Adult Patients With Serum Phospho...                          34  \n",
       "Percentage Of Adult Patients With Serum Phospho...                          23  \n",
       "Percentage Of Adult Patients With Serum Phospho...                           7  \n",
       "SHR Date                                               01/01/2019 - 12/31/2019  \n",
       "SRR Date                                               01/01/2019 - 12/31/2019  \n",
       "SMR Date                                               01/01/2016 - 12/31/2019  "
      ]
     },
     "execution_count": 13,
     "metadata": {},
     "output_type": "execute_result"
    }
   ],
   "source": [
    "df.iloc[:, :60].head().T"
   ]
  },
  {
   "cell_type": "code",
   "execution_count": 14,
   "metadata": {
    "scrolled": true
   },
   "outputs": [
    {
     "data": {
      "text/html": [
       "<div>\n",
       "<style scoped>\n",
       "    .dataframe tbody tr th:only-of-type {\n",
       "        vertical-align: middle;\n",
       "    }\n",
       "\n",
       "    .dataframe tbody tr th {\n",
       "        vertical-align: top;\n",
       "    }\n",
       "\n",
       "    .dataframe thead th {\n",
       "        text-align: right;\n",
       "    }\n",
       "</style>\n",
       "<table border=\"1\" class=\"dataframe\">\n",
       "  <thead>\n",
       "    <tr style=\"text-align: right;\">\n",
       "      <th></th>\n",
       "      <th>7719</th>\n",
       "      <th>7720</th>\n",
       "      <th>7721</th>\n",
       "      <th>7722</th>\n",
       "      <th>7723</th>\n",
       "    </tr>\n",
       "  </thead>\n",
       "  <tbody>\n",
       "    <tr>\n",
       "      <th>Patient Hospitalization Category Text</th>\n",
       "      <td>As Expected</td>\n",
       "      <td>As Expected</td>\n",
       "      <td>As Expected</td>\n",
       "      <td>As Expected</td>\n",
       "      <td>As Expected</td>\n",
       "    </tr>\n",
       "    <tr>\n",
       "      <th>Patient Hospitalization Data Availability Code</th>\n",
       "      <td>NaN</td>\n",
       "      <td>NaN</td>\n",
       "      <td>NaN</td>\n",
       "      <td>NaN</td>\n",
       "      <td>NaN</td>\n",
       "    </tr>\n",
       "    <tr>\n",
       "      <th>Patient Hospital Readmission Category Text</th>\n",
       "      <td>As Expected</td>\n",
       "      <td>As Expected</td>\n",
       "      <td>As Expected</td>\n",
       "      <td>As Expected</td>\n",
       "      <td>As Expected</td>\n",
       "    </tr>\n",
       "    <tr>\n",
       "      <th>Patient Hospital Readmission Data Availability Code</th>\n",
       "      <td>NaN</td>\n",
       "      <td>NaN</td>\n",
       "      <td>NaN</td>\n",
       "      <td>NaN</td>\n",
       "      <td>NaN</td>\n",
       "    </tr>\n",
       "    <tr>\n",
       "      <th>Patient Survival Category Text</th>\n",
       "      <td>As Expected</td>\n",
       "      <td>Worse than Expected</td>\n",
       "      <td>As Expected</td>\n",
       "      <td>NaN</td>\n",
       "      <td>As Expected</td>\n",
       "    </tr>\n",
       "    <tr>\n",
       "      <th>Patient Survival Data Availability Code</th>\n",
       "      <td>NaN</td>\n",
       "      <td>NaN</td>\n",
       "      <td>NaN</td>\n",
       "      <td>199</td>\n",
       "      <td>NaN</td>\n",
       "    </tr>\n",
       "    <tr>\n",
       "      <th>Number Of Patients Included In Hospitalization Summary</th>\n",
       "      <td>22</td>\n",
       "      <td>26</td>\n",
       "      <td>33</td>\n",
       "      <td>21</td>\n",
       "      <td>23</td>\n",
       "    </tr>\n",
       "    <tr>\n",
       "      <th>Number Of Hospitalizations Included In Hospital Readmission Summary</th>\n",
       "      <td>38</td>\n",
       "      <td>18</td>\n",
       "      <td>33</td>\n",
       "      <td>17</td>\n",
       "      <td>16</td>\n",
       "    </tr>\n",
       "    <tr>\n",
       "      <th>Number Of Patients Included In Survival Summary</th>\n",
       "      <td>77</td>\n",
       "      <td>138</td>\n",
       "      <td>49</td>\n",
       "      <td>24</td>\n",
       "      <td>97</td>\n",
       "    </tr>\n",
       "    <tr>\n",
       "      <th>Mortality Rate (Facility)</th>\n",
       "      <td>29.7</td>\n",
       "      <td>34.9</td>\n",
       "      <td>25.6</td>\n",
       "      <td>NaN</td>\n",
       "      <td>16.5</td>\n",
       "    </tr>\n",
       "    <tr>\n",
       "      <th>Mortality Rate: Upper Confidence Limit (97.5%)</th>\n",
       "      <td>49.1</td>\n",
       "      <td>49.8</td>\n",
       "      <td>55.6</td>\n",
       "      <td>NaN</td>\n",
       "      <td>27.1</td>\n",
       "    </tr>\n",
       "    <tr>\n",
       "      <th>Mortality Rate: Lower Confidence Limit (2.5%)</th>\n",
       "      <td>16.6</td>\n",
       "      <td>23.5</td>\n",
       "      <td>9.4</td>\n",
       "      <td>NaN</td>\n",
       "      <td>9.2</td>\n",
       "    </tr>\n",
       "    <tr>\n",
       "      <th>Readmission Rate (Facility)</th>\n",
       "      <td>43.5</td>\n",
       "      <td>31.2</td>\n",
       "      <td>23</td>\n",
       "      <td>36.5</td>\n",
       "      <td>30.1</td>\n",
       "    </tr>\n",
       "    <tr>\n",
       "      <th>Readmission Rate: Upper Confidence Limit (97.5%)</th>\n",
       "      <td>61</td>\n",
       "      <td>60.9</td>\n",
       "      <td>47.9</td>\n",
       "      <td>64.7</td>\n",
       "      <td>56.6</td>\n",
       "    </tr>\n",
       "    <tr>\n",
       "      <th>Readmission Rate: Lower Confidence Limit (2.5%)</th>\n",
       "      <td>27</td>\n",
       "      <td>9.9</td>\n",
       "      <td>7.5</td>\n",
       "      <td>13.5</td>\n",
       "      <td>10.4</td>\n",
       "    </tr>\n",
       "    <tr>\n",
       "      <th>Hospitalization Rate (Facility)</th>\n",
       "      <td>251.3</td>\n",
       "      <td>117.9</td>\n",
       "      <td>276</td>\n",
       "      <td>201.3</td>\n",
       "      <td>148.2</td>\n",
       "    </tr>\n",
       "    <tr>\n",
       "      <th>Hospitalization Rate: Upper Confidence Limit (97.5%)</th>\n",
       "      <td>456.2</td>\n",
       "      <td>302.7</td>\n",
       "      <td>467</td>\n",
       "      <td>500.3</td>\n",
       "      <td>292.2</td>\n",
       "    </tr>\n",
       "    <tr>\n",
       "      <th>Hospitalization Rate: Lower Confidence Limit (2.5%)</th>\n",
       "      <td>144.6</td>\n",
       "      <td>49.2</td>\n",
       "      <td>169.5</td>\n",
       "      <td>86.5</td>\n",
       "      <td>79</td>\n",
       "    </tr>\n",
       "    <tr>\n",
       "      <th>Number Of Pediatric PD Patients With Kt/V Data</th>\n",
       "      <td>0</td>\n",
       "      <td>0</td>\n",
       "      <td>0</td>\n",
       "      <td>0</td>\n",
       "      <td>0</td>\n",
       "    </tr>\n",
       "    <tr>\n",
       "      <th>Pediatric PD Kt/V Data Availability Code</th>\n",
       "      <td>259</td>\n",
       "      <td>259</td>\n",
       "      <td>259</td>\n",
       "      <td>259</td>\n",
       "      <td>259</td>\n",
       "    </tr>\n",
       "    <tr>\n",
       "      <th>Number Of Pediatric PD Patient-Months With Kt/V Data</th>\n",
       "      <td>NaN</td>\n",
       "      <td>NaN</td>\n",
       "      <td>NaN</td>\n",
       "      <td>NaN</td>\n",
       "      <td>NaN</td>\n",
       "    </tr>\n",
       "    <tr>\n",
       "      <th>Percentage Of Pediatric PD Patients With Kt/V &gt;= 1.8</th>\n",
       "      <td>NaN</td>\n",
       "      <td>NaN</td>\n",
       "      <td>NaN</td>\n",
       "      <td>NaN</td>\n",
       "      <td>NaN</td>\n",
       "    </tr>\n",
       "    <tr>\n",
       "      <th>SIR Date</th>\n",
       "      <td>01/01/2019 - 12/31/2019</td>\n",
       "      <td>01/01/2019 - 12/31/2019</td>\n",
       "      <td>01/01/2019 - 12/31/2019</td>\n",
       "      <td>01/01/2019 - 12/31/2019</td>\n",
       "      <td>01/01/2019 - 12/31/2019</td>\n",
       "    </tr>\n",
       "    <tr>\n",
       "      <th>Patient Infection Data Availability Code</th>\n",
       "      <td>NaN</td>\n",
       "      <td>NaN</td>\n",
       "      <td>NaN</td>\n",
       "      <td>NaN</td>\n",
       "      <td>NaN</td>\n",
       "    </tr>\n",
       "    <tr>\n",
       "      <th>Patient Infection Category Text</th>\n",
       "      <td>As Expected</td>\n",
       "      <td>As Expected</td>\n",
       "      <td>As Expected</td>\n",
       "      <td>As Expected</td>\n",
       "      <td>As Expected</td>\n",
       "    </tr>\n",
       "    <tr>\n",
       "      <th>Standard Infection Ratio</th>\n",
       "      <td>0</td>\n",
       "      <td>2.66</td>\n",
       "      <td>1.2</td>\n",
       "      <td>0.65</td>\n",
       "      <td>0.51</td>\n",
       "    </tr>\n",
       "    <tr>\n",
       "      <th>SIR: Upper Confidence Limit (97.5%)</th>\n",
       "      <td>1.82</td>\n",
       "      <td>6.41</td>\n",
       "      <td>2.66</td>\n",
       "      <td>2.14</td>\n",
       "      <td>2.51</td>\n",
       "    </tr>\n",
       "    <tr>\n",
       "      <th>SIR: Lower Confidence Limit (2.5%)</th>\n",
       "      <td>NaN</td>\n",
       "      <td>0.84</td>\n",
       "      <td>0.44</td>\n",
       "      <td>0.11</td>\n",
       "      <td>0.03</td>\n",
       "    </tr>\n",
       "    <tr>\n",
       "      <th>Transfusion Rate (Facility)</th>\n",
       "      <td>NaN</td>\n",
       "      <td>24.7</td>\n",
       "      <td>52.9</td>\n",
       "      <td>NaN</td>\n",
       "      <td>14.2</td>\n",
       "    </tr>\n",
       "    <tr>\n",
       "      <th>Transfusion Rate: Upper Confidence Limit (97.5%)</th>\n",
       "      <td>NaN</td>\n",
       "      <td>202.8</td>\n",
       "      <td>192.2</td>\n",
       "      <td>NaN</td>\n",
       "      <td>187.1</td>\n",
       "    </tr>\n",
       "    <tr>\n",
       "      <th>Transfusion Rate: Lower Confidence Limit (2.5%)</th>\n",
       "      <td>NaN</td>\n",
       "      <td>4.2</td>\n",
       "      <td>18</td>\n",
       "      <td>NaN</td>\n",
       "      <td>1.6</td>\n",
       "    </tr>\n",
       "    <tr>\n",
       "      <th>Fistula Data Availability Code</th>\n",
       "      <td>NaN</td>\n",
       "      <td>NaN</td>\n",
       "      <td>NaN</td>\n",
       "      <td>NaN</td>\n",
       "      <td>NaN</td>\n",
       "    </tr>\n",
       "    <tr>\n",
       "      <th>Fistula Category Text</th>\n",
       "      <td>As Expected</td>\n",
       "      <td>As Expected</td>\n",
       "      <td>As Expected</td>\n",
       "      <td>As Expected</td>\n",
       "      <td>As Expected</td>\n",
       "    </tr>\n",
       "    <tr>\n",
       "      <th>Number Of Patients Included In Fistula Summary</th>\n",
       "      <td>24</td>\n",
       "      <td>37</td>\n",
       "      <td>57</td>\n",
       "      <td>44</td>\n",
       "      <td>28</td>\n",
       "    </tr>\n",
       "    <tr>\n",
       "      <th>Fistula Rate (Facility)</th>\n",
       "      <td>51.1</td>\n",
       "      <td>59.3</td>\n",
       "      <td>63.5</td>\n",
       "      <td>53.1</td>\n",
       "      <td>58.8</td>\n",
       "    </tr>\n",
       "    <tr>\n",
       "      <th>Fistula Rate: Upper Confidence Limit (97.5%)</th>\n",
       "      <td>87.2</td>\n",
       "      <td>93.7</td>\n",
       "      <td>87.5</td>\n",
       "      <td>84.7</td>\n",
       "      <td>93.6</td>\n",
       "    </tr>\n",
       "    <tr>\n",
       "      <th>Fistula Rate: Lower Confidence Limit (2.5%)</th>\n",
       "      <td>12.5</td>\n",
       "      <td>22.5</td>\n",
       "      <td>37.8</td>\n",
       "      <td>19.5</td>\n",
       "      <td>21.6</td>\n",
       "    </tr>\n",
       "    <tr>\n",
       "      <th>Number Of Patients In Long Term Catheter Summary</th>\n",
       "      <td>24</td>\n",
       "      <td>37</td>\n",
       "      <td>57</td>\n",
       "      <td>44</td>\n",
       "      <td>28</td>\n",
       "    </tr>\n",
       "    <tr>\n",
       "      <th>Number Of Patient-Months In Long Term Catheter Summary</th>\n",
       "      <td>197</td>\n",
       "      <td>279</td>\n",
       "      <td>441</td>\n",
       "      <td>261</td>\n",
       "      <td>252</td>\n",
       "    </tr>\n",
       "    <tr>\n",
       "      <th>Long Term Catheter Data Availability Code</th>\n",
       "      <td>NaN</td>\n",
       "      <td>NaN</td>\n",
       "      <td>NaN</td>\n",
       "      <td>NaN</td>\n",
       "      <td>NaN</td>\n",
       "    </tr>\n",
       "    <tr>\n",
       "      <th>Percentage Of Adult Patients With Long Term Catheter In Use</th>\n",
       "      <td>21</td>\n",
       "      <td>8</td>\n",
       "      <td>12</td>\n",
       "      <td>18</td>\n",
       "      <td>23</td>\n",
       "    </tr>\n",
       "    <tr>\n",
       "      <th>Number Of Patients In nPCR Summary</th>\n",
       "      <td>0</td>\n",
       "      <td>0</td>\n",
       "      <td>0</td>\n",
       "      <td>0</td>\n",
       "      <td>0</td>\n",
       "    </tr>\n",
       "    <tr>\n",
       "      <th>Number Of Patient-Months In nPCR Summary</th>\n",
       "      <td>NaN</td>\n",
       "      <td>NaN</td>\n",
       "      <td>NaN</td>\n",
       "      <td>NaN</td>\n",
       "      <td>NaN</td>\n",
       "    </tr>\n",
       "    <tr>\n",
       "      <th>nPCR Data Availability Code</th>\n",
       "      <td>259</td>\n",
       "      <td>259</td>\n",
       "      <td>259</td>\n",
       "      <td>259</td>\n",
       "      <td>259</td>\n",
       "    </tr>\n",
       "    <tr>\n",
       "      <th>Percentage Of Pediatric HD Patients With nPCR</th>\n",
       "      <td>NaN</td>\n",
       "      <td>NaN</td>\n",
       "      <td>NaN</td>\n",
       "      <td>NaN</td>\n",
       "      <td>NaN</td>\n",
       "    </tr>\n",
       "    <tr>\n",
       "      <th>SWR Date</th>\n",
       "      <td>01/01/2016 - 12/31/2018</td>\n",
       "      <td>01/01/2016 - 12/31/2018</td>\n",
       "      <td>01/01/2016 - 12/31/2018</td>\n",
       "      <td>01/01/2016 - 12/31/2018</td>\n",
       "      <td>01/01/2016 - 12/31/2018</td>\n",
       "    </tr>\n",
       "    <tr>\n",
       "      <th>SWR Category Text</th>\n",
       "      <td>NaN</td>\n",
       "      <td>NaN</td>\n",
       "      <td>NaN</td>\n",
       "      <td>NaN</td>\n",
       "      <td>NaN</td>\n",
       "    </tr>\n",
       "    <tr>\n",
       "      <th>Patient Transplant Waitlist Data Availability Code</th>\n",
       "      <td>199</td>\n",
       "      <td>199</td>\n",
       "      <td>199</td>\n",
       "      <td>199</td>\n",
       "      <td>199</td>\n",
       "    </tr>\n",
       "    <tr>\n",
       "      <th>95% C.I. (Upper Limit) For SWR</th>\n",
       "      <td>NaN</td>\n",
       "      <td>NaN</td>\n",
       "      <td>NaN</td>\n",
       "      <td>NaN</td>\n",
       "      <td>NaN</td>\n",
       "    </tr>\n",
       "    <tr>\n",
       "      <th>95% C.I. (Lower Limit) For SWR</th>\n",
       "      <td>NaN</td>\n",
       "      <td>NaN</td>\n",
       "      <td>NaN</td>\n",
       "      <td>NaN</td>\n",
       "      <td>NaN</td>\n",
       "    </tr>\n",
       "    <tr>\n",
       "      <th>Number Of Patients In This Facility For SWR</th>\n",
       "      <td>9</td>\n",
       "      <td>19</td>\n",
       "      <td>6</td>\n",
       "      <td>4</td>\n",
       "      <td>3</td>\n",
       "    </tr>\n",
       "    <tr>\n",
       "      <th>Standardized First Kidney Transplant Waitlist Ratio</th>\n",
       "      <td>NaN</td>\n",
       "      <td>NaN</td>\n",
       "      <td>NaN</td>\n",
       "      <td>NaN</td>\n",
       "      <td>NaN</td>\n",
       "    </tr>\n",
       "    <tr>\n",
       "      <th>PPPW Category Text</th>\n",
       "      <td>As Expected</td>\n",
       "      <td>As Expected</td>\n",
       "      <td>As Expected</td>\n",
       "      <td>As Expected</td>\n",
       "      <td>As Expected</td>\n",
       "    </tr>\n",
       "    <tr>\n",
       "      <th>Patient Prevalent Transplant Waitlist Data Availability Code</th>\n",
       "      <td>NaN</td>\n",
       "      <td>NaN</td>\n",
       "      <td>NaN</td>\n",
       "      <td>NaN</td>\n",
       "      <td>NaN</td>\n",
       "    </tr>\n",
       "    <tr>\n",
       "      <th>95% C.I. (Upper Limit) For PPPW</th>\n",
       "      <td>59.1</td>\n",
       "      <td>55.7</td>\n",
       "      <td>50.9</td>\n",
       "      <td>44</td>\n",
       "      <td>67.6</td>\n",
       "    </tr>\n",
       "    <tr>\n",
       "      <th>95% C.I. (Lower Limit) For PPPW</th>\n",
       "      <td>1</td>\n",
       "      <td>2</td>\n",
       "      <td>2</td>\n",
       "      <td>2.7</td>\n",
       "      <td>0.5</td>\n",
       "    </tr>\n",
       "    <tr>\n",
       "      <th>Number Of Patients For PPPW</th>\n",
       "      <td>23</td>\n",
       "      <td>26</td>\n",
       "      <td>47</td>\n",
       "      <td>38</td>\n",
       "      <td>21</td>\n",
       "    </tr>\n",
       "    <tr>\n",
       "      <th>Percentage Of Prevalent Patients Waitlisted</th>\n",
       "      <td>10.9</td>\n",
       "      <td>13.7</td>\n",
       "      <td>12.8</td>\n",
       "      <td>12.8</td>\n",
       "      <td>9.4</td>\n",
       "    </tr>\n",
       "    <tr>\n",
       "      <th>Location</th>\n",
       "      <td>POINT (-86.432687 36.39059)</td>\n",
       "      <td>POINT (-88.6008 44.010869)</td>\n",
       "      <td>POINT (-117.586372 33.87754)</td>\n",
       "      <td>POINT (-96.662172 33.000492)</td>\n",
       "      <td>POINT (-90.076778 43.782614)</td>\n",
       "    </tr>\n",
       "  </tbody>\n",
       "</table>\n",
       "</div>"
      ],
      "text/plain": [
       "                                                                           7719  \\\n",
       "Patient Hospitalization Category Text                               As Expected   \n",
       "Patient Hospitalization Data Availability Code                              NaN   \n",
       "Patient Hospital Readmission Category Text                          As Expected   \n",
       "Patient Hospital Readmission Data Availability ...                          NaN   \n",
       "Patient Survival Category Text                                      As Expected   \n",
       "Patient Survival Data Availability Code                                     NaN   \n",
       "Number Of Patients Included In Hospitalization ...                           22   \n",
       "Number Of Hospitalizations Included In Hospital...                           38   \n",
       "Number Of Patients Included In Survival Summary                              77   \n",
       "Mortality Rate (Facility)                                                  29.7   \n",
       "Mortality Rate: Upper Confidence Limit (97.5%)                             49.1   \n",
       "Mortality Rate: Lower Confidence Limit (2.5%)                              16.6   \n",
       "Readmission Rate (Facility)                                                43.5   \n",
       "Readmission Rate: Upper Confidence Limit (97.5%)                             61   \n",
       "Readmission Rate: Lower Confidence Limit (2.5%)                              27   \n",
       "Hospitalization Rate (Facility)                                           251.3   \n",
       "Hospitalization Rate: Upper Confidence Limit (9...                        456.2   \n",
       "Hospitalization Rate: Lower Confidence Limit (2...                        144.6   \n",
       "Number Of Pediatric PD Patients With Kt/V Data                                0   \n",
       "Pediatric PD Kt/V Data Availability Code                                    259   \n",
       "Number Of Pediatric PD Patient-Months With Kt/V...                          NaN   \n",
       "Percentage Of Pediatric PD Patients With Kt/V >...                          NaN   \n",
       "SIR Date                                                01/01/2019 - 12/31/2019   \n",
       "Patient Infection Data Availability Code                                    NaN   \n",
       "Patient Infection Category Text                                     As Expected   \n",
       "Standard Infection Ratio                                                      0   \n",
       "SIR: Upper Confidence Limit (97.5%)                                        1.82   \n",
       "SIR: Lower Confidence Limit (2.5%)                                          NaN   \n",
       "Transfusion Rate (Facility)                                                 NaN   \n",
       "Transfusion Rate: Upper Confidence Limit (97.5%)                            NaN   \n",
       "Transfusion Rate: Lower Confidence Limit (2.5%)                             NaN   \n",
       "Fistula Data Availability Code                                              NaN   \n",
       "Fistula Category Text                                               As Expected   \n",
       "Number Of Patients Included In Fistula Summary                               24   \n",
       "Fistula Rate (Facility)                                                    51.1   \n",
       "Fistula Rate: Upper Confidence Limit (97.5%)                               87.2   \n",
       "Fistula Rate: Lower Confidence Limit (2.5%)                                12.5   \n",
       "Number Of Patients In Long Term Catheter Summary                             24   \n",
       "Number Of Patient-Months In Long Term Catheter ...                          197   \n",
       "Long Term Catheter Data Availability Code                                   NaN   \n",
       "Percentage Of Adult Patients With Long Term Cat...                           21   \n",
       "Number Of Patients In nPCR Summary                                            0   \n",
       "Number Of Patient-Months In nPCR Summary                                    NaN   \n",
       "nPCR Data Availability Code                                                 259   \n",
       "Percentage Of Pediatric HD Patients With nPCR                               NaN   \n",
       "SWR Date                                                01/01/2016 - 12/31/2018   \n",
       "SWR Category Text                                                           NaN   \n",
       "Patient Transplant Waitlist Data Availability Code                          199   \n",
       "95% C.I. (Upper Limit) For SWR                                              NaN   \n",
       "95% C.I. (Lower Limit) For SWR                                              NaN   \n",
       "Number Of Patients In This Facility For SWR                                   9   \n",
       "Standardized First Kidney Transplant Waitlist R...                          NaN   \n",
       "PPPW Category Text                                                  As Expected   \n",
       "Patient Prevalent Transplant Waitlist Data Avai...                          NaN   \n",
       "95% C.I. (Upper Limit) For PPPW                                            59.1   \n",
       "95% C.I. (Lower Limit) For PPPW                                               1   \n",
       "Number Of Patients For PPPW                                                  23   \n",
       "Percentage Of Prevalent Patients Waitlisted                                10.9   \n",
       "Location                                            POINT (-86.432687 36.39059)   \n",
       "\n",
       "                                                                          7720  \\\n",
       "Patient Hospitalization Category Text                              As Expected   \n",
       "Patient Hospitalization Data Availability Code                             NaN   \n",
       "Patient Hospital Readmission Category Text                         As Expected   \n",
       "Patient Hospital Readmission Data Availability ...                         NaN   \n",
       "Patient Survival Category Text                             Worse than Expected   \n",
       "Patient Survival Data Availability Code                                    NaN   \n",
       "Number Of Patients Included In Hospitalization ...                          26   \n",
       "Number Of Hospitalizations Included In Hospital...                          18   \n",
       "Number Of Patients Included In Survival Summary                            138   \n",
       "Mortality Rate (Facility)                                                 34.9   \n",
       "Mortality Rate: Upper Confidence Limit (97.5%)                            49.8   \n",
       "Mortality Rate: Lower Confidence Limit (2.5%)                             23.5   \n",
       "Readmission Rate (Facility)                                               31.2   \n",
       "Readmission Rate: Upper Confidence Limit (97.5%)                          60.9   \n",
       "Readmission Rate: Lower Confidence Limit (2.5%)                            9.9   \n",
       "Hospitalization Rate (Facility)                                          117.9   \n",
       "Hospitalization Rate: Upper Confidence Limit (9...                       302.7   \n",
       "Hospitalization Rate: Lower Confidence Limit (2...                        49.2   \n",
       "Number Of Pediatric PD Patients With Kt/V Data                               0   \n",
       "Pediatric PD Kt/V Data Availability Code                                   259   \n",
       "Number Of Pediatric PD Patient-Months With Kt/V...                         NaN   \n",
       "Percentage Of Pediatric PD Patients With Kt/V >...                         NaN   \n",
       "SIR Date                                               01/01/2019 - 12/31/2019   \n",
       "Patient Infection Data Availability Code                                   NaN   \n",
       "Patient Infection Category Text                                    As Expected   \n",
       "Standard Infection Ratio                                                  2.66   \n",
       "SIR: Upper Confidence Limit (97.5%)                                       6.41   \n",
       "SIR: Lower Confidence Limit (2.5%)                                        0.84   \n",
       "Transfusion Rate (Facility)                                               24.7   \n",
       "Transfusion Rate: Upper Confidence Limit (97.5%)                         202.8   \n",
       "Transfusion Rate: Lower Confidence Limit (2.5%)                            4.2   \n",
       "Fistula Data Availability Code                                             NaN   \n",
       "Fistula Category Text                                              As Expected   \n",
       "Number Of Patients Included In Fistula Summary                              37   \n",
       "Fistula Rate (Facility)                                                   59.3   \n",
       "Fistula Rate: Upper Confidence Limit (97.5%)                              93.7   \n",
       "Fistula Rate: Lower Confidence Limit (2.5%)                               22.5   \n",
       "Number Of Patients In Long Term Catheter Summary                            37   \n",
       "Number Of Patient-Months In Long Term Catheter ...                         279   \n",
       "Long Term Catheter Data Availability Code                                  NaN   \n",
       "Percentage Of Adult Patients With Long Term Cat...                           8   \n",
       "Number Of Patients In nPCR Summary                                           0   \n",
       "Number Of Patient-Months In nPCR Summary                                   NaN   \n",
       "nPCR Data Availability Code                                                259   \n",
       "Percentage Of Pediatric HD Patients With nPCR                              NaN   \n",
       "SWR Date                                               01/01/2016 - 12/31/2018   \n",
       "SWR Category Text                                                          NaN   \n",
       "Patient Transplant Waitlist Data Availability Code                         199   \n",
       "95% C.I. (Upper Limit) For SWR                                             NaN   \n",
       "95% C.I. (Lower Limit) For SWR                                             NaN   \n",
       "Number Of Patients In This Facility For SWR                                 19   \n",
       "Standardized First Kidney Transplant Waitlist R...                         NaN   \n",
       "PPPW Category Text                                                 As Expected   \n",
       "Patient Prevalent Transplant Waitlist Data Avai...                         NaN   \n",
       "95% C.I. (Upper Limit) For PPPW                                           55.7   \n",
       "95% C.I. (Lower Limit) For PPPW                                              2   \n",
       "Number Of Patients For PPPW                                                 26   \n",
       "Percentage Of Prevalent Patients Waitlisted                               13.7   \n",
       "Location                                            POINT (-88.6008 44.010869)   \n",
       "\n",
       "                                                                            7721  \\\n",
       "Patient Hospitalization Category Text                                As Expected   \n",
       "Patient Hospitalization Data Availability Code                               NaN   \n",
       "Patient Hospital Readmission Category Text                           As Expected   \n",
       "Patient Hospital Readmission Data Availability ...                           NaN   \n",
       "Patient Survival Category Text                                       As Expected   \n",
       "Patient Survival Data Availability Code                                      NaN   \n",
       "Number Of Patients Included In Hospitalization ...                            33   \n",
       "Number Of Hospitalizations Included In Hospital...                            33   \n",
       "Number Of Patients Included In Survival Summary                               49   \n",
       "Mortality Rate (Facility)                                                   25.6   \n",
       "Mortality Rate: Upper Confidence Limit (97.5%)                              55.6   \n",
       "Mortality Rate: Lower Confidence Limit (2.5%)                                9.4   \n",
       "Readmission Rate (Facility)                                                   23   \n",
       "Readmission Rate: Upper Confidence Limit (97.5%)                            47.9   \n",
       "Readmission Rate: Lower Confidence Limit (2.5%)                              7.5   \n",
       "Hospitalization Rate (Facility)                                              276   \n",
       "Hospitalization Rate: Upper Confidence Limit (9...                           467   \n",
       "Hospitalization Rate: Lower Confidence Limit (2...                         169.5   \n",
       "Number Of Pediatric PD Patients With Kt/V Data                                 0   \n",
       "Pediatric PD Kt/V Data Availability Code                                     259   \n",
       "Number Of Pediatric PD Patient-Months With Kt/V...                           NaN   \n",
       "Percentage Of Pediatric PD Patients With Kt/V >...                           NaN   \n",
       "SIR Date                                                 01/01/2019 - 12/31/2019   \n",
       "Patient Infection Data Availability Code                                     NaN   \n",
       "Patient Infection Category Text                                      As Expected   \n",
       "Standard Infection Ratio                                                     1.2   \n",
       "SIR: Upper Confidence Limit (97.5%)                                         2.66   \n",
       "SIR: Lower Confidence Limit (2.5%)                                          0.44   \n",
       "Transfusion Rate (Facility)                                                 52.9   \n",
       "Transfusion Rate: Upper Confidence Limit (97.5%)                           192.2   \n",
       "Transfusion Rate: Lower Confidence Limit (2.5%)                               18   \n",
       "Fistula Data Availability Code                                               NaN   \n",
       "Fistula Category Text                                                As Expected   \n",
       "Number Of Patients Included In Fistula Summary                                57   \n",
       "Fistula Rate (Facility)                                                     63.5   \n",
       "Fistula Rate: Upper Confidence Limit (97.5%)                                87.5   \n",
       "Fistula Rate: Lower Confidence Limit (2.5%)                                 37.8   \n",
       "Number Of Patients In Long Term Catheter Summary                              57   \n",
       "Number Of Patient-Months In Long Term Catheter ...                           441   \n",
       "Long Term Catheter Data Availability Code                                    NaN   \n",
       "Percentage Of Adult Patients With Long Term Cat...                            12   \n",
       "Number Of Patients In nPCR Summary                                             0   \n",
       "Number Of Patient-Months In nPCR Summary                                     NaN   \n",
       "nPCR Data Availability Code                                                  259   \n",
       "Percentage Of Pediatric HD Patients With nPCR                                NaN   \n",
       "SWR Date                                                 01/01/2016 - 12/31/2018   \n",
       "SWR Category Text                                                            NaN   \n",
       "Patient Transplant Waitlist Data Availability Code                           199   \n",
       "95% C.I. (Upper Limit) For SWR                                               NaN   \n",
       "95% C.I. (Lower Limit) For SWR                                               NaN   \n",
       "Number Of Patients In This Facility For SWR                                    6   \n",
       "Standardized First Kidney Transplant Waitlist R...                           NaN   \n",
       "PPPW Category Text                                                   As Expected   \n",
       "Patient Prevalent Transplant Waitlist Data Avai...                           NaN   \n",
       "95% C.I. (Upper Limit) For PPPW                                             50.9   \n",
       "95% C.I. (Lower Limit) For PPPW                                                2   \n",
       "Number Of Patients For PPPW                                                   47   \n",
       "Percentage Of Prevalent Patients Waitlisted                                 12.8   \n",
       "Location                                            POINT (-117.586372 33.87754)   \n",
       "\n",
       "                                                                            7722  \\\n",
       "Patient Hospitalization Category Text                                As Expected   \n",
       "Patient Hospitalization Data Availability Code                               NaN   \n",
       "Patient Hospital Readmission Category Text                           As Expected   \n",
       "Patient Hospital Readmission Data Availability ...                           NaN   \n",
       "Patient Survival Category Text                                               NaN   \n",
       "Patient Survival Data Availability Code                                      199   \n",
       "Number Of Patients Included In Hospitalization ...                            21   \n",
       "Number Of Hospitalizations Included In Hospital...                            17   \n",
       "Number Of Patients Included In Survival Summary                               24   \n",
       "Mortality Rate (Facility)                                                    NaN   \n",
       "Mortality Rate: Upper Confidence Limit (97.5%)                               NaN   \n",
       "Mortality Rate: Lower Confidence Limit (2.5%)                                NaN   \n",
       "Readmission Rate (Facility)                                                 36.5   \n",
       "Readmission Rate: Upper Confidence Limit (97.5%)                            64.7   \n",
       "Readmission Rate: Lower Confidence Limit (2.5%)                             13.5   \n",
       "Hospitalization Rate (Facility)                                            201.3   \n",
       "Hospitalization Rate: Upper Confidence Limit (9...                         500.3   \n",
       "Hospitalization Rate: Lower Confidence Limit (2...                          86.5   \n",
       "Number Of Pediatric PD Patients With Kt/V Data                                 0   \n",
       "Pediatric PD Kt/V Data Availability Code                                     259   \n",
       "Number Of Pediatric PD Patient-Months With Kt/V...                           NaN   \n",
       "Percentage Of Pediatric PD Patients With Kt/V >...                           NaN   \n",
       "SIR Date                                                 01/01/2019 - 12/31/2019   \n",
       "Patient Infection Data Availability Code                                     NaN   \n",
       "Patient Infection Category Text                                      As Expected   \n",
       "Standard Infection Ratio                                                    0.65   \n",
       "SIR: Upper Confidence Limit (97.5%)                                         2.14   \n",
       "SIR: Lower Confidence Limit (2.5%)                                          0.11   \n",
       "Transfusion Rate (Facility)                                                  NaN   \n",
       "Transfusion Rate: Upper Confidence Limit (97.5%)                             NaN   \n",
       "Transfusion Rate: Lower Confidence Limit (2.5%)                              NaN   \n",
       "Fistula Data Availability Code                                               NaN   \n",
       "Fistula Category Text                                                As Expected   \n",
       "Number Of Patients Included In Fistula Summary                                44   \n",
       "Fistula Rate (Facility)                                                     53.1   \n",
       "Fistula Rate: Upper Confidence Limit (97.5%)                                84.7   \n",
       "Fistula Rate: Lower Confidence Limit (2.5%)                                 19.5   \n",
       "Number Of Patients In Long Term Catheter Summary                              44   \n",
       "Number Of Patient-Months In Long Term Catheter ...                           261   \n",
       "Long Term Catheter Data Availability Code                                    NaN   \n",
       "Percentage Of Adult Patients With Long Term Cat...                            18   \n",
       "Number Of Patients In nPCR Summary                                             0   \n",
       "Number Of Patient-Months In nPCR Summary                                     NaN   \n",
       "nPCR Data Availability Code                                                  259   \n",
       "Percentage Of Pediatric HD Patients With nPCR                                NaN   \n",
       "SWR Date                                                 01/01/2016 - 12/31/2018   \n",
       "SWR Category Text                                                            NaN   \n",
       "Patient Transplant Waitlist Data Availability Code                           199   \n",
       "95% C.I. (Upper Limit) For SWR                                               NaN   \n",
       "95% C.I. (Lower Limit) For SWR                                               NaN   \n",
       "Number Of Patients In This Facility For SWR                                    4   \n",
       "Standardized First Kidney Transplant Waitlist R...                           NaN   \n",
       "PPPW Category Text                                                   As Expected   \n",
       "Patient Prevalent Transplant Waitlist Data Avai...                           NaN   \n",
       "95% C.I. (Upper Limit) For PPPW                                               44   \n",
       "95% C.I. (Lower Limit) For PPPW                                              2.7   \n",
       "Number Of Patients For PPPW                                                   38   \n",
       "Percentage Of Prevalent Patients Waitlisted                                 12.8   \n",
       "Location                                            POINT (-96.662172 33.000492)   \n",
       "\n",
       "                                                                            7723  \n",
       "Patient Hospitalization Category Text                                As Expected  \n",
       "Patient Hospitalization Data Availability Code                               NaN  \n",
       "Patient Hospital Readmission Category Text                           As Expected  \n",
       "Patient Hospital Readmission Data Availability ...                           NaN  \n",
       "Patient Survival Category Text                                       As Expected  \n",
       "Patient Survival Data Availability Code                                      NaN  \n",
       "Number Of Patients Included In Hospitalization ...                            23  \n",
       "Number Of Hospitalizations Included In Hospital...                            16  \n",
       "Number Of Patients Included In Survival Summary                               97  \n",
       "Mortality Rate (Facility)                                                   16.5  \n",
       "Mortality Rate: Upper Confidence Limit (97.5%)                              27.1  \n",
       "Mortality Rate: Lower Confidence Limit (2.5%)                                9.2  \n",
       "Readmission Rate (Facility)                                                 30.1  \n",
       "Readmission Rate: Upper Confidence Limit (97.5%)                            56.6  \n",
       "Readmission Rate: Lower Confidence Limit (2.5%)                             10.4  \n",
       "Hospitalization Rate (Facility)                                            148.2  \n",
       "Hospitalization Rate: Upper Confidence Limit (9...                         292.2  \n",
       "Hospitalization Rate: Lower Confidence Limit (2...                            79  \n",
       "Number Of Pediatric PD Patients With Kt/V Data                                 0  \n",
       "Pediatric PD Kt/V Data Availability Code                                     259  \n",
       "Number Of Pediatric PD Patient-Months With Kt/V...                           NaN  \n",
       "Percentage Of Pediatric PD Patients With Kt/V >...                           NaN  \n",
       "SIR Date                                                 01/01/2019 - 12/31/2019  \n",
       "Patient Infection Data Availability Code                                     NaN  \n",
       "Patient Infection Category Text                                      As Expected  \n",
       "Standard Infection Ratio                                                    0.51  \n",
       "SIR: Upper Confidence Limit (97.5%)                                         2.51  \n",
       "SIR: Lower Confidence Limit (2.5%)                                          0.03  \n",
       "Transfusion Rate (Facility)                                                 14.2  \n",
       "Transfusion Rate: Upper Confidence Limit (97.5%)                           187.1  \n",
       "Transfusion Rate: Lower Confidence Limit (2.5%)                              1.6  \n",
       "Fistula Data Availability Code                                               NaN  \n",
       "Fistula Category Text                                                As Expected  \n",
       "Number Of Patients Included In Fistula Summary                                28  \n",
       "Fistula Rate (Facility)                                                     58.8  \n",
       "Fistula Rate: Upper Confidence Limit (97.5%)                                93.6  \n",
       "Fistula Rate: Lower Confidence Limit (2.5%)                                 21.6  \n",
       "Number Of Patients In Long Term Catheter Summary                              28  \n",
       "Number Of Patient-Months In Long Term Catheter ...                           252  \n",
       "Long Term Catheter Data Availability Code                                    NaN  \n",
       "Percentage Of Adult Patients With Long Term Cat...                            23  \n",
       "Number Of Patients In nPCR Summary                                             0  \n",
       "Number Of Patient-Months In nPCR Summary                                     NaN  \n",
       "nPCR Data Availability Code                                                  259  \n",
       "Percentage Of Pediatric HD Patients With nPCR                                NaN  \n",
       "SWR Date                                                 01/01/2016 - 12/31/2018  \n",
       "SWR Category Text                                                            NaN  \n",
       "Patient Transplant Waitlist Data Availability Code                           199  \n",
       "95% C.I. (Upper Limit) For SWR                                               NaN  \n",
       "95% C.I. (Lower Limit) For SWR                                               NaN  \n",
       "Number Of Patients In This Facility For SWR                                    3  \n",
       "Standardized First Kidney Transplant Waitlist R...                           NaN  \n",
       "PPPW Category Text                                                   As Expected  \n",
       "Patient Prevalent Transplant Waitlist Data Avai...                           NaN  \n",
       "95% C.I. (Upper Limit) For PPPW                                             67.6  \n",
       "95% C.I. (Lower Limit) For PPPW                                              0.5  \n",
       "Number Of Patients For PPPW                                                   21  \n",
       "Percentage Of Prevalent Patients Waitlisted                                  9.4  \n",
       "Location                                            POINT (-90.076778 43.782614)  "
      ]
     },
     "execution_count": 14,
     "metadata": {},
     "output_type": "execute_result"
    }
   ],
   "source": [
    "df.iloc[:, 60:].tail().T"
   ]
  },
  {
   "cell_type": "markdown",
   "metadata": {},
   "source": [
    "### Shape"
   ]
  },
  {
   "cell_type": "code",
   "execution_count": 15,
   "metadata": {},
   "outputs": [
    {
     "data": {
      "text/plain": [
       "(7724, 119)"
      ]
     },
     "execution_count": 15,
     "metadata": {},
     "output_type": "execute_result"
    }
   ],
   "source": [
    "df.shape"
   ]
  },
  {
   "cell_type": "markdown",
   "metadata": {},
   "source": [
    "### Data Types"
   ]
  },
  {
   "cell_type": "code",
   "execution_count": 16,
   "metadata": {},
   "outputs": [
    {
     "name": "stdout",
     "output_type": "stream",
     "text": [
      "<class 'pandas.core.frame.DataFrame'>\n",
      "RangeIndex: 7724 entries, 0 to 7723\n",
      "Data columns (total 60 columns):\n",
      " #   Column                                                                                   Non-Null Count  Dtype  \n",
      "---  ------                                                                                   --------------  -----  \n",
      " 0   Provider Number                                                                          7724 non-null   int64  \n",
      " 1   Network                                                                                  7724 non-null   int64  \n",
      " 2   Facility Name                                                                            7724 non-null   object \n",
      " 3   Star Rating Date                                                                         7724 non-null   object \n",
      " 4   Star Rating                                                                              7041 non-null   float64\n",
      " 5   Star Rating Data Availability Code                                                       683 non-null    float64\n",
      " 6   Address Line 1                                                                           7724 non-null   object \n",
      " 7   Address Line 2                                                                           1115 non-null   object \n",
      " 8   City                                                                                     7724 non-null   object \n",
      " 9   State                                                                                    7724 non-null   object \n",
      " 10  Zip                                                                                      7724 non-null   int64  \n",
      " 11  County                                                                                   7724 non-null   object \n",
      " 12  Phone Number                                                                             7724 non-null   object \n",
      " 13  Profit Or Non-Profit                                                                     7723 non-null   object \n",
      " 14  Chain Owned                                                                              7724 non-null   object \n",
      " 15  Chain Organization                                                                       7722 non-null   object \n",
      " 16  Late Shift                                                                               7724 non-null   int64  \n",
      " 17  Number Of Dialysis Stations                                                              7724 non-null   int64  \n",
      " 18  Offers In-Center Hemodialysis                                                            7724 non-null   int64  \n",
      " 19  Offers Peritoneal Dialysis                                                               7724 non-null   int64  \n",
      " 20  Offers Home Hemodialysis Training                                                        7724 non-null   int64  \n",
      " 21  Certification Or Recertification Date                                                    7724 non-null   object \n",
      " 22  Claims Date                                                                              7724 non-null   object \n",
      " 23  CROWNWeb Date                                                                            7724 non-null   object \n",
      " 24  STrR Date                                                                                7724 non-null   object \n",
      " 25  Percentage Of Medicare Patients With Hgb < 10 g/dL                                       6639 non-null   float64\n",
      " 26  Hgb < 10 Data Availability Code                                                          1085 non-null   float64\n",
      " 27  Percentage Of Medicare Patients With Hgb > 12 g/dL                                       6639 non-null   float64\n",
      " 28  Hgb > 12 Data Availability Code                                                          1085 non-null   float64\n",
      " 29  Number Of Dialysis Patients With Hgb Data                                                7616 non-null   float64\n",
      " 30  Patient Transfusion Data Availability Code                                               1160 non-null   float64\n",
      " 31  Patient Transfusion Category Text                                                        6564 non-null   object \n",
      " 32  Number Of Patients Included In The Transfusion Summary                                   7615 non-null   float64\n",
      " 33  Percent Of Adult HD Patients With Kt/V >= 1.2                                            6854 non-null   float64\n",
      " 34  Adult HD Kt/V Data Availability Code                                                     870 non-null    float64\n",
      " 35  Percentage Of Adult PD PTS With Kt/V >= 1.7                                              2214 non-null   float64\n",
      " 36  Adult PD Kt/V Data Availability Code                                                     5510 non-null   float64\n",
      " 37  Percentage Of Pediatric HD Patients With Kt/V >= 1.2                                     14 non-null     float64\n",
      " 38  Pediatric HD Kt/V Data Availability Code                                                 7710 non-null   float64\n",
      " 39  Number Of Adult HD Patients With Kt/V Data                                               7616 non-null   float64\n",
      " 40  Number Of Adult HD Patient-Months With Kt/V Data                                         7282 non-null   float64\n",
      " 41  Number Of Adult PD Patients With Kt/V Data                                               7616 non-null   float64\n",
      " 42  Number Of Adult PD Patient-Months With Kt/V Data                                         3395 non-null   float64\n",
      " 43  Number Of Pediatric HD Patients With Kt/V Data                                           7616 non-null   float64\n",
      " 44  Number Of Pediatric HD Patient-Months With Kt/V Data                                     198 non-null    float64\n",
      " 45  Hypercalcemia Data Availability Code                                                     425 non-null    float64\n",
      " 46  Number Of Patients In Hypercalcemia Summary                                              7616 non-null   float64\n",
      " 47  Number Of Patient-Months In Hypercalcemia Summary                                        7553 non-null   float64\n",
      " 48  Percentage Of Adult Patients With Hypercalcemia (Serum Calcium Greater Than 10.2 mg/dL)  7299 non-null   float64\n",
      " 49  Number Of Patients In Serum Phosphorus Summary                                           7616 non-null   float64\n",
      " 50  Number Of Patient-Months In Serum Phosphorus Summary                                     7553 non-null   float64\n",
      " 51  Serum Phosphorus Data Availability Code                                                  414 non-null    float64\n",
      " 52  Percentage Of Adult Patients With Serum Phosphorus Less Than 3.5 mg/dL                   7310 non-null   float64\n",
      " 53  Percentage Of Adult Patients With Serum Phosphorus Between 3.5 - 4.5 mg/dL               7310 non-null   float64\n",
      " 54  Percentage Of Adult Patients With Serum Phosphorus Between 4.6 - 5.5 mg/dL               7310 non-null   float64\n",
      " 55  Percentage Of Adult Patients With Serum Phosphorus Between 5.6 - 7.0 mg/dL               7310 non-null   float64\n",
      " 56  Percentage Of Adult Patients With Serum Phosphorus Greater Than 7.0 mg/dL                7310 non-null   float64\n",
      " 57  SHR Date                                                                                 7724 non-null   object \n",
      " 58  SRR Date                                                                                 7724 non-null   object \n",
      " 59  SMR Date                                                                                 7724 non-null   object \n",
      "dtypes: float64(33), int64(8), object(19)\n",
      "memory usage: 3.5+ MB\n"
     ]
    }
   ],
   "source": [
    "df.iloc[:, :60].info()"
   ]
  },
  {
   "cell_type": "code",
   "execution_count": 17,
   "metadata": {},
   "outputs": [
    {
     "name": "stdout",
     "output_type": "stream",
     "text": [
      "<class 'pandas.core.frame.DataFrame'>\n",
      "RangeIndex: 7724 entries, 0 to 7723\n",
      "Data columns (total 59 columns):\n",
      " #   Column                                                               Non-Null Count  Dtype  \n",
      "---  ------                                                               --------------  -----  \n",
      " 0   Patient Hospitalization Category Text                                7185 non-null   object \n",
      " 1   Patient Hospitalization Data Availability Code                       539 non-null    float64\n",
      " 2   Patient Hospital Readmission Category Text                           7118 non-null   object \n",
      " 3   Patient Hospital Readmission Data Availability Code                  606 non-null    float64\n",
      " 4   Patient Survival Category Text                                       7012 non-null   object \n",
      " 5   Patient Survival Data Availability Code                              712 non-null    float64\n",
      " 6   Number Of Patients Included In Hospitalization Summary               7614 non-null   float64\n",
      " 7   Number Of Hospitalizations Included In Hospital Readmission Summary  7615 non-null   float64\n",
      " 8   Number Of Patients Included In Survival Summary                      7614 non-null   float64\n",
      " 9   Mortality Rate (Facility)                                            7012 non-null   float64\n",
      " 10  Mortality Rate: Upper Confidence Limit (97.5%)                       7012 non-null   float64\n",
      " 11  Mortality Rate: Lower Confidence Limit (2.5%)                        7012 non-null   float64\n",
      " 12  Readmission Rate (Facility)                                          7118 non-null   float64\n",
      " 13  Readmission Rate: Upper Confidence Limit (97.5%)                     7118 non-null   float64\n",
      " 14  Readmission Rate: Lower Confidence Limit (2.5%)                      7118 non-null   float64\n",
      " 15  Hospitalization Rate (Facility)                                      7185 non-null   float64\n",
      " 16  Hospitalization Rate: Upper Confidence Limit (97.5%)                 7185 non-null   float64\n",
      " 17  Hospitalization Rate: Lower Confidence Limit (2.5%)                  7185 non-null   float64\n",
      " 18  Number Of Pediatric PD Patients With Kt/V Data                       7616 non-null   float64\n",
      " 19  Pediatric PD Kt/V Data Availability Code                             7696 non-null   float64\n",
      " 20  Number Of Pediatric PD Patient-Months With Kt/V Data                 154 non-null    float64\n",
      " 21  Percentage Of Pediatric PD Patients With Kt/V >= 1.8                 28 non-null     float64\n",
      " 22  SIR Date                                                             7724 non-null   object \n",
      " 23  Patient Infection Data Availability Code                             1223 non-null   float64\n",
      " 24  Patient Infection Category Text                                      6501 non-null   object \n",
      " 25  Standard Infection Ratio                                             6501 non-null   float64\n",
      " 26  SIR: Upper Confidence Limit (97.5%)                                  6501 non-null   float64\n",
      " 27  SIR: Lower Confidence Limit (2.5%)                                   5344 non-null   float64\n",
      " 28  Transfusion Rate (Facility)                                          6564 non-null   float64\n",
      " 29  Transfusion Rate: Upper Confidence Limit (97.5%)                     6564 non-null   float64\n",
      " 30  Transfusion Rate: Lower Confidence Limit (2.5%)                      6564 non-null   float64\n",
      " 31  Fistula Data Availability Code                                       707 non-null    float64\n",
      " 32  Fistula Category Text                                                7017 non-null   object \n",
      " 33  Number Of Patients Included In Fistula Summary                       7614 non-null   float64\n",
      " 34  Fistula Rate (Facility)                                              7017 non-null   float64\n",
      " 35  Fistula Rate: Upper Confidence Limit (97.5%)                         7017 non-null   float64\n",
      " 36  Fistula Rate: Lower Confidence Limit (2.5%)                          7017 non-null   float64\n",
      " 37  Number Of Patients In Long Term Catheter Summary                     7616 non-null   float64\n",
      " 38  Number Of Patient-Months In Long Term Catheter Summary               7396 non-null   float64\n",
      " 39  Long Term Catheter Data Availability Code                            707 non-null    float64\n",
      " 40  Percentage Of Adult Patients With Long Term Catheter In Use          7017 non-null   float64\n",
      " 41  Number Of Patients In nPCR Summary                                   7616 non-null   float64\n",
      " 42  Number Of Patient-Months In nPCR Summary                             219 non-null    float64\n",
      " 43  nPCR Data Availability Code                                          7693 non-null   float64\n",
      " 44  Percentage Of Pediatric HD Patients With nPCR                        31 non-null     float64\n",
      " 45  SWR Date                                                             7724 non-null   object \n",
      " 46  SWR Category Text                                                    4164 non-null   object \n",
      " 47  Patient Transplant Waitlist Data Availability Code                   3560 non-null   float64\n",
      " 48  95% C.I. (Upper Limit) For SWR                                       4164 non-null   float64\n",
      " 49  95% C.I. (Lower Limit) For SWR                                       4164 non-null   float64\n",
      " 50  Number Of Patients In This Facility For SWR                          7616 non-null   float64\n",
      " 51  Standardized First Kidney Transplant Waitlist Ratio                  4164 non-null   float64\n",
      " 52  PPPW Category Text                                                   7311 non-null   object \n",
      " 53  Patient Prevalent Transplant Waitlist Data Availability Code         413 non-null    float64\n",
      " 54  95% C.I. (Upper Limit) For PPPW                                      7311 non-null   float64\n",
      " 55  95% C.I. (Lower Limit) For PPPW                                      7311 non-null   float64\n",
      " 56  Number Of Patients For PPPW                                          7615 non-null   float64\n",
      " 57  Percentage Of Prevalent Patients Waitlisted                          7311 non-null   float64\n",
      " 58  Location                                                             7255 non-null   object \n",
      "dtypes: float64(49), object(10)\n",
      "memory usage: 3.5+ MB\n"
     ]
    }
   ],
   "source": [
    "df.iloc[:, 60:].info()"
   ]
  },
  {
   "cell_type": "markdown",
   "metadata": {},
   "source": [
    "### Count of unique values or codes"
   ]
  },
  {
   "cell_type": "code",
   "execution_count": 18,
   "metadata": {},
   "outputs": [
    {
     "data": {
      "text/plain": [
       "Provider Number                                                                            7724\n",
       "Network                                                                                      18\n",
       "Facility Name                                                                              7503\n",
       "Star Rating Date                                                                              1\n",
       "Star Rating                                                                                   5\n",
       "Star Rating Data Availability Code                                                            3\n",
       "Address Line 1                                                                             7670\n",
       "Address Line 2                                                                              600\n",
       "City                                                                                       3009\n",
       "State                                                                                        56\n",
       "Zip                                                                                        5313\n",
       "County                                                                                     1258\n",
       "Phone Number                                                                               7676\n",
       "Profit Or Non-Profit                                                                          2\n",
       "Chain Owned                                                                                   2\n",
       "Chain Organization                                                                          115\n",
       "Late Shift                                                                                    2\n",
       "Number Of Dialysis Stations                                                                  68\n",
       "Offers In-Center Hemodialysis                                                                 2\n",
       "Offers Peritoneal Dialysis                                                                    2\n",
       "Offers Home Hemodialysis Training                                                             2\n",
       "Certification Or Recertification Date                                                      4871\n",
       "Claims Date                                                                                   1\n",
       "CROWNWeb Date                                                                                 1\n",
       "STrR Date                                                                                     1\n",
       "Percentage Of Medicare Patients With Hgb < 10 g/dL                                           87\n",
       "Hgb < 10 Data Availability Code                                                               3\n",
       "Percentage Of Medicare Patients With Hgb > 12 g/dL                                           21\n",
       "Hgb > 12 Data Availability Code                                                               3\n",
       "Number Of Dialysis Patients With Hgb Data                                                   158\n",
       "Patient Transfusion Data Availability Code                                                    4\n",
       "Patient Transfusion Category Text                                                             3\n",
       "Number Of Patients Included In The Transfusion Summary                                      220\n",
       "Percent Of Adult HD Patients With Kt/V >= 1.2                                                53\n",
       "Adult HD Kt/V Data Availability Code                                                          5\n",
       "Percentage Of Adult PD PTS With Kt/V >= 1.7                                                  66\n",
       "Adult PD Kt/V Data Availability Code                                                          5\n",
       "Percentage Of Pediatric HD Patients With Kt/V >= 1.2                                         12\n",
       "Pediatric HD Kt/V Data Availability Code                                                      4\n",
       "Number Of Adult HD Patients With Kt/V Data                                                  265\n",
       "Number Of Adult HD Patient-Months With Kt/V Data                                           1592\n",
       "Number Of Adult PD Patients With Kt/V Data                                                  142\n",
       "Number Of Adult PD Patient-Months With Kt/V Data                                            616\n",
       "Number Of Pediatric HD Patients With Kt/V Data                                               19\n",
       "Number Of Pediatric HD Patient-Months With Kt/V Data                                         63\n",
       "Hypercalcemia Data Availability Code                                                          4\n",
       "Number Of Patients In Hypercalcemia Summary                                                 308\n",
       "Number Of Patient-Months In Hypercalcemia Summary                                          1866\n",
       "Percentage Of Adult Patients With Hypercalcemia (Serum Calcium Greater Than 10.2 mg/dL)      49\n",
       "Number Of Patients In Serum Phosphorus Summary                                              326\n",
       "Number Of Patient-Months In Serum Phosphorus Summary                                       1893\n",
       "Serum Phosphorus Data Availability Code                                                       3\n",
       "Percentage Of Adult Patients With Serum Phosphorus Less Than 3.5 mg/dL                       36\n",
       "Percentage Of Adult Patients With Serum Phosphorus Between 3.5 - 4.5 mg/dL                   44\n",
       "Percentage Of Adult Patients With Serum Phosphorus Between 4.6 - 5.5 mg/dL                   48\n",
       "Percentage Of Adult Patients With Serum Phosphorus Between 5.6 - 7.0 mg/dL                   41\n",
       "Percentage Of Adult Patients With Serum Phosphorus Greater Than 7.0 mg/dL                    42\n",
       "SHR Date                                                                                      1\n",
       "SRR Date                                                                                      1\n",
       "SMR Date                                                                                      1\n",
       "dtype: int64"
      ]
     },
     "execution_count": 18,
     "metadata": {},
     "output_type": "execute_result"
    }
   ],
   "source": [
    "df.iloc[:, :60].nunique()"
   ]
  },
  {
   "cell_type": "code",
   "execution_count": 19,
   "metadata": {},
   "outputs": [
    {
     "data": {
      "text/plain": [
       "Patient Hospitalization Category Text                                     3\n",
       "Patient Hospitalization Data Availability Code                            4\n",
       "Patient Hospital Readmission Category Text                                3\n",
       "Patient Hospital Readmission Data Availability Code                       3\n",
       "Patient Survival Category Text                                            3\n",
       "Patient Survival Data Availability Code                                   4\n",
       "Number Of Patients Included In Hospitalization Summary                  250\n",
       "Number Of Hospitalizations Included In Hospital Readmission Summary     281\n",
       "Number Of Patients Included In Survival Summary                         795\n",
       "Mortality Rate (Facility)                                               411\n",
       "Mortality Rate: Upper Confidence Limit (97.5%)                          570\n",
       "Mortality Rate: Lower Confidence Limit (2.5%)                           336\n",
       "Readmission Rate (Facility)                                             477\n",
       "Readmission Rate: Upper Confidence Limit (97.5%)                        572\n",
       "Readmission Rate: Lower Confidence Limit (2.5%)                         344\n",
       "Hospitalization Rate (Facility)                                        2061\n",
       "Hospitalization Rate: Upper Confidence Limit (97.5%)                   2655\n",
       "Hospitalization Rate: Lower Confidence Limit (2.5%)                    1741\n",
       "Number Of Pediatric PD Patients With Kt/V Data                           24\n",
       "Pediatric PD Kt/V Data Availability Code                                  4\n",
       "Number Of Pediatric PD Patient-Months With Kt/V Data                     80\n",
       "Percentage Of Pediatric PD Patients With Kt/V >= 1.8                     20\n",
       "SIR Date                                                                  1\n",
       "Patient Infection Data Availability Code                                  3\n",
       "Patient Infection Category Text                                           3\n",
       "Standard Infection Ratio                                                303\n",
       "SIR: Upper Confidence Limit (97.5%)                                     567\n",
       "SIR: Lower Confidence Limit (2.5%)                                      174\n",
       "Transfusion Rate (Facility)                                             705\n",
       "Transfusion Rate: Upper Confidence Limit (97.5%)                       1632\n",
       "Transfusion Rate: Lower Confidence Limit (2.5%)                         405\n",
       "Fistula Data Availability Code                                            5\n",
       "Fistula Category Text                                                     3\n",
       "Number Of Patients Included In Fistula Summary                          289\n",
       "Fistula Rate (Facility)                                                 596\n",
       "Fistula Rate: Upper Confidence Limit (97.5%)                            482\n",
       "Fistula Rate: Lower Confidence Limit (2.5%)                             715\n",
       "Number Of Patients In Long Term Catheter Summary                        289\n",
       "Number Of Patient-Months In Long Term Catheter Summary                 1777\n",
       "Long Term Catheter Data Availability Code                                 5\n",
       "Percentage Of Adult Patients With Long Term Catheter In Use              63\n",
       "Number Of Patients In nPCR Summary                                       25\n",
       "Number Of Patient-Months In nPCR Summary                                 73\n",
       "nPCR Data Availability Code                                               4\n",
       "Percentage Of Pediatric HD Patients With nPCR                            18\n",
       "SWR Date                                                                  1\n",
       "SWR Category Text                                                         3\n",
       "Patient Transplant Waitlist Data Availability Code                        3\n",
       "95% C.I. (Upper Limit) For SWR                                          599\n",
       "95% C.I. (Lower Limit) For SWR                                          213\n",
       "Number Of Patients In This Facility For SWR                             150\n",
       "Standardized First Kidney Transplant Waitlist Ratio                     360\n",
       "PPPW Category Text                                                        3\n",
       "Patient Prevalent Transplant Waitlist Data Availability Code              4\n",
       "95% C.I. (Upper Limit) For PPPW                                         778\n",
       "95% C.I. (Lower Limit) For PPPW                                         345\n",
       "Number Of Patients For PPPW                                             278\n",
       "Percentage Of Prevalent Patients Waitlisted                             569\n",
       "Location                                                               7132\n",
       "dtype: int64"
      ]
     },
     "execution_count": 19,
     "metadata": {},
     "output_type": "execute_result"
    }
   ],
   "source": [
    "df.iloc[:, 60:].nunique()"
   ]
  },
  {
   "cell_type": "markdown",
   "metadata": {},
   "source": [
    "### Percent unique values"
   ]
  },
  {
   "cell_type": "code",
   "execution_count": 20,
   "metadata": {},
   "outputs": [
    {
     "data": {
      "text/plain": [
       "Provider Number                                                                            0.016667\n",
       "Network                                                                                    0.000039\n",
       "Facility Name                                                                              0.016190\n",
       "Star Rating Date                                                                           0.000002\n",
       "Star Rating                                                                                0.000011\n",
       "Star Rating Data Availability Code                                                         0.000006\n",
       "Address Line 1                                                                             0.016550\n",
       "Address Line 2                                                                             0.001295\n",
       "City                                                                                       0.006493\n",
       "State                                                                                      0.000121\n",
       "Zip                                                                                        0.011464\n",
       "County                                                                                     0.002714\n",
       "Phone Number                                                                               0.016563\n",
       "Profit Or Non-Profit                                                                       0.000004\n",
       "Chain Owned                                                                                0.000004\n",
       "Chain Organization                                                                         0.000248\n",
       "Late Shift                                                                                 0.000004\n",
       "Number Of Dialysis Stations                                                                0.000147\n",
       "Offers In-Center Hemodialysis                                                              0.000004\n",
       "Offers Peritoneal Dialysis                                                                 0.000004\n",
       "Offers Home Hemodialysis Training                                                          0.000004\n",
       "Certification Or Recertification Date                                                      0.010511\n",
       "Claims Date                                                                                0.000002\n",
       "CROWNWeb Date                                                                              0.000002\n",
       "STrR Date                                                                                  0.000002\n",
       "Percentage Of Medicare Patients With Hgb < 10 g/dL                                         0.000188\n",
       "Hgb < 10 Data Availability Code                                                            0.000006\n",
       "Percentage Of Medicare Patients With Hgb > 12 g/dL                                         0.000045\n",
       "Hgb > 12 Data Availability Code                                                            0.000006\n",
       "Number Of Dialysis Patients With Hgb Data                                                  0.000341\n",
       "Patient Transfusion Data Availability Code                                                 0.000009\n",
       "Patient Transfusion Category Text                                                          0.000006\n",
       "Number Of Patients Included In The Transfusion Summary                                     0.000475\n",
       "Percent Of Adult HD Patients With Kt/V >= 1.2                                              0.000114\n",
       "Adult HD Kt/V Data Availability Code                                                       0.000011\n",
       "Percentage Of Adult PD PTS With Kt/V >= 1.7                                                0.000142\n",
       "Adult PD Kt/V Data Availability Code                                                       0.000011\n",
       "Percentage Of Pediatric HD Patients With Kt/V >= 1.2                                       0.000026\n",
       "Pediatric HD Kt/V Data Availability Code                                                   0.000009\n",
       "Number Of Adult HD Patients With Kt/V Data                                                 0.000572\n",
       "Number Of Adult HD Patient-Months With Kt/V Data                                           0.003435\n",
       "Number Of Adult PD Patients With Kt/V Data                                                 0.000306\n",
       "Number Of Adult PD Patient-Months With Kt/V Data                                           0.001329\n",
       "Number Of Pediatric HD Patients With Kt/V Data                                             0.000041\n",
       "Number Of Pediatric HD Patient-Months With Kt/V Data                                       0.000136\n",
       "Hypercalcemia Data Availability Code                                                       0.000009\n",
       "Number Of Patients In Hypercalcemia Summary                                                0.000665\n",
       "Number Of Patient-Months In Hypercalcemia Summary                                          0.004026\n",
       "Percentage Of Adult Patients With Hypercalcemia (Serum Calcium Greater Than 10.2 mg/dL)    0.000106\n",
       "Number Of Patients In Serum Phosphorus Summary                                             0.000703\n",
       "Number Of Patient-Months In Serum Phosphorus Summary                                       0.004085\n",
       "Serum Phosphorus Data Availability Code                                                    0.000006\n",
       "Percentage Of Adult Patients With Serum Phosphorus Less Than 3.5 mg/dL                     0.000078\n",
       "Percentage Of Adult Patients With Serum Phosphorus Between 3.5 - 4.5 mg/dL                 0.000095\n",
       "Percentage Of Adult Patients With Serum Phosphorus Between 4.6 - 5.5 mg/dL                 0.000104\n",
       "Percentage Of Adult Patients With Serum Phosphorus Between 5.6 - 7.0 mg/dL                 0.000088\n",
       "Percentage Of Adult Patients With Serum Phosphorus Greater Than 7.0 mg/dL                  0.000091\n",
       "SHR Date                                                                                   0.000002\n",
       "SRR Date                                                                                   0.000002\n",
       "SMR Date                                                                                   0.000002\n",
       "dtype: float64"
      ]
     },
     "execution_count": 20,
     "metadata": {},
     "output_type": "execute_result"
    }
   ],
   "source": [
    "df.iloc[:, :60].nunique()/df.iloc[:, :60].size"
   ]
  },
  {
   "cell_type": "code",
   "execution_count": 21,
   "metadata": {},
   "outputs": [
    {
     "data": {
      "text/plain": [
       "Patient Hospitalization Category Text                                  0.000007\n",
       "Patient Hospitalization Data Availability Code                         0.000009\n",
       "Patient Hospital Readmission Category Text                             0.000007\n",
       "Patient Hospital Readmission Data Availability Code                    0.000007\n",
       "Patient Survival Category Text                                         0.000007\n",
       "Patient Survival Data Availability Code                                0.000009\n",
       "Number Of Patients Included In Hospitalization Summary                 0.000549\n",
       "Number Of Hospitalizations Included In Hospital Readmission Summary    0.000617\n",
       "Number Of Patients Included In Survival Summary                        0.001745\n",
       "Mortality Rate (Facility)                                              0.000902\n",
       "Mortality Rate: Upper Confidence Limit (97.5%)                         0.001251\n",
       "Mortality Rate: Lower Confidence Limit (2.5%)                          0.000737\n",
       "Readmission Rate (Facility)                                            0.001047\n",
       "Readmission Rate: Upper Confidence Limit (97.5%)                       0.001255\n",
       "Readmission Rate: Lower Confidence Limit (2.5%)                        0.000755\n",
       "Hospitalization Rate (Facility)                                        0.004523\n",
       "Hospitalization Rate: Upper Confidence Limit (97.5%)                   0.005826\n",
       "Hospitalization Rate: Lower Confidence Limit (2.5%)                    0.003820\n",
       "Number Of Pediatric PD Patients With Kt/V Data                         0.000053\n",
       "Pediatric PD Kt/V Data Availability Code                               0.000009\n",
       "Number Of Pediatric PD Patient-Months With Kt/V Data                   0.000176\n",
       "Percentage Of Pediatric PD Patients With Kt/V >= 1.8                   0.000044\n",
       "SIR Date                                                               0.000002\n",
       "Patient Infection Data Availability Code                               0.000007\n",
       "Patient Infection Category Text                                        0.000007\n",
       "Standard Infection Ratio                                               0.000665\n",
       "SIR: Upper Confidence Limit (97.5%)                                    0.001244\n",
       "SIR: Lower Confidence Limit (2.5%)                                     0.000382\n",
       "Transfusion Rate (Facility)                                            0.001547\n",
       "Transfusion Rate: Upper Confidence Limit (97.5%)                       0.003581\n",
       "Transfusion Rate: Lower Confidence Limit (2.5%)                        0.000889\n",
       "Fistula Data Availability Code                                         0.000011\n",
       "Fistula Category Text                                                  0.000007\n",
       "Number Of Patients Included In Fistula Summary                         0.000634\n",
       "Fistula Rate (Facility)                                                0.001308\n",
       "Fistula Rate: Upper Confidence Limit (97.5%)                           0.001058\n",
       "Fistula Rate: Lower Confidence Limit (2.5%)                            0.001569\n",
       "Number Of Patients In Long Term Catheter Summary                       0.000634\n",
       "Number Of Patient-Months In Long Term Catheter Summary                 0.003899\n",
       "Long Term Catheter Data Availability Code                              0.000011\n",
       "Percentage Of Adult Patients With Long Term Catheter In Use            0.000138\n",
       "Number Of Patients In nPCR Summary                                     0.000055\n",
       "Number Of Patient-Months In nPCR Summary                               0.000160\n",
       "nPCR Data Availability Code                                            0.000009\n",
       "Percentage Of Pediatric HD Patients With nPCR                          0.000039\n",
       "SWR Date                                                               0.000002\n",
       "SWR Category Text                                                      0.000007\n",
       "Patient Transplant Waitlist Data Availability Code                     0.000007\n",
       "95% C.I. (Upper Limit) For SWR                                         0.001314\n",
       "95% C.I. (Lower Limit) For SWR                                         0.000467\n",
       "Number Of Patients In This Facility For SWR                            0.000329\n",
       "Standardized First Kidney Transplant Waitlist Ratio                    0.000790\n",
       "PPPW Category Text                                                     0.000007\n",
       "Patient Prevalent Transplant Waitlist Data Availability Code           0.000009\n",
       "95% C.I. (Upper Limit) For PPPW                                        0.001707\n",
       "95% C.I. (Lower Limit) For PPPW                                        0.000757\n",
       "Number Of Patients For PPPW                                            0.000610\n",
       "Percentage Of Prevalent Patients Waitlisted                            0.001249\n",
       "Location                                                               0.015650\n",
       "dtype: float64"
      ]
     },
     "execution_count": 21,
     "metadata": {},
     "output_type": "execute_result"
    }
   ],
   "source": [
    "df.iloc[:, 60:].nunique()/df.iloc[:, 60:].size"
   ]
  },
  {
   "cell_type": "markdown",
   "metadata": {},
   "source": [
    "### Summary statistics"
   ]
  },
  {
   "cell_type": "code",
   "execution_count": 22,
   "metadata": {},
   "outputs": [
    {
     "data": {
      "text/html": [
       "<div>\n",
       "<style scoped>\n",
       "    .dataframe tbody tr th:only-of-type {\n",
       "        vertical-align: middle;\n",
       "    }\n",
       "\n",
       "    .dataframe tbody tr th {\n",
       "        vertical-align: top;\n",
       "    }\n",
       "\n",
       "    .dataframe thead th {\n",
       "        text-align: right;\n",
       "    }\n",
       "</style>\n",
       "<table border=\"1\" class=\"dataframe\">\n",
       "  <thead>\n",
       "    <tr style=\"text-align: right;\">\n",
       "      <th></th>\n",
       "      <th>Provider Number</th>\n",
       "      <th>Network</th>\n",
       "      <th>Star Rating</th>\n",
       "      <th>Star Rating Data Availability Code</th>\n",
       "      <th>Zip</th>\n",
       "      <th>Late Shift</th>\n",
       "      <th>Number Of Dialysis Stations</th>\n",
       "      <th>Offers In-Center Hemodialysis</th>\n",
       "      <th>Offers Peritoneal Dialysis</th>\n",
       "      <th>Offers Home Hemodialysis Training</th>\n",
       "      <th>Percentage Of Medicare Patients With Hgb &lt; 10 g/dL</th>\n",
       "      <th>Hgb &lt; 10 Data Availability Code</th>\n",
       "      <th>Percentage Of Medicare Patients With Hgb &gt; 12 g/dL</th>\n",
       "      <th>Hgb &gt; 12 Data Availability Code</th>\n",
       "      <th>Number Of Dialysis Patients With Hgb Data</th>\n",
       "    </tr>\n",
       "  </thead>\n",
       "  <tbody>\n",
       "    <tr>\n",
       "      <th>count</th>\n",
       "      <td>7724.000000</td>\n",
       "      <td>7724.000000</td>\n",
       "      <td>7041.000000</td>\n",
       "      <td>683.000000</td>\n",
       "      <td>7724.000000</td>\n",
       "      <td>7724.000000</td>\n",
       "      <td>7724.000000</td>\n",
       "      <td>7724.000000</td>\n",
       "      <td>7724.000000</td>\n",
       "      <td>7724.000000</td>\n",
       "      <td>6639.000000</td>\n",
       "      <td>1085.000000</td>\n",
       "      <td>6639.000000</td>\n",
       "      <td>1085.000000</td>\n",
       "      <td>7616.000000</td>\n",
       "    </tr>\n",
       "    <tr>\n",
       "      <th>mean</th>\n",
       "      <td>317574.641895</td>\n",
       "      <td>9.658985</td>\n",
       "      <td>3.755006</td>\n",
       "      <td>259.604685</td>\n",
       "      <td>50287.112118</td>\n",
       "      <td>0.165847</td>\n",
       "      <td>17.485111</td>\n",
       "      <td>0.940057</td>\n",
       "      <td>0.523175</td>\n",
       "      <td>0.289746</td>\n",
       "      <td>20.044585</td>\n",
       "      <td>219.694009</td>\n",
       "      <td>0.234222</td>\n",
       "      <td>219.694009</td>\n",
       "      <td>35.932773</td>\n",
       "    </tr>\n",
       "    <tr>\n",
       "      <th>std</th>\n",
       "      <td>194129.142332</td>\n",
       "      <td>4.731066</td>\n",
       "      <td>1.018465</td>\n",
       "      <td>0.802548</td>\n",
       "      <td>27692.262592</td>\n",
       "      <td>0.371967</td>\n",
       "      <td>8.473365</td>\n",
       "      <td>0.237397</td>\n",
       "      <td>0.499495</td>\n",
       "      <td>0.453674</td>\n",
       "      <td>12.056803</td>\n",
       "      <td>27.971295</td>\n",
       "      <td>1.371864</td>\n",
       "      <td>27.971295</td>\n",
       "      <td>25.255084</td>\n",
       "    </tr>\n",
       "    <tr>\n",
       "      <th>min</th>\n",
       "      <td>12306.000000</td>\n",
       "      <td>1.000000</td>\n",
       "      <td>1.000000</td>\n",
       "      <td>258.000000</td>\n",
       "      <td>603.000000</td>\n",
       "      <td>0.000000</td>\n",
       "      <td>0.000000</td>\n",
       "      <td>0.000000</td>\n",
       "      <td>0.000000</td>\n",
       "      <td>0.000000</td>\n",
       "      <td>0.000000</td>\n",
       "      <td>199.000000</td>\n",
       "      <td>0.000000</td>\n",
       "      <td>199.000000</td>\n",
       "      <td>0.000000</td>\n",
       "    </tr>\n",
       "    <tr>\n",
       "      <th>25%</th>\n",
       "      <td>142841.750000</td>\n",
       "      <td>6.000000</td>\n",
       "      <td>3.000000</td>\n",
       "      <td>260.000000</td>\n",
       "      <td>29497.750000</td>\n",
       "      <td>0.000000</td>\n",
       "      <td>12.000000</td>\n",
       "      <td>1.000000</td>\n",
       "      <td>0.000000</td>\n",
       "      <td>0.000000</td>\n",
       "      <td>12.000000</td>\n",
       "      <td>199.000000</td>\n",
       "      <td>0.000000</td>\n",
       "      <td>199.000000</td>\n",
       "      <td>18.000000</td>\n",
       "    </tr>\n",
       "    <tr>\n",
       "      <th>50%</th>\n",
       "      <td>332317.000000</td>\n",
       "      <td>9.000000</td>\n",
       "      <td>4.000000</td>\n",
       "      <td>260.000000</td>\n",
       "      <td>45952.000000</td>\n",
       "      <td>0.000000</td>\n",
       "      <td>17.000000</td>\n",
       "      <td>1.000000</td>\n",
       "      <td>1.000000</td>\n",
       "      <td>0.000000</td>\n",
       "      <td>18.000000</td>\n",
       "      <td>199.000000</td>\n",
       "      <td>0.000000</td>\n",
       "      <td>199.000000</td>\n",
       "      <td>31.000000</td>\n",
       "    </tr>\n",
       "    <tr>\n",
       "      <th>75%</th>\n",
       "      <td>452550.500000</td>\n",
       "      <td>14.000000</td>\n",
       "      <td>5.000000</td>\n",
       "      <td>260.000000</td>\n",
       "      <td>76104.250000</td>\n",
       "      <td>0.000000</td>\n",
       "      <td>22.000000</td>\n",
       "      <td>1.000000</td>\n",
       "      <td>1.000000</td>\n",
       "      <td>1.000000</td>\n",
       "      <td>26.000000</td>\n",
       "      <td>258.000000</td>\n",
       "      <td>0.000000</td>\n",
       "      <td>258.000000</td>\n",
       "      <td>49.000000</td>\n",
       "    </tr>\n",
       "    <tr>\n",
       "      <th>max</th>\n",
       "      <td>852574.000000</td>\n",
       "      <td>18.000000</td>\n",
       "      <td>5.000000</td>\n",
       "      <td>261.000000</td>\n",
       "      <td>99801.000000</td>\n",
       "      <td>1.000000</td>\n",
       "      <td>80.000000</td>\n",
       "      <td>1.000000</td>\n",
       "      <td>1.000000</td>\n",
       "      <td>1.000000</td>\n",
       "      <td>100.000000</td>\n",
       "      <td>258.000000</td>\n",
       "      <td>40.000000</td>\n",
       "      <td>258.000000</td>\n",
       "      <td>253.000000</td>\n",
       "    </tr>\n",
       "  </tbody>\n",
       "</table>\n",
       "</div>"
      ],
      "text/plain": [
       "       Provider Number      Network  Star Rating  \\\n",
       "count      7724.000000  7724.000000  7041.000000   \n",
       "mean     317574.641895     9.658985     3.755006   \n",
       "std      194129.142332     4.731066     1.018465   \n",
       "min       12306.000000     1.000000     1.000000   \n",
       "25%      142841.750000     6.000000     3.000000   \n",
       "50%      332317.000000     9.000000     4.000000   \n",
       "75%      452550.500000    14.000000     5.000000   \n",
       "max      852574.000000    18.000000     5.000000   \n",
       "\n",
       "       Star Rating Data Availability Code           Zip   Late Shift  \\\n",
       "count                          683.000000   7724.000000  7724.000000   \n",
       "mean                           259.604685  50287.112118     0.165847   \n",
       "std                              0.802548  27692.262592     0.371967   \n",
       "min                            258.000000    603.000000     0.000000   \n",
       "25%                            260.000000  29497.750000     0.000000   \n",
       "50%                            260.000000  45952.000000     0.000000   \n",
       "75%                            260.000000  76104.250000     0.000000   \n",
       "max                            261.000000  99801.000000     1.000000   \n",
       "\n",
       "       Number Of Dialysis Stations  Offers In-Center Hemodialysis  \\\n",
       "count                  7724.000000                    7724.000000   \n",
       "mean                     17.485111                       0.940057   \n",
       "std                       8.473365                       0.237397   \n",
       "min                       0.000000                       0.000000   \n",
       "25%                      12.000000                       1.000000   \n",
       "50%                      17.000000                       1.000000   \n",
       "75%                      22.000000                       1.000000   \n",
       "max                      80.000000                       1.000000   \n",
       "\n",
       "       Offers Peritoneal Dialysis  Offers Home Hemodialysis Training  \\\n",
       "count                 7724.000000                        7724.000000   \n",
       "mean                     0.523175                           0.289746   \n",
       "std                      0.499495                           0.453674   \n",
       "min                      0.000000                           0.000000   \n",
       "25%                      0.000000                           0.000000   \n",
       "50%                      1.000000                           0.000000   \n",
       "75%                      1.000000                           1.000000   \n",
       "max                      1.000000                           1.000000   \n",
       "\n",
       "       Percentage Of Medicare Patients With Hgb < 10 g/dL  \\\n",
       "count                                        6639.000000    \n",
       "mean                                           20.044585    \n",
       "std                                            12.056803    \n",
       "min                                             0.000000    \n",
       "25%                                            12.000000    \n",
       "50%                                            18.000000    \n",
       "75%                                            26.000000    \n",
       "max                                           100.000000    \n",
       "\n",
       "       Hgb < 10 Data Availability Code  \\\n",
       "count                      1085.000000   \n",
       "mean                        219.694009   \n",
       "std                          27.971295   \n",
       "min                         199.000000   \n",
       "25%                         199.000000   \n",
       "50%                         199.000000   \n",
       "75%                         258.000000   \n",
       "max                         258.000000   \n",
       "\n",
       "       Percentage Of Medicare Patients With Hgb > 12 g/dL  \\\n",
       "count                                        6639.000000    \n",
       "mean                                            0.234222    \n",
       "std                                             1.371864    \n",
       "min                                             0.000000    \n",
       "25%                                             0.000000    \n",
       "50%                                             0.000000    \n",
       "75%                                             0.000000    \n",
       "max                                            40.000000    \n",
       "\n",
       "       Hgb > 12 Data Availability Code  \\\n",
       "count                      1085.000000   \n",
       "mean                        219.694009   \n",
       "std                          27.971295   \n",
       "min                         199.000000   \n",
       "25%                         199.000000   \n",
       "50%                         199.000000   \n",
       "75%                         258.000000   \n",
       "max                         258.000000   \n",
       "\n",
       "       Number Of Dialysis Patients With Hgb Data  \n",
       "count                                7616.000000  \n",
       "mean                                   35.932773  \n",
       "std                                    25.255084  \n",
       "min                                     0.000000  \n",
       "25%                                    18.000000  \n",
       "50%                                    31.000000  \n",
       "75%                                    49.000000  \n",
       "max                                   253.000000  "
      ]
     },
     "execution_count": 22,
     "metadata": {},
     "output_type": "execute_result"
    }
   ],
   "source": [
    "df.iloc[:, :30].describe()"
   ]
  },
  {
   "cell_type": "code",
   "execution_count": 23,
   "metadata": {
    "scrolled": true
   },
   "outputs": [
    {
     "data": {
      "text/html": [
       "<div>\n",
       "<style scoped>\n",
       "    .dataframe tbody tr th:only-of-type {\n",
       "        vertical-align: middle;\n",
       "    }\n",
       "\n",
       "    .dataframe tbody tr th {\n",
       "        vertical-align: top;\n",
       "    }\n",
       "\n",
       "    .dataframe thead th {\n",
       "        text-align: right;\n",
       "    }\n",
       "</style>\n",
       "<table border=\"1\" class=\"dataframe\">\n",
       "  <thead>\n",
       "    <tr style=\"text-align: right;\">\n",
       "      <th></th>\n",
       "      <th>Patient Transfusion Data Availability Code</th>\n",
       "      <th>Number Of Patients Included In The Transfusion Summary</th>\n",
       "      <th>Percent Of Adult HD Patients With Kt/V &gt;= 1.2</th>\n",
       "      <th>Adult HD Kt/V Data Availability Code</th>\n",
       "      <th>Percentage Of Adult PD PTS With Kt/V &gt;= 1.7</th>\n",
       "      <th>Adult PD Kt/V Data Availability Code</th>\n",
       "      <th>Percentage Of Pediatric HD Patients With Kt/V &gt;= 1.2</th>\n",
       "      <th>Pediatric HD Kt/V Data Availability Code</th>\n",
       "      <th>Number Of Adult HD Patients With Kt/V Data</th>\n",
       "      <th>Number Of Adult HD Patient-Months With Kt/V Data</th>\n",
       "      <th>Number Of Adult PD Patients With Kt/V Data</th>\n",
       "      <th>Number Of Adult PD Patient-Months With Kt/V Data</th>\n",
       "      <th>Number Of Pediatric HD Patients With Kt/V Data</th>\n",
       "      <th>Number Of Pediatric HD Patient-Months With Kt/V Data</th>\n",
       "      <th>Hypercalcemia Data Availability Code</th>\n",
       "      <th>Number Of Patients In Hypercalcemia Summary</th>\n",
       "      <th>Number Of Patient-Months In Hypercalcemia Summary</th>\n",
       "      <th>Percentage Of Adult Patients With Hypercalcemia (Serum Calcium Greater Than 10.2 mg/dL)</th>\n",
       "      <th>Number Of Patients In Serum Phosphorus Summary</th>\n",
       "    </tr>\n",
       "  </thead>\n",
       "  <tbody>\n",
       "    <tr>\n",
       "      <th>count</th>\n",
       "      <td>1160.000000</td>\n",
       "      <td>7615.000000</td>\n",
       "      <td>6854.000000</td>\n",
       "      <td>870.000000</td>\n",
       "      <td>2214.000000</td>\n",
       "      <td>5510.000000</td>\n",
       "      <td>14.000000</td>\n",
       "      <td>7710.000000</td>\n",
       "      <td>7616.000000</td>\n",
       "      <td>7282.000000</td>\n",
       "      <td>7616.000000</td>\n",
       "      <td>3395.000000</td>\n",
       "      <td>7616.000000</td>\n",
       "      <td>198.000000</td>\n",
       "      <td>425.000000</td>\n",
       "      <td>7616.000000</td>\n",
       "      <td>7553.000000</td>\n",
       "      <td>7299.000000</td>\n",
       "      <td>7616.000000</td>\n",
       "    </tr>\n",
       "    <tr>\n",
       "      <th>mean</th>\n",
       "      <td>219.753448</td>\n",
       "      <td>55.389494</td>\n",
       "      <td>96.979282</td>\n",
       "      <td>227.621839</td>\n",
       "      <td>91.284553</td>\n",
       "      <td>237.102178</td>\n",
       "      <td>92.500000</td>\n",
       "      <td>255.786122</td>\n",
       "      <td>69.847952</td>\n",
       "      <td>615.873936</td>\n",
       "      <td>9.972952</td>\n",
       "      <td>174.724595</td>\n",
       "      <td>0.095588</td>\n",
       "      <td>23.904040</td>\n",
       "      <td>236.844706</td>\n",
       "      <td>83.235032</td>\n",
       "      <td>736.022772</td>\n",
       "      <td>1.939992</td>\n",
       "      <td>87.168855</td>\n",
       "    </tr>\n",
       "    <tr>\n",
       "      <th>std</th>\n",
       "      <td>28.127214</td>\n",
       "      <td>36.622383</td>\n",
       "      <td>4.638218</td>\n",
       "      <td>28.878153</td>\n",
       "      <td>10.187992</td>\n",
       "      <td>27.280281</td>\n",
       "      <td>6.406127</td>\n",
       "      <td>13.344135</td>\n",
       "      <td>48.096226</td>\n",
       "      <td>419.979676</td>\n",
       "      <td>19.383866</td>\n",
       "      <td>194.387946</td>\n",
       "      <td>0.895924</td>\n",
       "      <td>31.251167</td>\n",
       "      <td>28.214632</td>\n",
       "      <td>54.948365</td>\n",
       "      <td>506.120087</td>\n",
       "      <td>4.557836</td>\n",
       "      <td>57.304363</td>\n",
       "    </tr>\n",
       "    <tr>\n",
       "      <th>min</th>\n",
       "      <td>199.000000</td>\n",
       "      <td>0.000000</td>\n",
       "      <td>0.000000</td>\n",
       "      <td>199.000000</td>\n",
       "      <td>0.000000</td>\n",
       "      <td>199.000000</td>\n",
       "      <td>76.000000</td>\n",
       "      <td>199.000000</td>\n",
       "      <td>0.000000</td>\n",
       "      <td>1.000000</td>\n",
       "      <td>0.000000</td>\n",
       "      <td>1.000000</td>\n",
       "      <td>0.000000</td>\n",
       "      <td>1.000000</td>\n",
       "      <td>199.000000</td>\n",
       "      <td>0.000000</td>\n",
       "      <td>0.000000</td>\n",
       "      <td>0.000000</td>\n",
       "      <td>0.000000</td>\n",
       "    </tr>\n",
       "    <tr>\n",
       "      <th>25%</th>\n",
       "      <td>199.000000</td>\n",
       "      <td>30.000000</td>\n",
       "      <td>96.000000</td>\n",
       "      <td>199.000000</td>\n",
       "      <td>89.000000</td>\n",
       "      <td>201.000000</td>\n",
       "      <td>89.250000</td>\n",
       "      <td>259.000000</td>\n",
       "      <td>36.000000</td>\n",
       "      <td>316.000000</td>\n",
       "      <td>0.000000</td>\n",
       "      <td>55.000000</td>\n",
       "      <td>0.000000</td>\n",
       "      <td>5.000000</td>\n",
       "      <td>199.000000</td>\n",
       "      <td>44.000000</td>\n",
       "      <td>373.000000</td>\n",
       "      <td>0.000000</td>\n",
       "      <td>47.000000</td>\n",
       "    </tr>\n",
       "    <tr>\n",
       "      <th>50%</th>\n",
       "      <td>199.000000</td>\n",
       "      <td>50.000000</td>\n",
       "      <td>98.000000</td>\n",
       "      <td>201.000000</td>\n",
       "      <td>94.000000</td>\n",
       "      <td>257.000000</td>\n",
       "      <td>93.500000</td>\n",
       "      <td>259.000000</td>\n",
       "      <td>65.000000</td>\n",
       "      <td>556.500000</td>\n",
       "      <td>0.000000</td>\n",
       "      <td>119.000000</td>\n",
       "      <td>0.000000</td>\n",
       "      <td>11.000000</td>\n",
       "      <td>258.000000</td>\n",
       "      <td>74.000000</td>\n",
       "      <td>646.000000</td>\n",
       "      <td>1.000000</td>\n",
       "      <td>78.000000</td>\n",
       "    </tr>\n",
       "    <tr>\n",
       "      <th>75%</th>\n",
       "      <td>258.000000</td>\n",
       "      <td>74.000000</td>\n",
       "      <td>99.000000</td>\n",
       "      <td>258.000000</td>\n",
       "      <td>97.000000</td>\n",
       "      <td>257.000000</td>\n",
       "      <td>97.000000</td>\n",
       "      <td>259.000000</td>\n",
       "      <td>96.000000</td>\n",
       "      <td>837.000000</td>\n",
       "      <td>14.000000</td>\n",
       "      <td>222.500000</td>\n",
       "      <td>0.000000</td>\n",
       "      <td>30.750000</td>\n",
       "      <td>258.000000</td>\n",
       "      <td>111.000000</td>\n",
       "      <td>989.000000</td>\n",
       "      <td>2.000000</td>\n",
       "      <td>116.000000</td>\n",
       "    </tr>\n",
       "    <tr>\n",
       "      <th>max</th>\n",
       "      <td>258.000000</td>\n",
       "      <td>439.000000</td>\n",
       "      <td>100.000000</td>\n",
       "      <td>258.000000</td>\n",
       "      <td>100.000000</td>\n",
       "      <td>258.000000</td>\n",
       "      <td>100.000000</td>\n",
       "      <td>259.000000</td>\n",
       "      <td>770.000000</td>\n",
       "      <td>3764.000000</td>\n",
       "      <td>264.000000</td>\n",
       "      <td>2167.000000</td>\n",
       "      <td>20.000000</td>\n",
       "      <td>150.000000</td>\n",
       "      <td>258.000000</td>\n",
       "      <td>820.000000</td>\n",
       "      <td>5251.000000</td>\n",
       "      <td>98.000000</td>\n",
       "      <td>938.000000</td>\n",
       "    </tr>\n",
       "  </tbody>\n",
       "</table>\n",
       "</div>"
      ],
      "text/plain": [
       "       Patient Transfusion Data Availability Code  \\\n",
       "count                                 1160.000000   \n",
       "mean                                   219.753448   \n",
       "std                                     28.127214   \n",
       "min                                    199.000000   \n",
       "25%                                    199.000000   \n",
       "50%                                    199.000000   \n",
       "75%                                    258.000000   \n",
       "max                                    258.000000   \n",
       "\n",
       "       Number Of Patients Included In The Transfusion Summary  \\\n",
       "count                                        7615.000000        \n",
       "mean                                           55.389494        \n",
       "std                                            36.622383        \n",
       "min                                             0.000000        \n",
       "25%                                            30.000000        \n",
       "50%                                            50.000000        \n",
       "75%                                            74.000000        \n",
       "max                                           439.000000        \n",
       "\n",
       "       Percent Of Adult HD Patients With Kt/V >= 1.2  \\\n",
       "count                                    6854.000000   \n",
       "mean                                       96.979282   \n",
       "std                                         4.638218   \n",
       "min                                         0.000000   \n",
       "25%                                        96.000000   \n",
       "50%                                        98.000000   \n",
       "75%                                        99.000000   \n",
       "max                                       100.000000   \n",
       "\n",
       "       Adult HD Kt/V Data Availability Code  \\\n",
       "count                            870.000000   \n",
       "mean                             227.621839   \n",
       "std                               28.878153   \n",
       "min                              199.000000   \n",
       "25%                              199.000000   \n",
       "50%                              201.000000   \n",
       "75%                              258.000000   \n",
       "max                              258.000000   \n",
       "\n",
       "       Percentage Of Adult PD PTS With Kt/V >= 1.7  \\\n",
       "count                                  2214.000000   \n",
       "mean                                     91.284553   \n",
       "std                                      10.187992   \n",
       "min                                       0.000000   \n",
       "25%                                      89.000000   \n",
       "50%                                      94.000000   \n",
       "75%                                      97.000000   \n",
       "max                                     100.000000   \n",
       "\n",
       "       Adult PD Kt/V Data Availability Code  \\\n",
       "count                           5510.000000   \n",
       "mean                             237.102178   \n",
       "std                               27.280281   \n",
       "min                              199.000000   \n",
       "25%                              201.000000   \n",
       "50%                              257.000000   \n",
       "75%                              257.000000   \n",
       "max                              258.000000   \n",
       "\n",
       "       Percentage Of Pediatric HD Patients With Kt/V >= 1.2  \\\n",
       "count                                          14.000000      \n",
       "mean                                           92.500000      \n",
       "std                                             6.406127      \n",
       "min                                            76.000000      \n",
       "25%                                            89.250000      \n",
       "50%                                            93.500000      \n",
       "75%                                            97.000000      \n",
       "max                                           100.000000      \n",
       "\n",
       "       Pediatric HD Kt/V Data Availability Code  \\\n",
       "count                               7710.000000   \n",
       "mean                                 255.786122   \n",
       "std                                   13.344135   \n",
       "min                                  199.000000   \n",
       "25%                                  259.000000   \n",
       "50%                                  259.000000   \n",
       "75%                                  259.000000   \n",
       "max                                  259.000000   \n",
       "\n",
       "       Number Of Adult HD Patients With Kt/V Data  \\\n",
       "count                                 7616.000000   \n",
       "mean                                    69.847952   \n",
       "std                                     48.096226   \n",
       "min                                      0.000000   \n",
       "25%                                     36.000000   \n",
       "50%                                     65.000000   \n",
       "75%                                     96.000000   \n",
       "max                                    770.000000   \n",
       "\n",
       "       Number Of Adult HD Patient-Months With Kt/V Data  \\\n",
       "count                                       7282.000000   \n",
       "mean                                         615.873936   \n",
       "std                                          419.979676   \n",
       "min                                            1.000000   \n",
       "25%                                          316.000000   \n",
       "50%                                          556.500000   \n",
       "75%                                          837.000000   \n",
       "max                                         3764.000000   \n",
       "\n",
       "       Number Of Adult PD Patients With Kt/V Data  \\\n",
       "count                                 7616.000000   \n",
       "mean                                     9.972952   \n",
       "std                                     19.383866   \n",
       "min                                      0.000000   \n",
       "25%                                      0.000000   \n",
       "50%                                      0.000000   \n",
       "75%                                     14.000000   \n",
       "max                                    264.000000   \n",
       "\n",
       "       Number Of Adult PD Patient-Months With Kt/V Data  \\\n",
       "count                                       3395.000000   \n",
       "mean                                         174.724595   \n",
       "std                                          194.387946   \n",
       "min                                            1.000000   \n",
       "25%                                           55.000000   \n",
       "50%                                          119.000000   \n",
       "75%                                          222.500000   \n",
       "max                                         2167.000000   \n",
       "\n",
       "       Number Of Pediatric HD Patients With Kt/V Data  \\\n",
       "count                                     7616.000000   \n",
       "mean                                         0.095588   \n",
       "std                                          0.895924   \n",
       "min                                          0.000000   \n",
       "25%                                          0.000000   \n",
       "50%                                          0.000000   \n",
       "75%                                          0.000000   \n",
       "max                                         20.000000   \n",
       "\n",
       "       Number Of Pediatric HD Patient-Months With Kt/V Data  \\\n",
       "count                                         198.000000      \n",
       "mean                                           23.904040      \n",
       "std                                            31.251167      \n",
       "min                                             1.000000      \n",
       "25%                                             5.000000      \n",
       "50%                                            11.000000      \n",
       "75%                                            30.750000      \n",
       "max                                           150.000000      \n",
       "\n",
       "       Hypercalcemia Data Availability Code  \\\n",
       "count                            425.000000   \n",
       "mean                             236.844706   \n",
       "std                               28.214632   \n",
       "min                              199.000000   \n",
       "25%                              199.000000   \n",
       "50%                              258.000000   \n",
       "75%                              258.000000   \n",
       "max                              258.000000   \n",
       "\n",
       "       Number Of Patients In Hypercalcemia Summary  \\\n",
       "count                                  7616.000000   \n",
       "mean                                     83.235032   \n",
       "std                                      54.948365   \n",
       "min                                       0.000000   \n",
       "25%                                      44.000000   \n",
       "50%                                      74.000000   \n",
       "75%                                     111.000000   \n",
       "max                                     820.000000   \n",
       "\n",
       "       Number Of Patient-Months In Hypercalcemia Summary  \\\n",
       "count                                        7553.000000   \n",
       "mean                                          736.022772   \n",
       "std                                           506.120087   \n",
       "min                                             0.000000   \n",
       "25%                                           373.000000   \n",
       "50%                                           646.000000   \n",
       "75%                                           989.000000   \n",
       "max                                          5251.000000   \n",
       "\n",
       "       Percentage Of Adult Patients With Hypercalcemia (Serum Calcium Greater Than 10.2 mg/dL)  \\\n",
       "count                                        7299.000000                                         \n",
       "mean                                            1.939992                                         \n",
       "std                                             4.557836                                         \n",
       "min                                             0.000000                                         \n",
       "25%                                             0.000000                                         \n",
       "50%                                             1.000000                                         \n",
       "75%                                             2.000000                                         \n",
       "max                                            98.000000                                         \n",
       "\n",
       "       Number Of Patients In Serum Phosphorus Summary  \n",
       "count                                     7616.000000  \n",
       "mean                                        87.168855  \n",
       "std                                         57.304363  \n",
       "min                                          0.000000  \n",
       "25%                                         47.000000  \n",
       "50%                                         78.000000  \n",
       "75%                                        116.000000  \n",
       "max                                        938.000000  "
      ]
     },
     "execution_count": 23,
     "metadata": {},
     "output_type": "execute_result"
    }
   ],
   "source": [
    "df.iloc[:, 30:50].describe()"
   ]
  },
  {
   "cell_type": "code",
   "execution_count": 24,
   "metadata": {},
   "outputs": [
    {
     "data": {
      "text/html": [
       "<div>\n",
       "<style scoped>\n",
       "    .dataframe tbody tr th:only-of-type {\n",
       "        vertical-align: middle;\n",
       "    }\n",
       "\n",
       "    .dataframe tbody tr th {\n",
       "        vertical-align: top;\n",
       "    }\n",
       "\n",
       "    .dataframe thead th {\n",
       "        text-align: right;\n",
       "    }\n",
       "</style>\n",
       "<table border=\"1\" class=\"dataframe\">\n",
       "  <thead>\n",
       "    <tr style=\"text-align: right;\">\n",
       "      <th></th>\n",
       "      <th>Number Of Patient-Months In Serum Phosphorus Summary</th>\n",
       "      <th>Serum Phosphorus Data Availability Code</th>\n",
       "      <th>Percentage Of Adult Patients With Serum Phosphorus Less Than 3.5 mg/dL</th>\n",
       "      <th>Percentage Of Adult Patients With Serum Phosphorus Between 3.5 - 4.5 mg/dL</th>\n",
       "      <th>Percentage Of Adult Patients With Serum Phosphorus Between 4.6 - 5.5 mg/dL</th>\n",
       "      <th>Percentage Of Adult Patients With Serum Phosphorus Between 5.6 - 7.0 mg/dL</th>\n",
       "      <th>Percentage Of Adult Patients With Serum Phosphorus Greater Than 7.0 mg/dL</th>\n",
       "      <th>Patient Hospitalization Data Availability Code</th>\n",
       "      <th>Patient Hospital Readmission Data Availability Code</th>\n",
       "      <th>Patient Survival Data Availability Code</th>\n",
       "      <th>Number Of Patients Included In Hospitalization Summary</th>\n",
       "      <th>Number Of Hospitalizations Included In Hospital Readmission Summary</th>\n",
       "      <th>Number Of Patients Included In Survival Summary</th>\n",
       "      <th>Mortality Rate (Facility)</th>\n",
       "    </tr>\n",
       "  </thead>\n",
       "  <tbody>\n",
       "    <tr>\n",
       "      <th>count</th>\n",
       "      <td>7553.000000</td>\n",
       "      <td>414.000000</td>\n",
       "      <td>7310.000000</td>\n",
       "      <td>7310.000000</td>\n",
       "      <td>7310.000000</td>\n",
       "      <td>7310.000000</td>\n",
       "      <td>7310.000000</td>\n",
       "      <td>539.000000</td>\n",
       "      <td>606.000000</td>\n",
       "      <td>712.000000</td>\n",
       "      <td>7614.000000</td>\n",
       "      <td>7615.000000</td>\n",
       "      <td>7614.000000</td>\n",
       "      <td>7012.000000</td>\n",
       "    </tr>\n",
       "    <tr>\n",
       "      <th>mean</th>\n",
       "      <td>757.042897</td>\n",
       "      <td>236.886473</td>\n",
       "      <td>7.763885</td>\n",
       "      <td>24.105198</td>\n",
       "      <td>31.047332</td>\n",
       "      <td>22.305335</td>\n",
       "      <td>14.782079</td>\n",
       "      <td>238.454545</td>\n",
       "      <td>231.610561</td>\n",
       "      <td>232.411517</td>\n",
       "      <td>64.956396</td>\n",
       "      <td>70.667761</td>\n",
       "      <td>254.491857</td>\n",
       "      <td>22.419082</td>\n",
       "    </tr>\n",
       "    <tr>\n",
       "      <th>std</th>\n",
       "      <td>518.925441</td>\n",
       "      <td>28.194914</td>\n",
       "      <td>3.298454</td>\n",
       "      <td>4.780989</td>\n",
       "      <td>5.199530</td>\n",
       "      <td>5.128003</td>\n",
       "      <td>5.495329</td>\n",
       "      <td>27.723195</td>\n",
       "      <td>29.355053</td>\n",
       "      <td>29.227331</td>\n",
       "      <td>42.039362</td>\n",
       "      <td>50.949685</td>\n",
       "      <td>178.969082</td>\n",
       "      <td>6.415363</td>\n",
       "    </tr>\n",
       "    <tr>\n",
       "      <th>min</th>\n",
       "      <td>0.000000</td>\n",
       "      <td>199.000000</td>\n",
       "      <td>0.000000</td>\n",
       "      <td>0.000000</td>\n",
       "      <td>7.000000</td>\n",
       "      <td>2.000000</td>\n",
       "      <td>0.000000</td>\n",
       "      <td>199.000000</td>\n",
       "      <td>199.000000</td>\n",
       "      <td>199.000000</td>\n",
       "      <td>0.000000</td>\n",
       "      <td>0.000000</td>\n",
       "      <td>0.000000</td>\n",
       "      <td>0.000000</td>\n",
       "    </tr>\n",
       "    <tr>\n",
       "      <th>25%</th>\n",
       "      <td>384.000000</td>\n",
       "      <td>199.000000</td>\n",
       "      <td>6.000000</td>\n",
       "      <td>21.000000</td>\n",
       "      <td>27.000000</td>\n",
       "      <td>19.000000</td>\n",
       "      <td>11.000000</td>\n",
       "      <td>199.000000</td>\n",
       "      <td>199.000000</td>\n",
       "      <td>199.000000</td>\n",
       "      <td>35.000000</td>\n",
       "      <td>34.000000</td>\n",
       "      <td>122.000000</td>\n",
       "      <td>18.400000</td>\n",
       "    </tr>\n",
       "    <tr>\n",
       "      <th>50%</th>\n",
       "      <td>663.000000</td>\n",
       "      <td>258.000000</td>\n",
       "      <td>7.000000</td>\n",
       "      <td>24.000000</td>\n",
       "      <td>31.000000</td>\n",
       "      <td>22.000000</td>\n",
       "      <td>14.000000</td>\n",
       "      <td>258.000000</td>\n",
       "      <td>258.000000</td>\n",
       "      <td>258.000000</td>\n",
       "      <td>59.000000</td>\n",
       "      <td>61.000000</td>\n",
       "      <td>230.000000</td>\n",
       "      <td>21.750000</td>\n",
       "    </tr>\n",
       "    <tr>\n",
       "      <th>75%</th>\n",
       "      <td>1017.000000</td>\n",
       "      <td>258.000000</td>\n",
       "      <td>9.000000</td>\n",
       "      <td>27.000000</td>\n",
       "      <td>34.000000</td>\n",
       "      <td>26.000000</td>\n",
       "      <td>18.000000</td>\n",
       "      <td>258.000000</td>\n",
       "      <td>258.000000</td>\n",
       "      <td>258.000000</td>\n",
       "      <td>86.000000</td>\n",
       "      <td>96.000000</td>\n",
       "      <td>351.000000</td>\n",
       "      <td>25.800000</td>\n",
       "    </tr>\n",
       "    <tr>\n",
       "      <th>max</th>\n",
       "      <td>5421.000000</td>\n",
       "      <td>258.000000</td>\n",
       "      <td>42.000000</td>\n",
       "      <td>56.000000</td>\n",
       "      <td>67.000000</td>\n",
       "      <td>46.000000</td>\n",
       "      <td>44.000000</td>\n",
       "      <td>258.000000</td>\n",
       "      <td>258.000000</td>\n",
       "      <td>258.000000</td>\n",
       "      <td>615.000000</td>\n",
       "      <td>710.000000</td>\n",
       "      <td>2438.000000</td>\n",
       "      <td>83.500000</td>\n",
       "    </tr>\n",
       "  </tbody>\n",
       "</table>\n",
       "</div>"
      ],
      "text/plain": [
       "       Number Of Patient-Months In Serum Phosphorus Summary  \\\n",
       "count                                        7553.000000      \n",
       "mean                                          757.042897      \n",
       "std                                           518.925441      \n",
       "min                                             0.000000      \n",
       "25%                                           384.000000      \n",
       "50%                                           663.000000      \n",
       "75%                                          1017.000000      \n",
       "max                                          5421.000000      \n",
       "\n",
       "       Serum Phosphorus Data Availability Code  \\\n",
       "count                               414.000000   \n",
       "mean                                236.886473   \n",
       "std                                  28.194914   \n",
       "min                                 199.000000   \n",
       "25%                                 199.000000   \n",
       "50%                                 258.000000   \n",
       "75%                                 258.000000   \n",
       "max                                 258.000000   \n",
       "\n",
       "       Percentage Of Adult Patients With Serum Phosphorus Less Than 3.5 mg/dL  \\\n",
       "count                                        7310.000000                        \n",
       "mean                                            7.763885                        \n",
       "std                                             3.298454                        \n",
       "min                                             0.000000                        \n",
       "25%                                             6.000000                        \n",
       "50%                                             7.000000                        \n",
       "75%                                             9.000000                        \n",
       "max                                            42.000000                        \n",
       "\n",
       "       Percentage Of Adult Patients With Serum Phosphorus Between 3.5 - 4.5 mg/dL  \\\n",
       "count                                        7310.000000                            \n",
       "mean                                           24.105198                            \n",
       "std                                             4.780989                            \n",
       "min                                             0.000000                            \n",
       "25%                                            21.000000                            \n",
       "50%                                            24.000000                            \n",
       "75%                                            27.000000                            \n",
       "max                                            56.000000                            \n",
       "\n",
       "       Percentage Of Adult Patients With Serum Phosphorus Between 4.6 - 5.5 mg/dL  \\\n",
       "count                                        7310.000000                            \n",
       "mean                                           31.047332                            \n",
       "std                                             5.199530                            \n",
       "min                                             7.000000                            \n",
       "25%                                            27.000000                            \n",
       "50%                                            31.000000                            \n",
       "75%                                            34.000000                            \n",
       "max                                            67.000000                            \n",
       "\n",
       "       Percentage Of Adult Patients With Serum Phosphorus Between 5.6 - 7.0 mg/dL  \\\n",
       "count                                        7310.000000                            \n",
       "mean                                           22.305335                            \n",
       "std                                             5.128003                            \n",
       "min                                             2.000000                            \n",
       "25%                                            19.000000                            \n",
       "50%                                            22.000000                            \n",
       "75%                                            26.000000                            \n",
       "max                                            46.000000                            \n",
       "\n",
       "       Percentage Of Adult Patients With Serum Phosphorus Greater Than 7.0 mg/dL  \\\n",
       "count                                        7310.000000                           \n",
       "mean                                           14.782079                           \n",
       "std                                             5.495329                           \n",
       "min                                             0.000000                           \n",
       "25%                                            11.000000                           \n",
       "50%                                            14.000000                           \n",
       "75%                                            18.000000                           \n",
       "max                                            44.000000                           \n",
       "\n",
       "       Patient Hospitalization Data Availability Code  \\\n",
       "count                                      539.000000   \n",
       "mean                                       238.454545   \n",
       "std                                         27.723195   \n",
       "min                                        199.000000   \n",
       "25%                                        199.000000   \n",
       "50%                                        258.000000   \n",
       "75%                                        258.000000   \n",
       "max                                        258.000000   \n",
       "\n",
       "       Patient Hospital Readmission Data Availability Code  \\\n",
       "count                                         606.000000     \n",
       "mean                                          231.610561     \n",
       "std                                            29.355053     \n",
       "min                                           199.000000     \n",
       "25%                                           199.000000     \n",
       "50%                                           258.000000     \n",
       "75%                                           258.000000     \n",
       "max                                           258.000000     \n",
       "\n",
       "       Patient Survival Data Availability Code  \\\n",
       "count                               712.000000   \n",
       "mean                                232.411517   \n",
       "std                                  29.227331   \n",
       "min                                 199.000000   \n",
       "25%                                 199.000000   \n",
       "50%                                 258.000000   \n",
       "75%                                 258.000000   \n",
       "max                                 258.000000   \n",
       "\n",
       "       Number Of Patients Included In Hospitalization Summary  \\\n",
       "count                                        7614.000000        \n",
       "mean                                           64.956396        \n",
       "std                                            42.039362        \n",
       "min                                             0.000000        \n",
       "25%                                            35.000000        \n",
       "50%                                            59.000000        \n",
       "75%                                            86.000000        \n",
       "max                                           615.000000        \n",
       "\n",
       "       Number Of Hospitalizations Included In Hospital Readmission Summary  \\\n",
       "count                                        7615.000000                     \n",
       "mean                                           70.667761                     \n",
       "std                                            50.949685                     \n",
       "min                                             0.000000                     \n",
       "25%                                            34.000000                     \n",
       "50%                                            61.000000                     \n",
       "75%                                            96.000000                     \n",
       "max                                           710.000000                     \n",
       "\n",
       "       Number Of Patients Included In Survival Summary  \\\n",
       "count                                      7614.000000   \n",
       "mean                                        254.491857   \n",
       "std                                         178.969082   \n",
       "min                                           0.000000   \n",
       "25%                                         122.000000   \n",
       "50%                                         230.000000   \n",
       "75%                                         351.000000   \n",
       "max                                        2438.000000   \n",
       "\n",
       "       Mortality Rate (Facility)  \n",
       "count                7012.000000  \n",
       "mean                   22.419082  \n",
       "std                     6.415363  \n",
       "min                     0.000000  \n",
       "25%                    18.400000  \n",
       "50%                    21.750000  \n",
       "75%                    25.800000  \n",
       "max                    83.500000  "
      ]
     },
     "execution_count": 24,
     "metadata": {},
     "output_type": "execute_result"
    }
   ],
   "source": [
    "df.iloc[:, 50:70].describe()"
   ]
  },
  {
   "cell_type": "code",
   "execution_count": 25,
   "metadata": {},
   "outputs": [
    {
     "data": {
      "text/html": [
       "<div>\n",
       "<style scoped>\n",
       "    .dataframe tbody tr th:only-of-type {\n",
       "        vertical-align: middle;\n",
       "    }\n",
       "\n",
       "    .dataframe tbody tr th {\n",
       "        vertical-align: top;\n",
       "    }\n",
       "\n",
       "    .dataframe thead th {\n",
       "        text-align: right;\n",
       "    }\n",
       "</style>\n",
       "<table border=\"1\" class=\"dataframe\">\n",
       "  <thead>\n",
       "    <tr style=\"text-align: right;\">\n",
       "      <th></th>\n",
       "      <th>Mortality Rate: Upper Confidence Limit (97.5%)</th>\n",
       "      <th>Mortality Rate: Lower Confidence Limit (2.5%)</th>\n",
       "      <th>Readmission Rate (Facility)</th>\n",
       "      <th>Readmission Rate: Upper Confidence Limit (97.5%)</th>\n",
       "      <th>Readmission Rate: Lower Confidence Limit (2.5%)</th>\n",
       "      <th>Hospitalization Rate (Facility)</th>\n",
       "      <th>Hospitalization Rate: Upper Confidence Limit (97.5%)</th>\n",
       "      <th>Hospitalization Rate: Lower Confidence Limit (2.5%)</th>\n",
       "      <th>Number Of Pediatric PD Patients With Kt/V Data</th>\n",
       "      <th>Pediatric PD Kt/V Data Availability Code</th>\n",
       "      <th>Number Of Pediatric PD Patient-Months With Kt/V Data</th>\n",
       "      <th>Percentage Of Pediatric PD Patients With Kt/V &gt;= 1.8</th>\n",
       "      <th>Patient Infection Data Availability Code</th>\n",
       "      <th>Standard Infection Ratio</th>\n",
       "      <th>SIR: Upper Confidence Limit (97.5%)</th>\n",
       "      <th>SIR: Lower Confidence Limit (2.5%)</th>\n",
       "      <th>Transfusion Rate (Facility)</th>\n",
       "      <th>Transfusion Rate: Upper Confidence Limit (97.5%)</th>\n",
       "    </tr>\n",
       "  </thead>\n",
       "  <tbody>\n",
       "    <tr>\n",
       "      <th>count</th>\n",
       "      <td>7012.000000</td>\n",
       "      <td>7012.000000</td>\n",
       "      <td>7118.000000</td>\n",
       "      <td>7118.000000</td>\n",
       "      <td>7118.000000</td>\n",
       "      <td>7185.000000</td>\n",
       "      <td>7185.000000</td>\n",
       "      <td>7185.000000</td>\n",
       "      <td>7616.000000</td>\n",
       "      <td>7696.000000</td>\n",
       "      <td>154.000000</td>\n",
       "      <td>28.000000</td>\n",
       "      <td>1223.000000</td>\n",
       "      <td>6501.000000</td>\n",
       "      <td>6501.000000</td>\n",
       "      <td>5344.000000</td>\n",
       "      <td>6564.000000</td>\n",
       "      <td>6564.000000</td>\n",
       "    </tr>\n",
       "    <tr>\n",
       "      <th>mean</th>\n",
       "      <td>33.101226</td>\n",
       "      <td>14.972704</td>\n",
       "      <td>26.934125</td>\n",
       "      <td>43.381174</td>\n",
       "      <td>14.786204</td>\n",
       "      <td>188.738386</td>\n",
       "      <td>323.795992</td>\n",
       "      <td>117.544690</td>\n",
       "      <td>0.116991</td>\n",
       "      <td>256.880977</td>\n",
       "      <td>42.370130</td>\n",
       "      <td>75.857143</td>\n",
       "      <td>219.118561</td>\n",
       "      <td>0.637843</td>\n",
       "      <td>1.891109</td>\n",
       "      <td>0.250717</td>\n",
       "      <td>20.177651</td>\n",
       "      <td>98.796268</td>\n",
       "    </tr>\n",
       "    <tr>\n",
       "      <th>std</th>\n",
       "      <td>10.504489</td>\n",
       "      <td>5.309535</td>\n",
       "      <td>8.000547</td>\n",
       "      <td>9.855395</td>\n",
       "      <td>6.842420</td>\n",
       "      <td>51.273668</td>\n",
       "      <td>82.038913</td>\n",
       "      <td>40.162835</td>\n",
       "      <td>1.178866</td>\n",
       "      <td>10.933772</td>\n",
       "      <td>47.654249</td>\n",
       "      <td>25.703025</td>\n",
       "      <td>26.771932</td>\n",
       "      <td>0.601081</td>\n",
       "      <td>1.143895</td>\n",
       "      <td>0.305078</td>\n",
       "      <td>16.789632</td>\n",
       "      <td>50.326474</td>\n",
       "    </tr>\n",
       "    <tr>\n",
       "      <th>min</th>\n",
       "      <td>10.600000</td>\n",
       "      <td>0.000000</td>\n",
       "      <td>0.000000</td>\n",
       "      <td>13.600000</td>\n",
       "      <td>0.000000</td>\n",
       "      <td>22.900000</td>\n",
       "      <td>133.000000</td>\n",
       "      <td>2.300000</td>\n",
       "      <td>0.000000</td>\n",
       "      <td>199.000000</td>\n",
       "      <td>1.000000</td>\n",
       "      <td>4.000000</td>\n",
       "      <td>199.000000</td>\n",
       "      <td>0.000000</td>\n",
       "      <td>0.200000</td>\n",
       "      <td>0.000000</td>\n",
       "      <td>0.000000</td>\n",
       "      <td>14.000000</td>\n",
       "    </tr>\n",
       "    <tr>\n",
       "      <th>25%</th>\n",
       "      <td>26.500000</td>\n",
       "      <td>11.800000</td>\n",
       "      <td>22.000000</td>\n",
       "      <td>36.900000</td>\n",
       "      <td>10.100000</td>\n",
       "      <td>154.700000</td>\n",
       "      <td>270.000000</td>\n",
       "      <td>90.500000</td>\n",
       "      <td>0.000000</td>\n",
       "      <td>259.000000</td>\n",
       "      <td>10.000000</td>\n",
       "      <td>76.500000</td>\n",
       "      <td>201.000000</td>\n",
       "      <td>0.220000</td>\n",
       "      <td>1.100000</td>\n",
       "      <td>0.040000</td>\n",
       "      <td>8.300000</td>\n",
       "      <td>60.800000</td>\n",
       "    </tr>\n",
       "    <tr>\n",
       "      <th>50%</th>\n",
       "      <td>30.900000</td>\n",
       "      <td>15.000000</td>\n",
       "      <td>27.000000</td>\n",
       "      <td>42.300000</td>\n",
       "      <td>15.000000</td>\n",
       "      <td>185.000000</td>\n",
       "      <td>310.900000</td>\n",
       "      <td>115.500000</td>\n",
       "      <td>0.000000</td>\n",
       "      <td>259.000000</td>\n",
       "      <td>25.000000</td>\n",
       "      <td>85.500000</td>\n",
       "      <td>201.000000</td>\n",
       "      <td>0.510000</td>\n",
       "      <td>1.640000</td>\n",
       "      <td>0.150000</td>\n",
       "      <td>16.700000</td>\n",
       "      <td>86.800000</td>\n",
       "    </tr>\n",
       "    <tr>\n",
       "      <th>75%</th>\n",
       "      <td>37.200000</td>\n",
       "      <td>18.200000</td>\n",
       "      <td>31.800000</td>\n",
       "      <td>48.400000</td>\n",
       "      <td>19.400000</td>\n",
       "      <td>218.600000</td>\n",
       "      <td>359.900000</td>\n",
       "      <td>142.300000</td>\n",
       "      <td>0.000000</td>\n",
       "      <td>259.000000</td>\n",
       "      <td>61.500000</td>\n",
       "      <td>91.000000</td>\n",
       "      <td>258.000000</td>\n",
       "      <td>0.890000</td>\n",
       "      <td>2.350000</td>\n",
       "      <td>0.340000</td>\n",
       "      <td>27.625000</td>\n",
       "      <td>127.300000</td>\n",
       "    </tr>\n",
       "    <tr>\n",
       "      <th>max</th>\n",
       "      <td>121.500000</td>\n",
       "      <td>55.000000</td>\n",
       "      <td>72.500000</td>\n",
       "      <td>104.000000</td>\n",
       "      <td>47.800000</td>\n",
       "      <td>529.900000</td>\n",
       "      <td>903.600000</td>\n",
       "      <td>362.300000</td>\n",
       "      <td>29.000000</td>\n",
       "      <td>259.000000</td>\n",
       "      <td>244.000000</td>\n",
       "      <td>100.000000</td>\n",
       "      <td>258.000000</td>\n",
       "      <td>8.300000</td>\n",
       "      <td>12.640000</td>\n",
       "      <td>5.540000</td>\n",
       "      <td>204.500000</td>\n",
       "      <td>206.800000</td>\n",
       "    </tr>\n",
       "  </tbody>\n",
       "</table>\n",
       "</div>"
      ],
      "text/plain": [
       "       Mortality Rate: Upper Confidence Limit (97.5%)  \\\n",
       "count                                     7012.000000   \n",
       "mean                                        33.101226   \n",
       "std                                         10.504489   \n",
       "min                                         10.600000   \n",
       "25%                                         26.500000   \n",
       "50%                                         30.900000   \n",
       "75%                                         37.200000   \n",
       "max                                        121.500000   \n",
       "\n",
       "       Mortality Rate: Lower Confidence Limit (2.5%)  \\\n",
       "count                                    7012.000000   \n",
       "mean                                       14.972704   \n",
       "std                                         5.309535   \n",
       "min                                         0.000000   \n",
       "25%                                        11.800000   \n",
       "50%                                        15.000000   \n",
       "75%                                        18.200000   \n",
       "max                                        55.000000   \n",
       "\n",
       "       Readmission Rate (Facility)  \\\n",
       "count                  7118.000000   \n",
       "mean                     26.934125   \n",
       "std                       8.000547   \n",
       "min                       0.000000   \n",
       "25%                      22.000000   \n",
       "50%                      27.000000   \n",
       "75%                      31.800000   \n",
       "max                      72.500000   \n",
       "\n",
       "       Readmission Rate: Upper Confidence Limit (97.5%)  \\\n",
       "count                                       7118.000000   \n",
       "mean                                          43.381174   \n",
       "std                                            9.855395   \n",
       "min                                           13.600000   \n",
       "25%                                           36.900000   \n",
       "50%                                           42.300000   \n",
       "75%                                           48.400000   \n",
       "max                                          104.000000   \n",
       "\n",
       "       Readmission Rate: Lower Confidence Limit (2.5%)  \\\n",
       "count                                      7118.000000   \n",
       "mean                                         14.786204   \n",
       "std                                           6.842420   \n",
       "min                                           0.000000   \n",
       "25%                                          10.100000   \n",
       "50%                                          15.000000   \n",
       "75%                                          19.400000   \n",
       "max                                          47.800000   \n",
       "\n",
       "       Hospitalization Rate (Facility)  \\\n",
       "count                      7185.000000   \n",
       "mean                        188.738386   \n",
       "std                          51.273668   \n",
       "min                          22.900000   \n",
       "25%                         154.700000   \n",
       "50%                         185.000000   \n",
       "75%                         218.600000   \n",
       "max                         529.900000   \n",
       "\n",
       "       Hospitalization Rate: Upper Confidence Limit (97.5%)  \\\n",
       "count                                        7185.000000      \n",
       "mean                                          323.795992      \n",
       "std                                            82.038913      \n",
       "min                                           133.000000      \n",
       "25%                                           270.000000      \n",
       "50%                                           310.900000      \n",
       "75%                                           359.900000      \n",
       "max                                           903.600000      \n",
       "\n",
       "       Hospitalization Rate: Lower Confidence Limit (2.5%)  \\\n",
       "count                                        7185.000000     \n",
       "mean                                          117.544690     \n",
       "std                                            40.162835     \n",
       "min                                             2.300000     \n",
       "25%                                            90.500000     \n",
       "50%                                           115.500000     \n",
       "75%                                           142.300000     \n",
       "max                                           362.300000     \n",
       "\n",
       "       Number Of Pediatric PD Patients With Kt/V Data  \\\n",
       "count                                     7616.000000   \n",
       "mean                                         0.116991   \n",
       "std                                          1.178866   \n",
       "min                                          0.000000   \n",
       "25%                                          0.000000   \n",
       "50%                                          0.000000   \n",
       "75%                                          0.000000   \n",
       "max                                         29.000000   \n",
       "\n",
       "       Pediatric PD Kt/V Data Availability Code  \\\n",
       "count                               7696.000000   \n",
       "mean                                 256.880977   \n",
       "std                                   10.933772   \n",
       "min                                  199.000000   \n",
       "25%                                  259.000000   \n",
       "50%                                  259.000000   \n",
       "75%                                  259.000000   \n",
       "max                                  259.000000   \n",
       "\n",
       "       Number Of Pediatric PD Patient-Months With Kt/V Data  \\\n",
       "count                                         154.000000      \n",
       "mean                                           42.370130      \n",
       "std                                            47.654249      \n",
       "min                                             1.000000      \n",
       "25%                                            10.000000      \n",
       "50%                                            25.000000      \n",
       "75%                                            61.500000      \n",
       "max                                           244.000000      \n",
       "\n",
       "       Percentage Of Pediatric PD Patients With Kt/V >= 1.8  \\\n",
       "count                                          28.000000      \n",
       "mean                                           75.857143      \n",
       "std                                            25.703025      \n",
       "min                                             4.000000      \n",
       "25%                                            76.500000      \n",
       "50%                                            85.500000      \n",
       "75%                                            91.000000      \n",
       "max                                           100.000000      \n",
       "\n",
       "       Patient Infection Data Availability Code  Standard Infection Ratio  \\\n",
       "count                               1223.000000               6501.000000   \n",
       "mean                                 219.118561                  0.637843   \n",
       "std                                   26.771932                  0.601081   \n",
       "min                                  199.000000                  0.000000   \n",
       "25%                                  201.000000                  0.220000   \n",
       "50%                                  201.000000                  0.510000   \n",
       "75%                                  258.000000                  0.890000   \n",
       "max                                  258.000000                  8.300000   \n",
       "\n",
       "       SIR: Upper Confidence Limit (97.5%)  \\\n",
       "count                          6501.000000   \n",
       "mean                              1.891109   \n",
       "std                               1.143895   \n",
       "min                               0.200000   \n",
       "25%                               1.100000   \n",
       "50%                               1.640000   \n",
       "75%                               2.350000   \n",
       "max                              12.640000   \n",
       "\n",
       "       SIR: Lower Confidence Limit (2.5%)  Transfusion Rate (Facility)  \\\n",
       "count                         5344.000000                  6564.000000   \n",
       "mean                             0.250717                    20.177651   \n",
       "std                              0.305078                    16.789632   \n",
       "min                              0.000000                     0.000000   \n",
       "25%                              0.040000                     8.300000   \n",
       "50%                              0.150000                    16.700000   \n",
       "75%                              0.340000                    27.625000   \n",
       "max                              5.540000                   204.500000   \n",
       "\n",
       "       Transfusion Rate: Upper Confidence Limit (97.5%)  \n",
       "count                                       6564.000000  \n",
       "mean                                          98.796268  \n",
       "std                                           50.326474  \n",
       "min                                           14.000000  \n",
       "25%                                           60.800000  \n",
       "50%                                           86.800000  \n",
       "75%                                          127.300000  \n",
       "max                                          206.800000  "
      ]
     },
     "execution_count": 25,
     "metadata": {},
     "output_type": "execute_result"
    }
   ],
   "source": [
    "df.iloc[:, 70:90].describe()"
   ]
  },
  {
   "cell_type": "code",
   "execution_count": 26,
   "metadata": {},
   "outputs": [
    {
     "data": {
      "text/html": [
       "<div>\n",
       "<style scoped>\n",
       "    .dataframe tbody tr th:only-of-type {\n",
       "        vertical-align: middle;\n",
       "    }\n",
       "\n",
       "    .dataframe tbody tr th {\n",
       "        vertical-align: top;\n",
       "    }\n",
       "\n",
       "    .dataframe thead th {\n",
       "        text-align: right;\n",
       "    }\n",
       "</style>\n",
       "<table border=\"1\" class=\"dataframe\">\n",
       "  <thead>\n",
       "    <tr style=\"text-align: right;\">\n",
       "      <th></th>\n",
       "      <th>Transfusion Rate: Lower Confidence Limit (2.5%)</th>\n",
       "      <th>Fistula Data Availability Code</th>\n",
       "      <th>Number Of Patients Included In Fistula Summary</th>\n",
       "      <th>Fistula Rate (Facility)</th>\n",
       "      <th>Fistula Rate: Upper Confidence Limit (97.5%)</th>\n",
       "      <th>Fistula Rate: Lower Confidence Limit (2.5%)</th>\n",
       "      <th>Number Of Patients In Long Term Catheter Summary</th>\n",
       "      <th>Number Of Patient-Months In Long Term Catheter Summary</th>\n",
       "      <th>Long Term Catheter Data Availability Code</th>\n",
       "      <th>Percentage Of Adult Patients With Long Term Catheter In Use</th>\n",
       "      <th>...</th>\n",
       "      <th>Patient Transplant Waitlist Data Availability Code</th>\n",
       "      <th>95% C.I. (Upper Limit) For SWR</th>\n",
       "      <th>95% C.I. (Lower Limit) For SWR</th>\n",
       "      <th>Number Of Patients In This Facility For SWR</th>\n",
       "      <th>Standardized First Kidney Transplant Waitlist Ratio</th>\n",
       "      <th>Patient Prevalent Transplant Waitlist Data Availability Code</th>\n",
       "      <th>95% C.I. (Upper Limit) For PPPW</th>\n",
       "      <th>95% C.I. (Lower Limit) For PPPW</th>\n",
       "      <th>Number Of Patients For PPPW</th>\n",
       "      <th>Percentage Of Prevalent Patients Waitlisted</th>\n",
       "    </tr>\n",
       "  </thead>\n",
       "  <tbody>\n",
       "    <tr>\n",
       "      <th>count</th>\n",
       "      <td>6564.000000</td>\n",
       "      <td>707.000000</td>\n",
       "      <td>7614.000000</td>\n",
       "      <td>7017.000000</td>\n",
       "      <td>7017.000000</td>\n",
       "      <td>7017.000000</td>\n",
       "      <td>7616.000000</td>\n",
       "      <td>7396.000000</td>\n",
       "      <td>707.000000</td>\n",
       "      <td>7017.000000</td>\n",
       "      <td>...</td>\n",
       "      <td>3560.000000</td>\n",
       "      <td>4164.000000</td>\n",
       "      <td>4164.000000</td>\n",
       "      <td>7616.000000</td>\n",
       "      <td>4164.000000</td>\n",
       "      <td>413.000000</td>\n",
       "      <td>7311.000000</td>\n",
       "      <td>7311.000000</td>\n",
       "      <td>7615.000000</td>\n",
       "      <td>7311.000000</td>\n",
       "    </tr>\n",
       "    <tr>\n",
       "      <th>mean</th>\n",
       "      <td>7.246283</td>\n",
       "      <td>231.295615</td>\n",
       "      <td>78.327160</td>\n",
       "      <td>62.767579</td>\n",
       "      <td>83.681801</td>\n",
       "      <td>40.027334</td>\n",
       "      <td>78.330488</td>\n",
       "      <td>697.857896</td>\n",
       "      <td>231.267327</td>\n",
       "      <td>12.855209</td>\n",
       "      <td>...</td>\n",
       "      <td>205.968539</td>\n",
       "      <td>2.609539</td>\n",
       "      <td>0.331647</td>\n",
       "      <td>29.955751</td>\n",
       "      <td>0.993132</td>\n",
       "      <td>236.651332</td>\n",
       "      <td>44.896854</td>\n",
       "      <td>6.702968</td>\n",
       "      <td>69.730138</td>\n",
       "      <td>18.101518</td>\n",
       "    </tr>\n",
       "    <tr>\n",
       "      <th>std</th>\n",
       "      <td>8.816395</td>\n",
       "      <td>28.908991</td>\n",
       "      <td>53.025111</td>\n",
       "      <td>10.793898</td>\n",
       "      <td>10.831076</td>\n",
       "      <td>14.538320</td>\n",
       "      <td>53.025502</td>\n",
       "      <td>476.410847</td>\n",
       "      <td>28.883778</td>\n",
       "      <td>7.315917</td>\n",
       "      <td>...</td>\n",
       "      <td>18.932961</td>\n",
       "      <td>1.302244</td>\n",
       "      <td>0.425139</td>\n",
       "      <td>23.136190</td>\n",
       "      <td>0.811186</td>\n",
       "      <td>28.290783</td>\n",
       "      <td>15.642285</td>\n",
       "      <td>6.511282</td>\n",
       "      <td>46.748508</td>\n",
       "      <td>10.877026</td>\n",
       "    </tr>\n",
       "    <tr>\n",
       "      <th>min</th>\n",
       "      <td>0.000000</td>\n",
       "      <td>199.000000</td>\n",
       "      <td>0.000000</td>\n",
       "      <td>0.000000</td>\n",
       "      <td>0.000000</td>\n",
       "      <td>0.000000</td>\n",
       "      <td>0.000000</td>\n",
       "      <td>1.000000</td>\n",
       "      <td>199.000000</td>\n",
       "      <td>0.000000</td>\n",
       "      <td>...</td>\n",
       "      <td>199.000000</td>\n",
       "      <td>0.270000</td>\n",
       "      <td>0.000000</td>\n",
       "      <td>0.000000</td>\n",
       "      <td>0.000000</td>\n",
       "      <td>199.000000</td>\n",
       "      <td>0.000000</td>\n",
       "      <td>0.000000</td>\n",
       "      <td>0.000000</td>\n",
       "      <td>0.000000</td>\n",
       "    </tr>\n",
       "    <tr>\n",
       "      <th>25%</th>\n",
       "      <td>1.200000</td>\n",
       "      <td>199.000000</td>\n",
       "      <td>41.000000</td>\n",
       "      <td>56.100000</td>\n",
       "      <td>77.100000</td>\n",
       "      <td>31.300000</td>\n",
       "      <td>41.000000</td>\n",
       "      <td>354.000000</td>\n",
       "      <td>199.000000</td>\n",
       "      <td>8.000000</td>\n",
       "      <td>...</td>\n",
       "      <td>199.000000</td>\n",
       "      <td>1.660000</td>\n",
       "      <td>0.037500</td>\n",
       "      <td>13.000000</td>\n",
       "      <td>0.420000</td>\n",
       "      <td>199.000000</td>\n",
       "      <td>34.100000</td>\n",
       "      <td>2.100000</td>\n",
       "      <td>37.000000</td>\n",
       "      <td>10.500000</td>\n",
       "    </tr>\n",
       "    <tr>\n",
       "      <th>50%</th>\n",
       "      <td>4.500000</td>\n",
       "      <td>256.000000</td>\n",
       "      <td>72.000000</td>\n",
       "      <td>63.300000</td>\n",
       "      <td>84.200000</td>\n",
       "      <td>41.100000</td>\n",
       "      <td>72.000000</td>\n",
       "      <td>628.500000</td>\n",
       "      <td>256.000000</td>\n",
       "      <td>12.000000</td>\n",
       "      <td>...</td>\n",
       "      <td>199.000000</td>\n",
       "      <td>2.370000</td>\n",
       "      <td>0.180000</td>\n",
       "      <td>26.000000</td>\n",
       "      <td>0.820000</td>\n",
       "      <td>258.000000</td>\n",
       "      <td>43.200000</td>\n",
       "      <td>4.900000</td>\n",
       "      <td>61.000000</td>\n",
       "      <td>16.100000</td>\n",
       "    </tr>\n",
       "    <tr>\n",
       "      <th>75%</th>\n",
       "      <td>10.200000</td>\n",
       "      <td>258.000000</td>\n",
       "      <td>107.000000</td>\n",
       "      <td>70.100000</td>\n",
       "      <td>91.200000</td>\n",
       "      <td>50.200000</td>\n",
       "      <td>107.000000</td>\n",
       "      <td>950.250000</td>\n",
       "      <td>258.000000</td>\n",
       "      <td>16.000000</td>\n",
       "      <td>...</td>\n",
       "      <td>199.000000</td>\n",
       "      <td>3.290000</td>\n",
       "      <td>0.462500</td>\n",
       "      <td>41.000000</td>\n",
       "      <td>1.370000</td>\n",
       "      <td>258.000000</td>\n",
       "      <td>54.550000</td>\n",
       "      <td>9.200000</td>\n",
       "      <td>93.000000</td>\n",
       "      <td>23.500000</td>\n",
       "    </tr>\n",
       "    <tr>\n",
       "      <th>max</th>\n",
       "      <td>132.400000</td>\n",
       "      <td>258.000000</td>\n",
       "      <td>906.000000</td>\n",
       "      <td>100.000000</td>\n",
       "      <td>100.000000</td>\n",
       "      <td>100.000000</td>\n",
       "      <td>906.000000</td>\n",
       "      <td>4155.000000</td>\n",
       "      <td>258.000000</td>\n",
       "      <td>88.000000</td>\n",
       "      <td>...</td>\n",
       "      <td>258.000000</td>\n",
       "      <td>12.830000</td>\n",
       "      <td>5.080000</td>\n",
       "      <td>236.000000</td>\n",
       "      <td>8.310000</td>\n",
       "      <td>258.000000</td>\n",
       "      <td>98.700000</td>\n",
       "      <td>55.400000</td>\n",
       "      <td>479.000000</td>\n",
       "      <td>86.900000</td>\n",
       "    </tr>\n",
       "  </tbody>\n",
       "</table>\n",
       "<p>8 rows × 24 columns</p>\n",
       "</div>"
      ],
      "text/plain": [
       "       Transfusion Rate: Lower Confidence Limit (2.5%)  \\\n",
       "count                                      6564.000000   \n",
       "mean                                          7.246283   \n",
       "std                                           8.816395   \n",
       "min                                           0.000000   \n",
       "25%                                           1.200000   \n",
       "50%                                           4.500000   \n",
       "75%                                          10.200000   \n",
       "max                                         132.400000   \n",
       "\n",
       "       Fistula Data Availability Code  \\\n",
       "count                      707.000000   \n",
       "mean                       231.295615   \n",
       "std                         28.908991   \n",
       "min                        199.000000   \n",
       "25%                        199.000000   \n",
       "50%                        256.000000   \n",
       "75%                        258.000000   \n",
       "max                        258.000000   \n",
       "\n",
       "       Number Of Patients Included In Fistula Summary  \\\n",
       "count                                     7614.000000   \n",
       "mean                                        78.327160   \n",
       "std                                         53.025111   \n",
       "min                                          0.000000   \n",
       "25%                                         41.000000   \n",
       "50%                                         72.000000   \n",
       "75%                                        107.000000   \n",
       "max                                        906.000000   \n",
       "\n",
       "       Fistula Rate (Facility)  Fistula Rate: Upper Confidence Limit (97.5%)  \\\n",
       "count              7017.000000                                   7017.000000   \n",
       "mean                 62.767579                                     83.681801   \n",
       "std                  10.793898                                     10.831076   \n",
       "min                   0.000000                                      0.000000   \n",
       "25%                  56.100000                                     77.100000   \n",
       "50%                  63.300000                                     84.200000   \n",
       "75%                  70.100000                                     91.200000   \n",
       "max                 100.000000                                    100.000000   \n",
       "\n",
       "       Fistula Rate: Lower Confidence Limit (2.5%)  \\\n",
       "count                                  7017.000000   \n",
       "mean                                     40.027334   \n",
       "std                                      14.538320   \n",
       "min                                       0.000000   \n",
       "25%                                      31.300000   \n",
       "50%                                      41.100000   \n",
       "75%                                      50.200000   \n",
       "max                                     100.000000   \n",
       "\n",
       "       Number Of Patients In Long Term Catheter Summary  \\\n",
       "count                                       7616.000000   \n",
       "mean                                          78.330488   \n",
       "std                                           53.025502   \n",
       "min                                            0.000000   \n",
       "25%                                           41.000000   \n",
       "50%                                           72.000000   \n",
       "75%                                          107.000000   \n",
       "max                                          906.000000   \n",
       "\n",
       "       Number Of Patient-Months In Long Term Catheter Summary  \\\n",
       "count                                        7396.000000        \n",
       "mean                                          697.857896        \n",
       "std                                           476.410847        \n",
       "min                                             1.000000        \n",
       "25%                                           354.000000        \n",
       "50%                                           628.500000        \n",
       "75%                                           950.250000        \n",
       "max                                          4155.000000        \n",
       "\n",
       "       Long Term Catheter Data Availability Code  \\\n",
       "count                                 707.000000   \n",
       "mean                                  231.267327   \n",
       "std                                    28.883778   \n",
       "min                                   199.000000   \n",
       "25%                                   199.000000   \n",
       "50%                                   256.000000   \n",
       "75%                                   258.000000   \n",
       "max                                   258.000000   \n",
       "\n",
       "       Percentage Of Adult Patients With Long Term Catheter In Use  ...  \\\n",
       "count                                        7017.000000            ...   \n",
       "mean                                           12.855209            ...   \n",
       "std                                             7.315917            ...   \n",
       "min                                             0.000000            ...   \n",
       "25%                                             8.000000            ...   \n",
       "50%                                            12.000000            ...   \n",
       "75%                                            16.000000            ...   \n",
       "max                                            88.000000            ...   \n",
       "\n",
       "       Patient Transplant Waitlist Data Availability Code  \\\n",
       "count                                        3560.000000    \n",
       "mean                                          205.968539    \n",
       "std                                            18.932961    \n",
       "min                                           199.000000    \n",
       "25%                                           199.000000    \n",
       "50%                                           199.000000    \n",
       "75%                                           199.000000    \n",
       "max                                           258.000000    \n",
       "\n",
       "       95% C.I. (Upper Limit) For SWR  95% C.I. (Lower Limit) For SWR  \\\n",
       "count                     4164.000000                     4164.000000   \n",
       "mean                         2.609539                        0.331647   \n",
       "std                          1.302244                        0.425139   \n",
       "min                          0.270000                        0.000000   \n",
       "25%                          1.660000                        0.037500   \n",
       "50%                          2.370000                        0.180000   \n",
       "75%                          3.290000                        0.462500   \n",
       "max                         12.830000                        5.080000   \n",
       "\n",
       "       Number Of Patients In This Facility For SWR  \\\n",
       "count                                  7616.000000   \n",
       "mean                                     29.955751   \n",
       "std                                      23.136190   \n",
       "min                                       0.000000   \n",
       "25%                                      13.000000   \n",
       "50%                                      26.000000   \n",
       "75%                                      41.000000   \n",
       "max                                     236.000000   \n",
       "\n",
       "       Standardized First Kidney Transplant Waitlist Ratio  \\\n",
       "count                                        4164.000000     \n",
       "mean                                            0.993132     \n",
       "std                                             0.811186     \n",
       "min                                             0.000000     \n",
       "25%                                             0.420000     \n",
       "50%                                             0.820000     \n",
       "75%                                             1.370000     \n",
       "max                                             8.310000     \n",
       "\n",
       "       Patient Prevalent Transplant Waitlist Data Availability Code  \\\n",
       "count                                         413.000000              \n",
       "mean                                          236.651332              \n",
       "std                                            28.290783              \n",
       "min                                           199.000000              \n",
       "25%                                           199.000000              \n",
       "50%                                           258.000000              \n",
       "75%                                           258.000000              \n",
       "max                                           258.000000              \n",
       "\n",
       "       95% C.I. (Upper Limit) For PPPW  95% C.I. (Lower Limit) For PPPW  \\\n",
       "count                      7311.000000                      7311.000000   \n",
       "mean                         44.896854                         6.702968   \n",
       "std                          15.642285                         6.511282   \n",
       "min                           0.000000                         0.000000   \n",
       "25%                          34.100000                         2.100000   \n",
       "50%                          43.200000                         4.900000   \n",
       "75%                          54.550000                         9.200000   \n",
       "max                          98.700000                        55.400000   \n",
       "\n",
       "       Number Of Patients For PPPW  \\\n",
       "count                  7615.000000   \n",
       "mean                     69.730138   \n",
       "std                      46.748508   \n",
       "min                       0.000000   \n",
       "25%                      37.000000   \n",
       "50%                      61.000000   \n",
       "75%                      93.000000   \n",
       "max                     479.000000   \n",
       "\n",
       "       Percentage Of Prevalent Patients Waitlisted  \n",
       "count                                  7311.000000  \n",
       "mean                                     18.101518  \n",
       "std                                      10.877026  \n",
       "min                                       0.000000  \n",
       "25%                                      10.500000  \n",
       "50%                                      16.100000  \n",
       "75%                                      23.500000  \n",
       "max                                      86.900000  \n",
       "\n",
       "[8 rows x 24 columns]"
      ]
     },
     "execution_count": 26,
     "metadata": {},
     "output_type": "execute_result"
    }
   ],
   "source": [
    "df.iloc[:, 90:].describe()"
   ]
  },
  {
   "cell_type": "markdown",
   "metadata": {},
   "source": [
    "### Range of values per column"
   ]
  },
  {
   "cell_type": "code",
   "execution_count": 27,
   "metadata": {},
   "outputs": [
    {
     "data": {
      "text/html": [
       "<div>\n",
       "<style scoped>\n",
       "    .dataframe tbody tr th:only-of-type {\n",
       "        vertical-align: middle;\n",
       "    }\n",
       "\n",
       "    .dataframe tbody tr th {\n",
       "        vertical-align: top;\n",
       "    }\n",
       "\n",
       "    .dataframe thead th {\n",
       "        text-align: right;\n",
       "    }\n",
       "</style>\n",
       "<table border=\"1\" class=\"dataframe\">\n",
       "  <thead>\n",
       "    <tr style=\"text-align: right;\">\n",
       "      <th></th>\n",
       "      <th>min</th>\n",
       "      <th>max</th>\n",
       "    </tr>\n",
       "  </thead>\n",
       "  <tbody>\n",
       "    <tr>\n",
       "      <th>Provider Number</th>\n",
       "      <td>12306</td>\n",
       "      <td>852574</td>\n",
       "    </tr>\n",
       "    <tr>\n",
       "      <th>Network</th>\n",
       "      <td>1</td>\n",
       "      <td>18</td>\n",
       "    </tr>\n",
       "    <tr>\n",
       "      <th>Facility Name</th>\n",
       "      <td>A UNIQUE KIDNEY CENTER LLC</td>\n",
       "      <td>ZZ_CLOSED_DALLAS-FORT WORTH NEPHROLOGY LP</td>\n",
       "    </tr>\n",
       "    <tr>\n",
       "      <th>Star Rating Date</th>\n",
       "      <td>01/01/2016 - 12/31/2019</td>\n",
       "      <td>01/01/2016 - 12/31/2019</td>\n",
       "    </tr>\n",
       "    <tr>\n",
       "      <th>Star Rating</th>\n",
       "      <td>1</td>\n",
       "      <td>5</td>\n",
       "    </tr>\n",
       "    <tr>\n",
       "      <th>Star Rating Data Availability Code</th>\n",
       "      <td>258</td>\n",
       "      <td>261</td>\n",
       "    </tr>\n",
       "    <tr>\n",
       "      <th>Address Line 1</th>\n",
       "      <td># 7 PROFESSIONAL DRIVE</td>\n",
       "      <td>WHEATON PARK SHOPPING CTR</td>\n",
       "    </tr>\n",
       "    <tr>\n",
       "      <th>City</th>\n",
       "      <td>ABBEVILLE</td>\n",
       "      <td>ZUNI</td>\n",
       "    </tr>\n",
       "    <tr>\n",
       "      <th>State</th>\n",
       "      <td>AK</td>\n",
       "      <td>WY</td>\n",
       "    </tr>\n",
       "    <tr>\n",
       "      <th>Zip</th>\n",
       "      <td>603</td>\n",
       "      <td>99801</td>\n",
       "    </tr>\n",
       "    <tr>\n",
       "      <th>County</th>\n",
       "      <td>ABBEVILLE</td>\n",
       "      <td>ZAVALA</td>\n",
       "    </tr>\n",
       "    <tr>\n",
       "      <th>Phone Number</th>\n",
       "      <td>(201) 262-0429</td>\n",
       "      <td>(989) 921-2170</td>\n",
       "    </tr>\n",
       "    <tr>\n",
       "      <th>Chain Owned</th>\n",
       "      <td>No</td>\n",
       "      <td>Yes</td>\n",
       "    </tr>\n",
       "    <tr>\n",
       "      <th>Late Shift</th>\n",
       "      <td>0</td>\n",
       "      <td>1</td>\n",
       "    </tr>\n",
       "    <tr>\n",
       "      <th>Number Of Dialysis Stations</th>\n",
       "      <td>0</td>\n",
       "      <td>80</td>\n",
       "    </tr>\n",
       "    <tr>\n",
       "      <th>Offers In-Center Hemodialysis</th>\n",
       "      <td>0</td>\n",
       "      <td>1</td>\n",
       "    </tr>\n",
       "    <tr>\n",
       "      <th>Offers Peritoneal Dialysis</th>\n",
       "      <td>0</td>\n",
       "      <td>1</td>\n",
       "    </tr>\n",
       "    <tr>\n",
       "      <th>Offers Home Hemodialysis Training</th>\n",
       "      <td>0</td>\n",
       "      <td>1</td>\n",
       "    </tr>\n",
       "    <tr>\n",
       "      <th>Certification Or Recertification Date</th>\n",
       "      <td>01/01/1968</td>\n",
       "      <td>12/31/2017</td>\n",
       "    </tr>\n",
       "    <tr>\n",
       "      <th>Claims Date</th>\n",
       "      <td>01/01/2019 - 12/31/2019</td>\n",
       "      <td>01/01/2019 - 12/31/2019</td>\n",
       "    </tr>\n",
       "    <tr>\n",
       "      <th>CROWNWeb Date</th>\n",
       "      <td>01/01/2019 - 12/31/2019</td>\n",
       "      <td>01/01/2019 - 12/31/2019</td>\n",
       "    </tr>\n",
       "    <tr>\n",
       "      <th>STrR Date</th>\n",
       "      <td>01/01/2019 - 12/31/2019</td>\n",
       "      <td>01/01/2019 - 12/31/2019</td>\n",
       "    </tr>\n",
       "    <tr>\n",
       "      <th>Percentage Of Medicare Patients With Hgb &lt; 10 g/dL</th>\n",
       "      <td>0</td>\n",
       "      <td>100</td>\n",
       "    </tr>\n",
       "    <tr>\n",
       "      <th>Hgb &lt; 10 Data Availability Code</th>\n",
       "      <td>199</td>\n",
       "      <td>258</td>\n",
       "    </tr>\n",
       "    <tr>\n",
       "      <th>Percentage Of Medicare Patients With Hgb &gt; 12 g/dL</th>\n",
       "      <td>0</td>\n",
       "      <td>40</td>\n",
       "    </tr>\n",
       "    <tr>\n",
       "      <th>Hgb &gt; 12 Data Availability Code</th>\n",
       "      <td>199</td>\n",
       "      <td>258</td>\n",
       "    </tr>\n",
       "    <tr>\n",
       "      <th>Number Of Dialysis Patients With Hgb Data</th>\n",
       "      <td>0</td>\n",
       "      <td>253</td>\n",
       "    </tr>\n",
       "    <tr>\n",
       "      <th>Patient Transfusion Data Availability Code</th>\n",
       "      <td>199</td>\n",
       "      <td>258</td>\n",
       "    </tr>\n",
       "    <tr>\n",
       "      <th>Number Of Patients Included In The Transfusion Summary</th>\n",
       "      <td>0</td>\n",
       "      <td>439</td>\n",
       "    </tr>\n",
       "    <tr>\n",
       "      <th>Percent Of Adult HD Patients With Kt/V &gt;= 1.2</th>\n",
       "      <td>0</td>\n",
       "      <td>100</td>\n",
       "    </tr>\n",
       "    <tr>\n",
       "      <th>Adult HD Kt/V Data Availability Code</th>\n",
       "      <td>199</td>\n",
       "      <td>258</td>\n",
       "    </tr>\n",
       "    <tr>\n",
       "      <th>Percentage Of Adult PD PTS With Kt/V &gt;= 1.7</th>\n",
       "      <td>0</td>\n",
       "      <td>100</td>\n",
       "    </tr>\n",
       "    <tr>\n",
       "      <th>Adult PD Kt/V Data Availability Code</th>\n",
       "      <td>199</td>\n",
       "      <td>258</td>\n",
       "    </tr>\n",
       "    <tr>\n",
       "      <th>Percentage Of Pediatric HD Patients With Kt/V &gt;= 1.2</th>\n",
       "      <td>76</td>\n",
       "      <td>100</td>\n",
       "    </tr>\n",
       "    <tr>\n",
       "      <th>Pediatric HD Kt/V Data Availability Code</th>\n",
       "      <td>199</td>\n",
       "      <td>259</td>\n",
       "    </tr>\n",
       "    <tr>\n",
       "      <th>Number Of Adult HD Patients With Kt/V Data</th>\n",
       "      <td>0</td>\n",
       "      <td>770</td>\n",
       "    </tr>\n",
       "    <tr>\n",
       "      <th>Number Of Adult HD Patient-Months With Kt/V Data</th>\n",
       "      <td>1</td>\n",
       "      <td>3764</td>\n",
       "    </tr>\n",
       "    <tr>\n",
       "      <th>Number Of Adult PD Patients With Kt/V Data</th>\n",
       "      <td>0</td>\n",
       "      <td>264</td>\n",
       "    </tr>\n",
       "    <tr>\n",
       "      <th>Number Of Adult PD Patient-Months With Kt/V Data</th>\n",
       "      <td>1</td>\n",
       "      <td>2167</td>\n",
       "    </tr>\n",
       "    <tr>\n",
       "      <th>Number Of Pediatric HD Patients With Kt/V Data</th>\n",
       "      <td>0</td>\n",
       "      <td>20</td>\n",
       "    </tr>\n",
       "    <tr>\n",
       "      <th>Number Of Pediatric HD Patient-Months With Kt/V Data</th>\n",
       "      <td>1</td>\n",
       "      <td>150</td>\n",
       "    </tr>\n",
       "    <tr>\n",
       "      <th>Hypercalcemia Data Availability Code</th>\n",
       "      <td>199</td>\n",
       "      <td>258</td>\n",
       "    </tr>\n",
       "    <tr>\n",
       "      <th>Number Of Patients In Hypercalcemia Summary</th>\n",
       "      <td>0</td>\n",
       "      <td>820</td>\n",
       "    </tr>\n",
       "    <tr>\n",
       "      <th>Number Of Patient-Months In Hypercalcemia Summary</th>\n",
       "      <td>0</td>\n",
       "      <td>5251</td>\n",
       "    </tr>\n",
       "    <tr>\n",
       "      <th>Percentage Of Adult Patients With Hypercalcemia (Serum Calcium Greater Than 10.2 mg/dL)</th>\n",
       "      <td>0</td>\n",
       "      <td>98</td>\n",
       "    </tr>\n",
       "    <tr>\n",
       "      <th>Number Of Patients In Serum Phosphorus Summary</th>\n",
       "      <td>0</td>\n",
       "      <td>938</td>\n",
       "    </tr>\n",
       "    <tr>\n",
       "      <th>Number Of Patient-Months In Serum Phosphorus Summary</th>\n",
       "      <td>0</td>\n",
       "      <td>5421</td>\n",
       "    </tr>\n",
       "    <tr>\n",
       "      <th>Serum Phosphorus Data Availability Code</th>\n",
       "      <td>199</td>\n",
       "      <td>258</td>\n",
       "    </tr>\n",
       "    <tr>\n",
       "      <th>Percentage Of Adult Patients With Serum Phosphorus Less Than 3.5 mg/dL</th>\n",
       "      <td>0</td>\n",
       "      <td>42</td>\n",
       "    </tr>\n",
       "    <tr>\n",
       "      <th>Percentage Of Adult Patients With Serum Phosphorus Between 3.5 - 4.5 mg/dL</th>\n",
       "      <td>0</td>\n",
       "      <td>56</td>\n",
       "    </tr>\n",
       "    <tr>\n",
       "      <th>Percentage Of Adult Patients With Serum Phosphorus Between 4.6 - 5.5 mg/dL</th>\n",
       "      <td>7</td>\n",
       "      <td>67</td>\n",
       "    </tr>\n",
       "    <tr>\n",
       "      <th>Percentage Of Adult Patients With Serum Phosphorus Between 5.6 - 7.0 mg/dL</th>\n",
       "      <td>2</td>\n",
       "      <td>46</td>\n",
       "    </tr>\n",
       "    <tr>\n",
       "      <th>Percentage Of Adult Patients With Serum Phosphorus Greater Than 7.0 mg/dL</th>\n",
       "      <td>0</td>\n",
       "      <td>44</td>\n",
       "    </tr>\n",
       "    <tr>\n",
       "      <th>SHR Date</th>\n",
       "      <td>01/01/2019 - 12/31/2019</td>\n",
       "      <td>01/01/2019 - 12/31/2019</td>\n",
       "    </tr>\n",
       "    <tr>\n",
       "      <th>SRR Date</th>\n",
       "      <td>01/01/2019 - 12/31/2019</td>\n",
       "      <td>01/01/2019 - 12/31/2019</td>\n",
       "    </tr>\n",
       "    <tr>\n",
       "      <th>SMR Date</th>\n",
       "      <td>01/01/2016 - 12/31/2019</td>\n",
       "      <td>01/01/2016 - 12/31/2019</td>\n",
       "    </tr>\n",
       "  </tbody>\n",
       "</table>\n",
       "</div>"
      ],
      "text/plain": [
       "                                                                           min  \\\n",
       "Provider Number                                                          12306   \n",
       "Network                                                                      1   \n",
       "Facility Name                                       A UNIQUE KIDNEY CENTER LLC   \n",
       "Star Rating Date                                       01/01/2016 - 12/31/2019   \n",
       "Star Rating                                                                  1   \n",
       "Star Rating Data Availability Code                                         258   \n",
       "Address Line 1                                          # 7 PROFESSIONAL DRIVE   \n",
       "City                                                                 ABBEVILLE   \n",
       "State                                                                       AK   \n",
       "Zip                                                                        603   \n",
       "County                                                               ABBEVILLE   \n",
       "Phone Number                                                    (201) 262-0429   \n",
       "Chain Owned                                                                 No   \n",
       "Late Shift                                                                   0   \n",
       "Number Of Dialysis Stations                                                  0   \n",
       "Offers In-Center Hemodialysis                                                0   \n",
       "Offers Peritoneal Dialysis                                                   0   \n",
       "Offers Home Hemodialysis Training                                            0   \n",
       "Certification Or Recertification Date                               01/01/1968   \n",
       "Claims Date                                            01/01/2019 - 12/31/2019   \n",
       "CROWNWeb Date                                          01/01/2019 - 12/31/2019   \n",
       "STrR Date                                              01/01/2019 - 12/31/2019   \n",
       "Percentage Of Medicare Patients With Hgb < 10 g/dL                           0   \n",
       "Hgb < 10 Data Availability Code                                            199   \n",
       "Percentage Of Medicare Patients With Hgb > 12 g/dL                           0   \n",
       "Hgb > 12 Data Availability Code                                            199   \n",
       "Number Of Dialysis Patients With Hgb Data                                    0   \n",
       "Patient Transfusion Data Availability Code                                 199   \n",
       "Number Of Patients Included In The Transfusion ...                           0   \n",
       "Percent Of Adult HD Patients With Kt/V >= 1.2                                0   \n",
       "Adult HD Kt/V Data Availability Code                                       199   \n",
       "Percentage Of Adult PD PTS With Kt/V >= 1.7                                  0   \n",
       "Adult PD Kt/V Data Availability Code                                       199   \n",
       "Percentage Of Pediatric HD Patients With Kt/V >...                          76   \n",
       "Pediatric HD Kt/V Data Availability Code                                   199   \n",
       "Number Of Adult HD Patients With Kt/V Data                                   0   \n",
       "Number Of Adult HD Patient-Months With Kt/V Data                             1   \n",
       "Number Of Adult PD Patients With Kt/V Data                                   0   \n",
       "Number Of Adult PD Patient-Months With Kt/V Data                             1   \n",
       "Number Of Pediatric HD Patients With Kt/V Data                               0   \n",
       "Number Of Pediatric HD Patient-Months With Kt/V...                           1   \n",
       "Hypercalcemia Data Availability Code                                       199   \n",
       "Number Of Patients In Hypercalcemia Summary                                  0   \n",
       "Number Of Patient-Months In Hypercalcemia Summary                            0   \n",
       "Percentage Of Adult Patients With Hypercalcemia...                           0   \n",
       "Number Of Patients In Serum Phosphorus Summary                               0   \n",
       "Number Of Patient-Months In Serum Phosphorus Su...                           0   \n",
       "Serum Phosphorus Data Availability Code                                    199   \n",
       "Percentage Of Adult Patients With Serum Phospho...                           0   \n",
       "Percentage Of Adult Patients With Serum Phospho...                           0   \n",
       "Percentage Of Adult Patients With Serum Phospho...                           7   \n",
       "Percentage Of Adult Patients With Serum Phospho...                           2   \n",
       "Percentage Of Adult Patients With Serum Phospho...                           0   \n",
       "SHR Date                                               01/01/2019 - 12/31/2019   \n",
       "SRR Date                                               01/01/2019 - 12/31/2019   \n",
       "SMR Date                                               01/01/2016 - 12/31/2019   \n",
       "\n",
       "                                                                                          max  \n",
       "Provider Number                                                                        852574  \n",
       "Network                                                                                    18  \n",
       "Facility Name                                       ZZ_CLOSED_DALLAS-FORT WORTH NEPHROLOGY LP  \n",
       "Star Rating Date                                                      01/01/2016 - 12/31/2019  \n",
       "Star Rating                                                                                 5  \n",
       "Star Rating Data Availability Code                                                        261  \n",
       "Address Line 1                                                      WHEATON PARK SHOPPING CTR  \n",
       "City                                                                                     ZUNI  \n",
       "State                                                                                      WY  \n",
       "Zip                                                                                     99801  \n",
       "County                                                                                 ZAVALA  \n",
       "Phone Number                                                                   (989) 921-2170  \n",
       "Chain Owned                                                                               Yes  \n",
       "Late Shift                                                                                  1  \n",
       "Number Of Dialysis Stations                                                                80  \n",
       "Offers In-Center Hemodialysis                                                               1  \n",
       "Offers Peritoneal Dialysis                                                                  1  \n",
       "Offers Home Hemodialysis Training                                                           1  \n",
       "Certification Or Recertification Date                                              12/31/2017  \n",
       "Claims Date                                                           01/01/2019 - 12/31/2019  \n",
       "CROWNWeb Date                                                         01/01/2019 - 12/31/2019  \n",
       "STrR Date                                                             01/01/2019 - 12/31/2019  \n",
       "Percentage Of Medicare Patients With Hgb < 10 g/dL                                        100  \n",
       "Hgb < 10 Data Availability Code                                                           258  \n",
       "Percentage Of Medicare Patients With Hgb > 12 g/dL                                         40  \n",
       "Hgb > 12 Data Availability Code                                                           258  \n",
       "Number Of Dialysis Patients With Hgb Data                                                 253  \n",
       "Patient Transfusion Data Availability Code                                                258  \n",
       "Number Of Patients Included In The Transfusion ...                                        439  \n",
       "Percent Of Adult HD Patients With Kt/V >= 1.2                                             100  \n",
       "Adult HD Kt/V Data Availability Code                                                      258  \n",
       "Percentage Of Adult PD PTS With Kt/V >= 1.7                                               100  \n",
       "Adult PD Kt/V Data Availability Code                                                      258  \n",
       "Percentage Of Pediatric HD Patients With Kt/V >...                                        100  \n",
       "Pediatric HD Kt/V Data Availability Code                                                  259  \n",
       "Number Of Adult HD Patients With Kt/V Data                                                770  \n",
       "Number Of Adult HD Patient-Months With Kt/V Data                                         3764  \n",
       "Number Of Adult PD Patients With Kt/V Data                                                264  \n",
       "Number Of Adult PD Patient-Months With Kt/V Data                                         2167  \n",
       "Number Of Pediatric HD Patients With Kt/V Data                                             20  \n",
       "Number Of Pediatric HD Patient-Months With Kt/V...                                        150  \n",
       "Hypercalcemia Data Availability Code                                                      258  \n",
       "Number Of Patients In Hypercalcemia Summary                                               820  \n",
       "Number Of Patient-Months In Hypercalcemia Summary                                        5251  \n",
       "Percentage Of Adult Patients With Hypercalcemia...                                         98  \n",
       "Number Of Patients In Serum Phosphorus Summary                                            938  \n",
       "Number Of Patient-Months In Serum Phosphorus Su...                                       5421  \n",
       "Serum Phosphorus Data Availability Code                                                   258  \n",
       "Percentage Of Adult Patients With Serum Phospho...                                         42  \n",
       "Percentage Of Adult Patients With Serum Phospho...                                         56  \n",
       "Percentage Of Adult Patients With Serum Phospho...                                         67  \n",
       "Percentage Of Adult Patients With Serum Phospho...                                         46  \n",
       "Percentage Of Adult Patients With Serum Phospho...                                         44  \n",
       "SHR Date                                                              01/01/2019 - 12/31/2019  \n",
       "SRR Date                                                              01/01/2019 - 12/31/2019  \n",
       "SMR Date                                                              01/01/2016 - 12/31/2019  "
      ]
     },
     "execution_count": 27,
     "metadata": {},
     "output_type": "execute_result"
    }
   ],
   "source": [
    "df.iloc[:, :60].agg([min, max]).T"
   ]
  },
  {
   "cell_type": "code",
   "execution_count": 28,
   "metadata": {},
   "outputs": [
    {
     "data": {
      "text/html": [
       "<div>\n",
       "<style scoped>\n",
       "    .dataframe tbody tr th:only-of-type {\n",
       "        vertical-align: middle;\n",
       "    }\n",
       "\n",
       "    .dataframe tbody tr th {\n",
       "        vertical-align: top;\n",
       "    }\n",
       "\n",
       "    .dataframe thead th {\n",
       "        text-align: right;\n",
       "    }\n",
       "</style>\n",
       "<table border=\"1\" class=\"dataframe\">\n",
       "  <thead>\n",
       "    <tr style=\"text-align: right;\">\n",
       "      <th></th>\n",
       "      <th>min</th>\n",
       "      <th>max</th>\n",
       "    </tr>\n",
       "  </thead>\n",
       "  <tbody>\n",
       "    <tr>\n",
       "      <th>Patient Hospitalization Data Availability Code</th>\n",
       "      <td>199</td>\n",
       "      <td>258</td>\n",
       "    </tr>\n",
       "    <tr>\n",
       "      <th>Patient Hospital Readmission Data Availability Code</th>\n",
       "      <td>199</td>\n",
       "      <td>258</td>\n",
       "    </tr>\n",
       "    <tr>\n",
       "      <th>Patient Survival Data Availability Code</th>\n",
       "      <td>199</td>\n",
       "      <td>258</td>\n",
       "    </tr>\n",
       "    <tr>\n",
       "      <th>Number Of Patients Included In Hospitalization Summary</th>\n",
       "      <td>0</td>\n",
       "      <td>615</td>\n",
       "    </tr>\n",
       "    <tr>\n",
       "      <th>Number Of Hospitalizations Included In Hospital Readmission Summary</th>\n",
       "      <td>0</td>\n",
       "      <td>710</td>\n",
       "    </tr>\n",
       "    <tr>\n",
       "      <th>Number Of Patients Included In Survival Summary</th>\n",
       "      <td>0</td>\n",
       "      <td>2438</td>\n",
       "    </tr>\n",
       "    <tr>\n",
       "      <th>Mortality Rate (Facility)</th>\n",
       "      <td>0</td>\n",
       "      <td>83.5</td>\n",
       "    </tr>\n",
       "    <tr>\n",
       "      <th>Mortality Rate: Upper Confidence Limit (97.5%)</th>\n",
       "      <td>10.6</td>\n",
       "      <td>121.5</td>\n",
       "    </tr>\n",
       "    <tr>\n",
       "      <th>Mortality Rate: Lower Confidence Limit (2.5%)</th>\n",
       "      <td>0</td>\n",
       "      <td>55</td>\n",
       "    </tr>\n",
       "    <tr>\n",
       "      <th>Readmission Rate (Facility)</th>\n",
       "      <td>0</td>\n",
       "      <td>72.5</td>\n",
       "    </tr>\n",
       "    <tr>\n",
       "      <th>Readmission Rate: Upper Confidence Limit (97.5%)</th>\n",
       "      <td>13.6</td>\n",
       "      <td>104</td>\n",
       "    </tr>\n",
       "    <tr>\n",
       "      <th>Readmission Rate: Lower Confidence Limit (2.5%)</th>\n",
       "      <td>0</td>\n",
       "      <td>47.8</td>\n",
       "    </tr>\n",
       "    <tr>\n",
       "      <th>Hospitalization Rate (Facility)</th>\n",
       "      <td>22.9</td>\n",
       "      <td>529.9</td>\n",
       "    </tr>\n",
       "    <tr>\n",
       "      <th>Hospitalization Rate: Upper Confidence Limit (97.5%)</th>\n",
       "      <td>133</td>\n",
       "      <td>903.6</td>\n",
       "    </tr>\n",
       "    <tr>\n",
       "      <th>Hospitalization Rate: Lower Confidence Limit (2.5%)</th>\n",
       "      <td>2.3</td>\n",
       "      <td>362.3</td>\n",
       "    </tr>\n",
       "    <tr>\n",
       "      <th>Number Of Pediatric PD Patients With Kt/V Data</th>\n",
       "      <td>0</td>\n",
       "      <td>29</td>\n",
       "    </tr>\n",
       "    <tr>\n",
       "      <th>Pediatric PD Kt/V Data Availability Code</th>\n",
       "      <td>199</td>\n",
       "      <td>259</td>\n",
       "    </tr>\n",
       "    <tr>\n",
       "      <th>Number Of Pediatric PD Patient-Months With Kt/V Data</th>\n",
       "      <td>1</td>\n",
       "      <td>244</td>\n",
       "    </tr>\n",
       "    <tr>\n",
       "      <th>Percentage Of Pediatric PD Patients With Kt/V &gt;= 1.8</th>\n",
       "      <td>4</td>\n",
       "      <td>100</td>\n",
       "    </tr>\n",
       "    <tr>\n",
       "      <th>SIR Date</th>\n",
       "      <td>01/01/2019 - 12/31/2019</td>\n",
       "      <td>01/01/2019 - 12/31/2019</td>\n",
       "    </tr>\n",
       "    <tr>\n",
       "      <th>Patient Infection Data Availability Code</th>\n",
       "      <td>199</td>\n",
       "      <td>258</td>\n",
       "    </tr>\n",
       "    <tr>\n",
       "      <th>Standard Infection Ratio</th>\n",
       "      <td>0</td>\n",
       "      <td>8.3</td>\n",
       "    </tr>\n",
       "    <tr>\n",
       "      <th>SIR: Upper Confidence Limit (97.5%)</th>\n",
       "      <td>0.2</td>\n",
       "      <td>12.64</td>\n",
       "    </tr>\n",
       "    <tr>\n",
       "      <th>SIR: Lower Confidence Limit (2.5%)</th>\n",
       "      <td>0</td>\n",
       "      <td>5.54</td>\n",
       "    </tr>\n",
       "    <tr>\n",
       "      <th>Transfusion Rate (Facility)</th>\n",
       "      <td>0</td>\n",
       "      <td>204.5</td>\n",
       "    </tr>\n",
       "    <tr>\n",
       "      <th>Transfusion Rate: Upper Confidence Limit (97.5%)</th>\n",
       "      <td>14</td>\n",
       "      <td>206.8</td>\n",
       "    </tr>\n",
       "    <tr>\n",
       "      <th>Transfusion Rate: Lower Confidence Limit (2.5%)</th>\n",
       "      <td>0</td>\n",
       "      <td>132.4</td>\n",
       "    </tr>\n",
       "    <tr>\n",
       "      <th>Fistula Data Availability Code</th>\n",
       "      <td>199</td>\n",
       "      <td>258</td>\n",
       "    </tr>\n",
       "    <tr>\n",
       "      <th>Number Of Patients Included In Fistula Summary</th>\n",
       "      <td>0</td>\n",
       "      <td>906</td>\n",
       "    </tr>\n",
       "    <tr>\n",
       "      <th>Fistula Rate (Facility)</th>\n",
       "      <td>0</td>\n",
       "      <td>100</td>\n",
       "    </tr>\n",
       "    <tr>\n",
       "      <th>Fistula Rate: Upper Confidence Limit (97.5%)</th>\n",
       "      <td>0</td>\n",
       "      <td>100</td>\n",
       "    </tr>\n",
       "    <tr>\n",
       "      <th>Fistula Rate: Lower Confidence Limit (2.5%)</th>\n",
       "      <td>0</td>\n",
       "      <td>100</td>\n",
       "    </tr>\n",
       "    <tr>\n",
       "      <th>Number Of Patients In Long Term Catheter Summary</th>\n",
       "      <td>0</td>\n",
       "      <td>906</td>\n",
       "    </tr>\n",
       "    <tr>\n",
       "      <th>Number Of Patient-Months In Long Term Catheter Summary</th>\n",
       "      <td>1</td>\n",
       "      <td>4155</td>\n",
       "    </tr>\n",
       "    <tr>\n",
       "      <th>Long Term Catheter Data Availability Code</th>\n",
       "      <td>199</td>\n",
       "      <td>258</td>\n",
       "    </tr>\n",
       "    <tr>\n",
       "      <th>Percentage Of Adult Patients With Long Term Catheter In Use</th>\n",
       "      <td>0</td>\n",
       "      <td>88</td>\n",
       "    </tr>\n",
       "    <tr>\n",
       "      <th>Number Of Patients In nPCR Summary</th>\n",
       "      <td>0</td>\n",
       "      <td>32</td>\n",
       "    </tr>\n",
       "    <tr>\n",
       "      <th>Number Of Patient-Months In nPCR Summary</th>\n",
       "      <td>1</td>\n",
       "      <td>250</td>\n",
       "    </tr>\n",
       "    <tr>\n",
       "      <th>nPCR Data Availability Code</th>\n",
       "      <td>199</td>\n",
       "      <td>259</td>\n",
       "    </tr>\n",
       "    <tr>\n",
       "      <th>Percentage Of Pediatric HD Patients With nPCR</th>\n",
       "      <td>37</td>\n",
       "      <td>100</td>\n",
       "    </tr>\n",
       "    <tr>\n",
       "      <th>SWR Date</th>\n",
       "      <td>01/01/2016 - 12/31/2018</td>\n",
       "      <td>01/01/2016 - 12/31/2018</td>\n",
       "    </tr>\n",
       "    <tr>\n",
       "      <th>Patient Transplant Waitlist Data Availability Code</th>\n",
       "      <td>199</td>\n",
       "      <td>258</td>\n",
       "    </tr>\n",
       "    <tr>\n",
       "      <th>95% C.I. (Upper Limit) For SWR</th>\n",
       "      <td>0.27</td>\n",
       "      <td>12.83</td>\n",
       "    </tr>\n",
       "    <tr>\n",
       "      <th>95% C.I. (Lower Limit) For SWR</th>\n",
       "      <td>0</td>\n",
       "      <td>5.08</td>\n",
       "    </tr>\n",
       "    <tr>\n",
       "      <th>Number Of Patients In This Facility For SWR</th>\n",
       "      <td>0</td>\n",
       "      <td>236</td>\n",
       "    </tr>\n",
       "    <tr>\n",
       "      <th>Standardized First Kidney Transplant Waitlist Ratio</th>\n",
       "      <td>0</td>\n",
       "      <td>8.31</td>\n",
       "    </tr>\n",
       "    <tr>\n",
       "      <th>Patient Prevalent Transplant Waitlist Data Availability Code</th>\n",
       "      <td>199</td>\n",
       "      <td>258</td>\n",
       "    </tr>\n",
       "    <tr>\n",
       "      <th>95% C.I. (Upper Limit) For PPPW</th>\n",
       "      <td>0</td>\n",
       "      <td>98.7</td>\n",
       "    </tr>\n",
       "    <tr>\n",
       "      <th>95% C.I. (Lower Limit) For PPPW</th>\n",
       "      <td>0</td>\n",
       "      <td>55.4</td>\n",
       "    </tr>\n",
       "    <tr>\n",
       "      <th>Number Of Patients For PPPW</th>\n",
       "      <td>0</td>\n",
       "      <td>479</td>\n",
       "    </tr>\n",
       "    <tr>\n",
       "      <th>Percentage Of Prevalent Patients Waitlisted</th>\n",
       "      <td>0</td>\n",
       "      <td>86.9</td>\n",
       "    </tr>\n",
       "  </tbody>\n",
       "</table>\n",
       "</div>"
      ],
      "text/plain": [
       "                                                                        min  \\\n",
       "Patient Hospitalization Data Availability Code                          199   \n",
       "Patient Hospital Readmission Data Availability ...                      199   \n",
       "Patient Survival Data Availability Code                                 199   \n",
       "Number Of Patients Included In Hospitalization ...                        0   \n",
       "Number Of Hospitalizations Included In Hospital...                        0   \n",
       "Number Of Patients Included In Survival Summary                           0   \n",
       "Mortality Rate (Facility)                                                 0   \n",
       "Mortality Rate: Upper Confidence Limit (97.5%)                         10.6   \n",
       "Mortality Rate: Lower Confidence Limit (2.5%)                             0   \n",
       "Readmission Rate (Facility)                                               0   \n",
       "Readmission Rate: Upper Confidence Limit (97.5%)                       13.6   \n",
       "Readmission Rate: Lower Confidence Limit (2.5%)                           0   \n",
       "Hospitalization Rate (Facility)                                        22.9   \n",
       "Hospitalization Rate: Upper Confidence Limit (9...                      133   \n",
       "Hospitalization Rate: Lower Confidence Limit (2...                      2.3   \n",
       "Number Of Pediatric PD Patients With Kt/V Data                            0   \n",
       "Pediatric PD Kt/V Data Availability Code                                199   \n",
       "Number Of Pediatric PD Patient-Months With Kt/V...                        1   \n",
       "Percentage Of Pediatric PD Patients With Kt/V >...                        4   \n",
       "SIR Date                                            01/01/2019 - 12/31/2019   \n",
       "Patient Infection Data Availability Code                                199   \n",
       "Standard Infection Ratio                                                  0   \n",
       "SIR: Upper Confidence Limit (97.5%)                                     0.2   \n",
       "SIR: Lower Confidence Limit (2.5%)                                        0   \n",
       "Transfusion Rate (Facility)                                               0   \n",
       "Transfusion Rate: Upper Confidence Limit (97.5%)                         14   \n",
       "Transfusion Rate: Lower Confidence Limit (2.5%)                           0   \n",
       "Fistula Data Availability Code                                          199   \n",
       "Number Of Patients Included In Fistula Summary                            0   \n",
       "Fistula Rate (Facility)                                                   0   \n",
       "Fistula Rate: Upper Confidence Limit (97.5%)                              0   \n",
       "Fistula Rate: Lower Confidence Limit (2.5%)                               0   \n",
       "Number Of Patients In Long Term Catheter Summary                          0   \n",
       "Number Of Patient-Months In Long Term Catheter ...                        1   \n",
       "Long Term Catheter Data Availability Code                               199   \n",
       "Percentage Of Adult Patients With Long Term Cat...                        0   \n",
       "Number Of Patients In nPCR Summary                                        0   \n",
       "Number Of Patient-Months In nPCR Summary                                  1   \n",
       "nPCR Data Availability Code                                             199   \n",
       "Percentage Of Pediatric HD Patients With nPCR                            37   \n",
       "SWR Date                                            01/01/2016 - 12/31/2018   \n",
       "Patient Transplant Waitlist Data Availability Code                      199   \n",
       "95% C.I. (Upper Limit) For SWR                                         0.27   \n",
       "95% C.I. (Lower Limit) For SWR                                            0   \n",
       "Number Of Patients In This Facility For SWR                               0   \n",
       "Standardized First Kidney Transplant Waitlist R...                        0   \n",
       "Patient Prevalent Transplant Waitlist Data Avai...                      199   \n",
       "95% C.I. (Upper Limit) For PPPW                                           0   \n",
       "95% C.I. (Lower Limit) For PPPW                                           0   \n",
       "Number Of Patients For PPPW                                               0   \n",
       "Percentage Of Prevalent Patients Waitlisted                               0   \n",
       "\n",
       "                                                                        max  \n",
       "Patient Hospitalization Data Availability Code                          258  \n",
       "Patient Hospital Readmission Data Availability ...                      258  \n",
       "Patient Survival Data Availability Code                                 258  \n",
       "Number Of Patients Included In Hospitalization ...                      615  \n",
       "Number Of Hospitalizations Included In Hospital...                      710  \n",
       "Number Of Patients Included In Survival Summary                        2438  \n",
       "Mortality Rate (Facility)                                              83.5  \n",
       "Mortality Rate: Upper Confidence Limit (97.5%)                        121.5  \n",
       "Mortality Rate: Lower Confidence Limit (2.5%)                            55  \n",
       "Readmission Rate (Facility)                                            72.5  \n",
       "Readmission Rate: Upper Confidence Limit (97.5%)                        104  \n",
       "Readmission Rate: Lower Confidence Limit (2.5%)                        47.8  \n",
       "Hospitalization Rate (Facility)                                       529.9  \n",
       "Hospitalization Rate: Upper Confidence Limit (9...                    903.6  \n",
       "Hospitalization Rate: Lower Confidence Limit (2...                    362.3  \n",
       "Number Of Pediatric PD Patients With Kt/V Data                           29  \n",
       "Pediatric PD Kt/V Data Availability Code                                259  \n",
       "Number Of Pediatric PD Patient-Months With Kt/V...                      244  \n",
       "Percentage Of Pediatric PD Patients With Kt/V >...                      100  \n",
       "SIR Date                                            01/01/2019 - 12/31/2019  \n",
       "Patient Infection Data Availability Code                                258  \n",
       "Standard Infection Ratio                                                8.3  \n",
       "SIR: Upper Confidence Limit (97.5%)                                   12.64  \n",
       "SIR: Lower Confidence Limit (2.5%)                                     5.54  \n",
       "Transfusion Rate (Facility)                                           204.5  \n",
       "Transfusion Rate: Upper Confidence Limit (97.5%)                      206.8  \n",
       "Transfusion Rate: Lower Confidence Limit (2.5%)                       132.4  \n",
       "Fistula Data Availability Code                                          258  \n",
       "Number Of Patients Included In Fistula Summary                          906  \n",
       "Fistula Rate (Facility)                                                 100  \n",
       "Fistula Rate: Upper Confidence Limit (97.5%)                            100  \n",
       "Fistula Rate: Lower Confidence Limit (2.5%)                             100  \n",
       "Number Of Patients In Long Term Catheter Summary                        906  \n",
       "Number Of Patient-Months In Long Term Catheter ...                     4155  \n",
       "Long Term Catheter Data Availability Code                               258  \n",
       "Percentage Of Adult Patients With Long Term Cat...                       88  \n",
       "Number Of Patients In nPCR Summary                                       32  \n",
       "Number Of Patient-Months In nPCR Summary                                250  \n",
       "nPCR Data Availability Code                                             259  \n",
       "Percentage Of Pediatric HD Patients With nPCR                           100  \n",
       "SWR Date                                            01/01/2016 - 12/31/2018  \n",
       "Patient Transplant Waitlist Data Availability Code                      258  \n",
       "95% C.I. (Upper Limit) For SWR                                        12.83  \n",
       "95% C.I. (Lower Limit) For SWR                                         5.08  \n",
       "Number Of Patients In This Facility For SWR                             236  \n",
       "Standardized First Kidney Transplant Waitlist R...                     8.31  \n",
       "Patient Prevalent Transplant Waitlist Data Avai...                      258  \n",
       "95% C.I. (Upper Limit) For PPPW                                        98.7  \n",
       "95% C.I. (Lower Limit) For PPPW                                        55.4  \n",
       "Number Of Patients For PPPW                                             479  \n",
       "Percentage Of Prevalent Patients Waitlisted                            86.9  "
      ]
     },
     "execution_count": 28,
     "metadata": {},
     "output_type": "execute_result"
    }
   ],
   "source": [
    "df.iloc[:, 60:].agg([min, max]).T"
   ]
  },
  {
   "cell_type": "markdown",
   "metadata": {},
   "source": [
    "### Duplicate rows"
   ]
  },
  {
   "cell_type": "code",
   "execution_count": 29,
   "metadata": {},
   "outputs": [
    {
     "data": {
      "text/html": [
       "<div>\n",
       "<style scoped>\n",
       "    .dataframe tbody tr th:only-of-type {\n",
       "        vertical-align: middle;\n",
       "    }\n",
       "\n",
       "    .dataframe tbody tr th {\n",
       "        vertical-align: top;\n",
       "    }\n",
       "\n",
       "    .dataframe thead th {\n",
       "        text-align: right;\n",
       "    }\n",
       "</style>\n",
       "<table border=\"1\" class=\"dataframe\">\n",
       "  <thead>\n",
       "    <tr style=\"text-align: right;\">\n",
       "      <th></th>\n",
       "      <th>Provider Number</th>\n",
       "      <th>Network</th>\n",
       "      <th>Facility Name</th>\n",
       "      <th>Star Rating Date</th>\n",
       "      <th>Star Rating</th>\n",
       "      <th>Star Rating Data Availability Code</th>\n",
       "      <th>Address Line 1</th>\n",
       "      <th>Address Line 2</th>\n",
       "      <th>City</th>\n",
       "      <th>State</th>\n",
       "      <th>...</th>\n",
       "      <th>95% C.I. (Lower Limit) For SWR</th>\n",
       "      <th>Number Of Patients In This Facility For SWR</th>\n",
       "      <th>Standardized First Kidney Transplant Waitlist Ratio</th>\n",
       "      <th>PPPW Category Text</th>\n",
       "      <th>Patient Prevalent Transplant Waitlist Data Availability Code</th>\n",
       "      <th>95% C.I. (Upper Limit) For PPPW</th>\n",
       "      <th>95% C.I. (Lower Limit) For PPPW</th>\n",
       "      <th>Number Of Patients For PPPW</th>\n",
       "      <th>Percentage Of Prevalent Patients Waitlisted</th>\n",
       "      <th>Location</th>\n",
       "    </tr>\n",
       "  </thead>\n",
       "  <tbody>\n",
       "  </tbody>\n",
       "</table>\n",
       "<p>0 rows × 119 columns</p>\n",
       "</div>"
      ],
      "text/plain": [
       "Empty DataFrame\n",
       "Columns: [Provider Number, Network, Facility Name, Star Rating Date, Star Rating, Star Rating Data Availability Code, Address Line 1, Address Line 2, City, State, Zip, County, Phone Number, Profit Or Non-Profit, Chain Owned, Chain Organization, Late Shift, Number Of Dialysis Stations, Offers In-Center Hemodialysis, Offers Peritoneal Dialysis, Offers Home Hemodialysis Training, Certification Or Recertification Date, Claims Date, CROWNWeb Date, STrR Date, Percentage Of Medicare Patients With Hgb < 10 g/dL, Hgb < 10 Data Availability Code, Percentage Of Medicare Patients With Hgb > 12 g/dL, Hgb > 12 Data Availability Code, Number Of Dialysis Patients With Hgb Data, Patient Transfusion Data Availability Code, Patient Transfusion Category Text, Number Of Patients Included In The Transfusion Summary, Percent Of Adult HD Patients With Kt/V >= 1.2, Adult HD Kt/V Data Availability Code, Percentage Of Adult PD PTS With Kt/V >= 1.7, Adult PD Kt/V Data Availability Code, Percentage Of Pediatric HD Patients With Kt/V >= 1.2, Pediatric HD Kt/V Data Availability Code, Number Of Adult HD Patients With Kt/V Data, Number Of Adult HD Patient-Months With Kt/V Data, Number Of Adult PD Patients With Kt/V Data, Number Of Adult PD Patient-Months With Kt/V Data, Number Of Pediatric HD Patients With Kt/V Data, Number Of Pediatric HD Patient-Months With Kt/V Data, Hypercalcemia Data Availability Code, Number Of Patients In Hypercalcemia Summary, Number Of Patient-Months In Hypercalcemia Summary, Percentage Of Adult Patients With Hypercalcemia (Serum Calcium Greater Than 10.2 mg/dL), Number Of Patients In Serum Phosphorus Summary, Number Of Patient-Months In Serum Phosphorus Summary, Serum Phosphorus Data Availability Code, Percentage Of Adult Patients With Serum Phosphorus Less Than 3.5 mg/dL, Percentage Of Adult Patients With Serum Phosphorus Between 3.5 - 4.5 mg/dL, Percentage Of Adult Patients With Serum Phosphorus Between 4.6 - 5.5 mg/dL, Percentage Of Adult Patients With Serum Phosphorus Between 5.6 - 7.0 mg/dL, Percentage Of Adult Patients With Serum Phosphorus Greater Than 7.0 mg/dL, SHR Date, SRR Date, SMR Date, Patient Hospitalization Category Text, Patient Hospitalization Data Availability Code, Patient Hospital Readmission Category Text, Patient Hospital Readmission Data Availability Code, Patient Survival Category Text, Patient Survival Data Availability Code, Number Of Patients Included In Hospitalization Summary, Number Of Hospitalizations Included In Hospital Readmission Summary, Number Of Patients Included In Survival Summary, Mortality Rate (Facility), Mortality Rate: Upper Confidence Limit (97.5%), Mortality Rate: Lower Confidence Limit (2.5%), Readmission Rate (Facility), Readmission Rate: Upper Confidence Limit (97.5%), Readmission Rate: Lower Confidence Limit (2.5%), Hospitalization Rate (Facility), Hospitalization Rate: Upper Confidence Limit (97.5%), Hospitalization Rate: Lower Confidence Limit (2.5%), Number Of Pediatric PD Patients With Kt/V Data, Pediatric PD Kt/V Data Availability Code, Number Of Pediatric PD Patient-Months With Kt/V Data, Percentage Of Pediatric PD Patients With Kt/V >= 1.8, SIR Date, Patient Infection Data Availability Code, Patient Infection Category Text, Standard Infection Ratio, SIR: Upper Confidence Limit (97.5%), SIR: Lower Confidence Limit (2.5%), Transfusion Rate (Facility), Transfusion Rate: Upper Confidence Limit (97.5%), Transfusion Rate: Lower Confidence Limit (2.5%), Fistula Data Availability Code, Fistula Category Text, Number Of Patients Included In Fistula Summary, Fistula Rate (Facility), Fistula Rate: Upper Confidence Limit (97.5%), Fistula Rate: Lower Confidence Limit (2.5%), Number Of Patients In Long Term Catheter Summary, Number Of Patient-Months In Long Term Catheter Summary, Long Term Catheter Data Availability Code, ...]\n",
       "Index: []\n",
       "\n",
       "[0 rows x 119 columns]"
      ]
     },
     "execution_count": 29,
     "metadata": {},
     "output_type": "execute_result"
    }
   ],
   "source": [
    "df[df.duplicated()]"
   ]
  },
  {
   "cell_type": "markdown",
   "metadata": {},
   "source": [
    "# Data Definitions"
   ]
  },
  {
   "cell_type": "markdown",
   "metadata": {},
   "source": [
    "### Provider Number\n",
    "Data type: int64\n",
    "\n",
    "Value count: 7626\n",
    "\n",
    "Number of unique values: 7626\n",
    "\n",
    "Percent unique values: 0.016667\n",
    "\n",
    "Ranges of values: 12306 - 852568\n",
    "\n",
    "Length of values: 5, 6\n",
    "\n",
    "Description: Lists the numeric code used to identify the provider listed."
   ]
  },
  {
   "cell_type": "code",
   "execution_count": 30,
   "metadata": {},
   "outputs": [
    {
     "data": {
      "text/plain": [
       "{5, 6}"
      ]
     },
     "execution_count": 30,
     "metadata": {},
     "output_type": "execute_result"
    }
   ],
   "source": [
    "set([(len(str(num))) for num in df['Provider Number']])"
   ]
  },
  {
   "cell_type": "markdown",
   "metadata": {},
   "source": [
    "### Network\n",
    "Data type: int64\n",
    "\n",
    "Value count: 7626 \n",
    "\n",
    "Number of unique values: 18\n",
    "\n",
    "Percent unique values: 0.000039\n",
    "\n",
    "Ranges of values: 1 - 18\n",
    "\n",
    "Length of values: 1, 2\n",
    "\n",
    "Description: Lists the numeric code representing geographic area of all Medicare-approved ESRD (End Stage Renal Disease) facilities. \n",
    "Map of the network can be found here:\n",
    "https://esrdncc.org/en/ESRD-network-map/\n",
    "\n",
    "Value description:\n",
    "- 1   : Network 1 (CT, ME, MA, NH,RI,VT)\n",
    "- 2   : Network 2 (NY)\n",
    "- 3   : Network 3 (NJ, PR, VI) \n",
    "- 4   : Network 4 (DE, PA)\n",
    "- 5   : Network 5 (DC, MD, VA,WV)\n",
    "- 6   : Network 6 (GA, NC, SC)\n",
    "- 7   : Network 7 (FL)\n",
    "- 8   : Network 8 (AL, MS, TN)\n",
    "- 9   : Network 9 (IN, KY, OH)\n",
    "- 10  : Network 10 (IL)\n",
    "- 11  : Network 11 (MI, MN, ND, SD,WI)\n",
    "- 12  : Network 12 (IA, KS, MO, NE)\n",
    "- 13  : Network 13 (AR, LA, OK)\n",
    "- 14  : Network 14 (TX)\n",
    "- 15  : Network 15 (AZ, CO, NV, NM, UT,WY)\n",
    "- 16  : Network 16 (AK, ID, MT, OR, WA)\n",
    "- 17  : Network 17 (AS, GU, HI, MP, N. CA)\n",
    "- 18  : Network 18 (S. CA)"
   ]
  },
  {
   "cell_type": "code",
   "execution_count": 31,
   "metadata": {},
   "outputs": [
    {
     "data": {
      "text/plain": [
       "6     788\n",
       "14    748\n",
       "9     652\n",
       "11    514\n",
       "7     510\n",
       "8     485\n",
       "5     454\n",
       "18    445\n",
       "15    384\n",
       "4     362\n",
       "13    351\n",
       "10    347\n",
       "12    337\n",
       "2     332\n",
       "17    327\n",
       "3     254\n",
       "16    230\n",
       "1     204\n",
       "Name: Network, dtype: int64"
      ]
     },
     "execution_count": 31,
     "metadata": {},
     "output_type": "execute_result"
    }
   ],
   "source": [
    "df['Network'].value_counts()"
   ]
  },
  {
   "cell_type": "markdown",
   "metadata": {},
   "source": [
    "### Facility Name\n",
    "Data type: object\n",
    "\n",
    "Value count: 7626 \n",
    "\n",
    "Number of unique values: 7448\n",
    "\n",
    "Percent unique values: 0.016278\n",
    "\n",
    "Range of values: A UNIQUE KIDNEY CENTER LLC - ZILLMAR DIALYSIS LLC\n",
    "\n",
    "Length of values: 7 - 68\n",
    "\n",
    "Description: Lists the name of the facility listed."
   ]
  },
  {
   "cell_type": "code",
   "execution_count": 32,
   "metadata": {},
   "outputs": [
    {
     "data": {
      "text/plain": [
       "7"
      ]
     },
     "execution_count": 32,
     "metadata": {},
     "output_type": "execute_result"
    }
   ],
   "source": [
    "min(set([(len(str(num))) for num in df['Facility Name']]))"
   ]
  },
  {
   "cell_type": "code",
   "execution_count": 33,
   "metadata": {},
   "outputs": [
    {
     "data": {
      "text/plain": [
       "75"
      ]
     },
     "execution_count": 33,
     "metadata": {},
     "output_type": "execute_result"
    }
   ],
   "source": [
    "max(set([(len(str(num))) for num in df['Facility Name']]))"
   ]
  },
  {
   "cell_type": "markdown",
   "metadata": {},
   "source": [
    "### Star Rating Date\n",
    "Data type: object\n",
    "\n",
    "Value count: 7626\n",
    "\n",
    "Number of unique values: 1\n",
    "\n",
    "Percent unique values: 0.000002\n",
    "\n",
    "Ranges of values: \"01/01/2015 - 12/31/2018\"\n",
    "\n",
    "Length of values: 23\n",
    "\n",
    "Description: Lists the data collection period for the five star rating."
   ]
  },
  {
   "cell_type": "code",
   "execution_count": 34,
   "metadata": {},
   "outputs": [
    {
     "data": {
      "text/plain": [
       "{23}"
      ]
     },
     "execution_count": 34,
     "metadata": {},
     "output_type": "execute_result"
    }
   ],
   "source": [
    "set([(len(str(num))) for num in df['Star Rating Date']])"
   ]
  },
  {
   "cell_type": "markdown",
   "metadata": {},
   "source": [
    "### Star Rating\n",
    "Data type: float64\n",
    "\n",
    "Value count: 6725\n",
    "\n",
    "Number of unique values: 5\n",
    "\n",
    "Percent unique values: 0.000011\n",
    "\n",
    "Ranges of values: 1 - 5\n",
    "\n",
    "Length of values: 1, 13\n",
    "\n",
    "Description: Lists the 5-star rating for the facility. The “Dialysis Facility Compare (DFC) Star Program” is a rating system developed by Medicare that assigns 1 to 5 stars to dialysis facilities by comparing the health of the patients in their clinics to the patients in other dialysis facilities across the country."
   ]
  },
  {
   "cell_type": "code",
   "execution_count": 35,
   "metadata": {},
   "outputs": [
    {
     "data": {
      "text/plain": [
       "3.0    2391\n",
       "5.0    2053\n",
       "4.0    1988\n",
       "2.0     440\n",
       "1.0     169\n",
       "Name: Star Rating, dtype: int64"
      ]
     },
     "execution_count": 35,
     "metadata": {},
     "output_type": "execute_result"
    }
   ],
   "source": [
    "df['Star Rating'].value_counts()"
   ]
  },
  {
   "cell_type": "markdown",
   "metadata": {},
   "source": [
    "### Star Rating Data Availability Code\n",
    "Data type: float64\n",
    "\n",
    "Value count: 901\n",
    "\n",
    "Number of unique values: 3\n",
    "\n",
    "Percent unique values: 0.000007\n",
    "\n",
    "Ranges of values: 258, 260, 261\n",
    "\n",
    "Length of values: 3\n",
    "\n",
    "Description: Lists whether the facility had sufficient five star data available or the reason for why the data is not available.\n",
    "\n",
    "Value description:\n",
    "- 258 : The dialysis center was not open long enough to supply sufficient measure data. \n",
    "- 260 : Not enough quality measure data to calculate a star rating.\n",
    "- 261 : Medicare determined that at least one measure included in the star rating calculation was not accurate for this dialysis center."
   ]
  },
  {
   "cell_type": "code",
   "execution_count": 36,
   "metadata": {},
   "outputs": [
    {
     "data": {
      "text/plain": [
       "dtype('float64')"
      ]
     },
     "execution_count": 36,
     "metadata": {},
     "output_type": "execute_result"
    }
   ],
   "source": [
    "df['Star Rating Data Availability Code'].dtype"
   ]
  },
  {
   "cell_type": "code",
   "execution_count": 37,
   "metadata": {},
   "outputs": [
    {
     "data": {
      "text/plain": [
       "260.0    545\n",
       "258.0    136\n",
       "261.0      2\n",
       "Name: Star Rating Data Availability Code, dtype: int64"
      ]
     },
     "execution_count": 37,
     "metadata": {},
     "output_type": "execute_result"
    }
   ],
   "source": [
    "df['Star Rating Data Availability Code'].value_counts()"
   ]
  },
  {
   "cell_type": "markdown",
   "metadata": {},
   "source": [
    "### Address Line 1\n",
    "Data type: object\n",
    "\n",
    "Value count: 7626\n",
    "\n",
    "Number of unique values: 7574\n",
    "\n",
    "Percent unique values: 0.016553\n",
    "\n",
    "Range of values: # 7 PROFESSIONAL DRIVE - WHEATON PARK SHOPPING CTR\n",
    "\n",
    "Length of values: 4 - 59\n",
    "\n",
    "Description: Lists the first line of the address that corresponds to the facility listed."
   ]
  },
  {
   "cell_type": "code",
   "execution_count": 38,
   "metadata": {},
   "outputs": [
    {
     "data": {
      "text/plain": [
       "0       16605 NORTH 28TH AVENUE\n",
       "1                   404 CAMP RD\n",
       "2                1321 S 4TH AVE\n",
       "3         2235 SOUTH BABCOCK ST\n",
       "4    76 HIGHLAND PAVILION COURT\n",
       "Name: Address Line 1, dtype: object"
      ]
     },
     "execution_count": 38,
     "metadata": {},
     "output_type": "execute_result"
    }
   ],
   "source": [
    "df['Address Line 1'].head()"
   ]
  },
  {
   "cell_type": "code",
   "execution_count": 39,
   "metadata": {},
   "outputs": [
    {
     "data": {
      "text/plain": [
       "4"
      ]
     },
     "execution_count": 39,
     "metadata": {},
     "output_type": "execute_result"
    }
   ],
   "source": [
    "min(set([(len(str(num))) for num in df['Address Line 1']]))"
   ]
  },
  {
   "cell_type": "code",
   "execution_count": 40,
   "metadata": {},
   "outputs": [
    {
     "data": {
      "text/plain": [
       "59"
      ]
     },
     "execution_count": 40,
     "metadata": {},
     "output_type": "execute_result"
    }
   ],
   "source": [
    "max(set([(len(str(num))) for num in df['Address Line 1']]))"
   ]
  },
  {
   "cell_type": "markdown",
   "metadata": {},
   "source": [
    "### Address Line 2\n",
    "Data type: object\n",
    "\n",
    "Value count: 1087\n",
    "\n",
    "Number of unique values: 599\n",
    "\n",
    "Percent unique values: 0.001309\n",
    "\n",
    "Length of values: 2 - 47\n",
    "\n",
    "Description: Lists the second line of the address that corresponds to the facility listed."
   ]
  },
  {
   "cell_type": "code",
   "execution_count": 41,
   "metadata": {},
   "outputs": [
    {
     "data": {
      "text/plain": [
       "2"
      ]
     },
     "execution_count": 41,
     "metadata": {},
     "output_type": "execute_result"
    }
   ],
   "source": [
    "min(set([(len(str(num))) for num in df['Address Line 2']]))"
   ]
  },
  {
   "cell_type": "code",
   "execution_count": 42,
   "metadata": {},
   "outputs": [
    {
     "data": {
      "text/plain": [
       "47"
      ]
     },
     "execution_count": 42,
     "metadata": {},
     "output_type": "execute_result"
    }
   ],
   "source": [
    "max(set([(len(str(num))) for num in df['Address Line 2']]))"
   ]
  },
  {
   "cell_type": "markdown",
   "metadata": {},
   "source": [
    "### City\n",
    "Data type: object\n",
    "\n",
    "Value count: 7626\n",
    "\n",
    "Number of unique values: 3001\n",
    "\n",
    "Percent unique values: 0.006559\n",
    "\n",
    "Range of values: ABBEVILLE - ZUNI\n",
    "\n",
    "Length of values: \n",
    "\n",
    "Description: Lists the city that corresponds to the facility listed."
   ]
  },
  {
   "cell_type": "code",
   "execution_count": 43,
   "metadata": {},
   "outputs": [
    {
     "data": {
      "text/plain": [
       "HOUSTON         106\n",
       "CHICAGO          77\n",
       "PHILADELPHIA     55\n",
       "SAN ANTONIO      53\n",
       "MEMPHIS          43\n",
       "               ... \n",
       "SWEENY            1\n",
       "FAIRVIEW          1\n",
       "FOREST CITY       1\n",
       "CALEXICO          1\n",
       "DONORA            1\n",
       "Name: City, Length: 3009, dtype: int64"
      ]
     },
     "execution_count": 43,
     "metadata": {},
     "output_type": "execute_result"
    }
   ],
   "source": [
    "df['City'].value_counts()"
   ]
  },
  {
   "cell_type": "code",
   "execution_count": 44,
   "metadata": {},
   "outputs": [
    {
     "data": {
      "text/plain": [
       "3"
      ]
     },
     "execution_count": 44,
     "metadata": {},
     "output_type": "execute_result"
    }
   ],
   "source": [
    "min(set([(len(str(num))) for num in df['City']]))"
   ]
  },
  {
   "cell_type": "code",
   "execution_count": 45,
   "metadata": {},
   "outputs": [
    {
     "data": {
      "text/plain": [
       "20"
      ]
     },
     "execution_count": 45,
     "metadata": {},
     "output_type": "execute_result"
    }
   ],
   "source": [
    "max(set([(len(str(num))) for num in df['City']]))"
   ]
  },
  {
   "cell_type": "markdown",
   "metadata": {},
   "source": [
    "### State\n",
    "Data type: object\n",
    "\n",
    "Value count: 7626\n",
    "\n",
    "Number of unique values: 56\n",
    "\n",
    "Percent unique values: 0.000122\n",
    "\n",
    "Range of values: AK - WY\n",
    "\n",
    "Length of values: 2\n",
    "\n",
    "Description: Lists the alphabetic postal code used to identify the state that corresponds to the facility listed."
   ]
  },
  {
   "cell_type": "code",
   "execution_count": 46,
   "metadata": {},
   "outputs": [
    {
     "data": {
      "text/plain": [
       "TX    748\n",
       "CA    730\n",
       "FL    510\n",
       "GA    382\n",
       "OH    348\n",
       "IL    347\n",
       "NY    332\n",
       "PA    328\n",
       "NC    244\n",
       "MI    221\n",
       "VA    212\n",
       "TN    208\n",
       "NJ    200\n",
       "LA    189\n",
       "AL    185\n",
       "IN    179\n",
       "MD    175\n",
       "MO    164\n",
       "SC    162\n",
       "AZ    133\n",
       "WI    129\n",
       "KY    125\n",
       "MN    121\n",
       "WA    102\n",
       "MS     92\n",
       "OK     91\n",
       "MA     87\n",
       "CO     82\n",
       "OR     75\n",
       "AR     71\n",
       "IA     69\n",
       "KS     64\n",
       "NM     58\n",
       "NV     53\n",
       "CT     53\n",
       "PR     50\n",
       "UT     48\n",
       "WV     45\n",
       "NE     40\n",
       "DE     34\n",
       "HI     33\n",
       "SD     28\n",
       "ID     27\n",
       "DC     22\n",
       "ME     20\n",
       "NH     20\n",
       "MT     17\n",
       "RI     16\n",
       "ND     15\n",
       "WY     10\n",
       "AK      9\n",
       "VT      8\n",
       "GU      5\n",
       "VI      4\n",
       "MP      2\n",
       "AS      2\n",
       "Name: State, dtype: int64"
      ]
     },
     "execution_count": 46,
     "metadata": {},
     "output_type": "execute_result"
    }
   ],
   "source": [
    "df['State'].value_counts()"
   ]
  },
  {
   "cell_type": "markdown",
   "metadata": {},
   "source": [
    "### Zip\n",
    "Data type: int64\n",
    "\n",
    "Value count: 7626\n",
    "\n",
    "Number of unique values: 5276\n",
    "\n",
    "Percent unique values: 0.011531\n",
    "\n",
    "Ranges of values: 603 - 99801\n",
    "\n",
    "Length of values: 3 - 5\n",
    "\n",
    "Description: Lists the full postal ZIP code that corresponds to the facility listed."
   ]
  },
  {
   "cell_type": "code",
   "execution_count": 47,
   "metadata": {
    "scrolled": true
   },
   "outputs": [
    {
     "data": {
      "text/plain": [
       "{3, 4, 5}"
      ]
     },
     "execution_count": 47,
     "metadata": {},
     "output_type": "execute_result"
    }
   ],
   "source": [
    "set([(len(str(num))) for num in df['Zip']])"
   ]
  },
  {
   "cell_type": "code",
   "execution_count": 48,
   "metadata": {},
   "outputs": [
    {
     "data": {
      "text/plain": [
       "628       603\n",
       "723       605\n",
       "1157      612\n",
       "1378      612\n",
       "2620      646\n",
       "        ...  \n",
       "894     99515\n",
       "3099    99654\n",
       "2787    99669\n",
       "4606    99701\n",
       "2011    99801\n",
       "Name: Zip, Length: 7724, dtype: int64"
      ]
     },
     "execution_count": 48,
     "metadata": {},
     "output_type": "execute_result"
    }
   ],
   "source": [
    "df['Zip'].sort_values()"
   ]
  },
  {
   "cell_type": "markdown",
   "metadata": {},
   "source": [
    "### County\n",
    "Data type: object\n",
    "\n",
    "Value count: 7626\n",
    "\n",
    "Number of unique values: 1258\n",
    "\n",
    "Percent unique values: 0.002749\n",
    "\n",
    "Range of values: ABBEVILLE - ZAVALA\n",
    "\n",
    "Length of values: 3 - 21\n",
    "\n",
    "Description: Lists the name of the county that corresponds to the facility listed."
   ]
  },
  {
   "cell_type": "code",
   "execution_count": 49,
   "metadata": {},
   "outputs": [
    {
     "data": {
      "text/plain": [
       "3"
      ]
     },
     "execution_count": 49,
     "metadata": {},
     "output_type": "execute_result"
    }
   ],
   "source": [
    "min(set([(len(str(num))) for num in df['County']]))"
   ]
  },
  {
   "cell_type": "code",
   "execution_count": 50,
   "metadata": {},
   "outputs": [
    {
     "data": {
      "text/plain": [
       "21"
      ]
     },
     "execution_count": 50,
     "metadata": {},
     "output_type": "execute_result"
    }
   ],
   "source": [
    "max(set([(len(str(num))) for num in df['County']]))"
   ]
  },
  {
   "cell_type": "markdown",
   "metadata": {},
   "source": [
    "### Phone Number\n",
    "Data type: object\n",
    "\n",
    "Value count: 7626\n",
    "\n",
    "Number of unique values: 7581\n",
    "\n",
    "Percent unique values: 0.016568\n",
    "\n",
    "Range of values: (201) 262-0429\t- (989) 921-2170\n",
    "\n",
    "Length of values: 14\n",
    "\n",
    "Description: Lists the telephone number that corresponds to the facility listed."
   ]
  },
  {
   "cell_type": "code",
   "execution_count": 51,
   "metadata": {},
   "outputs": [
    {
     "data": {
      "text/plain": [
       "{14}"
      ]
     },
     "execution_count": 51,
     "metadata": {},
     "output_type": "execute_result"
    }
   ],
   "source": [
    "set([(len(str(num))) for num in df['Phone Number']])"
   ]
  },
  {
   "cell_type": "markdown",
   "metadata": {},
   "source": [
    "### Profit Or Non-Profit\n",
    "Data type: object\n",
    "\n",
    "Value count: 7627\n",
    "\n",
    "Number of unique values: 2\n",
    "\n",
    "Percent unique values: 0.000004\n",
    "\n",
    "Ranges of values: Non-Profit, Profit \n",
    "\n",
    "Length of values: 6, 10\n",
    "\n",
    "Description: Indicates if the dialysis facility’s operates as a for profit or non-profit business."
   ]
  },
  {
   "cell_type": "code",
   "execution_count": 52,
   "metadata": {},
   "outputs": [
    {
     "data": {
      "text/plain": [
       "Profit        6854\n",
       "Non-Profit     869\n",
       "Name: Profit Or Non-Profit, dtype: int64"
      ]
     },
     "execution_count": 52,
     "metadata": {},
     "output_type": "execute_result"
    }
   ],
   "source": [
    "df['Profit Or Non-Profit'].value_counts()"
   ]
  },
  {
   "cell_type": "code",
   "execution_count": 53,
   "metadata": {},
   "outputs": [
    {
     "data": {
      "text/plain": [
       "{3, 6, 10}"
      ]
     },
     "execution_count": 53,
     "metadata": {},
     "output_type": "execute_result"
    }
   ],
   "source": [
    "set([(len(str(num))) for num in df['Profit Or Non-Profit']])"
   ]
  },
  {
   "cell_type": "markdown",
   "metadata": {},
   "source": [
    "### Chain Owned\n",
    "Data type: object\n",
    "\n",
    "Value count: 7626\n",
    "\n",
    "Number of unique values: 2\n",
    "\n",
    "Percent unique values: 0.000004\n",
    "\n",
    "Ranges of values: No, Yes\n",
    "\n",
    "Length of values: 2 - 3\n",
    "\n",
    "Description: Indicates whether or not the facility is owned or managed by a chain organization."
   ]
  },
  {
   "cell_type": "code",
   "execution_count": 54,
   "metadata": {
    "scrolled": true
   },
   "outputs": [
    {
     "data": {
      "text/plain": [
       "Yes    6908\n",
       "No      816\n",
       "Name: Chain Owned, dtype: int64"
      ]
     },
     "execution_count": 54,
     "metadata": {},
     "output_type": "execute_result"
    }
   ],
   "source": [
    "df['Chain Owned'].value_counts()"
   ]
  },
  {
   "cell_type": "markdown",
   "metadata": {},
   "source": [
    "### Chain Organization\n",
    "Data type: object\n",
    "\n",
    "Value count: 7625\n",
    "\n",
    "Number of unique values: 111\n",
    "\n",
    "Percent unique values: 0.000243\n",
    "\n",
    "Length of values: 3 - 39\n",
    "\n",
    "Description: Lists the name of the chain organization if applicable."
   ]
  },
  {
   "cell_type": "code",
   "execution_count": 55,
   "metadata": {},
   "outputs": [
    {
     "data": {
      "text/plain": [
       "3"
      ]
     },
     "execution_count": 55,
     "metadata": {},
     "output_type": "execute_result"
    }
   ],
   "source": [
    "min(set([(len(str(num))) for num in df['Chain Organization']]))"
   ]
  },
  {
   "cell_type": "code",
   "execution_count": 56,
   "metadata": {},
   "outputs": [
    {
     "data": {
      "text/plain": [
       "39"
      ]
     },
     "execution_count": 56,
     "metadata": {},
     "output_type": "execute_result"
    }
   ],
   "source": [
    "max(set([(len(str(num))) for num in df['Chain Organization']]))"
   ]
  },
  {
   "cell_type": "markdown",
   "metadata": {},
   "source": [
    "### Late Shift\n",
    "Data type: int64\n",
    "\n",
    "Value count: 7626\n",
    "\n",
    "Number of unique values: 2\n",
    "\n",
    "Percent unique values: 0.000004\n",
    "\n",
    "Mean: 0.167060\n",
    "\n",
    "Ranges of values: 0, 1\n",
    "\n",
    "Length of values: 1\n",
    "\n",
    "Description: Lists whether or not the facility has a shift starting at 5:00 p.m. or later."
   ]
  },
  {
   "cell_type": "code",
   "execution_count": 57,
   "metadata": {
    "scrolled": true
   },
   "outputs": [
    {
     "data": {
      "text/plain": [
       "0    6443\n",
       "1    1281\n",
       "Name: Late Shift, dtype: int64"
      ]
     },
     "execution_count": 57,
     "metadata": {},
     "output_type": "execute_result"
    }
   ],
   "source": [
    "df['Late Shift'].value_counts()"
   ]
  },
  {
   "cell_type": "markdown",
   "metadata": {},
   "source": [
    "###  Number Of Dialysis Stations\n",
    "Data type: int64\n",
    "\n",
    "Value count: 7626\n",
    "\n",
    "Number of unique values: 68\n",
    "\n",
    "Percent unique values: 0.000149\n",
    "\n",
    "Ranges of values: 0 - 80\n",
    "\n",
    "Mean: 17.463284\n",
    "\n",
    "Length of values: 1 - 2\n",
    "\n",
    "Description: Indicates the total number of dialysis stations at the dialysis facility. "
   ]
  },
  {
   "cell_type": "markdown",
   "metadata": {},
   "source": [
    "### Offers In-Center Hemodialysis\n",
    "Data type: int64\n",
    "\n",
    "Value count: 7626\n",
    "\n",
    "Number of unique values: 2\n",
    "\n",
    "Percent unique values: 0.000004\n",
    "\n",
    "Mean: 0.940336\t\n",
    "\n",
    "Ranges of values: 0, 1\n",
    "\n",
    "Length of values: 1\n",
    "\n",
    "Description: Indicates whether the facility offers in-center hemodialysis. "
   ]
  },
  {
   "cell_type": "code",
   "execution_count": 58,
   "metadata": {},
   "outputs": [
    {
     "data": {
      "text/plain": [
       "1    7261\n",
       "0     463\n",
       "Name: Offers In-Center Hemodialysis, dtype: int64"
      ]
     },
     "execution_count": 58,
     "metadata": {},
     "output_type": "execute_result"
    }
   ],
   "source": [
    "df['Offers In-Center Hemodialysis'].value_counts()"
   ]
  },
  {
   "cell_type": "markdown",
   "metadata": {},
   "source": [
    "### Offers Peritoneal Dialysis\n",
    "Data type: int64\n",
    "\n",
    "Value count: 7626\n",
    "\n",
    "Number of unique values: 2\n",
    "\n",
    "Percent unique values: 0.000004\n",
    "\n",
    "Mean: 0.525439\n",
    "\n",
    "Ranges of values: 0, 1\n",
    "\n",
    "Length of values: 1\n",
    "\n",
    "Description: Indicates whether the facility offers peritoneal dialysis."
   ]
  },
  {
   "cell_type": "code",
   "execution_count": 59,
   "metadata": {},
   "outputs": [
    {
     "data": {
      "text/plain": [
       "1    4041\n",
       "0    3683\n",
       "Name: Offers Peritoneal Dialysis, dtype: int64"
      ]
     },
     "execution_count": 59,
     "metadata": {},
     "output_type": "execute_result"
    }
   ],
   "source": [
    "df['Offers Peritoneal Dialysis'].value_counts()"
   ]
  },
  {
   "cell_type": "markdown",
   "metadata": {},
   "source": [
    "### Offers Home Hemodialysis Training\n",
    "Data type: int64\n",
    "\n",
    "Value count: 7626\n",
    "\n",
    "Number of unique values: 2\n",
    "\n",
    "Percent unique values: 0.000004\n",
    "\n",
    "Mean: 0.29006\n",
    "\n",
    "Ranges of values: 0, 1\n",
    "\n",
    "Length of values: 1\n",
    "\n",
    "Description: Indicates whether the facility offers home hemodialysis training."
   ]
  },
  {
   "cell_type": "code",
   "execution_count": 60,
   "metadata": {},
   "outputs": [
    {
     "data": {
      "text/plain": [
       "0    5486\n",
       "1    2238\n",
       "Name: Offers Home Hemodialysis Training, dtype: int64"
      ]
     },
     "execution_count": 60,
     "metadata": {},
     "output_type": "execute_result"
    }
   ],
   "source": [
    "df['Offers Home Hemodialysis Training'].value_counts()"
   ]
  },
  {
   "cell_type": "markdown",
   "metadata": {},
   "source": [
    "### Certification Or Recertification Date\n",
    "Data type: object\n",
    "\n",
    "Value count: 7626\n",
    "\n",
    "Number of unique values: 4800\n",
    "\n",
    "Percent unique values: 0.010490\n",
    "\n",
    "Range of values: 01/01/1968 - 12/31/2017\n",
    "\n",
    "Length of values: 10\n",
    "\n",
    "Description: Lists the initial or recertification date for the facility listed. These facilities are certified if they pass inspection. Medicare or Medicaid only covers care provided by certified providers. Being certified is not the same as being accredited. "
   ]
  },
  {
   "cell_type": "code",
   "execution_count": 61,
   "metadata": {},
   "outputs": [
    {
     "data": {
      "text/plain": [
       "{10}"
      ]
     },
     "execution_count": 61,
     "metadata": {},
     "output_type": "execute_result"
    }
   ],
   "source": [
    "set([(len(str(num))) for num in df['Certification Or Recertification Date']])"
   ]
  },
  {
   "cell_type": "markdown",
   "metadata": {},
   "source": [
    "### Claims Date\n",
    "Data type: object\n",
    "\n",
    "Value count: 7626\n",
    "\n",
    "Number of unique values: 1\n",
    "\n",
    "Percent unique values: 0.000002\n",
    "\n",
    "Ranges of values: \"07/01/2018 - 06/30/2019\"\n",
    "\n",
    "Length of values: 23\n",
    "\n",
    "Description: Lists the data collection period for claims-based summaries."
   ]
  },
  {
   "cell_type": "code",
   "execution_count": 62,
   "metadata": {},
   "outputs": [
    {
     "data": {
      "text/plain": [
       "{23}"
      ]
     },
     "execution_count": 62,
     "metadata": {},
     "output_type": "execute_result"
    }
   ],
   "source": [
    "set([(len(str(num))) for num in df['Claims Date']])"
   ]
  },
  {
   "cell_type": "markdown",
   "metadata": {},
   "source": [
    "### CROWNWeb Date\n",
    "Data type: object\n",
    "\n",
    "Value count: 7626\n",
    "\n",
    "Number of unique values: 1\n",
    "\n",
    "Percent unique values: 0.000002\n",
    "\n",
    "Ranges of values: \"07/01/2018 - 06/30/2019\"\n",
    "\n",
    "Length of values: 23\n",
    "\n",
    "Description: Lists the data collection period for CROWNWeb based measures."
   ]
  },
  {
   "cell_type": "code",
   "execution_count": 63,
   "metadata": {},
   "outputs": [
    {
     "data": {
      "text/plain": [
       "{23}"
      ]
     },
     "execution_count": 63,
     "metadata": {},
     "output_type": "execute_result"
    }
   ],
   "source": [
    "set([(len(str(num))) for num in df['CROWNWeb Date']])"
   ]
  },
  {
   "cell_type": "markdown",
   "metadata": {},
   "source": [
    "### STrR Date\n",
    "Data type: object\n",
    "\n",
    "Value count: 7626\n",
    "\n",
    "Number of unique values: 1\n",
    "\n",
    "Percent unique values: 0.000002\n",
    "\n",
    "Ranges of values: \"01/01/2018 - 12/31/2018\"\n",
    "\n",
    "Length of values: 23\n",
    "\n",
    "Description: Lists the time period for patient transfusion summary (STrR)."
   ]
  },
  {
   "cell_type": "code",
   "execution_count": 64,
   "metadata": {},
   "outputs": [
    {
     "data": {
      "text/plain": [
       "{23}"
      ]
     },
     "execution_count": 64,
     "metadata": {},
     "output_type": "execute_result"
    }
   ],
   "source": [
    "set([(len(str(num))) for num in df['STrR Date']])"
   ]
  },
  {
   "cell_type": "markdown",
   "metadata": {},
   "source": [
    "### Percentage Of Medicare Patients With Hgb < 10 g/dL\n",
    "Data type: float64\n",
    "\n",
    "Value count: 6517\n",
    "\n",
    "Number of unique values: 90\n",
    "\n",
    "Percent unique values: 0.000197\n",
    "\n",
    "Ranges of values: 0 - \n",
    "\n",
    "Length of values: 1-3, 13\n",
    "\n",
    "Description: Lists the percentage of patients who had average hemoglobin (hgb) less than 10.0 g/dL. Hemoglobin is a protein in red blood cells that carries oxygen from the lungs to the rest of the body. A normal hemoglobin level is 11 to 18 grams per deciliter (g/dL), depending on one's age and gender. But 7 to 8 g/dL is a safe level. "
   ]
  },
  {
   "cell_type": "code",
   "execution_count": 65,
   "metadata": {},
   "outputs": [
    {
     "data": {
      "text/plain": [
       "{3, 4, 5}"
      ]
     },
     "execution_count": 65,
     "metadata": {},
     "output_type": "execute_result"
    }
   ],
   "source": [
    "set([(len(str(num))) for num in df['Percentage Of Medicare Patients With Hgb < 10 g/dL']])"
   ]
  },
  {
   "cell_type": "markdown",
   "metadata": {},
   "source": [
    "### Hgb < 10 Data Availability Code\n",
    "Data type: float64\n",
    "\n",
    "Value count: 1109\n",
    "\n",
    "Number of unique values: 3\n",
    "\n",
    "Percent unique values: 0.000007\n",
    "\n",
    "Ranges of values: 199, 201, 258 \n",
    "\n",
    "Length of values: 3\n",
    "\n",
    "Description: Lists whether the facility had sufficient hemoglobin (hgb) data available or the reason for why the data is not available. Hemoglobin is a protein in red blood cells that carries oxygen from the lungs to the rest of the body. A normal hemoglobin level is 11 to 18 grams per deciliter (g/dL), depending on one's age and gender. But 7 to 8 g/dL is a safe level. \n",
    "\n",
    "Value description:\n",
    "- 199 : Not enough patients to report on this measure. Call the dialysis center to discuss this measure.\n",
    "- 201 : Data not reported. Call the dialysis center to discuss this quality measure. \n",
    "- 258 : The dialysis center was not open long enough to supply sufficient measure data. "
   ]
  },
  {
   "cell_type": "code",
   "execution_count": 66,
   "metadata": {
    "scrolled": false
   },
   "outputs": [
    {
     "data": {
      "text/plain": [
       "199.0    603\n",
       "258.0    377\n",
       "201.0    105\n",
       "Name: Hgb < 10 Data Availability Code, dtype: int64"
      ]
     },
     "execution_count": 66,
     "metadata": {},
     "output_type": "execute_result"
    }
   ],
   "source": [
    "df['Hgb < 10 Data Availability Code'].value_counts()"
   ]
  },
  {
   "cell_type": "markdown",
   "metadata": {},
   "source": [
    "### Percentage Of Medicare Patients With Hgb > 12 g/dL\n",
    "Data type: float64\n",
    "\n",
    "Value count: 6517\n",
    "\n",
    "Number of unique values: 20\n",
    "\n",
    "Percent unique values: 0.000044\n",
    "\n",
    "Ranges of values: 0 - \n",
    "\n",
    "Length of values: 1 - 3\n",
    "\n",
    "Description: Lists the percentage of patients who had average hemoglobin (hgb) greater than 12.0 g/dL. Hemoglobin is a protein in red blood cells that carries oxygen from the lungs to the rest of the body. A normal hemoglobin level is 11 to 18 grams per deciliter (g/dL), depending on one's age and gender. But 7 to 8 g/dL is a safe level. "
   ]
  },
  {
   "cell_type": "code",
   "execution_count": 67,
   "metadata": {
    "scrolled": true
   },
   "outputs": [
    {
     "data": {
      "text/plain": [
       "{3, 4}"
      ]
     },
     "execution_count": 67,
     "metadata": {},
     "output_type": "execute_result"
    }
   ],
   "source": [
    "set([(len(str(num))) for num in df['Percentage Of Medicare Patients With Hgb > 12 g/dL']])"
   ]
  },
  {
   "cell_type": "markdown",
   "metadata": {},
   "source": [
    "### Hgb > 12 Data Availability Code\n",
    "Data type: float64\n",
    "\n",
    "Value count: 1109\n",
    "\n",
    "Number of unique values: 3\n",
    "\n",
    "Percent unique values: 0.000007\n",
    "\n",
    "Ranges of values: 199, 201, 258\n",
    "\n",
    "Length of values: 3\n",
    "\n",
    "Description: Lists whether the facility had sufficient hemoglobin (hgb) data available or the reason for why the data is not available. Hemoglobin is a protein in red blood cells that carries oxygen from the lungs to the rest of the body. A normal hemoglobin level is 11 to 18 grams per deciliter (g/dL), depending on one's age and gender. But 7 to 8 g/dL is a safe level. \n",
    "\n",
    "Value description:\n",
    "- 199 : Not enough patients to report on this measure. Call the dialysis center to discuss this measure.\n",
    "- 201 : Data not reported. Call the dialysis center to discuss this quality measure. \n",
    "- 258 : The dialysis center was not open long enough to supply sufficient measure data. "
   ]
  },
  {
   "cell_type": "code",
   "execution_count": 68,
   "metadata": {},
   "outputs": [
    {
     "data": {
      "text/plain": [
       "199.0    603\n",
       "258.0    377\n",
       "201.0    105\n",
       "Name: Hgb > 12 Data Availability Code, dtype: int64"
      ]
     },
     "execution_count": 68,
     "metadata": {},
     "output_type": "execute_result"
    }
   ],
   "source": [
    "df['Hgb > 12 Data Availability Code'].value_counts()"
   ]
  },
  {
   "cell_type": "markdown",
   "metadata": {},
   "source": [
    "### Number Of Dialysis Patients With Hgb Data\n",
    "Data type: float64\n",
    "\n",
    "Value count: 7555\n",
    "\n",
    "Number of unique values: 159\n",
    "\n",
    "Percent unique values: 0.000347\n",
    "\n",
    "Ranges of values: 0 - \n",
    "\n",
    "Length of values: 1-3\n",
    "\n",
    "Description: Lists the number of patients included in the hemoglobin (hgb) greater than 12.0 g/dL summary. Hemoglobin is a protein in red blood cells that carries oxygen from the lungs to the rest of the body. A normal hemoglobin level is 11 to 18 grams per deciliter (g/dL), depending on one's age and gender. But 7 to 8 g/dL is a safe level. "
   ]
  },
  {
   "cell_type": "code",
   "execution_count": 69,
   "metadata": {},
   "outputs": [
    {
     "data": {
      "text/plain": [
       "{3, 4, 5}"
      ]
     },
     "execution_count": 69,
     "metadata": {},
     "output_type": "execute_result"
    }
   ],
   "source": [
    "set([(len(str(num))) for num in df['Number Of Dialysis Patients With Hgb Data']])"
   ]
  },
  {
   "cell_type": "markdown",
   "metadata": {},
   "source": [
    "### Patient Transfusion Data Availability Code\n",
    "Data type: float64\n",
    "\n",
    "Value count: 1341\n",
    "\n",
    "Number of unique values: 4\n",
    "\n",
    "Percent unique values: 0.000009\n",
    "\n",
    "Ranges of values: 199, 201, 255, 258\n",
    "\n",
    "Length of values: 3\n",
    "\n",
    "Description: Lists whether the facility had sufficient transfusion data available or the reason for why the data is not available.\n",
    "\n",
    "Value description:\n",
    "- 199 : Not enough patients to report on this measure. Call the dialysis center to discuss this measure.\n",
    "- 201 : Data not reported. Call the dialysis center to discuss this quality measure. \n",
    "- 255 : Medicare determined that the percentage reported was not accurate.\n",
    "- 258 : The dialysis center was not open long enough to supply sufficient measure data. "
   ]
  },
  {
   "cell_type": "code",
   "execution_count": 70,
   "metadata": {},
   "outputs": [
    {
     "data": {
      "text/plain": [
       "199.0    721\n",
       "258.0    406\n",
       "201.0     32\n",
       "255.0      1\n",
       "Name: Patient Transfusion Data Availability Code, dtype: int64"
      ]
     },
     "execution_count": 70,
     "metadata": {},
     "output_type": "execute_result"
    }
   ],
   "source": [
    "df['Patient Transfusion Data Availability Code'].value_counts()"
   ]
  },
  {
   "cell_type": "markdown",
   "metadata": {},
   "source": [
    "### Patient Transfusion Category Text\n",
    "Data type: object\n",
    "\n",
    "Value count: 6285\n",
    "\n",
    "Number of unique values: 3\n",
    "\n",
    "Percent unique values: 0.000007\n",
    "\n",
    "Ranges of values: As Expected, Not Available, Worse than Expected, Better than Expected \n",
    "\n",
    "Length of values: 3, 11, 19, 20\n",
    "\n",
    "Description: Patient transfusion category.\n",
    "\n",
    "Value description:\n",
    "- As Expected          : Patient transfusions categorized as “As Expected”       \n",
    "- Worse than Expected  :  Patient transfusions categorized as “Worse than Expected”\n",
    "- Better than Expected : Patient transfusions categorized as “Better than Expected\"\n",
    "- Not Available "
   ]
  },
  {
   "cell_type": "code",
   "execution_count": 71,
   "metadata": {},
   "outputs": [
    {
     "data": {
      "text/plain": [
       "As Expected             6108\n",
       "Worse than Expected      448\n",
       "Better than Expected       8\n",
       "Name: Patient Transfusion Category Text, dtype: int64"
      ]
     },
     "execution_count": 71,
     "metadata": {},
     "output_type": "execute_result"
    }
   ],
   "source": [
    "df['Patient Transfusion Category Text'].value_counts()"
   ]
  },
  {
   "cell_type": "code",
   "execution_count": 72,
   "metadata": {},
   "outputs": [
    {
     "data": {
      "text/plain": [
       "{3, 11, 19, 20}"
      ]
     },
     "execution_count": 72,
     "metadata": {},
     "output_type": "execute_result"
    }
   ],
   "source": [
    "set([(len(str(num))) for num in df['Patient Transfusion Category Text']])"
   ]
  },
  {
   "cell_type": "markdown",
   "metadata": {},
   "source": [
    "### Number Of Patients Included In The Transfusion Summary\n",
    "Data type: float64\n",
    "\n",
    "Value count: 7552\n",
    "\n",
    "Number of unique values: 225\n",
    "\n",
    "Percent unique values: 0.000492\n",
    "\n",
    "Ranges of values: 0 - \n",
    "\n",
    "Length of values: 1 - 3\n",
    "\n",
    "Description: Lists the number of patients included in the facility’s transfusion summary."
   ]
  },
  {
   "cell_type": "code",
   "execution_count": 73,
   "metadata": {},
   "outputs": [
    {
     "data": {
      "text/plain": [
       "{3, 4, 5}"
      ]
     },
     "execution_count": 73,
     "metadata": {},
     "output_type": "execute_result"
    }
   ],
   "source": [
    "set([(len(str(num))) for num in df['Number Of Patients Included In The Transfusion Summary']])"
   ]
  },
  {
   "cell_type": "markdown",
   "metadata": {},
   "source": [
    "### Percent Of Adult HD Patients With Kt/V >= 1.2\n",
    "Data type: float64\n",
    "\n",
    "Value count: 6755\n",
    "\n",
    "Number of unique values: 53\n",
    "\n",
    "Percent unique values: 0.000116 \n",
    "\n",
    "Ranges of values: 0 - \n",
    "\n",
    "Length of values: 1 - 3, 13\n",
    "\n",
    "Description: Lists the percentage of adult HD patients with Kt/V greater than or equal to 1.2. The parameter Kt/V is a measurement of the efficacy of a hemodialysis session. It identifies the effective removal of a specific solute (clearance K) resulting from a given treatment (characterized by time t) in a given patient (with a specific volume of distribution V for the solute considered)."
   ]
  },
  {
   "cell_type": "code",
   "execution_count": 74,
   "metadata": {},
   "outputs": [
    {
     "data": {
      "text/plain": [
       "{3, 4, 5}"
      ]
     },
     "execution_count": 74,
     "metadata": {},
     "output_type": "execute_result"
    }
   ],
   "source": [
    "set([(len(str(num))) for num in df['Percent Of Adult HD Patients With Kt/V >= 1.2']])"
   ]
  },
  {
   "cell_type": "markdown",
   "metadata": {},
   "source": [
    "### Adult HD Kt/V Data Availability Code\n",
    "Data type: float64\n",
    "\n",
    "Value count: 871\n",
    "\n",
    "Number of unique values: 4\n",
    "\n",
    "Percent unique values: 0.000009\n",
    "\n",
    "Ranges of values: 1, 199, 201, 256, 258\n",
    "\n",
    "Length of values: 1, 3\n",
    "\n",
    "Description: Lists whether the facility had sufficient adult HD Kt/V data available or the reason for why the data is not available. The parameter Kt/V is a measurement of the efficacy of a hemodialysis session. It identifies the effective removal of a specific solute (clearance K) resulting from a given treatment (characterized by time t) in a given patient (with a specific volume of distribution V for the solute considered).\n",
    "\n",
    "Value description: \n",
    "- 199 : Not enough patients to report on this measure. Call the dialysis center to discuss this measure.\n",
    "- 201 : Data not reported. Call the dialysis center to discuss this quality measure.\n",
    "- 256 : The dialysis center does not provide hemodialysis during the reporting period. \n",
    "- 258 : The dialysis center was not open long enough to supply sufficient measure data. "
   ]
  },
  {
   "cell_type": "code",
   "execution_count": 75,
   "metadata": {},
   "outputs": [
    {
     "data": {
      "text/plain": [
       "199.0    308\n",
       "258.0    284\n",
       "201.0    140\n",
       "256.0    137\n",
       "255.0      1\n",
       "Name: Adult HD Kt/V Data Availability Code, dtype: int64"
      ]
     },
     "execution_count": 75,
     "metadata": {},
     "output_type": "execute_result"
    }
   ],
   "source": [
    "df['Adult HD Kt/V Data Availability Code'].value_counts()"
   ]
  },
  {
   "cell_type": "markdown",
   "metadata": {},
   "source": [
    "### Percentage Of Adult PD PTS With Kt/V >= 1.7\n",
    "Data type: float64\n",
    "\n",
    "Value count: 2146\n",
    "\n",
    "Number of unique values: 70\n",
    "\n",
    "Percent unique values: 0.000153\n",
    "\n",
    "Ranges of values: 0 - \n",
    "\n",
    "Length of values: 1 - 3\n",
    "\n",
    "Description: Lists the percentage of adult PD PTS patients with Kt/V greater than or equal to 1.7. The parameter Kt/V is a measurement of the efficacy of a hemodialysis session. It identifies the effective removal of a specific solute (clearance K) resulting from a given treatment (characterized by time t) in a given patient (with a specific volume of distribution V for the solute considered)."
   ]
  },
  {
   "cell_type": "code",
   "execution_count": 76,
   "metadata": {},
   "outputs": [
    {
     "data": {
      "text/plain": [
       "{3, 4, 5}"
      ]
     },
     "execution_count": 76,
     "metadata": {},
     "output_type": "execute_result"
    }
   ],
   "source": [
    "set([(len(str(num))) for num in df['Percentage Of Adult PD PTS With Kt/V >= 1.7']])"
   ]
  },
  {
   "cell_type": "markdown",
   "metadata": {},
   "source": [
    "### Adult PD Kt/V Data Availability Code\n",
    "Data type: float64 \n",
    "\n",
    "Value count: 5480\n",
    "\n",
    "Number of unique values: 4\n",
    "\n",
    "Percent unique values: 0.000009\n",
    "\n",
    "Ranges of values: 1, 199, 201, 257, 258\n",
    "\n",
    "Length of values: 1, 3\n",
    "\n",
    "Description: Lists whether the facility had sufficient adult PD Kt/V data available or the reason for why the data is not available. The parameter Kt/V is a measurement of the efficacy of a hemodialysis session. It identifies the effective removal of a specific solute (clearance K) resulting from a given treatment (characterized by time t) in a given patient (with a specific volume of distribution V for the solute considered).\n",
    "\n",
    "Value description:\n",
    "- 199 : Not enough patients to report on this measure. Call the dialysis center to discuss this measure.\n",
    "- 201 : Data not reported. Call the dialysis center to discuss this quality measure.\n",
    "- 257 : The dialysis center does not provide peritoneal dialysis during the reporting period. \n",
    "- 258 : The dialysis center was not open long enough to supply sufficient measure data."
   ]
  },
  {
   "cell_type": "code",
   "execution_count": 77,
   "metadata": {},
   "outputs": [
    {
     "data": {
      "text/plain": [
       "257.0    3393\n",
       "199.0    1127\n",
       "201.0     794\n",
       "258.0     195\n",
       "255.0       1\n",
       "Name: Adult PD Kt/V Data Availability Code, dtype: int64"
      ]
     },
     "execution_count": 77,
     "metadata": {},
     "output_type": "execute_result"
    }
   ],
   "source": [
    "df['Adult PD Kt/V Data Availability Code'].value_counts()"
   ]
  },
  {
   "cell_type": "markdown",
   "metadata": {},
   "source": [
    "### Percentage Of Pediatric HD Patients With Kt/V >= 1.2\n",
    "Data type: float64\n",
    "\n",
    "Value count: 16\n",
    "\n",
    "Number of unique values: 11\n",
    "\n",
    "Percent unique values: 0.000024\n",
    "\n",
    "Ranges of values: 100 - \n",
    "\n",
    "Length of values: 2, 3\n",
    "\n",
    "Description: Lists the percentage of pediatric HD patients with Kt/V greater than or equal to 1.2. The parameter Kt/V is a measurement of the efficacy of a hemodialysis session. It identifies the effective removal of a specific solute (clearance K) resulting from a given treatment (characterized by time t) in a given patient (with a specific volume of distribution V for the solute considered)."
   ]
  },
  {
   "cell_type": "code",
   "execution_count": 78,
   "metadata": {},
   "outputs": [
    {
     "data": {
      "text/plain": [
       "{3, 4, 5}"
      ]
     },
     "execution_count": 78,
     "metadata": {},
     "output_type": "execute_result"
    }
   ],
   "source": [
    "set([(len(str(num))) for num in df['Percentage Of Pediatric HD Patients With Kt/V >= 1.2']])"
   ]
  },
  {
   "cell_type": "markdown",
   "metadata": {},
   "source": [
    "### Pediatric HD Kt/V Data Availability Code\n",
    "Data type: float64\n",
    "\n",
    "Value count: 7610\n",
    "\n",
    "Number of unique values: 4\n",
    "\n",
    "Percent unique values: 0.000009\n",
    "\n",
    "Ranges of values: 199, 201, 258, 259\n",
    "\n",
    "Length of values: 3\n",
    "\n",
    "Description: Lists whether the facility had sufficient Pediatric HD Kt/V data available or the reason for why the data is not available. The parameter Kt/V is a measurement of the efficacy of a hemodialysis session. It identifies the effective removal of a specific solute (clearance K) resulting from a given treatment(characterized by time t) in a given patient (with a specific volume of distribution V for the solute considered).\n",
    "\n",
    "Value description:\n",
    "- 199 : Not enough patients to report on this measure. Call the dialysis center to discuss this measure.\n",
    "- 201 : Data not reported. Call the dialysis center to discuss this quality measure.\n",
    "- 258 : The dialysis center was not open long enough to supply sufficient measure data. \n",
    "- 259 : The dialysis center does not provide hemodialysis and/or peritoneal dialysis to pediatric patients during the reporting period."
   ]
  },
  {
   "cell_type": "code",
   "execution_count": 79,
   "metadata": {},
   "outputs": [
    {
     "data": {
      "text/plain": [
       "259.0    7176\n",
       "201.0     238\n",
       "199.0     181\n",
       "258.0     115\n",
       "Name: Pediatric HD Kt/V Data Availability Code, dtype: int64"
      ]
     },
     "execution_count": 79,
     "metadata": {},
     "output_type": "execute_result"
    }
   ],
   "source": [
    "df['Pediatric HD Kt/V Data Availability Code'].value_counts()"
   ]
  },
  {
   "cell_type": "markdown",
   "metadata": {},
   "source": [
    "### Number Of Adult HD Patients With Kt/V Data\n",
    "Data type: float64\n",
    "\n",
    "Value count: 7555\n",
    "\n",
    "Number of unique values: 270\n",
    "\n",
    "Percent unique values: 0.000590\n",
    "\n",
    "Ranges of values: 0 - \n",
    "\n",
    "Length of values: 1 - 3\n",
    "\n",
    "Description: Lists the number of adult HD patients included in Kt/V greater than or equal to 1.2 summary. The parameter Kt/V is a measurement of the efficacy of a hemodialysis session. It identifies the effective removal of a specific solute (clearance K) resulting from a given treatment (characterized by time t) in a given patient (with a specific volume of distribution V for the solute considered)."
   ]
  },
  {
   "cell_type": "code",
   "execution_count": 80,
   "metadata": {},
   "outputs": [
    {
     "data": {
      "text/plain": [
       "{3, 4, 5}"
      ]
     },
     "execution_count": 80,
     "metadata": {},
     "output_type": "execute_result"
    }
   ],
   "source": [
    "set([(len(str(num))) for num in df['Number Of Adult HD Patients With Kt/V Data']])"
   ]
  },
  {
   "cell_type": "markdown",
   "metadata": {},
   "source": [
    "### Number Of Adult HD Patient-Months With Kt/V Data\n",
    "Data type: float64\n",
    "\n",
    "Value count: 7175\n",
    "\n",
    "Number of unique values: 1629\n",
    "\n",
    "Percent unique values: 0.003560\n",
    "\n",
    "Ranges of values: 0 - \n",
    "\n",
    "Length of values: 1 - 4\n",
    "\n",
    "Description: Lists the number of adult HD patient-months included in Kt/V greater than or equal to 1.2 summary. The parameter Kt/V is a measurement of the efficacy of a hemodialysis session. It identifies the effective removal of a specific solute (clearance K) resulting from a given treatment (characterized by time t) in a given patient (with a specific volume of distribution V for the solute considered)."
   ]
  },
  {
   "cell_type": "code",
   "execution_count": 81,
   "metadata": {},
   "outputs": [
    {
     "data": {
      "text/plain": [
       "{3, 4, 5, 6}"
      ]
     },
     "execution_count": 81,
     "metadata": {},
     "output_type": "execute_result"
    }
   ],
   "source": [
    "set([(len(str(num))) for num in df['Number Of Adult HD Patient-Months With Kt/V Data']])"
   ]
  },
  {
   "cell_type": "markdown",
   "metadata": {},
   "source": [
    "### Number Of Adult PD Patients With Kt/V Data\n",
    "Data type: float64\n",
    "\n",
    "Value count: 7555\n",
    "\n",
    "Number of unique values: 136\n",
    "\n",
    "Percent unique values: 0.000297\n",
    "\n",
    "Ranges of values: 0 -\n",
    "\n",
    "Length of values: 1 - 3, 13\n",
    "\n",
    "Description: Lists the number of adult PD patients included in Kt/V greater than or equal to 1.7 summary. The parameter Kt/V is a measurement of the efficacy of a hemodialysis session. It identifies the effective removal of a specific solute (clearance K) resulting from a given treatment (characterized by time t) in a given patient (with a specific volume of distribution V for the solute considered)."
   ]
  },
  {
   "cell_type": "code",
   "execution_count": 82,
   "metadata": {},
   "outputs": [
    {
     "data": {
      "text/plain": [
       "{3, 4, 5}"
      ]
     },
     "execution_count": 82,
     "metadata": {},
     "output_type": "execute_result"
    }
   ],
   "source": [
    "set([(len(str(num))) for num in df['Number Of Adult PD Patients With Kt/V Data']])"
   ]
  },
  {
   "cell_type": "markdown",
   "metadata": {},
   "source": [
    "### Number Of Adult PD Patient-Months With Kt/V Data\n",
    "Data type: float64\n",
    "\n",
    "Value count: 3358\n",
    "\n",
    "Number of unique values: 610\n",
    "\n",
    "Percent unique values: 0.001333\n",
    "\n",
    "Ranges of values: 0 - \n",
    "\n",
    "Length of values: 1 - 4\n",
    "\n",
    "Description: Lists the number of adult PD patient-months included in Kt/V greater than or equal to 1.7 summary. The parameter Kt/V is a measurement of the efficacy of a hemodialysis session. It identifies the effective removal of a specific solute (clearance K) resulting from a given treatment (characterized by time t) in a given patient (with a specific volume of distribution V for the solute considered). "
   ]
  },
  {
   "cell_type": "code",
   "execution_count": 83,
   "metadata": {},
   "outputs": [
    {
     "data": {
      "text/plain": [
       "{3, 4, 5, 6}"
      ]
     },
     "execution_count": 83,
     "metadata": {},
     "output_type": "execute_result"
    }
   ],
   "source": [
    "set([(len(str(num))) for num in df['Number Of Adult PD Patient-Months With Kt/V Data']])"
   ]
  },
  {
   "cell_type": "markdown",
   "metadata": {},
   "source": [
    "### Number Of Pediatric HD Patients With Kt/V Data\n",
    "Data type: float64\n",
    "\n",
    "Value count: 7555\n",
    "\n",
    "Number of unique values: 19\n",
    "\n",
    "Percent unique values: 0.000042\n",
    "\n",
    "Ranges of values: 0 - \n",
    "\n",
    "Length of values: 1 - 3\n",
    "\n",
    "Description: Lists the number of pediatric HD patients included in Kt/V greater than or equal to 1.2 summary. The parameter Kt/V is a measurement of the efficacy of a hemodialysis session. It identifies the effective removal of a specific solute (clearance K) resulting from a given treatment (characterized by time t) in a given patient (with a specific volume of distribution V for the solute considered)."
   ]
  },
  {
   "cell_type": "code",
   "execution_count": 84,
   "metadata": {},
   "outputs": [
    {
     "data": {
      "text/plain": [
       "{3, 4}"
      ]
     },
     "execution_count": 84,
     "metadata": {},
     "output_type": "execute_result"
    }
   ],
   "source": [
    "set([(len(str(num))) for num in df['Number Of Pediatric HD Patients With Kt/V Data']])"
   ]
  },
  {
   "cell_type": "markdown",
   "metadata": {},
   "source": [
    "### Number Of Pediatric HD Patient-Months With Kt/V Data\n",
    "Data type: float64 \n",
    "\n",
    "Value count: 202\n",
    "\n",
    "Number of unique values: 67\n",
    "\n",
    "Percent unique values: 0.000146\n",
    "\n",
    "Ranges of values: 1 - \n",
    "\n",
    "Length of values: 1 - 3\n",
    "\n",
    "Description: Lists the number of pediatric HD patientmonths included in Kt/V greater than or equal to 1.2 summary. The parameter Kt/V is a measurement of the efficacy of a hemodialysis session. It identifies the effective removal of a specific solute (clearance K) resulting from a given treatment (characterized by time t) in a given patient (with a specific volume of distribution V for the solute considered)."
   ]
  },
  {
   "cell_type": "code",
   "execution_count": 85,
   "metadata": {},
   "outputs": [
    {
     "data": {
      "text/plain": [
       "{3, 4, 5}"
      ]
     },
     "execution_count": 85,
     "metadata": {},
     "output_type": "execute_result"
    }
   ],
   "source": [
    "set([(len(str(num))) for num in df['Number Of Pediatric HD Patient-Months With Kt/V Data']])"
   ]
  },
  {
   "cell_type": "markdown",
   "metadata": {},
   "source": [
    "### Hypercalcemia Data Availability Code\n",
    "Data type: float64\n",
    "\n",
    "Value count: 422\n",
    "\n",
    "Number of unique values: 3\n",
    "\n",
    "Percent unique values: 0.000007\n",
    "\n",
    "Ranges of values: 199, 201, 258\n",
    "\n",
    "Length of values: 3\n",
    "\n",
    "Description: Lists whether the facility had sufficient hypercalcemia data available or the reason for why the data is not available. Hypercalcemia is a condition in which the calcium level in one's blood is above normal. Too much calcium in the blood can weaken bones, create kidney stones, and interfere with how the heart and brain work. Hypercalcemia is usually a result of overactive parathyroid glands.\n",
    "A normal serum calcium level is 8-10 mg/dL (2-2.5 mmol/L) with some interlaboratory variation in the reference range, and hypercalcemia is defined as a serum calcium level greater than 10.5 mg/dL (>2.5 mmol/L).\n",
    "\n",
    "Value description:\n",
    "- 199 : Not enough patients to report on this measure. Call the dialysis center to discuss this measure.\n",
    "- 201 : Data not reported. Call the dialysis center to discuss this quality measure.\n",
    "- 258 : The dialysis center was not open long enough to supply sufficient measure data. "
   ]
  },
  {
   "cell_type": "code",
   "execution_count": 86,
   "metadata": {},
   "outputs": [
    {
     "data": {
      "text/plain": [
       "258.0    270\n",
       "199.0    132\n",
       "201.0     21\n",
       "255.0      2\n",
       "Name: Hypercalcemia Data Availability Code, dtype: int64"
      ]
     },
     "execution_count": 86,
     "metadata": {},
     "output_type": "execute_result"
    }
   ],
   "source": [
    "df['Hypercalcemia Data Availability Code'].value_counts()"
   ]
  },
  {
   "cell_type": "markdown",
   "metadata": {},
   "source": [
    "### Number Of Patients In Hypercalcemia Summary\n",
    "Data type: float64\n",
    "\n",
    "Value count: 7555\n",
    "\n",
    "Number of unique values: 310\n",
    "\n",
    "Percent unique values: 0.000678\n",
    "\n",
    "Ranges of values: 0 - \n",
    "\n",
    "Length of values: 1 - 3\n",
    "\n",
    "Description: Lists the number of patients included in the facility’s hypercalcemia summary. Hypercalcemia is a condition in which the calcium level in one's blood is above normal. Too much calcium in the blood can weaken bones, create kidney stones, and interfere with how the heart and brain work. Hypercalcemia is usually a result of overactive parathyroid glands.\n",
    "A normal serum calcium level is 8-10 mg/dL (2-2.5 mmol/L) with some interlaboratory variation in the reference range, and hypercalcemia is defined as a serum calcium level greater than 10.5 mg/dL (>2.5 mmol/L)."
   ]
  },
  {
   "cell_type": "code",
   "execution_count": 87,
   "metadata": {},
   "outputs": [
    {
     "data": {
      "text/plain": [
       "{3, 4, 5}"
      ]
     },
     "execution_count": 87,
     "metadata": {},
     "output_type": "execute_result"
    }
   ],
   "source": [
    "set([(len(str(num))) for num in df['Number Of Patients In Hypercalcemia Summary']])"
   ]
  },
  {
   "cell_type": "markdown",
   "metadata": {},
   "source": [
    "### Number Of Patient-Months In Hypercalcemia Summary\n",
    "Data type: float64\n",
    "\n",
    "Value count: 7463\n",
    "\n",
    "Number of unique values: 1865\n",
    "\n",
    "Percent unique values: 0.004076\n",
    "\n",
    "Ranges of values: 0 - \n",
    "\n",
    "Length of values: 1 - 4\n",
    "\n",
    "Description: Lists the number of patient-months included in the facility’s hypercalcemia summary. Hypercalcemia is a condition in which the calcium level in one's blood is above normal. Too much calcium in the blood can weaken bones, create kidney stones, and interfere with how the heart and brain work. Hypercalcemia is usually a result of overactive parathyroid glands.\n",
    "A normal serum calcium level is 8-10 mg/dL (2-2.5 mmol/L) with some interlaboratory variation in the reference range, and hypercalcemia is defined as a serum calcium level greater than 10.5 mg/dL (>2.5 mmol/L)."
   ]
  },
  {
   "cell_type": "code",
   "execution_count": 88,
   "metadata": {},
   "outputs": [
    {
     "data": {
      "text/plain": [
       "{3, 4, 5, 6}"
      ]
     },
     "execution_count": 88,
     "metadata": {},
     "output_type": "execute_result"
    }
   ],
   "source": [
    "set([(len(str(num))) for num in df['Number Of Patient-Months In Hypercalcemia Summary']])"
   ]
  },
  {
   "cell_type": "markdown",
   "metadata": {},
   "source": [
    "### Percentage Of Adult Patients With Hypercalcemia (Serum Calcium Greater Than 10.2 mg/dL)\n",
    "Data type: float64\n",
    "\n",
    "Value count: 7204\n",
    "\n",
    "Number of unique values: 48\n",
    "\n",
    "Percent unique values: 0.000105\n",
    "\n",
    "Ranges of values: 0 - \n",
    "\n",
    "Length of values: 1 - 3\n",
    "\n",
    "Description: Lists the percentage of Adult patients with Hypercalcemia (serum calcium greater than 10.2 mg/dL). Serum phosphorus is measured in milligrams of phosphorus per deciliter of blood (mg/dL). According to Mayo Medical Laboratories, a normal range for adults is generally 2.5 to 4.5 mg/dL. The normal range varies slightly depending on your age.\n",
    "Most commonly, a high level of phosphorus is related to a kidney disorder. It shows that your kidneys are having difficulty clearing phosphorus from your blood. A high level of phosphorus can also mean uncontrolled diabetes and other endocrine disorders. "
   ]
  },
  {
   "cell_type": "code",
   "execution_count": 89,
   "metadata": {},
   "outputs": [
    {
     "data": {
      "text/plain": [
       "{3, 4}"
      ]
     },
     "execution_count": 89,
     "metadata": {},
     "output_type": "execute_result"
    }
   ],
   "source": [
    "set([(len(str(num))) for num in df['Percentage Of Adult Patients With Hypercalcemia (Serum Calcium Greater Than 10.2 mg/dL)']])"
   ]
  },
  {
   "cell_type": "markdown",
   "metadata": {},
   "source": [
    "### Number Of Patients In Serum Phosphorus Summary\n",
    "Data type: float64\n",
    "\n",
    "Value count: 7555\n",
    "\n",
    "Number of unique values: 323\n",
    "\n",
    "Percent unique values: 0.000706\n",
    "\n",
    "Ranges of values: 0 - \n",
    "\n",
    "Length of values: 1 - 3\n",
    "\n",
    "Description: Lists the number of patients included in the facility’s serum phosphorus summary.\n",
    "Serum phosphorus is measured in milligrams of phosphorus per deciliter of blood (mg/dL). According to Mayo Medical Laboratories, a normal range for adults is generally 2.5 to 4.5 mg/dL. The normal range varies slightly depending on your age.\n",
    "Most commonly, a high level of phosphorus is related to a kidney disorder. It shows that your kidneys are having difficulty clearing phosphorus from your blood. A high level of phosphorus can also mean uncontrolled diabetes and other endocrine disorders."
   ]
  },
  {
   "cell_type": "code",
   "execution_count": 90,
   "metadata": {},
   "outputs": [
    {
     "data": {
      "text/plain": [
       "{3, 4, 5}"
      ]
     },
     "execution_count": 90,
     "metadata": {},
     "output_type": "execute_result"
    }
   ],
   "source": [
    "set([(len(str(num))) for num in df['Number Of Patients In Serum Phosphorus Summary']])"
   ]
  },
  {
   "cell_type": "markdown",
   "metadata": {},
   "source": [
    "### Number Of Patient-Months In Serum Phosphorus Summary\n",
    "Data type: float64\n",
    "\n",
    "Value count: 7463\n",
    "\n",
    "Number of unique values: 1903\n",
    "\n",
    "Percent unique values: 0.004159\n",
    "\n",
    "Ranges of values: 0 - \n",
    "\n",
    "Length of values: 1 - 4\n",
    "\n",
    "Description: Lists the number of patient-months included in the facility’s serum phosphorus summary.\n",
    "Serum phosphorus is measured in milligrams of phosphorus per deciliter of blood (mg/dL). According to Mayo Medical Laboratories, a normal range for adults is generally 2.5 to 4.5 mg/dL. The normal range varies slightly depending on your age.\n",
    "Most commonly, a high level of phosphorus is related to a kidney disorder. It shows that your kidneys are having difficulty clearing phosphorus from your blood. A high level of phosphorus can also mean uncontrolled diabetes and other endocrine disorders."
   ]
  },
  {
   "cell_type": "code",
   "execution_count": 91,
   "metadata": {},
   "outputs": [
    {
     "data": {
      "text/plain": [
       "{3, 4, 5, 6}"
      ]
     },
     "execution_count": 91,
     "metadata": {},
     "output_type": "execute_result"
    }
   ],
   "source": [
    "set([(len(str(num))) for num in df['Number Of Patient-Months In Serum Phosphorus Summary']])"
   ]
  },
  {
   "cell_type": "markdown",
   "metadata": {},
   "source": [
    "### Serum Phosphorus Data Availability Code \n",
    "Data type: float64\n",
    "\n",
    "Value count: 411\n",
    "\n",
    "Number of unique values: 3\n",
    "\n",
    "Percent unique values: 0.000007\n",
    "\n",
    "Ranges of values: 199, 201, 258\n",
    "\n",
    "Length of values: 3\n",
    "\n",
    "Description: Lists whether the facility had sufficient serum phosphorus data available or the reason for why the data is not available.\n",
    "Serum phosphorus is measured in milligrams of phosphorus per deciliter of blood (mg/dL). According to Mayo Medical Laboratories, a normal range for adults is generally 2.5 to 4.5 mg/dL. The normal range varies slightly depending on your age.\n",
    "Most commonly, a high level of phosphorus is related to a kidney disorder. It shows that your kidneys are having difficulty clearing phosphorus from your blood. A high level of phosphorus can also mean uncontrolled diabetes and other endocrine disorders.\n",
    "\n",
    "Value description:\n",
    "- 199 : Not enough patients to report on this measure. Call the dialysis center to discuss this measure.\n",
    "- 201 : Data not reported. Call the dialysis center to discuss this quality measure.\n",
    "- 258 : The dialysis center was not open long enough to supply sufficient measure data. "
   ]
  },
  {
   "cell_type": "code",
   "execution_count": 92,
   "metadata": {},
   "outputs": [
    {
     "data": {
      "text/plain": [
       "258.0    265\n",
       "199.0    124\n",
       "201.0     25\n",
       "Name: Serum Phosphorus Data Availability Code, dtype: int64"
      ]
     },
     "execution_count": 92,
     "metadata": {},
     "output_type": "execute_result"
    }
   ],
   "source": [
    "df['Serum Phosphorus Data Availability Code'].value_counts()"
   ]
  },
  {
   "cell_type": "markdown",
   "metadata": {},
   "source": [
    "### Percentage Of Adult Patients With Serum Phosphorus Less Than 3.5 mg/dL\n",
    "Data type: float64\n",
    "\n",
    "Value count: 7215\n",
    "\n",
    "Number of unique values: 35\n",
    "\n",
    "Percent unique values:  0.000076\n",
    "\n",
    "Ranges of values: 0 - \n",
    "\n",
    "Length of values: 1 - 3\n",
    "\n",
    "Description: Lists the percentage of Adult patients with serum phosphorus less than 3.5 mg/dL.\n",
    "Serum phosphorus is measured in milligrams of phosphorus per deciliter of blood (mg/dL). According to Mayo Medical Laboratories, a normal range for adults is generally 2.5 to 4.5 mg/dL. The normal range varies slightly depending on your age.\n",
    "Most commonly, a high level of phosphorus is related to a kidney disorder. It shows that your kidneys are having difficulty clearing phosphorus from your blood. A high level of phosphorus can also mean uncontrolled diabetes and other endocrine disorders."
   ]
  },
  {
   "cell_type": "code",
   "execution_count": 93,
   "metadata": {},
   "outputs": [
    {
     "data": {
      "text/plain": [
       "{3, 4}"
      ]
     },
     "execution_count": 93,
     "metadata": {},
     "output_type": "execute_result"
    }
   ],
   "source": [
    "set([(len(str(num))) for num in df['Percentage Of Adult Patients With Serum Phosphorus Less Than 3.5 mg/dL']])"
   ]
  },
  {
   "cell_type": "markdown",
   "metadata": {},
   "source": [
    "### Percentage Of Adult Patients With Serum Phosphorus Between 3.5 - 4.5 mg/dL\n",
    "Data type: float64\n",
    "\n",
    "Value count: 7215\n",
    "\n",
    "Number of unique values: 46\n",
    "\n",
    "Percent unique values: 0.000101\n",
    "\n",
    "Ranges of values: 10 - \n",
    "\n",
    "Length of values: 1 - 3\n",
    "\n",
    "Description: Lists the percentage of Adult patients with serum phosphorus between 3.5-4.5 mg/dL.\n",
    "Serum phosphorus is measured in milligrams of phosphorus per deciliter of blood (mg/dL). According to Mayo Medical Laboratories, a normal range for adults is generally 2.5 to 4.5 mg/dL. The normal range varies slightly depending on your age.\n",
    "Most commonly, a high level of phosphorus is related to a kidney disorder. It shows that your kidneys are having difficulty clearing phosphorus from your blood. A high level of phosphorus can also mean uncontrolled diabetes and other endocrine disorders."
   ]
  },
  {
   "cell_type": "code",
   "execution_count": 94,
   "metadata": {},
   "outputs": [
    {
     "data": {
      "text/plain": [
       "{3, 4}"
      ]
     },
     "execution_count": 94,
     "metadata": {},
     "output_type": "execute_result"
    }
   ],
   "source": [
    "set([(len(str(num))) for num in df['Percentage Of Adult Patients With Serum Phosphorus Between 3.5 - 4.5 mg/dL']])"
   ]
  },
  {
   "cell_type": "markdown",
   "metadata": {},
   "source": [
    "### Percentage Of Adult Patients With Serum Phosphorus Between 4.6 - 5.5 mg/dL\n",
    "Data type: float64\n",
    "\n",
    "Value count: 7215\n",
    "\n",
    "Number of unique values: 44\n",
    "\n",
    "Percent unique values: 0.000096\n",
    "\n",
    "Ranges of values: 12 - \n",
    "\n",
    "Length of values: 1 - 3\n",
    "\n",
    "Description: Lists the percentage of Adult patients with serum phosphorus between 4.6-5.5 mg/dL.\n",
    "Serum phosphorus is measured in milligrams of phosphorus per deciliter of blood (mg/dL). According to Mayo Medical Laboratories, a normal range for adults is generally 2.5 to 4.5 mg/dL. The normal range varies slightly depending on your age.\n",
    "Most commonly, a high level of phosphorus is related to a kidney disorder. It shows that your kidneys are having difficulty clearing phosphorus from your blood. A high level of phosphorus can also mean uncontrolled diabetes and other endocrine disorders."
   ]
  },
  {
   "cell_type": "code",
   "execution_count": 95,
   "metadata": {},
   "outputs": [
    {
     "data": {
      "text/plain": [
       "{3, 4}"
      ]
     },
     "execution_count": 95,
     "metadata": {},
     "output_type": "execute_result"
    }
   ],
   "source": [
    "set([(len(str(num))) for num in df['Percentage Of Adult Patients With Serum Phosphorus Between 4.6 - 5.5 mg/dL']])"
   ]
  },
  {
   "cell_type": "markdown",
   "metadata": {},
   "source": [
    "### Percentage Of Adult Patients With Serum Phosphorus Between 5.6 - 7.0 mg/dL\n",
    "Data type: float64\n",
    "\n",
    "Value count: 7215\n",
    "\n",
    "Number of unique values: 44\n",
    "\n",
    "Percent unique values: 0.000096\n",
    "\n",
    "Ranges of values: 10 - \n",
    "\n",
    "Length of values: 1 - 3\n",
    "\n",
    "Description: Lists the percentage of Adult patients with serum phosphorus between 5.6-7.0 mg/dL.\n",
    "Serum phosphorus is measured in milligrams of phosphorus per deciliter of blood (mg/dL). According to Mayo Medical Laboratories, a normal range for adults is generally 2.5 to 4.5 mg/dL. The normal range varies slightly depending on your age.\n",
    "Most commonly, a high level of phosphorus is related to a kidney disorder. It shows that your kidneys are having difficulty clearing phosphorus from your blood. A high level of phosphorus can also mean uncontrolled diabetes and other endocrine disorders."
   ]
  },
  {
   "cell_type": "code",
   "execution_count": 96,
   "metadata": {},
   "outputs": [
    {
     "data": {
      "text/plain": [
       "{3, 4}"
      ]
     },
     "execution_count": 96,
     "metadata": {},
     "output_type": "execute_result"
    }
   ],
   "source": [
    "set([(len(str(num))) for num in df['Percentage Of Adult Patients With Serum Phosphorus Between 5.6 - 7.0 mg/dL']])"
   ]
  },
  {
   "cell_type": "markdown",
   "metadata": {},
   "source": [
    "### Percentage Of Adult Patients With Serum Phosphorus Greater Than 7.0 mg/dL\n",
    "Data type: float64\n",
    "\n",
    "Value count: 7215\n",
    "\n",
    "Number of unique values: 40\n",
    "\n",
    "Percent unique values: 0.000087\n",
    "\n",
    "Ranges of values: 0 - \n",
    "\n",
    "Length of values: 1 - 3\n",
    "\n",
    "Description: Lists the percentage of Adult patients with serum phosphorus greater than 7.0 mg/dL.\n",
    "Serum phosphorus is measured in milligrams of phosphorus per deciliter of blood (mg/dL). According to Mayo Medical Laboratories, a normal range for adults is generally 2.5 to 4.5 mg/dL. The normal range varies slightly depending on your age.\n",
    "Most commonly, a high level of phosphorus is related to a kidney disorder. It shows that your kidneys are having difficulty clearing phosphorus from your blood. A high level of phosphorus can also mean uncontrolled diabetes and other endocrine disorders."
   ]
  },
  {
   "cell_type": "code",
   "execution_count": 97,
   "metadata": {},
   "outputs": [
    {
     "data": {
      "text/plain": [
       "{3, 4}"
      ]
     },
     "execution_count": 97,
     "metadata": {},
     "output_type": "execute_result"
    }
   ],
   "source": [
    "set([(len(str(num))) for num in df['Percentage Of Adult Patients With Serum Phosphorus Greater Than 7.0 mg/dL']])"
   ]
  },
  {
   "cell_type": "markdown",
   "metadata": {},
   "source": [
    "### SHR Date\n",
    "Data type: object\n",
    "\n",
    "Value count: 7626\n",
    "\n",
    "Number of unique values: 1\n",
    "\n",
    "Percent unique values: 0.000002\n",
    "\n",
    "Ranges of values: \"01/01/2018 - 12/31/2018\"\n",
    "\n",
    "Length of values: 23\n",
    "\n",
    "Description: Lists the time period for patient hospitalization summary."
   ]
  },
  {
   "cell_type": "code",
   "execution_count": 98,
   "metadata": {},
   "outputs": [
    {
     "data": {
      "text/plain": [
       "01/01/2019 - 12/31/2019    7724\n",
       "Name: SHR Date, dtype: int64"
      ]
     },
     "execution_count": 98,
     "metadata": {},
     "output_type": "execute_result"
    }
   ],
   "source": [
    "df['SHR Date'].value_counts()"
   ]
  },
  {
   "cell_type": "code",
   "execution_count": 99,
   "metadata": {},
   "outputs": [
    {
     "data": {
      "text/plain": [
       "{23}"
      ]
     },
     "execution_count": 99,
     "metadata": {},
     "output_type": "execute_result"
    }
   ],
   "source": [
    "set([(len(str(num))) for num in df['SHR Date']])"
   ]
  },
  {
   "cell_type": "markdown",
   "metadata": {},
   "source": [
    "### SRR Date\n",
    "Data type: object\n",
    "\n",
    "Value count: 7626\n",
    "\n",
    "Number of unique values: 1\n",
    "\n",
    "Percent unique values: 0.000002\n",
    "\n",
    "Ranges of values: \"01/01/2018 - 12/31/2018\"\n",
    "\n",
    "Length of values: 23\n",
    "\n",
    "Description: Lists the time period for patient readmission summary."
   ]
  },
  {
   "cell_type": "code",
   "execution_count": 100,
   "metadata": {},
   "outputs": [
    {
     "data": {
      "text/plain": [
       "01/01/2019 - 12/31/2019    7724\n",
       "Name: SRR Date, dtype: int64"
      ]
     },
     "execution_count": 100,
     "metadata": {},
     "output_type": "execute_result"
    }
   ],
   "source": [
    "df['SRR Date'].value_counts()"
   ]
  },
  {
   "cell_type": "code",
   "execution_count": 101,
   "metadata": {},
   "outputs": [
    {
     "data": {
      "text/plain": [
       "{23}"
      ]
     },
     "execution_count": 101,
     "metadata": {},
     "output_type": "execute_result"
    }
   ],
   "source": [
    "set([(len(str(num))) for num in df['SRR Date']])"
   ]
  },
  {
   "cell_type": "markdown",
   "metadata": {},
   "source": [
    "### SMR Date\n",
    "Data type: object\n",
    "\n",
    "Value count: 7626\n",
    "\n",
    "Number of unique values: 1\n",
    "\n",
    "Percent unique values: 0.000002\n",
    "\n",
    "Ranges of values: \"01/01/2015 - 12/31/2018\"\n",
    "\n",
    "Length of values: 23\n",
    "\n",
    "Description: Lists the data collection period for patient survival summary."
   ]
  },
  {
   "cell_type": "code",
   "execution_count": 102,
   "metadata": {},
   "outputs": [
    {
     "data": {
      "text/plain": [
       "01/01/2016 - 12/31/2019    7724\n",
       "Name: SMR Date, dtype: int64"
      ]
     },
     "execution_count": 102,
     "metadata": {},
     "output_type": "execute_result"
    }
   ],
   "source": [
    "df['SMR Date'].value_counts()"
   ]
  },
  {
   "cell_type": "code",
   "execution_count": 103,
   "metadata": {},
   "outputs": [
    {
     "data": {
      "text/plain": [
       "{23}"
      ]
     },
     "execution_count": 103,
     "metadata": {},
     "output_type": "execute_result"
    }
   ],
   "source": [
    "set([(len(str(num))) for num in df['SRR Date']])"
   ]
  },
  {
   "cell_type": "markdown",
   "metadata": {},
   "source": [
    "### Patient Hospitalization Category Text\n",
    "Data type: object\n",
    "\n",
    "Value count: 6857\n",
    "\n",
    "Number of unique values: 3\n",
    "\n",
    "Percent unique values: 0.000007\n",
    "\n",
    "Ranges of values: As Expected, Not Available, Worse than Expected, Better than Expected\n",
    "\n",
    "Length of values: 3, 11, 19, 20\n",
    "\n",
    "Description: Patient hospitalization category."
   ]
  },
  {
   "cell_type": "code",
   "execution_count": 104,
   "metadata": {},
   "outputs": [
    {
     "data": {
      "text/plain": [
       "As Expected             6818\n",
       "Worse than Expected      295\n",
       "Better than Expected      72\n",
       "Name: Patient Hospitalization Category Text, dtype: int64"
      ]
     },
     "execution_count": 104,
     "metadata": {},
     "output_type": "execute_result"
    }
   ],
   "source": [
    "df['Patient Hospitalization Category Text'].value_counts()"
   ]
  },
  {
   "cell_type": "code",
   "execution_count": 105,
   "metadata": {},
   "outputs": [
    {
     "data": {
      "text/plain": [
       "{3, 11, 19, 20}"
      ]
     },
     "execution_count": 105,
     "metadata": {},
     "output_type": "execute_result"
    }
   ],
   "source": [
    "set([(len(str(num))) for num in df['Patient Hospitalization Category Text']])"
   ]
  },
  {
   "cell_type": "markdown",
   "metadata": {},
   "source": [
    "### Patient Hospitalization Data Availability Code\n",
    "Data type: float64\n",
    "\n",
    "Value count: 769\n",
    "\n",
    "Number of unique values: 4\n",
    "\n",
    "Percent unique values: 0.000009 \n",
    "\n",
    "Ranges of values: 199, 201, 255, 258\n",
    "\n",
    "Length of values: 3\n",
    "\n",
    "Description: Lists whether the facility had sufficient hospitalization data available or the reason for why the data is not available.\n",
    "\n",
    "Value description:\n",
    "- 199 : Not enough patients to report on this measure. Call the dialysis center to discuss this measure.\n",
    "- 201 : Data not reported. Call the dialysis center to discuss this quality measure.\n",
    "- 255 : Medicare determined that the percentage reported was not accurate.\n",
    "- 258 : The dialysis center was not open long enough to supply sufficient measure data. "
   ]
  },
  {
   "cell_type": "code",
   "execution_count": 106,
   "metadata": {},
   "outputs": [
    {
     "data": {
      "text/plain": [
       "258.0    358\n",
       "199.0    163\n",
       "201.0     16\n",
       "255.0      2\n",
       "Name: Patient Hospitalization Data Availability Code, dtype: int64"
      ]
     },
     "execution_count": 106,
     "metadata": {},
     "output_type": "execute_result"
    }
   ],
   "source": [
    "df['Patient Hospitalization Data Availability Code'].value_counts()"
   ]
  },
  {
   "cell_type": "markdown",
   "metadata": {},
   "source": [
    "### Patient Hospital Readmission Category\n",
    "Data type: object\n",
    "\n",
    "Value count: 6806\n",
    "\n",
    "Number of unique values: 3\n",
    "\n",
    "Percent unique values: 0.000007\n",
    "\n",
    "Ranges of values: As Expected, Not Available, Worse than Expected, Better than Expected\n",
    "\n",
    "Length of values: 3, 11, 19, 20\n",
    "\n",
    "Description: Patient readmission category.\n",
    "\n",
    "Value description:\n",
    "- As Expected          : Patient hospital readmission categorized as “As Expected”       \n",
    "- Worse than Expected  :  Patient hospital readmission categorized as “Worse than Expected”\n",
    "- Better than Expected : Patient hospital readmission categorized as “Better than Expected\""
   ]
  },
  {
   "cell_type": "code",
   "execution_count": 107,
   "metadata": {},
   "outputs": [
    {
     "data": {
      "text/plain": [
       "As Expected             6714\n",
       "Worse than Expected      250\n",
       "Better than Expected     154\n",
       "Name: Patient Hospital Readmission Category Text, dtype: int64"
      ]
     },
     "execution_count": 107,
     "metadata": {},
     "output_type": "execute_result"
    }
   ],
   "source": [
    "df['Patient Hospital Readmission Category Text'].value_counts()"
   ]
  },
  {
   "cell_type": "code",
   "execution_count": 108,
   "metadata": {},
   "outputs": [
    {
     "data": {
      "text/plain": [
       "{3, 11, 19, 20}"
      ]
     },
     "execution_count": 108,
     "metadata": {},
     "output_type": "execute_result"
    }
   ],
   "source": [
    "set([(len(str(num))) for num in df['Patient Hospital Readmission Category Text']])"
   ]
  },
  {
   "cell_type": "markdown",
   "metadata": {},
   "source": [
    "### Patient Hospital Readmission Data Availability Code\n",
    "Data type: float64\n",
    "\n",
    "Value count: 820\n",
    "\n",
    "Number of unique values: 3\n",
    "\n",
    "Percent unique values: 0.000007\n",
    "\n",
    "Ranges of values: 199, 255, 258\n",
    "\n",
    "Length of values: 3\n",
    "\n",
    "Description: Lists whether the facility had sufficient readmission data available or the reason for why the data is not available.\n",
    "\n",
    "Value description:\n",
    "- 199 : Not enough patients to report on this measure. Call the dialysis center to discuss this measure.\n",
    "- 255 : Medicare determined that the percentage reported was not accurate.\n",
    "- 258 : The dialysis center was not open long enough to supply sufficient measure data. "
   ]
  },
  {
   "cell_type": "code",
   "execution_count": 109,
   "metadata": {},
   "outputs": [
    {
     "data": {
      "text/plain": [
       "258.0    334\n",
       "199.0    271\n",
       "255.0      1\n",
       "Name: Patient Hospital Readmission Data Availability Code, dtype: int64"
      ]
     },
     "execution_count": 109,
     "metadata": {},
     "output_type": "execute_result"
    }
   ],
   "source": [
    "df['Patient Hospital Readmission Data Availability Code'].value_counts()"
   ]
  },
  {
   "cell_type": "markdown",
   "metadata": {},
   "source": [
    "### Patient Survival Category Text\n",
    "Data type: object\n",
    "\n",
    "Value count: 6701\n",
    "\n",
    "Number of unique values: 3\n",
    "\n",
    "Percent unique values: 0.000007\n",
    "\n",
    "Ranges of values: As Expected, Worse than Expected, Better than Expected\n",
    "\n",
    "Length of values: 3, 11, 19, 20\n",
    "\n",
    "Description: Patient survival category (Better, Worse or As Expected).\n",
    "\n",
    "Value description:\n",
    "- As Expected          : Patient transfusions categorized as “As Expected”       \n",
    "- Worse than Expected  :  Patient transfusions categorized as “Worse than Expected”\n",
    "- Better than Expected : Patient transfusions categorized as “Better than Expected\""
   ]
  },
  {
   "cell_type": "code",
   "execution_count": 110,
   "metadata": {},
   "outputs": [
    {
     "data": {
      "text/plain": [
       "As Expected             5966\n",
       "Better than Expected     561\n",
       "Worse than Expected      485\n",
       "Name: Patient Survival Category Text, dtype: int64"
      ]
     },
     "execution_count": 110,
     "metadata": {},
     "output_type": "execute_result"
    }
   ],
   "source": [
    "df['Patient Survival Category Text'].value_counts()"
   ]
  },
  {
   "cell_type": "code",
   "execution_count": 111,
   "metadata": {},
   "outputs": [
    {
     "data": {
      "text/plain": [
       "{3, 11, 19, 20}"
      ]
     },
     "execution_count": 111,
     "metadata": {},
     "output_type": "execute_result"
    }
   ],
   "source": [
    "set([(len(str(num))) for num in df['Patient Hospital Readmission Category Text']])"
   ]
  },
  {
   "cell_type": "markdown",
   "metadata": {},
   "source": [
    "### Patient Survival Data Availability Code\n",
    "Data type: float64\n",
    "\n",
    "Value count: 925\n",
    "\n",
    "Number of unique values: 4\n",
    "\n",
    "Percent unique values: 0.000009\n",
    "\n",
    "Ranges of values: 199, 201, 255, 258\n",
    "\n",
    "Length of values: 3 \n",
    "\n",
    "Description: Lists whether the facility had sufficient patient survival data available or the reason for why the data is not available.\n",
    "\n",
    "Value description:\n",
    "- 199 : Not enough patients to report on this measure. Call the dialysis center to discuss this measure.\n",
    "- 201 : Data not reported. Call the dialysis center to discuss this quality measure.\n",
    "- 255 : Medicare determined that the percentage reported was not accurate.\n",
    "- 258 : The dialysis center was not open long enough to supply sufficient measure data. "
   ]
  },
  {
   "cell_type": "code",
   "execution_count": 112,
   "metadata": {},
   "outputs": [
    {
     "data": {
      "text/plain": [
       "258.0    401\n",
       "199.0    300\n",
       "201.0      9\n",
       "255.0      2\n",
       "Name: Patient Survival Data Availability Code, dtype: int64"
      ]
     },
     "execution_count": 112,
     "metadata": {},
     "output_type": "execute_result"
    }
   ],
   "source": [
    "df['Patient Survival Data Availability Code'].value_counts()"
   ]
  },
  {
   "cell_type": "markdown",
   "metadata": {},
   "source": [
    "### Number Of Patients Included In Hospitalization Summary\n",
    "Data type: float64\n",
    "\n",
    "Value count: 7552\n",
    "\n",
    "Number of unique values: 249\n",
    "\n",
    "Percent unique values: 0.000553\n",
    "\n",
    "Ranges of values: 0 - \n",
    "\n",
    "Length of values: 1 - 3\n",
    "\n",
    "Description: Lists the number of patients included in the facility’s hospitalization summary."
   ]
  },
  {
   "cell_type": "code",
   "execution_count": 113,
   "metadata": {},
   "outputs": [
    {
     "data": {
      "text/plain": [
       "{3, 4, 5}"
      ]
     },
     "execution_count": 113,
     "metadata": {},
     "output_type": "execute_result"
    }
   ],
   "source": [
    "set([(len(str(num))) for num in df['Number Of Patients Included In Hospitalization Summary']])"
   ]
  },
  {
   "cell_type": "markdown",
   "metadata": {},
   "source": [
    "### Number Of Hospitalizations Included In Hospital Readmission Summary\n",
    "Data type: float64\n",
    "\n",
    "Value count: 7553\n",
    "\n",
    "Number of unique values: 295\n",
    "\n",
    "Percent unique values: 0.000656\n",
    "\n",
    "Ranges of values: 0 - \n",
    "\n",
    "Length of values: 1 - 3\n",
    "\n",
    "Description: Lists the number of index discharges included in the facility’s readmission summary."
   ]
  },
  {
   "cell_type": "code",
   "execution_count": 114,
   "metadata": {},
   "outputs": [
    {
     "data": {
      "text/plain": [
       "{3, 4, 5}"
      ]
     },
     "execution_count": 114,
     "metadata": {},
     "output_type": "execute_result"
    }
   ],
   "source": [
    "set([(len(str(num))) for num in df['Number Of Hospitalizations Included In Hospital Readmission Summary']])"
   ]
  },
  {
   "cell_type": "markdown",
   "metadata": {},
   "source": [
    "### Number Of Patients Included In Survival Summary\n",
    "Data type: float64\n",
    "\n",
    "Value count: 7552\n",
    "\n",
    "Number of unique values: 807\n",
    "\n",
    "Percent unique values: 0.001794\n",
    "\n",
    "Ranges of values: 0 - \n",
    "\n",
    "Length of values: 1 - 4\n",
    "\n",
    "Description: Lists the number of patients included in the facility’s survival summary."
   ]
  },
  {
   "cell_type": "code",
   "execution_count": 115,
   "metadata": {},
   "outputs": [
    {
     "data": {
      "text/plain": [
       "{3, 4, 5, 6}"
      ]
     },
     "execution_count": 115,
     "metadata": {},
     "output_type": "execute_result"
    }
   ],
   "source": [
    "set([(len(str(num))) for num in df['Number Of Patients Included In Survival Summary']])"
   ]
  },
  {
   "cell_type": "markdown",
   "metadata": {},
   "source": [
    "### Mortality Rate (Facility)\n",
    "Data type: float64\n",
    "\n",
    "Value count: 6701\n",
    "\n",
    "Number of unique values: 390\n",
    "\n",
    "Percent unique values: 0.000867\n",
    "\n",
    "Ranges of values: 0 - \n",
    "\n",
    "Length of values: 1 - 4\n",
    "\n",
    "Description: Lists the facility’s mortality rate per 100 patient-years."
   ]
  },
  {
   "cell_type": "code",
   "execution_count": 116,
   "metadata": {},
   "outputs": [
    {
     "data": {
      "text/plain": [
       "{3, 4}"
      ]
     },
     "execution_count": 116,
     "metadata": {},
     "output_type": "execute_result"
    }
   ],
   "source": [
    "set([(len(str(num))) for num in df['Mortality Rate (Facility)']])"
   ]
  },
  {
   "cell_type": "markdown",
   "metadata": {},
   "source": [
    "### Mortality Rate: Upper Confidence Limit (97.5%)\n",
    "Data type: float64\n",
    "\n",
    "Value count: 6701\n",
    "\n",
    "Number of unique values: 545\n",
    "\n",
    "Percent unique values: 0.001211\n",
    "\n",
    "Ranges of values: 10.3 -\n",
    "\n",
    "Length of values: 2 - 5\n",
    "\n",
    "Description: Lists the upper confident limit (97.5%) for mortality rate per 100 patient-years."
   ]
  },
  {
   "cell_type": "code",
   "execution_count": 117,
   "metadata": {},
   "outputs": [
    {
     "data": {
      "text/plain": [
       "{3, 4, 5}"
      ]
     },
     "execution_count": 117,
     "metadata": {},
     "output_type": "execute_result"
    }
   ],
   "source": [
    "set([(len(str(num))) for num in df['Mortality Rate: Upper Confidence Limit (97.5%)']])"
   ]
  },
  {
   "cell_type": "markdown",
   "metadata": {},
   "source": [
    "### Mortality Rate: Lower Confidence Limit (2.5%)\n",
    "Data type: float64\n",
    "\n",
    "Value count: 6701\n",
    "\n",
    "Number of unique values: 323\n",
    "\n",
    "Percent unique values: 0.000718\n",
    "\n",
    "Ranges of values: 0.1 - \n",
    "\n",
    "Length of values: 1 - 4\n",
    "\n",
    "Description: Lists the lower confident limit (2.5%) for mortality rate per 100 patient-years."
   ]
  },
  {
   "cell_type": "code",
   "execution_count": 118,
   "metadata": {},
   "outputs": [
    {
     "data": {
      "text/plain": [
       "{3, 4}"
      ]
     },
     "execution_count": 118,
     "metadata": {},
     "output_type": "execute_result"
    }
   ],
   "source": [
    "set([(len(str(num))) for num in df['Mortality Rate: Lower Confidence Limit (2.5%)']])"
   ]
  },
  {
   "cell_type": "markdown",
   "metadata": {},
   "source": [
    "### Readmission Rate (Facility)\n",
    "Data type: float64\n",
    "\n",
    "Value count: 6806\n",
    "\n",
    "Number of unique values: 463\n",
    "\n",
    "Percent unique values: 0.001029\n",
    "\n",
    "Ranges of values: 0 - \n",
    "\n",
    "Length of values: 1 - 4\n",
    "\n",
    "Description: Lists the facility’s readmission rate as a percentage of hospital discharges."
   ]
  },
  {
   "cell_type": "code",
   "execution_count": 119,
   "metadata": {},
   "outputs": [
    {
     "data": {
      "text/plain": [
       "{3, 4}"
      ]
     },
     "execution_count": 119,
     "metadata": {},
     "output_type": "execute_result"
    }
   ],
   "source": [
    "set([(len(str(num))) for num in df['Readmission Rate (Facility)']])"
   ]
  },
  {
   "cell_type": "markdown",
   "metadata": {},
   "source": [
    "### Readmission Rate: Upper Confidence Limit (97.5%)\n",
    "Data type: float64\n",
    "\n",
    "Value count: 6806\n",
    "\n",
    "Number of unique values: 543\n",
    "\n",
    "Percent unique values: 0.001207\n",
    "\n",
    "Ranges of values: 104.2\n",
    "\n",
    "Length of values: 2 - 5\n",
    "\n",
    "Description: Lists the upper confident limit (97.5%) for readmission rate as a percentage of hospital discharges."
   ]
  },
  {
   "cell_type": "code",
   "execution_count": 120,
   "metadata": {},
   "outputs": [
    {
     "data": {
      "text/plain": [
       "{3, 4, 5}"
      ]
     },
     "execution_count": 120,
     "metadata": {},
     "output_type": "execute_result"
    }
   ],
   "source": [
    "set([(len(str(num))) for num in df['Readmission Rate: Upper Confidence Limit (97.5%)']])"
   ]
  },
  {
   "cell_type": "markdown",
   "metadata": {},
   "source": [
    "### Readmission Rate: Lower Confidence Limit (2.5%)\n",
    "Data type: float64\n",
    "\n",
    "Value count: 6806\n",
    "\n",
    "Number of unique values: 338\n",
    "\n",
    "Percent unique values: 0.000751\n",
    "\n",
    "Ranges of values: 0.1 - \n",
    "\n",
    "Length of values: 1 - 4\n",
    "\n",
    "Description: Lists the lower confident limit (2.5%) for readmission rate as a percentage of hospital discharges."
   ]
  },
  {
   "cell_type": "code",
   "execution_count": 121,
   "metadata": {},
   "outputs": [
    {
     "data": {
      "text/plain": [
       "{3, 4}"
      ]
     },
     "execution_count": 121,
     "metadata": {},
     "output_type": "execute_result"
    }
   ],
   "source": [
    "set([(len(str(num))) for num in df['Readmission Rate: Lower Confidence Limit (2.5%)']])"
   ]
  },
  {
   "cell_type": "markdown",
   "metadata": {},
   "source": [
    "### Hospitalization Rate (Facility)\n",
    "Data type: float64\n",
    "\n",
    "Value count: 6857\n",
    "\n",
    "Number of unique values: 2004\n",
    "\n",
    "Percent unique values: 0.004454\n",
    "\n",
    "Ranges of values: 0 - \n",
    "\n",
    "Length of values: 1 - 5\n",
    "\n",
    "Description: Lists the facility’s hospitalization rate per 100 patient-years."
   ]
  },
  {
   "cell_type": "code",
   "execution_count": 122,
   "metadata": {},
   "outputs": [
    {
     "data": {
      "text/plain": [
       "{3, 4, 5}"
      ]
     },
     "execution_count": 122,
     "metadata": {},
     "output_type": "execute_result"
    }
   ],
   "source": [
    "set([(len(str(num))) for num in df['Hospitalization Rate (Facility)']])"
   ]
  },
  {
   "cell_type": "markdown",
   "metadata": {},
   "source": [
    "### Hospitalization Rate: Upper Confidence Limit (97.5%)\n",
    "Data type: float64\n",
    "\n",
    "Value count: 6856\n",
    "\n",
    "Number of unique values: 2583\n",
    "\n",
    "Percent unique values: 0.005741\n",
    "\n",
    "Ranges of values: 1079.9 - \n",
    "\n",
    "Length of values: 3, 5, 6\n",
    "\n",
    "Description: Lists the upper confident limit (97.5%) for hospitalization rate per 100 patient-years."
   ]
  },
  {
   "cell_type": "code",
   "execution_count": 123,
   "metadata": {},
   "outputs": [
    {
     "data": {
      "text/plain": [
       "{3, 5}"
      ]
     },
     "execution_count": 123,
     "metadata": {},
     "output_type": "execute_result"
    }
   ],
   "source": [
    "set([(len(str(num))) for num in df['Hospitalization Rate: Upper Confidence Limit (97.5%)']])"
   ]
  },
  {
   "cell_type": "markdown",
   "metadata": {},
   "source": [
    "### Hospitalization Rate: Lower Confidence Limit (2.5%)\n",
    "Data type: float64\n",
    "\n",
    "Value count: 6857\n",
    "\n",
    "Number of unique values: 1710\n",
    "\n",
    "Percent unique values: 0.003801\n",
    "\n",
    "Ranges of values: 0 -\n",
    "\n",
    "Length of values: 1 - 5\n",
    "\n",
    "Description: Lists the lower confident limit (2.5%) for hospitalization rate per 100 patient-years."
   ]
  },
  {
   "cell_type": "code",
   "execution_count": 124,
   "metadata": {},
   "outputs": [
    {
     "data": {
      "text/plain": [
       "{3, 4, 5}"
      ]
     },
     "execution_count": 124,
     "metadata": {},
     "output_type": "execute_result"
    }
   ],
   "source": [
    "set([(len(str(num))) for num in df['Hospitalization Rate: Lower Confidence Limit (2.5%)']])"
   ]
  },
  {
   "cell_type": "markdown",
   "metadata": {},
   "source": [
    "### Number Of Pediatric PD Patients With Kt/V Data\n",
    "Data type: float64\n",
    "\n",
    "Value count: 7555\n",
    "\n",
    "Number of unique values: 25\n",
    "\n",
    "Percent unique values: 0.000056\n",
    "\n",
    "Ranges of values: 0 - \n",
    "\n",
    "Length of values: 1 - 3\n",
    "\n",
    "Description: Lists the number of pediatric PD patients included in Kt/V greater than or equal to 1.8 summary. The parameter Kt/V is a measurement of the efficacy of a hemodialysis session. It identifies the effective removal of a specific solute (clearance K) resulting from a given treatment (characterized by time t) in a given patient (with a specific volume of distribution V for the solute considered)."
   ]
  },
  {
   "cell_type": "code",
   "execution_count": 125,
   "metadata": {},
   "outputs": [
    {
     "data": {
      "text/plain": [
       "{3, 4}"
      ]
     },
     "execution_count": 125,
     "metadata": {},
     "output_type": "execute_result"
    }
   ],
   "source": [
    "set([(len(str(num))) for num in df['Number Of Pediatric PD Patients With Kt/V Data']])"
   ]
  },
  {
   "cell_type": "markdown",
   "metadata": {},
   "source": [
    "### Pediatric PD Kt/V Data Availability Code\n",
    "Data type: float64 \n",
    "\n",
    "Value count: 7597\n",
    "\n",
    "Number of unique values: 4\n",
    "\n",
    "Percent unique values: 0.000009\n",
    "\n",
    "Ranges of values: 199, 201, 258, 259\n",
    "\n",
    "Length of values: 3\n",
    "\n",
    "Description: Lists whether the facility had sufficient pediatric PD Kt/V data available or the reason for why the data is not available. The parameter Kt/V is a measurement of the efficacy of a hemodialysis session. It identifies the effective removal of a specific solute (clearance K) resulting from a given treatment (characterized by time t) in a given patient (with a specific volume of distribution V for the solute considered).\n",
    "\n",
    "Value description:\n",
    "- 199 : Not enough patients to report on this measure. Call the dialysis center to discuss this measure.\n",
    "- 201 : Data not reported. Call the dialysis center to discuss this quality measure.\n",
    "- 258 : The dialysis center was not open long enough to supply sufficient measure data. \n",
    "- 259 : The dialysis center does not provide hemodialysis and/or peritoneal dialysis to pediatric patients during the reporting period."
   ]
  },
  {
   "cell_type": "code",
   "execution_count": 126,
   "metadata": {},
   "outputs": [
    {
     "data": {
      "text/plain": [
       "259.0    7311\n",
       "201.0     151\n",
       "199.0     124\n",
       "258.0     110\n",
       "Name: Pediatric PD Kt/V Data Availability Code, dtype: int64"
      ]
     },
     "execution_count": 126,
     "metadata": {},
     "output_type": "execute_result"
    }
   ],
   "source": [
    "df['Pediatric PD Kt/V Data Availability Code'].value_counts()"
   ]
  },
  {
   "cell_type": "markdown",
   "metadata": {},
   "source": [
    "### Number Of Pediatric PD Patient-Months With Kt/V Data\n",
    "Data type: float64\n",
    "\n",
    "Value count: 150\n",
    "\n",
    "Number of unique values: 81\n",
    "\n",
    "Percent unique values: 0.000180\n",
    "\n",
    "Ranges of values: 1 - \n",
    "\n",
    "Length of values: 1 - 3\n",
    "\n",
    "Description: Lists the number of pediatric PD patient months included in Kt/V greater than or equal to 1.8 summary. The parameter Kt/V is a measurement of the efficacy of a hemodialysis session. It identifies the effective removal of a specific solute (clearance K) resulting from a given treatment (characterized by time t) in a given patient (with a specific volume of distribution V for the solute considered)."
   ]
  },
  {
   "cell_type": "code",
   "execution_count": 127,
   "metadata": {},
   "outputs": [
    {
     "data": {
      "text/plain": [
       "{3, 4, 5}"
      ]
     },
     "execution_count": 127,
     "metadata": {},
     "output_type": "execute_result"
    }
   ],
   "source": [
    "set([(len(str(num))) for num in df['Number Of Pediatric PD Patient-Months With Kt/V Data']])"
   ]
  },
  {
   "cell_type": "markdown",
   "metadata": {},
   "source": [
    "### Percentage Of Pediatric PD Patients With Kt/V >= 1.8\n",
    "Data type: float64\n",
    "\n",
    "Value count: 29\n",
    "\n",
    "Number of unique values: 21\n",
    "\n",
    "Percent unique values: 0.000047\n",
    "\n",
    "Ranges of values: 23 - \n",
    "\n",
    "Length of values: 2, 3\n",
    "\n",
    "Description: Lists the percentage of pediatric PD patients with Kt/V greater than or equal to 1.8. The parameter Kt/V is a measurement of the efficacy of a hemodialysis session. It identifies the effective removal of a specific solute (clearance K) resulting from a given treatment (characterized by time t) in a given patient (with a specific volume of distribution V for the solute considered)."
   ]
  },
  {
   "cell_type": "code",
   "execution_count": 128,
   "metadata": {},
   "outputs": [
    {
     "data": {
      "text/plain": [
       "{3, 4, 5}"
      ]
     },
     "execution_count": 128,
     "metadata": {},
     "output_type": "execute_result"
    }
   ],
   "source": [
    "set([(len(str(num))) for num in df['Percentage Of Pediatric PD Patients With Kt/V >= 1.8']])"
   ]
  },
  {
   "cell_type": "markdown",
   "metadata": {},
   "source": [
    "### SIR Date\n",
    "Data type: object\n",
    "\n",
    "Value count: 7626\n",
    "\n",
    "Number of unique values: 1\n",
    "\n",
    "Percent unique values: 0.000002\n",
    "\n",
    "Ranges of values: \"01/01/2018 - 12/31/2018\"\n",
    "\n",
    "Length of values: 23\n",
    "\n",
    "Description: Lists the time period for patient infection summary (SIR)."
   ]
  },
  {
   "cell_type": "code",
   "execution_count": 129,
   "metadata": {},
   "outputs": [
    {
     "data": {
      "text/plain": [
       "01/01/2019 - 12/31/2019    7724\n",
       "Name: SIR Date, dtype: int64"
      ]
     },
     "execution_count": 129,
     "metadata": {},
     "output_type": "execute_result"
    }
   ],
   "source": [
    "df['SIR Date'].value_counts()"
   ]
  },
  {
   "cell_type": "code",
   "execution_count": 130,
   "metadata": {},
   "outputs": [
    {
     "data": {
      "text/plain": [
       "{23}"
      ]
     },
     "execution_count": 130,
     "metadata": {},
     "output_type": "execute_result"
    }
   ],
   "source": [
    "set([(len(str(num))) for num in df['SIR Date']])"
   ]
  },
  {
   "cell_type": "markdown",
   "metadata": {},
   "source": [
    "### Patient Infection Data Availability Code\n",
    "Data type: float64\n",
    "\n",
    "Value count: 1375\n",
    "\n",
    "Number of unique values: 3\n",
    "\n",
    "Percent unique values: 0.000007\n",
    "\n",
    "Ranges of values: 199, 201, 258\n",
    "\n",
    "Length of values: 3\n",
    "\n",
    "Description: Lists whether the facility had sufficient infection data available or the reason for why the data is not available.\n",
    "\n",
    "Value description:\n",
    "- 199 : Not enough patients to report on this measure. Call the dialysis center to discuss this measure.\n",
    "- 201 : Data not reported. Call the dialysis center to discuss this quality measure.\n",
    "- 258 : The dialysis center was not open long enough to supply sufficient measure data. "
   ]
  },
  {
   "cell_type": "code",
   "execution_count": 131,
   "metadata": {},
   "outputs": [
    {
     "data": {
      "text/plain": [
       "201.0    709\n",
       "258.0    393\n",
       "199.0    121\n",
       "Name: Patient Infection Data Availability Code, dtype: int64"
      ]
     },
     "execution_count": 131,
     "metadata": {},
     "output_type": "execute_result"
    }
   ],
   "source": [
    "df['Patient Infection Data Availability Code'].value_counts()"
   ]
  },
  {
   "cell_type": "markdown",
   "metadata": {},
   "source": [
    "### Patient Infection Category Text\n",
    "Data type: object\n",
    "\n",
    "Value count: 6251\n",
    "\n",
    "Number of unique values: 3\n",
    "\n",
    "Percent unique values: 0.000007\n",
    "\n",
    "Ranges of values: As Expected, Worse than Expected, Better than Expected\n",
    "\n",
    "Length of values: 3, 11, 19, 20\n",
    "\n",
    "Description: Patient infection category.\n",
    "\n",
    "Value description:\n",
    "- As Expected          : Patient infection categorized as “As Expected”       \n",
    "- Worse than Expected  :  Patient infection categorized as “Worse than Expected”\n",
    "- Better than Expected : Patient infection categorized as “Better than Expected\""
   ]
  },
  {
   "cell_type": "code",
   "execution_count": 132,
   "metadata": {},
   "outputs": [
    {
     "data": {
      "text/plain": [
       "As Expected             5011\n",
       "Better than Expected    1328\n",
       "Worse than Expected      162\n",
       "Name: Patient Infection Category Text, dtype: int64"
      ]
     },
     "execution_count": 132,
     "metadata": {},
     "output_type": "execute_result"
    }
   ],
   "source": [
    "df['Patient Infection Category Text'].value_counts()"
   ]
  },
  {
   "cell_type": "code",
   "execution_count": 133,
   "metadata": {},
   "outputs": [
    {
     "data": {
      "text/plain": [
       "{3, 11, 19, 20}"
      ]
     },
     "execution_count": 133,
     "metadata": {},
     "output_type": "execute_result"
    }
   ],
   "source": [
    "set([(len(str(num))) for num in df['Patient Infection Category Text']])"
   ]
  },
  {
   "cell_type": "markdown",
   "metadata": {},
   "source": [
    "### Standard Infection Ratio\n",
    "Data type: float64\n",
    "\n",
    "Value count: 6251\n",
    "\n",
    "Number of unique values: 336\n",
    "\n",
    "Percent unique values: 0.000747\n",
    "\n",
    "Ranges of values: 0.5 - \n",
    "\n",
    "Length of values: 1 - 5\n",
    "\n",
    "Description: Lists the facility’s Standardized Infection Ratio."
   ]
  },
  {
   "cell_type": "code",
   "execution_count": 134,
   "metadata": {},
   "outputs": [
    {
     "data": {
      "text/plain": [
       "{3, 4}"
      ]
     },
     "execution_count": 134,
     "metadata": {},
     "output_type": "execute_result"
    }
   ],
   "source": [
    "set([(len(str(num))) for num in df['Standard Infection Ratio']])"
   ]
  },
  {
   "cell_type": "markdown",
   "metadata": {},
   "source": [
    "### SIR: Upper Confidence Limit (97.5%)\n",
    "Data type: float64\n",
    "\n",
    "Value count: 6251\n",
    "\n",
    "Number of unique values: 602\n",
    "\n",
    "Percent unique values: 0.001338\n",
    "\n",
    "Ranges of values: 0.16 - \n",
    "\n",
    "Length of values: 1 - 5\n",
    "\n",
    "Description: Lists the upper confident limit (97.5%) for Standardized Infection Ratio (SIR)."
   ]
  },
  {
   "cell_type": "code",
   "execution_count": 135,
   "metadata": {},
   "outputs": [
    {
     "data": {
      "text/plain": [
       "{3, 4, 5}"
      ]
     },
     "execution_count": 135,
     "metadata": {},
     "output_type": "execute_result"
    }
   ],
   "source": [
    "set([(len(str(num))) for num in df['SIR: Upper Confidence Limit (97.5%)']])"
   ]
  },
  {
   "cell_type": "markdown",
   "metadata": {},
   "source": [
    "### SIR: Lower Confidence Limit (2.5%)\n",
    "Data type: float64\n",
    "\n",
    "Value count: 5368\n",
    "\n",
    "Number of unique values: 190\n",
    "\n",
    "Percent unique values: 0.000422\n",
    "\n",
    "Ranges of values: 0.01 - \n",
    "\n",
    "Length of values: 1 - 4\n",
    "\n",
    "Description: Lists the lower confident limit (2.5%) for Standardized Infection Ratio (SIR)."
   ]
  },
  {
   "cell_type": "code",
   "execution_count": 136,
   "metadata": {},
   "outputs": [
    {
     "data": {
      "text/plain": [
       "{3, 4}"
      ]
     },
     "execution_count": 136,
     "metadata": {},
     "output_type": "execute_result"
    }
   ],
   "source": [
    "set([(len(str(num))) for num in df['SIR: Lower Confidence Limit (2.5%)']])"
   ]
  },
  {
   "cell_type": "markdown",
   "metadata": {},
   "source": [
    "### Transfusion Rate (Facility)\n",
    "Data type: float64\n",
    "\n",
    "Value count: 6285\n",
    "\n",
    "Number of unique values: 717\n",
    "\n",
    "Percent unique values: 0.001594\n",
    "\n",
    "Ranges of values: 0 - \n",
    "\n",
    "Length of values: 1 - 5\n",
    "\n",
    "Description: Lists the facility’s transfusion rate per 100 patient-years."
   ]
  },
  {
   "cell_type": "code",
   "execution_count": 137,
   "metadata": {},
   "outputs": [
    {
     "data": {
      "text/plain": [
       "{3, 4, 5}"
      ]
     },
     "execution_count": 137,
     "metadata": {},
     "output_type": "execute_result"
    }
   ],
   "source": [
    "set([(len(str(num))) for num in df['Transfusion Rate (Facility)']])"
   ]
  },
  {
   "cell_type": "markdown",
   "metadata": {},
   "source": [
    "### Transfusion Rate: Upper Confidence Limit (97.5%)\n",
    "Data type: float64\n",
    "\n",
    "Value count: 6285\n",
    "\n",
    "Number of unique values: 1604\n",
    "\n",
    "Percent unique values: 0.003565 \n",
    "\n",
    "Ranges of values: 100 - \n",
    "\n",
    "Length of values: 2 - 5\n",
    "\n",
    "Description: Lists the upper confident limit (97.5%) for transfusion rate per 100 patient-years."
   ]
  },
  {
   "cell_type": "code",
   "execution_count": 138,
   "metadata": {},
   "outputs": [
    {
     "data": {
      "text/plain": [
       "{3, 4, 5}"
      ]
     },
     "execution_count": 138,
     "metadata": {},
     "output_type": "execute_result"
    }
   ],
   "source": [
    "set([(len(str(num))) for num in df['Transfusion Rate: Upper Confidence Limit (97.5%)']])"
   ]
  },
  {
   "cell_type": "markdown",
   "metadata": {},
   "source": [
    "### Transfusion Rate: Lower Confidence Limit (2.5%)\n",
    "Data type: float64\n",
    "\n",
    "Value count: 6285\n",
    "\n",
    "Number of unique values: 413\n",
    "\n",
    "Percent unique values: 0.000918\n",
    "\n",
    "Ranges of values: 0.1 - \n",
    "\n",
    "Length of values: 1 - 5\n",
    "\n",
    "Description: Lists the lower confident limit (2.5%) for transfusion rate per 100 patient-years."
   ]
  },
  {
   "cell_type": "code",
   "execution_count": 139,
   "metadata": {},
   "outputs": [
    {
     "data": {
      "text/plain": [
       "{3, 4, 5}"
      ]
     },
     "execution_count": 139,
     "metadata": {},
     "output_type": "execute_result"
    }
   ],
   "source": [
    "set([(len(str(num))) for num in df['Transfusion Rate: Lower Confidence Limit (2.5%)']])"
   ]
  },
  {
   "cell_type": "markdown",
   "metadata": {},
   "source": [
    "### Fistula Data Availability Code\n",
    "Data type: float64\n",
    "\n",
    "Value count: 711\n",
    "\n",
    "Number of unique values: 4\n",
    "\n",
    "Percent unique values: 0.000009\n",
    "\n",
    "Ranges of values: 199, 201, 256, 258\n",
    "\n",
    "Length of values: 3\n",
    "\n",
    "Description: Lists whether the facility had sufficient fistula data available or the reason for why the data is not available. The best type of long-term access is an AV fistula. A surgeon connects an artery to a vein, usually in your arm, to create an AV fistula. An artery is a blood vessel that carries blood away from your heart. A vein is a blood vessel that carries blood back toward your heart. When the surgeon connects an artery to a vein, the vein grows wider and thicker, making it easier to place the needles for dialysis. The AV fistula also has a large diameter that allows your blood to flow out and back into your body quickly. The goal is to allow high blood flow so that the largest amount of blood can pass through the dialyzer.\n",
    "\n",
    "Value description: \n",
    "- 199 : Not enough patients to report on this measure. Call the dialysis center to discuss this measure.\n",
    "- 201 : Data not reported. Call the dialysis center to discuss this quality measure.\n",
    "- 256 : The dialysis center does not provide hemodialysis during the reporting period. \n",
    "- 258 : The dialysis center was not open long enough to supply sufficient measure data. "
   ]
  },
  {
   "cell_type": "code",
   "execution_count": 140,
   "metadata": {},
   "outputs": [
    {
     "data": {
      "text/plain": [
       "258.0    274\n",
       "199.0    261\n",
       "256.0    113\n",
       "201.0     57\n",
       "255.0      2\n",
       "Name: Fistula Data Availability Code, dtype: int64"
      ]
     },
     "execution_count": 140,
     "metadata": {},
     "output_type": "execute_result"
    }
   ],
   "source": [
    "df['Fistula Data Availability Code'].value_counts()"
   ]
  },
  {
   "cell_type": "markdown",
   "metadata": {},
   "source": [
    "### Fistula Category Text\n",
    "Data type: object\n",
    "\n",
    "Value count: 6915\n",
    "\n",
    "Number of unique values: 3\n",
    "\n",
    "Percent unique values: 0.000007\n",
    "\n",
    "Ranges of values: As Expected, Worse than Expected, Better than Expected\n",
    "\n",
    "Length of values: 3, 11, 19, 20\n",
    "\n",
    "Description: Fistula category. The best type of long-term access is an AV fistula. A surgeon connects an artery to a vein, usually in your arm, to create an AV fistula. An artery is a blood vessel that carries blood away from your heart. A vein is a blood vessel that carries blood back toward your heart. When the surgeon connects an artery to a vein, the vein grows wider and thicker, making it easier to place the needles for dialysis. The AV fistula also has a large diameter that allows your blood to flow out and back into your body quickly. The goal is to allow high blood flow so that the largest amount of blood can pass through the dialyzer.\n",
    "\n",
    "Value description:\n",
    "- As Expected          : Patient fistulas categorized as “As Expected”       \n",
    "- Worse than Expected  :  Patient fistulas categorized as “Worse than Expected”\n",
    "- Better than Expected : Patient fistulas categorized as “Better than Expected\""
   ]
  },
  {
   "cell_type": "code",
   "execution_count": 141,
   "metadata": {},
   "outputs": [
    {
     "data": {
      "text/plain": [
       "As Expected             6517\n",
       "Better than Expected     290\n",
       "Worse than Expected      210\n",
       "Name: Fistula Category Text, dtype: int64"
      ]
     },
     "execution_count": 141,
     "metadata": {},
     "output_type": "execute_result"
    }
   ],
   "source": [
    "df['Fistula Category Text'].value_counts()"
   ]
  },
  {
   "cell_type": "code",
   "execution_count": 142,
   "metadata": {},
   "outputs": [
    {
     "data": {
      "text/plain": [
       "{3, 11, 19, 20}"
      ]
     },
     "execution_count": 142,
     "metadata": {},
     "output_type": "execute_result"
    }
   ],
   "source": [
    "set([(len(str(num))) for num in df['Fistula Category Text']])"
   ]
  },
  {
   "cell_type": "markdown",
   "metadata": {},
   "source": [
    "### Number Of Patients Included In Fistula Summary\n",
    "Data type: float64\n",
    "\n",
    "Value count: 7555\n",
    "\n",
    "Number of unique values: 292\n",
    "\n",
    "Percent unique values: 0.000649\n",
    "\n",
    "Ranges of values: 0 - \n",
    "\n",
    "Length of values: 1 - 3\n",
    "\n",
    "Description: Lists the number of patients included in the facility’s fistula summary. The best type of long-term access is an AV fistula. A surgeon connects an artery to a vein, usually in your arm, to create an AV fistula. An artery is a blood vessel that carries blood away from your heart. A vein is a blood vessel that carries blood back toward your heart. When the surgeon connects an artery to a vein, the vein grows wider and thicker, making it easier to place the needles for dialysis. The AV fistula also has a large diameter that allows your blood to flow out and back into your body quickly. The goal is to allow high blood flow so that the largest amount of blood can pass through the dialyzer."
   ]
  },
  {
   "cell_type": "code",
   "execution_count": 143,
   "metadata": {},
   "outputs": [
    {
     "data": {
      "text/plain": [
       "{3, 4, 5}"
      ]
     },
     "execution_count": 143,
     "metadata": {},
     "output_type": "execute_result"
    }
   ],
   "source": [
    "set([(len(str(num))) for num in df['Number Of Patients Included In Fistula Summary']])"
   ]
  },
  {
   "cell_type": "markdown",
   "metadata": {},
   "source": [
    "### Fistula Rate (Facility)\n",
    "Data type: float64\n",
    "\n",
    "Value count: 6915\n",
    "\n",
    "Number of unique values: 587\n",
    "\n",
    "Percent unique values: 0.001305\n",
    "\n",
    "Ranges of values: 0 - \n",
    "\n",
    "Length of values: 1 - 4\n",
    "\n",
    "Description: Lists the facility’s fistula rate per 100 patient-years. The best type of long-term access is an AV fistula. A surgeon connects an artery to a vein, usually in your arm, to create an AV fistula. An artery is a blood vessel that carries blood away from your heart. A vein is a blood vessel that carries blood back toward your heart. When the surgeon connects an artery to a vein, the vein grows wider and thicker, making it easier to place the needles for dialysis. The AV fistula also has a large diameter that allows your blood to flow out and back into your body quickly. The goal is to allow high blood flow so that the largest amount of blood can pass through the dialyzer."
   ]
  },
  {
   "cell_type": "code",
   "execution_count": 144,
   "metadata": {},
   "outputs": [
    {
     "data": {
      "text/plain": [
       "{3, 4, 5}"
      ]
     },
     "execution_count": 144,
     "metadata": {},
     "output_type": "execute_result"
    }
   ],
   "source": [
    "set([(len(str(num))) for num in df['Fistula Rate (Facility)']])"
   ]
  },
  {
   "cell_type": "markdown",
   "metadata": {},
   "source": [
    "### Fistula Rate: Upper Confidence Limit (97.5%)\n",
    "Data type: float64\n",
    "\n",
    "Value count: 6915\n",
    "\n",
    "Number of unique values: 487\n",
    "\n",
    "Percent unique values: 0.001082\n",
    "\n",
    "Ranges of values: 0 - \n",
    "\n",
    "Length of values: 1 - 4\n",
    "\n",
    "Description: Lists the upper confident limit (97.5%) for fistula rate per 100 patient-years. The best type of long-term access is an AV fistula. A surgeon connects an artery to a vein, usually in your arm, to create an AV fistula. An artery is a blood vessel that carries blood away from your heart. A vein is a blood vessel that carries blood back toward your heart. When the surgeon connects an artery to a vein, the vein grows wider and thicker, making it easier to place the needles for dialysis. The AV fistula also has a large diameter that allows your blood to flow out and back into your body quickly. The goal is to allow high blood flow so that the largest amount of blood can pass through the dialyzer."
   ]
  },
  {
   "cell_type": "code",
   "execution_count": 145,
   "metadata": {},
   "outputs": [
    {
     "data": {
      "text/plain": [
       "{3, 4, 5}"
      ]
     },
     "execution_count": 145,
     "metadata": {},
     "output_type": "execute_result"
    }
   ],
   "source": [
    "set([(len(str(num))) for num in df['Fistula Rate: Upper Confidence Limit (97.5%)']])"
   ]
  },
  {
   "cell_type": "markdown",
   "metadata": {},
   "source": [
    "### Fistula Rate: Lower Confidence Limit (2.5%)\n",
    "Data type: float64\n",
    "\n",
    "Value count: 6915\n",
    "\n",
    "Number of unique values: 727\n",
    "\n",
    "Percent unique values: 0.001616\n",
    "\n",
    "Ranges of values: 0.1 - \n",
    "\n",
    "Length of values: 1 - 4\n",
    "\n",
    "Description: Lists the lower confident limit (2.5%) for fistula rate per 100 patient-years. The best type of long-term access is an AV fistula. A surgeon connects an artery to a vein, usually in your arm, to create an AV fistula. An artery is a blood vessel that carries blood away from your heart. A vein is a blood vessel that carries blood back toward your heart. When the surgeon connects an artery to a vein, the vein grows wider and thicker, making it easier to place the needles for dialysis. The AV fistula also has a large diameter that allows your blood to flow out and back into your body quickly. The goal is to allow high blood flow so that the largest amount of blood can pass through the dialyzer."
   ]
  },
  {
   "cell_type": "code",
   "execution_count": 146,
   "metadata": {},
   "outputs": [
    {
     "data": {
      "text/plain": [
       "{3, 4, 5}"
      ]
     },
     "execution_count": 146,
     "metadata": {},
     "output_type": "execute_result"
    }
   ],
   "source": [
    "set([(len(str(num))) for num in df['Fistula Rate: Lower Confidence Limit (2.5%)']])"
   ]
  },
  {
   "cell_type": "markdown",
   "metadata": {},
   "source": [
    "### Number Of Patients In Long Term Catheter Summary\n",
    "Data type: float64\n",
    "\n",
    "Value count: 7555\n",
    "\n",
    "Number of unique values: 292\n",
    "\n",
    "Percent unique values: 0.000649\n",
    "\n",
    "Ranges of values: 0 - \n",
    "\n",
    "Length of values: 1 - 3\n",
    "\n",
    "Description: Lists the number of patients included in the facility’s long term catheter summary. "
   ]
  },
  {
   "cell_type": "code",
   "execution_count": 147,
   "metadata": {},
   "outputs": [
    {
     "data": {
      "text/plain": [
       "{3, 4, 5}"
      ]
     },
     "execution_count": 147,
     "metadata": {},
     "output_type": "execute_result"
    }
   ],
   "source": [
    "set([(len(str(num))) for num in df['Number Of Patients In Long Term Catheter Summary']])"
   ]
  },
  {
   "cell_type": "markdown",
   "metadata": {},
   "source": [
    "### Number Of Patient-Months In Long Term Catheter Summary\n",
    "Data type: float64\n",
    "\n",
    "Value count: 7298\n",
    "\n",
    "Number of unique values: 1780\n",
    "\n",
    "Percent unique values: 0.003956\n",
    "\n",
    "Ranges of values: 1 - \n",
    "\n",
    "Length of values: 1 - 4\n",
    "\n",
    "Description: Lists the number of patient-months included in the facility’s long term catheter summary. "
   ]
  },
  {
   "cell_type": "code",
   "execution_count": 148,
   "metadata": {},
   "outputs": [
    {
     "data": {
      "text/plain": [
       "{3, 4, 5, 6}"
      ]
     },
     "execution_count": 148,
     "metadata": {},
     "output_type": "execute_result"
    }
   ],
   "source": [
    "set([(len(str(num))) for num in df['Number Of Patient-Months In Long Term Catheter Summary']])"
   ]
  },
  {
   "cell_type": "markdown",
   "metadata": {},
   "source": [
    "### Long Term Catheter Data Availability Code\n",
    "Data type: float64\n",
    "\n",
    "Value count: 711\n",
    "\n",
    "Number of unique values: 4\n",
    "\n",
    "Percent unique values: 0.000009\n",
    "\n",
    "Ranges of values: 199, 201, 256, 258\n",
    "\n",
    "Length of values: 3\n",
    "\n",
    "Description: Lists whether the facility had sufficient long term catheter data available or the reason for why the data is not available.\n",
    "\n",
    "Value description: \n",
    "- 199 : Not enough patients to report on this measure. Call the dialysis center to discuss this measure.\n",
    "- 201 : Data not reported. Call the dialysis center to discuss this quality measure.\n",
    "- 256 : The dialysis center does not provide hemodialysis during the reporting period. \n",
    "- 258 : The dialysis center was not open long enough to supply sufficient measure data. "
   ]
  },
  {
   "cell_type": "code",
   "execution_count": 149,
   "metadata": {},
   "outputs": [
    {
     "data": {
      "text/plain": [
       "258.0    264\n",
       "199.0    261\n",
       "256.0    123\n",
       "201.0     57\n",
       "255.0      2\n",
       "Name: Long Term Catheter Data Availability Code, dtype: int64"
      ]
     },
     "execution_count": 149,
     "metadata": {},
     "output_type": "execute_result"
    }
   ],
   "source": [
    "df['Long Term Catheter Data Availability Code'].value_counts()"
   ]
  },
  {
   "cell_type": "markdown",
   "metadata": {},
   "source": [
    "### Percentage Of Adult Patients With Long Term Catheter In Use\n",
    "Data type: float64\n",
    "\n",
    "Value count: 6915\n",
    "\n",
    "Number of unique values: 67\n",
    "\n",
    "Percent unique values: 0.000149\n",
    "\n",
    "Ranges of values: 0 - \n",
    "\n",
    "Length of values: 1 - 3\n",
    "\n",
    "Description: Lists the percentage of adult patients with long term catheter in use."
   ]
  },
  {
   "cell_type": "code",
   "execution_count": 150,
   "metadata": {},
   "outputs": [
    {
     "data": {
      "text/plain": [
       "{3, 4}"
      ]
     },
     "execution_count": 150,
     "metadata": {},
     "output_type": "execute_result"
    }
   ],
   "source": [
    "set([(len(str(num))) for num in df['Percentage Of Adult Patients With Long Term Catheter In Use']])"
   ]
  },
  {
   "cell_type": "markdown",
   "metadata": {},
   "source": [
    "### Number Of Patients In nPCR Summary\n",
    "Data type: float64\n",
    "\n",
    "Value count: 7555 \n",
    "\n",
    "Number of unique values: 25\n",
    "\n",
    "Percent unique values: 0.000056\n",
    "\n",
    "Ranges of values: 0 - \n",
    "\n",
    "Length of values: 1 - 3\n",
    "\n",
    "Description: \n",
    "Lists the number of patients included in the facility's normalized protein catabolic rate (nPCR) summary. The normalized protein catabolic rate (nPCR) is a formula commonly used to assess dietary protein intake in dialysis patients, as a means towards determining nutritional adequacy, a major problem in many ESRD patients. \n",
    "The nPCR is reported in grams of urea nitrogen per kilogram per day.\n",
    "Most guidelines specify maintaining the protein intake above 1.0 – 1.2 g/kg/day in dialysis patients, with values less than 0.8 g/kg/day being equated with malnutrition."
   ]
  },
  {
   "cell_type": "code",
   "execution_count": 151,
   "metadata": {},
   "outputs": [
    {
     "data": {
      "text/plain": [
       "{3, 4}"
      ]
     },
     "execution_count": 151,
     "metadata": {},
     "output_type": "execute_result"
    }
   ],
   "source": [
    "set([(len(str(num))) for num in df['Number Of Patients In nPCR Summary']])"
   ]
  },
  {
   "cell_type": "markdown",
   "metadata": {},
   "source": [
    "### Number Of Patient-Months In nPCR Summary\n",
    "Data type: float64\n",
    "\n",
    "Value count: 224\n",
    "\n",
    "Number of unique values: 73\n",
    "\n",
    "Percent unique values: 0.000162\n",
    "\n",
    "Ranges of values: 1 - \n",
    "\n",
    "Length of values: 1 - 3\n",
    "\n",
    "Description: Lists the number of patient-months included in the facility's patients included in the facility's normalized protein catabolic rate (nPCR) summary. The normalized protein catabolic rate (nPCR) is a formula commonly used to assess dietary protein intake in dialysis patients, as a means towards determining nutritional adequacy, a major problem in many ESRD patients. \n",
    "The nPCR is reported in grams of urea nitrogen per kilogram per day.\n",
    "Most guidelines specify maintaining the protein intake above 1.0 – 1.2 g/kg/day in dialysis patients, with values less than 0.8 g/kg/day being equated with malnutrition."
   ]
  },
  {
   "cell_type": "code",
   "execution_count": 152,
   "metadata": {},
   "outputs": [
    {
     "data": {
      "text/plain": [
       "{3, 4, 5}"
      ]
     },
     "execution_count": 152,
     "metadata": {},
     "output_type": "execute_result"
    }
   ],
   "source": [
    "set([(len(str(num))) for num in df['Number Of Patient-Months In nPCR Summary']])"
   ]
  },
  {
   "cell_type": "markdown",
   "metadata": {},
   "source": [
    "### nPCR Data Availability Code\n",
    "Data type: float64\n",
    "\n",
    "Value count: 7600\n",
    "\n",
    "Number of unique values: 4\n",
    "\n",
    "Percent unique values: 0.000009\n",
    "\n",
    "Ranges of values: 199, 201, 258, 259\n",
    "\n",
    "Length of values: 3\n",
    "\n",
    "Description: Lists whether the facility had sufficient normalized protein catabolic rate (nPCR) data available or the reason for why the data is not available. The normalized protein catabolic rate (nPCR) is a formula commonly used to assess dietary protein intake in dialysis patients, as a means towards determining nutritional adequacy, a major problem in many ESRD patients. \n",
    "The nPCR is reported in grams of urea nitrogen per kilogram per day.\n",
    "Most guidelines specify maintaining the protein intake above 1.0 – 1.2 g/kg/day in dialysis patients, with values less than 0.8 g/kg/day being equated with malnutrition.\n",
    "\n",
    "Value description:\n",
    "- 199 : Not enough patients to report on this measure. Call the dialysis center to discuss this measure.\n",
    "- 201 : Data not reported. Call the dialysis center to discuss this quality measure.\n",
    "- 258 : The dialysis center was not open long enough to supply sufficient measure data. \n",
    "- 259 : The dialysis center does not provide hemodialysis and/or peritoneal dialysis to pediatric patients during the reporting period."
   ]
  },
  {
   "cell_type": "code",
   "execution_count": 153,
   "metadata": {},
   "outputs": [
    {
     "data": {
      "text/plain": [
       "259.0    7153\n",
       "201.0     240\n",
       "199.0     185\n",
       "258.0     115\n",
       "Name: nPCR Data Availability Code, dtype: int64"
      ]
     },
     "execution_count": 153,
     "metadata": {},
     "output_type": "execute_result"
    }
   ],
   "source": [
    "df['nPCR Data Availability Code'].value_counts()"
   ]
  },
  {
   "cell_type": "markdown",
   "metadata": {},
   "source": [
    "### Percentage Of Pediatric HD Patients With nPCR\n",
    "Data type: float64\n",
    "\n",
    "Value count: 26\n",
    "\n",
    "Number of unique values: 14\n",
    "\n",
    "Percent unique values: 0.000031\n",
    "\n",
    "Ranges of values: 100 -\n",
    "\n",
    "Length of values: 2 - 3\n",
    "\n",
    "Description: Lists the percentage of pediatric HD patients with normalized protein catabolic rate (nPCR). The normalized protein catabolic rate (nPCR) is a formula commonly used to assess dietary protein intake in dialysis patients, as a means towards determining nutritional adequacy, a major problem in many ESRD patients. \n",
    "The nPCR is reported in grams of urea nitrogen per kilogram per day.\n",
    "Most guidelines specify maintaining the protein intake above 1.0 – 1.2 g/kg/day in dialysis patients, with values less than 0.8 g/kg/day being equated with malnutrition."
   ]
  },
  {
   "cell_type": "code",
   "execution_count": 154,
   "metadata": {},
   "outputs": [
    {
     "data": {
      "text/plain": [
       "{3, 4, 5}"
      ]
     },
     "execution_count": 154,
     "metadata": {},
     "output_type": "execute_result"
    }
   ],
   "source": [
    "set([(len(str(num))) for num in df['Percentage Of Pediatric HD Patients With nPCR']])"
   ]
  },
  {
   "cell_type": "markdown",
   "metadata": {},
   "source": [
    "### SWR Date\n",
    "Data type: object\n",
    "\n",
    "Value count: 7626\n",
    "\n",
    "Number of unique values: 1\n",
    "\n",
    "Percent unique values: 0.000002\n",
    "\n",
    "Ranges of values: \"01/01/2015 - 12/31/2017\"\n",
    "\n",
    "Length of values: 23\n",
    "\n",
    "Description: Years Patient Transplant Waitlist Is Based Upon. Standardized Waitlist Ratio (SWR) measure tracks the number of incident patients at the dialysis facility under the age of 75 listed on the kidney or kidney-pancreas transplant waitlist or who received a living donor transplant within the first year of initiating dialysis. SWR is calculated to compare the observed waitlisting rate in the facility to the waitlisting rate that was expected."
   ]
  },
  {
   "cell_type": "code",
   "execution_count": 155,
   "metadata": {},
   "outputs": [
    {
     "data": {
      "text/plain": [
       "01/01/2016 - 12/31/2018    7724\n",
       "Name: SWR Date, dtype: int64"
      ]
     },
     "execution_count": 155,
     "metadata": {},
     "output_type": "execute_result"
    }
   ],
   "source": [
    "df['SWR Date'].value_counts()"
   ]
  },
  {
   "cell_type": "code",
   "execution_count": 156,
   "metadata": {},
   "outputs": [
    {
     "data": {
      "text/plain": [
       "{23}"
      ]
     },
     "execution_count": 156,
     "metadata": {},
     "output_type": "execute_result"
    }
   ],
   "source": [
    "set([(len(str(num))) for num in df['SWR Date']])"
   ]
  },
  {
   "cell_type": "markdown",
   "metadata": {},
   "source": [
    "### SWR Category Text\n",
    "Data type: object\n",
    "\n",
    "Value count: 4111\n",
    "\n",
    "Number of unique values: 3\n",
    "\n",
    "Percent unique values: 0.000007\n",
    "\n",
    "Ranges of values: As Expected, Worse than Expected, Better than Expected\n",
    "\n",
    "Length of values: 3, 11, 19, 20\n",
    "\n",
    "Description: Standardized waitlist ratio (SWR) category text. The standardized waitlist ratio (SWR) measure tracks the number of incident patients at the dialysis facility under the age of 75 listed on the kidney or kidney-pancreas transplant waitlist or who received a living donor transplant within the first year of initiating dialysis. SWR is calculated to compare the observed waitlisting rate in the facility to the waitlisting rate that was expected. \n",
    "\n",
    "Value description:\n",
    "- As Expected          : Patient standardized waitlist ratio (SWR) categorized as “As Expected”       \n",
    "- Worse than Expected  :  Patient standardized waitlist ratio (SWR) categorized as “Worse than Expected”\n",
    "- Better than Expected : Patient standardized waitlist ratio (SWR) categorized as “Better than Expected\""
   ]
  },
  {
   "cell_type": "code",
   "execution_count": 157,
   "metadata": {},
   "outputs": [
    {
     "data": {
      "text/plain": [
       "As Expected             3623\n",
       "Better than Expected     303\n",
       "Worse than Expected      238\n",
       "Name: SWR Category Text, dtype: int64"
      ]
     },
     "execution_count": 157,
     "metadata": {},
     "output_type": "execute_result"
    }
   ],
   "source": [
    "df['SWR Category Text'].value_counts()"
   ]
  },
  {
   "cell_type": "code",
   "execution_count": 158,
   "metadata": {},
   "outputs": [
    {
     "data": {
      "text/plain": [
       "{3, 11, 19, 20}"
      ]
     },
     "execution_count": 158,
     "metadata": {},
     "output_type": "execute_result"
    }
   ],
   "source": [
    "set([(len(str(num))) for num in df['SWR Category Text']])"
   ]
  },
  {
   "cell_type": "markdown",
   "metadata": {},
   "source": [
    "### Patient Transplant Waitlist Data Availability Code\n",
    "Data type: float64\n",
    "\n",
    "Value count: 3515\n",
    "\n",
    "Number of unique values: 4\n",
    "\n",
    "Percent unique values: 0.000009\n",
    "\n",
    "Ranges of values: 199, 201, 255, 258\n",
    "\n",
    "Length of values: 3\n",
    "\n",
    "Description: Lists whether the facility had sufficient patient transplant waitlist data available or\n",
    "the reason for why the data is not available.\n",
    "\n",
    "Value description:\n",
    "- 199 : Not enough patients to report on this measure. Call the dialysis center to discuss this measure.\n",
    "- 201 : Data not reported. Call the dialysis center to discuss this quality measure. \n",
    "- 255 : Medicare determined that the percentage reported was not accurate.\n",
    "- 258 : The dialysis center was not open long enough to supply sufficient measure data."
   ]
  },
  {
   "cell_type": "code",
   "execution_count": 159,
   "metadata": {},
   "outputs": [
    {
     "data": {
      "text/plain": [
       "199.0    3012\n",
       "258.0     416\n",
       "201.0     132\n",
       "Name: Patient Transplant Waitlist Data Availability Code, dtype: int64"
      ]
     },
     "execution_count": 159,
     "metadata": {},
     "output_type": "execute_result"
    }
   ],
   "source": [
    "df['Patient Transplant Waitlist Data Availability Code'].value_counts()"
   ]
  },
  {
   "cell_type": "markdown",
   "metadata": {},
   "source": [
    "### 95% C.I. (Upper Limit) For SWR\n",
    "Data type: float64\n",
    "\n",
    "Value count: 4111\n",
    "\n",
    "Number of unique values: 593\n",
    "\n",
    "Percent unique values: 0.001318\n",
    "\n",
    "Ranges of values: 0.23 - \n",
    "\n",
    "Length of values: 1 - 5\n",
    "\n",
    "Description: Lists the upper confident interval limit (95%) for Standardized Waitlist Ratio (SWR) rate per 100 patient-years. The Standardized Waitlist Ratio (SWR) measure tracks the number of incident patients at the dialysis facility under the age of 75 listed on the kidney or kidney-pancreas transplant waitlist or who received a living donor transplant within the first year of initiating dialysis. SWR is calculated to compare the observed waitlisting rate in the facility to the waitlisting rate that was expected. "
   ]
  },
  {
   "cell_type": "code",
   "execution_count": 160,
   "metadata": {},
   "outputs": [
    {
     "data": {
      "text/plain": [
       "{3, 4, 5}"
      ]
     },
     "execution_count": 160,
     "metadata": {},
     "output_type": "execute_result"
    }
   ],
   "source": [
    "set([(len(str(num))) for num in df['95% C.I. (Upper Limit) For SWR']])"
   ]
  },
  {
   "cell_type": "markdown",
   "metadata": {},
   "source": [
    "### 95% C.I. (Lower Limit) For SWR\n",
    "Data type: float64\n",
    "\n",
    "Value count: 4111\n",
    "\n",
    "Number of unique values: 214\n",
    "\n",
    "Percent unique values: 0.511%\n",
    "\n",
    "Ranges of values: 0.000476 \n",
    "\n",
    "Length of values: 1 - 4\n",
    "\n",
    "Description: Lists the lower confident interval limit (95%) for Standardized Waitlist Ratio (SWR) rate per 100 patient-years. The Standardized Waitlist Ratio (SWR) measure tracks the number of incident patients at the dialysis facility under the age of 75 listed on the kidney or kidney-pancreas transplant waitlist or who received a living donor transplant within the first year of initiating dialysis. SWR is calculated to compare the observed waitlisting rate in the facility to the waitlisting rate that was expected. "
   ]
  },
  {
   "cell_type": "code",
   "execution_count": 161,
   "metadata": {},
   "outputs": [
    {
     "data": {
      "text/plain": [
       "{3, 4}"
      ]
     },
     "execution_count": 161,
     "metadata": {},
     "output_type": "execute_result"
    }
   ],
   "source": [
    "set([(len(str(num))) for num in df['95% C.I. (Lower Limit) For SWR']])"
   ]
  },
  {
   "cell_type": "markdown",
   "metadata": {},
   "source": [
    "### Number Of Patients In This Facility For SWR\n",
    "Data type: float64\n",
    "\n",
    "Value count: 7554\n",
    "\n",
    "Number of unique values: 145\n",
    "\n",
    "Percent unique values: 0.000322\n",
    "\n",
    "Ranges of values: 0 - \n",
    "\n",
    "Length of values: 1 - 3\n",
    "\n",
    "Description: Lists the number of patients in this facility for Standardized Waitlist Ratio (SWR). The Standardized Waitlist Ratio (SWR) measure tracks the number of incident patients at the dialysis facility under the age of 75 listed on the kidney or kidney-pancreas transplant waitlist or who received a living donor transplant within the first year of initiating dialysis. SWR is calculated to compare the observed waitlisting rate in the facility to the waitlisting rate that was expected. "
   ]
  },
  {
   "cell_type": "code",
   "execution_count": 162,
   "metadata": {},
   "outputs": [
    {
     "data": {
      "text/plain": [
       "{3, 4, 5}"
      ]
     },
     "execution_count": 162,
     "metadata": {},
     "output_type": "execute_result"
    }
   ],
   "source": [
    "set([(len(str(num))) for num in df['Number Of Patients In This Facility For SWR']])"
   ]
  },
  {
   "cell_type": "markdown",
   "metadata": {},
   "source": [
    "### Standardized First Kidney Transplant Waitlist Ratio\n",
    "Data type: float64\n",
    "\n",
    "Value count: 4111\n",
    "\n",
    "Number of unique values: 360\n",
    "\n",
    "Percent unique values: 0.000800\n",
    "\n",
    "Ranges of values: 0.08 - \n",
    "\n",
    "Length of values: 1 - 4\n",
    "\n",
    "Description: Lists the ratio of standardized waitlist ratio (SWR) in this facility. This measure tracks the number of incident patients at the dialysis facility under the age of 75 listed on the kidney or kidney-pancreas transplant waitlist or who received living donor transplants within the first year of initiating dialysis. "
   ]
  },
  {
   "cell_type": "code",
   "execution_count": 163,
   "metadata": {},
   "outputs": [
    {
     "data": {
      "text/plain": [
       "{3, 4}"
      ]
     },
     "execution_count": 163,
     "metadata": {},
     "output_type": "execute_result"
    }
   ],
   "source": [
    "set([(len(str(num))) for num in df['Standardized First Kidney Transplant Waitlist Ratio']])"
   ]
  },
  {
   "cell_type": "markdown",
   "metadata": {},
   "source": [
    "### PPPW Category Text\n",
    "Data type: object\n",
    "\n",
    "Value count: 7178\n",
    "\n",
    "Number of unique values: 3\n",
    "\n",
    "Percent unique values: 0.000007\n",
    "\n",
    "Ranges of values: As Expected, Worse than Expected, Better than Expected\n",
    "\n",
    "Length of values: 3, 11, 19, 20\n",
    "\n",
    "Description: Percentage of prevalent patients waitlisted (PPPW) category text. The PPPW measure tracks the percentage of patients at each dialysis facility who were on the kidney or kidney-pancreas transplant waiting list. Results are averaged across patients prevalent on the last day of each month during the reporting year, adjusted for age.\n",
    "\n",
    "Value description:\n",
    "- As Expected          : Patient percentage of prevalent patients waitlisted (PPPW) categorized as “As Expected”       \n",
    "- Worse than Expected  :  Patient percentage of prevalent patients waitlisted (PPPW) categorized as “Worse than Expected”\n",
    "- Better than Expected : Patient percentage of prevalent patients waitlisted (PPPW) categorized as “Better than Expected\""
   ]
  },
  {
   "cell_type": "code",
   "execution_count": 164,
   "metadata": {},
   "outputs": [
    {
     "data": {
      "text/plain": [
       "As Expected             6659\n",
       "Better than Expected     478\n",
       "Worse than Expected      174\n",
       "Name: PPPW Category Text, dtype: int64"
      ]
     },
     "execution_count": 164,
     "metadata": {},
     "output_type": "execute_result"
    }
   ],
   "source": [
    "df['PPPW Category Text'].value_counts()"
   ]
  },
  {
   "cell_type": "code",
   "execution_count": 165,
   "metadata": {},
   "outputs": [
    {
     "data": {
      "text/plain": [
       "{3, 11, 19, 20}"
      ]
     },
     "execution_count": 165,
     "metadata": {},
     "output_type": "execute_result"
    }
   ],
   "source": [
    "set([(len(str(num))) for num in df['PPPW Category Text']])"
   ]
  },
  {
   "cell_type": "markdown",
   "metadata": {},
   "source": [
    "### Patient Prevalent Transplant Waitlist Data Availability Code\n",
    "Data type: float64\n",
    "\n",
    "Value count: 448\n",
    "\n",
    "Number of unique values: 3\n",
    "\n",
    "Percent unique values: 0.000007\n",
    "\n",
    "Ranges of values: 199, 201, 258\n",
    "\n",
    "Length of values: 3\n",
    "\n",
    "Description: Lists whether the facility had sufficient patient prevalent transplant waitlist data available or the reason for why the data is not available.\n",
    "\n",
    "Value description:\n",
    "- 199 : Not enough patients to report on this measure. Call the dialysis center to discuss this measure.\n",
    "- 201 : Data not reported. Call the dialysis center to discuss this quality measure. \n",
    "- 258 : The dialysis center was not open long enough to supply sufficient measure data."
   ]
  },
  {
   "cell_type": "code",
   "execution_count": 166,
   "metadata": {},
   "outputs": [
    {
     "data": {
      "text/plain": [
       "258.0    262\n",
       "199.0    132\n",
       "201.0     18\n",
       "255.0      1\n",
       "Name: Patient Prevalent Transplant Waitlist Data Availability Code, dtype: int64"
      ]
     },
     "execution_count": 166,
     "metadata": {},
     "output_type": "execute_result"
    }
   ],
   "source": [
    "df['Patient Prevalent Transplant Waitlist Data Availability Code'].value_counts()"
   ]
  },
  {
   "cell_type": "markdown",
   "metadata": {},
   "source": [
    "### 95% C.I. (Upper Limit) For PPPW\n",
    "Data type: float64\n",
    "\n",
    "Value count: 7178\n",
    "\n",
    "Number of unique values: 766\n",
    "\n",
    "Percent unique values: 0.001702\n",
    "\n",
    "Ranges of values: 0 - \n",
    "\n",
    "Length of values: 1 - 4\n",
    "\n",
    "Description: Lists the upper confident interval limit (95%) for Percentage of Prevalent Patients Waitlisted (PPPW) rate per 100 patient-years. The PPPW measure tracks the percentage of patients at each dialysis facility who were on the kidney or kidney-pancreas transplant waiting list. Results are averaged across patients prevalent on the last day of each month during the reporting year, adjusted for age."
   ]
  },
  {
   "cell_type": "code",
   "execution_count": 167,
   "metadata": {},
   "outputs": [
    {
     "data": {
      "text/plain": [
       "{3, 4}"
      ]
     },
     "execution_count": 167,
     "metadata": {},
     "output_type": "execute_result"
    }
   ],
   "source": [
    "set([(len(str(num))) for num in df['95% C.I. (Upper Limit) For PPPW']])"
   ]
  },
  {
   "cell_type": "markdown",
   "metadata": {},
   "source": [
    "### 95% C.I. (Lower Limit) For PPPW\n",
    "Data type: float64\n",
    "\n",
    "Value count: 7178\n",
    "\n",
    "Number of unique values: 355\n",
    "\n",
    "Percent unique values: 0.000789\n",
    "\n",
    "Ranges of values: 0.1 - \n",
    "\n",
    "Length of values: 1 - 4\n",
    "\n",
    "Description: Lists the lower confident interval limit (95%) for Percentage of Prevalent Patients Waitlisted (PPPW) rate per 100 patient-years. The PPPW measure tracks the percentage of patients at each dialysis facility who were on the kidney or kidney-pancreas transplant waiting list. Results are averaged across patients prevalent on the last day of each month during the reporting year, adjusted for age."
   ]
  },
  {
   "cell_type": "code",
   "execution_count": 168,
   "metadata": {},
   "outputs": [
    {
     "data": {
      "text/plain": [
       "{3, 4}"
      ]
     },
     "execution_count": 168,
     "metadata": {},
     "output_type": "execute_result"
    }
   ],
   "source": [
    "set([(len(str(num))) for num in df['95% C.I. (Lower Limit) For PPPW']])"
   ]
  },
  {
   "cell_type": "markdown",
   "metadata": {},
   "source": [
    "### Number Of Patients For PPPW\n",
    "Data type: float64\n",
    "\n",
    "Value count: 7555\n",
    "\n",
    "Number of unique values: 269\n",
    "\n",
    "Percent unique values: 0.000598\n",
    "\n",
    "Ranges of values: 0 - \n",
    "\n",
    "Length of values: 1 - 3\n",
    "\n",
    "Description: Lists the number of patients included in the facility's percentage of prevalent patients waitlisted (PPPW). The PPPW measure tracks the percentage of patients at each dialysis facility who were on the kidney or kidney-pancreas transplant waiting list. Results are averaged across patients prevalent on the last day of each month during the reporting year, adjusted for age."
   ]
  },
  {
   "cell_type": "code",
   "execution_count": 169,
   "metadata": {},
   "outputs": [
    {
     "data": {
      "text/plain": [
       "{3, 4, 5}"
      ]
     },
     "execution_count": 169,
     "metadata": {},
     "output_type": "execute_result"
    }
   ],
   "source": [
    "set([(len(str(num))) for num in df['Number Of Patients For PPPW']])"
   ]
  },
  {
   "cell_type": "markdown",
   "metadata": {},
   "source": [
    "### Percentage Of Prevalent Patients Waitlisted\n",
    "Data type: float64\n",
    "\n",
    "Value count: 7178\n",
    "\n",
    "Number of unique values: 571\n",
    "\n",
    "Percent unique values: 0.001269\n",
    "\n",
    "Ranges of values: 0.1 - \n",
    "\n",
    "Length of values: 1 - 4\n",
    "\n",
    "Description: Lists the percentage of prevalent patients waitlisted."
   ]
  },
  {
   "cell_type": "code",
   "execution_count": 170,
   "metadata": {},
   "outputs": [
    {
     "data": {
      "text/plain": [
       "{3, 4}"
      ]
     },
     "execution_count": 170,
     "metadata": {},
     "output_type": "execute_result"
    }
   ],
   "source": [
    "set([(len(str(num))) for num in df['Percentage Of Prevalent Patients Waitlisted']])"
   ]
  },
  {
   "cell_type": "markdown",
   "metadata": {},
   "source": [
    "### Location\n",
    "Data type: object \n",
    "\n",
    "Value count: 7162\n",
    "\n",
    "Number of unique values: 7043 \n",
    "\n",
    "Percent unique values: 0.015653\n",
    "\n",
    "Ranges of values: \n",
    "\n",
    "Length of values: 3, 23, 25 - 29\n",
    "\n",
    "Description: Lists the coorinate location that corresponds to the facility listed."
   ]
  },
  {
   "cell_type": "code",
   "execution_count": 171,
   "metadata": {},
   "outputs": [
    {
     "data": {
      "text/plain": [
       "{3, 23, 24, 25, 26, 27, 28, 29}"
      ]
     },
     "execution_count": 171,
     "metadata": {},
     "output_type": "execute_result"
    }
   ],
   "source": [
    "set([(len(str(num))) for num in df['Location']])"
   ]
  },
  {
   "cell_type": "markdown",
   "metadata": {},
   "source": [
    "# Data Cleaning"
   ]
  },
  {
   "cell_type": "markdown",
   "metadata": {},
   "source": [
    "## Fill NA"
   ]
  },
  {
   "cell_type": "code",
   "execution_count": 172,
   "metadata": {},
   "outputs": [],
   "source": [
    "df['Chain Organization'] = df['Chain Organization'].fillna('INDEPENDENT')"
   ]
  },
  {
   "cell_type": "code",
   "execution_count": 173,
   "metadata": {},
   "outputs": [],
   "source": [
    "fillwithmedian = ['Star Rating', \n",
    "                'Percentage Of Medicare Patients With Hgb < 10 g/dL', \n",
    "                'Percentage Of Medicare Patients With Hgb > 12 g/dL', \n",
    "                'Number Of Dialysis Patients With Hgb Data', \n",
    "                'Number Of Patients Included In The Transfusion Summary', \n",
    "                'Percent Of Adult HD Patients With Kt/V >= 1.2', \n",
    "                'Number Of Adult HD Patients With Kt/V Data', \n",
    "                'Number Of Adult HD Patient-Months With Kt/V Data', \n",
    "                'Number Of Adult PD Patients With Kt/V Data',  \n",
    "                'Number Of Pediatric HD Patients With Kt/V Data', \n",
    "                'Number Of Patients In Hypercalcemia Summary', \n",
    "                'Number Of Patient-Months In Hypercalcemia Summary', \n",
    "                'Percentage Of Adult Patients With Hypercalcemia (Serum Calcium Greater Than 10.2 mg/dL)', \n",
    "                'Number Of Patients In Serum Phosphorus Summary', \n",
    "                'Number Of Patient-Months In Serum Phosphorus Summary', \n",
    "                'Percentage Of Adult Patients With Serum Phosphorus Less Than 3.5 mg/dL', \n",
    "                'Percentage Of Adult Patients With Serum Phosphorus Between 3.5 - 4.5 mg/dL', \n",
    "                'Percentage Of Adult Patients With Serum Phosphorus Between 4.6 - 5.5 mg/dL', \n",
    "                'Percentage Of Adult Patients With Serum Phosphorus Between 5.6 - 7.0 mg/dL', \n",
    "                'Percentage Of Adult Patients With Serum Phosphorus Greater Than 7.0 mg/dL', \n",
    "                'Number Of Patients Included In Hospitalization Summary', \n",
    "                'Number Of Hospitalizations Included In Hospital Readmission Summary', \n",
    "                'Number Of Patients Included In Survival Summary', \n",
    "                'Mortality Rate (Facility)', \n",
    "                'Mortality Rate: Upper Confidence Limit (97.5%)', \n",
    "                'Mortality Rate: Lower Confidence Limit (2.5%)', \n",
    "                'Readmission Rate (Facility)', \n",
    "                'Readmission Rate: Upper Confidence Limit (97.5%)', \n",
    "                'Readmission Rate: Lower Confidence Limit (2.5%)', \n",
    "                'Hospitalization Rate (Facility)', \n",
    "                'Hospitalization Rate: Upper Confidence Limit (97.5%)', \n",
    "                'Hospitalization Rate: Lower Confidence Limit (2.5%)', \n",
    "                'Number Of Pediatric PD Patients With Kt/V Data', \n",
    "                'Standard Infection Ratio', \n",
    "                'SIR: Upper Confidence Limit (97.5%)', \n",
    "                'SIR: Lower Confidence Limit (2.5%)', \n",
    "                'Transfusion Rate (Facility)', \n",
    "                'Transfusion Rate: Upper Confidence Limit (97.5%)', \n",
    "                'Transfusion Rate: Lower Confidence Limit (2.5%)', \n",
    "                'Number Of Patients Included In Fistula Summary', \n",
    "                'Fistula Rate (Facility)', \n",
    "                'Fistula Rate: Upper Confidence Limit (97.5%)', \n",
    "                'Fistula Rate: Lower Confidence Limit (2.5%)', \n",
    "                'Number Of Patients In Long Term Catheter Summary', \n",
    "                'Number Of Patient-Months In Long Term Catheter Summary', \n",
    "                'Percentage Of Adult Patients With Long Term Catheter In Use', \n",
    "                'Number Of Patients In nPCR Summary', \n",
    "                '95% C.I. (Upper Limit) For SWR', \n",
    "                '95% C.I. (Lower Limit) For SWR', \n",
    "                'Number Of Patients In This Facility For SWR', \n",
    "                'Standardized First Kidney Transplant Waitlist Ratio', \n",
    "                '95% C.I. (Upper Limit) For PPPW', \n",
    "                '95% C.I. (Lower Limit) For PPPW', \n",
    "                'Number Of Patients For PPPW', \n",
    "                'Percentage Of Prevalent Patients Waitlisted']"
   ]
  },
  {
   "cell_type": "code",
   "execution_count": 174,
   "metadata": {},
   "outputs": [],
   "source": [
    "df[fillwithmedian] = df[fillwithmedian].fillna(df[fillwithmedian].median())"
   ]
  },
  {
   "cell_type": "code",
   "execution_count": 175,
   "metadata": {},
   "outputs": [],
   "source": [
    "dropcolumns = ['Star Rating Data Availability Code', \n",
    "               'Address Line 2', \n",
    "               'Hgb < 10 Data Availability Code', \n",
    "               'Hgb > 12 Data Availability Code', \n",
    "               'Patient Transfusion Data Availability Code', \n",
    "               'Adult HD Kt/V Data Availability Code',\n",
    "               'Percentage Of Adult PD PTS With Kt/V >= 1.7', \n",
    "               'Percentage Of Pediatric HD Patients With Kt/V >= 1.2', \n",
    "               'Number Of Adult PD Patient-Months With Kt/V Data', \n",
    "               'Number Of Pediatric HD Patient-Months With Kt/V Data', \n",
    "               'Hypercalcemia Data Availability Code', \n",
    "               'Serum Phosphorus Data Availability Code', \n",
    "               'Patient Hospitalization Data Availability Code', \n",
    "               'Patient Hospital Readmission Data Availability Code', \n",
    "               'Patient Survival Data Availability Code', \n",
    "               'Number Of Pediatric PD Patient-Months With Kt/V Data', \n",
    "               'Percentage Of Pediatric PD Patients With Kt/V >= 1.8', \n",
    "               'Patient Infection Data Availability Code', \n",
    "               'Fistula Data Availability Code', \n",
    "               'Long Term Catheter Data Availability Code', \n",
    "               'Number Of Patient-Months In nPCR Summary', \n",
    "               'Percentage Of Pediatric HD Patients With nPCR', \n",
    "               'Patient Transplant Waitlist Data Availability Code', \n",
    "               'Patient Prevalent Transplant Waitlist Data Availability Code', \n",
    "               'Location']\n",
    "               "
   ]
  },
  {
   "cell_type": "code",
   "execution_count": 176,
   "metadata": {},
   "outputs": [],
   "source": [
    "df.drop(df[dropcolumns], axis=1, inplace=True)"
   ]
  },
  {
   "cell_type": "code",
   "execution_count": 177,
   "metadata": {},
   "outputs": [],
   "source": [
    "backfill = ['Patient Transfusion Category Text', \n",
    "                'Adult PD Kt/V Data Availability Code', \n",
    "                'Pediatric HD Kt/V Data Availability Code', \n",
    "                'Patient Hospitalization Category Text', \n",
    "                'Patient Hospital Readmission Category Text', \n",
    "                'Patient Survival Category Text', \n",
    "                'Pediatric PD Kt/V Data Availability Code', \n",
    "                'Patient Infection Category Text', \n",
    "                'Fistula Category Text', \n",
    "                'nPCR Data Availability Code', \n",
    "                'SWR Category Text', \n",
    "                'PPPW Category Text']\n"
   ]
  },
  {
   "cell_type": "code",
   "execution_count": 178,
   "metadata": {},
   "outputs": [],
   "source": [
    "df[backfill] = df[backfill].fillna(method='bfill')"
   ]
  },
  {
   "cell_type": "code",
   "execution_count": 179,
   "metadata": {
    "scrolled": true
   },
   "outputs": [
    {
     "data": {
      "text/plain": [
       "True"
      ]
     },
     "execution_count": 179,
     "metadata": {},
     "output_type": "execute_result"
    }
   ],
   "source": [
    "df.isnull().values.any()"
   ]
  },
  {
   "cell_type": "markdown",
   "metadata": {},
   "source": [
    "## Change dtypes"
   ]
  },
  {
   "cell_type": "code",
   "execution_count": 180,
   "metadata": {},
   "outputs": [],
   "source": [
    "isdateframe = ['Star Rating Date', 'Claims Date', 'CROWNWeb Date', 'STrR Date', 'SHR Date', 'SRR Date', 'SMR Date', 'SIR Date', 'SWR Date']"
   ]
  },
  {
   "cell_type": "code",
   "execution_count": 181,
   "metadata": {},
   "outputs": [],
   "source": [
    "isdate = ['Certification Or Recertification Date']"
   ]
  },
  {
   "cell_type": "code",
   "execution_count": 182,
   "metadata": {},
   "outputs": [],
   "source": [
    "df[isdate] = df[isdate].astype('datetime64[ns]')"
   ]
  },
  {
   "cell_type": "code",
   "execution_count": 183,
   "metadata": {},
   "outputs": [
    {
     "name": "stdout",
     "output_type": "stream",
     "text": [
      "<class 'pandas.core.frame.DataFrame'>\n",
      "RangeIndex: 7724 entries, 0 to 7723\n",
      "Data columns (total 60 columns):\n",
      " #   Column                                                                                   Non-Null Count  Dtype         \n",
      "---  ------                                                                                   --------------  -----         \n",
      " 0   Provider Number                                                                          7724 non-null   int64         \n",
      " 1   Network                                                                                  7724 non-null   int64         \n",
      " 2   Facility Name                                                                            7724 non-null   object        \n",
      " 3   Star Rating Date                                                                         7724 non-null   object        \n",
      " 4   Star Rating                                                                              7724 non-null   float64       \n",
      " 5   Address Line 1                                                                           7724 non-null   object        \n",
      " 6   City                                                                                     7724 non-null   object        \n",
      " 7   State                                                                                    7724 non-null   object        \n",
      " 8   Zip                                                                                      7724 non-null   int64         \n",
      " 9   County                                                                                   7724 non-null   object        \n",
      " 10  Phone Number                                                                             7724 non-null   object        \n",
      " 11  Profit Or Non-Profit                                                                     7723 non-null   object        \n",
      " 12  Chain Owned                                                                              7724 non-null   object        \n",
      " 13  Chain Organization                                                                       7724 non-null   object        \n",
      " 14  Late Shift                                                                               7724 non-null   int64         \n",
      " 15  Number Of Dialysis Stations                                                              7724 non-null   int64         \n",
      " 16  Offers In-Center Hemodialysis                                                            7724 non-null   int64         \n",
      " 17  Offers Peritoneal Dialysis                                                               7724 non-null   int64         \n",
      " 18  Offers Home Hemodialysis Training                                                        7724 non-null   int64         \n",
      " 19  Certification Or Recertification Date                                                    7724 non-null   datetime64[ns]\n",
      " 20  Claims Date                                                                              7724 non-null   object        \n",
      " 21  CROWNWeb Date                                                                            7724 non-null   object        \n",
      " 22  STrR Date                                                                                7724 non-null   object        \n",
      " 23  Percentage Of Medicare Patients With Hgb < 10 g/dL                                       7724 non-null   float64       \n",
      " 24  Percentage Of Medicare Patients With Hgb > 12 g/dL                                       7724 non-null   float64       \n",
      " 25  Number Of Dialysis Patients With Hgb Data                                                7724 non-null   float64       \n",
      " 26  Patient Transfusion Category Text                                                        7724 non-null   object        \n",
      " 27  Number Of Patients Included In The Transfusion Summary                                   7724 non-null   float64       \n",
      " 28  Percent Of Adult HD Patients With Kt/V >= 1.2                                            7724 non-null   float64       \n",
      " 29  Adult PD Kt/V Data Availability Code                                                     7724 non-null   float64       \n",
      " 30  Pediatric HD Kt/V Data Availability Code                                                 7724 non-null   float64       \n",
      " 31  Number Of Adult HD Patients With Kt/V Data                                               7724 non-null   float64       \n",
      " 32  Number Of Adult HD Patient-Months With Kt/V Data                                         7724 non-null   float64       \n",
      " 33  Number Of Adult PD Patients With Kt/V Data                                               7724 non-null   float64       \n",
      " 34  Number Of Pediatric HD Patients With Kt/V Data                                           7724 non-null   float64       \n",
      " 35  Number Of Patients In Hypercalcemia Summary                                              7724 non-null   float64       \n",
      " 36  Number Of Patient-Months In Hypercalcemia Summary                                        7724 non-null   float64       \n",
      " 37  Percentage Of Adult Patients With Hypercalcemia (Serum Calcium Greater Than 10.2 mg/dL)  7724 non-null   float64       \n",
      " 38  Number Of Patients In Serum Phosphorus Summary                                           7724 non-null   float64       \n",
      " 39  Number Of Patient-Months In Serum Phosphorus Summary                                     7724 non-null   float64       \n",
      " 40  Percentage Of Adult Patients With Serum Phosphorus Less Than 3.5 mg/dL                   7724 non-null   float64       \n",
      " 41  Percentage Of Adult Patients With Serum Phosphorus Between 3.5 - 4.5 mg/dL               7724 non-null   float64       \n",
      " 42  Percentage Of Adult Patients With Serum Phosphorus Between 4.6 - 5.5 mg/dL               7724 non-null   float64       \n",
      " 43  Percentage Of Adult Patients With Serum Phosphorus Between 5.6 - 7.0 mg/dL               7724 non-null   float64       \n",
      " 44  Percentage Of Adult Patients With Serum Phosphorus Greater Than 7.0 mg/dL                7724 non-null   float64       \n",
      " 45  SHR Date                                                                                 7724 non-null   object        \n",
      " 46  SRR Date                                                                                 7724 non-null   object        \n",
      " 47  SMR Date                                                                                 7724 non-null   object        \n",
      " 48  Patient Hospitalization Category Text                                                    7724 non-null   object        \n",
      " 49  Patient Hospital Readmission Category Text                                               7724 non-null   object        \n",
      " 50  Patient Survival Category Text                                                           7724 non-null   object        \n",
      " 51  Number Of Patients Included In Hospitalization Summary                                   7724 non-null   float64       \n",
      " 52  Number Of Hospitalizations Included In Hospital Readmission Summary                      7724 non-null   float64       \n",
      " 53  Number Of Patients Included In Survival Summary                                          7724 non-null   float64       \n",
      " 54  Mortality Rate (Facility)                                                                7724 non-null   float64       \n",
      " 55  Mortality Rate: Upper Confidence Limit (97.5%)                                           7724 non-null   float64       \n",
      " 56  Mortality Rate: Lower Confidence Limit (2.5%)                                            7724 non-null   float64       \n",
      " 57  Readmission Rate (Facility)                                                              7724 non-null   float64       \n",
      " 58  Readmission Rate: Upper Confidence Limit (97.5%)                                         7724 non-null   float64       \n",
      " 59  Readmission Rate: Lower Confidence Limit (2.5%)                                          7724 non-null   float64       \n",
      "dtypes: datetime64[ns](1), float64(31), int64(8), object(20)\n",
      "memory usage: 3.5+ MB\n"
     ]
    }
   ],
   "source": [
    "df.iloc[:, :60].info()"
   ]
  },
  {
   "cell_type": "code",
   "execution_count": 184,
   "metadata": {
    "scrolled": true
   },
   "outputs": [
    {
     "name": "stdout",
     "output_type": "stream",
     "text": [
      "<class 'pandas.core.frame.DataFrame'>\n",
      "RangeIndex: 7724 entries, 0 to 7723\n",
      "Data columns (total 34 columns):\n",
      " #   Column                                                       Non-Null Count  Dtype  \n",
      "---  ------                                                       --------------  -----  \n",
      " 0   Hospitalization Rate (Facility)                              7724 non-null   float64\n",
      " 1   Hospitalization Rate: Upper Confidence Limit (97.5%)         7724 non-null   float64\n",
      " 2   Hospitalization Rate: Lower Confidence Limit (2.5%)          7724 non-null   float64\n",
      " 3   Number Of Pediatric PD Patients With Kt/V Data               7724 non-null   float64\n",
      " 4   Pediatric PD Kt/V Data Availability Code                     7724 non-null   float64\n",
      " 5   SIR Date                                                     7724 non-null   object \n",
      " 6   Patient Infection Category Text                              7724 non-null   object \n",
      " 7   Standard Infection Ratio                                     7724 non-null   float64\n",
      " 8   SIR: Upper Confidence Limit (97.5%)                          7724 non-null   float64\n",
      " 9   SIR: Lower Confidence Limit (2.5%)                           7724 non-null   float64\n",
      " 10  Transfusion Rate (Facility)                                  7724 non-null   float64\n",
      " 11  Transfusion Rate: Upper Confidence Limit (97.5%)             7724 non-null   float64\n",
      " 12  Transfusion Rate: Lower Confidence Limit (2.5%)              7724 non-null   float64\n",
      " 13  Fistula Category Text                                        7724 non-null   object \n",
      " 14  Number Of Patients Included In Fistula Summary               7724 non-null   float64\n",
      " 15  Fistula Rate (Facility)                                      7724 non-null   float64\n",
      " 16  Fistula Rate: Upper Confidence Limit (97.5%)                 7724 non-null   float64\n",
      " 17  Fistula Rate: Lower Confidence Limit (2.5%)                  7724 non-null   float64\n",
      " 18  Number Of Patients In Long Term Catheter Summary             7724 non-null   float64\n",
      " 19  Number Of Patient-Months In Long Term Catheter Summary       7724 non-null   float64\n",
      " 20  Percentage Of Adult Patients With Long Term Catheter In Use  7724 non-null   float64\n",
      " 21  Number Of Patients In nPCR Summary                           7724 non-null   float64\n",
      " 22  nPCR Data Availability Code                                  7724 non-null   float64\n",
      " 23  SWR Date                                                     7724 non-null   object \n",
      " 24  SWR Category Text                                            7718 non-null   object \n",
      " 25  95% C.I. (Upper Limit) For SWR                               7724 non-null   float64\n",
      " 26  95% C.I. (Lower Limit) For SWR                               7724 non-null   float64\n",
      " 27  Number Of Patients In This Facility For SWR                  7724 non-null   float64\n",
      " 28  Standardized First Kidney Transplant Waitlist Ratio          7724 non-null   float64\n",
      " 29  PPPW Category Text                                           7724 non-null   object \n",
      " 30  95% C.I. (Upper Limit) For PPPW                              7724 non-null   float64\n",
      " 31  95% C.I. (Lower Limit) For PPPW                              7724 non-null   float64\n",
      " 32  Number Of Patients For PPPW                                  7724 non-null   float64\n",
      " 33  Percentage Of Prevalent Patients Waitlisted                  7724 non-null   float64\n",
      "dtypes: float64(28), object(6)\n",
      "memory usage: 2.0+ MB\n"
     ]
    }
   ],
   "source": [
    "df.iloc[:, 60:].info()"
   ]
  },
  {
   "cell_type": "markdown",
   "metadata": {},
   "source": [
    "## Fix value format"
   ]
  },
  {
   "cell_type": "code",
   "execution_count": 185,
   "metadata": {},
   "outputs": [],
   "source": [
    "df['Zip'] = df['Zip'].astype(str).str.zfill(5)"
   ]
  },
  {
   "cell_type": "code",
   "execution_count": 186,
   "metadata": {},
   "outputs": [
    {
     "data": {
      "text/plain": [
       "{5}"
      ]
     },
     "execution_count": 186,
     "metadata": {},
     "output_type": "execute_result"
    }
   ],
   "source": [
    "set([(len(str(num))) for num in df['Zip']])"
   ]
  },
  {
   "cell_type": "code",
   "execution_count": 187,
   "metadata": {},
   "outputs": [],
   "source": [
    "df['Star Rating'] = df['Star Rating'].astype('int64')"
   ]
  },
  {
   "cell_type": "code",
   "execution_count": 188,
   "metadata": {},
   "outputs": [
    {
     "data": {
      "text/plain": [
       "array(['Yes', 'No'], dtype=object)"
      ]
     },
     "execution_count": 188,
     "metadata": {},
     "output_type": "execute_result"
    }
   ],
   "source": [
    "df['Chain Owned'].unique()"
   ]
  },
  {
   "cell_type": "code",
   "execution_count": 189,
   "metadata": {},
   "outputs": [],
   "source": [
    "df['Chain Owned'] = df['Chain Owned'].replace(to_replace=['No', 'Yes'], value=[0, 1])"
   ]
  },
  {
   "cell_type": "code",
   "execution_count": 190,
   "metadata": {},
   "outputs": [],
   "source": [
    "df['Profit Or Non-Profit'] = df['Profit Or Non-Profit'].replace(to_replace=['Non-Profit', 'Profit'], value=[0, 1])"
   ]
  },
  {
   "cell_type": "code",
   "execution_count": 191,
   "metadata": {
    "scrolled": false
   },
   "outputs": [
    {
     "data": {
      "text/html": [
       "<div>\n",
       "<style scoped>\n",
       "    .dataframe tbody tr th:only-of-type {\n",
       "        vertical-align: middle;\n",
       "    }\n",
       "\n",
       "    .dataframe tbody tr th {\n",
       "        vertical-align: top;\n",
       "    }\n",
       "\n",
       "    .dataframe thead th {\n",
       "        text-align: right;\n",
       "    }\n",
       "</style>\n",
       "<table border=\"1\" class=\"dataframe\">\n",
       "  <thead>\n",
       "    <tr style=\"text-align: right;\">\n",
       "      <th></th>\n",
       "      <th>0</th>\n",
       "      <th>1</th>\n",
       "      <th>2</th>\n",
       "      <th>3</th>\n",
       "      <th>4</th>\n",
       "    </tr>\n",
       "  </thead>\n",
       "  <tbody>\n",
       "    <tr>\n",
       "      <th>Provider Number</th>\n",
       "      <td>32647</td>\n",
       "      <td>42595</td>\n",
       "      <td>62591</td>\n",
       "      <td>102816</td>\n",
       "      <td>112867</td>\n",
       "    </tr>\n",
       "    <tr>\n",
       "      <th>Network</th>\n",
       "      <td>15</td>\n",
       "      <td>13</td>\n",
       "      <td>15</td>\n",
       "      <td>7</td>\n",
       "      <td>6</td>\n",
       "    </tr>\n",
       "    <tr>\n",
       "      <th>Facility Name</th>\n",
       "      <td>FMC NORTH MOUNTAIN</td>\n",
       "      <td>DAVITA POCAHONTAS DIALYSIS</td>\n",
       "      <td>DAVITA PLATTE VALLEY DIALYSIS</td>\n",
       "      <td>DAVITA MELBOURNE DIALYSIS</td>\n",
       "      <td>DAVITA WEST HIRAM DIALYSIS</td>\n",
       "    </tr>\n",
       "    <tr>\n",
       "      <th>Star Rating Date</th>\n",
       "      <td>01/01/2016 - 12/31/2019</td>\n",
       "      <td>01/01/2016 - 12/31/2019</td>\n",
       "      <td>01/01/2016 - 12/31/2019</td>\n",
       "      <td>01/01/2016 - 12/31/2019</td>\n",
       "      <td>01/01/2016 - 12/31/2019</td>\n",
       "    </tr>\n",
       "    <tr>\n",
       "      <th>Star Rating</th>\n",
       "      <td>4</td>\n",
       "      <td>3</td>\n",
       "      <td>5</td>\n",
       "      <td>2</td>\n",
       "      <td>4</td>\n",
       "    </tr>\n",
       "    <tr>\n",
       "      <th>Address Line 1</th>\n",
       "      <td>16605 NORTH 28TH AVENUE</td>\n",
       "      <td>404 CAMP RD</td>\n",
       "      <td>1321 S 4TH AVE</td>\n",
       "      <td>2235 SOUTH BABCOCK ST</td>\n",
       "      <td>76 HIGHLAND PAVILION COURT</td>\n",
       "    </tr>\n",
       "    <tr>\n",
       "      <th>City</th>\n",
       "      <td>PHOENIX</td>\n",
       "      <td>POCAHONTAS</td>\n",
       "      <td>BRIGHTON</td>\n",
       "      <td>MELBOURNE</td>\n",
       "      <td>HIRAM</td>\n",
       "    </tr>\n",
       "    <tr>\n",
       "      <th>State</th>\n",
       "      <td>AZ</td>\n",
       "      <td>AR</td>\n",
       "      <td>CO</td>\n",
       "      <td>FL</td>\n",
       "      <td>GA</td>\n",
       "    </tr>\n",
       "    <tr>\n",
       "      <th>Zip</th>\n",
       "      <td>85053</td>\n",
       "      <td>72455</td>\n",
       "      <td>80601</td>\n",
       "      <td>32901</td>\n",
       "      <td>30141</td>\n",
       "    </tr>\n",
       "    <tr>\n",
       "      <th>County</th>\n",
       "      <td>MARICOPA</td>\n",
       "      <td>RANDOLPH</td>\n",
       "      <td>ADAMS</td>\n",
       "      <td>BREVARD</td>\n",
       "      <td>PAULDING</td>\n",
       "    </tr>\n",
       "    <tr>\n",
       "      <th>Phone Number</th>\n",
       "      <td>(602) 863-7954</td>\n",
       "      <td>(870) 248-0138</td>\n",
       "      <td>(303) 654-8202</td>\n",
       "      <td>(321) 956-6252</td>\n",
       "      <td>(678) 384-1180</td>\n",
       "    </tr>\n",
       "    <tr>\n",
       "      <th>Profit Or Non-Profit</th>\n",
       "      <td>1</td>\n",
       "      <td>1</td>\n",
       "      <td>1</td>\n",
       "      <td>1</td>\n",
       "      <td>1</td>\n",
       "    </tr>\n",
       "    <tr>\n",
       "      <th>Chain Owned</th>\n",
       "      <td>1</td>\n",
       "      <td>1</td>\n",
       "      <td>1</td>\n",
       "      <td>1</td>\n",
       "      <td>1</td>\n",
       "    </tr>\n",
       "    <tr>\n",
       "      <th>Chain Organization</th>\n",
       "      <td>FRESENIUS MEDICAL CARE</td>\n",
       "      <td>DAVITA</td>\n",
       "      <td>DAVITA</td>\n",
       "      <td>DAVITA</td>\n",
       "      <td>DAVITA</td>\n",
       "    </tr>\n",
       "    <tr>\n",
       "      <th>Late Shift</th>\n",
       "      <td>0</td>\n",
       "      <td>0</td>\n",
       "      <td>0</td>\n",
       "      <td>0</td>\n",
       "      <td>0</td>\n",
       "    </tr>\n",
       "    <tr>\n",
       "      <th>Number Of Dialysis Stations</th>\n",
       "      <td>25</td>\n",
       "      <td>8</td>\n",
       "      <td>12</td>\n",
       "      <td>16</td>\n",
       "      <td>13</td>\n",
       "    </tr>\n",
       "    <tr>\n",
       "      <th>Offers In-Center Hemodialysis</th>\n",
       "      <td>1</td>\n",
       "      <td>1</td>\n",
       "      <td>1</td>\n",
       "      <td>1</td>\n",
       "      <td>1</td>\n",
       "    </tr>\n",
       "    <tr>\n",
       "      <th>Offers Peritoneal Dialysis</th>\n",
       "      <td>0</td>\n",
       "      <td>1</td>\n",
       "      <td>1</td>\n",
       "      <td>1</td>\n",
       "      <td>1</td>\n",
       "    </tr>\n",
       "    <tr>\n",
       "      <th>Offers Home Hemodialysis Training</th>\n",
       "      <td>0</td>\n",
       "      <td>0</td>\n",
       "      <td>0</td>\n",
       "      <td>0</td>\n",
       "      <td>1</td>\n",
       "    </tr>\n",
       "    <tr>\n",
       "      <th>Certification Or Recertification Date</th>\n",
       "      <td>2016-10-12 00:00:00</td>\n",
       "      <td>2016-06-14 00:00:00</td>\n",
       "      <td>2018-01-02 00:00:00</td>\n",
       "      <td>2005-03-23 00:00:00</td>\n",
       "      <td>2013-05-14 00:00:00</td>\n",
       "    </tr>\n",
       "    <tr>\n",
       "      <th>Claims Date</th>\n",
       "      <td>01/01/2019 - 12/31/2019</td>\n",
       "      <td>01/01/2019 - 12/31/2019</td>\n",
       "      <td>01/01/2019 - 12/31/2019</td>\n",
       "      <td>01/01/2019 - 12/31/2019</td>\n",
       "      <td>01/01/2019 - 12/31/2019</td>\n",
       "    </tr>\n",
       "    <tr>\n",
       "      <th>CROWNWeb Date</th>\n",
       "      <td>01/01/2019 - 12/31/2019</td>\n",
       "      <td>01/01/2019 - 12/31/2019</td>\n",
       "      <td>01/01/2019 - 12/31/2019</td>\n",
       "      <td>01/01/2019 - 12/31/2019</td>\n",
       "      <td>01/01/2019 - 12/31/2019</td>\n",
       "    </tr>\n",
       "    <tr>\n",
       "      <th>STrR Date</th>\n",
       "      <td>01/01/2019 - 12/31/2019</td>\n",
       "      <td>01/01/2019 - 12/31/2019</td>\n",
       "      <td>01/01/2019 - 12/31/2019</td>\n",
       "      <td>01/01/2019 - 12/31/2019</td>\n",
       "      <td>01/01/2019 - 12/31/2019</td>\n",
       "    </tr>\n",
       "    <tr>\n",
       "      <th>Percentage Of Medicare Patients With Hgb &lt; 10 g/dL</th>\n",
       "      <td>8</td>\n",
       "      <td>14</td>\n",
       "      <td>0</td>\n",
       "      <td>15</td>\n",
       "      <td>19</td>\n",
       "    </tr>\n",
       "    <tr>\n",
       "      <th>Percentage Of Medicare Patients With Hgb &gt; 12 g/dL</th>\n",
       "      <td>0</td>\n",
       "      <td>0</td>\n",
       "      <td>0</td>\n",
       "      <td>0</td>\n",
       "      <td>0</td>\n",
       "    </tr>\n",
       "    <tr>\n",
       "      <th>Number Of Dialysis Patients With Hgb Data</th>\n",
       "      <td>25</td>\n",
       "      <td>21</td>\n",
       "      <td>11</td>\n",
       "      <td>27</td>\n",
       "      <td>37</td>\n",
       "    </tr>\n",
       "    <tr>\n",
       "      <th>Patient Transfusion Category Text</th>\n",
       "      <td>As Expected</td>\n",
       "      <td>As Expected</td>\n",
       "      <td>As Expected</td>\n",
       "      <td>Worse than Expected</td>\n",
       "      <td>As Expected</td>\n",
       "    </tr>\n",
       "    <tr>\n",
       "      <th>Number Of Patients Included In The Transfusion Summary</th>\n",
       "      <td>56</td>\n",
       "      <td>38</td>\n",
       "      <td>26</td>\n",
       "      <td>57</td>\n",
       "      <td>55</td>\n",
       "    </tr>\n",
       "    <tr>\n",
       "      <th>Percent Of Adult HD Patients With Kt/V &gt;= 1.2</th>\n",
       "      <td>98</td>\n",
       "      <td>97</td>\n",
       "      <td>100</td>\n",
       "      <td>99</td>\n",
       "      <td>97</td>\n",
       "    </tr>\n",
       "    <tr>\n",
       "      <th>Adult PD Kt/V Data Availability Code</th>\n",
       "      <td>257</td>\n",
       "      <td>199</td>\n",
       "      <td>199</td>\n",
       "      <td>199</td>\n",
       "      <td>199</td>\n",
       "    </tr>\n",
       "    <tr>\n",
       "      <th>Pediatric HD Kt/V Data Availability Code</th>\n",
       "      <td>259</td>\n",
       "      <td>259</td>\n",
       "      <td>259</td>\n",
       "      <td>259</td>\n",
       "      <td>259</td>\n",
       "    </tr>\n",
       "    <tr>\n",
       "      <th>Number Of Adult HD Patients With Kt/V Data</th>\n",
       "      <td>91</td>\n",
       "      <td>43</td>\n",
       "      <td>26</td>\n",
       "      <td>59</td>\n",
       "      <td>64</td>\n",
       "    </tr>\n",
       "    <tr>\n",
       "      <th>Number Of Adult HD Patient-Months With Kt/V Data</th>\n",
       "      <td>608</td>\n",
       "      <td>369</td>\n",
       "      <td>206</td>\n",
       "      <td>358</td>\n",
       "      <td>569</td>\n",
       "    </tr>\n",
       "    <tr>\n",
       "      <th>Number Of Adult PD Patients With Kt/V Data</th>\n",
       "      <td>0</td>\n",
       "      <td>13</td>\n",
       "      <td>18</td>\n",
       "      <td>21</td>\n",
       "      <td>4</td>\n",
       "    </tr>\n",
       "    <tr>\n",
       "      <th>Number Of Pediatric HD Patients With Kt/V Data</th>\n",
       "      <td>0</td>\n",
       "      <td>0</td>\n",
       "      <td>0</td>\n",
       "      <td>0</td>\n",
       "      <td>0</td>\n",
       "    </tr>\n",
       "    <tr>\n",
       "      <th>Number Of Patients In Hypercalcemia Summary</th>\n",
       "      <td>96</td>\n",
       "      <td>56</td>\n",
       "      <td>42</td>\n",
       "      <td>77</td>\n",
       "      <td>76</td>\n",
       "    </tr>\n",
       "    <tr>\n",
       "      <th>Number Of Patient-Months In Hypercalcemia Summary</th>\n",
       "      <td>665</td>\n",
       "      <td>495</td>\n",
       "      <td>351</td>\n",
       "      <td>566</td>\n",
       "      <td>710</td>\n",
       "    </tr>\n",
       "    <tr>\n",
       "      <th>Percentage Of Adult Patients With Hypercalcemia (Serum Calcium Greater Than 10.2 mg/dL)</th>\n",
       "      <td>2</td>\n",
       "      <td>7</td>\n",
       "      <td>3</td>\n",
       "      <td>0</td>\n",
       "      <td>1</td>\n",
       "    </tr>\n",
       "    <tr>\n",
       "      <th>Number Of Patients In Serum Phosphorus Summary</th>\n",
       "      <td>108</td>\n",
       "      <td>58</td>\n",
       "      <td>45</td>\n",
       "      <td>87</td>\n",
       "      <td>79</td>\n",
       "    </tr>\n",
       "    <tr>\n",
       "      <th>Number Of Patient-Months In Serum Phosphorus Summary</th>\n",
       "      <td>720</td>\n",
       "      <td>498</td>\n",
       "      <td>358</td>\n",
       "      <td>606</td>\n",
       "      <td>718</td>\n",
       "    </tr>\n",
       "    <tr>\n",
       "      <th>Percentage Of Adult Patients With Serum Phosphorus Less Than 3.5 mg/dL</th>\n",
       "      <td>7</td>\n",
       "      <td>4</td>\n",
       "      <td>4</td>\n",
       "      <td>7</td>\n",
       "      <td>10</td>\n",
       "    </tr>\n",
       "    <tr>\n",
       "      <th>Percentage Of Adult Patients With Serum Phosphorus Between 3.5 - 4.5 mg/dL</th>\n",
       "      <td>28</td>\n",
       "      <td>21</td>\n",
       "      <td>25</td>\n",
       "      <td>21</td>\n",
       "      <td>27</td>\n",
       "    </tr>\n",
       "    <tr>\n",
       "      <th>Percentage Of Adult Patients With Serum Phosphorus Between 4.6 - 5.5 mg/dL</th>\n",
       "      <td>30</td>\n",
       "      <td>46</td>\n",
       "      <td>30</td>\n",
       "      <td>23</td>\n",
       "      <td>34</td>\n",
       "    </tr>\n",
       "    <tr>\n",
       "      <th>Percentage Of Adult Patients With Serum Phosphorus Between 5.6 - 7.0 mg/dL</th>\n",
       "      <td>26</td>\n",
       "      <td>13</td>\n",
       "      <td>23</td>\n",
       "      <td>22</td>\n",
       "      <td>23</td>\n",
       "    </tr>\n",
       "    <tr>\n",
       "      <th>Percentage Of Adult Patients With Serum Phosphorus Greater Than 7.0 mg/dL</th>\n",
       "      <td>9</td>\n",
       "      <td>16</td>\n",
       "      <td>17</td>\n",
       "      <td>27</td>\n",
       "      <td>7</td>\n",
       "    </tr>\n",
       "    <tr>\n",
       "      <th>SHR Date</th>\n",
       "      <td>01/01/2019 - 12/31/2019</td>\n",
       "      <td>01/01/2019 - 12/31/2019</td>\n",
       "      <td>01/01/2019 - 12/31/2019</td>\n",
       "      <td>01/01/2019 - 12/31/2019</td>\n",
       "      <td>01/01/2019 - 12/31/2019</td>\n",
       "    </tr>\n",
       "    <tr>\n",
       "      <th>SRR Date</th>\n",
       "      <td>01/01/2019 - 12/31/2019</td>\n",
       "      <td>01/01/2019 - 12/31/2019</td>\n",
       "      <td>01/01/2019 - 12/31/2019</td>\n",
       "      <td>01/01/2019 - 12/31/2019</td>\n",
       "      <td>01/01/2019 - 12/31/2019</td>\n",
       "    </tr>\n",
       "    <tr>\n",
       "      <th>SMR Date</th>\n",
       "      <td>01/01/2016 - 12/31/2019</td>\n",
       "      <td>01/01/2016 - 12/31/2019</td>\n",
       "      <td>01/01/2016 - 12/31/2019</td>\n",
       "      <td>01/01/2016 - 12/31/2019</td>\n",
       "      <td>01/01/2016 - 12/31/2019</td>\n",
       "    </tr>\n",
       "    <tr>\n",
       "      <th>Patient Hospitalization Category Text</th>\n",
       "      <td>As Expected</td>\n",
       "      <td>As Expected</td>\n",
       "      <td>As Expected</td>\n",
       "      <td>As Expected</td>\n",
       "      <td>As Expected</td>\n",
       "    </tr>\n",
       "    <tr>\n",
       "      <th>Patient Hospital Readmission Category Text</th>\n",
       "      <td>As Expected</td>\n",
       "      <td>As Expected</td>\n",
       "      <td>As Expected</td>\n",
       "      <td>As Expected</td>\n",
       "      <td>As Expected</td>\n",
       "    </tr>\n",
       "    <tr>\n",
       "      <th>Patient Survival Category Text</th>\n",
       "      <td>As Expected</td>\n",
       "      <td>As Expected</td>\n",
       "      <td>As Expected</td>\n",
       "      <td>Worse than Expected</td>\n",
       "      <td>As Expected</td>\n",
       "    </tr>\n",
       "    <tr>\n",
       "      <th>Number Of Patients Included In Hospitalization Summary</th>\n",
       "      <td>70</td>\n",
       "      <td>41</td>\n",
       "      <td>30</td>\n",
       "      <td>62</td>\n",
       "      <td>59</td>\n",
       "    </tr>\n",
       "    <tr>\n",
       "      <th>Number Of Hospitalizations Included In Hospital Readmission Summary</th>\n",
       "      <td>83</td>\n",
       "      <td>34</td>\n",
       "      <td>16</td>\n",
       "      <td>79</td>\n",
       "      <td>66</td>\n",
       "    </tr>\n",
       "    <tr>\n",
       "      <th>Number Of Patients Included In Survival Summary</th>\n",
       "      <td>130</td>\n",
       "      <td>127</td>\n",
       "      <td>44</td>\n",
       "      <td>285</td>\n",
       "      <td>198</td>\n",
       "    </tr>\n",
       "    <tr>\n",
       "      <th>Mortality Rate (Facility)</th>\n",
       "      <td>26.1</td>\n",
       "      <td>24.4</td>\n",
       "      <td>19.1</td>\n",
       "      <td>34.2</td>\n",
       "      <td>23.1</td>\n",
       "    </tr>\n",
       "    <tr>\n",
       "      <th>Mortality Rate: Upper Confidence Limit (97.5%)</th>\n",
       "      <td>42.4</td>\n",
       "      <td>36.7</td>\n",
       "      <td>48.8</td>\n",
       "      <td>44.4</td>\n",
       "      <td>36</td>\n",
       "    </tr>\n",
       "    <tr>\n",
       "      <th>Mortality Rate: Lower Confidence Limit (2.5%)</th>\n",
       "      <td>14.9</td>\n",
       "      <td>15.5</td>\n",
       "      <td>5.2</td>\n",
       "      <td>25.8</td>\n",
       "      <td>13.9</td>\n",
       "    </tr>\n",
       "    <tr>\n",
       "      <th>Readmission Rate (Facility)</th>\n",
       "      <td>30</td>\n",
       "      <td>18.2</td>\n",
       "      <td>31</td>\n",
       "      <td>22</td>\n",
       "      <td>35.1</td>\n",
       "    </tr>\n",
       "    <tr>\n",
       "      <th>Readmission Rate: Upper Confidence Limit (97.5%)</th>\n",
       "      <td>44.7</td>\n",
       "      <td>38.3</td>\n",
       "      <td>67.5</td>\n",
       "      <td>35.1</td>\n",
       "      <td>52.3</td>\n",
       "    </tr>\n",
       "    <tr>\n",
       "      <th>Readmission Rate: Lower Confidence Limit (2.5%)</th>\n",
       "      <td>16.5</td>\n",
       "      <td>5.8</td>\n",
       "      <td>8.6</td>\n",
       "      <td>12.2</td>\n",
       "      <td>20.2</td>\n",
       "    </tr>\n",
       "  </tbody>\n",
       "</table>\n",
       "</div>"
      ],
      "text/plain": [
       "                                                                          0  \\\n",
       "Provider Number                                                       32647   \n",
       "Network                                                                  15   \n",
       "Facility Name                                            FMC NORTH MOUNTAIN   \n",
       "Star Rating Date                                    01/01/2016 - 12/31/2019   \n",
       "Star Rating                                                               4   \n",
       "Address Line 1                                      16605 NORTH 28TH AVENUE   \n",
       "City                                                                PHOENIX   \n",
       "State                                                                    AZ   \n",
       "Zip                                                                   85053   \n",
       "County                                                             MARICOPA   \n",
       "Phone Number                                                 (602) 863-7954   \n",
       "Profit Or Non-Profit                                                      1   \n",
       "Chain Owned                                                               1   \n",
       "Chain Organization                                   FRESENIUS MEDICAL CARE   \n",
       "Late Shift                                                                0   \n",
       "Number Of Dialysis Stations                                              25   \n",
       "Offers In-Center Hemodialysis                                             1   \n",
       "Offers Peritoneal Dialysis                                                0   \n",
       "Offers Home Hemodialysis Training                                         0   \n",
       "Certification Or Recertification Date                   2016-10-12 00:00:00   \n",
       "Claims Date                                         01/01/2019 - 12/31/2019   \n",
       "CROWNWeb Date                                       01/01/2019 - 12/31/2019   \n",
       "STrR Date                                           01/01/2019 - 12/31/2019   \n",
       "Percentage Of Medicare Patients With Hgb < 10 g/dL                        8   \n",
       "Percentage Of Medicare Patients With Hgb > 12 g/dL                        0   \n",
       "Number Of Dialysis Patients With Hgb Data                                25   \n",
       "Patient Transfusion Category Text                               As Expected   \n",
       "Number Of Patients Included In The Transfusion ...                       56   \n",
       "Percent Of Adult HD Patients With Kt/V >= 1.2                            98   \n",
       "Adult PD Kt/V Data Availability Code                                    257   \n",
       "Pediatric HD Kt/V Data Availability Code                                259   \n",
       "Number Of Adult HD Patients With Kt/V Data                               91   \n",
       "Number Of Adult HD Patient-Months With Kt/V Data                        608   \n",
       "Number Of Adult PD Patients With Kt/V Data                                0   \n",
       "Number Of Pediatric HD Patients With Kt/V Data                            0   \n",
       "Number Of Patients In Hypercalcemia Summary                              96   \n",
       "Number Of Patient-Months In Hypercalcemia Summary                       665   \n",
       "Percentage Of Adult Patients With Hypercalcemia...                        2   \n",
       "Number Of Patients In Serum Phosphorus Summary                          108   \n",
       "Number Of Patient-Months In Serum Phosphorus Su...                      720   \n",
       "Percentage Of Adult Patients With Serum Phospho...                        7   \n",
       "Percentage Of Adult Patients With Serum Phospho...                       28   \n",
       "Percentage Of Adult Patients With Serum Phospho...                       30   \n",
       "Percentage Of Adult Patients With Serum Phospho...                       26   \n",
       "Percentage Of Adult Patients With Serum Phospho...                        9   \n",
       "SHR Date                                            01/01/2019 - 12/31/2019   \n",
       "SRR Date                                            01/01/2019 - 12/31/2019   \n",
       "SMR Date                                            01/01/2016 - 12/31/2019   \n",
       "Patient Hospitalization Category Text                           As Expected   \n",
       "Patient Hospital Readmission Category Text                      As Expected   \n",
       "Patient Survival Category Text                                  As Expected   \n",
       "Number Of Patients Included In Hospitalization ...                       70   \n",
       "Number Of Hospitalizations Included In Hospital...                       83   \n",
       "Number Of Patients Included In Survival Summary                         130   \n",
       "Mortality Rate (Facility)                                              26.1   \n",
       "Mortality Rate: Upper Confidence Limit (97.5%)                         42.4   \n",
       "Mortality Rate: Lower Confidence Limit (2.5%)                          14.9   \n",
       "Readmission Rate (Facility)                                              30   \n",
       "Readmission Rate: Upper Confidence Limit (97.5%)                       44.7   \n",
       "Readmission Rate: Lower Confidence Limit (2.5%)                        16.5   \n",
       "\n",
       "                                                                             1  \\\n",
       "Provider Number                                                          42595   \n",
       "Network                                                                     13   \n",
       "Facility Name                                       DAVITA POCAHONTAS DIALYSIS   \n",
       "Star Rating Date                                       01/01/2016 - 12/31/2019   \n",
       "Star Rating                                                                  3   \n",
       "Address Line 1                                                     404 CAMP RD   \n",
       "City                                                                POCAHONTAS   \n",
       "State                                                                       AR   \n",
       "Zip                                                                      72455   \n",
       "County                                                                RANDOLPH   \n",
       "Phone Number                                                    (870) 248-0138   \n",
       "Profit Or Non-Profit                                                         1   \n",
       "Chain Owned                                                                  1   \n",
       "Chain Organization                                                      DAVITA   \n",
       "Late Shift                                                                   0   \n",
       "Number Of Dialysis Stations                                                  8   \n",
       "Offers In-Center Hemodialysis                                                1   \n",
       "Offers Peritoneal Dialysis                                                   1   \n",
       "Offers Home Hemodialysis Training                                            0   \n",
       "Certification Or Recertification Date                      2016-06-14 00:00:00   \n",
       "Claims Date                                            01/01/2019 - 12/31/2019   \n",
       "CROWNWeb Date                                          01/01/2019 - 12/31/2019   \n",
       "STrR Date                                              01/01/2019 - 12/31/2019   \n",
       "Percentage Of Medicare Patients With Hgb < 10 g/dL                          14   \n",
       "Percentage Of Medicare Patients With Hgb > 12 g/dL                           0   \n",
       "Number Of Dialysis Patients With Hgb Data                                   21   \n",
       "Patient Transfusion Category Text                                  As Expected   \n",
       "Number Of Patients Included In The Transfusion ...                          38   \n",
       "Percent Of Adult HD Patients With Kt/V >= 1.2                               97   \n",
       "Adult PD Kt/V Data Availability Code                                       199   \n",
       "Pediatric HD Kt/V Data Availability Code                                   259   \n",
       "Number Of Adult HD Patients With Kt/V Data                                  43   \n",
       "Number Of Adult HD Patient-Months With Kt/V Data                           369   \n",
       "Number Of Adult PD Patients With Kt/V Data                                  13   \n",
       "Number Of Pediatric HD Patients With Kt/V Data                               0   \n",
       "Number Of Patients In Hypercalcemia Summary                                 56   \n",
       "Number Of Patient-Months In Hypercalcemia Summary                          495   \n",
       "Percentage Of Adult Patients With Hypercalcemia...                           7   \n",
       "Number Of Patients In Serum Phosphorus Summary                              58   \n",
       "Number Of Patient-Months In Serum Phosphorus Su...                         498   \n",
       "Percentage Of Adult Patients With Serum Phospho...                           4   \n",
       "Percentage Of Adult Patients With Serum Phospho...                          21   \n",
       "Percentage Of Adult Patients With Serum Phospho...                          46   \n",
       "Percentage Of Adult Patients With Serum Phospho...                          13   \n",
       "Percentage Of Adult Patients With Serum Phospho...                          16   \n",
       "SHR Date                                               01/01/2019 - 12/31/2019   \n",
       "SRR Date                                               01/01/2019 - 12/31/2019   \n",
       "SMR Date                                               01/01/2016 - 12/31/2019   \n",
       "Patient Hospitalization Category Text                              As Expected   \n",
       "Patient Hospital Readmission Category Text                         As Expected   \n",
       "Patient Survival Category Text                                     As Expected   \n",
       "Number Of Patients Included In Hospitalization ...                          41   \n",
       "Number Of Hospitalizations Included In Hospital...                          34   \n",
       "Number Of Patients Included In Survival Summary                            127   \n",
       "Mortality Rate (Facility)                                                 24.4   \n",
       "Mortality Rate: Upper Confidence Limit (97.5%)                            36.7   \n",
       "Mortality Rate: Lower Confidence Limit (2.5%)                             15.5   \n",
       "Readmission Rate (Facility)                                               18.2   \n",
       "Readmission Rate: Upper Confidence Limit (97.5%)                          38.3   \n",
       "Readmission Rate: Lower Confidence Limit (2.5%)                            5.8   \n",
       "\n",
       "                                                                                2  \\\n",
       "Provider Number                                                             62591   \n",
       "Network                                                                        15   \n",
       "Facility Name                                       DAVITA PLATTE VALLEY DIALYSIS   \n",
       "Star Rating Date                                          01/01/2016 - 12/31/2019   \n",
       "Star Rating                                                                     5   \n",
       "Address Line 1                                                     1321 S 4TH AVE   \n",
       "City                                                                     BRIGHTON   \n",
       "State                                                                          CO   \n",
       "Zip                                                                         80601   \n",
       "County                                                                      ADAMS   \n",
       "Phone Number                                                       (303) 654-8202   \n",
       "Profit Or Non-Profit                                                            1   \n",
       "Chain Owned                                                                     1   \n",
       "Chain Organization                                                         DAVITA   \n",
       "Late Shift                                                                      0   \n",
       "Number Of Dialysis Stations                                                    12   \n",
       "Offers In-Center Hemodialysis                                                   1   \n",
       "Offers Peritoneal Dialysis                                                      1   \n",
       "Offers Home Hemodialysis Training                                               0   \n",
       "Certification Or Recertification Date                         2018-01-02 00:00:00   \n",
       "Claims Date                                               01/01/2019 - 12/31/2019   \n",
       "CROWNWeb Date                                             01/01/2019 - 12/31/2019   \n",
       "STrR Date                                                 01/01/2019 - 12/31/2019   \n",
       "Percentage Of Medicare Patients With Hgb < 10 g/dL                              0   \n",
       "Percentage Of Medicare Patients With Hgb > 12 g/dL                              0   \n",
       "Number Of Dialysis Patients With Hgb Data                                      11   \n",
       "Patient Transfusion Category Text                                     As Expected   \n",
       "Number Of Patients Included In The Transfusion ...                             26   \n",
       "Percent Of Adult HD Patients With Kt/V >= 1.2                                 100   \n",
       "Adult PD Kt/V Data Availability Code                                          199   \n",
       "Pediatric HD Kt/V Data Availability Code                                      259   \n",
       "Number Of Adult HD Patients With Kt/V Data                                     26   \n",
       "Number Of Adult HD Patient-Months With Kt/V Data                              206   \n",
       "Number Of Adult PD Patients With Kt/V Data                                     18   \n",
       "Number Of Pediatric HD Patients With Kt/V Data                                  0   \n",
       "Number Of Patients In Hypercalcemia Summary                                    42   \n",
       "Number Of Patient-Months In Hypercalcemia Summary                             351   \n",
       "Percentage Of Adult Patients With Hypercalcemia...                              3   \n",
       "Number Of Patients In Serum Phosphorus Summary                                 45   \n",
       "Number Of Patient-Months In Serum Phosphorus Su...                            358   \n",
       "Percentage Of Adult Patients With Serum Phospho...                              4   \n",
       "Percentage Of Adult Patients With Serum Phospho...                             25   \n",
       "Percentage Of Adult Patients With Serum Phospho...                             30   \n",
       "Percentage Of Adult Patients With Serum Phospho...                             23   \n",
       "Percentage Of Adult Patients With Serum Phospho...                             17   \n",
       "SHR Date                                                  01/01/2019 - 12/31/2019   \n",
       "SRR Date                                                  01/01/2019 - 12/31/2019   \n",
       "SMR Date                                                  01/01/2016 - 12/31/2019   \n",
       "Patient Hospitalization Category Text                                 As Expected   \n",
       "Patient Hospital Readmission Category Text                            As Expected   \n",
       "Patient Survival Category Text                                        As Expected   \n",
       "Number Of Patients Included In Hospitalization ...                             30   \n",
       "Number Of Hospitalizations Included In Hospital...                             16   \n",
       "Number Of Patients Included In Survival Summary                                44   \n",
       "Mortality Rate (Facility)                                                    19.1   \n",
       "Mortality Rate: Upper Confidence Limit (97.5%)                               48.8   \n",
       "Mortality Rate: Lower Confidence Limit (2.5%)                                 5.2   \n",
       "Readmission Rate (Facility)                                                    31   \n",
       "Readmission Rate: Upper Confidence Limit (97.5%)                             67.5   \n",
       "Readmission Rate: Lower Confidence Limit (2.5%)                               8.6   \n",
       "\n",
       "                                                                            3  \\\n",
       "Provider Number                                                        102816   \n",
       "Network                                                                     7   \n",
       "Facility Name                                       DAVITA MELBOURNE DIALYSIS   \n",
       "Star Rating Date                                      01/01/2016 - 12/31/2019   \n",
       "Star Rating                                                                 2   \n",
       "Address Line 1                                          2235 SOUTH BABCOCK ST   \n",
       "City                                                                MELBOURNE   \n",
       "State                                                                      FL   \n",
       "Zip                                                                     32901   \n",
       "County                                                                BREVARD   \n",
       "Phone Number                                                   (321) 956-6252   \n",
       "Profit Or Non-Profit                                                        1   \n",
       "Chain Owned                                                                 1   \n",
       "Chain Organization                                                     DAVITA   \n",
       "Late Shift                                                                  0   \n",
       "Number Of Dialysis Stations                                                16   \n",
       "Offers In-Center Hemodialysis                                               1   \n",
       "Offers Peritoneal Dialysis                                                  1   \n",
       "Offers Home Hemodialysis Training                                           0   \n",
       "Certification Or Recertification Date                     2005-03-23 00:00:00   \n",
       "Claims Date                                           01/01/2019 - 12/31/2019   \n",
       "CROWNWeb Date                                         01/01/2019 - 12/31/2019   \n",
       "STrR Date                                             01/01/2019 - 12/31/2019   \n",
       "Percentage Of Medicare Patients With Hgb < 10 g/dL                         15   \n",
       "Percentage Of Medicare Patients With Hgb > 12 g/dL                          0   \n",
       "Number Of Dialysis Patients With Hgb Data                                  27   \n",
       "Patient Transfusion Category Text                         Worse than Expected   \n",
       "Number Of Patients Included In The Transfusion ...                         57   \n",
       "Percent Of Adult HD Patients With Kt/V >= 1.2                              99   \n",
       "Adult PD Kt/V Data Availability Code                                      199   \n",
       "Pediatric HD Kt/V Data Availability Code                                  259   \n",
       "Number Of Adult HD Patients With Kt/V Data                                 59   \n",
       "Number Of Adult HD Patient-Months With Kt/V Data                          358   \n",
       "Number Of Adult PD Patients With Kt/V Data                                 21   \n",
       "Number Of Pediatric HD Patients With Kt/V Data                              0   \n",
       "Number Of Patients In Hypercalcemia Summary                                77   \n",
       "Number Of Patient-Months In Hypercalcemia Summary                         566   \n",
       "Percentage Of Adult Patients With Hypercalcemia...                          0   \n",
       "Number Of Patients In Serum Phosphorus Summary                             87   \n",
       "Number Of Patient-Months In Serum Phosphorus Su...                        606   \n",
       "Percentage Of Adult Patients With Serum Phospho...                          7   \n",
       "Percentage Of Adult Patients With Serum Phospho...                         21   \n",
       "Percentage Of Adult Patients With Serum Phospho...                         23   \n",
       "Percentage Of Adult Patients With Serum Phospho...                         22   \n",
       "Percentage Of Adult Patients With Serum Phospho...                         27   \n",
       "SHR Date                                              01/01/2019 - 12/31/2019   \n",
       "SRR Date                                              01/01/2019 - 12/31/2019   \n",
       "SMR Date                                              01/01/2016 - 12/31/2019   \n",
       "Patient Hospitalization Category Text                             As Expected   \n",
       "Patient Hospital Readmission Category Text                        As Expected   \n",
       "Patient Survival Category Text                            Worse than Expected   \n",
       "Number Of Patients Included In Hospitalization ...                         62   \n",
       "Number Of Hospitalizations Included In Hospital...                         79   \n",
       "Number Of Patients Included In Survival Summary                           285   \n",
       "Mortality Rate (Facility)                                                34.2   \n",
       "Mortality Rate: Upper Confidence Limit (97.5%)                           44.4   \n",
       "Mortality Rate: Lower Confidence Limit (2.5%)                            25.8   \n",
       "Readmission Rate (Facility)                                                22   \n",
       "Readmission Rate: Upper Confidence Limit (97.5%)                         35.1   \n",
       "Readmission Rate: Lower Confidence Limit (2.5%)                          12.2   \n",
       "\n",
       "                                                                             4  \n",
       "Provider Number                                                         112867  \n",
       "Network                                                                      6  \n",
       "Facility Name                                       DAVITA WEST HIRAM DIALYSIS  \n",
       "Star Rating Date                                       01/01/2016 - 12/31/2019  \n",
       "Star Rating                                                                  4  \n",
       "Address Line 1                                      76 HIGHLAND PAVILION COURT  \n",
       "City                                                                     HIRAM  \n",
       "State                                                                       GA  \n",
       "Zip                                                                      30141  \n",
       "County                                                                PAULDING  \n",
       "Phone Number                                                    (678) 384-1180  \n",
       "Profit Or Non-Profit                                                         1  \n",
       "Chain Owned                                                                  1  \n",
       "Chain Organization                                                      DAVITA  \n",
       "Late Shift                                                                   0  \n",
       "Number Of Dialysis Stations                                                 13  \n",
       "Offers In-Center Hemodialysis                                                1  \n",
       "Offers Peritoneal Dialysis                                                   1  \n",
       "Offers Home Hemodialysis Training                                            1  \n",
       "Certification Or Recertification Date                      2013-05-14 00:00:00  \n",
       "Claims Date                                            01/01/2019 - 12/31/2019  \n",
       "CROWNWeb Date                                          01/01/2019 - 12/31/2019  \n",
       "STrR Date                                              01/01/2019 - 12/31/2019  \n",
       "Percentage Of Medicare Patients With Hgb < 10 g/dL                          19  \n",
       "Percentage Of Medicare Patients With Hgb > 12 g/dL                           0  \n",
       "Number Of Dialysis Patients With Hgb Data                                   37  \n",
       "Patient Transfusion Category Text                                  As Expected  \n",
       "Number Of Patients Included In The Transfusion ...                          55  \n",
       "Percent Of Adult HD Patients With Kt/V >= 1.2                               97  \n",
       "Adult PD Kt/V Data Availability Code                                       199  \n",
       "Pediatric HD Kt/V Data Availability Code                                   259  \n",
       "Number Of Adult HD Patients With Kt/V Data                                  64  \n",
       "Number Of Adult HD Patient-Months With Kt/V Data                           569  \n",
       "Number Of Adult PD Patients With Kt/V Data                                   4  \n",
       "Number Of Pediatric HD Patients With Kt/V Data                               0  \n",
       "Number Of Patients In Hypercalcemia Summary                                 76  \n",
       "Number Of Patient-Months In Hypercalcemia Summary                          710  \n",
       "Percentage Of Adult Patients With Hypercalcemia...                           1  \n",
       "Number Of Patients In Serum Phosphorus Summary                              79  \n",
       "Number Of Patient-Months In Serum Phosphorus Su...                         718  \n",
       "Percentage Of Adult Patients With Serum Phospho...                          10  \n",
       "Percentage Of Adult Patients With Serum Phospho...                          27  \n",
       "Percentage Of Adult Patients With Serum Phospho...                          34  \n",
       "Percentage Of Adult Patients With Serum Phospho...                          23  \n",
       "Percentage Of Adult Patients With Serum Phospho...                           7  \n",
       "SHR Date                                               01/01/2019 - 12/31/2019  \n",
       "SRR Date                                               01/01/2019 - 12/31/2019  \n",
       "SMR Date                                               01/01/2016 - 12/31/2019  \n",
       "Patient Hospitalization Category Text                              As Expected  \n",
       "Patient Hospital Readmission Category Text                         As Expected  \n",
       "Patient Survival Category Text                                     As Expected  \n",
       "Number Of Patients Included In Hospitalization ...                          59  \n",
       "Number Of Hospitalizations Included In Hospital...                          66  \n",
       "Number Of Patients Included In Survival Summary                            198  \n",
       "Mortality Rate (Facility)                                                 23.1  \n",
       "Mortality Rate: Upper Confidence Limit (97.5%)                              36  \n",
       "Mortality Rate: Lower Confidence Limit (2.5%)                             13.9  \n",
       "Readmission Rate (Facility)                                               35.1  \n",
       "Readmission Rate: Upper Confidence Limit (97.5%)                          52.3  \n",
       "Readmission Rate: Lower Confidence Limit (2.5%)                           20.2  "
      ]
     },
     "execution_count": 191,
     "metadata": {},
     "output_type": "execute_result"
    }
   ],
   "source": [
    "df.iloc[:5, :60].head().T"
   ]
  },
  {
   "cell_type": "code",
   "execution_count": 192,
   "metadata": {},
   "outputs": [
    {
     "data": {
      "text/html": [
       "<div>\n",
       "<style scoped>\n",
       "    .dataframe tbody tr th:only-of-type {\n",
       "        vertical-align: middle;\n",
       "    }\n",
       "\n",
       "    .dataframe tbody tr th {\n",
       "        vertical-align: top;\n",
       "    }\n",
       "\n",
       "    .dataframe thead th {\n",
       "        text-align: right;\n",
       "    }\n",
       "</style>\n",
       "<table border=\"1\" class=\"dataframe\">\n",
       "  <thead>\n",
       "    <tr style=\"text-align: right;\">\n",
       "      <th></th>\n",
       "      <th>0</th>\n",
       "      <th>1</th>\n",
       "      <th>2</th>\n",
       "      <th>3</th>\n",
       "      <th>4</th>\n",
       "    </tr>\n",
       "  </thead>\n",
       "  <tbody>\n",
       "    <tr>\n",
       "      <th>Hospitalization Rate (Facility)</th>\n",
       "      <td>224.5</td>\n",
       "      <td>118.4</td>\n",
       "      <td>84.8</td>\n",
       "      <td>280.4</td>\n",
       "      <td>193.4</td>\n",
       "    </tr>\n",
       "    <tr>\n",
       "      <th>Hospitalization Rate: Upper Confidence Limit (97.5%)</th>\n",
       "      <td>359.9</td>\n",
       "      <td>236.3</td>\n",
       "      <td>204.8</td>\n",
       "      <td>431.4</td>\n",
       "      <td>332.9</td>\n",
       "    </tr>\n",
       "    <tr>\n",
       "      <th>Hospitalization Rate: Lower Confidence Limit (2.5%)</th>\n",
       "      <td>146.1</td>\n",
       "      <td>63.2</td>\n",
       "      <td>37.4</td>\n",
       "      <td>189.5</td>\n",
       "      <td>113.9</td>\n",
       "    </tr>\n",
       "    <tr>\n",
       "      <th>Number Of Pediatric PD Patients With Kt/V Data</th>\n",
       "      <td>0</td>\n",
       "      <td>0</td>\n",
       "      <td>0</td>\n",
       "      <td>0</td>\n",
       "      <td>0</td>\n",
       "    </tr>\n",
       "    <tr>\n",
       "      <th>Pediatric PD Kt/V Data Availability Code</th>\n",
       "      <td>259</td>\n",
       "      <td>259</td>\n",
       "      <td>259</td>\n",
       "      <td>259</td>\n",
       "      <td>259</td>\n",
       "    </tr>\n",
       "    <tr>\n",
       "      <th>SIR Date</th>\n",
       "      <td>01/01/2019 - 12/31/2019</td>\n",
       "      <td>01/01/2019 - 12/31/2019</td>\n",
       "      <td>01/01/2019 - 12/31/2019</td>\n",
       "      <td>01/01/2019 - 12/31/2019</td>\n",
       "      <td>01/01/2019 - 12/31/2019</td>\n",
       "    </tr>\n",
       "    <tr>\n",
       "      <th>Patient Infection Category Text</th>\n",
       "      <td>As Expected</td>\n",
       "      <td>As Expected</td>\n",
       "      <td>As Expected</td>\n",
       "      <td>As Expected</td>\n",
       "      <td>As Expected</td>\n",
       "    </tr>\n",
       "    <tr>\n",
       "      <th>Standard Infection Ratio</th>\n",
       "      <td>0.38</td>\n",
       "      <td>0.87</td>\n",
       "      <td>0.7</td>\n",
       "      <td>0.23</td>\n",
       "      <td>0.55</td>\n",
       "    </tr>\n",
       "    <tr>\n",
       "      <th>SIR: Upper Confidence Limit (97.5%)</th>\n",
       "      <td>1.24</td>\n",
       "      <td>2.36</td>\n",
       "      <td>3.46</td>\n",
       "      <td>1.15</td>\n",
       "      <td>1.81</td>\n",
       "    </tr>\n",
       "    <tr>\n",
       "      <th>SIR: Lower Confidence Limit (2.5%)</th>\n",
       "      <td>0.06</td>\n",
       "      <td>0.22</td>\n",
       "      <td>0.04</td>\n",
       "      <td>0.01</td>\n",
       "      <td>0.09</td>\n",
       "    </tr>\n",
       "    <tr>\n",
       "      <th>Transfusion Rate (Facility)</th>\n",
       "      <td>24.3</td>\n",
       "      <td>13.9</td>\n",
       "      <td>0</td>\n",
       "      <td>53.8</td>\n",
       "      <td>26.5</td>\n",
       "    </tr>\n",
       "    <tr>\n",
       "      <th>Transfusion Rate: Upper Confidence Limit (97.5%)</th>\n",
       "      <td>107.9</td>\n",
       "      <td>114.1</td>\n",
       "      <td>40.7</td>\n",
       "      <td>142.7</td>\n",
       "      <td>96.3</td>\n",
       "    </tr>\n",
       "    <tr>\n",
       "      <th>Transfusion Rate: Lower Confidence Limit (2.5%)</th>\n",
       "      <td>7</td>\n",
       "      <td>2.4</td>\n",
       "      <td>0</td>\n",
       "      <td>23.8</td>\n",
       "      <td>9</td>\n",
       "    </tr>\n",
       "    <tr>\n",
       "      <th>Fistula Category Text</th>\n",
       "      <td>As Expected</td>\n",
       "      <td>As Expected</td>\n",
       "      <td>Better than Expected</td>\n",
       "      <td>As Expected</td>\n",
       "      <td>As Expected</td>\n",
       "    </tr>\n",
       "    <tr>\n",
       "      <th>Number Of Patients Included In Fistula Summary</th>\n",
       "      <td>109</td>\n",
       "      <td>53</td>\n",
       "      <td>27</td>\n",
       "      <td>69</td>\n",
       "      <td>76</td>\n",
       "    </tr>\n",
       "    <tr>\n",
       "      <th>Fistula Rate (Facility)</th>\n",
       "      <td>72.5</td>\n",
       "      <td>71.4</td>\n",
       "      <td>90.9</td>\n",
       "      <td>59</td>\n",
       "      <td>72.1</td>\n",
       "    </tr>\n",
       "    <tr>\n",
       "      <th>Fistula Rate: Upper Confidence Limit (97.5%)</th>\n",
       "      <td>87.3</td>\n",
       "      <td>92.8</td>\n",
       "      <td>100</td>\n",
       "      <td>83.4</td>\n",
       "      <td>89.8</td>\n",
       "    </tr>\n",
       "    <tr>\n",
       "      <th>Fistula Rate: Lower Confidence Limit (2.5%)</th>\n",
       "      <td>56.6</td>\n",
       "      <td>48.4</td>\n",
       "      <td>73.5</td>\n",
       "      <td>32.9</td>\n",
       "      <td>53.2</td>\n",
       "    </tr>\n",
       "    <tr>\n",
       "      <th>Number Of Patients In Long Term Catheter Summary</th>\n",
       "      <td>109</td>\n",
       "      <td>53</td>\n",
       "      <td>27</td>\n",
       "      <td>69</td>\n",
       "      <td>76</td>\n",
       "    </tr>\n",
       "    <tr>\n",
       "      <th>Number Of Patient-Months In Long Term Catheter Summary</th>\n",
       "      <td>726</td>\n",
       "      <td>422</td>\n",
       "      <td>241</td>\n",
       "      <td>431</td>\n",
       "      <td>677</td>\n",
       "    </tr>\n",
       "    <tr>\n",
       "      <th>Percentage Of Adult Patients With Long Term Catheter In Use</th>\n",
       "      <td>11</td>\n",
       "      <td>19</td>\n",
       "      <td>7</td>\n",
       "      <td>19</td>\n",
       "      <td>11</td>\n",
       "    </tr>\n",
       "    <tr>\n",
       "      <th>Number Of Patients In nPCR Summary</th>\n",
       "      <td>0</td>\n",
       "      <td>0</td>\n",
       "      <td>0</td>\n",
       "      <td>0</td>\n",
       "      <td>0</td>\n",
       "    </tr>\n",
       "    <tr>\n",
       "      <th>nPCR Data Availability Code</th>\n",
       "      <td>259</td>\n",
       "      <td>259</td>\n",
       "      <td>259</td>\n",
       "      <td>259</td>\n",
       "      <td>259</td>\n",
       "    </tr>\n",
       "    <tr>\n",
       "      <th>SWR Date</th>\n",
       "      <td>01/01/2016 - 12/31/2018</td>\n",
       "      <td>01/01/2016 - 12/31/2018</td>\n",
       "      <td>01/01/2016 - 12/31/2018</td>\n",
       "      <td>01/01/2016 - 12/31/2018</td>\n",
       "      <td>01/01/2016 - 12/31/2018</td>\n",
       "    </tr>\n",
       "    <tr>\n",
       "      <th>SWR Category Text</th>\n",
       "      <td>As Expected</td>\n",
       "      <td>As Expected</td>\n",
       "      <td>As Expected</td>\n",
       "      <td>As Expected</td>\n",
       "      <td>As Expected</td>\n",
       "    </tr>\n",
       "    <tr>\n",
       "      <th>95% C.I. (Upper Limit) For SWR</th>\n",
       "      <td>2.37</td>\n",
       "      <td>2.37</td>\n",
       "      <td>2.37</td>\n",
       "      <td>1.66</td>\n",
       "      <td>2.37</td>\n",
       "    </tr>\n",
       "    <tr>\n",
       "      <th>95% C.I. (Lower Limit) For SWR</th>\n",
       "      <td>0.18</td>\n",
       "      <td>0.18</td>\n",
       "      <td>0.18</td>\n",
       "      <td>0.01</td>\n",
       "      <td>0.18</td>\n",
       "    </tr>\n",
       "    <tr>\n",
       "      <th>Number Of Patients In This Facility For SWR</th>\n",
       "      <td>18</td>\n",
       "      <td>27</td>\n",
       "      <td>11</td>\n",
       "      <td>35</td>\n",
       "      <td>19</td>\n",
       "    </tr>\n",
       "    <tr>\n",
       "      <th>Standardized First Kidney Transplant Waitlist Ratio</th>\n",
       "      <td>0.82</td>\n",
       "      <td>0.82</td>\n",
       "      <td>0.82</td>\n",
       "      <td>0.3</td>\n",
       "      <td>0.82</td>\n",
       "    </tr>\n",
       "    <tr>\n",
       "      <th>PPPW Category Text</th>\n",
       "      <td>As Expected</td>\n",
       "      <td>As Expected</td>\n",
       "      <td>As Expected</td>\n",
       "      <td>As Expected</td>\n",
       "      <td>As Expected</td>\n",
       "    </tr>\n",
       "    <tr>\n",
       "      <th>95% C.I. (Upper Limit) For PPPW</th>\n",
       "      <td>44</td>\n",
       "      <td>49.5</td>\n",
       "      <td>52.1</td>\n",
       "      <td>38.6</td>\n",
       "      <td>45.5</td>\n",
       "    </tr>\n",
       "    <tr>\n",
       "      <th>95% C.I. (Lower Limit) For PPPW</th>\n",
       "      <td>8.8</td>\n",
       "      <td>4.8</td>\n",
       "      <td>7.6</td>\n",
       "      <td>2.2</td>\n",
       "      <td>9.8</td>\n",
       "    </tr>\n",
       "    <tr>\n",
       "      <th>Number Of Patients For PPPW</th>\n",
       "      <td>93</td>\n",
       "      <td>52</td>\n",
       "      <td>38</td>\n",
       "      <td>66</td>\n",
       "      <td>68</td>\n",
       "    </tr>\n",
       "    <tr>\n",
       "      <th>Percentage Of Prevalent Patients Waitlisted</th>\n",
       "      <td>21.6</td>\n",
       "      <td>18.2</td>\n",
       "      <td>23.1</td>\n",
       "      <td>10.5</td>\n",
       "      <td>23.1</td>\n",
       "    </tr>\n",
       "  </tbody>\n",
       "</table>\n",
       "</div>"
      ],
      "text/plain": [
       "                                                                          0  \\\n",
       "Hospitalization Rate (Facility)                                       224.5   \n",
       "Hospitalization Rate: Upper Confidence Limit (9...                    359.9   \n",
       "Hospitalization Rate: Lower Confidence Limit (2...                    146.1   \n",
       "Number Of Pediatric PD Patients With Kt/V Data                            0   \n",
       "Pediatric PD Kt/V Data Availability Code                                259   \n",
       "SIR Date                                            01/01/2019 - 12/31/2019   \n",
       "Patient Infection Category Text                                 As Expected   \n",
       "Standard Infection Ratio                                               0.38   \n",
       "SIR: Upper Confidence Limit (97.5%)                                    1.24   \n",
       "SIR: Lower Confidence Limit (2.5%)                                     0.06   \n",
       "Transfusion Rate (Facility)                                            24.3   \n",
       "Transfusion Rate: Upper Confidence Limit (97.5%)                      107.9   \n",
       "Transfusion Rate: Lower Confidence Limit (2.5%)                           7   \n",
       "Fistula Category Text                                           As Expected   \n",
       "Number Of Patients Included In Fistula Summary                          109   \n",
       "Fistula Rate (Facility)                                                72.5   \n",
       "Fistula Rate: Upper Confidence Limit (97.5%)                           87.3   \n",
       "Fistula Rate: Lower Confidence Limit (2.5%)                            56.6   \n",
       "Number Of Patients In Long Term Catheter Summary                        109   \n",
       "Number Of Patient-Months In Long Term Catheter ...                      726   \n",
       "Percentage Of Adult Patients With Long Term Cat...                       11   \n",
       "Number Of Patients In nPCR Summary                                        0   \n",
       "nPCR Data Availability Code                                             259   \n",
       "SWR Date                                            01/01/2016 - 12/31/2018   \n",
       "SWR Category Text                                               As Expected   \n",
       "95% C.I. (Upper Limit) For SWR                                         2.37   \n",
       "95% C.I. (Lower Limit) For SWR                                         0.18   \n",
       "Number Of Patients In This Facility For SWR                              18   \n",
       "Standardized First Kidney Transplant Waitlist R...                     0.82   \n",
       "PPPW Category Text                                              As Expected   \n",
       "95% C.I. (Upper Limit) For PPPW                                          44   \n",
       "95% C.I. (Lower Limit) For PPPW                                         8.8   \n",
       "Number Of Patients For PPPW                                              93   \n",
       "Percentage Of Prevalent Patients Waitlisted                            21.6   \n",
       "\n",
       "                                                                          1  \\\n",
       "Hospitalization Rate (Facility)                                       118.4   \n",
       "Hospitalization Rate: Upper Confidence Limit (9...                    236.3   \n",
       "Hospitalization Rate: Lower Confidence Limit (2...                     63.2   \n",
       "Number Of Pediatric PD Patients With Kt/V Data                            0   \n",
       "Pediatric PD Kt/V Data Availability Code                                259   \n",
       "SIR Date                                            01/01/2019 - 12/31/2019   \n",
       "Patient Infection Category Text                                 As Expected   \n",
       "Standard Infection Ratio                                               0.87   \n",
       "SIR: Upper Confidence Limit (97.5%)                                    2.36   \n",
       "SIR: Lower Confidence Limit (2.5%)                                     0.22   \n",
       "Transfusion Rate (Facility)                                            13.9   \n",
       "Transfusion Rate: Upper Confidence Limit (97.5%)                      114.1   \n",
       "Transfusion Rate: Lower Confidence Limit (2.5%)                         2.4   \n",
       "Fistula Category Text                                           As Expected   \n",
       "Number Of Patients Included In Fistula Summary                           53   \n",
       "Fistula Rate (Facility)                                                71.4   \n",
       "Fistula Rate: Upper Confidence Limit (97.5%)                           92.8   \n",
       "Fistula Rate: Lower Confidence Limit (2.5%)                            48.4   \n",
       "Number Of Patients In Long Term Catheter Summary                         53   \n",
       "Number Of Patient-Months In Long Term Catheter ...                      422   \n",
       "Percentage Of Adult Patients With Long Term Cat...                       19   \n",
       "Number Of Patients In nPCR Summary                                        0   \n",
       "nPCR Data Availability Code                                             259   \n",
       "SWR Date                                            01/01/2016 - 12/31/2018   \n",
       "SWR Category Text                                               As Expected   \n",
       "95% C.I. (Upper Limit) For SWR                                         2.37   \n",
       "95% C.I. (Lower Limit) For SWR                                         0.18   \n",
       "Number Of Patients In This Facility For SWR                              27   \n",
       "Standardized First Kidney Transplant Waitlist R...                     0.82   \n",
       "PPPW Category Text                                              As Expected   \n",
       "95% C.I. (Upper Limit) For PPPW                                        49.5   \n",
       "95% C.I. (Lower Limit) For PPPW                                         4.8   \n",
       "Number Of Patients For PPPW                                              52   \n",
       "Percentage Of Prevalent Patients Waitlisted                            18.2   \n",
       "\n",
       "                                                                          2  \\\n",
       "Hospitalization Rate (Facility)                                        84.8   \n",
       "Hospitalization Rate: Upper Confidence Limit (9...                    204.8   \n",
       "Hospitalization Rate: Lower Confidence Limit (2...                     37.4   \n",
       "Number Of Pediatric PD Patients With Kt/V Data                            0   \n",
       "Pediatric PD Kt/V Data Availability Code                                259   \n",
       "SIR Date                                            01/01/2019 - 12/31/2019   \n",
       "Patient Infection Category Text                                 As Expected   \n",
       "Standard Infection Ratio                                                0.7   \n",
       "SIR: Upper Confidence Limit (97.5%)                                    3.46   \n",
       "SIR: Lower Confidence Limit (2.5%)                                     0.04   \n",
       "Transfusion Rate (Facility)                                               0   \n",
       "Transfusion Rate: Upper Confidence Limit (97.5%)                       40.7   \n",
       "Transfusion Rate: Lower Confidence Limit (2.5%)                           0   \n",
       "Fistula Category Text                                  Better than Expected   \n",
       "Number Of Patients Included In Fistula Summary                           27   \n",
       "Fistula Rate (Facility)                                                90.9   \n",
       "Fistula Rate: Upper Confidence Limit (97.5%)                            100   \n",
       "Fistula Rate: Lower Confidence Limit (2.5%)                            73.5   \n",
       "Number Of Patients In Long Term Catheter Summary                         27   \n",
       "Number Of Patient-Months In Long Term Catheter ...                      241   \n",
       "Percentage Of Adult Patients With Long Term Cat...                        7   \n",
       "Number Of Patients In nPCR Summary                                        0   \n",
       "nPCR Data Availability Code                                             259   \n",
       "SWR Date                                            01/01/2016 - 12/31/2018   \n",
       "SWR Category Text                                               As Expected   \n",
       "95% C.I. (Upper Limit) For SWR                                         2.37   \n",
       "95% C.I. (Lower Limit) For SWR                                         0.18   \n",
       "Number Of Patients In This Facility For SWR                              11   \n",
       "Standardized First Kidney Transplant Waitlist R...                     0.82   \n",
       "PPPW Category Text                                              As Expected   \n",
       "95% C.I. (Upper Limit) For PPPW                                        52.1   \n",
       "95% C.I. (Lower Limit) For PPPW                                         7.6   \n",
       "Number Of Patients For PPPW                                              38   \n",
       "Percentage Of Prevalent Patients Waitlisted                            23.1   \n",
       "\n",
       "                                                                          3  \\\n",
       "Hospitalization Rate (Facility)                                       280.4   \n",
       "Hospitalization Rate: Upper Confidence Limit (9...                    431.4   \n",
       "Hospitalization Rate: Lower Confidence Limit (2...                    189.5   \n",
       "Number Of Pediatric PD Patients With Kt/V Data                            0   \n",
       "Pediatric PD Kt/V Data Availability Code                                259   \n",
       "SIR Date                                            01/01/2019 - 12/31/2019   \n",
       "Patient Infection Category Text                                 As Expected   \n",
       "Standard Infection Ratio                                               0.23   \n",
       "SIR: Upper Confidence Limit (97.5%)                                    1.15   \n",
       "SIR: Lower Confidence Limit (2.5%)                                     0.01   \n",
       "Transfusion Rate (Facility)                                            53.8   \n",
       "Transfusion Rate: Upper Confidence Limit (97.5%)                      142.7   \n",
       "Transfusion Rate: Lower Confidence Limit (2.5%)                        23.8   \n",
       "Fistula Category Text                                           As Expected   \n",
       "Number Of Patients Included In Fistula Summary                           69   \n",
       "Fistula Rate (Facility)                                                  59   \n",
       "Fistula Rate: Upper Confidence Limit (97.5%)                           83.4   \n",
       "Fistula Rate: Lower Confidence Limit (2.5%)                            32.9   \n",
       "Number Of Patients In Long Term Catheter Summary                         69   \n",
       "Number Of Patient-Months In Long Term Catheter ...                      431   \n",
       "Percentage Of Adult Patients With Long Term Cat...                       19   \n",
       "Number Of Patients In nPCR Summary                                        0   \n",
       "nPCR Data Availability Code                                             259   \n",
       "SWR Date                                            01/01/2016 - 12/31/2018   \n",
       "SWR Category Text                                               As Expected   \n",
       "95% C.I. (Upper Limit) For SWR                                         1.66   \n",
       "95% C.I. (Lower Limit) For SWR                                         0.01   \n",
       "Number Of Patients In This Facility For SWR                              35   \n",
       "Standardized First Kidney Transplant Waitlist R...                      0.3   \n",
       "PPPW Category Text                                              As Expected   \n",
       "95% C.I. (Upper Limit) For PPPW                                        38.6   \n",
       "95% C.I. (Lower Limit) For PPPW                                         2.2   \n",
       "Number Of Patients For PPPW                                              66   \n",
       "Percentage Of Prevalent Patients Waitlisted                            10.5   \n",
       "\n",
       "                                                                          4  \n",
       "Hospitalization Rate (Facility)                                       193.4  \n",
       "Hospitalization Rate: Upper Confidence Limit (9...                    332.9  \n",
       "Hospitalization Rate: Lower Confidence Limit (2...                    113.9  \n",
       "Number Of Pediatric PD Patients With Kt/V Data                            0  \n",
       "Pediatric PD Kt/V Data Availability Code                                259  \n",
       "SIR Date                                            01/01/2019 - 12/31/2019  \n",
       "Patient Infection Category Text                                 As Expected  \n",
       "Standard Infection Ratio                                               0.55  \n",
       "SIR: Upper Confidence Limit (97.5%)                                    1.81  \n",
       "SIR: Lower Confidence Limit (2.5%)                                     0.09  \n",
       "Transfusion Rate (Facility)                                            26.5  \n",
       "Transfusion Rate: Upper Confidence Limit (97.5%)                       96.3  \n",
       "Transfusion Rate: Lower Confidence Limit (2.5%)                           9  \n",
       "Fistula Category Text                                           As Expected  \n",
       "Number Of Patients Included In Fistula Summary                           76  \n",
       "Fistula Rate (Facility)                                                72.1  \n",
       "Fistula Rate: Upper Confidence Limit (97.5%)                           89.8  \n",
       "Fistula Rate: Lower Confidence Limit (2.5%)                            53.2  \n",
       "Number Of Patients In Long Term Catheter Summary                         76  \n",
       "Number Of Patient-Months In Long Term Catheter ...                      677  \n",
       "Percentage Of Adult Patients With Long Term Cat...                       11  \n",
       "Number Of Patients In nPCR Summary                                        0  \n",
       "nPCR Data Availability Code                                             259  \n",
       "SWR Date                                            01/01/2016 - 12/31/2018  \n",
       "SWR Category Text                                               As Expected  \n",
       "95% C.I. (Upper Limit) For SWR                                         2.37  \n",
       "95% C.I. (Lower Limit) For SWR                                         0.18  \n",
       "Number Of Patients In This Facility For SWR                              19  \n",
       "Standardized First Kidney Transplant Waitlist R...                     0.82  \n",
       "PPPW Category Text                                              As Expected  \n",
       "95% C.I. (Upper Limit) For PPPW                                        45.5  \n",
       "95% C.I. (Lower Limit) For PPPW                                         9.8  \n",
       "Number Of Patients For PPPW                                              68  \n",
       "Percentage Of Prevalent Patients Waitlisted                            23.1  "
      ]
     },
     "execution_count": 192,
     "metadata": {},
     "output_type": "execute_result"
    }
   ],
   "source": [
    "df.iloc[:5, 60:].head().T"
   ]
  },
  {
   "cell_type": "markdown",
   "metadata": {},
   "source": [
    "# Export to new csv"
   ]
  },
  {
   "cell_type": "code",
   "execution_count": 193,
   "metadata": {},
   "outputs": [],
   "source": [
    "import os"
   ]
  },
  {
   "cell_type": "code",
   "execution_count": 194,
   "metadata": {
    "scrolled": true
   },
   "outputs": [
    {
     "data": {
      "text/plain": [
       "'/Users/nicholehartz/Documents/DataScience/Projects/Capstone2'"
      ]
     },
     "execution_count": 194,
     "metadata": {},
     "output_type": "execute_result"
    }
   ],
   "source": [
    "os.getcwd()"
   ]
  },
  {
   "cell_type": "code",
   "execution_count": 195,
   "metadata": {},
   "outputs": [],
   "source": [
    "df.to_csv('Data/capstone2_dialysis_cleaned_data.csv')"
   ]
  }
 ],
 "metadata": {
  "kernelspec": {
   "display_name": "Python 3",
   "language": "python",
   "name": "python3"
  },
  "language_info": {
   "codemirror_mode": {
    "name": "ipython",
    "version": 3
   },
   "file_extension": ".py",
   "mimetype": "text/x-python",
   "name": "python",
   "nbconvert_exporter": "python",
   "pygments_lexer": "ipython3",
   "version": "3.6.10"
  }
 },
 "nbformat": 4,
 "nbformat_minor": 4
}
