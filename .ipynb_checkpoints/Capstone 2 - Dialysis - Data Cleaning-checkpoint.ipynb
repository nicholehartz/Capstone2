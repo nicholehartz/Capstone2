{
 "cells": [
  {
   "cell_type": "code",
   "execution_count": 1,
   "metadata": {},
   "outputs": [],
   "source": [
    "import pandas as pd\n",
    "import numpy as np\n",
    "from scipy import stats"
   ]
  },
  {
   "cell_type": "code",
   "execution_count": 2,
   "metadata": {},
   "outputs": [],
   "source": [
    "df = pd.read_csv('Dialysis_Facility_Compare_-_Listing_by_Facility.csv')"
   ]
  },
  {
   "cell_type": "markdown",
   "metadata": {},
   "source": [
    "# Replace Missing Values"
   ]
  },
  {
   "cell_type": "code",
   "execution_count": 3,
   "metadata": {},
   "outputs": [],
   "source": [
    "df.replace(to_replace=['Not Available'], value=np.nan, inplace=True)"
   ]
  },
  {
   "cell_type": "code",
   "execution_count": 4,
   "metadata": {},
   "outputs": [],
   "source": [
    "df.drop(['Location', 'Percentage of Pediatric HD patients with Kt/V >= 1.2', 'Number of Pediatric HD patient-months with Kt/V data', 'Number of pediatric PD patient-months with KT/V data', 'Percentage of pediatric PD patients with Kt/V>=1.8', 'Number of patient-months in nPCR summary', 'Percentage of pediatric HD patients with nPCR'], axis=1, inplace=True)"
   ]
  },
  {
   "cell_type": "code",
   "execution_count": 5,
   "metadata": {},
   "outputs": [],
   "source": [
    "df = df.rename(columns={'Number of patient-months in Serum phosphorus summary ' : 'Number of patient-months in Serum phosphorus summary', 'Serum phosphorus Data Availability Code ' : 'Serum phosphorus Data Availability Code', 'Number of patient months in long term catheter summary' : 'Number of patient-months in long term catheter summary'})"
   ]
  },
  {
   "cell_type": "code",
   "execution_count": 6,
   "metadata": {},
   "outputs": [],
   "source": [
    "fillwithmean= ['Five Star', 'Percentage of Medicare patients with Hgb<10 g/dL', 'Percentage of Medicare patients with Hgb>12 g/dL', 'Number of Dialysis Patients with Hgb data', 'Number of patients included in the transfusion summary', 'Percent of Adult HD patients with Kt/V >= 1.2', 'Percentage of Adult PD PTS with Kt/V >= 1.7', 'Number of Adult HD patients with Kt/V data', 'Number of Adult HD patient-months with Kt/V data', 'Number of Adult PD patients with Kt/V data', 'Number of Adult PD patient-months with Kt/V data', 'Number of Pediatric HD patients with Kt/V data', 'Number of patients in hypercalcemia summary', 'Number of patient-months in hypercalcemia summary', 'Percentage of Adult patients with hypercalcemia (serum calcium greater than 10.2 mg/dL)', 'Number of patients in Serum phosphorus summary', 'Number of patient-months in Serum phosphorus summary', 'Percentage of Adult patients with serum phosphorus less than 3.5 mg/dL', 'Percentage of Adult patients with serum phosphorus between 3.5-4.5 mg/dL', 'Percentage of Adult patients with serum phosphorus between 4.6-5.5 mg/dL', 'Percentage of Adult patients with serum phosphorus between 5.6-7.0 mg/dL', 'Percentage of Adult patients with serum phosphorus greater than 7.0 mg/dL', 'Number of patients included in hospitalization summary', 'Number of hospitalizations included in hospital readmission summary', 'Number of patients included in survival summary', 'Mortality Rate (Facility)', 'Mortality Rate: Upper Confidence Limit (97.5%)', 'Mortality Rate: Lower Confidence Limit (2.5%)', 'Readmission Rate (Facility)', 'Readmission Rate: Upper Confidence Limit (97.5%)', 'Readmission Rate: Lower Confidence Limit (2.5%)', 'Hospitalization Rate (Facility)', 'Hospitalization Rate: Upper Confidence Limit (97.5%)', 'Hospitalization Rate: Lower Confidence Limit (2.5%)', 'Number of pediatric PD patients with Kt/V data', 'Standard Infection Ratio', 'SIR: Upper Confidence Limit (97.5%)', 'SIR: Lower Confidence Limit (2.5%)', 'Transfusion Rate (Facility)', 'Transfusion Rate: Upper Confidence Limit (97.5%)', 'Transfusion Rate: Lower Confidence Limit (2.5%)', 'Number of Patients included in fistula summary', 'Fistula Rate (Facility)', 'Fistula Rate: Upper Confidence Limit (97.5%)', 'Fistula Rate: Lower Confidence Limit (2.5%)', 'Number of patients in long term catheter summary', 'Number of patient-months in long term catheter summary', 'Percentage of Adult patients with long term catheter in use', 'Number of patients in nPCR summary', 'Number of patients in this facility for SWR', 'Standardized First Kidney Transplant Waitlist Ratio', '95% C.I. (upper limit) for PPPW', '95% C.I. (lower limit) for PPPW', 'Number of patients for PPPW', 'Percentage of Prevalent Patients Waitlisted']"
   ]
  },
  {
   "cell_type": "code",
   "execution_count": 7,
   "metadata": {},
   "outputs": [],
   "source": [
    "for col in  df[fillwithmean]:\n",
    "    df[col] = pd.to_numeric(df[col], errors='coerce')"
   ]
  },
  {
   "cell_type": "code",
   "execution_count": 8,
   "metadata": {},
   "outputs": [],
   "source": [
    "df[fillwithmean] = df[fillwithmean].fillna(df[fillwithmean].mean())"
   ]
  },
  {
   "cell_type": "code",
   "execution_count": 9,
   "metadata": {},
   "outputs": [],
   "source": [
    "fillwithnotavailable = ['Patient Transfusion category text', 'Patient Hospitalization category text', 'Patient Hospital Readmission Category', 'Patient Survival Category Text', 'Patient Infection category text', 'Fistula Category Text', 'SWR category text', '95% C.I. (upper limit) for SWR', '95% C.I. (lower limit) for SWR', 'PPPW category text']"
   ]
  },
  {
   "cell_type": "code",
   "execution_count": 10,
   "metadata": {},
   "outputs": [],
   "source": [
    "df[fillwithnotavailable] = df[fillwithnotavailable].fillna('Not Available')"
   ]
  },
  {
   "cell_type": "code",
   "execution_count": 14,
   "metadata": {},
   "outputs": [],
   "source": [
    "df[['Address Line 2', 'Chain Organization']] = df[['Address Line 2', 'Chain Organization']].fillna('-')"
   ]
  },
  {
   "cell_type": "code",
   "execution_count": 15,
   "metadata": {},
   "outputs": [
    {
     "data": {
      "text/plain": [
       "False"
      ]
     },
     "execution_count": 15,
     "metadata": {},
     "output_type": "execute_result"
    }
   ],
   "source": [
    "df.isnull().values.any() "
   ]
  },
  {
   "cell_type": "code",
   "execution_count": null,
   "metadata": {},
   "outputs": [],
   "source": [
    "df.dtypes"
   ]
  },
  {
   "cell_type": "code",
   "execution_count": null,
   "metadata": {},
   "outputs": [],
   "source": [
    "df.head()"
   ]
  },
  {
   "cell_type": "code",
   "execution_count": null,
   "metadata": {
    "scrolled": true
   },
   "outputs": [],
   "source": [
    "df.tail()"
   ]
  },
  {
   "cell_type": "code",
   "execution_count": null,
   "metadata": {},
   "outputs": [],
   "source": [
    "df.shape"
   ]
  },
  {
   "cell_type": "code",
   "execution_count": null,
   "metadata": {},
   "outputs": [],
   "source": [
    "for col in df.columns:\n",
    "    print (col)"
   ]
  },
  {
   "cell_type": "code",
   "execution_count": null,
   "metadata": {},
   "outputs": [],
   "source": [
    "for col in df.columns: \n",
    "    print(col) "
   ]
  },
  {
   "cell_type": "code",
   "execution_count": null,
   "metadata": {},
   "outputs": [],
   "source": [
    "df.iloc[:, :60].info()"
   ]
  },
  {
   "cell_type": "code",
   "execution_count": null,
   "metadata": {},
   "outputs": [],
   "source": [
    "df.iloc[:, 60:].info()"
   ]
  },
  {
   "cell_type": "code",
   "execution_count": null,
   "metadata": {},
   "outputs": [],
   "source": [
    "df.iloc[:, :30].describe()"
   ]
  },
  {
   "cell_type": "code",
   "execution_count": null,
   "metadata": {
    "scrolled": true
   },
   "outputs": [],
   "source": [
    "df.iloc[:, 30:90].describe()"
   ]
  },
  {
   "cell_type": "code",
   "execution_count": null,
   "metadata": {},
   "outputs": [],
   "source": [
    "df.iloc[:, 90:].describe()"
   ]
  },
  {
   "cell_type": "markdown",
   "metadata": {},
   "source": [
    "# Data Definitions"
   ]
  },
  {
   "cell_type": "markdown",
   "metadata": {},
   "source": [
    "### Provider Number\n",
    "Data type: int64\n",
    "\n",
    "Value count: 7626\n",
    "\n",
    "Number of unique values: 7626\n",
    "\n",
    "Percent unique values: 100% unique\n",
    "\n",
    "Ranges of values: 12306 - 852568\n",
    "\n",
    "Length of values: 5, 6\n",
    "\n",
    "Description: Lists the numeric code used to identify the provider listed."
   ]
  },
  {
   "cell_type": "code",
   "execution_count": null,
   "metadata": {},
   "outputs": [],
   "source": [
    "df['Provider Number'].head()"
   ]
  },
  {
   "cell_type": "code",
   "execution_count": null,
   "metadata": {},
   "outputs": [],
   "source": [
    "df['Provider Number'].tail()"
   ]
  },
  {
   "cell_type": "code",
   "execution_count": null,
   "metadata": {},
   "outputs": [],
   "source": [
    "set([(len(str(num))) for num in df['Provider Number']])"
   ]
  },
  {
   "cell_type": "code",
   "execution_count": null,
   "metadata": {
    "scrolled": true
   },
   "outputs": [],
   "source": [
    "df['Provider Number'].describe()"
   ]
  },
  {
   "cell_type": "code",
   "execution_count": null,
   "metadata": {},
   "outputs": [],
   "source": [
    "df['Provider Number'].nunique()"
   ]
  },
  {
   "cell_type": "markdown",
   "metadata": {},
   "source": [
    "### Network\n",
    "Data type: int64\n",
    "\n",
    "Value count: 7626 \n",
    "\n",
    "Number of unique values: 18\n",
    "\n",
    "Percent unique values: 0% unique\n",
    "\n",
    "Ranges of values: 1 - 18\n",
    "\n",
    "Length of values: 1, 2\n",
    "\n",
    "Description: Lists the numeric code representing geographic area of all Medicare-approved ESRD (End Stage Renal Disease) facilities. \n",
    "Map of the network can be found here:\n",
    "https://esrdncc.org/en/ESRD-network-map/\n",
    "\n",
    "Value description:\n",
    "- 1   : Network 1 (CT, ME, MA, NH,RI,VT)\n",
    "- 2   : Network 2 (NY)\n",
    "- 3   : Network 3 (NJ, PR, VI) \n",
    "- 4   : Network 4 (DE, PA)\n",
    "- 5   : Network 5 (DC, MD, VA,WV)\n",
    "- 6   : Network 6 (GA, NC, SC)\n",
    "- 7   : Network 7 (FL)\n",
    "- 8   : Network 8 (AL, MS, TN)\n",
    "- 9   : Network 9 (IN, KY, OH)\n",
    "- 10  : Network 10 (IL)\n",
    "- 11  : Network 11 (MI, MN, ND, SD,WI)\n",
    "- 12  : Network 12 (IA, KS, MO, NE)\n",
    "- 13  : Network 13 (AR, LA, OK)\n",
    "- 14  : Network 14 (TX)\n",
    "- 15  : Network 15 (AZ, CO, NV, NM, UT,WY)\n",
    "- 16  : Network 16 (AK, ID, MT, OR, WA)\n",
    "- 17  : Network 17 (AS, GU, HI, MP, N. CA)\n",
    "- 18  : Network 18 (S. CA)"
   ]
  },
  {
   "cell_type": "code",
   "execution_count": null,
   "metadata": {},
   "outputs": [],
   "source": [
    "df['Network'].head()"
   ]
  },
  {
   "cell_type": "code",
   "execution_count": null,
   "metadata": {},
   "outputs": [],
   "source": [
    "df['Network'].tail()"
   ]
  },
  {
   "cell_type": "code",
   "execution_count": null,
   "metadata": {
    "scrolled": false
   },
   "outputs": [],
   "source": [
    "df['Network'].describe()"
   ]
  },
  {
   "cell_type": "code",
   "execution_count": null,
   "metadata": {
    "scrolled": true
   },
   "outputs": [],
   "source": [
    "df['Network'].nunique()"
   ]
  },
  {
   "cell_type": "code",
   "execution_count": null,
   "metadata": {},
   "outputs": [],
   "source": [
    "df['Network'].unique()"
   ]
  },
  {
   "cell_type": "code",
   "execution_count": null,
   "metadata": {},
   "outputs": [],
   "source": [
    "# Percent unique values\n",
    "# True if facility has a value count of 1 (aka unique)\n",
    "pd.Series([facility == 1 for facility in df['Network'].value_counts()]).value_counts()"
   ]
  },
  {
   "cell_type": "markdown",
   "metadata": {},
   "source": [
    "### Facility Name\n",
    "Data type: object\n",
    "\n",
    "Value count: 7626 \n",
    "\n",
    "Number of unique values: 7448\n",
    "\n",
    "Percent unique values: 96.5% unique\n",
    "\n",
    "Length of values: 7- 68\n",
    "\n",
    "Description: Lists the name of the facility listed."
   ]
  },
  {
   "cell_type": "code",
   "execution_count": null,
   "metadata": {},
   "outputs": [],
   "source": [
    "df['Facility Name'].head()"
   ]
  },
  {
   "cell_type": "code",
   "execution_count": null,
   "metadata": {},
   "outputs": [],
   "source": [
    "df['Facility Name'].tail()"
   ]
  },
  {
   "cell_type": "code",
   "execution_count": null,
   "metadata": {
    "scrolled": true
   },
   "outputs": [],
   "source": [
    "df['Facility Name'].describe()"
   ]
  },
  {
   "cell_type": "code",
   "execution_count": null,
   "metadata": {},
   "outputs": [],
   "source": [
    "# Percent unique values\n",
    "# True if facility has a value count of 1 (aka unique)\n",
    "pd.Series([facility == 1 for facility in df['Facility Name'].value_counts()]).value_counts()"
   ]
  },
  {
   "cell_type": "code",
   "execution_count": null,
   "metadata": {},
   "outputs": [],
   "source": [
    "set([(len(str(num))) for num in df['Facility Name']])"
   ]
  },
  {
   "cell_type": "markdown",
   "metadata": {},
   "source": [
    "### Five Star Date\n",
    "Data type: object\n",
    "\n",
    "Value count: 7626\n",
    "\n",
    "Number of unique values: 1\n",
    "\n",
    "Percent unique values: 0% unique\n",
    "\n",
    "Ranges of values: \"01/01/2015 - 12/31/2018\"\n",
    "\n",
    "Length of values: 23\n",
    "\n",
    "Description: Lists the data collection period for the five star rating."
   ]
  },
  {
   "cell_type": "code",
   "execution_count": null,
   "metadata": {},
   "outputs": [],
   "source": [
    "df['Five Star Date'].head()"
   ]
  },
  {
   "cell_type": "code",
   "execution_count": null,
   "metadata": {},
   "outputs": [],
   "source": [
    "df['Five Star Date'].tail()"
   ]
  },
  {
   "cell_type": "code",
   "execution_count": null,
   "metadata": {},
   "outputs": [],
   "source": [
    "df['Five Star Date'].describe()"
   ]
  },
  {
   "cell_type": "code",
   "execution_count": null,
   "metadata": {},
   "outputs": [],
   "source": [
    "set([(len(str(num))) for num in df['Five Star Date']])"
   ]
  },
  {
   "cell_type": "markdown",
   "metadata": {},
   "source": [
    "### Five Star\n",
    "Data type: object\n",
    "\n",
    "Value count: 6725\n",
    "\n",
    "Number of unique values: 5\n",
    "\n",
    "Percent unique values: 0%\n",
    "\n",
    "Ranges of values: 1 - 5\n",
    "\n",
    "Length of values: 1, 13\n",
    "\n",
    "Description: Lists the 5-star rating for the facility. The “Dialysis Facility Compare (DFC) Star Program” is a rating system developed by Medicare that assigns 1 to 5 stars to dialysis facilities by comparing the health of the patients in their clinics to the patients in other dialysis facilities across the country."
   ]
  },
  {
   "cell_type": "code",
   "execution_count": null,
   "metadata": {},
   "outputs": [],
   "source": [
    "df['Five Star'].head()"
   ]
  },
  {
   "cell_type": "code",
   "execution_count": null,
   "metadata": {},
   "outputs": [],
   "source": [
    "df['Five Star'].tail()"
   ]
  },
  {
   "cell_type": "code",
   "execution_count": null,
   "metadata": {},
   "outputs": [],
   "source": [
    "df['Five Star'].describe()"
   ]
  },
  {
   "cell_type": "code",
   "execution_count": null,
   "metadata": {},
   "outputs": [],
   "source": [
    "df['Five Star'].value_counts()"
   ]
  },
  {
   "cell_type": "markdown",
   "metadata": {},
   "source": [
    "### Five Star Data Availability Code\n",
    "Data type: int64\n",
    "\n",
    "Value count: 7626\n",
    "\n",
    "Number of unique values: 4\n",
    "\n",
    "Percent unique values: 0% unique\n",
    "\n",
    "Ranges of values: 1, 258, 260, 261\n",
    "\n",
    "Length of values: 1, 3\n",
    "\n",
    "Description: Lists whether the facility had sufficient five star data available or the reason for why the data is not available.\n",
    "\n",
    "Value description:\n",
    "- 1   : N/A\n",
    "- 258 : The dialysis center was not open long enough to supply sufficient measure data. \n",
    "- 260 : Not enough quality measure data to calculate a star rating.\n",
    "- 261 : Medicare determined that at least one measure included in the star rating calculation was not accurate for this dialysis center."
   ]
  },
  {
   "cell_type": "code",
   "execution_count": null,
   "metadata": {},
   "outputs": [],
   "source": [
    "df['Five Star Data Availability Code'].head()"
   ]
  },
  {
   "cell_type": "code",
   "execution_count": null,
   "metadata": {},
   "outputs": [],
   "source": [
    "df['Five Star Data Availability Code'].tail()"
   ]
  },
  {
   "cell_type": "code",
   "execution_count": null,
   "metadata": {},
   "outputs": [],
   "source": [
    "df['Five Star Data Availability Code'].value_counts()"
   ]
  },
  {
   "cell_type": "code",
   "execution_count": null,
   "metadata": {},
   "outputs": [],
   "source": [
    "df['Five Star Data Availability Code'].count()"
   ]
  },
  {
   "cell_type": "markdown",
   "metadata": {},
   "source": [
    "### Address Line 1\n",
    "Data type: object\n",
    "\n",
    "Value count: 7626\n",
    "\n",
    "Number of unique values: 7574\n",
    "\n",
    "Percent unique values: 98.9%\n",
    "\n",
    "Length of values: 4 - 59\n",
    "\n",
    "Description: Lists the first line of the address that corresponds to the facility listed."
   ]
  },
  {
   "cell_type": "code",
   "execution_count": null,
   "metadata": {},
   "outputs": [],
   "source": [
    "df['Address Line 1'].head()"
   ]
  },
  {
   "cell_type": "code",
   "execution_count": null,
   "metadata": {
    "scrolled": true
   },
   "outputs": [],
   "source": [
    "df['Address Line 1'].describe()"
   ]
  },
  {
   "cell_type": "code",
   "execution_count": null,
   "metadata": {},
   "outputs": [],
   "source": [
    "# Percent unique values\n",
    "# True if facility has a value count of 1 (aka unique)\n",
    "pd.Series([facility == 1 for facility in df['Address Line 1'].value_counts()]).value_counts()"
   ]
  },
  {
   "cell_type": "code",
   "execution_count": null,
   "metadata": {},
   "outputs": [],
   "source": [
    "set([(len(str(num))) for num in df['Address Line 1']])"
   ]
  },
  {
   "cell_type": "markdown",
   "metadata": {},
   "source": [
    "### Address Line 2\n",
    "Data type: object\n",
    "\n",
    "Value count: 1087\n",
    "\n",
    "Number of unique values: 599\n",
    "\n",
    "Percent unique values: 46.9% unique\n",
    "\n",
    "Length of values: 2 - 47\n",
    "\n",
    "Description: Lists the second line of the address that corresponds to the facility listed."
   ]
  },
  {
   "cell_type": "code",
   "execution_count": null,
   "metadata": {
    "scrolled": true
   },
   "outputs": [],
   "source": [
    "df['Address Line 2'].head()"
   ]
  },
  {
   "cell_type": "code",
   "execution_count": null,
   "metadata": {},
   "outputs": [],
   "source": [
    "df['Address Line 2'].tail()"
   ]
  },
  {
   "cell_type": "code",
   "execution_count": null,
   "metadata": {
    "scrolled": true
   },
   "outputs": [],
   "source": [
    "df['Address Line 2'].describe()"
   ]
  },
  {
   "cell_type": "code",
   "execution_count": null,
   "metadata": {},
   "outputs": [],
   "source": [
    "# Percent unique values\n",
    "# True if facility has a value count of 1 (aka unique)\n",
    "pd.Series([facility == 1 for facility in df['Address Line 2'].value_counts()]).value_counts()"
   ]
  },
  {
   "cell_type": "code",
   "execution_count": null,
   "metadata": {},
   "outputs": [],
   "source": [
    "(set([(len(str(num))) for num in df['Address Line 2']]))"
   ]
  },
  {
   "cell_type": "markdown",
   "metadata": {},
   "source": [
    "### State\n",
    "Data type: object\n",
    "\n",
    "Value count: 7626\n",
    "\n",
    "Number of unique values: 56\n",
    "\n",
    "Percent unique values: 0% unique\n",
    "\n",
    "Length of values: 2\n",
    "\n",
    "Description: Lists the alphabetic postal code used to identify the state that corresponds to the facility listed."
   ]
  },
  {
   "cell_type": "code",
   "execution_count": null,
   "metadata": {},
   "outputs": [],
   "source": [
    "df['State'].head()"
   ]
  },
  {
   "cell_type": "code",
   "execution_count": null,
   "metadata": {},
   "outputs": [],
   "source": [
    "df['State'].tail()"
   ]
  },
  {
   "cell_type": "code",
   "execution_count": null,
   "metadata": {},
   "outputs": [],
   "source": [
    "df['State'].describe()"
   ]
  },
  {
   "cell_type": "code",
   "execution_count": null,
   "metadata": {},
   "outputs": [],
   "source": [
    "# Percent unique values\n",
    "# True if facility has a value count of 1 (aka unique)\n",
    "pd.Series([facility == 1 for facility in df['State'].value_counts()]).value_counts()"
   ]
  },
  {
   "cell_type": "markdown",
   "metadata": {},
   "source": [
    "### Zip\n",
    "Data type: int64\n",
    "\n",
    "Value count: 7626\n",
    "\n",
    "Number of unique values: 5276\n",
    "\n",
    "Percent unique values: 47.5% unique\n",
    "\n",
    "Ranges of values: 603 - 99801\n",
    "\n",
    "Length of values: 3 - 5\n",
    "\n",
    "Description: Lists the full postal ZIP code that corresponds to the facility listed."
   ]
  },
  {
   "cell_type": "code",
   "execution_count": null,
   "metadata": {
    "scrolled": true
   },
   "outputs": [],
   "source": [
    "df['Zip'].head()"
   ]
  },
  {
   "cell_type": "code",
   "execution_count": null,
   "metadata": {},
   "outputs": [],
   "source": [
    "df['Zip'].tail()"
   ]
  },
  {
   "cell_type": "code",
   "execution_count": null,
   "metadata": {
    "scrolled": true
   },
   "outputs": [],
   "source": [
    "df['Zip'].describe()"
   ]
  },
  {
   "cell_type": "code",
   "execution_count": null,
   "metadata": {
    "scrolled": true
   },
   "outputs": [],
   "source": [
    "df['Zip'].nunique()"
   ]
  },
  {
   "cell_type": "code",
   "execution_count": null,
   "metadata": {},
   "outputs": [],
   "source": [
    "# Percent unique values\n",
    "# True if facility has a value count of 1 (aka unique)\n",
    "pd.Series([facility == 1 for facility in df['Zip'].value_counts()]).value_counts()"
   ]
  },
  {
   "cell_type": "code",
   "execution_count": null,
   "metadata": {},
   "outputs": [],
   "source": [
    "set([(len(str(num))) for num in df['Zip']])"
   ]
  },
  {
   "cell_type": "markdown",
   "metadata": {},
   "source": [
    "### County\n",
    "Data type: object\n",
    "\n",
    "Value count: 7626\n",
    "\n",
    "Number of unique values: 1258\n",
    "\n",
    "Percent unique values: 6.33% unique\n",
    "\n",
    "Length of values: 3 - 21\n",
    "\n",
    "Description: Lists the name of the county that corresponds to the facility listed."
   ]
  },
  {
   "cell_type": "code",
   "execution_count": null,
   "metadata": {
    "scrolled": true
   },
   "outputs": [],
   "source": [
    "df['County'].head()"
   ]
  },
  {
   "cell_type": "code",
   "execution_count": null,
   "metadata": {},
   "outputs": [],
   "source": [
    "df['County'].tail()"
   ]
  },
  {
   "cell_type": "code",
   "execution_count": null,
   "metadata": {
    "scrolled": false
   },
   "outputs": [],
   "source": [
    "df['County'].describe()"
   ]
  },
  {
   "cell_type": "code",
   "execution_count": null,
   "metadata": {},
   "outputs": [],
   "source": [
    "# Percent unique values\n",
    "# True if facility has a value count of 1 (aka unique)\n",
    "pd.Series([facility == 1 for facility in df['County'].value_counts()]).value_counts()"
   ]
  },
  {
   "cell_type": "code",
   "execution_count": null,
   "metadata": {},
   "outputs": [],
   "source": [
    "set([(len(str(num))) for num in df['County']])"
   ]
  },
  {
   "cell_type": "markdown",
   "metadata": {},
   "source": [
    "### Phone Number\n",
    "Data type: object\n",
    "\n",
    "Value count: 7626\n",
    "\n",
    "Number of unique values: 7581\n",
    "\n",
    "Percent unique values: 99.0% unique\n",
    "\n",
    "Length of values: 14\n",
    "\n",
    "Description: Lists the telephone number that corresponds to the facility listed."
   ]
  },
  {
   "cell_type": "code",
   "execution_count": null,
   "metadata": {
    "scrolled": true
   },
   "outputs": [],
   "source": [
    "df['Phone Number'].head()"
   ]
  },
  {
   "cell_type": "code",
   "execution_count": null,
   "metadata": {},
   "outputs": [],
   "source": [
    "df['Phone Number'].tail()"
   ]
  },
  {
   "cell_type": "code",
   "execution_count": null,
   "metadata": {
    "scrolled": true
   },
   "outputs": [],
   "source": [
    "df['Phone Number'].describe()"
   ]
  },
  {
   "cell_type": "code",
   "execution_count": null,
   "metadata": {},
   "outputs": [],
   "source": [
    "# Percent unique values\n",
    "# True if facility has a value count of 1 (aka unique)\n",
    "pd.Series([facility == 1 for facility in df['Phone Number'].value_counts()]).value_counts()"
   ]
  },
  {
   "cell_type": "code",
   "execution_count": null,
   "metadata": {},
   "outputs": [],
   "source": [
    "set([(len(str(num))) for num in df['Phone Number']])"
   ]
  },
  {
   "cell_type": "markdown",
   "metadata": {},
   "source": [
    "### Profit or Non-Profit\n",
    "Data type: object\n",
    "\n",
    "Value count: 7627\n",
    "\n",
    "Number of unique values: 2\n",
    "\n",
    "Percent unique values: 0% unique\n",
    "\n",
    "Ranges of values: Profit, Non-Profit\n",
    "\n",
    "Length of values: 6, 10\n",
    "\n",
    "Description: Indicates if the dialysis facility’s operates as a for profit or non-profit business."
   ]
  },
  {
   "cell_type": "code",
   "execution_count": null,
   "metadata": {
    "scrolled": false
   },
   "outputs": [],
   "source": [
    "df['Profit or Non-Profit'].head()"
   ]
  },
  {
   "cell_type": "code",
   "execution_count": null,
   "metadata": {},
   "outputs": [],
   "source": [
    "df['Profit or Non-Profit'].tail()"
   ]
  },
  {
   "cell_type": "code",
   "execution_count": null,
   "metadata": {
    "scrolled": true
   },
   "outputs": [],
   "source": [
    "df['Profit or Non-Profit'].describe()"
   ]
  },
  {
   "cell_type": "code",
   "execution_count": null,
   "metadata": {},
   "outputs": [],
   "source": [
    "df['Profit or Non-Profit'].value_counts()"
   ]
  },
  {
   "cell_type": "code",
   "execution_count": null,
   "metadata": {},
   "outputs": [],
   "source": [
    "set([(len(str(num))) for num in df['Profit or Non-Profit']])"
   ]
  },
  {
   "cell_type": "markdown",
   "metadata": {},
   "source": [
    "### Chain Owned\n",
    "Data type: object\n",
    "\n",
    "Value count: 7626\n",
    "\n",
    "Number of unique values: 2\n",
    "\n",
    "Percent unique values: 0% unique\n",
    "\n",
    "Ranges of values: Yes - No\n",
    "\n",
    "Length of values: 2 - 3\n",
    "\n",
    "Description: Indicates whether or not the facility is owned or managed by a chain organization."
   ]
  },
  {
   "cell_type": "code",
   "execution_count": null,
   "metadata": {},
   "outputs": [],
   "source": [
    "df['Chain Owned'].head()"
   ]
  },
  {
   "cell_type": "code",
   "execution_count": null,
   "metadata": {},
   "outputs": [],
   "source": [
    "df['Chain Owned'].tail()"
   ]
  },
  {
   "cell_type": "code",
   "execution_count": null,
   "metadata": {},
   "outputs": [],
   "source": [
    "df['Chain Owned'].describe()"
   ]
  },
  {
   "cell_type": "code",
   "execution_count": null,
   "metadata": {},
   "outputs": [],
   "source": [
    "df['Chain Owned'].value_counts()"
   ]
  },
  {
   "cell_type": "markdown",
   "metadata": {},
   "source": [
    "### Chain Organization\n",
    "Data type: object\n",
    "\n",
    "Value count: 7625\n",
    "\n",
    "Number of unique values: 111\n",
    "\n",
    "Percent unique values: 0.734% unique values\n",
    "\n",
    "Length of values: 3 - 39\n",
    "\n",
    "Description: Lists the name of the chain organization if applicable."
   ]
  },
  {
   "cell_type": "code",
   "execution_count": null,
   "metadata": {
    "scrolled": true
   },
   "outputs": [],
   "source": [
    "df['Chain Organization'].head()"
   ]
  },
  {
   "cell_type": "code",
   "execution_count": null,
   "metadata": {},
   "outputs": [],
   "source": [
    "df['Chain Organization'].tail()"
   ]
  },
  {
   "cell_type": "code",
   "execution_count": null,
   "metadata": {},
   "outputs": [],
   "source": [
    "df['Chain Organization'].describe()"
   ]
  },
  {
   "cell_type": "code",
   "execution_count": null,
   "metadata": {},
   "outputs": [],
   "source": [
    "df['Chain Organization'].isnull().values.any()"
   ]
  },
  {
   "cell_type": "code",
   "execution_count": null,
   "metadata": {},
   "outputs": [],
   "source": [
    "# Percent unique values\n",
    "# True if facility has a value count of 1 (aka unique)\n",
    "pd.Series([facility == 1 for facility in df['Chain Organization'].value_counts()]).value_counts()"
   ]
  },
  {
   "cell_type": "code",
   "execution_count": null,
   "metadata": {},
   "outputs": [],
   "source": [
    "set([(len(str(num))) for num in df['Chain Organization']])"
   ]
  },
  {
   "cell_type": "markdown",
   "metadata": {},
   "source": [
    "### Late Shift\n",
    "Data type: int64\n",
    "\n",
    "Value count: 7626\n",
    "\n",
    "Number of unique values: 2\n",
    "\n",
    "Percent unique values: 0% unique\n",
    "\n",
    "Ranges of values: 0 - 1\n",
    "\n",
    "Length of values: 1\n",
    "\n",
    "Description: Lists whether or not the facility has a shift starting at 5:00 p.m. or later."
   ]
  },
  {
   "cell_type": "code",
   "execution_count": null,
   "metadata": {},
   "outputs": [],
   "source": [
    "df['Late Shift'].head()"
   ]
  },
  {
   "cell_type": "code",
   "execution_count": null,
   "metadata": {
    "scrolled": true
   },
   "outputs": [],
   "source": [
    "df['Late Shift'].tail()"
   ]
  },
  {
   "cell_type": "code",
   "execution_count": null,
   "metadata": {
    "scrolled": true
   },
   "outputs": [],
   "source": [
    "df['Late Shift'].describe()"
   ]
  },
  {
   "cell_type": "code",
   "execution_count": null,
   "metadata": {
    "scrolled": true
   },
   "outputs": [],
   "source": [
    "df['Late Shift'].value_counts()"
   ]
  },
  {
   "cell_type": "markdown",
   "metadata": {},
   "source": [
    "###  # of Dialysis Stations\n",
    "Data type: int64\n",
    "\n",
    "Value count: 7626\n",
    "\n",
    "Number of unique values: 68\n",
    "\n",
    "Percent unique values: 0.157%\n",
    "\n",
    "Ranges of values: 0 - 80\n",
    "\n",
    "Mean: 17.4\n",
    "\n",
    "Length of values: 1 - 2\n",
    "\n",
    "Description: Indicates the total number of dialysis stations at the dialysis facility. "
   ]
  },
  {
   "cell_type": "code",
   "execution_count": null,
   "metadata": {
    "scrolled": true
   },
   "outputs": [],
   "source": [
    "df['# of Dialysis Stations'].head()"
   ]
  },
  {
   "cell_type": "code",
   "execution_count": null,
   "metadata": {},
   "outputs": [],
   "source": [
    "df['# of Dialysis Stations'].tail()"
   ]
  },
  {
   "cell_type": "code",
   "execution_count": null,
   "metadata": {
    "scrolled": true
   },
   "outputs": [],
   "source": [
    "df['# of Dialysis Stations'].describe()"
   ]
  },
  {
   "cell_type": "code",
   "execution_count": null,
   "metadata": {},
   "outputs": [],
   "source": [
    "df['# of Dialysis Stations'].nunique()"
   ]
  },
  {
   "cell_type": "code",
   "execution_count": null,
   "metadata": {},
   "outputs": [],
   "source": [
    "# Percent unique values\n",
    "# True if facility has a value count of 1 (aka unique)\n",
    "pd.Series([facility == 1 for facility in df['# of Dialysis Stations'].value_counts()]).value_counts()"
   ]
  },
  {
   "cell_type": "markdown",
   "metadata": {},
   "source": [
    "### Offers in-center hemodialysis\n",
    "Data type: int64\n",
    "\n",
    "Value count: 7626\n",
    "\n",
    "Number of unique values: 2\n",
    "\n",
    "Percent unique values: 0% unique\n",
    "\n",
    "Ranges of values: 0 - 1\n",
    "\n",
    "Length of values: 1\n",
    "\n",
    "Description: Indicates whether the facility offers in-center hemodialysis. "
   ]
  },
  {
   "cell_type": "code",
   "execution_count": null,
   "metadata": {
    "scrolled": true
   },
   "outputs": [],
   "source": [
    "df['Offers in-center hemodialysis'].head()"
   ]
  },
  {
   "cell_type": "code",
   "execution_count": null,
   "metadata": {},
   "outputs": [],
   "source": [
    "df['Offers in-center hemodialysis'].tail()"
   ]
  },
  {
   "cell_type": "code",
   "execution_count": null,
   "metadata": {
    "scrolled": false
   },
   "outputs": [],
   "source": [
    "df['Offers in-center hemodialysis'].describe()"
   ]
  },
  {
   "cell_type": "code",
   "execution_count": null,
   "metadata": {},
   "outputs": [],
   "source": [
    "df['Offers in-center hemodialysis'].value_counts()"
   ]
  },
  {
   "cell_type": "markdown",
   "metadata": {},
   "source": [
    "### Offers peritoneal dialysis\n",
    "Data type: int64\n",
    "\n",
    "Value count: 7626\n",
    "\n",
    "Number of unique values: 2\n",
    "\n",
    "Percent unique values: 0% unique\n",
    "\n",
    "Ranges of values: 0 - 1\n",
    "\n",
    "Length of values: 1\n",
    "\n",
    "Description: Indicates whether the facility offers peritoneal dialysis."
   ]
  },
  {
   "cell_type": "code",
   "execution_count": null,
   "metadata": {
    "scrolled": true
   },
   "outputs": [],
   "source": [
    "df['Offers peritoneal dialysis'].head()"
   ]
  },
  {
   "cell_type": "code",
   "execution_count": null,
   "metadata": {},
   "outputs": [],
   "source": [
    "df['Offers peritoneal dialysis'].tail()"
   ]
  },
  {
   "cell_type": "code",
   "execution_count": null,
   "metadata": {
    "scrolled": true
   },
   "outputs": [],
   "source": [
    "df['Offers peritoneal dialysis'].describe()"
   ]
  },
  {
   "cell_type": "code",
   "execution_count": null,
   "metadata": {
    "scrolled": true
   },
   "outputs": [],
   "source": [
    "df['Offers peritoneal dialysis'].nunique()"
   ]
  },
  {
   "cell_type": "code",
   "execution_count": null,
   "metadata": {},
   "outputs": [],
   "source": [
    "df['Offers peritoneal dialysis'].value_counts()"
   ]
  },
  {
   "cell_type": "markdown",
   "metadata": {},
   "source": [
    "### Offers home hemodialysis training\n",
    "Data type: int64\n",
    "\n",
    "Value count: 7626\n",
    "\n",
    "Number of unique values: 2\n",
    "\n",
    "Percent unique values: 0% unique\n",
    "\n",
    "Ranges of values: 0 - 1\n",
    "\n",
    "Length of values: 1\n",
    "\n",
    "Description: Indicates whether the facility offers home hemodialysis training."
   ]
  },
  {
   "cell_type": "code",
   "execution_count": null,
   "metadata": {
    "scrolled": true
   },
   "outputs": [],
   "source": [
    "df['Offers home hemodialysis training'].head()"
   ]
  },
  {
   "cell_type": "code",
   "execution_count": null,
   "metadata": {},
   "outputs": [],
   "source": [
    "df['Offers home hemodialysis training'].tail()"
   ]
  },
  {
   "cell_type": "code",
   "execution_count": null,
   "metadata": {
    "scrolled": true
   },
   "outputs": [],
   "source": [
    "df['Offers home hemodialysis training'].describe()"
   ]
  },
  {
   "cell_type": "code",
   "execution_count": null,
   "metadata": {
    "scrolled": true
   },
   "outputs": [],
   "source": [
    "df['Offers home hemodialysis training'].nunique()"
   ]
  },
  {
   "cell_type": "code",
   "execution_count": null,
   "metadata": {},
   "outputs": [],
   "source": [
    "df['Offers home hemodialysis training'].value_counts()"
   ]
  },
  {
   "cell_type": "markdown",
   "metadata": {},
   "source": [
    "### Certification or Recertification Date\n",
    "Data type: object\n",
    "\n",
    "Value count: 7626\n",
    "\n",
    "Number of unique values: 4800\n",
    "\n",
    "Percent unique values: 0.157%\n",
    "\n",
    "Length of values: 10\n",
    "\n",
    "Description: Lists the initial or recertification date for the facility listed. These facilities are certified if they pass inspection. Medicare or Medicaid only covers care provided by certified providers. Being certified is not the same as being accredited. "
   ]
  },
  {
   "cell_type": "code",
   "execution_count": null,
   "metadata": {
    "scrolled": true
   },
   "outputs": [],
   "source": [
    "df['Certification or Recertification Date'].head()"
   ]
  },
  {
   "cell_type": "code",
   "execution_count": null,
   "metadata": {},
   "outputs": [],
   "source": [
    "df['Certification or Recertification Date'].tail()"
   ]
  },
  {
   "cell_type": "code",
   "execution_count": null,
   "metadata": {
    "scrolled": true
   },
   "outputs": [],
   "source": [
    "df['Certification or Recertification Date'].describe()"
   ]
  },
  {
   "cell_type": "code",
   "execution_count": null,
   "metadata": {},
   "outputs": [],
   "source": [
    "# Percent unique values\n",
    "# True if facility has a value count of 1 (aka unique)\n",
    "pd.Series([facility == 1 for facility in df['# of Dialysis Stations'].value_counts()]).value_counts()"
   ]
  },
  {
   "cell_type": "code",
   "execution_count": null,
   "metadata": {},
   "outputs": [],
   "source": [
    "set([(len(str(num))) for num in df['Certification or Recertification Date']])"
   ]
  },
  {
   "cell_type": "markdown",
   "metadata": {},
   "source": [
    "### Claims Date\n",
    "Data type: object\n",
    "\n",
    "Value count: 7626\n",
    "\n",
    "Number of unique values: 1\n",
    "\n",
    "Percent unique values: 0% unique values\n",
    "\n",
    "Ranges of values: \"07/01/2018 - 06/30/2019\"\n",
    "\n",
    "Length of values: 23\n",
    "\n",
    "Description: Lists the data collection period for claims-based summaries."
   ]
  },
  {
   "cell_type": "code",
   "execution_count": null,
   "metadata": {},
   "outputs": [],
   "source": [
    "df['Claims Date'].head()"
   ]
  },
  {
   "cell_type": "code",
   "execution_count": null,
   "metadata": {
    "scrolled": true
   },
   "outputs": [],
   "source": [
    "df['Claims Date'].tail()"
   ]
  },
  {
   "cell_type": "code",
   "execution_count": null,
   "metadata": {},
   "outputs": [],
   "source": [
    "df['Claims Date'].describe()"
   ]
  },
  {
   "cell_type": "code",
   "execution_count": null,
   "metadata": {},
   "outputs": [],
   "source": [
    "set([(len(str(num))) for num in df['Claims Date']])"
   ]
  },
  {
   "cell_type": "markdown",
   "metadata": {},
   "source": [
    "### CROWNWeb Date\n",
    "Data type: object\n",
    "\n",
    "Value count: 7626\n",
    "\n",
    "Number of unique values: 1\n",
    "\n",
    "Percent unique values: 0% unique\n",
    "\n",
    "Ranges of values: \"07/01/2018 - 06/30/2019\"\n",
    "\n",
    "Length of values: 23\n",
    "\n",
    "Description: Lists the data collection period for CROWNWeb based measures."
   ]
  },
  {
   "cell_type": "code",
   "execution_count": null,
   "metadata": {},
   "outputs": [],
   "source": [
    "df['CROWNWeb Date'].head()"
   ]
  },
  {
   "cell_type": "code",
   "execution_count": null,
   "metadata": {},
   "outputs": [],
   "source": [
    "df['CROWNWeb Date'].tail()"
   ]
  },
  {
   "cell_type": "code",
   "execution_count": null,
   "metadata": {},
   "outputs": [],
   "source": [
    "df['CROWNWeb Date'].describe()"
   ]
  },
  {
   "cell_type": "code",
   "execution_count": null,
   "metadata": {},
   "outputs": [],
   "source": [
    "set([(len(str(num))) for num in df['CROWNWeb Date']])"
   ]
  },
  {
   "cell_type": "markdown",
   "metadata": {},
   "source": [
    "### STrR Date\n",
    "Data type: object\n",
    "\n",
    "Value count: 7626\n",
    "\n",
    "Number of unique values: 1\n",
    "\n",
    "Percent unique values: 0% unique\n",
    "\n",
    "Ranges of values: \"01/01/2018 - 12/31/2018\"\n",
    "\n",
    "Length of values: 23\n",
    "\n",
    "Description: Lists the time period for patient transfusion summary (STrR)."
   ]
  },
  {
   "cell_type": "code",
   "execution_count": null,
   "metadata": {
    "scrolled": true
   },
   "outputs": [],
   "source": [
    "df['STrR Date'].head()"
   ]
  },
  {
   "cell_type": "code",
   "execution_count": null,
   "metadata": {},
   "outputs": [],
   "source": [
    "df['STrR Date'].tail()"
   ]
  },
  {
   "cell_type": "code",
   "execution_count": null,
   "metadata": {
    "scrolled": true
   },
   "outputs": [],
   "source": [
    "df['STrR Date'].describe()"
   ]
  },
  {
   "cell_type": "code",
   "execution_count": null,
   "metadata": {},
   "outputs": [],
   "source": [
    "set([(len(str(num))) for num in df['STrR Date']])"
   ]
  },
  {
   "cell_type": "markdown",
   "metadata": {},
   "source": [
    "### Percentage of Medicare patients with Hgb<10 g/dL\n",
    "Data type: object\n",
    "\n",
    "Value count: 7626\n",
    "\n",
    "Number of unique values: 91\n",
    "\n",
    "Percent unique values: 0.0656% unique values\n",
    "\n",
    "Ranges of values: 0 - \n",
    "\n",
    "Length of values: 1-3, 13\n",
    "\n",
    "Description: Lists the percentage of patients who had average hemoglobin (hgb) less than 10.0 g/dL. Hemoglobin is a protein in red blood cells that carries oxygen from the lungs to the rest of the body. A normal hemoglobin level is 11 to 18 grams per deciliter (g/dL), depending on one's age and gender. But 7 to 8 g/dL is a safe level. "
   ]
  },
  {
   "cell_type": "code",
   "execution_count": null,
   "metadata": {
    "scrolled": true
   },
   "outputs": [],
   "source": [
    "df['Percentage of Medicare patients with Hgb<10 g/dL'].head()"
   ]
  },
  {
   "cell_type": "code",
   "execution_count": null,
   "metadata": {},
   "outputs": [],
   "source": [
    "df['Percentage of Medicare patients with Hgb<10 g/dL'].tail()"
   ]
  },
  {
   "cell_type": "code",
   "execution_count": null,
   "metadata": {
    "scrolled": true
   },
   "outputs": [],
   "source": [
    "df['Percentage of Medicare patients with Hgb<10 g/dL'].describe()"
   ]
  },
  {
   "cell_type": "code",
   "execution_count": null,
   "metadata": {
    "scrolled": true
   },
   "outputs": [],
   "source": [
    "df['Percentage of Medicare patients with Hgb<10 g/dL'].min()"
   ]
  },
  {
   "cell_type": "code",
   "execution_count": null,
   "metadata": {
    "scrolled": true
   },
   "outputs": [],
   "source": [
    "df['Percentage of Medicare patients with Hgb<10 g/dL'].max()"
   ]
  },
  {
   "cell_type": "code",
   "execution_count": null,
   "metadata": {},
   "outputs": [],
   "source": [
    "# Percent unique values\n",
    "# True if facility has a value count of 1 (aka unique)\n",
    "pd.Series([facility == 1 for facility in df['Percentage of Medicare patients with Hgb<10 g/dL'].value_counts()]).value_counts()"
   ]
  },
  {
   "cell_type": "code",
   "execution_count": null,
   "metadata": {},
   "outputs": [],
   "source": [
    "set([(len(str(num))) for num in df['Percentage of Medicare patients with Hgb<10 g/dL']])"
   ]
  },
  {
   "cell_type": "markdown",
   "metadata": {},
   "source": [
    "### HGB<10 data availability code\n",
    "Data type: int64\n",
    "\n",
    "Value count: 7626\n",
    "\n",
    "Number of unique values: 4\n",
    "\n",
    "Percent unique values: 0% unique values\n",
    "\n",
    "Ranges of values: 1, 199, 201, 258 \n",
    "\n",
    "Length of values: 1, 3\n",
    "\n",
    "Description: Lists whether the facility had sufficient hemoglobin (hgb) data available or the reason for why the data is not available. Hemoglobin is a protein in red blood cells that carries oxygen from the lungs to the rest of the body. A normal hemoglobin level is 11 to 18 grams per deciliter (g/dL), depending on one's age and gender. But 7 to 8 g/dL is a safe level. \n",
    "\n",
    "Value description:\n",
    "- 1   : N/A\n",
    "- 199 : Not enough patients to report on this measure. Call the dialysis center to discuss this measure.\n",
    "- 201 : Data not reported. Call the dialysis center to discuss this quality measure. \n",
    "- 258 : The dialysis center was not open long enough to supply sufficient measure data. "
   ]
  },
  {
   "cell_type": "code",
   "execution_count": null,
   "metadata": {},
   "outputs": [],
   "source": [
    "df['HGB<10 data availability code'].head()"
   ]
  },
  {
   "cell_type": "code",
   "execution_count": null,
   "metadata": {},
   "outputs": [],
   "source": [
    "df['HGB<10 data availability code'].tail()"
   ]
  },
  {
   "cell_type": "code",
   "execution_count": null,
   "metadata": {},
   "outputs": [],
   "source": [
    "df['HGB<10 data availability code'].count()"
   ]
  },
  {
   "cell_type": "code",
   "execution_count": null,
   "metadata": {
    "scrolled": false
   },
   "outputs": [],
   "source": [
    "df['HGB<10 data availability code'].value_counts()"
   ]
  },
  {
   "cell_type": "markdown",
   "metadata": {},
   "source": [
    "### Percentage of Medicare patients with Hgb>12 g/dL\n",
    "Data type: object\n",
    "\n",
    "Value count: 7626\n",
    "\n",
    "Number of unique values: 21\n",
    "\n",
    "Percent unique values: 0.0787% unique values\n",
    "\n",
    "Ranges of values: 0 - \n",
    "\n",
    "Length of values: 1 - 2, 13\n",
    "\n",
    "Description: Lists the percentage of patients who had average hemoglobin (hgb) greater than 12.0 g/dL. Hemoglobin is a protein in red blood cells that carries oxygen from the lungs to the rest of the body. A normal hemoglobin level is 11 to 18 grams per deciliter (g/dL), depending on one's age and gender. But 7 to 8 g/dL is a safe level. "
   ]
  },
  {
   "cell_type": "code",
   "execution_count": null,
   "metadata": {},
   "outputs": [],
   "source": [
    "df['Percentage of Medicare patients with Hgb>12 g/dL'].head()"
   ]
  },
  {
   "cell_type": "code",
   "execution_count": null,
   "metadata": {
    "scrolled": true
   },
   "outputs": [],
   "source": [
    "df['Percentage of Medicare patients with Hgb>12 g/dL'].tail()"
   ]
  },
  {
   "cell_type": "code",
   "execution_count": null,
   "metadata": {},
   "outputs": [],
   "source": [
    "df['Percentage of Medicare patients with Hgb>12 g/dL'].describe()"
   ]
  },
  {
   "cell_type": "code",
   "execution_count": null,
   "metadata": {},
   "outputs": [],
   "source": [
    "# Percent unique values\n",
    "# True if facility has a value count of 1 (aka unique)\n",
    "pd.Series([facility == 1 for facility in df['Percentage of Medicare patients with Hgb>12 g/dL'].value_counts()]).value_counts()"
   ]
  },
  {
   "cell_type": "code",
   "execution_count": null,
   "metadata": {},
   "outputs": [],
   "source": [
    "df['Percentage of Medicare patients with Hgb>12 g/dL'].min()"
   ]
  },
  {
   "cell_type": "code",
   "execution_count": null,
   "metadata": {},
   "outputs": [],
   "source": [
    "df['Percentage of Medicare patients with Hgb>12 g/dL'].max()"
   ]
  },
  {
   "cell_type": "code",
   "execution_count": null,
   "metadata": {
    "scrolled": true
   },
   "outputs": [],
   "source": [
    "set([(len(str(num))) for num in df['Percentage of Medicare patients with Hgb>12 g/dL']])"
   ]
  },
  {
   "cell_type": "markdown",
   "metadata": {},
   "source": [
    "### Hgb > 12 data availability code\n",
    "Data type: int64\n",
    "\n",
    "Value count: 7626\n",
    "\n",
    "Number of unique values: 4\n",
    "\n",
    "Percent unique values: 0% unique values\n",
    "\n",
    "Ranges of values: 1, 199, 201, 258\n",
    "\n",
    "Length of values: 1, 3\n",
    "\n",
    "Description: Lists whether the facility had sufficient hemoglobin (hgb) data available or the reason for why the data is not available. Hemoglobin is a protein in red blood cells that carries oxygen from the lungs to the rest of the body. A normal hemoglobin level is 11 to 18 grams per deciliter (g/dL), depending on one's age and gender. But 7 to 8 g/dL is a safe level. \n",
    "\n",
    "Value description:\n",
    "- 1   : N/A\n",
    "- 199 : Not enough patients to report on this measure. Call the dialysis center to discuss this measure.\n",
    "- 201 : Data not reported. Call the dialysis center to discuss this quality measure. \n",
    "- 258 : The dialysis center was not open long enough to supply sufficient measure data. "
   ]
  },
  {
   "cell_type": "code",
   "execution_count": null,
   "metadata": {},
   "outputs": [],
   "source": [
    "df['Hgb > 12 data availability code'].head()"
   ]
  },
  {
   "cell_type": "code",
   "execution_count": null,
   "metadata": {
    "scrolled": true
   },
   "outputs": [],
   "source": [
    "df['Hgb > 12 data availability code'].tail()"
   ]
  },
  {
   "cell_type": "code",
   "execution_count": null,
   "metadata": {},
   "outputs": [],
   "source": [
    "df['Hgb > 12 data availability code'].describe()"
   ]
  },
  {
   "cell_type": "code",
   "execution_count": null,
   "metadata": {},
   "outputs": [],
   "source": [
    "df['Hgb > 12 data availability code'].value_counts()"
   ]
  },
  {
   "cell_type": "markdown",
   "metadata": {},
   "source": [
    "### Number of Dialysis Patients with Hgb data\n",
    "Data type: object\n",
    "\n",
    "Value count: 7626\n",
    "\n",
    "Number of unique values: 160 \n",
    "\n",
    "Percent unique values: 0.315%\n",
    "\n",
    "Ranges of values: 0 - \n",
    "\n",
    "Length of values: 1-3, 13\n",
    "\n",
    "Description: Lists the number of patients included in the hemoglobin (hgb) greater than 12.0 g/dL summary. Hemoglobin is a protein in red blood cells that carries oxygen from the lungs to the rest of the body. A normal hemoglobin level is 11 to 18 grams per deciliter (g/dL), depending on one's age and gender. But 7 to 8 g/dL is a safe level. "
   ]
  },
  {
   "cell_type": "code",
   "execution_count": null,
   "metadata": {},
   "outputs": [],
   "source": [
    "df['Number of Dialysis Patients with Hgb data'].head()"
   ]
  },
  {
   "cell_type": "code",
   "execution_count": null,
   "metadata": {
    "scrolled": true
   },
   "outputs": [],
   "source": [
    "df['Number of Dialysis Patients with Hgb data'].tail()"
   ]
  },
  {
   "cell_type": "code",
   "execution_count": null,
   "metadata": {},
   "outputs": [],
   "source": [
    "df['Number of Dialysis Patients with Hgb data'].describe()"
   ]
  },
  {
   "cell_type": "code",
   "execution_count": null,
   "metadata": {},
   "outputs": [],
   "source": [
    "# Percent unique values\n",
    "# True if facility has a value count of 1 (aka unique)\n",
    "pd.Series([facility == 1 for facility in df['Number of Dialysis Patients with Hgb data'].value_counts()]).value_counts()"
   ]
  },
  {
   "cell_type": "code",
   "execution_count": null,
   "metadata": {},
   "outputs": [],
   "source": [
    "df['Number of Dialysis Patients with Hgb data'].min()"
   ]
  },
  {
   "cell_type": "code",
   "execution_count": null,
   "metadata": {},
   "outputs": [],
   "source": [
    "df['Number of Dialysis Patients with Hgb data'].max()"
   ]
  },
  {
   "cell_type": "code",
   "execution_count": null,
   "metadata": {},
   "outputs": [],
   "source": [
    "set([(len(str(num))) for num in df['Number of Dialysis Patients with Hgb data']])"
   ]
  },
  {
   "cell_type": "markdown",
   "metadata": {},
   "source": [
    "### Patient Transfusion data availability Code\n",
    "Data type: int64\n",
    "\n",
    "Value count: 7626\n",
    "\n",
    "Number of unique values: 5\n",
    "\n",
    "Percent unique values: 0%\n",
    "\n",
    "Ranges of values: 1, 199, 201, 255, 258\n",
    "\n",
    "Length of values: 1, 3\n",
    "\n",
    "Description: Lists whether the facility had sufficient transfusion data available or the reason for why the data is not available.\n",
    "\n",
    "Value description:\n",
    "- 1   : N/A\n",
    "- 199 : Not enough patients to report on this measure. Call the dialysis center to discuss this measure.\n",
    "- 201 : Data not reported. Call the dialysis center to discuss this quality measure. \n",
    "- 255 : Medicare determined that the percentage reported was not accurate.\n",
    "- 258 : The dialysis center was not open long enough to supply sufficient measure data. "
   ]
  },
  {
   "cell_type": "code",
   "execution_count": null,
   "metadata": {},
   "outputs": [],
   "source": [
    "df['Patient Transfusion data availability Code'].head()"
   ]
  },
  {
   "cell_type": "code",
   "execution_count": null,
   "metadata": {},
   "outputs": [],
   "source": [
    "df['Patient Transfusion data availability Code'].tail()"
   ]
  },
  {
   "cell_type": "code",
   "execution_count": null,
   "metadata": {},
   "outputs": [],
   "source": [
    "df['Patient Transfusion data availability Code'].count()"
   ]
  },
  {
   "cell_type": "code",
   "execution_count": null,
   "metadata": {},
   "outputs": [],
   "source": [
    "df['Patient Transfusion data availability Code'].value_counts()"
   ]
  },
  {
   "cell_type": "markdown",
   "metadata": {},
   "source": [
    "### Patient Transfusion category text\n",
    "Data type: object\n",
    "\n",
    "Value count: 7626\n",
    "\n",
    "Number of unique values: 4\n",
    "\n",
    "Percent unique values: 0%\n",
    "\n",
    "Ranges of values: As Expected, Not Available, Worse than Expected, Better than Expected \n",
    "\n",
    "Length of values: 11, 13, 19, 20\n",
    "\n",
    "Description: Patient transfusion category.\n",
    "\n",
    "Value description:\n",
    "- As Expected          : Patient transfusions categorized as “As Expected”       \n",
    "- Worse than Expected  :  Patient transfusions categorized as “Worse than Expected”\n",
    "- Better than Expected : Patient transfusions categorized as “Better than Expected\"\n",
    "- Not Available "
   ]
  },
  {
   "cell_type": "code",
   "execution_count": null,
   "metadata": {},
   "outputs": [],
   "source": [
    "df['Patient Transfusion category text'].head()"
   ]
  },
  {
   "cell_type": "code",
   "execution_count": null,
   "metadata": {},
   "outputs": [],
   "source": [
    "df['Patient Transfusion category text'].tail()"
   ]
  },
  {
   "cell_type": "code",
   "execution_count": null,
   "metadata": {},
   "outputs": [],
   "source": [
    "df['Patient Transfusion category text'].describe()"
   ]
  },
  {
   "cell_type": "code",
   "execution_count": null,
   "metadata": {},
   "outputs": [],
   "source": [
    "# Percent unique values\n",
    "# True if facility has a value count of 1 (aka unique)\n",
    "pd.Series([facility == 1 for facility in df['Patient Transfusion category text'].value_counts()]).value_counts()"
   ]
  },
  {
   "cell_type": "code",
   "execution_count": null,
   "metadata": {
    "scrolled": true
   },
   "outputs": [],
   "source": [
    "df['Patient Transfusion category text'].value_counts()"
   ]
  },
  {
   "cell_type": "code",
   "execution_count": null,
   "metadata": {},
   "outputs": [],
   "source": [
    "set([(len(str(num))) for num in df['Patient Transfusion category text']])"
   ]
  },
  {
   "cell_type": "markdown",
   "metadata": {},
   "source": [
    "### Number of patients included in the transfusion summary\n",
    "Data type: object\n",
    "\n",
    "Value count: 7626\n",
    "\n",
    "Number of unique values: 226\n",
    "\n",
    "Percent unique values: 0.446%\n",
    "\n",
    "Ranges of values: 0 - \n",
    "\n",
    "Length of values: 1 - 3, 13\n",
    "\n",
    "Description: Lists the number of patients included in the facility’s transfusion summary."
   ]
  },
  {
   "cell_type": "code",
   "execution_count": null,
   "metadata": {},
   "outputs": [],
   "source": [
    "df['Number of patients included in the transfusion summary'].head()"
   ]
  },
  {
   "cell_type": "code",
   "execution_count": null,
   "metadata": {},
   "outputs": [],
   "source": [
    "df['Number of patients included in the transfusion summary'].tail()"
   ]
  },
  {
   "cell_type": "code",
   "execution_count": null,
   "metadata": {},
   "outputs": [],
   "source": [
    "df['Number of patients included in the transfusion summary'].describe()"
   ]
  },
  {
   "cell_type": "code",
   "execution_count": null,
   "metadata": {},
   "outputs": [],
   "source": [
    "# Percent unique values\n",
    "# True if facility has a value count of 1 (aka unique)\n",
    "pd.Series([facility == 1 for facility in df['Number of patients included in the transfusion summary'].value_counts()]).value_counts()"
   ]
  },
  {
   "cell_type": "code",
   "execution_count": null,
   "metadata": {},
   "outputs": [],
   "source": [
    "df['Number of patients included in the transfusion summary'].min()"
   ]
  },
  {
   "cell_type": "code",
   "execution_count": null,
   "metadata": {
    "scrolled": true
   },
   "outputs": [],
   "source": [
    "df['Number of patients included in the transfusion summary'].max()"
   ]
  },
  {
   "cell_type": "code",
   "execution_count": null,
   "metadata": {},
   "outputs": [],
   "source": [
    "set([(len(str(num))) for num in df['Number of patients included in the transfusion summary']])"
   ]
  },
  {
   "cell_type": "markdown",
   "metadata": {},
   "source": [
    "### Percent of Adult HD patients with Kt/V >= 1.2\n",
    "Data type: object\n",
    "\n",
    "Value count: 7626 \n",
    "\n",
    "Number of unique values: 54\n",
    "\n",
    "Percent unique values: 0.170% \n",
    "\n",
    "Ranges of values: 0 - \n",
    "\n",
    "Length of values: 1 - 3, 13\n",
    "\n",
    "Description: Lists the percentage of adult HD patients with Kt/V greater than or equal to 1.2. The parameter Kt/V is a measurement of the efficacy of a hemodialysis session. It identifies the effective removal of a specific solute (clearance K) resulting from a given treatment (characterized by time t) in a given patient (with a specific volume of distribution V for the solute considered)."
   ]
  },
  {
   "cell_type": "code",
   "execution_count": null,
   "metadata": {},
   "outputs": [],
   "source": [
    "df['Percent of Adult HD patients with Kt/V >= 1.2'].head()"
   ]
  },
  {
   "cell_type": "code",
   "execution_count": null,
   "metadata": {},
   "outputs": [],
   "source": [
    "df['Percent of Adult HD patients with Kt/V >= 1.2'].tail()"
   ]
  },
  {
   "cell_type": "code",
   "execution_count": null,
   "metadata": {},
   "outputs": [],
   "source": [
    "df['Percent of Adult HD patients with Kt/V >= 1.2'].describe()"
   ]
  },
  {
   "cell_type": "code",
   "execution_count": null,
   "metadata": {},
   "outputs": [],
   "source": [
    "# Percent unique values\n",
    "# True if facility has a value count of 1 (aka unique)\n",
    "pd.Series([facility == 1 for facility in df['Percent of Adult HD patients with Kt/V >= 1.2'].value_counts()]).value_counts()"
   ]
  },
  {
   "cell_type": "code",
   "execution_count": null,
   "metadata": {
    "scrolled": true
   },
   "outputs": [],
   "source": [
    "df['Percent of Adult HD patients with Kt/V >= 1.2'].min()"
   ]
  },
  {
   "cell_type": "code",
   "execution_count": null,
   "metadata": {},
   "outputs": [],
   "source": [
    "df['Percent of Adult HD patients with Kt/V >= 1.2'].max()"
   ]
  },
  {
   "cell_type": "code",
   "execution_count": null,
   "metadata": {},
   "outputs": [],
   "source": [
    "set([(len(str(num))) for num in df['Percent of Adult HD patients with Kt/V >= 1.2']])"
   ]
  },
  {
   "cell_type": "markdown",
   "metadata": {},
   "source": [
    "### Adult HD Kt/V data availability code\n",
    "Data type: int64\n",
    "\n",
    "Value count: 7626\n",
    "\n",
    "Number of unique values: 5\n",
    "\n",
    "Percent unique values: 0%\n",
    "\n",
    "Ranges of values: 1, 199, 201, 256, 258\n",
    "\n",
    "Length of values: 1, 3\n",
    "\n",
    "Description: Lists whether the facility had sufficient adult HD Kt/V data available or the reason for why the data is not available. The parameter Kt/V is a measurement of the efficacy of a hemodialysis session. It identifies the effective removal of a specific solute (clearance K) resulting from a given treatment (characterized by time t) in a given patient (with a specific volume of distribution V for the solute considered).\n",
    "\n",
    "Value description: \n",
    "- 1   : N/A\n",
    "- 199 : Not enough patients to report on this measure. Call the dialysis center to discuss this measure.\n",
    "- 201 : Data not reported. Call the dialysis center to discuss this quality measure.\n",
    "- 256 : The dialysis center does not provide hemodialysis during the reporting period. \n",
    "- 258 : The dialysis center was not open long enough to supply sufficient measure data. "
   ]
  },
  {
   "cell_type": "code",
   "execution_count": null,
   "metadata": {},
   "outputs": [],
   "source": [
    "df['Adult HD Kt/V data availability code'].head()"
   ]
  },
  {
   "cell_type": "code",
   "execution_count": null,
   "metadata": {},
   "outputs": [],
   "source": [
    "df['Adult HD Kt/V data availability code'].tail()"
   ]
  },
  {
   "cell_type": "code",
   "execution_count": null,
   "metadata": {},
   "outputs": [],
   "source": [
    "df['Adult HD Kt/V data availability code'].count()"
   ]
  },
  {
   "cell_type": "code",
   "execution_count": null,
   "metadata": {},
   "outputs": [],
   "source": [
    "df['Adult HD Kt/V data availability code'].value_counts()"
   ]
  },
  {
   "cell_type": "markdown",
   "metadata": {},
   "source": [
    "### Percentage of Adult PD PTS with Kt/V >= 1.7\n",
    "Data type: object\n",
    "\n",
    "Value count: 7626\n",
    "\n",
    "Number of unique values: 71\n",
    "\n",
    "Percent unique values: 0.210%\n",
    "\n",
    "Ranges of values: 0 - \n",
    "\n",
    "Length of values: 1 - 3, 13\n",
    "\n",
    "Description: Lists the percentage of adult PD PTS patients with Kt/V greater than or equal to 1.7. The parameter Kt/V is a measurement of the efficacy of a hemodialysis session. It identifies the effective removal of a specific solute (clearance K) resulting from a given treatment (characterized by time t) in a given patient (with a specific volume of distribution V for the solute considered)."
   ]
  },
  {
   "cell_type": "code",
   "execution_count": null,
   "metadata": {},
   "outputs": [],
   "source": [
    "df['Percentage of Adult PD PTS with Kt/V >= 1.7'].head()"
   ]
  },
  {
   "cell_type": "code",
   "execution_count": null,
   "metadata": {},
   "outputs": [],
   "source": [
    "df['Percentage of Adult PD PTS with Kt/V >= 1.7'].tail()"
   ]
  },
  {
   "cell_type": "code",
   "execution_count": null,
   "metadata": {},
   "outputs": [],
   "source": [
    "df['Percentage of Adult PD PTS with Kt/V >= 1.7'].describe()"
   ]
  },
  {
   "cell_type": "code",
   "execution_count": null,
   "metadata": {},
   "outputs": [],
   "source": [
    "# Percent unique values\n",
    "# True if facility has a value count of 1 (aka unique)\n",
    "pd.Series([facility == 1 for facility in df['Percentage of Adult PD PTS with Kt/V >= 1.7'].value_counts()]).value_counts()"
   ]
  },
  {
   "cell_type": "code",
   "execution_count": null,
   "metadata": {},
   "outputs": [],
   "source": [
    "df['Percentage of Adult PD PTS with Kt/V >= 1.7'].min()"
   ]
  },
  {
   "cell_type": "code",
   "execution_count": null,
   "metadata": {},
   "outputs": [],
   "source": [
    "df['Percentage of Adult PD PTS with Kt/V >= 1.7'].max()"
   ]
  },
  {
   "cell_type": "code",
   "execution_count": null,
   "metadata": {},
   "outputs": [],
   "source": [
    "set([(len(str(num))) for num in df['Percentage of Adult PD PTS with Kt/V >= 1.7']])"
   ]
  },
  {
   "cell_type": "markdown",
   "metadata": {},
   "source": [
    "### Adult PD Kt/V Data Availability Code\n",
    "Data type: int64 \n",
    "\n",
    "Value count: 7626\n",
    "\n",
    "Number of unique values: 5\n",
    "\n",
    "Percent unique values: 0%\n",
    "\n",
    "Ranges of values: 1, 199, 201, 257, 258\n",
    "\n",
    "Length of values: 1, 3\n",
    "\n",
    "Description: Lists whether the facility had sufficient adult PD Kt/V data available or the reason for why the data is not available. The parameter Kt/V is a measurement of the efficacy of a hemodialysis session. It identifies the effective removal of a specific solute (clearance K) resulting from a given treatment (characterized by time t) in a given patient (with a specific volume of distribution V for the solute considered).\n",
    "\n",
    "Value description:\n",
    "- 1   : N/A\n",
    "- 199 : Not enough patients to report on this measure. Call the dialysis center to discuss this measure.\n",
    "- 201 : Data not reported. Call the dialysis center to discuss this quality measure.\n",
    "- 257 : The dialysis center does not provide peritoneal dialysis during the reporting period. \n",
    "- 258 : The dialysis center was not open long enough to supply sufficient measure data."
   ]
  },
  {
   "cell_type": "code",
   "execution_count": null,
   "metadata": {},
   "outputs": [],
   "source": [
    "df['Adult PD Kt/V Data Availability Code'].head()"
   ]
  },
  {
   "cell_type": "code",
   "execution_count": null,
   "metadata": {},
   "outputs": [],
   "source": [
    "df['Adult PD Kt/V Data Availability Code'].tail()"
   ]
  },
  {
   "cell_type": "code",
   "execution_count": null,
   "metadata": {},
   "outputs": [],
   "source": [
    "df['Adult PD Kt/V Data Availability Code'].count()"
   ]
  },
  {
   "cell_type": "code",
   "execution_count": null,
   "metadata": {},
   "outputs": [],
   "source": [
    "df['Adult PD Kt/V Data Availability Code'].value_counts()"
   ]
  },
  {
   "cell_type": "markdown",
   "metadata": {},
   "source": [
    "### Percentage of Pediatric HD patients with Kt/V >= 1.2\n",
    "Data type: object\n",
    "\n",
    "Value count: 7626\n",
    "\n",
    "Number of unique values: 12\n",
    "\n",
    "Percent unique values: 0.105%\n",
    "\n",
    "Ranges of values: 100 - \n",
    "\n",
    "Length of values: 2, 3, 13\n",
    "\n",
    "Description: Lists the percentage of pediatric HD patients with Kt/V greater than or equal to 1.2. The parameter Kt/V is a measurement of the efficacy of a hemodialysis session. It identifies the effective removal of a specific solute (clearance K) resulting from a given treatment (characterized by time t) in a given patient (with a specific volume of distribution V for the solute considered)."
   ]
  },
  {
   "cell_type": "code",
   "execution_count": null,
   "metadata": {},
   "outputs": [],
   "source": [
    "df['Percentage of Pediatric HD patients with Kt/V >= 1.2'].head()"
   ]
  },
  {
   "cell_type": "code",
   "execution_count": null,
   "metadata": {},
   "outputs": [],
   "source": [
    "df['Percentage of Pediatric HD patients with Kt/V >= 1.2'].tail()"
   ]
  },
  {
   "cell_type": "code",
   "execution_count": null,
   "metadata": {},
   "outputs": [],
   "source": [
    "df['Percentage of Pediatric HD patients with Kt/V >= 1.2'].describe()"
   ]
  },
  {
   "cell_type": "code",
   "execution_count": null,
   "metadata": {},
   "outputs": [],
   "source": [
    "# Percent unique values\n",
    "# True if facility has a value count of 1 (aka unique)\n",
    "pd.Series([facility == 1 for facility in df['Percentage of Pediatric HD patients with Kt/V >= 1.2'].value_counts()]).value_counts()"
   ]
  },
  {
   "cell_type": "code",
   "execution_count": null,
   "metadata": {},
   "outputs": [],
   "source": [
    "df['Percentage of Pediatric HD patients with Kt/V >= 1.2'].min()"
   ]
  },
  {
   "cell_type": "code",
   "execution_count": null,
   "metadata": {},
   "outputs": [],
   "source": [
    "df['Percentage of Pediatric HD patients with Kt/V >= 1.2'].max()"
   ]
  },
  {
   "cell_type": "code",
   "execution_count": null,
   "metadata": {},
   "outputs": [],
   "source": [
    "set([(len(str(num))) for num in df['Percentage of Pediatric HD patients with Kt/V >= 1.2']])"
   ]
  },
  {
   "cell_type": "markdown",
   "metadata": {},
   "source": [
    "### Pediatric HD Kt/V Data Availability Code\n",
    "Data type: int64\n",
    "\n",
    "Value count: 7626\n",
    "\n",
    "Number of unique values: 5\n",
    "\n",
    "Percent unique values: 0%\n",
    "\n",
    "Ranges of values: 1, 199, 201, 258, 259\n",
    "\n",
    "Length of values: 1, 3\n",
    "\n",
    "Description: Lists whether the facility had sufficient Pediatric HD Kt/V data available or the reason for why the data is not available. The parameter Kt/V is a measurement of the efficacy of a hemodialysis session. It identifies the effective removal of a specific solute (clearance K) resulting from a given treatment(characterized by time t) in a given patient (with a specific volume of distribution V for the solute considered).\n",
    "\n",
    "Value description:\n",
    "- 1   : N/A\n",
    "- 199 : Not enough patients to report on this measure. Call the dialysis center to discuss this measure.\n",
    "- 201 : Data not reported. Call the dialysis center to discuss this quality measure.\n",
    "- 258 : The dialysis center was not open long enough to supply sufficient measure data. \n",
    "- 259 : The dialysis center does not provide hemodialysis and/or peritoneal dialysis to pediatric patients during the reporting period."
   ]
  },
  {
   "cell_type": "code",
   "execution_count": null,
   "metadata": {},
   "outputs": [],
   "source": [
    "df['Pediatric HD Kt/V Data Availability Code'].head()"
   ]
  },
  {
   "cell_type": "code",
   "execution_count": null,
   "metadata": {},
   "outputs": [],
   "source": [
    "df['Pediatric HD Kt/V Data Availability Code'].tail()"
   ]
  },
  {
   "cell_type": "code",
   "execution_count": null,
   "metadata": {},
   "outputs": [],
   "source": [
    "df['Pediatric HD Kt/V Data Availability Code'].count()"
   ]
  },
  {
   "cell_type": "code",
   "execution_count": null,
   "metadata": {},
   "outputs": [],
   "source": [
    "df['Pediatric HD Kt/V Data Availability Code'].value_counts()"
   ]
  },
  {
   "cell_type": "markdown",
   "metadata": {},
   "source": [
    "### Number of Adult HD patients with Kt/V data\n",
    "Data type: object\n",
    "\n",
    "Value count: 7626\n",
    "\n",
    "Number of unique values: 271\n",
    "\n",
    "Percent unique values: 0.498%\n",
    "\n",
    "Ranges of values: 0 - \n",
    "\n",
    "Length of values: 1 - 3, 13\n",
    "\n",
    "Description: Lists the number of adult HD patients included in Kt/V greater than or equal to 1.2 summary. The parameter Kt/V is a measurement of the efficacy of a hemodialysis session. It identifies the effective removal of a specific solute (clearance K) resulting from a given treatment (characterized by time t) in a given patient (with a specific volume of distribution V for the solute considered)."
   ]
  },
  {
   "cell_type": "code",
   "execution_count": null,
   "metadata": {},
   "outputs": [],
   "source": [
    "df['Number of Adult HD patients with Kt/V data'].head()"
   ]
  },
  {
   "cell_type": "code",
   "execution_count": null,
   "metadata": {},
   "outputs": [],
   "source": [
    "df['Number of Adult HD patients with Kt/V data'].tail()"
   ]
  },
  {
   "cell_type": "code",
   "execution_count": null,
   "metadata": {},
   "outputs": [],
   "source": [
    "df['Number of Adult HD patients with Kt/V data'].describe()"
   ]
  },
  {
   "cell_type": "code",
   "execution_count": null,
   "metadata": {},
   "outputs": [],
   "source": [
    "# Percent unique values\n",
    "# True if facility has a value count of 1 (aka unique)\n",
    "pd.Series([facility == 1 for facility in df['Number of Adult HD patients with Kt/V data'].value_counts()]).value_counts()"
   ]
  },
  {
   "cell_type": "code",
   "execution_count": null,
   "metadata": {},
   "outputs": [],
   "source": [
    "df['Number of Adult HD patients with Kt/V data'].min()"
   ]
  },
  {
   "cell_type": "code",
   "execution_count": null,
   "metadata": {},
   "outputs": [],
   "source": [
    "df['Number of Adult HD patients with Kt/V data'].max()"
   ]
  },
  {
   "cell_type": "code",
   "execution_count": null,
   "metadata": {},
   "outputs": [],
   "source": [
    "set([(len(str(num))) for num in df['Number of Adult HD patients with Kt/V data']])"
   ]
  },
  {
   "cell_type": "markdown",
   "metadata": {},
   "source": [
    "### Number of Adult HD patient-months with Kt/V data\n",
    "Data type: object\n",
    "\n",
    "Value count: 7626\n",
    "\n",
    "Number of unique values: 1630\n",
    "\n",
    "Percent unique values: 4.62%\n",
    "\n",
    "Ranges of values: 0 - \n",
    "\n",
    "Length of values: 1 - 4, 13\n",
    "\n",
    "Description: Lists the number of adult HD patient-months included in Kt/V greater than or equal to 1.2 summary. The parameter Kt/V is a measurement of the efficacy of a hemodialysis session. It identifies the effective removal of a specific solute (clearance K) resulting from a given treatment (characterized by time t) in a given patient (with a specific volume of distribution V for the solute considered)."
   ]
  },
  {
   "cell_type": "code",
   "execution_count": null,
   "metadata": {},
   "outputs": [],
   "source": [
    "df['Number of Adult HD patient-months with Kt/V data'].head()"
   ]
  },
  {
   "cell_type": "code",
   "execution_count": null,
   "metadata": {
    "scrolled": true
   },
   "outputs": [],
   "source": [
    "df['Number of Adult HD patient-months with Kt/V data'].tail()"
   ]
  },
  {
   "cell_type": "code",
   "execution_count": null,
   "metadata": {},
   "outputs": [],
   "source": [
    "df['Number of Adult HD patient-months with Kt/V data'].describe()"
   ]
  },
  {
   "cell_type": "code",
   "execution_count": null,
   "metadata": {},
   "outputs": [],
   "source": [
    "# Percent unique values\n",
    "# True if facility has a value count of 1 (aka unique)\n",
    "pd.Series([facility == 1 for facility in df['Number of Adult HD patient-months with Kt/V data'].value_counts()]).value_counts()"
   ]
  },
  {
   "cell_type": "code",
   "execution_count": null,
   "metadata": {},
   "outputs": [],
   "source": [
    "df['Number of Adult HD patient-months with Kt/V data'].min()"
   ]
  },
  {
   "cell_type": "code",
   "execution_count": null,
   "metadata": {},
   "outputs": [],
   "source": [
    "df['Number of Adult HD patient-months with Kt/V data'].max()"
   ]
  },
  {
   "cell_type": "code",
   "execution_count": null,
   "metadata": {},
   "outputs": [],
   "source": [
    "set([(len(str(num))) for num in df['Number of Adult HD patient-months with Kt/V data']])"
   ]
  },
  {
   "cell_type": "markdown",
   "metadata": {},
   "source": [
    "### Number of Adult PD patients with Kt/V data\n",
    "Data type: object\n",
    "\n",
    "Value count: 7626\n",
    "\n",
    "Number of unique values: 137\n",
    "\n",
    "Percent unique values: 0.446%\n",
    "\n",
    "Ranges of values: 0 -\n",
    "\n",
    "Length of values: 1 - 3, 13\n",
    "\n",
    "Description: Lists the number of adult PD patients included in Kt/V greater than or equal to 1.7 summary. The parameter Kt/V is a measurement of the efficacy of a hemodialysis session. It identifies the effective removal of a specific solute (clearance K) resulting from a given treatment (characterized by time t) in a given patient (with a specific volume of distribution V for the solute considered)."
   ]
  },
  {
   "cell_type": "code",
   "execution_count": null,
   "metadata": {},
   "outputs": [],
   "source": [
    "df['Number of Adult PD patients with Kt/V data'].head()"
   ]
  },
  {
   "cell_type": "code",
   "execution_count": null,
   "metadata": {},
   "outputs": [],
   "source": [
    "df['Number of Adult PD patients with Kt/V data'].tail()"
   ]
  },
  {
   "cell_type": "code",
   "execution_count": null,
   "metadata": {},
   "outputs": [],
   "source": [
    "df['Number of Adult PD patients with Kt/V data'].describe()"
   ]
  },
  {
   "cell_type": "code",
   "execution_count": null,
   "metadata": {},
   "outputs": [],
   "source": [
    "# Percent unique values\n",
    "# True if facility has a value count of 1 (aka unique)\n",
    "pd.Series([facility == 1 for facility in df['Number of Adult PD patients with Kt/V data'].value_counts()]).value_counts()"
   ]
  },
  {
   "cell_type": "code",
   "execution_count": null,
   "metadata": {},
   "outputs": [],
   "source": [
    "df['Number of Adult PD patients with Kt/V data'].min()"
   ]
  },
  {
   "cell_type": "code",
   "execution_count": null,
   "metadata": {},
   "outputs": [],
   "source": [
    "df['Number of Adult PD patients with Kt/V data'].max()"
   ]
  },
  {
   "cell_type": "code",
   "execution_count": null,
   "metadata": {},
   "outputs": [],
   "source": [
    "set([(len(str(num))) for num in df['Number of Adult PD patients with Kt/V data']])"
   ]
  },
  {
   "cell_type": "markdown",
   "metadata": {},
   "source": [
    "### Number of Adult PD patient-months with Kt/V data\n",
    "Data type: object\n",
    "\n",
    "Value count: 7626\n",
    "\n",
    "Number of unique values: 611\n",
    "\n",
    "Percent unique values: 2.65%\n",
    "\n",
    "Ranges of values: 0 - \n",
    "\n",
    "Length of values: 1 - 4, 13\n",
    "\n",
    "Description: Lists the number of adult PD patient-months included in Kt/V greater than or equal to 1.7 summary. The parameter Kt/V is a measurement of the efficacy of a hemodialysis session. It identifies the effective removal of a specific solute (clearance K) resulting from a given treatment (characterized by time t) in a given patient (with a specific volume of distribution V for the solute considered). "
   ]
  },
  {
   "cell_type": "code",
   "execution_count": null,
   "metadata": {},
   "outputs": [],
   "source": [
    "df['Number of Adult PD patient-months with Kt/V data'].head()"
   ]
  },
  {
   "cell_type": "code",
   "execution_count": null,
   "metadata": {},
   "outputs": [],
   "source": [
    "df['Number of Adult PD patient-months with Kt/V data'].tail()"
   ]
  },
  {
   "cell_type": "code",
   "execution_count": null,
   "metadata": {},
   "outputs": [],
   "source": [
    "df['Number of Adult PD patient-months with Kt/V data'].describe()"
   ]
  },
  {
   "cell_type": "code",
   "execution_count": null,
   "metadata": {},
   "outputs": [],
   "source": [
    "# Percent unique values\n",
    "# True if facility has a value count of 1 (aka unique)\n",
    "pd.Series([facility == 1 for facility in df['Number of Adult PD patient-months with Kt/V data'].value_counts()]).value_counts()"
   ]
  },
  {
   "cell_type": "code",
   "execution_count": null,
   "metadata": {},
   "outputs": [],
   "source": [
    "df['Number of Adult PD patient-months with Kt/V data'].unique()"
   ]
  },
  {
   "cell_type": "code",
   "execution_count": null,
   "metadata": {},
   "outputs": [],
   "source": [
    "df['Number of Adult PD patient-months with Kt/V data'].max()"
   ]
  },
  {
   "cell_type": "code",
   "execution_count": null,
   "metadata": {},
   "outputs": [],
   "source": [
    "set([(len(str(num))) for num in df['Number of Adult PD patient-months with Kt/V data']])"
   ]
  },
  {
   "cell_type": "markdown",
   "metadata": {},
   "source": [
    "### Number of Pediatric HD patients with Kt/V data\n",
    "Data type: object\n",
    "\n",
    "Value count: 7626\n",
    "\n",
    "Number of unique values: 20\n",
    "\n",
    "Percent unique values: 0.0393%\n",
    "\n",
    "Ranges of values: 0 - \n",
    "\n",
    "Length of values: 1 - 2, 13\n",
    "\n",
    "Description: Lists the number of pediatric HD patients included in Kt/V greater than or equal to 1.2 summary. The parameter Kt/V is a measurement of the efficacy of a hemodialysis session. It identifies the effective removal of a specific solute (clearance K) resulting from a given treatment (characterized by time t) in a given patient (with a specific volume of distribution V for the solute considered)."
   ]
  },
  {
   "cell_type": "code",
   "execution_count": null,
   "metadata": {},
   "outputs": [],
   "source": [
    "df['Number of Pediatric HD patients with Kt/V data'].head()"
   ]
  },
  {
   "cell_type": "code",
   "execution_count": null,
   "metadata": {},
   "outputs": [],
   "source": [
    "df['Number of Pediatric HD patients with Kt/V data'].tail()"
   ]
  },
  {
   "cell_type": "code",
   "execution_count": null,
   "metadata": {},
   "outputs": [],
   "source": [
    "df['Number of Pediatric HD patients with Kt/V data'].describe()"
   ]
  },
  {
   "cell_type": "code",
   "execution_count": null,
   "metadata": {},
   "outputs": [],
   "source": [
    "# Percent unique values\n",
    "# True if facility has a value count of 1 (aka unique)\n",
    "pd.Series([facility == 1 for facility in df['Number of Pediatric HD patients with Kt/V data'].value_counts()]).value_counts()"
   ]
  },
  {
   "cell_type": "code",
   "execution_count": null,
   "metadata": {},
   "outputs": [],
   "source": [
    "df['Number of Pediatric HD patients with Kt/V data'].min()"
   ]
  },
  {
   "cell_type": "code",
   "execution_count": null,
   "metadata": {},
   "outputs": [],
   "source": [
    "df['Number of Pediatric HD patients with Kt/V data'].max()"
   ]
  },
  {
   "cell_type": "code",
   "execution_count": null,
   "metadata": {},
   "outputs": [],
   "source": [
    "set([(len(str(num))) for num in df['Number of Pediatric HD patients with Kt/V data']])"
   ]
  },
  {
   "cell_type": "markdown",
   "metadata": {},
   "source": [
    "### Number of Pediatric HD patient-months with Kt/V data\n",
    "Data type: object \n",
    "\n",
    "Value count: 7626\n",
    "\n",
    "Number of unique values: 68\n",
    "\n",
    "Percent unique values: 0.459%\n",
    "\n",
    "Ranges of values: 1 - \n",
    "\n",
    "Length of values: 1 - 3, 13\n",
    "\n",
    "Description: Lists the number of pediatric HD patientmonths included in Kt/V greater than or equal to 1.2 summary. The parameter Kt/V is a measurement of the efficacy of a hemodialysis session. It identifies the effective removal of a specific solute (clearance K) resulting from a given treatment (characterized by time t) in a given patient (with a specific volume of distribution V for the solute considered)."
   ]
  },
  {
   "cell_type": "code",
   "execution_count": null,
   "metadata": {},
   "outputs": [],
   "source": [
    "df['Number of Pediatric HD patient-months with Kt/V data'].head()"
   ]
  },
  {
   "cell_type": "code",
   "execution_count": null,
   "metadata": {},
   "outputs": [],
   "source": [
    "df['Number of Pediatric HD patient-months with Kt/V data'].tail()"
   ]
  },
  {
   "cell_type": "code",
   "execution_count": null,
   "metadata": {},
   "outputs": [],
   "source": [
    "df['Number of Pediatric HD patient-months with Kt/V data'].describe()"
   ]
  },
  {
   "cell_type": "code",
   "execution_count": null,
   "metadata": {},
   "outputs": [],
   "source": [
    "# Percent unique values\n",
    "# True if facility has a value count of 1 (aka unique)\n",
    "pd.Series([facility == 1 for facility in df['Number of Pediatric HD patient-months with Kt/V data'].value_counts()]).value_counts()"
   ]
  },
  {
   "cell_type": "code",
   "execution_count": null,
   "metadata": {},
   "outputs": [],
   "source": [
    "df['Number of Pediatric HD patient-months with Kt/V data'].min()"
   ]
  },
  {
   "cell_type": "code",
   "execution_count": null,
   "metadata": {},
   "outputs": [],
   "source": [
    "df['Number of Pediatric HD patient-months with Kt/V data'].max()"
   ]
  },
  {
   "cell_type": "code",
   "execution_count": null,
   "metadata": {},
   "outputs": [],
   "source": [
    "set([(len(str(num))) for num in df['Number of Pediatric HD patient-months with Kt/V data']])"
   ]
  },
  {
   "cell_type": "markdown",
   "metadata": {},
   "source": [
    "### Hypercalcemia Data Availability Code\n",
    "Data type: int64\n",
    "\n",
    "Value count: 7626\n",
    "\n",
    "Number of unique values: 4\n",
    "\n",
    "Percent unique values: 0%\n",
    "\n",
    "Ranges of values: 1, 199, 201, 258\n",
    "\n",
    "Length of values: 1, 3\n",
    "\n",
    "Description: Lists whether the facility had sufficient hypercalcemia data available or the reason for why the data is not available. Hypercalcemia is a condition in which the calcium level in one's blood is above normal. Too much calcium in the blood can weaken bones, create kidney stones, and interfere with how the heart and brain work. Hypercalcemia is usually a result of overactive parathyroid glands.\n",
    "A normal serum calcium level is 8-10 mg/dL (2-2.5 mmol/L) with some interlaboratory variation in the reference range, and hypercalcemia is defined as a serum calcium level greater than 10.5 mg/dL (>2.5 mmol/L).\n",
    "\n",
    "Value description:\n",
    "- 1   : N/A\n",
    "- 199 : Not enough patients to report on this measure. Call the dialysis center to discuss this measure.\n",
    "- 201 : Data not reported. Call the dialysis center to discuss this quality measure.\n",
    "- 258 : The dialysis center was not open long enough to supply sufficient measure data. "
   ]
  },
  {
   "cell_type": "code",
   "execution_count": null,
   "metadata": {},
   "outputs": [],
   "source": [
    "df['Hypercalcemia Data Availability Code'].head()"
   ]
  },
  {
   "cell_type": "code",
   "execution_count": null,
   "metadata": {},
   "outputs": [],
   "source": [
    "df['Hypercalcemia Data Availability Code'].tail()"
   ]
  },
  {
   "cell_type": "code",
   "execution_count": null,
   "metadata": {},
   "outputs": [],
   "source": [
    "df['Hypercalcemia Data Availability Code'].count()"
   ]
  },
  {
   "cell_type": "code",
   "execution_count": null,
   "metadata": {},
   "outputs": [],
   "source": [
    "df['Hypercalcemia Data Availability Code'].value_counts()"
   ]
  },
  {
   "cell_type": "markdown",
   "metadata": {},
   "source": [
    "### Number of patients in hypercalcemia summary\n",
    "Data type: object\n",
    "\n",
    "Value count: 7626\n",
    "\n",
    "Number of unique values: 311\n",
    "\n",
    "Percent unique values: 0.656%\n",
    "\n",
    "Ranges of values: 0 - \n",
    "\n",
    "Length of values: 1 - 3, 13\n",
    "\n",
    "Description: Lists the number of patients included in the facility’s hypercalcemia summary. Hypercalcemia is a condition in which the calcium level in one's blood is above normal. Too much calcium in the blood can weaken bones, create kidney stones, and interfere with how the heart and brain work. Hypercalcemia is usually a result of overactive parathyroid glands.\n",
    "A normal serum calcium level is 8-10 mg/dL (2-2.5 mmol/L) with some interlaboratory variation in the reference range, and hypercalcemia is defined as a serum calcium level greater than 10.5 mg/dL (>2.5 mmol/L)."
   ]
  },
  {
   "cell_type": "code",
   "execution_count": null,
   "metadata": {},
   "outputs": [],
   "source": [
    "df['Number of patients in hypercalcemia summary'].head()"
   ]
  },
  {
   "cell_type": "code",
   "execution_count": null,
   "metadata": {},
   "outputs": [],
   "source": [
    "df['Number of patients in hypercalcemia summary'].tail()"
   ]
  },
  {
   "cell_type": "code",
   "execution_count": null,
   "metadata": {},
   "outputs": [],
   "source": [
    "df['Number of patients in hypercalcemia summary'].describe()"
   ]
  },
  {
   "cell_type": "code",
   "execution_count": null,
   "metadata": {},
   "outputs": [],
   "source": [
    "# Percent unique values\n",
    "# True if facility has a value count of 1 (aka unique)\n",
    "pd.Series([facility == 1 for facility in df['Number of patients in hypercalcemia summary'].value_counts()]).value_counts()"
   ]
  },
  {
   "cell_type": "code",
   "execution_count": null,
   "metadata": {},
   "outputs": [],
   "source": [
    "df['Number of patients in hypercalcemia summary'].min()"
   ]
  },
  {
   "cell_type": "code",
   "execution_count": null,
   "metadata": {},
   "outputs": [],
   "source": [
    "df['Number of patients in hypercalcemia summary'].max()"
   ]
  },
  {
   "cell_type": "code",
   "execution_count": null,
   "metadata": {},
   "outputs": [],
   "source": [
    "set([(len(str(num))) for num in df['Number of patients in hypercalcemia summary']])"
   ]
  },
  {
   "cell_type": "markdown",
   "metadata": {},
   "source": [
    "### Number of patient-months in hypercalcemia summary\n",
    "Data type: object\n",
    "\n",
    "Value count: 7626\n",
    "\n",
    "Number of unique values: 1866\n",
    "\n",
    "Percent unique values: 5.51%\n",
    "\n",
    "Ranges of values: 0 - \n",
    "\n",
    "Length of values: 1 - 4, 13\n",
    "\n",
    "Description: Lists the number of patient-months included in the facility’s hypercalcemia summary. Hypercalcemia is a condition in which the calcium level in one's blood is above normal. Too much calcium in the blood can weaken bones, create kidney stones, and interfere with how the heart and brain work. Hypercalcemia is usually a result of overactive parathyroid glands.\n",
    "A normal serum calcium level is 8-10 mg/dL (2-2.5 mmol/L) with some interlaboratory variation in the reference range, and hypercalcemia is defined as a serum calcium level greater than 10.5 mg/dL (>2.5 mmol/L)."
   ]
  },
  {
   "cell_type": "code",
   "execution_count": null,
   "metadata": {},
   "outputs": [],
   "source": [
    "df['Number of patient-months in hypercalcemia summary'].head()"
   ]
  },
  {
   "cell_type": "code",
   "execution_count": null,
   "metadata": {},
   "outputs": [],
   "source": [
    "df['Number of patient-months in hypercalcemia summary'].tail()"
   ]
  },
  {
   "cell_type": "code",
   "execution_count": null,
   "metadata": {},
   "outputs": [],
   "source": [
    "df['Number of patient-months in hypercalcemia summary'].describe()"
   ]
  },
  {
   "cell_type": "code",
   "execution_count": null,
   "metadata": {},
   "outputs": [],
   "source": [
    "# Percent unique values\n",
    "# True if facility has a value count of 1 (aka unique)\n",
    "pd.Series([facility == 1 for facility in df['Number of patient-months in hypercalcemia summary'].value_counts()]).value_counts()"
   ]
  },
  {
   "cell_type": "code",
   "execution_count": null,
   "metadata": {},
   "outputs": [],
   "source": [
    "df['Number of patient-months in hypercalcemia summary'].min()"
   ]
  },
  {
   "cell_type": "code",
   "execution_count": null,
   "metadata": {},
   "outputs": [],
   "source": [
    "df['Number of patient-months in hypercalcemia summary'].max()"
   ]
  },
  {
   "cell_type": "code",
   "execution_count": null,
   "metadata": {},
   "outputs": [],
   "source": [
    "set([(len(str(num))) for num in df['Number of patient-months in hypercalcemia summary']])"
   ]
  },
  {
   "cell_type": "markdown",
   "metadata": {},
   "source": [
    "### Percentage of Adult patients with hypercalcemia (serum calcium greater than 10.2 mg/dL)\n",
    "Data type: object\n",
    "\n",
    "Value count: 7626\n",
    "\n",
    "Number of unique values: 49\n",
    "\n",
    "Percent unique values: 0.197%\n",
    "\n",
    "Ranges of values: 0 - \n",
    "\n",
    "Length of values: 1 - 2, 13\n",
    "\n",
    "Description: Lists the percentage of Adult patients with Hypercalcemia (serum calcium greater than 10.2 mg/dL). Serum phosphorus is measured in milligrams of phosphorus per deciliter of blood (mg/dL). According to Mayo Medical Laboratories, a normal range for adults is generally 2.5 to 4.5 mg/dL. The normal range varies slightly depending on your age.\n",
    "Most commonly, a high level of phosphorus is related to a kidney disorder. It shows that your kidneys are having difficulty clearing phosphorus from your blood. A high level of phosphorus can also mean uncontrolled diabetes and other endocrine disorders. "
   ]
  },
  {
   "cell_type": "code",
   "execution_count": null,
   "metadata": {},
   "outputs": [],
   "source": [
    "df['Percentage of Adult patients with hypercalcemia (serum calcium greater than 10.2 mg/dL)'].head()"
   ]
  },
  {
   "cell_type": "code",
   "execution_count": null,
   "metadata": {},
   "outputs": [],
   "source": [
    "df['Percentage of Adult patients with hypercalcemia (serum calcium greater than 10.2 mg/dL)'].tail()"
   ]
  },
  {
   "cell_type": "code",
   "execution_count": null,
   "metadata": {},
   "outputs": [],
   "source": [
    "df['Percentage of Adult patients with hypercalcemia (serum calcium greater than 10.2 mg/dL)'].describe()"
   ]
  },
  {
   "cell_type": "code",
   "execution_count": null,
   "metadata": {},
   "outputs": [],
   "source": [
    "# Percent unique values\n",
    "# True if facility has a value count of 1 (aka unique)\n",
    "pd.Series([facility == 1 for facility in df['Percentage of Adult patients with hypercalcemia (serum calcium greater than 10.2 mg/dL)'].value_counts()]).value_counts()"
   ]
  },
  {
   "cell_type": "code",
   "execution_count": null,
   "metadata": {},
   "outputs": [],
   "source": [
    "df['Percentage of Adult patients with hypercalcemia (serum calcium greater than 10.2 mg/dL)'].min()"
   ]
  },
  {
   "cell_type": "code",
   "execution_count": null,
   "metadata": {},
   "outputs": [],
   "source": [
    "df['Percentage of Adult patients with hypercalcemia (serum calcium greater than 10.2 mg/dL)'].max()"
   ]
  },
  {
   "cell_type": "code",
   "execution_count": null,
   "metadata": {},
   "outputs": [],
   "source": [
    "set([(len(str(num))) for num in df['Percentage of Adult patients with hypercalcemia (serum calcium greater than 10.2 mg/dL)']])"
   ]
  },
  {
   "cell_type": "markdown",
   "metadata": {},
   "source": [
    "### Number of patients in Serum phosphorus summary\n",
    "Data type: object\n",
    "\n",
    "Value count: 7626\n",
    "\n",
    "Number of unique values: 324\n",
    "\n",
    "Percent unique values: 0.721%\n",
    "\n",
    "Ranges of values: 0 - \n",
    "\n",
    "Length of values: 1 - 3, 13\n",
    "\n",
    "Description: Lists the number of patients included in the facility’s serum phosphorus summary.\n",
    "Serum phosphorus is measured in milligrams of phosphorus per deciliter of blood (mg/dL). According to Mayo Medical Laboratories, a normal range for adults is generally 2.5 to 4.5 mg/dL. The normal range varies slightly depending on your age.\n",
    "Most commonly, a high level of phosphorus is related to a kidney disorder. It shows that your kidneys are having difficulty clearing phosphorus from your blood. A high level of phosphorus can also mean uncontrolled diabetes and other endocrine disorders."
   ]
  },
  {
   "cell_type": "code",
   "execution_count": null,
   "metadata": {},
   "outputs": [],
   "source": [
    "df['Number of patients in Serum phosphorus summary'].head()"
   ]
  },
  {
   "cell_type": "code",
   "execution_count": null,
   "metadata": {},
   "outputs": [],
   "source": [
    "df['Number of patients in Serum phosphorus summary'].tail()"
   ]
  },
  {
   "cell_type": "code",
   "execution_count": null,
   "metadata": {},
   "outputs": [],
   "source": [
    "df['Number of patients in Serum phosphorus summary'].describe()"
   ]
  },
  {
   "cell_type": "code",
   "execution_count": null,
   "metadata": {},
   "outputs": [],
   "source": [
    "# Percent unique values\n",
    "# True if facility has a value count of 1 (aka unique)\n",
    "pd.Series([facility == 1 for facility in df['Number of patients in Serum phosphorus summary'].value_counts()]).value_counts()"
   ]
  },
  {
   "cell_type": "code",
   "execution_count": null,
   "metadata": {},
   "outputs": [],
   "source": [
    "df['Number of patients in Serum phosphorus summary'].min()"
   ]
  },
  {
   "cell_type": "code",
   "execution_count": null,
   "metadata": {},
   "outputs": [],
   "source": [
    "df['Number of patients in Serum phosphorus summary'].max()"
   ]
  },
  {
   "cell_type": "code",
   "execution_count": null,
   "metadata": {},
   "outputs": [],
   "source": [
    "set([(len(str(num))) for num in df['Number of patients in Serum phosphorus summary']])"
   ]
  },
  {
   "cell_type": "markdown",
   "metadata": {},
   "source": [
    "### Number of patient-months in Serum phosphorus summary \n",
    "Data type: object\n",
    "\n",
    "Value count: 7626\n",
    "\n",
    "Number of unique values: 1904\n",
    "\n",
    "Percent unique values: 6.22%\n",
    "\n",
    "Ranges of values: 0 - \n",
    "\n",
    "Length of values: 1 - 4, 13\n",
    "\n",
    "Description: Lists the number of patient-months included in the facility’s serum phosphorus summary.\n",
    "Serum phosphorus is measured in milligrams of phosphorus per deciliter of blood (mg/dL). According to Mayo Medical Laboratories, a normal range for adults is generally 2.5 to 4.5 mg/dL. The normal range varies slightly depending on your age.\n",
    "Most commonly, a high level of phosphorus is related to a kidney disorder. It shows that your kidneys are having difficulty clearing phosphorus from your blood. A high level of phosphorus can also mean uncontrolled diabetes and other endocrine disorders."
   ]
  },
  {
   "cell_type": "code",
   "execution_count": null,
   "metadata": {},
   "outputs": [],
   "source": [
    "df['Number of patient-months in Serum phosphorus summary '].head()"
   ]
  },
  {
   "cell_type": "code",
   "execution_count": null,
   "metadata": {},
   "outputs": [],
   "source": [
    "df['Number of patient-months in Serum phosphorus summary '].tail()"
   ]
  },
  {
   "cell_type": "code",
   "execution_count": null,
   "metadata": {},
   "outputs": [],
   "source": [
    "df['Number of patient-months in Serum phosphorus summary '].describe()"
   ]
  },
  {
   "cell_type": "code",
   "execution_count": null,
   "metadata": {},
   "outputs": [],
   "source": [
    "# Percent unique values\n",
    "# True if facility has a value count of 1 (aka unique)\n",
    "pd.Series([facility == 1 for facility in df['Number of patient-months in Serum phosphorus summary '].value_counts()]).value_counts()"
   ]
  },
  {
   "cell_type": "code",
   "execution_count": null,
   "metadata": {},
   "outputs": [],
   "source": [
    "df['Number of patient-months in Serum phosphorus summary '].min()"
   ]
  },
  {
   "cell_type": "code",
   "execution_count": null,
   "metadata": {},
   "outputs": [],
   "source": [
    "df['Number of patient-months in Serum phosphorus summary '].max()"
   ]
  },
  {
   "cell_type": "code",
   "execution_count": null,
   "metadata": {},
   "outputs": [],
   "source": [
    "set([(len(str(num))) for num in df['Number of patient-months in Serum phosphorus summary ']])"
   ]
  },
  {
   "cell_type": "markdown",
   "metadata": {},
   "source": [
    "### Serum phosphorus Data Availability Code \n",
    "Data type: int64\n",
    "\n",
    "Value count: 7626\n",
    "\n",
    "Number of unique values: 4\n",
    "\n",
    "Percent unique values: 0%\n",
    "\n",
    "Ranges of values: 1, 199, 201, 258\n",
    "\n",
    "Length of values: 1, 3\n",
    "\n",
    "Description: Lists whether the facility had sufficient serum phosphorus data available or the reason for why the data is not available.\n",
    "Serum phosphorus is measured in milligrams of phosphorus per deciliter of blood (mg/dL). According to Mayo Medical Laboratories, a normal range for adults is generally 2.5 to 4.5 mg/dL. The normal range varies slightly depending on your age.\n",
    "Most commonly, a high level of phosphorus is related to a kidney disorder. It shows that your kidneys are having difficulty clearing phosphorus from your blood. A high level of phosphorus can also mean uncontrolled diabetes and other endocrine disorders.\n",
    "\n",
    "Value description:\n",
    "- 1   : N/A\n",
    "- 199 : Not enough patients to report on this measure. Call the dialysis center to discuss this measure.\n",
    "- 201 : Data not reported. Call the dialysis center to discuss this quality measure.\n",
    "- 258 : The dialysis center was not open long enough to supply sufficient measure data. "
   ]
  },
  {
   "cell_type": "code",
   "execution_count": null,
   "metadata": {},
   "outputs": [],
   "source": [
    "df['Serum phosphorus Data Availability Code '].head()"
   ]
  },
  {
   "cell_type": "code",
   "execution_count": null,
   "metadata": {},
   "outputs": [],
   "source": [
    "df['Serum phosphorus Data Availability Code '].tail()"
   ]
  },
  {
   "cell_type": "code",
   "execution_count": null,
   "metadata": {},
   "outputs": [],
   "source": [
    "df['Serum phosphorus Data Availability Code '].count()"
   ]
  },
  {
   "cell_type": "code",
   "execution_count": null,
   "metadata": {},
   "outputs": [],
   "source": [
    "df['Serum phosphorus Data Availability Code '].value_counts()"
   ]
  },
  {
   "cell_type": "markdown",
   "metadata": {},
   "source": [
    "### Percentage of Adult patients with serum phosphorus less than 3.5 mg/dL\n",
    "Data type: object\n",
    "\n",
    "Value count: 7626\n",
    "\n",
    "Number of unique values: 36\n",
    "\n",
    "Percent unique values:  0.0918%\n",
    "\n",
    "Ranges of values: 0 - \n",
    "\n",
    "Length of values: 1 - 2, 13\n",
    "\n",
    "Description: Lists the percentage of Adult patients with serum phosphorus less than 3.5 mg/dL.\n",
    "Serum phosphorus is measured in milligrams of phosphorus per deciliter of blood (mg/dL). According to Mayo Medical Laboratories, a normal range for adults is generally 2.5 to 4.5 mg/dL. The normal range varies slightly depending on your age.\n",
    "Most commonly, a high level of phosphorus is related to a kidney disorder. It shows that your kidneys are having difficulty clearing phosphorus from your blood. A high level of phosphorus can also mean uncontrolled diabetes and other endocrine disorders."
   ]
  },
  {
   "cell_type": "code",
   "execution_count": null,
   "metadata": {},
   "outputs": [],
   "source": [
    "df['Percentage of Adult patients with serum phosphorus less than 3.5 mg/dL'].head()"
   ]
  },
  {
   "cell_type": "code",
   "execution_count": null,
   "metadata": {},
   "outputs": [],
   "source": [
    "df['Percentage of Adult patients with serum phosphorus less than 3.5 mg/dL'].tail()"
   ]
  },
  {
   "cell_type": "code",
   "execution_count": null,
   "metadata": {},
   "outputs": [],
   "source": [
    "df['Percentage of Adult patients with serum phosphorus less than 3.5 mg/dL'].describe()"
   ]
  },
  {
   "cell_type": "code",
   "execution_count": null,
   "metadata": {},
   "outputs": [],
   "source": [
    "# Percent unique values\n",
    "# True if facility has a value count of 1 (aka unique)\n",
    "pd.Series([facility == 1 for facility in df['Percentage of Adult patients with serum phosphorus less than 3.5 mg/dL'].value_counts()]).value_counts()"
   ]
  },
  {
   "cell_type": "code",
   "execution_count": null,
   "metadata": {},
   "outputs": [],
   "source": [
    "df['Percentage of Adult patients with serum phosphorus less than 3.5 mg/dL'].min()"
   ]
  },
  {
   "cell_type": "code",
   "execution_count": null,
   "metadata": {},
   "outputs": [],
   "source": [
    "df['Percentage of Adult patients with serum phosphorus less than 3.5 mg/dL'].max()"
   ]
  },
  {
   "cell_type": "code",
   "execution_count": null,
   "metadata": {},
   "outputs": [],
   "source": [
    "set([(len(str(num))) for num in df['Percentage of Adult patients with serum phosphorus less than 3.5 mg/dL']])"
   ]
  },
  {
   "cell_type": "markdown",
   "metadata": {},
   "source": [
    "### Percentage of Adult patients with serum phosphorus between 3.5-4.5 mg/dL\n",
    "Data type: object\n",
    "\n",
    "Value count: 7626\n",
    "\n",
    "Number of unique values: 47\n",
    "\n",
    "Percent unique values: 0.118%\n",
    "\n",
    "Ranges of values: 10 - \n",
    "\n",
    "Length of values: 1 - 2, 13\n",
    "\n",
    "Description: Lists the percentage of Adult patients with serum phosphorus between 3.5-4.5 mg/dL.\n",
    "Serum phosphorus is measured in milligrams of phosphorus per deciliter of blood (mg/dL). According to Mayo Medical Laboratories, a normal range for adults is generally 2.5 to 4.5 mg/dL. The normal range varies slightly depending on your age.\n",
    "Most commonly, a high level of phosphorus is related to a kidney disorder. It shows that your kidneys are having difficulty clearing phosphorus from your blood. A high level of phosphorus can also mean uncontrolled diabetes and other endocrine disorders."
   ]
  },
  {
   "cell_type": "code",
   "execution_count": null,
   "metadata": {},
   "outputs": [],
   "source": [
    "df['Percentage of Adult patients with serum phosphorus between 3.5-4.5 mg/dL'].head()"
   ]
  },
  {
   "cell_type": "code",
   "execution_count": null,
   "metadata": {},
   "outputs": [],
   "source": [
    "df['Percentage of Adult patients with serum phosphorus between 3.5-4.5 mg/dL'].tail()"
   ]
  },
  {
   "cell_type": "code",
   "execution_count": null,
   "metadata": {},
   "outputs": [],
   "source": [
    "df['Percentage of Adult patients with serum phosphorus between 3.5-4.5 mg/dL'].describe()"
   ]
  },
  {
   "cell_type": "code",
   "execution_count": null,
   "metadata": {},
   "outputs": [],
   "source": [
    "# Percent unique values\n",
    "# True if facility has a value count of 1 (aka unique)\n",
    "pd.Series([facility == 1 for facility in df['Percentage of Adult patients with serum phosphorus between 3.5-4.5 mg/dL'].value_counts()]).value_counts()"
   ]
  },
  {
   "cell_type": "code",
   "execution_count": null,
   "metadata": {},
   "outputs": [],
   "source": [
    "df['Percentage of Adult patients with serum phosphorus between 3.5-4.5 mg/dL'].min()"
   ]
  },
  {
   "cell_type": "code",
   "execution_count": null,
   "metadata": {},
   "outputs": [],
   "source": [
    "df['Percentage of Adult patients with serum phosphorus between 3.5-4.5 mg/dL'].max()"
   ]
  },
  {
   "cell_type": "code",
   "execution_count": null,
   "metadata": {},
   "outputs": [],
   "source": [
    "set([(len(str(num))) for num in df['Percentage of Adult patients with serum phosphorus between 3.5-4.5 mg/dL']])"
   ]
  },
  {
   "cell_type": "markdown",
   "metadata": {},
   "source": [
    "### Percentage of Adult patients with serum phosphorus between 4.6-5.5 mg/dL\n",
    "Data type: object\n",
    "\n",
    "Value count: 7626\n",
    "\n",
    "Number of unique values: 45\n",
    "\n",
    "Percent unique values: 0.0656%\n",
    "\n",
    "Ranges of values: 12 - \n",
    "\n",
    "Length of values: 1 - 2, 13\n",
    "\n",
    "Description: Lists the percentage of Adult patients with serum phosphorus between 4.6-5.5 mg/dL.\n",
    "Serum phosphorus is measured in milligrams of phosphorus per deciliter of blood (mg/dL). According to Mayo Medical Laboratories, a normal range for adults is generally 2.5 to 4.5 mg/dL. The normal range varies slightly depending on your age.\n",
    "Most commonly, a high level of phosphorus is related to a kidney disorder. It shows that your kidneys are having difficulty clearing phosphorus from your blood. A high level of phosphorus can also mean uncontrolled diabetes and other endocrine disorders."
   ]
  },
  {
   "cell_type": "code",
   "execution_count": null,
   "metadata": {},
   "outputs": [],
   "source": [
    "df['Percentage of Adult patients with serum phosphorus between 4.6-5.5 mg/dL'].head()"
   ]
  },
  {
   "cell_type": "code",
   "execution_count": null,
   "metadata": {},
   "outputs": [],
   "source": [
    "df['Percentage of Adult patients with serum phosphorus between 4.6-5.5 mg/dL'].tail()"
   ]
  },
  {
   "cell_type": "code",
   "execution_count": null,
   "metadata": {},
   "outputs": [],
   "source": [
    "df['Percentage of Adult patients with serum phosphorus between 4.6-5.5 mg/dL'].describe()"
   ]
  },
  {
   "cell_type": "code",
   "execution_count": null,
   "metadata": {},
   "outputs": [],
   "source": [
    "# Percent unique values\n",
    "# True if facility has a value count of 1 (aka unique)\n",
    "pd.Series([facility == 1 for facility in df['Percentage of Adult patients with serum phosphorus between 4.6-5.5 mg/dL'].value_counts()]).value_counts()"
   ]
  },
  {
   "cell_type": "code",
   "execution_count": null,
   "metadata": {},
   "outputs": [],
   "source": [
    "df['Percentage of Adult patients with serum phosphorus between 4.6-5.5 mg/dL'].min()"
   ]
  },
  {
   "cell_type": "code",
   "execution_count": null,
   "metadata": {},
   "outputs": [],
   "source": [
    "df['Percentage of Adult patients with serum phosphorus between 4.6-5.5 mg/dL'].max()"
   ]
  },
  {
   "cell_type": "code",
   "execution_count": null,
   "metadata": {},
   "outputs": [],
   "source": [
    "set([(len(str(num))) for num in df['Percentage of Adult patients with serum phosphorus between 4.6-5.5 mg/dL']])"
   ]
  },
  {
   "cell_type": "markdown",
   "metadata": {},
   "source": [
    "### Percentage of Adult patients with serum phosphorus between 5.6-7.0 mg/dL\n",
    "Data type: object\n",
    "\n",
    "Value count: 7626\n",
    "\n",
    "Number of unique values: 45\n",
    "\n",
    "Percent unique values: 0.0525%\n",
    "\n",
    "Ranges of values: 10 - \n",
    "\n",
    "Length of values: 1 - 2, 13\n",
    "\n",
    "Description: Lists the percentage of Adult patients with serum phosphorus between 5.6-7.0 mg/dL.\n",
    "Serum phosphorus is measured in milligrams of phosphorus per deciliter of blood (mg/dL). According to Mayo Medical Laboratories, a normal range for adults is generally 2.5 to 4.5 mg/dL. The normal range varies slightly depending on your age.\n",
    "Most commonly, a high level of phosphorus is related to a kidney disorder. It shows that your kidneys are having difficulty clearing phosphorus from your blood. A high level of phosphorus can also mean uncontrolled diabetes and other endocrine disorders."
   ]
  },
  {
   "cell_type": "code",
   "execution_count": null,
   "metadata": {},
   "outputs": [],
   "source": [
    "df['Percentage of Adult patients with serum phosphorus between 5.6-7.0 mg/dL'].head()"
   ]
  },
  {
   "cell_type": "code",
   "execution_count": null,
   "metadata": {},
   "outputs": [],
   "source": [
    "df['Percentage of Adult patients with serum phosphorus between 5.6-7.0 mg/dL'].tail()"
   ]
  },
  {
   "cell_type": "code",
   "execution_count": null,
   "metadata": {},
   "outputs": [],
   "source": [
    "df['Percentage of Adult patients with serum phosphorus between 5.6-7.0 mg/dL'].describe()"
   ]
  },
  {
   "cell_type": "code",
   "execution_count": null,
   "metadata": {},
   "outputs": [],
   "source": [
    "# Percent unique values\n",
    "# True if facility has a value count of 1 (aka unique)\n",
    "pd.Series([facility == 1 for facility in df['Percentage of Adult patients with serum phosphorus between 5.6-7.0 mg/dL'].value_counts()]).value_counts()"
   ]
  },
  {
   "cell_type": "code",
   "execution_count": null,
   "metadata": {},
   "outputs": [],
   "source": [
    "df['Percentage of Adult patients with serum phosphorus between 5.6-7.0 mg/dL'].min()"
   ]
  },
  {
   "cell_type": "code",
   "execution_count": null,
   "metadata": {},
   "outputs": [],
   "source": [
    "df['Percentage of Adult patients with serum phosphorus between 5.6-7.0 mg/dL'].max()"
   ]
  },
  {
   "cell_type": "code",
   "execution_count": null,
   "metadata": {},
   "outputs": [],
   "source": [
    "set([(len(str(num))) for num in df['Percentage of Adult patients with serum phosphorus between 5.6-7.0 mg/dL']])"
   ]
  },
  {
   "cell_type": "markdown",
   "metadata": {},
   "source": [
    "### Percentage of Adult patients with serum phosphorus greater than 7.0 mg/dL\n",
    "Data type: object\n",
    "\n",
    "Value count: 7626\n",
    "\n",
    "Number of unique values: 41\n",
    "\n",
    "Percent unique values: 0.0131%\n",
    "\n",
    "Ranges of values: 0 - \n",
    "\n",
    "Length of values: 1 - 2, 13\n",
    "\n",
    "Description: Lists the percentage of Adult patients with serum phosphorus greater than 7.0 mg/dL.\n",
    "Serum phosphorus is measured in milligrams of phosphorus per deciliter of blood (mg/dL). According to Mayo Medical Laboratories, a normal range for adults is generally 2.5 to 4.5 mg/dL. The normal range varies slightly depending on your age.\n",
    "Most commonly, a high level of phosphorus is related to a kidney disorder. It shows that your kidneys are having difficulty clearing phosphorus from your blood. A high level of phosphorus can also mean uncontrolled diabetes and other endocrine disorders."
   ]
  },
  {
   "cell_type": "code",
   "execution_count": null,
   "metadata": {},
   "outputs": [],
   "source": [
    "df['Percentage of Adult patients with serum phosphorus greater than 7.0 mg/dL'].head()"
   ]
  },
  {
   "cell_type": "code",
   "execution_count": null,
   "metadata": {},
   "outputs": [],
   "source": [
    "df['Percentage of Adult patients with serum phosphorus greater than 7.0 mg/dL'].tail()"
   ]
  },
  {
   "cell_type": "code",
   "execution_count": null,
   "metadata": {},
   "outputs": [],
   "source": [
    "df['Percentage of Adult patients with serum phosphorus greater than 7.0 mg/dL'].describe()"
   ]
  },
  {
   "cell_type": "code",
   "execution_count": null,
   "metadata": {},
   "outputs": [],
   "source": [
    "# Percent unique values\n",
    "# True if facility has a value count of 1 (aka unique)\n",
    "pd.Series([facility == 1 for facility in df['Percentage of Adult patients with serum phosphorus greater than 7.0 mg/dL'].value_counts()]).value_counts()"
   ]
  },
  {
   "cell_type": "code",
   "execution_count": null,
   "metadata": {},
   "outputs": [],
   "source": [
    "df['Percentage of Adult patients with serum phosphorus greater than 7.0 mg/dL'].min()"
   ]
  },
  {
   "cell_type": "code",
   "execution_count": null,
   "metadata": {},
   "outputs": [],
   "source": [
    "df['Percentage of Adult patients with serum phosphorus greater than 7.0 mg/dL'].max()"
   ]
  },
  {
   "cell_type": "code",
   "execution_count": null,
   "metadata": {},
   "outputs": [],
   "source": [
    "set([(len(str(num))) for num in df['Percentage of Adult patients with serum phosphorus greater than 7.0 mg/dL']])"
   ]
  },
  {
   "cell_type": "markdown",
   "metadata": {},
   "source": [
    "### SHR Date\n",
    "Data type: object\n",
    "\n",
    "Value count: 7626\n",
    "\n",
    "Number of unique values: 1\n",
    "\n",
    "Percent unique values: 0%\n",
    "\n",
    "Ranges of values: \"01/01/2018 - 12/31/2018\"\n",
    "\n",
    "Length of values: 23\n",
    "\n",
    "Description: Lists the time period for patient hospitalization summary."
   ]
  },
  {
   "cell_type": "code",
   "execution_count": null,
   "metadata": {},
   "outputs": [],
   "source": [
    "df['SHR Date'].head()"
   ]
  },
  {
   "cell_type": "code",
   "execution_count": null,
   "metadata": {},
   "outputs": [],
   "source": [
    "df['SHR Date'].tail()"
   ]
  },
  {
   "cell_type": "code",
   "execution_count": null,
   "metadata": {},
   "outputs": [],
   "source": [
    "df['SHR Date'].value_counts()"
   ]
  },
  {
   "cell_type": "code",
   "execution_count": null,
   "metadata": {},
   "outputs": [],
   "source": [
    "set([(len(str(num))) for num in df['SHR Date']])"
   ]
  },
  {
   "cell_type": "markdown",
   "metadata": {},
   "source": [
    "### SRR Date\n",
    "Data type: object\n",
    "\n",
    "Value count: 7626\n",
    "\n",
    "Number of unique values: 1\n",
    "\n",
    "Percent unique values: 0%\n",
    "\n",
    "Ranges of values: \"01/01/2018 - 12/31/2018\"\n",
    "\n",
    "Length of values: 23\n",
    "\n",
    "Description: Lists the time period for patient readmission summary."
   ]
  },
  {
   "cell_type": "code",
   "execution_count": null,
   "metadata": {},
   "outputs": [],
   "source": [
    "df['SRR Date'].head()"
   ]
  },
  {
   "cell_type": "code",
   "execution_count": null,
   "metadata": {},
   "outputs": [],
   "source": [
    "df['SRR Date'].tail()"
   ]
  },
  {
   "cell_type": "code",
   "execution_count": null,
   "metadata": {},
   "outputs": [],
   "source": [
    "df['SRR Date'].value_counts()"
   ]
  },
  {
   "cell_type": "code",
   "execution_count": null,
   "metadata": {},
   "outputs": [],
   "source": [
    "set([(len(str(num))) for num in df['SRR Date']])"
   ]
  },
  {
   "cell_type": "markdown",
   "metadata": {},
   "source": [
    "### SMR Date\n",
    "Data type: object\n",
    "\n",
    "Value count: 7626\n",
    "\n",
    "Number of unique values: 1\n",
    "\n",
    "Percent unique values: 0%\n",
    "\n",
    "Ranges of values: \"01/01/2015 - 12/31/2018\"\n",
    "\n",
    "Length of values: 23\n",
    "\n",
    "Description: Lists the data collection period for patient survival summary."
   ]
  },
  {
   "cell_type": "code",
   "execution_count": null,
   "metadata": {},
   "outputs": [],
   "source": [
    "df['SMR Date'].head()"
   ]
  },
  {
   "cell_type": "code",
   "execution_count": null,
   "metadata": {},
   "outputs": [],
   "source": [
    "df['SMR Date'].tail()"
   ]
  },
  {
   "cell_type": "code",
   "execution_count": null,
   "metadata": {},
   "outputs": [],
   "source": [
    "df['SMR Date'].value_counts()"
   ]
  },
  {
   "cell_type": "code",
   "execution_count": null,
   "metadata": {},
   "outputs": [],
   "source": [
    "set([(len(str(num))) for num in df['SRR Date']])"
   ]
  },
  {
   "cell_type": "markdown",
   "metadata": {},
   "source": [
    "### Patient Hospitalization category text\n",
    "Data type: object\n",
    "\n",
    "Value count: 7626\n",
    "\n",
    "Number of unique values: 4\n",
    "\n",
    "Percent unique values: 0%\n",
    "\n",
    "Ranges of values: As Expected, Not Available, Worse than Expected, Better than Expected\n",
    "\n",
    "Length of values: 11, 13, 19, 20\n",
    "\n",
    "Description: Patient hospitalization category."
   ]
  },
  {
   "cell_type": "code",
   "execution_count": null,
   "metadata": {},
   "outputs": [],
   "source": [
    "df['Patient Hospitalization category text'].head()"
   ]
  },
  {
   "cell_type": "code",
   "execution_count": null,
   "metadata": {},
   "outputs": [],
   "source": [
    "df['Patient Hospitalization category text'].tail()"
   ]
  },
  {
   "cell_type": "code",
   "execution_count": null,
   "metadata": {},
   "outputs": [],
   "source": [
    "df['Patient Hospitalization category text'].count()"
   ]
  },
  {
   "cell_type": "code",
   "execution_count": null,
   "metadata": {},
   "outputs": [],
   "source": [
    "df['Patient Hospitalization category text'].value_counts()"
   ]
  },
  {
   "cell_type": "code",
   "execution_count": null,
   "metadata": {},
   "outputs": [],
   "source": [
    "set([(len(str(num))) for num in df['Patient Hospitalization category text']])"
   ]
  },
  {
   "cell_type": "markdown",
   "metadata": {},
   "source": [
    "### Patient Hospitalization data availability Code\n",
    "Data type: int64\n",
    "\n",
    "Value count: 7626\n",
    "\n",
    "Number of unique values: 5\n",
    "\n",
    "Percent unique values: 0% \n",
    "\n",
    "Ranges of values: 1, 199, 201, 255, 258\n",
    "\n",
    "Length of values: 1, 3\n",
    "\n",
    "Description: Lists whether the facility had sufficient hospitalization data available or the reason for why the data is not available.\n",
    "\n",
    "Value description:\n",
    "- 1   : N/A\n",
    "- 199 : Not enough patients to report on this measure. Call the dialysis center to discuss this measure.\n",
    "- 201 : Data not reported. Call the dialysis center to discuss this quality measure.\n",
    "- 255 : Medicare determined that the percentage reported was not accurate.\n",
    "- 258 : The dialysis center was not open long enough to supply sufficient measure data. "
   ]
  },
  {
   "cell_type": "code",
   "execution_count": null,
   "metadata": {},
   "outputs": [],
   "source": [
    "df['Patient Hospitalization data availability Code'].head()"
   ]
  },
  {
   "cell_type": "code",
   "execution_count": null,
   "metadata": {},
   "outputs": [],
   "source": [
    "df['Patient Hospitalization data availability Code'].tail()"
   ]
  },
  {
   "cell_type": "code",
   "execution_count": null,
   "metadata": {},
   "outputs": [],
   "source": [
    "df['Patient Hospitalization data availability Code'].count()"
   ]
  },
  {
   "cell_type": "code",
   "execution_count": null,
   "metadata": {},
   "outputs": [],
   "source": [
    "df['Patient Hospitalization data availability Code'].value_counts()"
   ]
  },
  {
   "cell_type": "markdown",
   "metadata": {},
   "source": [
    "### Patient Hospital Readmission Category\n",
    "Data type: object\n",
    "\n",
    "Value count: 7626\n",
    "\n",
    "Number of unique values: 4\n",
    "\n",
    "Percent unique values: 0%\n",
    "\n",
    "Ranges of values: As Expected, Not Available, Worse than Expected, Better than Expected\n",
    "\n",
    "Length of values: 11, 13, 19, 20\n",
    "\n",
    "Description: Patient readmission category.\n",
    "\n",
    "Value description:\n",
    "- As Expected          : Patient hospital readmission categorized as “As Expected”       \n",
    "- Worse than Expected  :  Patient hospital readmission categorized as “Worse than Expected”\n",
    "- Better than Expected : Patient hospital readmission categorized as “Better than Expected\"\n",
    "- Not Available "
   ]
  },
  {
   "cell_type": "code",
   "execution_count": null,
   "metadata": {},
   "outputs": [],
   "source": [
    "df['Patient Hospital Readmission Category'].head()"
   ]
  },
  {
   "cell_type": "code",
   "execution_count": null,
   "metadata": {},
   "outputs": [],
   "source": [
    "df['Patient Hospital Readmission Category'].tail()"
   ]
  },
  {
   "cell_type": "code",
   "execution_count": null,
   "metadata": {},
   "outputs": [],
   "source": [
    "df['Patient Hospital Readmission Category'].count()"
   ]
  },
  {
   "cell_type": "code",
   "execution_count": null,
   "metadata": {},
   "outputs": [],
   "source": [
    "df['Patient Hospital Readmission Category'].value_counts()"
   ]
  },
  {
   "cell_type": "code",
   "execution_count": null,
   "metadata": {},
   "outputs": [],
   "source": [
    "set([(len(str(num))) for num in df['Patient Hospital Readmission Category']])"
   ]
  },
  {
   "cell_type": "markdown",
   "metadata": {},
   "source": [
    "### Patient Hospital Readmission data availability Code\n",
    "Data type: int64\n",
    "\n",
    "Value count: 7626\n",
    "\n",
    "Number of unique values: 4\n",
    "\n",
    "Percent unique values: 0%\n",
    "\n",
    "Ranges of values: 1, 199, 255, 258\n",
    "\n",
    "Length of values: 1, 3\n",
    "\n",
    "Description: Lists whether the facility had sufficient readmission data available or the reason for why the data is not available.\n",
    "\n",
    "Value description:\n",
    "- 1   : N/A\n",
    "- 199 : Not enough patients to report on this measure. Call the dialysis center to discuss this measure.\n",
    "- 255 : Medicare determined that the percentage reported was not accurate.\n",
    "- 258 : The dialysis center was not open long enough to supply sufficient measure data. "
   ]
  },
  {
   "cell_type": "code",
   "execution_count": null,
   "metadata": {},
   "outputs": [],
   "source": [
    "df['Patient Hospital Readmission data availability Code'].head()"
   ]
  },
  {
   "cell_type": "code",
   "execution_count": null,
   "metadata": {},
   "outputs": [],
   "source": [
    "df['Patient Hospital Readmission data availability Code'].tail()"
   ]
  },
  {
   "cell_type": "code",
   "execution_count": null,
   "metadata": {},
   "outputs": [],
   "source": [
    "df['Patient Hospital Readmission data availability Code'].count()"
   ]
  },
  {
   "cell_type": "code",
   "execution_count": null,
   "metadata": {},
   "outputs": [],
   "source": [
    "df['Patient Hospital Readmission data availability Code'].value_counts()"
   ]
  },
  {
   "cell_type": "markdown",
   "metadata": {},
   "source": [
    "### Patient Survival Category Text\n",
    "Data type: int64\n",
    "\n",
    "Value count: 7626\n",
    "\n",
    "Number of unique values: 4\n",
    "\n",
    "Percent unique values: 0%\n",
    "\n",
    "Ranges of values: As Expected, Worse than Expected, Better than Expected, Not Available\n",
    "\n",
    "Length of values: 11, 13, 19, 20\n",
    "\n",
    "Description: Patient survival category (Better, Worse or As Expected).\n",
    "\n",
    "Value description:\n",
    "- As Expected          : Patient transfusions categorized as “As Expected”       \n",
    "- Worse than Expected  :  Patient transfusions categorized as “Worse than Expected”\n",
    "- Better than Expected : Patient transfusions categorized as “Better than Expected\"\n",
    "- Not Available "
   ]
  },
  {
   "cell_type": "code",
   "execution_count": null,
   "metadata": {},
   "outputs": [],
   "source": [
    "df['Patient Survival Category Text'].head()"
   ]
  },
  {
   "cell_type": "code",
   "execution_count": null,
   "metadata": {},
   "outputs": [],
   "source": [
    "df['Patient Survival Category Text'].tail()"
   ]
  },
  {
   "cell_type": "code",
   "execution_count": null,
   "metadata": {},
   "outputs": [],
   "source": [
    "df['Patient Survival Category Text'].count()"
   ]
  },
  {
   "cell_type": "code",
   "execution_count": null,
   "metadata": {},
   "outputs": [],
   "source": [
    "df['Patient Survival Category Text'].value_counts()"
   ]
  },
  {
   "cell_type": "code",
   "execution_count": null,
   "metadata": {},
   "outputs": [],
   "source": [
    "set([(len(str(num))) for num in df['Patient Hospital Readmission Category']])"
   ]
  },
  {
   "cell_type": "markdown",
   "metadata": {},
   "source": [
    "### Patient Survival data availability code\n",
    "Data type: int64\n",
    "\n",
    "Value count: 7626\n",
    "\n",
    "Number of unique values: 5\n",
    "\n",
    "Percent unique values: 0%\n",
    "\n",
    "Ranges of values: 1, 199, 201, 255, 258\n",
    "\n",
    "Length of values: 1, 3 \n",
    "\n",
    "Description: Lists whether the facility had sufficient patient survival data available or the reason for why the data is not available.\n",
    "\n",
    "Value description:\n",
    "- 1   : N/A\n",
    "- 199 : Not enough patients to report on this measure. Call the dialysis center to discuss this measure.\n",
    "- 201 : Data not reported. Call the dialysis center to discuss this quality measure.\n",
    "- 255 : Medicare determined that the percentage reported was not accurate.\n",
    "- 258 : The dialysis center was not open long enough to supply sufficient measure data. "
   ]
  },
  {
   "cell_type": "code",
   "execution_count": null,
   "metadata": {},
   "outputs": [],
   "source": [
    "df['Patient Survival data availability code'].head()"
   ]
  },
  {
   "cell_type": "code",
   "execution_count": null,
   "metadata": {},
   "outputs": [],
   "source": [
    "df['Patient Survival data availability code'].tail()"
   ]
  },
  {
   "cell_type": "code",
   "execution_count": null,
   "metadata": {},
   "outputs": [],
   "source": [
    "df['Patient Survival data availability code'].count()"
   ]
  },
  {
   "cell_type": "code",
   "execution_count": null,
   "metadata": {},
   "outputs": [],
   "source": [
    "df['Patient Survival data availability code'].value_counts()"
   ]
  },
  {
   "cell_type": "markdown",
   "metadata": {},
   "source": [
    "### Number of patients included in hospitalization summary\n",
    "Data type: object\n",
    "\n",
    "Value count: 7626\n",
    "\n",
    "Number of unique values: 250\n",
    "\n",
    "Percent unique values: 0.485%\n",
    "\n",
    "Ranges of values: 0 - \n",
    "\n",
    "Length of values: 1 - 3, 13\n",
    "\n",
    "Description: Lists the number of patients included in the facility’s hospitalization summary."
   ]
  },
  {
   "cell_type": "code",
   "execution_count": null,
   "metadata": {},
   "outputs": [],
   "source": [
    "df['Number of patients included in hospitalization summary'].head()"
   ]
  },
  {
   "cell_type": "code",
   "execution_count": null,
   "metadata": {},
   "outputs": [],
   "source": [
    "df['Number of patients included in hospitalization summary'].tail()"
   ]
  },
  {
   "cell_type": "code",
   "execution_count": null,
   "metadata": {},
   "outputs": [],
   "source": [
    "df['Number of patients included in hospitalization summary'].describe()"
   ]
  },
  {
   "cell_type": "code",
   "execution_count": null,
   "metadata": {},
   "outputs": [],
   "source": [
    "# Percent unique values\n",
    "# True if facility has a value count of 1 (aka unique)\n",
    "pd.Series([facility == 1 for facility in df['Number of patients included in hospitalization summary'].value_counts()]).value_counts()"
   ]
  },
  {
   "cell_type": "code",
   "execution_count": null,
   "metadata": {},
   "outputs": [],
   "source": [
    "df['Number of patients included in hospitalization summary'].min()"
   ]
  },
  {
   "cell_type": "code",
   "execution_count": null,
   "metadata": {},
   "outputs": [],
   "source": [
    "df['Number of patients included in hospitalization summary'].max()"
   ]
  },
  {
   "cell_type": "code",
   "execution_count": null,
   "metadata": {},
   "outputs": [],
   "source": [
    "set([(len(str(num))) for num in df['Number of patients included in hospitalization summary']])"
   ]
  },
  {
   "cell_type": "markdown",
   "metadata": {},
   "source": [
    "### Number of hospitalizations included in hospital readmission summary\n",
    "Data type: object\n",
    "\n",
    "Value count: 7626\n",
    "\n",
    "Number of unique values: 296\n",
    "\n",
    "Percent unique values: 0.564%\n",
    "\n",
    "Ranges of values: 0 - \n",
    "\n",
    "Length of values: 1 - 3, 13\n",
    "\n",
    "Description: Lists the number of index discharges included in the facility’s readmission summary."
   ]
  },
  {
   "cell_type": "code",
   "execution_count": null,
   "metadata": {},
   "outputs": [],
   "source": [
    "df['Number of hospitalizations included in hospital readmission summary'].head()"
   ]
  },
  {
   "cell_type": "code",
   "execution_count": null,
   "metadata": {},
   "outputs": [],
   "source": [
    "df['Number of hospitalizations included in hospital readmission summary'].tail()"
   ]
  },
  {
   "cell_type": "code",
   "execution_count": null,
   "metadata": {},
   "outputs": [],
   "source": [
    "df['Number of hospitalizations included in hospital readmission summary'].describe()"
   ]
  },
  {
   "cell_type": "code",
   "execution_count": null,
   "metadata": {},
   "outputs": [],
   "source": [
    "# Percent unique values\n",
    "# True if facility has a value count of 1 (aka unique)\n",
    "pd.Series([facility == 1 for facility in df['Number of hospitalizations included in hospital readmission summary'].value_counts()]).value_counts()"
   ]
  },
  {
   "cell_type": "code",
   "execution_count": null,
   "metadata": {},
   "outputs": [],
   "source": [
    "df['Number of hospitalizations included in hospital readmission summary'].min()"
   ]
  },
  {
   "cell_type": "code",
   "execution_count": null,
   "metadata": {},
   "outputs": [],
   "source": [
    "df['Number of hospitalizations included in hospital readmission summary'].max()"
   ]
  },
  {
   "cell_type": "code",
   "execution_count": null,
   "metadata": {},
   "outputs": [],
   "source": [
    "set([(len(str(num))) for num in df['Number of hospitalizations included in hospital readmission summary']])"
   ]
  },
  {
   "cell_type": "markdown",
   "metadata": {},
   "source": [
    "### Number of patients included in survival summary\n",
    "Data type: object\n",
    "\n",
    "Value count: 7626\n",
    "\n",
    "Number of unique values: 808\n",
    "\n",
    "Percent unique values: 1.95%\n",
    "\n",
    "Ranges of values: 0 - \n",
    "\n",
    "Length of values: 1 - 4, 13\n",
    "\n",
    "Description: Lists the number of patients included in the facility’s survival summary."
   ]
  },
  {
   "cell_type": "code",
   "execution_count": null,
   "metadata": {},
   "outputs": [],
   "source": [
    "df['Number of patients included in survival summary'].head()"
   ]
  },
  {
   "cell_type": "code",
   "execution_count": null,
   "metadata": {},
   "outputs": [],
   "source": [
    "df['Number of patients included in survival summary'].tail()"
   ]
  },
  {
   "cell_type": "code",
   "execution_count": null,
   "metadata": {},
   "outputs": [],
   "source": [
    "df['Number of patients included in survival summary'].describe()"
   ]
  },
  {
   "cell_type": "code",
   "execution_count": null,
   "metadata": {},
   "outputs": [],
   "source": [
    "# Percent unique values\n",
    "# True if facility has a value count of 1 (aka unique)\n",
    "pd.Series([facility == 1 for facility in df['Number of patients included in survival summary'].value_counts()]).value_counts()"
   ]
  },
  {
   "cell_type": "code",
   "execution_count": null,
   "metadata": {},
   "outputs": [],
   "source": [
    "df['Number of patients included in survival summary'].min()"
   ]
  },
  {
   "cell_type": "code",
   "execution_count": null,
   "metadata": {},
   "outputs": [],
   "source": [
    "df['Number of patients included in survival summary'].max()"
   ]
  },
  {
   "cell_type": "code",
   "execution_count": null,
   "metadata": {},
   "outputs": [],
   "source": [
    "set([(len(str(num))) for num in df['Number of patients included in survival summary']])"
   ]
  },
  {
   "cell_type": "markdown",
   "metadata": {},
   "source": [
    "### Mortality Rate (Facility)\n",
    "Data type: object\n",
    "\n",
    "Value count: 7626\n",
    "\n",
    "Number of unique values: 391\n",
    "\n",
    "Percent unique values: 1.01%\n",
    "\n",
    "Ranges of values: 0 - \n",
    "\n",
    "Length of values: 1 - 4, 13\n",
    "\n",
    "Description: Lists the facility’s mortality rate per 100 patient-years."
   ]
  },
  {
   "cell_type": "code",
   "execution_count": null,
   "metadata": {},
   "outputs": [],
   "source": [
    "df['Mortality Rate (Facility)'].head()"
   ]
  },
  {
   "cell_type": "code",
   "execution_count": null,
   "metadata": {},
   "outputs": [],
   "source": [
    "df['Mortality Rate (Facility)'].tail()"
   ]
  },
  {
   "cell_type": "code",
   "execution_count": null,
   "metadata": {},
   "outputs": [],
   "source": [
    "df['Mortality Rate (Facility)'].describe()"
   ]
  },
  {
   "cell_type": "code",
   "execution_count": null,
   "metadata": {},
   "outputs": [],
   "source": [
    "# Percent unique values\n",
    "# True if facility has a value count of 1 (aka unique)\n",
    "pd.Series([facility == 1 for facility in df['Mortality Rate (Facility)'].value_counts()]).value_counts()"
   ]
  },
  {
   "cell_type": "code",
   "execution_count": null,
   "metadata": {},
   "outputs": [],
   "source": [
    "df['Mortality Rate (Facility)'].min()"
   ]
  },
  {
   "cell_type": "code",
   "execution_count": null,
   "metadata": {},
   "outputs": [],
   "source": [
    "df['Mortality Rate (Facility)'].max()"
   ]
  },
  {
   "cell_type": "code",
   "execution_count": null,
   "metadata": {},
   "outputs": [],
   "source": [
    "set([(len(str(num))) for num in df['Mortality Rate (Facility)']])"
   ]
  },
  {
   "cell_type": "markdown",
   "metadata": {},
   "source": [
    "### Mortality Rate: Upper Confidence Limit (97.5%)\n",
    "Data type: object\n",
    "\n",
    "Value count: 7626\n",
    "\n",
    "Number of unique values: 546\n",
    "\n",
    "Percent unique values: 1.51%\n",
    "\n",
    "Ranges of values: 10.3 -\n",
    "\n",
    "Length of values: 2 - 5, 13\n",
    "\n",
    "Description: Lists the upper confident limit (97.5%) for mortality rate per 100 patient-years."
   ]
  },
  {
   "cell_type": "code",
   "execution_count": null,
   "metadata": {},
   "outputs": [],
   "source": [
    "df['Mortality Rate: Upper Confidence Limit (97.5%)'].head()"
   ]
  },
  {
   "cell_type": "code",
   "execution_count": null,
   "metadata": {},
   "outputs": [],
   "source": [
    "df['Mortality Rate: Upper Confidence Limit (97.5%)'].tail()"
   ]
  },
  {
   "cell_type": "code",
   "execution_count": null,
   "metadata": {},
   "outputs": [],
   "source": [
    "df['Mortality Rate: Upper Confidence Limit (97.5%)'].describe()"
   ]
  },
  {
   "cell_type": "code",
   "execution_count": null,
   "metadata": {},
   "outputs": [],
   "source": [
    "# Percent unique values\n",
    "# True if facility has a value count of 1 (aka unique)\n",
    "pd.Series([facility == 1 for facility in df['Mortality Rate: Upper Confidence Limit (97.5%)'].value_counts()]).value_counts()"
   ]
  },
  {
   "cell_type": "code",
   "execution_count": null,
   "metadata": {},
   "outputs": [],
   "source": [
    "df['Mortality Rate: Upper Confidence Limit (97.5%)'].min()"
   ]
  },
  {
   "cell_type": "code",
   "execution_count": null,
   "metadata": {},
   "outputs": [],
   "source": [
    "df['Mortality Rate: Upper Confidence Limit (97.5%)'].max()"
   ]
  },
  {
   "cell_type": "code",
   "execution_count": null,
   "metadata": {},
   "outputs": [],
   "source": [
    "set([(len(str(num))) for num in df['Mortality Rate: Upper Confidence Limit (97.5%)']])"
   ]
  },
  {
   "cell_type": "markdown",
   "metadata": {},
   "source": [
    "### Mortality Rate: Lower Confidence Limit (2.5%)\n",
    "Data type: object\n",
    "\n",
    "Value count: 7626\n",
    "\n",
    "Number of unique values: 324\n",
    "\n",
    "Percent unique values: 0.564%\n",
    "\n",
    "Ranges of values: 0.1 - \n",
    "\n",
    "Length of values: 1 - 4, 13\n",
    "\n",
    "Description: Lists the lower confident limit (2.5%) for mortality rate per 100 patient-years."
   ]
  },
  {
   "cell_type": "code",
   "execution_count": null,
   "metadata": {},
   "outputs": [],
   "source": [
    "df['Mortality Rate: Lower Confidence Limit (2.5%)'].head()"
   ]
  },
  {
   "cell_type": "code",
   "execution_count": null,
   "metadata": {},
   "outputs": [],
   "source": [
    "df['Mortality Rate: Lower Confidence Limit (2.5%)'].tail()"
   ]
  },
  {
   "cell_type": "code",
   "execution_count": null,
   "metadata": {},
   "outputs": [],
   "source": [
    "df['Mortality Rate: Lower Confidence Limit (2.5%)'].describe()"
   ]
  },
  {
   "cell_type": "code",
   "execution_count": null,
   "metadata": {},
   "outputs": [],
   "source": [
    "# Percent unique values\n",
    "# True if facility has a value count of 1 (aka unique)\n",
    "pd.Series([facility == 1 for facility in df['Mortality Rate: Lower Confidence Limit (2.5%)'].value_counts()]).value_counts()"
   ]
  },
  {
   "cell_type": "code",
   "execution_count": null,
   "metadata": {},
   "outputs": [],
   "source": [
    "df['Mortality Rate: Lower Confidence Limit (2.5%)'].min()"
   ]
  },
  {
   "cell_type": "code",
   "execution_count": null,
   "metadata": {},
   "outputs": [],
   "source": [
    "df['Mortality Rate: Lower Confidence Limit (2.5%)'].max()"
   ]
  },
  {
   "cell_type": "code",
   "execution_count": null,
   "metadata": {},
   "outputs": [],
   "source": [
    "set([(len(str(num))) for num in df['Mortality Rate: Lower Confidence Limit (2.5%)']])"
   ]
  },
  {
   "cell_type": "markdown",
   "metadata": {},
   "source": [
    "### Readmission Rate (Facility)\n",
    "Data type: object\n",
    "\n",
    "Value count: 7626\n",
    "\n",
    "Number of unique values: 464\n",
    "\n",
    "Percent unique values: 0.944%\n",
    "\n",
    "Ranges of values: 0 - \n",
    "\n",
    "Length of values: 1 - 4, 13\n",
    "\n",
    "Description: Lists the facility’s readmission rate as a percentage of hospital discharges."
   ]
  },
  {
   "cell_type": "code",
   "execution_count": null,
   "metadata": {},
   "outputs": [],
   "source": [
    "df['Readmission Rate (Facility)'].head()"
   ]
  },
  {
   "cell_type": "code",
   "execution_count": null,
   "metadata": {},
   "outputs": [],
   "source": [
    "df['Readmission Rate (Facility)'].tail()"
   ]
  },
  {
   "cell_type": "code",
   "execution_count": null,
   "metadata": {},
   "outputs": [],
   "source": [
    "df['Readmission Rate (Facility)'].describe()"
   ]
  },
  {
   "cell_type": "code",
   "execution_count": null,
   "metadata": {},
   "outputs": [],
   "source": [
    "# Percent unique values\n",
    "# True if facility has a value count of 1 (aka unique)\n",
    "pd.Series([facility == 1 for facility in df['Readmission Rate (Facility)'].value_counts()]).value_counts()"
   ]
  },
  {
   "cell_type": "code",
   "execution_count": null,
   "metadata": {},
   "outputs": [],
   "source": [
    "df['Readmission Rate (Facility)'].min()"
   ]
  },
  {
   "cell_type": "code",
   "execution_count": null,
   "metadata": {},
   "outputs": [],
   "source": [
    "df['Readmission Rate (Facility)'].max()"
   ]
  },
  {
   "cell_type": "code",
   "execution_count": null,
   "metadata": {},
   "outputs": [],
   "source": [
    "set([(len(str(num))) for num in df['Readmission Rate (Facility)']])"
   ]
  },
  {
   "cell_type": "markdown",
   "metadata": {},
   "source": [
    "### Readmission Rate: Upper Confidence Limit (97.5%)\n",
    "Data type: object\n",
    "\n",
    "Value count: 7626\n",
    "\n",
    "Number of unique values: 544\n",
    "\n",
    "Percent unique values: 1.19%\n",
    "\n",
    "Ranges of values: 104.2\n",
    "\n",
    "Length of values: 2 - 5, 13\n",
    "\n",
    "Description: Lists the upper confident limit (97.5%) for readmission rate as a percentage of hospital discharges."
   ]
  },
  {
   "cell_type": "code",
   "execution_count": null,
   "metadata": {},
   "outputs": [],
   "source": [
    "df['Readmission Rate: Upper Confidence Limit (97.5%)'].head()"
   ]
  },
  {
   "cell_type": "code",
   "execution_count": null,
   "metadata": {},
   "outputs": [],
   "source": [
    "df['Readmission Rate: Upper Confidence Limit (97.5%)'].tail()"
   ]
  },
  {
   "cell_type": "code",
   "execution_count": null,
   "metadata": {},
   "outputs": [],
   "source": [
    "df['Readmission Rate: Upper Confidence Limit (97.5%)'].describe()"
   ]
  },
  {
   "cell_type": "code",
   "execution_count": null,
   "metadata": {},
   "outputs": [],
   "source": [
    "# Percent unique values\n",
    "# True if facility has a value count of 1 (aka unique)\n",
    "pd.Series([facility == 1 for facility in df['Readmission Rate: Upper Confidence Limit (97.5%)'].value_counts()]).value_counts()"
   ]
  },
  {
   "cell_type": "code",
   "execution_count": null,
   "metadata": {},
   "outputs": [],
   "source": [
    "df['Readmission Rate: Upper Confidence Limit (97.5%)'].min()"
   ]
  },
  {
   "cell_type": "code",
   "execution_count": null,
   "metadata": {},
   "outputs": [],
   "source": [
    "df['Readmission Rate: Upper Confidence Limit (97.5%)'].max()"
   ]
  },
  {
   "cell_type": "code",
   "execution_count": null,
   "metadata": {},
   "outputs": [],
   "source": [
    "set([(len(str(num))) for num in df['Readmission Rate: Upper Confidence Limit (97.5%)']])"
   ]
  },
  {
   "cell_type": "markdown",
   "metadata": {},
   "source": [
    "### Readmission Rate: Lower Confidence Limit (2.5%)\n",
    "Data type: object\n",
    "\n",
    "Value count: 7626\n",
    "\n",
    "Number of unique values: 339\n",
    "\n",
    "Percent unique values: 0.315%\n",
    "\n",
    "Ranges of values: 0.1 - \n",
    "\n",
    "Length of values: 1 - 4, 13\n",
    "\n",
    "Description: Lists the lower confident limit (2.5%) for readmission rate as a percentage of hospital discharges."
   ]
  },
  {
   "cell_type": "code",
   "execution_count": null,
   "metadata": {},
   "outputs": [],
   "source": [
    "df['Readmission Rate: Lower Confidence Limit (2.5%)'].head()"
   ]
  },
  {
   "cell_type": "code",
   "execution_count": null,
   "metadata": {},
   "outputs": [],
   "source": [
    "df['Readmission Rate: Lower Confidence Limit (2.5%)'].tail()"
   ]
  },
  {
   "cell_type": "code",
   "execution_count": null,
   "metadata": {},
   "outputs": [],
   "source": [
    "df['Readmission Rate: Lower Confidence Limit (2.5%)'].describe()"
   ]
  },
  {
   "cell_type": "code",
   "execution_count": null,
   "metadata": {},
   "outputs": [],
   "source": [
    "# Percent unique values\n",
    "# True if facility has a value count of 1 (aka unique)\n",
    "pd.Series([facility == 1 for facility in df['Readmission Rate: Lower Confidence Limit (2.5%)'].value_counts()]).value_counts()"
   ]
  },
  {
   "cell_type": "code",
   "execution_count": null,
   "metadata": {},
   "outputs": [],
   "source": [
    "df['Readmission Rate: Lower Confidence Limit (2.5%)'].min()"
   ]
  },
  {
   "cell_type": "code",
   "execution_count": null,
   "metadata": {},
   "outputs": [],
   "source": [
    "df['Readmission Rate: Lower Confidence Limit (2.5%)'].max()"
   ]
  },
  {
   "cell_type": "code",
   "execution_count": null,
   "metadata": {},
   "outputs": [],
   "source": [
    "set([(len(str(num))) for num in df['Readmission Rate: Lower Confidence Limit (2.5%)']])"
   ]
  },
  {
   "cell_type": "markdown",
   "metadata": {},
   "source": [
    "### Hospitalization Rate (Facility)\n",
    "Data type: object\n",
    "\n",
    "Value count: 7626\n",
    "\n",
    "Number of unique values: 2005\n",
    "\n",
    "Percent unique values: 7.50%\n",
    "\n",
    "Ranges of values: 0 - \n",
    "\n",
    "Length of values: 1 - 5, 13\n",
    "\n",
    "Description: Lists the facility’s hospitalization rate per 100 patient-years."
   ]
  },
  {
   "cell_type": "code",
   "execution_count": null,
   "metadata": {},
   "outputs": [],
   "source": [
    "df['Hospitalization Rate (Facility)'].head()"
   ]
  },
  {
   "cell_type": "code",
   "execution_count": null,
   "metadata": {},
   "outputs": [],
   "source": [
    "df['Hospitalization Rate (Facility)'].tail()"
   ]
  },
  {
   "cell_type": "code",
   "execution_count": null,
   "metadata": {},
   "outputs": [],
   "source": [
    "df['Hospitalization Rate (Facility)'].describe()"
   ]
  },
  {
   "cell_type": "code",
   "execution_count": null,
   "metadata": {},
   "outputs": [],
   "source": [
    "# Percent unique values\n",
    "# True if facility has a value count of 1 (aka unique)\n",
    "pd.Series([facility == 1 for facility in df['Hospitalization Rate (Facility)'].value_counts()]).value_counts()"
   ]
  },
  {
   "cell_type": "code",
   "execution_count": null,
   "metadata": {},
   "outputs": [],
   "source": [
    "df['Hospitalization Rate (Facility)'].min()"
   ]
  },
  {
   "cell_type": "code",
   "execution_count": null,
   "metadata": {},
   "outputs": [],
   "source": [
    "df['Hospitalization Rate (Facility)'].max()"
   ]
  },
  {
   "cell_type": "code",
   "execution_count": null,
   "metadata": {},
   "outputs": [],
   "source": [
    "set([(len(str(num))) for num in df['Hospitalization Rate (Facility)']])"
   ]
  },
  {
   "cell_type": "markdown",
   "metadata": {},
   "source": [
    "### Hospitalization Rate: Upper Confidence Limit (97.5%)\n",
    "Data type: object\n",
    "\n",
    "Value count: 7626\n",
    "\n",
    "Number of unique values: 2584\n",
    "\n",
    "Percent unique values: 12.7%\n",
    "\n",
    "Ranges of values: 1079.9 - \n",
    "\n",
    "Length of values: 3, 5, 6, 13\n",
    "\n",
    "Description: Lists the upper confident limit (97.5%) for hospitalization rate per 100 patient-years."
   ]
  },
  {
   "cell_type": "code",
   "execution_count": null,
   "metadata": {},
   "outputs": [],
   "source": [
    "df['Hospitalization Rate: Upper Confidence Limit (97.5%)'].head()"
   ]
  },
  {
   "cell_type": "code",
   "execution_count": null,
   "metadata": {},
   "outputs": [],
   "source": [
    "df['Hospitalization Rate: Upper Confidence Limit (97.5%)'].tail()"
   ]
  },
  {
   "cell_type": "code",
   "execution_count": null,
   "metadata": {},
   "outputs": [],
   "source": [
    "df['Hospitalization Rate: Upper Confidence Limit (97.5%)'].describe()"
   ]
  },
  {
   "cell_type": "code",
   "execution_count": null,
   "metadata": {},
   "outputs": [],
   "source": [
    "# Percent unique values\n",
    "# True if facility has a value count of 1 (aka unique)\n",
    "pd.Series([facility == 1 for facility in df['Hospitalization Rate: Upper Confidence Limit (97.5%)'].value_counts()]).value_counts()"
   ]
  },
  {
   "cell_type": "code",
   "execution_count": null,
   "metadata": {},
   "outputs": [],
   "source": [
    "df['Hospitalization Rate: Upper Confidence Limit (97.5%)'].min()"
   ]
  },
  {
   "cell_type": "code",
   "execution_count": null,
   "metadata": {},
   "outputs": [],
   "source": [
    "df['Hospitalization Rate: Upper Confidence Limit (97.5%)'].max()"
   ]
  },
  {
   "cell_type": "code",
   "execution_count": null,
   "metadata": {},
   "outputs": [],
   "source": [
    "set([(len(str(num))) for num in df['Hospitalization Rate: Upper Confidence Limit (97.5%)']])"
   ]
  },
  {
   "cell_type": "markdown",
   "metadata": {},
   "source": [
    "### Hospitalization Rate: Lower Confidence Limit (2.5%)\n",
    "Data type: object\n",
    "\n",
    "Value count: 7626\n",
    "\n",
    "Number of unique values: 1711\n",
    "\n",
    "Percent unique values: 5.72%\n",
    "\n",
    "Ranges of values: 0 -\n",
    "\n",
    "Length of values: 1 - 5, 13\n",
    "\n",
    "Description: Lists the lower confident limit (2.5%) for hospitalization rate per 100 patient-years."
   ]
  },
  {
   "cell_type": "code",
   "execution_count": null,
   "metadata": {},
   "outputs": [],
   "source": [
    "df['Hospitalization Rate: Lower Confidence Limit (2.5%)'].head()"
   ]
  },
  {
   "cell_type": "code",
   "execution_count": null,
   "metadata": {},
   "outputs": [],
   "source": [
    "df['Hospitalization Rate: Lower Confidence Limit (2.5%)'].tail()"
   ]
  },
  {
   "cell_type": "code",
   "execution_count": null,
   "metadata": {},
   "outputs": [],
   "source": [
    "df['Hospitalization Rate: Lower Confidence Limit (2.5%)'].describe()"
   ]
  },
  {
   "cell_type": "code",
   "execution_count": null,
   "metadata": {},
   "outputs": [],
   "source": [
    "# Percent unique values\n",
    "# True if facility has a value count of 1 (aka unique)\n",
    "pd.Series([facility == 1 for facility in df['Hospitalization Rate: Lower Confidence Limit (2.5%)'].value_counts()]).value_counts()"
   ]
  },
  {
   "cell_type": "code",
   "execution_count": null,
   "metadata": {},
   "outputs": [],
   "source": [
    "df['Hospitalization Rate: Lower Confidence Limit (2.5%)'].min()"
   ]
  },
  {
   "cell_type": "code",
   "execution_count": null,
   "metadata": {},
   "outputs": [],
   "source": [
    "df['Hospitalization Rate: Lower Confidence Limit (2.5%)'].max()"
   ]
  },
  {
   "cell_type": "code",
   "execution_count": null,
   "metadata": {},
   "outputs": [],
   "source": [
    "set([(len(str(num))) for num in df['Hospitalization Rate: Lower Confidence Limit (2.5%)']])"
   ]
  },
  {
   "cell_type": "markdown",
   "metadata": {},
   "source": [
    "### Number of pediatric PD patients with Kt/V data\n",
    "Data type: object\n",
    "\n",
    "Value count: 7626\n",
    "\n",
    "Number of unique values: 26\n",
    "\n",
    "Percent unique values: 0.0918%\n",
    "\n",
    "Ranges of values: 0 - \n",
    "\n",
    "Length of values: 1, 2, 13\n",
    "\n",
    "Description: Lists the number of pediatric PD patients included in Kt/V greater than or equal to 1.8 summary. The parameter Kt/V is a measurement of the efficacy of a hemodialysis session. It identifies the effective removal of a specific solute (clearance K) resulting from a given treatment (characterized by time t) in a given patient (with a specific volume of distribution V for the solute considered)."
   ]
  },
  {
   "cell_type": "code",
   "execution_count": null,
   "metadata": {},
   "outputs": [],
   "source": [
    "df['Number of pediatric PD patients with Kt/V data'].head()"
   ]
  },
  {
   "cell_type": "code",
   "execution_count": null,
   "metadata": {},
   "outputs": [],
   "source": [
    "df['Number of pediatric PD patients with Kt/V data'].tail()"
   ]
  },
  {
   "cell_type": "code",
   "execution_count": null,
   "metadata": {},
   "outputs": [],
   "source": [
    "df['Number of pediatric PD patients with Kt/V data'].describe()"
   ]
  },
  {
   "cell_type": "code",
   "execution_count": null,
   "metadata": {},
   "outputs": [],
   "source": [
    "# Percent unique values\n",
    "# True if facility has a value count of 1 (aka unique)\n",
    "pd.Series([facility == 1 for facility in df['Number of pediatric PD patients with Kt/V data'].value_counts()]).value_counts()"
   ]
  },
  {
   "cell_type": "code",
   "execution_count": null,
   "metadata": {},
   "outputs": [],
   "source": [
    "df['Number of pediatric PD patients with Kt/V data'].min()"
   ]
  },
  {
   "cell_type": "code",
   "execution_count": null,
   "metadata": {},
   "outputs": [],
   "source": [
    "df['Number of pediatric PD patients with Kt/V data'].max()"
   ]
  },
  {
   "cell_type": "code",
   "execution_count": null,
   "metadata": {},
   "outputs": [],
   "source": [
    "set([(len(str(num))) for num in df['Number of pediatric PD patients with Kt/V data']])"
   ]
  },
  {
   "cell_type": "markdown",
   "metadata": {},
   "source": [
    "### Pediatric PD Kt/V Data Availability Code\n",
    "Data type: int64 \n",
    "\n",
    "Value count: 7626\n",
    "\n",
    "Number of unique values: 5\n",
    "\n",
    "Percent unique values: 0%\n",
    "\n",
    "Ranges of values: 1, 199, 201, 258, 259\n",
    "\n",
    "Length of values: 1, 3\n",
    "\n",
    "Description: Lists whether the facility had sufficient pediatric PD Kt/V data available or the reason for why the data is not available. The parameter Kt/V is a measurement of the efficacy of a hemodialysis session. It identifies the effective removal of a specific solute (clearance K) resulting from a given treatment (characterized by time t) in a given patient (with a specific volume of distribution V for the solute considered).\n",
    "\n",
    "Value description:\n",
    "- 1   : N/A\n",
    "- 199 : Not enough patients to report on this measure. Call the dialysis center to discuss this measure.\n",
    "- 201 : Data not reported. Call the dialysis center to discuss this quality measure.\n",
    "- 258 : The dialysis center was not open long enough to supply sufficient measure data. \n",
    "- 259 : The dialysis center does not provide hemodialysis and/or peritoneal dialysis to pediatric patients during the reporting period."
   ]
  },
  {
   "cell_type": "code",
   "execution_count": null,
   "metadata": {
    "scrolled": true
   },
   "outputs": [],
   "source": [
    "df['Pediatric PD Kt/V Data Availability Code'].head()"
   ]
  },
  {
   "cell_type": "code",
   "execution_count": null,
   "metadata": {},
   "outputs": [],
   "source": [
    "df['Pediatric PD Kt/V Data Availability Code'].tail()"
   ]
  },
  {
   "cell_type": "code",
   "execution_count": null,
   "metadata": {},
   "outputs": [],
   "source": [
    "df['Pediatric PD Kt/V Data Availability Code'].count()"
   ]
  },
  {
   "cell_type": "code",
   "execution_count": null,
   "metadata": {},
   "outputs": [],
   "source": [
    "df['Pediatric PD Kt/V Data Availability Code'].value_counts()"
   ]
  },
  {
   "cell_type": "markdown",
   "metadata": {},
   "source": [
    "### Number of pediatric PD patient-months with KT/V data\n",
    "Data type: object\n",
    "\n",
    "Value count: 7626\n",
    "\n",
    "Number of unique values: 82\n",
    "\n",
    "Percent unique values: 0.433%\n",
    "\n",
    "Ranges of values: 1 - \n",
    "\n",
    "Length of values: 1 - 3, 13\n",
    "\n",
    "Description: Lists the number of pediatric PD patient months included in Kt/V greater than or equal to 1.8 summary. The parameter Kt/V is a measurement of the efficacy of a hemodialysis session. It identifies the effective removal of a specific solute (clearance K) resulting from a given treatment (characterized by time t) in a given patient (with a specific volume of distribution V for the solute considered)."
   ]
  },
  {
   "cell_type": "code",
   "execution_count": null,
   "metadata": {},
   "outputs": [],
   "source": [
    "df['Number of pediatric PD patient-months with KT/V data'].head()"
   ]
  },
  {
   "cell_type": "code",
   "execution_count": null,
   "metadata": {},
   "outputs": [],
   "source": [
    "df['Number of pediatric PD patient-months with KT/V data'].tail()"
   ]
  },
  {
   "cell_type": "code",
   "execution_count": null,
   "metadata": {},
   "outputs": [],
   "source": [
    "df['Number of pediatric PD patient-months with KT/V data'].describe()"
   ]
  },
  {
   "cell_type": "code",
   "execution_count": null,
   "metadata": {},
   "outputs": [],
   "source": [
    "# Percent unique values\n",
    "# True if facility has a value count of 1 (aka unique)\n",
    "pd.Series([facility == 1 for facility in df['Number of pediatric PD patient-months with KT/V data'].value_counts()]).value_counts()"
   ]
  },
  {
   "cell_type": "code",
   "execution_count": null,
   "metadata": {},
   "outputs": [],
   "source": [
    "df['Number of pediatric PD patient-months with KT/V data'].min()"
   ]
  },
  {
   "cell_type": "code",
   "execution_count": null,
   "metadata": {},
   "outputs": [],
   "source": [
    "df['Number of pediatric PD patient-months with KT/V data'].max()"
   ]
  },
  {
   "cell_type": "code",
   "execution_count": null,
   "metadata": {},
   "outputs": [],
   "source": [
    "set([(len(str(num))) for num in df['Number of pediatric PD patient-months with KT/V data']])"
   ]
  },
  {
   "cell_type": "markdown",
   "metadata": {},
   "source": [
    "### Percentage of pediatric PD patients with Kt/V>=1.8\n",
    "Data type: object\n",
    "\n",
    "Value count: 7626\n",
    "\n",
    "Number of unique values: 22\n",
    "\n",
    "Percent unique values: 0.105%\n",
    "\n",
    "Ranges of values: 23 - \n",
    "\n",
    "Length of values: 2, 13\n",
    "\n",
    "Description: Lists the percentage of pediatric PD patients with Kt/V greater than or equal to 1.8. The parameter Kt/V is a measurement of the efficacy of a hemodialysis session. It identifies the effective removal of a specific solute (clearance K) resulting from a given treatment (characterized by time t) in a given patient (with a specific volume of distribution V for the solute considered)."
   ]
  },
  {
   "cell_type": "code",
   "execution_count": null,
   "metadata": {},
   "outputs": [],
   "source": [
    "df['Percentage of pediatric PD patients with Kt/V>=1.8'].head()"
   ]
  },
  {
   "cell_type": "code",
   "execution_count": null,
   "metadata": {},
   "outputs": [],
   "source": [
    "df['Percentage of pediatric PD patients with Kt/V>=1.8'].tail()"
   ]
  },
  {
   "cell_type": "code",
   "execution_count": null,
   "metadata": {},
   "outputs": [],
   "source": [
    "df['Percentage of pediatric PD patients with Kt/V>=1.8'].describe()"
   ]
  },
  {
   "cell_type": "code",
   "execution_count": null,
   "metadata": {},
   "outputs": [],
   "source": [
    "# Percent unique values\n",
    "# True if facility has a value count of 1 (aka unique)\n",
    "pd.Series([facility == 1 for facility in df['Percentage of pediatric PD patients with Kt/V>=1.8'].value_counts()]).value_counts()"
   ]
  },
  {
   "cell_type": "code",
   "execution_count": null,
   "metadata": {},
   "outputs": [],
   "source": [
    "df['Percentage of pediatric PD patients with Kt/V>=1.8'].min()"
   ]
  },
  {
   "cell_type": "code",
   "execution_count": null,
   "metadata": {},
   "outputs": [],
   "source": [
    "df['Percentage of pediatric PD patients with Kt/V>=1.8'].max()"
   ]
  },
  {
   "cell_type": "code",
   "execution_count": null,
   "metadata": {},
   "outputs": [],
   "source": [
    "set([(len(str(num))) for num in df['Percentage of pediatric PD patients with Kt/V>=1.8']])"
   ]
  },
  {
   "cell_type": "markdown",
   "metadata": {},
   "source": [
    "### SIR Date\n",
    "Data type: object\n",
    "\n",
    "Value count: 7626\n",
    "\n",
    "Number of unique values: 1\n",
    "\n",
    "Percent unique values: 0%\n",
    "\n",
    "Ranges of values: \"01/01/2018 - 12/31/2018\"\n",
    "\n",
    "Length of values: 23\n",
    "\n",
    "Description: Lists the time period for patient infection summary (SIR)."
   ]
  },
  {
   "cell_type": "code",
   "execution_count": null,
   "metadata": {},
   "outputs": [],
   "source": [
    "df['SIR Date'].head()"
   ]
  },
  {
   "cell_type": "code",
   "execution_count": null,
   "metadata": {},
   "outputs": [],
   "source": [
    "df['SIR Date'].tail()"
   ]
  },
  {
   "cell_type": "code",
   "execution_count": null,
   "metadata": {},
   "outputs": [],
   "source": [
    "df['SIR Date'].count()"
   ]
  },
  {
   "cell_type": "code",
   "execution_count": null,
   "metadata": {},
   "outputs": [],
   "source": [
    "df['SIR Date'].value_counts()"
   ]
  },
  {
   "cell_type": "code",
   "execution_count": null,
   "metadata": {},
   "outputs": [],
   "source": [
    "set([(len(str(num))) for num in df['SIR Date']])"
   ]
  },
  {
   "cell_type": "markdown",
   "metadata": {},
   "source": [
    "### Patient Infection Data Availability Code\n",
    "Data type: int64\n",
    "\n",
    "Value count: 7626\n",
    "\n",
    "Number of unique values: 4\n",
    "\n",
    "Percent unique values: 0%\n",
    "\n",
    "Ranges of values: 1, 199, 201, 258\n",
    "\n",
    "Length of values: 1, 3\n",
    "\n",
    "Description: Lists whether the facility had sufficient infection data available or the reason for why the data is not available.\n",
    "\n",
    "Value description:\n",
    "- 1   : N/A\n",
    "- 199 : Not enough patients to report on this measure. Call the dialysis center to discuss this measure.\n",
    "- 201 : Data not reported. Call the dialysis center to discuss this quality measure.\n",
    "- 258 : The dialysis center was not open long enough to supply sufficient measure data. "
   ]
  },
  {
   "cell_type": "code",
   "execution_count": null,
   "metadata": {},
   "outputs": [],
   "source": [
    "df['Patient Infection Data Availability Code'].head()"
   ]
  },
  {
   "cell_type": "code",
   "execution_count": null,
   "metadata": {},
   "outputs": [],
   "source": [
    "df['Patient Infection Data Availability Code'].tail()"
   ]
  },
  {
   "cell_type": "code",
   "execution_count": null,
   "metadata": {},
   "outputs": [],
   "source": [
    "df['Patient Infection Data Availability Code'].count()"
   ]
  },
  {
   "cell_type": "code",
   "execution_count": null,
   "metadata": {},
   "outputs": [],
   "source": [
    "df['Patient Infection Data Availability Code'].value_counts()"
   ]
  },
  {
   "cell_type": "markdown",
   "metadata": {},
   "source": [
    "### Patient Infection category text\n",
    "Data type: object\n",
    "\n",
    "Value count: 7626\n",
    "\n",
    "Number of unique values: 4\n",
    "\n",
    "Percent unique values: 0%\n",
    "\n",
    "Ranges of values: As Expected, Worse than Expected, Better than Expected, Not Available\n",
    "\n",
    "Length of values: 11, 13, 19, 20\n",
    "\n",
    "Description: Patient infection category.\n",
    "\n",
    "Value description:\n",
    "- As Expected          : Patient infection categorized as “As Expected”       \n",
    "- Worse than Expected  :  Patient infection categorized as “Worse than Expected”\n",
    "- Better than Expected : Patient infection categorized as “Better than Expected\"\n",
    "- Not Available "
   ]
  },
  {
   "cell_type": "code",
   "execution_count": null,
   "metadata": {},
   "outputs": [],
   "source": [
    "df['Patient Infection category text'].head()"
   ]
  },
  {
   "cell_type": "code",
   "execution_count": null,
   "metadata": {},
   "outputs": [],
   "source": [
    "df['Patient Infection category text'].tail()"
   ]
  },
  {
   "cell_type": "code",
   "execution_count": null,
   "metadata": {},
   "outputs": [],
   "source": [
    "df['Patient Infection category text'].count()"
   ]
  },
  {
   "cell_type": "code",
   "execution_count": null,
   "metadata": {},
   "outputs": [],
   "source": [
    "df['Patient Infection category text'].value_counts()"
   ]
  },
  {
   "cell_type": "code",
   "execution_count": null,
   "metadata": {},
   "outputs": [],
   "source": [
    "set([(len(str(num))) for num in df['Patient Infection category text']])"
   ]
  },
  {
   "cell_type": "markdown",
   "metadata": {},
   "source": [
    "### Standard Infection Ratio\n",
    "Data type: object\n",
    "\n",
    "Value count: 7626\n",
    "\n",
    "Number of unique values: 337\n",
    "\n",
    "Percent unique values: 0.957%\n",
    "\n",
    "Ranges of values: 0.5 - \n",
    "\n",
    "Length of values: 1 - 5, 13\n",
    "\n",
    "Description: Lists the facility’s Standardized Infection Ratio."
   ]
  },
  {
   "cell_type": "code",
   "execution_count": null,
   "metadata": {},
   "outputs": [],
   "source": [
    "df['Standard Infection Ratio'].head()"
   ]
  },
  {
   "cell_type": "code",
   "execution_count": null,
   "metadata": {},
   "outputs": [],
   "source": [
    "df['Standard Infection Ratio'].tail()"
   ]
  },
  {
   "cell_type": "code",
   "execution_count": null,
   "metadata": {},
   "outputs": [],
   "source": [
    "df['Standard Infection Ratio'].describe()"
   ]
  },
  {
   "cell_type": "code",
   "execution_count": null,
   "metadata": {},
   "outputs": [],
   "source": [
    "# Percent unique values\n",
    "# True if facility has a value count of 1 (aka unique)\n",
    "pd.Series([facility == 1 for facility in df['Standard Infection Ratio'].value_counts()]).value_counts()"
   ]
  },
  {
   "cell_type": "code",
   "execution_count": null,
   "metadata": {},
   "outputs": [],
   "source": [
    "df['Standard Infection Ratio'].min()"
   ]
  },
  {
   "cell_type": "code",
   "execution_count": null,
   "metadata": {},
   "outputs": [],
   "source": [
    "df['Standard Infection Ratio'].max()"
   ]
  },
  {
   "cell_type": "code",
   "execution_count": null,
   "metadata": {},
   "outputs": [],
   "source": [
    "set([(len(str(num))) for num in df['Standard Infection Ratio']])"
   ]
  },
  {
   "cell_type": "markdown",
   "metadata": {},
   "source": [
    "### SIR: Upper Confidence Limit (97.5%)\n",
    "Data type: object\n",
    "\n",
    "Value count: 7626\n",
    "\n",
    "Number of unique values: 603\n",
    "\n",
    "Percent unique values: 1.63%\n",
    "\n",
    "Ranges of values: 0.16 - \n",
    "\n",
    "Length of values: 1 - 5, 13\n",
    "\n",
    "Description: Lists the upper confident limit (97.5%) for Standardized Infection Ratio (SIR)."
   ]
  },
  {
   "cell_type": "code",
   "execution_count": null,
   "metadata": {},
   "outputs": [],
   "source": [
    "df['SIR: Upper Confidence Limit (97.5%)'].head()"
   ]
  },
  {
   "cell_type": "code",
   "execution_count": null,
   "metadata": {},
   "outputs": [],
   "source": [
    "df['SIR: Upper Confidence Limit (97.5%)'].tail()"
   ]
  },
  {
   "cell_type": "code",
   "execution_count": null,
   "metadata": {},
   "outputs": [],
   "source": [
    "df['SIR: Upper Confidence Limit (97.5%)'].describe()"
   ]
  },
  {
   "cell_type": "code",
   "execution_count": null,
   "metadata": {},
   "outputs": [],
   "source": [
    "# Percent unique values\n",
    "# True if facility has a value count of 1 (aka unique)\n",
    "pd.Series([facility == 1 for facility in df['SIR: Upper Confidence Limit (97.5%)'].value_counts()]).value_counts()"
   ]
  },
  {
   "cell_type": "code",
   "execution_count": null,
   "metadata": {},
   "outputs": [],
   "source": [
    "df['SIR: Upper Confidence Limit (97.5%)'].min()"
   ]
  },
  {
   "cell_type": "code",
   "execution_count": null,
   "metadata": {},
   "outputs": [],
   "source": [
    "df['SIR: Upper Confidence Limit (97.5%)'].max()"
   ]
  },
  {
   "cell_type": "code",
   "execution_count": null,
   "metadata": {},
   "outputs": [],
   "source": [
    "set([(len(str(num))) for num in df['SIR: Upper Confidence Limit (97.5%)']])"
   ]
  },
  {
   "cell_type": "markdown",
   "metadata": {},
   "source": [
    "### SIR: Lower Confidence Limit (2.5%)\n",
    "Data type: object\n",
    "\n",
    "Value count: 7626\n",
    "\n",
    "Number of unique values: 191\n",
    "\n",
    "Percent unique values: 0.485%\n",
    "\n",
    "Ranges of values: 0.01 - \n",
    "\n",
    "Length of values: 1 - 4, 13\n",
    "\n",
    "Description: Lists the lower confident limit (2.5%) for Standardized Infection Ratio (SIR)."
   ]
  },
  {
   "cell_type": "code",
   "execution_count": null,
   "metadata": {},
   "outputs": [],
   "source": [
    "df['SIR: Lower Confidence Limit (2.5%)'].head()"
   ]
  },
  {
   "cell_type": "code",
   "execution_count": null,
   "metadata": {},
   "outputs": [],
   "source": [
    "df['SIR: Lower Confidence Limit (2.5%)'].tail()"
   ]
  },
  {
   "cell_type": "code",
   "execution_count": null,
   "metadata": {},
   "outputs": [],
   "source": [
    "df['SIR: Lower Confidence Limit (2.5%)'].describe()"
   ]
  },
  {
   "cell_type": "code",
   "execution_count": null,
   "metadata": {},
   "outputs": [],
   "source": [
    "# Percent unique values\n",
    "# True if facility has a value count of 1 (aka unique)\n",
    "pd.Series([facility == 1 for facility in df['SIR: Lower Confidence Limit (2.5%)'].value_counts()]).value_counts()"
   ]
  },
  {
   "cell_type": "code",
   "execution_count": null,
   "metadata": {},
   "outputs": [],
   "source": [
    "df['SIR: Lower Confidence Limit (2.5%)'].min()"
   ]
  },
  {
   "cell_type": "code",
   "execution_count": null,
   "metadata": {},
   "outputs": [],
   "source": [
    "df['SIR: Lower Confidence Limit (2.5%)'].max()"
   ]
  },
  {
   "cell_type": "code",
   "execution_count": null,
   "metadata": {},
   "outputs": [],
   "source": [
    "set([(len(str(num))) for num in df['SIR: Lower Confidence Limit (2.5%)']])"
   ]
  },
  {
   "cell_type": "markdown",
   "metadata": {},
   "source": [
    "### Transfusion Rate (Facility)\n",
    "Data type: object\n",
    "\n",
    "Value count: 7626\n",
    "\n",
    "Number of unique values: 718\n",
    "\n",
    "Percent unique values: 2.31%\n",
    "\n",
    "Ranges of values: 0 - \n",
    "\n",
    "Length of values: 1 - 5, 13\n",
    "\n",
    "Description: Lists the facility’s transfusion rate per 100 patient-years."
   ]
  },
  {
   "cell_type": "code",
   "execution_count": null,
   "metadata": {},
   "outputs": [],
   "source": [
    "df['Transfusion Rate (Facility)'].head()"
   ]
  },
  {
   "cell_type": "code",
   "execution_count": null,
   "metadata": {},
   "outputs": [],
   "source": [
    "df['Transfusion Rate (Facility)'].tail()"
   ]
  },
  {
   "cell_type": "code",
   "execution_count": null,
   "metadata": {},
   "outputs": [],
   "source": [
    "df['Transfusion Rate (Facility)'].describe()"
   ]
  },
  {
   "cell_type": "code",
   "execution_count": null,
   "metadata": {},
   "outputs": [],
   "source": [
    "# Percent unique values\n",
    "# True if facility has a value count of 1 (aka unique)\n",
    "pd.Series([facility == 1 for facility in df['Transfusion Rate (Facility)'].value_counts()]).value_counts()"
   ]
  },
  {
   "cell_type": "code",
   "execution_count": null,
   "metadata": {},
   "outputs": [],
   "source": [
    "df['Transfusion Rate (Facility)'].min()"
   ]
  },
  {
   "cell_type": "code",
   "execution_count": null,
   "metadata": {},
   "outputs": [],
   "source": [
    "df['Transfusion Rate (Facility)'].max()"
   ]
  },
  {
   "cell_type": "code",
   "execution_count": null,
   "metadata": {},
   "outputs": [],
   "source": [
    "set([(len(str(num))) for num in df['Transfusion Rate (Facility)']])"
   ]
  },
  {
   "cell_type": "markdown",
   "metadata": {},
   "source": [
    "### Transfusion Rate: Upper Confidence Limit (97.5%)\n",
    "Data type: object\n",
    "\n",
    "Value count: 7626\n",
    "\n",
    "Number of unique values: 1605\n",
    "\n",
    "Percent unique values: 4.51% \n",
    "\n",
    "Ranges of values: 100 - \n",
    "\n",
    "Length of values: 2 - 5, 13\n",
    "\n",
    "Description: Lists the upper confident limit (97.5%) for transfusion rate per 100 patient-years."
   ]
  },
  {
   "cell_type": "code",
   "execution_count": null,
   "metadata": {},
   "outputs": [],
   "source": [
    "df['Transfusion Rate: Upper Confidence Limit (97.5%)'].head()"
   ]
  },
  {
   "cell_type": "code",
   "execution_count": null,
   "metadata": {},
   "outputs": [],
   "source": [
    "df['Transfusion Rate: Upper Confidence Limit (97.5%)'].tail()"
   ]
  },
  {
   "cell_type": "code",
   "execution_count": null,
   "metadata": {},
   "outputs": [],
   "source": [
    "df['Transfusion Rate: Upper Confidence Limit (97.5%)'].describe()"
   ]
  },
  {
   "cell_type": "code",
   "execution_count": null,
   "metadata": {},
   "outputs": [],
   "source": [
    "# Percent unique values\n",
    "# True if facility has a value count of 1 (aka unique)\n",
    "pd.Series([facility == 1 for facility in df['Transfusion Rate: Upper Confidence Limit (97.5%)'].value_counts()]).value_counts()"
   ]
  },
  {
   "cell_type": "code",
   "execution_count": null,
   "metadata": {},
   "outputs": [],
   "source": [
    "df['Transfusion Rate: Upper Confidence Limit (97.5%)'].min()"
   ]
  },
  {
   "cell_type": "code",
   "execution_count": null,
   "metadata": {},
   "outputs": [],
   "source": [
    "df['Transfusion Rate: Upper Confidence Limit (97.5%)'].max()"
   ]
  },
  {
   "cell_type": "code",
   "execution_count": null,
   "metadata": {},
   "outputs": [],
   "source": [
    "set([(len(str(num))) for num in df['Transfusion Rate: Upper Confidence Limit (97.5%)']])"
   ]
  },
  {
   "cell_type": "markdown",
   "metadata": {},
   "source": [
    "### Transfusion Rate: Lower Confidence Limit (2.5%)\n",
    "Data type: object\n",
    "\n",
    "Value count: 7626\n",
    "\n",
    "Number of unique values: 414\n",
    "\n",
    "Percent unique values: 1.18%\n",
    "\n",
    "Ranges of values: 0.1 - \n",
    "\n",
    "Length of values: 1 - 5, 13\n",
    "\n",
    "Description: Lists the lower confident limit (2.5%) for transfusion rate per 100 patient-years."
   ]
  },
  {
   "cell_type": "code",
   "execution_count": null,
   "metadata": {},
   "outputs": [],
   "source": [
    "df['Transfusion Rate: Lower Confidence Limit (2.5%)'].head()"
   ]
  },
  {
   "cell_type": "code",
   "execution_count": null,
   "metadata": {},
   "outputs": [],
   "source": [
    "df['Transfusion Rate: Lower Confidence Limit (2.5%)'].tail()"
   ]
  },
  {
   "cell_type": "code",
   "execution_count": null,
   "metadata": {},
   "outputs": [],
   "source": [
    "df['Transfusion Rate: Lower Confidence Limit (2.5%)'].describe()"
   ]
  },
  {
   "cell_type": "code",
   "execution_count": null,
   "metadata": {},
   "outputs": [],
   "source": [
    "# Percent unique values\n",
    "# True if facility has a value count of 1 (aka unique)\n",
    "pd.Series([facility == 1 for facility in df['Transfusion Rate: Lower Confidence Limit (2.5%)'].value_counts()]).value_counts()"
   ]
  },
  {
   "cell_type": "code",
   "execution_count": null,
   "metadata": {},
   "outputs": [],
   "source": [
    "df['Transfusion Rate: Lower Confidence Limit (2.5%)'].min()"
   ]
  },
  {
   "cell_type": "code",
   "execution_count": null,
   "metadata": {},
   "outputs": [],
   "source": [
    "df['Transfusion Rate: Lower Confidence Limit (2.5%)'].max()"
   ]
  },
  {
   "cell_type": "code",
   "execution_count": null,
   "metadata": {},
   "outputs": [],
   "source": [
    "set([(len(str(num))) for num in df['Transfusion Rate: Lower Confidence Limit (2.5%)']])"
   ]
  },
  {
   "cell_type": "markdown",
   "metadata": {},
   "source": [
    "### Fistula data availability code\n",
    "Data type: int64\n",
    "\n",
    "Value count: 7626\n",
    "\n",
    "Number of unique values: 5\n",
    "\n",
    "Percent unique values: 0%\n",
    "\n",
    "Ranges of values: 1, 199, 201, 256, 258\n",
    "\n",
    "Length of values: 1, 3\n",
    "\n",
    "Description: Lists whether the facility had sufficient fistula data available or the reason for why the data is not available. The best type of long-term access is an AV fistula. A surgeon connects an artery to a vein, usually in your arm, to create an AV fistula. An artery is a blood vessel that carries blood away from your heart. A vein is a blood vessel that carries blood back toward your heart. When the surgeon connects an artery to a vein, the vein grows wider and thicker, making it easier to place the needles for dialysis. The AV fistula also has a large diameter that allows your blood to flow out and back into your body quickly. The goal is to allow high blood flow so that the largest amount of blood can pass through the dialyzer.\n",
    "\n",
    "Value description: \n",
    "- 1   : N/A\n",
    "- 199 : Not enough patients to report on this measure. Call the dialysis center to discuss this measure.\n",
    "- 201 : Data not reported. Call the dialysis center to discuss this quality measure.\n",
    "- 256 : The dialysis center does not provide hemodialysis during the reporting period. \n",
    "- 258 : The dialysis center was not open long enough to supply sufficient measure data. "
   ]
  },
  {
   "cell_type": "code",
   "execution_count": null,
   "metadata": {},
   "outputs": [],
   "source": [
    "df['Fistula data availability code'].head()"
   ]
  },
  {
   "cell_type": "code",
   "execution_count": null,
   "metadata": {},
   "outputs": [],
   "source": [
    "df['Fistula data availability code'].tail()"
   ]
  },
  {
   "cell_type": "code",
   "execution_count": null,
   "metadata": {},
   "outputs": [],
   "source": [
    "df['Fistula data availability code'].count()"
   ]
  },
  {
   "cell_type": "code",
   "execution_count": null,
   "metadata": {},
   "outputs": [],
   "source": [
    "df['Fistula data availability code'].value_counts()"
   ]
  },
  {
   "cell_type": "markdown",
   "metadata": {},
   "source": [
    "### Fistula Category Text\n",
    "Data type: object\n",
    "\n",
    "Value count: 7626\n",
    "\n",
    "Number of unique values: 4\n",
    "\n",
    "Percent unique values: 0%\n",
    "\n",
    "Ranges of values: As Expected, Worse than Expected, Better than Expected, Not Available\n",
    "\n",
    "Length of values: 11, 13, 19, 20\n",
    "\n",
    "Description: Fistula category. The best type of long-term access is an AV fistula. A surgeon connects an artery to a vein, usually in your arm, to create an AV fistula. An artery is a blood vessel that carries blood away from your heart. A vein is a blood vessel that carries blood back toward your heart. When the surgeon connects an artery to a vein, the vein grows wider and thicker, making it easier to place the needles for dialysis. The AV fistula also has a large diameter that allows your blood to flow out and back into your body quickly. The goal is to allow high blood flow so that the largest amount of blood can pass through the dialyzer.\n",
    "\n",
    "Value description:\n",
    "- As Expected          : Patient fistulas categorized as “As Expected”       \n",
    "- Worse than Expected  :  Patient fistulas categorized as “Worse than Expected”\n",
    "- Better than Expected : Patient fistulas categorized as “Better than Expected\"\n",
    "- Not Available "
   ]
  },
  {
   "cell_type": "code",
   "execution_count": null,
   "metadata": {},
   "outputs": [],
   "source": [
    "df['Fistula Category Text'].head()"
   ]
  },
  {
   "cell_type": "code",
   "execution_count": null,
   "metadata": {},
   "outputs": [],
   "source": [
    "df['Fistula Category Text'].tail()"
   ]
  },
  {
   "cell_type": "code",
   "execution_count": null,
   "metadata": {},
   "outputs": [],
   "source": [
    "df['Fistula Category Text'].count()"
   ]
  },
  {
   "cell_type": "code",
   "execution_count": null,
   "metadata": {},
   "outputs": [],
   "source": [
    "df['Fistula Category Text'].value_counts()"
   ]
  },
  {
   "cell_type": "code",
   "execution_count": null,
   "metadata": {},
   "outputs": [],
   "source": [
    "set([(len(str(num))) for num in df['Fistula Category Text']])"
   ]
  },
  {
   "cell_type": "markdown",
   "metadata": {},
   "source": [
    "### Number of Patients included in fistula summary\n",
    "Data type: object\n",
    "\n",
    "Value count: 7626\n",
    "\n",
    "Number of unique values: 293\n",
    "\n",
    "Percent unique values: 0.564%\n",
    "\n",
    "Ranges of values: 0 - \n",
    "\n",
    "Length of values: 1 - 3, 13\n",
    "\n",
    "Description: Lists the number of patients included in the facility’s fistula summary. The best type of long-term access is an AV fistula. A surgeon connects an artery to a vein, usually in your arm, to create an AV fistula. An artery is a blood vessel that carries blood away from your heart. A vein is a blood vessel that carries blood back toward your heart. When the surgeon connects an artery to a vein, the vein grows wider and thicker, making it easier to place the needles for dialysis. The AV fistula also has a large diameter that allows your blood to flow out and back into your body quickly. The goal is to allow high blood flow so that the largest amount of blood can pass through the dialyzer."
   ]
  },
  {
   "cell_type": "code",
   "execution_count": null,
   "metadata": {},
   "outputs": [],
   "source": [
    "df['Number of Patients included in fistula summary'].head()"
   ]
  },
  {
   "cell_type": "code",
   "execution_count": null,
   "metadata": {},
   "outputs": [],
   "source": [
    "df['Number of Patients included in fistula summary'].tail()"
   ]
  },
  {
   "cell_type": "code",
   "execution_count": null,
   "metadata": {},
   "outputs": [],
   "source": [
    "df['Number of Patients included in fistula summary'].describe()"
   ]
  },
  {
   "cell_type": "code",
   "execution_count": null,
   "metadata": {},
   "outputs": [],
   "source": [
    "# Percent unique values\n",
    "# True if facility has a value count of 1 (aka unique)\n",
    "pd.Series([facility == 1 for facility in df['Number of Patients included in fistula summary'].value_counts()]).value_counts()"
   ]
  },
  {
   "cell_type": "code",
   "execution_count": null,
   "metadata": {},
   "outputs": [],
   "source": [
    "df['Number of Patients included in fistula summary'].min()"
   ]
  },
  {
   "cell_type": "code",
   "execution_count": null,
   "metadata": {},
   "outputs": [],
   "source": [
    "df['Number of Patients included in fistula summary'].max()"
   ]
  },
  {
   "cell_type": "code",
   "execution_count": null,
   "metadata": {},
   "outputs": [],
   "source": [
    "set([(len(str(num))) for num in df['Number of Patients included in fistula summary']])"
   ]
  },
  {
   "cell_type": "markdown",
   "metadata": {},
   "source": [
    "### Fistula Rate (Facility)\n",
    "Data type: object\n",
    "\n",
    "Value count: 7626\n",
    "\n",
    "Number of unique values: 588\n",
    "\n",
    "Percent unique values: 1.17%\n",
    "\n",
    "Ranges of values: 0 - \n",
    "\n",
    "Length of values: 1 - 4, 13\n",
    "\n",
    "Description: Lists the facility’s fistula rate per 100 patient-years. The best type of long-term access is an AV fistula. A surgeon connects an artery to a vein, usually in your arm, to create an AV fistula. An artery is a blood vessel that carries blood away from your heart. A vein is a blood vessel that carries blood back toward your heart. When the surgeon connects an artery to a vein, the vein grows wider and thicker, making it easier to place the needles for dialysis. The AV fistula also has a large diameter that allows your blood to flow out and back into your body quickly. The goal is to allow high blood flow so that the largest amount of blood can pass through the dialyzer."
   ]
  },
  {
   "cell_type": "code",
   "execution_count": null,
   "metadata": {},
   "outputs": [],
   "source": [
    "df['Fistula Rate (Facility)'].head()"
   ]
  },
  {
   "cell_type": "code",
   "execution_count": null,
   "metadata": {},
   "outputs": [],
   "source": [
    "df['Fistula Rate (Facility)'].tail()"
   ]
  },
  {
   "cell_type": "code",
   "execution_count": null,
   "metadata": {},
   "outputs": [],
   "source": [
    "df['Fistula Rate (Facility)'].describe()"
   ]
  },
  {
   "cell_type": "code",
   "execution_count": null,
   "metadata": {},
   "outputs": [],
   "source": [
    "# Percent unique values\n",
    "# True if facility has a value count of 1 (aka unique)\n",
    "pd.Series([facility == 1 for facility in df['Fistula Rate (Facility)'].value_counts()]).value_counts()"
   ]
  },
  {
   "cell_type": "code",
   "execution_count": null,
   "metadata": {},
   "outputs": [],
   "source": [
    "df['Fistula Rate (Facility)'].min()"
   ]
  },
  {
   "cell_type": "code",
   "execution_count": null,
   "metadata": {},
   "outputs": [],
   "source": [
    "df['Fistula Rate (Facility)'].max()"
   ]
  },
  {
   "cell_type": "code",
   "execution_count": null,
   "metadata": {},
   "outputs": [],
   "source": [
    "set([(len(str(num))) for num in df['Fistula Rate (Facility)']])"
   ]
  },
  {
   "cell_type": "markdown",
   "metadata": {},
   "source": [
    "### Fistula Rate: Upper Confidence Limit (97.5%)\n",
    "Data type: object\n",
    "\n",
    "Value count: 7626\n",
    "\n",
    "Number of unique values: 488\n",
    "\n",
    "Percent unique values: 0.905%\n",
    "\n",
    "Ranges of values: 0 - \n",
    "\n",
    "Length of values: 1 - 4, 13\n",
    "\n",
    "Description: Lists the upper confident limit (97.5%) for fistula rate per 100 patient-years. The best type of long-term access is an AV fistula. A surgeon connects an artery to a vein, usually in your arm, to create an AV fistula. An artery is a blood vessel that carries blood away from your heart. A vein is a blood vessel that carries blood back toward your heart. When the surgeon connects an artery to a vein, the vein grows wider and thicker, making it easier to place the needles for dialysis. The AV fistula also has a large diameter that allows your blood to flow out and back into your body quickly. The goal is to allow high blood flow so that the largest amount of blood can pass through the dialyzer."
   ]
  },
  {
   "cell_type": "code",
   "execution_count": null,
   "metadata": {},
   "outputs": [],
   "source": [
    "df['Fistula Rate: Upper Confidence Limit (97.5%)'].head()"
   ]
  },
  {
   "cell_type": "code",
   "execution_count": null,
   "metadata": {},
   "outputs": [],
   "source": [
    "df['Fistula Rate: Upper Confidence Limit (97.5%)'].tail()"
   ]
  },
  {
   "cell_type": "code",
   "execution_count": null,
   "metadata": {},
   "outputs": [],
   "source": [
    "df['Fistula Rate: Upper Confidence Limit (97.5%)'].describe()"
   ]
  },
  {
   "cell_type": "code",
   "execution_count": null,
   "metadata": {},
   "outputs": [],
   "source": [
    "# Percent unique values\n",
    "# True if facility has a value count of 1 (aka unique)\n",
    "pd.Series([facility == 1 for facility in df['Fistula Rate: Upper Confidence Limit (97.5%)'].value_counts()]).value_counts()"
   ]
  },
  {
   "cell_type": "code",
   "execution_count": null,
   "metadata": {},
   "outputs": [],
   "source": [
    "df['Fistula Rate: Upper Confidence Limit (97.5%)'].min()"
   ]
  },
  {
   "cell_type": "code",
   "execution_count": null,
   "metadata": {},
   "outputs": [],
   "source": [
    "df['Fistula Rate: Upper Confidence Limit (97.5%)'].max()"
   ]
  },
  {
   "cell_type": "code",
   "execution_count": null,
   "metadata": {},
   "outputs": [],
   "source": [
    "set([(len(str(num))) for num in df['Fistula Rate: Upper Confidence Limit (97.5%)']])"
   ]
  },
  {
   "cell_type": "markdown",
   "metadata": {},
   "source": [
    "### Fistula Rate: Lower Confidence Limit (2.5%)\n",
    "Data type: object\n",
    "\n",
    "Value count: 7626\n",
    "\n",
    "Number of unique values: 728\n",
    "\n",
    "Percent unique values: 1.31%\n",
    "\n",
    "Ranges of values: 0.1 - \n",
    "\n",
    "Length of values: 1 - 4, 13\n",
    "\n",
    "Description: Lists the lower confident limit (2.5%) for fistula rate per 100 patient-years. The best type of long-term access is an AV fistula. A surgeon connects an artery to a vein, usually in your arm, to create an AV fistula. An artery is a blood vessel that carries blood away from your heart. A vein is a blood vessel that carries blood back toward your heart. When the surgeon connects an artery to a vein, the vein grows wider and thicker, making it easier to place the needles for dialysis. The AV fistula also has a large diameter that allows your blood to flow out and back into your body quickly. The goal is to allow high blood flow so that the largest amount of blood can pass through the dialyzer."
   ]
  },
  {
   "cell_type": "code",
   "execution_count": null,
   "metadata": {},
   "outputs": [],
   "source": [
    "df['Fistula Rate: Lower Confidence Limit (2.5%)'].head()"
   ]
  },
  {
   "cell_type": "code",
   "execution_count": null,
   "metadata": {},
   "outputs": [],
   "source": [
    "df['Fistula Rate: Lower Confidence Limit (2.5%)'].tail()"
   ]
  },
  {
   "cell_type": "code",
   "execution_count": null,
   "metadata": {},
   "outputs": [],
   "source": [
    "df['Fistula Rate: Lower Confidence Limit (2.5%)'].describe()"
   ]
  },
  {
   "cell_type": "code",
   "execution_count": null,
   "metadata": {},
   "outputs": [],
   "source": [
    "# Percent unique values\n",
    "# True if facility has a value count of 1 (aka unique)\n",
    "pd.Series([facility == 1 for facility in df['Fistula Rate: Lower Confidence Limit (2.5%)'].value_counts()]).value_counts()"
   ]
  },
  {
   "cell_type": "code",
   "execution_count": null,
   "metadata": {},
   "outputs": [],
   "source": [
    "df['Fistula Rate: Lower Confidence Limit (2.5%)'].min()"
   ]
  },
  {
   "cell_type": "code",
   "execution_count": null,
   "metadata": {},
   "outputs": [],
   "source": [
    "df['Fistula Rate: Lower Confidence Limit (2.5%)'].max()"
   ]
  },
  {
   "cell_type": "code",
   "execution_count": null,
   "metadata": {},
   "outputs": [],
   "source": [
    "set([(len(str(num))) for num in df['Fistula Rate: Lower Confidence Limit (2.5%)']])"
   ]
  },
  {
   "cell_type": "markdown",
   "metadata": {},
   "source": [
    "### Number of patients in long term catheter summary\n",
    "Data type: object\n",
    "\n",
    "Value count: 7626\n",
    "\n",
    "Number of unique values: 293\n",
    "\n",
    "Percent unique values: 0.564%\n",
    "\n",
    "Ranges of values: 0 - \n",
    "\n",
    "Length of values: 1 - 3, 13\n",
    "\n",
    "Description: Lists the number of patients included in the facility’s long term catheter summary. "
   ]
  },
  {
   "cell_type": "code",
   "execution_count": null,
   "metadata": {},
   "outputs": [],
   "source": [
    "df['Number of patients in long term catheter summary'].head()"
   ]
  },
  {
   "cell_type": "code",
   "execution_count": null,
   "metadata": {},
   "outputs": [],
   "source": [
    "df['Number of patients in long term catheter summary'].tail()"
   ]
  },
  {
   "cell_type": "code",
   "execution_count": null,
   "metadata": {},
   "outputs": [],
   "source": [
    "df['Number of patients in long term catheter summary'].describe()"
   ]
  },
  {
   "cell_type": "code",
   "execution_count": null,
   "metadata": {},
   "outputs": [],
   "source": [
    "# Percent unique values\n",
    "# True if facility has a value count of 1 (aka unique)\n",
    "pd.Series([facility == 1 for facility in df['Number of patients in long term catheter summary'].value_counts()]).value_counts()"
   ]
  },
  {
   "cell_type": "code",
   "execution_count": null,
   "metadata": {},
   "outputs": [],
   "source": [
    "df['Number of patients in long term catheter summary'].min()"
   ]
  },
  {
   "cell_type": "code",
   "execution_count": null,
   "metadata": {},
   "outputs": [],
   "source": [
    "df['Number of patients in long term catheter summary'].max()"
   ]
  },
  {
   "cell_type": "code",
   "execution_count": null,
   "metadata": {},
   "outputs": [],
   "source": [
    "set([(len(str(num))) for num in df['Number of patients in long term catheter summary']])"
   ]
  },
  {
   "cell_type": "markdown",
   "metadata": {},
   "source": [
    "### Number of patient months in long term catheter summary\n",
    "Data type: object\n",
    "\n",
    "Value count: 7626\n",
    "\n",
    "Number of unique values: 1781\n",
    "\n",
    "Percent unique values: 5.55%\n",
    "\n",
    "Ranges of values: 1 - \n",
    "\n",
    "Length of values: 1 - 4, 13\n",
    "\n",
    "Description: Lists the number of patient-months included in the facility’s long term catheter summary. "
   ]
  },
  {
   "cell_type": "code",
   "execution_count": null,
   "metadata": {},
   "outputs": [],
   "source": [
    "df['Number of patient months in long term catheter summary'].head()"
   ]
  },
  {
   "cell_type": "code",
   "execution_count": null,
   "metadata": {},
   "outputs": [],
   "source": [
    "df['Number of patient months in long term catheter summary'].tail()"
   ]
  },
  {
   "cell_type": "code",
   "execution_count": null,
   "metadata": {},
   "outputs": [],
   "source": [
    "df['Number of patient months in long term catheter summary'].describe()"
   ]
  },
  {
   "cell_type": "code",
   "execution_count": null,
   "metadata": {},
   "outputs": [],
   "source": [
    "# Percent unique values\n",
    "# True if facility has a value count of 1 (aka unique)\n",
    "pd.Series([facility == 1 for facility in df['Number of patient months in long term catheter summary'].value_counts()]).value_counts()"
   ]
  },
  {
   "cell_type": "code",
   "execution_count": null,
   "metadata": {},
   "outputs": [],
   "source": [
    "df['Number of patient months in long term catheter summary'].min()"
   ]
  },
  {
   "cell_type": "code",
   "execution_count": null,
   "metadata": {},
   "outputs": [],
   "source": [
    "df['Number of patient months in long term catheter summary'].max()"
   ]
  },
  {
   "cell_type": "code",
   "execution_count": null,
   "metadata": {},
   "outputs": [],
   "source": [
    "set([(len(str(num))) for num in df['Number of patient months in long term catheter summary']])"
   ]
  },
  {
   "cell_type": "markdown",
   "metadata": {},
   "source": [
    "### Long term catheter Data Availability Code\n",
    "Data type: int64\n",
    "\n",
    "Value count: 7626\n",
    "\n",
    "Number of unique values: 5\n",
    "\n",
    "Percent unique values: 0%\n",
    "\n",
    "Ranges of values: 1, 199, 201, 256, 258\n",
    "\n",
    "Length of values: 1, 3\n",
    "\n",
    "Description: Lists whether the facility had sufficient long term catheter data available or the reason for why the data is not available."
   ]
  },
  {
   "cell_type": "code",
   "execution_count": null,
   "metadata": {},
   "outputs": [],
   "source": [
    "df['Long term catheter Data Availability Code'].head()"
   ]
  },
  {
   "cell_type": "code",
   "execution_count": null,
   "metadata": {},
   "outputs": [],
   "source": [
    "df['Long term catheter Data Availability Code'].tail()"
   ]
  },
  {
   "cell_type": "code",
   "execution_count": null,
   "metadata": {},
   "outputs": [],
   "source": [
    "df['Long term catheter Data Availability Code'].count()"
   ]
  },
  {
   "cell_type": "code",
   "execution_count": null,
   "metadata": {},
   "outputs": [],
   "source": [
    "df['Long term catheter Data Availability Code'].value_counts()"
   ]
  },
  {
   "cell_type": "markdown",
   "metadata": {},
   "source": [
    "### Percentage of Adult patients with long term catheter in use\n",
    "Data type: object\n",
    "\n",
    "Value count: 7626\n",
    "\n",
    "Number of unique values: 68\n",
    "\n",
    "Percent unique values: 0.210%\n",
    "\n",
    "Ranges of values: 0 - \n",
    "\n",
    "Length of values: 1, 2, 13\n",
    "\n",
    "Description: Lists the percentage of adult patients with long term catheter in use."
   ]
  },
  {
   "cell_type": "code",
   "execution_count": null,
   "metadata": {},
   "outputs": [],
   "source": [
    "df['Percentage of Adult patients with long term catheter in use'].head()"
   ]
  },
  {
   "cell_type": "code",
   "execution_count": null,
   "metadata": {},
   "outputs": [],
   "source": [
    "df['Percentage of Adult patients with long term catheter in use'].tail()"
   ]
  },
  {
   "cell_type": "code",
   "execution_count": null,
   "metadata": {},
   "outputs": [],
   "source": [
    "df['Percentage of Adult patients with long term catheter in use'].describe()"
   ]
  },
  {
   "cell_type": "code",
   "execution_count": null,
   "metadata": {},
   "outputs": [],
   "source": [
    "# Percent unique values\n",
    "# True if facility has a value count of 1 (aka unique)\n",
    "pd.Series([facility == 1 for facility in df['Percentage of Adult patients with long term catheter in use'].value_counts()]).value_counts()"
   ]
  },
  {
   "cell_type": "code",
   "execution_count": null,
   "metadata": {},
   "outputs": [],
   "source": [
    "df['Percentage of Adult patients with long term catheter in use'].min()"
   ]
  },
  {
   "cell_type": "code",
   "execution_count": null,
   "metadata": {},
   "outputs": [],
   "source": [
    "df['Percentage of Adult patients with long term catheter in use'].max()"
   ]
  },
  {
   "cell_type": "code",
   "execution_count": null,
   "metadata": {},
   "outputs": [],
   "source": [
    "set([(len(str(num))) for num in df['Percentage of Adult patients with long term catheter in use']])"
   ]
  },
  {
   "cell_type": "markdown",
   "metadata": {},
   "source": [
    "### Number of patients in nPCR summary\n",
    "Data type: object\n",
    "\n",
    "Value count: 7626 \n",
    "\n",
    "Number of unique values: 26\n",
    "\n",
    "Percent unique values: .105%\n",
    "\n",
    "Ranges of values: 0 - \n",
    "\n",
    "Length of values: 1, 2, 13\n",
    "\n",
    "Description: \n",
    "Lists the number of patients included in the facility's normalized protein catabolic rate (nPCR) summary. The normalized protein catabolic rate (nPCR) is a formula commonly used to assess dietary protein intake in dialysis patients, as a means towards determining nutritional adequacy, a major problem in many ESRD patients. \n",
    "The nPCR is reported in grams of urea nitrogen per kilogram per day.\n",
    "Most guidelines specify maintaining the protein intake above 1.0 – 1.2 g/kg/day in dialysis patients, with values less than 0.8 g/kg/day being equated with malnutrition."
   ]
  },
  {
   "cell_type": "code",
   "execution_count": null,
   "metadata": {},
   "outputs": [],
   "source": [
    "df['Number of patients in nPCR summary'].head()"
   ]
  },
  {
   "cell_type": "code",
   "execution_count": null,
   "metadata": {},
   "outputs": [],
   "source": [
    "df['Number of patients in nPCR summary'].tail()"
   ]
  },
  {
   "cell_type": "code",
   "execution_count": null,
   "metadata": {},
   "outputs": [],
   "source": [
    "df['Number of patients in nPCR summary'].describe()"
   ]
  },
  {
   "cell_type": "code",
   "execution_count": null,
   "metadata": {},
   "outputs": [],
   "source": [
    "# Percent unique values\n",
    "# True if facility has a value count of 1 (aka unique)\n",
    "pd.Series([facility == 1 for facility in df['Number of patients in nPCR summary'].value_counts()]).value_counts()"
   ]
  },
  {
   "cell_type": "code",
   "execution_count": null,
   "metadata": {},
   "outputs": [],
   "source": [
    "df['Number of patients in nPCR summary'].min()"
   ]
  },
  {
   "cell_type": "code",
   "execution_count": null,
   "metadata": {},
   "outputs": [],
   "source": [
    "df['Number of patients in nPCR summary'].max()"
   ]
  },
  {
   "cell_type": "code",
   "execution_count": null,
   "metadata": {},
   "outputs": [],
   "source": [
    "set([(len(str(num))) for num in df['Number of patients in nPCR summary']])"
   ]
  },
  {
   "cell_type": "markdown",
   "metadata": {},
   "source": [
    "### Number of patient-months in nPCR summary\n",
    "Data type: object\n",
    "\n",
    "Value count: 7626\n",
    "\n",
    "Number of unique values: 74\n",
    "\n",
    "Percent unique values: 0.525%\n",
    "\n",
    "Ranges of values: 1 - \n",
    "\n",
    "Length of values: 1 - 3, 13\n",
    "\n",
    "Description: Lists the number of patient-months included in the facility's patients included in the facility's normalized protein catabolic rate (nPCR) summary. The normalized protein catabolic rate (nPCR) is a formula commonly used to assess dietary protein intake in dialysis patients, as a means towards determining nutritional adequacy, a major problem in many ESRD patients. \n",
    "The nPCR is reported in grams of urea nitrogen per kilogram per day.\n",
    "Most guidelines specify maintaining the protein intake above 1.0 – 1.2 g/kg/day in dialysis patients, with values less than 0.8 g/kg/day being equated with malnutrition."
   ]
  },
  {
   "cell_type": "code",
   "execution_count": null,
   "metadata": {},
   "outputs": [],
   "source": [
    "df['Number of patient-months in nPCR summary'].head()"
   ]
  },
  {
   "cell_type": "code",
   "execution_count": null,
   "metadata": {},
   "outputs": [],
   "source": [
    "df['Number of patient-months in nPCR summary'].tail()"
   ]
  },
  {
   "cell_type": "code",
   "execution_count": null,
   "metadata": {},
   "outputs": [],
   "source": [
    "df['Number of patient-months in nPCR summary'].describe()"
   ]
  },
  {
   "cell_type": "code",
   "execution_count": null,
   "metadata": {},
   "outputs": [],
   "source": [
    "# Percent unique values\n",
    "# True if facility has a value count of 1 (aka unique)\n",
    "pd.Series([facility == 1 for facility in df['Number of patient-months in nPCR summary'].value_counts()]).value_counts()"
   ]
  },
  {
   "cell_type": "code",
   "execution_count": null,
   "metadata": {},
   "outputs": [],
   "source": [
    "df['Number of patient-months in nPCR summary'].min()"
   ]
  },
  {
   "cell_type": "code",
   "execution_count": null,
   "metadata": {},
   "outputs": [],
   "source": [
    "df['Number of patient-months in nPCR summary'].max()"
   ]
  },
  {
   "cell_type": "code",
   "execution_count": null,
   "metadata": {},
   "outputs": [],
   "source": [
    "set([(len(str(num))) for num in df['Number of patient-months in nPCR summary']])"
   ]
  },
  {
   "cell_type": "markdown",
   "metadata": {},
   "source": [
    "### nPCR Data Availability Code\n",
    "Data type: int64\n",
    "\n",
    "Value count: 7626\n",
    "\n",
    "Number of unique values: 5\n",
    "\n",
    "Percent unique values: 0%\n",
    "\n",
    "Ranges of values: 1, 199, 201, 258, 259\n",
    "\n",
    "Length of values: 1, 3\n",
    "\n",
    "Description: Lists whether the facility had sufficient normalized protein catabolic rate (nPCR) data available or the reason for why the data is not available. The normalized protein catabolic rate (nPCR) is a formula commonly used to assess dietary protein intake in dialysis patients, as a means towards determining nutritional adequacy, a major problem in many ESRD patients. \n",
    "The nPCR is reported in grams of urea nitrogen per kilogram per day.\n",
    "Most guidelines specify maintaining the protein intake above 1.0 – 1.2 g/kg/day in dialysis patients, with values less than 0.8 g/kg/day being equated with malnutrition."
   ]
  },
  {
   "cell_type": "code",
   "execution_count": null,
   "metadata": {},
   "outputs": [],
   "source": [
    "df['nPCR Data Availability Code'].head()"
   ]
  },
  {
   "cell_type": "code",
   "execution_count": null,
   "metadata": {},
   "outputs": [],
   "source": [
    "df['nPCR Data Availability Code'].tail()"
   ]
  },
  {
   "cell_type": "code",
   "execution_count": null,
   "metadata": {},
   "outputs": [],
   "source": [
    "df['nPCR Data Availability Code'].count()"
   ]
  },
  {
   "cell_type": "code",
   "execution_count": null,
   "metadata": {},
   "outputs": [],
   "source": [
    "df['nPCR Data Availability Code'].value_counts()"
   ]
  },
  {
   "cell_type": "markdown",
   "metadata": {},
   "source": [
    "### Percentage of pediatric HD patients with nPCR\n",
    "Data type: object\n",
    "\n",
    "Value count: 7626\n",
    "\n",
    "Number of unique values: 15\n",
    "\n",
    "Percent unique values: 0.118%\n",
    "\n",
    "Ranges of values: 100 -\n",
    "\n",
    "Length of values: 2, 3, 13\n",
    "\n",
    "Description: Lists the percentage of pediatric HD patients with normalized protein catabolic rate (nPCR). The normalized protein catabolic rate (nPCR) is a formula commonly used to assess dietary protein intake in dialysis patients, as a means towards determining nutritional adequacy, a major problem in many ESRD patients. \n",
    "The nPCR is reported in grams of urea nitrogen per kilogram per day.\n",
    "Most guidelines specify maintaining the protein intake above 1.0 – 1.2 g/kg/day in dialysis patients, with values less than 0.8 g/kg/day being equated with malnutrition."
   ]
  },
  {
   "cell_type": "code",
   "execution_count": null,
   "metadata": {},
   "outputs": [],
   "source": [
    "df['Percentage of pediatric HD patients with nPCR'].head()"
   ]
  },
  {
   "cell_type": "code",
   "execution_count": null,
   "metadata": {},
   "outputs": [],
   "source": [
    "df['Percentage of pediatric HD patients with nPCR'].tail()"
   ]
  },
  {
   "cell_type": "code",
   "execution_count": null,
   "metadata": {},
   "outputs": [],
   "source": [
    "df['Percentage of pediatric HD patients with nPCR'].describe()"
   ]
  },
  {
   "cell_type": "code",
   "execution_count": null,
   "metadata": {},
   "outputs": [],
   "source": [
    "# Percent unique values\n",
    "# True if facility has a value count of 1 (aka unique)\n",
    "pd.Series([facility == 1 for facility in df['Percentage of pediatric HD patients with nPCR'].value_counts()]).value_counts()"
   ]
  },
  {
   "cell_type": "code",
   "execution_count": null,
   "metadata": {},
   "outputs": [],
   "source": [
    "df['Percentage of pediatric HD patients with nPCR'].min()"
   ]
  },
  {
   "cell_type": "code",
   "execution_count": null,
   "metadata": {},
   "outputs": [],
   "source": [
    "df['Percentage of pediatric HD patients with nPCR'].max()"
   ]
  },
  {
   "cell_type": "code",
   "execution_count": null,
   "metadata": {},
   "outputs": [],
   "source": [
    "set([(len(str(num))) for num in df['Percentage of pediatric HD patients with nPCR']])"
   ]
  },
  {
   "cell_type": "markdown",
   "metadata": {},
   "source": [
    "### DATE_SWR\n",
    "Data type: object\n",
    "\n",
    "Value count: 7626\n",
    "\n",
    "Number of unique values: 1\n",
    "\n",
    "Percent unique values: 0%\n",
    "\n",
    "Ranges of values: \"01/01/2015 - 12/31/2017\"\n",
    "\n",
    "Length of values: 23\n",
    "\n",
    "Description: Years Patient Transplant Waitlist Is Based Upon. Standardized Waitlist Ratio (SWR) measure tracks the number of incident patients at the dialysis facility under the age of 75 listed on the kidney or kidney-pancreas transplant waitlist or who received a living donor transplant within the first year of initiating dialysis. SWR is calculated to compare the observed waitlisting rate in the facility to the waitlisting rate that was expected."
   ]
  },
  {
   "cell_type": "code",
   "execution_count": null,
   "metadata": {
    "scrolled": true
   },
   "outputs": [],
   "source": [
    "df['DATE_SWR'].head()"
   ]
  },
  {
   "cell_type": "code",
   "execution_count": null,
   "metadata": {},
   "outputs": [],
   "source": [
    "df['DATE_SWR'].tail()"
   ]
  },
  {
   "cell_type": "code",
   "execution_count": null,
   "metadata": {},
   "outputs": [],
   "source": [
    "df['DATE_SWR'].value_counts()"
   ]
  },
  {
   "cell_type": "code",
   "execution_count": null,
   "metadata": {},
   "outputs": [],
   "source": [
    "set([(len(str(num))) for num in df['DATE_SWR']])"
   ]
  },
  {
   "cell_type": "markdown",
   "metadata": {},
   "source": [
    "### SWR category text\n",
    "Data type: object\n",
    "\n",
    "Value count: 7626\n",
    "\n",
    "Number of unique values: 4\n",
    "\n",
    "Percent unique values: 0%\n",
    "\n",
    "Ranges of values: As Expected, Worse than Expected, Better than Expected, Not Available\n",
    "\n",
    "Length of values: 11, 13, 19, 20\n",
    "\n",
    "Description: Standardized waitlist ratio (SWR) category text. The standardized waitlist ratio (SWR) measure tracks the number of incident patients at the dialysis facility under the age of 75 listed on the kidney or kidney-pancreas transplant waitlist or who received a living donor transplant within the first year of initiating dialysis. SWR is calculated to compare the observed waitlisting rate in the facility to the waitlisting rate that was expected. \n",
    "\n",
    "Value description:\n",
    "- As Expected          : Patient standardized waitlist ratio (SWR) categorized as “As Expected”       \n",
    "- Worse than Expected  :  Patient standardized waitlist ratio (SWR) categorized as “Worse than Expected”\n",
    "- Better than Expected : Patient standardized waitlist ratio (SWR) categorized as “Better than Expected\"\n",
    "- Not Available "
   ]
  },
  {
   "cell_type": "code",
   "execution_count": null,
   "metadata": {},
   "outputs": [],
   "source": [
    "df['SWR category text'].head()"
   ]
  },
  {
   "cell_type": "code",
   "execution_count": null,
   "metadata": {},
   "outputs": [],
   "source": [
    "df['SWR category text'].tail()"
   ]
  },
  {
   "cell_type": "code",
   "execution_count": null,
   "metadata": {},
   "outputs": [],
   "source": [
    "df['SWR category text'].count()"
   ]
  },
  {
   "cell_type": "code",
   "execution_count": null,
   "metadata": {},
   "outputs": [],
   "source": [
    "df['SWR category text'].value_counts()"
   ]
  },
  {
   "cell_type": "code",
   "execution_count": null,
   "metadata": {},
   "outputs": [],
   "source": [
    "set([(len(str(num))) for num in df['SWR category text']])"
   ]
  },
  {
   "cell_type": "markdown",
   "metadata": {},
   "source": [
    "### Patient transplant waitlist data availability code\n",
    "Data type: int64\n",
    "\n",
    "Value count: 7626\n",
    "\n",
    "Number of unique values: 5\n",
    "\n",
    "Percent unique values: 0.0131%\n",
    "\n",
    "Ranges of values: 1, 199, 201, 255, 258\n",
    "\n",
    "Length of values: 1, 3\n",
    "\n",
    "Description: Lists whether the facility had sufficient patient transplant waitlist data available or\n",
    "the reason for why the data is not available.\n",
    "\n",
    "Value description:\n",
    "- 1   : N/A\n",
    "- 199 : Not enough patients to report on this measure. Call the dialysis center to discuss this measure.\n",
    "- 201 : Data not reported. Call the dialysis center to discuss this quality measure. \n",
    "- 255 : Medicare determined that the percentage reported was not accurate.\n",
    "- 258 : The dialysis center was not open long enough to supply sufficient measure data."
   ]
  },
  {
   "cell_type": "code",
   "execution_count": null,
   "metadata": {},
   "outputs": [],
   "source": [
    "df['Patient transplant waitlist data availability code'].head()"
   ]
  },
  {
   "cell_type": "code",
   "execution_count": null,
   "metadata": {},
   "outputs": [],
   "source": [
    "df['Patient transplant waitlist data availability code'].tail()"
   ]
  },
  {
   "cell_type": "code",
   "execution_count": null,
   "metadata": {},
   "outputs": [],
   "source": [
    "df['Patient transplant waitlist data availability code'].count()"
   ]
  },
  {
   "cell_type": "code",
   "execution_count": null,
   "metadata": {},
   "outputs": [],
   "source": [
    "df['Patient transplant waitlist data availability code'].value_counts()"
   ]
  },
  {
   "cell_type": "markdown",
   "metadata": {},
   "source": [
    "### 95% C.I. (upper limit) for SWR\n",
    "Data type: object\n",
    "\n",
    "Value count: 7626\n",
    "\n",
    "Number of unique values: 594\n",
    "\n",
    "Percent unique values: 1.39%\n",
    "\n",
    "Ranges of values: 0.23 - \n",
    "\n",
    "Length of values: 1 - 5, 13\n",
    "\n",
    "Description: Lists the upper confident interval limit (95%) for Standardized Waitlist Ratio (SWR) rate per 100 patient-years. The Standardized Waitlist Ratio (SWR) measure tracks the number of incident patients at the dialysis facility under the age of 75 listed on the kidney or kidney-pancreas transplant waitlist or who received a living donor transplant within the first year of initiating dialysis. SWR is calculated to compare the observed waitlisting rate in the facility to the waitlisting rate that was expected. "
   ]
  },
  {
   "cell_type": "code",
   "execution_count": null,
   "metadata": {},
   "outputs": [],
   "source": [
    "df['95% C.I. (upper limit) for SWR'].head()"
   ]
  },
  {
   "cell_type": "code",
   "execution_count": null,
   "metadata": {},
   "outputs": [],
   "source": [
    "df['95% C.I. (upper limit) for SWR'].tail()"
   ]
  },
  {
   "cell_type": "code",
   "execution_count": null,
   "metadata": {},
   "outputs": [],
   "source": [
    "df['95% C.I. (upper limit) for SWR'].describe()"
   ]
  },
  {
   "cell_type": "code",
   "execution_count": null,
   "metadata": {},
   "outputs": [],
   "source": [
    "# Percent unique values\n",
    "# True if facility has a value count of 1 (aka unique)\n",
    "pd.Series([facility == 1 for facility in df['95% C.I. (upper limit) for SWR'].value_counts()]).value_counts()"
   ]
  },
  {
   "cell_type": "code",
   "execution_count": null,
   "metadata": {},
   "outputs": [],
   "source": [
    "df['95% C.I. (upper limit) for SWR'].min()"
   ]
  },
  {
   "cell_type": "code",
   "execution_count": null,
   "metadata": {},
   "outputs": [],
   "source": [
    "df['95% C.I. (upper limit) for SWR'].max()"
   ]
  },
  {
   "cell_type": "code",
   "execution_count": null,
   "metadata": {},
   "outputs": [],
   "source": [
    "set([(len(str(num))) for num in df['95% C.I. (upper limit) for SWR']])"
   ]
  },
  {
   "cell_type": "markdown",
   "metadata": {},
   "source": [
    "### 95% C.I. (lower limit) for SWR\n",
    "Data type: object\n",
    "\n",
    "Value count: 7626\n",
    "\n",
    "Number of unique values: 215\n",
    "\n",
    "Percent unique values: 0.511%\n",
    "\n",
    "Ranges of values: 0.01 - \n",
    "\n",
    "Length of values: 1 - 4, 13\n",
    "\n",
    "Description: Lists the lower confident interval limit (95%) for Standardized Waitlist Ratio (SWR) rate per 100 patient-years. The Standardized Waitlist Ratio (SWR) measure tracks the number of incident patients at the dialysis facility under the age of 75 listed on the kidney or kidney-pancreas transplant waitlist or who received a living donor transplant within the first year of initiating dialysis. SWR is calculated to compare the observed waitlisting rate in the facility to the waitlisting rate that was expected. "
   ]
  },
  {
   "cell_type": "code",
   "execution_count": null,
   "metadata": {},
   "outputs": [],
   "source": [
    "df['95% C.I. (lower limit) for SWR'].head()"
   ]
  },
  {
   "cell_type": "code",
   "execution_count": null,
   "metadata": {},
   "outputs": [],
   "source": [
    "df['95% C.I. (lower limit) for SWR'].tail()"
   ]
  },
  {
   "cell_type": "code",
   "execution_count": null,
   "metadata": {},
   "outputs": [],
   "source": [
    "df['95% C.I. (lower limit) for SWR'].describe()"
   ]
  },
  {
   "cell_type": "code",
   "execution_count": null,
   "metadata": {},
   "outputs": [],
   "source": [
    "# Percent unique values\n",
    "# True if facility has a value count of 1 (aka unique)\n",
    "pd.Series([facility == 1 for facility in df['95% C.I. (lower limit) for SWR'].value_counts()]).value_counts()"
   ]
  },
  {
   "cell_type": "code",
   "execution_count": null,
   "metadata": {},
   "outputs": [],
   "source": [
    "df['95% C.I. (lower limit) for SWR'].min()"
   ]
  },
  {
   "cell_type": "code",
   "execution_count": null,
   "metadata": {},
   "outputs": [],
   "source": [
    "df['95% C.I. (lower limit) for SWR'].max()"
   ]
  },
  {
   "cell_type": "code",
   "execution_count": null,
   "metadata": {},
   "outputs": [],
   "source": [
    "set([(len(str(num))) for num in df['95% C.I. (lower limit) for SWR']])"
   ]
  },
  {
   "cell_type": "markdown",
   "metadata": {},
   "source": [
    "### Number of patients in this facility for SWR\n",
    "Data type: object\n",
    "\n",
    "Value count: 7626\n",
    "\n",
    "Number of unique values: 146\n",
    "\n",
    "Percent unique values: 0.236%\n",
    "\n",
    "Ranges of values: 0 - \n",
    "\n",
    "Length of values: 1 - 3, 13 \n",
    "\n",
    "Description: Lists the number of patients in this facility for Standardized Waitlist Ratio (SWR). The Standardized Waitlist Ratio (SWR) measure tracks the number of incident patients at the dialysis facility under the age of 75 listed on the kidney or kidney-pancreas transplant waitlist or who received a living donor transplant within the first year of initiating dialysis. SWR is calculated to compare the observed waitlisting rate in the facility to the waitlisting rate that was expected. "
   ]
  },
  {
   "cell_type": "code",
   "execution_count": null,
   "metadata": {},
   "outputs": [],
   "source": [
    "df['Number of patients in this facility for SWR'].head()"
   ]
  },
  {
   "cell_type": "code",
   "execution_count": null,
   "metadata": {},
   "outputs": [],
   "source": [
    "df['Number of patients in this facility for SWR'].tail()"
   ]
  },
  {
   "cell_type": "code",
   "execution_count": null,
   "metadata": {},
   "outputs": [],
   "source": [
    "df['Number of patients in this facility for SWR'].describe()"
   ]
  },
  {
   "cell_type": "code",
   "execution_count": null,
   "metadata": {},
   "outputs": [],
   "source": [
    "# Percent unique values\n",
    "# True if facility has a value count of 1 (aka unique)\n",
    "pd.Series([facility == 1 for facility in df['Number of patients in this facility for SWR'].value_counts()]).value_counts()"
   ]
  },
  {
   "cell_type": "code",
   "execution_count": null,
   "metadata": {},
   "outputs": [],
   "source": [
    "df['Number of patients in this facility for SWR'].min()"
   ]
  },
  {
   "cell_type": "code",
   "execution_count": null,
   "metadata": {},
   "outputs": [],
   "source": [
    "df['Number of patients in this facility for SWR'].max()"
   ]
  },
  {
   "cell_type": "code",
   "execution_count": null,
   "metadata": {},
   "outputs": [],
   "source": [
    "set([(len(str(num))) for num in df['Number of patients in this facility for SWR']])"
   ]
  },
  {
   "cell_type": "markdown",
   "metadata": {},
   "source": [
    "### Standardized First Kidney Transplant Waitlist Ratio\n",
    "Data type: object\n",
    "\n",
    "Value count: 7626\n",
    "\n",
    "Number of unique values: 361\n",
    "\n",
    "Percent unique values: 0.813%\n",
    "\n",
    "Ranges of values: 0.08 - \n",
    "\n",
    "Length of values: 1 - 4, 13\n",
    "\n",
    "Description: Lists the ratio of standardized waitlist ratio (SWR) in this facility. This measure tracks the number of incident patients at the dialysis facility under the age of 75 listed on the kidney or kidney-pancreas transplant waitlist or who received living donor transplants within the first year of initiating dialysis. "
   ]
  },
  {
   "cell_type": "code",
   "execution_count": null,
   "metadata": {},
   "outputs": [],
   "source": [
    "df['Standardized First Kidney Transplant Waitlist Ratio'].head()"
   ]
  },
  {
   "cell_type": "code",
   "execution_count": null,
   "metadata": {},
   "outputs": [],
   "source": [
    "df['Standardized First Kidney Transplant Waitlist Ratio'].tail()"
   ]
  },
  {
   "cell_type": "code",
   "execution_count": null,
   "metadata": {},
   "outputs": [],
   "source": [
    "df['Standardized First Kidney Transplant Waitlist Ratio'].describe()"
   ]
  },
  {
   "cell_type": "code",
   "execution_count": null,
   "metadata": {},
   "outputs": [],
   "source": [
    "# Percent unique values\n",
    "# True if facility has a value count of 1 (aka unique)\n",
    "pd.Series([facility == 1 for facility in df['Standardized First Kidney Transplant Waitlist Ratio'].value_counts()]).value_counts()"
   ]
  },
  {
   "cell_type": "code",
   "execution_count": null,
   "metadata": {},
   "outputs": [],
   "source": [
    "df['Standardized First Kidney Transplant Waitlist Ratio'].min()"
   ]
  },
  {
   "cell_type": "code",
   "execution_count": null,
   "metadata": {},
   "outputs": [],
   "source": [
    "df['Standardized First Kidney Transplant Waitlist Ratio'].max()"
   ]
  },
  {
   "cell_type": "code",
   "execution_count": null,
   "metadata": {},
   "outputs": [],
   "source": [
    "set([(len(str(num))) for num in df['Standardized First Kidney Transplant Waitlist Ratio']])"
   ]
  },
  {
   "cell_type": "markdown",
   "metadata": {},
   "source": [
    "### PPPW category text\n",
    "Data type: object\n",
    "\n",
    "Value count: 7626\n",
    "\n",
    "Number of unique values: 4\n",
    "\n",
    "Percent unique values: 0%\n",
    "\n",
    "Ranges of values: As Expected, Worse than Expected, Better than Expected, Not Available\n",
    "\n",
    "Length of values: 11, 13, 19, 20\n",
    "\n",
    "Description: Percentage of prevalent patients waitlisted (PPPW) category text. The PPPW measure tracks the percentage of patients at each dialysis facility who were on the kidney or kidney-pancreas transplant waiting list. Results are averaged across patients prevalent on the last day of each month during the reporting year, adjusted for age.\n",
    "\n",
    "Value description:\n",
    "- As Expected          : Patient percentage of prevalent patients waitlisted (PPPW) categorized as “As Expected”       \n",
    "- Worse than Expected  :  Patient percentage of prevalent patients waitlisted (PPPW) categorized as “Worse than Expected”\n",
    "- Better than Expected : Patient percentage of prevalent patients waitlisted (PPPW) categorized as “Better than Expected\"\n",
    "- Not Available "
   ]
  },
  {
   "cell_type": "code",
   "execution_count": null,
   "metadata": {},
   "outputs": [],
   "source": [
    "df['PPPW category text'].head()"
   ]
  },
  {
   "cell_type": "code",
   "execution_count": null,
   "metadata": {},
   "outputs": [],
   "source": [
    "df['PPPW category text'].tail()"
   ]
  },
  {
   "cell_type": "code",
   "execution_count": null,
   "metadata": {},
   "outputs": [],
   "source": [
    "df['PPPW category text'].count()"
   ]
  },
  {
   "cell_type": "code",
   "execution_count": null,
   "metadata": {},
   "outputs": [],
   "source": [
    "df['PPPW category text'].value_counts()"
   ]
  },
  {
   "cell_type": "code",
   "execution_count": null,
   "metadata": {},
   "outputs": [],
   "source": [
    "set([(len(str(num))) for num in df['PPPW category text']])"
   ]
  },
  {
   "cell_type": "markdown",
   "metadata": {},
   "source": [
    "### Patient prevalent transplant waitlist data availability code\n",
    "Data type: int64\n",
    "\n",
    "Value count: 7626\n",
    "\n",
    "Number of unique values: 4\n",
    "\n",
    "Percent unique values: 0%\n",
    "\n",
    "Ranges of values: 1, 199, 201, 258\n",
    "\n",
    "Length of values: 1, 3\n",
    "\n",
    "Description: Lists whether the facility had sufficient patient prevalent transplant waitlist data available or the reason for why the data is not available."
   ]
  },
  {
   "cell_type": "code",
   "execution_count": null,
   "metadata": {},
   "outputs": [],
   "source": [
    "df['Patient prevalent transplant waitlist data availability code'].head()"
   ]
  },
  {
   "cell_type": "code",
   "execution_count": null,
   "metadata": {},
   "outputs": [],
   "source": [
    "df['Patient prevalent transplant waitlist data availability code'].tail()"
   ]
  },
  {
   "cell_type": "code",
   "execution_count": null,
   "metadata": {},
   "outputs": [],
   "source": [
    "df['Patient prevalent transplant waitlist data availability code'].count()"
   ]
  },
  {
   "cell_type": "code",
   "execution_count": null,
   "metadata": {},
   "outputs": [],
   "source": [
    "df['Patient prevalent transplant waitlist data availability code'].value_counts()"
   ]
  },
  {
   "cell_type": "markdown",
   "metadata": {},
   "source": [
    "### 95% C.I. (upper limit) for PPPW\n",
    "Data type: object\n",
    "\n",
    "Value count: 7626\n",
    "\n",
    "Number of unique values: 767\n",
    "\n",
    "Percent unique values: 1.22%\n",
    "\n",
    "Ranges of values: 0 - \n",
    "\n",
    "Length of values: 1 - 4, 13\n",
    "\n",
    "Description: Lists the upper confident interval limit (95%) for Percentage of Prevalent Patients Waitlisted (PPPW) rate per 100 patient-years. The PPPW measure tracks the percentage of patients at each dialysis facility who were on the kidney or kidney-pancreas transplant waiting list. Results are averaged across patients prevalent on the last day of each month during the reporting year, adjusted for age."
   ]
  },
  {
   "cell_type": "code",
   "execution_count": null,
   "metadata": {},
   "outputs": [],
   "source": [
    "df['95% C.I. (upper limit) for PPPW'].head()"
   ]
  },
  {
   "cell_type": "code",
   "execution_count": null,
   "metadata": {},
   "outputs": [],
   "source": [
    "df['95% C.I. (upper limit) for PPPW'].tail()"
   ]
  },
  {
   "cell_type": "code",
   "execution_count": null,
   "metadata": {},
   "outputs": [],
   "source": [
    "df['95% C.I. (upper limit) for PPPW'].describe()"
   ]
  },
  {
   "cell_type": "code",
   "execution_count": null,
   "metadata": {},
   "outputs": [],
   "source": [
    "# Percent unique values\n",
    "# True if facility has a value count of 1 (aka unique)\n",
    "pd.Series([facility == 1 for facility in df['95% C.I. (upper limit) for PPPW'].value_counts()]).value_counts()"
   ]
  },
  {
   "cell_type": "code",
   "execution_count": null,
   "metadata": {},
   "outputs": [],
   "source": [
    "df['95% C.I. (upper limit) for PPPW'].min()"
   ]
  },
  {
   "cell_type": "code",
   "execution_count": null,
   "metadata": {},
   "outputs": [],
   "source": [
    "df['95% C.I. (upper limit) for PPPW'].max()"
   ]
  },
  {
   "cell_type": "code",
   "execution_count": null,
   "metadata": {},
   "outputs": [],
   "source": [
    "set([(len(str(num))) for num in df['95% C.I. (upper limit) for PPPW']])"
   ]
  },
  {
   "cell_type": "markdown",
   "metadata": {},
   "source": [
    "### 95% C.I. (lower limit) for PPPW\n",
    "Data type: object\n",
    "\n",
    "Value count: 7626\n",
    "\n",
    "Number of unique values: 356\n",
    "\n",
    "Percent unique values: 0.918%\n",
    "\n",
    "Ranges of values: 0.1 - \n",
    "\n",
    "Length of values: 1 - 4, 13\n",
    "\n",
    "Description: Lists the lower confident interval limit (95%) for Percentage of Prevalent Patients Waitlisted (PPPW) rate per 100 patient-years. The PPPW measure tracks the percentage of patients at each dialysis facility who were on the kidney or kidney-pancreas transplant waiting list. Results are averaged across patients prevalent on the last day of each month during the reporting year, adjusted for age."
   ]
  },
  {
   "cell_type": "code",
   "execution_count": null,
   "metadata": {},
   "outputs": [],
   "source": [
    "df['95% C.I. (lower limit) for PPPW'].head()"
   ]
  },
  {
   "cell_type": "code",
   "execution_count": null,
   "metadata": {},
   "outputs": [],
   "source": [
    "df['95% C.I. (lower limit) for PPPW'].tail()"
   ]
  },
  {
   "cell_type": "code",
   "execution_count": null,
   "metadata": {},
   "outputs": [],
   "source": [
    "df['95% C.I. (lower limit) for PPPW'].describe()"
   ]
  },
  {
   "cell_type": "code",
   "execution_count": null,
   "metadata": {},
   "outputs": [],
   "source": [
    "# Percent unique values\n",
    "# True if facility has a value count of 1 (aka unique)\n",
    "pd.Series([facility == 1 for facility in df['95% C.I. (lower limit) for PPPW'].value_counts()]).value_counts()"
   ]
  },
  {
   "cell_type": "code",
   "execution_count": null,
   "metadata": {},
   "outputs": [],
   "source": [
    "df['95% C.I. (lower limit) for PPPW'].min()"
   ]
  },
  {
   "cell_type": "code",
   "execution_count": null,
   "metadata": {},
   "outputs": [],
   "source": [
    "df['95% C.I. (lower limit) for PPPW'].max()"
   ]
  },
  {
   "cell_type": "code",
   "execution_count": null,
   "metadata": {},
   "outputs": [],
   "source": [
    "set([(len(str(num))) for num in df['95% C.I. (lower limit) for PPPW']])"
   ]
  },
  {
   "cell_type": "markdown",
   "metadata": {},
   "source": [
    "### Number of patients for PPPW\n",
    "Data type: object\n",
    "\n",
    "Value count: 7626\n",
    "\n",
    "Number of unique values: 270\n",
    "\n",
    "Percent unique values: 0.603%\n",
    "\n",
    "Ranges of values: 0 - \n",
    "\n",
    "Length of values: 1 - 3, 13\n",
    "\n",
    "Description: Lists the number of patients included in the facility's percentage of prevalent patients waitlisted (PPPW). The PPPW measure tracks the percentage of patients at each dialysis facility who were on the kidney or kidney-pancreas transplant waiting list. Results are averaged across patients prevalent on the last day of each month during the reporting year, adjusted for age."
   ]
  },
  {
   "cell_type": "code",
   "execution_count": null,
   "metadata": {},
   "outputs": [],
   "source": [
    "df['Number of patients for PPPW'].head()"
   ]
  },
  {
   "cell_type": "code",
   "execution_count": null,
   "metadata": {},
   "outputs": [],
   "source": [
    "df['Number of patients for PPPW'].tail()"
   ]
  },
  {
   "cell_type": "code",
   "execution_count": null,
   "metadata": {},
   "outputs": [],
   "source": [
    "df['Number of patients for PPPW'].describe()"
   ]
  },
  {
   "cell_type": "code",
   "execution_count": null,
   "metadata": {},
   "outputs": [],
   "source": [
    "# Percent unique values\n",
    "# True if facility has a value count of 1 (aka unique)\n",
    "pd.Series([facility == 1 for facility in df['Number of patients for PPPW'].value_counts()]).value_counts()"
   ]
  },
  {
   "cell_type": "code",
   "execution_count": null,
   "metadata": {},
   "outputs": [],
   "source": [
    "df['Number of patients for PPPW'].min()"
   ]
  },
  {
   "cell_type": "code",
   "execution_count": null,
   "metadata": {},
   "outputs": [],
   "source": [
    "df['Number of patients for PPPW'].max()"
   ]
  },
  {
   "cell_type": "code",
   "execution_count": null,
   "metadata": {},
   "outputs": [],
   "source": [
    "set([(len(str(num))) for num in df['Number of patients for PPPW']])"
   ]
  },
  {
   "cell_type": "markdown",
   "metadata": {},
   "source": [
    "### Percentage of Prevalent Patients Waitlisted\n",
    "Data type: object\n",
    "\n",
    "Value count: 7626\n",
    "\n",
    "Number of unique values: 572\n",
    "\n",
    "Percent unique values: 1.13%\n",
    "\n",
    "Ranges of values: 0.1 - \n",
    "\n",
    "Length of values: 1 - 4, 13\n",
    "\n",
    "Description: Lists the percentage of prevalent patients waitlisted."
   ]
  },
  {
   "cell_type": "code",
   "execution_count": null,
   "metadata": {},
   "outputs": [],
   "source": [
    "df['Percentage of Prevalent Patients Waitlisted'].head()"
   ]
  },
  {
   "cell_type": "code",
   "execution_count": null,
   "metadata": {},
   "outputs": [],
   "source": [
    "df['Percentage of Prevalent Patients Waitlisted'].tail()"
   ]
  },
  {
   "cell_type": "code",
   "execution_count": null,
   "metadata": {},
   "outputs": [],
   "source": [
    "df['Percentage of Prevalent Patients Waitlisted'].describe()"
   ]
  },
  {
   "cell_type": "code",
   "execution_count": null,
   "metadata": {},
   "outputs": [],
   "source": [
    "# Percent unique values\n",
    "# True if facility has a value count of 1 (aka unique)\n",
    "pd.Series([facility == 1 for facility in df['Percentage of Prevalent Patients Waitlisted'].value_counts()]).value_counts()"
   ]
  },
  {
   "cell_type": "code",
   "execution_count": null,
   "metadata": {},
   "outputs": [],
   "source": [
    "df['Percentage of Prevalent Patients Waitlisted'].min()"
   ]
  },
  {
   "cell_type": "code",
   "execution_count": null,
   "metadata": {},
   "outputs": [],
   "source": [
    "df['Percentage of Prevalent Patients Waitlisted'].max()"
   ]
  },
  {
   "cell_type": "code",
   "execution_count": null,
   "metadata": {},
   "outputs": [],
   "source": [
    "set([(len(str(num))) for num in df['Percentage of Prevalent Patients Waitlisted']])"
   ]
  }
 ],
 "metadata": {
  "kernelspec": {
   "display_name": "Python 3",
   "language": "python",
   "name": "python3"
  },
  "language_info": {
   "codemirror_mode": {
    "name": "ipython",
    "version": 3
   },
   "file_extension": ".py",
   "mimetype": "text/x-python",
   "name": "python",
   "nbconvert_exporter": "python",
   "pygments_lexer": "ipython3",
   "version": "3.8.2"
  }
 },
 "nbformat": 4,
 "nbformat_minor": 4
}
