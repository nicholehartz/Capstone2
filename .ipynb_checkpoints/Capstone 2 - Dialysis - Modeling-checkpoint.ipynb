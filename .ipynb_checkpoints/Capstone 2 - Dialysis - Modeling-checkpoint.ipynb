{
 "cells": [
  {
   "cell_type": "markdown",
   "metadata": {},
   "source": [
    "# Modeling\n",
    "\n",
    "**Problem Statement:**\n",
    "What opportunities exist for the CRIC Study to investigate the effects of an individual’s choice of dialysis center on one’s kidney health in the upcoming research year?\n",
    "\n",
    "CRIC is curious to know how an individual’s choice in dialysis center affects one’s kidney health. \n",
    "\n",
    "Attempting to predict a dialysis center's star rating given the center's features. \n",
    "\n",
    "This is a classification problem."
   ]
  },
  {
   "cell_type": "markdown",
   "metadata": {},
   "source": [
    "## Import Relevant Libraries"
   ]
  },
  {
   "cell_type": "code",
   "execution_count": 1,
   "metadata": {},
   "outputs": [],
   "source": [
    "import numpy as np \n",
    "import pandas as pd \n",
    "import matplotlib.pyplot as plt \n",
    "from sklearn.preprocessing import StandardScaler\n",
    "from sklearn.model_selection import train_test_split\n",
    "from sklearn.model_selection import GridSearchCV, RandomizedSearchCV\n",
    "from sklearn.model_selection import cross_val_score\n",
    "from sklearn.metrics import make_scorer, f1_score, classification_report\n",
    "import timeit\n",
    "from sklearn.naive_bayes import GaussianNB\n",
    "from sklearn.neighbors import KNeighborsClassifier\n",
    "from sklearn.ensemble import RandomForestClassifier\n",
    "from sklearn.ensemble import GradientBoostingClassifier"
   ]
  },
  {
   "cell_type": "markdown",
   "metadata": {},
   "source": [
    "## Load Data"
   ]
  },
  {
   "cell_type": "code",
   "execution_count": 2,
   "metadata": {},
   "outputs": [],
   "source": [
    "dialysis = pd.read_csv('Data/capstone2_dialysis_scaled_data.csv', index_col=0)"
   ]
  },
  {
   "cell_type": "markdown",
   "metadata": {},
   "source": [
    "## Explore Data"
   ]
  },
  {
   "cell_type": "code",
   "execution_count": 3,
   "metadata": {},
   "outputs": [
    {
     "data": {
      "text/html": [
       "<div>\n",
       "<style scoped>\n",
       "    .dataframe tbody tr th:only-of-type {\n",
       "        vertical-align: middle;\n",
       "    }\n",
       "\n",
       "    .dataframe tbody tr th {\n",
       "        vertical-align: top;\n",
       "    }\n",
       "\n",
       "    .dataframe thead th {\n",
       "        text-align: right;\n",
       "    }\n",
       "</style>\n",
       "<table border=\"1\" class=\"dataframe\">\n",
       "  <thead>\n",
       "    <tr style=\"text-align: right;\">\n",
       "      <th></th>\n",
       "      <th>Network</th>\n",
       "      <th>Five Star</th>\n",
       "      <th>Profit Or Non-Profit</th>\n",
       "      <th>Chain Owned</th>\n",
       "      <th>Late Shift</th>\n",
       "      <th>Number Of Dialysis Stations</th>\n",
       "      <th>Offers In-Center Hemodialysis</th>\n",
       "      <th>Offers Peritoneal Dialysis</th>\n",
       "      <th>Offers Home Hemodialysis Training</th>\n",
       "      <th>Percentage Of Medicare Patients With Hgb &lt; 10 g/dL</th>\n",
       "      <th>...</th>\n",
       "      <th>Chain Organization_UPMC HEALTH SYSTEM</th>\n",
       "      <th>Chain Organization_US RENAL CARE, INC.</th>\n",
       "      <th>Chain Organization_VETERANS ADMINISTRATION</th>\n",
       "      <th>Chain Organization_WAKE FOREST UNIVERSITY</th>\n",
       "      <th>Mortality Rate Standardized</th>\n",
       "      <th>Readmission Rate Standardized</th>\n",
       "      <th>Hospitalization Rate Standardized</th>\n",
       "      <th>Standard Infection Ratio Standardized</th>\n",
       "      <th>Transfusion Rate Standardized</th>\n",
       "      <th>Fistula Rate Standardized</th>\n",
       "    </tr>\n",
       "  </thead>\n",
       "  <tbody>\n",
       "    <tr>\n",
       "      <th>0</th>\n",
       "      <td>13</td>\n",
       "      <td>2</td>\n",
       "      <td>0</td>\n",
       "      <td>1</td>\n",
       "      <td>0</td>\n",
       "      <td>18</td>\n",
       "      <td>1</td>\n",
       "      <td>1</td>\n",
       "      <td>1</td>\n",
       "      <td>21.0</td>\n",
       "      <td>...</td>\n",
       "      <td>0</td>\n",
       "      <td>0</td>\n",
       "      <td>0</td>\n",
       "      <td>0</td>\n",
       "      <td>2.140881</td>\n",
       "      <td>0.519890</td>\n",
       "      <td>0.866457</td>\n",
       "      <td>1.425778</td>\n",
       "      <td>0.736660</td>\n",
       "      <td>-0.969711</td>\n",
       "    </tr>\n",
       "    <tr>\n",
       "      <th>1</th>\n",
       "      <td>18</td>\n",
       "      <td>3</td>\n",
       "      <td>1</td>\n",
       "      <td>1</td>\n",
       "      <td>0</td>\n",
       "      <td>36</td>\n",
       "      <td>1</td>\n",
       "      <td>1</td>\n",
       "      <td>0</td>\n",
       "      <td>18.0</td>\n",
       "      <td>...</td>\n",
       "      <td>0</td>\n",
       "      <td>0</td>\n",
       "      <td>0</td>\n",
       "      <td>0</td>\n",
       "      <td>0.549616</td>\n",
       "      <td>0.506245</td>\n",
       "      <td>0.753945</td>\n",
       "      <td>0.003506</td>\n",
       "      <td>1.386172</td>\n",
       "      <td>0.502423</td>\n",
       "    </tr>\n",
       "    <tr>\n",
       "      <th>2</th>\n",
       "      <td>1</td>\n",
       "      <td>5</td>\n",
       "      <td>1</td>\n",
       "      <td>1</td>\n",
       "      <td>0</td>\n",
       "      <td>13</td>\n",
       "      <td>1</td>\n",
       "      <td>1</td>\n",
       "      <td>1</td>\n",
       "      <td>43.0</td>\n",
       "      <td>...</td>\n",
       "      <td>0</td>\n",
       "      <td>0</td>\n",
       "      <td>0</td>\n",
       "      <td>0</td>\n",
       "      <td>-1.234000</td>\n",
       "      <td>-0.953812</td>\n",
       "      <td>-0.592033</td>\n",
       "      <td>1.310012</td>\n",
       "      <td>0.717175</td>\n",
       "      <td>-0.353916</td>\n",
       "    </tr>\n",
       "    <tr>\n",
       "      <th>3</th>\n",
       "      <td>4</td>\n",
       "      <td>4</td>\n",
       "      <td>1</td>\n",
       "      <td>1</td>\n",
       "      <td>0</td>\n",
       "      <td>16</td>\n",
       "      <td>1</td>\n",
       "      <td>0</td>\n",
       "      <td>0</td>\n",
       "      <td>20.0</td>\n",
       "      <td>...</td>\n",
       "      <td>0</td>\n",
       "      <td>1</td>\n",
       "      <td>0</td>\n",
       "      <td>0</td>\n",
       "      <td>-1.024163</td>\n",
       "      <td>0.751862</td>\n",
       "      <td>-0.012804</td>\n",
       "      <td>1.161169</td>\n",
       "      <td>-0.250598</td>\n",
       "      <td>-0.555974</td>\n",
       "    </tr>\n",
       "    <tr>\n",
       "      <th>4</th>\n",
       "      <td>4</td>\n",
       "      <td>5</td>\n",
       "      <td>1</td>\n",
       "      <td>1</td>\n",
       "      <td>0</td>\n",
       "      <td>11</td>\n",
       "      <td>1</td>\n",
       "      <td>1</td>\n",
       "      <td>1</td>\n",
       "      <td>25.0</td>\n",
       "      <td>...</td>\n",
       "      <td>0</td>\n",
       "      <td>0</td>\n",
       "      <td>0</td>\n",
       "      <td>0</td>\n",
       "      <td>-3.035103</td>\n",
       "      <td>0.110528</td>\n",
       "      <td>-0.748299</td>\n",
       "      <td>-1.236849</td>\n",
       "      <td>-0.523393</td>\n",
       "      <td>-0.565595</td>\n",
       "    </tr>\n",
       "  </tbody>\n",
       "</table>\n",
       "<p>5 rows × 137 columns</p>\n",
       "</div>"
      ],
      "text/plain": [
       "   Network  Five Star  Profit Or Non-Profit  Chain Owned  Late Shift  \\\n",
       "0       13          2                     0            1           0   \n",
       "1       18          3                     1            1           0   \n",
       "2        1          5                     1            1           0   \n",
       "3        4          4                     1            1           0   \n",
       "4        4          5                     1            1           0   \n",
       "\n",
       "   Number Of Dialysis Stations  Offers In-Center Hemodialysis  \\\n",
       "0                           18                              1   \n",
       "1                           36                              1   \n",
       "2                           13                              1   \n",
       "3                           16                              1   \n",
       "4                           11                              1   \n",
       "\n",
       "   Offers Peritoneal Dialysis  Offers Home Hemodialysis Training  \\\n",
       "0                           1                                  1   \n",
       "1                           1                                  0   \n",
       "2                           1                                  1   \n",
       "3                           0                                  0   \n",
       "4                           1                                  1   \n",
       "\n",
       "   Percentage Of Medicare Patients With Hgb < 10 g/dL  ...  \\\n",
       "0                                               21.0   ...   \n",
       "1                                               18.0   ...   \n",
       "2                                               43.0   ...   \n",
       "3                                               20.0   ...   \n",
       "4                                               25.0   ...   \n",
       "\n",
       "   Chain Organization_UPMC HEALTH SYSTEM  \\\n",
       "0                                      0   \n",
       "1                                      0   \n",
       "2                                      0   \n",
       "3                                      0   \n",
       "4                                      0   \n",
       "\n",
       "   Chain Organization_US RENAL CARE, INC.  \\\n",
       "0                                       0   \n",
       "1                                       0   \n",
       "2                                       0   \n",
       "3                                       1   \n",
       "4                                       0   \n",
       "\n",
       "   Chain Organization_VETERANS ADMINISTRATION  \\\n",
       "0                                           0   \n",
       "1                                           0   \n",
       "2                                           0   \n",
       "3                                           0   \n",
       "4                                           0   \n",
       "\n",
       "   Chain Organization_WAKE FOREST UNIVERSITY  Mortality Rate Standardized  \\\n",
       "0                                          0                     2.140881   \n",
       "1                                          0                     0.549616   \n",
       "2                                          0                    -1.234000   \n",
       "3                                          0                    -1.024163   \n",
       "4                                          0                    -3.035103   \n",
       "\n",
       "   Readmission Rate Standardized  Hospitalization Rate Standardized  \\\n",
       "0                       0.519890                           0.866457   \n",
       "1                       0.506245                           0.753945   \n",
       "2                      -0.953812                          -0.592033   \n",
       "3                       0.751862                          -0.012804   \n",
       "4                       0.110528                          -0.748299   \n",
       "\n",
       "   Standard Infection Ratio Standardized  Transfusion Rate Standardized  \\\n",
       "0                               1.425778                       0.736660   \n",
       "1                               0.003506                       1.386172   \n",
       "2                               1.310012                       0.717175   \n",
       "3                               1.161169                      -0.250598   \n",
       "4                              -1.236849                      -0.523393   \n",
       "\n",
       "   Fistula Rate Standardized  \n",
       "0                  -0.969711  \n",
       "1                   0.502423  \n",
       "2                  -0.353916  \n",
       "3                  -0.555974  \n",
       "4                  -0.565595  \n",
       "\n",
       "[5 rows x 137 columns]"
      ]
     },
     "execution_count": 3,
     "metadata": {},
     "output_type": "execute_result"
    }
   ],
   "source": [
    "dialysis.head()"
   ]
  },
  {
   "cell_type": "code",
   "execution_count": 4,
   "metadata": {},
   "outputs": [
    {
     "data": {
      "text/plain": [
       "(7554, 137)"
      ]
     },
     "execution_count": 4,
     "metadata": {},
     "output_type": "execute_result"
    }
   ],
   "source": [
    "dialysis.shape"
   ]
  },
  {
   "cell_type": "code",
   "execution_count": 5,
   "metadata": {
    "scrolled": false
   },
   "outputs": [
    {
     "name": "stdout",
     "output_type": "stream",
     "text": [
      "<class 'pandas.core.frame.DataFrame'>\n",
      "Int64Index: 7554 entries, 0 to 7625\n",
      "Columns: 137 entries, Network to Fistula Rate Standardized\n",
      "dtypes: float64(18), int64(119)\n",
      "memory usage: 8.0 MB\n"
     ]
    }
   ],
   "source": [
    "dialysis.info()"
   ]
  },
  {
   "cell_type": "markdown",
   "metadata": {},
   "source": [
    "## Test Train Split"
   ]
  },
  {
   "cell_type": "code",
   "execution_count": 6,
   "metadata": {},
   "outputs": [],
   "source": [
    "# Let independent variables be features that at least moderately correlate with dependent variable (Five Star)\n",
    "# Found from looking at correlation map in EDA notebook\n",
    "X_columns =['Percent Of Adult HD Patients With Kt/V >= 1.2',\n",
    "            'Percentage Of Adult Patients With Hypercalcemia (Serum Calcium Greater Than 10.2 mg/dL)',\n",
    "            'Mortality Rate Standardized',\n",
    "            'Readmission Rate Standardized',\n",
    "            'Hospitalization Rate Standardized',\n",
    "            'Transfusion Rate Standardized',\n",
    "            'Fistula Rate Standardized',\n",
    "            'Percentage Of Adult Patients With Long Term Catheter In Use']\n",
    "X = dialysis[X_columns]\n",
    "\n",
    "# Set dependent variable to Five Star column \n",
    "y = dialysis['Five Star']"
   ]
  },
  {
   "cell_type": "code",
   "execution_count": 7,
   "metadata": {},
   "outputs": [
    {
     "name": "stdout",
     "output_type": "stream",
     "text": [
      "(5665, 8) (5665,)\n",
      "(1889, 8) (1889,)\n"
     ]
    }
   ],
   "source": [
    "# Train test split data, keeping 25% of data for test\n",
    "X_train, X_test, y_train, y_test = train_test_split(X, y, test_size=0.25)\n",
    "\n",
    "# Print train and test shapes\n",
    "print(X_train.shape, y_train.shape)\n",
    "print(X_test.shape, y_test.shape)"
   ]
  },
  {
   "cell_type": "markdown",
   "metadata": {},
   "source": [
    "## Selecting an evaluation metric"
   ]
  },
  {
   "cell_type": "code",
   "execution_count": 8,
   "metadata": {},
   "outputs": [
    {
     "data": {
      "image/png": "[encoded data removed]",
      "text/plain": [
       "<Figure size 432x288 with 1 Axes>"
      ]
     },
     "metadata": {
      "needs_background": "light"
     },
     "output_type": "display_data"
    }
   ],
   "source": [
    "# Plot Five Star to see how dependent variable is distributed\n",
    "_ = plt.hist(dialysis['Five Star'])\n",
    "_ = plt.xlabel('Star Rating')\n",
    "_ = plt.ylabel('# of Observations')\n",
    "_ = plt.title('Star Rating vs. # of Observations')"
   ]
  },
  {
   "cell_type": "markdown",
   "metadata": {},
   "source": [
    "Need ordinal, multi-class classifiers.\n",
    "\n",
    "Class imbalance in Five Star.\n",
    "\n",
    "Common metrics for evaluating this type of model: F1 Score, Accuracy, and Log-Loss.\n",
    "\n",
    "Log-loss does not differentiate between classes and only works well for symmetrical classes.\n",
    "\n",
    "F1-score is the harmonic mean of Precision and Recall and gives a better measure of the incorrectly classified cases than the Accuracy Metric.\n",
    "\n",
    "Micro-average is preferable if there is a class imbalance problem.\n",
    "\n",
    "***F1 with micro-average will be used as the evaluation metric.***"
   ]
  },
  {
   "cell_type": "markdown",
   "metadata": {},
   "source": [
    "## Modeling"
   ]
  },
  {
   "cell_type": "markdown",
   "metadata": {},
   "source": [
    "Four types of ordinal, multi-class classifiers:\n",
    "- Gaussian Naive Bayesian Classifier\n",
    "- K-Nearest Neighbor Classifier\n",
    "- Random Forest Classifier\n",
    "- Gradient Boosting Classifier"
   ]
  },
  {
   "cell_type": "markdown",
   "metadata": {},
   "source": [
    "### Model 1: Gaussian Naive Bayesian Classifier"
   ]
  },
  {
   "cell_type": "code",
   "execution_count": 9,
   "metadata": {},
   "outputs": [],
   "source": [
    "# Start time to predict model runtime\n",
    "start_gaus = timeit.default_timer()\n",
    "\n",
    "# Fit and predict model\n",
    "gaus = GaussianNB()\n",
    "gaus.fit(X_train, y_train)\n",
    "y_pred_gaus = gaus.predict(X_test)\n",
    "\n",
    "# Stop time to predict model runtime\n",
    "stop_gaus = timeit.default_timer()\n",
    "\n",
    "# Define model runtime variable\n",
    "Time_gaus = stop_gaus - start_gaus"
   ]
  },
  {
   "cell_type": "code",
   "execution_count": 10,
   "metadata": {
    "scrolled": true
   },
   "outputs": [
    {
     "name": "stdout",
     "output_type": "stream",
     "text": [
      "Classification Report: Gaussian Naive Bayesian Classifier Model\n",
      "\n",
      "              precision    recall  f1-score   support\n",
      "\n",
      "           1       0.43      0.35      0.39        37\n",
      "           2       0.46      0.37      0.41       110\n",
      "           3       0.73      0.48      0.58       783\n",
      "           4       0.43      0.67      0.53       483\n",
      "           5       0.77      0.79      0.78       476\n",
      "\n",
      "    accuracy                           0.60      1889\n",
      "   macro avg       0.56      0.53      0.54      1889\n",
      "weighted avg       0.64      0.60      0.60      1889\n",
      "\n"
     ]
    }
   ],
   "source": [
    "print('Classification Report: Gaussian Naive Bayesian Classifier Model')\n",
    "print('')\n",
    "print(classification_report(y_test, y_pred_gaus))"
   ]
  },
  {
   "cell_type": "code",
   "execution_count": 11,
   "metadata": {},
   "outputs": [
    {
     "name": "stdout",
     "output_type": "stream",
     "text": [
      "[0.52894737 0.55408971 0.58465608 0.57712766 0.54255319]\n",
      "\n",
      "Mean cross validation train score:  0.5945262619140673\n",
      "Standard deviation in train cv scores:  0.007046813490431634\n",
      "\n",
      "Mean cross validation test score:  0.5574748027806999\n",
      "Standard deviation in test cv scores:  0.02084698881834449\n",
      "\n",
      "Runtime:  0.005892632998438785\n"
     ]
    }
   ],
   "source": [
    "# Define F1 score\n",
    "F1score = make_scorer(f1_score, average='micro')\n",
    "\n",
    "# Cross-validate model performance\n",
    "cv_test_gaus = cross_val_score(gaus, X_test, y_test, cv=5, scoring=F1score)\n",
    "cv_train_gaus = cross_val_score(gaus, X_train, y_train, cv=5, scoring=F1score)\n",
    "print(cv_test_gaus)\n",
    "\n",
    "#Find average of CV scores for test & train\n",
    "cv_train_gaus_avg = cv_train_gaus.mean()\n",
    "cv_train_gaus_std = cv_train_gaus.std()\n",
    "cv_test_gaus_avg = cv_test_gaus.mean()\n",
    "cv_test_gaus_std = cv_test_gaus.std()\n",
    "print('')\n",
    "print ('Mean cross validation train score: ', cv_train_gaus_avg)\n",
    "print ('Standard deviation in train cv scores: ', cv_train_gaus_std)\n",
    "print('')\n",
    "print ('Mean cross validation test score: ', cv_test_gaus_avg)\n",
    "print ('Standard deviation in test cv scores: ', cv_test_gaus_std)\n",
    "print('')\n",
    "print('Runtime: ', Time_gaus)"
   ]
  },
  {
   "cell_type": "markdown",
   "metadata": {},
   "source": [
    "### Model 2: K-Nearest Neighbors Classifier"
   ]
  },
  {
   "cell_type": "code",
   "execution_count": 12,
   "metadata": {
    "scrolled": true
   },
   "outputs": [
    {
     "name": "stdout",
     "output_type": "stream",
     "text": [
      "{'n_neighbors': 25}\n",
      "0.6766107678729038\n"
     ]
    }
   ],
   "source": [
    "# Use GridSearchCV to find best n_neighbors parameter for K-Nearest Neighbor Model\n",
    "param_grid_knn = {'n_neighbors': [1, 5, 10, 15, 25, 50, 100, 200, 500]}\n",
    "knn = KNeighborsClassifier()\n",
    "knn_cv = GridSearchCV(knn, param_grid_knn, cv=5) # Split training data into 5 cross validations\n",
    "knn_cv.fit(X_train, y_train) \n",
    "print(knn_cv.best_params_)\n",
    "print(knn_cv.best_score_)"
   ]
  },
  {
   "cell_type": "code",
   "execution_count": 13,
   "metadata": {},
   "outputs": [],
   "source": [
    "# Define the best n_neighbors from the outcome of the above GridSearch\n",
    "best_n_neighbors_knn = knn_cv.best_params_['n_neighbors']\n",
    "\n",
    "# Start time to predict model runtime\n",
    "start_knn = timeit.default_timer()\n",
    "\n",
    "# Fit and predict model using best parameter\n",
    "knn_best = KNeighborsClassifier(n_neighbors = best_n_neighbors_knn)\n",
    "knn_best.fit(X_train, y_train)\n",
    "y_pred_knn = knn_best.predict(X_test)\n",
    "\n",
    "# Stop time to predict model runtime\n",
    "stop_knn = timeit.default_timer()\n",
    "\n",
    "# Define model runtime variable\n",
    "Time_knn = stop_knn - start_knn"
   ]
  },
  {
   "cell_type": "code",
   "execution_count": 14,
   "metadata": {},
   "outputs": [
    {
     "name": "stdout",
     "output_type": "stream",
     "text": [
      "Classification Report: K-Nearest Neighbors Classifier Model\n",
      "\n",
      "              precision    recall  f1-score   support\n",
      "\n",
      "           1       0.45      0.24      0.32        37\n",
      "           2       0.60      0.24      0.34       110\n",
      "           3       0.71      0.83      0.76       783\n",
      "           4       0.55      0.54      0.55       483\n",
      "           5       0.77      0.72      0.75       476\n",
      "\n",
      "    accuracy                           0.68      1889\n",
      "   macro avg       0.62      0.51      0.54      1889\n",
      "weighted avg       0.68      0.68      0.67      1889\n",
      "\n"
     ]
    }
   ],
   "source": [
    "print('Classification Report: K-Nearest Neighbors Classifier Model')\n",
    "print('')\n",
    "print(classification_report(y_test, y_pred_knn))"
   ]
  },
  {
   "cell_type": "code",
   "execution_count": 15,
   "metadata": {
    "scrolled": true
   },
   "outputs": [
    {
     "name": "stdout",
     "output_type": "stream",
     "text": [
      "[0.63421053 0.65171504 0.62962963 0.64095745 0.65957447]\n",
      "\n",
      "Mean cross validation train score:  0.6465945688038078\n",
      "Standard deviation in train cv scores:  0.007768708741478778\n",
      "\n",
      "Mean cross validation test score:  0.6432174220833745\n",
      "Standard deviation in test cv scores:  0.011050992899845147\n",
      "\n",
      "Runtime:  0.13205320899942308\n"
     ]
    }
   ],
   "source": [
    "# Cross-validate model performance\n",
    "cv_test_knn = cross_val_score(knn, X_test, y_test, cv=5, scoring=F1score)\n",
    "cv_train_knn = cross_val_score(knn, X_train, y_train, cv=5, scoring=F1score)\n",
    "print(cv_test_knn)\n",
    "\n",
    "#Find average of CV scores for test & train\n",
    "cv_train_knn_avg = cv_train_knn.mean()\n",
    "cv_train_knn_std = cv_train_knn.std()\n",
    "cv_test_knn_avg = cv_test_knn.mean()\n",
    "cv_test_knn_std = cv_test_knn.std()\n",
    "print('')\n",
    "print ('Mean cross validation train score: ', cv_train_knn_avg)\n",
    "print ('Standard deviation in train cv scores: ', cv_train_knn_std)\n",
    "print('')\n",
    "print ('Mean cross validation test score: ', cv_test_knn_avg)\n",
    "print ('Standard deviation in test cv scores: ', cv_test_knn_std)\n",
    "print('')\n",
    "print('Runtime: ', Time_knn)"
   ]
  },
  {
   "cell_type": "markdown",
   "metadata": {},
   "source": [
    "### Model 3: Random Forest Classifier"
   ]
  },
  {
   "cell_type": "code",
   "execution_count": 16,
   "metadata": {
    "scrolled": true
   },
   "outputs": [
    {
     "name": "stdout",
     "output_type": "stream",
     "text": [
      "{'n_estimators': 1000, 'min_samples_split': 50, 'criterion': 'gini'}\n",
      "0.7006178287731686\n"
     ]
    }
   ],
   "source": [
    "# Use RandomizedSearchCV to find best parameters for Random Forest Model\n",
    "param_grid_rf = {'n_estimators': [100, 250, 500, 750, 1000],\n",
    "                 'criterion' : ['gini', 'entropy'],\n",
    "                 'min_samples_split':[50, 100, 250]\n",
    "                }\n",
    "rf = RandomForestClassifier()\n",
    "rf_cv = RandomizedSearchCV(rf, param_grid_rf, cv=5) # Split training data into 5 cross validations\n",
    "rf_cv.fit(X_train, y_train) \n",
    "print(rf_cv.best_params_)\n",
    "print(rf_cv.best_score_)"
   ]
  },
  {
   "cell_type": "code",
   "execution_count": 17,
   "metadata": {},
   "outputs": [],
   "source": [
    "# Define the best n_estimators from the outcome of the above RandomizedSearch\n",
    "best_n_estimators_rf = rf_cv.best_params_['n_estimators']\n",
    "best_criterion_rf = rf_cv.best_params_['criterion']\n",
    "best_min_samples_split_rf = rf_cv.best_params_['min_samples_split']\n",
    "\n",
    "\n",
    "# Start time to predict model runtime\n",
    "start_rf = timeit.default_timer()\n",
    "\n",
    "# Fit and predict model using best parameter\n",
    "rf_best = RandomForestClassifier(n_estimators=best_n_estimators_rf, criterion=best_criterion_rf,\n",
    "                                 min_samples_split=best_min_samples_split_rf)\n",
    "rf_best.fit(X_train, y_train)\n",
    "y_pred_rf = rf_best.predict(X_test)\n",
    "\n",
    "# Stop time to predict model runtime\n",
    "stop_rf = timeit.default_timer()\n",
    "\n",
    "# Define model runtime variable\n",
    "Time_rf = stop_rf - start_rf"
   ]
  },
  {
   "cell_type": "code",
   "execution_count": 18,
   "metadata": {},
   "outputs": [
    {
     "name": "stdout",
     "output_type": "stream",
     "text": [
      "Classification Report: Random Forest Classifier Model\n",
      "\n",
      "              precision    recall  f1-score   support\n",
      "\n",
      "           1       1.00      0.19      0.32        37\n",
      "           2       0.57      0.15      0.24       110\n",
      "           3       0.72      0.87      0.79       783\n",
      "           4       0.56      0.55      0.56       483\n",
      "           5       0.80      0.73      0.76       476\n",
      "\n",
      "    accuracy                           0.70      1889\n",
      "   macro avg       0.73      0.50      0.53      1889\n",
      "weighted avg       0.70      0.70      0.68      1889\n",
      "\n"
     ]
    }
   ],
   "source": [
    "print('Classification Report: Random Forest Classifier Model')\n",
    "print('')\n",
    "print(classification_report(y_test, y_pred_rf))"
   ]
  },
  {
   "cell_type": "code",
   "execution_count": 19,
   "metadata": {},
   "outputs": [
    {
     "name": "stdout",
     "output_type": "stream",
     "text": [
      "[0.66578947 0.66490765 0.6984127  0.68882979 0.64361702]\n",
      "\n",
      "Mean cross validation train score:  0.6981451716675247\n",
      "Standard deviation in train cv scores:  0.008423755846951838\n",
      "\n",
      "Mean cross validation test score:  0.6723113264645173\n",
      "Standard deviation in test cv scores:  0.01936415904434412\n",
      "\n",
      "Runtime:  5.965323681997688\n"
     ]
    }
   ],
   "source": [
    "# Cross-validate model performance\n",
    "cv_test_rf = cross_val_score(rf_best, X_test, y_test, cv=5, scoring=F1score)\n",
    "cv_train_rf = cross_val_score(rf_best, X_train, y_train, cv=5, scoring=F1score)\n",
    "print(cv_test_rf)\n",
    "\n",
    "#Find average of CV scores for test & train\n",
    "cv_train_rf_avg = cv_train_rf.mean()\n",
    "cv_train_rf_std = cv_train_rf.std()\n",
    "cv_test_rf_avg = cv_test_rf.mean()\n",
    "cv_test_rf_std = cv_test_rf.std()\n",
    "print('')\n",
    "print ('Mean cross validation train score: ', cv_train_rf_avg)\n",
    "print ('Standard deviation in train cv scores: ', cv_train_rf_std)\n",
    "print('')\n",
    "print ('Mean cross validation test score: ', cv_test_rf_avg)\n",
    "print ('Standard deviation in test cv scores: ', cv_test_rf_std)\n",
    "print('')\n",
    "print('Runtime: ', Time_rf)"
   ]
  },
  {
   "cell_type": "markdown",
   "metadata": {},
   "source": [
    "### Model 4: Gradient Boosting Classifier"
   ]
  },
  {
   "cell_type": "code",
   "execution_count": 20,
   "metadata": {
    "scrolled": false
   },
   "outputs": [
    {
     "name": "stdout",
     "output_type": "stream",
     "text": [
      "{'n_estimators': 100, 'min_samples_split': 250, 'learning_rate': 0.15}\n",
      "0.7225066195939982\n"
     ]
    }
   ],
   "source": [
    "# Use RandomizedSearchCV to find best parameters for Gradient Boost Model\n",
    "param_grid_gb = {'learning_rate':[0.30, 0.15,0.1,0.05,0.01], \n",
    "                 'n_estimators':[100,250,500,750,1000],\n",
    "                 'min_samples_split':[50, 100, 250]\n",
    "                }\n",
    "gb = GradientBoostingClassifier()\n",
    "gb_cv = RandomizedSearchCV(gb, param_grid_gb, cv=5) # Split training data into 5 cross validations\n",
    "gb_cv.fit(X_train, y_train)\n",
    "print(gb_cv.best_params_)\n",
    "print(gb_cv.best_score_)"
   ]
  },
  {
   "cell_type": "code",
   "execution_count": 21,
   "metadata": {},
   "outputs": [],
   "source": [
    "# Define the best parameters from the outcome of the above RandomizedSearch\n",
    "best_learning_rate_gb = gb_cv.best_params_['learning_rate']\n",
    "best_n_estimators_gb = gb_cv.best_params_['n_estimators']\n",
    "best_min_samples_split_gb = gb_cv.best_params_['min_samples_split']\n",
    "\n",
    "# Start time to predict model runtime\n",
    "start_gb = timeit.default_timer()\n",
    "\n",
    "# Fit and predict model using best parameter\n",
    "gb_best = GradientBoostingClassifier(learning_rate=best_learning_rate_gb, n_estimators=best_n_estimators_gb, \n",
    "                                     min_samples_split=best_min_samples_split_gb)\n",
    "gb_best.fit(X_train, y_train)\n",
    "y_pred_gb = gb_best.predict(X_test)\n",
    "\n",
    "# Stop time to predict model runtime\n",
    "stop_gb = timeit.default_timer()\n",
    "\n",
    "# Define model runtime variable\n",
    "Time_gb = stop_gb - start_gb"
   ]
  },
  {
   "cell_type": "code",
   "execution_count": 22,
   "metadata": {},
   "outputs": [
    {
     "name": "stdout",
     "output_type": "stream",
     "text": [
      "Classification Report: Gradient Boosting Classifier Model\n",
      "\n",
      "              precision    recall  f1-score   support\n",
      "\n",
      "           1       0.65      0.46      0.54        37\n",
      "           2       0.59      0.36      0.45       110\n",
      "           3       0.77      0.84      0.80       783\n",
      "           4       0.61      0.64      0.62       483\n",
      "           5       0.84      0.76      0.80       476\n",
      "\n",
      "    accuracy                           0.73      1889\n",
      "   macro avg       0.69      0.61      0.64      1889\n",
      "weighted avg       0.73      0.73      0.73      1889\n",
      "\n"
     ]
    }
   ],
   "source": [
    "print('Classification Report: Gradient Boosting Classifier Model')\n",
    "print('')\n",
    "print(classification_report(y_test, y_pred_gb))"
   ]
  },
  {
   "cell_type": "code",
   "execution_count": 23,
   "metadata": {},
   "outputs": [
    {
     "name": "stdout",
     "output_type": "stream",
     "text": [
      "[0.7        0.67282322 0.66931217 0.71542553 0.68617021]\n",
      "\n",
      "Mean cross validation train score:  0.7224986104958611\n",
      "Standard deviation in train cv scores:  0.007247640039723981\n",
      "\n",
      "Mean cross validation test score:  0.6887462265980764\n",
      "Standard deviation in test cv scores:  0.01718309255563394\n",
      "\n",
      "Runtime:  1.8503790989998379\n"
     ]
    }
   ],
   "source": [
    "# Cross-validate model performance\n",
    "cv_test_gb = cross_val_score(gb_best, X_test, y_test, cv=5, scoring=F1score)\n",
    "cv_train_gb = cross_val_score(gb_best, X_train, y_train, cv=5, scoring=F1score)\n",
    "print(cv_test_gb)\n",
    "\n",
    "#Find average of CV scores for test & train\n",
    "cv_train_gb_avg = cv_train_gb.mean()\n",
    "cv_train_gb_std = cv_train_gb.std()\n",
    "cv_test_gb_avg = cv_test_gb.mean()\n",
    "cv_test_gb_std = cv_test_gb.std()\n",
    "print('')\n",
    "print ('Mean cross validation train score: ', cv_train_gb_avg)\n",
    "print ('Standard deviation in train cv scores: ', cv_train_gb_std)\n",
    "print('')\n",
    "print ('Mean cross validation test score: ', cv_test_gb_avg)\n",
    "print ('Standard deviation in test cv scores: ', cv_test_gb_std)\n",
    "print('')\n",
    "print('Runtime: ', Time_gb)"
   ]
  },
  {
   "cell_type": "markdown",
   "metadata": {},
   "source": [
    "## Models Compared"
   ]
  },
  {
   "cell_type": "code",
   "execution_count": 24,
   "metadata": {},
   "outputs": [
    {
     "data": {
      "text/html": [
       "<div>\n",
       "<style scoped>\n",
       "    .dataframe tbody tr th:only-of-type {\n",
       "        vertical-align: middle;\n",
       "    }\n",
       "\n",
       "    .dataframe tbody tr th {\n",
       "        vertical-align: top;\n",
       "    }\n",
       "\n",
       "    .dataframe thead th {\n",
       "        text-align: right;\n",
       "    }\n",
       "</style>\n",
       "<table border=\"1\" class=\"dataframe\">\n",
       "  <thead>\n",
       "    <tr style=\"text-align: right;\">\n",
       "      <th></th>\n",
       "      <th>Model Type</th>\n",
       "      <th>Accuracy Train Score</th>\n",
       "      <th>Accuracy Test Score</th>\n",
       "      <th>Runtime</th>\n",
       "    </tr>\n",
       "  </thead>\n",
       "  <tbody>\n",
       "    <tr>\n",
       "      <th>1</th>\n",
       "      <td>Gaussian Naive Bayesian</td>\n",
       "      <td>0.594526</td>\n",
       "      <td>0.557475</td>\n",
       "      <td>0.005893</td>\n",
       "    </tr>\n",
       "    <tr>\n",
       "      <th>2</th>\n",
       "      <td>K-Nearest Neighbors</td>\n",
       "      <td>0.646595</td>\n",
       "      <td>0.643217</td>\n",
       "      <td>0.132053</td>\n",
       "    </tr>\n",
       "    <tr>\n",
       "      <th>3</th>\n",
       "      <td>Random Forest</td>\n",
       "      <td>0.698145</td>\n",
       "      <td>0.672311</td>\n",
       "      <td>5.965324</td>\n",
       "    </tr>\n",
       "    <tr>\n",
       "      <th>4</th>\n",
       "      <td>Gradient Boosting</td>\n",
       "      <td>0.722499</td>\n",
       "      <td>0.688746</td>\n",
       "      <td>1.850379</td>\n",
       "    </tr>\n",
       "  </tbody>\n",
       "</table>\n",
       "</div>"
      ],
      "text/plain": [
       "                Model Type  Accuracy Train Score  Accuracy Test Score  \\\n",
       "1  Gaussian Naive Bayesian              0.594526             0.557475   \n",
       "2      K-Nearest Neighbors              0.646595             0.643217   \n",
       "3            Random Forest              0.698145             0.672311   \n",
       "4        Gradient Boosting              0.722499             0.688746   \n",
       "\n",
       "    Runtime  \n",
       "1  0.005893  \n",
       "2  0.132053  \n",
       "3  5.965324  \n",
       "4  1.850379  "
      ]
     },
     "execution_count": 24,
     "metadata": {},
     "output_type": "execute_result"
    }
   ],
   "source": [
    "model_name = ['Gaussian Naive Bayesian', 'K-Nearest Neighbors', 'Random Forest', 'Gradient Boosting']\n",
    "cv_test_model = [cv_test_gaus_avg, cv_test_knn_avg, cv_test_rf_avg, cv_test_gb_avg]\n",
    "cv_train_model = [cv_train_gaus_avg, cv_train_knn_avg, cv_train_rf_avg, cv_train_gb_avg]\n",
    "model_time = [Time_gaus, Time_knn, Time_rf, Time_gb]\n",
    "\n",
    "modelscompared = pd.DataFrame(list(zip(model_name, cv_train_model, cv_test_model, model_time)), \n",
    "                              columns =['Model Type', 'Accuracy Train Score', 'Accuracy Test Score', 'Runtime' ],\n",
    "                             index=[1,2,3,4]) \n",
    "modelscompared"
   ]
  },
  {
   "cell_type": "code",
   "execution_count": 25,
   "metadata": {},
   "outputs": [
    {
     "data": {
      "image/png": "[encoded data removed]",
      "text/plain": [
       "<Figure size 720x360 with 1 Axes>"
      ]
     },
     "metadata": {
      "needs_background": "light"
     },
     "output_type": "display_data"
    }
   ],
   "source": [
    "# Visually compare training and test models\n",
    "index = [1, 2, 3, 4]\n",
    "index_acc = [1.2, 2.2, 3.2, 4.2]\n",
    "modelscompared_plot = plt.figure(figsize=(10, 5))\n",
    "modelscompared_plot = plt.xlabel('Models', fontsize=15)\n",
    "modelscompared_plot = plt.ylabel ('Accuracy scores', fontsize=15)\n",
    "modelscompared_plot = plt.title('Models Compared', fontsize=15)\n",
    "modelscompared_plot = plt.bar(index,cv_train_model, label='Train', width=0.2)\n",
    "modelscompared_plot = plt.bar(index_acc,cv_test_model, label='Test', width=0.2)\n",
    "modelscompared_plot = plt.xticks([1, 2, 3, 4], model_name)\n",
    "modelscompared_plot = plt.legend()\n",
    "plt.show()"
   ]
  },
  {
   "cell_type": "markdown",
   "metadata": {},
   "source": [
    "## Best Model: Gradient Boosting"
   ]
  },
  {
   "cell_type": "markdown",
   "metadata": {},
   "source": [
    "Gradient Boosting has the highest F1 scores but Random Forest is a close second. Gradient Boosting, also, tends to run quicker than Random Forest. Therefore, the best model appears to be Gradient Boosting."
   ]
  },
  {
   "cell_type": "markdown",
   "metadata": {},
   "source": [
    "## Feature importance in Gradient Boosting Model"
   ]
  },
  {
   "cell_type": "code",
   "execution_count": 26,
   "metadata": {},
   "outputs": [
    {
     "data": {
      "text/html": [
       "<div>\n",
       "<style scoped>\n",
       "    .dataframe tbody tr th:only-of-type {\n",
       "        vertical-align: middle;\n",
       "    }\n",
       "\n",
       "    .dataframe tbody tr th {\n",
       "        vertical-align: top;\n",
       "    }\n",
       "\n",
       "    .dataframe thead th {\n",
       "        text-align: right;\n",
       "    }\n",
       "</style>\n",
       "<table border=\"1\" class=\"dataframe\">\n",
       "  <thead>\n",
       "    <tr style=\"text-align: right;\">\n",
       "      <th></th>\n",
       "      <th>Features</th>\n",
       "      <th>Importance scores</th>\n",
       "    </tr>\n",
       "  </thead>\n",
       "  <tbody>\n",
       "    <tr>\n",
       "      <th>1</th>\n",
       "      <td>Percent Of Adult HD Patients With Kt/V &gt;= 1.2</td>\n",
       "      <td>0.066513</td>\n",
       "    </tr>\n",
       "    <tr>\n",
       "      <th>2</th>\n",
       "      <td>Percentage Of Adult Patients With Hypercalcemi...</td>\n",
       "      <td>0.074421</td>\n",
       "    </tr>\n",
       "    <tr>\n",
       "      <th>3</th>\n",
       "      <td>Mortality Rate Standardized</td>\n",
       "      <td>0.075209</td>\n",
       "    </tr>\n",
       "    <tr>\n",
       "      <th>4</th>\n",
       "      <td>Readmission Rate Standardized</td>\n",
       "      <td>0.086247</td>\n",
       "    </tr>\n",
       "    <tr>\n",
       "      <th>5</th>\n",
       "      <td>Hospitalization Rate Standardized</td>\n",
       "      <td>0.093333</td>\n",
       "    </tr>\n",
       "    <tr>\n",
       "      <th>6</th>\n",
       "      <td>Transfusion Rate Standardized</td>\n",
       "      <td>0.169324</td>\n",
       "    </tr>\n",
       "    <tr>\n",
       "      <th>7</th>\n",
       "      <td>Fistula Rate Standardized</td>\n",
       "      <td>0.211730</td>\n",
       "    </tr>\n",
       "    <tr>\n",
       "      <th>8</th>\n",
       "      <td>Percentage Of Adult Patients With Long Term Ca...</td>\n",
       "      <td>0.223223</td>\n",
       "    </tr>\n",
       "  </tbody>\n",
       "</table>\n",
       "</div>"
      ],
      "text/plain": [
       "                                            Features  Importance scores\n",
       "1      Percent Of Adult HD Patients With Kt/V >= 1.2           0.066513\n",
       "2  Percentage Of Adult Patients With Hypercalcemi...           0.074421\n",
       "3                        Mortality Rate Standardized           0.075209\n",
       "4                      Readmission Rate Standardized           0.086247\n",
       "5                  Hospitalization Rate Standardized           0.093333\n",
       "6                      Transfusion Rate Standardized           0.169324\n",
       "7                          Fistula Rate Standardized           0.211730\n",
       "8  Percentage Of Adult Patients With Long Term Ca...           0.223223"
      ]
     },
     "execution_count": 26,
     "metadata": {},
     "output_type": "execute_result"
    }
   ],
   "source": [
    "# Rank feature importance\n",
    "features = X\n",
    "importances = list(gb_best.feature_importances_)\n",
    "importances_sorted = np.sort(importances)\n",
    "importance_table = pd.DataFrame(list(zip(X, importances_sorted)), columns =['Features', 'Importance scores'],\n",
    "                               index=[1, 2, 3, 4, 5, 6, 7, 8]) \n",
    "importance_table"
   ]
  },
  {
   "cell_type": "code",
   "execution_count": 27,
   "metadata": {
    "scrolled": true
   },
   "outputs": [
    {
     "data": {
      "image/png": "[encoded data removed]",
      "text/plain": [
       "<Figure size 720x360 with 1 Axes>"
      ]
     },
     "metadata": {
      "needs_background": "light"
     },
     "output_type": "display_data"
    }
   ],
   "source": [
    "# Bar graph of feature importance\n",
    "index = [0, 1, 2, 3, 4, 5, 6, 7]\n",
    "importance_plot = plt.figure(figsize=(10, 5))\n",
    "importance_plot = plt.barh(index, importances_sorted)\n",
    "importance_plot = plt.xlabel('Relative Importance', fontsize=15)\n",
    "importance_plot = plt.yticks(index, features)\n",
    "importance_plot = plt.title('Feature Importances for Gradient Boosting Classifier Model', fontsize=15)\n",
    "plt.show()"
   ]
  }
 ],
 "metadata": {
  "kernelspec": {
   "display_name": "Python 3",
   "language": "python",
   "name": "python3"
  },
  "language_info": {
   "codemirror_mode": {
    "name": "ipython",
    "version": 3
   },
   "file_extension": ".py",
   "mimetype": "text/x-python",
   "name": "python",
   "nbconvert_exporter": "python",
   "pygments_lexer": "ipython3",
   "version": "3.6.10"
  }
 },
 "nbformat": 4,
 "nbformat_minor": 4
}
