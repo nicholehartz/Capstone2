{
 "cells": [
  {
   "cell_type": "markdown",
   "metadata": {},
   "source": [
    "# Modeling\n",
    "\n",
    "**Problem Statement:**\n",
    "What opportunities exist for the CRIC Study to investigate the effects of an individual’s choice of dialysis center on one’s kidney health in the upcoming research year?\n",
    "\n",
    "CRIC is curious to know how an individual’s choice in dialysis center affects one’s kidney health. \n",
    "\n",
    "Attempting to predict a dialysis center's star rating given the center's features. \n",
    "\n",
    "This is a classification problem."
   ]
  },
  {
   "cell_type": "markdown",
   "metadata": {},
   "source": [
    "## Import Relevant Libraries"
   ]
  },
  {
   "cell_type": "code",
   "execution_count": 1,
   "metadata": {},
   "outputs": [
    {
     "name": "stdout",
     "output_type": "stream",
     "text": [
      "Requirement already satisfied: xgboost in /Users/nicholehartz/opt/anaconda3/envs/TestEnv/lib/python3.6/site-packages (1.2.1)\n",
      "Requirement already satisfied: scipy in /Users/nicholehartz/opt/anaconda3/envs/TestEnv/lib/python3.6/site-packages (from xgboost) (1.5.2)\n",
      "Requirement already satisfied: numpy in /Users/nicholehartz/opt/anaconda3/envs/TestEnv/lib/python3.6/site-packages (from xgboost) (1.19.2)\n",
      "Note: you may need to restart the kernel to use updated packages.\n"
     ]
    }
   ],
   "source": [
    "%pip install xgboost"
   ]
  },
  {
   "cell_type": "code",
   "execution_count": 2,
   "metadata": {},
   "outputs": [],
   "source": [
    "import numpy as np \n",
    "import pandas as pd \n",
    "import matplotlib.pyplot as plt \n",
    "from sklearn.preprocessing import StandardScaler\n",
    "from sklearn.model_selection import train_test_split\n",
    "from sklearn.model_selection import RandomizedSearchCV\n",
    "from sklearn.model_selection import cross_val_score\n",
    "from sklearn.metrics import make_scorer, f1_score, classification_report\n",
    "import timeit\n",
    "from sklearn.naive_bayes import GaussianNB\n",
    "from sklearn.neighbors import KNeighborsClassifier\n",
    "from sklearn.ensemble import RandomForestClassifier\n",
    "from sklearn.ensemble import GradientBoostingClassifier\n",
    "from xgboost import XGBClassifier"
   ]
  },
  {
   "cell_type": "markdown",
   "metadata": {},
   "source": [
    "## Load Data"
   ]
  },
  {
   "cell_type": "code",
   "execution_count": 3,
   "metadata": {},
   "outputs": [],
   "source": [
    "dialysis = pd.read_csv('Data/capstone2_dialysis_scaled_data.csv', index_col=0)"
   ]
  },
  {
   "cell_type": "markdown",
   "metadata": {},
   "source": [
    "## Explore Data"
   ]
  },
  {
   "cell_type": "code",
   "execution_count": 4,
   "metadata": {},
   "outputs": [
    {
     "data": {
      "text/html": [
       "<div>\n",
       "<style scoped>\n",
       "    .dataframe tbody tr th:only-of-type {\n",
       "        vertical-align: middle;\n",
       "    }\n",
       "\n",
       "    .dataframe tbody tr th {\n",
       "        vertical-align: top;\n",
       "    }\n",
       "\n",
       "    .dataframe thead th {\n",
       "        text-align: right;\n",
       "    }\n",
       "</style>\n",
       "<table border=\"1\" class=\"dataframe\">\n",
       "  <thead>\n",
       "    <tr style=\"text-align: right;\">\n",
       "      <th></th>\n",
       "      <th>Network</th>\n",
       "      <th>Star Rating</th>\n",
       "      <th>Profit Or Non-Profit</th>\n",
       "      <th>Chain Owned</th>\n",
       "      <th>Late Shift</th>\n",
       "      <th>Number Of Dialysis Stations</th>\n",
       "      <th>Offers In-Center Hemodialysis</th>\n",
       "      <th>Offers Peritoneal Dialysis</th>\n",
       "      <th>Offers Home Hemodialysis Training</th>\n",
       "      <th>Percentage Of Medicare Patients With Hgb &lt; 10 g/dL</th>\n",
       "      <th>...</th>\n",
       "      <th>Chain Organization_UPMC HEALTH SYSTEM</th>\n",
       "      <th>Chain Organization_US RENAL CARE, INC.</th>\n",
       "      <th>Chain Organization_VETERANS ADMINISTRATION</th>\n",
       "      <th>Chain Organization_WAKE FOREST UNIVERSITY</th>\n",
       "      <th>Mortality Rate Standardized</th>\n",
       "      <th>Readmission Rate Standardized</th>\n",
       "      <th>Hospitalization Rate Standardized</th>\n",
       "      <th>Standard Infection Ratio Standardized</th>\n",
       "      <th>Transfusion Rate Standardized</th>\n",
       "      <th>Fistula Rate Standardized</th>\n",
       "    </tr>\n",
       "  </thead>\n",
       "  <tbody>\n",
       "    <tr>\n",
       "      <th>0</th>\n",
       "      <td>15</td>\n",
       "      <td>4</td>\n",
       "      <td>1.0</td>\n",
       "      <td>1</td>\n",
       "      <td>0</td>\n",
       "      <td>25</td>\n",
       "      <td>1</td>\n",
       "      <td>0</td>\n",
       "      <td>0</td>\n",
       "      <td>8.0</td>\n",
       "      <td>...</td>\n",
       "      <td>0</td>\n",
       "      <td>0</td>\n",
       "      <td>0</td>\n",
       "      <td>0</td>\n",
       "      <td>0.612019</td>\n",
       "      <td>0.398541</td>\n",
       "      <td>0.728344</td>\n",
       "      <td>-0.429368</td>\n",
       "      <td>0.299147</td>\n",
       "      <td>0.941218</td>\n",
       "    </tr>\n",
       "    <tr>\n",
       "      <th>1</th>\n",
       "      <td>13</td>\n",
       "      <td>3</td>\n",
       "      <td>1.0</td>\n",
       "      <td>1</td>\n",
       "      <td>0</td>\n",
       "      <td>8</td>\n",
       "      <td>1</td>\n",
       "      <td>1</td>\n",
       "      <td>0</td>\n",
       "      <td>14.0</td>\n",
       "      <td>...</td>\n",
       "      <td>0</td>\n",
       "      <td>0</td>\n",
       "      <td>0</td>\n",
       "      <td>0</td>\n",
       "      <td>0.334021</td>\n",
       "      <td>-1.137963</td>\n",
       "      <td>-1.416908</td>\n",
       "      <td>0.456109</td>\n",
       "      <td>-0.370687</td>\n",
       "      <td>0.834302</td>\n",
       "    </tr>\n",
       "    <tr>\n",
       "      <th>2</th>\n",
       "      <td>15</td>\n",
       "      <td>5</td>\n",
       "      <td>1.0</td>\n",
       "      <td>1</td>\n",
       "      <td>0</td>\n",
       "      <td>12</td>\n",
       "      <td>1</td>\n",
       "      <td>1</td>\n",
       "      <td>0</td>\n",
       "      <td>0.0</td>\n",
       "      <td>...</td>\n",
       "      <td>0</td>\n",
       "      <td>0</td>\n",
       "      <td>0</td>\n",
       "      <td>0</td>\n",
       "      <td>-0.532677</td>\n",
       "      <td>0.528754</td>\n",
       "      <td>-2.096272</td>\n",
       "      <td>0.148903</td>\n",
       "      <td>-1.265946</td>\n",
       "      <td>2.729630</td>\n",
       "    </tr>\n",
       "    <tr>\n",
       "      <th>3</th>\n",
       "      <td>7</td>\n",
       "      <td>2</td>\n",
       "      <td>1.0</td>\n",
       "      <td>1</td>\n",
       "      <td>0</td>\n",
       "      <td>16</td>\n",
       "      <td>1</td>\n",
       "      <td>1</td>\n",
       "      <td>0</td>\n",
       "      <td>15.0</td>\n",
       "      <td>...</td>\n",
       "      <td>0</td>\n",
       "      <td>0</td>\n",
       "      <td>0</td>\n",
       "      <td>0</td>\n",
       "      <td>1.936596</td>\n",
       "      <td>-0.643156</td>\n",
       "      <td>1.858595</td>\n",
       "      <td>-0.700432</td>\n",
       "      <td>2.199157</td>\n",
       "      <td>-0.370931</td>\n",
       "    </tr>\n",
       "    <tr>\n",
       "      <th>4</th>\n",
       "      <td>6</td>\n",
       "      <td>4</td>\n",
       "      <td>1.0</td>\n",
       "      <td>1</td>\n",
       "      <td>0</td>\n",
       "      <td>13</td>\n",
       "      <td>1</td>\n",
       "      <td>1</td>\n",
       "      <td>1</td>\n",
       "      <td>19.0</td>\n",
       "      <td>...</td>\n",
       "      <td>0</td>\n",
       "      <td>0</td>\n",
       "      <td>0</td>\n",
       "      <td>0</td>\n",
       "      <td>0.121435</td>\n",
       "      <td>1.062624</td>\n",
       "      <td>0.099529</td>\n",
       "      <td>-0.122161</td>\n",
       "      <td>0.440843</td>\n",
       "      <td>0.902340</td>\n",
       "    </tr>\n",
       "  </tbody>\n",
       "</table>\n",
       "<p>5 rows × 137 columns</p>\n",
       "</div>"
      ],
      "text/plain": [
       "   Network  Star Rating  Profit Or Non-Profit  Chain Owned  Late Shift  \\\n",
       "0       15            4                   1.0            1           0   \n",
       "1       13            3                   1.0            1           0   \n",
       "2       15            5                   1.0            1           0   \n",
       "3        7            2                   1.0            1           0   \n",
       "4        6            4                   1.0            1           0   \n",
       "\n",
       "   Number Of Dialysis Stations  Offers In-Center Hemodialysis  \\\n",
       "0                           25                              1   \n",
       "1                            8                              1   \n",
       "2                           12                              1   \n",
       "3                           16                              1   \n",
       "4                           13                              1   \n",
       "\n",
       "   Offers Peritoneal Dialysis  Offers Home Hemodialysis Training  \\\n",
       "0                           0                                  0   \n",
       "1                           1                                  0   \n",
       "2                           1                                  0   \n",
       "3                           1                                  0   \n",
       "4                           1                                  1   \n",
       "\n",
       "   Percentage Of Medicare Patients With Hgb < 10 g/dL  ...  \\\n",
       "0                                                8.0   ...   \n",
       "1                                               14.0   ...   \n",
       "2                                                0.0   ...   \n",
       "3                                               15.0   ...   \n",
       "4                                               19.0   ...   \n",
       "\n",
       "   Chain Organization_UPMC HEALTH SYSTEM  \\\n",
       "0                                      0   \n",
       "1                                      0   \n",
       "2                                      0   \n",
       "3                                      0   \n",
       "4                                      0   \n",
       "\n",
       "   Chain Organization_US RENAL CARE, INC.  \\\n",
       "0                                       0   \n",
       "1                                       0   \n",
       "2                                       0   \n",
       "3                                       0   \n",
       "4                                       0   \n",
       "\n",
       "   Chain Organization_VETERANS ADMINISTRATION  \\\n",
       "0                                           0   \n",
       "1                                           0   \n",
       "2                                           0   \n",
       "3                                           0   \n",
       "4                                           0   \n",
       "\n",
       "   Chain Organization_WAKE FOREST UNIVERSITY  Mortality Rate Standardized  \\\n",
       "0                                          0                     0.612019   \n",
       "1                                          0                     0.334021   \n",
       "2                                          0                    -0.532677   \n",
       "3                                          0                     1.936596   \n",
       "4                                          0                     0.121435   \n",
       "\n",
       "   Readmission Rate Standardized  Hospitalization Rate Standardized  \\\n",
       "0                       0.398541                           0.728344   \n",
       "1                      -1.137963                          -1.416908   \n",
       "2                       0.528754                          -2.096272   \n",
       "3                      -0.643156                           1.858595   \n",
       "4                       1.062624                           0.099529   \n",
       "\n",
       "   Standard Infection Ratio Standardized  Transfusion Rate Standardized  \\\n",
       "0                              -0.429368                       0.299147   \n",
       "1                               0.456109                      -0.370687   \n",
       "2                               0.148903                      -1.265946   \n",
       "3                              -0.700432                       2.199157   \n",
       "4                              -0.122161                       0.440843   \n",
       "\n",
       "   Fistula Rate Standardized  \n",
       "0                   0.941218  \n",
       "1                   0.834302  \n",
       "2                   2.729630  \n",
       "3                  -0.370931  \n",
       "4                   0.902340  \n",
       "\n",
       "[5 rows x 137 columns]"
      ]
     },
     "execution_count": 4,
     "metadata": {},
     "output_type": "execute_result"
    }
   ],
   "source": [
    "dialysis.head()"
   ]
  },
  {
   "cell_type": "code",
   "execution_count": 5,
   "metadata": {},
   "outputs": [
    {
     "data": {
      "text/plain": [
       "(7666, 137)"
      ]
     },
     "execution_count": 5,
     "metadata": {},
     "output_type": "execute_result"
    }
   ],
   "source": [
    "dialysis.shape"
   ]
  },
  {
   "cell_type": "code",
   "execution_count": 6,
   "metadata": {
    "scrolled": false
   },
   "outputs": [
    {
     "name": "stdout",
     "output_type": "stream",
     "text": [
      "<class 'pandas.core.frame.DataFrame'>\n",
      "Int64Index: 7666 entries, 0 to 7723\n",
      "Columns: 137 entries, Network to Fistula Rate Standardized\n",
      "dtypes: float64(19), int64(118)\n",
      "memory usage: 8.1 MB\n"
     ]
    }
   ],
   "source": [
    "dialysis.info()"
   ]
  },
  {
   "cell_type": "markdown",
   "metadata": {},
   "source": [
    "## Test Train Split"
   ]
  },
  {
   "cell_type": "code",
   "execution_count": 7,
   "metadata": {},
   "outputs": [],
   "source": [
    "# Let independent variables be features that at least moderately correlate with dependent variable (Five Star)\n",
    "# Found from looking at correlation map in EDA notebook\n",
    "X_columns =['Percent Of Adult HD Patients With Kt/V >= 1.2',\n",
    "            'Percentage Of Adult Patients With Hypercalcemia (Serum Calcium Greater Than 10.2 mg/dL)',\n",
    "            'Mortality Rate Standardized',\n",
    "            'Readmission Rate Standardized',\n",
    "            'Hospitalization Rate Standardized',\n",
    "            'Transfusion Rate Standardized',\n",
    "            'Fistula Rate Standardized',\n",
    "            'Percentage Of Adult Patients With Long Term Catheter In Use']\n",
    "X = dialysis[X_columns]\n",
    "\n",
    "# Set dependent variable to Five Star column \n",
    "y = dialysis['Star Rating']"
   ]
  },
  {
   "cell_type": "code",
   "execution_count": 8,
   "metadata": {},
   "outputs": [
    {
     "name": "stdout",
     "output_type": "stream",
     "text": [
      "(5749, 8) (5749,)\n",
      "(1917, 8) (1917,)\n"
     ]
    }
   ],
   "source": [
    "# Train test split data, keeping 25% of data for test\n",
    "X_train, X_test, y_train, y_test = train_test_split(X, y, test_size=0.25)\n",
    "\n",
    "# Print train and test shapes\n",
    "print(X_train.shape, y_train.shape)\n",
    "print(X_test.shape, y_test.shape)"
   ]
  },
  {
   "cell_type": "markdown",
   "metadata": {},
   "source": [
    "## Selecting an evaluation metric"
   ]
  },
  {
   "cell_type": "code",
   "execution_count": 9,
   "metadata": {},
   "outputs": [
    {
     "data": {
      "image/png": "[encoded data removed]",
      "text/plain": [
       "<Figure size 432x288 with 1 Axes>"
      ]
     },
     "metadata": {
      "needs_background": "light"
     },
     "output_type": "display_data"
    }
   ],
   "source": [
    "# Plot Five Star to see how dependent variable is distributed\n",
    "_ = plt.hist(dialysis['Star Rating'])\n",
    "_ = plt.xlabel('Star Rating')\n",
    "_ = plt.ylabel('Number of Dialysis Centers')\n",
    "_ = plt.title('Star Rating vs. # of Observations')"
   ]
  },
  {
   "cell_type": "markdown",
   "metadata": {},
   "source": [
    "Need ordinal, multi-class classifiers.\n",
    "\n",
    "Class imbalance in Star Rating.\n",
    "\n",
    "Common metrics for evaluating this type of model: F1 Score, Accuracy, and Log-Loss.\n",
    "\n",
    "Log-loss does not differentiate between classes and only works well for symmetrical classes.\n",
    "\n",
    "F1-score is the harmonic mean of Precision and Recall and gives a better measure of the incorrectly classified cases than the Accuracy Metric.\n",
    "\n",
    "Micro-average is preferable if there is a class imbalance problem.\n",
    "\n",
    "***F1 with micro-average will be used as the evaluation metric.***"
   ]
  },
  {
   "cell_type": "markdown",
   "metadata": {},
   "source": [
    "## Modeling"
   ]
  },
  {
   "cell_type": "markdown",
   "metadata": {},
   "source": [
    "Five types of ordinal, multi-class classifiers:\n",
    "- Gaussian Naive Bayesian Classifier\n",
    "- K-Nearest Neighbor Classifier\n",
    "- Random Forest Classifier\n",
    "- Gradient Boosting Classifier\n",
    "- XGBoost Classifier"
   ]
  },
  {
   "cell_type": "code",
   "execution_count": 10,
   "metadata": {},
   "outputs": [],
   "source": [
    "# Define F1 score\n",
    "F1score = make_scorer(f1_score, average='micro')"
   ]
  },
  {
   "cell_type": "markdown",
   "metadata": {},
   "source": [
    "### Model 1: Gaussian Naive Bayesian Classifier"
   ]
  },
  {
   "cell_type": "code",
   "execution_count": 11,
   "metadata": {},
   "outputs": [],
   "source": [
    "# Start time to predict model runtime\n",
    "start_gaus = timeit.default_timer()\n",
    "\n",
    "# Fit and predict model\n",
    "gaus = GaussianNB()\n",
    "gaus.fit(X_train, y_train)\n",
    "y_pred_gaus = gaus.predict(X_test)\n",
    "\n",
    "# Stop time to predict model runtime\n",
    "stop_gaus = timeit.default_timer()\n",
    "\n",
    "# Define model runtime variable\n",
    "time_gaus = stop_gaus - start_gaus"
   ]
  },
  {
   "cell_type": "code",
   "execution_count": 12,
   "metadata": {
    "scrolled": true
   },
   "outputs": [
    {
     "name": "stdout",
     "output_type": "stream",
     "text": [
      "Classification Report: Gaussian Naive Bayesian Classifier Model\n",
      "\n",
      "              precision    recall  f1-score   support\n",
      "\n",
      "           1       0.44      0.28      0.34        29\n",
      "           2       0.43      0.35      0.39        89\n",
      "           3       0.77      0.68      0.72       624\n",
      "           4       0.67      0.70      0.69       674\n",
      "           5       0.78      0.90      0.84       501\n",
      "\n",
      "    accuracy                           0.72      1917\n",
      "   macro avg       0.62      0.58      0.59      1917\n",
      "weighted avg       0.72      0.72      0.72      1917\n",
      "\n"
     ]
    }
   ],
   "source": [
    "print('Classification Report: Gaussian Naive Bayesian Classifier Model')\n",
    "print('')\n",
    "print(classification_report(y_test, y_pred_gaus))"
   ]
  },
  {
   "cell_type": "code",
   "execution_count": 13,
   "metadata": {},
   "outputs": [
    {
     "name": "stdout",
     "output_type": "stream",
     "text": [
      "[0.74805195 0.68489583 0.71614583 0.73177083 0.73947368]\n",
      "\n",
      "Mean cross validation train score:  0.7128181876790836\n",
      "Standard deviation in train cv scores:  0.0052598047938089195\n",
      "\n",
      "Mean cross validation test score:  0.7240676264524949\n",
      "Standard deviation in test cv scores:  0.022222141556888633\n",
      "\n",
      "Runtime:  0.0056793269995978335\n"
     ]
    }
   ],
   "source": [
    "# Cross-validate model performance\n",
    "cv_test_gaus = cross_val_score(gaus, X_test, y_test, cv=5, scoring=F1score)\n",
    "cv_train_gaus = cross_val_score(gaus, X_train, y_train, cv=5, scoring=F1score)\n",
    "print(cv_test_gaus)\n",
    "\n",
    "#Find average of CV scores for test & train\n",
    "cv_train_gaus_avg = cv_train_gaus.mean()\n",
    "cv_train_gaus_std = cv_train_gaus.std()\n",
    "cv_test_gaus_avg = cv_test_gaus.mean()\n",
    "cv_test_gaus_std = cv_test_gaus.std()\n",
    "print('')\n",
    "print ('Mean cross validation train score: ', cv_train_gaus_avg)\n",
    "print ('Standard deviation in train cv scores: ', cv_train_gaus_std)\n",
    "print('')\n",
    "print ('Mean cross validation test score: ', cv_test_gaus_avg)\n",
    "print ('Standard deviation in test cv scores: ', cv_test_gaus_std)\n",
    "print('')\n",
    "print('Runtime: ', time_gaus)"
   ]
  },
  {
   "cell_type": "markdown",
   "metadata": {},
   "source": [
    "### Model 2: K-Nearest Neighbors Classifier"
   ]
  },
  {
   "cell_type": "code",
   "execution_count": 14,
   "metadata": {
    "scrolled": true
   },
   "outputs": [
    {
     "name": "stdout",
     "output_type": "stream",
     "text": [
      "{'n_neighbors': 12}\n",
      "0.7804835623586711\n"
     ]
    }
   ],
   "source": [
    "# Use GridSearchCV to find best n_neighbors parameter for K-Nearest Neighbor Model\n",
    "param_grid_knn = {'n_neighbors':range(1,51)}\n",
    "knn = KNeighborsClassifier()\n",
    "knn_cv = RandomizedSearchCV(knn, param_grid_knn, cv=5) # Split training data into 5 cross validations\n",
    "knn_cv.fit(X_train, y_train) \n",
    "print(knn_cv.best_params_)\n",
    "print(knn_cv.best_score_)"
   ]
  },
  {
   "cell_type": "code",
   "execution_count": 15,
   "metadata": {},
   "outputs": [],
   "source": [
    "# Define the best n_neighbors from the outcome of the above GridSearch\n",
    "best_n_neighbors_knn = knn_cv.best_params_['n_neighbors']\n",
    "\n",
    "# Start time to predict model runtime\n",
    "start_knn = timeit.default_timer()\n",
    "\n",
    "# Fit and predict model using best parameter\n",
    "knn_best = KNeighborsClassifier(n_neighbors = best_n_neighbors_knn)\n",
    "knn_best.fit(X_train, y_train)\n",
    "y_pred_knn = knn_best.predict(X_test)\n",
    "\n",
    "# Stop time to predict model runtime\n",
    "stop_knn = timeit.default_timer()\n",
    "\n",
    "# Define model runtime variable\n",
    "time_knn = stop_knn - start_knn"
   ]
  },
  {
   "cell_type": "code",
   "execution_count": 16,
   "metadata": {},
   "outputs": [
    {
     "name": "stdout",
     "output_type": "stream",
     "text": [
      "Classification Report: K-Nearest Neighbors Classifier Model\n",
      "\n",
      "              precision    recall  f1-score   support\n",
      "\n",
      "           1       0.61      0.38      0.47        29\n",
      "           2       0.51      0.44      0.47        89\n",
      "           3       0.81      0.82      0.81       624\n",
      "           4       0.75      0.79      0.77       674\n",
      "           5       0.88      0.83      0.85       501\n",
      "\n",
      "    accuracy                           0.79      1917\n",
      "   macro avg       0.71      0.65      0.68      1917\n",
      "weighted avg       0.79      0.79      0.79      1917\n",
      "\n"
     ]
    }
   ],
   "source": [
    "print('Classification Report: K-Nearest Neighbors Classifier Model')\n",
    "print('')\n",
    "print(classification_report(y_test, y_pred_knn))"
   ]
  },
  {
   "cell_type": "code",
   "execution_count": 17,
   "metadata": {
    "scrolled": true
   },
   "outputs": [
    {
     "name": "stdout",
     "output_type": "stream",
     "text": [
      "[0.75324675 0.71354167 0.75260417 0.75       0.74210526]\n",
      "\n",
      "Mean cross validation train score:  0.7702259352645202\n",
      "Standard deviation in train cv scores:  0.007404322837690858\n",
      "\n",
      "Mean cross validation test score:  0.7422995699475962\n",
      "Standard deviation in test cv scores:  0.014915608703393927\n",
      "\n",
      "Runtime:  0.12026542899911874\n"
     ]
    }
   ],
   "source": [
    "# Cross-validate model performance\n",
    "cv_test_knn = cross_val_score(knn, X_test, y_test, cv=5, scoring=F1score)\n",
    "cv_train_knn = cross_val_score(knn, X_train, y_train, cv=5, scoring=F1score)\n",
    "print(cv_test_knn)\n",
    "\n",
    "#Find average of CV scores for test & train\n",
    "cv_train_knn_avg = cv_train_knn.mean()\n",
    "cv_train_knn_std = cv_train_knn.std()\n",
    "cv_test_knn_avg = cv_test_knn.mean()\n",
    "cv_test_knn_std = cv_test_knn.std()\n",
    "print('')\n",
    "print ('Mean cross validation train score: ', cv_train_knn_avg)\n",
    "print ('Standard deviation in train cv scores: ', cv_train_knn_std)\n",
    "print('')\n",
    "print ('Mean cross validation test score: ', cv_test_knn_avg)\n",
    "print ('Standard deviation in test cv scores: ', cv_test_knn_std)\n",
    "print('')\n",
    "print('Runtime: ', time_knn)"
   ]
  },
  {
   "cell_type": "markdown",
   "metadata": {},
   "source": [
    "### Model 3: Random Forest Classifier"
   ]
  },
  {
   "cell_type": "code",
   "execution_count": 18,
   "metadata": {
    "scrolled": true
   },
   "outputs": [
    {
     "name": "stdout",
     "output_type": "stream",
     "text": [
      "{'n_estimators': 500, 'max_depth': 12, 'criterion': 'entropy'}\n",
      "0.8267524786919465\n"
     ]
    }
   ],
   "source": [
    "# Use RandomizedSearchCV to find best parameters for Random Forest Model\n",
    "param_grid_rf = {'n_estimators':[100, 200, 300, 400, 500, 600, 700, 800, 900, 1000],\n",
    "                 'criterion':['gini', 'entropy'],\n",
    "                 'max_depth':[3, 4, 5, 6, 7, 8, 9, 10, 12, 13]\n",
    "                }\n",
    "rf = RandomForestClassifier()\n",
    "rf_cv = RandomizedSearchCV(rf, param_grid_rf, cv=5) # Split training data into 5 cross validations\n",
    "rf_cv.fit(X_train, y_train) \n",
    "print(rf_cv.best_params_)\n",
    "print(rf_cv.best_score_)"
   ]
  },
  {
   "cell_type": "code",
   "execution_count": 19,
   "metadata": {},
   "outputs": [],
   "source": [
    "# Define the best parameters from the outcome of the above RandomizedSearch\n",
    "best_n_estimators_rf = rf_cv.best_params_['n_estimators']\n",
    "best_criterion_rf = rf_cv.best_params_['criterion']\n",
    "best_max_depth_rf = rf_cv.best_params_['max_depth']\n",
    "\n",
    "# Start time to predict model runtime\n",
    "start_rf = timeit.default_timer()\n",
    "\n",
    "# Fit and predict model using best parameter\n",
    "rf_best = RandomForestClassifier(n_estimators=best_n_estimators_rf, criterion=best_criterion_rf,\n",
    "                                 max_depth=best_max_depth_rf)\n",
    "rf_best.fit(X_train, y_train)\n",
    "y_pred_rf = rf_best.predict(X_test)\n",
    "\n",
    "# Stop time to predict model runtime\n",
    "stop_rf = timeit.default_timer()\n",
    "\n",
    "# Define model runtime variable\n",
    "time_rf = stop_rf - start_rf"
   ]
  },
  {
   "cell_type": "code",
   "execution_count": 20,
   "metadata": {},
   "outputs": [
    {
     "name": "stdout",
     "output_type": "stream",
     "text": [
      "Classification Report: Random Forest Classifier Model\n",
      "\n",
      "              precision    recall  f1-score   support\n",
      "\n",
      "           1       1.00      0.48      0.65        29\n",
      "           2       0.69      0.42      0.52        89\n",
      "           3       0.83      0.86      0.84       624\n",
      "           4       0.78      0.84      0.81       674\n",
      "           5       0.91      0.86      0.88       501\n",
      "\n",
      "    accuracy                           0.83      1917\n",
      "   macro avg       0.84      0.69      0.74      1917\n",
      "weighted avg       0.83      0.83      0.82      1917\n",
      "\n"
     ]
    }
   ],
   "source": [
    "print('Classification Report: Random Forest Classifier Model')\n",
    "print('')\n",
    "print(classification_report(y_test, y_pred_rf))"
   ]
  },
  {
   "cell_type": "code",
   "execution_count": 21,
   "metadata": {},
   "outputs": [
    {
     "name": "stdout",
     "output_type": "stream",
     "text": [
      "[0.81558442 0.78385417 0.8203125  0.8046875  0.78947368]\n",
      "\n",
      "Mean cross validation train score:  0.8269144334080278\n",
      "Standard deviation in train cv scores:  0.01042150768729021\n",
      "\n",
      "Mean cross validation test score:  0.8027824532923218\n",
      "Standard deviation in test cv scores:  0.014214255858929223\n",
      "\n",
      "Runtime:  4.711022084000433\n"
     ]
    }
   ],
   "source": [
    "# Cross-validate model performance\n",
    "cv_test_rf = cross_val_score(rf_best, X_test, y_test, cv=5, scoring=F1score)\n",
    "cv_train_rf = cross_val_score(rf_best, X_train, y_train, cv=5, scoring=F1score)\n",
    "print(cv_test_rf)\n",
    "\n",
    "#Find average of CV scores for test & train\n",
    "cv_train_rf_avg = cv_train_rf.mean()\n",
    "cv_train_rf_std = cv_train_rf.std()\n",
    "cv_test_rf_avg = cv_test_rf.mean()\n",
    "cv_test_rf_std = cv_test_rf.std()\n",
    "print('')\n",
    "print ('Mean cross validation train score: ', cv_train_rf_avg)\n",
    "print ('Standard deviation in train cv scores: ', cv_train_rf_std)\n",
    "print('')\n",
    "print ('Mean cross validation test score: ', cv_test_rf_avg)\n",
    "print ('Standard deviation in test cv scores: ', cv_test_rf_std)\n",
    "print('')\n",
    "print('Runtime: ', time_rf)"
   ]
  },
  {
   "cell_type": "markdown",
   "metadata": {},
   "source": [
    "### Model 4: Gradient Boosting Classifier"
   ]
  },
  {
   "cell_type": "code",
   "execution_count": 22,
   "metadata": {
    "scrolled": true
   },
   "outputs": [
    {
     "name": "stdout",
     "output_type": "stream",
     "text": [
      "{'n_estimators': 500, 'max_depth': 6, 'learning_rate': 0.1}\n",
      "0.8269264219864324\n"
     ]
    }
   ],
   "source": [
    "# Use RandomizedSearchCV to find best parameters for Gradient Boost Model\n",
    "param_grid_gb = {'learning_rate':[0.30, 0.15, 0.1, 0.05, 0.01], \n",
    "                 'n_estimators':[100, 200, 300, 400, 500, 600, 700, 800, 900, 1000],\n",
    "                 'max_depth':[3, 4, 5, 6, 7, 8, 9, 10, 11, 12 ,13]\n",
    "                }\n",
    "gb = GradientBoostingClassifier()\n",
    "gb_cv = RandomizedSearchCV(gb, param_grid_gb, cv=5) # Split training data into 5 cross validations\n",
    "gb_cv.fit(X_train, y_train)\n",
    "print(gb_cv.best_params_)\n",
    "print(gb_cv.best_score_)"
   ]
  },
  {
   "cell_type": "code",
   "execution_count": 23,
   "metadata": {},
   "outputs": [],
   "source": [
    "# Define the best parameters from the outcome of the above RandomizedSearch\n",
    "best_learning_rate_gb = gb_cv.best_params_['learning_rate']\n",
    "best_n_estimators_gb = gb_cv.best_params_['n_estimators']\n",
    "best_max_depth_gb = gb_cv.best_params_['max_depth']\n",
    "\n",
    "# Start time to predict model runtime\n",
    "start_gb = timeit.default_timer()\n",
    "\n",
    "# Fit and predict model using best parameter\n",
    "gb_best = GradientBoostingClassifier(learning_rate=best_learning_rate_gb, n_estimators=best_n_estimators_gb, \n",
    "                                     max_depth=best_max_depth_gb)\n",
    "gb_best.fit(X_train, y_train)\n",
    "y_pred_gb = gb_best.predict(X_test)\n",
    "\n",
    "# Stop time to predict model runtime\n",
    "stop_gb = timeit.default_timer()\n",
    "\n",
    "# Define model runtime variable\n",
    "time_gb = stop_gb - start_gb"
   ]
  },
  {
   "cell_type": "code",
   "execution_count": 24,
   "metadata": {},
   "outputs": [
    {
     "name": "stdout",
     "output_type": "stream",
     "text": [
      "Classification Report: Gradient Boosting Classifier Model\n",
      "\n",
      "              precision    recall  f1-score   support\n",
      "\n",
      "           1       0.70      0.48      0.57        29\n",
      "           2       0.60      0.48      0.53        89\n",
      "           3       0.84      0.85      0.84       624\n",
      "           4       0.78      0.83      0.81       674\n",
      "           5       0.90      0.85      0.87       501\n",
      "\n",
      "    accuracy                           0.82      1917\n",
      "   macro avg       0.76      0.70      0.73      1917\n",
      "weighted avg       0.82      0.82      0.82      1917\n",
      "\n"
     ]
    }
   ],
   "source": [
    "print('Classification Report: Gradient Boosting Classifier Model')\n",
    "print('')\n",
    "print(classification_report(y_test, y_pred_gb))"
   ]
  },
  {
   "cell_type": "code",
   "execution_count": 25,
   "metadata": {},
   "outputs": [
    {
     "name": "stdout",
     "output_type": "stream",
     "text": [
      "[0.79220779 0.72395833 0.76822917 0.76822917 0.76842105]\n",
      "\n",
      "Mean cross validation train score:  0.8250086528684972\n",
      "Standard deviation in train cv scores:  0.005980105475256317\n",
      "\n",
      "Mean cross validation test score:  0.7642091023012074\n",
      "Standard deviation in test cv scores:  0.022154518273167945\n",
      "\n",
      "Runtime:  18.61645975400097\n"
     ]
    }
   ],
   "source": [
    "# Cross-validate model performance\n",
    "cv_test_gb = cross_val_score(gb_best, X_test, y_test, cv=5, scoring=F1score)\n",
    "cv_train_gb = cross_val_score(gb_best, X_train, y_train, cv=5, scoring=F1score)\n",
    "print(cv_test_gb)\n",
    "\n",
    "#Find average of CV scores for test & train\n",
    "cv_train_gb_avg = cv_train_gb.mean()\n",
    "cv_train_gb_std = cv_train_gb.std()\n",
    "cv_test_gb_avg = cv_test_gb.mean()\n",
    "cv_test_gb_std = cv_test_gb.std()\n",
    "print('')\n",
    "print ('Mean cross validation train score: ', cv_train_gb_avg)\n",
    "print ('Standard deviation in train cv scores: ', cv_train_gb_std)\n",
    "print('')\n",
    "print ('Mean cross validation test score: ', cv_test_gb_avg)\n",
    "print ('Standard deviation in test cv scores: ', cv_test_gb_std)\n",
    "print('')\n",
    "print('Runtime: ', time_gb)"
   ]
  },
  {
   "cell_type": "markdown",
   "metadata": {},
   "source": [
    "### Model 5: XGBoost Classifier"
   ]
  },
  {
   "cell_type": "code",
   "execution_count": 26,
   "metadata": {},
   "outputs": [
    {
     "name": "stdout",
     "output_type": "stream",
     "text": [
      "{'n_estimators': 600, 'max_depth': 3, 'eta': 0.1}\n",
      "0.8436249782570882\n"
     ]
    }
   ],
   "source": [
    "# Use RandomizedSearchCV to find best parameters for GXBoost Model\n",
    "param_grid_xgb = {'eta':[0.30, 0.15, 0.1, 0.05, 0.01],\n",
    "                  'n_estimators':[100, 200, 300, 400, 500, 600, 700, 800, 900, 1000],\n",
    "                  'max_depth':[3, 4, 5, 6, 7, 8, 9, 10, 11, 12, 13]\n",
    "                }\n",
    "xgb = XGBClassifier()\n",
    "xgb_cv = RandomizedSearchCV(xgb, param_grid_xgb, cv=5) # Split training data into 5 cross validations\n",
    "xgb_cv.fit(X_train, y_train)\n",
    "print(xgb_cv.best_params_)\n",
    "print(xgb_cv.best_score_)"
   ]
  },
  {
   "cell_type": "code",
   "execution_count": 27,
   "metadata": {},
   "outputs": [],
   "source": [
    "# Define the best parameters from the outcome of the above RandomizedSearch\n",
    "best_eta_xgb = xgb_cv.best_params_['eta']\n",
    "best_n_estimators_xgb = xgb_cv.best_params_['n_estimators']\n",
    "best_max_depth_xgb = xgb_cv.best_params_['max_depth']\n",
    "\n",
    "# Define the number of training iterations\n",
    "steps = 50 \n",
    "\n",
    "# Start time to predict model runtime\n",
    "start_xgb = timeit.default_timer()\n",
    "\n",
    "# Fit and predict model using best parameter\n",
    "xgb_best = XGBClassifier(eta=best_eta_xgb, max_depth=best_max_depth_xgb, \n",
    "                         objective='multisoftprob', num_class=5)\n",
    "xgb_best.fit(X_train, y_train)\n",
    "y_pred_xgb = xgb_best.predict(X_test)\n",
    "\n",
    "# Stop time to predict model runtime\n",
    "stop_xgb = timeit.default_timer()\n",
    "\n",
    "# Define model runtime variable\n",
    "time_xgb = stop_xgb - start_xgb"
   ]
  },
  {
   "cell_type": "code",
   "execution_count": 28,
   "metadata": {},
   "outputs": [
    {
     "name": "stdout",
     "output_type": "stream",
     "text": [
      "Classification Report: XGBoosting Classifier Model\n",
      "\n",
      "              precision    recall  f1-score   support\n",
      "\n",
      "           1       0.88      0.52      0.65        29\n",
      "           2       0.63      0.36      0.46        89\n",
      "           3       0.79      0.86      0.82       624\n",
      "           4       0.78      0.78      0.78       674\n",
      "           5       0.86      0.87      0.87       501\n",
      "\n",
      "    accuracy                           0.80      1917\n",
      "   macro avg       0.79      0.68      0.72      1917\n",
      "weighted avg       0.80      0.80      0.80      1917\n",
      "\n"
     ]
    }
   ],
   "source": [
    "print('Classification Report: XGBoosting Classifier Model')\n",
    "print('')\n",
    "print(classification_report(y_test, y_pred_xgb))"
   ]
  },
  {
   "cell_type": "code",
   "execution_count": 29,
   "metadata": {},
   "outputs": [
    {
     "name": "stdout",
     "output_type": "stream",
     "text": [
      "[0.78441558 0.734375   0.78385417 0.7734375  0.75263158]\n",
      "\n",
      "Mean cross validation train score:  0.7657427660059238\n",
      "Standard deviation in train cv scores:  0.019451199874457762\n",
      "\n",
      "Mean cross validation test score:  0.7657427660059238\n",
      "Standard deviation in test cv scores:  0.019451199874457762\n",
      "\n",
      "Runtime:  0.5211247709994495\n"
     ]
    }
   ],
   "source": [
    "# Cross-validate model performance\n",
    "cv_test_xgb = cross_val_score(xgb_best, X_test, y_test, cv=5, scoring=F1score)\n",
    "cv_train_xgb = cross_val_score(xgb_best, X_test, y_test, cv=5, scoring=F1score)\n",
    "print(cv_test_xgb)\n",
    "\n",
    "#Find average of CV scores for test & train\n",
    "cv_train_xgb_avg = cv_train_xgb.mean()\n",
    "cv_train_xgb_std = cv_train_xgb.std()\n",
    "cv_test_xgb_avg = cv_test_xgb.mean()\n",
    "cv_test_xgb_std = cv_test_xgb.std()\n",
    "print('')\n",
    "print ('Mean cross validation train score: ', cv_train_xgb_avg)\n",
    "print ('Standard deviation in train cv scores: ', cv_train_xgb_std)\n",
    "print('')\n",
    "print ('Mean cross validation test score: ', cv_test_xgb_avg)\n",
    "print ('Standard deviation in test cv scores: ', cv_test_xgb_std)\n",
    "print('')\n",
    "print('Runtime: ', time_xgb)"
   ]
  },
  {
   "cell_type": "markdown",
   "metadata": {},
   "source": [
    "## Models Compared"
   ]
  },
  {
   "cell_type": "code",
   "execution_count": 30,
   "metadata": {},
   "outputs": [
    {
     "data": {
      "text/html": [
       "<div>\n",
       "<style scoped>\n",
       "    .dataframe tbody tr th:only-of-type {\n",
       "        vertical-align: middle;\n",
       "    }\n",
       "\n",
       "    .dataframe tbody tr th {\n",
       "        vertical-align: top;\n",
       "    }\n",
       "\n",
       "    .dataframe thead th {\n",
       "        text-align: right;\n",
       "    }\n",
       "</style>\n",
       "<table border=\"1\" class=\"dataframe\">\n",
       "  <thead>\n",
       "    <tr style=\"text-align: right;\">\n",
       "      <th></th>\n",
       "      <th>Model Type</th>\n",
       "      <th>F1 Train Score</th>\n",
       "      <th>F1 Test Score</th>\n",
       "      <th>Runtime</th>\n",
       "    </tr>\n",
       "  </thead>\n",
       "  <tbody>\n",
       "    <tr>\n",
       "      <th>1</th>\n",
       "      <td>Gaussian Naive Bayesian</td>\n",
       "      <td>0.712818</td>\n",
       "      <td>0.724068</td>\n",
       "      <td>0.005679</td>\n",
       "    </tr>\n",
       "    <tr>\n",
       "      <th>2</th>\n",
       "      <td>K-Nearest Neighbors</td>\n",
       "      <td>0.770226</td>\n",
       "      <td>0.742300</td>\n",
       "      <td>0.120265</td>\n",
       "    </tr>\n",
       "    <tr>\n",
       "      <th>3</th>\n",
       "      <td>Random Forest</td>\n",
       "      <td>0.826914</td>\n",
       "      <td>0.802782</td>\n",
       "      <td>4.711022</td>\n",
       "    </tr>\n",
       "    <tr>\n",
       "      <th>4</th>\n",
       "      <td>Gradient Boosting</td>\n",
       "      <td>0.825009</td>\n",
       "      <td>0.764209</td>\n",
       "      <td>18.616460</td>\n",
       "    </tr>\n",
       "    <tr>\n",
       "      <th>5</th>\n",
       "      <td>XGBoost</td>\n",
       "      <td>0.765743</td>\n",
       "      <td>0.765743</td>\n",
       "      <td>0.521125</td>\n",
       "    </tr>\n",
       "  </tbody>\n",
       "</table>\n",
       "</div>"
      ],
      "text/plain": [
       "                Model Type  F1 Train Score  F1 Test Score    Runtime\n",
       "1  Gaussian Naive Bayesian        0.712818       0.724068   0.005679\n",
       "2      K-Nearest Neighbors        0.770226       0.742300   0.120265\n",
       "3            Random Forest        0.826914       0.802782   4.711022\n",
       "4        Gradient Boosting        0.825009       0.764209  18.616460\n",
       "5                  XGBoost        0.765743       0.765743   0.521125"
      ]
     },
     "execution_count": 30,
     "metadata": {},
     "output_type": "execute_result"
    }
   ],
   "source": [
    "model_name = ['Gaussian Naive Bayesian', 'K-Nearest Neighbors', 'Random Forest', 'Gradient Boosting', 'XGBoost']\n",
    "cv_train_model = [cv_train_gaus_avg, cv_train_knn_avg, cv_train_rf_avg, cv_train_gb_avg, cv_train_xgb_avg]\n",
    "cv_test_model = [cv_test_gaus_avg, cv_test_knn_avg, cv_test_rf_avg, cv_test_gb_avg, cv_test_xgb_avg]\n",
    "model_time = [time_gaus, time_knn, time_rf, time_gb, time_xgb]\n",
    "\n",
    "modelscompared = pd.DataFrame(list(zip(model_name, cv_train_model, cv_test_model, model_time)), \n",
    "                              columns =['Model Type', 'F1 Train Score', 'F1 Test Score', 'Runtime' ],\n",
    "                             index=[1, 2, 3, 4, 5]) \n",
    "modelscompared"
   ]
  },
  {
   "cell_type": "code",
   "execution_count": 31,
   "metadata": {},
   "outputs": [
    {
     "data": {
      "image/png": "[encoded data removed]",
      "text/plain": [
       "<Figure size 720x360 with 1 Axes>"
      ]
     },
     "metadata": {
      "needs_background": "light"
     },
     "output_type": "display_data"
    }
   ],
   "source": [
    "# Visually compare training and test models\n",
    "index = [1, 2, 3, 4, 5]\n",
    "index_acc = [1.2, 2.2, 3.2, 4.2, 5.2]\n",
    "modelscompared_plot = plt.figure(figsize=(10, 5))\n",
    "modelscompared_plot = plt.xlabel('Models', fontsize=15)\n",
    "modelscompared_plot = plt.ylabel ('F1 scores', fontsize=15)\n",
    "modelscompared_plot = plt.title('Models Compared', fontsize=15)\n",
    "modelscompared_plot = plt.bar(index,cv_train_model, label='Train', width=0.2)\n",
    "modelscompared_plot = plt.bar(index_acc,cv_test_model, label='Test', width=0.2)\n",
    "modelscompared_plot = plt.xticks([1, 2, 3, 4, 5], model_name)\n",
    "modelscompared_plot = plt.legend()\n",
    "plt.show()"
   ]
  },
  {
   "cell_type": "markdown",
   "metadata": {},
   "source": [
    "## Best Model: Random Forest"
   ]
  },
  {
   "cell_type": "markdown",
   "metadata": {},
   "source": [
    "Random Forest has the highest F1 scores but Gradient Boosting is a close second. Random Forest, also, runs quicker than Gradient Boosting. Therefore, the best model appears to be Random Forest."
   ]
  },
  {
   "cell_type": "markdown",
   "metadata": {},
   "source": [
    "## Feature importance in Random Forest Model"
   ]
  },
  {
   "cell_type": "code",
   "execution_count": 34,
   "metadata": {},
   "outputs": [
    {
     "data": {
      "text/html": [
       "<div>\n",
       "<style scoped>\n",
       "    .dataframe tbody tr th:only-of-type {\n",
       "        vertical-align: middle;\n",
       "    }\n",
       "\n",
       "    .dataframe tbody tr th {\n",
       "        vertical-align: top;\n",
       "    }\n",
       "\n",
       "    .dataframe thead th {\n",
       "        text-align: right;\n",
       "    }\n",
       "</style>\n",
       "<table border=\"1\" class=\"dataframe\">\n",
       "  <thead>\n",
       "    <tr style=\"text-align: right;\">\n",
       "      <th></th>\n",
       "      <th>Features</th>\n",
       "      <th>Importance scores</th>\n",
       "    </tr>\n",
       "  </thead>\n",
       "  <tbody>\n",
       "    <tr>\n",
       "      <th>1</th>\n",
       "      <td>Percent Of Adult HD Patients With Kt/V &gt;= 1.2</td>\n",
       "      <td>0.089996</td>\n",
       "    </tr>\n",
       "    <tr>\n",
       "      <th>2</th>\n",
       "      <td>Percentage Of Adult Patients With Hypercalcemi...</td>\n",
       "      <td>0.090574</td>\n",
       "    </tr>\n",
       "    <tr>\n",
       "      <th>3</th>\n",
       "      <td>Mortality Rate Standardized</td>\n",
       "      <td>0.094676</td>\n",
       "    </tr>\n",
       "    <tr>\n",
       "      <th>4</th>\n",
       "      <td>Readmission Rate Standardized</td>\n",
       "      <td>0.099603</td>\n",
       "    </tr>\n",
       "    <tr>\n",
       "      <th>5</th>\n",
       "      <td>Hospitalization Rate Standardized</td>\n",
       "      <td>0.108523</td>\n",
       "    </tr>\n",
       "    <tr>\n",
       "      <th>6</th>\n",
       "      <td>Transfusion Rate Standardized</td>\n",
       "      <td>0.140096</td>\n",
       "    </tr>\n",
       "    <tr>\n",
       "      <th>7</th>\n",
       "      <td>Fistula Rate Standardized</td>\n",
       "      <td>0.185394</td>\n",
       "    </tr>\n",
       "    <tr>\n",
       "      <th>8</th>\n",
       "      <td>Percentage Of Adult Patients With Long Term Ca...</td>\n",
       "      <td>0.191138</td>\n",
       "    </tr>\n",
       "  </tbody>\n",
       "</table>\n",
       "</div>"
      ],
      "text/plain": [
       "                                            Features  Importance scores\n",
       "1      Percent Of Adult HD Patients With Kt/V >= 1.2           0.089996\n",
       "2  Percentage Of Adult Patients With Hypercalcemi...           0.090574\n",
       "3                        Mortality Rate Standardized           0.094676\n",
       "4                      Readmission Rate Standardized           0.099603\n",
       "5                  Hospitalization Rate Standardized           0.108523\n",
       "6                      Transfusion Rate Standardized           0.140096\n",
       "7                          Fistula Rate Standardized           0.185394\n",
       "8  Percentage Of Adult Patients With Long Term Ca...           0.191138"
      ]
     },
     "execution_count": 34,
     "metadata": {},
     "output_type": "execute_result"
    }
   ],
   "source": [
    "# Rank feature importance\n",
    "features = X\n",
    "importances = list(rf_best.feature_importances_)\n",
    "importances_sorted = np.sort(importances)\n",
    "importance_table = pd.DataFrame(list(zip(X, importances_sorted)), columns =['Features', 'Importance scores'],\n",
    "                               index=[1, 2, 3, 4, 5, 6, 7, 8]) \n",
    "importance_table"
   ]
  },
  {
   "cell_type": "code",
   "execution_count": 35,
   "metadata": {
    "scrolled": true
   },
   "outputs": [
    {
     "data": {
      "image/png": "[encoded data removed]",
      "text/plain": [
       "<Figure size 720x360 with 1 Axes>"
      ]
     },
     "metadata": {
      "needs_background": "light"
     },
     "output_type": "display_data"
    }
   ],
   "source": [
    "# Bar graph of feature importance\n",
    "index = [0, 1, 2, 3, 4, 5, 6, 7]\n",
    "importance_plot = plt.figure(figsize=(10, 5))\n",
    "importance_plot = plt.barh(index, importances_sorted)\n",
    "importance_plot = plt.xlabel('Relative Importance', fontsize=15)\n",
    "importance_plot = plt.yticks(index, features)\n",
    "importance_plot = plt.title('Feature Importances for Random Forest Classifier Model', fontsize=15)\n",
    "plt.show()"
   ]
  }
 ],
 "metadata": {
  "kernelspec": {
   "display_name": "Python 3",
   "language": "python",
   "name": "python3"
  },
  "language_info": {
   "codemirror_mode": {
    "name": "ipython",
    "version": 3
   },
   "file_extension": ".py",
   "mimetype": "text/x-python",
   "name": "python",
   "nbconvert_exporter": "python",
   "pygments_lexer": "ipython3",
   "version": "3.6.10"
  }
 },
 "nbformat": 4,
 "nbformat_minor": 4
}
