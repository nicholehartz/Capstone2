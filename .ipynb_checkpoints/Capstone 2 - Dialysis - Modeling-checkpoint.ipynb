{
 "cells": [
  {
   "cell_type": "markdown",
   "metadata": {},
   "source": [
    "# Modeling\n",
    "\n",
    "**Problem Statement:**\n",
    "What opportunities exist for the CRIC Study to investigate the effects of an individual’s choice of dialysis center on one’s kidney health in the upcoming research year?\n",
    "\n",
    "CRIC is curious to know how an individual’s choice in dialysis center affects one’s kidney health. \n",
    "\n",
    "Attempting to predict a dialysis center's star rating given the center's features. \n",
    "\n",
    "This is a classification problem."
   ]
  },
  {
   "cell_type": "markdown",
   "metadata": {},
   "source": [
    "## Import Relevant Libraries"
   ]
  },
  {
   "cell_type": "code",
   "execution_count": 1,
   "metadata": {},
   "outputs": [],
   "source": [
    "import numpy as np \n",
    "import pandas as pd \n",
    "import matplotlib.pyplot as plt \n",
    "from sklearn.preprocessing import StandardScaler\n",
    "from sklearn.model_selection import train_test_split\n",
    "from sklearn.model_selection import GridSearchCV, RandomizedSearchCV\n",
    "from sklearn.model_selection import cross_val_score\n",
    "import timeit\n",
    "from sklearn.naive_bayes import GaussianNB\n",
    "from sklearn.neighbors import KNeighborsClassifier\n",
    "from sklearn.ensemble import RandomForestClassifier\n",
    "from sklearn.ensemble import GradientBoostingClassifier"
   ]
  },
  {
   "cell_type": "markdown",
   "metadata": {},
   "source": [
    "## Load Data"
   ]
  },
  {
   "cell_type": "code",
   "execution_count": 2,
   "metadata": {},
   "outputs": [],
   "source": [
    "dialysis = pd.read_csv('Data/capstone2_dialysis_scaled_data.csv', index_col=0)"
   ]
  },
  {
   "cell_type": "markdown",
   "metadata": {},
   "source": [
    "## Explore Data"
   ]
  },
  {
   "cell_type": "code",
   "execution_count": 3,
   "metadata": {},
   "outputs": [
    {
     "data": {
      "text/html": [
       "<div>\n",
       "<style scoped>\n",
       "    .dataframe tbody tr th:only-of-type {\n",
       "        vertical-align: middle;\n",
       "    }\n",
       "\n",
       "    .dataframe tbody tr th {\n",
       "        vertical-align: top;\n",
       "    }\n",
       "\n",
       "    .dataframe thead th {\n",
       "        text-align: right;\n",
       "    }\n",
       "</style>\n",
       "<table border=\"1\" class=\"dataframe\">\n",
       "  <thead>\n",
       "    <tr style=\"text-align: right;\">\n",
       "      <th></th>\n",
       "      <th>Network</th>\n",
       "      <th>Five Star</th>\n",
       "      <th>Profit Or Non-Profit</th>\n",
       "      <th>Chain Owned</th>\n",
       "      <th>Late Shift</th>\n",
       "      <th>Number Of Dialysis Stations</th>\n",
       "      <th>Offers In-Center Hemodialysis</th>\n",
       "      <th>Offers Peritoneal Dialysis</th>\n",
       "      <th>Offers Home Hemodialysis Training</th>\n",
       "      <th>Percentage Of Medicare Patients With Hgb &lt; 10 g/dL</th>\n",
       "      <th>...</th>\n",
       "      <th>Chain Organization_UPMC HEALTH SYSTEM</th>\n",
       "      <th>Chain Organization_US RENAL CARE, INC.</th>\n",
       "      <th>Chain Organization_VETERANS ADMINISTRATION</th>\n",
       "      <th>Chain Organization_WAKE FOREST UNIVERSITY</th>\n",
       "      <th>Mortality Rate Standardized</th>\n",
       "      <th>Readmission Rate Standardized</th>\n",
       "      <th>Hospitalization Rate Standardized</th>\n",
       "      <th>Standard Infection Ratio Standardized</th>\n",
       "      <th>Transfusion Rate Standardized</th>\n",
       "      <th>Fistula Rate Standardized</th>\n",
       "    </tr>\n",
       "  </thead>\n",
       "  <tbody>\n",
       "    <tr>\n",
       "      <th>0</th>\n",
       "      <td>13</td>\n",
       "      <td>2</td>\n",
       "      <td>0</td>\n",
       "      <td>1</td>\n",
       "      <td>0</td>\n",
       "      <td>18</td>\n",
       "      <td>1</td>\n",
       "      <td>1</td>\n",
       "      <td>1</td>\n",
       "      <td>21.0</td>\n",
       "      <td>...</td>\n",
       "      <td>0</td>\n",
       "      <td>0</td>\n",
       "      <td>0</td>\n",
       "      <td>0</td>\n",
       "      <td>2.140881</td>\n",
       "      <td>0.519890</td>\n",
       "      <td>0.866457</td>\n",
       "      <td>1.425778</td>\n",
       "      <td>0.736660</td>\n",
       "      <td>-0.969711</td>\n",
       "    </tr>\n",
       "    <tr>\n",
       "      <th>1</th>\n",
       "      <td>18</td>\n",
       "      <td>3</td>\n",
       "      <td>1</td>\n",
       "      <td>1</td>\n",
       "      <td>0</td>\n",
       "      <td>36</td>\n",
       "      <td>1</td>\n",
       "      <td>1</td>\n",
       "      <td>0</td>\n",
       "      <td>18.0</td>\n",
       "      <td>...</td>\n",
       "      <td>0</td>\n",
       "      <td>0</td>\n",
       "      <td>0</td>\n",
       "      <td>0</td>\n",
       "      <td>0.549616</td>\n",
       "      <td>0.506245</td>\n",
       "      <td>0.753945</td>\n",
       "      <td>0.003506</td>\n",
       "      <td>1.386172</td>\n",
       "      <td>0.502423</td>\n",
       "    </tr>\n",
       "    <tr>\n",
       "      <th>2</th>\n",
       "      <td>1</td>\n",
       "      <td>5</td>\n",
       "      <td>1</td>\n",
       "      <td>1</td>\n",
       "      <td>0</td>\n",
       "      <td>13</td>\n",
       "      <td>1</td>\n",
       "      <td>1</td>\n",
       "      <td>1</td>\n",
       "      <td>43.0</td>\n",
       "      <td>...</td>\n",
       "      <td>0</td>\n",
       "      <td>0</td>\n",
       "      <td>0</td>\n",
       "      <td>0</td>\n",
       "      <td>-1.234000</td>\n",
       "      <td>-0.953812</td>\n",
       "      <td>-0.592033</td>\n",
       "      <td>1.310012</td>\n",
       "      <td>0.717175</td>\n",
       "      <td>-0.353916</td>\n",
       "    </tr>\n",
       "    <tr>\n",
       "      <th>3</th>\n",
       "      <td>4</td>\n",
       "      <td>4</td>\n",
       "      <td>1</td>\n",
       "      <td>1</td>\n",
       "      <td>0</td>\n",
       "      <td>16</td>\n",
       "      <td>1</td>\n",
       "      <td>0</td>\n",
       "      <td>0</td>\n",
       "      <td>20.0</td>\n",
       "      <td>...</td>\n",
       "      <td>0</td>\n",
       "      <td>1</td>\n",
       "      <td>0</td>\n",
       "      <td>0</td>\n",
       "      <td>-1.024163</td>\n",
       "      <td>0.751862</td>\n",
       "      <td>-0.012804</td>\n",
       "      <td>1.161169</td>\n",
       "      <td>-0.250598</td>\n",
       "      <td>-0.555974</td>\n",
       "    </tr>\n",
       "    <tr>\n",
       "      <th>4</th>\n",
       "      <td>4</td>\n",
       "      <td>5</td>\n",
       "      <td>1</td>\n",
       "      <td>1</td>\n",
       "      <td>0</td>\n",
       "      <td>11</td>\n",
       "      <td>1</td>\n",
       "      <td>1</td>\n",
       "      <td>1</td>\n",
       "      <td>25.0</td>\n",
       "      <td>...</td>\n",
       "      <td>0</td>\n",
       "      <td>0</td>\n",
       "      <td>0</td>\n",
       "      <td>0</td>\n",
       "      <td>-3.035103</td>\n",
       "      <td>0.110528</td>\n",
       "      <td>-0.748299</td>\n",
       "      <td>-1.236849</td>\n",
       "      <td>-0.523393</td>\n",
       "      <td>-0.565595</td>\n",
       "    </tr>\n",
       "  </tbody>\n",
       "</table>\n",
       "<p>5 rows × 137 columns</p>\n",
       "</div>"
      ],
      "text/plain": [
       "   Network  Five Star  Profit Or Non-Profit  Chain Owned  Late Shift  \\\n",
       "0       13          2                     0            1           0   \n",
       "1       18          3                     1            1           0   \n",
       "2        1          5                     1            1           0   \n",
       "3        4          4                     1            1           0   \n",
       "4        4          5                     1            1           0   \n",
       "\n",
       "   Number Of Dialysis Stations  Offers In-Center Hemodialysis  \\\n",
       "0                           18                              1   \n",
       "1                           36                              1   \n",
       "2                           13                              1   \n",
       "3                           16                              1   \n",
       "4                           11                              1   \n",
       "\n",
       "   Offers Peritoneal Dialysis  Offers Home Hemodialysis Training  \\\n",
       "0                           1                                  1   \n",
       "1                           1                                  0   \n",
       "2                           1                                  1   \n",
       "3                           0                                  0   \n",
       "4                           1                                  1   \n",
       "\n",
       "   Percentage Of Medicare Patients With Hgb < 10 g/dL  ...  \\\n",
       "0                                               21.0   ...   \n",
       "1                                               18.0   ...   \n",
       "2                                               43.0   ...   \n",
       "3                                               20.0   ...   \n",
       "4                                               25.0   ...   \n",
       "\n",
       "   Chain Organization_UPMC HEALTH SYSTEM  \\\n",
       "0                                      0   \n",
       "1                                      0   \n",
       "2                                      0   \n",
       "3                                      0   \n",
       "4                                      0   \n",
       "\n",
       "   Chain Organization_US RENAL CARE, INC.  \\\n",
       "0                                       0   \n",
       "1                                       0   \n",
       "2                                       0   \n",
       "3                                       1   \n",
       "4                                       0   \n",
       "\n",
       "   Chain Organization_VETERANS ADMINISTRATION  \\\n",
       "0                                           0   \n",
       "1                                           0   \n",
       "2                                           0   \n",
       "3                                           0   \n",
       "4                                           0   \n",
       "\n",
       "   Chain Organization_WAKE FOREST UNIVERSITY  Mortality Rate Standardized  \\\n",
       "0                                          0                     2.140881   \n",
       "1                                          0                     0.549616   \n",
       "2                                          0                    -1.234000   \n",
       "3                                          0                    -1.024163   \n",
       "4                                          0                    -3.035103   \n",
       "\n",
       "   Readmission Rate Standardized  Hospitalization Rate Standardized  \\\n",
       "0                       0.519890                           0.866457   \n",
       "1                       0.506245                           0.753945   \n",
       "2                      -0.953812                          -0.592033   \n",
       "3                       0.751862                          -0.012804   \n",
       "4                       0.110528                          -0.748299   \n",
       "\n",
       "   Standard Infection Ratio Standardized  Transfusion Rate Standardized  \\\n",
       "0                               1.425778                       0.736660   \n",
       "1                               0.003506                       1.386172   \n",
       "2                               1.310012                       0.717175   \n",
       "3                               1.161169                      -0.250598   \n",
       "4                              -1.236849                      -0.523393   \n",
       "\n",
       "   Fistula Rate Standardized  \n",
       "0                  -0.969711  \n",
       "1                   0.502423  \n",
       "2                  -0.353916  \n",
       "3                  -0.555974  \n",
       "4                  -0.565595  \n",
       "\n",
       "[5 rows x 137 columns]"
      ]
     },
     "execution_count": 3,
     "metadata": {},
     "output_type": "execute_result"
    }
   ],
   "source": [
    "dialysis.head()"
   ]
  },
  {
   "cell_type": "code",
   "execution_count": 4,
   "metadata": {},
   "outputs": [
    {
     "data": {
      "text/plain": [
       "(7554, 137)"
      ]
     },
     "execution_count": 4,
     "metadata": {},
     "output_type": "execute_result"
    }
   ],
   "source": [
    "dialysis.shape"
   ]
  },
  {
   "cell_type": "code",
   "execution_count": 5,
   "metadata": {
    "scrolled": false
   },
   "outputs": [
    {
     "name": "stdout",
     "output_type": "stream",
     "text": [
      "<class 'pandas.core.frame.DataFrame'>\n",
      "Int64Index: 7554 entries, 0 to 7625\n",
      "Columns: 137 entries, Network to Fistula Rate Standardized\n",
      "dtypes: float64(18), int64(119)\n",
      "memory usage: 8.0 MB\n"
     ]
    }
   ],
   "source": [
    "dialysis.info()"
   ]
  },
  {
   "cell_type": "markdown",
   "metadata": {},
   "source": [
    "## Test Train Split"
   ]
  },
  {
   "cell_type": "code",
   "execution_count": 6,
   "metadata": {},
   "outputs": [],
   "source": [
    "# Let independent variables be features that at least moderately correlate with dependent variable (Five Star)\n",
    "# Found from looking at correlation map in EDA notebook\n",
    "X_columns =['Percent Of Adult HD Patients With Kt/V >= 1.2',\n",
    "            'Percentage Of Adult Patients With Hypercalcemia (Serum Calcium Greater Than 10.2 mg/dL)',\n",
    "            'Mortality Rate Standardized',\n",
    "            'Readmission Rate Standardized',\n",
    "            'Hospitalization Rate Standardized',\n",
    "            'Transfusion Rate Standardized',\n",
    "            'Fistula Rate Standardized',\n",
    "            'Percentage Of Adult Patients With Long Term Catheter In Use']\n",
    "X = dialysis[X_columns]\n",
    "\n",
    "# Set dependent variable to Five Star column \n",
    "y = dialysis['Five Star']"
   ]
  },
  {
   "cell_type": "code",
   "execution_count": 7,
   "metadata": {},
   "outputs": [
    {
     "name": "stdout",
     "output_type": "stream",
     "text": [
      "(5665, 8) (5665,)\n",
      "(1889, 8) (1889,)\n"
     ]
    }
   ],
   "source": [
    "# Train test split data, keeping 25% of data for test\n",
    "X_train, X_test, y_train, y_test = train_test_split(X, y, test_size=0.25)\n",
    "\n",
    "# Print train and test shapes\n",
    "print(X_train.shape, y_train.shape)\n",
    "print(X_test.shape, y_test.shape)"
   ]
  },
  {
   "cell_type": "markdown",
   "metadata": {},
   "source": [
    "## Selecting an evaluation metric"
   ]
  },
  {
   "cell_type": "code",
   "execution_count": 8,
   "metadata": {},
   "outputs": [
    {
     "data": {
      "image/png": "[encoded data removed]",
      "text/plain": [
       "<Figure size 432x288 with 1 Axes>"
      ]
     },
     "metadata": {
      "needs_background": "light"
     },
     "output_type": "display_data"
    }
   ],
   "source": [
    "# Plot Five Star to see how dependent variable is distributed\n",
    "_ = plt.hist(dialysis['Five Star'])\n",
    "_ = plt.xlabel('Star Rating')\n",
    "_ = plt.ylabel('# of Observations')\n",
    "_ = plt.title('Star Rating vs. # of Observations')"
   ]
  },
  {
   "cell_type": "markdown",
   "metadata": {},
   "source": [
    "Need ordinal, multi-class classifiers.\n",
    "\n",
    "Class imbalance in Five Star.\n",
    "\n",
    "Common metrics for evaluating this type of model: F1 Score, Average Accuracy, and Log-Loss.\n",
    "\n",
    "Log-loss does not differentiate between classes and only works well for symmetrical classes.\n",
    "\n",
    "F1-score gives a better evaluation if most concerned about incorrectly identified labels.\n",
    "\n",
    "Accuracy gives a better evaluation if most concerned about correctly identified labels. It is also commonly used when all classes are equally important.\n",
    "\n",
    "***In this case, more concerned about correctly identified labels and all classes are equally important. Therefore, accuracy will be used as the evaluation metric.***"
   ]
  },
  {
   "cell_type": "markdown",
   "metadata": {},
   "source": [
    "## Modeling"
   ]
  },
  {
   "cell_type": "markdown",
   "metadata": {},
   "source": [
    "Four types of ordinal, multi-class classifiers:\n",
    "- Gaussian Naive Bayesian Classifier\n",
    "- K-Nearest Neighbor Classifier\n",
    "- Random Forest Classifier\n",
    "- Gradient Boosting Classifier"
   ]
  },
  {
   "cell_type": "markdown",
   "metadata": {},
   "source": [
    "### Model 1: Gaussian Naive Bayesian Classifier"
   ]
  },
  {
   "cell_type": "code",
   "execution_count": 9,
   "metadata": {},
   "outputs": [],
   "source": [
    "# Start time to predict model runtime\n",
    "start_gaus = timeit.default_timer()\n",
    "\n",
    "# Fit and predict model\n",
    "gaus = GaussianNB()\n",
    "gaus.fit(X_train, y_train)\n",
    "y_pred_gaus = gaus.predict(X_test)\n",
    "\n",
    "# Stop time to predict model runtime\n",
    "stop_gaus = timeit.default_timer()\n",
    "\n",
    "# Define model runtime variable\n",
    "Time_gaus = stop_gaus - start_gaus"
   ]
  },
  {
   "cell_type": "code",
   "execution_count": 10,
   "metadata": {},
   "outputs": [
    {
     "name": "stdout",
     "output_type": "stream",
     "text": [
      "[0.55789474 0.55555556 0.62864721 0.59151194 0.5596817 ]\n",
      "\n",
      "Mean cross validation train score:  0.5862156989416688\n",
      "Standard deviation in train cv scores:  0.013213554910820248\n",
      "\n",
      "Mean cross validation test score:  0.5786582282408054\n",
      "Standard deviation in test cv scores:  0.028245641679580262\n",
      "\n",
      "Runtime:  0.006564988999969046\n"
     ]
    }
   ],
   "source": [
    "# Cross-validate model performance\n",
    "cv_test_gaus = cross_val_score(gaus, X_test, y_test, cv=5, scoring='accuracy')\n",
    "cv_train_gaus = cross_val_score(gaus, X_train, y_train, cv=5, scoring='accuracy')\n",
    "print(cv_test_gaus)\n",
    "\n",
    "#Find average of CV scores for test & train\n",
    "cv_train_gaus_avg = cv_train_gaus.mean()\n",
    "cv_train_gaus_std = cv_train_gaus.std()\n",
    "cv_test_gaus_avg = cv_test_gaus.mean()\n",
    "cv_test_gaus_std = cv_test_gaus.std()\n",
    "print('')\n",
    "print ('Mean cross validation train score: ', cv_train_gaus_avg)\n",
    "print ('Standard deviation in train cv scores: ', cv_train_gaus_std)\n",
    "print('')\n",
    "print ('Mean cross validation test score: ', cv_test_gaus_avg)\n",
    "print ('Standard deviation in test cv scores: ', cv_test_gaus_std)\n",
    "print('')\n",
    "print('Runtime: ', Time_gaus)"
   ]
  },
  {
   "cell_type": "markdown",
   "metadata": {},
   "source": [
    "### Model 2: K-Nearest Neighbors Classifier"
   ]
  },
  {
   "cell_type": "code",
   "execution_count": 11,
   "metadata": {
    "scrolled": true
   },
   "outputs": [
    {
     "name": "stdout",
     "output_type": "stream",
     "text": [
      "{'n_neighbors': 25}\n",
      "0.6820829655781112\n"
     ]
    }
   ],
   "source": [
    "# Use GridSearch to find best n_neighbors parameter for K-Nearest Neighbor Model\n",
    "param_grid_knn = {'n_neighbors': [1, 5, 10, 15, 25, 50, 100, 200, 500]}\n",
    "knn = KNeighborsClassifier()\n",
    "knn_cv = GridSearchCV(knn, param_grid_knn, cv=5) # Split training data into 5 cross validations\n",
    "knn_cv.fit(X_train, y_train) \n",
    "print(knn_cv.best_params_)\n",
    "print(knn_cv.best_score_)"
   ]
  },
  {
   "cell_type": "code",
   "execution_count": 12,
   "metadata": {},
   "outputs": [],
   "source": [
    "# Define the best n_neighbors from the outcome of the above GridSearch\n",
    "best_n_neighbors_knn = knn_cv.best_params_['n_neighbors']\n",
    "\n",
    "# Start time to predict model runtime\n",
    "start_knn = timeit.default_timer()\n",
    "\n",
    "# Fit and predict model using best parameter\n",
    "knn_best = KNeighborsClassifier(n_neighbors = best_n_neighbors_knn)\n",
    "knn_best.fit(X_train, y_train)\n",
    "y_pred = knn_best.predict(X_test)\n",
    "\n",
    "# Stop time to predict model runtime\n",
    "stop_knn = timeit.default_timer()\n",
    "\n",
    "# Define model runtime variable\n",
    "Time_knn = stop_knn - start_knn"
   ]
  },
  {
   "cell_type": "code",
   "execution_count": 13,
   "metadata": {},
   "outputs": [
    {
     "name": "stdout",
     "output_type": "stream",
     "text": [
      "[0.60789474 0.64021164 0.65251989 0.63129973 0.62068966]\n",
      "\n",
      "Mean cross validation train score:  0.6526060109106951\n",
      "Standard deviation in train cv scores:  0.010550295756796398\n",
      "\n",
      "Mean cross validation test score:  0.6305231321746748\n",
      "Standard deviation in test cv scores:  0.015408240465322647\n",
      "\n",
      "Runtime:  0.12371009500003538\n"
     ]
    }
   ],
   "source": [
    "# Cross-validate model performance\n",
    "cv_test_knn = cross_val_score(knn, X_test, y_test, cv=5, scoring='accuracy')\n",
    "cv_train_knn = cross_val_score(knn, X_train, y_train, cv=5, scoring='accuracy')\n",
    "print(cv_test_knn)\n",
    "\n",
    "#Find average of CV scores for test & train\n",
    "cv_train_knn_avg = cv_train_knn.mean()\n",
    "cv_train_knn_std = cv_train_knn.std()\n",
    "cv_test_knn_avg = cv_test_knn.mean()\n",
    "cv_test_knn_std = cv_test_knn.std()\n",
    "print('')\n",
    "print ('Mean cross validation train score: ', cv_train_knn_avg)\n",
    "print ('Standard deviation in train cv scores: ', cv_train_knn_std)\n",
    "print('')\n",
    "print ('Mean cross validation test score: ', cv_test_knn_avg)\n",
    "print ('Standard deviation in test cv scores: ', cv_test_knn_std)\n",
    "print('')\n",
    "print('Runtime: ', Time_knn)"
   ]
  },
  {
   "cell_type": "markdown",
   "metadata": {},
   "source": [
    "### Model 3: Random Forest Classifier"
   ]
  },
  {
   "cell_type": "code",
   "execution_count": 14,
   "metadata": {
    "scrolled": true
   },
   "outputs": [
    {
     "name": "stdout",
     "output_type": "stream",
     "text": [
      "{'n_estimators': 1000, 'min_samples_split': 20, 'max_features': None, 'criterion': 'entropy'}\n",
      "0.7041482789055604\n"
     ]
    }
   ],
   "source": [
    "# Use RandomizedSearchCV to find best parameters for Random Forest Model\n",
    "param_grid_rf = {'n_estimators': [100, 250, 500, 750, 1000],\n",
    "                 'criterion' : ['gini', 'entropy'],\n",
    "                 'min_samples_split':[20, 50, 100, 250, 500],\n",
    "                 'max_features':[None, 'sqrt']\n",
    "                }\n",
    "rf = RandomForestClassifier()\n",
    "rf_cv = RandomizedSearchCV(rf, param_grid_rf, cv=5) # Split training data into 5 cross validations\n",
    "rf_cv.fit(X_train, y_train) \n",
    "print(rf_cv.best_params_)\n",
    "print(rf_cv.best_score_)"
   ]
  },
  {
   "cell_type": "code",
   "execution_count": 15,
   "metadata": {},
   "outputs": [],
   "source": [
    "# Define the best n_estimators from the outcome of the above RandomizedSearch\n",
    "best_n_estimators_rf = rf_cv.best_params_['n_estimators']\n",
    "best_criterion_rf = rf_cv.best_params_['criterion']\n",
    "best_min_samples_split_rf = rf_cv.best_params_['min_samples_split']\n",
    "best_max_features_rf = rf_cv.best_params_['max_features']\n",
    "\n",
    "\n",
    "# Start time to predict model runtime\n",
    "start_rf = timeit.default_timer()\n",
    "\n",
    "# Fit and predict model using best parameter\n",
    "rf_best = RandomForestClassifier(n_estimators=best_n_estimators_rf, criterion=best_criterion_rf,\n",
    "                                 min_samples_split=best_min_samples_split_rf, max_features=best_max_features_rf)\n",
    "rf_best.fit(X_train, y_train)\n",
    "y_pred_rf = rf_best.predict(X_test)\n",
    "\n",
    "# Stop time to predict model runtime\n",
    "stop_rf = timeit.default_timer()\n",
    "\n",
    "# Define model runtime variable\n",
    "Time_rf = stop_rf - start_rf"
   ]
  },
  {
   "cell_type": "code",
   "execution_count": null,
   "metadata": {},
   "outputs": [],
   "source": [
    "# Cross-validate model performance\n",
    "cv_test_rf = cross_val_score(rf_best, X_test, y_test, cv=5, scoring='accuracy')\n",
    "cv_train_rf = cross_val_score(rf_best, X_train, y_train, cv=5, scoring='accuracy')\n",
    "print(cv_test_rf)\n",
    "\n",
    "#Find average of CV scores for test & train\n",
    "cv_train_rf_avg = cv_train_rf.mean()\n",
    "cv_train_rf_std = cv_train_rf.std()\n",
    "cv_test_rf_avg = cv_test_rf.mean()\n",
    "cv_test_rf_std = cv_test_rf.std()\n",
    "print('')\n",
    "print ('Mean cross validation train score: ', cv_train_rf_avg)\n",
    "print ('Standard deviation in train cv scores: ', cv_train_rf_std)\n",
    "print('')\n",
    "print ('Mean cross validation test score: ', cv_test_rf_avg)\n",
    "print ('Standard deviation in test cv scores: ', cv_test_rf_std)\n",
    "print('')\n",
    "print('Runtime: ', Time_rf)"
   ]
  },
  {
   "cell_type": "markdown",
   "metadata": {},
   "source": [
    "### Model 4: Gradient Boosting Classifier"
   ]
  },
  {
   "cell_type": "code",
   "execution_count": null,
   "metadata": {
    "scrolled": false
   },
   "outputs": [],
   "source": [
    "# Use RandomizedSearchCV to find best parameters for Gradient Boost Model\n",
    "param_grid_gb = {'learning_rate':[0.30, 0.15,0.1,0.05,0.01], \n",
    "                 'n_estimators':[100,250,500,750,1000],\n",
    "                 'min_samples_split':[50, 100, 250, 500],\n",
    "                 'max_features':[None, 'sqrt']\n",
    "                }\n",
    "gb = GradientBoostingClassifier()\n",
    "gb_cv = RandomizedSearchCV(gb, param_grid_gb, cv=5) # Split training data into 5 cross validations\n",
    "gb_cv.fit(X_train, y_train)\n",
    "print(gb_cv.best_params_)\n",
    "print(gb_cv.best_score_)"
   ]
  },
  {
   "cell_type": "code",
   "execution_count": null,
   "metadata": {},
   "outputs": [],
   "source": [
    "# Define the best parameters from the outcome of the above RandomizedSearch\n",
    "best_learning_rate_gb = gb_cv.best_params_['learning_rate']\n",
    "best_n_estimators_gb = gb_cv.best_params_['n_estimators']\n",
    "best_min_samples_split_gb = gb_cv.best_params_['min_samples_split']\n",
    "best_max_features_gb = gb_cv.best_params_['max_features']\n",
    "\n",
    "# Start time to predict model runtime\n",
    "start_gb = timeit.default_timer()\n",
    "\n",
    "# Fit and predict model using best parameter\n",
    "gb_best = GradientBoostingClassifier(learning_rate=best_learning_rate_gb, n_estimators=best_n_estimators_gb, \n",
    "                                     min_samples_split=best_min_samples_split_gb, max_features=best_features_depth_gb)\n",
    "gb_best.fit(X_train, y_train)\n",
    "y_pred = gb_best.predict(X_test)\n",
    "\n",
    "# Stop time to predict model runtime\n",
    "stop_gb = timeit.default_timer()\n",
    "\n",
    "# Define model runtime variable\n",
    "Time_gb = stop_gb - start_gb"
   ]
  },
  {
   "cell_type": "code",
   "execution_count": null,
   "metadata": {},
   "outputs": [],
   "source": [
    "# Cross-validate model performance\n",
    "cv_test_gb = cross_val_score(gb_best, X_test, y_test, cv=5, scoring='accuracy')\n",
    "cv_train_gb = cross_val_score(gb_best, X_train, y_train, cv=5, scoring='accuracy')\n",
    "print(cv_test_gb)\n",
    "\n",
    "#Find average of CV scores for test & train\n",
    "cv_train_gb_avg = cv_train_gb.mean()\n",
    "cv_train_gb_std = cv_train_gb.std()\n",
    "cv_test_gb_avg = cv_test_gb.mean()\n",
    "cv_test_gb_std = cv_test_gb.std()\n",
    "print('')\n",
    "print ('Mean cross validation train score: ', cv_train_gb_avg)\n",
    "print ('Standard deviation in train cv scores: ', cv_train_gb_std)\n",
    "print('')\n",
    "print ('Mean cross validation test score: ', cv_test_gb_avg)\n",
    "print ('Standard deviation in test cv scores: ', cv_test_gb_std)\n",
    "print('')\n",
    "print('Runtime: ', Time_gb)"
   ]
  },
  {
   "cell_type": "markdown",
   "metadata": {},
   "source": [
    "## Best Model"
   ]
  },
  {
   "cell_type": "code",
   "execution_count": null,
   "metadata": {},
   "outputs": [],
   "source": [
    "model_name = ['Gaussian Naive Bayesian', 'K-Nearest Neighbors', 'Random Forest', 'Gradient Boosting']\n",
    "cv_test_model = [cv_test_gaus_avg, cv_test_knn_avg, cv_test_rf_avg, cv_test_gb_avg]\n",
    "cv_train_model = [cv_train_gaus_avg, cv_train_knn_avg, cv_train_rf_avg, cv_train_gb_avg]\n",
    "model_time = [Time_gaus, Time_knn, Time_rf, Time_gb]\n",
    "\n",
    "modelscompared = pd.DataFrame(list(zip(model_name, cv_train_model, cv_test_model, model_time)), \n",
    "                              columns =['Model Type', 'Accuracy Train Score', 'Accuracy Test Score', 'Runtime' ]) \n",
    "print(modelscompared)"
   ]
  },
  {
   "cell_type": "code",
   "execution_count": null,
   "metadata": {},
   "outputs": [],
   "source": [
    "# Visually compare training and test models\n",
    "\n",
    "index = [1, 2, 3, 4]\n",
    "index_acc = [1.2, 2.2, 3.2, 4.2]\n",
    "modelscompared_plot = plt.figure(figsize=(10, 5))\n",
    "modelscompared_plot = plt.xlabel('Models', fontsize=15)\n",
    "modelscompared_plot = plt.ylabel ('Accuracy scores', fontsize=15)\n",
    "modelscompared_plot = plt.title('Models Compared', fontsize=15)\n",
    "modelscompared_plot = plt.bar(index,cv_train_model, label='Training',width=0.2)\n",
    "modelscompared_plot = plt.bar(index_acc,cv_test_model, label='Test',width=0.2)\n",
    "modelscompared_plot = plt.xticks([1, 2, 3, 4], model_name)\n",
    "modelscompared_plot = plt.legend()\n",
    "plt.show()"
   ]
  },
  {
   "cell_type": "code",
   "execution_count": null,
   "metadata": {},
   "outputs": [],
   "source": [
    "# Rank feature importance\n",
    "features = X\n",
    "importances = list(gb_best.feature_importances_)\n",
    "importances_sorted = np.sort(importances)\n",
    "importance_table = pd.DataFrame(list(zip(X,imp)),columns =['Features', 'Importance scores']) \n",
    "print(tab)"
   ]
  },
  {
   "cell_type": "code",
   "execution_count": null,
   "metadata": {
    "scrolled": true
   },
   "outputs": [],
   "source": [
    "# Bar graph of feature importance\n",
    "index = [0, 1, 2, 3, 4, 5, 6, 7, 8, 9, 10, 11, 12]\n",
    "importance_plot = plt.figure(figsize=(10, 5))\n",
    "importance_plot = plt.barh(index, importances_sorted)\n",
    "importance_plot = plt.xlabel('Relative Importance',fontsize=15)\n",
    "importance_plot = plt.yticks(index, features)\n",
    "importance_plot = plt.title('Feature Importances for Gradient Boosting Classifier Model',fontsize=15)\n",
    "plt.show()"
   ]
  },
  {
   "cell_type": "markdown",
   "metadata": {},
   "source": [
    "## Results"
   ]
  },
  {
   "cell_type": "markdown",
   "metadata": {},
   "source": [
    "Gradient Boosting has the highest accuracy scores but Random Forest is a close second. Gradient Boosting, also, runs almost half as fast as Random Forest. Therefore, the best model appears to be Gradient Boosting."
   ]
  }
 ],
 "metadata": {
  "kernelspec": {
   "display_name": "Python 3",
   "language": "python",
   "name": "python3"
  },
  "language_info": {
   "codemirror_mode": {
    "name": "ipython",
    "version": 3
   },
   "file_extension": ".py",
   "mimetype": "text/x-python",
   "name": "python",
   "nbconvert_exporter": "python",
   "pygments_lexer": "ipython3",
   "version": "3.6.10"
  }
 },
 "nbformat": 4,
 "nbformat_minor": 4
}
