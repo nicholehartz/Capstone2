{
 "cells": [
  {
   "cell_type": "code",
   "execution_count": 19,
   "metadata": {},
   "outputs": [],
   "source": [
    "import pandas as pd\n",
    "import numpy as np\n",
    "from scipy import stats"
   ]
  },
  {
   "cell_type": "code",
   "execution_count": 2,
   "metadata": {},
   "outputs": [],
   "source": [
    "df = pd.read_csv('Dialysis_Facility_Compare_-_Listing_by_Facility.csv')"
   ]
  },
  {
   "cell_type": "code",
   "execution_count": 3,
   "metadata": {},
   "outputs": [
    {
     "data": {
      "text/html": [
       "<div>\n",
       "<style scoped>\n",
       "    .dataframe tbody tr th:only-of-type {\n",
       "        vertical-align: middle;\n",
       "    }\n",
       "\n",
       "    .dataframe tbody tr th {\n",
       "        vertical-align: top;\n",
       "    }\n",
       "\n",
       "    .dataframe thead th {\n",
       "        text-align: right;\n",
       "    }\n",
       "</style>\n",
       "<table border=\"1\" class=\"dataframe\">\n",
       "  <thead>\n",
       "    <tr style=\"text-align: right;\">\n",
       "      <th></th>\n",
       "      <th>Provider Number</th>\n",
       "      <th>Network</th>\n",
       "      <th>Facility Name</th>\n",
       "      <th>Five Star Date</th>\n",
       "      <th>Five Star</th>\n",
       "      <th>Five Star Data Availability Code</th>\n",
       "      <th>Address Line 1</th>\n",
       "      <th>Address Line 2</th>\n",
       "      <th>City</th>\n",
       "      <th>State</th>\n",
       "      <th>...</th>\n",
       "      <th>95% C.I. (lower limit) for SWR</th>\n",
       "      <th>Number of patients in this facility for SWR</th>\n",
       "      <th>Standardized First Kidney Transplant Waitlist Ratio</th>\n",
       "      <th>PPPW category text</th>\n",
       "      <th>Patient prevalent transplant waitlist data availability code</th>\n",
       "      <th>95% C.I. (upper limit) for PPPW</th>\n",
       "      <th>95% C.I. (lower limit) for PPPW</th>\n",
       "      <th>Number of patients for PPPW</th>\n",
       "      <th>Percentage of Prevalent Patients Waitlisted</th>\n",
       "      <th>Location</th>\n",
       "    </tr>\n",
       "  </thead>\n",
       "  <tbody>\n",
       "    <tr>\n",
       "      <th>0</th>\n",
       "      <td>42592</td>\n",
       "      <td>13</td>\n",
       "      <td>DCI - LITTLE ROCK RENAL SERVICES LLC</td>\n",
       "      <td>01/01/2015 - 12/31/2018</td>\n",
       "      <td>2</td>\n",
       "      <td>1</td>\n",
       "      <td>1910 JOHN BARROW RD</td>\n",
       "      <td>NaN</td>\n",
       "      <td>LITTLE ROCK</td>\n",
       "      <td>AR</td>\n",
       "      <td>...</td>\n",
       "      <td>.12</td>\n",
       "      <td>56</td>\n",
       "      <td>.45</td>\n",
       "      <td>As Expected</td>\n",
       "      <td>1</td>\n",
       "      <td>22.8</td>\n",
       "      <td>3.4</td>\n",
       "      <td>100</td>\n",
       "      <td>9.2</td>\n",
       "      <td>POINT (-92.372456 34.73624)</td>\n",
       "    </tr>\n",
       "    <tr>\n",
       "      <th>1</th>\n",
       "      <td>52761</td>\n",
       "      <td>18</td>\n",
       "      <td>DAVITA-PREMIER DIALYSIS CENTER</td>\n",
       "      <td>01/01/2015 - 12/31/2018</td>\n",
       "      <td>3</td>\n",
       "      <td>1</td>\n",
       "      <td>7612 ATLANTIC AVENUE</td>\n",
       "      <td>NaN</td>\n",
       "      <td>CUDAHY</td>\n",
       "      <td>CA</td>\n",
       "      <td>...</td>\n",
       "      <td>.2</td>\n",
       "      <td>105</td>\n",
       "      <td>.53</td>\n",
       "      <td>As Expected</td>\n",
       "      <td>1</td>\n",
       "      <td>32.1</td>\n",
       "      <td>11.8</td>\n",
       "      <td>209</td>\n",
       "      <td>20.1</td>\n",
       "      <td>POINT (-118.187206 33.966829)</td>\n",
       "    </tr>\n",
       "    <tr>\n",
       "      <th>2</th>\n",
       "      <td>72549</td>\n",
       "      <td>1</td>\n",
       "      <td>WALLINGFORD DIALYSIS CARE LLC</td>\n",
       "      <td>01/01/2015 - 12/31/2018</td>\n",
       "      <td>5</td>\n",
       "      <td>1</td>\n",
       "      <td>720 N MAIN STREET EXT</td>\n",
       "      <td>SUITE 3</td>\n",
       "      <td>WALLINGFORD</td>\n",
       "      <td>CT</td>\n",
       "      <td>...</td>\n",
       "      <td>Not Available</td>\n",
       "      <td>12</td>\n",
       "      <td>Not Available</td>\n",
       "      <td>As Expected</td>\n",
       "      <td>1</td>\n",
       "      <td>74.5</td>\n",
       "      <td>10.1</td>\n",
       "      <td>24</td>\n",
       "      <td>36.4</td>\n",
       "      <td>POINT (-72.809521 41.472838)</td>\n",
       "    </tr>\n",
       "    <tr>\n",
       "      <th>3</th>\n",
       "      <td>82524</td>\n",
       "      <td>4</td>\n",
       "      <td>DSI LAUREL DIALYSIS, LLC</td>\n",
       "      <td>01/01/2015 - 12/31/2018</td>\n",
       "      <td>4</td>\n",
       "      <td>1</td>\n",
       "      <td>LAUREL SQUARE SHOPPING CENTER</td>\n",
       "      <td>30214 SUSSEX HIGHWAY, UNIT #4</td>\n",
       "      <td>LAUREL</td>\n",
       "      <td>DE</td>\n",
       "      <td>...</td>\n",
       "      <td>Not Available</td>\n",
       "      <td>8</td>\n",
       "      <td>Not Available</td>\n",
       "      <td>As Expected</td>\n",
       "      <td>1</td>\n",
       "      <td>74.2</td>\n",
       "      <td>.2</td>\n",
       "      <td>19</td>\n",
       "      <td>7.4</td>\n",
       "      <td>NaN</td>\n",
       "    </tr>\n",
       "    <tr>\n",
       "      <th>4</th>\n",
       "      <td>82527</td>\n",
       "      <td>4</td>\n",
       "      <td>FRESENIUS MEDICAL CARE SOUTHERN DELAWARE, LLC</td>\n",
       "      <td>01/01/2015 - 12/31/2018</td>\n",
       "      <td>5</td>\n",
       "      <td>1</td>\n",
       "      <td>9115 ANTIQUE ALLEY</td>\n",
       "      <td>NaN</td>\n",
       "      <td>BRIDGEVILLE</td>\n",
       "      <td>DE</td>\n",
       "      <td>...</td>\n",
       "      <td>Not Available</td>\n",
       "      <td>1</td>\n",
       "      <td>Not Available</td>\n",
       "      <td>As Expected</td>\n",
       "      <td>1</td>\n",
       "      <td>48.4</td>\n",
       "      <td>2.8</td>\n",
       "      <td>44</td>\n",
       "      <td>14.2</td>\n",
       "      <td>POINT (-75.592475 38.735365)</td>\n",
       "    </tr>\n",
       "  </tbody>\n",
       "</table>\n",
       "<p>5 rows × 119 columns</p>\n",
       "</div>"
      ],
      "text/plain": [
       "   Provider Number  Network                                  Facility Name  \\\n",
       "0            42592       13           DCI - LITTLE ROCK RENAL SERVICES LLC   \n",
       "1            52761       18                 DAVITA-PREMIER DIALYSIS CENTER   \n",
       "2            72549        1                  WALLINGFORD DIALYSIS CARE LLC   \n",
       "3            82524        4                       DSI LAUREL DIALYSIS, LLC   \n",
       "4            82527        4  FRESENIUS MEDICAL CARE SOUTHERN DELAWARE, LLC   \n",
       "\n",
       "            Five Star Date Five Star  Five Star Data Availability Code  \\\n",
       "0  01/01/2015 - 12/31/2018         2                                 1   \n",
       "1  01/01/2015 - 12/31/2018         3                                 1   \n",
       "2  01/01/2015 - 12/31/2018         5                                 1   \n",
       "3  01/01/2015 - 12/31/2018         4                                 1   \n",
       "4  01/01/2015 - 12/31/2018         5                                 1   \n",
       "\n",
       "                  Address Line 1                 Address Line 2         City  \\\n",
       "0            1910 JOHN BARROW RD                            NaN  LITTLE ROCK   \n",
       "1           7612 ATLANTIC AVENUE                            NaN       CUDAHY   \n",
       "2          720 N MAIN STREET EXT                        SUITE 3  WALLINGFORD   \n",
       "3  LAUREL SQUARE SHOPPING CENTER  30214 SUSSEX HIGHWAY, UNIT #4       LAUREL   \n",
       "4             9115 ANTIQUE ALLEY                            NaN  BRIDGEVILLE   \n",
       "\n",
       "  State  ...  95% C.I. (lower limit) for SWR  \\\n",
       "0    AR  ...                             .12   \n",
       "1    CA  ...                              .2   \n",
       "2    CT  ...                   Not Available   \n",
       "3    DE  ...                   Not Available   \n",
       "4    DE  ...                   Not Available   \n",
       "\n",
       "  Number of patients in this facility for SWR  \\\n",
       "0                                          56   \n",
       "1                                         105   \n",
       "2                                          12   \n",
       "3                                           8   \n",
       "4                                           1   \n",
       "\n",
       "  Standardized First Kidney Transplant Waitlist Ratio PPPW category text  \\\n",
       "0                                                .45         As Expected   \n",
       "1                                                .53         As Expected   \n",
       "2                                      Not Available         As Expected   \n",
       "3                                      Not Available         As Expected   \n",
       "4                                      Not Available         As Expected   \n",
       "\n",
       "  Patient prevalent transplant waitlist data availability code  \\\n",
       "0                                                  1             \n",
       "1                                                  1             \n",
       "2                                                  1             \n",
       "3                                                  1             \n",
       "4                                                  1             \n",
       "\n",
       "  95% C.I. (upper limit) for PPPW  95% C.I. (lower limit) for PPPW  \\\n",
       "0                            22.8                              3.4   \n",
       "1                            32.1                             11.8   \n",
       "2                            74.5                             10.1   \n",
       "3                            74.2                               .2   \n",
       "4                            48.4                              2.8   \n",
       "\n",
       "   Number of patients for PPPW  Percentage of Prevalent Patients Waitlisted  \\\n",
       "0                          100                                          9.2   \n",
       "1                          209                                         20.1   \n",
       "2                           24                                         36.4   \n",
       "3                           19                                          7.4   \n",
       "4                           44                                         14.2   \n",
       "\n",
       "                        Location  \n",
       "0    POINT (-92.372456 34.73624)  \n",
       "1  POINT (-118.187206 33.966829)  \n",
       "2   POINT (-72.809521 41.472838)  \n",
       "3                            NaN  \n",
       "4   POINT (-75.592475 38.735365)  \n",
       "\n",
       "[5 rows x 119 columns]"
      ]
     },
     "execution_count": 3,
     "metadata": {},
     "output_type": "execute_result"
    }
   ],
   "source": [
    "df.head()"
   ]
  },
  {
   "cell_type": "code",
   "execution_count": 4,
   "metadata": {
    "scrolled": true
   },
   "outputs": [
    {
     "data": {
      "text/html": [
       "<div>\n",
       "<style scoped>\n",
       "    .dataframe tbody tr th:only-of-type {\n",
       "        vertical-align: middle;\n",
       "    }\n",
       "\n",
       "    .dataframe tbody tr th {\n",
       "        vertical-align: top;\n",
       "    }\n",
       "\n",
       "    .dataframe thead th {\n",
       "        text-align: right;\n",
       "    }\n",
       "</style>\n",
       "<table border=\"1\" class=\"dataframe\">\n",
       "  <thead>\n",
       "    <tr style=\"text-align: right;\">\n",
       "      <th></th>\n",
       "      <th>Provider Number</th>\n",
       "      <th>Network</th>\n",
       "      <th>Facility Name</th>\n",
       "      <th>Five Star Date</th>\n",
       "      <th>Five Star</th>\n",
       "      <th>Five Star Data Availability Code</th>\n",
       "      <th>Address Line 1</th>\n",
       "      <th>Address Line 2</th>\n",
       "      <th>City</th>\n",
       "      <th>State</th>\n",
       "      <th>...</th>\n",
       "      <th>95% C.I. (lower limit) for SWR</th>\n",
       "      <th>Number of patients in this facility for SWR</th>\n",
       "      <th>Standardized First Kidney Transplant Waitlist Ratio</th>\n",
       "      <th>PPPW category text</th>\n",
       "      <th>Patient prevalent transplant waitlist data availability code</th>\n",
       "      <th>95% C.I. (upper limit) for PPPW</th>\n",
       "      <th>95% C.I. (lower limit) for PPPW</th>\n",
       "      <th>Number of patients for PPPW</th>\n",
       "      <th>Percentage of Prevalent Patients Waitlisted</th>\n",
       "      <th>Location</th>\n",
       "    </tr>\n",
       "  </thead>\n",
       "  <tbody>\n",
       "    <tr>\n",
       "      <th>7621</th>\n",
       "      <td>442666</td>\n",
       "      <td>8</td>\n",
       "      <td>DAVITA TENNESSEE VALLEY DIALYSIS CENTER</td>\n",
       "      <td>01/01/2015 - 12/31/2018</td>\n",
       "      <td>4</td>\n",
       "      <td>1</td>\n",
       "      <td>107 WOODLAWN DR</td>\n",
       "      <td>SUITE 100</td>\n",
       "      <td>JOHNSON CITY</td>\n",
       "      <td>TN</td>\n",
       "      <td>...</td>\n",
       "      <td>.01</td>\n",
       "      <td>39</td>\n",
       "      <td>.25</td>\n",
       "      <td>As Expected</td>\n",
       "      <td>1</td>\n",
       "      <td>33.1</td>\n",
       "      <td>2.1</td>\n",
       "      <td>76</td>\n",
       "      <td>9.5</td>\n",
       "      <td>POINT (-82.398053 36.307557)</td>\n",
       "    </tr>\n",
       "    <tr>\n",
       "      <th>7622</th>\n",
       "      <td>522598</td>\n",
       "      <td>11</td>\n",
       "      <td>DAVITA CAPITOL COURT DIALYSIS</td>\n",
       "      <td>01/01/2015 - 12/31/2018</td>\n",
       "      <td>3</td>\n",
       "      <td>1</td>\n",
       "      <td>4176 N 56TH ST</td>\n",
       "      <td>NaN</td>\n",
       "      <td>MILWAUKEE</td>\n",
       "      <td>WI</td>\n",
       "      <td>...</td>\n",
       "      <td>.05</td>\n",
       "      <td>52</td>\n",
       "      <td>.38</td>\n",
       "      <td>As Expected</td>\n",
       "      <td>1</td>\n",
       "      <td>32.6</td>\n",
       "      <td>5.2</td>\n",
       "      <td>82</td>\n",
       "      <td>14</td>\n",
       "      <td>POINT (-87.982914 43.093799)</td>\n",
       "    </tr>\n",
       "    <tr>\n",
       "      <th>7623</th>\n",
       "      <td>552873</td>\n",
       "      <td>18</td>\n",
       "      <td>DAVITA BRISTOL DIALYSIS</td>\n",
       "      <td>01/01/2015 - 12/31/2018</td>\n",
       "      <td>Not Available</td>\n",
       "      <td>258</td>\n",
       "      <td>1232 S BRISTOL ST</td>\n",
       "      <td>NaN</td>\n",
       "      <td>SANTA ANA</td>\n",
       "      <td>CA</td>\n",
       "      <td>...</td>\n",
       "      <td>Not Available</td>\n",
       "      <td>Not Available</td>\n",
       "      <td>Not Available</td>\n",
       "      <td>Not Available</td>\n",
       "      <td>258</td>\n",
       "      <td>Not Available</td>\n",
       "      <td>Not Available</td>\n",
       "      <td>Not Available</td>\n",
       "      <td>Not Available</td>\n",
       "      <td>POINT (-117.885172 33.731441)</td>\n",
       "    </tr>\n",
       "    <tr>\n",
       "      <th>7624</th>\n",
       "      <td>682558</td>\n",
       "      <td>7</td>\n",
       "      <td>FMC - WAUCHULA</td>\n",
       "      <td>01/01/2015 - 12/31/2018</td>\n",
       "      <td>4</td>\n",
       "      <td>1</td>\n",
       "      <td>457 CARLTON ST</td>\n",
       "      <td>NaN</td>\n",
       "      <td>WAUCHULA</td>\n",
       "      <td>FL</td>\n",
       "      <td>...</td>\n",
       "      <td>Not Available</td>\n",
       "      <td>22</td>\n",
       "      <td>Not Available</td>\n",
       "      <td>As Expected</td>\n",
       "      <td>1</td>\n",
       "      <td>35.4</td>\n",
       "      <td>1.9</td>\n",
       "      <td>56</td>\n",
       "      <td>9.2</td>\n",
       "      <td>POINT (-81.815351 27.536488)</td>\n",
       "    </tr>\n",
       "    <tr>\n",
       "      <th>7625</th>\n",
       "      <td>522548</td>\n",
       "      <td>11</td>\n",
       "      <td>DAVITA WEST APPLETON DIALYSIS</td>\n",
       "      <td>01/01/2015 - 12/31/2018</td>\n",
       "      <td>3</td>\n",
       "      <td>1</td>\n",
       "      <td>10130 W APPLETON AVE, SUITE 500</td>\n",
       "      <td>NaN</td>\n",
       "      <td>MILWAUKEE</td>\n",
       "      <td>WI</td>\n",
       "      <td>...</td>\n",
       "      <td>.41</td>\n",
       "      <td>41</td>\n",
       "      <td>1.27</td>\n",
       "      <td>As Expected</td>\n",
       "      <td>1</td>\n",
       "      <td>36.9</td>\n",
       "      <td>7.1</td>\n",
       "      <td>92</td>\n",
       "      <td>17.4</td>\n",
       "      <td>POINT (-88.038798 43.12228)</td>\n",
       "    </tr>\n",
       "  </tbody>\n",
       "</table>\n",
       "<p>5 rows × 119 columns</p>\n",
       "</div>"
      ],
      "text/plain": [
       "      Provider Number  Network                            Facility Name  \\\n",
       "7621           442666        8  DAVITA TENNESSEE VALLEY DIALYSIS CENTER   \n",
       "7622           522598       11            DAVITA CAPITOL COURT DIALYSIS   \n",
       "7623           552873       18                  DAVITA BRISTOL DIALYSIS   \n",
       "7624           682558        7                           FMC - WAUCHULA   \n",
       "7625           522548       11            DAVITA WEST APPLETON DIALYSIS   \n",
       "\n",
       "               Five Star Date      Five Star  \\\n",
       "7621  01/01/2015 - 12/31/2018              4   \n",
       "7622  01/01/2015 - 12/31/2018              3   \n",
       "7623  01/01/2015 - 12/31/2018  Not Available   \n",
       "7624  01/01/2015 - 12/31/2018              4   \n",
       "7625  01/01/2015 - 12/31/2018              3   \n",
       "\n",
       "      Five Star Data Availability Code                   Address Line 1  \\\n",
       "7621                                 1                  107 WOODLAWN DR   \n",
       "7622                                 1                   4176 N 56TH ST   \n",
       "7623                               258                1232 S BRISTOL ST   \n",
       "7624                                 1                   457 CARLTON ST   \n",
       "7625                                 1  10130 W APPLETON AVE, SUITE 500   \n",
       "\n",
       "     Address Line 2          City State  ...  95% C.I. (lower limit) for SWR  \\\n",
       "7621      SUITE 100  JOHNSON CITY    TN  ...                             .01   \n",
       "7622            NaN     MILWAUKEE    WI  ...                             .05   \n",
       "7623            NaN     SANTA ANA    CA  ...                   Not Available   \n",
       "7624            NaN      WAUCHULA    FL  ...                   Not Available   \n",
       "7625            NaN     MILWAUKEE    WI  ...                             .41   \n",
       "\n",
       "     Number of patients in this facility for SWR  \\\n",
       "7621                                          39   \n",
       "7622                                          52   \n",
       "7623                               Not Available   \n",
       "7624                                          22   \n",
       "7625                                          41   \n",
       "\n",
       "     Standardized First Kidney Transplant Waitlist Ratio PPPW category text  \\\n",
       "7621                                                .25         As Expected   \n",
       "7622                                                .38         As Expected   \n",
       "7623                                      Not Available       Not Available   \n",
       "7624                                      Not Available         As Expected   \n",
       "7625                                               1.27         As Expected   \n",
       "\n",
       "     Patient prevalent transplant waitlist data availability code  \\\n",
       "7621                                                  1             \n",
       "7622                                                  1             \n",
       "7623                                                258             \n",
       "7624                                                  1             \n",
       "7625                                                  1             \n",
       "\n",
       "     95% C.I. (upper limit) for PPPW  95% C.I. (lower limit) for PPPW  \\\n",
       "7621                            33.1                              2.1   \n",
       "7622                            32.6                              5.2   \n",
       "7623                   Not Available                    Not Available   \n",
       "7624                            35.4                              1.9   \n",
       "7625                            36.9                              7.1   \n",
       "\n",
       "      Number of patients for PPPW  \\\n",
       "7621                           76   \n",
       "7622                           82   \n",
       "7623                Not Available   \n",
       "7624                           56   \n",
       "7625                           92   \n",
       "\n",
       "      Percentage of Prevalent Patients Waitlisted  \\\n",
       "7621                                          9.5   \n",
       "7622                                           14   \n",
       "7623                                Not Available   \n",
       "7624                                          9.2   \n",
       "7625                                         17.4   \n",
       "\n",
       "                           Location  \n",
       "7621   POINT (-82.398053 36.307557)  \n",
       "7622   POINT (-87.982914 43.093799)  \n",
       "7623  POINT (-117.885172 33.731441)  \n",
       "7624   POINT (-81.815351 27.536488)  \n",
       "7625    POINT (-88.038798 43.12228)  \n",
       "\n",
       "[5 rows x 119 columns]"
      ]
     },
     "execution_count": 4,
     "metadata": {},
     "output_type": "execute_result"
    }
   ],
   "source": [
    "df.tail()"
   ]
  },
  {
   "cell_type": "code",
   "execution_count": 5,
   "metadata": {},
   "outputs": [
    {
     "data": {
      "text/plain": [
       "(7626, 119)"
      ]
     },
     "execution_count": 5,
     "metadata": {},
     "output_type": "execute_result"
    }
   ],
   "source": [
    "df.shape"
   ]
  },
  {
   "cell_type": "code",
   "execution_count": 6,
   "metadata": {},
   "outputs": [
    {
     "name": "stdout",
     "output_type": "stream",
     "text": [
      "Provider Number\n",
      "Network\n",
      "Facility Name\n",
      "Five Star Date\n",
      "Five Star\n",
      "Five Star Data Availability Code\n",
      "Address Line 1\n",
      "Address Line 2\n",
      "City\n",
      "State\n",
      "Zip\n",
      "County\n",
      "Phone Number\n",
      "Profit or Non-Profit\n",
      "Chain Owned\n",
      "Chain Organization\n",
      "Late Shift\n",
      "# of Dialysis Stations\n",
      "Offers in-center hemodialysis\n",
      "Offers peritoneal dialysis\n",
      "Offers home hemodialysis training\n",
      "Certification or Recertification Date\n",
      "Claims Date\n",
      "CROWNWeb Date\n",
      "STrR Date\n",
      "Percentage of Medicare patients with Hgb<10 g/dL\n",
      "HGB<10 data availability code\n",
      "Percentage of Medicare patients with Hgb>12 g/dL\n",
      "Hgb > 12 data availability code\n",
      "Number of Dialysis Patients with Hgb data\n",
      "Patient Transfusion data availability Code\n",
      "Patient Transfusion category text\n",
      "Number of patients included in the transfusion summary\n",
      "Percent of Adult HD patients with Kt/V >= 1.2\n",
      "Adult HD Kt/V data availability code\n",
      "Percentage of Adult PD PTS with Kt/V >= 1.7\n",
      "Adult PD Kt/V Data Availability Code\n",
      "Percentage of Pediatric HD patients with Kt/V >= 1.2\n",
      "Pediatric HD Kt/V Data Availability Code\n",
      "Number of Adult HD patients with Kt/V data\n",
      "Number of Adult HD patient-months with Kt/V data\n",
      "Number of Adult PD patients with Kt/V data\n",
      "Number of Adult PD patient-months with Kt/V data\n",
      "Number of Pediatric HD patients with Kt/V data\n",
      "Number of Pediatric HD patient-months with Kt/V data\n",
      "Hypercalcemia Data Availability Code\n",
      "Number of patients in hypercalcemia summary\n",
      "Number of patient-months in hypercalcemia summary\n",
      "Percentage of Adult patients with hypercalcemia (serum calcium greater than 10.2 mg/dL)\n",
      "Number of patients in Serum phosphorus summary\n",
      "Number of patient-months in Serum phosphorus summary \n",
      "Serum phosphorus Data Availability Code \n",
      "Percentage of Adult patients with serum phosphorus less than 3.5 mg/dL\n",
      "Percentage of Adult patients with serum phosphorus between 3.5-4.5 mg/dL\n",
      "Percentage of Adult patients with serum phosphorus between 4.6-5.5 mg/dL\n",
      "Percentage of Adult patients with serum phosphorus between 5.6-7.0 mg/dL\n",
      "Percentage of Adult patients with serum phosphorus greater than 7.0 mg/dL\n",
      "SHR Date\n",
      "SRR Date\n",
      "SMR Date\n",
      "Patient Hospitalization category text\n",
      "Patient Hospitalization data availability Code\n",
      "Patient Hospital Readmission Category\n",
      "Patient Hospital Readmission data availability Code\n",
      "Patient Survival Category Text\n",
      "Patient Survival data availability code\n",
      "Number of patients included in hospitalization summary\n",
      "Number of hospitalizations included in hospital readmission summary\n",
      "Number of patients included in survival summary\n",
      "Mortality Rate (Facility)\n",
      "Mortality Rate: Upper Confidence Limit (97.5%)\n",
      "Mortality Rate: Lower Confidence Limit (2.5%)\n",
      "Readmission Rate (Facility)\n",
      "Readmission Rate: Upper Confidence Limit (97.5%)\n",
      "Readmission Rate: Lower Confidence Limit (2.5%)\n",
      "Hospitalization Rate (Facility)\n",
      "Hospitalization Rate: Upper Confidence Limit (97.5%)\n",
      "Hospitalization Rate: Lower Confidence Limit (2.5%)\n",
      "Number of pediatric PD patients with Kt/V data\n",
      "Pediatric PD Kt/V Data Availability Code\n",
      "Number of pediatric PD patient-months with KT/V data\n",
      "Percentage of pediatric PD patients with Kt/V>=1.8\n",
      "SIR Date\n",
      "Patient Infection Data Availability Code\n",
      "Patient Infection category text\n",
      "Standard Infection Ratio\n",
      "SIR: Upper Confidence Limit (97.5%)\n",
      "SIR: Lower Confidence Limit (2.5%)\n",
      "Transfusion Rate (Facility)\n",
      "Transfusion Rate: Upper Confidence Limit (97.5%)\n",
      "Transfusion Rate: Lower Confidence Limit (2.5%)\n",
      "Fistula data availability code\n",
      "Fistula Category Text\n",
      "Number of Patients included in fistula summary\n",
      "Fistula Rate (Facility)\n",
      "Fistula Rate: Upper Confidence Limit (97.5%)\n",
      "Fistula Rate: Lower Confidence Limit (2.5%)\n",
      "Number of patients in long term catheter summary\n",
      "Number of patient months in long term catheter summary\n",
      "Long term catheter Data Availability Code\n",
      "Percentage of Adult patients with long term catheter in use\n",
      "Number of patients in nPCR summary\n",
      "Number of patient-months in nPCR summary\n",
      "nPCR Data Availability Code\n",
      "Percentage of pediatric HD patients with nPCR\n",
      "DATE_SWR\n",
      "SWR category text\n",
      "Patient transplant waitlist data availability code\n",
      "95% C.I. (upper limit) for SWR\n",
      "95% C.I. (lower limit) for SWR\n",
      "Number of patients in this facility for SWR\n",
      "Standardized First Kidney Transplant Waitlist Ratio\n",
      "PPPW category text\n",
      "Patient prevalent transplant waitlist data availability code\n",
      "95% C.I. (upper limit) for PPPW\n",
      "95% C.I. (lower limit) for PPPW\n",
      "Number of patients for PPPW\n",
      "Percentage of Prevalent Patients Waitlisted\n",
      "Location\n"
     ]
    }
   ],
   "source": [
    "for col in df.columns:\n",
    "    print (col)"
   ]
  },
  {
   "cell_type": "code",
   "execution_count": 7,
   "metadata": {},
   "outputs": [
    {
     "name": "stdout",
     "output_type": "stream",
     "text": [
      "Provider Number\n",
      "Network\n",
      "Facility Name\n",
      "Five Star Date\n",
      "Five Star\n",
      "Five Star Data Availability Code\n",
      "Address Line 1\n",
      "Address Line 2\n",
      "City\n",
      "State\n",
      "Zip\n",
      "County\n",
      "Phone Number\n",
      "Profit or Non-Profit\n",
      "Chain Owned\n",
      "Chain Organization\n",
      "Late Shift\n",
      "# of Dialysis Stations\n",
      "Offers in-center hemodialysis\n",
      "Offers peritoneal dialysis\n",
      "Offers home hemodialysis training\n",
      "Certification or Recertification Date\n",
      "Claims Date\n",
      "CROWNWeb Date\n",
      "STrR Date\n",
      "Percentage of Medicare patients with Hgb<10 g/dL\n",
      "HGB<10 data availability code\n",
      "Percentage of Medicare patients with Hgb>12 g/dL\n",
      "Hgb > 12 data availability code\n",
      "Number of Dialysis Patients with Hgb data\n",
      "Patient Transfusion data availability Code\n",
      "Patient Transfusion category text\n",
      "Number of patients included in the transfusion summary\n",
      "Percent of Adult HD patients with Kt/V >= 1.2\n",
      "Adult HD Kt/V data availability code\n",
      "Percentage of Adult PD PTS with Kt/V >= 1.7\n",
      "Adult PD Kt/V Data Availability Code\n",
      "Percentage of Pediatric HD patients with Kt/V >= 1.2\n",
      "Pediatric HD Kt/V Data Availability Code\n",
      "Number of Adult HD patients with Kt/V data\n",
      "Number of Adult HD patient-months with Kt/V data\n",
      "Number of Adult PD patients with Kt/V data\n",
      "Number of Adult PD patient-months with Kt/V data\n",
      "Number of Pediatric HD patients with Kt/V data\n",
      "Number of Pediatric HD patient-months with Kt/V data\n",
      "Hypercalcemia Data Availability Code\n",
      "Number of patients in hypercalcemia summary\n",
      "Number of patient-months in hypercalcemia summary\n",
      "Percentage of Adult patients with hypercalcemia (serum calcium greater than 10.2 mg/dL)\n",
      "Number of patients in Serum phosphorus summary\n",
      "Number of patient-months in Serum phosphorus summary \n",
      "Serum phosphorus Data Availability Code \n",
      "Percentage of Adult patients with serum phosphorus less than 3.5 mg/dL\n",
      "Percentage of Adult patients with serum phosphorus between 3.5-4.5 mg/dL\n",
      "Percentage of Adult patients with serum phosphorus between 4.6-5.5 mg/dL\n",
      "Percentage of Adult patients with serum phosphorus between 5.6-7.0 mg/dL\n",
      "Percentage of Adult patients with serum phosphorus greater than 7.0 mg/dL\n",
      "SHR Date\n",
      "SRR Date\n",
      "SMR Date\n",
      "Patient Hospitalization category text\n",
      "Patient Hospitalization data availability Code\n",
      "Patient Hospital Readmission Category\n",
      "Patient Hospital Readmission data availability Code\n",
      "Patient Survival Category Text\n",
      "Patient Survival data availability code\n",
      "Number of patients included in hospitalization summary\n",
      "Number of hospitalizations included in hospital readmission summary\n",
      "Number of patients included in survival summary\n",
      "Mortality Rate (Facility)\n",
      "Mortality Rate: Upper Confidence Limit (97.5%)\n",
      "Mortality Rate: Lower Confidence Limit (2.5%)\n",
      "Readmission Rate (Facility)\n",
      "Readmission Rate: Upper Confidence Limit (97.5%)\n",
      "Readmission Rate: Lower Confidence Limit (2.5%)\n",
      "Hospitalization Rate (Facility)\n",
      "Hospitalization Rate: Upper Confidence Limit (97.5%)\n",
      "Hospitalization Rate: Lower Confidence Limit (2.5%)\n",
      "Number of pediatric PD patients with Kt/V data\n",
      "Pediatric PD Kt/V Data Availability Code\n",
      "Number of pediatric PD patient-months with KT/V data\n",
      "Percentage of pediatric PD patients with Kt/V>=1.8\n",
      "SIR Date\n",
      "Patient Infection Data Availability Code\n",
      "Patient Infection category text\n",
      "Standard Infection Ratio\n",
      "SIR: Upper Confidence Limit (97.5%)\n",
      "SIR: Lower Confidence Limit (2.5%)\n",
      "Transfusion Rate (Facility)\n",
      "Transfusion Rate: Upper Confidence Limit (97.5%)\n",
      "Transfusion Rate: Lower Confidence Limit (2.5%)\n",
      "Fistula data availability code\n",
      "Fistula Category Text\n",
      "Number of Patients included in fistula summary\n",
      "Fistula Rate (Facility)\n",
      "Fistula Rate: Upper Confidence Limit (97.5%)\n",
      "Fistula Rate: Lower Confidence Limit (2.5%)\n",
      "Number of patients in long term catheter summary\n",
      "Number of patient months in long term catheter summary\n",
      "Long term catheter Data Availability Code\n",
      "Percentage of Adult patients with long term catheter in use\n",
      "Number of patients in nPCR summary\n",
      "Number of patient-months in nPCR summary\n",
      "nPCR Data Availability Code\n",
      "Percentage of pediatric HD patients with nPCR\n",
      "DATE_SWR\n",
      "SWR category text\n",
      "Patient transplant waitlist data availability code\n",
      "95% C.I. (upper limit) for SWR\n",
      "95% C.I. (lower limit) for SWR\n",
      "Number of patients in this facility for SWR\n",
      "Standardized First Kidney Transplant Waitlist Ratio\n",
      "PPPW category text\n",
      "Patient prevalent transplant waitlist data availability code\n",
      "95% C.I. (upper limit) for PPPW\n",
      "95% C.I. (lower limit) for PPPW\n",
      "Number of patients for PPPW\n",
      "Percentage of Prevalent Patients Waitlisted\n",
      "Location\n"
     ]
    }
   ],
   "source": [
    "for col in df.columns: \n",
    "    print(col) "
   ]
  },
  {
   "cell_type": "code",
   "execution_count": 8,
   "metadata": {},
   "outputs": [
    {
     "name": "stdout",
     "output_type": "stream",
     "text": [
      "<class 'pandas.core.frame.DataFrame'>\n",
      "RangeIndex: 7626 entries, 0 to 7625\n",
      "Data columns (total 60 columns):\n",
      " #   Column                                                                                   Non-Null Count  Dtype \n",
      "---  ------                                                                                   --------------  ----- \n",
      " 0   Provider Number                                                                          7626 non-null   int64 \n",
      " 1   Network                                                                                  7626 non-null   int64 \n",
      " 2   Facility Name                                                                            7626 non-null   object\n",
      " 3   Five Star Date                                                                           7626 non-null   object\n",
      " 4   Five Star                                                                                7626 non-null   object\n",
      " 5   Five Star Data Availability Code                                                         7626 non-null   int64 \n",
      " 6   Address Line 1                                                                           7626 non-null   object\n",
      " 7   Address Line 2                                                                           1087 non-null   object\n",
      " 8   City                                                                                     7626 non-null   object\n",
      " 9   State                                                                                    7626 non-null   object\n",
      " 10  Zip                                                                                      7626 non-null   int64 \n",
      " 11  County                                                                                   7626 non-null   object\n",
      " 12  Phone Number                                                                             7626 non-null   object\n",
      " 13  Profit or Non-Profit                                                                     7626 non-null   object\n",
      " 14  Chain Owned                                                                              7626 non-null   object\n",
      " 15  Chain Organization                                                                       7625 non-null   object\n",
      " 16  Late Shift                                                                               7626 non-null   int64 \n",
      " 17  # of Dialysis Stations                                                                   7626 non-null   int64 \n",
      " 18  Offers in-center hemodialysis                                                            7626 non-null   int64 \n",
      " 19  Offers peritoneal dialysis                                                               7626 non-null   int64 \n",
      " 20  Offers home hemodialysis training                                                        7626 non-null   int64 \n",
      " 21  Certification or Recertification Date                                                    7626 non-null   object\n",
      " 22  Claims Date                                                                              7626 non-null   object\n",
      " 23  CROWNWeb Date                                                                            7626 non-null   object\n",
      " 24  STrR Date                                                                                7626 non-null   object\n",
      " 25  Percentage of Medicare patients with Hgb<10 g/dL                                         7626 non-null   object\n",
      " 26  HGB<10 data availability code                                                            7626 non-null   int64 \n",
      " 27  Percentage of Medicare patients with Hgb>12 g/dL                                         7626 non-null   object\n",
      " 28  Hgb > 12 data availability code                                                          7626 non-null   int64 \n",
      " 29  Number of Dialysis Patients with Hgb data                                                7626 non-null   object\n",
      " 30  Patient Transfusion data availability Code                                               7626 non-null   int64 \n",
      " 31  Patient Transfusion category text                                                        7626 non-null   object\n",
      " 32  Number of patients included in the transfusion summary                                   7626 non-null   object\n",
      " 33  Percent of Adult HD patients with Kt/V >= 1.2                                            7626 non-null   object\n",
      " 34  Adult HD Kt/V data availability code                                                     7626 non-null   int64 \n",
      " 35  Percentage of Adult PD PTS with Kt/V >= 1.7                                              7626 non-null   object\n",
      " 36  Adult PD Kt/V Data Availability Code                                                     7626 non-null   int64 \n",
      " 37  Percentage of Pediatric HD patients with Kt/V >= 1.2                                     7626 non-null   object\n",
      " 38  Pediatric HD Kt/V Data Availability Code                                                 7626 non-null   int64 \n",
      " 39  Number of Adult HD patients with Kt/V data                                               7626 non-null   object\n",
      " 40  Number of Adult HD patient-months with Kt/V data                                         7626 non-null   object\n",
      " 41  Number of Adult PD patients with Kt/V data                                               7626 non-null   object\n",
      " 42  Number of Adult PD patient-months with Kt/V data                                         7626 non-null   object\n",
      " 43  Number of Pediatric HD patients with Kt/V data                                           7626 non-null   object\n",
      " 44  Number of Pediatric HD patient-months with Kt/V data                                     7626 non-null   object\n",
      " 45  Hypercalcemia Data Availability Code                                                     7626 non-null   int64 \n",
      " 46  Number of patients in hypercalcemia summary                                              7626 non-null   object\n",
      " 47  Number of patient-months in hypercalcemia summary                                        7626 non-null   object\n",
      " 48  Percentage of Adult patients with hypercalcemia (serum calcium greater than 10.2 mg/dL)  7626 non-null   object\n",
      " 49  Number of patients in Serum phosphorus summary                                           7626 non-null   object\n",
      " 50  Number of patient-months in Serum phosphorus summary                                     7626 non-null   object\n",
      " 51  Serum phosphorus Data Availability Code                                                  7626 non-null   int64 \n",
      " 52  Percentage of Adult patients with serum phosphorus less than 3.5 mg/dL                   7626 non-null   object\n",
      " 53  Percentage of Adult patients with serum phosphorus between 3.5-4.5 mg/dL                 7626 non-null   object\n",
      " 54  Percentage of Adult patients with serum phosphorus between 4.6-5.5 mg/dL                 7626 non-null   object\n",
      " 55  Percentage of Adult patients with serum phosphorus between 5.6-7.0 mg/dL                 7626 non-null   object\n",
      " 56  Percentage of Adult patients with serum phosphorus greater than 7.0 mg/dL                7626 non-null   object\n",
      " 57  SHR Date                                                                                 7626 non-null   object\n",
      " 58  SRR Date                                                                                 7626 non-null   object\n",
      " 59  SMR Date                                                                                 7626 non-null   object\n",
      "dtypes: int64(17), object(43)\n",
      "memory usage: 3.5+ MB\n"
     ]
    }
   ],
   "source": [
    "df.iloc[:, :60].info()"
   ]
  },
  {
   "cell_type": "code",
   "execution_count": 9,
   "metadata": {},
   "outputs": [
    {
     "name": "stdout",
     "output_type": "stream",
     "text": [
      "<class 'pandas.core.frame.DataFrame'>\n",
      "RangeIndex: 7626 entries, 0 to 7625\n",
      "Data columns (total 59 columns):\n",
      " #   Column                                                               Non-Null Count  Dtype \n",
      "---  ------                                                               --------------  ----- \n",
      " 0   Patient Hospitalization category text                                7626 non-null   object\n",
      " 1   Patient Hospitalization data availability Code                       7626 non-null   int64 \n",
      " 2   Patient Hospital Readmission Category                                7626 non-null   object\n",
      " 3   Patient Hospital Readmission data availability Code                  7626 non-null   int64 \n",
      " 4   Patient Survival Category Text                                       7626 non-null   object\n",
      " 5   Patient Survival data availability code                              7626 non-null   int64 \n",
      " 6   Number of patients included in hospitalization summary               7626 non-null   object\n",
      " 7   Number of hospitalizations included in hospital readmission summary  7626 non-null   object\n",
      " 8   Number of patients included in survival summary                      7626 non-null   object\n",
      " 9   Mortality Rate (Facility)                                            7626 non-null   object\n",
      " 10  Mortality Rate: Upper Confidence Limit (97.5%)                       7626 non-null   object\n",
      " 11  Mortality Rate: Lower Confidence Limit (2.5%)                        7626 non-null   object\n",
      " 12  Readmission Rate (Facility)                                          7626 non-null   object\n",
      " 13  Readmission Rate: Upper Confidence Limit (97.5%)                     7626 non-null   object\n",
      " 14  Readmission Rate: Lower Confidence Limit (2.5%)                      7626 non-null   object\n",
      " 15  Hospitalization Rate (Facility)                                      7626 non-null   object\n",
      " 16  Hospitalization Rate: Upper Confidence Limit (97.5%)                 7626 non-null   object\n",
      " 17  Hospitalization Rate: Lower Confidence Limit (2.5%)                  7626 non-null   object\n",
      " 18  Number of pediatric PD patients with Kt/V data                       7626 non-null   object\n",
      " 19  Pediatric PD Kt/V Data Availability Code                             7626 non-null   int64 \n",
      " 20  Number of pediatric PD patient-months with KT/V data                 7626 non-null   object\n",
      " 21  Percentage of pediatric PD patients with Kt/V>=1.8                   7626 non-null   object\n",
      " 22  SIR Date                                                             7626 non-null   object\n",
      " 23  Patient Infection Data Availability Code                             7626 non-null   int64 \n",
      " 24  Patient Infection category text                                      7626 non-null   object\n",
      " 25  Standard Infection Ratio                                             7626 non-null   object\n",
      " 26  SIR: Upper Confidence Limit (97.5%)                                  7626 non-null   object\n",
      " 27  SIR: Lower Confidence Limit (2.5%)                                   7626 non-null   object\n",
      " 28  Transfusion Rate (Facility)                                          7626 non-null   object\n",
      " 29  Transfusion Rate: Upper Confidence Limit (97.5%)                     7626 non-null   object\n",
      " 30  Transfusion Rate: Lower Confidence Limit (2.5%)                      7626 non-null   object\n",
      " 31  Fistula data availability code                                       7626 non-null   int64 \n",
      " 32  Fistula Category Text                                                7626 non-null   object\n",
      " 33  Number of Patients included in fistula summary                       7626 non-null   object\n",
      " 34  Fistula Rate (Facility)                                              7626 non-null   object\n",
      " 35  Fistula Rate: Upper Confidence Limit (97.5%)                         7626 non-null   object\n",
      " 36  Fistula Rate: Lower Confidence Limit (2.5%)                          7626 non-null   object\n",
      " 37  Number of patients in long term catheter summary                     7626 non-null   object\n",
      " 38  Number of patient months in long term catheter summary               7626 non-null   object\n",
      " 39  Long term catheter Data Availability Code                            7626 non-null   int64 \n",
      " 40  Percentage of Adult patients with long term catheter in use          7626 non-null   object\n",
      " 41  Number of patients in nPCR summary                                   7626 non-null   object\n",
      " 42  Number of patient-months in nPCR summary                             7626 non-null   object\n",
      " 43  nPCR Data Availability Code                                          7626 non-null   int64 \n",
      " 44  Percentage of pediatric HD patients with nPCR                        7626 non-null   object\n",
      " 45  DATE_SWR                                                             7626 non-null   object\n",
      " 46  SWR category text                                                    7626 non-null   object\n",
      " 47  Patient transplant waitlist data availability code                   7626 non-null   int64 \n",
      " 48  95% C.I. (upper limit) for SWR                                       7626 non-null   object\n",
      " 49  95% C.I. (lower limit) for SWR                                       7626 non-null   object\n",
      " 50  Number of patients in this facility for SWR                          7626 non-null   object\n",
      " 51  Standardized First Kidney Transplant Waitlist Ratio                  7626 non-null   object\n",
      " 52  PPPW category text                                                   7626 non-null   object\n",
      " 53  Patient prevalent transplant waitlist data availability code         7626 non-null   int64 \n",
      " 54  95% C.I. (upper limit) for PPPW                                      7626 non-null   object\n",
      " 55  95% C.I. (lower limit) for PPPW                                      7626 non-null   object\n",
      " 56  Number of patients for PPPW                                          7626 non-null   object\n",
      " 57  Percentage of Prevalent Patients Waitlisted                          7626 non-null   object\n",
      " 58  Location                                                             7162 non-null   object\n",
      "dtypes: int64(10), object(49)\n",
      "memory usage: 3.4+ MB\n"
     ]
    }
   ],
   "source": [
    "df.iloc[:, 60:].info()"
   ]
  },
  {
   "cell_type": "code",
   "execution_count": 10,
   "metadata": {},
   "outputs": [
    {
     "data": {
      "text/html": [
       "<div>\n",
       "<style scoped>\n",
       "    .dataframe tbody tr th:only-of-type {\n",
       "        vertical-align: middle;\n",
       "    }\n",
       "\n",
       "    .dataframe tbody tr th {\n",
       "        vertical-align: top;\n",
       "    }\n",
       "\n",
       "    .dataframe thead th {\n",
       "        text-align: right;\n",
       "    }\n",
       "</style>\n",
       "<table border=\"1\" class=\"dataframe\">\n",
       "  <thead>\n",
       "    <tr style=\"text-align: right;\">\n",
       "      <th></th>\n",
       "      <th>Provider Number</th>\n",
       "      <th>Network</th>\n",
       "      <th>Five Star Data Availability Code</th>\n",
       "      <th>Zip</th>\n",
       "      <th>Late Shift</th>\n",
       "      <th># of Dialysis Stations</th>\n",
       "      <th>Offers in-center hemodialysis</th>\n",
       "      <th>Offers peritoneal dialysis</th>\n",
       "      <th>Offers home hemodialysis training</th>\n",
       "      <th>HGB&lt;10 data availability code</th>\n",
       "      <th>Hgb &gt; 12 data availability code</th>\n",
       "    </tr>\n",
       "  </thead>\n",
       "  <tbody>\n",
       "    <tr>\n",
       "      <th>count</th>\n",
       "      <td>7626.000000</td>\n",
       "      <td>7626.000000</td>\n",
       "      <td>7626.000000</td>\n",
       "      <td>7626.000000</td>\n",
       "      <td>7626.000000</td>\n",
       "      <td>7626.000000</td>\n",
       "      <td>7626.000000</td>\n",
       "      <td>7626.000000</td>\n",
       "      <td>7626.00000</td>\n",
       "      <td>7626.000000</td>\n",
       "      <td>7626.000000</td>\n",
       "    </tr>\n",
       "    <tr>\n",
       "      <th>mean</th>\n",
       "      <td>315876.077105</td>\n",
       "      <td>9.660372</td>\n",
       "      <td>31.525833</td>\n",
       "      <td>50297.359691</td>\n",
       "      <td>0.167060</td>\n",
       "      <td>17.463284</td>\n",
       "      <td>0.940336</td>\n",
       "      <td>0.525439</td>\n",
       "      <td>0.29006</td>\n",
       "      <td>31.839890</td>\n",
       "      <td>31.839890</td>\n",
       "    </tr>\n",
       "    <tr>\n",
       "      <th>std</th>\n",
       "      <td>193257.685562</td>\n",
       "      <td>4.708672</td>\n",
       "      <td>83.403249</td>\n",
       "      <td>27581.675445</td>\n",
       "      <td>0.373054</td>\n",
       "      <td>8.495540</td>\n",
       "      <td>0.236879</td>\n",
       "      <td>0.499385</td>\n",
       "      <td>0.45382</td>\n",
       "      <td>75.349864</td>\n",
       "      <td>75.349864</td>\n",
       "    </tr>\n",
       "    <tr>\n",
       "      <th>min</th>\n",
       "      <td>12306.000000</td>\n",
       "      <td>1.000000</td>\n",
       "      <td>1.000000</td>\n",
       "      <td>603.000000</td>\n",
       "      <td>0.000000</td>\n",
       "      <td>0.000000</td>\n",
       "      <td>0.000000</td>\n",
       "      <td>0.000000</td>\n",
       "      <td>0.00000</td>\n",
       "      <td>1.000000</td>\n",
       "      <td>1.000000</td>\n",
       "    </tr>\n",
       "    <tr>\n",
       "      <th>25%</th>\n",
       "      <td>142822.250000</td>\n",
       "      <td>6.000000</td>\n",
       "      <td>1.000000</td>\n",
       "      <td>29533.000000</td>\n",
       "      <td>0.000000</td>\n",
       "      <td>12.000000</td>\n",
       "      <td>1.000000</td>\n",
       "      <td>0.000000</td>\n",
       "      <td>0.00000</td>\n",
       "      <td>1.000000</td>\n",
       "      <td>1.000000</td>\n",
       "    </tr>\n",
       "    <tr>\n",
       "      <th>50%</th>\n",
       "      <td>322545.500000</td>\n",
       "      <td>9.000000</td>\n",
       "      <td>1.000000</td>\n",
       "      <td>46032.000000</td>\n",
       "      <td>0.000000</td>\n",
       "      <td>17.000000</td>\n",
       "      <td>1.000000</td>\n",
       "      <td>1.000000</td>\n",
       "      <td>0.00000</td>\n",
       "      <td>1.000000</td>\n",
       "      <td>1.000000</td>\n",
       "    </tr>\n",
       "    <tr>\n",
       "      <th>75%</th>\n",
       "      <td>452511.750000</td>\n",
       "      <td>14.000000</td>\n",
       "      <td>1.000000</td>\n",
       "      <td>76060.750000</td>\n",
       "      <td>0.000000</td>\n",
       "      <td>22.000000</td>\n",
       "      <td>1.000000</td>\n",
       "      <td>1.000000</td>\n",
       "      <td>1.00000</td>\n",
       "      <td>1.000000</td>\n",
       "      <td>1.000000</td>\n",
       "    </tr>\n",
       "    <tr>\n",
       "      <th>max</th>\n",
       "      <td>852568.000000</td>\n",
       "      <td>18.000000</td>\n",
       "      <td>261.000000</td>\n",
       "      <td>99801.000000</td>\n",
       "      <td>1.000000</td>\n",
       "      <td>80.000000</td>\n",
       "      <td>1.000000</td>\n",
       "      <td>1.000000</td>\n",
       "      <td>1.00000</td>\n",
       "      <td>258.000000</td>\n",
       "      <td>258.000000</td>\n",
       "    </tr>\n",
       "  </tbody>\n",
       "</table>\n",
       "</div>"
      ],
      "text/plain": [
       "       Provider Number      Network  Five Star Data Availability Code  \\\n",
       "count      7626.000000  7626.000000                       7626.000000   \n",
       "mean     315876.077105     9.660372                         31.525833   \n",
       "std      193257.685562     4.708672                         83.403249   \n",
       "min       12306.000000     1.000000                          1.000000   \n",
       "25%      142822.250000     6.000000                          1.000000   \n",
       "50%      322545.500000     9.000000                          1.000000   \n",
       "75%      452511.750000    14.000000                          1.000000   \n",
       "max      852568.000000    18.000000                        261.000000   \n",
       "\n",
       "                Zip   Late Shift  # of Dialysis Stations  \\\n",
       "count   7626.000000  7626.000000             7626.000000   \n",
       "mean   50297.359691     0.167060               17.463284   \n",
       "std    27581.675445     0.373054                8.495540   \n",
       "min      603.000000     0.000000                0.000000   \n",
       "25%    29533.000000     0.000000               12.000000   \n",
       "50%    46032.000000     0.000000               17.000000   \n",
       "75%    76060.750000     0.000000               22.000000   \n",
       "max    99801.000000     1.000000               80.000000   \n",
       "\n",
       "       Offers in-center hemodialysis  Offers peritoneal dialysis  \\\n",
       "count                    7626.000000                 7626.000000   \n",
       "mean                        0.940336                    0.525439   \n",
       "std                         0.236879                    0.499385   \n",
       "min                         0.000000                    0.000000   \n",
       "25%                         1.000000                    0.000000   \n",
       "50%                         1.000000                    1.000000   \n",
       "75%                         1.000000                    1.000000   \n",
       "max                         1.000000                    1.000000   \n",
       "\n",
       "       Offers home hemodialysis training  HGB<10 data availability code  \\\n",
       "count                         7626.00000                    7626.000000   \n",
       "mean                             0.29006                      31.839890   \n",
       "std                              0.45382                      75.349864   \n",
       "min                              0.00000                       1.000000   \n",
       "25%                              0.00000                       1.000000   \n",
       "50%                              0.00000                       1.000000   \n",
       "75%                              1.00000                       1.000000   \n",
       "max                              1.00000                     258.000000   \n",
       "\n",
       "       Hgb > 12 data availability code  \n",
       "count                      7626.000000  \n",
       "mean                         31.839890  \n",
       "std                          75.349864  \n",
       "min                           1.000000  \n",
       "25%                           1.000000  \n",
       "50%                           1.000000  \n",
       "75%                           1.000000  \n",
       "max                         258.000000  "
      ]
     },
     "execution_count": 10,
     "metadata": {},
     "output_type": "execute_result"
    }
   ],
   "source": [
    "df.iloc[:, :30].describe()"
   ]
  },
  {
   "cell_type": "code",
   "execution_count": 11,
   "metadata": {},
   "outputs": [
    {
     "data": {
      "text/html": [
       "<div>\n",
       "<style scoped>\n",
       "    .dataframe tbody tr th:only-of-type {\n",
       "        vertical-align: middle;\n",
       "    }\n",
       "\n",
       "    .dataframe tbody tr th {\n",
       "        vertical-align: top;\n",
       "    }\n",
       "\n",
       "    .dataframe thead th {\n",
       "        text-align: right;\n",
       "    }\n",
       "</style>\n",
       "<table border=\"1\" class=\"dataframe\">\n",
       "  <thead>\n",
       "    <tr style=\"text-align: right;\">\n",
       "      <th></th>\n",
       "      <th>Patient Transfusion data availability Code</th>\n",
       "      <th>Adult HD Kt/V data availability code</th>\n",
       "      <th>Adult PD Kt/V Data Availability Code</th>\n",
       "      <th>Pediatric HD Kt/V Data Availability Code</th>\n",
       "      <th>Hypercalcemia Data Availability Code</th>\n",
       "      <th>Serum phosphorus Data Availability Code</th>\n",
       "      <th>Patient Hospitalization data availability Code</th>\n",
       "      <th>Patient Hospital Readmission data availability Code</th>\n",
       "      <th>Patient Survival data availability code</th>\n",
       "      <th>Pediatric PD Kt/V Data Availability Code</th>\n",
       "      <th>Patient Infection Data Availability Code</th>\n",
       "    </tr>\n",
       "  </thead>\n",
       "  <tbody>\n",
       "    <tr>\n",
       "      <th>count</th>\n",
       "      <td>7626.000000</td>\n",
       "      <td>7626.000000</td>\n",
       "      <td>7626.000000</td>\n",
       "      <td>7626.000000</td>\n",
       "      <td>7626.000000</td>\n",
       "      <td>7626.00000</td>\n",
       "      <td>7626.00000</td>\n",
       "      <td>7626.000000</td>\n",
       "      <td>7626.000000</td>\n",
       "      <td>7626.000000</td>\n",
       "      <td>7626.000000</td>\n",
       "    </tr>\n",
       "    <tr>\n",
       "      <th>mean</th>\n",
       "      <td>41.090742</td>\n",
       "      <td>26.262392</td>\n",
       "      <td>170.362575</td>\n",
       "      <td>255.115132</td>\n",
       "      <td>13.552190</td>\n",
       "      <td>13.12300</td>\n",
       "      <td>25.68673</td>\n",
       "      <td>26.699449</td>\n",
       "      <td>30.239182</td>\n",
       "      <td>255.840808</td>\n",
       "      <td>41.942958</td>\n",
       "    </tr>\n",
       "    <tr>\n",
       "      <th>std</th>\n",
       "      <td>87.672939</td>\n",
       "      <td>70.987742</td>\n",
       "      <td>108.505266</td>\n",
       "      <td>17.913859</td>\n",
       "      <td>52.313945</td>\n",
       "      <td>51.23718</td>\n",
       "      <td>74.10966</td>\n",
       "      <td>74.577879</td>\n",
       "      <td>79.229534</td>\n",
       "      <td>19.258111</td>\n",
       "      <td>88.145757</td>\n",
       "    </tr>\n",
       "    <tr>\n",
       "      <th>min</th>\n",
       "      <td>1.000000</td>\n",
       "      <td>1.000000</td>\n",
       "      <td>1.000000</td>\n",
       "      <td>1.000000</td>\n",
       "      <td>1.000000</td>\n",
       "      <td>1.00000</td>\n",
       "      <td>1.00000</td>\n",
       "      <td>1.000000</td>\n",
       "      <td>1.000000</td>\n",
       "      <td>1.000000</td>\n",
       "      <td>1.000000</td>\n",
       "    </tr>\n",
       "    <tr>\n",
       "      <th>25%</th>\n",
       "      <td>1.000000</td>\n",
       "      <td>1.000000</td>\n",
       "      <td>1.000000</td>\n",
       "      <td>259.000000</td>\n",
       "      <td>1.000000</td>\n",
       "      <td>1.00000</td>\n",
       "      <td>1.00000</td>\n",
       "      <td>1.000000</td>\n",
       "      <td>1.000000</td>\n",
       "      <td>259.000000</td>\n",
       "      <td>1.000000</td>\n",
       "    </tr>\n",
       "    <tr>\n",
       "      <th>50%</th>\n",
       "      <td>1.000000</td>\n",
       "      <td>1.000000</td>\n",
       "      <td>201.000000</td>\n",
       "      <td>259.000000</td>\n",
       "      <td>1.000000</td>\n",
       "      <td>1.00000</td>\n",
       "      <td>1.00000</td>\n",
       "      <td>1.000000</td>\n",
       "      <td>1.000000</td>\n",
       "      <td>259.000000</td>\n",
       "      <td>1.000000</td>\n",
       "    </tr>\n",
       "    <tr>\n",
       "      <th>75%</th>\n",
       "      <td>1.000000</td>\n",
       "      <td>1.000000</td>\n",
       "      <td>257.000000</td>\n",
       "      <td>259.000000</td>\n",
       "      <td>1.000000</td>\n",
       "      <td>1.00000</td>\n",
       "      <td>1.00000</td>\n",
       "      <td>1.000000</td>\n",
       "      <td>1.000000</td>\n",
       "      <td>259.000000</td>\n",
       "      <td>1.000000</td>\n",
       "    </tr>\n",
       "    <tr>\n",
       "      <th>max</th>\n",
       "      <td>258.000000</td>\n",
       "      <td>258.000000</td>\n",
       "      <td>258.000000</td>\n",
       "      <td>259.000000</td>\n",
       "      <td>258.000000</td>\n",
       "      <td>258.00000</td>\n",
       "      <td>258.00000</td>\n",
       "      <td>258.000000</td>\n",
       "      <td>258.000000</td>\n",
       "      <td>259.000000</td>\n",
       "      <td>258.000000</td>\n",
       "    </tr>\n",
       "  </tbody>\n",
       "</table>\n",
       "</div>"
      ],
      "text/plain": [
       "       Patient Transfusion data availability Code  \\\n",
       "count                                 7626.000000   \n",
       "mean                                    41.090742   \n",
       "std                                     87.672939   \n",
       "min                                      1.000000   \n",
       "25%                                      1.000000   \n",
       "50%                                      1.000000   \n",
       "75%                                      1.000000   \n",
       "max                                    258.000000   \n",
       "\n",
       "       Adult HD Kt/V data availability code  \\\n",
       "count                           7626.000000   \n",
       "mean                              26.262392   \n",
       "std                               70.987742   \n",
       "min                                1.000000   \n",
       "25%                                1.000000   \n",
       "50%                                1.000000   \n",
       "75%                                1.000000   \n",
       "max                              258.000000   \n",
       "\n",
       "       Adult PD Kt/V Data Availability Code  \\\n",
       "count                           7626.000000   \n",
       "mean                             170.362575   \n",
       "std                              108.505266   \n",
       "min                                1.000000   \n",
       "25%                                1.000000   \n",
       "50%                              201.000000   \n",
       "75%                              257.000000   \n",
       "max                              258.000000   \n",
       "\n",
       "       Pediatric HD Kt/V Data Availability Code  \\\n",
       "count                               7626.000000   \n",
       "mean                                 255.115132   \n",
       "std                                   17.913859   \n",
       "min                                    1.000000   \n",
       "25%                                  259.000000   \n",
       "50%                                  259.000000   \n",
       "75%                                  259.000000   \n",
       "max                                  259.000000   \n",
       "\n",
       "       Hypercalcemia Data Availability Code  \\\n",
       "count                           7626.000000   \n",
       "mean                              13.552190   \n",
       "std                               52.313945   \n",
       "min                                1.000000   \n",
       "25%                                1.000000   \n",
       "50%                                1.000000   \n",
       "75%                                1.000000   \n",
       "max                              258.000000   \n",
       "\n",
       "       Serum phosphorus Data Availability Code   \\\n",
       "count                                7626.00000   \n",
       "mean                                   13.12300   \n",
       "std                                    51.23718   \n",
       "min                                     1.00000   \n",
       "25%                                     1.00000   \n",
       "50%                                     1.00000   \n",
       "75%                                     1.00000   \n",
       "max                                   258.00000   \n",
       "\n",
       "       Patient Hospitalization data availability Code  \\\n",
       "count                                      7626.00000   \n",
       "mean                                         25.68673   \n",
       "std                                          74.10966   \n",
       "min                                           1.00000   \n",
       "25%                                           1.00000   \n",
       "50%                                           1.00000   \n",
       "75%                                           1.00000   \n",
       "max                                         258.00000   \n",
       "\n",
       "       Patient Hospital Readmission data availability Code  \\\n",
       "count                                        7626.000000     \n",
       "mean                                           26.699449     \n",
       "std                                            74.577879     \n",
       "min                                             1.000000     \n",
       "25%                                             1.000000     \n",
       "50%                                             1.000000     \n",
       "75%                                             1.000000     \n",
       "max                                           258.000000     \n",
       "\n",
       "       Patient Survival data availability code  \\\n",
       "count                              7626.000000   \n",
       "mean                                 30.239182   \n",
       "std                                  79.229534   \n",
       "min                                   1.000000   \n",
       "25%                                   1.000000   \n",
       "50%                                   1.000000   \n",
       "75%                                   1.000000   \n",
       "max                                 258.000000   \n",
       "\n",
       "       Pediatric PD Kt/V Data Availability Code  \\\n",
       "count                               7626.000000   \n",
       "mean                                 255.840808   \n",
       "std                                   19.258111   \n",
       "min                                    1.000000   \n",
       "25%                                  259.000000   \n",
       "50%                                  259.000000   \n",
       "75%                                  259.000000   \n",
       "max                                  259.000000   \n",
       "\n",
       "       Patient Infection Data Availability Code  \n",
       "count                               7626.000000  \n",
       "mean                                  41.942958  \n",
       "std                                   88.145757  \n",
       "min                                    1.000000  \n",
       "25%                                    1.000000  \n",
       "50%                                    1.000000  \n",
       "75%                                    1.000000  \n",
       "max                                  258.000000  "
      ]
     },
     "execution_count": 11,
     "metadata": {},
     "output_type": "execute_result"
    }
   ],
   "source": [
    "df.iloc[:, 30:90].describe()"
   ]
  },
  {
   "cell_type": "code",
   "execution_count": 12,
   "metadata": {},
   "outputs": [
    {
     "data": {
      "text/html": [
       "<div>\n",
       "<style scoped>\n",
       "    .dataframe tbody tr th:only-of-type {\n",
       "        vertical-align: middle;\n",
       "    }\n",
       "\n",
       "    .dataframe tbody tr th {\n",
       "        vertical-align: top;\n",
       "    }\n",
       "\n",
       "    .dataframe thead th {\n",
       "        text-align: right;\n",
       "    }\n",
       "</style>\n",
       "<table border=\"1\" class=\"dataframe\">\n",
       "  <thead>\n",
       "    <tr style=\"text-align: right;\">\n",
       "      <th></th>\n",
       "      <th>Fistula data availability code</th>\n",
       "      <th>Long term catheter Data Availability Code</th>\n",
       "      <th>nPCR Data Availability Code</th>\n",
       "      <th>Patient transplant waitlist data availability code</th>\n",
       "      <th>Patient prevalent transplant waitlist data availability code</th>\n",
       "    </tr>\n",
       "  </thead>\n",
       "  <tbody>\n",
       "    <tr>\n",
       "      <th>count</th>\n",
       "      <td>7626.000000</td>\n",
       "      <td>7626.000000</td>\n",
       "      <td>7626.000000</td>\n",
       "      <td>7626.000000</td>\n",
       "      <td>7626.000000</td>\n",
       "    </tr>\n",
       "    <tr>\n",
       "      <th>mean</th>\n",
       "      <td>22.494099</td>\n",
       "      <td>21.936271</td>\n",
       "      <td>254.674928</td>\n",
       "      <td>97.691975</td>\n",
       "      <td>14.793994</td>\n",
       "    </tr>\n",
       "    <tr>\n",
       "      <th>std</th>\n",
       "      <td>67.614074</td>\n",
       "      <td>65.879543</td>\n",
       "      <td>20.264866</td>\n",
       "      <td>105.786322</td>\n",
       "      <td>55.649087</td>\n",
       "    </tr>\n",
       "    <tr>\n",
       "      <th>min</th>\n",
       "      <td>1.000000</td>\n",
       "      <td>1.000000</td>\n",
       "      <td>1.000000</td>\n",
       "      <td>1.000000</td>\n",
       "      <td>1.000000</td>\n",
       "    </tr>\n",
       "    <tr>\n",
       "      <th>25%</th>\n",
       "      <td>1.000000</td>\n",
       "      <td>1.000000</td>\n",
       "      <td>259.000000</td>\n",
       "      <td>1.000000</td>\n",
       "      <td>1.000000</td>\n",
       "    </tr>\n",
       "    <tr>\n",
       "      <th>50%</th>\n",
       "      <td>1.000000</td>\n",
       "      <td>1.000000</td>\n",
       "      <td>259.000000</td>\n",
       "      <td>1.000000</td>\n",
       "      <td>1.000000</td>\n",
       "    </tr>\n",
       "    <tr>\n",
       "      <th>75%</th>\n",
       "      <td>1.000000</td>\n",
       "      <td>1.000000</td>\n",
       "      <td>259.000000</td>\n",
       "      <td>199.000000</td>\n",
       "      <td>1.000000</td>\n",
       "    </tr>\n",
       "    <tr>\n",
       "      <th>max</th>\n",
       "      <td>258.000000</td>\n",
       "      <td>258.000000</td>\n",
       "      <td>259.000000</td>\n",
       "      <td>258.000000</td>\n",
       "      <td>258.000000</td>\n",
       "    </tr>\n",
       "  </tbody>\n",
       "</table>\n",
       "</div>"
      ],
      "text/plain": [
       "       Fistula data availability code  \\\n",
       "count                     7626.000000   \n",
       "mean                        22.494099   \n",
       "std                         67.614074   \n",
       "min                          1.000000   \n",
       "25%                          1.000000   \n",
       "50%                          1.000000   \n",
       "75%                          1.000000   \n",
       "max                        258.000000   \n",
       "\n",
       "       Long term catheter Data Availability Code  nPCR Data Availability Code  \\\n",
       "count                                7626.000000                  7626.000000   \n",
       "mean                                   21.936271                   254.674928   \n",
       "std                                    65.879543                    20.264866   \n",
       "min                                     1.000000                     1.000000   \n",
       "25%                                     1.000000                   259.000000   \n",
       "50%                                     1.000000                   259.000000   \n",
       "75%                                     1.000000                   259.000000   \n",
       "max                                   258.000000                   259.000000   \n",
       "\n",
       "       Patient transplant waitlist data availability code  \\\n",
       "count                                        7626.000000    \n",
       "mean                                           97.691975    \n",
       "std                                           105.786322    \n",
       "min                                             1.000000    \n",
       "25%                                             1.000000    \n",
       "50%                                             1.000000    \n",
       "75%                                           199.000000    \n",
       "max                                           258.000000    \n",
       "\n",
       "       Patient prevalent transplant waitlist data availability code  \n",
       "count                                        7626.000000             \n",
       "mean                                           14.793994             \n",
       "std                                            55.649087             \n",
       "min                                             1.000000             \n",
       "25%                                             1.000000             \n",
       "50%                                             1.000000             \n",
       "75%                                             1.000000             \n",
       "max                                           258.000000             "
      ]
     },
     "execution_count": 12,
     "metadata": {},
     "output_type": "execute_result"
    }
   ],
   "source": [
    "df.iloc[:, 90:].describe()"
   ]
  },
  {
   "cell_type": "markdown",
   "metadata": {},
   "source": [
    "# Data Definitions"
   ]
  },
  {
   "cell_type": "markdown",
   "metadata": {},
   "source": [
    "### Provider Number\n",
    "Data type: int64\n",
    "\n",
    "Value count: 7626\n",
    "\n",
    "Number of unique values: 7626\n",
    "\n",
    "Percent unique values: 100%\n",
    "\n",
    "Ranges of values: 12306 - 852568\n",
    "\n",
    "Length of values: 5, 6\n",
    "\n",
    "Description: Lists the numeric code used to identify the provider listed."
   ]
  },
  {
   "cell_type": "code",
   "execution_count": 13,
   "metadata": {},
   "outputs": [
    {
     "data": {
      "text/plain": [
       "0    42592\n",
       "1    52761\n",
       "2    72549\n",
       "3    82524\n",
       "4    82527\n",
       "Name: Provider Number, dtype: int64"
      ]
     },
     "execution_count": 13,
     "metadata": {},
     "output_type": "execute_result"
    }
   ],
   "source": [
    "df['Provider Number'].head()"
   ]
  },
  {
   "cell_type": "code",
   "execution_count": 14,
   "metadata": {},
   "outputs": [
    {
     "data": {
      "text/plain": [
       "7621    442666\n",
       "7622    522598\n",
       "7623    552873\n",
       "7624    682558\n",
       "7625    522548\n",
       "Name: Provider Number, dtype: int64"
      ]
     },
     "execution_count": 14,
     "metadata": {},
     "output_type": "execute_result"
    }
   ],
   "source": [
    "df['Provider Number'].tail()"
   ]
  },
  {
   "cell_type": "code",
   "execution_count": 15,
   "metadata": {},
   "outputs": [
    {
     "data": {
      "text/plain": [
       "{5, 6}"
      ]
     },
     "execution_count": 15,
     "metadata": {},
     "output_type": "execute_result"
    }
   ],
   "source": [
    "set([(len(str(num))) for num in df['Provider Number']])"
   ]
  },
  {
   "cell_type": "code",
   "execution_count": 16,
   "metadata": {
    "scrolled": true
   },
   "outputs": [
    {
     "data": {
      "text/plain": [
       "count      7626.000000\n",
       "mean     315876.077105\n",
       "std      193257.685562\n",
       "min       12306.000000\n",
       "25%      142822.250000\n",
       "50%      322545.500000\n",
       "75%      452511.750000\n",
       "max      852568.000000\n",
       "Name: Provider Number, dtype: float64"
      ]
     },
     "execution_count": 16,
     "metadata": {},
     "output_type": "execute_result"
    }
   ],
   "source": [
    "df['Provider Number'].describe()"
   ]
  },
  {
   "cell_type": "code",
   "execution_count": 17,
   "metadata": {},
   "outputs": [
    {
     "data": {
      "text/plain": [
       "7626"
      ]
     },
     "execution_count": 17,
     "metadata": {},
     "output_type": "execute_result"
    }
   ],
   "source": [
    "df['Provider Number'].nunique()"
   ]
  },
  {
   "cell_type": "markdown",
   "metadata": {},
   "source": [
    "### Network\n",
    "Data type: int64\n",
    "\n",
    "Value count: 7626 \n",
    "\n",
    "Number of unique values: 18\n",
    "\n",
    "Percent unique values: 0%\n",
    "\n",
    "Ranges of values: 1 - 18\n",
    "\n",
    "Length of values: 1, 2\n",
    "\n",
    "Description: Lists the numeric code representing geographic area of all Medicare-approved ESRD (End Stage Renal Disease) facilities. \n",
    "Map of the network can be found here:\n",
    "https://esrdncc.org/en/ESRD-network-map/\n",
    "\n",
    "Value description:\n",
    "- 1   : Network 1 (CT, ME, MA, NH,RI,VT)\n",
    "- 2   : Network 2 (NY)\n",
    "- 3   : Network 3 (NJ, PR, VI) \n",
    "- 4   : Network 4 (DE, PA)\n",
    "- 5   : Network 5 (DC, MD, VA,WV)\n",
    "- 6   : Network 6 (GA, NC, SC)\n",
    "- 7   : Network 7 (FL)\n",
    "- 8   : Network 8 (AL, MS, TN)\n",
    "- 9   : Network 9 (IN, KY, OH)\n",
    "- 10  : Network 10 (IL)\n",
    "- 11  : Network 11 (MI, MN, ND, SD,WI)\n",
    "- 12  : Network 12 (IA, KS, MO, NE)\n",
    "- 13  : Network 13 (AR, LA, OK)\n",
    "- 14  : Network 14 (TX)\n",
    "- 15  : Network 15 (AZ, CO, NV, NM, UT,WY)\n",
    "- 16  : Network 16 (AK, ID, MT, OR, WA)\n",
    "- 17  : Network 17 (AS, GU, HI, MP, N. CA)\n",
    "- 18  : Network 18 (S. CA)"
   ]
  },
  {
   "cell_type": "code",
   "execution_count": 20,
   "metadata": {},
   "outputs": [
    {
     "data": {
      "text/plain": [
       "0    13\n",
       "1    18\n",
       "2     1\n",
       "3     4\n",
       "4     4\n",
       "Name: Network, dtype: int64"
      ]
     },
     "execution_count": 20,
     "metadata": {},
     "output_type": "execute_result"
    }
   ],
   "source": [
    "df['Network'].head()"
   ]
  },
  {
   "cell_type": "code",
   "execution_count": 21,
   "metadata": {},
   "outputs": [
    {
     "data": {
      "text/plain": [
       "7621     8\n",
       "7622    11\n",
       "7623    18\n",
       "7624     7\n",
       "7625    11\n",
       "Name: Network, dtype: int64"
      ]
     },
     "execution_count": 21,
     "metadata": {},
     "output_type": "execute_result"
    }
   ],
   "source": [
    "df['Network'].tail()"
   ]
  },
  {
   "cell_type": "code",
   "execution_count": 22,
   "metadata": {
    "scrolled": false
   },
   "outputs": [
    {
     "data": {
      "text/plain": [
       "count    7626.000000\n",
       "mean        9.660372\n",
       "std         4.708672\n",
       "min         1.000000\n",
       "25%         6.000000\n",
       "50%         9.000000\n",
       "75%        14.000000\n",
       "max        18.000000\n",
       "Name: Network, dtype: float64"
      ]
     },
     "execution_count": 22,
     "metadata": {},
     "output_type": "execute_result"
    }
   ],
   "source": [
    "df['Network'].describe()"
   ]
  },
  {
   "cell_type": "code",
   "execution_count": 23,
   "metadata": {
    "scrolled": true
   },
   "outputs": [
    {
     "data": {
      "text/plain": [
       "18"
      ]
     },
     "execution_count": 23,
     "metadata": {},
     "output_type": "execute_result"
    }
   ],
   "source": [
    "df['Network'].nunique()"
   ]
  },
  {
   "cell_type": "code",
   "execution_count": 24,
   "metadata": {},
   "outputs": [
    {
     "data": {
      "text/plain": [
       "array([13, 18,  1,  4,  6, 10,  9,  5, 11,  3,  2, 16,  8, 17, 14,  7, 12,\n",
       "       15])"
      ]
     },
     "execution_count": 24,
     "metadata": {},
     "output_type": "execute_result"
    }
   ],
   "source": [
    "df['Network'].unique()"
   ]
  },
  {
   "cell_type": "code",
   "execution_count": 25,
   "metadata": {},
   "outputs": [
    {
     "data": {
      "text/plain": [
       "False    18\n",
       "dtype: int64"
      ]
     },
     "execution_count": 25,
     "metadata": {},
     "output_type": "execute_result"
    }
   ],
   "source": [
    "# Percent unique values\n",
    "# True if facility has a value count of 1 (aka unique)\n",
    "pd.Series([facility == 1 for facility in df['Network'].value_counts()]).value_counts()"
   ]
  },
  {
   "cell_type": "markdown",
   "metadata": {},
   "source": [
    "### Facility Name\n",
    "Data type: object\n",
    "\n",
    "Value count: 7626 \n",
    "\n",
    "Number of unique values: 7448\n",
    "\n",
    "Percent unique values: 96.5%\n",
    "\n",
    "Length of values: 7 - 68\n",
    "\n",
    "Description: Lists the name of the facility listed."
   ]
  },
  {
   "cell_type": "code",
   "execution_count": 26,
   "metadata": {},
   "outputs": [
    {
     "data": {
      "text/plain": [
       "0             DCI - LITTLE ROCK RENAL SERVICES LLC\n",
       "1                   DAVITA-PREMIER DIALYSIS CENTER\n",
       "2                    WALLINGFORD DIALYSIS CARE LLC\n",
       "3                         DSI LAUREL DIALYSIS, LLC\n",
       "4    FRESENIUS MEDICAL CARE SOUTHERN DELAWARE, LLC\n",
       "Name: Facility Name, dtype: object"
      ]
     },
     "execution_count": 26,
     "metadata": {},
     "output_type": "execute_result"
    }
   ],
   "source": [
    "df['Facility Name'].head()"
   ]
  },
  {
   "cell_type": "code",
   "execution_count": 27,
   "metadata": {},
   "outputs": [
    {
     "data": {
      "text/plain": [
       "7621    DAVITA TENNESSEE VALLEY DIALYSIS CENTER\n",
       "7622              DAVITA CAPITOL COURT DIALYSIS\n",
       "7623                    DAVITA BRISTOL DIALYSIS\n",
       "7624                             FMC - WAUCHULA\n",
       "7625              DAVITA WEST APPLETON DIALYSIS\n",
       "Name: Facility Name, dtype: object"
      ]
     },
     "execution_count": 27,
     "metadata": {},
     "output_type": "execute_result"
    }
   ],
   "source": [
    "df['Facility Name'].tail()"
   ]
  },
  {
   "cell_type": "code",
   "execution_count": 28,
   "metadata": {
    "scrolled": true
   },
   "outputs": [
    {
     "data": {
      "text/plain": [
       "count                                        7626\n",
       "unique                                       7448\n",
       "top       BIO-MEDICAL APPLICATIONS OF TEXAS, INC.\n",
       "freq                                           12\n",
       "Name: Facility Name, dtype: object"
      ]
     },
     "execution_count": 28,
     "metadata": {},
     "output_type": "execute_result"
    }
   ],
   "source": [
    "df['Facility Name'].describe()"
   ]
  },
  {
   "cell_type": "code",
   "execution_count": 29,
   "metadata": {},
   "outputs": [
    {
     "data": {
      "text/plain": [
       "True     7362\n",
       "False      86\n",
       "dtype: int64"
      ]
     },
     "execution_count": 29,
     "metadata": {},
     "output_type": "execute_result"
    }
   ],
   "source": [
    "# Percent unique values\n",
    "# True if facility has a value count of 1 (aka unique)\n",
    "pd.Series([facility == 1 for facility in df['Facility Name'].value_counts()]).value_counts()"
   ]
  },
  {
   "cell_type": "code",
   "execution_count": 30,
   "metadata": {},
   "outputs": [
    {
     "data": {
      "text/plain": [
       "{7,\n",
       " 8,\n",
       " 9,\n",
       " 10,\n",
       " 11,\n",
       " 12,\n",
       " 13,\n",
       " 14,\n",
       " 15,\n",
       " 16,\n",
       " 17,\n",
       " 18,\n",
       " 19,\n",
       " 20,\n",
       " 21,\n",
       " 22,\n",
       " 23,\n",
       " 24,\n",
       " 25,\n",
       " 26,\n",
       " 27,\n",
       " 28,\n",
       " 29,\n",
       " 30,\n",
       " 31,\n",
       " 32,\n",
       " 33,\n",
       " 34,\n",
       " 35,\n",
       " 36,\n",
       " 37,\n",
       " 38,\n",
       " 39,\n",
       " 40,\n",
       " 41,\n",
       " 42,\n",
       " 43,\n",
       " 44,\n",
       " 45,\n",
       " 46,\n",
       " 47,\n",
       " 48,\n",
       " 49,\n",
       " 50,\n",
       " 51,\n",
       " 52,\n",
       " 53,\n",
       " 54,\n",
       " 55,\n",
       " 56,\n",
       " 57,\n",
       " 59,\n",
       " 61,\n",
       " 62,\n",
       " 67,\n",
       " 68}"
      ]
     },
     "execution_count": 30,
     "metadata": {},
     "output_type": "execute_result"
    }
   ],
   "source": [
    "set([(len(str(num))) for num in df['Facility Name']])"
   ]
  },
  {
   "cell_type": "markdown",
   "metadata": {},
   "source": [
    "### Five Star Date\n",
    "Data type: object\n",
    "\n",
    "Value count: 7626\n",
    "\n",
    "Number of unique values: 1\n",
    "\n",
    "Percent unique values: 0% \n",
    "\n",
    "Ranges of values: \"01/01/2015 - 12/31/2018\"\n",
    "\n",
    "Length of values: 23\n",
    "\n",
    "Description: Lists the data collection period for the five star rating."
   ]
  },
  {
   "cell_type": "code",
   "execution_count": 31,
   "metadata": {},
   "outputs": [
    {
     "data": {
      "text/plain": [
       "0    01/01/2015 - 12/31/2018\n",
       "1    01/01/2015 - 12/31/2018\n",
       "2    01/01/2015 - 12/31/2018\n",
       "3    01/01/2015 - 12/31/2018\n",
       "4    01/01/2015 - 12/31/2018\n",
       "Name: Five Star Date, dtype: object"
      ]
     },
     "execution_count": 31,
     "metadata": {},
     "output_type": "execute_result"
    }
   ],
   "source": [
    "df['Five Star Date'].head()"
   ]
  },
  {
   "cell_type": "code",
   "execution_count": 32,
   "metadata": {},
   "outputs": [
    {
     "data": {
      "text/plain": [
       "7621    01/01/2015 - 12/31/2018\n",
       "7622    01/01/2015 - 12/31/2018\n",
       "7623    01/01/2015 - 12/31/2018\n",
       "7624    01/01/2015 - 12/31/2018\n",
       "7625    01/01/2015 - 12/31/2018\n",
       "Name: Five Star Date, dtype: object"
      ]
     },
     "execution_count": 32,
     "metadata": {},
     "output_type": "execute_result"
    }
   ],
   "source": [
    "df['Five Star Date'].tail()"
   ]
  },
  {
   "cell_type": "code",
   "execution_count": 33,
   "metadata": {},
   "outputs": [
    {
     "data": {
      "text/plain": [
       "count                        7626\n",
       "unique                          1\n",
       "top       01/01/2015 - 12/31/2018\n",
       "freq                         7626\n",
       "Name: Five Star Date, dtype: object"
      ]
     },
     "execution_count": 33,
     "metadata": {},
     "output_type": "execute_result"
    }
   ],
   "source": [
    "df['Five Star Date'].describe()"
   ]
  },
  {
   "cell_type": "code",
   "execution_count": 34,
   "metadata": {},
   "outputs": [
    {
     "data": {
      "text/plain": [
       "{23}"
      ]
     },
     "execution_count": 34,
     "metadata": {},
     "output_type": "execute_result"
    }
   ],
   "source": [
    "set([(len(str(num))) for num in df['Five Star Date']])"
   ]
  },
  {
   "cell_type": "code",
   "execution_count": 35,
   "metadata": {},
   "outputs": [
    {
     "data": {
      "text/plain": [
       "array(['01/01/2015 - 12/31/2018'], dtype=object)"
      ]
     },
     "execution_count": 35,
     "metadata": {},
     "output_type": "execute_result"
    }
   ],
   "source": [
    "df['Five Star Date'].unique()"
   ]
  },
  {
   "cell_type": "markdown",
   "metadata": {},
   "source": [
    "### Five Star\n",
    "Data type: object\n",
    "\n",
    "Value count: 7626\n",
    "\n",
    "Number of unique values: 6\n",
    "\n",
    "Percent unique values: 0%\n",
    "\n",
    "Ranges of values: 1 - 5, \"Not Available\"\n",
    "\n",
    "Length of values: 1, 13\n",
    "\n",
    "Description: Lists the 5-star rating for the facility. The “Dialysis Facility Compare (DFC) Star Program” is a rating system developed by Medicare that assigns 1 to 5 stars to dialysis facilities by comparing the health of the patients in their clinics to the patients in other dialysis facilities across the country."
   ]
  },
  {
   "cell_type": "code",
   "execution_count": 36,
   "metadata": {},
   "outputs": [
    {
     "data": {
      "text/plain": [
       "0    2\n",
       "1    3\n",
       "2    5\n",
       "3    4\n",
       "4    5\n",
       "Name: Five Star, dtype: object"
      ]
     },
     "execution_count": 36,
     "metadata": {},
     "output_type": "execute_result"
    }
   ],
   "source": [
    "df['Five Star'].head()"
   ]
  },
  {
   "cell_type": "code",
   "execution_count": 37,
   "metadata": {},
   "outputs": [
    {
     "data": {
      "text/plain": [
       "7621                4\n",
       "7622                3\n",
       "7623    Not Available\n",
       "7624                4\n",
       "7625                3\n",
       "Name: Five Star, dtype: object"
      ]
     },
     "execution_count": 37,
     "metadata": {},
     "output_type": "execute_result"
    }
   ],
   "source": [
    "df['Five Star'].tail()"
   ]
  },
  {
   "cell_type": "code",
   "execution_count": 38,
   "metadata": {},
   "outputs": [
    {
     "data": {
      "text/plain": [
       "count     7626\n",
       "unique       6\n",
       "top          3\n",
       "freq      2269\n",
       "Name: Five Star, dtype: object"
      ]
     },
     "execution_count": 38,
     "metadata": {},
     "output_type": "execute_result"
    }
   ],
   "source": [
    "df['Five Star'].describe()"
   ]
  },
  {
   "cell_type": "code",
   "execution_count": 39,
   "metadata": {},
   "outputs": [
    {
     "data": {
      "text/plain": [
       "3                2269\n",
       "4                1937\n",
       "5                1844\n",
       "Not Available     901\n",
       "2                 491\n",
       "1                 184\n",
       "Name: Five Star, dtype: int64"
      ]
     },
     "execution_count": 39,
     "metadata": {},
     "output_type": "execute_result"
    }
   ],
   "source": [
    "df['Five Star'].value_counts()"
   ]
  },
  {
   "cell_type": "code",
   "execution_count": 40,
   "metadata": {},
   "outputs": [
    {
     "data": {
      "text/plain": [
       "False    6\n",
       "dtype: int64"
      ]
     },
     "execution_count": 40,
     "metadata": {},
     "output_type": "execute_result"
    }
   ],
   "source": [
    "# Percent unique values\n",
    "# True if facility has a value count of 1 (aka unique)\n",
    "pd.Series([facility == 1 for facility in df['Five Star'].value_counts()]).value_counts()"
   ]
  },
  {
   "cell_type": "markdown",
   "metadata": {},
   "source": [
    "### Five Star Data Availability Code\n",
    "Data type: int64\n",
    "\n",
    "Value count: 7626\n",
    "\n",
    "Number of unique values: 4\n",
    "\n",
    "Percent unique values: 0% unique\n",
    "\n",
    "Ranges of values: 1, 258, 260, 261\n",
    "\n",
    "Length of values: 1, 3\n",
    "\n",
    "Description: Lists whether the facility had sufficient five star data available or the reason for why the data is not available.\n",
    "\n",
    "Value description:\n",
    "- 1   : N/A\n",
    "- 258 : The dialysis center was not open long enough to supply sufficient measure data. \n",
    "- 260 : Not enough quality measure data to calculate a star rating.\n",
    "- 261 : Medicare determined that at least one measure included in the star rating calculation was not accurate for this dialysis center."
   ]
  },
  {
   "cell_type": "code",
   "execution_count": 41,
   "metadata": {},
   "outputs": [
    {
     "data": {
      "text/plain": [
       "0    1\n",
       "1    1\n",
       "2    1\n",
       "3    1\n",
       "4    1\n",
       "Name: Five Star Data Availability Code, dtype: int64"
      ]
     },
     "execution_count": 41,
     "metadata": {},
     "output_type": "execute_result"
    }
   ],
   "source": [
    "df['Five Star Data Availability Code'].head()"
   ]
  },
  {
   "cell_type": "code",
   "execution_count": 42,
   "metadata": {},
   "outputs": [
    {
     "data": {
      "text/plain": [
       "7621      1\n",
       "7622      1\n",
       "7623    258\n",
       "7624      1\n",
       "7625      1\n",
       "Name: Five Star Data Availability Code, dtype: int64"
      ]
     },
     "execution_count": 42,
     "metadata": {},
     "output_type": "execute_result"
    }
   ],
   "source": [
    "df['Five Star Data Availability Code'].tail()"
   ]
  },
  {
   "cell_type": "code",
   "execution_count": 43,
   "metadata": {},
   "outputs": [
    {
     "data": {
      "text/plain": [
       "1      6725\n",
       "260     612\n",
       "258     286\n",
       "261       3\n",
       "Name: Five Star Data Availability Code, dtype: int64"
      ]
     },
     "execution_count": 43,
     "metadata": {},
     "output_type": "execute_result"
    }
   ],
   "source": [
    "df['Five Star Data Availability Code'].value_counts()"
   ]
  },
  {
   "cell_type": "code",
   "execution_count": 44,
   "metadata": {},
   "outputs": [
    {
     "data": {
      "text/plain": [
       "7626"
      ]
     },
     "execution_count": 44,
     "metadata": {},
     "output_type": "execute_result"
    }
   ],
   "source": [
    "df['Five Star Data Availability Code'].count()"
   ]
  },
  {
   "cell_type": "markdown",
   "metadata": {},
   "source": [
    "### Address Line 1\n",
    "Data type: object\n",
    "\n",
    "Value count: 7626\n",
    "\n",
    "Number of unique values: 7574\n",
    "\n",
    "Percent unique values: 98.9%\n",
    "\n",
    "Length of values: 4 - 59\n",
    "\n",
    "Description: Lists the first line of the address that corresponds to the facility listed."
   ]
  },
  {
   "cell_type": "code",
   "execution_count": 45,
   "metadata": {},
   "outputs": [
    {
     "data": {
      "text/plain": [
       "0              1910 JOHN BARROW RD\n",
       "1             7612 ATLANTIC AVENUE\n",
       "2            720 N MAIN STREET EXT\n",
       "3    LAUREL SQUARE SHOPPING CENTER\n",
       "4               9115 ANTIQUE ALLEY\n",
       "Name: Address Line 1, dtype: object"
      ]
     },
     "execution_count": 45,
     "metadata": {},
     "output_type": "execute_result"
    }
   ],
   "source": [
    "df['Address Line 1'].head()"
   ]
  },
  {
   "cell_type": "code",
   "execution_count": 46,
   "metadata": {
    "scrolled": true
   },
   "outputs": [
    {
     "data": {
      "text/plain": [
       "count              7626\n",
       "unique             7574\n",
       "top       DIALYSIS UNIT\n",
       "freq                 23\n",
       "Name: Address Line 1, dtype: object"
      ]
     },
     "execution_count": 46,
     "metadata": {},
     "output_type": "execute_result"
    }
   ],
   "source": [
    "df['Address Line 1'].describe()"
   ]
  },
  {
   "cell_type": "code",
   "execution_count": 47,
   "metadata": {},
   "outputs": [
    {
     "data": {
      "text/plain": [
       "True     7545\n",
       "False      29\n",
       "dtype: int64"
      ]
     },
     "execution_count": 47,
     "metadata": {},
     "output_type": "execute_result"
    }
   ],
   "source": [
    "# Percent unique values\n",
    "# True if facility has a value count of 1 (aka unique)\n",
    "pd.Series([facility == 1 for facility in df['Address Line 1'].value_counts()]).value_counts()"
   ]
  },
  {
   "cell_type": "code",
   "execution_count": 48,
   "metadata": {},
   "outputs": [
    {
     "data": {
      "text/plain": [
       "{4,\n",
       " 8,\n",
       " 9,\n",
       " 10,\n",
       " 11,\n",
       " 12,\n",
       " 13,\n",
       " 14,\n",
       " 15,\n",
       " 16,\n",
       " 17,\n",
       " 18,\n",
       " 19,\n",
       " 20,\n",
       " 21,\n",
       " 22,\n",
       " 23,\n",
       " 24,\n",
       " 25,\n",
       " 26,\n",
       " 27,\n",
       " 28,\n",
       " 29,\n",
       " 30,\n",
       " 31,\n",
       " 32,\n",
       " 33,\n",
       " 34,\n",
       " 35,\n",
       " 36,\n",
       " 37,\n",
       " 38,\n",
       " 39,\n",
       " 40,\n",
       " 41,\n",
       " 42,\n",
       " 43,\n",
       " 44,\n",
       " 45,\n",
       " 46,\n",
       " 47,\n",
       " 49,\n",
       " 50,\n",
       " 58,\n",
       " 59}"
      ]
     },
     "execution_count": 48,
     "metadata": {},
     "output_type": "execute_result"
    }
   ],
   "source": [
    "set([(len(str(num))) for num in df['Address Line 1']])"
   ]
  },
  {
   "cell_type": "markdown",
   "metadata": {},
   "source": [
    "### Address Line 2\n",
    "Data type: object\n",
    "\n",
    "Value count: 1087\n",
    "\n",
    "Number of unique values: 599\n",
    "\n",
    "Percent unique values: 46.9% unique\n",
    "\n",
    "Length of values: 2 - 47\n",
    "\n",
    "Description: Lists the second line of the address that corresponds to the facility listed."
   ]
  },
  {
   "cell_type": "code",
   "execution_count": 49,
   "metadata": {
    "scrolled": true
   },
   "outputs": [
    {
     "data": {
      "text/plain": [
       "0                              NaN\n",
       "1                              NaN\n",
       "2                          SUITE 3\n",
       "3    30214 SUSSEX HIGHWAY, UNIT #4\n",
       "4                              NaN\n",
       "Name: Address Line 2, dtype: object"
      ]
     },
     "execution_count": 49,
     "metadata": {},
     "output_type": "execute_result"
    }
   ],
   "source": [
    "df['Address Line 2'].head()"
   ]
  },
  {
   "cell_type": "code",
   "execution_count": 50,
   "metadata": {},
   "outputs": [
    {
     "data": {
      "text/plain": [
       "7621    SUITE 100\n",
       "7622          NaN\n",
       "7623          NaN\n",
       "7624          NaN\n",
       "7625          NaN\n",
       "Name: Address Line 2, dtype: object"
      ]
     },
     "execution_count": 50,
     "metadata": {},
     "output_type": "execute_result"
    }
   ],
   "source": [
    "df['Address Line 2'].tail()"
   ]
  },
  {
   "cell_type": "code",
   "execution_count": 51,
   "metadata": {
    "scrolled": true
   },
   "outputs": [
    {
     "data": {
      "text/plain": [
       "count          1087\n",
       "unique          599\n",
       "top       SUITE 100\n",
       "freq             81\n",
       "Name: Address Line 2, dtype: object"
      ]
     },
     "execution_count": 51,
     "metadata": {},
     "output_type": "execute_result"
    }
   ],
   "source": [
    "df['Address Line 2'].describe()"
   ]
  },
  {
   "cell_type": "code",
   "execution_count": 52,
   "metadata": {},
   "outputs": [
    {
     "data": {
      "text/plain": [
       "True     510\n",
       "False     89\n",
       "dtype: int64"
      ]
     },
     "execution_count": 52,
     "metadata": {},
     "output_type": "execute_result"
    }
   ],
   "source": [
    "# Percent unique values\n",
    "# True if facility has a value count of 1 (aka unique)\n",
    "pd.Series([facility == 1 for facility in df['Address Line 2'].value_counts()]).value_counts()"
   ]
  },
  {
   "cell_type": "code",
   "execution_count": 53,
   "metadata": {},
   "outputs": [
    {
     "data": {
      "text/plain": [
       "{2,\n",
       " 3,\n",
       " 4,\n",
       " 5,\n",
       " 6,\n",
       " 7,\n",
       " 8,\n",
       " 9,\n",
       " 10,\n",
       " 11,\n",
       " 12,\n",
       " 13,\n",
       " 14,\n",
       " 15,\n",
       " 16,\n",
       " 17,\n",
       " 18,\n",
       " 19,\n",
       " 20,\n",
       " 21,\n",
       " 22,\n",
       " 23,\n",
       " 24,\n",
       " 25,\n",
       " 26,\n",
       " 27,\n",
       " 28,\n",
       " 29,\n",
       " 30,\n",
       " 31,\n",
       " 32,\n",
       " 33,\n",
       " 34,\n",
       " 35,\n",
       " 36,\n",
       " 37,\n",
       " 38,\n",
       " 41,\n",
       " 47}"
      ]
     },
     "execution_count": 53,
     "metadata": {},
     "output_type": "execute_result"
    }
   ],
   "source": [
    "(set([(len(str(num))) for num in df['Address Line 2']]))"
   ]
  },
  {
   "cell_type": "markdown",
   "metadata": {},
   "source": [
    "### State\n",
    "Data type: object\n",
    "\n",
    "Value count: 7626\n",
    "\n",
    "Number of unique values: 56\n",
    "\n",
    "Percent unique values: 0% unique\n",
    "\n",
    "Length of values: 2\n",
    "\n",
    "Description: Lists the alphabetic postal code used to identify the state that corresponds to the facility listed."
   ]
  },
  {
   "cell_type": "code",
   "execution_count": 54,
   "metadata": {},
   "outputs": [
    {
     "data": {
      "text/plain": [
       "0    AR\n",
       "1    CA\n",
       "2    CT\n",
       "3    DE\n",
       "4    DE\n",
       "Name: State, dtype: object"
      ]
     },
     "execution_count": 54,
     "metadata": {},
     "output_type": "execute_result"
    }
   ],
   "source": [
    "df['State'].head()"
   ]
  },
  {
   "cell_type": "code",
   "execution_count": 55,
   "metadata": {},
   "outputs": [
    {
     "data": {
      "text/plain": [
       "7621    TN\n",
       "7622    WI\n",
       "7623    CA\n",
       "7624    FL\n",
       "7625    WI\n",
       "Name: State, dtype: object"
      ]
     },
     "execution_count": 55,
     "metadata": {},
     "output_type": "execute_result"
    }
   ],
   "source": [
    "df['State'].tail()"
   ]
  },
  {
   "cell_type": "code",
   "execution_count": 56,
   "metadata": {},
   "outputs": [
    {
     "data": {
      "text/plain": [
       "count     7626\n",
       "unique      56\n",
       "top         TX\n",
       "freq       749\n",
       "Name: State, dtype: object"
      ]
     },
     "execution_count": 56,
     "metadata": {},
     "output_type": "execute_result"
    }
   ],
   "source": [
    "df['State'].describe()"
   ]
  },
  {
   "cell_type": "code",
   "execution_count": 57,
   "metadata": {},
   "outputs": [
    {
     "data": {
      "text/plain": [
       "False    56\n",
       "dtype: int64"
      ]
     },
     "execution_count": 57,
     "metadata": {},
     "output_type": "execute_result"
    }
   ],
   "source": [
    "# Percent unique values\n",
    "# True if facility has a value count of 1 (aka unique)\n",
    "pd.Series([facility == 1 for facility in df['State'].value_counts()]).value_counts()"
   ]
  },
  {
   "cell_type": "markdown",
   "metadata": {},
   "source": [
    "### Zip\n",
    "Data type: int64\n",
    "\n",
    "Value count: 7626\n",
    "\n",
    "Number of unique values: 5276\n",
    "\n",
    "Percent unique values: 47.5% unique\n",
    "\n",
    "Ranges of values: 603 - 99801\n",
    "\n",
    "Length of values: 3 - 5\n",
    "\n",
    "Description: Lists the full postal ZIP code that corresponds to the facility listed."
   ]
  },
  {
   "cell_type": "code",
   "execution_count": 58,
   "metadata": {
    "scrolled": true
   },
   "outputs": [
    {
     "data": {
      "text/plain": [
       "0    72204\n",
       "1    90201\n",
       "2     6492\n",
       "3    19956\n",
       "4    19933\n",
       "Name: Zip, dtype: int64"
      ]
     },
     "execution_count": 58,
     "metadata": {},
     "output_type": "execute_result"
    }
   ],
   "source": [
    "df['Zip'].head()"
   ]
  },
  {
   "cell_type": "code",
   "execution_count": 59,
   "metadata": {},
   "outputs": [
    {
     "data": {
      "text/plain": [
       "7621    37604\n",
       "7622    53216\n",
       "7623    92704\n",
       "7624    33873\n",
       "7625    53225\n",
       "Name: Zip, dtype: int64"
      ]
     },
     "execution_count": 59,
     "metadata": {},
     "output_type": "execute_result"
    }
   ],
   "source": [
    "df['Zip'].tail()"
   ]
  },
  {
   "cell_type": "code",
   "execution_count": 60,
   "metadata": {
    "scrolled": true
   },
   "outputs": [
    {
     "data": {
      "text/plain": [
       "count     7626.000000\n",
       "mean     50297.359691\n",
       "std      27581.675445\n",
       "min        603.000000\n",
       "25%      29533.000000\n",
       "50%      46032.000000\n",
       "75%      76060.750000\n",
       "max      99801.000000\n",
       "Name: Zip, dtype: float64"
      ]
     },
     "execution_count": 60,
     "metadata": {},
     "output_type": "execute_result"
    }
   ],
   "source": [
    "df['Zip'].describe()"
   ]
  },
  {
   "cell_type": "code",
   "execution_count": 61,
   "metadata": {
    "scrolled": true
   },
   "outputs": [
    {
     "data": {
      "text/plain": [
       "5276"
      ]
     },
     "execution_count": 61,
     "metadata": {},
     "output_type": "execute_result"
    }
   ],
   "source": [
    "df['Zip'].nunique()"
   ]
  },
  {
   "cell_type": "code",
   "execution_count": 62,
   "metadata": {},
   "outputs": [
    {
     "data": {
      "text/plain": [
       "True     3625\n",
       "False    1651\n",
       "dtype: int64"
      ]
     },
     "execution_count": 62,
     "metadata": {},
     "output_type": "execute_result"
    }
   ],
   "source": [
    "# Percent unique values\n",
    "# True if facility has a value count of 1 (aka unique)\n",
    "pd.Series([facility == 1 for facility in df['Zip'].value_counts()]).value_counts()"
   ]
  },
  {
   "cell_type": "code",
   "execution_count": 63,
   "metadata": {},
   "outputs": [
    {
     "data": {
      "text/plain": [
       "{3, 4, 5}"
      ]
     },
     "execution_count": 63,
     "metadata": {},
     "output_type": "execute_result"
    }
   ],
   "source": [
    "set([(len(str(num))) for num in df['Zip']])"
   ]
  },
  {
   "cell_type": "markdown",
   "metadata": {},
   "source": [
    "### County\n",
    "Data type: object\n",
    "\n",
    "Value count: 7626\n",
    "\n",
    "Number of unique values: 1258\n",
    "\n",
    "Percent unique values: 6.33% unique\n",
    "\n",
    "Length of values: 3 - 21\n",
    "\n",
    "Description: Lists the name of the county that corresponds to the facility listed."
   ]
  },
  {
   "cell_type": "code",
   "execution_count": 64,
   "metadata": {
    "scrolled": true
   },
   "outputs": [
    {
     "data": {
      "text/plain": [
       "0        PULASKI\n",
       "1    LOS ANGELES\n",
       "2      NEW HAVEN\n",
       "3         SUSSEX\n",
       "4         SUSSEX\n",
       "Name: County, dtype: object"
      ]
     },
     "execution_count": 64,
     "metadata": {},
     "output_type": "execute_result"
    }
   ],
   "source": [
    "df['County'].head()"
   ]
  },
  {
   "cell_type": "code",
   "execution_count": 65,
   "metadata": {},
   "outputs": [
    {
     "data": {
      "text/plain": [
       "7621    WASHINGTON\n",
       "7622     MILWAUKEE\n",
       "7623        ORANGE\n",
       "7624        HARDEE\n",
       "7625     MILWAUKEE\n",
       "Name: County, dtype: object"
      ]
     },
     "execution_count": 65,
     "metadata": {},
     "output_type": "execute_result"
    }
   ],
   "source": [
    "df['County'].tail()"
   ]
  },
  {
   "cell_type": "code",
   "execution_count": 66,
   "metadata": {
    "scrolled": false
   },
   "outputs": [
    {
     "data": {
      "text/plain": [
       "count            7626\n",
       "unique           1258\n",
       "top       LOS ANGELES\n",
       "freq              195\n",
       "Name: County, dtype: object"
      ]
     },
     "execution_count": 66,
     "metadata": {},
     "output_type": "execute_result"
    }
   ],
   "source": [
    "df['County'].describe()"
   ]
  },
  {
   "cell_type": "code",
   "execution_count": 67,
   "metadata": {},
   "outputs": [
    {
     "data": {
      "text/plain": [
       "False    775\n",
       "True     483\n",
       "dtype: int64"
      ]
     },
     "execution_count": 67,
     "metadata": {},
     "output_type": "execute_result"
    }
   ],
   "source": [
    "# Percent unique values\n",
    "# True if facility has a value count of 1 (aka unique)\n",
    "pd.Series([facility == 1 for facility in df['County'].value_counts()]).value_counts()"
   ]
  },
  {
   "cell_type": "code",
   "execution_count": 68,
   "metadata": {},
   "outputs": [
    {
     "data": {
      "text/plain": [
       "{3, 4, 5, 6, 7, 8, 9, 10, 11, 12, 13, 14, 15, 16, 17, 19, 20, 21}"
      ]
     },
     "execution_count": 68,
     "metadata": {},
     "output_type": "execute_result"
    }
   ],
   "source": [
    "set([(len(str(num))) for num in df['County']])"
   ]
  },
  {
   "cell_type": "markdown",
   "metadata": {},
   "source": [
    "### Phone Number\n",
    "Data type: object\n",
    "\n",
    "Value count: 7626\n",
    "\n",
    "Number of unique values: 7581\n",
    "\n",
    "Percent unique values: 99.0% unique\n",
    "\n",
    "Length of values: 14\n",
    "\n",
    "Description: Lists the telephone number that corresponds to the facility listed."
   ]
  },
  {
   "cell_type": "code",
   "execution_count": 69,
   "metadata": {
    "scrolled": true
   },
   "outputs": [
    {
     "data": {
      "text/plain": [
       "0    (501) 227-0983\n",
       "1    (323) 562-5511\n",
       "2    (203) 265-0667\n",
       "3    (302) 715-3060\n",
       "4    (302) 337-8789\n",
       "Name: Phone Number, dtype: object"
      ]
     },
     "execution_count": 69,
     "metadata": {},
     "output_type": "execute_result"
    }
   ],
   "source": [
    "df['Phone Number'].head()"
   ]
  },
  {
   "cell_type": "code",
   "execution_count": 70,
   "metadata": {},
   "outputs": [
    {
     "data": {
      "text/plain": [
       "7621    (423) 926-2976\n",
       "7622    (414) 445-2119\n",
       "7623    (714) 662-4573\n",
       "7624    (863) 767-0016\n",
       "7625    (414) 393-0600\n",
       "Name: Phone Number, dtype: object"
      ]
     },
     "execution_count": 70,
     "metadata": {},
     "output_type": "execute_result"
    }
   ],
   "source": [
    "df['Phone Number'].tail()"
   ]
  },
  {
   "cell_type": "code",
   "execution_count": 71,
   "metadata": {
    "scrolled": true
   },
   "outputs": [
    {
     "data": {
      "text/plain": [
       "count               7626\n",
       "unique              7581\n",
       "top       (787) 292-7979\n",
       "freq                  13\n",
       "Name: Phone Number, dtype: object"
      ]
     },
     "execution_count": 71,
     "metadata": {},
     "output_type": "execute_result"
    }
   ],
   "source": [
    "df['Phone Number'].describe()"
   ]
  },
  {
   "cell_type": "code",
   "execution_count": 72,
   "metadata": {},
   "outputs": [
    {
     "data": {
      "text/plain": [
       "True     7548\n",
       "False      33\n",
       "dtype: int64"
      ]
     },
     "execution_count": 72,
     "metadata": {},
     "output_type": "execute_result"
    }
   ],
   "source": [
    "# Percent unique values\n",
    "# True if facility has a value count of 1 (aka unique)\n",
    "pd.Series([facility == 1 for facility in df['Phone Number'].value_counts()]).value_counts()"
   ]
  },
  {
   "cell_type": "code",
   "execution_count": 73,
   "metadata": {},
   "outputs": [
    {
     "data": {
      "text/plain": [
       "{14}"
      ]
     },
     "execution_count": 73,
     "metadata": {},
     "output_type": "execute_result"
    }
   ],
   "source": [
    "set([(len(str(num))) for num in df['Phone Number']])"
   ]
  },
  {
   "cell_type": "markdown",
   "metadata": {},
   "source": [
    "### Profit or Non-Profit\n",
    "Data type: object\n",
    "\n",
    "Value count: 7627\n",
    "\n",
    "Number of unique values: 2\n",
    "\n",
    "Percent unique values: 0% unique\n",
    "\n",
    "Ranges of values: Profit, Non-Profit\n",
    "\n",
    "Length of values: 6, 10\n",
    "\n",
    "Description: Indicates if the dialysis facility’s operates as a for profit or non-profit business."
   ]
  },
  {
   "cell_type": "code",
   "execution_count": 74,
   "metadata": {
    "scrolled": false
   },
   "outputs": [
    {
     "data": {
      "text/plain": [
       "0    Non-Profit\n",
       "1        Profit\n",
       "2        Profit\n",
       "3        Profit\n",
       "4        Profit\n",
       "Name: Profit or Non-Profit, dtype: object"
      ]
     },
     "execution_count": 74,
     "metadata": {},
     "output_type": "execute_result"
    }
   ],
   "source": [
    "df['Profit or Non-Profit'].head()"
   ]
  },
  {
   "cell_type": "code",
   "execution_count": 75,
   "metadata": {},
   "outputs": [
    {
     "data": {
      "text/plain": [
       "7621    Profit\n",
       "7622    Profit\n",
       "7623    Profit\n",
       "7624    Profit\n",
       "7625    Profit\n",
       "Name: Profit or Non-Profit, dtype: object"
      ]
     },
     "execution_count": 75,
     "metadata": {},
     "output_type": "execute_result"
    }
   ],
   "source": [
    "df['Profit or Non-Profit'].tail()"
   ]
  },
  {
   "cell_type": "code",
   "execution_count": 76,
   "metadata": {
    "scrolled": true
   },
   "outputs": [
    {
     "data": {
      "text/plain": [
       "count       7626\n",
       "unique         2\n",
       "top       Profit\n",
       "freq        6759\n",
       "Name: Profit or Non-Profit, dtype: object"
      ]
     },
     "execution_count": 76,
     "metadata": {},
     "output_type": "execute_result"
    }
   ],
   "source": [
    "df['Profit or Non-Profit'].describe()"
   ]
  },
  {
   "cell_type": "code",
   "execution_count": 77,
   "metadata": {},
   "outputs": [
    {
     "data": {
      "text/plain": [
       "Profit        6759\n",
       "Non-Profit     867\n",
       "Name: Profit or Non-Profit, dtype: int64"
      ]
     },
     "execution_count": 77,
     "metadata": {},
     "output_type": "execute_result"
    }
   ],
   "source": [
    "df['Profit or Non-Profit'].value_counts()"
   ]
  },
  {
   "cell_type": "code",
   "execution_count": 78,
   "metadata": {},
   "outputs": [
    {
     "data": {
      "text/plain": [
       "{6, 10}"
      ]
     },
     "execution_count": 78,
     "metadata": {},
     "output_type": "execute_result"
    }
   ],
   "source": [
    "set([(len(str(num))) for num in df['Profit or Non-Profit']])"
   ]
  },
  {
   "cell_type": "markdown",
   "metadata": {},
   "source": [
    "### Chain Owned\n",
    "Data type: object\n",
    "\n",
    "Value count: 7626\n",
    "\n",
    "Number of unique values: 2\n",
    "\n",
    "Percent unique values: 0% unique\n",
    "\n",
    "Ranges of values: Yes - No\n",
    "\n",
    "Length of values: 2 - 3\n",
    "\n",
    "Description: Indicates whether or not the facility is owned or managed by a chain organization."
   ]
  },
  {
   "cell_type": "code",
   "execution_count": 79,
   "metadata": {},
   "outputs": [
    {
     "data": {
      "text/plain": [
       "0    Yes\n",
       "1    Yes\n",
       "2    Yes\n",
       "3    Yes\n",
       "4    Yes\n",
       "Name: Chain Owned, dtype: object"
      ]
     },
     "execution_count": 79,
     "metadata": {},
     "output_type": "execute_result"
    }
   ],
   "source": [
    "df['Chain Owned'].head()"
   ]
  },
  {
   "cell_type": "code",
   "execution_count": 80,
   "metadata": {},
   "outputs": [
    {
     "data": {
      "text/plain": [
       "7621    Yes\n",
       "7622    Yes\n",
       "7623    Yes\n",
       "7624    Yes\n",
       "7625    Yes\n",
       "Name: Chain Owned, dtype: object"
      ]
     },
     "execution_count": 80,
     "metadata": {},
     "output_type": "execute_result"
    }
   ],
   "source": [
    "df['Chain Owned'].tail()"
   ]
  },
  {
   "cell_type": "code",
   "execution_count": 81,
   "metadata": {},
   "outputs": [
    {
     "data": {
      "text/plain": [
       "count     7626\n",
       "unique       2\n",
       "top        Yes\n",
       "freq      6793\n",
       "Name: Chain Owned, dtype: object"
      ]
     },
     "execution_count": 81,
     "metadata": {},
     "output_type": "execute_result"
    }
   ],
   "source": [
    "df['Chain Owned'].describe()"
   ]
  },
  {
   "cell_type": "code",
   "execution_count": 82,
   "metadata": {},
   "outputs": [
    {
     "data": {
      "text/plain": [
       "Yes    6793\n",
       "No      833\n",
       "Name: Chain Owned, dtype: int64"
      ]
     },
     "execution_count": 82,
     "metadata": {},
     "output_type": "execute_result"
    }
   ],
   "source": [
    "df['Chain Owned'].value_counts()"
   ]
  },
  {
   "cell_type": "markdown",
   "metadata": {},
   "source": [
    "### Chain Organization\n",
    "Data type: object\n",
    "\n",
    "Value count: 7625\n",
    "\n",
    "Number of unique values: 111\n",
    "\n",
    "Percent unique values: 0.734% unique values\n",
    "\n",
    "Length of values: 3 - 39\n",
    "\n",
    "Description: Lists the name of the chain organization if applicable."
   ]
  },
  {
   "cell_type": "code",
   "execution_count": 83,
   "metadata": {
    "scrolled": true
   },
   "outputs": [
    {
     "data": {
      "text/plain": [
       "0        DIALYSIS CLINIC, INC.\n",
       "1                       DAVITA\n",
       "2    AMERICAN RENAL ASSOCIATES\n",
       "3          US RENAL CARE, INC.\n",
       "4       FRESENIUS MEDICAL CARE\n",
       "Name: Chain Organization, dtype: object"
      ]
     },
     "execution_count": 83,
     "metadata": {},
     "output_type": "execute_result"
    }
   ],
   "source": [
    "df['Chain Organization'].head()"
   ]
  },
  {
   "cell_type": "code",
   "execution_count": 84,
   "metadata": {},
   "outputs": [
    {
     "data": {
      "text/plain": [
       "7621                    DAVITA\n",
       "7622                    DAVITA\n",
       "7623                    DAVITA\n",
       "7624    FRESENIUS MEDICAL CARE\n",
       "7625                    DAVITA\n",
       "Name: Chain Organization, dtype: object"
      ]
     },
     "execution_count": 84,
     "metadata": {},
     "output_type": "execute_result"
    }
   ],
   "source": [
    "df['Chain Organization'].tail()"
   ]
  },
  {
   "cell_type": "code",
   "execution_count": 85,
   "metadata": {},
   "outputs": [
    {
     "data": {
      "text/plain": [
       "count       7625\n",
       "unique       111\n",
       "top       DAVITA\n",
       "freq        2852\n",
       "Name: Chain Organization, dtype: object"
      ]
     },
     "execution_count": 85,
     "metadata": {},
     "output_type": "execute_result"
    }
   ],
   "source": [
    "df['Chain Organization'].describe()"
   ]
  },
  {
   "cell_type": "code",
   "execution_count": 86,
   "metadata": {},
   "outputs": [
    {
     "data": {
      "text/plain": [
       "True     56\n",
       "False    55\n",
       "dtype: int64"
      ]
     },
     "execution_count": 86,
     "metadata": {},
     "output_type": "execute_result"
    }
   ],
   "source": [
    "# Percent unique values\n",
    "# True if facility has a value count of 1 (aka unique)\n",
    "pd.Series([facility == 1 for facility in df['Chain Organization'].value_counts()]).value_counts()"
   ]
  },
  {
   "cell_type": "code",
   "execution_count": 87,
   "metadata": {},
   "outputs": [
    {
     "data": {
      "text/plain": [
       "{3,\n",
       " 4,\n",
       " 6,\n",
       " 7,\n",
       " 8,\n",
       " 11,\n",
       " 13,\n",
       " 14,\n",
       " 15,\n",
       " 16,\n",
       " 17,\n",
       " 18,\n",
       " 19,\n",
       " 20,\n",
       " 21,\n",
       " 22,\n",
       " 23,\n",
       " 24,\n",
       " 25,\n",
       " 26,\n",
       " 27,\n",
       " 29,\n",
       " 30,\n",
       " 31,\n",
       " 32,\n",
       " 34,\n",
       " 35,\n",
       " 36,\n",
       " 37,\n",
       " 38,\n",
       " 39}"
      ]
     },
     "execution_count": 87,
     "metadata": {},
     "output_type": "execute_result"
    }
   ],
   "source": [
    "set([(len(str(num))) for num in df['Chain Organization']])"
   ]
  },
  {
   "cell_type": "markdown",
   "metadata": {},
   "source": [
    "### Late Shift\n",
    "Data type: int64\n",
    "\n",
    "Value count: 7626\n",
    "\n",
    "Number of unique values: 2\n",
    "\n",
    "Percent unique values: 0% unique\n",
    "\n",
    "Ranges of values: 0 - 1\n",
    "\n",
    "Length of values: 1\n",
    "\n",
    "Description: Lists whether or not the facility has a shift starting at 5:00 p.m. or later."
   ]
  },
  {
   "cell_type": "code",
   "execution_count": 88,
   "metadata": {},
   "outputs": [
    {
     "data": {
      "text/plain": [
       "0    0\n",
       "1    0\n",
       "2    0\n",
       "3    0\n",
       "4    0\n",
       "Name: Late Shift, dtype: int64"
      ]
     },
     "execution_count": 88,
     "metadata": {},
     "output_type": "execute_result"
    }
   ],
   "source": [
    "df['Late Shift'].head()"
   ]
  },
  {
   "cell_type": "code",
   "execution_count": 89,
   "metadata": {
    "scrolled": true
   },
   "outputs": [
    {
     "data": {
      "text/plain": [
       "7621    0\n",
       "7622    0\n",
       "7623    0\n",
       "7624    0\n",
       "7625    0\n",
       "Name: Late Shift, dtype: int64"
      ]
     },
     "execution_count": 89,
     "metadata": {},
     "output_type": "execute_result"
    }
   ],
   "source": [
    "df['Late Shift'].tail()"
   ]
  },
  {
   "cell_type": "code",
   "execution_count": 90,
   "metadata": {
    "scrolled": true
   },
   "outputs": [
    {
     "data": {
      "text/plain": [
       "count    7626.000000\n",
       "mean        0.167060\n",
       "std         0.373054\n",
       "min         0.000000\n",
       "25%         0.000000\n",
       "50%         0.000000\n",
       "75%         0.000000\n",
       "max         1.000000\n",
       "Name: Late Shift, dtype: float64"
      ]
     },
     "execution_count": 90,
     "metadata": {},
     "output_type": "execute_result"
    }
   ],
   "source": [
    "df['Late Shift'].describe()"
   ]
  },
  {
   "cell_type": "code",
   "execution_count": 91,
   "metadata": {
    "scrolled": true
   },
   "outputs": [
    {
     "data": {
      "text/plain": [
       "0    6352\n",
       "1    1274\n",
       "Name: Late Shift, dtype: int64"
      ]
     },
     "execution_count": 91,
     "metadata": {},
     "output_type": "execute_result"
    }
   ],
   "source": [
    "df['Late Shift'].value_counts()"
   ]
  },
  {
   "cell_type": "markdown",
   "metadata": {},
   "source": [
    "###  # of Dialysis Stations\n",
    "Data type: int64\n",
    "\n",
    "Value count: 7626\n",
    "\n",
    "Number of unique values: 68\n",
    "\n",
    "Percent unique values: 0.157%\n",
    "\n",
    "Ranges of values: 0 - 80\n",
    "\n",
    "Mean: 17.4\n",
    "\n",
    "Length of values: 1 - 2\n",
    "\n",
    "Description: Indicates the total number of dialysis stations at the dialysis facility. "
   ]
  },
  {
   "cell_type": "code",
   "execution_count": 92,
   "metadata": {
    "scrolled": true
   },
   "outputs": [
    {
     "data": {
      "text/plain": [
       "0    18\n",
       "1    36\n",
       "2    13\n",
       "3    16\n",
       "4    11\n",
       "Name: # of Dialysis Stations, dtype: int64"
      ]
     },
     "execution_count": 92,
     "metadata": {},
     "output_type": "execute_result"
    }
   ],
   "source": [
    "df['# of Dialysis Stations'].head()"
   ]
  },
  {
   "cell_type": "code",
   "execution_count": 93,
   "metadata": {},
   "outputs": [
    {
     "data": {
      "text/plain": [
       "7621    16\n",
       "7622    16\n",
       "7623    25\n",
       "7624    17\n",
       "7625    26\n",
       "Name: # of Dialysis Stations, dtype: int64"
      ]
     },
     "execution_count": 93,
     "metadata": {},
     "output_type": "execute_result"
    }
   ],
   "source": [
    "df['# of Dialysis Stations'].tail()"
   ]
  },
  {
   "cell_type": "code",
   "execution_count": 94,
   "metadata": {
    "scrolled": true
   },
   "outputs": [
    {
     "data": {
      "text/plain": [
       "count    7626.000000\n",
       "mean       17.463284\n",
       "std         8.495540\n",
       "min         0.000000\n",
       "25%        12.000000\n",
       "50%        17.000000\n",
       "75%        22.000000\n",
       "max        80.000000\n",
       "Name: # of Dialysis Stations, dtype: float64"
      ]
     },
     "execution_count": 94,
     "metadata": {},
     "output_type": "execute_result"
    }
   ],
   "source": [
    "df['# of Dialysis Stations'].describe()"
   ]
  },
  {
   "cell_type": "code",
   "execution_count": 95,
   "metadata": {},
   "outputs": [
    {
     "data": {
      "text/plain": [
       "68"
      ]
     },
     "execution_count": 95,
     "metadata": {},
     "output_type": "execute_result"
    }
   ],
   "source": [
    "df['# of Dialysis Stations'].nunique()"
   ]
  },
  {
   "cell_type": "code",
   "execution_count": 96,
   "metadata": {},
   "outputs": [
    {
     "data": {
      "text/plain": [
       "False    56\n",
       "True     12\n",
       "dtype: int64"
      ]
     },
     "execution_count": 96,
     "metadata": {},
     "output_type": "execute_result"
    }
   ],
   "source": [
    "# Percent unique values\n",
    "# True if facility has a value count of 1 (aka unique)\n",
    "pd.Series([facility == 1 for facility in df['# of Dialysis Stations'].value_counts()]).value_counts()"
   ]
  },
  {
   "cell_type": "markdown",
   "metadata": {},
   "source": [
    "### Offers in-center hemodialysis\n",
    "Data type: int64\n",
    "\n",
    "Value count: 7626\n",
    "\n",
    "Number of unique values: 2\n",
    "\n",
    "Percent unique values: 0% unique\n",
    "\n",
    "Ranges of values: 0 - 1\n",
    "\n",
    "Length of values: 1\n",
    "\n",
    "Description: Indicates whether the facility offers in-center hemodialysis. "
   ]
  },
  {
   "cell_type": "code",
   "execution_count": 97,
   "metadata": {
    "scrolled": true
   },
   "outputs": [
    {
     "data": {
      "text/plain": [
       "0    1\n",
       "1    1\n",
       "2    1\n",
       "3    1\n",
       "4    1\n",
       "Name: Offers in-center hemodialysis, dtype: int64"
      ]
     },
     "execution_count": 97,
     "metadata": {},
     "output_type": "execute_result"
    }
   ],
   "source": [
    "df['Offers in-center hemodialysis'].head()"
   ]
  },
  {
   "cell_type": "code",
   "execution_count": 98,
   "metadata": {},
   "outputs": [
    {
     "data": {
      "text/plain": [
       "7621    1\n",
       "7622    1\n",
       "7623    1\n",
       "7624    1\n",
       "7625    1\n",
       "Name: Offers in-center hemodialysis, dtype: int64"
      ]
     },
     "execution_count": 98,
     "metadata": {},
     "output_type": "execute_result"
    }
   ],
   "source": [
    "df['Offers in-center hemodialysis'].tail()"
   ]
  },
  {
   "cell_type": "code",
   "execution_count": 99,
   "metadata": {
    "scrolled": false
   },
   "outputs": [
    {
     "data": {
      "text/plain": [
       "count    7626.000000\n",
       "mean        0.940336\n",
       "std         0.236879\n",
       "min         0.000000\n",
       "25%         1.000000\n",
       "50%         1.000000\n",
       "75%         1.000000\n",
       "max         1.000000\n",
       "Name: Offers in-center hemodialysis, dtype: float64"
      ]
     },
     "execution_count": 99,
     "metadata": {},
     "output_type": "execute_result"
    }
   ],
   "source": [
    "df['Offers in-center hemodialysis'].describe()"
   ]
  },
  {
   "cell_type": "code",
   "execution_count": 100,
   "metadata": {},
   "outputs": [
    {
     "data": {
      "text/plain": [
       "1    7171\n",
       "0     455\n",
       "Name: Offers in-center hemodialysis, dtype: int64"
      ]
     },
     "execution_count": 100,
     "metadata": {},
     "output_type": "execute_result"
    }
   ],
   "source": [
    "df['Offers in-center hemodialysis'].value_counts()"
   ]
  },
  {
   "cell_type": "markdown",
   "metadata": {},
   "source": [
    "### Offers peritoneal dialysis\n",
    "Data type: int64\n",
    "\n",
    "Value count: 7626\n",
    "\n",
    "Number of unique values: 2\n",
    "\n",
    "Percent unique values: 0% unique\n",
    "\n",
    "Ranges of values: 0 - 1\n",
    "\n",
    "Length of values: 1\n",
    "\n",
    "Description: Indicates whether the facility offers peritoneal dialysis."
   ]
  },
  {
   "cell_type": "code",
   "execution_count": 101,
   "metadata": {
    "scrolled": true
   },
   "outputs": [
    {
     "data": {
      "text/plain": [
       "0    1\n",
       "1    1\n",
       "2    1\n",
       "3    0\n",
       "4    1\n",
       "Name: Offers peritoneal dialysis, dtype: int64"
      ]
     },
     "execution_count": 101,
     "metadata": {},
     "output_type": "execute_result"
    }
   ],
   "source": [
    "df['Offers peritoneal dialysis'].head()"
   ]
  },
  {
   "cell_type": "code",
   "execution_count": 102,
   "metadata": {},
   "outputs": [
    {
     "data": {
      "text/plain": [
       "7621    0\n",
       "7622    0\n",
       "7623    1\n",
       "7624    1\n",
       "7625    0\n",
       "Name: Offers peritoneal dialysis, dtype: int64"
      ]
     },
     "execution_count": 102,
     "metadata": {},
     "output_type": "execute_result"
    }
   ],
   "source": [
    "df['Offers peritoneal dialysis'].tail()"
   ]
  },
  {
   "cell_type": "code",
   "execution_count": 103,
   "metadata": {
    "scrolled": true
   },
   "outputs": [
    {
     "data": {
      "text/plain": [
       "count    7626.000000\n",
       "mean        0.525439\n",
       "std         0.499385\n",
       "min         0.000000\n",
       "25%         0.000000\n",
       "50%         1.000000\n",
       "75%         1.000000\n",
       "max         1.000000\n",
       "Name: Offers peritoneal dialysis, dtype: float64"
      ]
     },
     "execution_count": 103,
     "metadata": {},
     "output_type": "execute_result"
    }
   ],
   "source": [
    "df['Offers peritoneal dialysis'].describe()"
   ]
  },
  {
   "cell_type": "code",
   "execution_count": 104,
   "metadata": {
    "scrolled": true
   },
   "outputs": [
    {
     "data": {
      "text/plain": [
       "2"
      ]
     },
     "execution_count": 104,
     "metadata": {},
     "output_type": "execute_result"
    }
   ],
   "source": [
    "df['Offers peritoneal dialysis'].nunique()"
   ]
  },
  {
   "cell_type": "code",
   "execution_count": 105,
   "metadata": {},
   "outputs": [
    {
     "data": {
      "text/plain": [
       "1    4007\n",
       "0    3619\n",
       "Name: Offers peritoneal dialysis, dtype: int64"
      ]
     },
     "execution_count": 105,
     "metadata": {},
     "output_type": "execute_result"
    }
   ],
   "source": [
    "df['Offers peritoneal dialysis'].value_counts()"
   ]
  },
  {
   "cell_type": "markdown",
   "metadata": {},
   "source": [
    "### Offers home hemodialysis training\n",
    "Data type: int64\n",
    "\n",
    "Value count: 7626\n",
    "\n",
    "Number of unique values: 2\n",
    "\n",
    "Percent unique values: 0% unique\n",
    "\n",
    "Ranges of values: 0 - 1\n",
    "\n",
    "Length of values: 1\n",
    "\n",
    "Description: Indicates whether the facility offers home hemodialysis training."
   ]
  },
  {
   "cell_type": "code",
   "execution_count": 106,
   "metadata": {
    "scrolled": true
   },
   "outputs": [
    {
     "data": {
      "text/plain": [
       "0    1\n",
       "1    0\n",
       "2    1\n",
       "3    0\n",
       "4    1\n",
       "Name: Offers home hemodialysis training, dtype: int64"
      ]
     },
     "execution_count": 106,
     "metadata": {},
     "output_type": "execute_result"
    }
   ],
   "source": [
    "df['Offers home hemodialysis training'].head()"
   ]
  },
  {
   "cell_type": "code",
   "execution_count": 107,
   "metadata": {},
   "outputs": [
    {
     "data": {
      "text/plain": [
       "7621    0\n",
       "7622    0\n",
       "7623    1\n",
       "7624    1\n",
       "7625    0\n",
       "Name: Offers home hemodialysis training, dtype: int64"
      ]
     },
     "execution_count": 107,
     "metadata": {},
     "output_type": "execute_result"
    }
   ],
   "source": [
    "df['Offers home hemodialysis training'].tail()"
   ]
  },
  {
   "cell_type": "code",
   "execution_count": 108,
   "metadata": {
    "scrolled": true
   },
   "outputs": [
    {
     "data": {
      "text/plain": [
       "count    7626.00000\n",
       "mean        0.29006\n",
       "std         0.45382\n",
       "min         0.00000\n",
       "25%         0.00000\n",
       "50%         0.00000\n",
       "75%         1.00000\n",
       "max         1.00000\n",
       "Name: Offers home hemodialysis training, dtype: float64"
      ]
     },
     "execution_count": 108,
     "metadata": {},
     "output_type": "execute_result"
    }
   ],
   "source": [
    "df['Offers home hemodialysis training'].describe()"
   ]
  },
  {
   "cell_type": "code",
   "execution_count": 109,
   "metadata": {
    "scrolled": true
   },
   "outputs": [
    {
     "data": {
      "text/plain": [
       "2"
      ]
     },
     "execution_count": 109,
     "metadata": {},
     "output_type": "execute_result"
    }
   ],
   "source": [
    "df['Offers home hemodialysis training'].nunique()"
   ]
  },
  {
   "cell_type": "code",
   "execution_count": 110,
   "metadata": {},
   "outputs": [
    {
     "data": {
      "text/plain": [
       "0    5414\n",
       "1    2212\n",
       "Name: Offers home hemodialysis training, dtype: int64"
      ]
     },
     "execution_count": 110,
     "metadata": {},
     "output_type": "execute_result"
    }
   ],
   "source": [
    "df['Offers home hemodialysis training'].value_counts()"
   ]
  },
  {
   "cell_type": "markdown",
   "metadata": {},
   "source": [
    "### Certification or Recertification Date\n",
    "Data type: object\n",
    "\n",
    "Value count: 7626\n",
    "\n",
    "Number of unique values: 4800\n",
    "\n",
    "Percent unique values: 0.157%\n",
    "\n",
    "Length of values: 10\n",
    "\n",
    "Description: Lists the initial or recertification date for the facility listed. These facilities are certified if they pass inspection. Medicare or Medicaid only covers care provided by certified providers. Being certified is not the same as being accredited. "
   ]
  },
  {
   "cell_type": "code",
   "execution_count": 111,
   "metadata": {
    "scrolled": true
   },
   "outputs": [
    {
     "data": {
      "text/plain": [
       "0    10/20/2015\n",
       "1    04/11/1995\n",
       "2    01/06/2016\n",
       "3    09/25/2015\n",
       "4    10/30/2017\n",
       "Name: Certification or Recertification Date, dtype: object"
      ]
     },
     "execution_count": 111,
     "metadata": {},
     "output_type": "execute_result"
    }
   ],
   "source": [
    "df['Certification or Recertification Date'].head()"
   ]
  },
  {
   "cell_type": "code",
   "execution_count": 112,
   "metadata": {},
   "outputs": [
    {
     "data": {
      "text/plain": [
       "7621    01/31/2007\n",
       "7622    04/21/2014\n",
       "7623    08/02/2019\n",
       "7624    07/28/2014\n",
       "7625    07/22/2002\n",
       "Name: Certification or Recertification Date, dtype: object"
      ]
     },
     "execution_count": 112,
     "metadata": {},
     "output_type": "execute_result"
    }
   ],
   "source": [
    "df['Certification or Recertification Date'].tail()"
   ]
  },
  {
   "cell_type": "code",
   "execution_count": 113,
   "metadata": {
    "scrolled": true
   },
   "outputs": [
    {
     "data": {
      "text/plain": [
       "count           7626\n",
       "unique          4800\n",
       "top       09/01/1977\n",
       "freq              72\n",
       "Name: Certification or Recertification Date, dtype: object"
      ]
     },
     "execution_count": 113,
     "metadata": {},
     "output_type": "execute_result"
    }
   ],
   "source": [
    "df['Certification or Recertification Date'].describe()"
   ]
  },
  {
   "cell_type": "code",
   "execution_count": 114,
   "metadata": {},
   "outputs": [
    {
     "data": {
      "text/plain": [
       "False    56\n",
       "True     12\n",
       "dtype: int64"
      ]
     },
     "execution_count": 114,
     "metadata": {},
     "output_type": "execute_result"
    }
   ],
   "source": [
    "# Percent unique values\n",
    "# True if facility has a value count of 1 (aka unique)\n",
    "pd.Series([facility == 1 for facility in df['# of Dialysis Stations'].value_counts()]).value_counts()"
   ]
  },
  {
   "cell_type": "code",
   "execution_count": 115,
   "metadata": {},
   "outputs": [
    {
     "data": {
      "text/plain": [
       "{10}"
      ]
     },
     "execution_count": 115,
     "metadata": {},
     "output_type": "execute_result"
    }
   ],
   "source": [
    "set([(len(str(num))) for num in df['Certification or Recertification Date']])"
   ]
  },
  {
   "cell_type": "markdown",
   "metadata": {},
   "source": [
    "### Claims Date\n",
    "Data type: object\n",
    "\n",
    "Value count: 7626\n",
    "\n",
    "Number of unique values: 1\n",
    "\n",
    "Percent unique values: 0% unique values\n",
    "\n",
    "Ranges of values: \"07/01/2018 - 06/30/2019\"\n",
    "\n",
    "Length of values: 23\n",
    "\n",
    "Description: Lists the data collection period for claims-based summaries."
   ]
  },
  {
   "cell_type": "code",
   "execution_count": 116,
   "metadata": {},
   "outputs": [
    {
     "data": {
      "text/plain": [
       "0    07/01/2018 - 06/30/2019\n",
       "1    07/01/2018 - 06/30/2019\n",
       "2    07/01/2018 - 06/30/2019\n",
       "3    07/01/2018 - 06/30/2019\n",
       "4    07/01/2018 - 06/30/2019\n",
       "Name: Claims Date, dtype: object"
      ]
     },
     "execution_count": 116,
     "metadata": {},
     "output_type": "execute_result"
    }
   ],
   "source": [
    "df['Claims Date'].head()"
   ]
  },
  {
   "cell_type": "code",
   "execution_count": 117,
   "metadata": {
    "scrolled": true
   },
   "outputs": [
    {
     "data": {
      "text/plain": [
       "7621    07/01/2018 - 06/30/2019\n",
       "7622    07/01/2018 - 06/30/2019\n",
       "7623    07/01/2018 - 06/30/2019\n",
       "7624    07/01/2018 - 06/30/2019\n",
       "7625    07/01/2018 - 06/30/2019\n",
       "Name: Claims Date, dtype: object"
      ]
     },
     "execution_count": 117,
     "metadata": {},
     "output_type": "execute_result"
    }
   ],
   "source": [
    "df['Claims Date'].tail()"
   ]
  },
  {
   "cell_type": "code",
   "execution_count": 118,
   "metadata": {},
   "outputs": [
    {
     "data": {
      "text/plain": [
       "count                        7626\n",
       "unique                          1\n",
       "top       07/01/2018 - 06/30/2019\n",
       "freq                         7626\n",
       "Name: Claims Date, dtype: object"
      ]
     },
     "execution_count": 118,
     "metadata": {},
     "output_type": "execute_result"
    }
   ],
   "source": [
    "df['Claims Date'].describe()"
   ]
  },
  {
   "cell_type": "code",
   "execution_count": 119,
   "metadata": {},
   "outputs": [
    {
     "data": {
      "text/plain": [
       "{23}"
      ]
     },
     "execution_count": 119,
     "metadata": {},
     "output_type": "execute_result"
    }
   ],
   "source": [
    "set([(len(str(num))) for num in df['Claims Date']])"
   ]
  },
  {
   "cell_type": "markdown",
   "metadata": {},
   "source": [
    "### CROWNWeb Date\n",
    "Data type: object\n",
    "\n",
    "Value count: 7626\n",
    "\n",
    "Number of unique values: 1\n",
    "\n",
    "Percent unique values: 0% unique\n",
    "\n",
    "Ranges of values: \"07/01/2018 - 06/30/2019\"\n",
    "\n",
    "Length of values: 23\n",
    "\n",
    "Description: Lists the data collection period for CROWNWeb based measures."
   ]
  },
  {
   "cell_type": "code",
   "execution_count": 120,
   "metadata": {},
   "outputs": [
    {
     "data": {
      "text/plain": [
       "0    07/01/2018 - 06/30/2019\n",
       "1    07/01/2018 - 06/30/2019\n",
       "2    07/01/2018 - 06/30/2019\n",
       "3    07/01/2018 - 06/30/2019\n",
       "4    07/01/2018 - 06/30/2019\n",
       "Name: CROWNWeb Date, dtype: object"
      ]
     },
     "execution_count": 120,
     "metadata": {},
     "output_type": "execute_result"
    }
   ],
   "source": [
    "df['CROWNWeb Date'].head()"
   ]
  },
  {
   "cell_type": "code",
   "execution_count": 121,
   "metadata": {},
   "outputs": [
    {
     "data": {
      "text/plain": [
       "7621    07/01/2018 - 06/30/2019\n",
       "7622    07/01/2018 - 06/30/2019\n",
       "7623    07/01/2018 - 06/30/2019\n",
       "7624    07/01/2018 - 06/30/2019\n",
       "7625    07/01/2018 - 06/30/2019\n",
       "Name: CROWNWeb Date, dtype: object"
      ]
     },
     "execution_count": 121,
     "metadata": {},
     "output_type": "execute_result"
    }
   ],
   "source": [
    "df['CROWNWeb Date'].tail()"
   ]
  },
  {
   "cell_type": "code",
   "execution_count": 122,
   "metadata": {},
   "outputs": [
    {
     "data": {
      "text/plain": [
       "count                        7626\n",
       "unique                          1\n",
       "top       07/01/2018 - 06/30/2019\n",
       "freq                         7626\n",
       "Name: CROWNWeb Date, dtype: object"
      ]
     },
     "execution_count": 122,
     "metadata": {},
     "output_type": "execute_result"
    }
   ],
   "source": [
    "df['CROWNWeb Date'].describe()"
   ]
  },
  {
   "cell_type": "code",
   "execution_count": 123,
   "metadata": {},
   "outputs": [
    {
     "data": {
      "text/plain": [
       "{23}"
      ]
     },
     "execution_count": 123,
     "metadata": {},
     "output_type": "execute_result"
    }
   ],
   "source": [
    "set([(len(str(num))) for num in df['CROWNWeb Date']])"
   ]
  },
  {
   "cell_type": "markdown",
   "metadata": {},
   "source": [
    "### STrR Date\n",
    "Data type: object\n",
    "\n",
    "Value count: 7626\n",
    "\n",
    "Number of unique values: 1\n",
    "\n",
    "Percent unique values: 0% unique\n",
    "\n",
    "Ranges of values: \"01/01/2018 - 12/31/2018\"\n",
    "\n",
    "Length of values: 23\n",
    "\n",
    "Description: Lists the time period for patient transfusion summary (STrR)."
   ]
  },
  {
   "cell_type": "code",
   "execution_count": 124,
   "metadata": {
    "scrolled": true
   },
   "outputs": [
    {
     "data": {
      "text/plain": [
       "0    01/01/2018 - 12/31/2018\n",
       "1    01/01/2018 - 12/31/2018\n",
       "2    01/01/2018 - 12/31/2018\n",
       "3    01/01/2018 - 12/31/2018\n",
       "4    01/01/2018 - 12/31/2018\n",
       "Name: STrR Date, dtype: object"
      ]
     },
     "execution_count": 124,
     "metadata": {},
     "output_type": "execute_result"
    }
   ],
   "source": [
    "df['STrR Date'].head()"
   ]
  },
  {
   "cell_type": "code",
   "execution_count": 125,
   "metadata": {},
   "outputs": [
    {
     "data": {
      "text/plain": [
       "7621    01/01/2018 - 12/31/2018\n",
       "7622    01/01/2018 - 12/31/2018\n",
       "7623    01/01/2018 - 12/31/2018\n",
       "7624    01/01/2018 - 12/31/2018\n",
       "7625    01/01/2018 - 12/31/2018\n",
       "Name: STrR Date, dtype: object"
      ]
     },
     "execution_count": 125,
     "metadata": {},
     "output_type": "execute_result"
    }
   ],
   "source": [
    "df['STrR Date'].tail()"
   ]
  },
  {
   "cell_type": "code",
   "execution_count": 126,
   "metadata": {
    "scrolled": true
   },
   "outputs": [
    {
     "data": {
      "text/plain": [
       "count                        7626\n",
       "unique                          1\n",
       "top       01/01/2018 - 12/31/2018\n",
       "freq                         7626\n",
       "Name: STrR Date, dtype: object"
      ]
     },
     "execution_count": 126,
     "metadata": {},
     "output_type": "execute_result"
    }
   ],
   "source": [
    "df['STrR Date'].describe()"
   ]
  },
  {
   "cell_type": "code",
   "execution_count": 127,
   "metadata": {},
   "outputs": [
    {
     "data": {
      "text/plain": [
       "{23}"
      ]
     },
     "execution_count": 127,
     "metadata": {},
     "output_type": "execute_result"
    }
   ],
   "source": [
    "set([(len(str(num))) for num in df['STrR Date']])"
   ]
  },
  {
   "cell_type": "markdown",
   "metadata": {},
   "source": [
    "### Percentage of Medicare patients with Hgb<10 g/dL\n",
    "Data type: object\n",
    "\n",
    "Value count: 7626\n",
    "\n",
    "Number of unique values: 91\n",
    "\n",
    "Percent unique values: 0.0656% unique values\n",
    "\n",
    "Ranges of values: 0 - \n",
    "\n",
    "Length of values: 1-3, 13\n",
    "\n",
    "Description: Lists the percentage of patients who had average hemoglobin (hgb) less than 10.0 g/dL. Hemoglobin is a protein in red blood cells that carries oxygen from the lungs to the rest of the body. A normal hemoglobin level is 11 to 18 grams per deciliter (g/dL), depending on one's age and gender. But 7 to 8 g/dL is a safe level. "
   ]
  },
  {
   "cell_type": "code",
   "execution_count": 128,
   "metadata": {
    "scrolled": true
   },
   "outputs": [
    {
     "data": {
      "text/plain": [
       "0    21\n",
       "1    18\n",
       "2    43\n",
       "3    20\n",
       "4    25\n",
       "Name: Percentage of Medicare patients with Hgb<10 g/dL, dtype: object"
      ]
     },
     "execution_count": 128,
     "metadata": {},
     "output_type": "execute_result"
    }
   ],
   "source": [
    "df['Percentage of Medicare patients with Hgb<10 g/dL'].head()"
   ]
  },
  {
   "cell_type": "code",
   "execution_count": 129,
   "metadata": {},
   "outputs": [
    {
     "data": {
      "text/plain": [
       "7621               15\n",
       "7622               10\n",
       "7623    Not Available\n",
       "7624               10\n",
       "7625               19\n",
       "Name: Percentage of Medicare patients with Hgb<10 g/dL, dtype: object"
      ]
     },
     "execution_count": 129,
     "metadata": {},
     "output_type": "execute_result"
    }
   ],
   "source": [
    "df['Percentage of Medicare patients with Hgb<10 g/dL'].tail()"
   ]
  },
  {
   "cell_type": "code",
   "execution_count": 130,
   "metadata": {
    "scrolled": true
   },
   "outputs": [
    {
     "data": {
      "text/plain": [
       "count              7626\n",
       "unique               91\n",
       "top       Not Available\n",
       "freq               1109\n",
       "Name: Percentage of Medicare patients with Hgb<10 g/dL, dtype: object"
      ]
     },
     "execution_count": 130,
     "metadata": {},
     "output_type": "execute_result"
    }
   ],
   "source": [
    "df['Percentage of Medicare patients with Hgb<10 g/dL'].describe()"
   ]
  },
  {
   "cell_type": "code",
   "execution_count": 131,
   "metadata": {
    "scrolled": true
   },
   "outputs": [
    {
     "data": {
      "text/plain": [
       "'0'"
      ]
     },
     "execution_count": 131,
     "metadata": {},
     "output_type": "execute_result"
    }
   ],
   "source": [
    "df['Percentage of Medicare patients with Hgb<10 g/dL'].min()"
   ]
  },
  {
   "cell_type": "code",
   "execution_count": 132,
   "metadata": {
    "scrolled": true
   },
   "outputs": [
    {
     "data": {
      "text/plain": [
       "'Not Available'"
      ]
     },
     "execution_count": 132,
     "metadata": {},
     "output_type": "execute_result"
    }
   ],
   "source": [
    "df['Percentage of Medicare patients with Hgb<10 g/dL'].max()"
   ]
  },
  {
   "cell_type": "code",
   "execution_count": 133,
   "metadata": {},
   "outputs": [
    {
     "data": {
      "text/plain": [
       "False    86\n",
       "True      5\n",
       "dtype: int64"
      ]
     },
     "execution_count": 133,
     "metadata": {},
     "output_type": "execute_result"
    }
   ],
   "source": [
    "# Percent unique values\n",
    "# True if facility has a value count of 1 (aka unique)\n",
    "pd.Series([facility == 1 for facility in df['Percentage of Medicare patients with Hgb<10 g/dL'].value_counts()]).value_counts()"
   ]
  },
  {
   "cell_type": "code",
   "execution_count": 134,
   "metadata": {},
   "outputs": [
    {
     "data": {
      "text/plain": [
       "{1, 2, 3, 13}"
      ]
     },
     "execution_count": 134,
     "metadata": {},
     "output_type": "execute_result"
    }
   ],
   "source": [
    "set([(len(str(num))) for num in df['Percentage of Medicare patients with Hgb<10 g/dL']])"
   ]
  },
  {
   "cell_type": "markdown",
   "metadata": {},
   "source": [
    "### HGB<10 data availability code\n",
    "Data type: int64\n",
    "\n",
    "Value count: 7626\n",
    "\n",
    "Number of unique values: 4\n",
    "\n",
    "Percent unique values: 0% unique values\n",
    "\n",
    "Ranges of values: 1, 199, 201, 258 \n",
    "\n",
    "Length of values: 1, 3\n",
    "\n",
    "Description: Lists whether the facility had sufficient hemoglobin (hgb) data available or the reason for why the data is not available. Hemoglobin is a protein in red blood cells that carries oxygen from the lungs to the rest of the body. A normal hemoglobin level is 11 to 18 grams per deciliter (g/dL), depending on one's age and gender. But 7 to 8 g/dL is a safe level. \n",
    "\n",
    "Value description:\n",
    "- 1   : N/A\n",
    "- 199 : Not enough patients to report on this measure. Call the dialysis center to discuss this measure.\n",
    "- 201 : Data not reported. Call the dialysis center to discuss this quality measure. \n",
    "- 258 : The dialysis center was not open long enough to supply sufficient measure data. "
   ]
  },
  {
   "cell_type": "code",
   "execution_count": 135,
   "metadata": {},
   "outputs": [
    {
     "data": {
      "text/plain": [
       "0    1\n",
       "1    1\n",
       "2    1\n",
       "3    1\n",
       "4    1\n",
       "Name: HGB<10 data availability code, dtype: int64"
      ]
     },
     "execution_count": 135,
     "metadata": {},
     "output_type": "execute_result"
    }
   ],
   "source": [
    "df['HGB<10 data availability code'].head()"
   ]
  },
  {
   "cell_type": "code",
   "execution_count": 136,
   "metadata": {},
   "outputs": [
    {
     "data": {
      "text/plain": [
       "7621      1\n",
       "7622      1\n",
       "7623    258\n",
       "7624      1\n",
       "7625      1\n",
       "Name: HGB<10 data availability code, dtype: int64"
      ]
     },
     "execution_count": 136,
     "metadata": {},
     "output_type": "execute_result"
    }
   ],
   "source": [
    "df['HGB<10 data availability code'].tail()"
   ]
  },
  {
   "cell_type": "code",
   "execution_count": 137,
   "metadata": {},
   "outputs": [
    {
     "data": {
      "text/plain": [
       "7626"
      ]
     },
     "execution_count": 137,
     "metadata": {},
     "output_type": "execute_result"
    }
   ],
   "source": [
    "df['HGB<10 data availability code'].count()"
   ]
  },
  {
   "cell_type": "code",
   "execution_count": 138,
   "metadata": {
    "scrolled": false
   },
   "outputs": [
    {
     "data": {
      "text/plain": [
       "1      6517\n",
       "199     575\n",
       "201     279\n",
       "258     255\n",
       "Name: HGB<10 data availability code, dtype: int64"
      ]
     },
     "execution_count": 138,
     "metadata": {},
     "output_type": "execute_result"
    }
   ],
   "source": [
    "df['HGB<10 data availability code'].value_counts()"
   ]
  },
  {
   "cell_type": "markdown",
   "metadata": {},
   "source": [
    "### Percentage of Medicare patients with Hgb>12 g/dL\n",
    "Data type: object\n",
    "\n",
    "Value count: 7626\n",
    "\n",
    "Number of unique values: 21\n",
    "\n",
    "Percent unique values: 0.0787% unique values\n",
    "\n",
    "Ranges of values: 0 - \n",
    "\n",
    "Length of values: 1 - 2, 13\n",
    "\n",
    "Description: Lists the percentage of patients who had average hemoglobin (hgb) greater than 12.0 g/dL. Hemoglobin is a protein in red blood cells that carries oxygen from the lungs to the rest of the body. A normal hemoglobin level is 11 to 18 grams per deciliter (g/dL), depending on one's age and gender. But 7 to 8 g/dL is a safe level. "
   ]
  },
  {
   "cell_type": "code",
   "execution_count": 139,
   "metadata": {},
   "outputs": [
    {
     "data": {
      "text/plain": [
       "0    0\n",
       "1    0\n",
       "2    0\n",
       "3    0\n",
       "4    0\n",
       "Name: Percentage of Medicare patients with Hgb>12 g/dL, dtype: object"
      ]
     },
     "execution_count": 139,
     "metadata": {},
     "output_type": "execute_result"
    }
   ],
   "source": [
    "df['Percentage of Medicare patients with Hgb>12 g/dL'].head()"
   ]
  },
  {
   "cell_type": "code",
   "execution_count": 140,
   "metadata": {
    "scrolled": true
   },
   "outputs": [
    {
     "data": {
      "text/plain": [
       "7621                0\n",
       "7622                0\n",
       "7623    Not Available\n",
       "7624                0\n",
       "7625                0\n",
       "Name: Percentage of Medicare patients with Hgb>12 g/dL, dtype: object"
      ]
     },
     "execution_count": 140,
     "metadata": {},
     "output_type": "execute_result"
    }
   ],
   "source": [
    "df['Percentage of Medicare patients with Hgb>12 g/dL'].tail()"
   ]
  },
  {
   "cell_type": "code",
   "execution_count": 141,
   "metadata": {},
   "outputs": [
    {
     "data": {
      "text/plain": [
       "count     7626\n",
       "unique      21\n",
       "top          0\n",
       "freq      6121\n",
       "Name: Percentage of Medicare patients with Hgb>12 g/dL, dtype: object"
      ]
     },
     "execution_count": 141,
     "metadata": {},
     "output_type": "execute_result"
    }
   ],
   "source": [
    "df['Percentage of Medicare patients with Hgb>12 g/dL'].describe()"
   ]
  },
  {
   "cell_type": "code",
   "execution_count": 142,
   "metadata": {},
   "outputs": [
    {
     "data": {
      "text/plain": [
       "False    15\n",
       "True      6\n",
       "dtype: int64"
      ]
     },
     "execution_count": 142,
     "metadata": {},
     "output_type": "execute_result"
    }
   ],
   "source": [
    "# Percent unique values\n",
    "# True if facility has a value count of 1 (aka unique)\n",
    "pd.Series([facility == 1 for facility in df['Percentage of Medicare patients with Hgb>12 g/dL'].value_counts()]).value_counts()"
   ]
  },
  {
   "cell_type": "code",
   "execution_count": 143,
   "metadata": {},
   "outputs": [
    {
     "data": {
      "text/plain": [
       "'0'"
      ]
     },
     "execution_count": 143,
     "metadata": {},
     "output_type": "execute_result"
    }
   ],
   "source": [
    "df['Percentage of Medicare patients with Hgb>12 g/dL'].min()"
   ]
  },
  {
   "cell_type": "code",
   "execution_count": 144,
   "metadata": {},
   "outputs": [
    {
     "data": {
      "text/plain": [
       "'Not Available'"
      ]
     },
     "execution_count": 144,
     "metadata": {},
     "output_type": "execute_result"
    }
   ],
   "source": [
    "df['Percentage of Medicare patients with Hgb>12 g/dL'].max()"
   ]
  },
  {
   "cell_type": "code",
   "execution_count": 145,
   "metadata": {
    "scrolled": true
   },
   "outputs": [
    {
     "data": {
      "text/plain": [
       "{1, 2, 13}"
      ]
     },
     "execution_count": 145,
     "metadata": {},
     "output_type": "execute_result"
    }
   ],
   "source": [
    "set([(len(str(num))) for num in df['Percentage of Medicare patients with Hgb>12 g/dL']])"
   ]
  },
  {
   "cell_type": "markdown",
   "metadata": {},
   "source": [
    "### Hgb > 12 data availability code\n",
    "Data type: int64\n",
    "\n",
    "Value count: 7626\n",
    "\n",
    "Number of unique values: 4\n",
    "\n",
    "Percent unique values: 0% unique values\n",
    "\n",
    "Ranges of values: 1, 199, 201, 258\n",
    "\n",
    "Length of values: 1, 3\n",
    "\n",
    "Description: Lists whether the facility had sufficient hemoglobin (hgb) data available or the reason for why the data is not available. Hemoglobin is a protein in red blood cells that carries oxygen from the lungs to the rest of the body. A normal hemoglobin level is 11 to 18 grams per deciliter (g/dL), depending on one's age and gender. But 7 to 8 g/dL is a safe level. \n",
    "\n",
    "Value description:\n",
    "- 1   : N/A\n",
    "- 199 : Not enough patients to report on this measure. Call the dialysis center to discuss this measure.\n",
    "- 201 : Data not reported. Call the dialysis center to discuss this quality measure. \n",
    "- 258 : The dialysis center was not open long enough to supply sufficient measure data. "
   ]
  },
  {
   "cell_type": "code",
   "execution_count": 146,
   "metadata": {},
   "outputs": [
    {
     "data": {
      "text/plain": [
       "0    1\n",
       "1    1\n",
       "2    1\n",
       "3    1\n",
       "4    1\n",
       "Name: Hgb > 12 data availability code, dtype: int64"
      ]
     },
     "execution_count": 146,
     "metadata": {},
     "output_type": "execute_result"
    }
   ],
   "source": [
    "df['Hgb > 12 data availability code'].head()"
   ]
  },
  {
   "cell_type": "code",
   "execution_count": 147,
   "metadata": {
    "scrolled": true
   },
   "outputs": [
    {
     "data": {
      "text/plain": [
       "7621      1\n",
       "7622      1\n",
       "7623    258\n",
       "7624      1\n",
       "7625      1\n",
       "Name: Hgb > 12 data availability code, dtype: int64"
      ]
     },
     "execution_count": 147,
     "metadata": {},
     "output_type": "execute_result"
    }
   ],
   "source": [
    "df['Hgb > 12 data availability code'].tail()"
   ]
  },
  {
   "cell_type": "code",
   "execution_count": 148,
   "metadata": {},
   "outputs": [
    {
     "data": {
      "text/plain": [
       "count    7626.000000\n",
       "mean       31.839890\n",
       "std        75.349864\n",
       "min         1.000000\n",
       "25%         1.000000\n",
       "50%         1.000000\n",
       "75%         1.000000\n",
       "max       258.000000\n",
       "Name: Hgb > 12 data availability code, dtype: float64"
      ]
     },
     "execution_count": 148,
     "metadata": {},
     "output_type": "execute_result"
    }
   ],
   "source": [
    "df['Hgb > 12 data availability code'].describe()"
   ]
  },
  {
   "cell_type": "code",
   "execution_count": 149,
   "metadata": {},
   "outputs": [
    {
     "data": {
      "text/plain": [
       "1      6517\n",
       "199     575\n",
       "201     279\n",
       "258     255\n",
       "Name: Hgb > 12 data availability code, dtype: int64"
      ]
     },
     "execution_count": 149,
     "metadata": {},
     "output_type": "execute_result"
    }
   ],
   "source": [
    "df['Hgb > 12 data availability code'].value_counts()"
   ]
  },
  {
   "cell_type": "markdown",
   "metadata": {},
   "source": [
    "### Number of Dialysis Patients with Hgb data\n",
    "Data type: object\n",
    "\n",
    "Value count: 7626\n",
    "\n",
    "Number of unique values: 160 \n",
    "\n",
    "Percent unique values: 0.315%\n",
    "\n",
    "Ranges of values: 0 - \n",
    "\n",
    "Length of values: 1-3, 13\n",
    "\n",
    "Description: Lists the number of patients included in the hemoglobin (hgb) greater than 12.0 g/dL summary. Hemoglobin is a protein in red blood cells that carries oxygen from the lungs to the rest of the body. A normal hemoglobin level is 11 to 18 grams per deciliter (g/dL), depending on one's age and gender. But 7 to 8 g/dL is a safe level. "
   ]
  },
  {
   "cell_type": "code",
   "execution_count": 150,
   "metadata": {},
   "outputs": [
    {
     "data": {
      "text/plain": [
       "0    48\n",
       "1    79\n",
       "2    14\n",
       "3    20\n",
       "4    24\n",
       "Name: Number of Dialysis Patients with Hgb data, dtype: object"
      ]
     },
     "execution_count": 150,
     "metadata": {},
     "output_type": "execute_result"
    }
   ],
   "source": [
    "df['Number of Dialysis Patients with Hgb data'].head()"
   ]
  },
  {
   "cell_type": "code",
   "execution_count": 151,
   "metadata": {
    "scrolled": true
   },
   "outputs": [
    {
     "data": {
      "text/plain": [
       "7621               26\n",
       "7622               42\n",
       "7623    Not Available\n",
       "7624               29\n",
       "7625               58\n",
       "Name: Number of Dialysis Patients with Hgb data, dtype: object"
      ]
     },
     "execution_count": 151,
     "metadata": {},
     "output_type": "execute_result"
    }
   ],
   "source": [
    "df['Number of Dialysis Patients with Hgb data'].tail()"
   ]
  },
  {
   "cell_type": "code",
   "execution_count": 152,
   "metadata": {},
   "outputs": [
    {
     "data": {
      "text/plain": [
       "count     7626\n",
       "unique     160\n",
       "top          0\n",
       "freq       279\n",
       "Name: Number of Dialysis Patients with Hgb data, dtype: object"
      ]
     },
     "execution_count": 152,
     "metadata": {},
     "output_type": "execute_result"
    }
   ],
   "source": [
    "df['Number of Dialysis Patients with Hgb data'].describe()"
   ]
  },
  {
   "cell_type": "code",
   "execution_count": 153,
   "metadata": {},
   "outputs": [
    {
     "data": {
      "text/plain": [
       "False    136\n",
       "True      24\n",
       "dtype: int64"
      ]
     },
     "execution_count": 153,
     "metadata": {},
     "output_type": "execute_result"
    }
   ],
   "source": [
    "# Percent unique values\n",
    "# True if facility has a value count of 1 (aka unique)\n",
    "pd.Series([facility == 1 for facility in df['Number of Dialysis Patients with Hgb data'].value_counts()]).value_counts()"
   ]
  },
  {
   "cell_type": "code",
   "execution_count": 154,
   "metadata": {},
   "outputs": [
    {
     "data": {
      "text/plain": [
       "'0'"
      ]
     },
     "execution_count": 154,
     "metadata": {},
     "output_type": "execute_result"
    }
   ],
   "source": [
    "df['Number of Dialysis Patients with Hgb data'].min()"
   ]
  },
  {
   "cell_type": "code",
   "execution_count": 155,
   "metadata": {},
   "outputs": [
    {
     "data": {
      "text/plain": [
       "'Not Available'"
      ]
     },
     "execution_count": 155,
     "metadata": {},
     "output_type": "execute_result"
    }
   ],
   "source": [
    "df['Number of Dialysis Patients with Hgb data'].max()"
   ]
  },
  {
   "cell_type": "code",
   "execution_count": 156,
   "metadata": {},
   "outputs": [
    {
     "data": {
      "text/plain": [
       "{1, 2, 3, 13}"
      ]
     },
     "execution_count": 156,
     "metadata": {},
     "output_type": "execute_result"
    }
   ],
   "source": [
    "set([(len(str(num))) for num in df['Number of Dialysis Patients with Hgb data']])"
   ]
  },
  {
   "cell_type": "markdown",
   "metadata": {},
   "source": [
    "### Patient Transfusion data availability Code\n",
    "Data type: int64\n",
    "\n",
    "Value count: 7626\n",
    "\n",
    "Number of unique values: 5\n",
    "\n",
    "Percent unique values: 0%\n",
    "\n",
    "Ranges of values: 1, 199, 201, 255, 258\n",
    "\n",
    "Length of values: 1, 3\n",
    "\n",
    "Description: Lists whether the facility had sufficient transfusion data available or the reason for why the data is not available.\n",
    "\n",
    "Value description:\n",
    "- 1   : N/A\n",
    "- 199 : Not enough patients to report on this measure. Call the dialysis center to discuss this measure.\n",
    "- 201 : Data not reported. Call the dialysis center to discuss this quality measure. \n",
    "- 255 : Medicare determined that the percentage reported was not accurate.\n",
    "- 258 : The dialysis center was not open long enough to supply sufficient measure data. "
   ]
  },
  {
   "cell_type": "code",
   "execution_count": 157,
   "metadata": {},
   "outputs": [
    {
     "data": {
      "text/plain": [
       "0    1\n",
       "1    1\n",
       "2    1\n",
       "3    1\n",
       "4    1\n",
       "Name: Patient Transfusion data availability Code, dtype: int64"
      ]
     },
     "execution_count": 157,
     "metadata": {},
     "output_type": "execute_result"
    }
   ],
   "source": [
    "df['Patient Transfusion data availability Code'].head()"
   ]
  },
  {
   "cell_type": "code",
   "execution_count": 158,
   "metadata": {},
   "outputs": [
    {
     "data": {
      "text/plain": [
       "7621      1\n",
       "7622      1\n",
       "7623    258\n",
       "7624      1\n",
       "7625      1\n",
       "Name: Patient Transfusion data availability Code, dtype: int64"
      ]
     },
     "execution_count": 158,
     "metadata": {},
     "output_type": "execute_result"
    }
   ],
   "source": [
    "df['Patient Transfusion data availability Code'].tail()"
   ]
  },
  {
   "cell_type": "code",
   "execution_count": 159,
   "metadata": {},
   "outputs": [
    {
     "data": {
      "text/plain": [
       "7626"
      ]
     },
     "execution_count": 159,
     "metadata": {},
     "output_type": "execute_result"
    }
   ],
   "source": [
    "df['Patient Transfusion data availability Code'].count()"
   ]
  },
  {
   "cell_type": "code",
   "execution_count": 160,
   "metadata": {},
   "outputs": [
    {
     "data": {
      "text/plain": [
       "1      6285\n",
       "258     678\n",
       "199     638\n",
       "201      22\n",
       "255       3\n",
       "Name: Patient Transfusion data availability Code, dtype: int64"
      ]
     },
     "execution_count": 160,
     "metadata": {},
     "output_type": "execute_result"
    }
   ],
   "source": [
    "df['Patient Transfusion data availability Code'].value_counts()"
   ]
  },
  {
   "cell_type": "markdown",
   "metadata": {},
   "source": [
    "### Patient Transfusion category text\n",
    "Data type: object\n",
    "\n",
    "Value count: 7626\n",
    "\n",
    "Number of unique values: 4\n",
    "\n",
    "Percent unique values: 0%\n",
    "\n",
    "Ranges of values: As Expected, Not Available, Worse than Expected, Better than Expected \n",
    "\n",
    "Length of values: 11, 13, 19, 20\n",
    "\n",
    "Description: Patient transfusion category.\n",
    "\n",
    "Value description:\n",
    "- As Expected          : Patient transfusions categorized as “As Expected”       \n",
    "- Worse than Expected  :  Patient transfusions categorized as “Worse than Expected”\n",
    "- Better than Expected : Patient transfusions categorized as “Better than Expected\"\n",
    "- Not Available "
   ]
  },
  {
   "cell_type": "code",
   "execution_count": 161,
   "metadata": {},
   "outputs": [
    {
     "data": {
      "text/plain": [
       "0            As Expected\n",
       "1    Worse than Expected\n",
       "2            As Expected\n",
       "3            As Expected\n",
       "4            As Expected\n",
       "Name: Patient Transfusion category text, dtype: object"
      ]
     },
     "execution_count": 161,
     "metadata": {},
     "output_type": "execute_result"
    }
   ],
   "source": [
    "df['Patient Transfusion category text'].head()"
   ]
  },
  {
   "cell_type": "code",
   "execution_count": 162,
   "metadata": {},
   "outputs": [
    {
     "data": {
      "text/plain": [
       "7621      As Expected\n",
       "7622      As Expected\n",
       "7623    Not Available\n",
       "7624      As Expected\n",
       "7625      As Expected\n",
       "Name: Patient Transfusion category text, dtype: object"
      ]
     },
     "execution_count": 162,
     "metadata": {},
     "output_type": "execute_result"
    }
   ],
   "source": [
    "df['Patient Transfusion category text'].tail()"
   ]
  },
  {
   "cell_type": "code",
   "execution_count": 163,
   "metadata": {},
   "outputs": [
    {
     "data": {
      "text/plain": [
       "count            7626\n",
       "unique              4\n",
       "top       As Expected\n",
       "freq             5851\n",
       "Name: Patient Transfusion category text, dtype: object"
      ]
     },
     "execution_count": 163,
     "metadata": {},
     "output_type": "execute_result"
    }
   ],
   "source": [
    "df['Patient Transfusion category text'].describe()"
   ]
  },
  {
   "cell_type": "code",
   "execution_count": 164,
   "metadata": {},
   "outputs": [
    {
     "data": {
      "text/plain": [
       "False    4\n",
       "dtype: int64"
      ]
     },
     "execution_count": 164,
     "metadata": {},
     "output_type": "execute_result"
    }
   ],
   "source": [
    "# Percent unique values\n",
    "# True if facility has a value count of 1 (aka unique)\n",
    "pd.Series([facility == 1 for facility in df['Patient Transfusion category text'].value_counts()]).value_counts()"
   ]
  },
  {
   "cell_type": "code",
   "execution_count": 165,
   "metadata": {
    "scrolled": true
   },
   "outputs": [
    {
     "data": {
      "text/plain": [
       "As Expected             5851\n",
       "Not Available           1341\n",
       "Worse than Expected      430\n",
       "Better than Expected       4\n",
       "Name: Patient Transfusion category text, dtype: int64"
      ]
     },
     "execution_count": 165,
     "metadata": {},
     "output_type": "execute_result"
    }
   ],
   "source": [
    "df['Patient Transfusion category text'].value_counts()"
   ]
  },
  {
   "cell_type": "code",
   "execution_count": 166,
   "metadata": {},
   "outputs": [
    {
     "data": {
      "text/plain": [
       "{11, 13, 19, 20}"
      ]
     },
     "execution_count": 166,
     "metadata": {},
     "output_type": "execute_result"
    }
   ],
   "source": [
    "set([(len(str(num))) for num in df['Patient Transfusion category text']])"
   ]
  },
  {
   "cell_type": "markdown",
   "metadata": {},
   "source": [
    "### Number of patients included in the transfusion summary\n",
    "Data type: object\n",
    "\n",
    "Value count: 7626\n",
    "\n",
    "Number of unique values: 226\n",
    "\n",
    "Percent unique values: 0.446%\n",
    "\n",
    "Ranges of values: 0 - \n",
    "\n",
    "Length of values: 1 - 3, 13\n",
    "\n",
    "Description: Lists the number of patients included in the facility’s transfusion summary."
   ]
  },
  {
   "cell_type": "code",
   "execution_count": 167,
   "metadata": {},
   "outputs": [
    {
     "data": {
      "text/plain": [
       "0     65\n",
       "1    147\n",
       "2     23\n",
       "3     21\n",
       "4     30\n",
       "Name: Number of patients included in the transfusion summary, dtype: object"
      ]
     },
     "execution_count": 167,
     "metadata": {},
     "output_type": "execute_result"
    }
   ],
   "source": [
    "df['Number of patients included in the transfusion summary'].head()"
   ]
  },
  {
   "cell_type": "code",
   "execution_count": 168,
   "metadata": {},
   "outputs": [
    {
     "data": {
      "text/plain": [
       "7621               56\n",
       "7622               55\n",
       "7623    Not Available\n",
       "7624               48\n",
       "7625               86\n",
       "Name: Number of patients included in the transfusion summary, dtype: object"
      ]
     },
     "execution_count": 168,
     "metadata": {},
     "output_type": "execute_result"
    }
   ],
   "source": [
    "df['Number of patients included in the transfusion summary'].tail()"
   ]
  },
  {
   "cell_type": "code",
   "execution_count": 169,
   "metadata": {},
   "outputs": [
    {
     "data": {
      "text/plain": [
       "count     7626\n",
       "unique     226\n",
       "top          0\n",
       "freq       311\n",
       "Name: Number of patients included in the transfusion summary, dtype: object"
      ]
     },
     "execution_count": 169,
     "metadata": {},
     "output_type": "execute_result"
    }
   ],
   "source": [
    "df['Number of patients included in the transfusion summary'].describe()"
   ]
  },
  {
   "cell_type": "code",
   "execution_count": 170,
   "metadata": {},
   "outputs": [
    {
     "data": {
      "text/plain": [
       "False    192\n",
       "True      34\n",
       "dtype: int64"
      ]
     },
     "execution_count": 170,
     "metadata": {},
     "output_type": "execute_result"
    }
   ],
   "source": [
    "# Percent unique values\n",
    "# True if facility has a value count of 1 (aka unique)\n",
    "pd.Series([facility == 1 for facility in df['Number of patients included in the transfusion summary'].value_counts()]).value_counts()"
   ]
  },
  {
   "cell_type": "code",
   "execution_count": 171,
   "metadata": {},
   "outputs": [
    {
     "data": {
      "text/plain": [
       "'0'"
      ]
     },
     "execution_count": 171,
     "metadata": {},
     "output_type": "execute_result"
    }
   ],
   "source": [
    "df['Number of patients included in the transfusion summary'].min()"
   ]
  },
  {
   "cell_type": "code",
   "execution_count": 172,
   "metadata": {
    "scrolled": true
   },
   "outputs": [
    {
     "data": {
      "text/plain": [
       "'Not Available'"
      ]
     },
     "execution_count": 172,
     "metadata": {},
     "output_type": "execute_result"
    }
   ],
   "source": [
    "df['Number of patients included in the transfusion summary'].max()"
   ]
  },
  {
   "cell_type": "code",
   "execution_count": 173,
   "metadata": {},
   "outputs": [
    {
     "data": {
      "text/plain": [
       "{1, 2, 3, 13}"
      ]
     },
     "execution_count": 173,
     "metadata": {},
     "output_type": "execute_result"
    }
   ],
   "source": [
    "set([(len(str(num))) for num in df['Number of patients included in the transfusion summary']])"
   ]
  },
  {
   "cell_type": "markdown",
   "metadata": {},
   "source": [
    "### Percent of Adult HD patients with Kt/V >= 1.2\n",
    "Data type: object\n",
    "\n",
    "Value count: 7626 \n",
    "\n",
    "Number of unique values: 54\n",
    "\n",
    "Percent unique values: 0.170% \n",
    "\n",
    "Ranges of values: 0 - \n",
    "\n",
    "Length of values: 1 - 3, 13\n",
    "\n",
    "Description: Lists the percentage of adult HD patients with Kt/V greater than or equal to 1.2. The parameter Kt/V is a measurement of the efficacy of a hemodialysis session. It identifies the effective removal of a specific solute (clearance K) resulting from a given treatment (characterized by time t) in a given patient (with a specific volume of distribution V for the solute considered)."
   ]
  },
  {
   "cell_type": "code",
   "execution_count": 174,
   "metadata": {},
   "outputs": [
    {
     "data": {
      "text/plain": [
       "0    93\n",
       "1    99\n",
       "2    96\n",
       "3    98\n",
       "4    98\n",
       "Name: Percent of Adult HD patients with Kt/V >= 1.2, dtype: object"
      ]
     },
     "execution_count": 174,
     "metadata": {},
     "output_type": "execute_result"
    }
   ],
   "source": [
    "df['Percent of Adult HD patients with Kt/V >= 1.2'].head()"
   ]
  },
  {
   "cell_type": "code",
   "execution_count": 175,
   "metadata": {},
   "outputs": [
    {
     "data": {
      "text/plain": [
       "7621               99\n",
       "7622               95\n",
       "7623    Not Available\n",
       "7624               99\n",
       "7625               93\n",
       "Name: Percent of Adult HD patients with Kt/V >= 1.2, dtype: object"
      ]
     },
     "execution_count": 175,
     "metadata": {},
     "output_type": "execute_result"
    }
   ],
   "source": [
    "df['Percent of Adult HD patients with Kt/V >= 1.2'].tail()"
   ]
  },
  {
   "cell_type": "code",
   "execution_count": 176,
   "metadata": {},
   "outputs": [
    {
     "data": {
      "text/plain": [
       "count     7626\n",
       "unique      54\n",
       "top         99\n",
       "freq      1486\n",
       "Name: Percent of Adult HD patients with Kt/V >= 1.2, dtype: object"
      ]
     },
     "execution_count": 176,
     "metadata": {},
     "output_type": "execute_result"
    }
   ],
   "source": [
    "df['Percent of Adult HD patients with Kt/V >= 1.2'].describe()"
   ]
  },
  {
   "cell_type": "code",
   "execution_count": 177,
   "metadata": {},
   "outputs": [
    {
     "data": {
      "text/plain": [
       "False    41\n",
       "True     13\n",
       "dtype: int64"
      ]
     },
     "execution_count": 177,
     "metadata": {},
     "output_type": "execute_result"
    }
   ],
   "source": [
    "# Percent unique values\n",
    "# True if facility has a value count of 1 (aka unique)\n",
    "pd.Series([facility == 1 for facility in df['Percent of Adult HD patients with Kt/V >= 1.2'].value_counts()]).value_counts()"
   ]
  },
  {
   "cell_type": "code",
   "execution_count": 178,
   "metadata": {
    "scrolled": true
   },
   "outputs": [
    {
     "data": {
      "text/plain": [
       "'0'"
      ]
     },
     "execution_count": 178,
     "metadata": {},
     "output_type": "execute_result"
    }
   ],
   "source": [
    "df['Percent of Adult HD patients with Kt/V >= 1.2'].min()"
   ]
  },
  {
   "cell_type": "code",
   "execution_count": 179,
   "metadata": {},
   "outputs": [
    {
     "data": {
      "text/plain": [
       "'Not Available'"
      ]
     },
     "execution_count": 179,
     "metadata": {},
     "output_type": "execute_result"
    }
   ],
   "source": [
    "df['Percent of Adult HD patients with Kt/V >= 1.2'].max()"
   ]
  },
  {
   "cell_type": "code",
   "execution_count": 180,
   "metadata": {},
   "outputs": [
    {
     "data": {
      "text/plain": [
       "{1, 2, 3, 13}"
      ]
     },
     "execution_count": 180,
     "metadata": {},
     "output_type": "execute_result"
    }
   ],
   "source": [
    "set([(len(str(num))) for num in df['Percent of Adult HD patients with Kt/V >= 1.2']])"
   ]
  },
  {
   "cell_type": "markdown",
   "metadata": {},
   "source": [
    "### Adult HD Kt/V data availability code\n",
    "Data type: int64\n",
    "\n",
    "Value count: 7626\n",
    "\n",
    "Number of unique values: 5\n",
    "\n",
    "Percent unique values: 0%\n",
    "\n",
    "Ranges of values: 1, 199, 201, 256, 258\n",
    "\n",
    "Length of values: 1, 3\n",
    "\n",
    "Description: Lists whether the facility had sufficient adult HD Kt/V data available or the reason for why the data is not available. The parameter Kt/V is a measurement of the efficacy of a hemodialysis session. It identifies the effective removal of a specific solute (clearance K) resulting from a given treatment (characterized by time t) in a given patient (with a specific volume of distribution V for the solute considered).\n",
    "\n",
    "Value description: \n",
    "- 1   : N/A\n",
    "- 199 : Not enough patients to report on this measure. Call the dialysis center to discuss this measure.\n",
    "- 201 : Data not reported. Call the dialysis center to discuss this quality measure.\n",
    "- 256 : The dialysis center does not provide hemodialysis during the reporting period. \n",
    "- 258 : The dialysis center was not open long enough to supply sufficient measure data. "
   ]
  },
  {
   "cell_type": "code",
   "execution_count": 181,
   "metadata": {},
   "outputs": [
    {
     "data": {
      "text/plain": [
       "0    1\n",
       "1    1\n",
       "2    1\n",
       "3    1\n",
       "4    1\n",
       "Name: Adult HD Kt/V data availability code, dtype: int64"
      ]
     },
     "execution_count": 181,
     "metadata": {},
     "output_type": "execute_result"
    }
   ],
   "source": [
    "df['Adult HD Kt/V data availability code'].head()"
   ]
  },
  {
   "cell_type": "code",
   "execution_count": 182,
   "metadata": {},
   "outputs": [
    {
     "data": {
      "text/plain": [
       "7621      1\n",
       "7622      1\n",
       "7623    258\n",
       "7624      1\n",
       "7625      1\n",
       "Name: Adult HD Kt/V data availability code, dtype: int64"
      ]
     },
     "execution_count": 182,
     "metadata": {},
     "output_type": "execute_result"
    }
   ],
   "source": [
    "df['Adult HD Kt/V data availability code'].tail()"
   ]
  },
  {
   "cell_type": "code",
   "execution_count": 183,
   "metadata": {},
   "outputs": [
    {
     "data": {
      "text/plain": [
       "7626"
      ]
     },
     "execution_count": 183,
     "metadata": {},
     "output_type": "execute_result"
    }
   ],
   "source": [
    "df['Adult HD Kt/V data availability code'].count()"
   ]
  },
  {
   "cell_type": "code",
   "execution_count": 184,
   "metadata": {},
   "outputs": [
    {
     "data": {
      "text/plain": [
       "1      6755\n",
       "199     294\n",
       "201     238\n",
       "258     197\n",
       "256     142\n",
       "Name: Adult HD Kt/V data availability code, dtype: int64"
      ]
     },
     "execution_count": 184,
     "metadata": {},
     "output_type": "execute_result"
    }
   ],
   "source": [
    "df['Adult HD Kt/V data availability code'].value_counts()"
   ]
  },
  {
   "cell_type": "markdown",
   "metadata": {},
   "source": [
    "### Percentage of Adult PD PTS with Kt/V >= 1.7\n",
    "Data type: object\n",
    "\n",
    "Value count: 7626\n",
    "\n",
    "Number of unique values: 71\n",
    "\n",
    "Percent unique values: 0.210%\n",
    "\n",
    "Ranges of values: 0 - \n",
    "\n",
    "Length of values: 1 - 3, 13\n",
    "\n",
    "Description: Lists the percentage of adult PD PTS patients with Kt/V greater than or equal to 1.7. The parameter Kt/V is a measurement of the efficacy of a hemodialysis session. It identifies the effective removal of a specific solute (clearance K) resulting from a given treatment (characterized by time t) in a given patient (with a specific volume of distribution V for the solute considered)."
   ]
  },
  {
   "cell_type": "code",
   "execution_count": 185,
   "metadata": {},
   "outputs": [
    {
     "data": {
      "text/plain": [
       "0               97\n",
       "1    Not Available\n",
       "2    Not Available\n",
       "3    Not Available\n",
       "4    Not Available\n",
       "Name: Percentage of Adult PD PTS with Kt/V >= 1.7, dtype: object"
      ]
     },
     "execution_count": 185,
     "metadata": {},
     "output_type": "execute_result"
    }
   ],
   "source": [
    "df['Percentage of Adult PD PTS with Kt/V >= 1.7'].head()"
   ]
  },
  {
   "cell_type": "code",
   "execution_count": 186,
   "metadata": {},
   "outputs": [
    {
     "data": {
      "text/plain": [
       "7621    Not Available\n",
       "7622    Not Available\n",
       "7623    Not Available\n",
       "7624    Not Available\n",
       "7625    Not Available\n",
       "Name: Percentage of Adult PD PTS with Kt/V >= 1.7, dtype: object"
      ]
     },
     "execution_count": 186,
     "metadata": {},
     "output_type": "execute_result"
    }
   ],
   "source": [
    "df['Percentage of Adult PD PTS with Kt/V >= 1.7'].tail()"
   ]
  },
  {
   "cell_type": "code",
   "execution_count": 187,
   "metadata": {},
   "outputs": [
    {
     "data": {
      "text/plain": [
       "count              7626\n",
       "unique               71\n",
       "top       Not Available\n",
       "freq               5480\n",
       "Name: Percentage of Adult PD PTS with Kt/V >= 1.7, dtype: object"
      ]
     },
     "execution_count": 187,
     "metadata": {},
     "output_type": "execute_result"
    }
   ],
   "source": [
    "df['Percentage of Adult PD PTS with Kt/V >= 1.7'].describe()"
   ]
  },
  {
   "cell_type": "code",
   "execution_count": 188,
   "metadata": {},
   "outputs": [
    {
     "data": {
      "text/plain": [
       "False    55\n",
       "True     16\n",
       "dtype: int64"
      ]
     },
     "execution_count": 188,
     "metadata": {},
     "output_type": "execute_result"
    }
   ],
   "source": [
    "# Percent unique values\n",
    "# True if facility has a value count of 1 (aka unique)\n",
    "pd.Series([facility == 1 for facility in df['Percentage of Adult PD PTS with Kt/V >= 1.7'].value_counts()]).value_counts()"
   ]
  },
  {
   "cell_type": "code",
   "execution_count": 189,
   "metadata": {},
   "outputs": [
    {
     "data": {
      "text/plain": [
       "'0'"
      ]
     },
     "execution_count": 189,
     "metadata": {},
     "output_type": "execute_result"
    }
   ],
   "source": [
    "df['Percentage of Adult PD PTS with Kt/V >= 1.7'].min()"
   ]
  },
  {
   "cell_type": "code",
   "execution_count": 190,
   "metadata": {},
   "outputs": [
    {
     "data": {
      "text/plain": [
       "'Not Available'"
      ]
     },
     "execution_count": 190,
     "metadata": {},
     "output_type": "execute_result"
    }
   ],
   "source": [
    "df['Percentage of Adult PD PTS with Kt/V >= 1.7'].max()"
   ]
  },
  {
   "cell_type": "code",
   "execution_count": 191,
   "metadata": {},
   "outputs": [
    {
     "data": {
      "text/plain": [
       "{1, 2, 3, 13}"
      ]
     },
     "execution_count": 191,
     "metadata": {},
     "output_type": "execute_result"
    }
   ],
   "source": [
    "set([(len(str(num))) for num in df['Percentage of Adult PD PTS with Kt/V >= 1.7']])"
   ]
  },
  {
   "cell_type": "markdown",
   "metadata": {},
   "source": [
    "### Adult PD Kt/V Data Availability Code\n",
    "Data type: int64 \n",
    "\n",
    "Value count: 7626\n",
    "\n",
    "Number of unique values: 5\n",
    "\n",
    "Percent unique values: 0%\n",
    "\n",
    "Ranges of values: 1, 199, 201, 257, 258\n",
    "\n",
    "Length of values: 1, 3\n",
    "\n",
    "Description: Lists whether the facility had sufficient adult PD Kt/V data available or the reason for why the data is not available. The parameter Kt/V is a measurement of the efficacy of a hemodialysis session. It identifies the effective removal of a specific solute (clearance K) resulting from a given treatment (characterized by time t) in a given patient (with a specific volume of distribution V for the solute considered).\n",
    "\n",
    "Value description:\n",
    "- 1   : N/A\n",
    "- 199 : Not enough patients to report on this measure. Call the dialysis center to discuss this measure.\n",
    "- 201 : Data not reported. Call the dialysis center to discuss this quality measure.\n",
    "- 257 : The dialysis center does not provide peritoneal dialysis during the reporting period. \n",
    "- 258 : The dialysis center was not open long enough to supply sufficient measure data."
   ]
  },
  {
   "cell_type": "code",
   "execution_count": 192,
   "metadata": {},
   "outputs": [
    {
     "data": {
      "text/plain": [
       "0      1\n",
       "1    199\n",
       "2    199\n",
       "3    257\n",
       "4    199\n",
       "Name: Adult PD Kt/V Data Availability Code, dtype: int64"
      ]
     },
     "execution_count": 192,
     "metadata": {},
     "output_type": "execute_result"
    }
   ],
   "source": [
    "df['Adult PD Kt/V Data Availability Code'].head()"
   ]
  },
  {
   "cell_type": "code",
   "execution_count": 193,
   "metadata": {},
   "outputs": [
    {
     "data": {
      "text/plain": [
       "7621    257\n",
       "7622    257\n",
       "7623    258\n",
       "7624    199\n",
       "7625    257\n",
       "Name: Adult PD Kt/V Data Availability Code, dtype: int64"
      ]
     },
     "execution_count": 193,
     "metadata": {},
     "output_type": "execute_result"
    }
   ],
   "source": [
    "df['Adult PD Kt/V Data Availability Code'].tail()"
   ]
  },
  {
   "cell_type": "code",
   "execution_count": 194,
   "metadata": {},
   "outputs": [
    {
     "data": {
      "text/plain": [
       "7626"
      ]
     },
     "execution_count": 194,
     "metadata": {},
     "output_type": "execute_result"
    }
   ],
   "source": [
    "df['Adult PD Kt/V Data Availability Code'].count()"
   ]
  },
  {
   "cell_type": "code",
   "execution_count": 195,
   "metadata": {},
   "outputs": [
    {
     "data": {
      "text/plain": [
       "257    3362\n",
       "1      2146\n",
       "199    1116\n",
       "201     835\n",
       "258     167\n",
       "Name: Adult PD Kt/V Data Availability Code, dtype: int64"
      ]
     },
     "execution_count": 195,
     "metadata": {},
     "output_type": "execute_result"
    }
   ],
   "source": [
    "df['Adult PD Kt/V Data Availability Code'].value_counts()"
   ]
  },
  {
   "cell_type": "markdown",
   "metadata": {},
   "source": [
    "### Percentage of Pediatric HD patients with Kt/V >= 1.2\n",
    "Data type: object\n",
    "\n",
    "Value count: 7626\n",
    "\n",
    "Number of unique values: 12\n",
    "\n",
    "Percent unique values: 0.105%\n",
    "\n",
    "Ranges of values: 100 - \n",
    "\n",
    "Length of values: 2, 3, 13\n",
    "\n",
    "Description: Lists the percentage of pediatric HD patients with Kt/V greater than or equal to 1.2. The parameter Kt/V is a measurement of the efficacy of a hemodialysis session. It identifies the effective removal of a specific solute (clearance K) resulting from a given treatment (characterized by time t) in a given patient (with a specific volume of distribution V for the solute considered)."
   ]
  },
  {
   "cell_type": "code",
   "execution_count": 196,
   "metadata": {},
   "outputs": [
    {
     "data": {
      "text/plain": [
       "0    Not Available\n",
       "1    Not Available\n",
       "2    Not Available\n",
       "3    Not Available\n",
       "4    Not Available\n",
       "Name: Percentage of Pediatric HD patients with Kt/V >= 1.2, dtype: object"
      ]
     },
     "execution_count": 196,
     "metadata": {},
     "output_type": "execute_result"
    }
   ],
   "source": [
    "df['Percentage of Pediatric HD patients with Kt/V >= 1.2'].head()"
   ]
  },
  {
   "cell_type": "code",
   "execution_count": 197,
   "metadata": {},
   "outputs": [
    {
     "data": {
      "text/plain": [
       "7621    Not Available\n",
       "7622    Not Available\n",
       "7623    Not Available\n",
       "7624    Not Available\n",
       "7625    Not Available\n",
       "Name: Percentage of Pediatric HD patients with Kt/V >= 1.2, dtype: object"
      ]
     },
     "execution_count": 197,
     "metadata": {},
     "output_type": "execute_result"
    }
   ],
   "source": [
    "df['Percentage of Pediatric HD patients with Kt/V >= 1.2'].tail()"
   ]
  },
  {
   "cell_type": "code",
   "execution_count": 198,
   "metadata": {},
   "outputs": [
    {
     "data": {
      "text/plain": [
       "count              7626\n",
       "unique               12\n",
       "top       Not Available\n",
       "freq               7610\n",
       "Name: Percentage of Pediatric HD patients with Kt/V >= 1.2, dtype: object"
      ]
     },
     "execution_count": 198,
     "metadata": {},
     "output_type": "execute_result"
    }
   ],
   "source": [
    "df['Percentage of Pediatric HD patients with Kt/V >= 1.2'].describe()"
   ]
  },
  {
   "cell_type": "code",
   "execution_count": 199,
   "metadata": {},
   "outputs": [
    {
     "data": {
      "text/plain": [
       "True     8\n",
       "False    4\n",
       "dtype: int64"
      ]
     },
     "execution_count": 199,
     "metadata": {},
     "output_type": "execute_result"
    }
   ],
   "source": [
    "# Percent unique values\n",
    "# True if facility has a value count of 1 (aka unique)\n",
    "pd.Series([facility == 1 for facility in df['Percentage of Pediatric HD patients with Kt/V >= 1.2'].value_counts()]).value_counts()"
   ]
  },
  {
   "cell_type": "code",
   "execution_count": 200,
   "metadata": {},
   "outputs": [
    {
     "data": {
      "text/plain": [
       "'100'"
      ]
     },
     "execution_count": 200,
     "metadata": {},
     "output_type": "execute_result"
    }
   ],
   "source": [
    "df['Percentage of Pediatric HD patients with Kt/V >= 1.2'].min()"
   ]
  },
  {
   "cell_type": "code",
   "execution_count": 201,
   "metadata": {},
   "outputs": [
    {
     "data": {
      "text/plain": [
       "'Not Available'"
      ]
     },
     "execution_count": 201,
     "metadata": {},
     "output_type": "execute_result"
    }
   ],
   "source": [
    "df['Percentage of Pediatric HD patients with Kt/V >= 1.2'].max()"
   ]
  },
  {
   "cell_type": "code",
   "execution_count": 202,
   "metadata": {},
   "outputs": [
    {
     "data": {
      "text/plain": [
       "{2, 3, 13}"
      ]
     },
     "execution_count": 202,
     "metadata": {},
     "output_type": "execute_result"
    }
   ],
   "source": [
    "set([(len(str(num))) for num in df['Percentage of Pediatric HD patients with Kt/V >= 1.2']])"
   ]
  },
  {
   "cell_type": "markdown",
   "metadata": {},
   "source": [
    "### Pediatric HD Kt/V Data Availability Code\n",
    "Data type: int64\n",
    "\n",
    "Value count: 7626\n",
    "\n",
    "Number of unique values: 5\n",
    "\n",
    "Percent unique values: 0%\n",
    "\n",
    "Ranges of values: 1, 199, 201, 258, 259\n",
    "\n",
    "Length of values: 1, 3\n",
    "\n",
    "Description: Lists whether the facility had sufficient Pediatric HD Kt/V data available or the reason for why the data is not available. The parameter Kt/V is a measurement of the efficacy of a hemodialysis session. It identifies the effective removal of a specific solute (clearance K) resulting from a given treatment(characterized by time t) in a given patient (with a specific volume of distribution V for the solute considered).\n",
    "\n",
    "Value description:\n",
    "- 1   : N/A\n",
    "- 199 : Not enough patients to report on this measure. Call the dialysis center to discuss this measure.\n",
    "- 201 : Data not reported. Call the dialysis center to discuss this quality measure.\n",
    "- 258 : The dialysis center was not open long enough to supply sufficient measure data. \n",
    "- 259 : The dialysis center does not provide hemodialysis and/or peritoneal dialysis to pediatric patients during the reporting period."
   ]
  },
  {
   "cell_type": "code",
   "execution_count": 203,
   "metadata": {},
   "outputs": [
    {
     "data": {
      "text/plain": [
       "0    259\n",
       "1    259\n",
       "2    259\n",
       "3    259\n",
       "4    259\n",
       "Name: Pediatric HD Kt/V Data Availability Code, dtype: int64"
      ]
     },
     "execution_count": 203,
     "metadata": {},
     "output_type": "execute_result"
    }
   ],
   "source": [
    "df['Pediatric HD Kt/V Data Availability Code'].head()"
   ]
  },
  {
   "cell_type": "code",
   "execution_count": 204,
   "metadata": {},
   "outputs": [
    {
     "data": {
      "text/plain": [
       "7621    259\n",
       "7622    259\n",
       "7623    258\n",
       "7624    259\n",
       "7625    259\n",
       "Name: Pediatric HD Kt/V Data Availability Code, dtype: int64"
      ]
     },
     "execution_count": 204,
     "metadata": {},
     "output_type": "execute_result"
    }
   ],
   "source": [
    "df['Pediatric HD Kt/V Data Availability Code'].tail()"
   ]
  },
  {
   "cell_type": "code",
   "execution_count": 205,
   "metadata": {},
   "outputs": [
    {
     "data": {
      "text/plain": [
       "7626"
      ]
     },
     "execution_count": 205,
     "metadata": {},
     "output_type": "execute_result"
    }
   ],
   "source": [
    "df['Pediatric HD Kt/V Data Availability Code'].count()"
   ]
  },
  {
   "cell_type": "code",
   "execution_count": 206,
   "metadata": {},
   "outputs": [
    {
     "data": {
      "text/plain": [
       "259    7106\n",
       "201     247\n",
       "199     185\n",
       "258      72\n",
       "1        16\n",
       "Name: Pediatric HD Kt/V Data Availability Code, dtype: int64"
      ]
     },
     "execution_count": 206,
     "metadata": {},
     "output_type": "execute_result"
    }
   ],
   "source": [
    "df['Pediatric HD Kt/V Data Availability Code'].value_counts()"
   ]
  },
  {
   "cell_type": "markdown",
   "metadata": {},
   "source": [
    "### Number of Adult HD patients with Kt/V data\n",
    "Data type: object\n",
    "\n",
    "Value count: 7626\n",
    "\n",
    "Number of unique values: 271\n",
    "\n",
    "Percent unique values: 0.498%\n",
    "\n",
    "Ranges of values: 0 - \n",
    "\n",
    "Length of values: 1 - 3, 13\n",
    "\n",
    "Description: Lists the number of adult HD patients included in Kt/V greater than or equal to 1.2 summary. The parameter Kt/V is a measurement of the efficacy of a hemodialysis session. It identifies the effective removal of a specific solute (clearance K) resulting from a given treatment (characterized by time t) in a given patient (with a specific volume of distribution V for the solute considered)."
   ]
  },
  {
   "cell_type": "code",
   "execution_count": 207,
   "metadata": {},
   "outputs": [
    {
     "data": {
      "text/plain": [
       "0     83\n",
       "1    226\n",
       "2     36\n",
       "3     29\n",
       "4     47\n",
       "Name: Number of Adult HD patients with Kt/V data, dtype: object"
      ]
     },
     "execution_count": 207,
     "metadata": {},
     "output_type": "execute_result"
    }
   ],
   "source": [
    "df['Number of Adult HD patients with Kt/V data'].head()"
   ]
  },
  {
   "cell_type": "code",
   "execution_count": 208,
   "metadata": {},
   "outputs": [
    {
     "data": {
      "text/plain": [
       "7621               96\n",
       "7622               93\n",
       "7623    Not Available\n",
       "7624               49\n",
       "7625              114\n",
       "Name: Number of Adult HD patients with Kt/V data, dtype: object"
      ]
     },
     "execution_count": 208,
     "metadata": {},
     "output_type": "execute_result"
    }
   ],
   "source": [
    "df['Number of Adult HD patients with Kt/V data'].tail()"
   ]
  },
  {
   "cell_type": "code",
   "execution_count": 209,
   "metadata": {},
   "outputs": [
    {
     "data": {
      "text/plain": [
       "count     7626\n",
       "unique     271\n",
       "top          0\n",
       "freq       380\n",
       "Name: Number of Adult HD patients with Kt/V data, dtype: object"
      ]
     },
     "execution_count": 209,
     "metadata": {},
     "output_type": "execute_result"
    }
   ],
   "source": [
    "df['Number of Adult HD patients with Kt/V data'].describe()"
   ]
  },
  {
   "cell_type": "code",
   "execution_count": 210,
   "metadata": {},
   "outputs": [
    {
     "data": {
      "text/plain": [
       "False    233\n",
       "True      38\n",
       "dtype: int64"
      ]
     },
     "execution_count": 210,
     "metadata": {},
     "output_type": "execute_result"
    }
   ],
   "source": [
    "# Percent unique values\n",
    "# True if facility has a value count of 1 (aka unique)\n",
    "pd.Series([facility == 1 for facility in df['Number of Adult HD patients with Kt/V data'].value_counts()]).value_counts()"
   ]
  },
  {
   "cell_type": "code",
   "execution_count": 211,
   "metadata": {},
   "outputs": [
    {
     "data": {
      "text/plain": [
       "'0'"
      ]
     },
     "execution_count": 211,
     "metadata": {},
     "output_type": "execute_result"
    }
   ],
   "source": [
    "df['Number of Adult HD patients with Kt/V data'].min()"
   ]
  },
  {
   "cell_type": "code",
   "execution_count": 212,
   "metadata": {},
   "outputs": [
    {
     "data": {
      "text/plain": [
       "'Not Available'"
      ]
     },
     "execution_count": 212,
     "metadata": {},
     "output_type": "execute_result"
    }
   ],
   "source": [
    "df['Number of Adult HD patients with Kt/V data'].max()"
   ]
  },
  {
   "cell_type": "code",
   "execution_count": 213,
   "metadata": {},
   "outputs": [
    {
     "data": {
      "text/plain": [
       "{1, 2, 3, 13}"
      ]
     },
     "execution_count": 213,
     "metadata": {},
     "output_type": "execute_result"
    }
   ],
   "source": [
    "set([(len(str(num))) for num in df['Number of Adult HD patients with Kt/V data']])"
   ]
  },
  {
   "cell_type": "markdown",
   "metadata": {},
   "source": [
    "### Number of Adult HD patient-months with Kt/V data\n",
    "Data type: object\n",
    "\n",
    "Value count: 7626\n",
    "\n",
    "Number of unique values: 1630\n",
    "\n",
    "Percent unique values: 4.62%\n",
    "\n",
    "Ranges of values: 0 - \n",
    "\n",
    "Length of values: 1 - 4, 13\n",
    "\n",
    "Description: Lists the number of adult HD patient-months included in Kt/V greater than or equal to 1.2 summary. The parameter Kt/V is a measurement of the efficacy of a hemodialysis session. It identifies the effective removal of a specific solute (clearance K) resulting from a given treatment (characterized by time t) in a given patient (with a specific volume of distribution V for the solute considered)."
   ]
  },
  {
   "cell_type": "code",
   "execution_count": 214,
   "metadata": {},
   "outputs": [
    {
     "data": {
      "text/plain": [
       "0     691\n",
       "1    2004\n",
       "2     305\n",
       "3     275\n",
       "4     363\n",
       "Name: Number of Adult HD patient-months with Kt/V data, dtype: object"
      ]
     },
     "execution_count": 214,
     "metadata": {},
     "output_type": "execute_result"
    }
   ],
   "source": [
    "df['Number of Adult HD patient-months with Kt/V data'].head()"
   ]
  },
  {
   "cell_type": "code",
   "execution_count": 215,
   "metadata": {
    "scrolled": true
   },
   "outputs": [
    {
     "data": {
      "text/plain": [
       "7621              769\n",
       "7622              807\n",
       "7623    Not Available\n",
       "7624              355\n",
       "7625              959\n",
       "Name: Number of Adult HD patient-months with Kt/V data, dtype: object"
      ]
     },
     "execution_count": 215,
     "metadata": {},
     "output_type": "execute_result"
    }
   ],
   "source": [
    "df['Number of Adult HD patient-months with Kt/V data'].tail()"
   ]
  },
  {
   "cell_type": "code",
   "execution_count": 216,
   "metadata": {},
   "outputs": [
    {
     "data": {
      "text/plain": [
       "count              7626\n",
       "unique             1630\n",
       "top       Not Available\n",
       "freq                451\n",
       "Name: Number of Adult HD patient-months with Kt/V data, dtype: object"
      ]
     },
     "execution_count": 216,
     "metadata": {},
     "output_type": "execute_result"
    }
   ],
   "source": [
    "df['Number of Adult HD patient-months with Kt/V data'].describe()"
   ]
  },
  {
   "cell_type": "code",
   "execution_count": 217,
   "metadata": {},
   "outputs": [
    {
     "data": {
      "text/plain": [
       "False    1278\n",
       "True      352\n",
       "dtype: int64"
      ]
     },
     "execution_count": 217,
     "metadata": {},
     "output_type": "execute_result"
    }
   ],
   "source": [
    "# Percent unique values\n",
    "# True if facility has a value count of 1 (aka unique)\n",
    "pd.Series([facility == 1 for facility in df['Number of Adult HD patient-months with Kt/V data'].value_counts()]).value_counts()"
   ]
  },
  {
   "cell_type": "code",
   "execution_count": 218,
   "metadata": {},
   "outputs": [
    {
     "data": {
      "text/plain": [
       "'1'"
      ]
     },
     "execution_count": 218,
     "metadata": {},
     "output_type": "execute_result"
    }
   ],
   "source": [
    "df['Number of Adult HD patient-months with Kt/V data'].min()"
   ]
  },
  {
   "cell_type": "code",
   "execution_count": 219,
   "metadata": {},
   "outputs": [
    {
     "data": {
      "text/plain": [
       "'Not Available'"
      ]
     },
     "execution_count": 219,
     "metadata": {},
     "output_type": "execute_result"
    }
   ],
   "source": [
    "df['Number of Adult HD patient-months with Kt/V data'].max()"
   ]
  },
  {
   "cell_type": "code",
   "execution_count": 220,
   "metadata": {},
   "outputs": [
    {
     "data": {
      "text/plain": [
       "{1, 2, 3, 4, 13}"
      ]
     },
     "execution_count": 220,
     "metadata": {},
     "output_type": "execute_result"
    }
   ],
   "source": [
    "set([(len(str(num))) for num in df['Number of Adult HD patient-months with Kt/V data']])"
   ]
  },
  {
   "cell_type": "markdown",
   "metadata": {},
   "source": [
    "### Number of Adult PD patients with Kt/V data\n",
    "Data type: object\n",
    "\n",
    "Value count: 7626\n",
    "\n",
    "Number of unique values: 137\n",
    "\n",
    "Percent unique values: 0.446%\n",
    "\n",
    "Ranges of values: 0 -\n",
    "\n",
    "Length of values: 1 - 3, 13\n",
    "\n",
    "Description: Lists the number of adult PD patients included in Kt/V greater than or equal to 1.7 summary. The parameter Kt/V is a measurement of the efficacy of a hemodialysis session. It identifies the effective removal of a specific solute (clearance K) resulting from a given treatment (characterized by time t) in a given patient (with a specific volume of distribution V for the solute considered)."
   ]
  },
  {
   "cell_type": "code",
   "execution_count": 221,
   "metadata": {},
   "outputs": [
    {
     "data": {
      "text/plain": [
       "0    23\n",
       "1     8\n",
       "2     8\n",
       "3     0\n",
       "4     6\n",
       "Name: Number of Adult PD patients with Kt/V data, dtype: object"
      ]
     },
     "execution_count": 221,
     "metadata": {},
     "output_type": "execute_result"
    }
   ],
   "source": [
    "df['Number of Adult PD patients with Kt/V data'].head()"
   ]
  },
  {
   "cell_type": "code",
   "execution_count": 222,
   "metadata": {},
   "outputs": [
    {
     "data": {
      "text/plain": [
       "7621                0\n",
       "7622                0\n",
       "7623    Not Available\n",
       "7624                6\n",
       "7625                0\n",
       "Name: Number of Adult PD patients with Kt/V data, dtype: object"
      ]
     },
     "execution_count": 222,
     "metadata": {},
     "output_type": "execute_result"
    }
   ],
   "source": [
    "df['Number of Adult PD patients with Kt/V data'].tail()"
   ]
  },
  {
   "cell_type": "code",
   "execution_count": 223,
   "metadata": {},
   "outputs": [
    {
     "data": {
      "text/plain": [
       "count     7626\n",
       "unique     137\n",
       "top          0\n",
       "freq      4197\n",
       "Name: Number of Adult PD patients with Kt/V data, dtype: object"
      ]
     },
     "execution_count": 223,
     "metadata": {},
     "output_type": "execute_result"
    }
   ],
   "source": [
    "df['Number of Adult PD patients with Kt/V data'].describe()"
   ]
  },
  {
   "cell_type": "code",
   "execution_count": 224,
   "metadata": {},
   "outputs": [
    {
     "data": {
      "text/plain": [
       "False    103\n",
       "True      34\n",
       "dtype: int64"
      ]
     },
     "execution_count": 224,
     "metadata": {},
     "output_type": "execute_result"
    }
   ],
   "source": [
    "# Percent unique values\n",
    "# True if facility has a value count of 1 (aka unique)\n",
    "pd.Series([facility == 1 for facility in df['Number of Adult PD patients with Kt/V data'].value_counts()]).value_counts()"
   ]
  },
  {
   "cell_type": "code",
   "execution_count": 225,
   "metadata": {},
   "outputs": [
    {
     "data": {
      "text/plain": [
       "'0'"
      ]
     },
     "execution_count": 225,
     "metadata": {},
     "output_type": "execute_result"
    }
   ],
   "source": [
    "df['Number of Adult PD patients with Kt/V data'].min()"
   ]
  },
  {
   "cell_type": "code",
   "execution_count": 226,
   "metadata": {},
   "outputs": [
    {
     "data": {
      "text/plain": [
       "'Not Available'"
      ]
     },
     "execution_count": 226,
     "metadata": {},
     "output_type": "execute_result"
    }
   ],
   "source": [
    "df['Number of Adult PD patients with Kt/V data'].max()"
   ]
  },
  {
   "cell_type": "code",
   "execution_count": 227,
   "metadata": {},
   "outputs": [
    {
     "data": {
      "text/plain": [
       "{1, 2, 3, 13}"
      ]
     },
     "execution_count": 227,
     "metadata": {},
     "output_type": "execute_result"
    }
   ],
   "source": [
    "set([(len(str(num))) for num in df['Number of Adult PD patients with Kt/V data']])"
   ]
  },
  {
   "cell_type": "markdown",
   "metadata": {},
   "source": [
    "### Number of Adult PD patient-months with Kt/V data\n",
    "Data type: object\n",
    "\n",
    "Value count: 7626\n",
    "\n",
    "Number of unique values: 611\n",
    "\n",
    "Percent unique values: 2.65%\n",
    "\n",
    "Ranges of values: 0 - \n",
    "\n",
    "Length of values: 1 - 4, 13\n",
    "\n",
    "Description: Lists the number of adult PD patient-months included in Kt/V greater than or equal to 1.7 summary. The parameter Kt/V is a measurement of the efficacy of a hemodialysis session. It identifies the effective removal of a specific solute (clearance K) resulting from a given treatment (characterized by time t) in a given patient (with a specific volume of distribution V for the solute considered). "
   ]
  },
  {
   "cell_type": "code",
   "execution_count": 228,
   "metadata": {},
   "outputs": [
    {
     "data": {
      "text/plain": [
       "0              160\n",
       "1               61\n",
       "2               62\n",
       "3    Not Available\n",
       "4               42\n",
       "Name: Number of Adult PD patient-months with Kt/V data, dtype: object"
      ]
     },
     "execution_count": 228,
     "metadata": {},
     "output_type": "execute_result"
    }
   ],
   "source": [
    "df['Number of Adult PD patient-months with Kt/V data'].head()"
   ]
  },
  {
   "cell_type": "code",
   "execution_count": 229,
   "metadata": {},
   "outputs": [
    {
     "data": {
      "text/plain": [
       "7621    Not Available\n",
       "7622    Not Available\n",
       "7623    Not Available\n",
       "7624               30\n",
       "7625    Not Available\n",
       "Name: Number of Adult PD patient-months with Kt/V data, dtype: object"
      ]
     },
     "execution_count": 229,
     "metadata": {},
     "output_type": "execute_result"
    }
   ],
   "source": [
    "df['Number of Adult PD patient-months with Kt/V data'].tail()"
   ]
  },
  {
   "cell_type": "code",
   "execution_count": 230,
   "metadata": {},
   "outputs": [
    {
     "data": {
      "text/plain": [
       "count              7626\n",
       "unique              611\n",
       "top       Not Available\n",
       "freq               4268\n",
       "Name: Number of Adult PD patient-months with Kt/V data, dtype: object"
      ]
     },
     "execution_count": 230,
     "metadata": {},
     "output_type": "execute_result"
    }
   ],
   "source": [
    "df['Number of Adult PD patient-months with Kt/V data'].describe()"
   ]
  },
  {
   "cell_type": "code",
   "execution_count": 231,
   "metadata": {},
   "outputs": [
    {
     "data": {
      "text/plain": [
       "False    409\n",
       "True     202\n",
       "dtype: int64"
      ]
     },
     "execution_count": 231,
     "metadata": {},
     "output_type": "execute_result"
    }
   ],
   "source": [
    "# Percent unique values\n",
    "# True if facility has a value count of 1 (aka unique)\n",
    "pd.Series([facility == 1 for facility in df['Number of Adult PD patient-months with Kt/V data'].value_counts()]).value_counts()"
   ]
  },
  {
   "cell_type": "code",
   "execution_count": 232,
   "metadata": {},
   "outputs": [
    {
     "data": {
      "text/plain": [
       "'1'"
      ]
     },
     "execution_count": 232,
     "metadata": {},
     "output_type": "execute_result"
    }
   ],
   "source": [
    "df['Number of Adult PD patient-months with Kt/V data'].min()"
   ]
  },
  {
   "cell_type": "code",
   "execution_count": 233,
   "metadata": {},
   "outputs": [
    {
     "data": {
      "text/plain": [
       "'Not Available'"
      ]
     },
     "execution_count": 233,
     "metadata": {},
     "output_type": "execute_result"
    }
   ],
   "source": [
    "df['Number of Adult PD patient-months with Kt/V data'].max()"
   ]
  },
  {
   "cell_type": "code",
   "execution_count": 234,
   "metadata": {},
   "outputs": [
    {
     "data": {
      "text/plain": [
       "{1, 2, 3, 4, 13}"
      ]
     },
     "execution_count": 234,
     "metadata": {},
     "output_type": "execute_result"
    }
   ],
   "source": [
    "set([(len(str(num))) for num in df['Number of Adult PD patient-months with Kt/V data']])"
   ]
  },
  {
   "cell_type": "markdown",
   "metadata": {},
   "source": [
    "### Number of Pediatric HD patients with Kt/V data\n",
    "Data type: object\n",
    "\n",
    "Value count: 7626\n",
    "\n",
    "Number of unique values: 20\n",
    "\n",
    "Percent unique values: 0.0393%\n",
    "\n",
    "Ranges of values: 0 - \n",
    "\n",
    "Length of values: 1 - 2, 13\n",
    "\n",
    "Description: Lists the number of pediatric HD patients included in Kt/V greater than or equal to 1.2 summary. The parameter Kt/V is a measurement of the efficacy of a hemodialysis session. It identifies the effective removal of a specific solute (clearance K) resulting from a given treatment (characterized by time t) in a given patient (with a specific volume of distribution V for the solute considered)."
   ]
  },
  {
   "cell_type": "code",
   "execution_count": 235,
   "metadata": {},
   "outputs": [
    {
     "data": {
      "text/plain": [
       "0    0\n",
       "1    0\n",
       "2    0\n",
       "3    0\n",
       "4    0\n",
       "Name: Number of Pediatric HD patients with Kt/V data, dtype: object"
      ]
     },
     "execution_count": 235,
     "metadata": {},
     "output_type": "execute_result"
    }
   ],
   "source": [
    "df['Number of Pediatric HD patients with Kt/V data'].head()"
   ]
  },
  {
   "cell_type": "code",
   "execution_count": 236,
   "metadata": {},
   "outputs": [
    {
     "data": {
      "text/plain": [
       "7621                0\n",
       "7622                0\n",
       "7623    Not Available\n",
       "7624                0\n",
       "7625                0\n",
       "Name: Number of Pediatric HD patients with Kt/V data, dtype: object"
      ]
     },
     "execution_count": 236,
     "metadata": {},
     "output_type": "execute_result"
    }
   ],
   "source": [
    "df['Number of Pediatric HD patients with Kt/V data'].tail()"
   ]
  },
  {
   "cell_type": "code",
   "execution_count": 237,
   "metadata": {},
   "outputs": [
    {
     "data": {
      "text/plain": [
       "count     7626\n",
       "unique      20\n",
       "top          0\n",
       "freq      7353\n",
       "Name: Number of Pediatric HD patients with Kt/V data, dtype: object"
      ]
     },
     "execution_count": 237,
     "metadata": {},
     "output_type": "execute_result"
    }
   ],
   "source": [
    "df['Number of Pediatric HD patients with Kt/V data'].describe()"
   ]
  },
  {
   "cell_type": "code",
   "execution_count": 238,
   "metadata": {},
   "outputs": [
    {
     "data": {
      "text/plain": [
       "False    17\n",
       "True      3\n",
       "dtype: int64"
      ]
     },
     "execution_count": 238,
     "metadata": {},
     "output_type": "execute_result"
    }
   ],
   "source": [
    "# Percent unique values\n",
    "# True if facility has a value count of 1 (aka unique)\n",
    "pd.Series([facility == 1 for facility in df['Number of Pediatric HD patients with Kt/V data'].value_counts()]).value_counts()"
   ]
  },
  {
   "cell_type": "code",
   "execution_count": 239,
   "metadata": {},
   "outputs": [
    {
     "data": {
      "text/plain": [
       "'0'"
      ]
     },
     "execution_count": 239,
     "metadata": {},
     "output_type": "execute_result"
    }
   ],
   "source": [
    "df['Number of Pediatric HD patients with Kt/V data'].min()"
   ]
  },
  {
   "cell_type": "code",
   "execution_count": 240,
   "metadata": {},
   "outputs": [
    {
     "data": {
      "text/plain": [
       "'Not Available'"
      ]
     },
     "execution_count": 240,
     "metadata": {},
     "output_type": "execute_result"
    }
   ],
   "source": [
    "df['Number of Pediatric HD patients with Kt/V data'].max()"
   ]
  },
  {
   "cell_type": "code",
   "execution_count": 241,
   "metadata": {},
   "outputs": [
    {
     "data": {
      "text/plain": [
       "{1, 2, 13}"
      ]
     },
     "execution_count": 241,
     "metadata": {},
     "output_type": "execute_result"
    }
   ],
   "source": [
    "set([(len(str(num))) for num in df['Number of Pediatric HD patients with Kt/V data']])"
   ]
  },
  {
   "cell_type": "markdown",
   "metadata": {},
   "source": [
    "### Number of Pediatric HD patient-months with Kt/V data\n",
    "Data type: object \n",
    "\n",
    "Value count: 7626\n",
    "\n",
    "Number of unique values: 68\n",
    "\n",
    "Percent unique values: 0.459%\n",
    "\n",
    "Ranges of values: 1 - \n",
    "\n",
    "Length of values: 1 - 3, 13\n",
    "\n",
    "Description: Lists the number of pediatric HD patientmonths included in Kt/V greater than or equal to 1.2 summary. The parameter Kt/V is a measurement of the efficacy of a hemodialysis session. It identifies the effective removal of a specific solute (clearance K) resulting from a given treatment (characterized by time t) in a given patient (with a specific volume of distribution V for the solute considered)."
   ]
  },
  {
   "cell_type": "code",
   "execution_count": 242,
   "metadata": {},
   "outputs": [
    {
     "data": {
      "text/plain": [
       "0    Not Available\n",
       "1    Not Available\n",
       "2    Not Available\n",
       "3    Not Available\n",
       "4    Not Available\n",
       "Name: Number of Pediatric HD patient-months with Kt/V data, dtype: object"
      ]
     },
     "execution_count": 242,
     "metadata": {},
     "output_type": "execute_result"
    }
   ],
   "source": [
    "df['Number of Pediatric HD patient-months with Kt/V data'].head()"
   ]
  },
  {
   "cell_type": "code",
   "execution_count": 243,
   "metadata": {},
   "outputs": [
    {
     "data": {
      "text/plain": [
       "7621    Not Available\n",
       "7622    Not Available\n",
       "7623    Not Available\n",
       "7624    Not Available\n",
       "7625    Not Available\n",
       "Name: Number of Pediatric HD patient-months with Kt/V data, dtype: object"
      ]
     },
     "execution_count": 243,
     "metadata": {},
     "output_type": "execute_result"
    }
   ],
   "source": [
    "df['Number of Pediatric HD patient-months with Kt/V data'].tail()"
   ]
  },
  {
   "cell_type": "code",
   "execution_count": 244,
   "metadata": {},
   "outputs": [
    {
     "data": {
      "text/plain": [
       "count              7626\n",
       "unique               68\n",
       "top       Not Available\n",
       "freq               7424\n",
       "Name: Number of Pediatric HD patient-months with Kt/V data, dtype: object"
      ]
     },
     "execution_count": 244,
     "metadata": {},
     "output_type": "execute_result"
    }
   ],
   "source": [
    "df['Number of Pediatric HD patient-months with Kt/V data'].describe()"
   ]
  },
  {
   "cell_type": "code",
   "execution_count": 245,
   "metadata": {},
   "outputs": [
    {
     "data": {
      "text/plain": [
       "True     35\n",
       "False    33\n",
       "dtype: int64"
      ]
     },
     "execution_count": 245,
     "metadata": {},
     "output_type": "execute_result"
    }
   ],
   "source": [
    "# Percent unique values\n",
    "# True if facility has a value count of 1 (aka unique)\n",
    "pd.Series([facility == 1 for facility in df['Number of Pediatric HD patient-months with Kt/V data'].value_counts()]).value_counts()"
   ]
  },
  {
   "cell_type": "code",
   "execution_count": 246,
   "metadata": {},
   "outputs": [
    {
     "data": {
      "text/plain": [
       "'1'"
      ]
     },
     "execution_count": 246,
     "metadata": {},
     "output_type": "execute_result"
    }
   ],
   "source": [
    "df['Number of Pediatric HD patient-months with Kt/V data'].min()"
   ]
  },
  {
   "cell_type": "code",
   "execution_count": 247,
   "metadata": {},
   "outputs": [
    {
     "data": {
      "text/plain": [
       "'Not Available'"
      ]
     },
     "execution_count": 247,
     "metadata": {},
     "output_type": "execute_result"
    }
   ],
   "source": [
    "df['Number of Pediatric HD patient-months with Kt/V data'].max()"
   ]
  },
  {
   "cell_type": "code",
   "execution_count": 248,
   "metadata": {},
   "outputs": [
    {
     "data": {
      "text/plain": [
       "{1, 2, 3, 13}"
      ]
     },
     "execution_count": 248,
     "metadata": {},
     "output_type": "execute_result"
    }
   ],
   "source": [
    "set([(len(str(num))) for num in df['Number of Pediatric HD patient-months with Kt/V data']])"
   ]
  },
  {
   "cell_type": "markdown",
   "metadata": {},
   "source": [
    "### Hypercalcemia Data Availability Code\n",
    "Data type: int64\n",
    "\n",
    "Value count: 7626\n",
    "\n",
    "Number of unique values: 4\n",
    "\n",
    "Percent unique values: 0%\n",
    "\n",
    "Ranges of values: 1, 199, 201, 258\n",
    "\n",
    "Length of values: 1, 3\n",
    "\n",
    "Description: Lists whether the facility had sufficient hypercalcemia data available or the reason for why the data is not available. Hypercalcemia is a condition in which the calcium level in one's blood is above normal. Too much calcium in the blood can weaken bones, create kidney stones, and interfere with how the heart and brain work. Hypercalcemia is usually a result of overactive parathyroid glands.\n",
    "A normal serum calcium level is 8-10 mg/dL (2-2.5 mmol/L) with some interlaboratory variation in the reference range, and hypercalcemia is defined as a serum calcium level greater than 10.5 mg/dL (>2.5 mmol/L).\n",
    "\n",
    "Value description:\n",
    "- 1   : N/A\n",
    "- 199 : Not enough patients to report on this measure. Call the dialysis center to discuss this measure.\n",
    "- 201 : Data not reported. Call the dialysis center to discuss this quality measure.\n",
    "- 258 : The dialysis center was not open long enough to supply sufficient measure data. "
   ]
  },
  {
   "cell_type": "code",
   "execution_count": 249,
   "metadata": {},
   "outputs": [
    {
     "data": {
      "text/plain": [
       "0    1\n",
       "1    1\n",
       "2    1\n",
       "3    1\n",
       "4    1\n",
       "Name: Hypercalcemia Data Availability Code, dtype: int64"
      ]
     },
     "execution_count": 249,
     "metadata": {},
     "output_type": "execute_result"
    }
   ],
   "source": [
    "df['Hypercalcemia Data Availability Code'].head()"
   ]
  },
  {
   "cell_type": "code",
   "execution_count": 250,
   "metadata": {},
   "outputs": [
    {
     "data": {
      "text/plain": [
       "7621      1\n",
       "7622      1\n",
       "7623    258\n",
       "7624      1\n",
       "7625      1\n",
       "Name: Hypercalcemia Data Availability Code, dtype: int64"
      ]
     },
     "execution_count": 250,
     "metadata": {},
     "output_type": "execute_result"
    }
   ],
   "source": [
    "df['Hypercalcemia Data Availability Code'].tail()"
   ]
  },
  {
   "cell_type": "code",
   "execution_count": 251,
   "metadata": {},
   "outputs": [
    {
     "data": {
      "text/plain": [
       "7626"
      ]
     },
     "execution_count": 251,
     "metadata": {},
     "output_type": "execute_result"
    }
   ],
   "source": [
    "df['Hypercalcemia Data Availability Code'].count()"
   ]
  },
  {
   "cell_type": "code",
   "execution_count": 252,
   "metadata": {},
   "outputs": [
    {
     "data": {
      "text/plain": [
       "1      7204\n",
       "258     203\n",
       "199     124\n",
       "201      95\n",
       "Name: Hypercalcemia Data Availability Code, dtype: int64"
      ]
     },
     "execution_count": 252,
     "metadata": {},
     "output_type": "execute_result"
    }
   ],
   "source": [
    "df['Hypercalcemia Data Availability Code'].value_counts()"
   ]
  },
  {
   "cell_type": "markdown",
   "metadata": {},
   "source": [
    "### Number of patients in hypercalcemia summary\n",
    "Data type: object\n",
    "\n",
    "Value count: 7626\n",
    "\n",
    "Number of unique values: 311\n",
    "\n",
    "Percent unique values: 0.656%\n",
    "\n",
    "Ranges of values: 0 - \n",
    "\n",
    "Length of values: 1 - 3, 13\n",
    "\n",
    "Description: Lists the number of patients included in the facility’s hypercalcemia summary. Hypercalcemia is a condition in which the calcium level in one's blood is above normal. Too much calcium in the blood can weaken bones, create kidney stones, and interfere with how the heart and brain work. Hypercalcemia is usually a result of overactive parathyroid glands.\n",
    "A normal serum calcium level is 8-10 mg/dL (2-2.5 mmol/L) with some interlaboratory variation in the reference range, and hypercalcemia is defined as a serum calcium level greater than 10.5 mg/dL (>2.5 mmol/L)."
   ]
  },
  {
   "cell_type": "code",
   "execution_count": 253,
   "metadata": {},
   "outputs": [
    {
     "data": {
      "text/plain": [
       "0    103\n",
       "1    235\n",
       "2     44\n",
       "3     29\n",
       "4     55\n",
       "Name: Number of patients in hypercalcemia summary, dtype: object"
      ]
     },
     "execution_count": 253,
     "metadata": {},
     "output_type": "execute_result"
    }
   ],
   "source": [
    "df['Number of patients in hypercalcemia summary'].head()"
   ]
  },
  {
   "cell_type": "code",
   "execution_count": 254,
   "metadata": {},
   "outputs": [
    {
     "data": {
      "text/plain": [
       "7621               99\n",
       "7622               93\n",
       "7623    Not Available\n",
       "7624               62\n",
       "7625              119\n",
       "Name: Number of patients in hypercalcemia summary, dtype: object"
      ]
     },
     "execution_count": 254,
     "metadata": {},
     "output_type": "execute_result"
    }
   ],
   "source": [
    "df['Number of patients in hypercalcemia summary'].tail()"
   ]
  },
  {
   "cell_type": "code",
   "execution_count": 255,
   "metadata": {},
   "outputs": [
    {
     "data": {
      "text/plain": [
       "count     7626\n",
       "unique     311\n",
       "top          0\n",
       "freq        95\n",
       "Name: Number of patients in hypercalcemia summary, dtype: object"
      ]
     },
     "execution_count": 255,
     "metadata": {},
     "output_type": "execute_result"
    }
   ],
   "source": [
    "df['Number of patients in hypercalcemia summary'].describe()"
   ]
  },
  {
   "cell_type": "code",
   "execution_count": 256,
   "metadata": {},
   "outputs": [
    {
     "data": {
      "text/plain": [
       "False    261\n",
       "True      50\n",
       "dtype: int64"
      ]
     },
     "execution_count": 256,
     "metadata": {},
     "output_type": "execute_result"
    }
   ],
   "source": [
    "# Percent unique values\n",
    "# True if facility has a value count of 1 (aka unique)\n",
    "pd.Series([facility == 1 for facility in df['Number of patients in hypercalcemia summary'].value_counts()]).value_counts()"
   ]
  },
  {
   "cell_type": "code",
   "execution_count": 257,
   "metadata": {},
   "outputs": [
    {
     "data": {
      "text/plain": [
       "'0'"
      ]
     },
     "execution_count": 257,
     "metadata": {},
     "output_type": "execute_result"
    }
   ],
   "source": [
    "df['Number of patients in hypercalcemia summary'].min()"
   ]
  },
  {
   "cell_type": "code",
   "execution_count": 258,
   "metadata": {},
   "outputs": [
    {
     "data": {
      "text/plain": [
       "'Not Available'"
      ]
     },
     "execution_count": 258,
     "metadata": {},
     "output_type": "execute_result"
    }
   ],
   "source": [
    "df['Number of patients in hypercalcemia summary'].max()"
   ]
  },
  {
   "cell_type": "code",
   "execution_count": 259,
   "metadata": {},
   "outputs": [
    {
     "data": {
      "text/plain": [
       "{1, 2, 3, 13}"
      ]
     },
     "execution_count": 259,
     "metadata": {},
     "output_type": "execute_result"
    }
   ],
   "source": [
    "set([(len(str(num))) for num in df['Number of patients in hypercalcemia summary']])"
   ]
  },
  {
   "cell_type": "markdown",
   "metadata": {},
   "source": [
    "### Number of patient-months in hypercalcemia summary\n",
    "Data type: object\n",
    "\n",
    "Value count: 7626\n",
    "\n",
    "Number of unique values: 1866\n",
    "\n",
    "Percent unique values: 5.51%\n",
    "\n",
    "Ranges of values: 0 - \n",
    "\n",
    "Length of values: 1 - 4, 13\n",
    "\n",
    "Description: Lists the number of patient-months included in the facility’s hypercalcemia summary. Hypercalcemia is a condition in which the calcium level in one's blood is above normal. Too much calcium in the blood can weaken bones, create kidney stones, and interfere with how the heart and brain work. Hypercalcemia is usually a result of overactive parathyroid glands.\n",
    "A normal serum calcium level is 8-10 mg/dL (2-2.5 mmol/L) with some interlaboratory variation in the reference range, and hypercalcemia is defined as a serum calcium level greater than 10.5 mg/dL (>2.5 mmol/L)."
   ]
  },
  {
   "cell_type": "code",
   "execution_count": 260,
   "metadata": {},
   "outputs": [
    {
     "data": {
      "text/plain": [
       "0     906\n",
       "1    2092\n",
       "2     367\n",
       "3     275\n",
       "4     442\n",
       "Name: Number of patient-months in hypercalcemia summary, dtype: object"
      ]
     },
     "execution_count": 260,
     "metadata": {},
     "output_type": "execute_result"
    }
   ],
   "source": [
    "df['Number of patient-months in hypercalcemia summary'].head()"
   ]
  },
  {
   "cell_type": "code",
   "execution_count": 261,
   "metadata": {},
   "outputs": [
    {
     "data": {
      "text/plain": [
       "7621              805\n",
       "7622              807\n",
       "7623    Not Available\n",
       "7624              446\n",
       "7625             1005\n",
       "Name: Number of patient-months in hypercalcemia summary, dtype: object"
      ]
     },
     "execution_count": 261,
     "metadata": {},
     "output_type": "execute_result"
    }
   ],
   "source": [
    "df['Number of patient-months in hypercalcemia summary'].tail()"
   ]
  },
  {
   "cell_type": "code",
   "execution_count": 262,
   "metadata": {},
   "outputs": [
    {
     "data": {
      "text/plain": [
       "count              7626\n",
       "unique             1866\n",
       "top       Not Available\n",
       "freq                163\n",
       "Name: Number of patient-months in hypercalcemia summary, dtype: object"
      ]
     },
     "execution_count": 262,
     "metadata": {},
     "output_type": "execute_result"
    }
   ],
   "source": [
    "df['Number of patient-months in hypercalcemia summary'].describe()"
   ]
  },
  {
   "cell_type": "code",
   "execution_count": 263,
   "metadata": {},
   "outputs": [
    {
     "data": {
      "text/plain": [
       "False    1446\n",
       "True      420\n",
       "dtype: int64"
      ]
     },
     "execution_count": 263,
     "metadata": {},
     "output_type": "execute_result"
    }
   ],
   "source": [
    "# Percent unique values\n",
    "# True if facility has a value count of 1 (aka unique)\n",
    "pd.Series([facility == 1 for facility in df['Number of patient-months in hypercalcemia summary'].value_counts()]).value_counts()"
   ]
  },
  {
   "cell_type": "code",
   "execution_count": 264,
   "metadata": {},
   "outputs": [
    {
     "data": {
      "text/plain": [
       "'0'"
      ]
     },
     "execution_count": 264,
     "metadata": {},
     "output_type": "execute_result"
    }
   ],
   "source": [
    "df['Number of patient-months in hypercalcemia summary'].min()"
   ]
  },
  {
   "cell_type": "code",
   "execution_count": 265,
   "metadata": {},
   "outputs": [
    {
     "data": {
      "text/plain": [
       "'Not Available'"
      ]
     },
     "execution_count": 265,
     "metadata": {},
     "output_type": "execute_result"
    }
   ],
   "source": [
    "df['Number of patient-months in hypercalcemia summary'].max()"
   ]
  },
  {
   "cell_type": "code",
   "execution_count": 266,
   "metadata": {},
   "outputs": [
    {
     "data": {
      "text/plain": [
       "{1, 2, 3, 4, 13}"
      ]
     },
     "execution_count": 266,
     "metadata": {},
     "output_type": "execute_result"
    }
   ],
   "source": [
    "set([(len(str(num))) for num in df['Number of patient-months in hypercalcemia summary']])"
   ]
  },
  {
   "cell_type": "markdown",
   "metadata": {},
   "source": [
    "### Percentage of Adult patients with hypercalcemia (serum calcium greater than 10.2 mg/dL)\n",
    "Data type: object\n",
    "\n",
    "Value count: 7626\n",
    "\n",
    "Number of unique values: 49\n",
    "\n",
    "Percent unique values: 0.197%\n",
    "\n",
    "Ranges of values: 0 - \n",
    "\n",
    "Length of values: 1 - 2, 13\n",
    "\n",
    "Description: Lists the percentage of Adult patients with Hypercalcemia (serum calcium greater than 10.2 mg/dL). Serum phosphorus is measured in milligrams of phosphorus per deciliter of blood (mg/dL). According to Mayo Medical Laboratories, a normal range for adults is generally 2.5 to 4.5 mg/dL. The normal range varies slightly depending on your age.\n",
    "Most commonly, a high level of phosphorus is related to a kidney disorder. It shows that your kidneys are having difficulty clearing phosphorus from your blood. A high level of phosphorus can also mean uncontrolled diabetes and other endocrine disorders. "
   ]
  },
  {
   "cell_type": "code",
   "execution_count": 267,
   "metadata": {},
   "outputs": [
    {
     "data": {
      "text/plain": [
       "0    1\n",
       "1    2\n",
       "2    1\n",
       "3    0\n",
       "4    1\n",
       "Name: Percentage of Adult patients with hypercalcemia (serum calcium greater than 10.2 mg/dL), dtype: object"
      ]
     },
     "execution_count": 267,
     "metadata": {},
     "output_type": "execute_result"
    }
   ],
   "source": [
    "df['Percentage of Adult patients with hypercalcemia (serum calcium greater than 10.2 mg/dL)'].head()"
   ]
  },
  {
   "cell_type": "code",
   "execution_count": 268,
   "metadata": {},
   "outputs": [
    {
     "data": {
      "text/plain": [
       "7621                0\n",
       "7622                2\n",
       "7623    Not Available\n",
       "7624                0\n",
       "7625                2\n",
       "Name: Percentage of Adult patients with hypercalcemia (serum calcium greater than 10.2 mg/dL), dtype: object"
      ]
     },
     "execution_count": 268,
     "metadata": {},
     "output_type": "execute_result"
    }
   ],
   "source": [
    "df['Percentage of Adult patients with hypercalcemia (serum calcium greater than 10.2 mg/dL)'].tail()"
   ]
  },
  {
   "cell_type": "code",
   "execution_count": 269,
   "metadata": {},
   "outputs": [
    {
     "data": {
      "text/plain": [
       "count     7626\n",
       "unique      49\n",
       "top          1\n",
       "freq      2064\n",
       "Name: Percentage of Adult patients with hypercalcemia (serum calcium greater than 10.2 mg/dL), dtype: object"
      ]
     },
     "execution_count": 269,
     "metadata": {},
     "output_type": "execute_result"
    }
   ],
   "source": [
    "df['Percentage of Adult patients with hypercalcemia (serum calcium greater than 10.2 mg/dL)'].describe()"
   ]
  },
  {
   "cell_type": "code",
   "execution_count": 270,
   "metadata": {},
   "outputs": [
    {
     "data": {
      "text/plain": [
       "False    34\n",
       "True     15\n",
       "dtype: int64"
      ]
     },
     "execution_count": 270,
     "metadata": {},
     "output_type": "execute_result"
    }
   ],
   "source": [
    "# Percent unique values\n",
    "# True if facility has a value count of 1 (aka unique)\n",
    "pd.Series([facility == 1 for facility in df['Percentage of Adult patients with hypercalcemia (serum calcium greater than 10.2 mg/dL)'].value_counts()]).value_counts()"
   ]
  },
  {
   "cell_type": "code",
   "execution_count": 271,
   "metadata": {},
   "outputs": [
    {
     "data": {
      "text/plain": [
       "'0'"
      ]
     },
     "execution_count": 271,
     "metadata": {},
     "output_type": "execute_result"
    }
   ],
   "source": [
    "df['Percentage of Adult patients with hypercalcemia (serum calcium greater than 10.2 mg/dL)'].min()"
   ]
  },
  {
   "cell_type": "code",
   "execution_count": 272,
   "metadata": {},
   "outputs": [
    {
     "data": {
      "text/plain": [
       "'Not Available'"
      ]
     },
     "execution_count": 272,
     "metadata": {},
     "output_type": "execute_result"
    }
   ],
   "source": [
    "df['Percentage of Adult patients with hypercalcemia (serum calcium greater than 10.2 mg/dL)'].max()"
   ]
  },
  {
   "cell_type": "code",
   "execution_count": 273,
   "metadata": {},
   "outputs": [
    {
     "data": {
      "text/plain": [
       "{1, 2, 13}"
      ]
     },
     "execution_count": 273,
     "metadata": {},
     "output_type": "execute_result"
    }
   ],
   "source": [
    "set([(len(str(num))) for num in df['Percentage of Adult patients with hypercalcemia (serum calcium greater than 10.2 mg/dL)']])"
   ]
  },
  {
   "cell_type": "markdown",
   "metadata": {},
   "source": [
    "### Number of patients in Serum phosphorus summary\n",
    "Data type: object\n",
    "\n",
    "Value count: 7626\n",
    "\n",
    "Number of unique values: 324\n",
    "\n",
    "Percent unique values: 0.721%\n",
    "\n",
    "Ranges of values: 0 - \n",
    "\n",
    "Length of values: 1 - 3, 13\n",
    "\n",
    "Description: Lists the number of patients included in the facility’s serum phosphorus summary.\n",
    "Serum phosphorus is measured in milligrams of phosphorus per deciliter of blood (mg/dL). According to Mayo Medical Laboratories, a normal range for adults is generally 2.5 to 4.5 mg/dL. The normal range varies slightly depending on your age.\n",
    "Most commonly, a high level of phosphorus is related to a kidney disorder. It shows that your kidneys are having difficulty clearing phosphorus from your blood. A high level of phosphorus can also mean uncontrolled diabetes and other endocrine disorders."
   ]
  },
  {
   "cell_type": "code",
   "execution_count": 274,
   "metadata": {},
   "outputs": [
    {
     "data": {
      "text/plain": [
       "0    111\n",
       "1    235\n",
       "2     46\n",
       "3     30\n",
       "4     55\n",
       "Name: Number of patients in Serum phosphorus summary, dtype: object"
      ]
     },
     "execution_count": 274,
     "metadata": {},
     "output_type": "execute_result"
    }
   ],
   "source": [
    "df['Number of patients in Serum phosphorus summary'].head()"
   ]
  },
  {
   "cell_type": "code",
   "execution_count": 275,
   "metadata": {},
   "outputs": [
    {
     "data": {
      "text/plain": [
       "7621              106\n",
       "7622               98\n",
       "7623    Not Available\n",
       "7624               66\n",
       "7625              124\n",
       "Name: Number of patients in Serum phosphorus summary, dtype: object"
      ]
     },
     "execution_count": 275,
     "metadata": {},
     "output_type": "execute_result"
    }
   ],
   "source": [
    "df['Number of patients in Serum phosphorus summary'].tail()"
   ]
  },
  {
   "cell_type": "code",
   "execution_count": 276,
   "metadata": {},
   "outputs": [
    {
     "data": {
      "text/plain": [
       "count     7626\n",
       "unique     324\n",
       "top          0\n",
       "freq       108\n",
       "Name: Number of patients in Serum phosphorus summary, dtype: object"
      ]
     },
     "execution_count": 276,
     "metadata": {},
     "output_type": "execute_result"
    }
   ],
   "source": [
    "df['Number of patients in Serum phosphorus summary'].describe()"
   ]
  },
  {
   "cell_type": "code",
   "execution_count": 277,
   "metadata": {},
   "outputs": [
    {
     "data": {
      "text/plain": [
       "False    269\n",
       "True      55\n",
       "dtype: int64"
      ]
     },
     "execution_count": 277,
     "metadata": {},
     "output_type": "execute_result"
    }
   ],
   "source": [
    "# Percent unique values\n",
    "# True if facility has a value count of 1 (aka unique)\n",
    "pd.Series([facility == 1 for facility in df['Number of patients in Serum phosphorus summary'].value_counts()]).value_counts()"
   ]
  },
  {
   "cell_type": "code",
   "execution_count": 278,
   "metadata": {},
   "outputs": [
    {
     "data": {
      "text/plain": [
       "'0'"
      ]
     },
     "execution_count": 278,
     "metadata": {},
     "output_type": "execute_result"
    }
   ],
   "source": [
    "df['Number of patients in Serum phosphorus summary'].min()"
   ]
  },
  {
   "cell_type": "code",
   "execution_count": 279,
   "metadata": {},
   "outputs": [
    {
     "data": {
      "text/plain": [
       "'Not Available'"
      ]
     },
     "execution_count": 279,
     "metadata": {},
     "output_type": "execute_result"
    }
   ],
   "source": [
    "df['Number of patients in Serum phosphorus summary'].max()"
   ]
  },
  {
   "cell_type": "code",
   "execution_count": 280,
   "metadata": {},
   "outputs": [
    {
     "data": {
      "text/plain": [
       "{1, 2, 3, 13}"
      ]
     },
     "execution_count": 280,
     "metadata": {},
     "output_type": "execute_result"
    }
   ],
   "source": [
    "set([(len(str(num))) for num in df['Number of patients in Serum phosphorus summary']])"
   ]
  },
  {
   "cell_type": "markdown",
   "metadata": {},
   "source": [
    "### Number of patient-months in Serum phosphorus summary \n",
    "Data type: object\n",
    "\n",
    "Value count: 7626\n",
    "\n",
    "Number of unique values: 1904\n",
    "\n",
    "Percent unique values: 6.22%\n",
    "\n",
    "Ranges of values: 0 - \n",
    "\n",
    "Length of values: 1 - 4, 13\n",
    "\n",
    "Description: Lists the number of patient-months included in the facility’s serum phosphorus summary.\n",
    "Serum phosphorus is measured in milligrams of phosphorus per deciliter of blood (mg/dL). According to Mayo Medical Laboratories, a normal range for adults is generally 2.5 to 4.5 mg/dL. The normal range varies slightly depending on your age.\n",
    "Most commonly, a high level of phosphorus is related to a kidney disorder. It shows that your kidneys are having difficulty clearing phosphorus from your blood. A high level of phosphorus can also mean uncontrolled diabetes and other endocrine disorders."
   ]
  },
  {
   "cell_type": "code",
   "execution_count": 281,
   "metadata": {},
   "outputs": [
    {
     "data": {
      "text/plain": [
       "0     963\n",
       "1    2133\n",
       "2     360\n",
       "3     290\n",
       "4     455\n",
       "Name: Number of patient-months in Serum phosphorus summary , dtype: object"
      ]
     },
     "execution_count": 281,
     "metadata": {},
     "output_type": "execute_result"
    }
   ],
   "source": [
    "df['Number of patient-months in Serum phosphorus summary '].head()"
   ]
  },
  {
   "cell_type": "code",
   "execution_count": 282,
   "metadata": {},
   "outputs": [
    {
     "data": {
      "text/plain": [
       "7621              865\n",
       "7622              827\n",
       "7623    Not Available\n",
       "7624              472\n",
       "7625             1040\n",
       "Name: Number of patient-months in Serum phosphorus summary , dtype: object"
      ]
     },
     "execution_count": 282,
     "metadata": {},
     "output_type": "execute_result"
    }
   ],
   "source": [
    "df['Number of patient-months in Serum phosphorus summary '].tail()"
   ]
  },
  {
   "cell_type": "code",
   "execution_count": 283,
   "metadata": {},
   "outputs": [
    {
     "data": {
      "text/plain": [
       "count              7626\n",
       "unique             1904\n",
       "top       Not Available\n",
       "freq                163\n",
       "Name: Number of patient-months in Serum phosphorus summary , dtype: object"
      ]
     },
     "execution_count": 283,
     "metadata": {},
     "output_type": "execute_result"
    }
   ],
   "source": [
    "df['Number of patient-months in Serum phosphorus summary '].describe()"
   ]
  },
  {
   "cell_type": "code",
   "execution_count": 284,
   "metadata": {},
   "outputs": [
    {
     "data": {
      "text/plain": [
       "False    1430\n",
       "True      474\n",
       "dtype: int64"
      ]
     },
     "execution_count": 284,
     "metadata": {},
     "output_type": "execute_result"
    }
   ],
   "source": [
    "# Percent unique values\n",
    "# True if facility has a value count of 1 (aka unique)\n",
    "pd.Series([facility == 1 for facility in df['Number of patient-months in Serum phosphorus summary '].value_counts()]).value_counts()"
   ]
  },
  {
   "cell_type": "code",
   "execution_count": 285,
   "metadata": {},
   "outputs": [
    {
     "data": {
      "text/plain": [
       "'0'"
      ]
     },
     "execution_count": 285,
     "metadata": {},
     "output_type": "execute_result"
    }
   ],
   "source": [
    "df['Number of patient-months in Serum phosphorus summary '].min()"
   ]
  },
  {
   "cell_type": "code",
   "execution_count": 286,
   "metadata": {},
   "outputs": [
    {
     "data": {
      "text/plain": [
       "'Not Available'"
      ]
     },
     "execution_count": 286,
     "metadata": {},
     "output_type": "execute_result"
    }
   ],
   "source": [
    "df['Number of patient-months in Serum phosphorus summary '].max()"
   ]
  },
  {
   "cell_type": "code",
   "execution_count": 287,
   "metadata": {},
   "outputs": [
    {
     "data": {
      "text/plain": [
       "{1, 2, 3, 4, 13}"
      ]
     },
     "execution_count": 287,
     "metadata": {},
     "output_type": "execute_result"
    }
   ],
   "source": [
    "set([(len(str(num))) for num in df['Number of patient-months in Serum phosphorus summary ']])"
   ]
  },
  {
   "cell_type": "markdown",
   "metadata": {},
   "source": [
    "### Serum phosphorus Data Availability Code \n",
    "Data type: int64\n",
    "\n",
    "Value count: 7626\n",
    "\n",
    "Number of unique values: 4\n",
    "\n",
    "Percent unique values: 0%\n",
    "\n",
    "Ranges of values: 1, 199, 201, 258\n",
    "\n",
    "Length of values: 1, 3\n",
    "\n",
    "Description: Lists whether the facility had sufficient serum phosphorus data available or the reason for why the data is not available.\n",
    "Serum phosphorus is measured in milligrams of phosphorus per deciliter of blood (mg/dL). According to Mayo Medical Laboratories, a normal range for adults is generally 2.5 to 4.5 mg/dL. The normal range varies slightly depending on your age.\n",
    "Most commonly, a high level of phosphorus is related to a kidney disorder. It shows that your kidneys are having difficulty clearing phosphorus from your blood. A high level of phosphorus can also mean uncontrolled diabetes and other endocrine disorders.\n",
    "\n",
    "Value description:\n",
    "- 1   : N/A\n",
    "- 199 : Not enough patients to report on this measure. Call the dialysis center to discuss this measure.\n",
    "- 201 : Data not reported. Call the dialysis center to discuss this quality measure.\n",
    "- 258 : The dialysis center was not open long enough to supply sufficient measure data. "
   ]
  },
  {
   "cell_type": "code",
   "execution_count": 288,
   "metadata": {},
   "outputs": [
    {
     "data": {
      "text/plain": [
       "0    1\n",
       "1    1\n",
       "2    1\n",
       "3    1\n",
       "4    1\n",
       "Name: Serum phosphorus Data Availability Code , dtype: int64"
      ]
     },
     "execution_count": 288,
     "metadata": {},
     "output_type": "execute_result"
    }
   ],
   "source": [
    "df['Serum phosphorus Data Availability Code '].head()"
   ]
  },
  {
   "cell_type": "code",
   "execution_count": 289,
   "metadata": {},
   "outputs": [
    {
     "data": {
      "text/plain": [
       "7621      1\n",
       "7622      1\n",
       "7623    258\n",
       "7624      1\n",
       "7625      1\n",
       "Name: Serum phosphorus Data Availability Code , dtype: int64"
      ]
     },
     "execution_count": 289,
     "metadata": {},
     "output_type": "execute_result"
    }
   ],
   "source": [
    "df['Serum phosphorus Data Availability Code '].tail()"
   ]
  },
  {
   "cell_type": "code",
   "execution_count": 290,
   "metadata": {},
   "outputs": [
    {
     "data": {
      "text/plain": [
       "7626"
      ]
     },
     "execution_count": 290,
     "metadata": {},
     "output_type": "execute_result"
    }
   ],
   "source": [
    "df['Serum phosphorus Data Availability Code '].count()"
   ]
  },
  {
   "cell_type": "code",
   "execution_count": 291,
   "metadata": {},
   "outputs": [
    {
     "data": {
      "text/plain": [
       "1      7215\n",
       "258     184\n",
       "199     119\n",
       "201     108\n",
       "Name: Serum phosphorus Data Availability Code , dtype: int64"
      ]
     },
     "execution_count": 291,
     "metadata": {},
     "output_type": "execute_result"
    }
   ],
   "source": [
    "df['Serum phosphorus Data Availability Code '].value_counts()"
   ]
  },
  {
   "cell_type": "markdown",
   "metadata": {},
   "source": [
    "### Percentage of Adult patients with serum phosphorus less than 3.5 mg/dL\n",
    "Data type: object\n",
    "\n",
    "Value count: 7626\n",
    "\n",
    "Number of unique values: 36\n",
    "\n",
    "Percent unique values:  0.0918%\n",
    "\n",
    "Ranges of values: 0 - \n",
    "\n",
    "Length of values: 1 - 2, 13\n",
    "\n",
    "Description: Lists the percentage of Adult patients with serum phosphorus less than 3.5 mg/dL.\n",
    "Serum phosphorus is measured in milligrams of phosphorus per deciliter of blood (mg/dL). According to Mayo Medical Laboratories, a normal range for adults is generally 2.5 to 4.5 mg/dL. The normal range varies slightly depending on your age.\n",
    "Most commonly, a high level of phosphorus is related to a kidney disorder. It shows that your kidneys are having difficulty clearing phosphorus from your blood. A high level of phosphorus can also mean uncontrolled diabetes and other endocrine disorders."
   ]
  },
  {
   "cell_type": "code",
   "execution_count": 292,
   "metadata": {},
   "outputs": [
    {
     "data": {
      "text/plain": [
       "0    5\n",
       "1    7\n",
       "2    5\n",
       "3    7\n",
       "4    7\n",
       "Name: Percentage of Adult patients with serum phosphorus less than 3.5 mg/dL, dtype: object"
      ]
     },
     "execution_count": 292,
     "metadata": {},
     "output_type": "execute_result"
    }
   ],
   "source": [
    "df['Percentage of Adult patients with serum phosphorus less than 3.5 mg/dL'].head()"
   ]
  },
  {
   "cell_type": "code",
   "execution_count": 293,
   "metadata": {},
   "outputs": [
    {
     "data": {
      "text/plain": [
       "7621                6\n",
       "7622                7\n",
       "7623    Not Available\n",
       "7624               11\n",
       "7625               12\n",
       "Name: Percentage of Adult patients with serum phosphorus less than 3.5 mg/dL, dtype: object"
      ]
     },
     "execution_count": 293,
     "metadata": {},
     "output_type": "execute_result"
    }
   ],
   "source": [
    "df['Percentage of Adult patients with serum phosphorus less than 3.5 mg/dL'].tail()"
   ]
  },
  {
   "cell_type": "code",
   "execution_count": 294,
   "metadata": {},
   "outputs": [
    {
     "data": {
      "text/plain": [
       "count     7626\n",
       "unique      36\n",
       "top          8\n",
       "freq      1037\n",
       "Name: Percentage of Adult patients with serum phosphorus less than 3.5 mg/dL, dtype: object"
      ]
     },
     "execution_count": 294,
     "metadata": {},
     "output_type": "execute_result"
    }
   ],
   "source": [
    "df['Percentage of Adult patients with serum phosphorus less than 3.5 mg/dL'].describe()"
   ]
  },
  {
   "cell_type": "code",
   "execution_count": 295,
   "metadata": {},
   "outputs": [
    {
     "data": {
      "text/plain": [
       "False    29\n",
       "True      7\n",
       "dtype: int64"
      ]
     },
     "execution_count": 295,
     "metadata": {},
     "output_type": "execute_result"
    }
   ],
   "source": [
    "# Percent unique values\n",
    "# True if facility has a value count of 1 (aka unique)\n",
    "pd.Series([facility == 1 for facility in df['Percentage of Adult patients with serum phosphorus less than 3.5 mg/dL'].value_counts()]).value_counts()"
   ]
  },
  {
   "cell_type": "code",
   "execution_count": 296,
   "metadata": {},
   "outputs": [
    {
     "data": {
      "text/plain": [
       "'0'"
      ]
     },
     "execution_count": 296,
     "metadata": {},
     "output_type": "execute_result"
    }
   ],
   "source": [
    "df['Percentage of Adult patients with serum phosphorus less than 3.5 mg/dL'].min()"
   ]
  },
  {
   "cell_type": "code",
   "execution_count": 297,
   "metadata": {},
   "outputs": [
    {
     "data": {
      "text/plain": [
       "'Not Available'"
      ]
     },
     "execution_count": 297,
     "metadata": {},
     "output_type": "execute_result"
    }
   ],
   "source": [
    "df['Percentage of Adult patients with serum phosphorus less than 3.5 mg/dL'].max()"
   ]
  },
  {
   "cell_type": "code",
   "execution_count": 298,
   "metadata": {},
   "outputs": [
    {
     "data": {
      "text/plain": [
       "{1, 2, 13}"
      ]
     },
     "execution_count": 298,
     "metadata": {},
     "output_type": "execute_result"
    }
   ],
   "source": [
    "set([(len(str(num))) for num in df['Percentage of Adult patients with serum phosphorus less than 3.5 mg/dL']])"
   ]
  },
  {
   "cell_type": "markdown",
   "metadata": {},
   "source": [
    "### Percentage of Adult patients with serum phosphorus between 3.5-4.5 mg/dL\n",
    "Data type: object\n",
    "\n",
    "Value count: 7626\n",
    "\n",
    "Number of unique values: 47\n",
    "\n",
    "Percent unique values: 0.118%\n",
    "\n",
    "Ranges of values: 10 - \n",
    "\n",
    "Length of values: 1 - 2, 13\n",
    "\n",
    "Description: Lists the percentage of Adult patients with serum phosphorus between 3.5-4.5 mg/dL.\n",
    "Serum phosphorus is measured in milligrams of phosphorus per deciliter of blood (mg/dL). According to Mayo Medical Laboratories, a normal range for adults is generally 2.5 to 4.5 mg/dL. The normal range varies slightly depending on your age.\n",
    "Most commonly, a high level of phosphorus is related to a kidney disorder. It shows that your kidneys are having difficulty clearing phosphorus from your blood. A high level of phosphorus can also mean uncontrolled diabetes and other endocrine disorders."
   ]
  },
  {
   "cell_type": "code",
   "execution_count": 299,
   "metadata": {},
   "outputs": [
    {
     "data": {
      "text/plain": [
       "0    18\n",
       "1    23\n",
       "2    31\n",
       "3    29\n",
       "4    25\n",
       "Name: Percentage of Adult patients with serum phosphorus between 3.5-4.5 mg/dL, dtype: object"
      ]
     },
     "execution_count": 299,
     "metadata": {},
     "output_type": "execute_result"
    }
   ],
   "source": [
    "df['Percentage of Adult patients with serum phosphorus between 3.5-4.5 mg/dL'].head()"
   ]
  },
  {
   "cell_type": "code",
   "execution_count": 300,
   "metadata": {},
   "outputs": [
    {
     "data": {
      "text/plain": [
       "7621               24\n",
       "7622               18\n",
       "7623    Not Available\n",
       "7624               28\n",
       "7625               26\n",
       "Name: Percentage of Adult patients with serum phosphorus between 3.5-4.5 mg/dL, dtype: object"
      ]
     },
     "execution_count": 300,
     "metadata": {},
     "output_type": "execute_result"
    }
   ],
   "source": [
    "df['Percentage of Adult patients with serum phosphorus between 3.5-4.5 mg/dL'].tail()"
   ]
  },
  {
   "cell_type": "code",
   "execution_count": 301,
   "metadata": {},
   "outputs": [
    {
     "data": {
      "text/plain": [
       "count     7626\n",
       "unique      47\n",
       "top         24\n",
       "freq       703\n",
       "Name: Percentage of Adult patients with serum phosphorus between 3.5-4.5 mg/dL, dtype: object"
      ]
     },
     "execution_count": 301,
     "metadata": {},
     "output_type": "execute_result"
    }
   ],
   "source": [
    "df['Percentage of Adult patients with serum phosphorus between 3.5-4.5 mg/dL'].describe()"
   ]
  },
  {
   "cell_type": "code",
   "execution_count": 302,
   "metadata": {},
   "outputs": [
    {
     "data": {
      "text/plain": [
       "False    38\n",
       "True      9\n",
       "dtype: int64"
      ]
     },
     "execution_count": 302,
     "metadata": {},
     "output_type": "execute_result"
    }
   ],
   "source": [
    "# Percent unique values\n",
    "# True if facility has a value count of 1 (aka unique)\n",
    "pd.Series([facility == 1 for facility in df['Percentage of Adult patients with serum phosphorus between 3.5-4.5 mg/dL'].value_counts()]).value_counts()"
   ]
  },
  {
   "cell_type": "code",
   "execution_count": 303,
   "metadata": {},
   "outputs": [
    {
     "data": {
      "text/plain": [
       "'10'"
      ]
     },
     "execution_count": 303,
     "metadata": {},
     "output_type": "execute_result"
    }
   ],
   "source": [
    "df['Percentage of Adult patients with serum phosphorus between 3.5-4.5 mg/dL'].min()"
   ]
  },
  {
   "cell_type": "code",
   "execution_count": 304,
   "metadata": {},
   "outputs": [
    {
     "data": {
      "text/plain": [
       "'Not Available'"
      ]
     },
     "execution_count": 304,
     "metadata": {},
     "output_type": "execute_result"
    }
   ],
   "source": [
    "df['Percentage of Adult patients with serum phosphorus between 3.5-4.5 mg/dL'].max()"
   ]
  },
  {
   "cell_type": "code",
   "execution_count": 305,
   "metadata": {},
   "outputs": [
    {
     "data": {
      "text/plain": [
       "{1, 2, 13}"
      ]
     },
     "execution_count": 305,
     "metadata": {},
     "output_type": "execute_result"
    }
   ],
   "source": [
    "set([(len(str(num))) for num in df['Percentage of Adult patients with serum phosphorus between 3.5-4.5 mg/dL']])"
   ]
  },
  {
   "cell_type": "markdown",
   "metadata": {},
   "source": [
    "### Percentage of Adult patients with serum phosphorus between 4.6-5.5 mg/dL\n",
    "Data type: object\n",
    "\n",
    "Value count: 7626\n",
    "\n",
    "Number of unique values: 45\n",
    "\n",
    "Percent unique values: 0.0656%\n",
    "\n",
    "Ranges of values: 12 - \n",
    "\n",
    "Length of values: 1 - 2, 13\n",
    "\n",
    "Description: Lists the percentage of Adult patients with serum phosphorus between 4.6-5.5 mg/dL.\n",
    "Serum phosphorus is measured in milligrams of phosphorus per deciliter of blood (mg/dL). According to Mayo Medical Laboratories, a normal range for adults is generally 2.5 to 4.5 mg/dL. The normal range varies slightly depending on your age.\n",
    "Most commonly, a high level of phosphorus is related to a kidney disorder. It shows that your kidneys are having difficulty clearing phosphorus from your blood. A high level of phosphorus can also mean uncontrolled diabetes and other endocrine disorders."
   ]
  },
  {
   "cell_type": "code",
   "execution_count": 306,
   "metadata": {},
   "outputs": [
    {
     "data": {
      "text/plain": [
       "0    22\n",
       "1    30\n",
       "2    42\n",
       "3    42\n",
       "4    28\n",
       "Name: Percentage of Adult patients with serum phosphorus between 4.6-5.5 mg/dL, dtype: object"
      ]
     },
     "execution_count": 306,
     "metadata": {},
     "output_type": "execute_result"
    }
   ],
   "source": [
    "df['Percentage of Adult patients with serum phosphorus between 4.6-5.5 mg/dL'].head()"
   ]
  },
  {
   "cell_type": "code",
   "execution_count": 307,
   "metadata": {},
   "outputs": [
    {
     "data": {
      "text/plain": [
       "7621               40\n",
       "7622               31\n",
       "7623    Not Available\n",
       "7624               36\n",
       "7625               31\n",
       "Name: Percentage of Adult patients with serum phosphorus between 4.6-5.5 mg/dL, dtype: object"
      ]
     },
     "execution_count": 307,
     "metadata": {},
     "output_type": "execute_result"
    }
   ],
   "source": [
    "df['Percentage of Adult patients with serum phosphorus between 4.6-5.5 mg/dL'].tail()"
   ]
  },
  {
   "cell_type": "code",
   "execution_count": 308,
   "metadata": {},
   "outputs": [
    {
     "data": {
      "text/plain": [
       "count     7626\n",
       "unique      45\n",
       "top         30\n",
       "freq       545\n",
       "Name: Percentage of Adult patients with serum phosphorus between 4.6-5.5 mg/dL, dtype: object"
      ]
     },
     "execution_count": 308,
     "metadata": {},
     "output_type": "execute_result"
    }
   ],
   "source": [
    "df['Percentage of Adult patients with serum phosphorus between 4.6-5.5 mg/dL'].describe()"
   ]
  },
  {
   "cell_type": "code",
   "execution_count": 309,
   "metadata": {},
   "outputs": [
    {
     "data": {
      "text/plain": [
       "False    40\n",
       "True      5\n",
       "dtype: int64"
      ]
     },
     "execution_count": 309,
     "metadata": {},
     "output_type": "execute_result"
    }
   ],
   "source": [
    "# Percent unique values\n",
    "# True if facility has a value count of 1 (aka unique)\n",
    "pd.Series([facility == 1 for facility in df['Percentage of Adult patients with serum phosphorus between 4.6-5.5 mg/dL'].value_counts()]).value_counts()"
   ]
  },
  {
   "cell_type": "code",
   "execution_count": 310,
   "metadata": {},
   "outputs": [
    {
     "data": {
      "text/plain": [
       "'12'"
      ]
     },
     "execution_count": 310,
     "metadata": {},
     "output_type": "execute_result"
    }
   ],
   "source": [
    "df['Percentage of Adult patients with serum phosphorus between 4.6-5.5 mg/dL'].min()"
   ]
  },
  {
   "cell_type": "code",
   "execution_count": 311,
   "metadata": {},
   "outputs": [
    {
     "data": {
      "text/plain": [
       "'Not Available'"
      ]
     },
     "execution_count": 311,
     "metadata": {},
     "output_type": "execute_result"
    }
   ],
   "source": [
    "df['Percentage of Adult patients with serum phosphorus between 4.6-5.5 mg/dL'].max()"
   ]
  },
  {
   "cell_type": "code",
   "execution_count": 312,
   "metadata": {},
   "outputs": [
    {
     "data": {
      "text/plain": [
       "{1, 2, 13}"
      ]
     },
     "execution_count": 312,
     "metadata": {},
     "output_type": "execute_result"
    }
   ],
   "source": [
    "set([(len(str(num))) for num in df['Percentage of Adult patients with serum phosphorus between 4.6-5.5 mg/dL']])"
   ]
  },
  {
   "cell_type": "markdown",
   "metadata": {},
   "source": [
    "### Percentage of Adult patients with serum phosphorus between 5.6-7.0 mg/dL\n",
    "Data type: object\n",
    "\n",
    "Value count: 7626\n",
    "\n",
    "Number of unique values: 45\n",
    "\n",
    "Percent unique values: 0.0525%\n",
    "\n",
    "Ranges of values: 10 - \n",
    "\n",
    "Length of values: 1 - 2, 13\n",
    "\n",
    "Description: Lists the percentage of Adult patients with serum phosphorus between 5.6-7.0 mg/dL.\n",
    "Serum phosphorus is measured in milligrams of phosphorus per deciliter of blood (mg/dL). According to Mayo Medical Laboratories, a normal range for adults is generally 2.5 to 4.5 mg/dL. The normal range varies slightly depending on your age.\n",
    "Most commonly, a high level of phosphorus is related to a kidney disorder. It shows that your kidneys are having difficulty clearing phosphorus from your blood. A high level of phosphorus can also mean uncontrolled diabetes and other endocrine disorders."
   ]
  },
  {
   "cell_type": "code",
   "execution_count": 313,
   "metadata": {},
   "outputs": [
    {
     "data": {
      "text/plain": [
       "0    30\n",
       "1    19\n",
       "2    18\n",
       "3    15\n",
       "4    28\n",
       "Name: Percentage of Adult patients with serum phosphorus between 5.6-7.0 mg/dL, dtype: object"
      ]
     },
     "execution_count": 313,
     "metadata": {},
     "output_type": "execute_result"
    }
   ],
   "source": [
    "df['Percentage of Adult patients with serum phosphorus between 5.6-7.0 mg/dL'].head()"
   ]
  },
  {
   "cell_type": "code",
   "execution_count": 314,
   "metadata": {},
   "outputs": [
    {
     "data": {
      "text/plain": [
       "7621               14\n",
       "7622               22\n",
       "7623    Not Available\n",
       "7624               17\n",
       "7625               18\n",
       "Name: Percentage of Adult patients with serum phosphorus between 5.6-7.0 mg/dL, dtype: object"
      ]
     },
     "execution_count": 314,
     "metadata": {},
     "output_type": "execute_result"
    }
   ],
   "source": [
    "df['Percentage of Adult patients with serum phosphorus between 5.6-7.0 mg/dL'].tail()"
   ]
  },
  {
   "cell_type": "code",
   "execution_count": 315,
   "metadata": {},
   "outputs": [
    {
     "data": {
      "text/plain": [
       "count     7626\n",
       "unique      45\n",
       "top         22\n",
       "freq       543\n",
       "Name: Percentage of Adult patients with serum phosphorus between 5.6-7.0 mg/dL, dtype: object"
      ]
     },
     "execution_count": 315,
     "metadata": {},
     "output_type": "execute_result"
    }
   ],
   "source": [
    "df['Percentage of Adult patients with serum phosphorus between 5.6-7.0 mg/dL'].describe()"
   ]
  },
  {
   "cell_type": "code",
   "execution_count": 316,
   "metadata": {},
   "outputs": [
    {
     "data": {
      "text/plain": [
       "False    41\n",
       "True      4\n",
       "dtype: int64"
      ]
     },
     "execution_count": 316,
     "metadata": {},
     "output_type": "execute_result"
    }
   ],
   "source": [
    "# Percent unique values\n",
    "# True if facility has a value count of 1 (aka unique)\n",
    "pd.Series([facility == 1 for facility in df['Percentage of Adult patients with serum phosphorus between 5.6-7.0 mg/dL'].value_counts()]).value_counts()"
   ]
  },
  {
   "cell_type": "code",
   "execution_count": 317,
   "metadata": {},
   "outputs": [
    {
     "data": {
      "text/plain": [
       "'10'"
      ]
     },
     "execution_count": 317,
     "metadata": {},
     "output_type": "execute_result"
    }
   ],
   "source": [
    "df['Percentage of Adult patients with serum phosphorus between 5.6-7.0 mg/dL'].min()"
   ]
  },
  {
   "cell_type": "code",
   "execution_count": 318,
   "metadata": {},
   "outputs": [
    {
     "data": {
      "text/plain": [
       "'Not Available'"
      ]
     },
     "execution_count": 318,
     "metadata": {},
     "output_type": "execute_result"
    }
   ],
   "source": [
    "df['Percentage of Adult patients with serum phosphorus between 5.6-7.0 mg/dL'].max()"
   ]
  },
  {
   "cell_type": "code",
   "execution_count": 319,
   "metadata": {},
   "outputs": [
    {
     "data": {
      "text/plain": [
       "{1, 2, 13}"
      ]
     },
     "execution_count": 319,
     "metadata": {},
     "output_type": "execute_result"
    }
   ],
   "source": [
    "set([(len(str(num))) for num in df['Percentage of Adult patients with serum phosphorus between 5.6-7.0 mg/dL']])"
   ]
  },
  {
   "cell_type": "markdown",
   "metadata": {},
   "source": [
    "### Percentage of Adult patients with serum phosphorus greater than 7.0 mg/dL\n",
    "Data type: object\n",
    "\n",
    "Value count: 7626\n",
    "\n",
    "Number of unique values: 41\n",
    "\n",
    "Percent unique values: 0.0131%\n",
    "\n",
    "Ranges of values: 0 - \n",
    "\n",
    "Length of values: 1 - 2, 13\n",
    "\n",
    "Description: Lists the percentage of Adult patients with serum phosphorus greater than 7.0 mg/dL.\n",
    "Serum phosphorus is measured in milligrams of phosphorus per deciliter of blood (mg/dL). According to Mayo Medical Laboratories, a normal range for adults is generally 2.5 to 4.5 mg/dL. The normal range varies slightly depending on your age.\n",
    "Most commonly, a high level of phosphorus is related to a kidney disorder. It shows that your kidneys are having difficulty clearing phosphorus from your blood. A high level of phosphorus can also mean uncontrolled diabetes and other endocrine disorders."
   ]
  },
  {
   "cell_type": "code",
   "execution_count": 320,
   "metadata": {},
   "outputs": [
    {
     "data": {
      "text/plain": [
       "0    25\n",
       "1    21\n",
       "2     4\n",
       "3     8\n",
       "4    12\n",
       "Name: Percentage of Adult patients with serum phosphorus greater than 7.0 mg/dL, dtype: object"
      ]
     },
     "execution_count": 320,
     "metadata": {},
     "output_type": "execute_result"
    }
   ],
   "source": [
    "df['Percentage of Adult patients with serum phosphorus greater than 7.0 mg/dL'].head()"
   ]
  },
  {
   "cell_type": "code",
   "execution_count": 321,
   "metadata": {},
   "outputs": [
    {
     "data": {
      "text/plain": [
       "7621               16\n",
       "7622               21\n",
       "7623    Not Available\n",
       "7624                9\n",
       "7625               14\n",
       "Name: Percentage of Adult patients with serum phosphorus greater than 7.0 mg/dL, dtype: object"
      ]
     },
     "execution_count": 321,
     "metadata": {},
     "output_type": "execute_result"
    }
   ],
   "source": [
    "df['Percentage of Adult patients with serum phosphorus greater than 7.0 mg/dL'].tail()"
   ]
  },
  {
   "cell_type": "code",
   "execution_count": 322,
   "metadata": {},
   "outputs": [
    {
     "data": {
      "text/plain": [
       "count     7626\n",
       "unique      41\n",
       "top         14\n",
       "freq       588\n",
       "Name: Percentage of Adult patients with serum phosphorus greater than 7.0 mg/dL, dtype: object"
      ]
     },
     "execution_count": 322,
     "metadata": {},
     "output_type": "execute_result"
    }
   ],
   "source": [
    "df['Percentage of Adult patients with serum phosphorus greater than 7.0 mg/dL'].describe()"
   ]
  },
  {
   "cell_type": "code",
   "execution_count": 323,
   "metadata": {},
   "outputs": [
    {
     "data": {
      "text/plain": [
       "False    40\n",
       "True      1\n",
       "dtype: int64"
      ]
     },
     "execution_count": 323,
     "metadata": {},
     "output_type": "execute_result"
    }
   ],
   "source": [
    "# Percent unique values\n",
    "# True if facility has a value count of 1 (aka unique)\n",
    "pd.Series([facility == 1 for facility in df['Percentage of Adult patients with serum phosphorus greater than 7.0 mg/dL'].value_counts()]).value_counts()"
   ]
  },
  {
   "cell_type": "code",
   "execution_count": 324,
   "metadata": {},
   "outputs": [
    {
     "data": {
      "text/plain": [
       "'0'"
      ]
     },
     "execution_count": 324,
     "metadata": {},
     "output_type": "execute_result"
    }
   ],
   "source": [
    "df['Percentage of Adult patients with serum phosphorus greater than 7.0 mg/dL'].min()"
   ]
  },
  {
   "cell_type": "code",
   "execution_count": 325,
   "metadata": {},
   "outputs": [
    {
     "data": {
      "text/plain": [
       "'Not Available'"
      ]
     },
     "execution_count": 325,
     "metadata": {},
     "output_type": "execute_result"
    }
   ],
   "source": [
    "df['Percentage of Adult patients with serum phosphorus greater than 7.0 mg/dL'].max()"
   ]
  },
  {
   "cell_type": "code",
   "execution_count": 326,
   "metadata": {},
   "outputs": [
    {
     "data": {
      "text/plain": [
       "{1, 2, 13}"
      ]
     },
     "execution_count": 326,
     "metadata": {},
     "output_type": "execute_result"
    }
   ],
   "source": [
    "set([(len(str(num))) for num in df['Percentage of Adult patients with serum phosphorus greater than 7.0 mg/dL']])"
   ]
  },
  {
   "cell_type": "markdown",
   "metadata": {},
   "source": [
    "### SHR Date\n",
    "Data type: object\n",
    "\n",
    "Value count: 7626\n",
    "\n",
    "Number of unique values: 1\n",
    "\n",
    "Percent unique values: 0%\n",
    "\n",
    "Ranges of values: \"01/01/2018 - 12/31/2018\"\n",
    "\n",
    "Length of values: 23\n",
    "\n",
    "Description: Lists the time period for patient hospitalization summary."
   ]
  },
  {
   "cell_type": "code",
   "execution_count": 327,
   "metadata": {},
   "outputs": [
    {
     "data": {
      "text/plain": [
       "0    01/01/2018 - 12/31/2018\n",
       "1    01/01/2018 - 12/31/2018\n",
       "2    01/01/2018 - 12/31/2018\n",
       "3    01/01/2018 - 12/31/2018\n",
       "4    01/01/2018 - 12/31/2018\n",
       "Name: SHR Date, dtype: object"
      ]
     },
     "execution_count": 327,
     "metadata": {},
     "output_type": "execute_result"
    }
   ],
   "source": [
    "df['SHR Date'].head()"
   ]
  },
  {
   "cell_type": "code",
   "execution_count": 328,
   "metadata": {},
   "outputs": [
    {
     "data": {
      "text/plain": [
       "7621    01/01/2018 - 12/31/2018\n",
       "7622    01/01/2018 - 12/31/2018\n",
       "7623    01/01/2018 - 12/31/2018\n",
       "7624    01/01/2018 - 12/31/2018\n",
       "7625    01/01/2018 - 12/31/2018\n",
       "Name: SHR Date, dtype: object"
      ]
     },
     "execution_count": 328,
     "metadata": {},
     "output_type": "execute_result"
    }
   ],
   "source": [
    "df['SHR Date'].tail()"
   ]
  },
  {
   "cell_type": "code",
   "execution_count": 329,
   "metadata": {},
   "outputs": [
    {
     "data": {
      "text/plain": [
       "01/01/2018 - 12/31/2018    7626\n",
       "Name: SHR Date, dtype: int64"
      ]
     },
     "execution_count": 329,
     "metadata": {},
     "output_type": "execute_result"
    }
   ],
   "source": [
    "df['SHR Date'].value_counts()"
   ]
  },
  {
   "cell_type": "code",
   "execution_count": 330,
   "metadata": {},
   "outputs": [
    {
     "data": {
      "text/plain": [
       "{23}"
      ]
     },
     "execution_count": 330,
     "metadata": {},
     "output_type": "execute_result"
    }
   ],
   "source": [
    "set([(len(str(num))) for num in df['SHR Date']])"
   ]
  },
  {
   "cell_type": "markdown",
   "metadata": {},
   "source": [
    "### SRR Date\n",
    "Data type: object\n",
    "\n",
    "Value count: 7626\n",
    "\n",
    "Number of unique values: 1\n",
    "\n",
    "Percent unique values: 0%\n",
    "\n",
    "Ranges of values: \"01/01/2018 - 12/31/2018\"\n",
    "\n",
    "Length of values: 23\n",
    "\n",
    "Description: Lists the time period for patient readmission summary."
   ]
  },
  {
   "cell_type": "code",
   "execution_count": 331,
   "metadata": {},
   "outputs": [
    {
     "data": {
      "text/plain": [
       "0    01/01/2018 - 12/31/2018\n",
       "1    01/01/2018 - 12/31/2018\n",
       "2    01/01/2018 - 12/31/2018\n",
       "3    01/01/2018 - 12/31/2018\n",
       "4    01/01/2018 - 12/31/2018\n",
       "Name: SRR Date, dtype: object"
      ]
     },
     "execution_count": 331,
     "metadata": {},
     "output_type": "execute_result"
    }
   ],
   "source": [
    "df['SRR Date'].head()"
   ]
  },
  {
   "cell_type": "code",
   "execution_count": 332,
   "metadata": {},
   "outputs": [
    {
     "data": {
      "text/plain": [
       "7621    01/01/2018 - 12/31/2018\n",
       "7622    01/01/2018 - 12/31/2018\n",
       "7623    01/01/2018 - 12/31/2018\n",
       "7624    01/01/2018 - 12/31/2018\n",
       "7625    01/01/2018 - 12/31/2018\n",
       "Name: SRR Date, dtype: object"
      ]
     },
     "execution_count": 332,
     "metadata": {},
     "output_type": "execute_result"
    }
   ],
   "source": [
    "df['SRR Date'].tail()"
   ]
  },
  {
   "cell_type": "code",
   "execution_count": 333,
   "metadata": {},
   "outputs": [
    {
     "data": {
      "text/plain": [
       "01/01/2018 - 12/31/2018    7626\n",
       "Name: SRR Date, dtype: int64"
      ]
     },
     "execution_count": 333,
     "metadata": {},
     "output_type": "execute_result"
    }
   ],
   "source": [
    "df['SRR Date'].value_counts()"
   ]
  },
  {
   "cell_type": "code",
   "execution_count": 334,
   "metadata": {},
   "outputs": [
    {
     "data": {
      "text/plain": [
       "{23}"
      ]
     },
     "execution_count": 334,
     "metadata": {},
     "output_type": "execute_result"
    }
   ],
   "source": [
    "set([(len(str(num))) for num in df['SRR Date']])"
   ]
  },
  {
   "cell_type": "markdown",
   "metadata": {},
   "source": [
    "### SMR Date\n",
    "Data type: object\n",
    "\n",
    "Value count: 7626\n",
    "\n",
    "Number of unique values: 1\n",
    "\n",
    "Percent unique values: 0%\n",
    "\n",
    "Ranges of values: \"01/01/2015 - 12/31/2018\"\n",
    "\n",
    "Length of values: 23\n",
    "\n",
    "Description: Lists the data collection period for patient survival summary."
   ]
  },
  {
   "cell_type": "code",
   "execution_count": 335,
   "metadata": {},
   "outputs": [
    {
     "data": {
      "text/plain": [
       "0    01/01/2015 - 12/31/2018\n",
       "1    01/01/2015 - 12/31/2018\n",
       "2    01/01/2015 - 12/31/2018\n",
       "3    01/01/2015 - 12/31/2018\n",
       "4    01/01/2015 - 12/31/2018\n",
       "Name: SMR Date, dtype: object"
      ]
     },
     "execution_count": 335,
     "metadata": {},
     "output_type": "execute_result"
    }
   ],
   "source": [
    "df['SMR Date'].head()"
   ]
  },
  {
   "cell_type": "code",
   "execution_count": 336,
   "metadata": {},
   "outputs": [
    {
     "data": {
      "text/plain": [
       "7621    01/01/2015 - 12/31/2018\n",
       "7622    01/01/2015 - 12/31/2018\n",
       "7623    01/01/2015 - 12/31/2018\n",
       "7624    01/01/2015 - 12/31/2018\n",
       "7625    01/01/2015 - 12/31/2018\n",
       "Name: SMR Date, dtype: object"
      ]
     },
     "execution_count": 336,
     "metadata": {},
     "output_type": "execute_result"
    }
   ],
   "source": [
    "df['SMR Date'].tail()"
   ]
  },
  {
   "cell_type": "code",
   "execution_count": 337,
   "metadata": {},
   "outputs": [
    {
     "data": {
      "text/plain": [
       "01/01/2015 - 12/31/2018    7626\n",
       "Name: SMR Date, dtype: int64"
      ]
     },
     "execution_count": 337,
     "metadata": {},
     "output_type": "execute_result"
    }
   ],
   "source": [
    "df['SMR Date'].value_counts()"
   ]
  },
  {
   "cell_type": "code",
   "execution_count": 338,
   "metadata": {},
   "outputs": [
    {
     "data": {
      "text/plain": [
       "{23}"
      ]
     },
     "execution_count": 338,
     "metadata": {},
     "output_type": "execute_result"
    }
   ],
   "source": [
    "set([(len(str(num))) for num in df['SRR Date']])"
   ]
  },
  {
   "cell_type": "markdown",
   "metadata": {},
   "source": [
    "### Patient Hospitalization category text\n",
    "Data type: object\n",
    "\n",
    "Value count: 7626\n",
    "\n",
    "Number of unique values: 4\n",
    "\n",
    "Percent unique values: 0%\n",
    "\n",
    "Ranges of values: As Expected, Not Available, Worse than Expected, Better than Expected\n",
    "\n",
    "Length of values: 11, 13, 19, 20\n",
    "\n",
    "Description: Patient hospitalization category."
   ]
  },
  {
   "cell_type": "code",
   "execution_count": 339,
   "metadata": {},
   "outputs": [
    {
     "data": {
      "text/plain": [
       "0    As Expected\n",
       "1    As Expected\n",
       "2    As Expected\n",
       "3    As Expected\n",
       "4    As Expected\n",
       "Name: Patient Hospitalization category text, dtype: object"
      ]
     },
     "execution_count": 339,
     "metadata": {},
     "output_type": "execute_result"
    }
   ],
   "source": [
    "df['Patient Hospitalization category text'].head()"
   ]
  },
  {
   "cell_type": "code",
   "execution_count": 340,
   "metadata": {},
   "outputs": [
    {
     "data": {
      "text/plain": [
       "7621    Worse than Expected\n",
       "7622            As Expected\n",
       "7623          Not Available\n",
       "7624            As Expected\n",
       "7625            As Expected\n",
       "Name: Patient Hospitalization category text, dtype: object"
      ]
     },
     "execution_count": 340,
     "metadata": {},
     "output_type": "execute_result"
    }
   ],
   "source": [
    "df['Patient Hospitalization category text'].tail()"
   ]
  },
  {
   "cell_type": "code",
   "execution_count": 341,
   "metadata": {},
   "outputs": [
    {
     "data": {
      "text/plain": [
       "7626"
      ]
     },
     "execution_count": 341,
     "metadata": {},
     "output_type": "execute_result"
    }
   ],
   "source": [
    "df['Patient Hospitalization category text'].count()"
   ]
  },
  {
   "cell_type": "code",
   "execution_count": 342,
   "metadata": {},
   "outputs": [
    {
     "data": {
      "text/plain": [
       "As Expected             6520\n",
       "Not Available            769\n",
       "Worse than Expected      257\n",
       "Better than Expected      80\n",
       "Name: Patient Hospitalization category text, dtype: int64"
      ]
     },
     "execution_count": 342,
     "metadata": {},
     "output_type": "execute_result"
    }
   ],
   "source": [
    "df['Patient Hospitalization category text'].value_counts()"
   ]
  },
  {
   "cell_type": "code",
   "execution_count": 343,
   "metadata": {},
   "outputs": [
    {
     "data": {
      "text/plain": [
       "{11, 13, 19, 20}"
      ]
     },
     "execution_count": 343,
     "metadata": {},
     "output_type": "execute_result"
    }
   ],
   "source": [
    "set([(len(str(num))) for num in df['Patient Hospitalization category text']])"
   ]
  },
  {
   "cell_type": "markdown",
   "metadata": {},
   "source": [
    "### Patient Hospitalization data availability Code\n",
    "Data type: int64\n",
    "\n",
    "Value count: 7626\n",
    "\n",
    "Number of unique values: 5\n",
    "\n",
    "Percent unique values: 0% \n",
    "\n",
    "Ranges of values: 1, 199, 201, 255, 258\n",
    "\n",
    "Length of values: 1, 3\n",
    "\n",
    "Description: Lists whether the facility had sufficient hospitalization data available or the reason for why the data is not available.\n",
    "\n",
    "Value description:\n",
    "- 1   : N/A\n",
    "- 199 : Not enough patients to report on this measure. Call the dialysis center to discuss this measure.\n",
    "- 201 : Data not reported. Call the dialysis center to discuss this quality measure.\n",
    "- 255 : Medicare determined that the percentage reported was not accurate.\n",
    "- 258 : The dialysis center was not open long enough to supply sufficient measure data. "
   ]
  },
  {
   "cell_type": "code",
   "execution_count": 344,
   "metadata": {},
   "outputs": [
    {
     "data": {
      "text/plain": [
       "0    1\n",
       "1    1\n",
       "2    1\n",
       "3    1\n",
       "4    1\n",
       "Name: Patient Hospitalization data availability Code, dtype: int64"
      ]
     },
     "execution_count": 344,
     "metadata": {},
     "output_type": "execute_result"
    }
   ],
   "source": [
    "df['Patient Hospitalization data availability Code'].head()"
   ]
  },
  {
   "cell_type": "code",
   "execution_count": 345,
   "metadata": {},
   "outputs": [
    {
     "data": {
      "text/plain": [
       "7621      1\n",
       "7622      1\n",
       "7623    258\n",
       "7624      1\n",
       "7625      1\n",
       "Name: Patient Hospitalization data availability Code, dtype: int64"
      ]
     },
     "execution_count": 345,
     "metadata": {},
     "output_type": "execute_result"
    }
   ],
   "source": [
    "df['Patient Hospitalization data availability Code'].tail()"
   ]
  },
  {
   "cell_type": "code",
   "execution_count": 346,
   "metadata": {},
   "outputs": [
    {
     "data": {
      "text/plain": [
       "7626"
      ]
     },
     "execution_count": 346,
     "metadata": {},
     "output_type": "execute_result"
    }
   ],
   "source": [
    "df['Patient Hospitalization data availability Code'].count()"
   ]
  },
  {
   "cell_type": "code",
   "execution_count": 347,
   "metadata": {},
   "outputs": [
    {
     "data": {
      "text/plain": [
       "1      6857\n",
       "258     607\n",
       "199     150\n",
       "201       9\n",
       "255       3\n",
       "Name: Patient Hospitalization data availability Code, dtype: int64"
      ]
     },
     "execution_count": 347,
     "metadata": {},
     "output_type": "execute_result"
    }
   ],
   "source": [
    "df['Patient Hospitalization data availability Code'].value_counts()"
   ]
  },
  {
   "cell_type": "markdown",
   "metadata": {},
   "source": [
    "### Patient Hospital Readmission Category\n",
    "Data type: object\n",
    "\n",
    "Value count: 7626\n",
    "\n",
    "Number of unique values: 4\n",
    "\n",
    "Percent unique values: 0%\n",
    "\n",
    "Ranges of values: As Expected, Not Available, Worse than Expected, Better than Expected\n",
    "\n",
    "Length of values: 11, 13, 19, 20\n",
    "\n",
    "Description: Patient readmission category.\n",
    "\n",
    "Value description:\n",
    "- As Expected          : Patient hospital readmission categorized as “As Expected”       \n",
    "- Worse than Expected  :  Patient hospital readmission categorized as “Worse than Expected”\n",
    "- Better than Expected : Patient hospital readmission categorized as “Better than Expected\"\n",
    "- Not Available "
   ]
  },
  {
   "cell_type": "code",
   "execution_count": 348,
   "metadata": {},
   "outputs": [
    {
     "data": {
      "text/plain": [
       "0    As Expected\n",
       "1    As Expected\n",
       "2    As Expected\n",
       "3    As Expected\n",
       "4    As Expected\n",
       "Name: Patient Hospital Readmission Category, dtype: object"
      ]
     },
     "execution_count": 348,
     "metadata": {},
     "output_type": "execute_result"
    }
   ],
   "source": [
    "df['Patient Hospital Readmission Category'].head()"
   ]
  },
  {
   "cell_type": "code",
   "execution_count": 349,
   "metadata": {},
   "outputs": [
    {
     "data": {
      "text/plain": [
       "7621      As Expected\n",
       "7622      As Expected\n",
       "7623    Not Available\n",
       "7624      As Expected\n",
       "7625      As Expected\n",
       "Name: Patient Hospital Readmission Category, dtype: object"
      ]
     },
     "execution_count": 349,
     "metadata": {},
     "output_type": "execute_result"
    }
   ],
   "source": [
    "df['Patient Hospital Readmission Category'].tail()"
   ]
  },
  {
   "cell_type": "code",
   "execution_count": 350,
   "metadata": {},
   "outputs": [
    {
     "data": {
      "text/plain": [
       "7626"
      ]
     },
     "execution_count": 350,
     "metadata": {},
     "output_type": "execute_result"
    }
   ],
   "source": [
    "df['Patient Hospital Readmission Category'].count()"
   ]
  },
  {
   "cell_type": "code",
   "execution_count": 351,
   "metadata": {},
   "outputs": [
    {
     "data": {
      "text/plain": [
       "As Expected             6485\n",
       "Not Available            820\n",
       "Worse than Expected      209\n",
       "Better than Expected     112\n",
       "Name: Patient Hospital Readmission Category, dtype: int64"
      ]
     },
     "execution_count": 351,
     "metadata": {},
     "output_type": "execute_result"
    }
   ],
   "source": [
    "df['Patient Hospital Readmission Category'].value_counts()"
   ]
  },
  {
   "cell_type": "code",
   "execution_count": 352,
   "metadata": {},
   "outputs": [
    {
     "data": {
      "text/plain": [
       "{11, 13, 19, 20}"
      ]
     },
     "execution_count": 352,
     "metadata": {},
     "output_type": "execute_result"
    }
   ],
   "source": [
    "set([(len(str(num))) for num in df['Patient Hospital Readmission Category']])"
   ]
  },
  {
   "cell_type": "markdown",
   "metadata": {},
   "source": [
    "### Patient Hospital Readmission data availability Code\n",
    "Data type: int64\n",
    "\n",
    "Value count: 7626\n",
    "\n",
    "Number of unique values: 4\n",
    "\n",
    "Percent unique values: 0%\n",
    "\n",
    "Ranges of values: 1, 199, 255, 258\n",
    "\n",
    "Length of values: 1, 3\n",
    "\n",
    "Description: Lists whether the facility had sufficient readmission data available or the reason for why the data is not available.\n",
    "\n",
    "Value description:\n",
    "- 1   : N/A\n",
    "- 199 : Not enough patients to report on this measure. Call the dialysis center to discuss this measure.\n",
    "- 255 : Medicare determined that the percentage reported was not accurate.\n",
    "- 258 : The dialysis center was not open long enough to supply sufficient measure data. "
   ]
  },
  {
   "cell_type": "code",
   "execution_count": 353,
   "metadata": {},
   "outputs": [
    {
     "data": {
      "text/plain": [
       "0    1\n",
       "1    1\n",
       "2    1\n",
       "3    1\n",
       "4    1\n",
       "Name: Patient Hospital Readmission data availability Code, dtype: int64"
      ]
     },
     "execution_count": 353,
     "metadata": {},
     "output_type": "execute_result"
    }
   ],
   "source": [
    "df['Patient Hospital Readmission data availability Code'].head()"
   ]
  },
  {
   "cell_type": "code",
   "execution_count": 354,
   "metadata": {},
   "outputs": [
    {
     "data": {
      "text/plain": [
       "7621      1\n",
       "7622      1\n",
       "7623    258\n",
       "7624      1\n",
       "7625      1\n",
       "Name: Patient Hospital Readmission data availability Code, dtype: int64"
      ]
     },
     "execution_count": 354,
     "metadata": {},
     "output_type": "execute_result"
    }
   ],
   "source": [
    "df['Patient Hospital Readmission data availability Code'].tail()"
   ]
  },
  {
   "cell_type": "code",
   "execution_count": 355,
   "metadata": {},
   "outputs": [
    {
     "data": {
      "text/plain": [
       "7626"
      ]
     },
     "execution_count": 355,
     "metadata": {},
     "output_type": "execute_result"
    }
   ],
   "source": [
    "df['Patient Hospital Readmission data availability Code'].count()"
   ]
  },
  {
   "cell_type": "code",
   "execution_count": 356,
   "metadata": {},
   "outputs": [
    {
     "data": {
      "text/plain": [
       "1      6806\n",
       "258     568\n",
       "199     250\n",
       "255       2\n",
       "Name: Patient Hospital Readmission data availability Code, dtype: int64"
      ]
     },
     "execution_count": 356,
     "metadata": {},
     "output_type": "execute_result"
    }
   ],
   "source": [
    "df['Patient Hospital Readmission data availability Code'].value_counts()"
   ]
  },
  {
   "cell_type": "markdown",
   "metadata": {},
   "source": [
    "### Patient Survival Category Text\n",
    "Data type: int64\n",
    "\n",
    "Value count: 7626\n",
    "\n",
    "Number of unique values: 4\n",
    "\n",
    "Percent unique values: 0%\n",
    "\n",
    "Ranges of values: As Expected, Worse than Expected, Better than Expected, Not Available\n",
    "\n",
    "Length of values: 11, 13, 19, 20\n",
    "\n",
    "Description: Patient survival category (Better, Worse or As Expected).\n",
    "\n",
    "Value description:\n",
    "- As Expected          : Patient transfusions categorized as “As Expected”       \n",
    "- Worse than Expected  :  Patient transfusions categorized as “Worse than Expected”\n",
    "- Better than Expected : Patient transfusions categorized as “Better than Expected\"\n",
    "- Not Available "
   ]
  },
  {
   "cell_type": "code",
   "execution_count": 357,
   "metadata": {},
   "outputs": [
    {
     "data": {
      "text/plain": [
       "0    As Expected\n",
       "1    As Expected\n",
       "2    As Expected\n",
       "3    As Expected\n",
       "4    As Expected\n",
       "Name: Patient Survival Category Text, dtype: object"
      ]
     },
     "execution_count": 357,
     "metadata": {},
     "output_type": "execute_result"
    }
   ],
   "source": [
    "df['Patient Survival Category Text'].head()"
   ]
  },
  {
   "cell_type": "code",
   "execution_count": 358,
   "metadata": {},
   "outputs": [
    {
     "data": {
      "text/plain": [
       "7621      As Expected\n",
       "7622      As Expected\n",
       "7623    Not Available\n",
       "7624      As Expected\n",
       "7625      As Expected\n",
       "Name: Patient Survival Category Text, dtype: object"
      ]
     },
     "execution_count": 358,
     "metadata": {},
     "output_type": "execute_result"
    }
   ],
   "source": [
    "df['Patient Survival Category Text'].tail()"
   ]
  },
  {
   "cell_type": "code",
   "execution_count": 359,
   "metadata": {},
   "outputs": [
    {
     "data": {
      "text/plain": [
       "7626"
      ]
     },
     "execution_count": 359,
     "metadata": {},
     "output_type": "execute_result"
    }
   ],
   "source": [
    "df['Patient Survival Category Text'].count()"
   ]
  },
  {
   "cell_type": "code",
   "execution_count": 360,
   "metadata": {},
   "outputs": [
    {
     "data": {
      "text/plain": [
       "As Expected             5673\n",
       "Not Available            925\n",
       "Better than Expected     525\n",
       "Worse than Expected      503\n",
       "Name: Patient Survival Category Text, dtype: int64"
      ]
     },
     "execution_count": 360,
     "metadata": {},
     "output_type": "execute_result"
    }
   ],
   "source": [
    "df['Patient Survival Category Text'].value_counts()"
   ]
  },
  {
   "cell_type": "code",
   "execution_count": 361,
   "metadata": {},
   "outputs": [
    {
     "data": {
      "text/plain": [
       "{11, 13, 19, 20}"
      ]
     },
     "execution_count": 361,
     "metadata": {},
     "output_type": "execute_result"
    }
   ],
   "source": [
    "set([(len(str(num))) for num in df['Patient Hospital Readmission Category']])"
   ]
  },
  {
   "cell_type": "markdown",
   "metadata": {},
   "source": [
    "### Patient Survival data availability code\n",
    "Data type: int64\n",
    "\n",
    "Value count: 7626\n",
    "\n",
    "Number of unique values: 5\n",
    "\n",
    "Percent unique values: 0%\n",
    "\n",
    "Ranges of values: 1, 199, 201, 255, 258\n",
    "\n",
    "Length of values: 1, 3 \n",
    "\n",
    "Description: Lists whether the facility had sufficient patient survival data available or the reason for why the data is not available.\n",
    "\n",
    "Value description:\n",
    "- 1   : N/A\n",
    "- 199 : Not enough patients to report on this measure. Call the dialysis center to discuss this measure.\n",
    "- 201 : Data not reported. Call the dialysis center to discuss this quality measure.\n",
    "- 255 : Medicare determined that the percentage reported was not accurate.\n",
    "- 258 : The dialysis center was not open long enough to supply sufficient measure data. "
   ]
  },
  {
   "cell_type": "code",
   "execution_count": 362,
   "metadata": {},
   "outputs": [
    {
     "data": {
      "text/plain": [
       "0    1\n",
       "1    1\n",
       "2    1\n",
       "3    1\n",
       "4    1\n",
       "Name: Patient Survival data availability code, dtype: int64"
      ]
     },
     "execution_count": 362,
     "metadata": {},
     "output_type": "execute_result"
    }
   ],
   "source": [
    "df['Patient Survival data availability code'].head()"
   ]
  },
  {
   "cell_type": "code",
   "execution_count": 363,
   "metadata": {},
   "outputs": [
    {
     "data": {
      "text/plain": [
       "7621      1\n",
       "7622      1\n",
       "7623    258\n",
       "7624      1\n",
       "7625      1\n",
       "Name: Patient Survival data availability code, dtype: int64"
      ]
     },
     "execution_count": 363,
     "metadata": {},
     "output_type": "execute_result"
    }
   ],
   "source": [
    "df['Patient Survival data availability code'].tail()"
   ]
  },
  {
   "cell_type": "code",
   "execution_count": 364,
   "metadata": {},
   "outputs": [
    {
     "data": {
      "text/plain": [
       "7626"
      ]
     },
     "execution_count": 364,
     "metadata": {},
     "output_type": "execute_result"
    }
   ],
   "source": [
    "df['Patient Survival data availability code'].count()"
   ]
  },
  {
   "cell_type": "code",
   "execution_count": 365,
   "metadata": {},
   "outputs": [
    {
     "data": {
      "text/plain": [
       "1      6701\n",
       "258     672\n",
       "199     244\n",
       "201       6\n",
       "255       3\n",
       "Name: Patient Survival data availability code, dtype: int64"
      ]
     },
     "execution_count": 365,
     "metadata": {},
     "output_type": "execute_result"
    }
   ],
   "source": [
    "df['Patient Survival data availability code'].value_counts()"
   ]
  },
  {
   "cell_type": "markdown",
   "metadata": {},
   "source": [
    "### Number of patients included in hospitalization summary\n",
    "Data type: object\n",
    "\n",
    "Value count: 7626\n",
    "\n",
    "Number of unique values: 250\n",
    "\n",
    "Percent unique values: 0.485%\n",
    "\n",
    "Ranges of values: 0 - \n",
    "\n",
    "Length of values: 1 - 3, 13\n",
    "\n",
    "Description: Lists the number of patients included in the facility’s hospitalization summary."
   ]
  },
  {
   "cell_type": "code",
   "execution_count": 366,
   "metadata": {},
   "outputs": [
    {
     "data": {
      "text/plain": [
       "0     74\n",
       "1    166\n",
       "2     31\n",
       "3     31\n",
       "4     38\n",
       "Name: Number of patients included in hospitalization summary, dtype: object"
      ]
     },
     "execution_count": 366,
     "metadata": {},
     "output_type": "execute_result"
    }
   ],
   "source": [
    "df['Number of patients included in hospitalization summary'].head()"
   ]
  },
  {
   "cell_type": "code",
   "execution_count": 367,
   "metadata": {},
   "outputs": [
    {
     "data": {
      "text/plain": [
       "7621               64\n",
       "7622               62\n",
       "7623    Not Available\n",
       "7624               55\n",
       "7625              101\n",
       "Name: Number of patients included in hospitalization summary, dtype: object"
      ]
     },
     "execution_count": 367,
     "metadata": {},
     "output_type": "execute_result"
    }
   ],
   "source": [
    "df['Number of patients included in hospitalization summary'].tail()"
   ]
  },
  {
   "cell_type": "code",
   "execution_count": 368,
   "metadata": {},
   "outputs": [
    {
     "data": {
      "text/plain": [
       "count     7626\n",
       "unique     250\n",
       "top          0\n",
       "freq       292\n",
       "Name: Number of patients included in hospitalization summary, dtype: object"
      ]
     },
     "execution_count": 368,
     "metadata": {},
     "output_type": "execute_result"
    }
   ],
   "source": [
    "df['Number of patients included in hospitalization summary'].describe()"
   ]
  },
  {
   "cell_type": "code",
   "execution_count": 369,
   "metadata": {},
   "outputs": [
    {
     "data": {
      "text/plain": [
       "False    213\n",
       "True      37\n",
       "dtype: int64"
      ]
     },
     "execution_count": 369,
     "metadata": {},
     "output_type": "execute_result"
    }
   ],
   "source": [
    "# Percent unique values\n",
    "# True if facility has a value count of 1 (aka unique)\n",
    "pd.Series([facility == 1 for facility in df['Number of patients included in hospitalization summary'].value_counts()]).value_counts()"
   ]
  },
  {
   "cell_type": "code",
   "execution_count": 370,
   "metadata": {},
   "outputs": [
    {
     "data": {
      "text/plain": [
       "'0'"
      ]
     },
     "execution_count": 370,
     "metadata": {},
     "output_type": "execute_result"
    }
   ],
   "source": [
    "df['Number of patients included in hospitalization summary'].min()"
   ]
  },
  {
   "cell_type": "code",
   "execution_count": 371,
   "metadata": {},
   "outputs": [
    {
     "data": {
      "text/plain": [
       "'Not Available'"
      ]
     },
     "execution_count": 371,
     "metadata": {},
     "output_type": "execute_result"
    }
   ],
   "source": [
    "df['Number of patients included in hospitalization summary'].max()"
   ]
  },
  {
   "cell_type": "code",
   "execution_count": 372,
   "metadata": {},
   "outputs": [
    {
     "data": {
      "text/plain": [
       "{1, 2, 3, 13}"
      ]
     },
     "execution_count": 372,
     "metadata": {},
     "output_type": "execute_result"
    }
   ],
   "source": [
    "set([(len(str(num))) for num in df['Number of patients included in hospitalization summary']])"
   ]
  },
  {
   "cell_type": "markdown",
   "metadata": {},
   "source": [
    "### Number of hospitalizations included in hospital readmission summary\n",
    "Data type: object\n",
    "\n",
    "Value count: 7626\n",
    "\n",
    "Number of unique values: 296\n",
    "\n",
    "Percent unique values: 0.564%\n",
    "\n",
    "Ranges of values: 0 - \n",
    "\n",
    "Length of values: 1 - 3, 13\n",
    "\n",
    "Description: Lists the number of index discharges included in the facility’s readmission summary."
   ]
  },
  {
   "cell_type": "code",
   "execution_count": 373,
   "metadata": {},
   "outputs": [
    {
     "data": {
      "text/plain": [
       "0    100\n",
       "1    165\n",
       "2     37\n",
       "3     42\n",
       "4     40\n",
       "Name: Number of hospitalizations included in hospital readmission summary, dtype: object"
      ]
     },
     "execution_count": 373,
     "metadata": {},
     "output_type": "execute_result"
    }
   ],
   "source": [
    "df['Number of hospitalizations included in hospital readmission summary'].head()"
   ]
  },
  {
   "cell_type": "code",
   "execution_count": 374,
   "metadata": {},
   "outputs": [
    {
     "data": {
      "text/plain": [
       "7621              121\n",
       "7622              110\n",
       "7623    Not Available\n",
       "7624               59\n",
       "7625              123\n",
       "Name: Number of hospitalizations included in hospital readmission summary, dtype: object"
      ]
     },
     "execution_count": 374,
     "metadata": {},
     "output_type": "execute_result"
    }
   ],
   "source": [
    "df['Number of hospitalizations included in hospital readmission summary'].tail()"
   ]
  },
  {
   "cell_type": "code",
   "execution_count": 375,
   "metadata": {},
   "outputs": [
    {
     "data": {
      "text/plain": [
       "count     7626\n",
       "unique     296\n",
       "top          0\n",
       "freq       316\n",
       "Name: Number of hospitalizations included in hospital readmission summary, dtype: object"
      ]
     },
     "execution_count": 375,
     "metadata": {},
     "output_type": "execute_result"
    }
   ],
   "source": [
    "df['Number of hospitalizations included in hospital readmission summary'].describe()"
   ]
  },
  {
   "cell_type": "code",
   "execution_count": 376,
   "metadata": {},
   "outputs": [
    {
     "data": {
      "text/plain": [
       "False    253\n",
       "True      43\n",
       "dtype: int64"
      ]
     },
     "execution_count": 376,
     "metadata": {},
     "output_type": "execute_result"
    }
   ],
   "source": [
    "# Percent unique values\n",
    "# True if facility has a value count of 1 (aka unique)\n",
    "pd.Series([facility == 1 for facility in df['Number of hospitalizations included in hospital readmission summary'].value_counts()]).value_counts()"
   ]
  },
  {
   "cell_type": "code",
   "execution_count": 377,
   "metadata": {},
   "outputs": [
    {
     "data": {
      "text/plain": [
       "'0'"
      ]
     },
     "execution_count": 377,
     "metadata": {},
     "output_type": "execute_result"
    }
   ],
   "source": [
    "df['Number of hospitalizations included in hospital readmission summary'].min()"
   ]
  },
  {
   "cell_type": "code",
   "execution_count": 378,
   "metadata": {},
   "outputs": [
    {
     "data": {
      "text/plain": [
       "'Not Available'"
      ]
     },
     "execution_count": 378,
     "metadata": {},
     "output_type": "execute_result"
    }
   ],
   "source": [
    "df['Number of hospitalizations included in hospital readmission summary'].max()"
   ]
  },
  {
   "cell_type": "code",
   "execution_count": 379,
   "metadata": {},
   "outputs": [
    {
     "data": {
      "text/plain": [
       "{1, 2, 3, 13}"
      ]
     },
     "execution_count": 379,
     "metadata": {},
     "output_type": "execute_result"
    }
   ],
   "source": [
    "set([(len(str(num))) for num in df['Number of hospitalizations included in hospital readmission summary']])"
   ]
  },
  {
   "cell_type": "markdown",
   "metadata": {},
   "source": [
    "### Number of patients included in survival summary\n",
    "Data type: object\n",
    "\n",
    "Value count: 7626\n",
    "\n",
    "Number of unique values: 808\n",
    "\n",
    "Percent unique values: 1.95%\n",
    "\n",
    "Ranges of values: 0 - \n",
    "\n",
    "Length of values: 1 - 4, 13\n",
    "\n",
    "Description: Lists the number of patients included in the facility’s survival summary."
   ]
  },
  {
   "cell_type": "code",
   "execution_count": 380,
   "metadata": {},
   "outputs": [
    {
     "data": {
      "text/plain": [
       "0    190\n",
       "1    797\n",
       "2     76\n",
       "3     86\n",
       "4     39\n",
       "Name: Number of patients included in survival summary, dtype: object"
      ]
     },
     "execution_count": 380,
     "metadata": {},
     "output_type": "execute_result"
    }
   ],
   "source": [
    "df['Number of patients included in survival summary'].head()"
   ]
  },
  {
   "cell_type": "code",
   "execution_count": 381,
   "metadata": {},
   "outputs": [
    {
     "data": {
      "text/plain": [
       "7621              243\n",
       "7622              223\n",
       "7623    Not Available\n",
       "7624              222\n",
       "7625              448\n",
       "Name: Number of patients included in survival summary, dtype: object"
      ]
     },
     "execution_count": 381,
     "metadata": {},
     "output_type": "execute_result"
    }
   ],
   "source": [
    "df['Number of patients included in survival summary'].tail()"
   ]
  },
  {
   "cell_type": "code",
   "execution_count": 382,
   "metadata": {},
   "outputs": [
    {
     "data": {
      "text/plain": [
       "count     7626\n",
       "unique     808\n",
       "top          0\n",
       "freq       289\n",
       "Name: Number of patients included in survival summary, dtype: object"
      ]
     },
     "execution_count": 382,
     "metadata": {},
     "output_type": "execute_result"
    }
   ],
   "source": [
    "df['Number of patients included in survival summary'].describe()"
   ]
  },
  {
   "cell_type": "code",
   "execution_count": 383,
   "metadata": {},
   "outputs": [
    {
     "data": {
      "text/plain": [
       "False    659\n",
       "True     149\n",
       "dtype: int64"
      ]
     },
     "execution_count": 383,
     "metadata": {},
     "output_type": "execute_result"
    }
   ],
   "source": [
    "# Percent unique values\n",
    "# True if facility has a value count of 1 (aka unique)\n",
    "pd.Series([facility == 1 for facility in df['Number of patients included in survival summary'].value_counts()]).value_counts()"
   ]
  },
  {
   "cell_type": "code",
   "execution_count": 384,
   "metadata": {},
   "outputs": [
    {
     "data": {
      "text/plain": [
       "'0'"
      ]
     },
     "execution_count": 384,
     "metadata": {},
     "output_type": "execute_result"
    }
   ],
   "source": [
    "df['Number of patients included in survival summary'].min()"
   ]
  },
  {
   "cell_type": "code",
   "execution_count": 385,
   "metadata": {},
   "outputs": [
    {
     "data": {
      "text/plain": [
       "'Not Available'"
      ]
     },
     "execution_count": 385,
     "metadata": {},
     "output_type": "execute_result"
    }
   ],
   "source": [
    "df['Number of patients included in survival summary'].max()"
   ]
  },
  {
   "cell_type": "code",
   "execution_count": 386,
   "metadata": {},
   "outputs": [
    {
     "data": {
      "text/plain": [
       "{1, 2, 3, 4, 13}"
      ]
     },
     "execution_count": 386,
     "metadata": {},
     "output_type": "execute_result"
    }
   ],
   "source": [
    "set([(len(str(num))) for num in df['Number of patients included in survival summary']])"
   ]
  },
  {
   "cell_type": "markdown",
   "metadata": {},
   "source": [
    "### Mortality Rate (Facility)\n",
    "Data type: object\n",
    "\n",
    "Value count: 7626\n",
    "\n",
    "Number of unique values: 391\n",
    "\n",
    "Percent unique values: 1.01%\n",
    "\n",
    "Ranges of values: 0 - \n",
    "\n",
    "Length of values: 1 - 4, 13\n",
    "\n",
    "Description: Lists the facility’s mortality rate per 100 patient-years."
   ]
  },
  {
   "cell_type": "code",
   "execution_count": 387,
   "metadata": {},
   "outputs": [
    {
     "data": {
      "text/plain": [
       "0    34.4\n",
       "1    25.3\n",
       "2    15.1\n",
       "3    16.3\n",
       "4     4.8\n",
       "Name: Mortality Rate (Facility), dtype: object"
      ]
     },
     "execution_count": 387,
     "metadata": {},
     "output_type": "execute_result"
    }
   ],
   "source": [
    "df['Mortality Rate (Facility)'].head()"
   ]
  },
  {
   "cell_type": "code",
   "execution_count": 388,
   "metadata": {},
   "outputs": [
    {
     "data": {
      "text/plain": [
       "7621             29.4\n",
       "7622             16.1\n",
       "7623    Not Available\n",
       "7624             18.4\n",
       "7625             23.5\n",
       "Name: Mortality Rate (Facility), dtype: object"
      ]
     },
     "execution_count": 388,
     "metadata": {},
     "output_type": "execute_result"
    }
   ],
   "source": [
    "df['Mortality Rate (Facility)'].tail()"
   ]
  },
  {
   "cell_type": "code",
   "execution_count": 389,
   "metadata": {},
   "outputs": [
    {
     "data": {
      "text/plain": [
       "count              7626\n",
       "unique              391\n",
       "top       Not Available\n",
       "freq                925\n",
       "Name: Mortality Rate (Facility), dtype: object"
      ]
     },
     "execution_count": 389,
     "metadata": {},
     "output_type": "execute_result"
    }
   ],
   "source": [
    "df['Mortality Rate (Facility)'].describe()"
   ]
  },
  {
   "cell_type": "code",
   "execution_count": 390,
   "metadata": {},
   "outputs": [
    {
     "data": {
      "text/plain": [
       "False    314\n",
       "True      77\n",
       "dtype: int64"
      ]
     },
     "execution_count": 390,
     "metadata": {},
     "output_type": "execute_result"
    }
   ],
   "source": [
    "# Percent unique values\n",
    "# True if facility has a value count of 1 (aka unique)\n",
    "pd.Series([facility == 1 for facility in df['Mortality Rate (Facility)'].value_counts()]).value_counts()"
   ]
  },
  {
   "cell_type": "code",
   "execution_count": 391,
   "metadata": {},
   "outputs": [
    {
     "data": {
      "text/plain": [
       "'0'"
      ]
     },
     "execution_count": 391,
     "metadata": {},
     "output_type": "execute_result"
    }
   ],
   "source": [
    "df['Mortality Rate (Facility)'].min()"
   ]
  },
  {
   "cell_type": "code",
   "execution_count": 392,
   "metadata": {},
   "outputs": [
    {
     "data": {
      "text/plain": [
       "'Not Available'"
      ]
     },
     "execution_count": 392,
     "metadata": {},
     "output_type": "execute_result"
    }
   ],
   "source": [
    "df['Mortality Rate (Facility)'].max()"
   ]
  },
  {
   "cell_type": "code",
   "execution_count": 393,
   "metadata": {},
   "outputs": [
    {
     "data": {
      "text/plain": [
       "{1, 2, 3, 4, 13}"
      ]
     },
     "execution_count": 393,
     "metadata": {},
     "output_type": "execute_result"
    }
   ],
   "source": [
    "set([(len(str(num))) for num in df['Mortality Rate (Facility)']])"
   ]
  },
  {
   "cell_type": "markdown",
   "metadata": {},
   "source": [
    "### Mortality Rate: Upper Confidence Limit (97.5%)\n",
    "Data type: object\n",
    "\n",
    "Value count: 7626\n",
    "\n",
    "Number of unique values: 546\n",
    "\n",
    "Percent unique values: 1.51%\n",
    "\n",
    "Ranges of values: 10.3 -\n",
    "\n",
    "Length of values: 2 - 5, 13\n",
    "\n",
    "Description: Lists the upper confident limit (97.5%) for mortality rate per 100 patient-years."
   ]
  },
  {
   "cell_type": "code",
   "execution_count": 394,
   "metadata": {},
   "outputs": [
    {
     "data": {
      "text/plain": [
       "0    51.3\n",
       "1    30.7\n",
       "2    26.3\n",
       "3    27.9\n",
       "4    26.6\n",
       "Name: Mortality Rate: Upper Confidence Limit (97.5%), dtype: object"
      ]
     },
     "execution_count": 394,
     "metadata": {},
     "output_type": "execute_result"
    }
   ],
   "source": [
    "df['Mortality Rate: Upper Confidence Limit (97.5%)'].head()"
   ]
  },
  {
   "cell_type": "code",
   "execution_count": 395,
   "metadata": {},
   "outputs": [
    {
     "data": {
      "text/plain": [
       "7621             38.5\n",
       "7622             24.9\n",
       "7623    Not Available\n",
       "7624               27\n",
       "7625             29.6\n",
       "Name: Mortality Rate: Upper Confidence Limit (97.5%), dtype: object"
      ]
     },
     "execution_count": 395,
     "metadata": {},
     "output_type": "execute_result"
    }
   ],
   "source": [
    "df['Mortality Rate: Upper Confidence Limit (97.5%)'].tail()"
   ]
  },
  {
   "cell_type": "code",
   "execution_count": 396,
   "metadata": {},
   "outputs": [
    {
     "data": {
      "text/plain": [
       "count              7626\n",
       "unique              546\n",
       "top       Not Available\n",
       "freq                925\n",
       "Name: Mortality Rate: Upper Confidence Limit (97.5%), dtype: object"
      ]
     },
     "execution_count": 396,
     "metadata": {},
     "output_type": "execute_result"
    }
   ],
   "source": [
    "df['Mortality Rate: Upper Confidence Limit (97.5%)'].describe()"
   ]
  },
  {
   "cell_type": "code",
   "execution_count": 397,
   "metadata": {},
   "outputs": [
    {
     "data": {
      "text/plain": [
       "False    431\n",
       "True     115\n",
       "dtype: int64"
      ]
     },
     "execution_count": 397,
     "metadata": {},
     "output_type": "execute_result"
    }
   ],
   "source": [
    "# Percent unique values\n",
    "# True if facility has a value count of 1 (aka unique)\n",
    "pd.Series([facility == 1 for facility in df['Mortality Rate: Upper Confidence Limit (97.5%)'].value_counts()]).value_counts()"
   ]
  },
  {
   "cell_type": "code",
   "execution_count": 398,
   "metadata": {},
   "outputs": [
    {
     "data": {
      "text/plain": [
       "'10.3'"
      ]
     },
     "execution_count": 398,
     "metadata": {},
     "output_type": "execute_result"
    }
   ],
   "source": [
    "df['Mortality Rate: Upper Confidence Limit (97.5%)'].min()"
   ]
  },
  {
   "cell_type": "code",
   "execution_count": 399,
   "metadata": {},
   "outputs": [
    {
     "data": {
      "text/plain": [
       "'Not Available'"
      ]
     },
     "execution_count": 399,
     "metadata": {},
     "output_type": "execute_result"
    }
   ],
   "source": [
    "df['Mortality Rate: Upper Confidence Limit (97.5%)'].max()"
   ]
  },
  {
   "cell_type": "code",
   "execution_count": 400,
   "metadata": {},
   "outputs": [
    {
     "data": {
      "text/plain": [
       "{2, 3, 4, 5, 13}"
      ]
     },
     "execution_count": 400,
     "metadata": {},
     "output_type": "execute_result"
    }
   ],
   "source": [
    "set([(len(str(num))) for num in df['Mortality Rate: Upper Confidence Limit (97.5%)']])"
   ]
  },
  {
   "cell_type": "markdown",
   "metadata": {},
   "source": [
    "### Mortality Rate: Lower Confidence Limit (2.5%)\n",
    "Data type: object\n",
    "\n",
    "Value count: 7626\n",
    "\n",
    "Number of unique values: 324\n",
    "\n",
    "Percent unique values: 0.564%\n",
    "\n",
    "Ranges of values: 0.1 - \n",
    "\n",
    "Length of values: 1 - 4, 13\n",
    "\n",
    "Description: Lists the lower confident limit (2.5%) for mortality rate per 100 patient-years."
   ]
  },
  {
   "cell_type": "code",
   "execution_count": 401,
   "metadata": {},
   "outputs": [
    {
     "data": {
      "text/plain": [
       "0    22.1\n",
       "1    20.6\n",
       "2     7.8\n",
       "3     8.7\n",
       "4      .1\n",
       "Name: Mortality Rate: Lower Confidence Limit (2.5%), dtype: object"
      ]
     },
     "execution_count": 401,
     "metadata": {},
     "output_type": "execute_result"
    }
   ],
   "source": [
    "df['Mortality Rate: Lower Confidence Limit (2.5%)'].head()"
   ]
  },
  {
   "cell_type": "code",
   "execution_count": 402,
   "metadata": {},
   "outputs": [
    {
     "data": {
      "text/plain": [
       "7621             21.9\n",
       "7622              9.9\n",
       "7623    Not Available\n",
       "7624               12\n",
       "7625             18.4\n",
       "Name: Mortality Rate: Lower Confidence Limit (2.5%), dtype: object"
      ]
     },
     "execution_count": 402,
     "metadata": {},
     "output_type": "execute_result"
    }
   ],
   "source": [
    "df['Mortality Rate: Lower Confidence Limit (2.5%)'].tail()"
   ]
  },
  {
   "cell_type": "code",
   "execution_count": 403,
   "metadata": {},
   "outputs": [
    {
     "data": {
      "text/plain": [
       "count              7626\n",
       "unique              324\n",
       "top       Not Available\n",
       "freq                925\n",
       "Name: Mortality Rate: Lower Confidence Limit (2.5%), dtype: object"
      ]
     },
     "execution_count": 403,
     "metadata": {},
     "output_type": "execute_result"
    }
   ],
   "source": [
    "df['Mortality Rate: Lower Confidence Limit (2.5%)'].describe()"
   ]
  },
  {
   "cell_type": "code",
   "execution_count": 404,
   "metadata": {},
   "outputs": [
    {
     "data": {
      "text/plain": [
       "False    281\n",
       "True      43\n",
       "dtype: int64"
      ]
     },
     "execution_count": 404,
     "metadata": {},
     "output_type": "execute_result"
    }
   ],
   "source": [
    "# Percent unique values\n",
    "# True if facility has a value count of 1 (aka unique)\n",
    "pd.Series([facility == 1 for facility in df['Mortality Rate: Lower Confidence Limit (2.5%)'].value_counts()]).value_counts()"
   ]
  },
  {
   "cell_type": "code",
   "execution_count": 405,
   "metadata": {},
   "outputs": [
    {
     "data": {
      "text/plain": [
       "'.1'"
      ]
     },
     "execution_count": 405,
     "metadata": {},
     "output_type": "execute_result"
    }
   ],
   "source": [
    "df['Mortality Rate: Lower Confidence Limit (2.5%)'].min()"
   ]
  },
  {
   "cell_type": "code",
   "execution_count": 406,
   "metadata": {},
   "outputs": [
    {
     "data": {
      "text/plain": [
       "'Not Available'"
      ]
     },
     "execution_count": 406,
     "metadata": {},
     "output_type": "execute_result"
    }
   ],
   "source": [
    "df['Mortality Rate: Lower Confidence Limit (2.5%)'].max()"
   ]
  },
  {
   "cell_type": "code",
   "execution_count": 407,
   "metadata": {},
   "outputs": [
    {
     "data": {
      "text/plain": [
       "{1, 2, 3, 4, 13}"
      ]
     },
     "execution_count": 407,
     "metadata": {},
     "output_type": "execute_result"
    }
   ],
   "source": [
    "set([(len(str(num))) for num in df['Mortality Rate: Lower Confidence Limit (2.5%)']])"
   ]
  },
  {
   "cell_type": "markdown",
   "metadata": {},
   "source": [
    "### Readmission Rate (Facility)\n",
    "Data type: object\n",
    "\n",
    "Value count: 7626\n",
    "\n",
    "Number of unique values: 464\n",
    "\n",
    "Percent unique values: 0.944%\n",
    "\n",
    "Ranges of values: 0 - \n",
    "\n",
    "Length of values: 1 - 4, 13\n",
    "\n",
    "Description: Lists the facility’s readmission rate as a percentage of hospital discharges."
   ]
  },
  {
   "cell_type": "code",
   "execution_count": 408,
   "metadata": {},
   "outputs": [
    {
     "data": {
      "text/plain": [
       "0    30.6\n",
       "1    30.5\n",
       "2    19.8\n",
       "3    32.3\n",
       "4    27.6\n",
       "Name: Readmission Rate (Facility), dtype: object"
      ]
     },
     "execution_count": 408,
     "metadata": {},
     "output_type": "execute_result"
    }
   ],
   "source": [
    "df['Readmission Rate (Facility)'].head()"
   ]
  },
  {
   "cell_type": "code",
   "execution_count": 409,
   "metadata": {},
   "outputs": [
    {
     "data": {
      "text/plain": [
       "7621             28.2\n",
       "7622               34\n",
       "7623    Not Available\n",
       "7624             28.3\n",
       "7625             19.7\n",
       "Name: Readmission Rate (Facility), dtype: object"
      ]
     },
     "execution_count": 409,
     "metadata": {},
     "output_type": "execute_result"
    }
   ],
   "source": [
    "df['Readmission Rate (Facility)'].tail()"
   ]
  },
  {
   "cell_type": "code",
   "execution_count": 410,
   "metadata": {},
   "outputs": [
    {
     "data": {
      "text/plain": [
       "count              7626\n",
       "unique              464\n",
       "top       Not Available\n",
       "freq                820\n",
       "Name: Readmission Rate (Facility), dtype: object"
      ]
     },
     "execution_count": 410,
     "metadata": {},
     "output_type": "execute_result"
    }
   ],
   "source": [
    "df['Readmission Rate (Facility)'].describe()"
   ]
  },
  {
   "cell_type": "code",
   "execution_count": 411,
   "metadata": {},
   "outputs": [
    {
     "data": {
      "text/plain": [
       "False    392\n",
       "True      72\n",
       "dtype: int64"
      ]
     },
     "execution_count": 411,
     "metadata": {},
     "output_type": "execute_result"
    }
   ],
   "source": [
    "# Percent unique values\n",
    "# True if facility has a value count of 1 (aka unique)\n",
    "pd.Series([facility == 1 for facility in df['Readmission Rate (Facility)'].value_counts()]).value_counts()"
   ]
  },
  {
   "cell_type": "code",
   "execution_count": 412,
   "metadata": {},
   "outputs": [
    {
     "data": {
      "text/plain": [
       "'0'"
      ]
     },
     "execution_count": 412,
     "metadata": {},
     "output_type": "execute_result"
    }
   ],
   "source": [
    "df['Readmission Rate (Facility)'].min()"
   ]
  },
  {
   "cell_type": "code",
   "execution_count": 413,
   "metadata": {},
   "outputs": [
    {
     "data": {
      "text/plain": [
       "'Not Available'"
      ]
     },
     "execution_count": 413,
     "metadata": {},
     "output_type": "execute_result"
    }
   ],
   "source": [
    "df['Readmission Rate (Facility)'].max()"
   ]
  },
  {
   "cell_type": "code",
   "execution_count": 414,
   "metadata": {},
   "outputs": [
    {
     "data": {
      "text/plain": [
       "{1, 2, 3, 4, 13}"
      ]
     },
     "execution_count": 414,
     "metadata": {},
     "output_type": "execute_result"
    }
   ],
   "source": [
    "set([(len(str(num))) for num in df['Readmission Rate (Facility)']])"
   ]
  },
  {
   "cell_type": "markdown",
   "metadata": {},
   "source": [
    "### Readmission Rate: Upper Confidence Limit (97.5%)\n",
    "Data type: object\n",
    "\n",
    "Value count: 7626\n",
    "\n",
    "Number of unique values: 544\n",
    "\n",
    "Percent unique values: 1.19%\n",
    "\n",
    "Ranges of values: 104.2\n",
    "\n",
    "Length of values: 2 - 5, 13\n",
    "\n",
    "Description: Lists the upper confident limit (97.5%) for readmission rate as a percentage of hospital discharges."
   ]
  },
  {
   "cell_type": "code",
   "execution_count": 415,
   "metadata": {},
   "outputs": [
    {
     "data": {
      "text/plain": [
       "0    43.7\n",
       "1    41.7\n",
       "2    37.4\n",
       "3    49.1\n",
       "4      45\n",
       "Name: Readmission Rate: Upper Confidence Limit (97.5%), dtype: object"
      ]
     },
     "execution_count": 415,
     "metadata": {},
     "output_type": "execute_result"
    }
   ],
   "source": [
    "df['Readmission Rate: Upper Confidence Limit (97.5%)'].head()"
   ]
  },
  {
   "cell_type": "code",
   "execution_count": 416,
   "metadata": {},
   "outputs": [
    {
     "data": {
      "text/plain": [
       "7621             38.9\n",
       "7622             45.2\n",
       "7623    Not Available\n",
       "7624             43.8\n",
       "7625             29.7\n",
       "Name: Readmission Rate: Upper Confidence Limit (97.5%), dtype: object"
      ]
     },
     "execution_count": 416,
     "metadata": {},
     "output_type": "execute_result"
    }
   ],
   "source": [
    "df['Readmission Rate: Upper Confidence Limit (97.5%)'].tail()"
   ]
  },
  {
   "cell_type": "code",
   "execution_count": 417,
   "metadata": {},
   "outputs": [
    {
     "data": {
      "text/plain": [
       "count              7626\n",
       "unique              544\n",
       "top       Not Available\n",
       "freq                820\n",
       "Name: Readmission Rate: Upper Confidence Limit (97.5%), dtype: object"
      ]
     },
     "execution_count": 417,
     "metadata": {},
     "output_type": "execute_result"
    }
   ],
   "source": [
    "df['Readmission Rate: Upper Confidence Limit (97.5%)'].describe()"
   ]
  },
  {
   "cell_type": "code",
   "execution_count": 418,
   "metadata": {},
   "outputs": [
    {
     "data": {
      "text/plain": [
       "False    453\n",
       "True      91\n",
       "dtype: int64"
      ]
     },
     "execution_count": 418,
     "metadata": {},
     "output_type": "execute_result"
    }
   ],
   "source": [
    "# Percent unique values\n",
    "# True if facility has a value count of 1 (aka unique)\n",
    "pd.Series([facility == 1 for facility in df['Readmission Rate: Upper Confidence Limit (97.5%)'].value_counts()]).value_counts()"
   ]
  },
  {
   "cell_type": "code",
   "execution_count": 419,
   "metadata": {},
   "outputs": [
    {
     "data": {
      "text/plain": [
       "'104.2'"
      ]
     },
     "execution_count": 419,
     "metadata": {},
     "output_type": "execute_result"
    }
   ],
   "source": [
    "df['Readmission Rate: Upper Confidence Limit (97.5%)'].min()"
   ]
  },
  {
   "cell_type": "code",
   "execution_count": 420,
   "metadata": {},
   "outputs": [
    {
     "data": {
      "text/plain": [
       "'Not Available'"
      ]
     },
     "execution_count": 420,
     "metadata": {},
     "output_type": "execute_result"
    }
   ],
   "source": [
    "df['Readmission Rate: Upper Confidence Limit (97.5%)'].max()"
   ]
  },
  {
   "cell_type": "code",
   "execution_count": 421,
   "metadata": {},
   "outputs": [
    {
     "data": {
      "text/plain": [
       "{2, 3, 4, 5, 13}"
      ]
     },
     "execution_count": 421,
     "metadata": {},
     "output_type": "execute_result"
    }
   ],
   "source": [
    "set([(len(str(num))) for num in df['Readmission Rate: Upper Confidence Limit (97.5%)']])"
   ]
  },
  {
   "cell_type": "markdown",
   "metadata": {},
   "source": [
    "### Readmission Rate: Lower Confidence Limit (2.5%)\n",
    "Data type: object\n",
    "\n",
    "Value count: 7626\n",
    "\n",
    "Number of unique values: 339\n",
    "\n",
    "Percent unique values: 0.315%\n",
    "\n",
    "Ranges of values: 0.1 - \n",
    "\n",
    "Length of values: 1 - 4, 13\n",
    "\n",
    "Description: Lists the lower confident limit (2.5%) for readmission rate as a percentage of hospital discharges."
   ]
  },
  {
   "cell_type": "code",
   "execution_count": 422,
   "metadata": {},
   "outputs": [
    {
     "data": {
      "text/plain": [
       "0    19.4\n",
       "1    20.4\n",
       "2     7.6\n",
       "3    18.6\n",
       "4    13.7\n",
       "Name: Readmission Rate: Lower Confidence Limit (2.5%), dtype: object"
      ]
     },
     "execution_count": 422,
     "metadata": {},
     "output_type": "execute_result"
    }
   ],
   "source": [
    "df['Readmission Rate: Lower Confidence Limit (2.5%)'].head()"
   ]
  },
  {
   "cell_type": "code",
   "execution_count": 423,
   "metadata": {},
   "outputs": [
    {
     "data": {
      "text/plain": [
       "7621             18.6\n",
       "7622             23.9\n",
       "7623    Not Available\n",
       "7624             15.8\n",
       "7625             11.8\n",
       "Name: Readmission Rate: Lower Confidence Limit (2.5%), dtype: object"
      ]
     },
     "execution_count": 423,
     "metadata": {},
     "output_type": "execute_result"
    }
   ],
   "source": [
    "df['Readmission Rate: Lower Confidence Limit (2.5%)'].tail()"
   ]
  },
  {
   "cell_type": "code",
   "execution_count": 424,
   "metadata": {},
   "outputs": [
    {
     "data": {
      "text/plain": [
       "count              7626\n",
       "unique              339\n",
       "top       Not Available\n",
       "freq                820\n",
       "Name: Readmission Rate: Lower Confidence Limit (2.5%), dtype: object"
      ]
     },
     "execution_count": 424,
     "metadata": {},
     "output_type": "execute_result"
    }
   ],
   "source": [
    "df['Readmission Rate: Lower Confidence Limit (2.5%)'].describe()"
   ]
  },
  {
   "cell_type": "code",
   "execution_count": 425,
   "metadata": {},
   "outputs": [
    {
     "data": {
      "text/plain": [
       "False    315\n",
       "True      24\n",
       "dtype: int64"
      ]
     },
     "execution_count": 425,
     "metadata": {},
     "output_type": "execute_result"
    }
   ],
   "source": [
    "# Percent unique values\n",
    "# True if facility has a value count of 1 (aka unique)\n",
    "pd.Series([facility == 1 for facility in df['Readmission Rate: Lower Confidence Limit (2.5%)'].value_counts()]).value_counts()"
   ]
  },
  {
   "cell_type": "code",
   "execution_count": 426,
   "metadata": {},
   "outputs": [
    {
     "data": {
      "text/plain": [
       "'.1'"
      ]
     },
     "execution_count": 426,
     "metadata": {},
     "output_type": "execute_result"
    }
   ],
   "source": [
    "df['Readmission Rate: Lower Confidence Limit (2.5%)'].min()"
   ]
  },
  {
   "cell_type": "code",
   "execution_count": 427,
   "metadata": {},
   "outputs": [
    {
     "data": {
      "text/plain": [
       "'Not Available'"
      ]
     },
     "execution_count": 427,
     "metadata": {},
     "output_type": "execute_result"
    }
   ],
   "source": [
    "df['Readmission Rate: Lower Confidence Limit (2.5%)'].max()"
   ]
  },
  {
   "cell_type": "code",
   "execution_count": 428,
   "metadata": {},
   "outputs": [
    {
     "data": {
      "text/plain": [
       "{1, 2, 3, 4, 13}"
      ]
     },
     "execution_count": 428,
     "metadata": {},
     "output_type": "execute_result"
    }
   ],
   "source": [
    "set([(len(str(num))) for num in df['Readmission Rate: Lower Confidence Limit (2.5%)']])"
   ]
  },
  {
   "cell_type": "markdown",
   "metadata": {},
   "source": [
    "### Hospitalization Rate (Facility)\n",
    "Data type: object\n",
    "\n",
    "Value count: 7626\n",
    "\n",
    "Number of unique values: 2005\n",
    "\n",
    "Percent unique values: 7.50%\n",
    "\n",
    "Ranges of values: 0 - \n",
    "\n",
    "Length of values: 1 - 5, 13\n",
    "\n",
    "Description: Lists the facility’s hospitalization rate per 100 patient-years."
   ]
  },
  {
   "cell_type": "code",
   "execution_count": 429,
   "metadata": {},
   "outputs": [
    {
     "data": {
      "text/plain": [
       "0    228.3\n",
       "1    222.9\n",
       "2    158.3\n",
       "3    186.1\n",
       "4    150.8\n",
       "Name: Hospitalization Rate (Facility), dtype: object"
      ]
     },
     "execution_count": 429,
     "metadata": {},
     "output_type": "execute_result"
    }
   ],
   "source": [
    "df['Hospitalization Rate (Facility)'].head()"
   ]
  },
  {
   "cell_type": "code",
   "execution_count": 430,
   "metadata": {},
   "outputs": [
    {
     "data": {
      "text/plain": [
       "7621            278.3\n",
       "7622            246.5\n",
       "7623    Not Available\n",
       "7624            198.7\n",
       "7625            187.2\n",
       "Name: Hospitalization Rate (Facility), dtype: object"
      ]
     },
     "execution_count": 430,
     "metadata": {},
     "output_type": "execute_result"
    }
   ],
   "source": [
    "df['Hospitalization Rate (Facility)'].tail()"
   ]
  },
  {
   "cell_type": "code",
   "execution_count": 431,
   "metadata": {},
   "outputs": [
    {
     "data": {
      "text/plain": [
       "count              7626\n",
       "unique             2005\n",
       "top       Not Available\n",
       "freq                769\n",
       "Name: Hospitalization Rate (Facility), dtype: object"
      ]
     },
     "execution_count": 431,
     "metadata": {},
     "output_type": "execute_result"
    }
   ],
   "source": [
    "df['Hospitalization Rate (Facility)'].describe()"
   ]
  },
  {
   "cell_type": "code",
   "execution_count": 432,
   "metadata": {},
   "outputs": [
    {
     "data": {
      "text/plain": [
       "False    1433\n",
       "True      572\n",
       "dtype: int64"
      ]
     },
     "execution_count": 432,
     "metadata": {},
     "output_type": "execute_result"
    }
   ],
   "source": [
    "# Percent unique values\n",
    "# True if facility has a value count of 1 (aka unique)\n",
    "pd.Series([facility == 1 for facility in df['Hospitalization Rate (Facility)'].value_counts()]).value_counts()"
   ]
  },
  {
   "cell_type": "code",
   "execution_count": 433,
   "metadata": {},
   "outputs": [
    {
     "data": {
      "text/plain": [
       "'0'"
      ]
     },
     "execution_count": 433,
     "metadata": {},
     "output_type": "execute_result"
    }
   ],
   "source": [
    "df['Hospitalization Rate (Facility)'].min()"
   ]
  },
  {
   "cell_type": "code",
   "execution_count": 434,
   "metadata": {},
   "outputs": [
    {
     "data": {
      "text/plain": [
       "'Not Available'"
      ]
     },
     "execution_count": 434,
     "metadata": {},
     "output_type": "execute_result"
    }
   ],
   "source": [
    "df['Hospitalization Rate (Facility)'].max()"
   ]
  },
  {
   "cell_type": "code",
   "execution_count": 435,
   "metadata": {},
   "outputs": [
    {
     "data": {
      "text/plain": [
       "{1, 2, 3, 4, 5, 13}"
      ]
     },
     "execution_count": 435,
     "metadata": {},
     "output_type": "execute_result"
    }
   ],
   "source": [
    "set([(len(str(num))) for num in df['Hospitalization Rate (Facility)']])"
   ]
  },
  {
   "cell_type": "markdown",
   "metadata": {},
   "source": [
    "### Hospitalization Rate: Upper Confidence Limit (97.5%)\n",
    "Data type: object\n",
    "\n",
    "Value count: 7626\n",
    "\n",
    "Number of unique values: 2584\n",
    "\n",
    "Percent unique values: 12.7%\n",
    "\n",
    "Ranges of values: 1079.9 - \n",
    "\n",
    "Length of values: 3, 5, 6, 13\n",
    "\n",
    "Description: Lists the upper confident limit (97.5%) for hospitalization rate per 100 patient-years."
   ]
  },
  {
   "cell_type": "code",
   "execution_count": 436,
   "metadata": {},
   "outputs": [
    {
     "data": {
      "text/plain": [
       "0    346.5\n",
       "1      323\n",
       "2    280.6\n",
       "3    321.1\n",
       "4      278\n",
       "Name: Hospitalization Rate: Upper Confidence Limit (97.5%), dtype: object"
      ]
     },
     "execution_count": 436,
     "metadata": {},
     "output_type": "execute_result"
    }
   ],
   "source": [
    "df['Hospitalization Rate: Upper Confidence Limit (97.5%)'].head()"
   ]
  },
  {
   "cell_type": "code",
   "execution_count": 437,
   "metadata": {},
   "outputs": [
    {
     "data": {
      "text/plain": [
       "7621            397.9\n",
       "7622            361.7\n",
       "7623    Not Available\n",
       "7624            319.8\n",
       "7625            290.1\n",
       "Name: Hospitalization Rate: Upper Confidence Limit (97.5%), dtype: object"
      ]
     },
     "execution_count": 437,
     "metadata": {},
     "output_type": "execute_result"
    }
   ],
   "source": [
    "df['Hospitalization Rate: Upper Confidence Limit (97.5%)'].tail()"
   ]
  },
  {
   "cell_type": "code",
   "execution_count": 438,
   "metadata": {},
   "outputs": [
    {
     "data": {
      "text/plain": [
       "count              7626\n",
       "unique             2584\n",
       "top       Not Available\n",
       "freq                770\n",
       "Name: Hospitalization Rate: Upper Confidence Limit (97.5%), dtype: object"
      ]
     },
     "execution_count": 438,
     "metadata": {},
     "output_type": "execute_result"
    }
   ],
   "source": [
    "df['Hospitalization Rate: Upper Confidence Limit (97.5%)'].describe()"
   ]
  },
  {
   "cell_type": "code",
   "execution_count": 439,
   "metadata": {},
   "outputs": [
    {
     "data": {
      "text/plain": [
       "False    1618\n",
       "True      966\n",
       "dtype: int64"
      ]
     },
     "execution_count": 439,
     "metadata": {},
     "output_type": "execute_result"
    }
   ],
   "source": [
    "# Percent unique values\n",
    "# True if facility has a value count of 1 (aka unique)\n",
    "pd.Series([facility == 1 for facility in df['Hospitalization Rate: Upper Confidence Limit (97.5%)'].value_counts()]).value_counts()"
   ]
  },
  {
   "cell_type": "code",
   "execution_count": 440,
   "metadata": {},
   "outputs": [
    {
     "data": {
      "text/plain": [
       "'1079.9'"
      ]
     },
     "execution_count": 440,
     "metadata": {},
     "output_type": "execute_result"
    }
   ],
   "source": [
    "df['Hospitalization Rate: Upper Confidence Limit (97.5%)'].min()"
   ]
  },
  {
   "cell_type": "code",
   "execution_count": 441,
   "metadata": {},
   "outputs": [
    {
     "data": {
      "text/plain": [
       "'Not Available'"
      ]
     },
     "execution_count": 441,
     "metadata": {},
     "output_type": "execute_result"
    }
   ],
   "source": [
    "df['Hospitalization Rate: Upper Confidence Limit (97.5%)'].max()"
   ]
  },
  {
   "cell_type": "code",
   "execution_count": 442,
   "metadata": {},
   "outputs": [
    {
     "data": {
      "text/plain": [
       "{3, 5, 6, 13}"
      ]
     },
     "execution_count": 442,
     "metadata": {},
     "output_type": "execute_result"
    }
   ],
   "source": [
    "set([(len(str(num))) for num in df['Hospitalization Rate: Upper Confidence Limit (97.5%)']])"
   ]
  },
  {
   "cell_type": "markdown",
   "metadata": {},
   "source": [
    "### Hospitalization Rate: Lower Confidence Limit (2.5%)\n",
    "Data type: object\n",
    "\n",
    "Value count: 7626\n",
    "\n",
    "Number of unique values: 1711\n",
    "\n",
    "Percent unique values: 5.72%\n",
    "\n",
    "Ranges of values: 0 -\n",
    "\n",
    "Length of values: 1 - 5, 13\n",
    "\n",
    "Description: Lists the lower confident limit (2.5%) for hospitalization rate per 100 patient-years."
   ]
  },
  {
   "cell_type": "code",
   "execution_count": 443,
   "metadata": {},
   "outputs": [
    {
     "data": {
      "text/plain": [
       "0    153.6\n",
       "1    161.7\n",
       "2     93.7\n",
       "3    112.8\n",
       "4       86\n",
       "Name: Hospitalization Rate: Lower Confidence Limit (2.5%), dtype: object"
      ]
     },
     "execution_count": 443,
     "metadata": {},
     "output_type": "execute_result"
    }
   ],
   "source": [
    "df['Hospitalization Rate: Lower Confidence Limit (2.5%)'].head()"
   ]
  },
  {
   "cell_type": "code",
   "execution_count": 444,
   "metadata": {},
   "outputs": [
    {
     "data": {
      "text/plain": [
       "7621            198.9\n",
       "7622            171.3\n",
       "7623    Not Available\n",
       "7624            127.1\n",
       "7625            128.1\n",
       "Name: Hospitalization Rate: Lower Confidence Limit (2.5%), dtype: object"
      ]
     },
     "execution_count": 444,
     "metadata": {},
     "output_type": "execute_result"
    }
   ],
   "source": [
    "df['Hospitalization Rate: Lower Confidence Limit (2.5%)'].tail()"
   ]
  },
  {
   "cell_type": "code",
   "execution_count": 445,
   "metadata": {},
   "outputs": [
    {
     "data": {
      "text/plain": [
       "count              7626\n",
       "unique             1711\n",
       "top       Not Available\n",
       "freq                769\n",
       "Name: Hospitalization Rate: Lower Confidence Limit (2.5%), dtype: object"
      ]
     },
     "execution_count": 445,
     "metadata": {},
     "output_type": "execute_result"
    }
   ],
   "source": [
    "df['Hospitalization Rate: Lower Confidence Limit (2.5%)'].describe()"
   ]
  },
  {
   "cell_type": "code",
   "execution_count": 446,
   "metadata": {},
   "outputs": [
    {
     "data": {
      "text/plain": [
       "False    1275\n",
       "True      436\n",
       "dtype: int64"
      ]
     },
     "execution_count": 446,
     "metadata": {},
     "output_type": "execute_result"
    }
   ],
   "source": [
    "# Percent unique values\n",
    "# True if facility has a value count of 1 (aka unique)\n",
    "pd.Series([facility == 1 for facility in df['Hospitalization Rate: Lower Confidence Limit (2.5%)'].value_counts()]).value_counts()"
   ]
  },
  {
   "cell_type": "code",
   "execution_count": 447,
   "metadata": {},
   "outputs": [
    {
     "data": {
      "text/plain": [
       "'0'"
      ]
     },
     "execution_count": 447,
     "metadata": {},
     "output_type": "execute_result"
    }
   ],
   "source": [
    "df['Hospitalization Rate: Lower Confidence Limit (2.5%)'].min()"
   ]
  },
  {
   "cell_type": "code",
   "execution_count": 448,
   "metadata": {},
   "outputs": [
    {
     "data": {
      "text/plain": [
       "'Not Available'"
      ]
     },
     "execution_count": 448,
     "metadata": {},
     "output_type": "execute_result"
    }
   ],
   "source": [
    "df['Hospitalization Rate: Lower Confidence Limit (2.5%)'].max()"
   ]
  },
  {
   "cell_type": "code",
   "execution_count": 449,
   "metadata": {},
   "outputs": [
    {
     "data": {
      "text/plain": [
       "{1, 2, 3, 4, 5, 13}"
      ]
     },
     "execution_count": 449,
     "metadata": {},
     "output_type": "execute_result"
    }
   ],
   "source": [
    "set([(len(str(num))) for num in df['Hospitalization Rate: Lower Confidence Limit (2.5%)']])"
   ]
  },
  {
   "cell_type": "markdown",
   "metadata": {},
   "source": [
    "### Number of pediatric PD patients with Kt/V data\n",
    "Data type: object\n",
    "\n",
    "Value count: 7626\n",
    "\n",
    "Number of unique values: 26\n",
    "\n",
    "Percent unique values: 0.0918%\n",
    "\n",
    "Ranges of values: 0 - \n",
    "\n",
    "Length of values: 1, 2, 13\n",
    "\n",
    "Description: Lists the number of pediatric PD patients included in Kt/V greater than or equal to 1.8 summary. The parameter Kt/V is a measurement of the efficacy of a hemodialysis session. It identifies the effective removal of a specific solute (clearance K) resulting from a given treatment (characterized by time t) in a given patient (with a specific volume of distribution V for the solute considered)."
   ]
  },
  {
   "cell_type": "code",
   "execution_count": 450,
   "metadata": {},
   "outputs": [
    {
     "data": {
      "text/plain": [
       "0    0\n",
       "1    0\n",
       "2    0\n",
       "3    0\n",
       "4    0\n",
       "Name: Number of pediatric PD patients with Kt/V data, dtype: object"
      ]
     },
     "execution_count": 450,
     "metadata": {},
     "output_type": "execute_result"
    }
   ],
   "source": [
    "df['Number of pediatric PD patients with Kt/V data'].head()"
   ]
  },
  {
   "cell_type": "code",
   "execution_count": 451,
   "metadata": {},
   "outputs": [
    {
     "data": {
      "text/plain": [
       "7621                0\n",
       "7622                0\n",
       "7623    Not Available\n",
       "7624                0\n",
       "7625                0\n",
       "Name: Number of pediatric PD patients with Kt/V data, dtype: object"
      ]
     },
     "execution_count": 451,
     "metadata": {},
     "output_type": "execute_result"
    }
   ],
   "source": [
    "df['Number of pediatric PD patients with Kt/V data'].tail()"
   ]
  },
  {
   "cell_type": "code",
   "execution_count": 452,
   "metadata": {},
   "outputs": [
    {
     "data": {
      "text/plain": [
       "count     7626\n",
       "unique      26\n",
       "top          0\n",
       "freq      7405\n",
       "Name: Number of pediatric PD patients with Kt/V data, dtype: object"
      ]
     },
     "execution_count": 452,
     "metadata": {},
     "output_type": "execute_result"
    }
   ],
   "source": [
    "df['Number of pediatric PD patients with Kt/V data'].describe()"
   ]
  },
  {
   "cell_type": "code",
   "execution_count": 453,
   "metadata": {},
   "outputs": [
    {
     "data": {
      "text/plain": [
       "False    19\n",
       "True      7\n",
       "dtype: int64"
      ]
     },
     "execution_count": 453,
     "metadata": {},
     "output_type": "execute_result"
    }
   ],
   "source": [
    "# Percent unique values\n",
    "# True if facility has a value count of 1 (aka unique)\n",
    "pd.Series([facility == 1 for facility in df['Number of pediatric PD patients with Kt/V data'].value_counts()]).value_counts()"
   ]
  },
  {
   "cell_type": "code",
   "execution_count": 454,
   "metadata": {},
   "outputs": [
    {
     "data": {
      "text/plain": [
       "'0'"
      ]
     },
     "execution_count": 454,
     "metadata": {},
     "output_type": "execute_result"
    }
   ],
   "source": [
    "df['Number of pediatric PD patients with Kt/V data'].min()"
   ]
  },
  {
   "cell_type": "code",
   "execution_count": 455,
   "metadata": {},
   "outputs": [
    {
     "data": {
      "text/plain": [
       "'Not Available'"
      ]
     },
     "execution_count": 455,
     "metadata": {},
     "output_type": "execute_result"
    }
   ],
   "source": [
    "df['Number of pediatric PD patients with Kt/V data'].max()"
   ]
  },
  {
   "cell_type": "code",
   "execution_count": 456,
   "metadata": {},
   "outputs": [
    {
     "data": {
      "text/plain": [
       "{1, 2, 13}"
      ]
     },
     "execution_count": 456,
     "metadata": {},
     "output_type": "execute_result"
    }
   ],
   "source": [
    "set([(len(str(num))) for num in df['Number of pediatric PD patients with Kt/V data']])"
   ]
  },
  {
   "cell_type": "markdown",
   "metadata": {},
   "source": [
    "### Pediatric PD Kt/V Data Availability Code\n",
    "Data type: int64 \n",
    "\n",
    "Value count: 7626\n",
    "\n",
    "Number of unique values: 5\n",
    "\n",
    "Percent unique values: 0%\n",
    "\n",
    "Ranges of values: 1, 199, 201, 258, 259\n",
    "\n",
    "Length of values: 1, 3\n",
    "\n",
    "Description: Lists whether the facility had sufficient pediatric PD Kt/V data available or the reason for why the data is not available. The parameter Kt/V is a measurement of the efficacy of a hemodialysis session. It identifies the effective removal of a specific solute (clearance K) resulting from a given treatment (characterized by time t) in a given patient (with a specific volume of distribution V for the solute considered).\n",
    "\n",
    "Value description:\n",
    "- 1   : N/A\n",
    "- 199 : Not enough patients to report on this measure. Call the dialysis center to discuss this measure.\n",
    "- 201 : Data not reported. Call the dialysis center to discuss this quality measure.\n",
    "- 258 : The dialysis center was not open long enough to supply sufficient measure data. \n",
    "- 259 : The dialysis center does not provide hemodialysis and/or peritoneal dialysis to pediatric patients during the reporting period."
   ]
  },
  {
   "cell_type": "code",
   "execution_count": 457,
   "metadata": {
    "scrolled": true
   },
   "outputs": [
    {
     "data": {
      "text/plain": [
       "0    259\n",
       "1    259\n",
       "2    259\n",
       "3    259\n",
       "4    259\n",
       "Name: Pediatric PD Kt/V Data Availability Code, dtype: int64"
      ]
     },
     "execution_count": 457,
     "metadata": {},
     "output_type": "execute_result"
    }
   ],
   "source": [
    "df['Pediatric PD Kt/V Data Availability Code'].head()"
   ]
  },
  {
   "cell_type": "code",
   "execution_count": 458,
   "metadata": {},
   "outputs": [
    {
     "data": {
      "text/plain": [
       "7621    259\n",
       "7622    259\n",
       "7623    258\n",
       "7624    259\n",
       "7625    259\n",
       "Name: Pediatric PD Kt/V Data Availability Code, dtype: int64"
      ]
     },
     "execution_count": 458,
     "metadata": {},
     "output_type": "execute_result"
    }
   ],
   "source": [
    "df['Pediatric PD Kt/V Data Availability Code'].tail()"
   ]
  },
  {
   "cell_type": "code",
   "execution_count": 459,
   "metadata": {},
   "outputs": [
    {
     "data": {
      "text/plain": [
       "7626"
      ]
     },
     "execution_count": 459,
     "metadata": {},
     "output_type": "execute_result"
    }
   ],
   "source": [
    "df['Pediatric PD Kt/V Data Availability Code'].count()"
   ]
  },
  {
   "cell_type": "code",
   "execution_count": 460,
   "metadata": {},
   "outputs": [
    {
     "data": {
      "text/plain": [
       "259    7244\n",
       "201     161\n",
       "199     120\n",
       "258      72\n",
       "1        29\n",
       "Name: Pediatric PD Kt/V Data Availability Code, dtype: int64"
      ]
     },
     "execution_count": 460,
     "metadata": {},
     "output_type": "execute_result"
    }
   ],
   "source": [
    "df['Pediatric PD Kt/V Data Availability Code'].value_counts()"
   ]
  },
  {
   "cell_type": "markdown",
   "metadata": {},
   "source": [
    "### Number of pediatric PD patient-months with KT/V data\n",
    "Data type: object\n",
    "\n",
    "Value count: 7626\n",
    "\n",
    "Number of unique values: 82\n",
    "\n",
    "Percent unique values: 0.433%\n",
    "\n",
    "Ranges of values: 1 - \n",
    "\n",
    "Length of values: 1 - 3, 13\n",
    "\n",
    "Description: Lists the number of pediatric PD patient months included in Kt/V greater than or equal to 1.8 summary. The parameter Kt/V is a measurement of the efficacy of a hemodialysis session. It identifies the effective removal of a specific solute (clearance K) resulting from a given treatment (characterized by time t) in a given patient (with a specific volume of distribution V for the solute considered)."
   ]
  },
  {
   "cell_type": "code",
   "execution_count": 461,
   "metadata": {},
   "outputs": [
    {
     "data": {
      "text/plain": [
       "0    Not Available\n",
       "1    Not Available\n",
       "2    Not Available\n",
       "3    Not Available\n",
       "4    Not Available\n",
       "Name: Number of pediatric PD patient-months with KT/V data, dtype: object"
      ]
     },
     "execution_count": 461,
     "metadata": {},
     "output_type": "execute_result"
    }
   ],
   "source": [
    "df['Number of pediatric PD patient-months with KT/V data'].head()"
   ]
  },
  {
   "cell_type": "code",
   "execution_count": 462,
   "metadata": {},
   "outputs": [
    {
     "data": {
      "text/plain": [
       "7621    Not Available\n",
       "7622    Not Available\n",
       "7623    Not Available\n",
       "7624    Not Available\n",
       "7625    Not Available\n",
       "Name: Number of pediatric PD patient-months with KT/V data, dtype: object"
      ]
     },
     "execution_count": 462,
     "metadata": {},
     "output_type": "execute_result"
    }
   ],
   "source": [
    "df['Number of pediatric PD patient-months with KT/V data'].tail()"
   ]
  },
  {
   "cell_type": "code",
   "execution_count": 463,
   "metadata": {},
   "outputs": [
    {
     "data": {
      "text/plain": [
       "count              7626\n",
       "unique               82\n",
       "top       Not Available\n",
       "freq               7476\n",
       "Name: Number of pediatric PD patient-months with KT/V data, dtype: object"
      ]
     },
     "execution_count": 463,
     "metadata": {},
     "output_type": "execute_result"
    }
   ],
   "source": [
    "df['Number of pediatric PD patient-months with KT/V data'].describe()"
   ]
  },
  {
   "cell_type": "code",
   "execution_count": 464,
   "metadata": {},
   "outputs": [
    {
     "data": {
      "text/plain": [
       "True     49\n",
       "False    33\n",
       "dtype: int64"
      ]
     },
     "execution_count": 464,
     "metadata": {},
     "output_type": "execute_result"
    }
   ],
   "source": [
    "# Percent unique values\n",
    "# True if facility has a value count of 1 (aka unique)\n",
    "pd.Series([facility == 1 for facility in df['Number of pediatric PD patient-months with KT/V data'].value_counts()]).value_counts()"
   ]
  },
  {
   "cell_type": "code",
   "execution_count": 465,
   "metadata": {},
   "outputs": [
    {
     "data": {
      "text/plain": [
       "'1'"
      ]
     },
     "execution_count": 465,
     "metadata": {},
     "output_type": "execute_result"
    }
   ],
   "source": [
    "df['Number of pediatric PD patient-months with KT/V data'].min()"
   ]
  },
  {
   "cell_type": "code",
   "execution_count": 466,
   "metadata": {},
   "outputs": [
    {
     "data": {
      "text/plain": [
       "'Not Available'"
      ]
     },
     "execution_count": 466,
     "metadata": {},
     "output_type": "execute_result"
    }
   ],
   "source": [
    "df['Number of pediatric PD patient-months with KT/V data'].max()"
   ]
  },
  {
   "cell_type": "code",
   "execution_count": 467,
   "metadata": {},
   "outputs": [
    {
     "data": {
      "text/plain": [
       "{1, 2, 3, 13}"
      ]
     },
     "execution_count": 467,
     "metadata": {},
     "output_type": "execute_result"
    }
   ],
   "source": [
    "set([(len(str(num))) for num in df['Number of pediatric PD patient-months with KT/V data']])"
   ]
  },
  {
   "cell_type": "markdown",
   "metadata": {},
   "source": [
    "### Percentage of pediatric PD patients with Kt/V>=1.8\n",
    "Data type: object\n",
    "\n",
    "Value count: 7626\n",
    "\n",
    "Number of unique values: 22\n",
    "\n",
    "Percent unique values: 0.105%\n",
    "\n",
    "Ranges of values: 23 - \n",
    "\n",
    "Length of values: 2, 13\n",
    "\n",
    "Description: Lists the percentage of pediatric PD patients with Kt/V greater than or equal to 1.8. The parameter Kt/V is a measurement of the efficacy of a hemodialysis session. It identifies the effective removal of a specific solute (clearance K) resulting from a given treatment (characterized by time t) in a given patient (with a specific volume of distribution V for the solute considered)."
   ]
  },
  {
   "cell_type": "code",
   "execution_count": 468,
   "metadata": {},
   "outputs": [
    {
     "data": {
      "text/plain": [
       "0    Not Available\n",
       "1    Not Available\n",
       "2    Not Available\n",
       "3    Not Available\n",
       "4    Not Available\n",
       "Name: Percentage of pediatric PD patients with Kt/V>=1.8, dtype: object"
      ]
     },
     "execution_count": 468,
     "metadata": {},
     "output_type": "execute_result"
    }
   ],
   "source": [
    "df['Percentage of pediatric PD patients with Kt/V>=1.8'].head()"
   ]
  },
  {
   "cell_type": "code",
   "execution_count": 469,
   "metadata": {},
   "outputs": [
    {
     "data": {
      "text/plain": [
       "7621    Not Available\n",
       "7622    Not Available\n",
       "7623    Not Available\n",
       "7624    Not Available\n",
       "7625    Not Available\n",
       "Name: Percentage of pediatric PD patients with Kt/V>=1.8, dtype: object"
      ]
     },
     "execution_count": 469,
     "metadata": {},
     "output_type": "execute_result"
    }
   ],
   "source": [
    "df['Percentage of pediatric PD patients with Kt/V>=1.8'].tail()"
   ]
  },
  {
   "cell_type": "code",
   "execution_count": 470,
   "metadata": {},
   "outputs": [
    {
     "data": {
      "text/plain": [
       "count              7626\n",
       "unique               22\n",
       "top       Not Available\n",
       "freq               7597\n",
       "Name: Percentage of pediatric PD patients with Kt/V>=1.8, dtype: object"
      ]
     },
     "execution_count": 470,
     "metadata": {},
     "output_type": "execute_result"
    }
   ],
   "source": [
    "df['Percentage of pediatric PD patients with Kt/V>=1.8'].describe()"
   ]
  },
  {
   "cell_type": "code",
   "execution_count": 471,
   "metadata": {},
   "outputs": [
    {
     "data": {
      "text/plain": [
       "True     14\n",
       "False     8\n",
       "dtype: int64"
      ]
     },
     "execution_count": 471,
     "metadata": {},
     "output_type": "execute_result"
    }
   ],
   "source": [
    "# Percent unique values\n",
    "# True if facility has a value count of 1 (aka unique)\n",
    "pd.Series([facility == 1 for facility in df['Percentage of pediatric PD patients with Kt/V>=1.8'].value_counts()]).value_counts()"
   ]
  },
  {
   "cell_type": "code",
   "execution_count": 472,
   "metadata": {},
   "outputs": [
    {
     "data": {
      "text/plain": [
       "'23'"
      ]
     },
     "execution_count": 472,
     "metadata": {},
     "output_type": "execute_result"
    }
   ],
   "source": [
    "df['Percentage of pediatric PD patients with Kt/V>=1.8'].min()"
   ]
  },
  {
   "cell_type": "code",
   "execution_count": 473,
   "metadata": {},
   "outputs": [
    {
     "data": {
      "text/plain": [
       "'Not Available'"
      ]
     },
     "execution_count": 473,
     "metadata": {},
     "output_type": "execute_result"
    }
   ],
   "source": [
    "df['Percentage of pediatric PD patients with Kt/V>=1.8'].max()"
   ]
  },
  {
   "cell_type": "code",
   "execution_count": 474,
   "metadata": {},
   "outputs": [
    {
     "data": {
      "text/plain": [
       "{2, 13}"
      ]
     },
     "execution_count": 474,
     "metadata": {},
     "output_type": "execute_result"
    }
   ],
   "source": [
    "set([(len(str(num))) for num in df['Percentage of pediatric PD patients with Kt/V>=1.8']])"
   ]
  },
  {
   "cell_type": "markdown",
   "metadata": {},
   "source": [
    "### SIR Date\n",
    "Data type: object\n",
    "\n",
    "Value count: 7626\n",
    "\n",
    "Number of unique values: 1\n",
    "\n",
    "Percent unique values: 0%\n",
    "\n",
    "Ranges of values: \"01/01/2018 - 12/31/2018\"\n",
    "\n",
    "Length of values: 23\n",
    "\n",
    "Description: Lists the time period for patient infection summary (SIR)."
   ]
  },
  {
   "cell_type": "code",
   "execution_count": 475,
   "metadata": {},
   "outputs": [
    {
     "data": {
      "text/plain": [
       "0    01/01/2018 - 12/31/2018\n",
       "1    01/01/2018 - 12/31/2018\n",
       "2    01/01/2018 - 12/31/2018\n",
       "3    01/01/2018 - 12/31/2018\n",
       "4    01/01/2018 - 12/31/2018\n",
       "Name: SIR Date, dtype: object"
      ]
     },
     "execution_count": 475,
     "metadata": {},
     "output_type": "execute_result"
    }
   ],
   "source": [
    "df['SIR Date'].head()"
   ]
  },
  {
   "cell_type": "code",
   "execution_count": 476,
   "metadata": {},
   "outputs": [
    {
     "data": {
      "text/plain": [
       "7621    01/01/2018 - 12/31/2018\n",
       "7622    01/01/2018 - 12/31/2018\n",
       "7623    01/01/2018 - 12/31/2018\n",
       "7624    01/01/2018 - 12/31/2018\n",
       "7625    01/01/2018 - 12/31/2018\n",
       "Name: SIR Date, dtype: object"
      ]
     },
     "execution_count": 476,
     "metadata": {},
     "output_type": "execute_result"
    }
   ],
   "source": [
    "df['SIR Date'].tail()"
   ]
  },
  {
   "cell_type": "code",
   "execution_count": 477,
   "metadata": {},
   "outputs": [
    {
     "data": {
      "text/plain": [
       "7626"
      ]
     },
     "execution_count": 477,
     "metadata": {},
     "output_type": "execute_result"
    }
   ],
   "source": [
    "df['SIR Date'].count()"
   ]
  },
  {
   "cell_type": "code",
   "execution_count": 478,
   "metadata": {},
   "outputs": [
    {
     "data": {
      "text/plain": [
       "01/01/2018 - 12/31/2018    7626\n",
       "Name: SIR Date, dtype: int64"
      ]
     },
     "execution_count": 478,
     "metadata": {},
     "output_type": "execute_result"
    }
   ],
   "source": [
    "df['SIR Date'].value_counts()"
   ]
  },
  {
   "cell_type": "code",
   "execution_count": 479,
   "metadata": {},
   "outputs": [
    {
     "data": {
      "text/plain": [
       "{23}"
      ]
     },
     "execution_count": 479,
     "metadata": {},
     "output_type": "execute_result"
    }
   ],
   "source": [
    "set([(len(str(num))) for num in df['SIR Date']])"
   ]
  },
  {
   "cell_type": "markdown",
   "metadata": {},
   "source": [
    "### Patient Infection Data Availability Code\n",
    "Data type: int64\n",
    "\n",
    "Value count: 7626\n",
    "\n",
    "Number of unique values: 4\n",
    "\n",
    "Percent unique values: 0%\n",
    "\n",
    "Ranges of values: 1, 199, 201, 258\n",
    "\n",
    "Length of values: 1, 3\n",
    "\n",
    "Description: Lists whether the facility had sufficient infection data available or the reason for why the data is not available.\n",
    "\n",
    "Value description:\n",
    "- 1   : N/A\n",
    "- 199 : Not enough patients to report on this measure. Call the dialysis center to discuss this measure.\n",
    "- 201 : Data not reported. Call the dialysis center to discuss this quality measure.\n",
    "- 258 : The dialysis center was not open long enough to supply sufficient measure data. "
   ]
  },
  {
   "cell_type": "code",
   "execution_count": 480,
   "metadata": {},
   "outputs": [
    {
     "data": {
      "text/plain": [
       "0    1\n",
       "1    1\n",
       "2    1\n",
       "3    1\n",
       "4    1\n",
       "Name: Patient Infection Data Availability Code, dtype: int64"
      ]
     },
     "execution_count": 480,
     "metadata": {},
     "output_type": "execute_result"
    }
   ],
   "source": [
    "df['Patient Infection Data Availability Code'].head()"
   ]
  },
  {
   "cell_type": "code",
   "execution_count": 481,
   "metadata": {},
   "outputs": [
    {
     "data": {
      "text/plain": [
       "7621      1\n",
       "7622      1\n",
       "7623    258\n",
       "7624      1\n",
       "7625      1\n",
       "Name: Patient Infection Data Availability Code, dtype: int64"
      ]
     },
     "execution_count": 481,
     "metadata": {},
     "output_type": "execute_result"
    }
   ],
   "source": [
    "df['Patient Infection Data Availability Code'].tail()"
   ]
  },
  {
   "cell_type": "code",
   "execution_count": 482,
   "metadata": {},
   "outputs": [
    {
     "data": {
      "text/plain": [
       "7626"
      ]
     },
     "execution_count": 482,
     "metadata": {},
     "output_type": "execute_result"
    }
   ],
   "source": [
    "df['Patient Infection Data Availability Code'].count()"
   ]
  },
  {
   "cell_type": "code",
   "execution_count": 483,
   "metadata": {},
   "outputs": [
    {
     "data": {
      "text/plain": [
       "1      6251\n",
       "258     657\n",
       "201     609\n",
       "199     109\n",
       "Name: Patient Infection Data Availability Code, dtype: int64"
      ]
     },
     "execution_count": 483,
     "metadata": {},
     "output_type": "execute_result"
    }
   ],
   "source": [
    "df['Patient Infection Data Availability Code'].value_counts()"
   ]
  },
  {
   "cell_type": "markdown",
   "metadata": {},
   "source": [
    "### Patient Infection category text\n",
    "Data type: object\n",
    "\n",
    "Value count: 7626\n",
    "\n",
    "Number of unique values: 4\n",
    "\n",
    "Percent unique values: 0%\n",
    "\n",
    "Ranges of values: As Expected, Worse than Expected, Better than Expected, Not Available\n",
    "\n",
    "Length of values: 11, 13, 19, 20\n",
    "\n",
    "Description: Patient infection category.\n",
    "\n",
    "Value description:\n",
    "- As Expected          : Patient infection categorized as “As Expected”       \n",
    "- Worse than Expected  :  Patient infection categorized as “Worse than Expected”\n",
    "- Better than Expected : Patient infection categorized as “Better than Expected\"\n",
    "- Not Available "
   ]
  },
  {
   "cell_type": "code",
   "execution_count": 484,
   "metadata": {},
   "outputs": [
    {
     "data": {
      "text/plain": [
       "0    As Expected\n",
       "1    As Expected\n",
       "2    As Expected\n",
       "3    As Expected\n",
       "4    As Expected\n",
       "Name: Patient Infection category text, dtype: object"
      ]
     },
     "execution_count": 484,
     "metadata": {},
     "output_type": "execute_result"
    }
   ],
   "source": [
    "df['Patient Infection category text'].head()"
   ]
  },
  {
   "cell_type": "code",
   "execution_count": 485,
   "metadata": {},
   "outputs": [
    {
     "data": {
      "text/plain": [
       "7621      As Expected\n",
       "7622      As Expected\n",
       "7623    Not Available\n",
       "7624      As Expected\n",
       "7625      As Expected\n",
       "Name: Patient Infection category text, dtype: object"
      ]
     },
     "execution_count": 485,
     "metadata": {},
     "output_type": "execute_result"
    }
   ],
   "source": [
    "df['Patient Infection category text'].tail()"
   ]
  },
  {
   "cell_type": "code",
   "execution_count": 486,
   "metadata": {},
   "outputs": [
    {
     "data": {
      "text/plain": [
       "7626"
      ]
     },
     "execution_count": 486,
     "metadata": {},
     "output_type": "execute_result"
    }
   ],
   "source": [
    "df['Patient Infection category text'].count()"
   ]
  },
  {
   "cell_type": "code",
   "execution_count": 487,
   "metadata": {},
   "outputs": [
    {
     "data": {
      "text/plain": [
       "As Expected             5055\n",
       "Not Available           1375\n",
       "Better than Expected     988\n",
       "Worse than Expected      208\n",
       "Name: Patient Infection category text, dtype: int64"
      ]
     },
     "execution_count": 487,
     "metadata": {},
     "output_type": "execute_result"
    }
   ],
   "source": [
    "df['Patient Infection category text'].value_counts()"
   ]
  },
  {
   "cell_type": "code",
   "execution_count": 488,
   "metadata": {},
   "outputs": [
    {
     "data": {
      "text/plain": [
       "{11, 13, 19, 20}"
      ]
     },
     "execution_count": 488,
     "metadata": {},
     "output_type": "execute_result"
    }
   ],
   "source": [
    "set([(len(str(num))) for num in df['Patient Infection category text']])"
   ]
  },
  {
   "cell_type": "markdown",
   "metadata": {},
   "source": [
    "### Standard Infection Ratio\n",
    "Data type: object\n",
    "\n",
    "Value count: 7626\n",
    "\n",
    "Number of unique values: 337\n",
    "\n",
    "Percent unique values: 0.957%\n",
    "\n",
    "Ranges of values: 0.5 - \n",
    "\n",
    "Length of values: 1 - 5, 13\n",
    "\n",
    "Description: Lists the facility’s Standardized Infection Ratio."
   ]
  },
  {
   "cell_type": "code",
   "execution_count": 489,
   "metadata": {},
   "outputs": [
    {
     "data": {
      "text/plain": [
       "0    1.61\n",
       "1     .75\n",
       "2    1.54\n",
       "3    1.45\n",
       "4       0\n",
       "Name: Standard Infection Ratio, dtype: object"
      ]
     },
     "execution_count": 489,
     "metadata": {},
     "output_type": "execute_result"
    }
   ],
   "source": [
    "df['Standard Infection Ratio'].head()"
   ]
  },
  {
   "cell_type": "code",
   "execution_count": 490,
   "metadata": {},
   "outputs": [
    {
     "data": {
      "text/plain": [
       "7621             1.23\n",
       "7622                1\n",
       "7623    Not Available\n",
       "7624              .94\n",
       "7625              .58\n",
       "Name: Standard Infection Ratio, dtype: object"
      ]
     },
     "execution_count": 490,
     "metadata": {},
     "output_type": "execute_result"
    }
   ],
   "source": [
    "df['Standard Infection Ratio'].tail()"
   ]
  },
  {
   "cell_type": "code",
   "execution_count": 491,
   "metadata": {},
   "outputs": [
    {
     "data": {
      "text/plain": [
       "count              7626\n",
       "unique              337\n",
       "top       Not Available\n",
       "freq               1375\n",
       "Name: Standard Infection Ratio, dtype: object"
      ]
     },
     "execution_count": 491,
     "metadata": {},
     "output_type": "execute_result"
    }
   ],
   "source": [
    "df['Standard Infection Ratio'].describe()"
   ]
  },
  {
   "cell_type": "code",
   "execution_count": 492,
   "metadata": {},
   "outputs": [
    {
     "data": {
      "text/plain": [
       "False    264\n",
       "True      73\n",
       "dtype: int64"
      ]
     },
     "execution_count": 492,
     "metadata": {},
     "output_type": "execute_result"
    }
   ],
   "source": [
    "# Percent unique values\n",
    "# True if facility has a value count of 1 (aka unique)\n",
    "pd.Series([facility == 1 for facility in df['Standard Infection Ratio'].value_counts()]).value_counts()"
   ]
  },
  {
   "cell_type": "code",
   "execution_count": 493,
   "metadata": {},
   "outputs": [
    {
     "data": {
      "text/plain": [
       "'.05'"
      ]
     },
     "execution_count": 493,
     "metadata": {},
     "output_type": "execute_result"
    }
   ],
   "source": [
    "df['Standard Infection Ratio'].min()"
   ]
  },
  {
   "cell_type": "code",
   "execution_count": 494,
   "metadata": {},
   "outputs": [
    {
     "data": {
      "text/plain": [
       "'Not Available'"
      ]
     },
     "execution_count": 494,
     "metadata": {},
     "output_type": "execute_result"
    }
   ],
   "source": [
    "df['Standard Infection Ratio'].max()"
   ]
  },
  {
   "cell_type": "code",
   "execution_count": 495,
   "metadata": {},
   "outputs": [
    {
     "data": {
      "text/plain": [
       "{1, 2, 3, 4, 5, 13}"
      ]
     },
     "execution_count": 495,
     "metadata": {},
     "output_type": "execute_result"
    }
   ],
   "source": [
    "set([(len(str(num))) for num in df['Standard Infection Ratio']])"
   ]
  },
  {
   "cell_type": "markdown",
   "metadata": {},
   "source": [
    "### SIR: Upper Confidence Limit (97.5%)\n",
    "Data type: object\n",
    "\n",
    "Value count: 7626\n",
    "\n",
    "Number of unique values: 603\n",
    "\n",
    "Percent unique values: 1.63%\n",
    "\n",
    "Ranges of values: 0.16 - \n",
    "\n",
    "Length of values: 1 - 5, 13\n",
    "\n",
    "Description: Lists the upper confident limit (97.5%) for Standardized Infection Ratio (SIR)."
   ]
  },
  {
   "cell_type": "code",
   "execution_count": 496,
   "metadata": {},
   "outputs": [
    {
     "data": {
      "text/plain": [
       "0     2.8\n",
       "1    1.28\n",
       "2     4.2\n",
       "3    3.94\n",
       "4     1.2\n",
       "Name: SIR: Upper Confidence Limit (97.5%), dtype: object"
      ]
     },
     "execution_count": 496,
     "metadata": {},
     "output_type": "execute_result"
    }
   ],
   "source": [
    "df['SIR: Upper Confidence Limit (97.5%)'].head()"
   ]
  },
  {
   "cell_type": "code",
   "execution_count": 497,
   "metadata": {},
   "outputs": [
    {
     "data": {
      "text/plain": [
       "7621             2.56\n",
       "7622             2.21\n",
       "7623    Not Available\n",
       "7624             2.56\n",
       "7625             1.39\n",
       "Name: SIR: Upper Confidence Limit (97.5%), dtype: object"
      ]
     },
     "execution_count": 497,
     "metadata": {},
     "output_type": "execute_result"
    }
   ],
   "source": [
    "df['SIR: Upper Confidence Limit (97.5%)'].tail()"
   ]
  },
  {
   "cell_type": "code",
   "execution_count": 498,
   "metadata": {},
   "outputs": [
    {
     "data": {
      "text/plain": [
       "count              7626\n",
       "unique              603\n",
       "top       Not Available\n",
       "freq               1375\n",
       "Name: SIR: Upper Confidence Limit (97.5%), dtype: object"
      ]
     },
     "execution_count": 498,
     "metadata": {},
     "output_type": "execute_result"
    }
   ],
   "source": [
    "df['SIR: Upper Confidence Limit (97.5%)'].describe()"
   ]
  },
  {
   "cell_type": "code",
   "execution_count": 499,
   "metadata": {},
   "outputs": [
    {
     "data": {
      "text/plain": [
       "False    479\n",
       "True     124\n",
       "dtype: int64"
      ]
     },
     "execution_count": 499,
     "metadata": {},
     "output_type": "execute_result"
    }
   ],
   "source": [
    "# Percent unique values\n",
    "# True if facility has a value count of 1 (aka unique)\n",
    "pd.Series([facility == 1 for facility in df['SIR: Upper Confidence Limit (97.5%)'].value_counts()]).value_counts()"
   ]
  },
  {
   "cell_type": "code",
   "execution_count": 500,
   "metadata": {},
   "outputs": [
    {
     "data": {
      "text/plain": [
       "'.16'"
      ]
     },
     "execution_count": 500,
     "metadata": {},
     "output_type": "execute_result"
    }
   ],
   "source": [
    "df['SIR: Upper Confidence Limit (97.5%)'].min()"
   ]
  },
  {
   "cell_type": "code",
   "execution_count": 501,
   "metadata": {},
   "outputs": [
    {
     "data": {
      "text/plain": [
       "'Not Available'"
      ]
     },
     "execution_count": 501,
     "metadata": {},
     "output_type": "execute_result"
    }
   ],
   "source": [
    "df['SIR: Upper Confidence Limit (97.5%)'].max()"
   ]
  },
  {
   "cell_type": "code",
   "execution_count": 502,
   "metadata": {},
   "outputs": [
    {
     "data": {
      "text/plain": [
       "{1, 2, 3, 4, 5, 13}"
      ]
     },
     "execution_count": 502,
     "metadata": {},
     "output_type": "execute_result"
    }
   ],
   "source": [
    "set([(len(str(num))) for num in df['SIR: Upper Confidence Limit (97.5%)']])"
   ]
  },
  {
   "cell_type": "markdown",
   "metadata": {},
   "source": [
    "### SIR: Lower Confidence Limit (2.5%)\n",
    "Data type: object\n",
    "\n",
    "Value count: 7626\n",
    "\n",
    "Number of unique values: 191\n",
    "\n",
    "Percent unique values: 0.485%\n",
    "\n",
    "Ranges of values: 0.01 - \n",
    "\n",
    "Length of values: 1 - 4, 13\n",
    "\n",
    "Description: Lists the lower confident limit (2.5%) for Standardized Infection Ratio (SIR)."
   ]
  },
  {
   "cell_type": "code",
   "execution_count": 503,
   "metadata": {},
   "outputs": [
    {
     "data": {
      "text/plain": [
       "0              .85\n",
       "1              .41\n",
       "2              .39\n",
       "3              .37\n",
       "4    Not Available\n",
       "Name: SIR: Lower Confidence Limit (2.5%), dtype: object"
      ]
     },
     "execution_count": 503,
     "metadata": {},
     "output_type": "execute_result"
    }
   ],
   "source": [
    "df['SIR: Lower Confidence Limit (2.5%)'].head()"
   ]
  },
  {
   "cell_type": "code",
   "execution_count": 504,
   "metadata": {},
   "outputs": [
    {
     "data": {
      "text/plain": [
       "7621               .5\n",
       "7622              .37\n",
       "7623    Not Available\n",
       "7624              .24\n",
       "7625              .18\n",
       "Name: SIR: Lower Confidence Limit (2.5%), dtype: object"
      ]
     },
     "execution_count": 504,
     "metadata": {},
     "output_type": "execute_result"
    }
   ],
   "source": [
    "df['SIR: Lower Confidence Limit (2.5%)'].tail()"
   ]
  },
  {
   "cell_type": "code",
   "execution_count": 505,
   "metadata": {},
   "outputs": [
    {
     "data": {
      "text/plain": [
       "count              7626\n",
       "unique              191\n",
       "top       Not Available\n",
       "freq               2258\n",
       "Name: SIR: Lower Confidence Limit (2.5%), dtype: object"
      ]
     },
     "execution_count": 505,
     "metadata": {},
     "output_type": "execute_result"
    }
   ],
   "source": [
    "df['SIR: Lower Confidence Limit (2.5%)'].describe()"
   ]
  },
  {
   "cell_type": "code",
   "execution_count": 506,
   "metadata": {},
   "outputs": [
    {
     "data": {
      "text/plain": [
       "False    154\n",
       "True      37\n",
       "dtype: int64"
      ]
     },
     "execution_count": 506,
     "metadata": {},
     "output_type": "execute_result"
    }
   ],
   "source": [
    "# Percent unique values\n",
    "# True if facility has a value count of 1 (aka unique)\n",
    "pd.Series([facility == 1 for facility in df['SIR: Lower Confidence Limit (2.5%)'].value_counts()]).value_counts()"
   ]
  },
  {
   "cell_type": "code",
   "execution_count": 507,
   "metadata": {},
   "outputs": [
    {
     "data": {
      "text/plain": [
       "'.01'"
      ]
     },
     "execution_count": 507,
     "metadata": {},
     "output_type": "execute_result"
    }
   ],
   "source": [
    "df['SIR: Lower Confidence Limit (2.5%)'].min()"
   ]
  },
  {
   "cell_type": "code",
   "execution_count": 508,
   "metadata": {},
   "outputs": [
    {
     "data": {
      "text/plain": [
       "'Not Available'"
      ]
     },
     "execution_count": 508,
     "metadata": {},
     "output_type": "execute_result"
    }
   ],
   "source": [
    "df['SIR: Lower Confidence Limit (2.5%)'].max()"
   ]
  },
  {
   "cell_type": "code",
   "execution_count": 509,
   "metadata": {},
   "outputs": [
    {
     "data": {
      "text/plain": [
       "{1, 2, 3, 4, 13}"
      ]
     },
     "execution_count": 509,
     "metadata": {},
     "output_type": "execute_result"
    }
   ],
   "source": [
    "set([(len(str(num))) for num in df['SIR: Lower Confidence Limit (2.5%)']])"
   ]
  },
  {
   "cell_type": "markdown",
   "metadata": {},
   "source": [
    "### Transfusion Rate (Facility)\n",
    "Data type: object\n",
    "\n",
    "Value count: 7626\n",
    "\n",
    "Number of unique values: 718\n",
    "\n",
    "Percent unique values: 2.31%\n",
    "\n",
    "Ranges of values: 0 - \n",
    "\n",
    "Length of values: 1 - 5, 13\n",
    "\n",
    "Description: Lists the facility’s transfusion rate per 100 patient-years."
   ]
  },
  {
   "cell_type": "code",
   "execution_count": 510,
   "metadata": {},
   "outputs": [
    {
     "data": {
      "text/plain": [
       "0    32.2\n",
       "1    42.2\n",
       "2    31.9\n",
       "3      17\n",
       "4    12.8\n",
       "Name: Transfusion Rate (Facility), dtype: object"
      ]
     },
     "execution_count": 510,
     "metadata": {},
     "output_type": "execute_result"
    }
   ],
   "source": [
    "df['Transfusion Rate (Facility)'].head()"
   ]
  },
  {
   "cell_type": "code",
   "execution_count": 511,
   "metadata": {},
   "outputs": [
    {
     "data": {
      "text/plain": [
       "7621             43.9\n",
       "7622             27.1\n",
       "7623    Not Available\n",
       "7624               10\n",
       "7625             11.6\n",
       "Name: Transfusion Rate (Facility), dtype: object"
      ]
     },
     "execution_count": 511,
     "metadata": {},
     "output_type": "execute_result"
    }
   ],
   "source": [
    "df['Transfusion Rate (Facility)'].tail()"
   ]
  },
  {
   "cell_type": "code",
   "execution_count": 512,
   "metadata": {},
   "outputs": [
    {
     "data": {
      "text/plain": [
       "count              7626\n",
       "unique              718\n",
       "top       Not Available\n",
       "freq               1341\n",
       "Name: Transfusion Rate (Facility), dtype: object"
      ]
     },
     "execution_count": 512,
     "metadata": {},
     "output_type": "execute_result"
    }
   ],
   "source": [
    "df['Transfusion Rate (Facility)'].describe()"
   ]
  },
  {
   "cell_type": "code",
   "execution_count": 513,
   "metadata": {},
   "outputs": [
    {
     "data": {
      "text/plain": [
       "False    542\n",
       "True     176\n",
       "dtype: int64"
      ]
     },
     "execution_count": 513,
     "metadata": {},
     "output_type": "execute_result"
    }
   ],
   "source": [
    "# Percent unique values\n",
    "# True if facility has a value count of 1 (aka unique)\n",
    "pd.Series([facility == 1 for facility in df['Transfusion Rate (Facility)'].value_counts()]).value_counts()"
   ]
  },
  {
   "cell_type": "code",
   "execution_count": 514,
   "metadata": {},
   "outputs": [
    {
     "data": {
      "text/plain": [
       "'0'"
      ]
     },
     "execution_count": 514,
     "metadata": {},
     "output_type": "execute_result"
    }
   ],
   "source": [
    "df['Transfusion Rate (Facility)'].min()"
   ]
  },
  {
   "cell_type": "code",
   "execution_count": 515,
   "metadata": {},
   "outputs": [
    {
     "data": {
      "text/plain": [
       "'Not Available'"
      ]
     },
     "execution_count": 515,
     "metadata": {},
     "output_type": "execute_result"
    }
   ],
   "source": [
    "df['Transfusion Rate (Facility)'].max()"
   ]
  },
  {
   "cell_type": "code",
   "execution_count": 516,
   "metadata": {},
   "outputs": [
    {
     "data": {
      "text/plain": [
       "{1, 2, 3, 4, 5, 13}"
      ]
     },
     "execution_count": 516,
     "metadata": {},
     "output_type": "execute_result"
    }
   ],
   "source": [
    "set([(len(str(num))) for num in df['Transfusion Rate (Facility)']])"
   ]
  },
  {
   "cell_type": "markdown",
   "metadata": {},
   "source": [
    "### Transfusion Rate: Upper Confidence Limit (97.5%)\n",
    "Data type: object\n",
    "\n",
    "Value count: 7626\n",
    "\n",
    "Number of unique values: 1605\n",
    "\n",
    "Percent unique values: 4.51% \n",
    "\n",
    "Ranges of values: 100 - \n",
    "\n",
    "Length of values: 2 - 5, 13\n",
    "\n",
    "Description: Lists the upper confident limit (97.5%) for transfusion rate per 100 patient-years."
   ]
  },
  {
   "cell_type": "code",
   "execution_count": 517,
   "metadata": {},
   "outputs": [
    {
     "data": {
      "text/plain": [
       "0       93\n",
       "1     81.5\n",
       "2    142.7\n",
       "3    211.5\n",
       "4    170.8\n",
       "Name: Transfusion Rate: Upper Confidence Limit (97.5%), dtype: object"
      ]
     },
     "execution_count": 517,
     "metadata": {},
     "output_type": "execute_result"
    }
   ],
   "source": [
    "df['Transfusion Rate: Upper Confidence Limit (97.5%)'].head()"
   ]
  },
  {
   "cell_type": "code",
   "execution_count": 518,
   "metadata": {},
   "outputs": [
    {
     "data": {
      "text/plain": [
       "7621            121.6\n",
       "7622               92\n",
       "7623    Not Available\n",
       "7624               83\n",
       "7625             51.9\n",
       "Name: Transfusion Rate: Upper Confidence Limit (97.5%), dtype: object"
      ]
     },
     "execution_count": 518,
     "metadata": {},
     "output_type": "execute_result"
    }
   ],
   "source": [
    "df['Transfusion Rate: Upper Confidence Limit (97.5%)'].tail()"
   ]
  },
  {
   "cell_type": "code",
   "execution_count": 519,
   "metadata": {},
   "outputs": [
    {
     "data": {
      "text/plain": [
       "count              7626\n",
       "unique             1605\n",
       "top       Not Available\n",
       "freq               1341\n",
       "Name: Transfusion Rate: Upper Confidence Limit (97.5%), dtype: object"
      ]
     },
     "execution_count": 519,
     "metadata": {},
     "output_type": "execute_result"
    }
   ],
   "source": [
    "df['Transfusion Rate: Upper Confidence Limit (97.5%)'].describe()"
   ]
  },
  {
   "cell_type": "code",
   "execution_count": 520,
   "metadata": {},
   "outputs": [
    {
     "data": {
      "text/plain": [
       "False    1261\n",
       "True      344\n",
       "dtype: int64"
      ]
     },
     "execution_count": 520,
     "metadata": {},
     "output_type": "execute_result"
    }
   ],
   "source": [
    "# Percent unique values\n",
    "# True if facility has a value count of 1 (aka unique)\n",
    "pd.Series([facility == 1 for facility in df['Transfusion Rate: Upper Confidence Limit (97.5%)'].value_counts()]).value_counts()"
   ]
  },
  {
   "cell_type": "code",
   "execution_count": 521,
   "metadata": {},
   "outputs": [
    {
     "data": {
      "text/plain": [
       "'100'"
      ]
     },
     "execution_count": 521,
     "metadata": {},
     "output_type": "execute_result"
    }
   ],
   "source": [
    "df['Transfusion Rate: Upper Confidence Limit (97.5%)'].min()"
   ]
  },
  {
   "cell_type": "code",
   "execution_count": 522,
   "metadata": {},
   "outputs": [
    {
     "data": {
      "text/plain": [
       "'Not Available'"
      ]
     },
     "execution_count": 522,
     "metadata": {},
     "output_type": "execute_result"
    }
   ],
   "source": [
    "df['Transfusion Rate: Upper Confidence Limit (97.5%)'].max()"
   ]
  },
  {
   "cell_type": "code",
   "execution_count": 523,
   "metadata": {},
   "outputs": [
    {
     "data": {
      "text/plain": [
       "{2, 3, 4, 5, 13}"
      ]
     },
     "execution_count": 523,
     "metadata": {},
     "output_type": "execute_result"
    }
   ],
   "source": [
    "set([(len(str(num))) for num in df['Transfusion Rate: Upper Confidence Limit (97.5%)']])"
   ]
  },
  {
   "cell_type": "markdown",
   "metadata": {},
   "source": [
    "### Transfusion Rate: Lower Confidence Limit (2.5%)\n",
    "Data type: object\n",
    "\n",
    "Value count: 7626\n",
    "\n",
    "Number of unique values: 414\n",
    "\n",
    "Percent unique values: 1.18%\n",
    "\n",
    "Ranges of values: 0.1 - \n",
    "\n",
    "Length of values: 1 - 5, 13\n",
    "\n",
    "Description: Lists the lower confident limit (2.5%) for transfusion rate per 100 patient-years."
   ]
  },
  {
   "cell_type": "code",
   "execution_count": 524,
   "metadata": {},
   "outputs": [
    {
     "data": {
      "text/plain": [
       "0    13.1\n",
       "1    24.1\n",
       "2     8.9\n",
       "3     1.9\n",
       "4     1.4\n",
       "Name: Transfusion Rate: Lower Confidence Limit (2.5%), dtype: object"
      ]
     },
     "execution_count": 524,
     "metadata": {},
     "output_type": "execute_result"
    }
   ],
   "source": [
    "df['Transfusion Rate: Lower Confidence Limit (2.5%)'].head()"
   ]
  },
  {
   "cell_type": "code",
   "execution_count": 525,
   "metadata": {},
   "outputs": [
    {
     "data": {
      "text/plain": [
       "7621             18.5\n",
       "7622              9.6\n",
       "7623    Not Available\n",
       "7624              1.7\n",
       "7625              3.3\n",
       "Name: Transfusion Rate: Lower Confidence Limit (2.5%), dtype: object"
      ]
     },
     "execution_count": 525,
     "metadata": {},
     "output_type": "execute_result"
    }
   ],
   "source": [
    "df['Transfusion Rate: Lower Confidence Limit (2.5%)'].tail()"
   ]
  },
  {
   "cell_type": "code",
   "execution_count": 526,
   "metadata": {},
   "outputs": [
    {
     "data": {
      "text/plain": [
       "count              7626\n",
       "unique              414\n",
       "top       Not Available\n",
       "freq               1341\n",
       "Name: Transfusion Rate: Lower Confidence Limit (2.5%), dtype: object"
      ]
     },
     "execution_count": 526,
     "metadata": {},
     "output_type": "execute_result"
    }
   ],
   "source": [
    "df['Transfusion Rate: Lower Confidence Limit (2.5%)'].describe()"
   ]
  },
  {
   "cell_type": "code",
   "execution_count": 527,
   "metadata": {},
   "outputs": [
    {
     "data": {
      "text/plain": [
       "False    324\n",
       "True      90\n",
       "dtype: int64"
      ]
     },
     "execution_count": 527,
     "metadata": {},
     "output_type": "execute_result"
    }
   ],
   "source": [
    "# Percent unique values\n",
    "# True if facility has a value count of 1 (aka unique)\n",
    "pd.Series([facility == 1 for facility in df['Transfusion Rate: Lower Confidence Limit (2.5%)'].value_counts()]).value_counts()"
   ]
  },
  {
   "cell_type": "code",
   "execution_count": 528,
   "metadata": {},
   "outputs": [
    {
     "data": {
      "text/plain": [
       "'.1'"
      ]
     },
     "execution_count": 528,
     "metadata": {},
     "output_type": "execute_result"
    }
   ],
   "source": [
    "df['Transfusion Rate: Lower Confidence Limit (2.5%)'].min()"
   ]
  },
  {
   "cell_type": "code",
   "execution_count": 529,
   "metadata": {},
   "outputs": [
    {
     "data": {
      "text/plain": [
       "'Not Available'"
      ]
     },
     "execution_count": 529,
     "metadata": {},
     "output_type": "execute_result"
    }
   ],
   "source": [
    "df['Transfusion Rate: Lower Confidence Limit (2.5%)'].max()"
   ]
  },
  {
   "cell_type": "code",
   "execution_count": 530,
   "metadata": {},
   "outputs": [
    {
     "data": {
      "text/plain": [
       "{1, 2, 3, 4, 5, 13}"
      ]
     },
     "execution_count": 530,
     "metadata": {},
     "output_type": "execute_result"
    }
   ],
   "source": [
    "set([(len(str(num))) for num in df['Transfusion Rate: Lower Confidence Limit (2.5%)']])"
   ]
  },
  {
   "cell_type": "markdown",
   "metadata": {},
   "source": [
    "### Fistula data availability code\n",
    "Data type: int64\n",
    "\n",
    "Value count: 7626\n",
    "\n",
    "Number of unique values: 5\n",
    "\n",
    "Percent unique values: 0%\n",
    "\n",
    "Ranges of values: 1, 199, 201, 256, 258\n",
    "\n",
    "Length of values: 1, 3\n",
    "\n",
    "Description: Lists whether the facility had sufficient fistula data available or the reason for why the data is not available. The best type of long-term access is an AV fistula. A surgeon connects an artery to a vein, usually in your arm, to create an AV fistula. An artery is a blood vessel that carries blood away from your heart. A vein is a blood vessel that carries blood back toward your heart. When the surgeon connects an artery to a vein, the vein grows wider and thicker, making it easier to place the needles for dialysis. The AV fistula also has a large diameter that allows your blood to flow out and back into your body quickly. The goal is to allow high blood flow so that the largest amount of blood can pass through the dialyzer.\n",
    "\n",
    "Value description: \n",
    "- 1   : N/A\n",
    "- 199 : Not enough patients to report on this measure. Call the dialysis center to discuss this measure.\n",
    "- 201 : Data not reported. Call the dialysis center to discuss this quality measure.\n",
    "- 256 : The dialysis center does not provide hemodialysis during the reporting period. \n",
    "- 258 : The dialysis center was not open long enough to supply sufficient measure data. "
   ]
  },
  {
   "cell_type": "code",
   "execution_count": 531,
   "metadata": {},
   "outputs": [
    {
     "data": {
      "text/plain": [
       "0    1\n",
       "1    1\n",
       "2    1\n",
       "3    1\n",
       "4    1\n",
       "Name: Fistula data availability code, dtype: int64"
      ]
     },
     "execution_count": 531,
     "metadata": {},
     "output_type": "execute_result"
    }
   ],
   "source": [
    "df['Fistula data availability code'].head()"
   ]
  },
  {
   "cell_type": "code",
   "execution_count": 532,
   "metadata": {},
   "outputs": [
    {
     "data": {
      "text/plain": [
       "7621      1\n",
       "7622      1\n",
       "7623    258\n",
       "7624      1\n",
       "7625      1\n",
       "Name: Fistula data availability code, dtype: int64"
      ]
     },
     "execution_count": 532,
     "metadata": {},
     "output_type": "execute_result"
    }
   ],
   "source": [
    "df['Fistula data availability code'].tail()"
   ]
  },
  {
   "cell_type": "code",
   "execution_count": 533,
   "metadata": {},
   "outputs": [
    {
     "data": {
      "text/plain": [
       "7626"
      ]
     },
     "execution_count": 533,
     "metadata": {},
     "output_type": "execute_result"
    }
   ],
   "source": [
    "df['Fistula data availability code'].count()"
   ]
  },
  {
   "cell_type": "code",
   "execution_count": 534,
   "metadata": {},
   "outputs": [
    {
     "data": {
      "text/plain": [
       "1      6915\n",
       "258     284\n",
       "199     262\n",
       "256     110\n",
       "201      55\n",
       "Name: Fistula data availability code, dtype: int64"
      ]
     },
     "execution_count": 534,
     "metadata": {},
     "output_type": "execute_result"
    }
   ],
   "source": [
    "df['Fistula data availability code'].value_counts()"
   ]
  },
  {
   "cell_type": "markdown",
   "metadata": {},
   "source": [
    "### Fistula Category Text\n",
    "Data type: object\n",
    "\n",
    "Value count: 7626\n",
    "\n",
    "Number of unique values: 4\n",
    "\n",
    "Percent unique values: 0%\n",
    "\n",
    "Ranges of values: As Expected, Worse than Expected, Better than Expected, Not Available\n",
    "\n",
    "Length of values: 11, 13, 19, 20\n",
    "\n",
    "Description: Fistula category. The best type of long-term access is an AV fistula. A surgeon connects an artery to a vein, usually in your arm, to create an AV fistula. An artery is a blood vessel that carries blood away from your heart. A vein is a blood vessel that carries blood back toward your heart. When the surgeon connects an artery to a vein, the vein grows wider and thicker, making it easier to place the needles for dialysis. The AV fistula also has a large diameter that allows your blood to flow out and back into your body quickly. The goal is to allow high blood flow so that the largest amount of blood can pass through the dialyzer.\n",
    "\n",
    "Value description:\n",
    "- As Expected          : Patient fistulas categorized as “As Expected”       \n",
    "- Worse than Expected  :  Patient fistulas categorized as “Worse than Expected”\n",
    "- Better than Expected : Patient fistulas categorized as “Better than Expected\"\n",
    "- Not Available "
   ]
  },
  {
   "cell_type": "code",
   "execution_count": 535,
   "metadata": {},
   "outputs": [
    {
     "data": {
      "text/plain": [
       "0    As Expected\n",
       "1    As Expected\n",
       "2    As Expected\n",
       "3    As Expected\n",
       "4    As Expected\n",
       "Name: Fistula Category Text, dtype: object"
      ]
     },
     "execution_count": 535,
     "metadata": {},
     "output_type": "execute_result"
    }
   ],
   "source": [
    "df['Fistula Category Text'].head()"
   ]
  },
  {
   "cell_type": "code",
   "execution_count": 536,
   "metadata": {},
   "outputs": [
    {
     "data": {
      "text/plain": [
       "7621      As Expected\n",
       "7622      As Expected\n",
       "7623    Not Available\n",
       "7624      As Expected\n",
       "7625      As Expected\n",
       "Name: Fistula Category Text, dtype: object"
      ]
     },
     "execution_count": 536,
     "metadata": {},
     "output_type": "execute_result"
    }
   ],
   "source": [
    "df['Fistula Category Text'].tail()"
   ]
  },
  {
   "cell_type": "code",
   "execution_count": 537,
   "metadata": {},
   "outputs": [
    {
     "data": {
      "text/plain": [
       "7626"
      ]
     },
     "execution_count": 537,
     "metadata": {},
     "output_type": "execute_result"
    }
   ],
   "source": [
    "df['Fistula Category Text'].count()"
   ]
  },
  {
   "cell_type": "code",
   "execution_count": 538,
   "metadata": {},
   "outputs": [
    {
     "data": {
      "text/plain": [
       "As Expected             6423\n",
       "Not Available            711\n",
       "Better than Expected     278\n",
       "Worse than Expected      214\n",
       "Name: Fistula Category Text, dtype: int64"
      ]
     },
     "execution_count": 538,
     "metadata": {},
     "output_type": "execute_result"
    }
   ],
   "source": [
    "df['Fistula Category Text'].value_counts()"
   ]
  },
  {
   "cell_type": "code",
   "execution_count": 539,
   "metadata": {},
   "outputs": [
    {
     "data": {
      "text/plain": [
       "{11, 13, 19, 20}"
      ]
     },
     "execution_count": 539,
     "metadata": {},
     "output_type": "execute_result"
    }
   ],
   "source": [
    "set([(len(str(num))) for num in df['Fistula Category Text']])"
   ]
  },
  {
   "cell_type": "markdown",
   "metadata": {},
   "source": [
    "### Number of Patients included in fistula summary\n",
    "Data type: object\n",
    "\n",
    "Value count: 7626\n",
    "\n",
    "Number of unique values: 293\n",
    "\n",
    "Percent unique values: 0.564%\n",
    "\n",
    "Ranges of values: 0 - \n",
    "\n",
    "Length of values: 1 - 3, 13\n",
    "\n",
    "Description: Lists the number of patients included in the facility’s fistula summary. The best type of long-term access is an AV fistula. A surgeon connects an artery to a vein, usually in your arm, to create an AV fistula. An artery is a blood vessel that carries blood away from your heart. A vein is a blood vessel that carries blood back toward your heart. When the surgeon connects an artery to a vein, the vein grows wider and thicker, making it easier to place the needles for dialysis. The AV fistula also has a large diameter that allows your blood to flow out and back into your body quickly. The goal is to allow high blood flow so that the largest amount of blood can pass through the dialyzer."
   ]
  },
  {
   "cell_type": "code",
   "execution_count": 540,
   "metadata": {},
   "outputs": [
    {
     "data": {
      "text/plain": [
       "0     91\n",
       "1    229\n",
       "2     38\n",
       "3     29\n",
       "4     51\n",
       "Name: Number of Patients included in fistula summary, dtype: object"
      ]
     },
     "execution_count": 540,
     "metadata": {},
     "output_type": "execute_result"
    }
   ],
   "source": [
    "df['Number of Patients included in fistula summary'].head()"
   ]
  },
  {
   "cell_type": "code",
   "execution_count": 541,
   "metadata": {},
   "outputs": [
    {
     "data": {
      "text/plain": [
       "7621              105\n",
       "7622               99\n",
       "7623    Not Available\n",
       "7624               61\n",
       "7625              124\n",
       "Name: Number of Patients included in fistula summary, dtype: object"
      ]
     },
     "execution_count": 541,
     "metadata": {},
     "output_type": "execute_result"
    }
   ],
   "source": [
    "df['Number of Patients included in fistula summary'].tail()"
   ]
  },
  {
   "cell_type": "code",
   "execution_count": 542,
   "metadata": {},
   "outputs": [
    {
     "data": {
      "text/plain": [
       "count     7626\n",
       "unique     293\n",
       "top          0\n",
       "freq       257\n",
       "Name: Number of Patients included in fistula summary, dtype: object"
      ]
     },
     "execution_count": 542,
     "metadata": {},
     "output_type": "execute_result"
    }
   ],
   "source": [
    "df['Number of Patients included in fistula summary'].describe()"
   ]
  },
  {
   "cell_type": "code",
   "execution_count": 543,
   "metadata": {},
   "outputs": [
    {
     "data": {
      "text/plain": [
       "False    250\n",
       "True      43\n",
       "dtype: int64"
      ]
     },
     "execution_count": 543,
     "metadata": {},
     "output_type": "execute_result"
    }
   ],
   "source": [
    "# Percent unique values\n",
    "# True if facility has a value count of 1 (aka unique)\n",
    "pd.Series([facility == 1 for facility in df['Number of Patients included in fistula summary'].value_counts()]).value_counts()"
   ]
  },
  {
   "cell_type": "code",
   "execution_count": 544,
   "metadata": {},
   "outputs": [
    {
     "data": {
      "text/plain": [
       "'0'"
      ]
     },
     "execution_count": 544,
     "metadata": {},
     "output_type": "execute_result"
    }
   ],
   "source": [
    "df['Number of Patients included in fistula summary'].min()"
   ]
  },
  {
   "cell_type": "code",
   "execution_count": 545,
   "metadata": {},
   "outputs": [
    {
     "data": {
      "text/plain": [
       "'Not Available'"
      ]
     },
     "execution_count": 545,
     "metadata": {},
     "output_type": "execute_result"
    }
   ],
   "source": [
    "df['Number of Patients included in fistula summary'].max()"
   ]
  },
  {
   "cell_type": "code",
   "execution_count": 546,
   "metadata": {},
   "outputs": [
    {
     "data": {
      "text/plain": [
       "{1, 2, 3, 13}"
      ]
     },
     "execution_count": 546,
     "metadata": {},
     "output_type": "execute_result"
    }
   ],
   "source": [
    "set([(len(str(num))) for num in df['Number of Patients included in fistula summary']])"
   ]
  },
  {
   "cell_type": "markdown",
   "metadata": {},
   "source": [
    "### Fistula Rate (Facility)\n",
    "Data type: object\n",
    "\n",
    "Value count: 7626\n",
    "\n",
    "Number of unique values: 588\n",
    "\n",
    "Percent unique values: 1.17%\n",
    "\n",
    "Ranges of values: 0 - \n",
    "\n",
    "Length of values: 1 - 4, 13\n",
    "\n",
    "Description: Lists the facility’s fistula rate per 100 patient-years. The best type of long-term access is an AV fistula. A surgeon connects an artery to a vein, usually in your arm, to create an AV fistula. An artery is a blood vessel that carries blood away from your heart. A vein is a blood vessel that carries blood back toward your heart. When the surgeon connects an artery to a vein, the vein grows wider and thicker, making it easier to place the needles for dialysis. The AV fistula also has a large diameter that allows your blood to flow out and back into your body quickly. The goal is to allow high blood flow so that the largest amount of blood can pass through the dialyzer."
   ]
  },
  {
   "cell_type": "code",
   "execution_count": 547,
   "metadata": {},
   "outputs": [
    {
     "data": {
      "text/plain": [
       "0    52.9\n",
       "1    68.2\n",
       "2    59.3\n",
       "3    57.2\n",
       "4    57.1\n",
       "Name: Fistula Rate (Facility), dtype: object"
      ]
     },
     "execution_count": 547,
     "metadata": {},
     "output_type": "execute_result"
    }
   ],
   "source": [
    "df['Fistula Rate (Facility)'].head()"
   ]
  },
  {
   "cell_type": "code",
   "execution_count": 548,
   "metadata": {},
   "outputs": [
    {
     "data": {
      "text/plain": [
       "7621             72.8\n",
       "7622             57.5\n",
       "7623    Not Available\n",
       "7624             49.5\n",
       "7625             61.5\n",
       "Name: Fistula Rate (Facility), dtype: object"
      ]
     },
     "execution_count": 548,
     "metadata": {},
     "output_type": "execute_result"
    }
   ],
   "source": [
    "df['Fistula Rate (Facility)'].tail()"
   ]
  },
  {
   "cell_type": "code",
   "execution_count": 549,
   "metadata": {},
   "outputs": [
    {
     "data": {
      "text/plain": [
       "count              7626\n",
       "unique              588\n",
       "top       Not Available\n",
       "freq                711\n",
       "Name: Fistula Rate (Facility), dtype: object"
      ]
     },
     "execution_count": 549,
     "metadata": {},
     "output_type": "execute_result"
    }
   ],
   "source": [
    "df['Fistula Rate (Facility)'].describe()"
   ]
  },
  {
   "cell_type": "code",
   "execution_count": 550,
   "metadata": {},
   "outputs": [
    {
     "data": {
      "text/plain": [
       "False    499\n",
       "True      89\n",
       "dtype: int64"
      ]
     },
     "execution_count": 550,
     "metadata": {},
     "output_type": "execute_result"
    }
   ],
   "source": [
    "# Percent unique values\n",
    "# True if facility has a value count of 1 (aka unique)\n",
    "pd.Series([facility == 1 for facility in df['Fistula Rate (Facility)'].value_counts()]).value_counts()"
   ]
  },
  {
   "cell_type": "code",
   "execution_count": 551,
   "metadata": {},
   "outputs": [
    {
     "data": {
      "text/plain": [
       "'0'"
      ]
     },
     "execution_count": 551,
     "metadata": {},
     "output_type": "execute_result"
    }
   ],
   "source": [
    "df['Fistula Rate (Facility)'].min()"
   ]
  },
  {
   "cell_type": "code",
   "execution_count": 552,
   "metadata": {},
   "outputs": [
    {
     "data": {
      "text/plain": [
       "'Not Available'"
      ]
     },
     "execution_count": 552,
     "metadata": {},
     "output_type": "execute_result"
    }
   ],
   "source": [
    "df['Fistula Rate (Facility)'].max()"
   ]
  },
  {
   "cell_type": "code",
   "execution_count": 553,
   "metadata": {},
   "outputs": [
    {
     "data": {
      "text/plain": [
       "{1, 2, 3, 4, 13}"
      ]
     },
     "execution_count": 553,
     "metadata": {},
     "output_type": "execute_result"
    }
   ],
   "source": [
    "set([(len(str(num))) for num in df['Fistula Rate (Facility)']])"
   ]
  },
  {
   "cell_type": "markdown",
   "metadata": {},
   "source": [
    "### Fistula Rate: Upper Confidence Limit (97.5%)\n",
    "Data type: object\n",
    "\n",
    "Value count: 7626\n",
    "\n",
    "Number of unique values: 488\n",
    "\n",
    "Percent unique values: 0.905%\n",
    "\n",
    "Ranges of values: 0 - \n",
    "\n",
    "Length of values: 1 - 4, 13\n",
    "\n",
    "Description: Lists the upper confident limit (97.5%) for fistula rate per 100 patient-years. The best type of long-term access is an AV fistula. A surgeon connects an artery to a vein, usually in your arm, to create an AV fistula. An artery is a blood vessel that carries blood away from your heart. A vein is a blood vessel that carries blood back toward your heart. When the surgeon connects an artery to a vein, the vein grows wider and thicker, making it easier to place the needles for dialysis. The AV fistula also has a large diameter that allows your blood to flow out and back into your body quickly. The goal is to allow high blood flow so that the largest amount of blood can pass through the dialyzer."
   ]
  },
  {
   "cell_type": "code",
   "execution_count": 554,
   "metadata": {},
   "outputs": [
    {
     "data": {
      "text/plain": [
       "0    72.7\n",
       "1    78.3\n",
       "2    79.6\n",
       "3    90.1\n",
       "4    83.5\n",
       "Name: Fistula Rate: Upper Confidence Limit (97.5%), dtype: object"
      ]
     },
     "execution_count": 554,
     "metadata": {},
     "output_type": "execute_result"
    }
   ],
   "source": [
    "df['Fistula Rate: Upper Confidence Limit (97.5%)'].head()"
   ]
  },
  {
   "cell_type": "code",
   "execution_count": 555,
   "metadata": {},
   "outputs": [
    {
     "data": {
      "text/plain": [
       "7621             89.1\n",
       "7622             75.5\n",
       "7623    Not Available\n",
       "7624             74.8\n",
       "7625             77.4\n",
       "Name: Fistula Rate: Upper Confidence Limit (97.5%), dtype: object"
      ]
     },
     "execution_count": 555,
     "metadata": {},
     "output_type": "execute_result"
    }
   ],
   "source": [
    "df['Fistula Rate: Upper Confidence Limit (97.5%)'].tail()"
   ]
  },
  {
   "cell_type": "code",
   "execution_count": 556,
   "metadata": {},
   "outputs": [
    {
     "data": {
      "text/plain": [
       "count              7626\n",
       "unique              488\n",
       "top       Not Available\n",
       "freq                711\n",
       "Name: Fistula Rate: Upper Confidence Limit (97.5%), dtype: object"
      ]
     },
     "execution_count": 556,
     "metadata": {},
     "output_type": "execute_result"
    }
   ],
   "source": [
    "df['Fistula Rate: Upper Confidence Limit (97.5%)'].describe()"
   ]
  },
  {
   "cell_type": "code",
   "execution_count": 557,
   "metadata": {},
   "outputs": [
    {
     "data": {
      "text/plain": [
       "False    419\n",
       "True      69\n",
       "dtype: int64"
      ]
     },
     "execution_count": 557,
     "metadata": {},
     "output_type": "execute_result"
    }
   ],
   "source": [
    "# Percent unique values\n",
    "# True if facility has a value count of 1 (aka unique)\n",
    "pd.Series([facility == 1 for facility in df['Fistula Rate: Upper Confidence Limit (97.5%)'].value_counts()]).value_counts()"
   ]
  },
  {
   "cell_type": "code",
   "execution_count": 558,
   "metadata": {},
   "outputs": [
    {
     "data": {
      "text/plain": [
       "'0'"
      ]
     },
     "execution_count": 558,
     "metadata": {},
     "output_type": "execute_result"
    }
   ],
   "source": [
    "df['Fistula Rate: Upper Confidence Limit (97.5%)'].min()"
   ]
  },
  {
   "cell_type": "code",
   "execution_count": 559,
   "metadata": {},
   "outputs": [
    {
     "data": {
      "text/plain": [
       "'Not Available'"
      ]
     },
     "execution_count": 559,
     "metadata": {},
     "output_type": "execute_result"
    }
   ],
   "source": [
    "df['Fistula Rate: Upper Confidence Limit (97.5%)'].max()"
   ]
  },
  {
   "cell_type": "code",
   "execution_count": 560,
   "metadata": {},
   "outputs": [
    {
     "data": {
      "text/plain": [
       "{1, 2, 3, 4, 13}"
      ]
     },
     "execution_count": 560,
     "metadata": {},
     "output_type": "execute_result"
    }
   ],
   "source": [
    "set([(len(str(num))) for num in df['Fistula Rate: Upper Confidence Limit (97.5%)']])"
   ]
  },
  {
   "cell_type": "markdown",
   "metadata": {},
   "source": [
    "### Fistula Rate: Lower Confidence Limit (2.5%)\n",
    "Data type: object\n",
    "\n",
    "Value count: 7626\n",
    "\n",
    "Number of unique values: 728\n",
    "\n",
    "Percent unique values: 1.31%\n",
    "\n",
    "Ranges of values: 0.1 - \n",
    "\n",
    "Length of values: 1 - 4, 13\n",
    "\n",
    "Description: Lists the lower confident limit (2.5%) for fistula rate per 100 patient-years. The best type of long-term access is an AV fistula. A surgeon connects an artery to a vein, usually in your arm, to create an AV fistula. An artery is a blood vessel that carries blood away from your heart. A vein is a blood vessel that carries blood back toward your heart. When the surgeon connects an artery to a vein, the vein grows wider and thicker, making it easier to place the needles for dialysis. The AV fistula also has a large diameter that allows your blood to flow out and back into your body quickly. The goal is to allow high blood flow so that the largest amount of blood can pass through the dialyzer."
   ]
  },
  {
   "cell_type": "code",
   "execution_count": 561,
   "metadata": {},
   "outputs": [
    {
     "data": {
      "text/plain": [
       "0    31.7\n",
       "1    57.3\n",
       "2    37.4\n",
       "3    21.8\n",
       "4    28.7\n",
       "Name: Fistula Rate: Lower Confidence Limit (2.5%), dtype: object"
      ]
     },
     "execution_count": 561,
     "metadata": {},
     "output_type": "execute_result"
    }
   ],
   "source": [
    "df['Fistula Rate: Lower Confidence Limit (2.5%)'].head()"
   ]
  },
  {
   "cell_type": "code",
   "execution_count": 562,
   "metadata": {},
   "outputs": [
    {
     "data": {
      "text/plain": [
       "7621             55.4\n",
       "7622             38.2\n",
       "7623    Not Available\n",
       "7624             22.3\n",
       "7625             44.4\n",
       "Name: Fistula Rate: Lower Confidence Limit (2.5%), dtype: object"
      ]
     },
     "execution_count": 562,
     "metadata": {},
     "output_type": "execute_result"
    }
   ],
   "source": [
    "df['Fistula Rate: Lower Confidence Limit (2.5%)'].tail()"
   ]
  },
  {
   "cell_type": "code",
   "execution_count": 563,
   "metadata": {},
   "outputs": [
    {
     "data": {
      "text/plain": [
       "count              7626\n",
       "unique              728\n",
       "top       Not Available\n",
       "freq                711\n",
       "Name: Fistula Rate: Lower Confidence Limit (2.5%), dtype: object"
      ]
     },
     "execution_count": 563,
     "metadata": {},
     "output_type": "execute_result"
    }
   ],
   "source": [
    "df['Fistula Rate: Lower Confidence Limit (2.5%)'].describe()"
   ]
  },
  {
   "cell_type": "code",
   "execution_count": 564,
   "metadata": {},
   "outputs": [
    {
     "data": {
      "text/plain": [
       "False    628\n",
       "True     100\n",
       "dtype: int64"
      ]
     },
     "execution_count": 564,
     "metadata": {},
     "output_type": "execute_result"
    }
   ],
   "source": [
    "# Percent unique values\n",
    "# True if facility has a value count of 1 (aka unique)\n",
    "pd.Series([facility == 1 for facility in df['Fistula Rate: Lower Confidence Limit (2.5%)'].value_counts()]).value_counts()"
   ]
  },
  {
   "cell_type": "code",
   "execution_count": 565,
   "metadata": {},
   "outputs": [
    {
     "data": {
      "text/plain": [
       "'.1'"
      ]
     },
     "execution_count": 565,
     "metadata": {},
     "output_type": "execute_result"
    }
   ],
   "source": [
    "df['Fistula Rate: Lower Confidence Limit (2.5%)'].min()"
   ]
  },
  {
   "cell_type": "code",
   "execution_count": 566,
   "metadata": {},
   "outputs": [
    {
     "data": {
      "text/plain": [
       "'Not Available'"
      ]
     },
     "execution_count": 566,
     "metadata": {},
     "output_type": "execute_result"
    }
   ],
   "source": [
    "df['Fistula Rate: Lower Confidence Limit (2.5%)'].max()"
   ]
  },
  {
   "cell_type": "code",
   "execution_count": 567,
   "metadata": {},
   "outputs": [
    {
     "data": {
      "text/plain": [
       "{1, 2, 3, 4, 13}"
      ]
     },
     "execution_count": 567,
     "metadata": {},
     "output_type": "execute_result"
    }
   ],
   "source": [
    "set([(len(str(num))) for num in df['Fistula Rate: Lower Confidence Limit (2.5%)']])"
   ]
  },
  {
   "cell_type": "markdown",
   "metadata": {},
   "source": [
    "### Number of patients in long term catheter summary\n",
    "Data type: object\n",
    "\n",
    "Value count: 7626\n",
    "\n",
    "Number of unique values: 293\n",
    "\n",
    "Percent unique values: 0.564%\n",
    "\n",
    "Ranges of values: 0 - \n",
    "\n",
    "Length of values: 1 - 3, 13\n",
    "\n",
    "Description: Lists the number of patients included in the facility’s long term catheter summary. "
   ]
  },
  {
   "cell_type": "code",
   "execution_count": 568,
   "metadata": {},
   "outputs": [
    {
     "data": {
      "text/plain": [
       "0     91\n",
       "1    229\n",
       "2     38\n",
       "3     29\n",
       "4     51\n",
       "Name: Number of patients in long term catheter summary, dtype: object"
      ]
     },
     "execution_count": 568,
     "metadata": {},
     "output_type": "execute_result"
    }
   ],
   "source": [
    "df['Number of patients in long term catheter summary'].head()"
   ]
  },
  {
   "cell_type": "code",
   "execution_count": 569,
   "metadata": {},
   "outputs": [
    {
     "data": {
      "text/plain": [
       "7621              105\n",
       "7622               99\n",
       "7623    Not Available\n",
       "7624               61\n",
       "7625              124\n",
       "Name: Number of patients in long term catheter summary, dtype: object"
      ]
     },
     "execution_count": 569,
     "metadata": {},
     "output_type": "execute_result"
    }
   ],
   "source": [
    "df['Number of patients in long term catheter summary'].tail()"
   ]
  },
  {
   "cell_type": "code",
   "execution_count": 570,
   "metadata": {},
   "outputs": [
    {
     "data": {
      "text/plain": [
       "count     7626\n",
       "unique     293\n",
       "top          0\n",
       "freq       257\n",
       "Name: Number of patients in long term catheter summary, dtype: object"
      ]
     },
     "execution_count": 570,
     "metadata": {},
     "output_type": "execute_result"
    }
   ],
   "source": [
    "df['Number of patients in long term catheter summary'].describe()"
   ]
  },
  {
   "cell_type": "code",
   "execution_count": 571,
   "metadata": {},
   "outputs": [
    {
     "data": {
      "text/plain": [
       "False    250\n",
       "True      43\n",
       "dtype: int64"
      ]
     },
     "execution_count": 571,
     "metadata": {},
     "output_type": "execute_result"
    }
   ],
   "source": [
    "# Percent unique values\n",
    "# True if facility has a value count of 1 (aka unique)\n",
    "pd.Series([facility == 1 for facility in df['Number of patients in long term catheter summary'].value_counts()]).value_counts()"
   ]
  },
  {
   "cell_type": "code",
   "execution_count": 572,
   "metadata": {},
   "outputs": [
    {
     "data": {
      "text/plain": [
       "'0'"
      ]
     },
     "execution_count": 572,
     "metadata": {},
     "output_type": "execute_result"
    }
   ],
   "source": [
    "df['Number of patients in long term catheter summary'].min()"
   ]
  },
  {
   "cell_type": "code",
   "execution_count": 573,
   "metadata": {},
   "outputs": [
    {
     "data": {
      "text/plain": [
       "'Not Available'"
      ]
     },
     "execution_count": 573,
     "metadata": {},
     "output_type": "execute_result"
    }
   ],
   "source": [
    "df['Number of patients in long term catheter summary'].max()"
   ]
  },
  {
   "cell_type": "code",
   "execution_count": 574,
   "metadata": {},
   "outputs": [
    {
     "data": {
      "text/plain": [
       "{1, 2, 3, 13}"
      ]
     },
     "execution_count": 574,
     "metadata": {},
     "output_type": "execute_result"
    }
   ],
   "source": [
    "set([(len(str(num))) for num in df['Number of patients in long term catheter summary']])"
   ]
  },
  {
   "cell_type": "markdown",
   "metadata": {},
   "source": [
    "### Number of patient months in long term catheter summary\n",
    "Data type: object\n",
    "\n",
    "Value count: 7626\n",
    "\n",
    "Number of unique values: 1781\n",
    "\n",
    "Percent unique values: 5.55%\n",
    "\n",
    "Ranges of values: 1 - \n",
    "\n",
    "Length of values: 1 - 4, 13\n",
    "\n",
    "Description: Lists the number of patient-months included in the facility’s long term catheter summary. "
   ]
  },
  {
   "cell_type": "code",
   "execution_count": 575,
   "metadata": {},
   "outputs": [
    {
     "data": {
      "text/plain": [
       "0     769\n",
       "1    2110\n",
       "2     335\n",
       "3     267\n",
       "4     409\n",
       "Name: Number of patient months in long term catheter summary, dtype: object"
      ]
     },
     "execution_count": 575,
     "metadata": {},
     "output_type": "execute_result"
    }
   ],
   "source": [
    "df['Number of patient months in long term catheter summary'].head()"
   ]
  },
  {
   "cell_type": "code",
   "execution_count": 576,
   "metadata": {},
   "outputs": [
    {
     "data": {
      "text/plain": [
       "7621              868\n",
       "7622              844\n",
       "7623    Not Available\n",
       "7624              435\n",
       "7625             1058\n",
       "Name: Number of patient months in long term catheter summary, dtype: object"
      ]
     },
     "execution_count": 576,
     "metadata": {},
     "output_type": "execute_result"
    }
   ],
   "source": [
    "df['Number of patient months in long term catheter summary'].tail()"
   ]
  },
  {
   "cell_type": "code",
   "execution_count": 577,
   "metadata": {},
   "outputs": [
    {
     "data": {
      "text/plain": [
       "count              7626\n",
       "unique             1781\n",
       "top       Not Available\n",
       "freq                328\n",
       "Name: Number of patient months in long term catheter summary, dtype: object"
      ]
     },
     "execution_count": 577,
     "metadata": {},
     "output_type": "execute_result"
    }
   ],
   "source": [
    "df['Number of patient months in long term catheter summary'].describe()"
   ]
  },
  {
   "cell_type": "code",
   "execution_count": 578,
   "metadata": {},
   "outputs": [
    {
     "data": {
      "text/plain": [
       "False    1358\n",
       "True      423\n",
       "dtype: int64"
      ]
     },
     "execution_count": 578,
     "metadata": {},
     "output_type": "execute_result"
    }
   ],
   "source": [
    "# Percent unique values\n",
    "# True if facility has a value count of 1 (aka unique)\n",
    "pd.Series([facility == 1 for facility in df['Number of patient months in long term catheter summary'].value_counts()]).value_counts()"
   ]
  },
  {
   "cell_type": "code",
   "execution_count": 579,
   "metadata": {},
   "outputs": [
    {
     "data": {
      "text/plain": [
       "'1'"
      ]
     },
     "execution_count": 579,
     "metadata": {},
     "output_type": "execute_result"
    }
   ],
   "source": [
    "df['Number of patient months in long term catheter summary'].min()"
   ]
  },
  {
   "cell_type": "code",
   "execution_count": 580,
   "metadata": {},
   "outputs": [
    {
     "data": {
      "text/plain": [
       "'Not Available'"
      ]
     },
     "execution_count": 580,
     "metadata": {},
     "output_type": "execute_result"
    }
   ],
   "source": [
    "df['Number of patient months in long term catheter summary'].max()"
   ]
  },
  {
   "cell_type": "code",
   "execution_count": 581,
   "metadata": {},
   "outputs": [
    {
     "data": {
      "text/plain": [
       "{1, 2, 3, 4, 13}"
      ]
     },
     "execution_count": 581,
     "metadata": {},
     "output_type": "execute_result"
    }
   ],
   "source": [
    "set([(len(str(num))) for num in df['Number of patient months in long term catheter summary']])"
   ]
  },
  {
   "cell_type": "markdown",
   "metadata": {},
   "source": [
    "### Long term catheter Data Availability Code\n",
    "Data type: int64\n",
    "\n",
    "Value count: 7626\n",
    "\n",
    "Number of unique values: 5\n",
    "\n",
    "Percent unique values: 0%\n",
    "\n",
    "Ranges of values: 1, 199, 201, 256, 258\n",
    "\n",
    "Length of values: 1, 3\n",
    "\n",
    "Description: Lists whether the facility had sufficient long term catheter data available or the reason for why the data is not available."
   ]
  },
  {
   "cell_type": "code",
   "execution_count": 582,
   "metadata": {},
   "outputs": [
    {
     "data": {
      "text/plain": [
       "0    1\n",
       "1    1\n",
       "2    1\n",
       "3    1\n",
       "4    1\n",
       "Name: Long term catheter Data Availability Code, dtype: int64"
      ]
     },
     "execution_count": 582,
     "metadata": {},
     "output_type": "execute_result"
    }
   ],
   "source": [
    "df['Long term catheter Data Availability Code'].head()"
   ]
  },
  {
   "cell_type": "code",
   "execution_count": 583,
   "metadata": {},
   "outputs": [
    {
     "data": {
      "text/plain": [
       "7621      1\n",
       "7622      1\n",
       "7623    258\n",
       "7624      1\n",
       "7625      1\n",
       "Name: Long term catheter Data Availability Code, dtype: int64"
      ]
     },
     "execution_count": 583,
     "metadata": {},
     "output_type": "execute_result"
    }
   ],
   "source": [
    "df['Long term catheter Data Availability Code'].tail()"
   ]
  },
  {
   "cell_type": "code",
   "execution_count": 584,
   "metadata": {},
   "outputs": [
    {
     "data": {
      "text/plain": [
       "7626"
      ]
     },
     "execution_count": 584,
     "metadata": {},
     "output_type": "execute_result"
    }
   ],
   "source": [
    "df['Long term catheter Data Availability Code'].count()"
   ]
  },
  {
   "cell_type": "code",
   "execution_count": 585,
   "metadata": {},
   "outputs": [
    {
     "data": {
      "text/plain": [
       "1      6915\n",
       "199     262\n",
       "258     192\n",
       "201     129\n",
       "256     128\n",
       "Name: Long term catheter Data Availability Code, dtype: int64"
      ]
     },
     "execution_count": 585,
     "metadata": {},
     "output_type": "execute_result"
    }
   ],
   "source": [
    "df['Long term catheter Data Availability Code'].value_counts()"
   ]
  },
  {
   "cell_type": "markdown",
   "metadata": {},
   "source": [
    "### Percentage of Adult patients with long term catheter in use\n",
    "Data type: object\n",
    "\n",
    "Value count: 7626\n",
    "\n",
    "Number of unique values: 68\n",
    "\n",
    "Percent unique values: 0.210%\n",
    "\n",
    "Ranges of values: 0 - \n",
    "\n",
    "Length of values: 1, 2, 13\n",
    "\n",
    "Description: Lists the percentage of adult patients with long term catheter in use."
   ]
  },
  {
   "cell_type": "code",
   "execution_count": 586,
   "metadata": {},
   "outputs": [
    {
     "data": {
      "text/plain": [
       "0    25\n",
       "1    14\n",
       "2    10\n",
       "3    26\n",
       "4    15\n",
       "Name: Percentage of Adult patients with long term catheter in use, dtype: object"
      ]
     },
     "execution_count": 586,
     "metadata": {},
     "output_type": "execute_result"
    }
   ],
   "source": [
    "df['Percentage of Adult patients with long term catheter in use'].head()"
   ]
  },
  {
   "cell_type": "code",
   "execution_count": 587,
   "metadata": {},
   "outputs": [
    {
     "data": {
      "text/plain": [
       "7621                5\n",
       "7622               12\n",
       "7623    Not Available\n",
       "7624                8\n",
       "7625               16\n",
       "Name: Percentage of Adult patients with long term catheter in use, dtype: object"
      ]
     },
     "execution_count": 587,
     "metadata": {},
     "output_type": "execute_result"
    }
   ],
   "source": [
    "df['Percentage of Adult patients with long term catheter in use'].tail()"
   ]
  },
  {
   "cell_type": "code",
   "execution_count": 588,
   "metadata": {},
   "outputs": [
    {
     "data": {
      "text/plain": [
       "count              7626\n",
       "unique               68\n",
       "top       Not Available\n",
       "freq                711\n",
       "Name: Percentage of Adult patients with long term catheter in use, dtype: object"
      ]
     },
     "execution_count": 588,
     "metadata": {},
     "output_type": "execute_result"
    }
   ],
   "source": [
    "df['Percentage of Adult patients with long term catheter in use'].describe()"
   ]
  },
  {
   "cell_type": "code",
   "execution_count": 589,
   "metadata": {},
   "outputs": [
    {
     "data": {
      "text/plain": [
       "False    52\n",
       "True     16\n",
       "dtype: int64"
      ]
     },
     "execution_count": 589,
     "metadata": {},
     "output_type": "execute_result"
    }
   ],
   "source": [
    "# Percent unique values\n",
    "# True if facility has a value count of 1 (aka unique)\n",
    "pd.Series([facility == 1 for facility in df['Percentage of Adult patients with long term catheter in use'].value_counts()]).value_counts()"
   ]
  },
  {
   "cell_type": "code",
   "execution_count": 590,
   "metadata": {},
   "outputs": [
    {
     "data": {
      "text/plain": [
       "'0'"
      ]
     },
     "execution_count": 590,
     "metadata": {},
     "output_type": "execute_result"
    }
   ],
   "source": [
    "df['Percentage of Adult patients with long term catheter in use'].min()"
   ]
  },
  {
   "cell_type": "code",
   "execution_count": 591,
   "metadata": {},
   "outputs": [
    {
     "data": {
      "text/plain": [
       "'Not Available'"
      ]
     },
     "execution_count": 591,
     "metadata": {},
     "output_type": "execute_result"
    }
   ],
   "source": [
    "df['Percentage of Adult patients with long term catheter in use'].max()"
   ]
  },
  {
   "cell_type": "code",
   "execution_count": 592,
   "metadata": {},
   "outputs": [
    {
     "data": {
      "text/plain": [
       "{1, 2, 13}"
      ]
     },
     "execution_count": 592,
     "metadata": {},
     "output_type": "execute_result"
    }
   ],
   "source": [
    "set([(len(str(num))) for num in df['Percentage of Adult patients with long term catheter in use']])"
   ]
  },
  {
   "cell_type": "markdown",
   "metadata": {},
   "source": [
    "### Number of patients in nPCR summary\n",
    "Data type: object\n",
    "\n",
    "Value count: 7626 \n",
    "\n",
    "Number of unique values: 26\n",
    "\n",
    "Percent unique values: .105%\n",
    "\n",
    "Ranges of values: 0 - \n",
    "\n",
    "Length of values: 1, 2, 13\n",
    "\n",
    "Description: \n",
    "Lists the number of patients included in the facility's normalized protein catabolic rate (nPCR) summary. The normalized protein catabolic rate (nPCR) is a formula commonly used to assess dietary protein intake in dialysis patients, as a means towards determining nutritional adequacy, a major problem in many ESRD patients. \n",
    "The nPCR is reported in grams of urea nitrogen per kilogram per day.\n",
    "Most guidelines specify maintaining the protein intake above 1.0 – 1.2 g/kg/day in dialysis patients, with values less than 0.8 g/kg/day being equated with malnutrition."
   ]
  },
  {
   "cell_type": "code",
   "execution_count": 593,
   "metadata": {},
   "outputs": [
    {
     "data": {
      "text/plain": [
       "0    0\n",
       "1    0\n",
       "2    0\n",
       "3    0\n",
       "4    0\n",
       "Name: Number of patients in nPCR summary, dtype: object"
      ]
     },
     "execution_count": 593,
     "metadata": {},
     "output_type": "execute_result"
    }
   ],
   "source": [
    "df['Number of patients in nPCR summary'].head()"
   ]
  },
  {
   "cell_type": "code",
   "execution_count": 594,
   "metadata": {},
   "outputs": [
    {
     "data": {
      "text/plain": [
       "7621                0\n",
       "7622                0\n",
       "7623    Not Available\n",
       "7624                0\n",
       "7625                0\n",
       "Name: Number of patients in nPCR summary, dtype: object"
      ]
     },
     "execution_count": 594,
     "metadata": {},
     "output_type": "execute_result"
    }
   ],
   "source": [
    "df['Number of patients in nPCR summary'].tail()"
   ]
  },
  {
   "cell_type": "code",
   "execution_count": 595,
   "metadata": {},
   "outputs": [
    {
     "data": {
      "text/plain": [
       "count     7626\n",
       "unique      26\n",
       "top          0\n",
       "freq      7331\n",
       "Name: Number of patients in nPCR summary, dtype: object"
      ]
     },
     "execution_count": 595,
     "metadata": {},
     "output_type": "execute_result"
    }
   ],
   "source": [
    "df['Number of patients in nPCR summary'].describe()"
   ]
  },
  {
   "cell_type": "code",
   "execution_count": 596,
   "metadata": {},
   "outputs": [
    {
     "data": {
      "text/plain": [
       "False    18\n",
       "True      8\n",
       "dtype: int64"
      ]
     },
     "execution_count": 596,
     "metadata": {},
     "output_type": "execute_result"
    }
   ],
   "source": [
    "# Percent unique values\n",
    "# True if facility has a value count of 1 (aka unique)\n",
    "pd.Series([facility == 1 for facility in df['Number of patients in nPCR summary'].value_counts()]).value_counts()"
   ]
  },
  {
   "cell_type": "code",
   "execution_count": 597,
   "metadata": {},
   "outputs": [
    {
     "data": {
      "text/plain": [
       "'0'"
      ]
     },
     "execution_count": 597,
     "metadata": {},
     "output_type": "execute_result"
    }
   ],
   "source": [
    "df['Number of patients in nPCR summary'].min()"
   ]
  },
  {
   "cell_type": "code",
   "execution_count": 598,
   "metadata": {},
   "outputs": [
    {
     "data": {
      "text/plain": [
       "'Not Available'"
      ]
     },
     "execution_count": 598,
     "metadata": {},
     "output_type": "execute_result"
    }
   ],
   "source": [
    "df['Number of patients in nPCR summary'].max()"
   ]
  },
  {
   "cell_type": "code",
   "execution_count": 599,
   "metadata": {},
   "outputs": [
    {
     "data": {
      "text/plain": [
       "{1, 2, 13}"
      ]
     },
     "execution_count": 599,
     "metadata": {},
     "output_type": "execute_result"
    }
   ],
   "source": [
    "set([(len(str(num))) for num in df['Number of patients in nPCR summary']])"
   ]
  },
  {
   "cell_type": "markdown",
   "metadata": {},
   "source": [
    "### Number of patient-months in nPCR summary\n",
    "Data type: object\n",
    "\n",
    "Value count: 7626\n",
    "\n",
    "Number of unique values: 74\n",
    "\n",
    "Percent unique values: 0.525%\n",
    "\n",
    "Ranges of values: 1 - \n",
    "\n",
    "Length of values: 1 - 3, 13\n",
    "\n",
    "Description: Lists the number of patient-months included in the facility's patients included in the facility's normalized protein catabolic rate (nPCR) summary. The normalized protein catabolic rate (nPCR) is a formula commonly used to assess dietary protein intake in dialysis patients, as a means towards determining nutritional adequacy, a major problem in many ESRD patients. \n",
    "The nPCR is reported in grams of urea nitrogen per kilogram per day.\n",
    "Most guidelines specify maintaining the protein intake above 1.0 – 1.2 g/kg/day in dialysis patients, with values less than 0.8 g/kg/day being equated with malnutrition."
   ]
  },
  {
   "cell_type": "code",
   "execution_count": 600,
   "metadata": {},
   "outputs": [
    {
     "data": {
      "text/plain": [
       "0    Not Available\n",
       "1    Not Available\n",
       "2    Not Available\n",
       "3    Not Available\n",
       "4    Not Available\n",
       "Name: Number of patient-months in nPCR summary, dtype: object"
      ]
     },
     "execution_count": 600,
     "metadata": {},
     "output_type": "execute_result"
    }
   ],
   "source": [
    "df['Number of patient-months in nPCR summary'].head()"
   ]
  },
  {
   "cell_type": "code",
   "execution_count": 601,
   "metadata": {},
   "outputs": [
    {
     "data": {
      "text/plain": [
       "7621    Not Available\n",
       "7622    Not Available\n",
       "7623    Not Available\n",
       "7624    Not Available\n",
       "7625    Not Available\n",
       "Name: Number of patient-months in nPCR summary, dtype: object"
      ]
     },
     "execution_count": 601,
     "metadata": {},
     "output_type": "execute_result"
    }
   ],
   "source": [
    "df['Number of patient-months in nPCR summary'].tail()"
   ]
  },
  {
   "cell_type": "code",
   "execution_count": 602,
   "metadata": {},
   "outputs": [
    {
     "data": {
      "text/plain": [
       "count              7626\n",
       "unique               74\n",
       "top       Not Available\n",
       "freq               7402\n",
       "Name: Number of patient-months in nPCR summary, dtype: object"
      ]
     },
     "execution_count": 602,
     "metadata": {},
     "output_type": "execute_result"
    }
   ],
   "source": [
    "df['Number of patient-months in nPCR summary'].describe()"
   ]
  },
  {
   "cell_type": "code",
   "execution_count": 603,
   "metadata": {},
   "outputs": [
    {
     "data": {
      "text/plain": [
       "True     40\n",
       "False    34\n",
       "dtype: int64"
      ]
     },
     "execution_count": 603,
     "metadata": {},
     "output_type": "execute_result"
    }
   ],
   "source": [
    "# Percent unique values\n",
    "# True if facility has a value count of 1 (aka unique)\n",
    "pd.Series([facility == 1 for facility in df['Number of patient-months in nPCR summary'].value_counts()]).value_counts()"
   ]
  },
  {
   "cell_type": "code",
   "execution_count": 604,
   "metadata": {},
   "outputs": [
    {
     "data": {
      "text/plain": [
       "'1'"
      ]
     },
     "execution_count": 604,
     "metadata": {},
     "output_type": "execute_result"
    }
   ],
   "source": [
    "df['Number of patient-months in nPCR summary'].min()"
   ]
  },
  {
   "cell_type": "code",
   "execution_count": 605,
   "metadata": {},
   "outputs": [
    {
     "data": {
      "text/plain": [
       "'Not Available'"
      ]
     },
     "execution_count": 605,
     "metadata": {},
     "output_type": "execute_result"
    }
   ],
   "source": [
    "df['Number of patient-months in nPCR summary'].max()"
   ]
  },
  {
   "cell_type": "code",
   "execution_count": 606,
   "metadata": {},
   "outputs": [
    {
     "data": {
      "text/plain": [
       "{1, 2, 3, 13}"
      ]
     },
     "execution_count": 606,
     "metadata": {},
     "output_type": "execute_result"
    }
   ],
   "source": [
    "set([(len(str(num))) for num in df['Number of patient-months in nPCR summary']])"
   ]
  },
  {
   "cell_type": "markdown",
   "metadata": {},
   "source": [
    "### nPCR Data Availability Code\n",
    "Data type: int64\n",
    "\n",
    "Value count: 7626\n",
    "\n",
    "Number of unique values: 5\n",
    "\n",
    "Percent unique values: 0%\n",
    "\n",
    "Ranges of values: 1, 199, 201, 258, 259\n",
    "\n",
    "Length of values: 1, 3\n",
    "\n",
    "Description: Lists whether the facility had sufficient normalized protein catabolic rate (nPCR) data available or the reason for why the data is not available. The normalized protein catabolic rate (nPCR) is a formula commonly used to assess dietary protein intake in dialysis patients, as a means towards determining nutritional adequacy, a major problem in many ESRD patients. \n",
    "The nPCR is reported in grams of urea nitrogen per kilogram per day.\n",
    "Most guidelines specify maintaining the protein intake above 1.0 – 1.2 g/kg/day in dialysis patients, with values less than 0.8 g/kg/day being equated with malnutrition."
   ]
  },
  {
   "cell_type": "code",
   "execution_count": 607,
   "metadata": {},
   "outputs": [
    {
     "data": {
      "text/plain": [
       "0    259\n",
       "1    259\n",
       "2    259\n",
       "3    259\n",
       "4    259\n",
       "Name: nPCR Data Availability Code, dtype: int64"
      ]
     },
     "execution_count": 607,
     "metadata": {},
     "output_type": "execute_result"
    }
   ],
   "source": [
    "df['nPCR Data Availability Code'].head()"
   ]
  },
  {
   "cell_type": "code",
   "execution_count": 608,
   "metadata": {},
   "outputs": [
    {
     "data": {
      "text/plain": [
       "7621    259\n",
       "7622    259\n",
       "7623    258\n",
       "7624    259\n",
       "7625    259\n",
       "Name: nPCR Data Availability Code, dtype: int64"
      ]
     },
     "execution_count": 608,
     "metadata": {},
     "output_type": "execute_result"
    }
   ],
   "source": [
    "df['nPCR Data Availability Code'].tail()"
   ]
  },
  {
   "cell_type": "code",
   "execution_count": 609,
   "metadata": {},
   "outputs": [
    {
     "data": {
      "text/plain": [
       "7626"
      ]
     },
     "execution_count": 609,
     "metadata": {},
     "output_type": "execute_result"
    }
   ],
   "source": [
    "df['nPCR Data Availability Code'].count()"
   ]
  },
  {
   "cell_type": "code",
   "execution_count": 610,
   "metadata": {},
   "outputs": [
    {
     "data": {
      "text/plain": [
       "259    7082\n",
       "201     249\n",
       "199     196\n",
       "258      73\n",
       "1        26\n",
       "Name: nPCR Data Availability Code, dtype: int64"
      ]
     },
     "execution_count": 610,
     "metadata": {},
     "output_type": "execute_result"
    }
   ],
   "source": [
    "df['nPCR Data Availability Code'].value_counts()"
   ]
  },
  {
   "cell_type": "markdown",
   "metadata": {},
   "source": [
    "### Percentage of pediatric HD patients with nPCR\n",
    "Data type: object\n",
    "\n",
    "Value count: 7626\n",
    "\n",
    "Number of unique values: 15\n",
    "\n",
    "Percent unique values: 0.118%\n",
    "\n",
    "Ranges of values: 100 -\n",
    "\n",
    "Length of values: 2, 3, 13\n",
    "\n",
    "Description: Lists the percentage of pediatric HD patients with normalized protein catabolic rate (nPCR). The normalized protein catabolic rate (nPCR) is a formula commonly used to assess dietary protein intake in dialysis patients, as a means towards determining nutritional adequacy, a major problem in many ESRD patients. \n",
    "The nPCR is reported in grams of urea nitrogen per kilogram per day.\n",
    "Most guidelines specify maintaining the protein intake above 1.0 – 1.2 g/kg/day in dialysis patients, with values less than 0.8 g/kg/day being equated with malnutrition."
   ]
  },
  {
   "cell_type": "code",
   "execution_count": 611,
   "metadata": {},
   "outputs": [
    {
     "data": {
      "text/plain": [
       "0    Not Available\n",
       "1    Not Available\n",
       "2    Not Available\n",
       "3    Not Available\n",
       "4    Not Available\n",
       "Name: Percentage of pediatric HD patients with nPCR, dtype: object"
      ]
     },
     "execution_count": 611,
     "metadata": {},
     "output_type": "execute_result"
    }
   ],
   "source": [
    "df['Percentage of pediatric HD patients with nPCR'].head()"
   ]
  },
  {
   "cell_type": "code",
   "execution_count": 612,
   "metadata": {},
   "outputs": [
    {
     "data": {
      "text/plain": [
       "7621    Not Available\n",
       "7622    Not Available\n",
       "7623    Not Available\n",
       "7624    Not Available\n",
       "7625    Not Available\n",
       "Name: Percentage of pediatric HD patients with nPCR, dtype: object"
      ]
     },
     "execution_count": 612,
     "metadata": {},
     "output_type": "execute_result"
    }
   ],
   "source": [
    "df['Percentage of pediatric HD patients with nPCR'].tail()"
   ]
  },
  {
   "cell_type": "code",
   "execution_count": 613,
   "metadata": {},
   "outputs": [
    {
     "data": {
      "text/plain": [
       "count              7626\n",
       "unique               15\n",
       "top       Not Available\n",
       "freq               7600\n",
       "Name: Percentage of pediatric HD patients with nPCR, dtype: object"
      ]
     },
     "execution_count": 613,
     "metadata": {},
     "output_type": "execute_result"
    }
   ],
   "source": [
    "df['Percentage of pediatric HD patients with nPCR'].describe()"
   ]
  },
  {
   "cell_type": "code",
   "execution_count": 614,
   "metadata": {},
   "outputs": [
    {
     "data": {
      "text/plain": [
       "True     9\n",
       "False    6\n",
       "dtype: int64"
      ]
     },
     "execution_count": 614,
     "metadata": {},
     "output_type": "execute_result"
    }
   ],
   "source": [
    "# Percent unique values\n",
    "# True if facility has a value count of 1 (aka unique)\n",
    "pd.Series([facility == 1 for facility in df['Percentage of pediatric HD patients with nPCR'].value_counts()]).value_counts()"
   ]
  },
  {
   "cell_type": "code",
   "execution_count": 615,
   "metadata": {},
   "outputs": [
    {
     "data": {
      "text/plain": [
       "'100'"
      ]
     },
     "execution_count": 615,
     "metadata": {},
     "output_type": "execute_result"
    }
   ],
   "source": [
    "df['Percentage of pediatric HD patients with nPCR'].min()"
   ]
  },
  {
   "cell_type": "code",
   "execution_count": 616,
   "metadata": {},
   "outputs": [
    {
     "data": {
      "text/plain": [
       "'Not Available'"
      ]
     },
     "execution_count": 616,
     "metadata": {},
     "output_type": "execute_result"
    }
   ],
   "source": [
    "df['Percentage of pediatric HD patients with nPCR'].max()"
   ]
  },
  {
   "cell_type": "code",
   "execution_count": 617,
   "metadata": {},
   "outputs": [
    {
     "data": {
      "text/plain": [
       "{2, 3, 13}"
      ]
     },
     "execution_count": 617,
     "metadata": {},
     "output_type": "execute_result"
    }
   ],
   "source": [
    "set([(len(str(num))) for num in df['Percentage of pediatric HD patients with nPCR']])"
   ]
  },
  {
   "cell_type": "markdown",
   "metadata": {},
   "source": [
    "### DATE_SWR\n",
    "Data type: object\n",
    "\n",
    "Value count: 7626\n",
    "\n",
    "Number of unique values: 1\n",
    "\n",
    "Percent unique values: 0%\n",
    "\n",
    "Ranges of values: \"01/01/2015 - 12/31/2017\"\n",
    "\n",
    "Length of values: 23\n",
    "\n",
    "Description: Years Patient Transplant Waitlist Is Based Upon. Standardized Waitlist Ratio (SWR) measure tracks the number of incident patients at the dialysis facility under the age of 75 listed on the kidney or kidney-pancreas transplant waitlist or who received a living donor transplant within the first year of initiating dialysis. SWR is calculated to compare the observed waitlisting rate in the facility to the waitlisting rate that was expected."
   ]
  },
  {
   "cell_type": "code",
   "execution_count": 618,
   "metadata": {
    "scrolled": true
   },
   "outputs": [
    {
     "data": {
      "text/plain": [
       "0    01/01/2015 - 12/31/2017\n",
       "1    01/01/2015 - 12/31/2017\n",
       "2    01/01/2015 - 12/31/2017\n",
       "3    01/01/2015 - 12/31/2017\n",
       "4    01/01/2015 - 12/31/2017\n",
       "Name: DATE_SWR, dtype: object"
      ]
     },
     "execution_count": 618,
     "metadata": {},
     "output_type": "execute_result"
    }
   ],
   "source": [
    "df['DATE_SWR'].head()"
   ]
  },
  {
   "cell_type": "code",
   "execution_count": 619,
   "metadata": {},
   "outputs": [
    {
     "data": {
      "text/plain": [
       "7621    01/01/2015 - 12/31/2017\n",
       "7622    01/01/2015 - 12/31/2017\n",
       "7623    01/01/2015 - 12/31/2017\n",
       "7624    01/01/2015 - 12/31/2017\n",
       "7625    01/01/2015 - 12/31/2017\n",
       "Name: DATE_SWR, dtype: object"
      ]
     },
     "execution_count": 619,
     "metadata": {},
     "output_type": "execute_result"
    }
   ],
   "source": [
    "df['DATE_SWR'].tail()"
   ]
  },
  {
   "cell_type": "code",
   "execution_count": 620,
   "metadata": {},
   "outputs": [
    {
     "data": {
      "text/plain": [
       "01/01/2015 - 12/31/2017    7626\n",
       "Name: DATE_SWR, dtype: int64"
      ]
     },
     "execution_count": 620,
     "metadata": {},
     "output_type": "execute_result"
    }
   ],
   "source": [
    "df['DATE_SWR'].value_counts()"
   ]
  },
  {
   "cell_type": "code",
   "execution_count": 621,
   "metadata": {},
   "outputs": [
    {
     "data": {
      "text/plain": [
       "{23}"
      ]
     },
     "execution_count": 621,
     "metadata": {},
     "output_type": "execute_result"
    }
   ],
   "source": [
    "set([(len(str(num))) for num in df['DATE_SWR']])"
   ]
  },
  {
   "cell_type": "markdown",
   "metadata": {},
   "source": [
    "### SWR category text\n",
    "Data type: object\n",
    "\n",
    "Value count: 7626\n",
    "\n",
    "Number of unique values: 4\n",
    "\n",
    "Percent unique values: 0%\n",
    "\n",
    "Ranges of values: As Expected, Worse than Expected, Better than Expected, Not Available\n",
    "\n",
    "Length of values: 11, 13, 19, 20\n",
    "\n",
    "Description: Standardized waitlist ratio (SWR) category text. The standardized waitlist ratio (SWR) measure tracks the number of incident patients at the dialysis facility under the age of 75 listed on the kidney or kidney-pancreas transplant waitlist or who received a living donor transplant within the first year of initiating dialysis. SWR is calculated to compare the observed waitlisting rate in the facility to the waitlisting rate that was expected. \n",
    "\n",
    "Value description:\n",
    "- As Expected          : Patient standardized waitlist ratio (SWR) categorized as “As Expected”       \n",
    "- Worse than Expected  :  Patient standardized waitlist ratio (SWR) categorized as “Worse than Expected”\n",
    "- Better than Expected : Patient standardized waitlist ratio (SWR) categorized as “Better than Expected\"\n",
    "- Not Available "
   ]
  },
  {
   "cell_type": "code",
   "execution_count": 622,
   "metadata": {},
   "outputs": [
    {
     "data": {
      "text/plain": [
       "0      As Expected\n",
       "1      As Expected\n",
       "2    Not Available\n",
       "3    Not Available\n",
       "4    Not Available\n",
       "Name: SWR category text, dtype: object"
      ]
     },
     "execution_count": 622,
     "metadata": {},
     "output_type": "execute_result"
    }
   ],
   "source": [
    "df['SWR category text'].head()"
   ]
  },
  {
   "cell_type": "code",
   "execution_count": 623,
   "metadata": {},
   "outputs": [
    {
     "data": {
      "text/plain": [
       "7621      As Expected\n",
       "7622      As Expected\n",
       "7623    Not Available\n",
       "7624    Not Available\n",
       "7625      As Expected\n",
       "Name: SWR category text, dtype: object"
      ]
     },
     "execution_count": 623,
     "metadata": {},
     "output_type": "execute_result"
    }
   ],
   "source": [
    "df['SWR category text'].tail()"
   ]
  },
  {
   "cell_type": "code",
   "execution_count": 624,
   "metadata": {},
   "outputs": [
    {
     "data": {
      "text/plain": [
       "7626"
      ]
     },
     "execution_count": 624,
     "metadata": {},
     "output_type": "execute_result"
    }
   ],
   "source": [
    "df['SWR category text'].count()"
   ]
  },
  {
   "cell_type": "code",
   "execution_count": 625,
   "metadata": {},
   "outputs": [
    {
     "data": {
      "text/plain": [
       "As Expected             3593\n",
       "Not Available           3515\n",
       "Better than Expected     316\n",
       "Worse than Expected      202\n",
       "Name: SWR category text, dtype: int64"
      ]
     },
     "execution_count": 625,
     "metadata": {},
     "output_type": "execute_result"
    }
   ],
   "source": [
    "df['SWR category text'].value_counts()"
   ]
  },
  {
   "cell_type": "code",
   "execution_count": 626,
   "metadata": {},
   "outputs": [
    {
     "data": {
      "text/plain": [
       "{11, 13, 19, 20}"
      ]
     },
     "execution_count": 626,
     "metadata": {},
     "output_type": "execute_result"
    }
   ],
   "source": [
    "set([(len(str(num))) for num in df['SWR category text']])"
   ]
  },
  {
   "cell_type": "markdown",
   "metadata": {},
   "source": [
    "### Patient transplant waitlist data availability code\n",
    "Data type: int64\n",
    "\n",
    "Value count: 7626\n",
    "\n",
    "Number of unique values: 5\n",
    "\n",
    "Percent unique values: 0.0131%\n",
    "\n",
    "Ranges of values: 1, 199, 201, 255, 258\n",
    "\n",
    "Length of values: 1, 3\n",
    "\n",
    "Description: Lists whether the facility had sufficient patient transplant waitlist data available or\n",
    "the reason for why the data is not available.\n",
    "\n",
    "Value description:\n",
    "- 1   : N/A\n",
    "- 199 : Not enough patients to report on this measure. Call the dialysis center to discuss this measure.\n",
    "- 201 : Data not reported. Call the dialysis center to discuss this quality measure. \n",
    "- 255 : Medicare determined that the percentage reported was not accurate.\n",
    "- 258 : The dialysis center was not open long enough to supply sufficient measure data."
   ]
  },
  {
   "cell_type": "code",
   "execution_count": 627,
   "metadata": {},
   "outputs": [
    {
     "data": {
      "text/plain": [
       "0      1\n",
       "1      1\n",
       "2    199\n",
       "3    199\n",
       "4    199\n",
       "Name: Patient transplant waitlist data availability code, dtype: int64"
      ]
     },
     "execution_count": 627,
     "metadata": {},
     "output_type": "execute_result"
    }
   ],
   "source": [
    "df['Patient transplant waitlist data availability code'].head()"
   ]
  },
  {
   "cell_type": "code",
   "execution_count": 628,
   "metadata": {},
   "outputs": [
    {
     "data": {
      "text/plain": [
       "7621      1\n",
       "7622      1\n",
       "7623    258\n",
       "7624    199\n",
       "7625      1\n",
       "Name: Patient transplant waitlist data availability code, dtype: int64"
      ]
     },
     "execution_count": 628,
     "metadata": {},
     "output_type": "execute_result"
    }
   ],
   "source": [
    "df['Patient transplant waitlist data availability code'].tail()"
   ]
  },
  {
   "cell_type": "code",
   "execution_count": 629,
   "metadata": {},
   "outputs": [
    {
     "data": {
      "text/plain": [
       "7626"
      ]
     },
     "execution_count": 629,
     "metadata": {},
     "output_type": "execute_result"
    }
   ],
   "source": [
    "df['Patient transplant waitlist data availability code'].count()"
   ]
  },
  {
   "cell_type": "code",
   "execution_count": 630,
   "metadata": {},
   "outputs": [
    {
     "data": {
      "text/plain": [
       "1      4111\n",
       "199    2705\n",
       "258     697\n",
       "201     112\n",
       "255       1\n",
       "Name: Patient transplant waitlist data availability code, dtype: int64"
      ]
     },
     "execution_count": 630,
     "metadata": {},
     "output_type": "execute_result"
    }
   ],
   "source": [
    "df['Patient transplant waitlist data availability code'].value_counts()"
   ]
  },
  {
   "cell_type": "markdown",
   "metadata": {},
   "source": [
    "### 95% C.I. (upper limit) for SWR\n",
    "Data type: object\n",
    "\n",
    "Value count: 7626\n",
    "\n",
    "Number of unique values: 594\n",
    "\n",
    "Percent unique values: 1.39%\n",
    "\n",
    "Ranges of values: 0.23 - \n",
    "\n",
    "Length of values: 1 - 5, 13\n",
    "\n",
    "Description: Lists the upper confident interval limit (95%) for Standardized Waitlist Ratio (SWR) rate per 100 patient-years. The Standardized Waitlist Ratio (SWR) measure tracks the number of incident patients at the dialysis facility under the age of 75 listed on the kidney or kidney-pancreas transplant waitlist or who received a living donor transplant within the first year of initiating dialysis. SWR is calculated to compare the observed waitlisting rate in the facility to the waitlisting rate that was expected. "
   ]
  },
  {
   "cell_type": "code",
   "execution_count": 631,
   "metadata": {},
   "outputs": [
    {
     "data": {
      "text/plain": [
       "0             1.16\n",
       "1             1.16\n",
       "2    Not Available\n",
       "3    Not Available\n",
       "4    Not Available\n",
       "Name: 95% C.I. (upper limit) for SWR, dtype: object"
      ]
     },
     "execution_count": 631,
     "metadata": {},
     "output_type": "execute_result"
    }
   ],
   "source": [
    "df['95% C.I. (upper limit) for SWR'].head()"
   ]
  },
  {
   "cell_type": "code",
   "execution_count": 632,
   "metadata": {},
   "outputs": [
    {
     "data": {
      "text/plain": [
       "7621             1.39\n",
       "7622             1.37\n",
       "7623    Not Available\n",
       "7624    Not Available\n",
       "7625             2.97\n",
       "Name: 95% C.I. (upper limit) for SWR, dtype: object"
      ]
     },
     "execution_count": 632,
     "metadata": {},
     "output_type": "execute_result"
    }
   ],
   "source": [
    "df['95% C.I. (upper limit) for SWR'].tail()"
   ]
  },
  {
   "cell_type": "code",
   "execution_count": 633,
   "metadata": {},
   "outputs": [
    {
     "data": {
      "text/plain": [
       "count              7626\n",
       "unique              594\n",
       "top       Not Available\n",
       "freq               3515\n",
       "Name: 95% C.I. (upper limit) for SWR, dtype: object"
      ]
     },
     "execution_count": 633,
     "metadata": {},
     "output_type": "execute_result"
    }
   ],
   "source": [
    "df['95% C.I. (upper limit) for SWR'].describe()"
   ]
  },
  {
   "cell_type": "code",
   "execution_count": 634,
   "metadata": {},
   "outputs": [
    {
     "data": {
      "text/plain": [
       "False    488\n",
       "True     106\n",
       "dtype: int64"
      ]
     },
     "execution_count": 634,
     "metadata": {},
     "output_type": "execute_result"
    }
   ],
   "source": [
    "# Percent unique values\n",
    "# True if facility has a value count of 1 (aka unique)\n",
    "pd.Series([facility == 1 for facility in df['95% C.I. (upper limit) for SWR'].value_counts()]).value_counts()"
   ]
  },
  {
   "cell_type": "code",
   "execution_count": 635,
   "metadata": {},
   "outputs": [
    {
     "data": {
      "text/plain": [
       "'.23'"
      ]
     },
     "execution_count": 635,
     "metadata": {},
     "output_type": "execute_result"
    }
   ],
   "source": [
    "df['95% C.I. (upper limit) for SWR'].min()"
   ]
  },
  {
   "cell_type": "code",
   "execution_count": 636,
   "metadata": {},
   "outputs": [
    {
     "data": {
      "text/plain": [
       "'Not Available'"
      ]
     },
     "execution_count": 636,
     "metadata": {},
     "output_type": "execute_result"
    }
   ],
   "source": [
    "df['95% C.I. (upper limit) for SWR'].max()"
   ]
  },
  {
   "cell_type": "code",
   "execution_count": 637,
   "metadata": {},
   "outputs": [
    {
     "data": {
      "text/plain": [
       "{1, 2, 3, 4, 5, 13}"
      ]
     },
     "execution_count": 637,
     "metadata": {},
     "output_type": "execute_result"
    }
   ],
   "source": [
    "set([(len(str(num))) for num in df['95% C.I. (upper limit) for SWR']])"
   ]
  },
  {
   "cell_type": "markdown",
   "metadata": {},
   "source": [
    "### 95% C.I. (lower limit) for SWR\n",
    "Data type: object\n",
    "\n",
    "Value count: 7626\n",
    "\n",
    "Number of unique values: 215\n",
    "\n",
    "Percent unique values: 0.511%\n",
    "\n",
    "Ranges of values: 0.01 - \n",
    "\n",
    "Length of values: 1 - 4, 13\n",
    "\n",
    "Description: Lists the lower confident interval limit (95%) for Standardized Waitlist Ratio (SWR) rate per 100 patient-years. The Standardized Waitlist Ratio (SWR) measure tracks the number of incident patients at the dialysis facility under the age of 75 listed on the kidney or kidney-pancreas transplant waitlist or who received a living donor transplant within the first year of initiating dialysis. SWR is calculated to compare the observed waitlisting rate in the facility to the waitlisting rate that was expected. "
   ]
  },
  {
   "cell_type": "code",
   "execution_count": 638,
   "metadata": {},
   "outputs": [
    {
     "data": {
      "text/plain": [
       "0              .12\n",
       "1               .2\n",
       "2    Not Available\n",
       "3    Not Available\n",
       "4    Not Available\n",
       "Name: 95% C.I. (lower limit) for SWR, dtype: object"
      ]
     },
     "execution_count": 638,
     "metadata": {},
     "output_type": "execute_result"
    }
   ],
   "source": [
    "df['95% C.I. (lower limit) for SWR'].head()"
   ]
  },
  {
   "cell_type": "code",
   "execution_count": 639,
   "metadata": {},
   "outputs": [
    {
     "data": {
      "text/plain": [
       "7621              .01\n",
       "7622              .05\n",
       "7623    Not Available\n",
       "7624    Not Available\n",
       "7625              .41\n",
       "Name: 95% C.I. (lower limit) for SWR, dtype: object"
      ]
     },
     "execution_count": 639,
     "metadata": {},
     "output_type": "execute_result"
    }
   ],
   "source": [
    "df['95% C.I. (lower limit) for SWR'].tail()"
   ]
  },
  {
   "cell_type": "code",
   "execution_count": 640,
   "metadata": {},
   "outputs": [
    {
     "data": {
      "text/plain": [
       "count              7626\n",
       "unique              215\n",
       "top       Not Available\n",
       "freq               3515\n",
       "Name: 95% C.I. (lower limit) for SWR, dtype: object"
      ]
     },
     "execution_count": 640,
     "metadata": {},
     "output_type": "execute_result"
    }
   ],
   "source": [
    "df['95% C.I. (lower limit) for SWR'].describe()"
   ]
  },
  {
   "cell_type": "code",
   "execution_count": 641,
   "metadata": {},
   "outputs": [
    {
     "data": {
      "text/plain": [
       "False    176\n",
       "True      39\n",
       "dtype: int64"
      ]
     },
     "execution_count": 641,
     "metadata": {},
     "output_type": "execute_result"
    }
   ],
   "source": [
    "# Percent unique values\n",
    "# True if facility has a value count of 1 (aka unique)\n",
    "pd.Series([facility == 1 for facility in df['95% C.I. (lower limit) for SWR'].value_counts()]).value_counts()"
   ]
  },
  {
   "cell_type": "code",
   "execution_count": 642,
   "metadata": {},
   "outputs": [
    {
     "data": {
      "text/plain": [
       "'.01'"
      ]
     },
     "execution_count": 642,
     "metadata": {},
     "output_type": "execute_result"
    }
   ],
   "source": [
    "df['95% C.I. (lower limit) for SWR'].min()"
   ]
  },
  {
   "cell_type": "code",
   "execution_count": 643,
   "metadata": {},
   "outputs": [
    {
     "data": {
      "text/plain": [
       "'Not Available'"
      ]
     },
     "execution_count": 643,
     "metadata": {},
     "output_type": "execute_result"
    }
   ],
   "source": [
    "df['95% C.I. (lower limit) for SWR'].max()"
   ]
  },
  {
   "cell_type": "code",
   "execution_count": 644,
   "metadata": {},
   "outputs": [
    {
     "data": {
      "text/plain": [
       "{1, 2, 3, 4, 13}"
      ]
     },
     "execution_count": 644,
     "metadata": {},
     "output_type": "execute_result"
    }
   ],
   "source": [
    "set([(len(str(num))) for num in df['95% C.I. (lower limit) for SWR']])"
   ]
  },
  {
   "cell_type": "markdown",
   "metadata": {},
   "source": [
    "### Number of patients in this facility for SWR\n",
    "Data type: object\n",
    "\n",
    "Value count: 7626\n",
    "\n",
    "Number of unique values: 146\n",
    "\n",
    "Percent unique values: 0.236%\n",
    "\n",
    "Ranges of values: 0 - \n",
    "\n",
    "Length of values: 1 - 3, 13 \n",
    "\n",
    "Description: Lists the number of patients in this facility for Standardized Waitlist Ratio (SWR). The Standardized Waitlist Ratio (SWR) measure tracks the number of incident patients at the dialysis facility under the age of 75 listed on the kidney or kidney-pancreas transplant waitlist or who received a living donor transplant within the first year of initiating dialysis. SWR is calculated to compare the observed waitlisting rate in the facility to the waitlisting rate that was expected. "
   ]
  },
  {
   "cell_type": "code",
   "execution_count": 645,
   "metadata": {},
   "outputs": [
    {
     "data": {
      "text/plain": [
       "0     56\n",
       "1    105\n",
       "2     12\n",
       "3      8\n",
       "4      1\n",
       "Name: Number of patients in this facility for SWR, dtype: object"
      ]
     },
     "execution_count": 645,
     "metadata": {},
     "output_type": "execute_result"
    }
   ],
   "source": [
    "df['Number of patients in this facility for SWR'].head()"
   ]
  },
  {
   "cell_type": "code",
   "execution_count": 646,
   "metadata": {},
   "outputs": [
    {
     "data": {
      "text/plain": [
       "7621               39\n",
       "7622               52\n",
       "7623    Not Available\n",
       "7624               22\n",
       "7625               41\n",
       "Name: Number of patients in this facility for SWR, dtype: object"
      ]
     },
     "execution_count": 646,
     "metadata": {},
     "output_type": "execute_result"
    }
   ],
   "source": [
    "df['Number of patients in this facility for SWR'].tail()"
   ]
  },
  {
   "cell_type": "code",
   "execution_count": 647,
   "metadata": {},
   "outputs": [
    {
     "data": {
      "text/plain": [
       "count     7626\n",
       "unique     146\n",
       "top          0\n",
       "freq       698\n",
       "Name: Number of patients in this facility for SWR, dtype: object"
      ]
     },
     "execution_count": 647,
     "metadata": {},
     "output_type": "execute_result"
    }
   ],
   "source": [
    "df['Number of patients in this facility for SWR'].describe()"
   ]
  },
  {
   "cell_type": "code",
   "execution_count": 648,
   "metadata": {},
   "outputs": [
    {
     "data": {
      "text/plain": [
       "False    128\n",
       "True      18\n",
       "dtype: int64"
      ]
     },
     "execution_count": 648,
     "metadata": {},
     "output_type": "execute_result"
    }
   ],
   "source": [
    "# Percent unique values\n",
    "# True if facility has a value count of 1 (aka unique)\n",
    "pd.Series([facility == 1 for facility in df['Number of patients in this facility for SWR'].value_counts()]).value_counts()"
   ]
  },
  {
   "cell_type": "code",
   "execution_count": 649,
   "metadata": {},
   "outputs": [
    {
     "data": {
      "text/plain": [
       "'0'"
      ]
     },
     "execution_count": 649,
     "metadata": {},
     "output_type": "execute_result"
    }
   ],
   "source": [
    "df['Number of patients in this facility for SWR'].min()"
   ]
  },
  {
   "cell_type": "code",
   "execution_count": 650,
   "metadata": {},
   "outputs": [
    {
     "data": {
      "text/plain": [
       "'Not Available'"
      ]
     },
     "execution_count": 650,
     "metadata": {},
     "output_type": "execute_result"
    }
   ],
   "source": [
    "df['Number of patients in this facility for SWR'].max()"
   ]
  },
  {
   "cell_type": "code",
   "execution_count": 651,
   "metadata": {},
   "outputs": [
    {
     "data": {
      "text/plain": [
       "{1, 2, 3, 13}"
      ]
     },
     "execution_count": 651,
     "metadata": {},
     "output_type": "execute_result"
    }
   ],
   "source": [
    "set([(len(str(num))) for num in df['Number of patients in this facility for SWR']])"
   ]
  },
  {
   "cell_type": "markdown",
   "metadata": {},
   "source": [
    "### Standardized First Kidney Transplant Waitlist Ratio\n",
    "Data type: object\n",
    "\n",
    "Value count: 7626\n",
    "\n",
    "Number of unique values: 361\n",
    "\n",
    "Percent unique values: 0.813%\n",
    "\n",
    "Ranges of values: 0.08 - \n",
    "\n",
    "Length of values: 1 - 4, 13\n",
    "\n",
    "Description: Lists the ratio of standardized waitlist ratio (SWR) in this facility. This measure tracks the number of incident patients at the dialysis facility under the age of 75 listed on the kidney or kidney-pancreas transplant waitlist or who received living donor transplants within the first year of initiating dialysis. "
   ]
  },
  {
   "cell_type": "code",
   "execution_count": 652,
   "metadata": {},
   "outputs": [
    {
     "data": {
      "text/plain": [
       "0              .45\n",
       "1              .53\n",
       "2    Not Available\n",
       "3    Not Available\n",
       "4    Not Available\n",
       "Name: Standardized First Kidney Transplant Waitlist Ratio, dtype: object"
      ]
     },
     "execution_count": 652,
     "metadata": {},
     "output_type": "execute_result"
    }
   ],
   "source": [
    "df['Standardized First Kidney Transplant Waitlist Ratio'].head()"
   ]
  },
  {
   "cell_type": "code",
   "execution_count": 653,
   "metadata": {},
   "outputs": [
    {
     "data": {
      "text/plain": [
       "7621              .25\n",
       "7622              .38\n",
       "7623    Not Available\n",
       "7624    Not Available\n",
       "7625             1.27\n",
       "Name: Standardized First Kidney Transplant Waitlist Ratio, dtype: object"
      ]
     },
     "execution_count": 653,
     "metadata": {},
     "output_type": "execute_result"
    }
   ],
   "source": [
    "df['Standardized First Kidney Transplant Waitlist Ratio'].tail()"
   ]
  },
  {
   "cell_type": "code",
   "execution_count": 654,
   "metadata": {},
   "outputs": [
    {
     "data": {
      "text/plain": [
       "count              7626\n",
       "unique              361\n",
       "top       Not Available\n",
       "freq               3515\n",
       "Name: Standardized First Kidney Transplant Waitlist Ratio, dtype: object"
      ]
     },
     "execution_count": 654,
     "metadata": {},
     "output_type": "execute_result"
    }
   ],
   "source": [
    "df['Standardized First Kidney Transplant Waitlist Ratio'].describe()"
   ]
  },
  {
   "cell_type": "code",
   "execution_count": 655,
   "metadata": {},
   "outputs": [
    {
     "data": {
      "text/plain": [
       "False    299\n",
       "True      62\n",
       "dtype: int64"
      ]
     },
     "execution_count": 655,
     "metadata": {},
     "output_type": "execute_result"
    }
   ],
   "source": [
    "# Percent unique values\n",
    "# True if facility has a value count of 1 (aka unique)\n",
    "pd.Series([facility == 1 for facility in df['Standardized First Kidney Transplant Waitlist Ratio'].value_counts()]).value_counts()"
   ]
  },
  {
   "cell_type": "code",
   "execution_count": 656,
   "metadata": {},
   "outputs": [
    {
     "data": {
      "text/plain": [
       "'.08'"
      ]
     },
     "execution_count": 656,
     "metadata": {},
     "output_type": "execute_result"
    }
   ],
   "source": [
    "df['Standardized First Kidney Transplant Waitlist Ratio'].min()"
   ]
  },
  {
   "cell_type": "code",
   "execution_count": 657,
   "metadata": {},
   "outputs": [
    {
     "data": {
      "text/plain": [
       "'Not Available'"
      ]
     },
     "execution_count": 657,
     "metadata": {},
     "output_type": "execute_result"
    }
   ],
   "source": [
    "df['Standardized First Kidney Transplant Waitlist Ratio'].max()"
   ]
  },
  {
   "cell_type": "code",
   "execution_count": 658,
   "metadata": {},
   "outputs": [
    {
     "data": {
      "text/plain": [
       "{1, 2, 3, 4, 13}"
      ]
     },
     "execution_count": 658,
     "metadata": {},
     "output_type": "execute_result"
    }
   ],
   "source": [
    "set([(len(str(num))) for num in df['Standardized First Kidney Transplant Waitlist Ratio']])"
   ]
  },
  {
   "cell_type": "markdown",
   "metadata": {},
   "source": [
    "### PPPW category text\n",
    "Data type: object\n",
    "\n",
    "Value count: 7626\n",
    "\n",
    "Number of unique values: 4\n",
    "\n",
    "Percent unique values: 0%\n",
    "\n",
    "Ranges of values: As Expected, Worse than Expected, Better than Expected, Not Available\n",
    "\n",
    "Length of values: 11, 13, 19, 20\n",
    "\n",
    "Description: Percentage of prevalent patients waitlisted (PPPW) category text. The PPPW measure tracks the percentage of patients at each dialysis facility who were on the kidney or kidney-pancreas transplant waiting list. Results are averaged across patients prevalent on the last day of each month during the reporting year, adjusted for age.\n",
    "\n",
    "Value description:\n",
    "- As Expected          : Patient percentage of prevalent patients waitlisted (PPPW) categorized as “As Expected”       \n",
    "- Worse than Expected  :  Patient percentage of prevalent patients waitlisted (PPPW) categorized as “Worse than Expected”\n",
    "- Better than Expected : Patient percentage of prevalent patients waitlisted (PPPW) categorized as “Better than Expected\"\n",
    "- Not Available "
   ]
  },
  {
   "cell_type": "code",
   "execution_count": 659,
   "metadata": {},
   "outputs": [
    {
     "data": {
      "text/plain": [
       "0    As Expected\n",
       "1    As Expected\n",
       "2    As Expected\n",
       "3    As Expected\n",
       "4    As Expected\n",
       "Name: PPPW category text, dtype: object"
      ]
     },
     "execution_count": 659,
     "metadata": {},
     "output_type": "execute_result"
    }
   ],
   "source": [
    "df['PPPW category text'].head()"
   ]
  },
  {
   "cell_type": "code",
   "execution_count": 660,
   "metadata": {},
   "outputs": [
    {
     "data": {
      "text/plain": [
       "7621      As Expected\n",
       "7622      As Expected\n",
       "7623    Not Available\n",
       "7624      As Expected\n",
       "7625      As Expected\n",
       "Name: PPPW category text, dtype: object"
      ]
     },
     "execution_count": 660,
     "metadata": {},
     "output_type": "execute_result"
    }
   ],
   "source": [
    "df['PPPW category text'].tail()"
   ]
  },
  {
   "cell_type": "code",
   "execution_count": 661,
   "metadata": {},
   "outputs": [
    {
     "data": {
      "text/plain": [
       "7626"
      ]
     },
     "execution_count": 661,
     "metadata": {},
     "output_type": "execute_result"
    }
   ],
   "source": [
    "df['PPPW category text'].count()"
   ]
  },
  {
   "cell_type": "code",
   "execution_count": 662,
   "metadata": {},
   "outputs": [
    {
     "data": {
      "text/plain": [
       "As Expected             6539\n",
       "Better than Expected     462\n",
       "Not Available            448\n",
       "Worse than Expected      177\n",
       "Name: PPPW category text, dtype: int64"
      ]
     },
     "execution_count": 662,
     "metadata": {},
     "output_type": "execute_result"
    }
   ],
   "source": [
    "df['PPPW category text'].value_counts()"
   ]
  },
  {
   "cell_type": "code",
   "execution_count": 663,
   "metadata": {},
   "outputs": [
    {
     "data": {
      "text/plain": [
       "{11, 13, 19, 20}"
      ]
     },
     "execution_count": 663,
     "metadata": {},
     "output_type": "execute_result"
    }
   ],
   "source": [
    "set([(len(str(num))) for num in df['PPPW category text']])"
   ]
  },
  {
   "cell_type": "markdown",
   "metadata": {},
   "source": [
    "### Patient prevalent transplant waitlist data availability code\n",
    "Data type: int64\n",
    "\n",
    "Value count: 7626\n",
    "\n",
    "Number of unique values: 4\n",
    "\n",
    "Percent unique values: 0%\n",
    "\n",
    "Ranges of values: 1, 199, 201, 258\n",
    "\n",
    "Length of values: 1, 3\n",
    "\n",
    "Description: Lists whether the facility had sufficient patient prevalent transplant waitlist data available or the reason for why the data is not available."
   ]
  },
  {
   "cell_type": "code",
   "execution_count": 664,
   "metadata": {},
   "outputs": [
    {
     "data": {
      "text/plain": [
       "0    1\n",
       "1    1\n",
       "2    1\n",
       "3    1\n",
       "4    1\n",
       "Name: Patient prevalent transplant waitlist data availability code, dtype: int64"
      ]
     },
     "execution_count": 664,
     "metadata": {},
     "output_type": "execute_result"
    }
   ],
   "source": [
    "df['Patient prevalent transplant waitlist data availability code'].head()"
   ]
  },
  {
   "cell_type": "code",
   "execution_count": 665,
   "metadata": {},
   "outputs": [
    {
     "data": {
      "text/plain": [
       "7621      1\n",
       "7622      1\n",
       "7623    258\n",
       "7624      1\n",
       "7625      1\n",
       "Name: Patient prevalent transplant waitlist data availability code, dtype: int64"
      ]
     },
     "execution_count": 665,
     "metadata": {},
     "output_type": "execute_result"
    }
   ],
   "source": [
    "df['Patient prevalent transplant waitlist data availability code'].tail()"
   ]
  },
  {
   "cell_type": "code",
   "execution_count": 666,
   "metadata": {},
   "outputs": [
    {
     "data": {
      "text/plain": [
       "7626"
      ]
     },
     "execution_count": 666,
     "metadata": {},
     "output_type": "execute_result"
    }
   ],
   "source": [
    "df['Patient prevalent transplant waitlist data availability code'].count()"
   ]
  },
  {
   "cell_type": "code",
   "execution_count": 667,
   "metadata": {},
   "outputs": [
    {
     "data": {
      "text/plain": [
       "1      7178\n",
       "258     279\n",
       "199     155\n",
       "201      14\n",
       "Name: Patient prevalent transplant waitlist data availability code, dtype: int64"
      ]
     },
     "execution_count": 667,
     "metadata": {},
     "output_type": "execute_result"
    }
   ],
   "source": [
    "df['Patient prevalent transplant waitlist data availability code'].value_counts()"
   ]
  },
  {
   "cell_type": "markdown",
   "metadata": {},
   "source": [
    "### 95% C.I. (upper limit) for PPPW\n",
    "Data type: object\n",
    "\n",
    "Value count: 7626\n",
    "\n",
    "Number of unique values: 767\n",
    "\n",
    "Percent unique values: 1.22%\n",
    "\n",
    "Ranges of values: 0 - \n",
    "\n",
    "Length of values: 1 - 4, 13\n",
    "\n",
    "Description: Lists the upper confident interval limit (95%) for Percentage of Prevalent Patients Waitlisted (PPPW) rate per 100 patient-years. The PPPW measure tracks the percentage of patients at each dialysis facility who were on the kidney or kidney-pancreas transplant waiting list. Results are averaged across patients prevalent on the last day of each month during the reporting year, adjusted for age."
   ]
  },
  {
   "cell_type": "code",
   "execution_count": 668,
   "metadata": {},
   "outputs": [
    {
     "data": {
      "text/plain": [
       "0    22.8\n",
       "1    32.1\n",
       "2    74.5\n",
       "3    74.2\n",
       "4    48.4\n",
       "Name: 95% C.I. (upper limit) for PPPW, dtype: object"
      ]
     },
     "execution_count": 668,
     "metadata": {},
     "output_type": "execute_result"
    }
   ],
   "source": [
    "df['95% C.I. (upper limit) for PPPW'].head()"
   ]
  },
  {
   "cell_type": "code",
   "execution_count": 669,
   "metadata": {},
   "outputs": [
    {
     "data": {
      "text/plain": [
       "7621             33.1\n",
       "7622             32.6\n",
       "7623    Not Available\n",
       "7624             35.4\n",
       "7625             36.9\n",
       "Name: 95% C.I. (upper limit) for PPPW, dtype: object"
      ]
     },
     "execution_count": 669,
     "metadata": {},
     "output_type": "execute_result"
    }
   ],
   "source": [
    "df['95% C.I. (upper limit) for PPPW'].tail()"
   ]
  },
  {
   "cell_type": "code",
   "execution_count": 670,
   "metadata": {},
   "outputs": [
    {
     "data": {
      "text/plain": [
       "count              7626\n",
       "unique              767\n",
       "top       Not Available\n",
       "freq                448\n",
       "Name: 95% C.I. (upper limit) for PPPW, dtype: object"
      ]
     },
     "execution_count": 670,
     "metadata": {},
     "output_type": "execute_result"
    }
   ],
   "source": [
    "df['95% C.I. (upper limit) for PPPW'].describe()"
   ]
  },
  {
   "cell_type": "code",
   "execution_count": 671,
   "metadata": {},
   "outputs": [
    {
     "data": {
      "text/plain": [
       "False    674\n",
       "True      93\n",
       "dtype: int64"
      ]
     },
     "execution_count": 671,
     "metadata": {},
     "output_type": "execute_result"
    }
   ],
   "source": [
    "# Percent unique values\n",
    "# True if facility has a value count of 1 (aka unique)\n",
    "pd.Series([facility == 1 for facility in df['95% C.I. (upper limit) for PPPW'].value_counts()]).value_counts()"
   ]
  },
  {
   "cell_type": "code",
   "execution_count": 672,
   "metadata": {},
   "outputs": [
    {
     "data": {
      "text/plain": [
       "'0'"
      ]
     },
     "execution_count": 672,
     "metadata": {},
     "output_type": "execute_result"
    }
   ],
   "source": [
    "df['95% C.I. (upper limit) for PPPW'].min()"
   ]
  },
  {
   "cell_type": "code",
   "execution_count": 673,
   "metadata": {},
   "outputs": [
    {
     "data": {
      "text/plain": [
       "'Not Available'"
      ]
     },
     "execution_count": 673,
     "metadata": {},
     "output_type": "execute_result"
    }
   ],
   "source": [
    "df['95% C.I. (upper limit) for PPPW'].max()"
   ]
  },
  {
   "cell_type": "code",
   "execution_count": 674,
   "metadata": {},
   "outputs": [
    {
     "data": {
      "text/plain": [
       "{1, 2, 3, 4, 13}"
      ]
     },
     "execution_count": 674,
     "metadata": {},
     "output_type": "execute_result"
    }
   ],
   "source": [
    "set([(len(str(num))) for num in df['95% C.I. (upper limit) for PPPW']])"
   ]
  },
  {
   "cell_type": "markdown",
   "metadata": {},
   "source": [
    "### 95% C.I. (lower limit) for PPPW\n",
    "Data type: object\n",
    "\n",
    "Value count: 7626\n",
    "\n",
    "Number of unique values: 356\n",
    "\n",
    "Percent unique values: 0.918%\n",
    "\n",
    "Ranges of values: 0.1 - \n",
    "\n",
    "Length of values: 1 - 4, 13\n",
    "\n",
    "Description: Lists the lower confident interval limit (95%) for Percentage of Prevalent Patients Waitlisted (PPPW) rate per 100 patient-years. The PPPW measure tracks the percentage of patients at each dialysis facility who were on the kidney or kidney-pancreas transplant waiting list. Results are averaged across patients prevalent on the last day of each month during the reporting year, adjusted for age."
   ]
  },
  {
   "cell_type": "code",
   "execution_count": 675,
   "metadata": {},
   "outputs": [
    {
     "data": {
      "text/plain": [
       "0     3.4\n",
       "1    11.8\n",
       "2    10.1\n",
       "3      .2\n",
       "4     2.8\n",
       "Name: 95% C.I. (lower limit) for PPPW, dtype: object"
      ]
     },
     "execution_count": 675,
     "metadata": {},
     "output_type": "execute_result"
    }
   ],
   "source": [
    "df['95% C.I. (lower limit) for PPPW'].head()"
   ]
  },
  {
   "cell_type": "code",
   "execution_count": 676,
   "metadata": {},
   "outputs": [
    {
     "data": {
      "text/plain": [
       "7621              2.1\n",
       "7622              5.2\n",
       "7623    Not Available\n",
       "7624              1.9\n",
       "7625              7.1\n",
       "Name: 95% C.I. (lower limit) for PPPW, dtype: object"
      ]
     },
     "execution_count": 676,
     "metadata": {},
     "output_type": "execute_result"
    }
   ],
   "source": [
    "df['95% C.I. (lower limit) for PPPW'].tail()"
   ]
  },
  {
   "cell_type": "code",
   "execution_count": 677,
   "metadata": {},
   "outputs": [
    {
     "data": {
      "text/plain": [
       "count              7626\n",
       "unique              356\n",
       "top       Not Available\n",
       "freq                448\n",
       "Name: 95% C.I. (lower limit) for PPPW, dtype: object"
      ]
     },
     "execution_count": 677,
     "metadata": {},
     "output_type": "execute_result"
    }
   ],
   "source": [
    "df['95% C.I. (lower limit) for PPPW'].describe()"
   ]
  },
  {
   "cell_type": "code",
   "execution_count": 678,
   "metadata": {},
   "outputs": [
    {
     "data": {
      "text/plain": [
       "False    286\n",
       "True      70\n",
       "dtype: int64"
      ]
     },
     "execution_count": 678,
     "metadata": {},
     "output_type": "execute_result"
    }
   ],
   "source": [
    "# Percent unique values\n",
    "# True if facility has a value count of 1 (aka unique)\n",
    "pd.Series([facility == 1 for facility in df['95% C.I. (lower limit) for PPPW'].value_counts()]).value_counts()"
   ]
  },
  {
   "cell_type": "code",
   "execution_count": 679,
   "metadata": {},
   "outputs": [
    {
     "data": {
      "text/plain": [
       "'.1'"
      ]
     },
     "execution_count": 679,
     "metadata": {},
     "output_type": "execute_result"
    }
   ],
   "source": [
    "df['95% C.I. (lower limit) for PPPW'].min()"
   ]
  },
  {
   "cell_type": "code",
   "execution_count": 680,
   "metadata": {},
   "outputs": [
    {
     "data": {
      "text/plain": [
       "'Not Available'"
      ]
     },
     "execution_count": 680,
     "metadata": {},
     "output_type": "execute_result"
    }
   ],
   "source": [
    "df['95% C.I. (lower limit) for PPPW'].max()"
   ]
  },
  {
   "cell_type": "code",
   "execution_count": 681,
   "metadata": {},
   "outputs": [
    {
     "data": {
      "text/plain": [
       "{1, 2, 3, 4, 13}"
      ]
     },
     "execution_count": 681,
     "metadata": {},
     "output_type": "execute_result"
    }
   ],
   "source": [
    "set([(len(str(num))) for num in df['95% C.I. (lower limit) for PPPW']])"
   ]
  },
  {
   "cell_type": "markdown",
   "metadata": {},
   "source": [
    "### Number of patients for PPPW\n",
    "Data type: object\n",
    "\n",
    "Value count: 7626\n",
    "\n",
    "Number of unique values: 270\n",
    "\n",
    "Percent unique values: 0.603%\n",
    "\n",
    "Ranges of values: 0 - \n",
    "\n",
    "Length of values: 1 - 3, 13\n",
    "\n",
    "Description: Lists the number of patients included in the facility's percentage of prevalent patients waitlisted (PPPW). The PPPW measure tracks the percentage of patients at each dialysis facility who were on the kidney or kidney-pancreas transplant waiting list. Results are averaged across patients prevalent on the last day of each month during the reporting year, adjusted for age."
   ]
  },
  {
   "cell_type": "code",
   "execution_count": 682,
   "metadata": {},
   "outputs": [
    {
     "data": {
      "text/plain": [
       "0    100\n",
       "1    209\n",
       "2     24\n",
       "3     19\n",
       "4     44\n",
       "Name: Number of patients for PPPW, dtype: object"
      ]
     },
     "execution_count": 682,
     "metadata": {},
     "output_type": "execute_result"
    }
   ],
   "source": [
    "df['Number of patients for PPPW'].head()"
   ]
  },
  {
   "cell_type": "code",
   "execution_count": 683,
   "metadata": {},
   "outputs": [
    {
     "data": {
      "text/plain": [
       "7621               76\n",
       "7622               82\n",
       "7623    Not Available\n",
       "7624               56\n",
       "7625               92\n",
       "Name: Number of patients for PPPW, dtype: object"
      ]
     },
     "execution_count": 683,
     "metadata": {},
     "output_type": "execute_result"
    }
   ],
   "source": [
    "df['Number of patients for PPPW'].tail()"
   ]
  },
  {
   "cell_type": "code",
   "execution_count": 684,
   "metadata": {},
   "outputs": [
    {
     "data": {
      "text/plain": [
       "count     7626\n",
       "unique     270\n",
       "top         49\n",
       "freq        92\n",
       "Name: Number of patients for PPPW, dtype: object"
      ]
     },
     "execution_count": 684,
     "metadata": {},
     "output_type": "execute_result"
    }
   ],
   "source": [
    "df['Number of patients for PPPW'].describe()"
   ]
  },
  {
   "cell_type": "code",
   "execution_count": 685,
   "metadata": {},
   "outputs": [
    {
     "data": {
      "text/plain": [
       "False    224\n",
       "True      46\n",
       "dtype: int64"
      ]
     },
     "execution_count": 685,
     "metadata": {},
     "output_type": "execute_result"
    }
   ],
   "source": [
    "# Percent unique values\n",
    "# True if facility has a value count of 1 (aka unique)\n",
    "pd.Series([facility == 1 for facility in df['Number of patients for PPPW'].value_counts()]).value_counts()"
   ]
  },
  {
   "cell_type": "code",
   "execution_count": 686,
   "metadata": {},
   "outputs": [
    {
     "data": {
      "text/plain": [
       "'0'"
      ]
     },
     "execution_count": 686,
     "metadata": {},
     "output_type": "execute_result"
    }
   ],
   "source": [
    "df['Number of patients for PPPW'].min()"
   ]
  },
  {
   "cell_type": "code",
   "execution_count": 687,
   "metadata": {},
   "outputs": [
    {
     "data": {
      "text/plain": [
       "'Not Available'"
      ]
     },
     "execution_count": 687,
     "metadata": {},
     "output_type": "execute_result"
    }
   ],
   "source": [
    "df['Number of patients for PPPW'].max()"
   ]
  },
  {
   "cell_type": "code",
   "execution_count": 688,
   "metadata": {},
   "outputs": [
    {
     "data": {
      "text/plain": [
       "{1, 2, 3, 13}"
      ]
     },
     "execution_count": 688,
     "metadata": {},
     "output_type": "execute_result"
    }
   ],
   "source": [
    "set([(len(str(num))) for num in df['Number of patients for PPPW']])"
   ]
  },
  {
   "cell_type": "markdown",
   "metadata": {},
   "source": [
    "### Percentage of Prevalent Patients Waitlisted\n",
    "Data type: object\n",
    "\n",
    "Value count: 7626\n",
    "\n",
    "Number of unique values: 572\n",
    "\n",
    "Percent unique values: 1.13%\n",
    "\n",
    "Ranges of values: 0.1 - \n",
    "\n",
    "Length of values: 1 - 4, 13\n",
    "\n",
    "Description: Lists the percentage of prevalent patients waitlisted."
   ]
  },
  {
   "cell_type": "code",
   "execution_count": 689,
   "metadata": {},
   "outputs": [
    {
     "data": {
      "text/plain": [
       "0     9.2\n",
       "1    20.1\n",
       "2    36.4\n",
       "3     7.4\n",
       "4    14.2\n",
       "Name: Percentage of Prevalent Patients Waitlisted, dtype: object"
      ]
     },
     "execution_count": 689,
     "metadata": {},
     "output_type": "execute_result"
    }
   ],
   "source": [
    "df['Percentage of Prevalent Patients Waitlisted'].head()"
   ]
  },
  {
   "cell_type": "code",
   "execution_count": 690,
   "metadata": {},
   "outputs": [
    {
     "data": {
      "text/plain": [
       "7621              9.5\n",
       "7622               14\n",
       "7623    Not Available\n",
       "7624              9.2\n",
       "7625             17.4\n",
       "Name: Percentage of Prevalent Patients Waitlisted, dtype: object"
      ]
     },
     "execution_count": 690,
     "metadata": {},
     "output_type": "execute_result"
    }
   ],
   "source": [
    "df['Percentage of Prevalent Patients Waitlisted'].tail()"
   ]
  },
  {
   "cell_type": "code",
   "execution_count": 691,
   "metadata": {},
   "outputs": [
    {
     "data": {
      "text/plain": [
       "count              7626\n",
       "unique              572\n",
       "top       Not Available\n",
       "freq                448\n",
       "Name: Percentage of Prevalent Patients Waitlisted, dtype: object"
      ]
     },
     "execution_count": 691,
     "metadata": {},
     "output_type": "execute_result"
    }
   ],
   "source": [
    "df['Percentage of Prevalent Patients Waitlisted'].describe()"
   ]
  },
  {
   "cell_type": "code",
   "execution_count": 692,
   "metadata": {},
   "outputs": [
    {
     "data": {
      "text/plain": [
       "False    486\n",
       "True      86\n",
       "dtype: int64"
      ]
     },
     "execution_count": 692,
     "metadata": {},
     "output_type": "execute_result"
    }
   ],
   "source": [
    "# Percent unique values\n",
    "# True if facility has a value count of 1 (aka unique)\n",
    "pd.Series([facility == 1 for facility in df['Percentage of Prevalent Patients Waitlisted'].value_counts()]).value_counts()"
   ]
  },
  {
   "cell_type": "code",
   "execution_count": 693,
   "metadata": {},
   "outputs": [
    {
     "data": {
      "text/plain": [
       "'.1'"
      ]
     },
     "execution_count": 693,
     "metadata": {},
     "output_type": "execute_result"
    }
   ],
   "source": [
    "df['Percentage of Prevalent Patients Waitlisted'].min()"
   ]
  },
  {
   "cell_type": "code",
   "execution_count": 694,
   "metadata": {},
   "outputs": [
    {
     "data": {
      "text/plain": [
       "'Not Available'"
      ]
     },
     "execution_count": 694,
     "metadata": {},
     "output_type": "execute_result"
    }
   ],
   "source": [
    "df['Percentage of Prevalent Patients Waitlisted'].max()"
   ]
  },
  {
   "cell_type": "code",
   "execution_count": 695,
   "metadata": {},
   "outputs": [
    {
     "data": {
      "text/plain": [
       "{1, 2, 3, 4, 13}"
      ]
     },
     "execution_count": 695,
     "metadata": {},
     "output_type": "execute_result"
    }
   ],
   "source": [
    "set([(len(str(num))) for num in df['Percentage of Prevalent Patients Waitlisted']])"
   ]
  },
  {
   "cell_type": "markdown",
   "metadata": {},
   "source": [
    "### Location\n",
    "Data type: object\n",
    "\n",
    "Value count: 7162\n",
    "\n",
    "Number of unique values: 7043\n",
    "\n",
    "Percent unique values: 96.7%\n",
    "\n",
    "Length of values: 3, 23, 25, 26, 27, 28, 29\n",
    "\n",
    "Description: Lists the coordinates of the facility's location."
   ]
  },
  {
   "cell_type": "code",
   "execution_count": 696,
   "metadata": {},
   "outputs": [
    {
     "data": {
      "text/plain": [
       "0      POINT (-92.372456 34.73624)\n",
       "1    POINT (-118.187206 33.966829)\n",
       "2     POINT (-72.809521 41.472838)\n",
       "3                              NaN\n",
       "4     POINT (-75.592475 38.735365)\n",
       "Name: Location, dtype: object"
      ]
     },
     "execution_count": 696,
     "metadata": {},
     "output_type": "execute_result"
    }
   ],
   "source": [
    "df['Location'].head()"
   ]
  },
  {
   "cell_type": "code",
   "execution_count": 697,
   "metadata": {},
   "outputs": [
    {
     "data": {
      "text/plain": [
       "7621     POINT (-82.398053 36.307557)\n",
       "7622     POINT (-87.982914 43.093799)\n",
       "7623    POINT (-117.885172 33.731441)\n",
       "7624     POINT (-81.815351 27.536488)\n",
       "7625      POINT (-88.038798 43.12228)\n",
       "Name: Location, dtype: object"
      ]
     },
     "execution_count": 697,
     "metadata": {},
     "output_type": "execute_result"
    }
   ],
   "source": [
    "df['Location'].tail()"
   ]
  },
  {
   "cell_type": "code",
   "execution_count": 698,
   "metadata": {},
   "outputs": [
    {
     "data": {
      "text/plain": [
       "count                           7162\n",
       "unique                          7043\n",
       "top       POINT (-93.10376 44.95832)\n",
       "freq                               3\n",
       "Name: Location, dtype: object"
      ]
     },
     "execution_count": 698,
     "metadata": {},
     "output_type": "execute_result"
    }
   ],
   "source": [
    "df['Location'].describe()"
   ]
  },
  {
   "cell_type": "code",
   "execution_count": 699,
   "metadata": {},
   "outputs": [
    {
     "data": {
      "text/plain": [
       "True     6926\n",
       "False     117\n",
       "dtype: int64"
      ]
     },
     "execution_count": 699,
     "metadata": {},
     "output_type": "execute_result"
    }
   ],
   "source": [
    "# Percent unique values\n",
    "# True if facility has a value count of 1 (aka unique)\n",
    "pd.Series([facility == 1 for facility in df['Location'].value_counts()]).value_counts()"
   ]
  },
  {
   "cell_type": "code",
   "execution_count": 700,
   "metadata": {},
   "outputs": [
    {
     "data": {
      "text/plain": [
       "{3, 23, 25, 26, 27, 28, 29}"
      ]
     },
     "execution_count": 700,
     "metadata": {},
     "output_type": "execute_result"
    }
   ],
   "source": [
    "set([(len(str(num))) for num in df['Location']])"
   ]
  }
 ],
 "metadata": {
  "kernelspec": {
   "display_name": "Python 3",
   "language": "python",
   "name": "python3"
  },
  "language_info": {
   "codemirror_mode": {
    "name": "ipython",
    "version": 3
   },
   "file_extension": ".py",
   "mimetype": "text/x-python",
   "name": "python",
   "nbconvert_exporter": "python",
   "pygments_lexer": "ipython3",
   "version": "3.8.2"
  }
 },
 "nbformat": 4,
 "nbformat_minor": 4
}
